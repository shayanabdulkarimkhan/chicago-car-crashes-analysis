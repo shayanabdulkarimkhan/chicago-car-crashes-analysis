{
  "cells": [
    {
      "cell_type": "markdown",
      "id": "e012cbfe",
      "metadata": {
        "id": "e012cbfe",
        "papermill": {
          "duration": 0.11492,
          "end_time": "2023-04-22T07:18:30.538295",
          "exception": false,
          "start_time": "2023-04-22T07:18:30.423375",
          "status": "completed"
        },
        "tags": []
      },
      "source": [
        "# Final Project Submission"
      ]
    },
    {
      "cell_type": "markdown",
      "id": "6e5ee9f1",
      "metadata": {
        "id": "6e5ee9f1",
        "papermill": {
          "duration": 0.106797,
          "end_time": "2023-04-22T07:18:30.750983",
          "exception": false,
          "start_time": "2023-04-22T07:18:30.644186",
          "status": "completed"
        },
        "tags": []
      },
      "source": [
        "* Student name: Shayan Abdul Karim Khan\n",
        "* Student pace: Self Paced\n",
        "* Scheduled project review date/time:\n",
        "* Instructor name: Abhineet Kulkarni"
      ]
    },
    {
      "cell_type": "markdown",
      "id": "90336780",
      "metadata": {
        "id": "90336780",
        "papermill": {
          "duration": 0.103251,
          "end_time": "2023-04-22T07:18:30.956583",
          "exception": false,
          "start_time": "2023-04-22T07:18:30.853332",
          "status": "completed"
        },
        "tags": []
      },
      "source": [
        "## Problem Overview"
      ]
    },
    {
      "cell_type": "markdown",
      "id": "3cb0a058",
      "metadata": {
        "id": "3cb0a058",
        "papermill": {
          "duration": 0.106064,
          "end_time": "2023-04-22T07:18:31.166723",
          "exception": false,
          "start_time": "2023-04-22T07:18:31.060659",
          "status": "completed"
        },
        "tags": []
      },
      "source": [
        "Each year more than 42,000 people are needlessly killed on American streets and thousands more are injured. We call this suffering traffic “accidents” — but, in reality, we have the power to prevent traffic collisions. To counter these fatalities and injuries, the Department of Transportations (DOTs) across the US are working towards a new vision for safety called \"Vision Zero\". \n",
        "\n",
        "Vision Zero recognizes that people will sometimes make mistakes, so the road system and related policies should be designed to ensure those inevitable mistakes do not result in severe injuries or fatalities. This means that system designers and policymakers are expected to improve the roadway environment, policies (such as speed management), and other related systems to lessen the severity of crashes by working with stakeholders ranging from auto manufacturers to policy makers.\n",
        "\n",
        "Similarly, the Chicago DOT wants to conduct a study to improve theiir methodolodies of determining crash causes. There are usually a lot of crashes that result in causes never being identified and also serveral car crashes can form an underlying pattern. Chicago DOT waants to understand what multitude of factors can play some of the biggest roles in causing these crashes.\n",
        "\n",
        "That is why this notebook is going to explore developing a model for predicting primmary contributary causes to car crashes and identifyng the top 10 factors that we find the biggest roles in these causes. \n",
        "We will  use the data available to predict the primary contributory cause of a car accident, given information about the car, the people in the car, the road conditions etc."
      ]
    },
    {
      "cell_type": "markdown",
      "id": "7025ece8",
      "metadata": {
        "id": "7025ece8",
        "papermill": {
          "duration": 0.107427,
          "end_time": "2023-04-22T07:18:32.308912",
          "exception": false,
          "start_time": "2023-04-22T07:18:32.201485",
          "status": "completed"
        },
        "tags": []
      },
      "source": [
        "## Data Sources"
      ]
    },
    {
      "cell_type": "markdown",
      "id": "dd0584a0",
      "metadata": {
        "id": "dd0584a0",
        "papermill": {
          "duration": 0.104719,
          "end_time": "2023-04-22T07:18:32.519152",
          "exception": false,
          "start_time": "2023-04-22T07:18:32.414433",
          "status": "completed"
        },
        "tags": []
      },
      "source": [
        "The data being used is from the Chicago Polic Department (CPD) and is provided oninee by the City of Chicago. The data is from 2015 to the present day. It is updated daily but the data being used as a part of this project is recent until 3rd February 2023. \n",
        "\n",
        "There are 3 datasets being used for analysis:\n",
        "\n",
        "1. Traffic crashes data summary: https://data.cityofchicago.org/Transportation/Traffic-Crashes-Crashes/85ca-t3ifhttps://data.cityofchicago.org/Transportation/Traffic-Crashes-Crashes/85ca-t3ifv \n",
        "<br>\n",
        "\n",
        "2. Vehicles information involved in a crash: https://data.cityofchicago.org/Transportation/Traffic-Crashes-Vehicles/68nd-jvt3 \n",
        "<br>\n",
        "\n",
        "3. People information involved in a crash: https://data.cityofchicago.org/Transportation/Traffic-Crashes-People/u6pd-qa9d "
      ]
    },
    {
      "cell_type": "markdown",
      "id": "bc69cab1",
      "metadata": {
        "id": "bc69cab1",
        "papermill": {
          "duration": 0.103833,
          "end_time": "2023-04-22T07:18:32.726951",
          "exception": false,
          "start_time": "2023-04-22T07:18:32.623118",
          "status": "completed"
        },
        "tags": []
      },
      "source": [
        "Considering that this is the official dataset of the City of Chicago regarding traffic crashes, it can be easilly concluded that it would be the most reliable dataset available. Using this dataset will also increase the confidence of the client on the results and recommendations of this project. "
      ]
    },
    {
      "cell_type": "markdown",
      "id": "6a5bc85a",
      "metadata": {
        "id": "6a5bc85a",
        "papermill": {
          "duration": 0.103663,
          "end_time": "2023-04-22T07:18:32.935450",
          "exception": false,
          "start_time": "2023-04-22T07:18:32.831787",
          "status": "completed"
        },
        "tags": []
      },
      "source": [
        "## Data Understanding"
      ]
    },
    {
      "cell_type": "markdown",
      "id": "d2b49fba",
      "metadata": {
        "id": "d2b49fba",
        "papermill": {
          "duration": 0.102453,
          "end_time": "2023-04-22T07:18:33.141585",
          "exception": false,
          "start_time": "2023-04-22T07:18:33.039132",
          "status": "completed"
        },
        "tags": []
      },
      "source": [
        "This section will be exploratory to understand the different features of the data. All three datasets will be explored separately. Using the source documentation, data and the features will be interpreted and determinations will be made about which features are relevant to identifying the causes of car crashes. Towards the end of exploring the data, avenues of analysis that can be used will also become clearer. As data is explored, any anomalies or issues require further cleaning/processing will be identified and handled in the `Data Preparation` section.\n",
        "\n",
        "To start things off, lets import all the libraries and functions that will be used in this notebook."
      ]
    },
    {
      "cell_type": "code",
      "execution_count": 1,
      "id": "6dff583b",
      "metadata": {
        "execution": {
          "iopub.execute_input": "2023-04-22T07:19:16.013291Z",
          "iopub.status.busy": "2023-04-22T07:19:16.012825Z",
          "iopub.status.idle": "2023-04-22T07:19:22.408484Z",
          "shell.execute_reply": "2023-04-22T07:19:22.406879Z"
        },
        "id": "6dff583b",
        "papermill": {
          "duration": 6.506747,
          "end_time": "2023-04-22T07:19:22.413213",
          "exception": false,
          "start_time": "2023-04-22T07:19:15.906466",
          "status": "completed"
        },
        "tags": []
      },
      "outputs": [],
      "source": [
        "import pandas as pd #imports the pandas library as pd to work on databases\n",
        "# from sodapy import Socrata # for API integration\n",
        "import sqlite3 as sql # imports the sqlite3 library to leverage sql with pandas\n",
        "# from pandasql import sqldf # imports pandas sql library\n",
        "from datetime import datetime # for datetime manipulation\n",
        "import matplotlib.pyplot as plt # importing matplotlib for visualizations \n",
        "\n",
        "%matplotlib inline \n",
        "import numpy as np # imports the numpy library\n",
        "import datetime as dt #import datetime module\n",
        "import seaborn as sns #import seaborn\n",
        "from collections import Counter #import Counter\n",
        "import statsmodels.api as sm #import stats models\n",
        "from statsmodels.stats.outliers_influence import variance_inflation_factor\n",
        "\n",
        "#import scikit library functions\n",
        "from sklearn.preprocessing import OneHotEncoder, StandardScaler \n",
        "from sklearn.datasets import make_regression\n",
        "from sklearn.linear_model import LinearRegression\n",
        "from sklearn.metrics import mean_squared_error\n",
        "from sklearn.model_selection import train_test_split, cross_validate, ShuffleSplit\n",
        "from sklearn.feature_selection import RFECV\n",
        "\n",
        "\n",
        "#import scipy libraries\n",
        "from scipy import stats as stats\n",
        "\n",
        "#import plotly\n",
        "import plotly.express as px\n",
        "import plotly.graph_objects as go\n",
        "\n",
        "#import libraries to deal with unbaalanced dataset\n",
        "from imblearn.over_sampling import SMOTE\n",
        "from imblearn.over_sampling import SMOTENC\n",
        "from sklearn.compose import ColumnTransformer\n",
        "from imblearn.over_sampling import SMOTENC\n",
        "\n",
        "#import metrics\n",
        "from sklearn import metrics\n",
        "import itertools\n",
        "# from sklearn.metrics import plot_confusion_matrix"
      ]
    },
    {
      "cell_type": "markdown",
      "id": "049b62e9",
      "metadata": {
        "id": "049b62e9",
        "papermill": {
          "duration": 0.110219,
          "end_time": "2023-04-22T07:19:22.641816",
          "exception": false,
          "start_time": "2023-04-22T07:19:22.531597",
          "status": "completed"
        },
        "tags": []
      },
      "source": [
        "### Traffic Crashes - Crashes"
      ]
    },
    {
      "cell_type": "markdown",
      "id": "10f5ed15",
      "metadata": {
        "id": "10f5ed15",
        "papermill": {
          "duration": 0.106388,
          "end_time": "2023-04-22T07:19:22.857388",
          "exception": false,
          "start_time": "2023-04-22T07:19:22.751000",
          "status": "completed"
        },
        "tags": []
      },
      "source": [
        "This is the summary data for all the crashes. Thee dataset was downloaded and stores in the `data` folder as `Traffic_Crashes-Crashes`. The overview of the contents of this data is aavailable below and at https://data.cityofchicago.org/Transportation/Traffic-Crashes-Crashes/85ca-t3if."
      ]
    },
    {
      "cell_type": "markdown",
      "id": "afd68eb0",
      "metadata": {
        "id": "afd68eb0",
        "papermill": {
          "duration": 0.1075,
          "end_time": "2023-04-22T07:19:23.143134",
          "exception": false,
          "start_time": "2023-04-22T07:19:23.035634",
          "status": "completed"
        },
        "tags": []
      },
      "source": [
        "Crash data shows information about each traffic crash on city streets within the City of Chicago limits and under the jurisdiction of Chicago Police Department (CPD). Data are shown as is from the electronic crash reporting system (E-Crash) at CPD, excluding any personally identifiable information. Records are added to the data portal when a crash report is finalized or when amendments are made to an existing report in E-Crash. Data from E-Crash are available for some police districts in 2015, but citywide data are not available until September 2017. About half of all crash reports, mostly minor crashes, are self-reported at the police district by the driver(s) involved and the other half are recorded at the scene by the police officer responding to the crash. Many of the crash parameters, including street condition data, weather condition, and posted speed limits, are recorded by the reporting officer based on best available information at the time, but many of these may disagree with posted information or other assessments on road conditions. If any new or updated information on a crash is received, the reporting officer may amend the crash report at a later time. A traffic crash within the city limits for which CPD is not the responding police agency, typically crashes on interstate highways, freeway ramps, and on local roads along the City boundary, are excluded from this dataset.\n",
        "\n",
        "As per Illinois statute, only crashes with a property damage value of $1,500 or more or involving bodily injury to any person(s) and that happen on a public roadway and that involve at least one moving vehicle, except bike dooring, are considered reportable crashes. However, CPD records every reported traffic crash event, regardless of the statute of limitations, and hence any formal Chicago crash dataset released by Illinois Department of Transportation may not include all the crashes listed here."
      ]
    },
    {
      "cell_type": "code",
      "execution_count": 2,
      "id": "2b0a5574",
      "metadata": {
        "colab": {
          "base_uri": "https://localhost:8080/",
          "height": 473
        },
        "execution": {
          "iopub.execute_input": "2023-04-22T07:19:23.361442Z",
          "iopub.status.busy": "2023-04-22T07:19:23.360798Z",
          "iopub.status.idle": "2023-04-22T07:19:40.690007Z",
          "shell.execute_reply": "2023-04-22T07:19:40.688367Z"
        },
        "id": "2b0a5574",
        "outputId": "4852246e-5188-4681-da7d-6eebccbe1bc4",
        "papermill": {
          "duration": 17.443031,
          "end_time": "2023-04-22T07:19:40.693380",
          "exception": false,
          "start_time": "2023-04-22T07:19:23.250349",
          "status": "completed"
        },
        "tags": []
      },
      "outputs": [
        {
          "data": {
            "text/html": [
              "\n",
              "  <div id=\"df-c4ebbe35-4f1e-4660-95c6-c57219cf504e\">\n",
              "    <div class=\"colab-df-container\">\n",
              "      <div>\n",
              "<style scoped>\n",
              "    .dataframe tbody tr th:only-of-type {\n",
              "        vertical-align: middle;\n",
              "    }\n",
              "\n",
              "    .dataframe tbody tr th {\n",
              "        vertical-align: top;\n",
              "    }\n",
              "\n",
              "    .dataframe thead th {\n",
              "        text-align: right;\n",
              "    }\n",
              "</style>\n",
              "<table border=\"1\" class=\"dataframe\">\n",
              "  <thead>\n",
              "    <tr style=\"text-align: right;\">\n",
              "      <th></th>\n",
              "      <th>CRASH_RECORD_ID</th>\n",
              "      <th>RD_NO</th>\n",
              "      <th>CRASH_DATE_EST_I</th>\n",
              "      <th>CRASH_DATE</th>\n",
              "      <th>POSTED_SPEED_LIMIT</th>\n",
              "      <th>TRAFFIC_CONTROL_DEVICE</th>\n",
              "      <th>DEVICE_CONDITION</th>\n",
              "      <th>WEATHER_CONDITION</th>\n",
              "      <th>LIGHTING_CONDITION</th>\n",
              "      <th>FIRST_CRASH_TYPE</th>\n",
              "      <th>...</th>\n",
              "      <th>INJURIES_NON_INCAPACITATING</th>\n",
              "      <th>INJURIES_REPORTED_NOT_EVIDENT</th>\n",
              "      <th>INJURIES_NO_INDICATION</th>\n",
              "      <th>INJURIES_UNKNOWN</th>\n",
              "      <th>CRASH_HOUR</th>\n",
              "      <th>CRASH_DAY_OF_WEEK</th>\n",
              "      <th>CRASH_MONTH</th>\n",
              "      <th>LATITUDE</th>\n",
              "      <th>LONGITUDE</th>\n",
              "      <th>LOCATION</th>\n",
              "    </tr>\n",
              "  </thead>\n",
              "  <tbody>\n",
              "    <tr>\n",
              "      <th>0</th>\n",
              "      <td>79c7a2ce89f446262efd86df3d72d18b04ba487024b7c4...</td>\n",
              "      <td>JC199149</td>\n",
              "      <td>NaN</td>\n",
              "      <td>03/25/2019 02:43:00 PM</td>\n",
              "      <td>30</td>\n",
              "      <td>TRAFFIC SIGNAL</td>\n",
              "      <td>FUNCTIONING PROPERLY</td>\n",
              "      <td>CLEAR</td>\n",
              "      <td>DAYLIGHT</td>\n",
              "      <td>TURNING</td>\n",
              "      <td>...</td>\n",
              "      <td>0.0</td>\n",
              "      <td>1.0</td>\n",
              "      <td>2.0</td>\n",
              "      <td>0.0</td>\n",
              "      <td>14</td>\n",
              "      <td>2</td>\n",
              "      <td>3</td>\n",
              "      <td>41.884547</td>\n",
              "      <td>-87.641201</td>\n",
              "      <td>POINT (-87.64120093714 41.884547224337)</td>\n",
              "    </tr>\n",
              "    <tr>\n",
              "      <th>1</th>\n",
              "      <td>792b539deaaad65ee5b4a9691d927a34d298eb33d42af0...</td>\n",
              "      <td>JB422857</td>\n",
              "      <td>NaN</td>\n",
              "      <td>09/05/2018 08:40:00 AM</td>\n",
              "      <td>30</td>\n",
              "      <td>NO CONTROLS</td>\n",
              "      <td>NO CONTROLS</td>\n",
              "      <td>CLEAR</td>\n",
              "      <td>DAYLIGHT</td>\n",
              "      <td>ANGLE</td>\n",
              "      <td>...</td>\n",
              "      <td>0.0</td>\n",
              "      <td>0.0</td>\n",
              "      <td>2.0</td>\n",
              "      <td>0.0</td>\n",
              "      <td>8</td>\n",
              "      <td>4</td>\n",
              "      <td>9</td>\n",
              "      <td>41.968562</td>\n",
              "      <td>-87.740659</td>\n",
              "      <td>POINT (-87.740659314632 41.968562453871)</td>\n",
              "    </tr>\n",
              "    <tr>\n",
              "      <th>2</th>\n",
              "      <td>0115ade9a755e835255508463f7e9c4a9a0b47e9304238...</td>\n",
              "      <td>JF318029</td>\n",
              "      <td>NaN</td>\n",
              "      <td>07/15/2022 12:45:00 AM</td>\n",
              "      <td>30</td>\n",
              "      <td>UNKNOWN</td>\n",
              "      <td>UNKNOWN</td>\n",
              "      <td>CLEAR</td>\n",
              "      <td>DARKNESS, LIGHTED ROAD</td>\n",
              "      <td>ANGLE</td>\n",
              "      <td>...</td>\n",
              "      <td>0.0</td>\n",
              "      <td>0.0</td>\n",
              "      <td>2.0</td>\n",
              "      <td>0.0</td>\n",
              "      <td>0</td>\n",
              "      <td>6</td>\n",
              "      <td>7</td>\n",
              "      <td>41.886336</td>\n",
              "      <td>-87.716203</td>\n",
              "      <td>POINT (-87.716203130599 41.886336409761)</td>\n",
              "    </tr>\n",
              "    <tr>\n",
              "      <th>3</th>\n",
              "      <td>05b1982cdba5d8a00e7e76ad1ecdab0e598429f78481d2...</td>\n",
              "      <td>JF378711</td>\n",
              "      <td>NaN</td>\n",
              "      <td>08/29/2022 11:30:00 AM</td>\n",
              "      <td>30</td>\n",
              "      <td>TRAFFIC SIGNAL</td>\n",
              "      <td>FUNCTIONING PROPERLY</td>\n",
              "      <td>CLEAR</td>\n",
              "      <td>DAYLIGHT</td>\n",
              "      <td>REAR END</td>\n",
              "      <td>...</td>\n",
              "      <td>0.0</td>\n",
              "      <td>0.0</td>\n",
              "      <td>3.0</td>\n",
              "      <td>0.0</td>\n",
              "      <td>11</td>\n",
              "      <td>2</td>\n",
              "      <td>8</td>\n",
              "      <td>41.749348</td>\n",
              "      <td>-87.721097</td>\n",
              "      <td>POINT (-87.721096727406 41.749348170421)</td>\n",
              "    </tr>\n",
              "    <tr>\n",
              "      <th>4</th>\n",
              "      <td>017040c61958d2fa977c956b2bd2d6759ef7754496dc96...</td>\n",
              "      <td>JF324552</td>\n",
              "      <td>NaN</td>\n",
              "      <td>07/15/2022 06:50:00 PM</td>\n",
              "      <td>30</td>\n",
              "      <td>TRAFFIC SIGNAL</td>\n",
              "      <td>FUNCTIONING PROPERLY</td>\n",
              "      <td>CLEAR</td>\n",
              "      <td>DAYLIGHT</td>\n",
              "      <td>REAR END</td>\n",
              "      <td>...</td>\n",
              "      <td>0.0</td>\n",
              "      <td>0.0</td>\n",
              "      <td>2.0</td>\n",
              "      <td>0.0</td>\n",
              "      <td>18</td>\n",
              "      <td>6</td>\n",
              "      <td>7</td>\n",
              "      <td>41.925111</td>\n",
              "      <td>-87.667997</td>\n",
              "      <td>POINT (-87.667997321599 41.925110815832)</td>\n",
              "    </tr>\n",
              "  </tbody>\n",
              "</table>\n",
              "<p>5 rows × 49 columns</p>\n",
              "</div>\n",
              "      <button class=\"colab-df-convert\" onclick=\"convertToInteractive('df-c4ebbe35-4f1e-4660-95c6-c57219cf504e')\"\n",
              "              title=\"Convert this dataframe to an interactive table.\"\n",
              "              style=\"display:none;\">\n",
              "        \n",
              "  <svg xmlns=\"http://www.w3.org/2000/svg\" height=\"24px\"viewBox=\"0 0 24 24\"\n",
              "       width=\"24px\">\n",
              "    <path d=\"M0 0h24v24H0V0z\" fill=\"none\"/>\n",
              "    <path d=\"M18.56 5.44l.94 2.06.94-2.06 2.06-.94-2.06-.94-.94-2.06-.94 2.06-2.06.94zm-11 1L8.5 8.5l.94-2.06 2.06-.94-2.06-.94L8.5 2.5l-.94 2.06-2.06.94zm10 10l.94 2.06.94-2.06 2.06-.94-2.06-.94-.94-2.06-.94 2.06-2.06.94z\"/><path d=\"M17.41 7.96l-1.37-1.37c-.4-.4-.92-.59-1.43-.59-.52 0-1.04.2-1.43.59L10.3 9.45l-7.72 7.72c-.78.78-.78 2.05 0 2.83L4 21.41c.39.39.9.59 1.41.59.51 0 1.02-.2 1.41-.59l7.78-7.78 2.81-2.81c.8-.78.8-2.07 0-2.86zM5.41 20L4 18.59l7.72-7.72 1.47 1.35L5.41 20z\"/>\n",
              "  </svg>\n",
              "      </button>\n",
              "      \n",
              "  <style>\n",
              "    .colab-df-container {\n",
              "      display:flex;\n",
              "      flex-wrap:wrap;\n",
              "      gap: 12px;\n",
              "    }\n",
              "\n",
              "    .colab-df-convert {\n",
              "      background-color: #E8F0FE;\n",
              "      border: none;\n",
              "      border-radius: 50%;\n",
              "      cursor: pointer;\n",
              "      display: none;\n",
              "      fill: #1967D2;\n",
              "      height: 32px;\n",
              "      padding: 0 0 0 0;\n",
              "      width: 32px;\n",
              "    }\n",
              "\n",
              "    .colab-df-convert:hover {\n",
              "      background-color: #E2EBFA;\n",
              "      box-shadow: 0px 1px 2px rgba(60, 64, 67, 0.3), 0px 1px 3px 1px rgba(60, 64, 67, 0.15);\n",
              "      fill: #174EA6;\n",
              "    }\n",
              "\n",
              "    [theme=dark] .colab-df-convert {\n",
              "      background-color: #3B4455;\n",
              "      fill: #D2E3FC;\n",
              "    }\n",
              "\n",
              "    [theme=dark] .colab-df-convert:hover {\n",
              "      background-color: #434B5C;\n",
              "      box-shadow: 0px 1px 3px 1px rgba(0, 0, 0, 0.15);\n",
              "      filter: drop-shadow(0px 1px 2px rgba(0, 0, 0, 0.3));\n",
              "      fill: #FFFFFF;\n",
              "    }\n",
              "  </style>\n",
              "\n",
              "      <script>\n",
              "        const buttonEl =\n",
              "          document.querySelector('#df-c4ebbe35-4f1e-4660-95c6-c57219cf504e button.colab-df-convert');\n",
              "        buttonEl.style.display =\n",
              "          google.colab.kernel.accessAllowed ? 'block' : 'none';\n",
              "\n",
              "        async function convertToInteractive(key) {\n",
              "          const element = document.querySelector('#df-c4ebbe35-4f1e-4660-95c6-c57219cf504e');\n",
              "          const dataTable =\n",
              "            await google.colab.kernel.invokeFunction('convertToInteractive',\n",
              "                                                     [key], {});\n",
              "          if (!dataTable) return;\n",
              "\n",
              "          const docLinkHtml = 'Like what you see? Visit the ' +\n",
              "            '<a target=\"_blank\" href=https://colab.research.google.com/notebooks/data_table.ipynb>data table notebook</a>'\n",
              "            + ' to learn more about interactive tables.';\n",
              "          element.innerHTML = '';\n",
              "          dataTable['output_type'] = 'display_data';\n",
              "          await google.colab.output.renderOutput(dataTable, element);\n",
              "          const docLink = document.createElement('div');\n",
              "          docLink.innerHTML = docLinkHtml;\n",
              "          element.appendChild(docLink);\n",
              "        }\n",
              "      </script>\n",
              "    </div>\n",
              "  </div>\n",
              "  "
            ],
            "text/plain": [
              "                                     CRASH_RECORD_ID     RD_NO  \\\n",
              "0  79c7a2ce89f446262efd86df3d72d18b04ba487024b7c4...  JC199149   \n",
              "1  792b539deaaad65ee5b4a9691d927a34d298eb33d42af0...  JB422857   \n",
              "2  0115ade9a755e835255508463f7e9c4a9a0b47e9304238...  JF318029   \n",
              "3  05b1982cdba5d8a00e7e76ad1ecdab0e598429f78481d2...  JF378711   \n",
              "4  017040c61958d2fa977c956b2bd2d6759ef7754496dc96...  JF324552   \n",
              "\n",
              "  CRASH_DATE_EST_I              CRASH_DATE  POSTED_SPEED_LIMIT  \\\n",
              "0              NaN  03/25/2019 02:43:00 PM                  30   \n",
              "1              NaN  09/05/2018 08:40:00 AM                  30   \n",
              "2              NaN  07/15/2022 12:45:00 AM                  30   \n",
              "3              NaN  08/29/2022 11:30:00 AM                  30   \n",
              "4              NaN  07/15/2022 06:50:00 PM                  30   \n",
              "\n",
              "  TRAFFIC_CONTROL_DEVICE      DEVICE_CONDITION WEATHER_CONDITION  \\\n",
              "0         TRAFFIC SIGNAL  FUNCTIONING PROPERLY             CLEAR   \n",
              "1            NO CONTROLS           NO CONTROLS             CLEAR   \n",
              "2                UNKNOWN               UNKNOWN             CLEAR   \n",
              "3         TRAFFIC SIGNAL  FUNCTIONING PROPERLY             CLEAR   \n",
              "4         TRAFFIC SIGNAL  FUNCTIONING PROPERLY             CLEAR   \n",
              "\n",
              "       LIGHTING_CONDITION FIRST_CRASH_TYPE  ... INJURIES_NON_INCAPACITATING  \\\n",
              "0                DAYLIGHT          TURNING  ...                         0.0   \n",
              "1                DAYLIGHT            ANGLE  ...                         0.0   \n",
              "2  DARKNESS, LIGHTED ROAD            ANGLE  ...                         0.0   \n",
              "3                DAYLIGHT         REAR END  ...                         0.0   \n",
              "4                DAYLIGHT         REAR END  ...                         0.0   \n",
              "\n",
              "   INJURIES_REPORTED_NOT_EVIDENT INJURIES_NO_INDICATION INJURIES_UNKNOWN  \\\n",
              "0                            1.0                    2.0              0.0   \n",
              "1                            0.0                    2.0              0.0   \n",
              "2                            0.0                    2.0              0.0   \n",
              "3                            0.0                    3.0              0.0   \n",
              "4                            0.0                    2.0              0.0   \n",
              "\n",
              "  CRASH_HOUR CRASH_DAY_OF_WEEK CRASH_MONTH   LATITUDE  LONGITUDE  \\\n",
              "0         14                 2           3  41.884547 -87.641201   \n",
              "1          8                 4           9  41.968562 -87.740659   \n",
              "2          0                 6           7  41.886336 -87.716203   \n",
              "3         11                 2           8  41.749348 -87.721097   \n",
              "4         18                 6           7  41.925111 -87.667997   \n",
              "\n",
              "                                   LOCATION  \n",
              "0   POINT (-87.64120093714 41.884547224337)  \n",
              "1  POINT (-87.740659314632 41.968562453871)  \n",
              "2  POINT (-87.716203130599 41.886336409761)  \n",
              "3  POINT (-87.721096727406 41.749348170421)  \n",
              "4  POINT (-87.667997321599 41.925110815832)  \n",
              "\n",
              "[5 rows x 49 columns]"
            ]
          },
          "execution_count": 2,
          "metadata": {},
          "output_type": "execute_result"
        }
      ],
      "source": [
        "#import the dataset using the API endpoint\n",
        "crashes_df = pd.read_csv('data/Traffic_Crashes-Crashes.csv')\n",
        "\n",
        "#preview thee first 5 rows\n",
        "crashes_df.head()"
      ]
    },
    {
      "cell_type": "code",
      "execution_count": 3,
      "id": "a342d8f5",
      "metadata": {
        "colab": {
          "base_uri": "https://localhost:8080/"
        },
        "execution": {
          "iopub.execute_input": "2023-04-22T07:19:40.910587Z",
          "iopub.status.busy": "2023-04-22T07:19:40.910102Z",
          "iopub.status.idle": "2023-04-22T07:19:41.982064Z",
          "shell.execute_reply": "2023-04-22T07:19:41.978941Z"
        },
        "id": "a342d8f5",
        "outputId": "396c229b-ae75-4e07-8817-a54e7dcb922b",
        "papermill": {
          "duration": 1.185312,
          "end_time": "2023-04-22T07:19:41.985365",
          "exception": false,
          "start_time": "2023-04-22T07:19:40.800053",
          "status": "completed"
        },
        "tags": []
      },
      "outputs": [
        {
          "name": "stdout",
          "output_type": "stream",
          "text": [
            "<class 'pandas.core.frame.DataFrame'>\n",
            "RangeIndex: 692784 entries, 0 to 692783\n",
            "Data columns (total 49 columns):\n",
            " #   Column                         Non-Null Count   Dtype  \n",
            "---  ------                         --------------   -----  \n",
            " 0   CRASH_RECORD_ID                692784 non-null  object \n",
            " 1   RD_NO                          688672 non-null  object \n",
            " 2   CRASH_DATE_EST_I               52531 non-null   object \n",
            " 3   CRASH_DATE                     692784 non-null  object \n",
            " 4   POSTED_SPEED_LIMIT             692784 non-null  int64  \n",
            " 5   TRAFFIC_CONTROL_DEVICE         692784 non-null  object \n",
            " 6   DEVICE_CONDITION               692784 non-null  object \n",
            " 7   WEATHER_CONDITION              692784 non-null  object \n",
            " 8   LIGHTING_CONDITION             692784 non-null  object \n",
            " 9   FIRST_CRASH_TYPE               692784 non-null  object \n",
            " 10  TRAFFICWAY_TYPE                692784 non-null  object \n",
            " 11  LANE_CNT                       198997 non-null  float64\n",
            " 12  ALIGNMENT                      692784 non-null  object \n",
            " 13  ROADWAY_SURFACE_COND           692784 non-null  object \n",
            " 14  ROAD_DEFECT                    692784 non-null  object \n",
            " 15  REPORT_TYPE                    673774 non-null  object \n",
            " 16  CRASH_TYPE                     692784 non-null  object \n",
            " 17  INTERSECTION_RELATED_I         158797 non-null  object \n",
            " 18  NOT_RIGHT_OF_WAY_I             32485 non-null   object \n",
            " 19  HIT_AND_RUN_I                  214969 non-null  object \n",
            " 20  DAMAGE                         692784 non-null  object \n",
            " 21  DATE_POLICE_NOTIFIED           692784 non-null  object \n",
            " 22  PRIM_CONTRIBUTORY_CAUSE        692784 non-null  object \n",
            " 23  SEC_CONTRIBUTORY_CAUSE         692784 non-null  object \n",
            " 24  STREET_NO                      692784 non-null  int64  \n",
            " 25  STREET_DIRECTION               692780 non-null  object \n",
            " 26  STREET_NAME                    692783 non-null  object \n",
            " 27  BEAT_OF_OCCURRENCE             692779 non-null  float64\n",
            " 28  PHOTOS_TAKEN_I                 8586 non-null    object \n",
            " 29  STATEMENTS_TAKEN_I             14493 non-null   object \n",
            " 30  DOORING_I                      2128 non-null    object \n",
            " 31  WORK_ZONE_I                    4046 non-null    object \n",
            " 32  WORK_ZONE_TYPE                 3170 non-null    object \n",
            " 33  WORKERS_PRESENT_I              1048 non-null    object \n",
            " 34  NUM_UNITS                      692784 non-null  int64  \n",
            " 35  MOST_SEVERE_INJURY             691281 non-null  object \n",
            " 36  INJURIES_TOTAL                 691292 non-null  float64\n",
            " 37  INJURIES_FATAL                 691292 non-null  float64\n",
            " 38  INJURIES_INCAPACITATING        691292 non-null  float64\n",
            " 39  INJURIES_NON_INCAPACITATING    691292 non-null  float64\n",
            " 40  INJURIES_REPORTED_NOT_EVIDENT  691292 non-null  float64\n",
            " 41  INJURIES_NO_INDICATION         691292 non-null  float64\n",
            " 42  INJURIES_UNKNOWN               691292 non-null  float64\n",
            " 43  CRASH_HOUR                     692784 non-null  int64  \n",
            " 44  CRASH_DAY_OF_WEEK              692784 non-null  int64  \n",
            " 45  CRASH_MONTH                    692784 non-null  int64  \n",
            " 46  LATITUDE                       688378 non-null  float64\n",
            " 47  LONGITUDE                      688378 non-null  float64\n",
            " 48  LOCATION                       688378 non-null  object \n",
            "dtypes: float64(11), int64(6), object(32)\n",
            "memory usage: 259.0+ MB\n"
          ]
        }
      ],
      "source": [
        "#Explore the info for all the features\n",
        "crashes_df.info()"
      ]
    },
    {
      "cell_type": "markdown",
      "id": "40554ddf",
      "metadata": {
        "id": "40554ddf",
        "papermill": {
          "duration": 0.107993,
          "end_time": "2023-04-22T07:19:42.202574",
          "exception": false,
          "start_time": "2023-04-22T07:19:42.094581",
          "status": "completed"
        },
        "tags": []
      },
      "source": [
        "There are a number of columns with missing values but they can also simply be categorical columns that don't apply to all records. The documentation on the columns available on https://data.cityofchicago.org/Transportation/Traffic-Crashes-Crashes/85ca-t3if can be used to explore the columns separately. The descriptions have also been listed below."
      ]
    },
    {
      "cell_type": "markdown",
      "id": "66983826",
      "metadata": {
        "id": "66983826",
        "papermill": {
          "duration": 0.107389,
          "end_time": "2023-04-22T07:19:42.420774",
          "exception": false,
          "start_time": "2023-04-22T07:19:42.313385",
          "status": "completed"
        },
        "tags": []
      },
      "source": [
        "1. `CRASH_RECORD_ID`: This number can be used to link to the same crash in the Vehicles and People datasets. This number also serves as a unique ID in this dataset. This will be important for joining the databases.\n",
        "<br>\n",
        "\n",
        "2. `RD_NO`: Chicago Police Department report number. For privacy reasons, this column is blank for recent crashes.\n",
        "This column can be ignored since this does not give us any insight into the causes of crashes. **DROP COLUMN**\n",
        "<br>\n",
        "\n",
        "3. `CRASH_DATE_EST_I`: Crash date estimated by desk officer or reporting party (only used in cases where crash is reported at police station days after the crash). This column can be ignored since there are missing values here. There is another column for Crash Dates but has no missing values. **DROP COLUMN**\n",
        "<br>\n",
        "\n",
        "4. `CRASH_DATE`: Date and time of crash as entered by the reporting officer. This gives us insight into if there are periods where there are more crashes than others. If there is a discernable pattern, appropriate preventative measures can be taken. The time and date will have to be separated out for individual analysis. Also the initial description of thee dataset mentions that 2018 onwards citywide E-craash daat aiss available. Therefore, the data will be filtered out accordingly. Also, the daata has to be changed to datetime versions for proper use.\n",
        "<br>\n",
        "\n",
        "5. `POSTED_SPEED_LIMIT`: Posted speed limit, as determined by reporting officer. This is the speed limit for the area where the crash happened. This coupled with the speed that the car was travelling at can help inform if the crash was at high speeds. Consequently, this can be a critical contirbutor in determining the cause of the crash.\n",
        "<br>\n",
        "\n",
        "6. `TRAFFIC_CONTROL_DEVICE`: Traffic control device present at crash location, as determined by reporting officer. It would be important to understand the contents of this column before making a decision on its use. "
      ]
    },
    {
      "cell_type": "code",
      "execution_count": 4,
      "id": "f5cddd2b",
      "metadata": {
        "colab": {
          "base_uri": "https://localhost:8080/"
        },
        "execution": {
          "iopub.execute_input": "2023-04-22T07:19:42.643688Z",
          "iopub.status.busy": "2023-04-22T07:19:42.642392Z",
          "iopub.status.idle": "2023-04-22T07:19:43.697032Z",
          "shell.execute_reply": "2023-04-22T07:19:43.695376Z"
        },
        "id": "f5cddd2b",
        "outputId": "48066ab3-eaea-4ad1-b3c9-b7f9f9d8c7b2",
        "papermill": {
          "duration": 1.171587,
          "end_time": "2023-04-22T07:19:43.701027",
          "exception": false,
          "start_time": "2023-04-22T07:19:42.529440",
          "status": "completed"
        },
        "tags": []
      },
      "outputs": [
        {
          "data": {
            "text/plain": [
              "CRASH_RECORD_ID                       0\n",
              "RD_NO                              4112\n",
              "CRASH_DATE_EST_I                 640253\n",
              "CRASH_DATE                            0\n",
              "POSTED_SPEED_LIMIT                    0\n",
              "TRAFFIC_CONTROL_DEVICE                0\n",
              "DEVICE_CONDITION                      0\n",
              "WEATHER_CONDITION                     0\n",
              "LIGHTING_CONDITION                    0\n",
              "FIRST_CRASH_TYPE                      0\n",
              "TRAFFICWAY_TYPE                       0\n",
              "LANE_CNT                         493787\n",
              "ALIGNMENT                             0\n",
              "ROADWAY_SURFACE_COND                  0\n",
              "ROAD_DEFECT                           0\n",
              "REPORT_TYPE                       19010\n",
              "CRASH_TYPE                            0\n",
              "INTERSECTION_RELATED_I           533987\n",
              "NOT_RIGHT_OF_WAY_I               660299\n",
              "HIT_AND_RUN_I                    477815\n",
              "DAMAGE                                0\n",
              "DATE_POLICE_NOTIFIED                  0\n",
              "PRIM_CONTRIBUTORY_CAUSE               0\n",
              "SEC_CONTRIBUTORY_CAUSE                0\n",
              "STREET_NO                             0\n",
              "STREET_DIRECTION                      4\n",
              "STREET_NAME                           1\n",
              "BEAT_OF_OCCURRENCE                    5\n",
              "PHOTOS_TAKEN_I                   684198\n",
              "STATEMENTS_TAKEN_I               678291\n",
              "DOORING_I                        690656\n",
              "WORK_ZONE_I                      688738\n",
              "WORK_ZONE_TYPE                   689614\n",
              "WORKERS_PRESENT_I                691736\n",
              "NUM_UNITS                             0\n",
              "MOST_SEVERE_INJURY                 1503\n",
              "INJURIES_TOTAL                     1492\n",
              "INJURIES_FATAL                     1492\n",
              "INJURIES_INCAPACITATING            1492\n",
              "INJURIES_NON_INCAPACITATING        1492\n",
              "INJURIES_REPORTED_NOT_EVIDENT      1492\n",
              "INJURIES_NO_INDICATION             1492\n",
              "INJURIES_UNKNOWN                   1492\n",
              "CRASH_HOUR                            0\n",
              "CRASH_DAY_OF_WEEK                     0\n",
              "CRASH_MONTH                           0\n",
              "LATITUDE                           4406\n",
              "LONGITUDE                          4406\n",
              "LOCATION                           4406\n",
              "dtype: int64"
            ]
          },
          "execution_count": 4,
          "metadata": {},
          "output_type": "execute_result"
        }
      ],
      "source": [
        "# checking null values\n",
        "crashes_df.isna().sum()"
      ]
    },
    {
      "cell_type": "code",
      "execution_count": 5,
      "id": "40758857",
      "metadata": {
        "colab": {
          "base_uri": "https://localhost:8080/"
        },
        "execution": {
          "iopub.execute_input": "2023-04-22T07:19:43.922657Z",
          "iopub.status.busy": "2023-04-22T07:19:43.922051Z",
          "iopub.status.idle": "2023-04-22T07:19:43.975444Z",
          "shell.execute_reply": "2023-04-22T07:19:43.974220Z"
        },
        "id": "40758857",
        "outputId": "c3df4020-4bd2-4a4f-deca-6c91bf19f2c5",
        "papermill": {
          "duration": 0.167868,
          "end_time": "2023-04-22T07:19:43.978159",
          "exception": false,
          "start_time": "2023-04-22T07:19:43.810291",
          "status": "completed"
        },
        "tags": []
      },
      "outputs": [
        {
          "data": {
            "text/plain": [
              "NO CONTROLS                 397249\n",
              "TRAFFIC SIGNAL              192000\n",
              "STOP SIGN/FLASHER            68792\n",
              "UNKNOWN                      24545\n",
              "OTHER                         4515\n",
              "LANE USE MARKING              1226\n",
              "YIELD                          977\n",
              "OTHER REG. SIGN                721\n",
              "OTHER WARNING SIGN             591\n",
              "RAILROAD CROSSING GATE         448\n",
              "PEDESTRIAN CROSSING SIGN       384\n",
              "DELINEATORS                    271\n",
              "SCHOOL ZONE                    263\n",
              "FLASHING CONTROL SIGNAL        248\n",
              "POLICE/FLAGMAN                 243\n",
              "OTHER RAILROAD CROSSING        159\n",
              "RR CROSSING SIGN                93\n",
              "NO PASSING                      40\n",
              "BICYCLE CROSSING SIGN           19\n",
              "Name: TRAFFIC_CONTROL_DEVICE, dtype: int64"
            ]
          },
          "execution_count": 5,
          "metadata": {},
          "output_type": "execute_result"
        }
      ],
      "source": [
        "#check unique values\n",
        "crashes_df['TRAFFIC_CONTROL_DEVICE'].value_counts()"
      ]
    },
    {
      "cell_type": "markdown",
      "id": "fda192cb",
      "metadata": {
        "id": "fda192cb",
        "papermill": {
          "duration": 0.113006,
          "end_time": "2023-04-22T07:19:44.200660",
          "exception": false,
          "start_time": "2023-04-22T07:19:44.087654",
          "status": "completed"
        },
        "tags": []
      },
      "source": [
        "There are multiple categories but the `NO CONTROLS` category stands out with almost 50% share in the data for this column. The other categorieswould be location dependent signage. This data can be used to determine whether `NO CCONTROLS` plays a significantlt higher part in certain types of crashes. The data in this column can be grouped together to only two categories, `NO CONTROLS` and `CONTROLS`."
      ]
    },
    {
      "cell_type": "markdown",
      "id": "13892c2a",
      "metadata": {
        "id": "13892c2a",
        "papermill": {
          "duration": 0.154606,
          "end_time": "2023-04-22T07:19:44.472221",
          "exception": false,
          "start_time": "2023-04-22T07:19:44.317615",
          "status": "completed"
        },
        "tags": []
      },
      "source": [
        "7. `DEVICE_CONDITION`: Condition of traffic control device, as determined by reporting officer. This would be an important aspect to consider. Lets explore the contents of this column."
      ]
    },
    {
      "cell_type": "code",
      "execution_count": 6,
      "id": "a2df6db8",
      "metadata": {
        "colab": {
          "base_uri": "https://localhost:8080/"
        },
        "execution": {
          "iopub.execute_input": "2023-04-22T07:19:44.688871Z",
          "iopub.status.busy": "2023-04-22T07:19:44.687320Z",
          "iopub.status.idle": "2023-04-22T07:19:44.744922Z",
          "shell.execute_reply": "2023-04-22T07:19:44.743786Z"
        },
        "id": "a2df6db8",
        "outputId": "70b3888a-fa3a-48f4-8731-92170f2bb40b",
        "papermill": {
          "duration": 0.168779,
          "end_time": "2023-04-22T07:19:44.747655",
          "exception": false,
          "start_time": "2023-04-22T07:19:44.578876",
          "status": "completed"
        },
        "tags": []
      },
      "outputs": [
        {
          "data": {
            "text/plain": [
              "NO CONTROLS                 401903\n",
              "FUNCTIONING PROPERLY        238515\n",
              "UNKNOWN                      41164\n",
              "OTHER                         5347\n",
              "FUNCTIONING IMPROPERLY        3373\n",
              "NOT FUNCTIONING               2143\n",
              "WORN REFLECTIVE MATERIAL       258\n",
              "MISSING                         81\n",
              "Name: DEVICE_CONDITION, dtype: int64"
            ]
          },
          "execution_count": 6,
          "metadata": {},
          "output_type": "execute_result"
        }
      ],
      "source": [
        "#check unique values\n",
        "crashes_df['DEVICE_CONDITION'].value_counts()"
      ]
    },
    {
      "cell_type": "markdown",
      "id": "82fd0322",
      "metadata": {
        "id": "82fd0322",
        "papermill": {
          "duration": 0.108314,
          "end_time": "2023-04-22T07:19:44.963148",
          "exception": false,
          "start_time": "2023-04-22T07:19:44.854834",
          "status": "completed"
        },
        "tags": []
      },
      "source": [
        "Considering that this column also has a demarcated category of `NO CONTROLS` with categories highlighting whther there were any issues with the traffic control devices present, it would be more useful to use this column rather than using the `TRAFFIC_CONTROL_DEVICE` column. It is also clear that having no controls is the biggest contributor to traffic crashes but what kind of impact they have is something that has to be explored.\n",
        "\n",
        "Therefore, **DROP `TRAFFIC_CONTROL_DEVICE` COLUMN**"
      ]
    },
    {
      "cell_type": "markdown",
      "id": "d53a6011",
      "metadata": {
        "id": "d53a6011",
        "papermill": {
          "duration": 0.107017,
          "end_time": "2023-04-22T07:19:45.179686",
          "exception": false,
          "start_time": "2023-04-22T07:19:45.072669",
          "status": "completed"
        },
        "tags": []
      },
      "source": [
        "`WEATHER_CONDITION`: Weather condition at time of crash, as determined by reporting officer. This will definitely be a big factor in predicting the cause of crashes as well since the weather can play a big part in traffic accidents. Lets take a look at the contents of the column."
      ]
    },
    {
      "cell_type": "code",
      "execution_count": 7,
      "id": "374d4931",
      "metadata": {
        "colab": {
          "base_uri": "https://localhost:8080/"
        },
        "execution": {
          "iopub.execute_input": "2023-04-22T07:19:45.406605Z",
          "iopub.status.busy": "2023-04-22T07:19:45.405094Z",
          "iopub.status.idle": "2023-04-22T07:19:45.460017Z",
          "shell.execute_reply": "2023-04-22T07:19:45.458295Z"
        },
        "id": "374d4931",
        "outputId": "42f8f381-9acc-441d-cbe5-9184ecacee35",
        "papermill": {
          "duration": 0.175028,
          "end_time": "2023-04-22T07:19:45.462930",
          "exception": false,
          "start_time": "2023-04-22T07:19:45.287902",
          "status": "completed"
        },
        "tags": []
      },
      "outputs": [
        {
          "data": {
            "text/plain": [
              "CLEAR                       546474\n",
              "RAIN                         59674\n",
              "UNKNOWN                      34543\n",
              "SNOW                         25734\n",
              "CLOUDY/OVERCAST              20505\n",
              "OTHER                         2204\n",
              "FREEZING RAIN/DRIZZLE         1229\n",
              "FOG/SMOKE/HAZE                1031\n",
              "SLEET/HAIL                     881\n",
              "BLOWING SNOW                   367\n",
              "SEVERE CROSS WIND GATE         138\n",
              "BLOWING SAND, SOIL, DIRT         4\n",
              "Name: WEATHER_CONDITION, dtype: int64"
            ]
          },
          "execution_count": 7,
          "metadata": {},
          "output_type": "execute_result"
        }
      ],
      "source": [
        "#check unique values\n",
        "crashes_df['WEATHER_CONDITION'].value_counts()"
      ]
    },
    {
      "cell_type": "markdown",
      "id": "a4b6d0e0",
      "metadata": {
        "id": "a4b6d0e0",
        "papermill": {
          "duration": 0.179963,
          "end_time": "2023-04-22T07:19:45.752181",
          "exception": false,
          "start_time": "2023-04-22T07:19:45.572218",
          "status": "completed"
        },
        "tags": []
      },
      "source": [
        "The unkown data has to be dealt with in the **Data Preparation** section but all other data will be valuable to carry forward. It seems like the most car crashes take place in the clear weather while the worse the weather is the fewer car crashes there are. This might be becausee people naturally are more carefull during bad weather. Nonetheless this has to be inveestigated more to see whether inclement weather accidents are more serious or impact specific types of vehicles. It can also be that there are less vehicles on the road during inclement weather therefore while the numbers might be low, the ratio of cars on the road and number of accidents might be high."
      ]
    },
    {
      "cell_type": "markdown",
      "id": "c96a5dab",
      "metadata": {
        "id": "c96a5dab",
        "papermill": {
          "duration": 0.11332,
          "end_time": "2023-04-22T07:19:45.974465",
          "exception": false,
          "start_time": "2023-04-22T07:19:45.861145",
          "status": "completed"
        },
        "tags": []
      },
      "source": [
        "`LIGHTING_CONDITION`: Light condition at time of crash, as determined by reporting office. This is also another big factor. Theoretically, bad lighting conditions can play a big part in car crashes. This column can prove to be critial. Lets invvestigate it to understand the contents."
      ]
    },
    {
      "cell_type": "code",
      "execution_count": 8,
      "id": "3291c49c",
      "metadata": {
        "colab": {
          "base_uri": "https://localhost:8080/"
        },
        "execution": {
          "iopub.execute_input": "2023-04-22T07:19:46.192509Z",
          "iopub.status.busy": "2023-04-22T07:19:46.191214Z",
          "iopub.status.idle": "2023-04-22T07:19:46.249021Z",
          "shell.execute_reply": "2023-04-22T07:19:46.247296Z"
        },
        "id": "3291c49c",
        "outputId": "6eabf94c-1091-449d-bc10-9a282ae6f31f",
        "papermill": {
          "duration": 0.167695,
          "end_time": "2023-04-22T07:19:46.252654",
          "exception": false,
          "start_time": "2023-04-22T07:19:46.084959",
          "status": "completed"
        },
        "scrolled": true,
        "tags": []
      },
      "outputs": [
        {
          "data": {
            "text/plain": [
              "DAYLIGHT                  445517\n",
              "DARKNESS, LIGHTED ROAD    153269\n",
              "DARKNESS                   33364\n",
              "UNKNOWN                    28678\n",
              "DUSK                       20317\n",
              "DAWN                       11639\n",
              "Name: LIGHTING_CONDITION, dtype: int64"
            ]
          },
          "execution_count": 8,
          "metadata": {},
          "output_type": "execute_result"
        }
      ],
      "source": [
        "#check unique values\n",
        "crashes_df['LIGHTING_CONDITION'].value_counts()"
      ]
    },
    {
      "cell_type": "code",
      "execution_count": 9,
      "id": "d31da885",
      "metadata": {
        "colab": {
          "base_uri": "https://localhost:8080/"
        },
        "execution": {
          "iopub.execute_input": "2023-04-22T07:19:46.473855Z",
          "iopub.status.busy": "2023-04-22T07:19:46.473361Z",
          "iopub.status.idle": "2023-04-22T07:19:46.532240Z",
          "shell.execute_reply": "2023-04-22T07:19:46.530463Z"
        },
        "id": "d31da885",
        "outputId": "1f0bcf5b-da0c-49bc-a53f-0e71fdfb99f4",
        "papermill": {
          "duration": 0.174196,
          "end_time": "2023-04-22T07:19:46.535642",
          "exception": false,
          "start_time": "2023-04-22T07:19:46.361446",
          "status": "completed"
        },
        "tags": []
      },
      "outputs": [
        {
          "data": {
            "text/plain": [
              "DAYLIGHT                  0.643082\n",
              "DARKNESS, LIGHTED ROAD    0.221236\n",
              "DARKNESS                  0.048159\n",
              "UNKNOWN                   0.041395\n",
              "DUSK                      0.029327\n",
              "DAWN                      0.016800\n",
              "Name: LIGHTING_CONDITION, dtype: float64"
            ]
          },
          "execution_count": 9,
          "metadata": {},
          "output_type": "execute_result"
        }
      ],
      "source": [
        "crashes_df['LIGHTING_CONDITION'].value_counts(normalize=True)"
      ]
    },
    {
      "cell_type": "markdown",
      "id": "b0be404b",
      "metadata": {
        "id": "b0be404b",
        "papermill": {
          "duration": 0.108119,
          "end_time": "2023-04-22T07:19:46.755532",
          "exception": false,
          "start_time": "2023-04-22T07:19:46.647413",
          "status": "completed"
        },
        "tags": []
      },
      "source": [
        "Similar to the weather conditions data, it looks like the best lighting condition has the most accidents. This can be either be because peoplee are generally more careful when there's less light or that there are fewer cars on the road therefore fewer accidents. Nonetheless, lighting is an important factor when it comes to visibility. It would be beneficial to keeep this data and let thee model decide whether it provides useful information or not."
      ]
    },
    {
      "cell_type": "markdown",
      "id": "4ccd3314",
      "metadata": {
        "id": "4ccd3314",
        "papermill": {
          "duration": 0.107194,
          "end_time": "2023-04-22T07:19:46.974772",
          "exception": false,
          "start_time": "2023-04-22T07:19:46.867578",
          "status": "completed"
        },
        "tags": []
      },
      "source": [
        "`ROAD_DEFECT`: Road defects, as determined by reporting officer. This might be important. Lets take a look at the data first."
      ]
    },
    {
      "cell_type": "code",
      "execution_count": 10,
      "id": "88665123",
      "metadata": {
        "colab": {
          "base_uri": "https://localhost:8080/"
        },
        "execution": {
          "iopub.execute_input": "2023-04-22T07:19:47.193143Z",
          "iopub.status.busy": "2023-04-22T07:19:47.192638Z",
          "iopub.status.idle": "2023-04-22T07:19:47.246998Z",
          "shell.execute_reply": "2023-04-22T07:19:47.245399Z"
        },
        "id": "88665123",
        "outputId": "a320521c-3b7d-47d1-b67d-833960913b23",
        "papermill": {
          "duration": 0.166658,
          "end_time": "2023-04-22T07:19:47.250094",
          "exception": false,
          "start_time": "2023-04-22T07:19:47.083436",
          "status": "completed"
        },
        "tags": []
      },
      "outputs": [
        {
          "data": {
            "text/plain": [
              "NO DEFECTS           565943\n",
              "UNKNOWN              112665\n",
              "RUT, HOLES             5561\n",
              "OTHER                  3858\n",
              "WORN SURFACE           2859\n",
              "SHOULDER DEFECT        1350\n",
              "DEBRIS ON ROADWAY       548\n",
              "Name: ROAD_DEFECT, dtype: int64"
            ]
          },
          "execution_count": 10,
          "metadata": {},
          "output_type": "execute_result"
        }
      ],
      "source": [
        "#check unique values\n",
        "crashes_df['ROAD_DEFECT'].value_counts()"
      ]
    },
    {
      "cell_type": "code",
      "execution_count": 11,
      "id": "d29cc46e",
      "metadata": {
        "colab": {
          "base_uri": "https://localhost:8080/"
        },
        "execution": {
          "iopub.execute_input": "2023-04-22T07:19:47.472662Z",
          "iopub.status.busy": "2023-04-22T07:19:47.472211Z",
          "iopub.status.idle": "2023-04-22T07:19:47.528831Z",
          "shell.execute_reply": "2023-04-22T07:19:47.526805Z"
        },
        "id": "d29cc46e",
        "outputId": "f81000e4-1ca3-4410-87cb-60b6a28052e9",
        "papermill": {
          "duration": 0.172022,
          "end_time": "2023-04-22T07:19:47.532284",
          "exception": false,
          "start_time": "2023-04-22T07:19:47.360262",
          "status": "completed"
        },
        "tags": []
      },
      "outputs": [
        {
          "data": {
            "text/plain": [
              "NO DEFECTS           0.816911\n",
              "UNKNOWN              0.162626\n",
              "RUT, HOLES           0.008027\n",
              "OTHER                0.005569\n",
              "WORN SURFACE         0.004127\n",
              "SHOULDER DEFECT      0.001949\n",
              "DEBRIS ON ROADWAY    0.000791\n",
              "Name: ROAD_DEFECT, dtype: float64"
            ]
          },
          "execution_count": 11,
          "metadata": {},
          "output_type": "execute_result"
        }
      ],
      "source": [
        "#check the ratios\n",
        "crashes_df['ROAD_DEFECT'].value_counts(normalize=True)"
      ]
    },
    {
      "cell_type": "markdown",
      "id": "a4846322",
      "metadata": {
        "id": "a4846322",
        "papermill": {
          "duration": 0.1063,
          "end_time": "2023-04-22T07:19:47.748265",
          "exception": false,
          "start_time": "2023-04-22T07:19:47.641965",
          "status": "completed"
        },
        "tags": []
      },
      "source": [
        "It is important to note that No defects has thee largest number of crashes. This might be a sign that smooth and good quality roads lead people to be less careful of the road conditions. Although the data is skewed, it might be helpful to see how big of a part it plays in the crashes from a higher level."
      ]
    },
    {
      "cell_type": "markdown",
      "id": "d067b1fa",
      "metadata": {
        "id": "d067b1fa",
        "papermill": {
          "duration": 0.107603,
          "end_time": "2023-04-22T07:19:47.963139",
          "exception": false,
          "start_time": "2023-04-22T07:19:47.855536",
          "status": "completed"
        },
        "tags": []
      },
      "source": [
        "`REPORT_TYPE`: Administrative report type (at scene, at desk, amended). This column can be ignored for the purposes of this analysis.\n",
        "\n",
        "**DROP REPORT_TYPE COLUMN**"
      ]
    },
    {
      "cell_type": "markdown",
      "id": "05230185",
      "metadata": {
        "id": "05230185",
        "papermill": {
          "duration": 0.111178,
          "end_time": "2023-04-22T07:19:48.182388",
          "exception": false,
          "start_time": "2023-04-22T07:19:48.071210",
          "status": "completed"
        },
        "tags": []
      },
      "source": [
        "`CRASH_TYPE`: A general severity classification for the crash. Can be either Injury and/or Tow Due to Crash or No Injury / Drive Away. This data will be used to filter on crashes that had injuries or fatalities. While the eventual goal is to have no crashes, the goal of this analysis is to support work towards Vision Zero which focuses on fatalities and injuries. Lets investigate the contents if this column before movving on."
      ]
    },
    {
      "cell_type": "code",
      "execution_count": 12,
      "id": "fa734724",
      "metadata": {
        "colab": {
          "base_uri": "https://localhost:8080/"
        },
        "execution": {
          "iopub.execute_input": "2023-04-22T07:19:48.403490Z",
          "iopub.status.busy": "2023-04-22T07:19:48.403058Z",
          "iopub.status.idle": "2023-04-22T07:19:48.460326Z",
          "shell.execute_reply": "2023-04-22T07:19:48.458477Z"
        },
        "id": "fa734724",
        "outputId": "fe845c35-e247-4016-ae53-e2267979a8f6",
        "papermill": {
          "duration": 0.171559,
          "end_time": "2023-04-22T07:19:48.464258",
          "exception": false,
          "start_time": "2023-04-22T07:19:48.292699",
          "status": "completed"
        },
        "tags": []
      },
      "outputs": [
        {
          "data": {
            "text/plain": [
              "NO INJURY / DRIVE AWAY              510406\n",
              "INJURY AND / OR TOW DUE TO CRASH    182378\n",
              "Name: CRASH_TYPE, dtype: int64"
            ]
          },
          "execution_count": 12,
          "metadata": {},
          "output_type": "execute_result"
        }
      ],
      "source": [
        "#check unique values\n",
        "crashes_df['CRASH_TYPE'].value_counts()"
      ]
    },
    {
      "cell_type": "markdown",
      "id": "6b6a06c8",
      "metadata": {
        "id": "6b6a06c8",
        "papermill": {
          "duration": 0.187078,
          "end_time": "2023-04-22T07:19:48.761104",
          "exception": false,
          "start_time": "2023-04-22T07:19:48.574026",
          "status": "completed"
        },
        "tags": []
      },
      "source": [
        "With only 180,000 records, out data size will be significantly reduced but helps us focus on the main problem."
      ]
    },
    {
      "cell_type": "markdown",
      "id": "ab76a24c",
      "metadata": {
        "id": "ab76a24c",
        "papermill": {
          "duration": 0.110329,
          "end_time": "2023-04-22T07:19:48.980253",
          "exception": false,
          "start_time": "2023-04-22T07:19:48.869924",
          "status": "completed"
        },
        "tags": []
      },
      "source": [
        "`INTERSECTION_RELATED_I`: A field observation by the police officer whether an intersection played a role in the crash. Does not represent whether or not the crash occurred within the intersection. \n",
        "Lets investigate the contents of this column."
      ]
    },
    {
      "cell_type": "code",
      "execution_count": 13,
      "id": "cd054495",
      "metadata": {
        "colab": {
          "base_uri": "https://localhost:8080/"
        },
        "execution": {
          "iopub.execute_input": "2023-04-22T07:19:49.204270Z",
          "iopub.status.busy": "2023-04-22T07:19:49.203749Z",
          "iopub.status.idle": "2023-04-22T07:19:49.236615Z",
          "shell.execute_reply": "2023-04-22T07:19:49.234978Z"
        },
        "id": "cd054495",
        "outputId": "8a440185-68a6-4c15-94e3-48d704b1eddf",
        "papermill": {
          "duration": 0.148114,
          "end_time": "2023-04-22T07:19:49.239936",
          "exception": false,
          "start_time": "2023-04-22T07:19:49.091822",
          "status": "completed"
        },
        "tags": []
      },
      "outputs": [
        {
          "data": {
            "text/plain": [
              "Y    151396\n",
              "N      7401\n",
              "Name: INTERSECTION_RELATED_I, dtype: int64"
            ]
          },
          "execution_count": 13,
          "metadata": {},
          "output_type": "execute_result"
        }
      ],
      "source": [
        "#check unique values\n",
        "crashes_df['INTERSECTION_RELATED_I'].value_counts()"
      ]
    },
    {
      "cell_type": "markdown",
      "id": "fc5d0372",
      "metadata": {
        "id": "fc5d0372",
        "papermill": {
          "duration": 0.109458,
          "end_time": "2023-04-22T07:19:49.457824",
          "exception": false,
          "start_time": "2023-04-22T07:19:49.348366",
          "status": "completed"
        },
        "tags": []
      },
      "source": [
        "Usually at intersections, there is a large amount of non-straight traffic movements, cars slowing down, pedestrain movement and generally a heightened probability of crashes. This is one of the reeasons that DOT creates signalized intersectinos. This would be important to carry forwaard to understand whether this general understanding of intersections plays a big part in crashes or not. If it does, DOT could be able to hone in on intersection types that play a significant role and develop traffic engineering plans accordingly."
      ]
    },
    {
      "cell_type": "markdown",
      "id": "32b42fa3",
      "metadata": {
        "id": "32b42fa3",
        "papermill": {
          "duration": 0.109918,
          "end_time": "2023-04-22T07:19:49.676279",
          "exception": false,
          "start_time": "2023-04-22T07:19:49.566361",
          "status": "completed"
        },
        "tags": []
      },
      "source": [
        "`NOT_RIGHT_OF_WAY_I`: Whether the crash begun or first contact was made outside of the public right-of-way. This column also has almost 50% of its values missing. Also, this gives us insight into the circumstances around a crash but not significant insight into the cause of a crash. \n",
        "\n",
        "**DROP NOT_RIGHT_OF_WAY_I COLUMN**"
      ]
    },
    {
      "cell_type": "markdown",
      "id": "15178997",
      "metadata": {
        "id": "15178997",
        "papermill": {
          "duration": 0.110282,
          "end_time": "2023-04-22T07:19:49.895373",
          "exception": false,
          "start_time": "2023-04-22T07:19:49.785091",
          "status": "completed"
        },
        "tags": []
      },
      "source": [
        "`HIT_AND_RUN_I`: Crash did/did not involve a driver who caused the crash and fled the scene without exchanging information and/or rendering aid. This gives us inight into the aftermaths of the crash but no significant insight into the cause of it.\n",
        "\n",
        "**DROP HIT_AND_RUN_I COLUMN**"
      ]
    },
    {
      "cell_type": "markdown",
      "id": "e2e7dbb9",
      "metadata": {
        "id": "e2e7dbb9",
        "papermill": {
          "duration": 0.110224,
          "end_time": "2023-04-22T07:19:50.116116",
          "exception": false,
          "start_time": "2023-04-22T07:19:50.005892",
          "status": "completed"
        },
        "tags": []
      },
      "source": [
        "`DAMAGE`: A field observation of estimated damage. Similar to the previous two, this doesn't provide insight into the causes of the crash. \n",
        "\n",
        "**DROP DAMAGE COLUMN**"
      ]
    },
    {
      "cell_type": "markdown",
      "id": "e55f9a47",
      "metadata": {
        "id": "e55f9a47",
        "papermill": {
          "duration": 0.109699,
          "end_time": "2023-04-22T07:19:50.334143",
          "exception": false,
          "start_time": "2023-04-22T07:19:50.224444",
          "status": "completed"
        },
        "tags": []
      },
      "source": [
        "`DATE_POLICE_NOTIFIED`: Calendar date on which police were notified of the crash. Similarly, this doesn't provide any insight into the causes of the crash.\n",
        "\n",
        "**DROP DATE_POLICE_NOTIFIED COLUMN**"
      ]
    },
    {
      "cell_type": "markdown",
      "id": "07ed4799",
      "metadata": {
        "id": "07ed4799",
        "papermill": {
          "duration": 0.110521,
          "end_time": "2023-04-22T07:19:50.554547",
          "exception": false,
          "start_time": "2023-04-22T07:19:50.444026",
          "status": "completed"
        },
        "tags": []
      },
      "source": [
        "`PRIM_CONTRIBUTORY_CAUSE`: The factor which was most significant in causing the crash, as determined by officer judgment. This will be the target column that will be used. Lets investigate the contents of this column."
      ]
    },
    {
      "cell_type": "code",
      "execution_count": 14,
      "id": "03c91dd3",
      "metadata": {
        "colab": {
          "base_uri": "https://localhost:8080/"
        },
        "execution": {
          "iopub.execute_input": "2023-04-22T07:19:50.778598Z",
          "iopub.status.busy": "2023-04-22T07:19:50.778126Z",
          "iopub.status.idle": "2023-04-22T07:19:50.834007Z",
          "shell.execute_reply": "2023-04-22T07:19:50.832377Z"
        },
        "id": "03c91dd3",
        "outputId": "a2a72a81-8ab2-4125-e4d5-8d6bd0ee65ac",
        "papermill": {
          "duration": 0.171834,
          "end_time": "2023-04-22T07:19:50.837039",
          "exception": false,
          "start_time": "2023-04-22T07:19:50.665205",
          "status": "completed"
        },
        "tags": []
      },
      "outputs": [
        {
          "data": {
            "text/plain": [
              "UNABLE TO DETERMINE                                                                 266260\n",
              "FAILING TO YIELD RIGHT-OF-WAY                                                        75716\n",
              "FOLLOWING TOO CLOSELY                                                                69035\n",
              "NOT APPLICABLE                                                                       36421\n",
              "IMPROPER OVERTAKING/PASSING                                                          33504\n",
              "FAILING TO REDUCE SPEED TO AVOID CRASH                                               29613\n",
              "IMPROPER BACKING                                                                     28228\n",
              "IMPROPER LANE USAGE                                                                  25526\n",
              "IMPROPER TURNING/NO SIGNAL                                                           22879\n",
              "DRIVING SKILLS/KNOWLEDGE/EXPERIENCE                                                  22419\n",
              "DISREGARDING TRAFFIC SIGNALS                                                         13383\n",
              "WEATHER                                                                              11029\n",
              "OPERATING VEHICLE IN ERRATIC, RECKLESS, CARELESS, NEGLIGENT OR AGGRESSIVE MANNER      8804\n",
              "DISREGARDING STOP SIGN                                                                7705\n",
              "DISTRACTION - FROM INSIDE VEHICLE                                                     4829\n",
              "EQUIPMENT - VEHICLE CONDITION                                                         4415\n",
              "PHYSICAL CONDITION OF DRIVER                                                          4221\n",
              "VISION OBSCURED (SIGNS, TREE LIMBS, BUILDINGS, ETC.)                                  3977\n",
              "DRIVING ON WRONG SIDE/WRONG WAY                                                       3580\n",
              "UNDER THE INFLUENCE OF ALCOHOL/DRUGS (USE WHEN ARREST IS EFFECTED)                    3418\n",
              "DISTRACTION - FROM OUTSIDE VEHICLE                                                    2959\n",
              "EXCEEDING AUTHORIZED SPEED LIMIT                                                      1982\n",
              "ROAD ENGINEERING/SURFACE/MARKING DEFECTS                                              1795\n",
              "EXCEEDING SAFE SPEED FOR CONDITIONS                                                   1684\n",
              "ROAD CONSTRUCTION/MAINTENANCE                                                         1548\n",
              "DISREGARDING OTHER TRAFFIC SIGNS                                                      1509\n",
              "EVASIVE ACTION DUE TO ANIMAL, OBJECT, NONMOTORIST                                     1305\n",
              "CELL PHONE USE OTHER THAN TEXTING                                                      944\n",
              "DISREGARDING ROAD MARKINGS                                                             891\n",
              "HAD BEEN DRINKING (USE WHEN ARREST IS NOT MADE)                                        748\n",
              "ANIMAL                                                                                 577\n",
              "TURNING RIGHT ON RED                                                                   485\n",
              "DISTRACTION - OTHER ELECTRONIC DEVICE (NAVIGATION DEVICE, DVD PLAYER, ETC.)            327\n",
              "RELATED TO BUS STOP                                                                    291\n",
              "TEXTING                                                                                282\n",
              "DISREGARDING YIELD SIGN                                                                247\n",
              "PASSING STOPPED SCHOOL BUS                                                              87\n",
              "BICYCLE ADVANCING LEGALLY ON RED LIGHT                                                  76\n",
              "OBSTRUCTED CROSSWALKS                                                                   65\n",
              "MOTORCYCLE ADVANCING LEGALLY ON RED LIGHT                                               20\n",
              "Name: PRIM_CONTRIBUTORY_CAUSE, dtype: int64"
            ]
          },
          "execution_count": 14,
          "metadata": {},
          "output_type": "execute_result"
        }
      ],
      "source": [
        "#check unique values\n",
        "crashes_df['PRIM_CONTRIBUTORY_CAUSE'].value_counts()"
      ]
    },
    {
      "cell_type": "markdown",
      "id": "199544bc",
      "metadata": {
        "id": "199544bc",
        "papermill": {
          "duration": 0.108128,
          "end_time": "2023-04-22T07:19:51.053841",
          "exception": false,
          "start_time": "2023-04-22T07:19:50.945713",
          "status": "completed"
        },
        "tags": []
      },
      "source": [
        "While there are a lot of categories, there seem to be several overlapping ones which we can group later on during the Data Preparation phase."
      ]
    },
    {
      "cell_type": "markdown",
      "id": "c100e550",
      "metadata": {
        "id": "c100e550",
        "papermill": {
          "duration": 0.108627,
          "end_time": "2023-04-22T07:19:51.272997",
          "exception": false,
          "start_time": "2023-04-22T07:19:51.164370",
          "status": "completed"
        },
        "tags": []
      },
      "source": [
        "`SEC_CONTRIBUTORY_CAUSE`: The factor which was second most significant in causing the crash, as determined by officer judgment. Similar to the previous one, this will be an important column in analysis."
      ]
    },
    {
      "cell_type": "code",
      "execution_count": 15,
      "id": "e2152577",
      "metadata": {
        "colab": {
          "base_uri": "https://localhost:8080/"
        },
        "execution": {
          "iopub.execute_input": "2023-04-22T07:19:51.500184Z",
          "iopub.status.busy": "2023-04-22T07:19:51.499708Z",
          "iopub.status.idle": "2023-04-22T07:19:51.557350Z",
          "shell.execute_reply": "2023-04-22T07:19:51.556041Z"
        },
        "id": "e2152577",
        "outputId": "f8bc5781-a414-4db9-9382-994db58c2285",
        "papermill": {
          "duration": 0.174449,
          "end_time": "2023-04-22T07:19:51.560527",
          "exception": false,
          "start_time": "2023-04-22T07:19:51.386078",
          "status": "completed"
        },
        "tags": []
      },
      "outputs": [
        {
          "data": {
            "text/plain": [
              "NOT APPLICABLE                                                                      282372\n",
              "UNABLE TO DETERMINE                                                                 251338\n",
              "FAILING TO REDUCE SPEED TO AVOID CRASH                                               26909\n",
              "DRIVING SKILLS/KNOWLEDGE/EXPERIENCE                                                  21221\n",
              "FAILING TO YIELD RIGHT-OF-WAY                                                        21098\n",
              "FOLLOWING TOO CLOSELY                                                                18283\n",
              "IMPROPER OVERTAKING/PASSING                                                          10318\n",
              "IMPROPER LANE USAGE                                                                   9863\n",
              "WEATHER                                                                               8260\n",
              "IMPROPER TURNING/NO SIGNAL                                                            6921\n",
              "IMPROPER BACKING                                                                      5666\n",
              "OPERATING VEHICLE IN ERRATIC, RECKLESS, CARELESS, NEGLIGENT OR AGGRESSIVE MANNER      4457\n",
              "DISREGARDING TRAFFIC SIGNALS                                                          2749\n",
              "VISION OBSCURED (SIGNS, TREE LIMBS, BUILDINGS, ETC.)                                  2245\n",
              "PHYSICAL CONDITION OF DRIVER                                                          2178\n",
              "DISTRACTION - FROM INSIDE VEHICLE                                                     2135\n",
              "DISREGARDING STOP SIGN                                                                2061\n",
              "EXCEEDING AUTHORIZED SPEED LIMIT                                                      1473\n",
              "EXCEEDING SAFE SPEED FOR CONDITIONS                                                   1438\n",
              "EQUIPMENT - VEHICLE CONDITION                                                         1405\n",
              "DRIVING ON WRONG SIDE/WRONG WAY                                                       1369\n",
              "DISTRACTION - FROM OUTSIDE VEHICLE                                                    1190\n",
              "UNDER THE INFLUENCE OF ALCOHOL/DRUGS (USE WHEN ARREST IS EFFECTED)                    1165\n",
              "HAD BEEN DRINKING (USE WHEN ARREST IS NOT MADE)                                        895\n",
              "ROAD CONSTRUCTION/MAINTENANCE                                                          837\n",
              "DISREGARDING ROAD MARKINGS                                                             729\n",
              "DISREGARDING OTHER TRAFFIC SIGNS                                                       724\n",
              "ROAD ENGINEERING/SURFACE/MARKING DEFECTS                                               717\n",
              "CELL PHONE USE OTHER THAN TEXTING                                                      530\n",
              "EVASIVE ACTION DUE TO ANIMAL, OBJECT, NONMOTORIST                                      384\n",
              "ANIMAL                                                                                 331\n",
              "RELATED TO BUS STOP                                                                    307\n",
              "TURNING RIGHT ON RED                                                                   254\n",
              "BICYCLE ADVANCING LEGALLY ON RED LIGHT                                                 224\n",
              "DISTRACTION - OTHER ELECTRONIC DEVICE (NAVIGATION DEVICE, DVD PLAYER, ETC.)            214\n",
              "DISREGARDING YIELD SIGN                                                                183\n",
              "TEXTING                                                                                129\n",
              "PASSING STOPPED SCHOOL BUS                                                              86\n",
              "OBSTRUCTED CROSSWALKS                                                                   71\n",
              "MOTORCYCLE ADVANCING LEGALLY ON RED LIGHT                                               55\n",
              "Name: SEC_CONTRIBUTORY_CAUSE, dtype: int64"
            ]
          },
          "execution_count": 15,
          "metadata": {},
          "output_type": "execute_result"
        }
      ],
      "source": [
        "#check unique values\n",
        "crashes_df['SEC_CONTRIBUTORY_CAUSE'].value_counts()"
      ]
    },
    {
      "cell_type": "markdown",
      "id": "6780b1d6",
      "metadata": {
        "id": "6780b1d6",
        "papermill": {
          "duration": 0.183282,
          "end_time": "2023-04-22T07:19:51.857621",
          "exception": false,
          "start_time": "2023-04-22T07:19:51.674339",
          "status": "completed"
        },
        "tags": []
      },
      "source": [
        "While there are a lot of categories, there seem to be several overlapping ones which we can group later on during the Data Preparation phase."
      ]
    },
    {
      "cell_type": "markdown",
      "id": "46ca0467",
      "metadata": {
        "id": "46ca0467",
        "papermill": {
          "duration": 0.107915,
          "end_time": "2023-04-22T07:19:52.079520",
          "exception": false,
          "start_time": "2023-04-22T07:19:51.971605",
          "status": "completed"
        },
        "tags": []
      },
      "source": [
        "`STREET_NO`: Street address number of crash location, as determined by reporting officer. While this is a valuable data point, there are latitude and longtitude data points which can proove to be more useful.\n",
        "\n",
        "**DROP STREET_NO COLUMN**"
      ]
    },
    {
      "cell_type": "markdown",
      "id": "f8dfafa2",
      "metadata": {
        "id": "f8dfafa2",
        "papermill": {
          "duration": 0.108372,
          "end_time": "2023-04-22T07:19:52.296415",
          "exception": false,
          "start_time": "2023-04-22T07:19:52.188043",
          "status": "completed"
        },
        "tags": []
      },
      "source": [
        "Similarly, `STREET_DIRECTION`, `STREET_NAME`, and `BEAT_OF_OCCURRENCE` can be **DROPPED**."
      ]
    },
    {
      "cell_type": "markdown",
      "id": "86cf2e3b",
      "metadata": {
        "id": "86cf2e3b",
        "papermill": {
          "duration": 0.10821,
          "end_time": "2023-04-22T07:19:52.516464",
          "exception": false,
          "start_time": "2023-04-22T07:19:52.408254",
          "status": "completed"
        },
        "tags": []
      },
      "source": [
        "Also `PHOTOS_TAKEN_I` and `STATEMENTS_TAKEN_I` are relevant to the police investigation records but not for the purposes of this notebook's analysis. Therefore they can be **DROPPED**"
      ]
    },
    {
      "cell_type": "markdown",
      "id": "742ae25c",
      "metadata": {
        "id": "742ae25c",
        "papermill": {
          "duration": 0.11066,
          "end_time": "2023-04-22T07:19:52.735633",
          "exception": false,
          "start_time": "2023-04-22T07:19:52.624973",
          "status": "completed"
        },
        "tags": []
      },
      "source": [
        "`WORK_ZONE_I`, `WORK_ZONE_TYPE`, and `WORKERS_PRESENT_I` are important columns to caarry forward. Usually these aree critical areas where speed limits are significantly reduced and there is a lot of worker traffic during shift hours. These can be very sensitive areas that can be significant towards attaining Vision Zero therefore it will be interesting to see their contribution towards crashes. \n",
        "\n",
        "Nonetheless we can drop the `WORK_ZONE_TYPE` column since the granularity of the analysis isn't specifically based on work zone type crashes. If aa significant correlation is found, then this area can be further investigated in future analysis."
      ]
    },
    {
      "cell_type": "markdown",
      "id": "f2f25a10",
      "metadata": {
        "id": "f2f25a10",
        "papermill": {
          "duration": 0.111408,
          "end_time": "2023-04-22T07:19:52.959051",
          "exception": false,
          "start_time": "2023-04-22T07:19:52.847643",
          "status": "completed"
        },
        "tags": []
      },
      "source": [
        "`NUM_UNITS` will be an important data point since it gives information on the number of units involved in the crash.\n",
        "\n",
        "Similarly, aligning with the Vision Zero goal, `INJURIES_TOTAL` and `INJURIES_FATAL` would be valuable columns to use in analysis. \n",
        "\n",
        "The other Injuries columns can be **DROPPED**."
      ]
    },
    {
      "cell_type": "markdown",
      "id": "2ae4e24c",
      "metadata": {
        "id": "2ae4e24c",
        "papermill": {
          "duration": 0.109598,
          "end_time": "2023-04-22T07:19:53.181737",
          "exception": false,
          "start_time": "2023-04-22T07:19:53.072139",
          "status": "completed"
        },
        "tags": []
      },
      "source": [
        "`CRASH_HOUR`, `CRASH_DAY_OF_WEEK`, and `CRASH_MONTH` can be used instead of the timesatamp in column `CRASH_DATE` since these are broken down values. Nonetheless, what would be valuable from the timestamp column is the year of the crash. It might be possible that the year can play a big part in recognizing patterns of the accidents."
      ]
    },
    {
      "cell_type": "markdown",
      "id": "5f7c1e42",
      "metadata": {
        "id": "5f7c1e42",
        "papermill": {
          "duration": 0.110846,
          "end_time": "2023-04-22T07:19:53.403388",
          "exception": false,
          "start_time": "2023-04-22T07:19:53.292542",
          "status": "completed"
        },
        "tags": []
      },
      "source": [
        "`LATITUDE` and `LONGITUDE` will be used for location data for crashes. This will helo determine if there are specific areas that more volatile to crashes as compared to others."
      ]
    },
    {
      "cell_type": "markdown",
      "id": "2e7a815c",
      "metadata": {
        "id": "2e7a815c",
        "papermill": {
          "duration": 0.109633,
          "end_time": "2023-04-22T07:19:53.623915",
          "exception": false,
          "start_time": "2023-04-22T07:19:53.514282",
          "status": "completed"
        },
        "tags": []
      },
      "source": [
        "**SUMMARY**"
      ]
    },
    {
      "cell_type": "markdown",
      "id": "63076003",
      "metadata": {
        "id": "63076003",
        "papermill": {
          "duration": 0.109286,
          "end_time": "2023-04-22T07:19:53.842621",
          "exception": false,
          "start_time": "2023-04-22T07:19:53.733335",
          "status": "completed"
        },
        "tags": []
      },
      "source": [
        "The following columns will be carried forward:\n",
        "\n",
        "1. CRASH_RECORD_ID\n",
        "2. CRASH_DATE\n",
        "3. POSTED_SPEED_LIMIT\n",
        "4. DEVICE_CONDITION\n",
        "5. WEATHER_CONDITION\n",
        "6. CRASH_TYPE\n",
        "7. PRIM_CONTRIBUTORY_CAUSE\n",
        "8. SEC_CONTRIBUTORY_CAUSE\n",
        "9. WORK_ZONE_I\n",
        "10. WORKERS_PRESENT_I\n",
        "11. INJURIES_TOTAL\n",
        "12. INJURIES_FATAL\n",
        "13. CRASH_HOUR\n",
        "14. CRASH_DAY_OF_WEEK\n",
        "15. CRASH_MONTH\n",
        "16. LATITUDE\n",
        "17. LONGITUDE\n",
        "18. LIGHTING_CONDITION\n",
        "19. NUM_UNITS\n"
      ]
    },
    {
      "cell_type": "markdown",
      "id": "f8e88b92",
      "metadata": {
        "id": "f8e88b92",
        "papermill": {
          "duration": 0.109064,
          "end_time": "2023-04-22T07:19:54.060198",
          "exception": false,
          "start_time": "2023-04-22T07:19:53.951134",
          "status": "completed"
        },
        "tags": []
      },
      "source": [
        "### Traffic Crashes - Vechiles"
      ]
    },
    {
      "cell_type": "markdown",
      "id": "02bf5f8d",
      "metadata": {
        "id": "02bf5f8d",
        "papermill": {
          "duration": 0.107302,
          "end_time": "2023-04-22T07:19:54.276957",
          "exception": false,
          "start_time": "2023-04-22T07:19:54.169655",
          "status": "completed"
        },
        "tags": []
      },
      "source": [
        "This is the summary data for all the crashes. Thee dataset was downloaded and stores in the `data` folder as `Traffic_Crashes-Vehicles`. The overview of the contents of this data is aavailable below and at https://data.cityofchicago.org/Transportation/Traffic-Crashes-Vehicles/68nd-jvt3."
      ]
    },
    {
      "cell_type": "markdown",
      "id": "e7f7ff7a",
      "metadata": {
        "id": "e7f7ff7a",
        "papermill": {
          "duration": 0.107723,
          "end_time": "2023-04-22T07:19:54.492652",
          "exception": false,
          "start_time": "2023-04-22T07:19:54.384929",
          "status": "completed"
        },
        "tags": []
      },
      "source": [
        "This dataset contains information about vehicles (or units as they are identified in crash reports) involved in a traffic crash. This dataset should be used in conjunction with the traffic Crash and People dataset available in the portal. “Vehicle” information includes motor vehicle and non-motor vehicle modes of transportation, such as bicycles and pedestrians. Each mode of transportation involved in a crash is a “unit” and get one entry here. Each vehicle, each pedestrian, each motorcyclist, and each bicyclist is considered an independent unit that can have a trajectory separate from the other units. However, people inside a vehicle including the driver do not have a trajectory separate from the vehicle in which they are travelling and hence only the vehicle they are travelling in get any entry here. This type of identification of “units” is needed to determine how each movement affected the crash. Data for occupants who do not make up an independent unit, typically drivers and passengers, are available in the People table. Many of the fields are coded to denote the type and location of damage on the vehicle. Vehicle information can be linked back to Crash data using the “CRASH_RECORD_ID” field. Since this dataset is a combination of vehicles, pedestrians, and pedal cyclists not all columns are applicable to each record."
      ]
    },
    {
      "cell_type": "code",
      "execution_count": 16,
      "id": "4b273e2c",
      "metadata": {
        "colab": {
          "base_uri": "https://localhost:8080/",
          "height": 457
        },
        "execution": {
          "iopub.execute_input": "2023-04-22T07:19:54.790711Z",
          "iopub.status.busy": "2023-04-22T07:19:54.789840Z",
          "iopub.status.idle": "2023-04-22T07:20:14.490804Z",
          "shell.execute_reply": "2023-04-22T07:20:14.489114Z"
        },
        "id": "4b273e2c",
        "outputId": "3af23147-0d79-476a-efd8-1502cde7bcd0",
        "papermill": {
          "duration": 19.893648,
          "end_time": "2023-04-22T07:20:14.494540",
          "exception": false,
          "start_time": "2023-04-22T07:19:54.600892",
          "status": "completed"
        },
        "scrolled": true,
        "tags": []
      },
      "outputs": [
        {
          "name": "stderr",
          "output_type": "stream",
          "text": [
            "<ipython-input-16-e77540458d9f>:2: DtypeWarning: Columns (19,21,40,41,42,44,48,49,50,53,55,58,59,61,71) have mixed types. Specify dtype option on import or set low_memory=False.\n",
            "  vehicles_df = pd.read_csv('data/Traffic_Crashes-Vehicles.csv')\n"
          ]
        },
        {
          "data": {
            "text/html": [
              "\n",
              "  <div id=\"df-a8350c0f-ce5d-46c0-87ee-2320d5678ada\">\n",
              "    <div class=\"colab-df-container\">\n",
              "      <div>\n",
              "<style scoped>\n",
              "    .dataframe tbody tr th:only-of-type {\n",
              "        vertical-align: middle;\n",
              "    }\n",
              "\n",
              "    .dataframe tbody tr th {\n",
              "        vertical-align: top;\n",
              "    }\n",
              "\n",
              "    .dataframe thead th {\n",
              "        text-align: right;\n",
              "    }\n",
              "</style>\n",
              "<table border=\"1\" class=\"dataframe\">\n",
              "  <thead>\n",
              "    <tr style=\"text-align: right;\">\n",
              "      <th></th>\n",
              "      <th>CRASH_UNIT_ID</th>\n",
              "      <th>CRASH_RECORD_ID</th>\n",
              "      <th>RD_NO</th>\n",
              "      <th>CRASH_DATE</th>\n",
              "      <th>UNIT_NO</th>\n",
              "      <th>UNIT_TYPE</th>\n",
              "      <th>NUM_PASSENGERS</th>\n",
              "      <th>VEHICLE_ID</th>\n",
              "      <th>CMRC_VEH_I</th>\n",
              "      <th>MAKE</th>\n",
              "      <th>...</th>\n",
              "      <th>TRAILER1_LENGTH</th>\n",
              "      <th>TRAILER2_LENGTH</th>\n",
              "      <th>TOTAL_VEHICLE_LENGTH</th>\n",
              "      <th>AXLE_CNT</th>\n",
              "      <th>VEHICLE_CONFIG</th>\n",
              "      <th>CARGO_BODY_TYPE</th>\n",
              "      <th>LOAD_TYPE</th>\n",
              "      <th>HAZMAT_OUT_OF_SERVICE_I</th>\n",
              "      <th>MCS_OUT_OF_SERVICE_I</th>\n",
              "      <th>HAZMAT_CLASS</th>\n",
              "    </tr>\n",
              "  </thead>\n",
              "  <tbody>\n",
              "    <tr>\n",
              "      <th>0</th>\n",
              "      <td>829999</td>\n",
              "      <td>24ddf9fd8542199d832e1c223cc474e5601b356f1d77a6...</td>\n",
              "      <td>JD124535</td>\n",
              "      <td>01/22/2020 06:25:00 AM</td>\n",
              "      <td>1</td>\n",
              "      <td>DRIVER</td>\n",
              "      <td>NaN</td>\n",
              "      <td>796949.0</td>\n",
              "      <td>NaN</td>\n",
              "      <td>INFINITI</td>\n",
              "      <td>...</td>\n",
              "      <td>NaN</td>\n",
              "      <td>NaN</td>\n",
              "      <td>NaN</td>\n",
              "      <td>NaN</td>\n",
              "      <td>NaN</td>\n",
              "      <td>NaN</td>\n",
              "      <td>NaN</td>\n",
              "      <td>NaN</td>\n",
              "      <td>NaN</td>\n",
              "      <td>NaN</td>\n",
              "    </tr>\n",
              "    <tr>\n",
              "      <th>1</th>\n",
              "      <td>749947</td>\n",
              "      <td>81dc0de2ed92aa62baccab641fa377be7feb1cc47e6554...</td>\n",
              "      <td>JC451435</td>\n",
              "      <td>09/28/2019 03:30:00 AM</td>\n",
              "      <td>1</td>\n",
              "      <td>DRIVER</td>\n",
              "      <td>NaN</td>\n",
              "      <td>834816.0</td>\n",
              "      <td>NaN</td>\n",
              "      <td>HONDA</td>\n",
              "      <td>...</td>\n",
              "      <td>NaN</td>\n",
              "      <td>NaN</td>\n",
              "      <td>NaN</td>\n",
              "      <td>NaN</td>\n",
              "      <td>NaN</td>\n",
              "      <td>NaN</td>\n",
              "      <td>NaN</td>\n",
              "      <td>NaN</td>\n",
              "      <td>NaN</td>\n",
              "      <td>NaN</td>\n",
              "    </tr>\n",
              "    <tr>\n",
              "      <th>2</th>\n",
              "      <td>749949</td>\n",
              "      <td>81dc0de2ed92aa62baccab641fa377be7feb1cc47e6554...</td>\n",
              "      <td>JC451435</td>\n",
              "      <td>09/28/2019 03:30:00 AM</td>\n",
              "      <td>2</td>\n",
              "      <td>PARKED</td>\n",
              "      <td>NaN</td>\n",
              "      <td>834819.0</td>\n",
              "      <td>NaN</td>\n",
              "      <td>TOYOTA</td>\n",
              "      <td>...</td>\n",
              "      <td>NaN</td>\n",
              "      <td>NaN</td>\n",
              "      <td>NaN</td>\n",
              "      <td>NaN</td>\n",
              "      <td>NaN</td>\n",
              "      <td>NaN</td>\n",
              "      <td>NaN</td>\n",
              "      <td>NaN</td>\n",
              "      <td>NaN</td>\n",
              "      <td>NaN</td>\n",
              "    </tr>\n",
              "    <tr>\n",
              "      <th>3</th>\n",
              "      <td>749950</td>\n",
              "      <td>81dc0de2ed92aa62baccab641fa377be7feb1cc47e6554...</td>\n",
              "      <td>JC451435</td>\n",
              "      <td>09/28/2019 03:30:00 AM</td>\n",
              "      <td>3</td>\n",
              "      <td>PARKED</td>\n",
              "      <td>NaN</td>\n",
              "      <td>834817.0</td>\n",
              "      <td>NaN</td>\n",
              "      <td>GENERAL MOTORS CORPORATION (GMC)</td>\n",
              "      <td>...</td>\n",
              "      <td>NaN</td>\n",
              "      <td>NaN</td>\n",
              "      <td>NaN</td>\n",
              "      <td>NaN</td>\n",
              "      <td>NaN</td>\n",
              "      <td>NaN</td>\n",
              "      <td>NaN</td>\n",
              "      <td>NaN</td>\n",
              "      <td>NaN</td>\n",
              "      <td>NaN</td>\n",
              "    </tr>\n",
              "    <tr>\n",
              "      <th>4</th>\n",
              "      <td>871921</td>\n",
              "      <td>af84fb5c8d996fcd3aefd36593c3a02e6e7509eeb27568...</td>\n",
              "      <td>JD208731</td>\n",
              "      <td>04/13/2020 10:50:00 PM</td>\n",
              "      <td>2</td>\n",
              "      <td>DRIVER</td>\n",
              "      <td>NaN</td>\n",
              "      <td>827212.0</td>\n",
              "      <td>NaN</td>\n",
              "      <td>BUICK</td>\n",
              "      <td>...</td>\n",
              "      <td>NaN</td>\n",
              "      <td>NaN</td>\n",
              "      <td>NaN</td>\n",
              "      <td>NaN</td>\n",
              "      <td>NaN</td>\n",
              "      <td>NaN</td>\n",
              "      <td>NaN</td>\n",
              "      <td>NaN</td>\n",
              "      <td>NaN</td>\n",
              "      <td>NaN</td>\n",
              "    </tr>\n",
              "  </tbody>\n",
              "</table>\n",
              "<p>5 rows × 72 columns</p>\n",
              "</div>\n",
              "      <button class=\"colab-df-convert\" onclick=\"convertToInteractive('df-a8350c0f-ce5d-46c0-87ee-2320d5678ada')\"\n",
              "              title=\"Convert this dataframe to an interactive table.\"\n",
              "              style=\"display:none;\">\n",
              "        \n",
              "  <svg xmlns=\"http://www.w3.org/2000/svg\" height=\"24px\"viewBox=\"0 0 24 24\"\n",
              "       width=\"24px\">\n",
              "    <path d=\"M0 0h24v24H0V0z\" fill=\"none\"/>\n",
              "    <path d=\"M18.56 5.44l.94 2.06.94-2.06 2.06-.94-2.06-.94-.94-2.06-.94 2.06-2.06.94zm-11 1L8.5 8.5l.94-2.06 2.06-.94-2.06-.94L8.5 2.5l-.94 2.06-2.06.94zm10 10l.94 2.06.94-2.06 2.06-.94-2.06-.94-.94-2.06-.94 2.06-2.06.94z\"/><path d=\"M17.41 7.96l-1.37-1.37c-.4-.4-.92-.59-1.43-.59-.52 0-1.04.2-1.43.59L10.3 9.45l-7.72 7.72c-.78.78-.78 2.05 0 2.83L4 21.41c.39.39.9.59 1.41.59.51 0 1.02-.2 1.41-.59l7.78-7.78 2.81-2.81c.8-.78.8-2.07 0-2.86zM5.41 20L4 18.59l7.72-7.72 1.47 1.35L5.41 20z\"/>\n",
              "  </svg>\n",
              "      </button>\n",
              "      \n",
              "  <style>\n",
              "    .colab-df-container {\n",
              "      display:flex;\n",
              "      flex-wrap:wrap;\n",
              "      gap: 12px;\n",
              "    }\n",
              "\n",
              "    .colab-df-convert {\n",
              "      background-color: #E8F0FE;\n",
              "      border: none;\n",
              "      border-radius: 50%;\n",
              "      cursor: pointer;\n",
              "      display: none;\n",
              "      fill: #1967D2;\n",
              "      height: 32px;\n",
              "      padding: 0 0 0 0;\n",
              "      width: 32px;\n",
              "    }\n",
              "\n",
              "    .colab-df-convert:hover {\n",
              "      background-color: #E2EBFA;\n",
              "      box-shadow: 0px 1px 2px rgba(60, 64, 67, 0.3), 0px 1px 3px 1px rgba(60, 64, 67, 0.15);\n",
              "      fill: #174EA6;\n",
              "    }\n",
              "\n",
              "    [theme=dark] .colab-df-convert {\n",
              "      background-color: #3B4455;\n",
              "      fill: #D2E3FC;\n",
              "    }\n",
              "\n",
              "    [theme=dark] .colab-df-convert:hover {\n",
              "      background-color: #434B5C;\n",
              "      box-shadow: 0px 1px 3px 1px rgba(0, 0, 0, 0.15);\n",
              "      filter: drop-shadow(0px 1px 2px rgba(0, 0, 0, 0.3));\n",
              "      fill: #FFFFFF;\n",
              "    }\n",
              "  </style>\n",
              "\n",
              "      <script>\n",
              "        const buttonEl =\n",
              "          document.querySelector('#df-a8350c0f-ce5d-46c0-87ee-2320d5678ada button.colab-df-convert');\n",
              "        buttonEl.style.display =\n",
              "          google.colab.kernel.accessAllowed ? 'block' : 'none';\n",
              "\n",
              "        async function convertToInteractive(key) {\n",
              "          const element = document.querySelector('#df-a8350c0f-ce5d-46c0-87ee-2320d5678ada');\n",
              "          const dataTable =\n",
              "            await google.colab.kernel.invokeFunction('convertToInteractive',\n",
              "                                                     [key], {});\n",
              "          if (!dataTable) return;\n",
              "\n",
              "          const docLinkHtml = 'Like what you see? Visit the ' +\n",
              "            '<a target=\"_blank\" href=https://colab.research.google.com/notebooks/data_table.ipynb>data table notebook</a>'\n",
              "            + ' to learn more about interactive tables.';\n",
              "          element.innerHTML = '';\n",
              "          dataTable['output_type'] = 'display_data';\n",
              "          await google.colab.output.renderOutput(dataTable, element);\n",
              "          const docLink = document.createElement('div');\n",
              "          docLink.innerHTML = docLinkHtml;\n",
              "          element.appendChild(docLink);\n",
              "        }\n",
              "      </script>\n",
              "    </div>\n",
              "  </div>\n",
              "  "
            ],
            "text/plain": [
              "   CRASH_UNIT_ID                                    CRASH_RECORD_ID     RD_NO  \\\n",
              "0         829999  24ddf9fd8542199d832e1c223cc474e5601b356f1d77a6...  JD124535   \n",
              "1         749947  81dc0de2ed92aa62baccab641fa377be7feb1cc47e6554...  JC451435   \n",
              "2         749949  81dc0de2ed92aa62baccab641fa377be7feb1cc47e6554...  JC451435   \n",
              "3         749950  81dc0de2ed92aa62baccab641fa377be7feb1cc47e6554...  JC451435   \n",
              "4         871921  af84fb5c8d996fcd3aefd36593c3a02e6e7509eeb27568...  JD208731   \n",
              "\n",
              "               CRASH_DATE  UNIT_NO UNIT_TYPE  NUM_PASSENGERS  VEHICLE_ID  \\\n",
              "0  01/22/2020 06:25:00 AM        1    DRIVER             NaN    796949.0   \n",
              "1  09/28/2019 03:30:00 AM        1    DRIVER             NaN    834816.0   \n",
              "2  09/28/2019 03:30:00 AM        2    PARKED             NaN    834819.0   \n",
              "3  09/28/2019 03:30:00 AM        3    PARKED             NaN    834817.0   \n",
              "4  04/13/2020 10:50:00 PM        2    DRIVER             NaN    827212.0   \n",
              "\n",
              "  CMRC_VEH_I                              MAKE  ... TRAILER1_LENGTH  \\\n",
              "0        NaN                          INFINITI  ...             NaN   \n",
              "1        NaN                             HONDA  ...             NaN   \n",
              "2        NaN                            TOYOTA  ...             NaN   \n",
              "3        NaN  GENERAL MOTORS CORPORATION (GMC)  ...             NaN   \n",
              "4        NaN                             BUICK  ...             NaN   \n",
              "\n",
              "  TRAILER2_LENGTH  TOTAL_VEHICLE_LENGTH AXLE_CNT VEHICLE_CONFIG  \\\n",
              "0             NaN                   NaN      NaN            NaN   \n",
              "1             NaN                   NaN      NaN            NaN   \n",
              "2             NaN                   NaN      NaN            NaN   \n",
              "3             NaN                   NaN      NaN            NaN   \n",
              "4             NaN                   NaN      NaN            NaN   \n",
              "\n",
              "  CARGO_BODY_TYPE LOAD_TYPE HAZMAT_OUT_OF_SERVICE_I MCS_OUT_OF_SERVICE_I  \\\n",
              "0             NaN       NaN                     NaN                  NaN   \n",
              "1             NaN       NaN                     NaN                  NaN   \n",
              "2             NaN       NaN                     NaN                  NaN   \n",
              "3             NaN       NaN                     NaN                  NaN   \n",
              "4             NaN       NaN                     NaN                  NaN   \n",
              "\n",
              "  HAZMAT_CLASS  \n",
              "0          NaN  \n",
              "1          NaN  \n",
              "2          NaN  \n",
              "3          NaN  \n",
              "4          NaN  \n",
              "\n",
              "[5 rows x 72 columns]"
            ]
          },
          "execution_count": 16,
          "metadata": {},
          "output_type": "execute_result"
        }
      ],
      "source": [
        "#import the dataset using the API endpoint\n",
        "vehicles_df = pd.read_csv('data/Traffic_Crashes-Vehicles.csv')\n",
        "\n",
        "#preview thee first 5 rows\n",
        "vehicles_df.head()"
      ]
    },
    {
      "cell_type": "code",
      "execution_count": 17,
      "id": "e3114c13",
      "metadata": {
        "colab": {
          "base_uri": "https://localhost:8080/"
        },
        "execution": {
          "iopub.execute_input": "2023-04-22T07:20:14.725714Z",
          "iopub.status.busy": "2023-04-22T07:20:14.724823Z",
          "iopub.status.idle": "2023-04-22T07:20:18.039871Z",
          "shell.execute_reply": "2023-04-22T07:20:18.037470Z"
        },
        "id": "e3114c13",
        "outputId": "8661055d-d2e4-4ddc-a30b-b694c3cca4f8",
        "papermill": {
          "duration": 3.429596,
          "end_time": "2023-04-22T07:20:18.043931",
          "exception": false,
          "start_time": "2023-04-22T07:20:14.614335",
          "status": "completed"
        },
        "tags": []
      },
      "outputs": [
        {
          "name": "stdout",
          "output_type": "stream",
          "text": [
            "<class 'pandas.core.frame.DataFrame'>\n",
            "RangeIndex: 1228731 entries, 0 to 1228730\n",
            "Data columns (total 72 columns):\n",
            " #   Column                    Non-Null Count    Dtype  \n",
            "---  ------                    --------------    -----  \n",
            " 0   CRASH_UNIT_ID             1228731 non-null  int64  \n",
            " 1   CRASH_RECORD_ID           1228731 non-null  object \n",
            " 2   RD_NO                     1228731 non-null  object \n",
            " 3   CRASH_DATE                1228731 non-null  object \n",
            " 4   UNIT_NO                   1228731 non-null  int64  \n",
            " 5   UNIT_TYPE                 1226960 non-null  object \n",
            " 6   NUM_PASSENGERS            183161 non-null   float64\n",
            " 7   VEHICLE_ID                1200879 non-null  float64\n",
            " 8   CMRC_VEH_I                22949 non-null    object \n",
            " 9   MAKE                      1200874 non-null  object \n",
            " 10  MODEL                     1200730 non-null  object \n",
            " 11  LIC_PLATE_STATE           1093504 non-null  object \n",
            " 12  VEHICLE_YEAR              1004811 non-null  float64\n",
            " 13  VEHICLE_DEFECT            1200879 non-null  object \n",
            " 14  VEHICLE_TYPE              1200879 non-null  object \n",
            " 15  VEHICLE_USE               1200879 non-null  object \n",
            " 16  TRAVEL_DIRECTION          1200879 non-null  object \n",
            " 17  MANEUVER                  1200879 non-null  object \n",
            " 18  TOWED_I                   148427 non-null   object \n",
            " 19  FIRE_I                    958 non-null      object \n",
            " 20  OCCUPANT_CNT              1200879 non-null  float64\n",
            " 21  EXCEED_SPEED_LIMIT_I      2362 non-null     object \n",
            " 22  TOWED_BY                  109916 non-null   object \n",
            " 23  TOWED_TO                  67771 non-null    object \n",
            " 24  AREA_00_I                 44551 non-null    object \n",
            " 25  AREA_01_I                 322738 non-null   object \n",
            " 26  AREA_02_I                 201230 non-null   object \n",
            " 27  AREA_03_I                 116321 non-null   object \n",
            " 28  AREA_04_I                 119022 non-null   object \n",
            " 29  AREA_05_I                 183416 non-null   object \n",
            " 30  AREA_06_I                 188921 non-null   object \n",
            " 31  AREA_07_I                 167789 non-null   object \n",
            " 32  AREA_08_I                 190446 non-null   object \n",
            " 33  AREA_09_I                 66634 non-null    object \n",
            " 34  AREA_10_I                 95999 non-null    object \n",
            " 35  AREA_11_I                 189159 non-null   object \n",
            " 36  AREA_12_I                 186830 non-null   object \n",
            " 37  AREA_99_I                 133392 non-null   object \n",
            " 38  FIRST_CONTACT_POINT       1190862 non-null  object \n",
            " 39  CMV_ID                    12956 non-null    float64\n",
            " 40  USDOT_NO                  7479 non-null     object \n",
            " 41  CCMC_NO                   1625 non-null     object \n",
            " 42  ILCC_NO                   1168 non-null     object \n",
            " 43  COMMERCIAL_SRC            8973 non-null     object \n",
            " 44  GVWR                      7456 non-null     object \n",
            " 45  CARRIER_NAME              12401 non-null    object \n",
            " 46  CARRIER_STATE             11695 non-null    object \n",
            " 47  CARRIER_CITY              11482 non-null    object \n",
            " 48  HAZMAT_PLACARDS_I         254 non-null      object \n",
            " 49  HAZMAT_NAME               50 non-null       object \n",
            " 50  UN_NO                     455 non-null      object \n",
            " 51  HAZMAT_PRESENT_I          9540 non-null     object \n",
            " 52  HAZMAT_REPORT_I           9256 non-null     object \n",
            " 53  HAZMAT_REPORT_NO          1 non-null        object \n",
            " 54  MCS_REPORT_I              9304 non-null     object \n",
            " 55  MCS_REPORT_NO             6 non-null        object \n",
            " 56  HAZMAT_VIO_CAUSE_CRASH_I  9400 non-null     object \n",
            " 57  MCS_VIO_CAUSE_CRASH_I     9231 non-null     object \n",
            " 58  IDOT_PERMIT_NO            745 non-null      object \n",
            " 59  WIDE_LOAD_I               111 non-null      object \n",
            " 60  TRAILER1_WIDTH            2451 non-null     object \n",
            " 61  TRAILER2_WIDTH            284 non-null      object \n",
            " 62  TRAILER1_LENGTH           2031 non-null     float64\n",
            " 63  TRAILER2_LENGTH           55 non-null       float64\n",
            " 64  TOTAL_VEHICLE_LENGTH      2464 non-null     float64\n",
            " 65  AXLE_CNT                  3597 non-null     float64\n",
            " 66  VEHICLE_CONFIG            10787 non-null    object \n",
            " 67  CARGO_BODY_TYPE           10322 non-null    object \n",
            " 68  LOAD_TYPE                 9860 non-null     object \n",
            " 69  HAZMAT_OUT_OF_SERVICE_I   8974 non-null     object \n",
            " 70  MCS_OUT_OF_SERVICE_I      9214 non-null     object \n",
            " 71  HAZMAT_CLASS              874 non-null      object \n",
            "dtypes: float64(9), int64(2), object(61)\n",
            "memory usage: 675.0+ MB\n"
          ]
        }
      ],
      "source": [
        "#Explore the info for all the features\n",
        "vehicles_df.info()"
      ]
    },
    {
      "cell_type": "markdown",
      "id": "fad83338",
      "metadata": {
        "id": "fad83338",
        "papermill": {
          "duration": 0.109796,
          "end_time": "2023-04-22T07:20:18.265768",
          "exception": false,
          "start_time": "2023-04-22T07:20:18.155972",
          "status": "completed"
        },
        "tags": []
      },
      "source": [
        "`CRASH_UNIT_ID`, `RD_NO`, `UNIT_NO`, `VEHICLE_ID`, and `CMRC_VEH_I`,  are unique IDs for crash reports which can be ignored for the purposes of the analysis. These columns will be **DROPPED**\n",
        "\n",
        "`MAKE`, `MODEL`, `LIC_PLATE_STATE`, `VEHICLE_YEAR`, and `TRAVEL_DIRECTION` are speciific informations relevant to the vehicle. These are valuable information to keep track but these don;t provide valuable insights into causes for crashes. While the argument can be made that the make or vehicle year of a car can showcase which brands of cars and which years are involved in the most crashes, these singular data points can inform biased policies. For instance, older cars are usually owned by people who can't afford the expensive new models. Moreover, the more important aspect to know would be what kind of safety features did these cars have to understand how helpful ccertain safety features have but that data is not availabl. Therefore, these columns will be **DROPPED**.\n",
        "\n",
        "`VEHICLE_DEFECT`: This column might contain some intersting data. Lets investigate the contents of this column."
      ]
    },
    {
      "cell_type": "code",
      "execution_count": 18,
      "id": "5c71e88d",
      "metadata": {
        "colab": {
          "base_uri": "https://localhost:8080/"
        },
        "execution": {
          "iopub.execute_input": "2023-04-22T07:20:18.493224Z",
          "iopub.status.busy": "2023-04-22T07:20:18.491856Z",
          "iopub.status.idle": "2023-04-22T07:20:18.590204Z",
          "shell.execute_reply": "2023-04-22T07:20:18.588244Z"
        },
        "id": "5c71e88d",
        "outputId": "2106ba40-74e7-4720-af38-d475687cc96f",
        "papermill": {
          "duration": 0.21592,
          "end_time": "2023-04-22T07:20:18.593411",
          "exception": false,
          "start_time": "2023-04-22T07:20:18.377491",
          "status": "completed"
        },
        "tags": []
      },
      "outputs": [
        {
          "data": {
            "text/plain": [
              "NONE                678488\n",
              "UNKNOWN             510206\n",
              "OTHER                 5903\n",
              "BRAKES                4011\n",
              "TIRES                  610\n",
              "STEERING               576\n",
              "WHEELS                 322\n",
              "SUSPENSION             215\n",
              "ENGINE/MOTOR           158\n",
              "FUEL SYSTEM            123\n",
              "LIGHTS                  80\n",
              "WINDOWS                 68\n",
              "CARGO                   39\n",
              "SIGNALS                 31\n",
              "RESTRAINT SYSTEM        17\n",
              "TRAILER COUPLING        17\n",
              "EXHAUST                 15\n",
              "Name: VEHICLE_DEFECT, dtype: int64"
            ]
          },
          "execution_count": 18,
          "metadata": {},
          "output_type": "execute_result"
        }
      ],
      "source": [
        "#check unique values\n",
        "vehicles_df['VEHICLE_DEFECT'].value_counts()"
      ]
    },
    {
      "cell_type": "markdown",
      "id": "cd1a5f8a",
      "metadata": {
        "id": "cd1a5f8a",
        "papermill": {
          "duration": 0.10743,
          "end_time": "2023-04-22T07:20:18.811861",
          "exception": false,
          "start_time": "2023-04-22T07:20:18.704431",
          "status": "completed"
        },
        "tags": []
      },
      "source": [
        "while thiss information is useful, 98% of the data is skewed towards None, Unkown or Other values that don't provide us any valuable insights. We can use oversampling methodlogies to help balance out the data to provide valuable insights."
      ]
    },
    {
      "cell_type": "markdown",
      "id": "d5b2c33a",
      "metadata": {
        "id": "d5b2c33a",
        "papermill": {
          "duration": 0.109455,
          "end_time": "2023-04-22T07:20:19.033482",
          "exception": false,
          "start_time": "2023-04-22T07:20:18.924027",
          "status": "completed"
        },
        "tags": []
      },
      "source": [
        "`VEHICLE_TYPE`: The type of vehicle, if relevant. Lets investigate the contents of this column."
      ]
    },
    {
      "cell_type": "code",
      "execution_count": 19,
      "id": "359426ce",
      "metadata": {
        "colab": {
          "base_uri": "https://localhost:8080/"
        },
        "execution": {
          "iopub.execute_input": "2023-04-22T07:20:19.257126Z",
          "iopub.status.busy": "2023-04-22T07:20:19.255788Z",
          "iopub.status.idle": "2023-04-22T07:20:19.358569Z",
          "shell.execute_reply": "2023-04-22T07:20:19.356322Z"
        },
        "id": "359426ce",
        "outputId": "5ff2449e-7332-4f79-a90b-fb3ea43672a2",
        "papermill": {
          "duration": 0.217017,
          "end_time": "2023-04-22T07:20:19.361750",
          "exception": false,
          "start_time": "2023-04-22T07:20:19.144733",
          "status": "completed"
        },
        "tags": []
      },
      "outputs": [
        {
          "data": {
            "text/plain": [
              "PASSENGER                                 758184\n",
              "SPORT UTILITY VEHICLE (SUV)               159004\n",
              "UNKNOWN/NA                                114448\n",
              "VAN/MINI-VAN                               59509\n",
              "PICKUP                                     36718\n",
              "TRUCK - SINGLE UNIT                        22944\n",
              "OTHER                                      13870\n",
              "BUS OVER 15 PASS.                          12775\n",
              "TRACTOR W/ SEMI-TRAILER                    11577\n",
              "BUS UP TO 15 PASS.                          2773\n",
              "MOTORCYCLE (OVER 150CC)                     2755\n",
              "SINGLE UNIT TRUCK WITH TRAILER              1708\n",
              "OTHER VEHICLE WITH TRAILER                  1557\n",
              "TRACTOR W/O SEMI-TRAILER                    1556\n",
              "AUTOCYCLE                                    612\n",
              "MOTOR DRIVEN CYCLE                           323\n",
              "MOPED OR MOTORIZED BICYCLE                   288\n",
              "ALL-TERRAIN VEHICLE (ATV)                    146\n",
              "FARM EQUIPMENT                                66\n",
              "3-WHEELED MOTORCYCLE (2 REAR WHEELS)          40\n",
              "RECREATIONAL OFF-HIGHWAY VEHICLE (ROV)        18\n",
              "SNOWMOBILE                                     8\n",
              "Name: VEHICLE_TYPE, dtype: int64"
            ]
          },
          "execution_count": 19,
          "metadata": {},
          "output_type": "execute_result"
        }
      ],
      "source": [
        "#check unique values\n",
        "vehicles_df['VEHICLE_TYPE'].value_counts()"
      ]
    },
    {
      "cell_type": "markdown",
      "id": "dd864f52",
      "metadata": {
        "id": "dd864f52",
        "papermill": {
          "duration": 0.109483,
          "end_time": "2023-04-22T07:20:19.580620",
          "exception": false,
          "start_time": "2023-04-22T07:20:19.471137",
          "status": "completed"
        },
        "tags": []
      },
      "source": [
        "This data will be very valuable to discern how different types of vehicles get into accidents and understand the trends in causes. The imbalance in the data has to be aaddresssed later in th eDaata Preparations Section."
      ]
    },
    {
      "cell_type": "markdown",
      "id": "1ed22693",
      "metadata": {
        "id": "1ed22693",
        "papermill": {
          "duration": 0.114339,
          "end_time": "2023-04-22T07:20:19.811926",
          "exception": false,
          "start_time": "2023-04-22T07:20:19.697587",
          "status": "completed"
        },
        "tags": []
      },
      "source": [
        "`VEHICLE_USE`: The normal use of the vehicle, if relevant. In conjunction with previous column, this column can be used to createe grouped categories of vehicles such as Personal, Rideshare, etc. We can also see that there are more unknown records in this collumn than the previous one. We can use the previous column to reduce the number of unkowns n our data. "
      ]
    },
    {
      "cell_type": "code",
      "execution_count": 20,
      "id": "fd66c730",
      "metadata": {
        "colab": {
          "base_uri": "https://localhost:8080/"
        },
        "execution": {
          "iopub.execute_input": "2023-04-22T07:20:20.031031Z",
          "iopub.status.busy": "2023-04-22T07:20:20.030567Z",
          "iopub.status.idle": "2023-04-22T07:20:20.130710Z",
          "shell.execute_reply": "2023-04-22T07:20:20.129072Z"
        },
        "id": "fd66c730",
        "outputId": "379f6a77-6b3a-4d5f-9d73-9db4f484d3da",
        "papermill": {
          "duration": 0.212744,
          "end_time": "2023-04-22T07:20:20.134009",
          "exception": false,
          "start_time": "2023-04-22T07:20:19.921265",
          "status": "completed"
        },
        "tags": []
      },
      "outputs": [
        {
          "data": {
            "text/plain": [
              "PERSONAL                        777200\n",
              "UNKNOWN/NA                      239415\n",
              "NOT IN USE                       62271\n",
              "OTHER                            37405\n",
              "TAXI/FOR HIRE                    16988\n",
              "COMMERCIAL - SINGLE UNIT         15123\n",
              "RIDESHARE SERVICE                10493\n",
              "CTA                               8105\n",
              "POLICE                            7890\n",
              "CONSTRUCTION/MAINTENANCE          5534\n",
              "COMMERCIAL - MULTI-UNIT           4937\n",
              "OTHER TRANSIT                     3881\n",
              "SCHOOL BUS                        3258\n",
              "TOW TRUCK                         2285\n",
              "AMBULANCE                         1415\n",
              "FIRE                              1169\n",
              "STATE OWNED                       1022\n",
              "DRIVER EDUCATION                   934\n",
              "MASS TRANSIT                       823\n",
              "LAWN CARE/LANDSCAPING              464\n",
              "AGRICULTURE                        123\n",
              "CAMPER/RV - SINGLE UNIT             60\n",
              "MILITARY                            52\n",
              "HOUSE TRAILER                       20\n",
              "CAMPER/RV - TOWED/MULTI-UNIT        12\n",
              "Name: VEHICLE_USE, dtype: int64"
            ]
          },
          "execution_count": 20,
          "metadata": {},
          "output_type": "execute_result"
        }
      ],
      "source": [
        "#check unique values\n",
        "vehicles_df['VEHICLE_USE'].value_counts()"
      ]
    },
    {
      "cell_type": "markdown",
      "id": "ded76bf1",
      "metadata": {
        "id": "ded76bf1",
        "papermill": {
          "duration": 0.111186,
          "end_time": "2023-04-22T07:20:20.355151",
          "exception": false,
          "start_time": "2023-04-22T07:20:20.243965",
          "status": "completed"
        },
        "tags": []
      },
      "source": [
        "`MANEUVER`: The action the unit was taking prior to the crash, as determined by the reporting officer. This will be important too understand what kind of maneuvers can cause the most crashes. These will also go hand in hand with location data to understand if certain areas have accidents occuring at specific manevers. Lets investigate this column to understand the values in it."
      ]
    },
    {
      "cell_type": "code",
      "execution_count": 21,
      "id": "4311143d",
      "metadata": {
        "colab": {
          "base_uri": "https://localhost:8080/"
        },
        "execution": {
          "iopub.execute_input": "2023-04-22T07:20:20.576734Z",
          "iopub.status.busy": "2023-04-22T07:20:20.575960Z",
          "iopub.status.idle": "2023-04-22T07:20:20.682516Z",
          "shell.execute_reply": "2023-04-22T07:20:20.680718Z"
        },
        "id": "4311143d",
        "outputId": "e6d48e5b-7281-4eba-875d-3a0f82c343a7",
        "papermill": {
          "duration": 0.221824,
          "end_time": "2023-04-22T07:20:20.685697",
          "exception": false,
          "start_time": "2023-04-22T07:20:20.463873",
          "status": "completed"
        },
        "tags": []
      },
      "outputs": [
        {
          "data": {
            "text/plain": [
              "STRAIGHT AHEAD                        544949\n",
              "PARKED                                165487\n",
              "UNKNOWN/NA                             93671\n",
              "SLOW/STOP IN TRAFFIC                   92838\n",
              "TURNING LEFT                           70088\n",
              "BACKING                                50260\n",
              "TURNING RIGHT                          39307\n",
              "PASSING/OVERTAKING                     28497\n",
              "CHANGING LANES                         23399\n",
              "OTHER                                  20260\n",
              "ENTERING TRAFFIC LANE FROM PARKING     14084\n",
              "MERGING                                 8253\n",
              "STARTING IN TRAFFIC                     7167\n",
              "U-TURN                                  6671\n",
              "LEAVING TRAFFIC LANE TO PARK            5918\n",
              "AVOIDING VEHICLES/OBJECTS               5252\n",
              "SKIDDING/CONTROL LOSS                   5130\n",
              "ENTER FROM DRIVE/ALLEY                  4898\n",
              "PARKED IN TRAFFIC LANE                  3585\n",
              "SLOW/STOP - LEFT TURN                   2982\n",
              "SLOW/STOP - RIGHT TURN                  1888\n",
              "DRIVING WRONG WAY                       1746\n",
              "NEGOTIATING A CURVE                     1644\n",
              "SLOW/STOP - LOAD/UNLOAD                 1633\n",
              "TURNING ON RED                           475\n",
              "DRIVERLESS                               472\n",
              "DIVERGING                                186\n",
              "DISABLED                                 139\n",
              "Name: MANEUVER, dtype: int64"
            ]
          },
          "execution_count": 21,
          "metadata": {},
          "output_type": "execute_result"
        }
      ],
      "source": [
        "#check unique values\n",
        "vehicles_df['MANEUVER'].value_counts()"
      ]
    },
    {
      "cell_type": "markdown",
      "id": "a1e80acd",
      "metadata": {
        "id": "a1e80acd",
        "papermill": {
          "duration": 0.113161,
          "end_time": "2023-04-22T07:20:20.909623",
          "exception": false,
          "start_time": "2023-04-22T07:20:20.796462",
          "status": "completed"
        },
        "tags": []
      },
      "source": [
        "Some of these categories can be grouped together to make claassificatin analysis less granular. This will be done in the Data Preparation section."
      ]
    },
    {
      "cell_type": "markdown",
      "id": "237a549d",
      "metadata": {
        "id": "237a549d",
        "papermill": {
          "duration": 0.184867,
          "end_time": "2023-04-22T07:20:21.208018",
          "exception": false,
          "start_time": "2023-04-22T07:20:21.023151",
          "status": "completed"
        },
        "tags": []
      },
      "source": [
        "`TOWED_I`, `FIRE_I`, `TOWED_BY`, and `TOWED_TO` are relevant details for keeping record of a crash but these columns won't be useful data to understand the causes and trends of crashes. These columns will be **DROPPED**."
      ]
    },
    {
      "cell_type": "markdown",
      "id": "7d2a1669",
      "metadata": {
        "id": "7d2a1669",
        "papermill": {
          "duration": 0.112594,
          "end_time": "2023-04-22T07:20:21.432167",
          "exception": false,
          "start_time": "2023-04-22T07:20:21.319573",
          "status": "completed"
        },
        "tags": []
      },
      "source": [
        "`OCCUPANT_CNT` which is the number of people in the unit will be very valuable records to use in our analysis. This can show whether an increased number of occupants in vehicles is correlated to certain types of traffic crashes."
      ]
    },
    {
      "cell_type": "markdown",
      "id": "bff8119b",
      "metadata": {
        "id": "bff8119b",
        "papermill": {
          "duration": 0.110091,
          "end_time": "2023-04-22T07:20:21.652667",
          "exception": false,
          "start_time": "2023-04-22T07:20:21.542576",
          "status": "completed"
        },
        "tags": []
      },
      "source": [
        "`AREA_00_I` to `AREA_99_I` are encoded columns but do not have any details on what information do they represent. Lets investigate the contents of these columns to see if there is more insight."
      ]
    },
    {
      "cell_type": "code",
      "execution_count": 22,
      "id": "7e42cc7e",
      "metadata": {
        "colab": {
          "base_uri": "https://localhost:8080/"
        },
        "execution": {
          "iopub.execute_input": "2023-04-22T07:20:21.874004Z",
          "iopub.status.busy": "2023-04-22T07:20:21.873286Z",
          "iopub.status.idle": "2023-04-22T07:20:21.914074Z",
          "shell.execute_reply": "2023-04-22T07:20:21.912372Z"
        },
        "id": "7e42cc7e",
        "outputId": "24b92f3f-2a97-4b8c-cfa1-bbc41dc4e82d",
        "papermill": {
          "duration": 0.156248,
          "end_time": "2023-04-22T07:20:21.917041",
          "exception": false,
          "start_time": "2023-04-22T07:20:21.760793",
          "status": "completed"
        },
        "tags": []
      },
      "outputs": [
        {
          "name": "stdout",
          "output_type": "stream",
          "text": [
            "Y    38934\n",
            "N     5617\n"
          ]
        }
      ],
      "source": [
        "#check unique values\n",
        "print(vehicles_df['AREA_00_I'].value_counts().to_string())"
      ]
    },
    {
      "cell_type": "code",
      "execution_count": 23,
      "id": "24374217",
      "metadata": {
        "colab": {
          "base_uri": "https://localhost:8080/"
        },
        "execution": {
          "iopub.execute_input": "2023-04-22T07:20:22.142168Z",
          "iopub.status.busy": "2023-04-22T07:20:22.141454Z",
          "iopub.status.idle": "2023-04-22T07:20:22.191984Z",
          "shell.execute_reply": "2023-04-22T07:20:22.190233Z"
        },
        "id": "24374217",
        "outputId": "98e3bb7f-e2ca-4cb6-fa48-508b28398d2a",
        "papermill": {
          "duration": 0.166898,
          "end_time": "2023-04-22T07:20:22.195361",
          "exception": false,
          "start_time": "2023-04-22T07:20:22.028463",
          "status": "completed"
        },
        "tags": []
      },
      "outputs": [
        {
          "data": {
            "text/plain": [
              "Y    191530\n",
              "N      9700\n",
              "Name: AREA_02_I, dtype: int64"
            ]
          },
          "execution_count": 23,
          "metadata": {},
          "output_type": "execute_result"
        }
      ],
      "source": [
        "#check unique values\n",
        "vehicles_df['AREA_02_I'].value_counts()"
      ]
    },
    {
      "cell_type": "code",
      "execution_count": 24,
      "id": "16a7ac2d",
      "metadata": {
        "colab": {
          "base_uri": "https://localhost:8080/"
        },
        "execution": {
          "iopub.execute_input": "2023-04-22T07:20:22.425742Z",
          "iopub.status.busy": "2023-04-22T07:20:22.423980Z",
          "iopub.status.idle": "2023-04-22T07:20:22.472059Z",
          "shell.execute_reply": "2023-04-22T07:20:22.470592Z"
        },
        "id": "16a7ac2d",
        "outputId": "5e1532ba-e58b-4e85-fa70-5cf85ad08ab8",
        "papermill": {
          "duration": 0.167027,
          "end_time": "2023-04-22T07:20:22.475485",
          "exception": false,
          "start_time": "2023-04-22T07:20:22.308458",
          "status": "completed"
        },
        "tags": []
      },
      "outputs": [
        {
          "data": {
            "text/plain": [
              "Y    110999\n",
              "N      5322\n",
              "Name: AREA_03_I, dtype: int64"
            ]
          },
          "execution_count": 24,
          "metadata": {},
          "output_type": "execute_result"
        }
      ],
      "source": [
        "#check unique values\n",
        "vehicles_df['AREA_03_I'].value_counts()"
      ]
    },
    {
      "cell_type": "code",
      "execution_count": 25,
      "id": "10052693",
      "metadata": {
        "colab": {
          "base_uri": "https://localhost:8080/"
        },
        "execution": {
          "iopub.execute_input": "2023-04-22T07:20:22.700192Z",
          "iopub.status.busy": "2023-04-22T07:20:22.699661Z",
          "iopub.status.idle": "2023-04-22T07:20:22.748067Z",
          "shell.execute_reply": "2023-04-22T07:20:22.746007Z"
        },
        "id": "10052693",
        "outputId": "a728806d-badc-422f-e679-eb54a48d6628",
        "papermill": {
          "duration": 0.16313,
          "end_time": "2023-04-22T07:20:22.751324",
          "exception": false,
          "start_time": "2023-04-22T07:20:22.588194",
          "status": "completed"
        },
        "tags": []
      },
      "outputs": [
        {
          "data": {
            "text/plain": [
              "Y    113693\n",
              "N      5329\n",
              "Name: AREA_04_I, dtype: int64"
            ]
          },
          "execution_count": 25,
          "metadata": {},
          "output_type": "execute_result"
        }
      ],
      "source": [
        "#check unique values\n",
        "vehicles_df['AREA_04_I'].value_counts()"
      ]
    },
    {
      "cell_type": "code",
      "execution_count": 26,
      "id": "83431f79",
      "metadata": {
        "colab": {
          "base_uri": "https://localhost:8080/"
        },
        "execution": {
          "iopub.execute_input": "2023-04-22T07:20:22.981217Z",
          "iopub.status.busy": "2023-04-22T07:20:22.980341Z",
          "iopub.status.idle": "2023-04-22T07:20:23.031198Z",
          "shell.execute_reply": "2023-04-22T07:20:23.029350Z"
        },
        "id": "83431f79",
        "outputId": "ea1ed716-adbd-4ff8-808c-10d4b73dcf34",
        "papermill": {
          "duration": 0.16934,
          "end_time": "2023-04-22T07:20:23.034787",
          "exception": false,
          "start_time": "2023-04-22T07:20:22.865447",
          "status": "completed"
        },
        "tags": []
      },
      "outputs": [
        {
          "data": {
            "text/plain": [
              "Y    128377\n",
              "N      5015\n",
              "Name: AREA_99_I, dtype: int64"
            ]
          },
          "execution_count": 26,
          "metadata": {},
          "output_type": "execute_result"
        }
      ],
      "source": [
        "#check unique values\n",
        "vehicles_df['AREA_99_I'].value_counts()"
      ]
    },
    {
      "cell_type": "markdown",
      "id": "52ece625",
      "metadata": {
        "id": "52ece625",
        "papermill": {
          "duration": 0.113287,
          "end_time": "2023-04-22T07:20:23.261027",
          "exception": false,
          "start_time": "2023-04-22T07:20:23.147740",
          "status": "completed"
        },
        "tags": []
      },
      "source": [
        "Most of these are just indicators but there's no information on what do these indicators represent. With no extra information on what areas these columns represent, these columns will bee **DROPPED**. Moreover, we the latitude and longitude to help us understand the location."
      ]
    },
    {
      "cell_type": "markdown",
      "id": "0c8808f5",
      "metadata": {
        "id": "0c8808f5",
        "papermill": {
          "duration": 0.112424,
          "end_time": "2023-04-22T07:20:23.485136",
          "exception": false,
          "start_time": "2023-04-22T07:20:23.372712",
          "status": "completed"
        },
        "tags": []
      },
      "source": [
        "`FIRST_CONTACT_POINT`: This column does not have a description. LLets investigate the column values to understand more."
      ]
    },
    {
      "cell_type": "code",
      "execution_count": 27,
      "id": "f5cde822",
      "metadata": {
        "colab": {
          "base_uri": "https://localhost:8080/"
        },
        "execution": {
          "iopub.execute_input": "2023-04-22T07:20:23.717905Z",
          "iopub.status.busy": "2023-04-22T07:20:23.716255Z",
          "iopub.status.idle": "2023-04-22T07:20:23.824504Z",
          "shell.execute_reply": "2023-04-22T07:20:23.821594Z"
        },
        "id": "f5cde822",
        "outputId": "cc2b2b44-aec6-4f90-f33b-729949ae39b4",
        "papermill": {
          "duration": 0.228881,
          "end_time": "2023-04-22T07:20:23.827685",
          "exception": false,
          "start_time": "2023-04-22T07:20:23.598804",
          "status": "completed"
        },
        "tags": []
      },
      "outputs": [
        {
          "data": {
            "text/plain": [
              "FRONT                185913\n",
              "OTHER                133541\n",
              "REAR-LEFT            132336\n",
              "UNKNOWN              112967\n",
              "REAR                 109299\n",
              "FRONT-LEFT            94294\n",
              "FRONT-RIGHT           83353\n",
              "SIDE-RIGHT            77051\n",
              "TOTAL (ALL AREAS)     75164\n",
              "SIDE-LEFT             72370\n",
              "REAR-RIGHT            46416\n",
              "ROOF                  44457\n",
              "UNDER CARRIAGE        13372\n",
              "NONE                  10329\n",
              "Name: FIRST_CONTACT_POINT, dtype: int64"
            ]
          },
          "execution_count": 27,
          "metadata": {},
          "output_type": "execute_result"
        }
      ],
      "source": [
        "#check unique values\n",
        "vehicles_df['FIRST_CONTACT_POINT'].value_counts()"
      ]
    },
    {
      "cell_type": "markdown",
      "id": "3692a0e1",
      "metadata": {
        "id": "3692a0e1",
        "papermill": {
          "duration": 0.113722,
          "end_time": "2023-04-22T07:20:24.055894",
          "exception": false,
          "start_time": "2023-04-22T07:20:23.942172",
          "status": "completed"
        },
        "tags": []
      },
      "source": [
        "This column represents the first point of contact of an accident. This information can provide us insight into how vehiicles/people are getting into crashes. If its front/rear/sideways, etc. This will be valuable information t ocarry forward."
      ]
    },
    {
      "cell_type": "markdown",
      "id": "4ca2ab27",
      "metadata": {
        "id": "4ca2ab27",
        "papermill": {
          "duration": 0.112288,
          "end_time": "2023-04-22T07:20:24.278979",
          "exception": false,
          "start_time": "2023-04-22T07:20:24.166691",
          "status": "completed"
        },
        "tags": []
      },
      "source": [
        "`CMV_ID`, `USDOT_NO`, `CCMC_NO`, `ILCC_NO`, and `COMMERCIAL_SRC` are specific information for record keeping of the crash reports. These do not provide any insights into the causes of accidents. They will be **DROPPED**."
      ]
    },
    {
      "cell_type": "markdown",
      "id": "6d6fe0c5",
      "metadata": {
        "id": "6d6fe0c5",
        "papermill": {
          "duration": 0.185201,
          "end_time": "2023-04-22T07:20:24.576093",
          "exception": false,
          "start_time": "2023-04-22T07:20:24.390892",
          "status": "completed"
        },
        "tags": []
      },
      "source": [
        "The following are the columns specific to Comemrcial Trailer/Tractor crashes. These will be **DROPPED**\n",
        "\n",
        "\n",
        "`GVWR`: Gross Vehicle Weight Rating (GVWR)\n",
        "\n",
        "`CARRIER_NAME`: This is the name of the company that owns the tractor/trailer\n",
        "\n",
        "`CARRIER_STATE`: This is the state where the carrier is registered\n",
        "\n",
        "`CARRIER_CITY`: This is the city where the carrier is located\n",
        "\n",
        "`HAZMAT_PLACARDS_I`: This is the hazmat warning on the tractor/trailer regarding the contents. When carrying certain types of content, carriers are mandated to have hazmat signs displayed.\n",
        "\n",
        "`HAZMAT_NAME`: This is the name of what kind of hazmat was being carried\n",
        "\n",
        "`UN_NO`: This is the 4 digit number thata identifies hazardouss equipment\n"
      ]
    },
    {
      "cell_type": "markdown",
      "id": "798e8a6c",
      "metadata": {
        "id": "798e8a6c",
        "papermill": {
          "duration": 0.116174,
          "end_time": "2023-04-22T07:20:24.804025",
          "exception": false,
          "start_time": "2023-04-22T07:20:24.687851",
          "status": "completed"
        },
        "tags": []
      },
      "source": [
        "The following information will be **DROPPED** because it is relevant to the hazmat reports involved in a traffic accident.\n",
        "\n",
        "`HAZMAT_PRESENT_I`, `HAZMAT_REPORT_I`, `HAZMAT_REPORT_NO`, `MCS_REPORT_I`, `MCS_REPORT_NO`, `HAZMAT_VIO_CAUSE_CRASH_I`, `MCS_VIO_CAUSE_CRASH_I`, `WIDE_LOAD_I`, and `IDOT_PERMIT_NO`"
      ]
    },
    {
      "cell_type": "markdown",
      "id": "3a94da2f",
      "metadata": {
        "id": "3a94da2f",
        "papermill": {
          "duration": 0.110733,
          "end_time": "2023-04-22T07:20:25.264386",
          "exception": false,
          "start_time": "2023-04-22T07:20:25.153653",
          "status": "completed"
        },
        "tags": []
      },
      "source": [
        "While the following colummns have interesting information to analyse about trailer lengths, it would be more useful to just use the `TOTAL_VEHICLE_LENGTH` column. Also, we can the `TRAILER2_LENGTH` column can be used to idenitfy whether there were more than one trailers or not. \n",
        "\n",
        "Therefore, `TRAILER1_WIDTH`, `TRAILER2_WIDTH`, and `TRAILER1_LENGTH` will be **Dropped**."
      ]
    },
    {
      "cell_type": "markdown",
      "id": "e379cdf3",
      "metadata": {
        "id": "e379cdf3",
        "papermill": {
          "duration": 0.112741,
          "end_time": "2023-04-22T07:20:25.492700",
          "exception": false,
          "start_time": "2023-04-22T07:20:25.379959",
          "status": "completed"
        },
        "tags": []
      },
      "source": [
        "`AXLE_CNT`: This will provide indication of what kind of a vehicle it is. There has to be some cleaning done on this dataset depending on the contents of this column. Lets invetigate this column."
      ]
    },
    {
      "cell_type": "code",
      "execution_count": 28,
      "id": "8e3812cb",
      "metadata": {
        "colab": {
          "base_uri": "https://localhost:8080/"
        },
        "execution": {
          "iopub.execute_input": "2023-04-22T07:20:25.723286Z",
          "iopub.status.busy": "2023-04-22T07:20:25.721464Z",
          "iopub.status.idle": "2023-04-22T07:20:25.740421Z",
          "shell.execute_reply": "2023-04-22T07:20:25.738474Z"
        },
        "id": "8e3812cb",
        "outputId": "2d8ee412-769d-4367-f8b4-26c8b9a9e1ea",
        "papermill": {
          "duration": 0.138106,
          "end_time": "2023-04-22T07:20:25.743606",
          "exception": false,
          "start_time": "2023-04-22T07:20:25.605500",
          "status": "completed"
        },
        "tags": []
      },
      "outputs": [
        {
          "data": {
            "text/plain": [
              "5.0        1150\n",
              "2.0        1119\n",
              "3.0         799\n",
              "6.0         238\n",
              "4.0         181\n",
              "1.0          48\n",
              "8.0          22\n",
              "7.0          13\n",
              "18.0         10\n",
              "16.0          4\n",
              "9.0           3\n",
              "10.0          2\n",
              "20.0          1\n",
              "53.0          1\n",
              "52.0          1\n",
              "77.0          1\n",
              "55.0          1\n",
              "12.0          1\n",
              "99.0          1\n",
              "26009.0       1\n",
              "Name: AXLE_CNT, dtype: int64"
            ]
          },
          "execution_count": 28,
          "metadata": {},
          "output_type": "execute_result"
        }
      ],
      "source": [
        "#check unique values\n",
        "vehicles_df['AXLE_CNT'].value_counts()"
      ]
    },
    {
      "cell_type": "markdown",
      "id": "d04c5313",
      "metadata": {
        "id": "d04c5313",
        "papermill": {
          "duration": 0.111073,
          "end_time": "2023-04-22T07:20:25.964636",
          "exception": false,
          "start_time": "2023-04-22T07:20:25.853563",
          "status": "completed"
        },
        "tags": []
      },
      "source": [
        "It is clear that there are a few typos here. Also, not all records have values for axlle count which will be dealt with later. Nonetheless, the `VEHICLE_CONFIG` column can provide more valuable information with regaaards to vehicl type for tractor/trailers therefore this column will be **DROPPED**"
      ]
    },
    {
      "cell_type": "markdown",
      "id": "c2b36939",
      "metadata": {
        "id": "c2b36939",
        "papermill": {
          "duration": 0.111969,
          "end_time": "2023-04-22T07:20:26.192465",
          "exception": false,
          "start_time": "2023-04-22T07:20:26.080496",
          "status": "completed"
        },
        "tags": []
      },
      "source": [
        "`VEHICLE_CONFIG`: This has data on the type of tractor/trailer which will be useful to understand the pattern of vehicle configurations and crashes. Lets take a quick look at the data."
      ]
    },
    {
      "cell_type": "code",
      "execution_count": 29,
      "id": "bede4e45",
      "metadata": {
        "colab": {
          "base_uri": "https://localhost:8080/"
        },
        "execution": {
          "iopub.execute_input": "2023-04-22T07:20:26.424846Z",
          "iopub.status.busy": "2023-04-22T07:20:26.423607Z",
          "iopub.status.idle": "2023-04-22T07:20:26.465992Z",
          "shell.execute_reply": "2023-04-22T07:20:26.464134Z"
        },
        "id": "bede4e45",
        "outputId": "a0307518-acc8-48b0-f56e-7fe73895403b",
        "papermill": {
          "duration": 0.16384,
          "end_time": "2023-04-22T07:20:26.469416",
          "exception": false,
          "start_time": "2023-04-22T07:20:26.305576",
          "status": "completed"
        },
        "tags": []
      },
      "outputs": [
        {
          "data": {
            "text/plain": [
              "TRACTOR/SEMI-TRAILER                   4241\n",
              "SINGLE UNIT TRUCK, 2 AXLES, 6 TIRES    2157\n",
              "BUS                                    1669\n",
              "TRUCK/TRACTOR                           877\n",
              "TRUCK/TRAILER                           715\n",
              "UNKNOWN HEAVY TRUCK                     608\n",
              "SINGLE UNIT TRUCK, 3 OR MORE AXLES      490\n",
              "TRACTOR/DOUBLES                          30\n",
              "Name: VEHICLE_CONFIG, dtype: int64"
            ]
          },
          "execution_count": 29,
          "metadata": {},
          "output_type": "execute_result"
        }
      ],
      "source": [
        "#check unique values\n",
        "vehicles_df['VEHICLE_CONFIG'].value_counts()"
      ]
    },
    {
      "cell_type": "markdown",
      "id": "4dbb77b1",
      "metadata": {
        "id": "4dbb77b1",
        "papermill": {
          "duration": 0.111798,
          "end_time": "2023-04-22T07:20:26.692789",
          "exception": false,
          "start_time": "2023-04-22T07:20:26.580991",
          "status": "completed"
        },
        "tags": []
      },
      "source": [
        "`CARGO_BODY_TYPE`: This is anothere type of vehicle description that would you useful iin understanding what kind of vocational vehicles are involved in crashes. Lets snvestigate the contents of this column."
      ]
    },
    {
      "cell_type": "code",
      "execution_count": 30,
      "id": "cfa9d77e",
      "metadata": {
        "colab": {
          "base_uri": "https://localhost:8080/"
        },
        "execution": {
          "iopub.execute_input": "2023-04-22T07:20:26.919153Z",
          "iopub.status.busy": "2023-04-22T07:20:26.918630Z",
          "iopub.status.idle": "2023-04-22T07:20:26.962035Z",
          "shell.execute_reply": "2023-04-22T07:20:26.960130Z"
        },
        "id": "cfa9d77e",
        "outputId": "4d3f7178-2a05-4679-a5a3-1c177bc23eb1",
        "papermill": {
          "duration": 0.16121,
          "end_time": "2023-04-22T07:20:26.965202",
          "exception": false,
          "start_time": "2023-04-22T07:20:26.803992",
          "status": "completed"
        },
        "tags": []
      },
      "outputs": [
        {
          "data": {
            "text/plain": [
              "VAN/ENCLOSED BOX    4554\n",
              "OTHER               2305\n",
              "BUS                 1608\n",
              "FLATBED              790\n",
              "DUMP                 371\n",
              "GARBAGE/REFUSE       299\n",
              "TANK                 207\n",
              "CONCRETE MIXER        97\n",
              "AUTO TRANSPORTER      91\n",
              "Name: CARGO_BODY_TYPE, dtype: int64"
            ]
          },
          "execution_count": 30,
          "metadata": {},
          "output_type": "execute_result"
        }
      ],
      "source": [
        "#check unique values\n",
        "vehicles_df['CARGO_BODY_TYPE'].value_counts()"
      ]
    },
    {
      "cell_type": "markdown",
      "id": "1b09543e",
      "metadata": {
        "id": "1b09543e",
        "papermill": {
          "duration": 0.115045,
          "end_time": "2023-04-22T07:20:27.193186",
          "exception": false,
          "start_time": "2023-04-22T07:20:27.078141",
          "status": "completed"
        },
        "tags": []
      },
      "source": [
        "`LOAD_TYE`: If cargo body type column is used, using Loaad Type will increase the level of graanularity. f our model isn't performing good enough, we can reconsider using more granular data. **DROP LOAD_TYPE COLUMN**"
      ]
    },
    {
      "cell_type": "code",
      "execution_count": 31,
      "id": "102c50da",
      "metadata": {
        "colab": {
          "base_uri": "https://localhost:8080/"
        },
        "execution": {
          "iopub.execute_input": "2023-04-22T07:20:27.429583Z",
          "iopub.status.busy": "2023-04-22T07:20:27.429148Z",
          "iopub.status.idle": "2023-04-22T07:20:27.471984Z",
          "shell.execute_reply": "2023-04-22T07:20:27.469666Z"
        },
        "id": "102c50da",
        "outputId": "0c69b02b-ac4c-45f6-8512-dfdef5aefc1c",
        "papermill": {
          "duration": 0.163199,
          "end_time": "2023-04-22T07:20:27.475633",
          "exception": false,
          "start_time": "2023-04-22T07:20:27.312434",
          "status": "completed"
        },
        "tags": []
      },
      "outputs": [
        {
          "data": {
            "text/plain": [
              "OTHER                     5418\n",
              "UNKNOWN                   3845\n",
              "CONSTRUCTION EQUIPMENT     349\n",
              "BUILDING MATERIALS         186\n",
              "STEEL COILS                 44\n",
              "FARM EQUIPMENT              18\n",
              "Name: LOAD_TYPE, dtype: int64"
            ]
          },
          "execution_count": 31,
          "metadata": {},
          "output_type": "execute_result"
        }
      ],
      "source": [
        "#check unique values\n",
        "vehicles_df['LOAD_TYPE'].value_counts()"
      ]
    },
    {
      "cell_type": "markdown",
      "id": "7059c613",
      "metadata": {
        "id": "7059c613"
      },
      "source": [
        "The following columns are more relevaant to Hazmats."
      ]
    },
    {
      "cell_type": "markdown",
      "id": "af947ea1",
      "metadata": {
        "id": "af947ea1",
        "papermill": {
          "duration": 0.187103,
          "end_time": "2023-04-22T07:20:27.776601",
          "exception": false,
          "start_time": "2023-04-22T07:20:27.589498",
          "status": "completed"
        },
        "tags": []
      },
      "source": [
        "`HAZMAT_OUT_OF_SERVICE_I`, `MCS_OUT_OF_SERVICE_I`, `HAZMAT_CLASS` **DROP**"
      ]
    },
    {
      "cell_type": "markdown",
      "id": "acc366f0",
      "metadata": {
        "id": "acc366f0",
        "papermill": {
          "duration": 0.113202,
          "end_time": "2023-04-22T07:20:28.004541",
          "exception": false,
          "start_time": "2023-04-22T07:20:27.891339",
          "status": "completed"
        },
        "tags": []
      },
      "source": [
        "**SUMMARY**"
      ]
    },
    {
      "cell_type": "markdown",
      "id": "4d5389ea",
      "metadata": {
        "id": "4d5389ea",
        "papermill": {
          "duration": 0.11093,
          "end_time": "2023-04-22T07:20:28.229826",
          "exception": false,
          "start_time": "2023-04-22T07:20:28.118896",
          "status": "completed"
        },
        "tags": []
      },
      "source": [
        "The following columns will be carried forward:\n",
        "\n",
        "    1. CRASH_RECORD_ID\n",
        "    2. VEHICLE_DEFECT\n",
        "    3. VEHICLE_TYPE\n",
        "    4. VEHICLE_USE\n",
        "    5. MANEUVER\n",
        "    6. OCCUPANT_CNT\n",
        "    7. FIRST_CONTACT_POINT\n",
        "    8. VEHICLE_CONFIG\n"
      ]
    },
    {
      "cell_type": "markdown",
      "id": "e0a90823",
      "metadata": {
        "id": "e0a90823",
        "papermill": {
          "duration": 0.149753,
          "end_time": "2023-04-22T07:20:28.500210",
          "exception": false,
          "start_time": "2023-04-22T07:20:28.350457",
          "status": "completed"
        },
        "tags": []
      },
      "source": [
        "### Traffic Crashes - People"
      ]
    },
    {
      "cell_type": "markdown",
      "id": "e53e88bd",
      "metadata": {
        "id": "e53e88bd",
        "papermill": {
          "duration": 0.115731,
          "end_time": "2023-04-22T07:20:28.725267",
          "exception": false,
          "start_time": "2023-04-22T07:20:28.609536",
          "status": "completed"
        },
        "tags": []
      },
      "source": [
        "This data contains information about people involved in a crash and if any injuries were sustained. This dataset should be used in combination with the traffic Crash and Vehicle dataset. Each record corresponds to an occupant in a vehicle listed in the Crash dataset. Some people involved in a crash may not have been an occupant in a motor vehicle, but may have been a pedestrian, bicyclist, or using another non-motor vehicle mode of transportation. Injuries reported are reported by the responding police officer. Fatalities that occur after the initial reports are typically updated in these records up to 30 days after the date of the crash. Person data can be linked with the Crash and Vehicle dataset using the “CRASH_RECORD_ID” field. A vehicle can have multiple occupants and hence have a one to many relationship between Vehicle and Person dataset. However, a pedestrian is a “unit” by itself and have a one to one relationship between the Vehicle and Person table."
      ]
    },
    {
      "cell_type": "code",
      "execution_count": 32,
      "id": "3d365261",
      "metadata": {
        "colab": {
          "base_uri": "https://localhost:8080/",
          "height": 439
        },
        "execution": {
          "iopub.execute_input": "2023-04-22T07:20:28.951320Z",
          "iopub.status.busy": "2023-04-22T07:20:28.950901Z",
          "iopub.status.idle": "2023-04-22T07:20:46.565986Z",
          "shell.execute_reply": "2023-04-22T07:20:46.563998Z"
        },
        "id": "3d365261",
        "outputId": "f9f444c3-2b15-4ee7-d66f-0355192c00df",
        "papermill": {
          "duration": 17.73221,
          "end_time": "2023-04-22T07:20:46.569212",
          "exception": false,
          "start_time": "2023-04-22T07:20:28.837002",
          "status": "completed"
        },
        "tags": []
      },
      "outputs": [
        {
          "name": "stderr",
          "output_type": "stream",
          "text": [
            "<ipython-input-32-904a295451e4>:2: DtypeWarning: Columns (20,29) have mixed types. Specify dtype option on import or set low_memory=False.\n",
            "  people_df = pd.read_csv('data/Traffic_Crashes-People.csv')\n"
          ]
        },
        {
          "data": {
            "text/html": [
              "\n",
              "  <div id=\"df-c9f3bbf9-ad88-4f15-85b0-1c9e2790f739\">\n",
              "    <div class=\"colab-df-container\">\n",
              "      <div>\n",
              "<style scoped>\n",
              "    .dataframe tbody tr th:only-of-type {\n",
              "        vertical-align: middle;\n",
              "    }\n",
              "\n",
              "    .dataframe tbody tr th {\n",
              "        vertical-align: top;\n",
              "    }\n",
              "\n",
              "    .dataframe thead th {\n",
              "        text-align: right;\n",
              "    }\n",
              "</style>\n",
              "<table border=\"1\" class=\"dataframe\">\n",
              "  <thead>\n",
              "    <tr style=\"text-align: right;\">\n",
              "      <th></th>\n",
              "      <th>PERSON_ID</th>\n",
              "      <th>PERSON_TYPE</th>\n",
              "      <th>CRASH_RECORD_ID</th>\n",
              "      <th>RD_NO</th>\n",
              "      <th>VEHICLE_ID</th>\n",
              "      <th>CRASH_DATE</th>\n",
              "      <th>SEAT_NO</th>\n",
              "      <th>CITY</th>\n",
              "      <th>STATE</th>\n",
              "      <th>ZIPCODE</th>\n",
              "      <th>...</th>\n",
              "      <th>EMS_RUN_NO</th>\n",
              "      <th>DRIVER_ACTION</th>\n",
              "      <th>DRIVER_VISION</th>\n",
              "      <th>PHYSICAL_CONDITION</th>\n",
              "      <th>PEDPEDAL_ACTION</th>\n",
              "      <th>PEDPEDAL_VISIBILITY</th>\n",
              "      <th>PEDPEDAL_LOCATION</th>\n",
              "      <th>BAC_RESULT</th>\n",
              "      <th>BAC_RESULT VALUE</th>\n",
              "      <th>CELL_PHONE_USE</th>\n",
              "    </tr>\n",
              "  </thead>\n",
              "  <tbody>\n",
              "    <tr>\n",
              "      <th>0</th>\n",
              "      <td>O749947</td>\n",
              "      <td>DRIVER</td>\n",
              "      <td>81dc0de2ed92aa62baccab641fa377be7feb1cc47e6554...</td>\n",
              "      <td>JC451435</td>\n",
              "      <td>834816.0</td>\n",
              "      <td>09/28/2019 03:30:00 AM</td>\n",
              "      <td>NaN</td>\n",
              "      <td>CHICAGO</td>\n",
              "      <td>IL</td>\n",
              "      <td>60651</td>\n",
              "      <td>...</td>\n",
              "      <td>NaN</td>\n",
              "      <td>UNKNOWN</td>\n",
              "      <td>UNKNOWN</td>\n",
              "      <td>UNKNOWN</td>\n",
              "      <td>NaN</td>\n",
              "      <td>NaN</td>\n",
              "      <td>NaN</td>\n",
              "      <td>TEST NOT OFFERED</td>\n",
              "      <td>NaN</td>\n",
              "      <td>NaN</td>\n",
              "    </tr>\n",
              "    <tr>\n",
              "      <th>1</th>\n",
              "      <td>O871921</td>\n",
              "      <td>DRIVER</td>\n",
              "      <td>af84fb5c8d996fcd3aefd36593c3a02e6e7509eeb27568...</td>\n",
              "      <td>JD208731</td>\n",
              "      <td>827212.0</td>\n",
              "      <td>04/13/2020 10:50:00 PM</td>\n",
              "      <td>NaN</td>\n",
              "      <td>CHICAGO</td>\n",
              "      <td>IL</td>\n",
              "      <td>60620</td>\n",
              "      <td>...</td>\n",
              "      <td>NaN</td>\n",
              "      <td>NONE</td>\n",
              "      <td>NOT OBSCURED</td>\n",
              "      <td>NORMAL</td>\n",
              "      <td>NaN</td>\n",
              "      <td>NaN</td>\n",
              "      <td>NaN</td>\n",
              "      <td>TEST NOT OFFERED</td>\n",
              "      <td>NaN</td>\n",
              "      <td>NaN</td>\n",
              "    </tr>\n",
              "    <tr>\n",
              "      <th>2</th>\n",
              "      <td>O10018</td>\n",
              "      <td>DRIVER</td>\n",
              "      <td>71162af7bf22799b776547132ebf134b5b438dcf3dac6b...</td>\n",
              "      <td>HY484534</td>\n",
              "      <td>9579.0</td>\n",
              "      <td>11/01/2015 05:00:00 AM</td>\n",
              "      <td>NaN</td>\n",
              "      <td>NaN</td>\n",
              "      <td>NaN</td>\n",
              "      <td>NaN</td>\n",
              "      <td>...</td>\n",
              "      <td>NaN</td>\n",
              "      <td>IMPROPER BACKING</td>\n",
              "      <td>UNKNOWN</td>\n",
              "      <td>UNKNOWN</td>\n",
              "      <td>NaN</td>\n",
              "      <td>NaN</td>\n",
              "      <td>NaN</td>\n",
              "      <td>TEST NOT OFFERED</td>\n",
              "      <td>NaN</td>\n",
              "      <td>NaN</td>\n",
              "    </tr>\n",
              "    <tr>\n",
              "      <th>3</th>\n",
              "      <td>O10038</td>\n",
              "      <td>DRIVER</td>\n",
              "      <td>c21c476e2ccc41af550b5d858d22aaac4ffc88745a1700...</td>\n",
              "      <td>HY484750</td>\n",
              "      <td>9598.0</td>\n",
              "      <td>11/01/2015 08:00:00 AM</td>\n",
              "      <td>NaN</td>\n",
              "      <td>NaN</td>\n",
              "      <td>NaN</td>\n",
              "      <td>NaN</td>\n",
              "      <td>...</td>\n",
              "      <td>NaN</td>\n",
              "      <td>UNKNOWN</td>\n",
              "      <td>UNKNOWN</td>\n",
              "      <td>UNKNOWN</td>\n",
              "      <td>NaN</td>\n",
              "      <td>NaN</td>\n",
              "      <td>NaN</td>\n",
              "      <td>TEST NOT OFFERED</td>\n",
              "      <td>NaN</td>\n",
              "      <td>NaN</td>\n",
              "    </tr>\n",
              "    <tr>\n",
              "      <th>4</th>\n",
              "      <td>O10039</td>\n",
              "      <td>DRIVER</td>\n",
              "      <td>eb390a4c8e114c69488f5fb8a097fe629f5a92fd528cf4...</td>\n",
              "      <td>HY484778</td>\n",
              "      <td>9600.0</td>\n",
              "      <td>11/01/2015 10:15:00 AM</td>\n",
              "      <td>NaN</td>\n",
              "      <td>NaN</td>\n",
              "      <td>NaN</td>\n",
              "      <td>NaN</td>\n",
              "      <td>...</td>\n",
              "      <td>NaN</td>\n",
              "      <td>UNKNOWN</td>\n",
              "      <td>UNKNOWN</td>\n",
              "      <td>UNKNOWN</td>\n",
              "      <td>NaN</td>\n",
              "      <td>NaN</td>\n",
              "      <td>NaN</td>\n",
              "      <td>TEST NOT OFFERED</td>\n",
              "      <td>NaN</td>\n",
              "      <td>NaN</td>\n",
              "    </tr>\n",
              "  </tbody>\n",
              "</table>\n",
              "<p>5 rows × 30 columns</p>\n",
              "</div>\n",
              "      <button class=\"colab-df-convert\" onclick=\"convertToInteractive('df-c9f3bbf9-ad88-4f15-85b0-1c9e2790f739')\"\n",
              "              title=\"Convert this dataframe to an interactive table.\"\n",
              "              style=\"display:none;\">\n",
              "        \n",
              "  <svg xmlns=\"http://www.w3.org/2000/svg\" height=\"24px\"viewBox=\"0 0 24 24\"\n",
              "       width=\"24px\">\n",
              "    <path d=\"M0 0h24v24H0V0z\" fill=\"none\"/>\n",
              "    <path d=\"M18.56 5.44l.94 2.06.94-2.06 2.06-.94-2.06-.94-.94-2.06-.94 2.06-2.06.94zm-11 1L8.5 8.5l.94-2.06 2.06-.94-2.06-.94L8.5 2.5l-.94 2.06-2.06.94zm10 10l.94 2.06.94-2.06 2.06-.94-2.06-.94-.94-2.06-.94 2.06-2.06.94z\"/><path d=\"M17.41 7.96l-1.37-1.37c-.4-.4-.92-.59-1.43-.59-.52 0-1.04.2-1.43.59L10.3 9.45l-7.72 7.72c-.78.78-.78 2.05 0 2.83L4 21.41c.39.39.9.59 1.41.59.51 0 1.02-.2 1.41-.59l7.78-7.78 2.81-2.81c.8-.78.8-2.07 0-2.86zM5.41 20L4 18.59l7.72-7.72 1.47 1.35L5.41 20z\"/>\n",
              "  </svg>\n",
              "      </button>\n",
              "      \n",
              "  <style>\n",
              "    .colab-df-container {\n",
              "      display:flex;\n",
              "      flex-wrap:wrap;\n",
              "      gap: 12px;\n",
              "    }\n",
              "\n",
              "    .colab-df-convert {\n",
              "      background-color: #E8F0FE;\n",
              "      border: none;\n",
              "      border-radius: 50%;\n",
              "      cursor: pointer;\n",
              "      display: none;\n",
              "      fill: #1967D2;\n",
              "      height: 32px;\n",
              "      padding: 0 0 0 0;\n",
              "      width: 32px;\n",
              "    }\n",
              "\n",
              "    .colab-df-convert:hover {\n",
              "      background-color: #E2EBFA;\n",
              "      box-shadow: 0px 1px 2px rgba(60, 64, 67, 0.3), 0px 1px 3px 1px rgba(60, 64, 67, 0.15);\n",
              "      fill: #174EA6;\n",
              "    }\n",
              "\n",
              "    [theme=dark] .colab-df-convert {\n",
              "      background-color: #3B4455;\n",
              "      fill: #D2E3FC;\n",
              "    }\n",
              "\n",
              "    [theme=dark] .colab-df-convert:hover {\n",
              "      background-color: #434B5C;\n",
              "      box-shadow: 0px 1px 3px 1px rgba(0, 0, 0, 0.15);\n",
              "      filter: drop-shadow(0px 1px 2px rgba(0, 0, 0, 0.3));\n",
              "      fill: #FFFFFF;\n",
              "    }\n",
              "  </style>\n",
              "\n",
              "      <script>\n",
              "        const buttonEl =\n",
              "          document.querySelector('#df-c9f3bbf9-ad88-4f15-85b0-1c9e2790f739 button.colab-df-convert');\n",
              "        buttonEl.style.display =\n",
              "          google.colab.kernel.accessAllowed ? 'block' : 'none';\n",
              "\n",
              "        async function convertToInteractive(key) {\n",
              "          const element = document.querySelector('#df-c9f3bbf9-ad88-4f15-85b0-1c9e2790f739');\n",
              "          const dataTable =\n",
              "            await google.colab.kernel.invokeFunction('convertToInteractive',\n",
              "                                                     [key], {});\n",
              "          if (!dataTable) return;\n",
              "\n",
              "          const docLinkHtml = 'Like what you see? Visit the ' +\n",
              "            '<a target=\"_blank\" href=https://colab.research.google.com/notebooks/data_table.ipynb>data table notebook</a>'\n",
              "            + ' to learn more about interactive tables.';\n",
              "          element.innerHTML = '';\n",
              "          dataTable['output_type'] = 'display_data';\n",
              "          await google.colab.output.renderOutput(dataTable, element);\n",
              "          const docLink = document.createElement('div');\n",
              "          docLink.innerHTML = docLinkHtml;\n",
              "          element.appendChild(docLink);\n",
              "        }\n",
              "      </script>\n",
              "    </div>\n",
              "  </div>\n",
              "  "
            ],
            "text/plain": [
              "  PERSON_ID PERSON_TYPE                                    CRASH_RECORD_ID  \\\n",
              "0   O749947      DRIVER  81dc0de2ed92aa62baccab641fa377be7feb1cc47e6554...   \n",
              "1   O871921      DRIVER  af84fb5c8d996fcd3aefd36593c3a02e6e7509eeb27568...   \n",
              "2    O10018      DRIVER  71162af7bf22799b776547132ebf134b5b438dcf3dac6b...   \n",
              "3    O10038      DRIVER  c21c476e2ccc41af550b5d858d22aaac4ffc88745a1700...   \n",
              "4    O10039      DRIVER  eb390a4c8e114c69488f5fb8a097fe629f5a92fd528cf4...   \n",
              "\n",
              "      RD_NO  VEHICLE_ID              CRASH_DATE  SEAT_NO     CITY STATE  \\\n",
              "0  JC451435    834816.0  09/28/2019 03:30:00 AM      NaN  CHICAGO    IL   \n",
              "1  JD208731    827212.0  04/13/2020 10:50:00 PM      NaN  CHICAGO    IL   \n",
              "2  HY484534      9579.0  11/01/2015 05:00:00 AM      NaN      NaN   NaN   \n",
              "3  HY484750      9598.0  11/01/2015 08:00:00 AM      NaN      NaN   NaN   \n",
              "4  HY484778      9600.0  11/01/2015 10:15:00 AM      NaN      NaN   NaN   \n",
              "\n",
              "  ZIPCODE  ... EMS_RUN_NO     DRIVER_ACTION DRIVER_VISION PHYSICAL_CONDITION  \\\n",
              "0   60651  ...        NaN           UNKNOWN       UNKNOWN            UNKNOWN   \n",
              "1   60620  ...        NaN              NONE  NOT OBSCURED             NORMAL   \n",
              "2     NaN  ...        NaN  IMPROPER BACKING       UNKNOWN            UNKNOWN   \n",
              "3     NaN  ...        NaN           UNKNOWN       UNKNOWN            UNKNOWN   \n",
              "4     NaN  ...        NaN           UNKNOWN       UNKNOWN            UNKNOWN   \n",
              "\n",
              "  PEDPEDAL_ACTION PEDPEDAL_VISIBILITY PEDPEDAL_LOCATION        BAC_RESULT  \\\n",
              "0             NaN                 NaN               NaN  TEST NOT OFFERED   \n",
              "1             NaN                 NaN               NaN  TEST NOT OFFERED   \n",
              "2             NaN                 NaN               NaN  TEST NOT OFFERED   \n",
              "3             NaN                 NaN               NaN  TEST NOT OFFERED   \n",
              "4             NaN                 NaN               NaN  TEST NOT OFFERED   \n",
              "\n",
              "  BAC_RESULT VALUE CELL_PHONE_USE  \n",
              "0              NaN            NaN  \n",
              "1              NaN            NaN  \n",
              "2              NaN            NaN  \n",
              "3              NaN            NaN  \n",
              "4              NaN            NaN  \n",
              "\n",
              "[5 rows x 30 columns]"
            ]
          },
          "execution_count": 32,
          "metadata": {},
          "output_type": "execute_result"
        }
      ],
      "source": [
        "#import the dataset using the API endpoint\n",
        "people_df = pd.read_csv('data/Traffic_Crashes-People.csv')\n",
        "\n",
        "#preview thee first 5 rows\n",
        "people_df.head()"
      ]
    },
    {
      "cell_type": "code",
      "execution_count": 33,
      "id": "36d5487d",
      "metadata": {
        "colab": {
          "base_uri": "https://localhost:8080/"
        },
        "execution": {
          "iopub.execute_input": "2023-04-22T07:20:46.807349Z",
          "iopub.status.busy": "2023-04-22T07:20:46.806786Z",
          "iopub.status.idle": "2023-04-22T07:20:48.606552Z",
          "shell.execute_reply": "2023-04-22T07:20:48.605370Z"
        },
        "id": "36d5487d",
        "outputId": "68782400-d405-451a-9958-71c14d00d9a6",
        "papermill": {
          "duration": 1.923568,
          "end_time": "2023-04-22T07:20:48.610652",
          "exception": false,
          "start_time": "2023-04-22T07:20:46.687084",
          "status": "completed"
        },
        "tags": []
      },
      "outputs": [
        {
          "name": "stdout",
          "output_type": "stream",
          "text": [
            "<class 'pandas.core.frame.DataFrame'>\n",
            "RangeIndex: 1255054 entries, 0 to 1255053\n",
            "Data columns (total 30 columns):\n",
            " #   Column                 Non-Null Count    Dtype  \n",
            "---  ------                 --------------    -----  \n",
            " 0   PERSON_ID              1255054 non-null  object \n",
            " 1   PERSON_TYPE            1255054 non-null  object \n",
            " 2   CRASH_RECORD_ID        1255054 non-null  object \n",
            " 3   RD_NO                  1255053 non-null  object \n",
            " 4   VEHICLE_ID             1228805 non-null  float64\n",
            " 5   CRASH_DATE             1255053 non-null  object \n",
            " 6   SEAT_NO                182079 non-null   float64\n",
            " 7   CITY                   930476 non-null   object \n",
            " 8   STATE                  934543 non-null   object \n",
            " 9   ZIPCODE                853873 non-null   object \n",
            " 10  SEX                    1240528 non-null  object \n",
            " 11  AGE                    902145 non-null   float64\n",
            " 12  DRIVERS_LICENSE_STATE  793315 non-null   object \n",
            " 13  DRIVERS_LICENSE_CLASS  677000 non-null   object \n",
            " 14  SAFETY_EQUIPMENT       1251269 non-null  object \n",
            " 15  AIRBAG_DEPLOYED        1229990 non-null  object \n",
            " 16  EJECTION               1238835 non-null  object \n",
            " 17  INJURY_CLASSIFICATION  1254561 non-null  object \n",
            " 18  HOSPITAL               216622 non-null   object \n",
            " 19  EMS_AGENCY             134470 non-null   object \n",
            " 20  EMS_RUN_NO             16154 non-null    object \n",
            " 21  DRIVER_ACTION          1070491 non-null  object \n",
            " 22  DRIVER_VISION          1070094 non-null  object \n",
            " 23  PHYSICAL_CONDITION     1071243 non-null  object \n",
            " 24  PEDPEDAL_ACTION        24761 non-null    object \n",
            " 25  PEDPEDAL_VISIBILITY    24708 non-null    object \n",
            " 26  PEDPEDAL_LOCATION      24758 non-null    object \n",
            " 27  BAC_RESULT             1071529 non-null  object \n",
            " 28  BAC_RESULT VALUE       1662 non-null     float64\n",
            " 29  CELL_PHONE_USE         1157 non-null     object \n",
            "dtypes: float64(4), object(26)\n",
            "memory usage: 287.3+ MB\n"
          ]
        }
      ],
      "source": [
        "people_df.info()"
      ]
    },
    {
      "cell_type": "markdown",
      "id": "b0c8d5d2",
      "metadata": {
        "id": "b0c8d5d2",
        "papermill": {
          "duration": 0.115095,
          "end_time": "2023-04-22T07:20:48.842883",
          "exception": false,
          "start_time": "2023-04-22T07:20:48.727788",
          "status": "completed"
        },
        "tags": []
      },
      "source": [
        "`PERSON_ID`: A unique identifier for each person record. IDs starting with P indicate passengers. IDs starting with O indicate a person who was not a passenger in the vehicle (e.g., driver, pedestrian, cyclist, etc.). Considering that the Person Type column gives us more detailed information, there won't be a need to keep this column.**DROP**"
      ]
    },
    {
      "cell_type": "markdown",
      "id": "8c82ff08",
      "metadata": {
        "id": "8c82ff08",
        "papermill": {
          "duration": 0.109991,
          "end_time": "2023-04-22T07:20:49.068166",
          "exception": false,
          "start_time": "2023-04-22T07:20:48.958175",
          "status": "completed"
        },
        "tags": []
      },
      "source": [
        "`PERSON_TYPE`: Type of roadway user involved in crash"
      ]
    },
    {
      "cell_type": "code",
      "execution_count": 34,
      "id": "ca6376ef",
      "metadata": {
        "colab": {
          "base_uri": "https://localhost:8080/"
        },
        "execution": {
          "iopub.execute_input": "2023-04-22T07:20:49.301981Z",
          "iopub.status.busy": "2023-04-22T07:20:49.301386Z",
          "iopub.status.idle": "2023-04-22T07:20:49.408927Z",
          "shell.execute_reply": "2023-04-22T07:20:49.407128Z"
        },
        "id": "ca6376ef",
        "outputId": "f1df074b-4e4c-479e-e092-abb50862dd34",
        "papermill": {
          "duration": 0.230167,
          "end_time": "2023-04-22T07:20:49.412151",
          "exception": false,
          "start_time": "2023-04-22T07:20:49.181984",
          "status": "completed"
        },
        "tags": []
      },
      "outputs": [
        {
          "data": {
            "text/plain": [
              "DRIVER                 1047219\n",
              "PASSENGER               182080\n",
              "PEDESTRIAN               15328\n",
              "BICYCLE                   9068\n",
              "NON-MOTOR VEHICLE         1118\n",
              "NON-CONTACT VEHICLE        241\n",
              "Name: PERSON_TYPE, dtype: int64"
            ]
          },
          "execution_count": 34,
          "metadata": {},
          "output_type": "execute_result"
        }
      ],
      "source": [
        "#check unique values\n",
        "people_df['PERSON_TYPE'].value_counts()"
      ]
    },
    {
      "cell_type": "markdown",
      "id": "e0718af4",
      "metadata": {
        "id": "e0718af4",
        "papermill": {
          "duration": 0.116008,
          "end_time": "2023-04-22T07:20:49.642121",
          "exception": false,
          "start_time": "2023-04-22T07:20:49.526113",
          "status": "completed"
        },
        "tags": []
      },
      "source": [
        "`CRASH_RECORD_ID`: This number can be used to link to the same crash in the Crashes and Vehicles datasets. This number also serves as a unique ID in the Crashes dataset. Hence, this will be important to keep for joining and comparing the datasets."
      ]
    },
    {
      "cell_type": "markdown",
      "id": "2c57dcd9",
      "metadata": {
        "id": "2c57dcd9",
        "papermill": {
          "duration": 0.11477,
          "end_time": "2023-04-22T07:20:49.874204",
          "exception": false,
          "start_time": "2023-04-22T07:20:49.759434",
          "status": "completed"
        },
        "tags": []
      },
      "source": [
        "`RD_NO`: Chicago Police Department report number. For privacy reasons, this column is blank for recent crashes. This is a column for record-keeping purposed. **DROP**"
      ]
    },
    {
      "cell_type": "markdown",
      "id": "df76ea91",
      "metadata": {
        "id": "df76ea91",
        "papermill": {
          "duration": 0.112467,
          "end_time": "2023-04-22T07:20:50.102867",
          "exception": false,
          "start_time": "2023-04-22T07:20:49.990400",
          "status": "completed"
        },
        "tags": []
      },
      "source": [
        "`VEHICLE_ID`: The corresponding CRASH_UNIT_ID from the Vehicles dataset. We will keep this incase we need t ogroup or reference any datsets."
      ]
    },
    {
      "cell_type": "markdown",
      "id": "e915cb41",
      "metadata": {
        "id": "e915cb41",
        "papermill": {
          "duration": 0.241525,
          "end_time": "2023-04-22T07:20:50.458524",
          "exception": false,
          "start_time": "2023-04-22T07:20:50.216999",
          "status": "completed"
        },
        "tags": []
      },
      "source": [
        "`CRASH_DATE`: Date and time of crash as entered by the reporting officer. **DROP**"
      ]
    },
    {
      "cell_type": "markdown",
      "id": "f1521525",
      "metadata": {
        "id": "f1521525",
        "papermill": {
          "duration": 0.118609,
          "end_time": "2023-04-22T07:20:50.691720",
          "exception": false,
          "start_time": "2023-04-22T07:20:50.573111",
          "status": "completed"
        },
        "tags": []
      },
      "source": [
        "`SEAT_NO`: Code for seating position of motor vehicle occupant: 1= driver, 2= center front, 3 = front passenger, 4 = second row left, 5 = second row center, 6 = second row right, 7 = enclosed passengers, 8 = exposed passengers, 9= unknown position, 10 = third row left, 11 = third row center, 12 = third row right."
      ]
    },
    {
      "cell_type": "code",
      "execution_count": 35,
      "id": "34151548",
      "metadata": {
        "colab": {
          "base_uri": "https://localhost:8080/"
        },
        "execution": {
          "iopub.execute_input": "2023-04-22T07:20:50.925664Z",
          "iopub.status.busy": "2023-04-22T07:20:50.924705Z",
          "iopub.status.idle": "2023-04-22T07:20:50.943819Z",
          "shell.execute_reply": "2023-04-22T07:20:50.942131Z"
        },
        "id": "34151548",
        "outputId": "a7018d2c-0d6a-48bc-e369-1701d510c7bd",
        "papermill": {
          "duration": 0.137504,
          "end_time": "2023-04-22T07:20:50.946716",
          "exception": false,
          "start_time": "2023-04-22T07:20:50.809212",
          "status": "completed"
        },
        "tags": []
      },
      "outputs": [
        {
          "data": {
            "text/plain": [
              "3.0     89326\n",
              "6.0     30295\n",
              "4.0     23906\n",
              "5.0      8503\n",
              "1.0      7913\n",
              "2.0      7642\n",
              "12.0     4769\n",
              "10.0     4110\n",
              "7.0      3839\n",
              "11.0     1599\n",
              "8.0       177\n",
              "Name: SEAT_NO, dtype: int64"
            ]
          },
          "execution_count": 35,
          "metadata": {},
          "output_type": "execute_result"
        }
      ],
      "source": [
        "#check unique values\n",
        "people_df['SEAT_NO'].value_counts()"
      ]
    },
    {
      "cell_type": "markdown",
      "id": "08778fa3",
      "metadata": {
        "id": "08778fa3",
        "papermill": {
          "duration": 0.117617,
          "end_time": "2023-04-22T07:20:51.178015",
          "exception": false,
          "start_time": "2023-04-22T07:20:51.060398",
          "status": "completed"
        },
        "tags": []
      },
      "source": [
        "There are missing values in thi column which can be subsituted with code *9* which is for the unkown position.\n",
        "\n",
        "The values also have to be converted to categories for data analysis later. Nonetheless, this doesn't help us identify the cause of thee crash in any way. It can be insightful for further granular operations to understand why certain people were injured or harmed more than others. It will **DROPPED**"
      ]
    },
    {
      "cell_type": "markdown",
      "id": "53548ed0",
      "metadata": {
        "id": "53548ed0",
        "papermill": {
          "duration": 0.117861,
          "end_time": "2023-04-22T07:20:51.415185",
          "exception": false,
          "start_time": "2023-04-22T07:20:51.297324",
          "status": "completed"
        },
        "tags": []
      },
      "source": [
        "`CITY`, `STATE`, `ZIPCODE`, `DRIVERS_LICENSE_STATE`, `DRIVERS_LICENSE_CLASS` are people specific information to aaa vehicle that won't help out **DROPPED**"
      ]
    },
    {
      "cell_type": "markdown",
      "id": "000caaaf",
      "metadata": {
        "id": "000caaaf",
        "papermill": {
          "duration": 0.117133,
          "end_time": "2023-04-22T07:20:51.646248",
          "exception": false,
          "start_time": "2023-04-22T07:20:51.529115",
          "status": "completed"
        },
        "tags": []
      },
      "source": [
        "`AGE` can be an imprtant factor to look at and might be linked to the cause of crashes. It can provide insights into if certain age groups are more involved in crashes. If this feature does turn out to be one of the top 10 features, then it can provide the DOT on how to focus it's training or awareness campaigns to fight Vision Zero program."
      ]
    },
    {
      "cell_type": "markdown",
      "id": "27e6f7d4",
      "metadata": {
        "id": "27e6f7d4",
        "papermill": {
          "duration": 0.119244,
          "end_time": "2023-04-22T07:20:51.881076",
          "exception": false,
          "start_time": "2023-04-22T07:20:51.761832",
          "status": "completed"
        },
        "tags": []
      },
      "source": [
        "`SAFETY_EQUIPMENT`: Safety equipment used by vehicle occupant in crash, if any. Very important information that can have a high correlation to injuries or faatalities."
      ]
    },
    {
      "cell_type": "code",
      "execution_count": 36,
      "id": "d2b58d72",
      "metadata": {
        "colab": {
          "base_uri": "https://localhost:8080/"
        },
        "execution": {
          "iopub.execute_input": "2023-04-22T07:20:52.110598Z",
          "iopub.status.busy": "2023-04-22T07:20:52.109283Z",
          "iopub.status.idle": "2023-04-22T07:20:52.223261Z",
          "shell.execute_reply": "2023-04-22T07:20:52.221354Z"
        },
        "id": "d2b58d72",
        "outputId": "5b06e2b6-a447-4267-b483-9f1ce852f6cc",
        "papermill": {
          "duration": 0.232942,
          "end_time": "2023-04-22T07:20:52.226336",
          "exception": false,
          "start_time": "2023-04-22T07:20:51.993394",
          "status": "completed"
        },
        "tags": []
      },
      "outputs": [
        {
          "data": {
            "text/plain": [
              "SAFETY BELT USED                              613452\n",
              "USAGE UNKNOWN                                 573511\n",
              "NONE PRESENT                                   38776\n",
              "SAFETY BELT NOT USED                            6519\n",
              "HELMET NOT USED                                 5313\n",
              "CHILD RESTRAINT USED                            3239\n",
              "CHILD RESTRAINT - FORWARD FACING                2467\n",
              "BICYCLE HELMET (PEDACYCLIST INVOLVED ONLY)      1958\n",
              "HELMET USED                                     1338\n",
              "CHILD RESTRAINT - TYPE UNKNOWN                  1247\n",
              "CHILD RESTRAINT - REAR FACING                   1183\n",
              "DOT COMPLIANT MOTORCYCLE HELMET                  752\n",
              "BOOSTER SEAT                                     655\n",
              "CHILD RESTRAINT NOT USED                         350\n",
              "SHOULD/LAP BELT USED IMPROPERLY                  143\n",
              "NOT DOT COMPLIANT MOTORCYCLE HELMET              143\n",
              "WHEELCHAIR                                       129\n",
              "CHILD RESTRAINT USED IMPROPERLY                   70\n",
              "STRETCHER                                         24\n",
              "Name: SAFETY_EQUIPMENT, dtype: int64"
            ]
          },
          "execution_count": 36,
          "metadata": {},
          "output_type": "execute_result"
        }
      ],
      "source": [
        "#check unique values\n",
        "people_df['SAFETY_EQUIPMENT'].value_counts()"
      ]
    },
    {
      "cell_type": "markdown",
      "id": "662161ea",
      "metadata": {
        "id": "662161ea",
        "papermill": {
          "duration": 0.115864,
          "end_time": "2023-04-22T07:20:52.685341",
          "exception": false,
          "start_time": "2023-04-22T07:20:52.569477",
          "status": "completed"
        },
        "tags": []
      },
      "source": [
        "`AIRBAG_DEPLOYED`: Whether vehicle occupant airbag deployed as result of crash. This doesn't play a paart in causing the crash **DROP**"
      ]
    },
    {
      "cell_type": "markdown",
      "id": "901adf48",
      "metadata": {
        "id": "901adf48",
        "papermill": {
          "duration": 0.114526,
          "end_time": "2023-04-22T07:20:52.916509",
          "exception": false,
          "start_time": "2023-04-22T07:20:52.801983",
          "status": "completed"
        },
        "tags": []
      },
      "source": [
        "`EJECTION`: Whether vehicle occupant was ejected or extricated from the vehicle as a result of crash **DROP**"
      ]
    },
    {
      "cell_type": "markdown",
      "id": "a34ab323",
      "metadata": {
        "id": "a34ab323",
        "papermill": {
          "duration": 0.117483,
          "end_time": "2023-04-22T07:20:53.153203",
          "exception": false,
          "start_time": "2023-04-22T07:20:53.035720",
          "status": "completed"
        },
        "tags": []
      },
      "source": [
        "`INJURY_CLASSIFICATION`: Severity of injury person sustained in the crash. This information can be used to understand which columns to keep since Vision Zero focuses on reducing injuries and fatalities."
      ]
    },
    {
      "cell_type": "code",
      "execution_count": 37,
      "id": "15dde998",
      "metadata": {
        "colab": {
          "base_uri": "https://localhost:8080/"
        },
        "execution": {
          "iopub.execute_input": "2023-04-22T07:20:53.395317Z",
          "iopub.status.busy": "2023-04-22T07:20:53.394361Z",
          "iopub.status.idle": "2023-04-22T07:20:53.504641Z",
          "shell.execute_reply": "2023-04-22T07:20:53.503003Z"
        },
        "id": "15dde998",
        "outputId": "e2c29262-dbd1-415a-a133-4909140e0521",
        "papermill": {
          "duration": 0.233343,
          "end_time": "2023-04-22T07:20:53.507636",
          "exception": false,
          "start_time": "2023-04-22T07:20:53.274293",
          "status": "completed"
        },
        "tags": []
      },
      "outputs": [
        {
          "data": {
            "text/plain": [
              "NO INDICATION OF INJURY     1152219\n",
              "NONINCAPACITATING INJURY      57857\n",
              "REPORTED, NOT EVIDENT         32533\n",
              "INCAPACITATING INJURY         11273\n",
              "FATAL                           679\n",
              "Name: INJURY_CLASSIFICATION, dtype: int64"
            ]
          },
          "execution_count": 37,
          "metadata": {},
          "output_type": "execute_result"
        }
      ],
      "source": [
        "#check unique values\n",
        "people_df['INJURY_CLASSIFICATION'].value_counts()"
      ]
    },
    {
      "cell_type": "markdown",
      "id": "26d31f4a",
      "metadata": {
        "id": "26d31f4a",
        "papermill": {
          "duration": 0.189578,
          "end_time": "2023-04-22T07:20:53.810839",
          "exception": false,
          "start_time": "2023-04-22T07:20:53.621261",
          "status": "completed"
        },
        "tags": []
      },
      "source": [
        "`HOSPITAL`, `EMS_AGENCY`, `EMS_RUN_NO` are specific recrd keeping columns that won't be useful**DROP**"
      ]
    },
    {
      "cell_type": "markdown",
      "id": "49cc9fc2",
      "metadata": {
        "id": "49cc9fc2",
        "papermill": {
          "duration": 0.116472,
          "end_time": "2023-04-22T07:20:54.038670",
          "exception": false,
          "start_time": "2023-04-22T07:20:53.922198",
          "status": "completed"
        },
        "tags": []
      },
      "source": [
        "`DRIVER_ACTION`: Driver action that contributed to the crash, as determined by reporting officer. This will be important in identifying the cause of the crashes."
      ]
    },
    {
      "cell_type": "code",
      "execution_count": 38,
      "id": "43a8fa13",
      "metadata": {
        "colab": {
          "base_uri": "https://localhost:8080/"
        },
        "execution": {
          "iopub.execute_input": "2023-04-22T07:20:54.272809Z",
          "iopub.status.busy": "2023-04-22T07:20:54.271873Z",
          "iopub.status.idle": "2023-04-22T07:20:54.371094Z",
          "shell.execute_reply": "2023-04-22T07:20:54.369394Z"
        },
        "id": "43a8fa13",
        "outputId": "26354135-2781-42ea-930c-ce778dc9a9b8",
        "papermill": {
          "duration": 0.219038,
          "end_time": "2023-04-22T07:20:54.374287",
          "exception": false,
          "start_time": "2023-04-22T07:20:54.155249",
          "status": "completed"
        },
        "tags": []
      },
      "outputs": [
        {
          "data": {
            "text/plain": [
              "NONE                                 387618\n",
              "UNKNOWN                              261042\n",
              "FAILED TO YIELD                       98036\n",
              "OTHER                                 93474\n",
              "FOLLOWED TOO CLOSELY                  67053\n",
              "IMPROPER BACKING                      33323\n",
              "IMPROPER TURN                         28115\n",
              "IMPROPER LANE CHANGE                  27808\n",
              "IMPROPER PASSING                      23691\n",
              "DISREGARDED CONTROL DEVICES           18302\n",
              "TOO FAST FOR CONDITIONS               17219\n",
              "WRONG WAY/SIDE                         4164\n",
              "IMPROPER PARKING                       4079\n",
              "EVADING POLICE VEHICLE                 1716\n",
              "CELL PHONE USE OTHER THAN TEXTING      1704\n",
              "OVERCORRECTED                          1515\n",
              "EMERGENCY VEHICLE ON CALL              1003\n",
              "TEXTING                                 458\n",
              "STOPPED SCHOOL BUS                      122\n",
              "LICENSE RESTRICTIONS                     49\n",
              "Name: DRIVER_ACTION, dtype: int64"
            ]
          },
          "execution_count": 38,
          "metadata": {},
          "output_type": "execute_result"
        }
      ],
      "source": [
        "#check unique values\n",
        "people_df['DRIVER_ACTION'].value_counts()"
      ]
    },
    {
      "cell_type": "markdown",
      "id": "e4676376",
      "metadata": {
        "id": "e4676376",
        "papermill": {
          "duration": 0.113096,
          "end_time": "2023-04-22T07:20:54.604019",
          "exception": false,
          "start_time": "2023-04-22T07:20:54.490923",
          "status": "completed"
        },
        "tags": []
      },
      "source": [
        "`DRIVER_VISION`: What, if any, objects obscured the driver’s vision at time of crash. This will be another importnt piece of information in identifying car crashes."
      ]
    },
    {
      "cell_type": "code",
      "execution_count": 39,
      "id": "a23dd44c",
      "metadata": {
        "colab": {
          "base_uri": "https://localhost:8080/"
        },
        "execution": {
          "iopub.execute_input": "2023-04-22T07:20:54.836215Z",
          "iopub.status.busy": "2023-04-22T07:20:54.835712Z",
          "iopub.status.idle": "2023-04-22T07:20:54.937016Z",
          "shell.execute_reply": "2023-04-22T07:20:54.935870Z"
        },
        "id": "a23dd44c",
        "outputId": "f483afcc-c01f-4010-ef5e-2e86738018b7",
        "papermill": {
          "duration": 0.221309,
          "end_time": "2023-04-22T07:20:54.940168",
          "exception": false,
          "start_time": "2023-04-22T07:20:54.718859",
          "status": "completed"
        },
        "tags": []
      },
      "outputs": [
        {
          "data": {
            "text/plain": [
              "NOT OBSCURED              567292\n",
              "UNKNOWN                   475480\n",
              "OTHER                      11129\n",
              "MOVING VEHICLES             6472\n",
              "PARKED VEHICLES             3968\n",
              "WINDSHIELD (WATER/ICE)      3215\n",
              "BLINDED - SUNLIGHT          1272\n",
              "TREES, PLANTS                489\n",
              "BUILDINGS                    407\n",
              "BLINDED - HEADLIGHTS         103\n",
              "HILLCREST                     87\n",
              "BLOWING MATERIALS             82\n",
              "EMBANKMENT                    70\n",
              "SIGNBOARD                     28\n",
              "Name: DRIVER_VISION, dtype: int64"
            ]
          },
          "execution_count": 39,
          "metadata": {},
          "output_type": "execute_result"
        }
      ],
      "source": [
        "#check unique values\n",
        "people_df['DRIVER_VISION'].value_counts()"
      ]
    },
    {
      "cell_type": "markdown",
      "id": "9ecb0603",
      "metadata": {
        "id": "9ecb0603",
        "papermill": {
          "duration": 0.115997,
          "end_time": "2023-04-22T07:20:55.171664",
          "exception": false,
          "start_time": "2023-04-22T07:20:55.055667",
          "status": "completed"
        },
        "tags": []
      },
      "source": [
        "`PHYSICAL_CONDITION`: Driver’s apparent physical condition at time of crash, as observed by the reporting officer"
      ]
    },
    {
      "cell_type": "code",
      "execution_count": 40,
      "id": "a9cb9907",
      "metadata": {
        "colab": {
          "base_uri": "https://localhost:8080/"
        },
        "execution": {
          "iopub.execute_input": "2023-04-22T07:20:55.410970Z",
          "iopub.status.busy": "2023-04-22T07:20:55.410057Z",
          "iopub.status.idle": "2023-04-22T07:20:55.503539Z",
          "shell.execute_reply": "2023-04-22T07:20:55.501865Z"
        },
        "id": "a9cb9907",
        "outputId": "cf713932-f08e-43f5-8a9c-7f02a7635bee",
        "papermill": {
          "duration": 0.220045,
          "end_time": "2023-04-22T07:20:55.506701",
          "exception": false,
          "start_time": "2023-04-22T07:20:55.286656",
          "status": "completed"
        },
        "tags": []
      },
      "outputs": [
        {
          "data": {
            "text/plain": [
              "NORMAL                          710499\n",
              "UNKNOWN                         340510\n",
              "IMPAIRED - ALCOHOL                5005\n",
              "REMOVED BY EMS                    4034\n",
              "OTHER                             3114\n",
              "FATIGUED/ASLEEP                   2867\n",
              "EMOTIONAL                         2377\n",
              "ILLNESS/FAINTED                    999\n",
              "HAD BEEN DRINKING                  842\n",
              "IMPAIRED - DRUGS                   599\n",
              "IMPAIRED - ALCOHOL AND DRUGS       264\n",
              "MEDICATED                          133\n",
              "Name: PHYSICAL_CONDITION, dtype: int64"
            ]
          },
          "execution_count": 40,
          "metadata": {},
          "output_type": "execute_result"
        }
      ],
      "source": [
        "#check unique values\n",
        "people_df['PHYSICAL_CONDITION'].value_counts()"
      ]
    },
    {
      "cell_type": "markdown",
      "id": "3e61e856",
      "metadata": {
        "id": "3e61e856",
        "papermill": {
          "duration": 0.114535,
          "end_time": "2023-04-22T07:20:55.733950",
          "exception": false,
          "start_time": "2023-04-22T07:20:55.619415",
          "status": "completed"
        },
        "tags": []
      },
      "source": [
        "This column provides valuable information on whether the driver was in a state to drive or not. Add missing values to unknown categories. Bin different categories together."
      ]
    },
    {
      "cell_type": "markdown",
      "id": "db9a547d",
      "metadata": {
        "id": "db9a547d",
        "papermill": {
          "duration": 0.110491,
          "end_time": "2023-04-22T07:20:55.959358",
          "exception": false,
          "start_time": "2023-04-22T07:20:55.848867",
          "status": "completed"
        },
        "tags": []
      },
      "source": [
        "`PEDPEDAL_ACTION`: Action of pedestrian or cyclist at the time of crash"
      ]
    },
    {
      "cell_type": "code",
      "execution_count": 41,
      "id": "fc969615",
      "metadata": {
        "colab": {
          "base_uri": "https://localhost:8080/"
        },
        "execution": {
          "iopub.execute_input": "2023-04-22T07:20:56.188437Z",
          "iopub.status.busy": "2023-04-22T07:20:56.187164Z",
          "iopub.status.idle": "2023-04-22T07:20:56.233115Z",
          "shell.execute_reply": "2023-04-22T07:20:56.231477Z"
        },
        "id": "fc969615",
        "outputId": "ca466818-b2dc-4a50-e8e3-476fb5df36fb",
        "papermill": {
          "duration": 0.16478,
          "end_time": "2023-04-22T07:20:56.236224",
          "exception": false,
          "start_time": "2023-04-22T07:20:56.071444",
          "status": "completed"
        },
        "tags": []
      },
      "outputs": [
        {
          "data": {
            "text/plain": [
              "CROSSING - WITH SIGNAL                               5059\n",
              "WITH TRAFFIC                                         3882\n",
              "UNKNOWN/NA                                           3246\n",
              "OTHER ACTION                                         3103\n",
              "CROSSING - NO CONTROLS (NOT AT INTERSECTION)         1330\n",
              "NO ACTION                                            1295\n",
              "CROSSING - AGAINST SIGNAL                            1215\n",
              "CROSSING - NO CONTROLS (AT INTERSECTION)             1135\n",
              "NOT AT INTERSECTION                                   954\n",
              "AGAINST TRAFFIC                                       784\n",
              "CROSSING - CONTROLS PRESENT (NOT AT INTERSECTION)     657\n",
              "STANDING IN ROADWAY                                   591\n",
              "TURNING LEFT                                          323\n",
              "PARKED VEHICLE                                        283\n",
              "ENTER FROM DRIVE/ALLEY                                247\n",
              "WORKING IN ROADWAY                                    170\n",
              "INTOXICATED PED/PEDAL                                 168\n",
              "TURNING RIGHT                                         160\n",
              "PLAYING IN ROADWAY                                    100\n",
              "TO/FROM DISABLED VEHICLE                               18\n",
              "PLAYING/WORKING ON VEHICLE                             16\n",
              "SCHOOL BUS (WITHIN 50 FT.)                             15\n",
              "WAITING FOR SCHOOL BUS                                 10\n",
              "Name: PEDPEDAL_ACTION, dtype: int64"
            ]
          },
          "execution_count": 41,
          "metadata": {},
          "output_type": "execute_result"
        }
      ],
      "source": [
        "#check unique values\n",
        "people_df['PEDPEDAL_ACTION'].value_counts()"
      ]
    },
    {
      "cell_type": "markdown",
      "id": "89560d6b",
      "metadata": {
        "id": "89560d6b",
        "papermill": {
          "duration": 0.111063,
          "end_time": "2023-04-22T07:20:56.463060",
          "exception": false,
          "start_time": "2023-04-22T07:20:56.351997",
          "status": "completed"
        },
        "tags": []
      },
      "source": [
        "Group together multiple categories"
      ]
    },
    {
      "cell_type": "markdown",
      "id": "a37539ba",
      "metadata": {
        "id": "a37539ba",
        "papermill": {
          "duration": 0.110121,
          "end_time": "2023-04-22T07:20:56.685174",
          "exception": false,
          "start_time": "2023-04-22T07:20:56.575053",
          "status": "completed"
        },
        "tags": []
      },
      "source": [
        "`PEDPEDAL_VISIBILITY`: Visibility of pedestrian of cyclist safety equipment in use at time of crash"
      ]
    },
    {
      "cell_type": "code",
      "execution_count": 42,
      "id": "c99d8379",
      "metadata": {
        "colab": {
          "base_uri": "https://localhost:8080/"
        },
        "execution": {
          "iopub.execute_input": "2023-04-22T07:20:56.928004Z",
          "iopub.status.busy": "2023-04-22T07:20:56.927114Z",
          "iopub.status.idle": "2023-04-22T07:20:56.971891Z",
          "shell.execute_reply": "2023-04-22T07:20:56.970153Z"
        },
        "id": "c99d8379",
        "outputId": "a3226ba0-a8ac-4592-ffb4-2082c913a291",
        "papermill": {
          "duration": 0.172655,
          "end_time": "2023-04-22T07:20:56.975226",
          "exception": false,
          "start_time": "2023-04-22T07:20:56.802571",
          "status": "completed"
        },
        "tags": []
      },
      "outputs": [
        {
          "data": {
            "text/plain": [
              "NO CONTRASTING CLOTHING    19405\n",
              "CONTRASTING CLOTHING        3308\n",
              "OTHER LIGHT SOURCE USED     1376\n",
              "REFLECTIVE MATERIAL          619\n",
              "Name: PEDPEDAL_VISIBILITY, dtype: int64"
            ]
          },
          "execution_count": 42,
          "metadata": {},
          "output_type": "execute_result"
        }
      ],
      "source": [
        "#check unique values\n",
        "people_df['PEDPEDAL_VISIBILITY'].value_counts()"
      ]
    },
    {
      "cell_type": "markdown",
      "id": "8a0f9375",
      "metadata": {
        "id": "8a0f9375",
        "papermill": {
          "duration": 0.192352,
          "end_time": "2023-04-22T07:20:57.282011",
          "exception": false,
          "start_time": "2023-04-22T07:20:57.089659",
          "status": "completed"
        },
        "tags": []
      },
      "source": [
        "`PEDPEDAL_LOCATION`: Location of pedestrian or cyclist at the time of crash"
      ]
    },
    {
      "cell_type": "code",
      "execution_count": 43,
      "id": "5829ec46",
      "metadata": {
        "colab": {
          "base_uri": "https://localhost:8080/"
        },
        "execution": {
          "iopub.execute_input": "2023-04-22T07:20:57.514337Z",
          "iopub.status.busy": "2023-04-22T07:20:57.513880Z",
          "iopub.status.idle": "2023-04-22T07:20:57.559946Z",
          "shell.execute_reply": "2023-04-22T07:20:57.558079Z"
        },
        "id": "5829ec46",
        "outputId": "fa4cebfa-a38c-4890-f6a9-99497a42efc4",
        "papermill": {
          "duration": 0.16534,
          "end_time": "2023-04-22T07:20:57.563390",
          "exception": false,
          "start_time": "2023-04-22T07:20:57.398050",
          "status": "completed"
        },
        "tags": []
      },
      "outputs": [
        {
          "data": {
            "text/plain": [
              "IN ROADWAY         11268\n",
              "IN CROSSWALK        8153\n",
              "UNKNOWN/NA          2045\n",
              "NOT IN ROADWAY      1122\n",
              "BIKEWAY             1106\n",
              "BIKE LANE            588\n",
              "DRIVEWAY ACCESS      366\n",
              "SHOULDER             110\n",
              "Name: PEDPEDAL_LOCATION, dtype: int64"
            ]
          },
          "execution_count": 43,
          "metadata": {},
          "output_type": "execute_result"
        }
      ],
      "source": [
        "#check unique values\n",
        "people_df['PEDPEDAL_LOCATION'].value_counts()"
      ]
    },
    {
      "cell_type": "markdown",
      "id": "26b3f8db",
      "metadata": {
        "id": "26b3f8db",
        "papermill": {
          "duration": 0.116281,
          "end_time": "2023-04-22T07:20:57.791487",
          "exception": false,
          "start_time": "2023-04-22T07:20:57.675206",
          "status": "completed"
        },
        "tags": []
      },
      "source": [
        "`BAC_RESULT`: Status of blood alcohol concentration testing for driver or other person involved in crash"
      ]
    },
    {
      "cell_type": "code",
      "execution_count": 44,
      "id": "01cd447c",
      "metadata": {
        "colab": {
          "base_uri": "https://localhost:8080/"
        },
        "execution": {
          "iopub.execute_input": "2023-04-22T07:20:58.024269Z",
          "iopub.status.busy": "2023-04-22T07:20:58.023839Z",
          "iopub.status.idle": "2023-04-22T07:20:58.120042Z",
          "shell.execute_reply": "2023-04-22T07:20:58.118377Z"
        },
        "id": "01cd447c",
        "outputId": "8c52eb16-1f74-4454-979a-4dd266a72046",
        "papermill": {
          "duration": 0.215562,
          "end_time": "2023-04-22T07:20:58.122714",
          "exception": false,
          "start_time": "2023-04-22T07:20:57.907152",
          "status": "completed"
        },
        "tags": []
      },
      "outputs": [
        {
          "data": {
            "text/plain": [
              "TEST NOT OFFERED                   1055233\n",
              "TEST REFUSED                         11586\n",
              "TEST PERFORMED, RESULTS UNKNOWN       2667\n",
              "TEST TAKEN                            2043\n",
              "Name: BAC_RESULT, dtype: int64"
            ]
          },
          "execution_count": 44,
          "metadata": {},
          "output_type": "execute_result"
        }
      ],
      "source": [
        "#check unique values\n",
        "people_df['BAC_RESULT'].value_counts()"
      ]
    },
    {
      "cell_type": "markdown",
      "id": "916293f9",
      "metadata": {
        "id": "916293f9",
        "papermill": {
          "duration": 0.118064,
          "end_time": "2023-04-22T07:20:58.358335",
          "exception": false,
          "start_time": "2023-04-22T07:20:58.240271",
          "status": "completed"
        },
        "tags": []
      },
      "source": [
        "Since this column seems more like record-keeping whereas the results value if more valluble. **DROP**"
      ]
    },
    {
      "cell_type": "markdown",
      "id": "59ee35c9",
      "metadata": {
        "id": "59ee35c9",
        "papermill": {
          "duration": 0.116903,
          "end_time": "2023-04-22T07:20:58.588358",
          "exception": false,
          "start_time": "2023-04-22T07:20:58.471455",
          "status": "completed"
        },
        "tags": []
      },
      "source": [
        "`BAC_RESULT VALUE`: Driver’s blood alcohol concentration test result (fatal crashes may include pedestrian or cyclist results)"
      ]
    },
    {
      "cell_type": "code",
      "execution_count": 45,
      "id": "203ac4ac",
      "metadata": {
        "colab": {
          "base_uri": "https://localhost:8080/"
        },
        "execution": {
          "iopub.execute_input": "2023-04-22T07:20:58.820598Z",
          "iopub.status.busy": "2023-04-22T07:20:58.820091Z",
          "iopub.status.idle": "2023-04-22T07:20:58.839510Z",
          "shell.execute_reply": "2023-04-22T07:20:58.837248Z"
        },
        "id": "203ac4ac",
        "outputId": "662ce5cc-9178-438d-f630-f2ced68eab94",
        "papermill": {
          "duration": 0.14056,
          "end_time": "2023-04-22T07:20:58.843166",
          "exception": false,
          "start_time": "2023-04-22T07:20:58.702606",
          "status": "completed"
        },
        "tags": []
      },
      "outputs": [
        {
          "data": {
            "text/plain": [
              "0.00    160\n",
              "0.18    117\n",
              "0.17    117\n",
              "0.21    103\n",
              "0.14     92\n",
              "0.20     87\n",
              "0.16     80\n",
              "0.15     77\n",
              "0.19     76\n",
              "0.22     70\n",
              "0.23     67\n",
              "0.12     63\n",
              "0.13     60\n",
              "0.11     59\n",
              "0.24     50\n",
              "0.26     35\n",
              "0.27     32\n",
              "0.10     30\n",
              "0.09     30\n",
              "0.25     30\n",
              "0.28     26\n",
              "0.08     17\n",
              "0.03     16\n",
              "0.07     16\n",
              "0.29     16\n",
              "0.30     16\n",
              "0.04     15\n",
              "0.33     14\n",
              "0.05     10\n",
              "0.32      9\n",
              "0.31      8\n",
              "0.06      8\n",
              "0.02      7\n",
              "0.35      7\n",
              "0.38      6\n",
              "0.34      4\n",
              "0.36      4\n",
              "0.01      3\n",
              "0.39      3\n",
              "0.44      2\n",
              "0.88      2\n",
              "0.45      2\n",
              "0.60      2\n",
              "0.79      2\n",
              "1.00      2\n",
              "0.85      1\n",
              "0.37      1\n",
              "0.67      1\n",
              "0.58      1\n",
              "0.80      1\n",
              "0.95      1\n",
              "0.41      1\n",
              "0.99      1\n",
              "0.47      1\n",
              "0.40      1\n",
              "Name: BAC_RESULT VALUE, dtype: int64"
            ]
          },
          "execution_count": 45,
          "metadata": {},
          "output_type": "execute_result"
        }
      ],
      "source": [
        "#check unique values\n",
        "people_df['BAC_RESULT VALUE'].value_counts()"
      ]
    },
    {
      "cell_type": "markdown",
      "id": "07343cd0",
      "metadata": {
        "id": "07343cd0",
        "papermill": {
          "duration": 0.118746,
          "end_time": "2023-04-22T07:20:59.081934",
          "exception": false,
          "start_time": "2023-04-22T07:20:58.963188",
          "status": "completed"
        },
        "tags": []
      },
      "source": [
        "`CELL_PHONE_USE`: Whether person was/was not using cellphone at the time of the crash, as determined by the reporting officer"
      ]
    },
    {
      "cell_type": "code",
      "execution_count": 46,
      "id": "e3653cc6",
      "metadata": {
        "colab": {
          "base_uri": "https://localhost:8080/"
        },
        "execution": {
          "iopub.execute_input": "2023-04-22T07:20:59.316643Z",
          "iopub.status.busy": "2023-04-22T07:20:59.316157Z",
          "iopub.status.idle": "2023-04-22T07:20:59.361252Z",
          "shell.execute_reply": "2023-04-22T07:20:59.360169Z"
        },
        "id": "e3653cc6",
        "outputId": "03a97afb-bb31-416d-8ce1-b52ade2db255",
        "papermill": {
          "duration": 0.165416,
          "end_time": "2023-04-22T07:20:59.364209",
          "exception": false,
          "start_time": "2023-04-22T07:20:59.198793",
          "status": "completed"
        },
        "tags": []
      },
      "outputs": [
        {
          "data": {
            "text/plain": [
              "Y    752\n",
              "N    405\n",
              "Name: CELL_PHONE_USE, dtype: int64"
            ]
          },
          "execution_count": 46,
          "metadata": {},
          "output_type": "execute_result"
        }
      ],
      "source": [
        "#check unique values\n",
        "people_df['CELL_PHONE_USE'].value_counts()"
      ]
    },
    {
      "cell_type": "markdown",
      "id": "7f068c33",
      "metadata": {
        "id": "7f068c33",
        "papermill": {
          "duration": 0.115465,
          "end_time": "2023-04-22T07:20:59.598750",
          "exception": false,
          "start_time": "2023-04-22T07:20:59.483285",
          "status": "completed"
        },
        "tags": []
      },
      "source": [
        "**SUMMARY**"
      ]
    },
    {
      "cell_type": "markdown",
      "id": "9a88dc00",
      "metadata": {
        "id": "9a88dc00",
        "papermill": {
          "duration": 0.116526,
          "end_time": "2023-04-22T07:20:59.834795",
          "exception": false,
          "start_time": "2023-04-22T07:20:59.718269",
          "status": "completed"
        },
        "tags": []
      },
      "source": [
        "Columns to keep:\n",
        "\n",
        "    1. PERSON_TYPE\n",
        "    2. CRASH_RECORD_ID\n",
        "    3. VEHICLE_ID\n",
        "    4. AGE\n",
        "    5. SAFETY_EQUIPMENT\n",
        "    6. INJURY_CLASSIFICATION\n",
        "    7. DRIVER_ACTION\n",
        "    8. DRIVER_VISION\n",
        "    9. PHYSICAL_CONDITION\n",
        "    10. PEDPEDAL_ACTION\n",
        "    11. BAC_RESULT VALUE\n"
      ]
    },
    {
      "cell_type": "markdown",
      "id": "64b6362b",
      "metadata": {
        "id": "64b6362b",
        "papermill": {
          "duration": 0.187815,
          "end_time": "2023-04-22T07:21:00.602850",
          "exception": false,
          "start_time": "2023-04-22T07:21:00.415035",
          "status": "completed"
        },
        "tags": []
      },
      "source": [
        "### Data Limitations"
      ]
    },
    {
      "cell_type": "markdown",
      "id": "29e3c6df",
      "metadata": {
        "id": "29e3c6df",
        "papermill": {
          "duration": 0.11771,
          "end_time": "2023-04-22T07:21:00.836060",
          "exception": false,
          "start_time": "2023-04-22T07:21:00.718350",
          "status": "completed"
        },
        "tags": []
      },
      "source": [
        "There are several Data limitations that we have to keep in mind with regards to these dataset.\n",
        "\n",
        "    1. Only using CPD data, there might be data missing that is not reported to the CPD\n",
        "    2. Interstate highways, freeway ramps, and on local roads along the City boundary, are excluded from this dataset\n",
        "    3. Around half of the data is self reported and may have bias in them, missing or incorrect information\n",
        "    4. There's no data on the traffic volume, congestion level, or the speed the vehiclees were moving at\n",
        "    5. There are large imbalancces in the dataset and some columns have a lot of missing values. Later on during cleaning and processing, there has to be an assumption that the report created was accurate and there were no glaring detailss overlooked like Intersections, Work Zones, etc.\n",
        "    6. The data has to be binned together to reduce the granularity of the dataset which can impact the data\n",
        "    7. The large imbalances would require either getting rid of a large number of records or creating a lot of ssynthetic data for oversampling\n",
        "    8. A lot of the primary and ssecondary causes are overlapping information. There is no set standard that clearly biifurcates the different categories of car crashes which can cause the precision of reults st go down."
      ]
    },
    {
      "cell_type": "markdown",
      "id": "22943234",
      "metadata": {
        "id": "22943234",
        "papermill": {
          "duration": 0.113871,
          "end_time": "2023-04-22T07:21:02.036404",
          "exception": false,
          "start_time": "2023-04-22T07:21:01.922533",
          "status": "completed"
        },
        "tags": []
      },
      "source": [
        "## Data Preparation"
      ]
    },
    {
      "cell_type": "markdown",
      "id": "a0d33fd5",
      "metadata": {
        "id": "a0d33fd5",
        "papermill": {
          "duration": 0.11542,
          "end_time": "2023-04-22T07:21:02.856717",
          "exception": false,
          "start_time": "2023-04-22T07:21:02.741297",
          "status": "completed"
        },
        "tags": []
      },
      "source": [
        "### Crashes-Crashes"
      ]
    },
    {
      "cell_type": "markdown",
      "id": "46e55565",
      "metadata": {
        "id": "46e55565"
      },
      "source": [
        "First filter out the column that will be proceeded with."
      ]
    },
    {
      "cell_type": "code",
      "execution_count": 47,
      "id": "ad2b12e6",
      "metadata": {
        "execution": {
          "iopub.execute_input": "2023-04-22T07:21:02.273498Z",
          "iopub.status.busy": "2023-04-22T07:21:02.272625Z",
          "iopub.status.idle": "2023-04-22T07:21:02.381813Z",
          "shell.execute_reply": "2023-04-22T07:21:02.379921Z"
        },
        "id": "ad2b12e6",
        "papermill": {
          "duration": 0.233739,
          "end_time": "2023-04-22T07:21:02.385902",
          "exception": false,
          "start_time": "2023-04-22T07:21:02.152163",
          "status": "completed"
        },
        "tags": []
      },
      "outputs": [],
      "source": [
        "#Select the columns that need to be kept\n",
        "cln_crashes = crashes_df[['CRASH_RECORD_ID',\n",
        "'CRASH_DATE',\n",
        "'POSTED_SPEED_LIMIT',\n",
        "'DEVICE_CONDITION',\n",
        "'WEATHER_CONDITION',\n",
        "'LIGHTING_CONDITION',\n",
        "'CRASH_TYPE',\n",
        "'INTERSECTION_RELATED_I',\n",
        "'ROAD_DEFECT',\n",
        "'PRIM_CONTRIBUTORY_CAUSE',\n",
        "'SEC_CONTRIBUTORY_CAUSE',\n",
        "'NUM_UNITS',\n",
        "'WORK_ZONE_I',\n",
        "'WORKERS_PRESENT_I',\n",
        "'INJURIES_TOTAL',\n",
        "'INJURIES_FATAL',\n",
        "'CRASH_HOUR',\n",
        "'CRASH_DAY_OF_WEEK',\n",
        "'CRASH_MONTH',\n",
        "'LATITUDE',\n",
        "'LONGITUDE']]"
      ]
    },
    {
      "cell_type": "markdown",
      "id": "a4b8d787",
      "metadata": {
        "id": "a4b8d787"
      },
      "source": [
        "Lets takae a look at the summary of the daataframe to understand null vlues and other characteristics"
      ]
    },
    {
      "cell_type": "code",
      "execution_count": 48,
      "id": "5f78c57b",
      "metadata": {
        "colab": {
          "base_uri": "https://localhost:8080/"
        },
        "execution": {
          "iopub.execute_input": "2023-04-22T07:21:03.089615Z",
          "iopub.status.busy": "2023-04-22T07:21:03.088772Z",
          "iopub.status.idle": "2023-04-22T07:21:03.521595Z",
          "shell.execute_reply": "2023-04-22T07:21:03.519309Z"
        },
        "id": "5f78c57b",
        "outputId": "1e12688a-19b7-4d80-d8b8-ae01f0c8c643",
        "papermill": {
          "duration": 0.552972,
          "end_time": "2023-04-22T07:21:03.524987",
          "exception": false,
          "start_time": "2023-04-22T07:21:02.972015",
          "status": "completed"
        },
        "tags": []
      },
      "outputs": [
        {
          "name": "stdout",
          "output_type": "stream",
          "text": [
            "<class 'pandas.core.frame.DataFrame'>\n",
            "RangeIndex: 692784 entries, 0 to 692783\n",
            "Data columns (total 21 columns):\n",
            " #   Column                   Non-Null Count   Dtype  \n",
            "---  ------                   --------------   -----  \n",
            " 0   CRASH_RECORD_ID          692784 non-null  object \n",
            " 1   CRASH_DATE               692784 non-null  object \n",
            " 2   POSTED_SPEED_LIMIT       692784 non-null  int64  \n",
            " 3   DEVICE_CONDITION         692784 non-null  object \n",
            " 4   WEATHER_CONDITION        692784 non-null  object \n",
            " 5   LIGHTING_CONDITION       692784 non-null  object \n",
            " 6   CRASH_TYPE               692784 non-null  object \n",
            " 7   INTERSECTION_RELATED_I   158797 non-null  object \n",
            " 8   ROAD_DEFECT              692784 non-null  object \n",
            " 9   PRIM_CONTRIBUTORY_CAUSE  692784 non-null  object \n",
            " 10  SEC_CONTRIBUTORY_CAUSE   692784 non-null  object \n",
            " 11  NUM_UNITS                692784 non-null  int64  \n",
            " 12  WORK_ZONE_I              4046 non-null    object \n",
            " 13  WORKERS_PRESENT_I        1048 non-null    object \n",
            " 14  INJURIES_TOTAL           691292 non-null  float64\n",
            " 15  INJURIES_FATAL           691292 non-null  float64\n",
            " 16  CRASH_HOUR               692784 non-null  int64  \n",
            " 17  CRASH_DAY_OF_WEEK        692784 non-null  int64  \n",
            " 18  CRASH_MONTH              692784 non-null  int64  \n",
            " 19  LATITUDE                 688378 non-null  float64\n",
            " 20  LONGITUDE                688378 non-null  float64\n",
            "dtypes: float64(4), int64(5), object(12)\n",
            "memory usage: 111.0+ MB\n"
          ]
        }
      ],
      "source": [
        "cln_crashes.info()"
      ]
    },
    {
      "cell_type": "markdown",
      "id": "e32069ef",
      "metadata": {
        "id": "e32069ef"
      },
      "source": [
        "There are 7 columns with missing values with 3 columns having a significantly high number than the rest. Lets go through one by one and fix these."
      ]
    },
    {
      "cell_type": "code",
      "execution_count": 49,
      "id": "fefa2251",
      "metadata": {
        "colab": {
          "base_uri": "https://localhost:8080/"
        },
        "execution": {
          "iopub.execute_input": "2023-04-22T07:21:03.759374Z",
          "iopub.status.busy": "2023-04-22T07:21:03.758909Z",
          "iopub.status.idle": "2023-04-22T07:21:03.786024Z",
          "shell.execute_reply": "2023-04-22T07:21:03.784440Z"
        },
        "id": "fefa2251",
        "outputId": "4a62d544-a3c1-4b41-e4f3-3bd389059274",
        "papermill": {
          "duration": 0.149633,
          "end_time": "2023-04-22T07:21:03.788809",
          "exception": false,
          "start_time": "2023-04-22T07:21:03.639176",
          "status": "completed"
        },
        "tags": []
      },
      "outputs": [
        {
          "data": {
            "text/plain": [
              "Y    3170\n",
              "N     876\n",
              "Name: WORK_ZONE_I, dtype: int64"
            ]
          },
          "execution_count": 49,
          "metadata": {},
          "output_type": "execute_result"
        }
      ],
      "source": [
        "#Indentify the value counts\n",
        "cln_crashes['WORK_ZONE_I'].value_counts()"
      ]
    },
    {
      "cell_type": "code",
      "execution_count": 50,
      "id": "5531d34b",
      "metadata": {
        "colab": {
          "base_uri": "https://localhost:8080/"
        },
        "execution": {
          "iopub.execute_input": "2023-04-22T07:21:04.030616Z",
          "iopub.status.busy": "2023-04-22T07:21:04.029457Z",
          "iopub.status.idle": "2023-04-22T07:21:04.056160Z",
          "shell.execute_reply": "2023-04-22T07:21:04.054293Z"
        },
        "id": "5531d34b",
        "outputId": "f7423fb4-90ac-495b-dc68-760edd341d44",
        "papermill": {
          "duration": 0.151112,
          "end_time": "2023-04-22T07:21:04.059826",
          "exception": false,
          "start_time": "2023-04-22T07:21:03.908714",
          "status": "completed"
        },
        "tags": []
      },
      "outputs": [
        {
          "data": {
            "text/plain": [
              "Y    932\n",
              "N    116\n",
              "Name: WORKERS_PRESENT_I, dtype: int64"
            ]
          },
          "execution_count": 50,
          "metadata": {},
          "output_type": "execute_result"
        }
      ],
      "source": [
        "cln_crashes['WORKERS_PRESENT_I'].value_counts()"
      ]
    },
    {
      "cell_type": "markdown",
      "id": "3bdd2c54",
      "metadata": {
        "id": "3bdd2c54"
      },
      "source": [
        "Both of these columns arae indicators in the form of Yes or No. We are going to assume that if a crash happens in a work zone with workers present, it would be aa significant thing to note. Relying on the thoroughness of the responding officer, we will replace the missing values with No. This is an assumption that a responding officer will easilly notice aa work site and note it down considering that work sites are significantly big landmarks."
      ]
    },
    {
      "cell_type": "code",
      "execution_count": 51,
      "id": "bb9a2cdd",
      "metadata": {
        "colab": {
          "base_uri": "https://localhost:8080/"
        },
        "execution": {
          "iopub.execute_input": "2023-04-22T07:21:05.721911Z",
          "iopub.status.busy": "2023-04-22T07:21:05.720483Z",
          "iopub.status.idle": "2023-04-22T07:21:05.752463Z",
          "shell.execute_reply": "2023-04-22T07:21:05.750992Z"
        },
        "id": "bb9a2cdd",
        "outputId": "a7f6791c-0a37-4491-c443-9ca5f8c1ecf2",
        "papermill": {
          "duration": 0.152096,
          "end_time": "2023-04-22T07:21:05.756026",
          "exception": false,
          "start_time": "2023-04-22T07:21:05.603930",
          "status": "completed"
        },
        "tags": []
      },
      "outputs": [
        {
          "name": "stderr",
          "output_type": "stream",
          "text": [
            "<ipython-input-51-cb695187d75f>:2: SettingWithCopyWarning: \n",
            "A value is trying to be set on a copy of a slice from a DataFrame\n",
            "\n",
            "See the caveats in the documentation: https://pandas.pydata.org/pandas-docs/stable/user_guide/indexing.html#returning-a-view-versus-a-copy\n",
            "  cln_crashes['WORK_ZONE_I'].fillna('N',inplace=True)\n",
            "<ipython-input-51-cb695187d75f>:3: SettingWithCopyWarning: \n",
            "A value is trying to be set on a copy of a slice from a DataFrame\n",
            "\n",
            "See the caveats in the documentation: https://pandas.pydata.org/pandas-docs/stable/user_guide/indexing.html#returning-a-view-versus-a-copy\n",
            "  cln_crashes['WORKERS_PRESENT_I'].fillna('N',inplace=True)\n"
          ]
        }
      ],
      "source": [
        "#replace thee Null values with N to indicate No\n",
        "cln_crashes['WORK_ZONE_I'].fillna('N',inplace=True)\n",
        "cln_crashes['WORKERS_PRESENT_I'].fillna('N',inplace=True)"
      ]
    },
    {
      "cell_type": "markdown",
      "id": "c7786a09",
      "metadata": {
        "id": "c7786a09"
      },
      "source": [
        "Lets check the value counts after replacing the missing values"
      ]
    },
    {
      "cell_type": "code",
      "execution_count": 52,
      "id": "4d78910e",
      "metadata": {
        "colab": {
          "base_uri": "https://localhost:8080/"
        },
        "execution": {
          "iopub.execute_input": "2023-04-22T07:21:06.022260Z",
          "iopub.status.busy": "2023-04-22T07:21:06.020984Z",
          "iopub.status.idle": "2023-04-22T07:21:06.041521Z",
          "shell.execute_reply": "2023-04-22T07:21:06.040198Z"
        },
        "id": "4d78910e",
        "outputId": "71541b89-ebcb-4751-9cb9-d0d742c0ac1d",
        "papermill": {
          "duration": 0.174042,
          "end_time": "2023-04-22T07:21:06.045221",
          "exception": false,
          "start_time": "2023-04-22T07:21:05.871179",
          "status": "completed"
        },
        "scrolled": false,
        "tags": []
      },
      "outputs": [
        {
          "data": {
            "text/plain": [
              "N    689614\n",
              "Y      3170\n",
              "Name: WORK_ZONE_I, dtype: int64"
            ]
          },
          "execution_count": 52,
          "metadata": {},
          "output_type": "execute_result"
        }
      ],
      "source": [
        "cln_crashes['WORK_ZONE_I'].value_counts()"
      ]
    },
    {
      "cell_type": "code",
      "execution_count": 53,
      "id": "6ae56382",
      "metadata": {
        "colab": {
          "base_uri": "https://localhost:8080/"
        },
        "execution": {
          "iopub.execute_input": "2023-04-22T07:21:06.341432Z",
          "iopub.status.busy": "2023-04-22T07:21:06.339988Z",
          "iopub.status.idle": "2023-04-22T07:21:06.369579Z",
          "shell.execute_reply": "2023-04-22T07:21:06.367655Z"
        },
        "id": "6ae56382",
        "outputId": "ca0563e6-1893-4d46-f839-cf56846d60b8",
        "papermill": {
          "duration": 0.167401,
          "end_time": "2023-04-22T07:21:06.372917",
          "exception": false,
          "start_time": "2023-04-22T07:21:06.205516",
          "status": "completed"
        },
        "tags": []
      },
      "outputs": [
        {
          "data": {
            "text/plain": [
              "N    691852\n",
              "Y       932\n",
              "Name: WORKERS_PRESENT_I, dtype: int64"
            ]
          },
          "execution_count": 53,
          "metadata": {},
          "output_type": "execute_result"
        }
      ],
      "source": [
        "cln_crashes['WORKERS_PRESENT_I'].value_counts()"
      ]
    },
    {
      "cell_type": "markdown",
      "id": "5dc29529",
      "metadata": {
        "id": "5dc29529"
      },
      "source": [
        "Similarly, for intersection related events, the assumption is going to be that it is a significant thing to miss. Intersections are very clear landmarks which are difficult to miss. The missing values will be replaced by No"
      ]
    },
    {
      "cell_type": "code",
      "execution_count": 54,
      "id": "a46823b3",
      "metadata": {
        "colab": {
          "base_uri": "https://localhost:8080/"
        },
        "execution": {
          "iopub.execute_input": "2023-04-22T07:21:05.201200Z",
          "iopub.status.busy": "2023-04-22T07:21:05.199678Z",
          "iopub.status.idle": "2023-04-22T07:21:05.220287Z",
          "shell.execute_reply": "2023-04-22T07:21:05.218592Z"
        },
        "id": "a46823b3",
        "outputId": "10af5312-cf74-4344-94e5-3a643f67d024",
        "papermill": {
          "duration": 0.141646,
          "end_time": "2023-04-22T07:21:05.223435",
          "exception": false,
          "start_time": "2023-04-22T07:21:05.081789",
          "status": "completed"
        },
        "scrolled": true,
        "tags": []
      },
      "outputs": [
        {
          "name": "stderr",
          "output_type": "stream",
          "text": [
            "<ipython-input-54-d6473f561668>:2: SettingWithCopyWarning: \n",
            "A value is trying to be set on a copy of a slice from a DataFrame\n",
            "\n",
            "See the caveats in the documentation: https://pandas.pydata.org/pandas-docs/stable/user_guide/indexing.html#returning-a-view-versus-a-copy\n",
            "  cln_crashes['INTERSECTION_RELATED_I'].fillna('N',inplace=True)\n"
          ]
        }
      ],
      "source": [
        "#replace Null values with N\n",
        "cln_crashes['INTERSECTION_RELATED_I'].fillna('N',inplace=True)"
      ]
    },
    {
      "cell_type": "code",
      "execution_count": 55,
      "id": "8f91cb69",
      "metadata": {
        "colab": {
          "base_uri": "https://localhost:8080/"
        },
        "execution": {
          "iopub.execute_input": "2023-04-22T07:21:05.464583Z",
          "iopub.status.busy": "2023-04-22T07:21:05.463655Z",
          "iopub.status.idle": "2023-04-22T07:21:05.484173Z",
          "shell.execute_reply": "2023-04-22T07:21:05.482512Z"
        },
        "id": "8f91cb69",
        "outputId": "da42dff0-0dbd-435a-aaa1-5dc45063629b",
        "papermill": {
          "duration": 0.144818,
          "end_time": "2023-04-22T07:21:05.487182",
          "exception": false,
          "start_time": "2023-04-22T07:21:05.342364",
          "status": "completed"
        },
        "tags": []
      },
      "outputs": [
        {
          "data": {
            "text/plain": [
              "N    541388\n",
              "Y    151396\n",
              "Name: INTERSECTION_RELATED_I, dtype: int64"
            ]
          },
          "execution_count": 55,
          "metadata": {},
          "output_type": "execute_result"
        }
      ],
      "source": [
        "cln_crashes['INTERSECTION_RELATED_I'].value_counts()"
      ]
    },
    {
      "cell_type": "markdown",
      "id": "5971ea37",
      "metadata": {
        "id": "5971ea37"
      },
      "source": [
        "Before dealing with the other 4 columns that have a small percentage of records with missing values, lets filter out the crash type to see if we automatically drop the missing records. \n",
        "\n",
        "Since the goal is to recognise car crash causes that can help with Vision Zero, we will only use the crashes where there was an injury or fatality. \n",
        "\n",
        "\n",
        "Therefore the next step will be to filter out the crashes according to crash types."
      ]
    },
    {
      "cell_type": "code",
      "execution_count": 56,
      "id": "0cdbe7ce",
      "metadata": {
        "colab": {
          "base_uri": "https://localhost:8080/"
        },
        "execution": {
          "iopub.execute_input": "2023-04-22T07:21:04.373714Z",
          "iopub.status.busy": "2023-04-22T07:21:04.373270Z",
          "iopub.status.idle": "2023-04-22T07:21:04.428500Z",
          "shell.execute_reply": "2023-04-22T07:21:04.427121Z"
        },
        "id": "0cdbe7ce",
        "outputId": "5bb1ce2f-d15c-4479-aa2d-1d9da701f502",
        "papermill": {
          "duration": 0.252981,
          "end_time": "2023-04-22T07:21:04.431851",
          "exception": false,
          "start_time": "2023-04-22T07:21:04.178870",
          "status": "completed"
        },
        "scrolled": true,
        "tags": []
      },
      "outputs": [
        {
          "data": {
            "text/plain": [
              "NO INJURY / DRIVE AWAY              510406\n",
              "INJURY AND / OR TOW DUE TO CRASH    182378\n",
              "Name: CRASH_TYPE, dtype: int64"
            ]
          },
          "execution_count": 56,
          "metadata": {},
          "output_type": "execute_result"
        }
      ],
      "source": [
        "#investigate the different values in crash type\n",
        "cln_crashes['CRASH_TYPE'].value_counts()"
      ]
    },
    {
      "cell_type": "code",
      "execution_count": 57,
      "id": "5af1608f",
      "metadata": {
        "colab": {
          "base_uri": "https://localhost:8080/"
        },
        "execution": {
          "iopub.execute_input": "2023-04-22T07:21:04.670038Z",
          "iopub.status.busy": "2023-04-22T07:21:04.669060Z",
          "iopub.status.idle": "2023-04-22T07:21:04.958629Z",
          "shell.execute_reply": "2023-04-22T07:21:04.955369Z"
        },
        "id": "5af1608f",
        "outputId": "09d0671b-f55f-46d3-ccee-f22a9c524a00",
        "papermill": {
          "duration": 0.411839,
          "end_time": "2023-04-22T07:21:04.962065",
          "exception": false,
          "start_time": "2023-04-22T07:21:04.550226",
          "status": "completed"
        },
        "tags": []
      },
      "outputs": [
        {
          "name": "stdout",
          "output_type": "stream",
          "text": [
            "<class 'pandas.core.frame.DataFrame'>\n",
            "Int64Index: 182378 entries, 0 to 692777\n",
            "Data columns (total 21 columns):\n",
            " #   Column                   Non-Null Count   Dtype  \n",
            "---  ------                   --------------   -----  \n",
            " 0   CRASH_RECORD_ID          182378 non-null  object \n",
            " 1   CRASH_DATE               182378 non-null  object \n",
            " 2   POSTED_SPEED_LIMIT       182378 non-null  int64  \n",
            " 3   DEVICE_CONDITION         182378 non-null  object \n",
            " 4   WEATHER_CONDITION        182378 non-null  object \n",
            " 5   LIGHTING_CONDITION       182378 non-null  object \n",
            " 6   CRASH_TYPE               182378 non-null  object \n",
            " 7   INTERSECTION_RELATED_I   182378 non-null  object \n",
            " 8   ROAD_DEFECT              182378 non-null  object \n",
            " 9   PRIM_CONTRIBUTORY_CAUSE  182378 non-null  object \n",
            " 10  SEC_CONTRIBUTORY_CAUSE   182378 non-null  object \n",
            " 11  NUM_UNITS                182378 non-null  int64  \n",
            " 12  WORK_ZONE_I              182378 non-null  object \n",
            " 13  WORKERS_PRESENT_I        182378 non-null  object \n",
            " 14  INJURIES_TOTAL           181739 non-null  float64\n",
            " 15  INJURIES_FATAL           181739 non-null  float64\n",
            " 16  CRASH_HOUR               182378 non-null  int64  \n",
            " 17  CRASH_DAY_OF_WEEK        182378 non-null  int64  \n",
            " 18  CRASH_MONTH              182378 non-null  int64  \n",
            " 19  LATITUDE                 181319 non-null  float64\n",
            " 20  LONGITUDE                181319 non-null  float64\n",
            "dtypes: float64(4), int64(5), object(12)\n",
            "memory usage: 30.6+ MB\n"
          ]
        }
      ],
      "source": [
        "#filter out records for injury related events\n",
        "cln_crashes = cln_crashes[cln_crashes['CRASH_TYPE'] == 'INJURY AND / OR TOW DUE TO CRASH']\n",
        "\n",
        "#look at the new summaary for the dataframe\n",
        "cln_crashes.info()"
      ]
    },
    {
      "cell_type": "markdown",
      "id": "2ea54eb1",
      "metadata": {
        "id": "2ea54eb1"
      },
      "source": [
        "Looks like there are still columns with missing values. Compared to the total number of records, the number of records that these columns aree missing is significantly very small. With that consdieration, it would be better to drop tee records with missing values."
      ]
    },
    {
      "cell_type": "code",
      "execution_count": 58,
      "id": "4e30360d",
      "metadata": {
        "execution": {
          "iopub.execute_input": "2023-04-22T07:21:07.055521Z",
          "iopub.status.busy": "2023-04-22T07:21:07.053858Z",
          "iopub.status.idle": "2023-04-22T07:21:07.258673Z",
          "shell.execute_reply": "2023-04-22T07:21:07.256989Z"
        },
        "id": "4e30360d",
        "papermill": {
          "duration": 0.335799,
          "end_time": "2023-04-22T07:21:07.262078",
          "exception": false,
          "start_time": "2023-04-22T07:21:06.926279",
          "status": "completed"
        },
        "tags": []
      },
      "outputs": [],
      "source": [
        "#drop records with missing values\n",
        "cln_crashes.dropna(inplace=True)"
      ]
    },
    {
      "cell_type": "code",
      "execution_count": 59,
      "id": "a290a6a6",
      "metadata": {
        "colab": {
          "base_uri": "https://localhost:8080/"
        },
        "execution": {
          "iopub.execute_input": "2023-04-22T07:21:06.634606Z",
          "iopub.status.busy": "2023-04-22T07:21:06.633531Z",
          "iopub.status.idle": "2023-04-22T07:21:06.793830Z",
          "shell.execute_reply": "2023-04-22T07:21:06.792181Z"
        },
        "id": "a290a6a6",
        "outputId": "ecd2d3fc-3caa-4539-a7ca-b503b0e61f7e",
        "papermill": {
          "duration": 0.288521,
          "end_time": "2023-04-22T07:21:06.798578",
          "exception": false,
          "start_time": "2023-04-22T07:21:06.510057",
          "status": "completed"
        },
        "tags": []
      },
      "outputs": [
        {
          "name": "stdout",
          "output_type": "stream",
          "text": [
            "<class 'pandas.core.frame.DataFrame'>\n",
            "Int64Index: 180681 entries, 0 to 692777\n",
            "Data columns (total 21 columns):\n",
            " #   Column                   Non-Null Count   Dtype  \n",
            "---  ------                   --------------   -----  \n",
            " 0   CRASH_RECORD_ID          180681 non-null  object \n",
            " 1   CRASH_DATE               180681 non-null  object \n",
            " 2   POSTED_SPEED_LIMIT       180681 non-null  int64  \n",
            " 3   DEVICE_CONDITION         180681 non-null  object \n",
            " 4   WEATHER_CONDITION        180681 non-null  object \n",
            " 5   LIGHTING_CONDITION       180681 non-null  object \n",
            " 6   CRASH_TYPE               180681 non-null  object \n",
            " 7   INTERSECTION_RELATED_I   180681 non-null  object \n",
            " 8   ROAD_DEFECT              180681 non-null  object \n",
            " 9   PRIM_CONTRIBUTORY_CAUSE  180681 non-null  object \n",
            " 10  SEC_CONTRIBUTORY_CAUSE   180681 non-null  object \n",
            " 11  NUM_UNITS                180681 non-null  int64  \n",
            " 12  WORK_ZONE_I              180681 non-null  object \n",
            " 13  WORKERS_PRESENT_I        180681 non-null  object \n",
            " 14  INJURIES_TOTAL           180681 non-null  float64\n",
            " 15  INJURIES_FATAL           180681 non-null  float64\n",
            " 16  CRASH_HOUR               180681 non-null  int64  \n",
            " 17  CRASH_DAY_OF_WEEK        180681 non-null  int64  \n",
            " 18  CRASH_MONTH              180681 non-null  int64  \n",
            " 19  LATITUDE                 180681 non-null  float64\n",
            " 20  LONGITUDE                180681 non-null  float64\n",
            "dtypes: float64(4), int64(5), object(12)\n",
            "memory usage: 30.3+ MB\n"
          ]
        }
      ],
      "source": [
        "#investigate the summarry\n",
        "cln_crashes.info()"
      ]
    },
    {
      "cell_type": "markdown",
      "id": "eab1e094",
      "metadata": {
        "id": "eab1e094"
      },
      "source": [
        "Next, lets break up the Crash Date column to extract the year since we already have the hour, month, and daay of the week in separate columns."
      ]
    },
    {
      "cell_type": "code",
      "execution_count": 60,
      "id": "1d87957b",
      "metadata": {
        "colab": {
          "base_uri": "https://localhost:8080/"
        },
        "id": "1d87957b",
        "outputId": "5e6e6548-18b6-45a9-81ec-6ef1caef66fc"
      },
      "outputs": [
        {
          "data": {
            "text/plain": [
              "0         03/25/2019 02:43:00 PM\n",
              "11        07/15/2020 11:45:00 AM\n",
              "14        07/15/2022 04:10:00 PM\n",
              "18        07/15/2022 09:00:00 PM\n",
              "21        06/21/2019 02:37:00 PM\n",
              "                   ...          \n",
              "692765    11/23/2022 05:58:00 PM\n",
              "692767    11/24/2022 05:27:00 AM\n",
              "692771    11/22/2022 08:00:00 PM\n",
              "692776    11/24/2022 01:10:00 AM\n",
              "692777    11/22/2022 04:30:00 PM\n",
              "Name: CRASH_DATE, Length: 180681, dtype: object"
            ]
          },
          "execution_count": 60,
          "metadata": {},
          "output_type": "execute_result"
        }
      ],
      "source": [
        "#investigate the current values\n",
        "cln_crashes['CRASH_DATE']"
      ]
    },
    {
      "cell_type": "markdown",
      "id": "d0c09a2b",
      "metadata": {
        "id": "d0c09a2b"
      },
      "source": [
        "Looks like these are strings. They have to be converted to datetime for extraction"
      ]
    },
    {
      "cell_type": "code",
      "execution_count": 61,
      "id": "d0b33ffb",
      "metadata": {
        "execution": {
          "iopub.execute_input": "2023-04-22T07:21:07.906494Z",
          "iopub.status.busy": "2023-04-22T07:21:07.905623Z",
          "iopub.status.idle": "2023-04-22T07:21:10.482458Z",
          "shell.execute_reply": "2023-04-22T07:21:10.480581Z"
        },
        "id": "d0b33ffb",
        "papermill": {
          "duration": 2.697882,
          "end_time": "2023-04-22T07:21:10.485799",
          "exception": false,
          "start_time": "2023-04-22T07:21:07.787917",
          "status": "completed"
        },
        "tags": []
      },
      "outputs": [],
      "source": [
        "#convert the data type to Datetime\n",
        "cln_crashes['CRASH_DATE'] = cln_crashes['CRASH_DATE'].map(\n",
        "                            lambda x: dt.datetime.strptime(x, '%m/%d/%Y %H:%M:%S %p'))"
      ]
    },
    {
      "cell_type": "code",
      "execution_count": 62,
      "id": "850c0413",
      "metadata": {
        "colab": {
          "base_uri": "https://localhost:8080/"
        },
        "execution": {
          "iopub.execute_input": "2023-04-22T07:21:10.800856Z",
          "iopub.status.busy": "2023-04-22T07:21:10.799699Z",
          "iopub.status.idle": "2023-04-22T07:21:10.814449Z",
          "shell.execute_reply": "2023-04-22T07:21:10.812537Z"
        },
        "id": "850c0413",
        "outputId": "1bb00295-10ac-4040-e0cf-87f2d65161fe",
        "papermill": {
          "duration": 0.212531,
          "end_time": "2023-04-22T07:21:10.817736",
          "exception": false,
          "start_time": "2023-04-22T07:21:10.605205",
          "status": "completed"
        },
        "tags": []
      },
      "outputs": [
        {
          "data": {
            "text/plain": [
              "0        2019-03-25 02:43:00\n",
              "11       2020-07-15 11:45:00\n",
              "14       2022-07-15 04:10:00\n",
              "18       2022-07-15 09:00:00\n",
              "21       2019-06-21 02:37:00\n",
              "                 ...        \n",
              "692765   2022-11-23 05:58:00\n",
              "692767   2022-11-24 05:27:00\n",
              "692771   2022-11-22 08:00:00\n",
              "692776   2022-11-24 01:10:00\n",
              "692777   2022-11-22 04:30:00\n",
              "Name: CRASH_DATE, Length: 180681, dtype: datetime64[ns]"
            ]
          },
          "execution_count": 62,
          "metadata": {},
          "output_type": "execute_result"
        }
      ],
      "source": [
        "#investigate the new values\n",
        "cln_crashes['CRASH_DATE']"
      ]
    },
    {
      "cell_type": "code",
      "execution_count": 63,
      "id": "83447d98",
      "metadata": {
        "execution": {
          "iopub.execute_input": "2023-04-22T07:21:11.063102Z",
          "iopub.status.busy": "2023-04-22T07:21:11.062608Z",
          "iopub.status.idle": "2023-04-22T07:21:11.092691Z",
          "shell.execute_reply": "2023-04-22T07:21:11.091102Z"
        },
        "id": "83447d98",
        "papermill": {
          "duration": 0.157401,
          "end_time": "2023-04-22T07:21:11.096591",
          "exception": false,
          "start_time": "2023-04-22T07:21:10.939190",
          "status": "completed"
        },
        "tags": []
      },
      "outputs": [],
      "source": [
        "#keep only the year\n",
        "cln_crashes['CRASH_DATE'] = cln_crashes['CRASH_DATE'].dt.year"
      ]
    },
    {
      "cell_type": "code",
      "execution_count": 64,
      "id": "55056902",
      "metadata": {
        "execution": {
          "iopub.execute_input": "2023-04-22T07:21:11.350978Z",
          "iopub.status.busy": "2023-04-22T07:21:11.350100Z",
          "iopub.status.idle": "2023-04-22T07:21:11.357184Z",
          "shell.execute_reply": "2023-04-22T07:21:11.355856Z"
        },
        "id": "55056902",
        "papermill": {
          "duration": 0.140641,
          "end_time": "2023-04-22T07:21:11.360553",
          "exception": false,
          "start_time": "2023-04-22T07:21:11.219912",
          "status": "completed"
        },
        "tags": []
      },
      "outputs": [],
      "source": [
        "#rename column to year \n",
        "cln_crashes.rename(columns={'CRASH_DATE': 'CRASH_YEAR'},inplace = True)"
      ]
    },
    {
      "cell_type": "code",
      "execution_count": 65,
      "id": "168b3889",
      "metadata": {
        "colab": {
          "base_uri": "https://localhost:8080/"
        },
        "execution": {
          "iopub.execute_input": "2023-04-22T07:21:11.602211Z",
          "iopub.status.busy": "2023-04-22T07:21:11.601330Z",
          "iopub.status.idle": "2023-04-22T07:21:11.745927Z",
          "shell.execute_reply": "2023-04-22T07:21:11.743480Z"
        },
        "id": "168b3889",
        "outputId": "68a115a7-f738-40d1-be2b-1328e232df4a",
        "papermill": {
          "duration": 0.268201,
          "end_time": "2023-04-22T07:21:11.749124",
          "exception": false,
          "start_time": "2023-04-22T07:21:11.480923",
          "status": "completed"
        },
        "tags": []
      },
      "outputs": [
        {
          "name": "stdout",
          "output_type": "stream",
          "text": [
            "<class 'pandas.core.frame.DataFrame'>\n",
            "Int64Index: 180681 entries, 0 to 692777\n",
            "Data columns (total 21 columns):\n",
            " #   Column                   Non-Null Count   Dtype  \n",
            "---  ------                   --------------   -----  \n",
            " 0   CRASH_RECORD_ID          180681 non-null  object \n",
            " 1   CRASH_YEAR               180681 non-null  int64  \n",
            " 2   POSTED_SPEED_LIMIT       180681 non-null  int64  \n",
            " 3   DEVICE_CONDITION         180681 non-null  object \n",
            " 4   WEATHER_CONDITION        180681 non-null  object \n",
            " 5   LIGHTING_CONDITION       180681 non-null  object \n",
            " 6   CRASH_TYPE               180681 non-null  object \n",
            " 7   INTERSECTION_RELATED_I   180681 non-null  object \n",
            " 8   ROAD_DEFECT              180681 non-null  object \n",
            " 9   PRIM_CONTRIBUTORY_CAUSE  180681 non-null  object \n",
            " 10  SEC_CONTRIBUTORY_CAUSE   180681 non-null  object \n",
            " 11  NUM_UNITS                180681 non-null  int64  \n",
            " 12  WORK_ZONE_I              180681 non-null  object \n",
            " 13  WORKERS_PRESENT_I        180681 non-null  object \n",
            " 14  INJURIES_TOTAL           180681 non-null  float64\n",
            " 15  INJURIES_FATAL           180681 non-null  float64\n",
            " 16  CRASH_HOUR               180681 non-null  int64  \n",
            " 17  CRASH_DAY_OF_WEEK        180681 non-null  int64  \n",
            " 18  CRASH_MONTH              180681 non-null  int64  \n",
            " 19  LATITUDE                 180681 non-null  float64\n",
            " 20  LONGITUDE                180681 non-null  float64\n",
            "dtypes: float64(4), int64(6), object(11)\n",
            "memory usage: 30.3+ MB\n"
          ]
        }
      ],
      "source": [
        "#investigate summary after change\n",
        "cln_crashes.info()"
      ]
    },
    {
      "cell_type": "markdown",
      "id": "94ad9aa7",
      "metadata": {
        "id": "94ad9aa7"
      },
      "source": [
        "Since the datasource mentions that citywide data isn't availale until September 2017, we will be conservative and give a couplee of months for the new system to be incorporated properly and use records from 2018 onwards."
      ]
    },
    {
      "cell_type": "code",
      "execution_count": 66,
      "id": "42f17016",
      "metadata": {
        "execution": {
          "iopub.execute_input": "2023-04-22T07:21:12.005292Z",
          "iopub.status.busy": "2023-04-22T07:21:12.004554Z",
          "iopub.status.idle": "2023-04-22T07:21:12.056062Z",
          "shell.execute_reply": "2023-04-22T07:21:12.054218Z"
        },
        "id": "42f17016",
        "papermill": {
          "duration": 0.190295,
          "end_time": "2023-04-22T07:21:12.059339",
          "exception": false,
          "start_time": "2023-04-22T07:21:11.869044",
          "status": "completed"
        },
        "tags": []
      },
      "outputs": [],
      "source": [
        "#filter records to keep 2018 onwards\n",
        "cln_crashes = cln_crashes[cln_crashes['CRASH_YEAR'] >= 2018]"
      ]
    },
    {
      "cell_type": "code",
      "execution_count": 67,
      "id": "6dab9cbe",
      "metadata": {
        "colab": {
          "base_uri": "https://localhost:8080/"
        },
        "execution": {
          "iopub.execute_input": "2023-04-22T07:21:12.294992Z",
          "iopub.status.busy": "2023-04-22T07:21:12.294466Z",
          "iopub.status.idle": "2023-04-22T07:21:12.463855Z",
          "shell.execute_reply": "2023-04-22T07:21:12.461892Z"
        },
        "id": "6dab9cbe",
        "outputId": "2fc36145-9c86-4392-bea8-dfceef7ada89",
        "papermill": {
          "duration": 0.289973,
          "end_time": "2023-04-22T07:21:12.467074",
          "exception": false,
          "start_time": "2023-04-22T07:21:12.177101",
          "status": "completed"
        },
        "tags": []
      },
      "outputs": [
        {
          "name": "stdout",
          "output_type": "stream",
          "text": [
            "<class 'pandas.core.frame.DataFrame'>\n",
            "Int64Index: 158209 entries, 0 to 692777\n",
            "Data columns (total 21 columns):\n",
            " #   Column                   Non-Null Count   Dtype  \n",
            "---  ------                   --------------   -----  \n",
            " 0   CRASH_RECORD_ID          158209 non-null  object \n",
            " 1   CRASH_YEAR               158209 non-null  int64  \n",
            " 2   POSTED_SPEED_LIMIT       158209 non-null  int64  \n",
            " 3   DEVICE_CONDITION         158209 non-null  object \n",
            " 4   WEATHER_CONDITION        158209 non-null  object \n",
            " 5   LIGHTING_CONDITION       158209 non-null  object \n",
            " 6   CRASH_TYPE               158209 non-null  object \n",
            " 7   INTERSECTION_RELATED_I   158209 non-null  object \n",
            " 8   ROAD_DEFECT              158209 non-null  object \n",
            " 9   PRIM_CONTRIBUTORY_CAUSE  158209 non-null  object \n",
            " 10  SEC_CONTRIBUTORY_CAUSE   158209 non-null  object \n",
            " 11  NUM_UNITS                158209 non-null  int64  \n",
            " 12  WORK_ZONE_I              158209 non-null  object \n",
            " 13  WORKERS_PRESENT_I        158209 non-null  object \n",
            " 14  INJURIES_TOTAL           158209 non-null  float64\n",
            " 15  INJURIES_FATAL           158209 non-null  float64\n",
            " 16  CRASH_HOUR               158209 non-null  int64  \n",
            " 17  CRASH_DAY_OF_WEEK        158209 non-null  int64  \n",
            " 18  CRASH_MONTH              158209 non-null  int64  \n",
            " 19  LATITUDE                 158209 non-null  float64\n",
            " 20  LONGITUDE                158209 non-null  float64\n",
            "dtypes: float64(4), int64(6), object(11)\n",
            "memory usage: 26.6+ MB\n"
          ]
        }
      ],
      "source": [
        "#investigate the summary after filtering\n",
        "cln_crashes.info()"
      ]
    },
    {
      "cell_type": "markdown",
      "id": "e1190541",
      "metadata": {
        "id": "e1190541"
      },
      "source": [
        "The number of records have reduced but a significant chunk is still there. Lets proceed further with cleaning the other columns\n",
        "\n",
        "The next one is device condition"
      ]
    },
    {
      "cell_type": "code",
      "execution_count": 68,
      "id": "a21633fe",
      "metadata": {
        "colab": {
          "base_uri": "https://localhost:8080/"
        },
        "execution": {
          "iopub.execute_input": "2023-04-22T07:21:12.703994Z",
          "iopub.status.busy": "2023-04-22T07:21:12.703447Z",
          "iopub.status.idle": "2023-04-22T07:21:12.726632Z",
          "shell.execute_reply": "2023-04-22T07:21:12.725052Z"
        },
        "id": "a21633fe",
        "outputId": "8be7b3cb-c859-4074-fc30-7c036f014eb3",
        "papermill": {
          "duration": 0.143456,
          "end_time": "2023-04-22T07:21:12.729950",
          "exception": false,
          "start_time": "2023-04-22T07:21:12.586494",
          "status": "completed"
        },
        "tags": []
      },
      "outputs": [
        {
          "data": {
            "text/plain": [
              "NO CONTROLS                 79463\n",
              "FUNCTIONING PROPERLY        67803\n",
              "UNKNOWN                      7842\n",
              "OTHER                        1443\n",
              "FUNCTIONING IMPROPERLY        971\n",
              "NOT FUNCTIONING               588\n",
              "WORN REFLECTIVE MATERIAL       67\n",
              "MISSING                        32\n",
              "Name: DEVICE_CONDITION, dtype: int64"
            ]
          },
          "execution_count": 68,
          "metadata": {},
          "output_type": "execute_result"
        }
      ],
      "source": [
        "#look at the value counts of the different categories\n",
        "cln_crashes['DEVICE_CONDITION'].value_counts()"
      ]
    },
    {
      "cell_type": "markdown",
      "id": "8ca3a156",
      "metadata": {
        "id": "8ca3a156"
      },
      "source": [
        "This column contains multiple categories that can be grouped together. To reduce the amount of granularity of the data, 3 main categories can be focused on. \n",
        "\n",
        "1. No controls: shows that there were no controls in that area\n",
        "2. Functioning properly: shows that there were controls and were working properly\n",
        "3. Not Functioning properly: shows that there were controls but weren't working properly"
      ]
    },
    {
      "cell_type": "code",
      "execution_count": 69,
      "id": "b5a91dfc",
      "metadata": {
        "execution": {
          "iopub.execute_input": "2023-04-22T07:21:12.968998Z",
          "iopub.status.busy": "2023-04-22T07:21:12.968525Z",
          "iopub.status.idle": "2023-04-22T07:21:13.009831Z",
          "shell.execute_reply": "2023-04-22T07:21:13.008027Z"
        },
        "id": "b5a91dfc",
        "papermill": {
          "duration": 0.16485,
          "end_time": "2023-04-22T07:21:13.013523",
          "exception": false,
          "start_time": "2023-04-22T07:21:12.848673",
          "status": "completed"
        },
        "tags": []
      },
      "outputs": [],
      "source": [
        "#replace values with the binned category\n",
        "cln_crashes['DEVICE_CONDITION'].replace(['UNKNOWN', \n",
        "                                         'OTHER', \n",
        "                                         'FUNCTIONING IMPROPERLY', \n",
        "                                         'NOT FUNCTIONING', \n",
        "                                         'WORN REFLECTIVE MATERIAL', \n",
        "                                         'MISSING'], 'NOT FUNCTIONING PROPERLY', inplace=True)"
      ]
    },
    {
      "cell_type": "code",
      "execution_count": 70,
      "id": "3ee3ca4f",
      "metadata": {
        "colab": {
          "base_uri": "https://localhost:8080/"
        },
        "execution": {
          "iopub.execute_input": "2023-04-22T07:21:13.255524Z",
          "iopub.status.busy": "2023-04-22T07:21:13.254707Z",
          "iopub.status.idle": "2023-04-22T07:21:13.278093Z",
          "shell.execute_reply": "2023-04-22T07:21:13.276016Z"
        },
        "id": "3ee3ca4f",
        "outputId": "0715bc97-6254-4c3a-def6-022619b6e4b9",
        "papermill": {
          "duration": 0.147583,
          "end_time": "2023-04-22T07:21:13.281572",
          "exception": false,
          "start_time": "2023-04-22T07:21:13.133989",
          "status": "completed"
        },
        "tags": []
      },
      "outputs": [
        {
          "data": {
            "text/plain": [
              "NO CONTROLS                 79463\n",
              "FUNCTIONING PROPERLY        67803\n",
              "NOT FUNCTIONING PROPERLY    10943\n",
              "Name: DEVICE_CONDITION, dtype: int64"
            ]
          },
          "execution_count": 70,
          "metadata": {},
          "output_type": "execute_result"
        }
      ],
      "source": [
        "#look at the new value counts\n",
        "cln_crashes['DEVICE_CONDITION'].value_counts()"
      ]
    },
    {
      "cell_type": "markdown",
      "id": "a6b23364",
      "metadata": {
        "id": "a6b23364"
      },
      "source": [
        "Next, lets investigate the Weather Condition column"
      ]
    },
    {
      "cell_type": "code",
      "execution_count": 71,
      "id": "9058bdac",
      "metadata": {
        "colab": {
          "base_uri": "https://localhost:8080/"
        },
        "execution": {
          "iopub.execute_input": "2023-04-22T07:21:13.519203Z",
          "iopub.status.busy": "2023-04-22T07:21:13.518363Z",
          "iopub.status.idle": "2023-04-22T07:21:13.540067Z",
          "shell.execute_reply": "2023-04-22T07:21:13.538093Z"
        },
        "id": "9058bdac",
        "outputId": "0e084a89-2751-48ce-f084-bebdbf2779e1",
        "papermill": {
          "duration": 0.14327,
          "end_time": "2023-04-22T07:21:13.543807",
          "exception": false,
          "start_time": "2023-04-22T07:21:13.400537",
          "status": "completed"
        },
        "tags": []
      },
      "outputs": [
        {
          "data": {
            "text/plain": [
              "CLEAR                     124418\n",
              "RAIN                       16925\n",
              "SNOW                        6227\n",
              "CLOUDY/OVERCAST             5346\n",
              "UNKNOWN                     3242\n",
              "OTHER                        742\n",
              "FREEZING RAIN/DRIZZLE        512\n",
              "FOG/SMOKE/HAZE               328\n",
              "SLEET/HAIL                   298\n",
              "BLOWING SNOW                 138\n",
              "SEVERE CROSS WIND GATE        33\n",
              "Name: WEATHER_CONDITION, dtype: int64"
            ]
          },
          "execution_count": 71,
          "metadata": {},
          "output_type": "execute_result"
        }
      ],
      "source": [
        "#look at the value counts\n",
        "cln_crashes['WEATHER_CONDITION'].value_counts()"
      ]
    },
    {
      "cell_type": "markdown",
      "id": "b4f31019",
      "metadata": {
        "id": "b4f31019"
      },
      "source": [
        "Similarly, to reduce teh granularity of the dataset, multiple categories in this dataset can be binned together to represent 2 main categories:\n",
        "\n",
        "1. Clear: shows clear weather\n",
        "2. Not Clear: shows that the weather wasn't clear and could have been a cause of obstruction\n",
        "\n"
      ]
    },
    {
      "cell_type": "code",
      "execution_count": 72,
      "id": "40438e96",
      "metadata": {
        "execution": {
          "iopub.execute_input": "2023-04-22T07:21:13.783877Z",
          "iopub.status.busy": "2023-04-22T07:21:13.783360Z",
          "iopub.status.idle": "2023-04-22T07:21:13.842401Z",
          "shell.execute_reply": "2023-04-22T07:21:13.840671Z"
        },
        "id": "40438e96",
        "papermill": {
          "duration": 0.182704,
          "end_time": "2023-04-22T07:21:13.845972",
          "exception": false,
          "start_time": "2023-04-22T07:21:13.663268",
          "status": "completed"
        },
        "tags": []
      },
      "outputs": [],
      "source": [
        "#replace values with the binned category\n",
        "cln_crashes['WEATHER_CONDITION'].replace(['RAIN', \n",
        "                                         'SNOW', \n",
        "                                         'CLOUDY/OVERCAST', \n",
        "                                         'UNKNOWN', \n",
        "                                         'OTHER', \n",
        "                                         'FREEZING RAIN/DRIZZLE',\n",
        "                                         'FOG/SMOKE/HAZE',\n",
        "                                         'SLEET/HAIL',\n",
        "                                         'BLOWING SNOW',\n",
        "                                         'SEVERE CROSS WIND GATE'], 'NOT CLEAR', inplace=True)"
      ]
    },
    {
      "cell_type": "code",
      "execution_count": 73,
      "id": "75e65f13",
      "metadata": {
        "colab": {
          "base_uri": "https://localhost:8080/"
        },
        "execution": {
          "iopub.execute_input": "2023-04-22T07:21:14.089360Z",
          "iopub.status.busy": "2023-04-22T07:21:14.088377Z",
          "iopub.status.idle": "2023-04-22T07:21:14.109435Z",
          "shell.execute_reply": "2023-04-22T07:21:14.107326Z"
        },
        "id": "75e65f13",
        "outputId": "0a12debe-1b96-43c4-8ab4-805d3d57f3ac",
        "papermill": {
          "duration": 0.146671,
          "end_time": "2023-04-22T07:21:14.113196",
          "exception": false,
          "start_time": "2023-04-22T07:21:13.966525",
          "status": "completed"
        },
        "tags": []
      },
      "outputs": [
        {
          "data": {
            "text/plain": [
              "CLEAR        124418\n",
              "NOT CLEAR     33791\n",
              "Name: WEATHER_CONDITION, dtype: int64"
            ]
          },
          "execution_count": 73,
          "metadata": {},
          "output_type": "execute_result"
        }
      ],
      "source": [
        "#look at the new value counts\n",
        "cln_crashes['WEATHER_CONDITION'].value_counts()"
      ]
    },
    {
      "cell_type": "markdown",
      "id": "0cccf097",
      "metadata": {
        "id": "0cccf097"
      },
      "source": [
        "Lets investigate the Lighting Condition next."
      ]
    },
    {
      "cell_type": "code",
      "execution_count": 74,
      "id": "d46b7e12",
      "metadata": {
        "colab": {
          "base_uri": "https://localhost:8080/"
        },
        "execution": {
          "iopub.execute_input": "2023-04-22T07:21:14.352720Z",
          "iopub.status.busy": "2023-04-22T07:21:14.351868Z",
          "iopub.status.idle": "2023-04-22T07:21:14.372377Z",
          "shell.execute_reply": "2023-04-22T07:21:14.370856Z"
        },
        "id": "d46b7e12",
        "outputId": "3299f787-a8ee-481d-d69c-97a7f8e2d038",
        "papermill": {
          "duration": 0.142422,
          "end_time": "2023-04-22T07:21:14.375730",
          "exception": false,
          "start_time": "2023-04-22T07:21:14.233308",
          "status": "completed"
        },
        "tags": []
      },
      "outputs": [
        {
          "data": {
            "text/plain": [
              "DAYLIGHT                  89319\n",
              "DARKNESS, LIGHTED ROAD    50881\n",
              "DARKNESS                   7480\n",
              "DUSK                       4661\n",
              "DAWN                       3232\n",
              "UNKNOWN                    2636\n",
              "Name: LIGHTING_CONDITION, dtype: int64"
            ]
          },
          "execution_count": 74,
          "metadata": {},
          "output_type": "execute_result"
        }
      ],
      "source": [
        "#look at the value counts\n",
        "cln_crashes['LIGHTING_CONDITION'].value_counts()"
      ]
    },
    {
      "cell_type": "markdown",
      "id": "d4a064b3",
      "metadata": {
        "id": "d4a064b3"
      },
      "source": [
        "Lighting conditions is a lot more granular whereas we can work with a sllighly less granular approach. Day Time and Night Time would be sufficient categories to indicate what time of dat the crash ocurred. If Lighting Conditions are a significant cause, these can be explored further.\n",
        "\n",
        "For the unknown category, we can take a look at the crash hour and assign the correct bin aaccordingly.\n"
      ]
    },
    {
      "cell_type": "code",
      "execution_count": 75,
      "id": "01fa15c2",
      "metadata": {
        "execution": {
          "iopub.execute_input": "2023-04-22T07:21:14.611937Z",
          "iopub.status.busy": "2023-04-22T07:21:14.611421Z",
          "iopub.status.idle": "2023-04-22T07:21:14.674432Z",
          "shell.execute_reply": "2023-04-22T07:21:14.672678Z"
        },
        "id": "01fa15c2",
        "papermill": {
          "duration": 0.1853,
          "end_time": "2023-04-22T07:21:14.677859",
          "exception": false,
          "start_time": "2023-04-22T07:21:14.492559",
          "status": "completed"
        },
        "tags": []
      },
      "outputs": [],
      "source": [
        "#bin categories for Night time\n",
        "cln_crashes['LIGHTING_CONDITION'].replace(['DARKNESS, LIGHTED ROAD', \n",
        "                                         'DARKNESS, LIGHTED ROAD', \n",
        "                                         'DARKNESS', \n",
        "                                         'DAWN', \n",
        "                                         'OTHER', \n",
        "                                         ], 'NIGHT TIME', inplace=True)\n",
        "\n",
        "\n",
        "#bin categories for daytime\n",
        "cln_crashes['LIGHTING_CONDITION'].replace(['DAYLIGHT', \n",
        "                                         'DUSK',  \n",
        "                                         ], 'DAY TIME', inplace=True)"
      ]
    },
    {
      "cell_type": "code",
      "execution_count": 76,
      "id": "d7827a66",
      "metadata": {
        "colab": {
          "base_uri": "https://localhost:8080/"
        },
        "execution": {
          "iopub.execute_input": "2023-04-22T07:21:14.994629Z",
          "iopub.status.busy": "2023-04-22T07:21:14.994115Z",
          "iopub.status.idle": "2023-04-22T07:21:15.013683Z",
          "shell.execute_reply": "2023-04-22T07:21:15.011326Z"
        },
        "id": "d7827a66",
        "outputId": "8b67e60b-c0af-4519-d0a0-03fab02e8bf7",
        "papermill": {
          "duration": 0.222702,
          "end_time": "2023-04-22T07:21:15.017183",
          "exception": false,
          "start_time": "2023-04-22T07:21:14.794481",
          "status": "completed"
        },
        "tags": []
      },
      "outputs": [
        {
          "data": {
            "text/plain": [
              "DAY TIME      93980\n",
              "NIGHT TIME    61593\n",
              "UNKNOWN        2636\n",
              "Name: LIGHTING_CONDITION, dtype: int64"
            ]
          },
          "execution_count": 76,
          "metadata": {},
          "output_type": "execute_result"
        }
      ],
      "source": [
        "#check new value counts\n",
        "cln_crashes['LIGHTING_CONDITION'].value_counts()"
      ]
    },
    {
      "cell_type": "code",
      "execution_count": 77,
      "id": "dac6fbae",
      "metadata": {
        "colab": {
          "base_uri": "https://localhost:8080/"
        },
        "execution": {
          "iopub.execute_input": "2023-04-22T07:21:15.260706Z",
          "iopub.status.busy": "2023-04-22T07:21:15.260148Z",
          "iopub.status.idle": "2023-04-22T07:21:15.289845Z",
          "shell.execute_reply": "2023-04-22T07:21:15.288664Z"
        },
        "id": "dac6fbae",
        "outputId": "dc7b9cc0-fd99-4fd4-9e6b-5011e1b64c62",
        "papermill": {
          "duration": 0.154578,
          "end_time": "2023-04-22T07:21:15.292601",
          "exception": false,
          "start_time": "2023-04-22T07:21:15.138023",
          "status": "completed"
        },
        "tags": []
      },
      "outputs": [
        {
          "data": {
            "text/plain": [
              "0     175\n",
              "18    161\n",
              "17    159\n",
              "16    143\n",
              "19    141\n",
              "20    126\n",
              "22    122\n",
              "21    121\n",
              "6     119\n",
              "15    118\n",
              "7     116\n",
              "23    106\n",
              "5     104\n",
              "14    104\n",
              "8     100\n",
              "2      95\n",
              "1      93\n",
              "9      86\n",
              "4      85\n",
              "12     83\n",
              "10     77\n",
              "3      74\n",
              "11     71\n",
              "13     57\n",
              "Name: CRASH_HOUR, dtype: int64"
            ]
          },
          "execution_count": 77,
          "metadata": {},
          "output_type": "execute_result"
        }
      ],
      "source": [
        "#check unkown category crash hour\n",
        "cln_crashes[cln_crashes['LIGHTING_CONDITION'] == 'UNKNOWN']['CRASH_HOUR'].value_counts()"
      ]
    },
    {
      "cell_type": "code",
      "execution_count": 78,
      "id": "9407e3c3",
      "metadata": {
        "execution": {
          "iopub.execute_input": "2023-04-22T07:21:15.539692Z",
          "iopub.status.busy": "2023-04-22T07:21:15.539250Z",
          "iopub.status.idle": "2023-04-22T07:21:15.563591Z",
          "shell.execute_reply": "2023-04-22T07:21:15.561343Z"
        },
        "id": "9407e3c3",
        "papermill": {
          "duration": 0.149394,
          "end_time": "2023-04-22T07:21:15.567298",
          "exception": false,
          "start_time": "2023-04-22T07:21:15.417904",
          "status": "completed"
        },
        "tags": []
      },
      "outputs": [],
      "source": [
        "#assign day time according to general guidelines\n",
        "cln_crashes.loc[(cln_crashes['LIGHTING_CONDITION'] == 'UNKNOWN') & \n",
        "            ((cln_crashes['CRASH_HOUR']>=6) | (cln_crashes['CRASH_HOUR']<=19)),\n",
        "               'LIGHTING_CONDITION'] = 'DAY TIME'"
      ]
    },
    {
      "cell_type": "code",
      "execution_count": 79,
      "id": "9845cd57",
      "metadata": {
        "execution": {
          "iopub.execute_input": "2023-04-22T07:21:15.807738Z",
          "iopub.status.busy": "2023-04-22T07:21:15.807250Z",
          "iopub.status.idle": "2023-04-22T07:21:15.832018Z",
          "shell.execute_reply": "2023-04-22T07:21:15.830037Z"
        },
        "id": "9845cd57",
        "papermill": {
          "duration": 0.150334,
          "end_time": "2023-04-22T07:21:15.835527",
          "exception": false,
          "start_time": "2023-04-22T07:21:15.685193",
          "status": "completed"
        },
        "tags": []
      },
      "outputs": [],
      "source": [
        "#assign night time according to general guidelines\n",
        "cln_crashes.loc[(cln_crashes['LIGHTING_CONDITION'] == 'UNKNOWN') & \n",
        "            ((cln_crashes['CRASH_HOUR']<=5) | (cln_crashes['CRASH_HOUR']>=18)),\n",
        "               'LIGHTING_CONDITION'] = 'NIGHT TIME'"
      ]
    },
    {
      "cell_type": "code",
      "execution_count": 80,
      "id": "4f65d25e",
      "metadata": {
        "colab": {
          "base_uri": "https://localhost:8080/"
        },
        "execution": {
          "iopub.execute_input": "2023-04-22T07:21:16.088968Z",
          "iopub.status.busy": "2023-04-22T07:21:16.088482Z",
          "iopub.status.idle": "2023-04-22T07:21:16.108352Z",
          "shell.execute_reply": "2023-04-22T07:21:16.107028Z"
        },
        "id": "4f65d25e",
        "outputId": "be7670a8-e7c5-4b37-f5f4-ed91fc04deee",
        "papermill": {
          "duration": 0.158151,
          "end_time": "2023-04-22T07:21:16.111724",
          "exception": false,
          "start_time": "2023-04-22T07:21:15.953573",
          "status": "completed"
        },
        "tags": []
      },
      "outputs": [
        {
          "data": {
            "text/plain": [
              "DAY TIME      96616\n",
              "NIGHT TIME    61593\n",
              "Name: LIGHTING_CONDITION, dtype: int64"
            ]
          },
          "execution_count": 80,
          "metadata": {},
          "output_type": "execute_result"
        }
      ],
      "source": [
        "#check new value counts\n",
        "cln_crashes['LIGHTING_CONDITION'].value_counts()"
      ]
    },
    {
      "cell_type": "code",
      "execution_count": 81,
      "id": "beb62d9a",
      "metadata": {
        "colab": {
          "base_uri": "https://localhost:8080/"
        },
        "execution": {
          "iopub.execute_input": "2023-04-22T07:21:16.353848Z",
          "iopub.status.busy": "2023-04-22T07:21:16.353266Z",
          "iopub.status.idle": "2023-04-22T07:21:16.478038Z",
          "shell.execute_reply": "2023-04-22T07:21:16.475261Z"
        },
        "id": "beb62d9a",
        "outputId": "3063ef0d-d637-4493-c702-f7a734cf5ef4",
        "papermill": {
          "duration": 0.251452,
          "end_time": "2023-04-22T07:21:16.481509",
          "exception": false,
          "start_time": "2023-04-22T07:21:16.230057",
          "status": "completed"
        },
        "tags": []
      },
      "outputs": [
        {
          "name": "stdout",
          "output_type": "stream",
          "text": [
            "<class 'pandas.core.frame.DataFrame'>\n",
            "Int64Index: 158209 entries, 0 to 692777\n",
            "Data columns (total 21 columns):\n",
            " #   Column                   Non-Null Count   Dtype  \n",
            "---  ------                   --------------   -----  \n",
            " 0   CRASH_RECORD_ID          158209 non-null  object \n",
            " 1   CRASH_YEAR               158209 non-null  int64  \n",
            " 2   POSTED_SPEED_LIMIT       158209 non-null  int64  \n",
            " 3   DEVICE_CONDITION         158209 non-null  object \n",
            " 4   WEATHER_CONDITION        158209 non-null  object \n",
            " 5   LIGHTING_CONDITION       158209 non-null  object \n",
            " 6   CRASH_TYPE               158209 non-null  object \n",
            " 7   INTERSECTION_RELATED_I   158209 non-null  object \n",
            " 8   ROAD_DEFECT              158209 non-null  object \n",
            " 9   PRIM_CONTRIBUTORY_CAUSE  158209 non-null  object \n",
            " 10  SEC_CONTRIBUTORY_CAUSE   158209 non-null  object \n",
            " 11  NUM_UNITS                158209 non-null  int64  \n",
            " 12  WORK_ZONE_I              158209 non-null  object \n",
            " 13  WORKERS_PRESENT_I        158209 non-null  object \n",
            " 14  INJURIES_TOTAL           158209 non-null  float64\n",
            " 15  INJURIES_FATAL           158209 non-null  float64\n",
            " 16  CRASH_HOUR               158209 non-null  int64  \n",
            " 17  CRASH_DAY_OF_WEEK        158209 non-null  int64  \n",
            " 18  CRASH_MONTH              158209 non-null  int64  \n",
            " 19  LATITUDE                 158209 non-null  float64\n",
            " 20  LONGITUDE                158209 non-null  float64\n",
            "dtypes: float64(4), int64(6), object(11)\n",
            "memory usage: 26.6+ MB\n"
          ]
        }
      ],
      "source": [
        "#check dataframe summary after changes\n",
        "cln_crashes.info()"
      ]
    },
    {
      "cell_type": "markdown",
      "id": "728da182",
      "metadata": {
        "id": "728da182"
      },
      "source": [
        "Lets investigate the road defect column."
      ]
    },
    {
      "cell_type": "code",
      "execution_count": 82,
      "id": "6451b91a",
      "metadata": {
        "colab": {
          "base_uri": "https://localhost:8080/"
        },
        "execution": {
          "iopub.execute_input": "2023-04-22T07:21:16.998836Z",
          "iopub.status.busy": "2023-04-22T07:21:16.998372Z",
          "iopub.status.idle": "2023-04-22T07:21:17.021238Z",
          "shell.execute_reply": "2023-04-22T07:21:17.019717Z"
        },
        "id": "6451b91a",
        "outputId": "80ece5f3-624a-4495-a627-6735c5f3b503",
        "papermill": {
          "duration": 0.151067,
          "end_time": "2023-04-22T07:21:17.025039",
          "exception": false,
          "start_time": "2023-04-22T07:21:16.873972",
          "status": "completed"
        },
        "tags": []
      },
      "outputs": [
        {
          "data": {
            "text/plain": [
              "NO DEFECTS           134050\n",
              "UNKNOWN               20600\n",
              "RUT, HOLES             1147\n",
              "OTHER                  1014\n",
              "WORN SURFACE            924\n",
              "SHOULDER DEFECT         326\n",
              "DEBRIS ON ROADWAY       148\n",
              "Name: ROAD_DEFECT, dtype: int64"
            ]
          },
          "execution_count": 82,
          "metadata": {},
          "output_type": "execute_result"
        }
      ],
      "source": [
        "#check value counts\n",
        "cln_crashes['ROAD_DEFECT'].value_counts()"
      ]
    },
    {
      "cell_type": "markdown",
      "id": "5bf24497",
      "metadata": {
        "id": "5bf24497"
      },
      "source": [
        "2 binned categories will be sufficient to use. \n",
        "\n",
        "1. No Defects: shows that there were no defects at the crash location\n",
        "2. Defects: shows that there were defects at the crash location"
      ]
    },
    {
      "cell_type": "code",
      "execution_count": 83,
      "id": "1d0637b8",
      "metadata": {
        "execution": {
          "iopub.execute_input": "2023-04-22T07:21:17.280354Z",
          "iopub.status.busy": "2023-04-22T07:21:17.279828Z",
          "iopub.status.idle": "2023-04-22T07:21:17.323347Z",
          "shell.execute_reply": "2023-04-22T07:21:17.321364Z"
        },
        "id": "1d0637b8",
        "papermill": {
          "duration": 0.176486,
          "end_time": "2023-04-22T07:21:17.326876",
          "exception": false,
          "start_time": "2023-04-22T07:21:17.150390",
          "status": "completed"
        },
        "tags": []
      },
      "outputs": [],
      "source": [
        "#bin categories\n",
        "cln_crashes['ROAD_DEFECT'].replace(['UNKNOWN','RUT, HOLES', \n",
        "                                         'OTHER', \n",
        "                                         'WORN SURFACE', \n",
        "                                         'SHOULDER DEFECT', \n",
        "                                         'DEBRIS ON ROADWAY', \n",
        "                                         ], 'DEFECTS', inplace=True)"
      ]
    },
    {
      "cell_type": "code",
      "execution_count": 84,
      "id": "e5e45553",
      "metadata": {
        "colab": {
          "base_uri": "https://localhost:8080/"
        },
        "execution": {
          "iopub.execute_input": "2023-04-22T07:21:17.566860Z",
          "iopub.status.busy": "2023-04-22T07:21:17.566369Z",
          "iopub.status.idle": "2023-04-22T07:21:17.588380Z",
          "shell.execute_reply": "2023-04-22T07:21:17.586821Z"
        },
        "id": "e5e45553",
        "outputId": "4866c3a8-d659-4e9f-dc18-a8dc174d61ba",
        "papermill": {
          "duration": 0.147634,
          "end_time": "2023-04-22T07:21:17.591814",
          "exception": false,
          "start_time": "2023-04-22T07:21:17.444180",
          "status": "completed"
        },
        "tags": []
      },
      "outputs": [
        {
          "data": {
            "text/plain": [
              "NO DEFECTS    134050\n",
              "DEFECTS        24159\n",
              "Name: ROAD_DEFECT, dtype: int64"
            ]
          },
          "execution_count": 84,
          "metadata": {},
          "output_type": "execute_result"
        }
      ],
      "source": [
        "#check new value counts\n",
        "cln_crashes['ROAD_DEFECT'].value_counts()"
      ]
    },
    {
      "cell_type": "markdown",
      "id": "5e9bc61f",
      "metadata": {
        "id": "5e9bc61f"
      },
      "source": [
        "The next column to be investigated will be Number of Units. This column contains information on how many units weeree involved in the crash."
      ]
    },
    {
      "cell_type": "code",
      "execution_count": 85,
      "id": "d23db9d7",
      "metadata": {
        "colab": {
          "base_uri": "https://localhost:8080/"
        },
        "execution": {
          "iopub.execute_input": "2023-04-22T07:21:17.843650Z",
          "iopub.status.busy": "2023-04-22T07:21:17.843195Z",
          "iopub.status.idle": "2023-04-22T07:21:17.854964Z",
          "shell.execute_reply": "2023-04-22T07:21:17.853274Z"
        },
        "id": "d23db9d7",
        "outputId": "30e3ded0-0943-48e1-9710-3c5771296756",
        "papermill": {
          "duration": 0.138507,
          "end_time": "2023-04-22T07:21:17.857587",
          "exception": false,
          "start_time": "2023-04-22T07:21:17.719080",
          "status": "completed"
        },
        "tags": []
      },
      "outputs": [
        {
          "data": {
            "text/plain": [
              "2     116347\n",
              "3      18777\n",
              "1      16256\n",
              "4       4848\n",
              "5       1324\n",
              "6        409\n",
              "7        140\n",
              "8         56\n",
              "9         26\n",
              "10        11\n",
              "11         5\n",
              "12         4\n",
              "18         3\n",
              "14         1\n",
              "15         1\n",
              "16         1\n",
              "Name: NUM_UNITS, dtype: int64"
            ]
          },
          "execution_count": 85,
          "metadata": {},
          "output_type": "execute_result"
        }
      ],
      "source": [
        "#check the value counts\n",
        "cln_crashes['NUM_UNITS'].value_counts()"
      ]
    },
    {
      "cell_type": "markdown",
      "id": "ccc07dac",
      "metadata": {
        "id": "ccc07dac"
      },
      "source": [
        "There are a few definite anomalies. It is very rare to see 5 or more units involved in a crash. That would mean that either there was a big pile up of vehicles because of a rare type of crash. "
      ]
    },
    {
      "cell_type": "code",
      "execution_count": 86,
      "id": "85b9ab25",
      "metadata": {
        "colab": {
          "base_uri": "https://localhost:8080/"
        },
        "id": "85b9ab25",
        "outputId": "d3e5708d-bbd8-4887-894e-137752f83b01"
      },
      "outputs": [
        {
          "data": {
            "text/plain": [
              "2     73.5401%\n",
              "3     11.8685%\n",
              "1      10.275%\n",
              "4      3.0643%\n",
              "5      0.8369%\n",
              "6      0.2585%\n",
              "7      0.0885%\n",
              "8      0.0354%\n",
              "9      0.0164%\n",
              "10      0.007%\n",
              "11     0.0032%\n",
              "12     0.0025%\n",
              "18     0.0019%\n",
              "14     0.0006%\n",
              "15     0.0006%\n",
              "16     0.0006%\n",
              "Name: NUM_UNITS, dtype: object"
            ]
          },
          "execution_count": 86,
          "metadata": {},
          "output_type": "execute_result"
        }
      ],
      "source": [
        "#check the value counts percentages\n",
        "cln_crashes['NUM_UNITS'].value_counts(normalize=True).mul(100).round(4).astype(str) + '%'"
      ]
    },
    {
      "cell_type": "markdown",
      "id": "ee1966dc",
      "metadata": {
        "id": "ee1966dc"
      },
      "source": [
        "Crashes with 5 or more units involved is extremely rare and totals to slightly more than 1%. Considering how rare these occurances are, it would be useful to ignore them and focus on the bigger pieces of the pie."
      ]
    },
    {
      "cell_type": "code",
      "execution_count": 87,
      "id": "9af03b49",
      "metadata": {
        "id": "9af03b49"
      },
      "outputs": [],
      "source": [
        "#filter records for 5 or more\n",
        "cln_crashes = cln_crashes[cln_crashes['NUM_UNITS']<5]"
      ]
    },
    {
      "cell_type": "code",
      "execution_count": 88,
      "id": "51cb5bb9",
      "metadata": {
        "execution": {
          "iopub.execute_input": "2023-04-22T07:21:18.099624Z",
          "iopub.status.busy": "2023-04-22T07:21:18.099199Z",
          "iopub.status.idle": "2023-04-22T07:21:18.109131Z",
          "shell.execute_reply": "2023-04-22T07:21:18.107195Z"
        },
        "id": "51cb5bb9",
        "papermill": {
          "duration": 0.134306,
          "end_time": "2023-04-22T07:21:18.112199",
          "exception": false,
          "start_time": "2023-04-22T07:21:17.977893",
          "status": "completed"
        },
        "tags": []
      },
      "outputs": [],
      "source": [
        "# cln_crashes.loc[cln_crashes['NUM_UNITS']>=6, 'NUM_UNITS'] = 6"
      ]
    },
    {
      "cell_type": "code",
      "execution_count": 89,
      "id": "fee42c8c",
      "metadata": {
        "colab": {
          "base_uri": "https://localhost:8080/"
        },
        "execution": {
          "iopub.execute_input": "2023-04-22T07:21:18.354412Z",
          "iopub.status.busy": "2023-04-22T07:21:18.353859Z",
          "iopub.status.idle": "2023-04-22T07:21:18.366065Z",
          "shell.execute_reply": "2023-04-22T07:21:18.364341Z"
        },
        "id": "fee42c8c",
        "outputId": "8d9a7868-aeeb-436f-de6c-d8fe638581b9",
        "papermill": {
          "duration": 0.13815,
          "end_time": "2023-04-22T07:21:18.369046",
          "exception": false,
          "start_time": "2023-04-22T07:21:18.230896",
          "status": "completed"
        },
        "tags": []
      },
      "outputs": [
        {
          "data": {
            "text/plain": [
              "2    116347\n",
              "3     18777\n",
              "1     16256\n",
              "4      4848\n",
              "Name: NUM_UNITS, dtype: int64"
            ]
          },
          "execution_count": 89,
          "metadata": {},
          "output_type": "execute_result"
        }
      ],
      "source": [
        "#check new vlaue counts\n",
        "cln_crashes['NUM_UNITS'].value_counts()"
      ]
    },
    {
      "cell_type": "markdown",
      "id": "0be74cf3",
      "metadata": {
        "id": "0be74cf3"
      },
      "source": [
        "Next is the Primary Contributary Cause. This will be the target variable later on. Letss investigate thiss columnn."
      ]
    },
    {
      "cell_type": "code",
      "execution_count": 90,
      "id": "5b812851",
      "metadata": {
        "colab": {
          "base_uri": "https://localhost:8080/"
        },
        "execution": {
          "iopub.execute_input": "2023-04-22T07:21:18.608964Z",
          "iopub.status.busy": "2023-04-22T07:21:18.608458Z",
          "iopub.status.idle": "2023-04-22T07:21:18.632538Z",
          "shell.execute_reply": "2023-04-22T07:21:18.630377Z"
        },
        "id": "5b812851",
        "outputId": "ca63fc7a-3ad8-4ce9-d4c9-877a5116408c",
        "papermill": {
          "duration": 0.14599,
          "end_time": "2023-04-22T07:21:18.635888",
          "exception": false,
          "start_time": "2023-04-22T07:21:18.489898",
          "status": "completed"
        },
        "scrolled": true,
        "tags": []
      },
      "outputs": [
        {
          "data": {
            "text/plain": [
              "UNABLE TO DETERMINE                                                                 47841\n",
              "FAILING TO YIELD RIGHT-OF-WAY                                                       25493\n",
              "FAILING TO REDUCE SPEED TO AVOID CRASH                                              11184\n",
              "FOLLOWING TOO CLOSELY                                                               10207\n",
              "DISREGARDING TRAFFIC SIGNALS                                                         7968\n",
              "NOT APPLICABLE                                                                       6268\n",
              "IMPROPER TURNING/NO SIGNAL                                                           5575\n",
              "DRIVING SKILLS/KNOWLEDGE/EXPERIENCE                                                  4456\n",
              "IMPROPER OVERTAKING/PASSING                                                          4052\n",
              "IMPROPER LANE USAGE                                                                  3913\n",
              "DISREGARDING STOP SIGN                                                               3691\n",
              "WEATHER                                                                              3256\n",
              "OPERATING VEHICLE IN ERRATIC, RECKLESS, CARELESS, NEGLIGENT OR AGGRESSIVE MANNER     3199\n",
              "PHYSICAL CONDITION OF DRIVER                                                         2435\n",
              "EQUIPMENT - VEHICLE CONDITION                                                        2302\n",
              "UNDER THE INFLUENCE OF ALCOHOL/DRUGS (USE WHEN ARREST IS EFFECTED)                   2245\n",
              "DISTRACTION - FROM INSIDE VEHICLE                                                    1732\n",
              "DRIVING ON WRONG SIDE/WRONG WAY                                                      1650\n",
              "VISION OBSCURED (SIGNS, TREE LIMBS, BUILDINGS, ETC.)                                 1488\n",
              "IMPROPER BACKING                                                                     1313\n",
              "DISTRACTION - FROM OUTSIDE VEHICLE                                                   1108\n",
              "DISREGARDING OTHER TRAFFIC SIGNS                                                      769\n",
              "EXCEEDING AUTHORIZED SPEED LIMIT                                                      614\n",
              "EVASIVE ACTION DUE TO ANIMAL, OBJECT, NONMOTORIST                                     508\n",
              "EXCEEDING SAFE SPEED FOR CONDITIONS                                                   488\n",
              "ROAD ENGINEERING/SURFACE/MARKING DEFECTS                                              404\n",
              "ROAD CONSTRUCTION/MAINTENANCE                                                         345\n",
              "CELL PHONE USE OTHER THAN TEXTING                                                     340\n",
              "DISREGARDING ROAD MARKINGS                                                            320\n",
              "HAD BEEN DRINKING (USE WHEN ARREST IS NOT MADE)                                       265\n",
              "ANIMAL                                                                                173\n",
              "TURNING RIGHT ON RED                                                                  151\n",
              "DISTRACTION - OTHER ELECTRONIC DEVICE (NAVIGATION DEVICE, DVD PLAYER, ETC.)           142\n",
              "DISREGARDING YIELD SIGN                                                               103\n",
              "TEXTING                                                                                99\n",
              "RELATED TO BUS STOP                                                                    61\n",
              "OBSTRUCTED CROSSWALKS                                                                  33\n",
              "BICYCLE ADVANCING LEGALLY ON RED LIGHT                                                 17\n",
              "PASSING STOPPED SCHOOL BUS                                                             13\n",
              "MOTORCYCLE ADVANCING LEGALLY ON RED LIGHT                                               7\n",
              "Name: PRIM_CONTRIBUTORY_CAUSE, dtype: int64"
            ]
          },
          "execution_count": 90,
          "metadata": {},
          "output_type": "execute_result"
        }
      ],
      "source": [
        "#check valaue counts\n",
        "cln_crashes['PRIM_CONTRIBUTORY_CAUSE'].value_counts()"
      ]
    },
    {
      "cell_type": "code",
      "execution_count": 91,
      "id": "6207baa1",
      "metadata": {
        "colab": {
          "base_uri": "https://localhost:8080/"
        },
        "execution": {
          "iopub.execute_input": "2023-04-22T07:21:18.874697Z",
          "iopub.status.busy": "2023-04-22T07:21:18.874217Z",
          "iopub.status.idle": "2023-04-22T07:21:18.899548Z",
          "shell.execute_reply": "2023-04-22T07:21:18.897726Z"
        },
        "id": "6207baa1",
        "outputId": "801ad34c-b9f3-4168-b8b4-2293a5e6ca4d",
        "papermill": {
          "duration": 0.148318,
          "end_time": "2023-04-22T07:21:18.903410",
          "exception": false,
          "start_time": "2023-04-22T07:21:18.755092",
          "status": "completed"
        },
        "tags": []
      },
      "outputs": [
        {
          "data": {
            "text/plain": [
              "40"
            ]
          },
          "execution_count": 91,
          "metadata": {},
          "output_type": "execute_result"
        }
      ],
      "source": [
        "#check total number of uniique categories\n",
        "len(cln_crashes['PRIM_CONTRIBUTORY_CAUSE'].unique())"
      ]
    },
    {
      "cell_type": "markdown",
      "id": "b396d72c",
      "metadata": {
        "id": "b396d72c"
      },
      "source": [
        "40 categories are a lot of categories to deal with. It would be very tedious for the model and proessing capability. \n",
        "\n",
        "Theree is clear overlap between multiple categoriesss in this column. These can be binned together to 4 major categories to make this dataset more manageable.\n",
        "\n",
        "1. Traffic Rules Violated: shows that there were traffic violations to be the primary cause of the crash\n",
        "\n",
        "2. Reckless/Improper Driving: shows that the drivver was not being safe with their driving\n",
        "\n",
        "3. Obstructions: shows that there were external distractions\n",
        "\n",
        "4. Compromised Driving: Although this can also be grouped together with unsafe driving, it stands as a category of its own because of comprimises like DUI or phone usage. It mainly covers any distractions from inside the vehicle."
      ]
    },
    {
      "cell_type": "code",
      "execution_count": 92,
      "id": "c94c9efc",
      "metadata": {
        "execution": {
          "iopub.execute_input": "2023-04-22T07:21:19.145435Z",
          "iopub.status.busy": "2023-04-22T07:21:19.144955Z",
          "iopub.status.idle": "2023-04-22T07:21:19.369049Z",
          "shell.execute_reply": "2023-04-22T07:21:19.367325Z"
        },
        "id": "c94c9efc",
        "papermill": {
          "duration": 0.350035,
          "end_time": "2023-04-22T07:21:19.372359",
          "exception": false,
          "start_time": "2023-04-22T07:21:19.022324",
          "status": "completed"
        },
        "tags": []
      },
      "outputs": [],
      "source": [
        "#bin categories\n",
        "\n",
        "#traffic ruless violated\n",
        "cln_crashes['PRIM_CONTRIBUTORY_CAUSE'].replace(['DISREGARDING TRAFFIC SIGNALS',\n",
        "                                                'DISREGARDING STOP SIGN', \n",
        "                                                'PASSING STOPPED SCHOOL BUS', \n",
        "                                                'RELATED TO BUS STOP', \n",
        "                                                'DISREGARDING YIELD SIGN', \n",
        "                                                'TURNING RIGHT ON RED',\n",
        "                                                'TURNING RIGHT ON RED',\n",
        "                                                'DISREGARDING OTHER TRAFFIC SIGNS',\n",
        "                                                'DRIVING ON WRONG SIDE/WRONG WAY',\n",
        "                                                'DISREGARDING ROAD MARKINGS',\n",
        "                                                'FAILING TO YIELD RIGHT-OF-WAY'\n",
        "                                         ], 'TRAFFIC RULES VIOLATED', inplace=True)\n",
        "\n",
        "#Reckless/Improper Driving\n",
        "cln_crashes['PRIM_CONTRIBUTORY_CAUSE'].replace(['IMPROPER TURNING/NO SIGNAL',\n",
        "                                                'DRIVING SKILLS/KNOWLEDGE/EXPERIENCE', \n",
        "                                                'IMPROPER OVERTAKING/PASSING', \n",
        "                                                'IMPROPER LANE USAGE', \n",
        "                                                'OPERATING VEHICLE IN ERRATIC, RECKLESS, CARELESS, NEGLIGENT OR AGGRESSIVE MANNER', \n",
        "                                                'DRIVING ON WRONG SIDE/WRONG WAY',\n",
        "                                                'IMPROPER BACKING',\n",
        "                                                'EXCEEDING AUTHORIZED SPEED LIMIT',\n",
        "                                                'EXCEEDING SAFE SPEED FOR CONDITIONS',\n",
        "                                                'FAILING TO REDUCE SPEED TO AVOID CRASH',\n",
        "                                                'FOLLOWING TOO CLOSELY'\n",
        "                                         ], 'RECKLESS/IMPROPER DRIVING', inplace=True)\n",
        "\n",
        "# #Overspeeding\n",
        "# cln_crashes['PRIM_CONTRIBUTORY_CAUSE'].replace(['EXCEEDING AUTHORIZED SPEED LIMIT',\n",
        "#                                                 'EXCEEDING SAFE SPEED FOR CONDITIONS'\n",
        "#                                          ], 'OVERSPEEDING', inplace=True)\n",
        "\n",
        "# #Overspeeding\n",
        "# cln_crashes['PRIM_CONTRIBUTORY_CAUSE'].replace(['WEATHER'\n",
        "#                                          ], \"NATURE'S IMPACT\", inplace=True)\n",
        "\n",
        "#Obstructions\n",
        "cln_crashes['PRIM_CONTRIBUTORY_CAUSE'].replace(['MOTORCYCLE ADVANCING LEGALLY ON RED LIGHT',\n",
        "                                                'BICYCLE ADVANCING LEGALLY ON RED LIGHT', \n",
        "                                                'OBSTRUCTED CROSSWALKS', \n",
        "                                                'ANIMAL', \n",
        "                                                'ROAD CONSTRUCTION/MAINTENANCE', \n",
        "                                                'ROAD ENGINEERING/SURFACE/MARKING DEFECTS',\n",
        "                                                'EVASIVE ACTION DUE TO ANIMAL, OBJECT, NONMOTORIST',\n",
        "                                                'VISION OBSCURED (SIGNS, TREE LIMBS, BUILDINGS, ETC.)',\n",
        "                                                'VISION OBSCURED (SIGNS, TREE LIMBS, BUILDINGS, ETC.)',\n",
        "                                                'DISTRACTION - FROM OUTSIDE VEHICLE',\n",
        "                                                'WEATHER'\n",
        "                                         ], 'OBSTRUCTIONS', inplace=True)\n",
        "\n",
        "#Compromised Driving\n",
        "cln_crashes['PRIM_CONTRIBUTORY_CAUSE'].replace(['PHYSICAL CONDITION OF DRIVER',\n",
        "                                                'UNDER THE INFLUENCE OF ALCOHOL/DRUGS (USE WHEN ARREST IS EFFECTED)', \n",
        "                                                'DISTRACTION - FROM INSIDE VEHICLE', \n",
        "                                                'CELL PHONE USE OTHER THAN TEXTING', \n",
        "                                                'HAD BEEN DRINKING (USE WHEN ARREST IS NOT MADE)', \n",
        "                                                'DISTRACTION - OTHER ELECTRONIC DEVICE (NAVIGATION DEVICE, DVD PLAYER, ETC.)',\n",
        "                                                \n",
        "                                                'EQUIPMENT - VEHICLE CONDITION',\n",
        "                                                'TEXTING'\n",
        "                                         ], 'COMPROMISED DRIVING', inplace=True)\n",
        "\n",
        "\n"
      ]
    },
    {
      "cell_type": "code",
      "execution_count": 93,
      "id": "fece0244",
      "metadata": {
        "colab": {
          "base_uri": "https://localhost:8080/"
        },
        "execution": {
          "iopub.execute_input": "2023-04-22T07:21:19.607263Z",
          "iopub.status.busy": "2023-04-22T07:21:19.606456Z",
          "iopub.status.idle": "2023-04-22T07:21:19.628915Z",
          "shell.execute_reply": "2023-04-22T07:21:19.627131Z"
        },
        "id": "fece0244",
        "outputId": "635e68ef-6403-4691-85d6-53e0fe56df5b",
        "papermill": {
          "duration": 0.144517,
          "end_time": "2023-04-22T07:21:19.632024",
          "exception": false,
          "start_time": "2023-04-22T07:21:19.487507",
          "status": "completed"
        },
        "scrolled": true,
        "tags": []
      },
      "outputs": [
        {
          "data": {
            "text/plain": [
              "UNABLE TO DETERMINE          47841\n",
              "RECKLESS/IMPROPER DRIVING    45001\n",
              "TRAFFIC RULES VIOLATED       40219\n",
              "COMPROMISED DRIVING           9560\n",
              "OBSTRUCTIONS                  7339\n",
              "NOT APPLICABLE                6268\n",
              "Name: PRIM_CONTRIBUTORY_CAUSE, dtype: int64"
            ]
          },
          "execution_count": 93,
          "metadata": {},
          "output_type": "execute_result"
        }
      ],
      "source": [
        "#check new vaalue counts\n",
        "cln_crashes['PRIM_CONTRIBUTORY_CAUSE'].value_counts()"
      ]
    },
    {
      "cell_type": "code",
      "execution_count": 94,
      "id": "2f472924",
      "metadata": {
        "colab": {
          "base_uri": "https://localhost:8080/"
        },
        "id": "2f472924",
        "outputId": "32dfcdcb-cd31-4317-f793-717104ca5d23"
      },
      "outputs": [
        {
          "data": {
            "text/plain": [
              "UNABLE TO DETERMINE          30.6226%\n",
              "RECKLESS/IMPROPER DRIVING    28.8047%\n",
              "TRAFFIC RULES VIOLATED       25.7438%\n",
              "COMPROMISED DRIVING           6.1193%\n",
              "OBSTRUCTIONS                  4.6976%\n",
              "NOT APPLICABLE                4.0121%\n",
              "Name: PRIM_CONTRIBUTORY_CAUSE, dtype: object"
            ]
          },
          "execution_count": 94,
          "metadata": {},
          "output_type": "execute_result"
        }
      ],
      "source": [
        "#check new vaalue counts percentages\n",
        "cln_crashes['PRIM_CONTRIBUTORY_CAUSE'].value_counts(normalize=True).mul(100).round(4).astype(str) + '%'"
      ]
    },
    {
      "cell_type": "markdown",
      "id": "c33fb111",
      "metadata": {
        "id": "c33fb111"
      },
      "source": [
        "Next is the second contributory cause. We can use the same binn categories as we did for the primary one but before we do that, we are going to see if there is a ssecondary contributory cause listed for records that were unable to determine or not applicable. The goal is to only have a singular cause column. Primaary cause will take precedence but where we don't have enough information, we can use the secondary one to fill the gaps."
      ]
    },
    {
      "cell_type": "code",
      "execution_count": 95,
      "id": "217e2f0e",
      "metadata": {
        "colab": {
          "base_uri": "https://localhost:8080/"
        },
        "execution": {
          "iopub.execute_input": "2023-04-22T07:21:19.951160Z",
          "iopub.status.busy": "2023-04-22T07:21:19.949307Z",
          "iopub.status.idle": "2023-04-22T07:21:19.974996Z",
          "shell.execute_reply": "2023-04-22T07:21:19.973398Z"
        },
        "id": "217e2f0e",
        "outputId": "a412cdf4-3ee9-4bca-fe5a-b7f99f7e5c50",
        "papermill": {
          "duration": 0.15055,
          "end_time": "2023-04-22T07:21:19.978106",
          "exception": false,
          "start_time": "2023-04-22T07:21:19.827556",
          "status": "completed"
        },
        "tags": []
      },
      "outputs": [
        {
          "data": {
            "text/plain": [
              "NOT APPLICABLE                                                                      61028\n",
              "UNABLE TO DETERMINE                                                                 50601\n",
              "FAILING TO REDUCE SPEED TO AVOID CRASH                                               8974\n",
              "FAILING TO YIELD RIGHT-OF-WAY                                                        6721\n",
              "DRIVING SKILLS/KNOWLEDGE/EXPERIENCE                                                  5338\n",
              "FOLLOWING TOO CLOSELY                                                                2960\n",
              "WEATHER                                                                              2708\n",
              "IMPROPER TURNING/NO SIGNAL                                                           1984\n",
              "IMPROPER LANE USAGE                                                                  1939\n",
              "OPERATING VEHICLE IN ERRATIC, RECKLESS, CARELESS, NEGLIGENT OR AGGRESSIVE MANNER     1665\n",
              "IMPROPER OVERTAKING/PASSING                                                          1542\n",
              "DISREGARDING TRAFFIC SIGNALS                                                         1459\n",
              "PHYSICAL CONDITION OF DRIVER                                                         1061\n",
              "VISION OBSCURED (SIGNS, TREE LIMBS, BUILDINGS, ETC.)                                  938\n",
              "DISREGARDING STOP SIGN                                                                877\n",
              "DISTRACTION - FROM INSIDE VEHICLE                                                     733\n",
              "UNDER THE INFLUENCE OF ALCOHOL/DRUGS (USE WHEN ARREST IS EFFECTED)                    716\n",
              "EQUIPMENT - VEHICLE CONDITION                                                         691\n",
              "DRIVING ON WRONG SIDE/WRONG WAY                                                       609\n",
              "EXCEEDING AUTHORIZED SPEED LIMIT                                                      490\n",
              "DISTRACTION - FROM OUTSIDE VEHICLE                                                    440\n",
              "EXCEEDING SAFE SPEED FOR CONDITIONS                                                   403\n",
              "DISREGARDING OTHER TRAFFIC SIGNS                                                      326\n",
              "IMPROPER BACKING                                                                      320\n",
              "HAD BEEN DRINKING (USE WHEN ARREST IS NOT MADE)                                       247\n",
              "DISREGARDING ROAD MARKINGS                                                            234\n",
              "ROAD CONSTRUCTION/MAINTENANCE                                                         193\n",
              "CELL PHONE USE OTHER THAN TEXTING                                                     185\n",
              "ROAD ENGINEERING/SURFACE/MARKING DEFECTS                                              173\n",
              "EVASIVE ACTION DUE TO ANIMAL, OBJECT, NONMOTORIST                                     137\n",
              "DISTRACTION - OTHER ELECTRONIC DEVICE (NAVIGATION DEVICE, DVD PLAYER, ETC.)            87\n",
              "TURNING RIGHT ON RED                                                                   84\n",
              "DISREGARDING YIELD SIGN                                                                78\n",
              "RELATED TO BUS STOP                                                                    76\n",
              "ANIMAL                                                                                 71\n",
              "BICYCLE ADVANCING LEGALLY ON RED LIGHT                                                 44\n",
              "TEXTING                                                                                36\n",
              "OBSTRUCTED CROSSWALKS                                                                  30\n",
              "PASSING STOPPED SCHOOL BUS                                                             18\n",
              "MOTORCYCLE ADVANCING LEGALLY ON RED LIGHT                                              12\n",
              "Name: SEC_CONTRIBUTORY_CAUSE, dtype: int64"
            ]
          },
          "execution_count": 95,
          "metadata": {},
          "output_type": "execute_result"
        }
      ],
      "source": [
        "#check value counts\n",
        "cln_crashes['SEC_CONTRIBUTORY_CAUSE'].value_counts()"
      ]
    },
    {
      "cell_type": "code",
      "execution_count": 96,
      "id": "56e503a8",
      "metadata": {
        "execution": {
          "iopub.execute_input": "2023-04-22T07:21:19.145435Z",
          "iopub.status.busy": "2023-04-22T07:21:19.144955Z",
          "iopub.status.idle": "2023-04-22T07:21:19.369049Z",
          "shell.execute_reply": "2023-04-22T07:21:19.367325Z"
        },
        "id": "56e503a8",
        "papermill": {
          "duration": 0.350035,
          "end_time": "2023-04-22T07:21:19.372359",
          "exception": false,
          "start_time": "2023-04-22T07:21:19.022324",
          "status": "completed"
        },
        "tags": []
      },
      "outputs": [],
      "source": [
        "#bin categories\n",
        "\n",
        "#traffic ruless violated\n",
        "cln_crashes['SEC_CONTRIBUTORY_CAUSE'].replace(['DISREGARDING TRAFFIC SIGNALS',\n",
        "                                                'DISREGARDING STOP SIGN', \n",
        "                                                'PASSING STOPPED SCHOOL BUS', \n",
        "                                                'RELATED TO BUS STOP', \n",
        "                                                'DISREGARDING YIELD SIGN', \n",
        "                                                'TURNING RIGHT ON RED',\n",
        "                                                'TURNING RIGHT ON RED',\n",
        "                                                'DISREGARDING OTHER TRAFFIC SIGNS',\n",
        "                                                'DRIVING ON WRONG SIDE/WRONG WAY',\n",
        "                                                'DISREGARDING ROAD MARKINGS',\n",
        "                                                'FAILING TO YIELD RIGHT-OF-WAY'\n",
        "                                         ], 'TRAFFIC RULES VIOLATED', inplace=True)\n",
        "\n",
        "#Reckless/Improper Driving\n",
        "cln_crashes['SEC_CONTRIBUTORY_CAUSE'].replace(['IMPROPER TURNING/NO SIGNAL',\n",
        "                                                'DRIVING SKILLS/KNOWLEDGE/EXPERIENCE', \n",
        "                                                'IMPROPER OVERTAKING/PASSING', \n",
        "                                                'IMPROPER LANE USAGE', \n",
        "                                                'OPERATING VEHICLE IN ERRATIC, RECKLESS, CARELESS, NEGLIGENT OR AGGRESSIVE MANNER', \n",
        "                                                'DRIVING ON WRONG SIDE/WRONG WAY',\n",
        "                                                'IMPROPER BACKING',\n",
        "                                                'EXCEEDING AUTHORIZED SPEED LIMIT',\n",
        "                                                'EXCEEDING SAFE SPEED FOR CONDITIONS',\n",
        "                                                'FAILING TO REDUCE SPEED TO AVOID CRASH',\n",
        "                                                'FOLLOWING TOO CLOSELY'\n",
        "                                         ], 'RECKLESS/IMPROPER DRIVING', inplace=True)\n",
        "\n",
        "\n",
        "#Obstructions\n",
        "cln_crashes['SEC_CONTRIBUTORY_CAUSE'].replace(['MOTORCYCLE ADVANCING LEGALLY ON RED LIGHT',\n",
        "                                                'BICYCLE ADVANCING LEGALLY ON RED LIGHT', \n",
        "                                                'OBSTRUCTED CROSSWALKS', \n",
        "                                                'ANIMAL', \n",
        "                                                'ROAD CONSTRUCTION/MAINTENANCE', \n",
        "                                                'ROAD ENGINEERING/SURFACE/MARKING DEFECTS',\n",
        "                                                'EVASIVE ACTION DUE TO ANIMAL, OBJECT, NONMOTORIST',\n",
        "                                                'VISION OBSCURED (SIGNS, TREE LIMBS, BUILDINGS, ETC.)',\n",
        "                                                'VISION OBSCURED (SIGNS, TREE LIMBS, BUILDINGS, ETC.)',\n",
        "                                                'DISTRACTION - FROM OUTSIDE VEHICLE',\n",
        "                                                'WEATHER'\n",
        "                                         ], 'OBSTRUCTIONS', inplace=True)\n",
        "\n",
        "#Compromised Driving\n",
        "cln_crashes['SEC_CONTRIBUTORY_CAUSE'].replace(['PHYSICAL CONDITION OF DRIVER',\n",
        "                                                'UNDER THE INFLUENCE OF ALCOHOL/DRUGS (USE WHEN ARREST IS EFFECTED)', \n",
        "                                                'DISTRACTION - FROM INSIDE VEHICLE', \n",
        "                                                'CELL PHONE USE OTHER THAN TEXTING', \n",
        "                                                'HAD BEEN DRINKING (USE WHEN ARREST IS NOT MADE)', \n",
        "                                                'DISTRACTION - OTHER ELECTRONIC DEVICE (NAVIGATION DEVICE, DVD PLAYER, ETC.)',\n",
        "                                                \n",
        "                                                'EQUIPMENT - VEHICLE CONDITION',\n",
        "                                                'TEXTING'\n",
        "                                         ], 'COMPROMISED DRIVING', inplace=True)\n",
        "\n",
        "\n"
      ]
    },
    {
      "cell_type": "code",
      "execution_count": 97,
      "id": "ab7193ee",
      "metadata": {
        "colab": {
          "base_uri": "https://localhost:8080/"
        },
        "execution": {
          "iopub.execute_input": "2023-04-22T07:21:19.607263Z",
          "iopub.status.busy": "2023-04-22T07:21:19.606456Z",
          "iopub.status.idle": "2023-04-22T07:21:19.628915Z",
          "shell.execute_reply": "2023-04-22T07:21:19.627131Z"
        },
        "id": "ab7193ee",
        "outputId": "050767e1-d08b-4f88-a3af-3315fb68f445",
        "papermill": {
          "duration": 0.144517,
          "end_time": "2023-04-22T07:21:19.632024",
          "exception": false,
          "start_time": "2023-04-22T07:21:19.487507",
          "status": "completed"
        },
        "scrolled": true,
        "tags": []
      },
      "outputs": [
        {
          "data": {
            "text/plain": [
              "NOT APPLICABLE               61028\n",
              "UNABLE TO DETERMINE          50601\n",
              "RECKLESS/IMPROPER DRIVING    25615\n",
              "TRAFFIC RULES VIOLATED       10482\n",
              "OBSTRUCTIONS                  4746\n",
              "COMPROMISED DRIVING           3756\n",
              "Name: SEC_CONTRIBUTORY_CAUSE, dtype: int64"
            ]
          },
          "execution_count": 97,
          "metadata": {},
          "output_type": "execute_result"
        }
      ],
      "source": [
        "#check new vaalue counts\n",
        "cln_crashes['SEC_CONTRIBUTORY_CAUSE'].value_counts()"
      ]
    },
    {
      "cell_type": "code",
      "execution_count": 98,
      "id": "f85b8ab1",
      "metadata": {
        "execution": {
          "iopub.execute_input": "2023-04-22T07:21:19.145435Z",
          "iopub.status.busy": "2023-04-22T07:21:19.144955Z",
          "iopub.status.idle": "2023-04-22T07:21:19.369049Z",
          "shell.execute_reply": "2023-04-22T07:21:19.367325Z"
        },
        "id": "f85b8ab1",
        "papermill": {
          "duration": 0.350035,
          "end_time": "2023-04-22T07:21:19.372359",
          "exception": false,
          "start_time": "2023-04-22T07:21:19.022324",
          "status": "completed"
        },
        "tags": []
      },
      "outputs": [],
      "source": [
        "#bin categories\n",
        "\n",
        "#traffic ruless violated\n",
        "cln_crashes['PRIM_CONTRIBUTORY_CAUSE'].replace(['DISREGARDING TRAFFIC SIGNALS',\n",
        "                                                'DISREGARDING STOP SIGN', \n",
        "                                                'PASSING STOPPED SCHOOL BUS', \n",
        "                                                'RELATED TO BUS STOP', \n",
        "                                                'DISREGARDING YIELD SIGN', \n",
        "                                                'TURNING RIGHT ON RED',\n",
        "                                                'TURNING RIGHT ON RED',\n",
        "                                                'DISREGARDING OTHER TRAFFIC SIGNS',\n",
        "                                                'DRIVING ON WRONG SIDE/WRONG WAY',\n",
        "                                                'DISREGARDING ROAD MARKINGS',\n",
        "                                                'FAILING TO YIELD RIGHT-OF-WAY'\n",
        "                                         ], 'TRAFFIC RULES VIOLATED', inplace=True)\n",
        "\n",
        "#Reckless/Improper Driving\n",
        "cln_crashes['PRIM_CONTRIBUTORY_CAUSE'].replace(['IMPROPER TURNING/NO SIGNAL',\n",
        "                                                'DRIVING SKILLS/KNOWLEDGE/EXPERIENCE', \n",
        "                                                'IMPROPER OVERTAKING/PASSING', \n",
        "                                                'IMPROPER LANE USAGE', \n",
        "                                                'OPERATING VEHICLE IN ERRATIC, RECKLESS, CARELESS, NEGLIGENT OR AGGRESSIVE MANNER', \n",
        "                                                'DRIVING ON WRONG SIDE/WRONG WAY',\n",
        "                                                'IMPROPER BACKING',\n",
        "                                                'EXCEEDING AUTHORIZED SPEED LIMIT',\n",
        "                                                'EXCEEDING SAFE SPEED FOR CONDITIONS',\n",
        "                                                'FAILING TO REDUCE SPEED TO AVOID CRASH',\n",
        "                                                'FOLLOWING TOO CLOSELY'\n",
        "                                         ], 'RECKLESS/IMPROPER DRIVING', inplace=True)\n",
        "\n",
        "# #Overspeeding\n",
        "# cln_crashes['PRIM_CONTRIBUTORY_CAUSE'].replace(['EXCEEDING AUTHORIZED SPEED LIMIT',\n",
        "#                                                 'EXCEEDING SAFE SPEED FOR CONDITIONS'\n",
        "#                                          ], 'OVERSPEEDING', inplace=True)\n",
        "\n",
        "# #Overspeeding\n",
        "# cln_crashes['PRIM_CONTRIBUTORY_CAUSE'].replace(['WEATHER'\n",
        "#                                          ], \"NATURE'S IMPACT\", inplace=True)\n",
        "\n",
        "#Obstructions\n",
        "cln_crashes['PRIM_CONTRIBUTORY_CAUSE'].replace(['MOTORCYCLE ADVANCING LEGALLY ON RED LIGHT',\n",
        "                                                'BICYCLE ADVANCING LEGALLY ON RED LIGHT', \n",
        "                                                'OBSTRUCTED CROSSWALKS', \n",
        "                                                'ANIMAL', \n",
        "                                                'ROAD CONSTRUCTION/MAINTENANCE', \n",
        "                                                'ROAD ENGINEERING/SURFACE/MARKING DEFECTS',\n",
        "                                                'EVASIVE ACTION DUE TO ANIMAL, OBJECT, NONMOTORIST',\n",
        "                                                'VISION OBSCURED (SIGNS, TREE LIMBS, BUILDINGS, ETC.)',\n",
        "                                                'VISION OBSCURED (SIGNS, TREE LIMBS, BUILDINGS, ETC.)',\n",
        "                                                'DISTRACTION - FROM OUTSIDE VEHICLE',\n",
        "                                                'WEATHER'\n",
        "                                         ], 'OBSTRUCTIONS', inplace=True)\n",
        "\n",
        "#Compromised Driving\n",
        "cln_crashes['PRIM_CONTRIBUTORY_CAUSE'].replace(['PHYSICAL CONDITION OF DRIVER',\n",
        "                                                'UNDER THE INFLUENCE OF ALCOHOL/DRUGS (USE WHEN ARREST IS EFFECTED)', \n",
        "                                                'DISTRACTION - FROM INSIDE VEHICLE', \n",
        "                                                'CELL PHONE USE OTHER THAN TEXTING', \n",
        "                                                'HAD BEEN DRINKING (USE WHEN ARREST IS NOT MADE)', \n",
        "                                                'DISTRACTION - OTHER ELECTRONIC DEVICE (NAVIGATION DEVICE, DVD PLAYER, ETC.)',\n",
        "                                                \n",
        "                                                'EQUIPMENT - VEHICLE CONDITION',\n",
        "                                                'TEXTING'\n",
        "                                         ], 'COMPROMISED DRIVING', inplace=True)\n",
        "\n",
        "\n"
      ]
    },
    {
      "cell_type": "code",
      "execution_count": 99,
      "id": "0469be77",
      "metadata": {
        "colab": {
          "base_uri": "https://localhost:8080/"
        },
        "execution": {
          "iopub.execute_input": "2023-04-22T07:21:19.607263Z",
          "iopub.status.busy": "2023-04-22T07:21:19.606456Z",
          "iopub.status.idle": "2023-04-22T07:21:19.628915Z",
          "shell.execute_reply": "2023-04-22T07:21:19.627131Z"
        },
        "id": "0469be77",
        "outputId": "7805520b-3215-44a8-9f68-8db4b9fdaf78",
        "papermill": {
          "duration": 0.144517,
          "end_time": "2023-04-22T07:21:19.632024",
          "exception": false,
          "start_time": "2023-04-22T07:21:19.487507",
          "status": "completed"
        },
        "scrolled": true,
        "tags": []
      },
      "outputs": [
        {
          "data": {
            "text/plain": [
              "UNABLE TO DETERMINE          47841\n",
              "RECKLESS/IMPROPER DRIVING    45001\n",
              "TRAFFIC RULES VIOLATED       40219\n",
              "COMPROMISED DRIVING           9560\n",
              "OBSTRUCTIONS                  7339\n",
              "NOT APPLICABLE                6268\n",
              "Name: PRIM_CONTRIBUTORY_CAUSE, dtype: int64"
            ]
          },
          "execution_count": 99,
          "metadata": {},
          "output_type": "execute_result"
        }
      ],
      "source": [
        "#check new vaalue counts\n",
        "cln_crashes['PRIM_CONTRIBUTORY_CAUSE'].value_counts()"
      ]
    },
    {
      "cell_type": "markdown",
      "id": "4472e81f",
      "metadata": {
        "id": "4472e81f"
      },
      "source": [
        "Now we will check whether there are any records that have 'unable to determine' listed the in primary column but have a cause listed in the secondary column."
      ]
    },
    {
      "cell_type": "code",
      "execution_count": 100,
      "id": "b568a0ee",
      "metadata": {
        "colab": {
          "base_uri": "https://localhost:8080/"
        },
        "execution": {
          "iopub.execute_input": "2023-04-22T07:21:20.227306Z",
          "iopub.status.busy": "2023-04-22T07:21:20.226856Z",
          "iopub.status.idle": "2023-04-22T07:21:20.275202Z",
          "shell.execute_reply": "2023-04-22T07:21:20.273549Z"
        },
        "id": "b568a0ee",
        "outputId": "23f8b05b-0f23-4bc5-a851-17bd0c54ef32",
        "papermill": {
          "duration": 0.174144,
          "end_time": "2023-04-22T07:21:20.278521",
          "exception": false,
          "start_time": "2023-04-22T07:21:20.104377",
          "status": "completed"
        },
        "tags": []
      },
      "outputs": [
        {
          "data": {
            "text/plain": [
              "UNABLE TO DETERMINE          27467\n",
              "NOT APPLICABLE               18248\n",
              "RECKLESS/IMPROPER DRIVING     1131\n",
              "TRAFFIC RULES VIOLATED         375\n",
              "OBSTRUCTIONS                   371\n",
              "COMPROMISED DRIVING            249\n",
              "Name: SEC_CONTRIBUTORY_CAUSE, dtype: int64"
            ]
          },
          "execution_count": 100,
          "metadata": {},
          "output_type": "execute_result"
        }
      ],
      "source": [
        "#check value counts for primary unable to determine cause\n",
        "cln_crashes[cln_crashes['PRIM_CONTRIBUTORY_CAUSE'] == 'UNABLE TO DETERMINE']['SEC_CONTRIBUTORY_CAUSE'].value_counts()"
      ]
    },
    {
      "cell_type": "markdown",
      "id": "d0063d04",
      "metadata": {
        "id": "d0063d04"
      },
      "source": [
        "The majority of the records are also either 'Unable to Determine' or 'Not Applicable' but there are some records where we can leverage this data to fill up gaps in the primary column."
      ]
    },
    {
      "cell_type": "code",
      "execution_count": 101,
      "id": "36aa4f07",
      "metadata": {
        "colab": {
          "base_uri": "https://localhost:8080/"
        },
        "execution": {
          "iopub.execute_input": "2023-04-22T07:21:20.525089Z",
          "iopub.status.busy": "2023-04-22T07:21:20.524609Z",
          "iopub.status.idle": "2023-04-22T07:21:20.557294Z",
          "shell.execute_reply": "2023-04-22T07:21:20.554391Z"
        },
        "id": "36aa4f07",
        "outputId": "af59e40b-9b47-4290-86e0-3704617957a9",
        "papermill": {
          "duration": 0.159889,
          "end_time": "2023-04-22T07:21:20.560521",
          "exception": false,
          "start_time": "2023-04-22T07:21:20.400632",
          "status": "completed"
        },
        "tags": []
      },
      "outputs": [
        {
          "data": {
            "text/plain": [
              "NOT APPLICABLE               5753\n",
              "UNABLE TO DETERMINE           314\n",
              "RECKLESS/IMPROPER DRIVING      70\n",
              "OBSTRUCTIONS                   57\n",
              "TRAFFIC RULES VIOLATED         45\n",
              "COMPROMISED DRIVING            29\n",
              "Name: SEC_CONTRIBUTORY_CAUSE, dtype: int64"
            ]
          },
          "execution_count": 101,
          "metadata": {},
          "output_type": "execute_result"
        }
      ],
      "source": [
        "#check value counts for primary not applicable cause\n",
        "cln_crashes[cln_crashes['PRIM_CONTRIBUTORY_CAUSE'] == 'NOT APPLICABLE']['SEC_CONTRIBUTORY_CAUSE'].value_counts()"
      ]
    },
    {
      "cell_type": "markdown",
      "id": "40c53a93",
      "metadata": {
        "id": "40c53a93"
      },
      "source": [
        "Similarly, the majority of the records are also either 'Unable to Determine' or 'Not Applicable' but there are some records where we can leverage this data to fill up gaps in the primary column."
      ]
    },
    {
      "cell_type": "markdown",
      "id": "4f9d0228",
      "metadata": {
        "id": "4f9d0228"
      },
      "source": [
        "Now, lets fill in the gaps for primary causes"
      ]
    },
    {
      "cell_type": "code",
      "execution_count": 102,
      "id": "65809d45",
      "metadata": {
        "colab": {
          "base_uri": "https://localhost:8080/"
        },
        "execution": {
          "iopub.execute_input": "2023-04-22T07:21:22.379191Z",
          "iopub.status.busy": "2023-04-22T07:21:22.378238Z",
          "iopub.status.idle": "2023-04-22T07:21:56.412385Z",
          "shell.execute_reply": "2023-04-22T07:21:56.410554Z"
        },
        "id": "65809d45",
        "outputId": "f8a31821-6572-4db9-a290-d53d1b69f4e7",
        "papermill": {
          "duration": 34.168341,
          "end_time": "2023-04-22T07:21:56.416228",
          "exception": false,
          "start_time": "2023-04-22T07:21:22.247887",
          "status": "completed"
        },
        "tags": []
      },
      "outputs": [
        {
          "name": "stderr",
          "output_type": "stream",
          "text": [
            "<ipython-input-102-a1cd0603bb70>:6: SettingWithCopyWarning: \n",
            "A value is trying to be set on a copy of a slice from a DataFrame\n",
            "\n",
            "See the caveats in the documentation: https://pandas.pydata.org/pandas-docs/stable/user_guide/indexing.html#returning-a-view-versus-a-copy\n",
            "  cln_crashes['PRIM_CONTRIBUTORY_CAUSE'][ind] = row['SEC_CONTRIBUTORY_CAUSE']\n"
          ]
        }
      ],
      "source": [
        "#identify the records from thee primary column and replace with secondary information\n",
        "for ind, row in cln_crashes[['PRIM_CONTRIBUTORY_CAUSE', 'SEC_CONTRIBUTORY_CAUSE']].iterrows():\n",
        "    if (row['PRIM_CONTRIBUTORY_CAUSE'] != row['SEC_CONTRIBUTORY_CAUSE']) & (\n",
        "        (row['PRIM_CONTRIBUTORY_CAUSE'] == 'UNABLE TO DETERMINE') | \n",
        "         (row['PRIM_CONTRIBUTORY_CAUSE'] == 'NOT APPLICABLE')):\n",
        "            cln_crashes['PRIM_CONTRIBUTORY_CAUSE'][ind] = row['SEC_CONTRIBUTORY_CAUSE']\n",
        "            "
      ]
    },
    {
      "cell_type": "code",
      "execution_count": 103,
      "id": "31d89b42",
      "metadata": {
        "colab": {
          "base_uri": "https://localhost:8080/"
        },
        "execution": {
          "iopub.execute_input": "2023-04-22T07:21:56.677450Z",
          "iopub.status.busy": "2023-04-22T07:21:56.676205Z",
          "iopub.status.idle": "2023-04-22T07:21:56.699977Z",
          "shell.execute_reply": "2023-04-22T07:21:56.698312Z"
        },
        "id": "31d89b42",
        "outputId": "5d702418-33c3-4105-d3d2-c7718e44283b",
        "papermill": {
          "duration": 0.15341,
          "end_time": "2023-04-22T07:21:56.703181",
          "exception": false,
          "start_time": "2023-04-22T07:21:56.549771",
          "status": "completed"
        },
        "tags": []
      },
      "outputs": [
        {
          "data": {
            "text/plain": [
              "RECKLESS/IMPROPER DRIVING    46202\n",
              "TRAFFIC RULES VIOLATED       40639\n",
              "UNABLE TO DETERMINE          27781\n",
              "NOT APPLICABLE               24001\n",
              "COMPROMISED DRIVING           9838\n",
              "OBSTRUCTIONS                  7767\n",
              "Name: PRIM_CONTRIBUTORY_CAUSE, dtype: int64"
            ]
          },
          "execution_count": 103,
          "metadata": {},
          "output_type": "execute_result"
        }
      ],
      "source": [
        "cln_crashes['PRIM_CONTRIBUTORY_CAUSE'].value_counts()"
      ]
    },
    {
      "cell_type": "markdown",
      "id": "7ecced37",
      "metadata": {
        "id": "7ecced37"
      },
      "source": [
        "We can set aside the Unable to determine category and predict it with our final model to get an understanding of what it could have been.\n",
        "\n",
        "For the Not Applicable Category, there is no explanation as to what this means. Rather than using data that we don't understand, it would be better to drop it."
      ]
    },
    {
      "cell_type": "code",
      "execution_count": 104,
      "id": "7b802a75",
      "metadata": {
        "id": "7b802a75"
      },
      "outputs": [],
      "source": [
        "#filter out not applicaable category\n",
        "cln_crashes = cln_crashes[cln_crashes['PRIM_CONTRIBUTORY_CAUSE'] != 'NOT APPLICABLE']"
      ]
    },
    {
      "cell_type": "code",
      "execution_count": 105,
      "id": "837c1c20",
      "metadata": {
        "colab": {
          "base_uri": "https://localhost:8080/"
        },
        "id": "837c1c20",
        "outputId": "fc1328d8-5743-499c-9ccf-05dfd38da0a2"
      },
      "outputs": [
        {
          "data": {
            "text/plain": [
              "RECKLESS/IMPROPER DRIVING    46202\n",
              "TRAFFIC RULES VIOLATED       40639\n",
              "UNABLE TO DETERMINE          27781\n",
              "COMPROMISED DRIVING           9838\n",
              "OBSTRUCTIONS                  7767\n",
              "Name: PRIM_CONTRIBUTORY_CAUSE, dtype: int64"
            ]
          },
          "execution_count": 105,
          "metadata": {},
          "output_type": "execute_result"
        }
      ],
      "source": [
        "#check new vaalue counts\n",
        "cln_crashes['PRIM_CONTRIBUTORY_CAUSE'].value_counts()"
      ]
    },
    {
      "cell_type": "markdown",
      "id": "6df88cb3",
      "metadata": {
        "id": "6df88cb3"
      },
      "source": [
        "With only unable to determine left, the secondary column can be dropped"
      ]
    },
    {
      "cell_type": "code",
      "execution_count": 106,
      "id": "af46f5a3",
      "metadata": {
        "colab": {
          "base_uri": "https://localhost:8080/"
        },
        "execution": {
          "iopub.execute_input": "2023-04-22T07:21:56.962050Z",
          "iopub.status.busy": "2023-04-22T07:21:56.961042Z",
          "iopub.status.idle": "2023-04-22T07:21:56.996814Z",
          "shell.execute_reply": "2023-04-22T07:21:56.995447Z"
        },
        "id": "af46f5a3",
        "outputId": "4b42512b-2a14-4f8c-bc03-4c818e392c0b",
        "papermill": {
          "duration": 0.172306,
          "end_time": "2023-04-22T07:21:57.000210",
          "exception": false,
          "start_time": "2023-04-22T07:21:56.827904",
          "status": "completed"
        },
        "tags": []
      },
      "outputs": [
        {
          "name": "stderr",
          "output_type": "stream",
          "text": [
            "<ipython-input-106-797889bb1b8c>:2: SettingWithCopyWarning: \n",
            "A value is trying to be set on a copy of a slice from a DataFrame\n",
            "\n",
            "See the caveats in the documentation: https://pandas.pydata.org/pandas-docs/stable/user_guide/indexing.html#returning-a-view-versus-a-copy\n",
            "  cln_crashes.drop(columns=['SEC_CONTRIBUTORY_CAUSE'],axis=1, inplace=True)\n"
          ]
        }
      ],
      "source": [
        "#drop column\n",
        "cln_crashes.drop(columns=['SEC_CONTRIBUTORY_CAUSE'],axis=1, inplace=True)"
      ]
    },
    {
      "cell_type": "code",
      "execution_count": 107,
      "id": "a089e4fa",
      "metadata": {
        "colab": {
          "base_uri": "https://localhost:8080/"
        },
        "execution": {
          "iopub.execute_input": "2023-04-22T07:21:57.251662Z",
          "iopub.status.busy": "2023-04-22T07:21:57.251137Z",
          "iopub.status.idle": "2023-04-22T07:21:57.366145Z",
          "shell.execute_reply": "2023-04-22T07:21:57.364485Z"
        },
        "id": "a089e4fa",
        "outputId": "49a49fcb-57f1-463e-9ddb-1ccf56c4a02b",
        "papermill": {
          "duration": 0.246368,
          "end_time": "2023-04-22T07:21:57.370893",
          "exception": false,
          "start_time": "2023-04-22T07:21:57.124525",
          "status": "completed"
        },
        "tags": []
      },
      "outputs": [
        {
          "name": "stdout",
          "output_type": "stream",
          "text": [
            "<class 'pandas.core.frame.DataFrame'>\n",
            "Int64Index: 132227 entries, 0 to 692777\n",
            "Data columns (total 20 columns):\n",
            " #   Column                   Non-Null Count   Dtype  \n",
            "---  ------                   --------------   -----  \n",
            " 0   CRASH_RECORD_ID          132227 non-null  object \n",
            " 1   CRASH_YEAR               132227 non-null  int64  \n",
            " 2   POSTED_SPEED_LIMIT       132227 non-null  int64  \n",
            " 3   DEVICE_CONDITION         132227 non-null  object \n",
            " 4   WEATHER_CONDITION        132227 non-null  object \n",
            " 5   LIGHTING_CONDITION       132227 non-null  object \n",
            " 6   CRASH_TYPE               132227 non-null  object \n",
            " 7   INTERSECTION_RELATED_I   132227 non-null  object \n",
            " 8   ROAD_DEFECT              132227 non-null  object \n",
            " 9   PRIM_CONTRIBUTORY_CAUSE  132227 non-null  object \n",
            " 10  NUM_UNITS                132227 non-null  int64  \n",
            " 11  WORK_ZONE_I              132227 non-null  object \n",
            " 12  WORKERS_PRESENT_I        132227 non-null  object \n",
            " 13  INJURIES_TOTAL           132227 non-null  float64\n",
            " 14  INJURIES_FATAL           132227 non-null  float64\n",
            " 15  CRASH_HOUR               132227 non-null  int64  \n",
            " 16  CRASH_DAY_OF_WEEK        132227 non-null  int64  \n",
            " 17  CRASH_MONTH              132227 non-null  int64  \n",
            " 18  LATITUDE                 132227 non-null  float64\n",
            " 19  LONGITUDE                132227 non-null  float64\n",
            "dtypes: float64(4), int64(6), object(10)\n",
            "memory usage: 21.2+ MB\n"
          ]
        }
      ],
      "source": [
        "#check dataframe summaary after all changes\n",
        "cln_crashes.info()"
      ]
    },
    {
      "cell_type": "markdown",
      "id": "fb0843d1",
      "metadata": {
        "id": "fb0843d1"
      },
      "source": [
        "That sums up the cleaning for this dataset. Lets taake a look at the next one."
      ]
    },
    {
      "cell_type": "markdown",
      "id": "42306e1c",
      "metadata": {
        "id": "42306e1c",
        "papermill": {
          "duration": 0.121795,
          "end_time": "2023-04-22T07:21:57.613728",
          "exception": false,
          "start_time": "2023-04-22T07:21:57.491933",
          "status": "completed"
        },
        "tags": []
      },
      "source": [
        "### Crashes-Vehicle"
      ]
    },
    {
      "cell_type": "markdown",
      "id": "e7c5f7b6",
      "metadata": {
        "id": "e7c5f7b6"
      },
      "source": [
        "We will start by extracting the columns identified in the Data Understanding portion and then addressing the data."
      ]
    },
    {
      "cell_type": "code",
      "execution_count": 108,
      "id": "34137e52",
      "metadata": {
        "execution": {
          "iopub.execute_input": "2023-04-22T07:21:57.865222Z",
          "iopub.status.busy": "2023-04-22T07:21:57.863987Z",
          "iopub.status.idle": "2023-04-22T07:21:58.150016Z",
          "shell.execute_reply": "2023-04-22T07:21:58.148226Z"
        },
        "id": "34137e52",
        "papermill": {
          "duration": 0.413477,
          "end_time": "2023-04-22T07:21:58.153741",
          "exception": false,
          "start_time": "2023-04-22T07:21:57.740264",
          "status": "completed"
        },
        "tags": []
      },
      "outputs": [],
      "source": [
        "#extract columns\n",
        "cln_veh = vehicles_df[['CRASH_RECORD_ID',\n",
        "                        'VEHICLE_DEFECT',\n",
        "                        'VEHICLE_TYPE',\n",
        "                        'VEHICLE_USE',\n",
        "                        'MANEUVER',\n",
        "                        'OCCUPANT_CNT',\n",
        "                        'FIRST_CONTACT_POINT',\n",
        "                        'VEHICLE_CONFIG']].copy()"
      ]
    },
    {
      "cell_type": "code",
      "execution_count": 109,
      "id": "4c2ac6e1",
      "metadata": {
        "colab": {
          "base_uri": "https://localhost:8080/"
        },
        "execution": {
          "iopub.execute_input": "2023-04-22T07:21:58.398370Z",
          "iopub.status.busy": "2023-04-22T07:21:58.397886Z",
          "iopub.status.idle": "2023-04-22T07:21:58.973596Z",
          "shell.execute_reply": "2023-04-22T07:21:58.971472Z"
        },
        "id": "4c2ac6e1",
        "outputId": "c88df55b-3ef7-40b9-de48-ea60467350aa",
        "papermill": {
          "duration": 0.703289,
          "end_time": "2023-04-22T07:21:58.977397",
          "exception": false,
          "start_time": "2023-04-22T07:21:58.274108",
          "status": "completed"
        },
        "tags": []
      },
      "outputs": [
        {
          "name": "stdout",
          "output_type": "stream",
          "text": [
            "<class 'pandas.core.frame.DataFrame'>\n",
            "RangeIndex: 1228731 entries, 0 to 1228730\n",
            "Data columns (total 8 columns):\n",
            " #   Column               Non-Null Count    Dtype  \n",
            "---  ------               --------------    -----  \n",
            " 0   CRASH_RECORD_ID      1228731 non-null  object \n",
            " 1   VEHICLE_DEFECT       1200879 non-null  object \n",
            " 2   VEHICLE_TYPE         1200879 non-null  object \n",
            " 3   VEHICLE_USE          1200879 non-null  object \n",
            " 4   MANEUVER             1200879 non-null  object \n",
            " 5   OCCUPANT_CNT         1200879 non-null  float64\n",
            " 6   FIRST_CONTACT_POINT  1190862 non-null  object \n",
            " 7   VEHICLE_CONFIG       10787 non-null    object \n",
            "dtypes: float64(1), object(7)\n",
            "memory usage: 75.0+ MB\n"
          ]
        }
      ],
      "source": [
        "#check summary\n",
        "cln_veh.info()"
      ]
    },
    {
      "cell_type": "markdown",
      "id": "9c45561f",
      "metadata": {
        "id": "9c45561f"
      },
      "source": [
        "There are alot of columns with missing values. Interestingly, there are certain records that have craash record IDs but don't have information for any other columns. Lets see how many these are."
      ]
    },
    {
      "cell_type": "code",
      "execution_count": 110,
      "id": "cee75430",
      "metadata": {
        "colab": {
          "base_uri": "https://localhost:8080/",
          "height": 488
        },
        "id": "cee75430",
        "outputId": "148bff55-0ff3-4644-d723-486619f42b28"
      },
      "outputs": [
        {
          "data": {
            "text/html": [
              "\n",
              "  <div id=\"df-23c08204-44dc-4d7c-b1bd-83b47ea7435c\">\n",
              "    <div class=\"colab-df-container\">\n",
              "      <div>\n",
              "<style scoped>\n",
              "    .dataframe tbody tr th:only-of-type {\n",
              "        vertical-align: middle;\n",
              "    }\n",
              "\n",
              "    .dataframe tbody tr th {\n",
              "        vertical-align: top;\n",
              "    }\n",
              "\n",
              "    .dataframe thead th {\n",
              "        text-align: right;\n",
              "    }\n",
              "</style>\n",
              "<table border=\"1\" class=\"dataframe\">\n",
              "  <thead>\n",
              "    <tr style=\"text-align: right;\">\n",
              "      <th></th>\n",
              "      <th>CRASH_RECORD_ID</th>\n",
              "      <th>VEHICLE_DEFECT</th>\n",
              "      <th>VEHICLE_TYPE</th>\n",
              "      <th>VEHICLE_USE</th>\n",
              "      <th>MANEUVER</th>\n",
              "      <th>OCCUPANT_CNT</th>\n",
              "      <th>FIRST_CONTACT_POINT</th>\n",
              "      <th>VEHICLE_CONFIG</th>\n",
              "    </tr>\n",
              "  </thead>\n",
              "  <tbody>\n",
              "    <tr>\n",
              "      <th>11</th>\n",
              "      <td>55a20437d79a3176ac805c65b13940186970246ab14ce5...</td>\n",
              "      <td>NaN</td>\n",
              "      <td>NaN</td>\n",
              "      <td>NaN</td>\n",
              "      <td>NaN</td>\n",
              "      <td>NaN</td>\n",
              "      <td>NaN</td>\n",
              "      <td>NaN</td>\n",
              "    </tr>\n",
              "    <tr>\n",
              "      <th>26</th>\n",
              "      <td>af61b8eabb1b375bd1f6ff97f6ecce3e0f3592d4930381...</td>\n",
              "      <td>NaN</td>\n",
              "      <td>NaN</td>\n",
              "      <td>NaN</td>\n",
              "      <td>NaN</td>\n",
              "      <td>NaN</td>\n",
              "      <td>NaN</td>\n",
              "      <td>NaN</td>\n",
              "    </tr>\n",
              "    <tr>\n",
              "      <th>40</th>\n",
              "      <td>034f42deaec11021e28cda25717373e36351025652ccf1...</td>\n",
              "      <td>NaN</td>\n",
              "      <td>NaN</td>\n",
              "      <td>NaN</td>\n",
              "      <td>NaN</td>\n",
              "      <td>NaN</td>\n",
              "      <td>NaN</td>\n",
              "      <td>NaN</td>\n",
              "    </tr>\n",
              "    <tr>\n",
              "      <th>62</th>\n",
              "      <td>f84c48d4194761d1bb3808061f35ebf796508fb209deb5...</td>\n",
              "      <td>NaN</td>\n",
              "      <td>NaN</td>\n",
              "      <td>NaN</td>\n",
              "      <td>NaN</td>\n",
              "      <td>NaN</td>\n",
              "      <td>NaN</td>\n",
              "      <td>NaN</td>\n",
              "    </tr>\n",
              "    <tr>\n",
              "      <th>89</th>\n",
              "      <td>7218ea2ed9cf304383636ee5194c83019beb6a7a1ec311...</td>\n",
              "      <td>NaN</td>\n",
              "      <td>NaN</td>\n",
              "      <td>NaN</td>\n",
              "      <td>NaN</td>\n",
              "      <td>NaN</td>\n",
              "      <td>NaN</td>\n",
              "      <td>NaN</td>\n",
              "    </tr>\n",
              "    <tr>\n",
              "      <th>...</th>\n",
              "      <td>...</td>\n",
              "      <td>...</td>\n",
              "      <td>...</td>\n",
              "      <td>...</td>\n",
              "      <td>...</td>\n",
              "      <td>...</td>\n",
              "      <td>...</td>\n",
              "      <td>...</td>\n",
              "    </tr>\n",
              "    <tr>\n",
              "      <th>1228389</th>\n",
              "      <td>26bde3f3b7d6e9e5ad20c28f23700144cdf450e0255c49...</td>\n",
              "      <td>NaN</td>\n",
              "      <td>NaN</td>\n",
              "      <td>NaN</td>\n",
              "      <td>NaN</td>\n",
              "      <td>NaN</td>\n",
              "      <td>NaN</td>\n",
              "      <td>NaN</td>\n",
              "    </tr>\n",
              "    <tr>\n",
              "      <th>1228425</th>\n",
              "      <td>3341a3cf08ecbc7c5c569651a678136c6d97e4af79d385...</td>\n",
              "      <td>NaN</td>\n",
              "      <td>NaN</td>\n",
              "      <td>NaN</td>\n",
              "      <td>NaN</td>\n",
              "      <td>NaN</td>\n",
              "      <td>NaN</td>\n",
              "      <td>NaN</td>\n",
              "    </tr>\n",
              "    <tr>\n",
              "      <th>1228494</th>\n",
              "      <td>04047f6c39f82e47187a16fc77b0cd36f43cc9d7191479...</td>\n",
              "      <td>NaN</td>\n",
              "      <td>NaN</td>\n",
              "      <td>NaN</td>\n",
              "      <td>NaN</td>\n",
              "      <td>NaN</td>\n",
              "      <td>NaN</td>\n",
              "      <td>NaN</td>\n",
              "    </tr>\n",
              "    <tr>\n",
              "      <th>1228649</th>\n",
              "      <td>2224b70f50ae38a9b940ffa7748e97fe18583a7e5002d5...</td>\n",
              "      <td>NaN</td>\n",
              "      <td>NaN</td>\n",
              "      <td>NaN</td>\n",
              "      <td>NaN</td>\n",
              "      <td>NaN</td>\n",
              "      <td>NaN</td>\n",
              "      <td>NaN</td>\n",
              "    </tr>\n",
              "    <tr>\n",
              "      <th>1228725</th>\n",
              "      <td>799b406e877d325ff8a10335e582bddf511fda1d69135e...</td>\n",
              "      <td>NaN</td>\n",
              "      <td>NaN</td>\n",
              "      <td>NaN</td>\n",
              "      <td>NaN</td>\n",
              "      <td>NaN</td>\n",
              "      <td>NaN</td>\n",
              "      <td>NaN</td>\n",
              "    </tr>\n",
              "  </tbody>\n",
              "</table>\n",
              "<p>27852 rows × 8 columns</p>\n",
              "</div>\n",
              "      <button class=\"colab-df-convert\" onclick=\"convertToInteractive('df-23c08204-44dc-4d7c-b1bd-83b47ea7435c')\"\n",
              "              title=\"Convert this dataframe to an interactive table.\"\n",
              "              style=\"display:none;\">\n",
              "        \n",
              "  <svg xmlns=\"http://www.w3.org/2000/svg\" height=\"24px\"viewBox=\"0 0 24 24\"\n",
              "       width=\"24px\">\n",
              "    <path d=\"M0 0h24v24H0V0z\" fill=\"none\"/>\n",
              "    <path d=\"M18.56 5.44l.94 2.06.94-2.06 2.06-.94-2.06-.94-.94-2.06-.94 2.06-2.06.94zm-11 1L8.5 8.5l.94-2.06 2.06-.94-2.06-.94L8.5 2.5l-.94 2.06-2.06.94zm10 10l.94 2.06.94-2.06 2.06-.94-2.06-.94-.94-2.06-.94 2.06-2.06.94z\"/><path d=\"M17.41 7.96l-1.37-1.37c-.4-.4-.92-.59-1.43-.59-.52 0-1.04.2-1.43.59L10.3 9.45l-7.72 7.72c-.78.78-.78 2.05 0 2.83L4 21.41c.39.39.9.59 1.41.59.51 0 1.02-.2 1.41-.59l7.78-7.78 2.81-2.81c.8-.78.8-2.07 0-2.86zM5.41 20L4 18.59l7.72-7.72 1.47 1.35L5.41 20z\"/>\n",
              "  </svg>\n",
              "      </button>\n",
              "      \n",
              "  <style>\n",
              "    .colab-df-container {\n",
              "      display:flex;\n",
              "      flex-wrap:wrap;\n",
              "      gap: 12px;\n",
              "    }\n",
              "\n",
              "    .colab-df-convert {\n",
              "      background-color: #E8F0FE;\n",
              "      border: none;\n",
              "      border-radius: 50%;\n",
              "      cursor: pointer;\n",
              "      display: none;\n",
              "      fill: #1967D2;\n",
              "      height: 32px;\n",
              "      padding: 0 0 0 0;\n",
              "      width: 32px;\n",
              "    }\n",
              "\n",
              "    .colab-df-convert:hover {\n",
              "      background-color: #E2EBFA;\n",
              "      box-shadow: 0px 1px 2px rgba(60, 64, 67, 0.3), 0px 1px 3px 1px rgba(60, 64, 67, 0.15);\n",
              "      fill: #174EA6;\n",
              "    }\n",
              "\n",
              "    [theme=dark] .colab-df-convert {\n",
              "      background-color: #3B4455;\n",
              "      fill: #D2E3FC;\n",
              "    }\n",
              "\n",
              "    [theme=dark] .colab-df-convert:hover {\n",
              "      background-color: #434B5C;\n",
              "      box-shadow: 0px 1px 3px 1px rgba(0, 0, 0, 0.15);\n",
              "      filter: drop-shadow(0px 1px 2px rgba(0, 0, 0, 0.3));\n",
              "      fill: #FFFFFF;\n",
              "    }\n",
              "  </style>\n",
              "\n",
              "      <script>\n",
              "        const buttonEl =\n",
              "          document.querySelector('#df-23c08204-44dc-4d7c-b1bd-83b47ea7435c button.colab-df-convert');\n",
              "        buttonEl.style.display =\n",
              "          google.colab.kernel.accessAllowed ? 'block' : 'none';\n",
              "\n",
              "        async function convertToInteractive(key) {\n",
              "          const element = document.querySelector('#df-23c08204-44dc-4d7c-b1bd-83b47ea7435c');\n",
              "          const dataTable =\n",
              "            await google.colab.kernel.invokeFunction('convertToInteractive',\n",
              "                                                     [key], {});\n",
              "          if (!dataTable) return;\n",
              "\n",
              "          const docLinkHtml = 'Like what you see? Visit the ' +\n",
              "            '<a target=\"_blank\" href=https://colab.research.google.com/notebooks/data_table.ipynb>data table notebook</a>'\n",
              "            + ' to learn more about interactive tables.';\n",
              "          element.innerHTML = '';\n",
              "          dataTable['output_type'] = 'display_data';\n",
              "          await google.colab.output.renderOutput(dataTable, element);\n",
              "          const docLink = document.createElement('div');\n",
              "          docLink.innerHTML = docLinkHtml;\n",
              "          element.appendChild(docLink);\n",
              "        }\n",
              "      </script>\n",
              "    </div>\n",
              "  </div>\n",
              "  "
            ],
            "text/plain": [
              "                                           CRASH_RECORD_ID VEHICLE_DEFECT  \\\n",
              "11       55a20437d79a3176ac805c65b13940186970246ab14ce5...            NaN   \n",
              "26       af61b8eabb1b375bd1f6ff97f6ecce3e0f3592d4930381...            NaN   \n",
              "40       034f42deaec11021e28cda25717373e36351025652ccf1...            NaN   \n",
              "62       f84c48d4194761d1bb3808061f35ebf796508fb209deb5...            NaN   \n",
              "89       7218ea2ed9cf304383636ee5194c83019beb6a7a1ec311...            NaN   \n",
              "...                                                    ...            ...   \n",
              "1228389  26bde3f3b7d6e9e5ad20c28f23700144cdf450e0255c49...            NaN   \n",
              "1228425  3341a3cf08ecbc7c5c569651a678136c6d97e4af79d385...            NaN   \n",
              "1228494  04047f6c39f82e47187a16fc77b0cd36f43cc9d7191479...            NaN   \n",
              "1228649  2224b70f50ae38a9b940ffa7748e97fe18583a7e5002d5...            NaN   \n",
              "1228725  799b406e877d325ff8a10335e582bddf511fda1d69135e...            NaN   \n",
              "\n",
              "        VEHICLE_TYPE VEHICLE_USE MANEUVER  OCCUPANT_CNT FIRST_CONTACT_POINT  \\\n",
              "11               NaN         NaN      NaN           NaN                 NaN   \n",
              "26               NaN         NaN      NaN           NaN                 NaN   \n",
              "40               NaN         NaN      NaN           NaN                 NaN   \n",
              "62               NaN         NaN      NaN           NaN                 NaN   \n",
              "89               NaN         NaN      NaN           NaN                 NaN   \n",
              "...              ...         ...      ...           ...                 ...   \n",
              "1228389          NaN         NaN      NaN           NaN                 NaN   \n",
              "1228425          NaN         NaN      NaN           NaN                 NaN   \n",
              "1228494          NaN         NaN      NaN           NaN                 NaN   \n",
              "1228649          NaN         NaN      NaN           NaN                 NaN   \n",
              "1228725          NaN         NaN      NaN           NaN                 NaN   \n",
              "\n",
              "        VEHICLE_CONFIG  \n",
              "11                 NaN  \n",
              "26                 NaN  \n",
              "40                 NaN  \n",
              "62                 NaN  \n",
              "89                 NaN  \n",
              "...                ...  \n",
              "1228389            NaN  \n",
              "1228425            NaN  \n",
              "1228494            NaN  \n",
              "1228649            NaN  \n",
              "1228725            NaN  \n",
              "\n",
              "[27852 rows x 8 columns]"
            ]
          },
          "execution_count": 110,
          "metadata": {},
          "output_type": "execute_result"
        }
      ],
      "source": [
        "cln_veh[cln_veh['VEHICLE_TYPE'].isnull()]#check vehicle type records wiith null values"
      ]
    },
    {
      "cell_type": "markdown",
      "id": "6abb9746",
      "metadata": {
        "id": "6abb9746"
      },
      "source": [
        "These are ~2% of the records. We can drop these off knowing that they don;t have any valuable information and won't impact our analysis."
      ]
    },
    {
      "cell_type": "code",
      "execution_count": 111,
      "id": "c9215eea",
      "metadata": {
        "execution": {
          "iopub.execute_input": "2023-04-22T07:22:06.391746Z",
          "iopub.status.busy": "2023-04-22T07:22:06.391277Z",
          "iopub.status.idle": "2023-04-22T07:22:07.414364Z",
          "shell.execute_reply": "2023-04-22T07:22:07.411886Z"
        },
        "id": "c9215eea",
        "papermill": {
          "duration": 1.162516,
          "end_time": "2023-04-22T07:22:07.421566",
          "exception": false,
          "start_time": "2023-04-22T07:22:06.259050",
          "status": "completed"
        },
        "tags": []
      },
      "outputs": [],
      "source": [
        "#drop null records using subset Vehicle type\n",
        "cln_veh = cln_veh.dropna(subset=['VEHICLE_TYPE'])"
      ]
    },
    {
      "cell_type": "code",
      "execution_count": 112,
      "id": "18d726db",
      "metadata": {
        "colab": {
          "base_uri": "https://localhost:8080/"
        },
        "id": "18d726db",
        "outputId": "a74b98d1-8aca-4516-fec6-43080d991473"
      },
      "outputs": [
        {
          "name": "stdout",
          "output_type": "stream",
          "text": [
            "<class 'pandas.core.frame.DataFrame'>\n",
            "Int64Index: 1200879 entries, 0 to 1228730\n",
            "Data columns (total 8 columns):\n",
            " #   Column               Non-Null Count    Dtype  \n",
            "---  ------               --------------    -----  \n",
            " 0   CRASH_RECORD_ID      1200879 non-null  object \n",
            " 1   VEHICLE_DEFECT       1200879 non-null  object \n",
            " 2   VEHICLE_TYPE         1200879 non-null  object \n",
            " 3   VEHICLE_USE          1200879 non-null  object \n",
            " 4   MANEUVER             1200879 non-null  object \n",
            " 5   OCCUPANT_CNT         1200879 non-null  float64\n",
            " 6   FIRST_CONTACT_POINT  1190862 non-null  object \n",
            " 7   VEHICLE_CONFIG       10787 non-null    object \n",
            "dtypes: float64(1), object(7)\n",
            "memory usage: 82.5+ MB\n"
          ]
        }
      ],
      "source": [
        "#check summary\n",
        "cln_veh.info()"
      ]
    },
    {
      "cell_type": "markdown",
      "id": "32ebeeba",
      "metadata": {
        "id": "32ebeeba"
      },
      "source": [
        "Lets bin the Vehicle Defect Column categories into less granular detail. We are interested in understanding whether a vehicle defect can play a part in crashes or not. Accordingly, If it later on shows to lay a significant part, insights can be generated as to how can the number of vehile defects be reduced."
      ]
    },
    {
      "cell_type": "code",
      "execution_count": 113,
      "id": "05d85d25",
      "metadata": {
        "colab": {
          "base_uri": "https://localhost:8080/"
        },
        "id": "05d85d25",
        "outputId": "5c22348a-c599-46c7-d024-91e74c57cc69"
      },
      "outputs": [
        {
          "data": {
            "text/plain": [
              "NONE                678488\n",
              "UNKNOWN             510206\n",
              "OTHER                 5903\n",
              "BRAKES                4011\n",
              "TIRES                  610\n",
              "STEERING               576\n",
              "WHEELS                 322\n",
              "SUSPENSION             215\n",
              "ENGINE/MOTOR           158\n",
              "FUEL SYSTEM            123\n",
              "LIGHTS                  80\n",
              "WINDOWS                 68\n",
              "CARGO                   39\n",
              "SIGNALS                 31\n",
              "RESTRAINT SYSTEM        17\n",
              "TRAILER COUPLING        17\n",
              "EXHAUST                 15\n",
              "Name: VEHICLE_DEFECT, dtype: int64"
            ]
          },
          "execution_count": 113,
          "metadata": {},
          "output_type": "execute_result"
        }
      ],
      "source": [
        "#check vlaue counts\n",
        "cln_veh['VEHICLE_DEFECT'].value_counts()"
      ]
    },
    {
      "cell_type": "markdown",
      "id": "742fb4f8",
      "metadata": {
        "id": "742fb4f8"
      },
      "source": [
        "We can leave the unkown category as is for now and then later on deduce how mnay we have left after joining the datasets. If there are still many, we can tackle it aaccordingly.\n",
        "\n",
        "We will create aa new column identifying whether there is  a defect or not. The Unknown categories will show up with a 'U'"
      ]
    },
    {
      "cell_type": "code",
      "execution_count": 114,
      "id": "386ab1ab",
      "metadata": {
        "id": "386ab1ab"
      },
      "outputs": [],
      "source": [
        "#create the lambda function\n",
        "z = lambda x: 'U' if (x == 'UNKNOWN') else 'Y' if (x != 'NONE') else 'N'"
      ]
    },
    {
      "cell_type": "code",
      "execution_count": 115,
      "id": "21b5ac56",
      "metadata": {
        "id": "21b5ac56"
      },
      "outputs": [],
      "source": [
        "#map the lambda function to creaate the new column\n",
        "cln_veh['VEHICLE_DEFECT_I'] = cln_veh['VEHICLE_DEFECT'].map(z)"
      ]
    },
    {
      "cell_type": "code",
      "execution_count": 116,
      "id": "57345468",
      "metadata": {
        "colab": {
          "base_uri": "https://localhost:8080/"
        },
        "id": "57345468",
        "outputId": "8396b39a-a11c-4496-8904-a3667199875a"
      },
      "outputs": [
        {
          "data": {
            "text/plain": [
              "N    678488\n",
              "U    510206\n",
              "Y     12185\n",
              "Name: VEHICLE_DEFECT_I, dtype: int64"
            ]
          },
          "execution_count": 116,
          "metadata": {},
          "output_type": "execute_result"
        }
      ],
      "source": [
        "#check vlaue counts\n",
        "cln_veh['VEHICLE_DEFECT_I'].value_counts()"
      ]
    },
    {
      "cell_type": "code",
      "execution_count": 117,
      "id": "d6619d7f",
      "metadata": {
        "id": "d6619d7f"
      },
      "outputs": [],
      "source": [
        "#drop Vehicle defect column\n",
        "cln_veh = cln_veh.drop(['VEHICLE_DEFECT'],axis=1)"
      ]
    },
    {
      "cell_type": "code",
      "execution_count": 118,
      "id": "98e49176",
      "metadata": {
        "colab": {
          "base_uri": "https://localhost:8080/"
        },
        "id": "98e49176",
        "outputId": "79ebb83c-7d9a-4ac8-80c8-d3995811c558"
      },
      "outputs": [
        {
          "name": "stdout",
          "output_type": "stream",
          "text": [
            "<class 'pandas.core.frame.DataFrame'>\n",
            "Int64Index: 1200879 entries, 0 to 1228730\n",
            "Data columns (total 8 columns):\n",
            " #   Column               Non-Null Count    Dtype  \n",
            "---  ------               --------------    -----  \n",
            " 0   CRASH_RECORD_ID      1200879 non-null  object \n",
            " 1   VEHICLE_TYPE         1200879 non-null  object \n",
            " 2   VEHICLE_USE          1200879 non-null  object \n",
            " 3   MANEUVER             1200879 non-null  object \n",
            " 4   OCCUPANT_CNT         1200879 non-null  float64\n",
            " 5   FIRST_CONTACT_POINT  1190862 non-null  object \n",
            " 6   VEHICLE_CONFIG       10787 non-null    object \n",
            " 7   VEHICLE_DEFECT_I     1200879 non-null  object \n",
            "dtypes: float64(1), object(7)\n",
            "memory usage: 82.5+ MB\n"
          ]
        }
      ],
      "source": [
        "#check summary\n",
        "cln_veh.info()"
      ]
    },
    {
      "cell_type": "markdown",
      "id": "004ed411",
      "metadata": {
        "id": "004ed411"
      },
      "source": [
        "Lets peform binning on the Vehicle Type column also to make the data more manageable."
      ]
    },
    {
      "cell_type": "code",
      "execution_count": 119,
      "id": "05bb45e5",
      "metadata": {
        "colab": {
          "base_uri": "https://localhost:8080/"
        },
        "id": "05bb45e5",
        "outputId": "3c5a2dfd-8d16-4cb2-ac4c-b73569c2e339"
      },
      "outputs": [
        {
          "data": {
            "text/plain": [
              "PASSENGER                                 758184\n",
              "SPORT UTILITY VEHICLE (SUV)               159004\n",
              "UNKNOWN/NA                                114448\n",
              "VAN/MINI-VAN                               59509\n",
              "PICKUP                                     36718\n",
              "TRUCK - SINGLE UNIT                        22944\n",
              "OTHER                                      13870\n",
              "BUS OVER 15 PASS.                          12775\n",
              "TRACTOR W/ SEMI-TRAILER                    11577\n",
              "BUS UP TO 15 PASS.                          2773\n",
              "MOTORCYCLE (OVER 150CC)                     2755\n",
              "SINGLE UNIT TRUCK WITH TRAILER              1708\n",
              "OTHER VEHICLE WITH TRAILER                  1557\n",
              "TRACTOR W/O SEMI-TRAILER                    1556\n",
              "AUTOCYCLE                                    612\n",
              "MOTOR DRIVEN CYCLE                           323\n",
              "MOPED OR MOTORIZED BICYCLE                   288\n",
              "ALL-TERRAIN VEHICLE (ATV)                    146\n",
              "FARM EQUIPMENT                                66\n",
              "3-WHEELED MOTORCYCLE (2 REAR WHEELS)          40\n",
              "RECREATIONAL OFF-HIGHWAY VEHICLE (ROV)        18\n",
              "SNOWMOBILE                                     8\n",
              "Name: VEHICLE_TYPE, dtype: int64"
            ]
          },
          "execution_count": 119,
          "metadata": {},
          "output_type": "execute_result"
        }
      ],
      "source": [
        "#check value counts\n",
        "cln_veh['VEHICLE_TYPE'].value_counts()"
      ]
    },
    {
      "cell_type": "markdown",
      "id": "694e41c7",
      "metadata": {
        "id": "694e41c7"
      },
      "source": [
        "Through domain knowledge we can bin these categories together in the following manner:\n",
        "\n",
        "1. Regulaar Personal Use: These are vehicles that usually have everyday passengers using them for commutin or traveling like Passenger vehicles, SUVs, Pick-up, Van/Mini-Van\n",
        "\n",
        "2. Public Transit: These arae vehicles that are be a part of mass transit systems such as Buses\n",
        "\n",
        "3. Commercial: These are trator/trailers \n",
        "\n",
        "4. Motorcycles/cycle: These are self-explanotory\n",
        "\n",
        "5. Vocational/Recreational: Such as Faarm Equipment, snowmobile, etc"
      ]
    },
    {
      "cell_type": "code",
      "execution_count": 120,
      "id": "f6d90917",
      "metadata": {
        "id": "f6d90917"
      },
      "outputs": [],
      "source": [
        "#bin categories\n",
        "\n",
        "#Regular Personal\n",
        "cln_veh['VEHICLE_TYPE'].replace(['PASSENGER',\n",
        "                                'SPORT UTILITY VEHICLE (SUV)',\n",
        "                                'VAN/MINI-VAN',\n",
        "                                'PICKUP'\n",
        "                                ], 'REGULAR PERSONAL', inplace=True)\n",
        "\n",
        "#Public Transit\n",
        "cln_veh['VEHICLE_TYPE'].replace(['BUS OVER 15 PASS.',\n",
        "                                'BUS UP TO 15 PASS.'\n",
        "                                ], 'PUBLIC', inplace=True)\n",
        "\n",
        "#Commercial\n",
        "cln_veh['VEHICLE_TYPE'].replace(['TRUCK - SINGLE UNIT',\n",
        "                                'SPORT UTILITY VEHICLE (SUV)',\n",
        "                                'TRACTOR W/ SEMI-TRAILER',\n",
        "                                'OTHER VEHICLE WITH TRAILER',\n",
        "                                'TRACTOR W/O SEMI-TRAILER',\n",
        "                                'SINGLE UNIT TRUCK WITH TRAILER'\n",
        "                                ], 'COMMERCIAL', inplace=True)\n",
        "\n",
        "#Motorcycle / cycle\n",
        "cln_veh['VEHICLE_TYPE'].replace(['MOTORCYCLE (OVER 150CC)',\n",
        "                                'AUTOCYCLE',\n",
        "                                'MOPED OR MOTORIZED BICYCLE',\n",
        "                                '3-WHEELED MOTORCYCLE (2 REAR WHEELS)',\n",
        "                                 'MOTOR DRIVEN CYCLE'\n",
        "                                ], 'MOTORCYCLE/CYCLE', inplace=True)\n",
        "\n",
        "#Vocational/Recreational\n",
        "cln_veh['VEHICLE_TYPE'].replace(['ALL-TERRAIN VEHICLE (ATV)',\n",
        "                                'FARM EQUIPMENT',\n",
        "                                'MOPED OR MOTORIZED BICYCLE',\n",
        "                                'RECREATIONAL OFF-HIGHWAY VEHICLE (ROV)',\n",
        "                                'SNOWMOBILE'\n",
        "                                ], 'RECREATIONAL/VOCATIONAL', inplace=True)"
      ]
    },
    {
      "cell_type": "code",
      "execution_count": 121,
      "id": "a3229bc1",
      "metadata": {
        "colab": {
          "base_uri": "https://localhost:8080/"
        },
        "id": "a3229bc1",
        "outputId": "f3f01f5a-cdde-44bb-bc05-3222465afdae"
      },
      "outputs": [
        {
          "data": {
            "text/plain": [
              "REGULAR PERSONAL           0.843894\n",
              "UNKNOWN/NA                 0.095304\n",
              "COMMERCIAL                 0.032761\n",
              "PUBLIC                     0.012947\n",
              "OTHER                      0.011550\n",
              "MOTORCYCLE/CYCLE           0.003346\n",
              "RECREATIONAL/VOCATIONAL    0.000198\n",
              "Name: VEHICLE_TYPE, dtype: float64"
            ]
          },
          "execution_count": 121,
          "metadata": {},
          "output_type": "execute_result"
        }
      ],
      "source": [
        "#check value counts\n",
        "cln_veh['VEHICLE_TYPE'].value_counts(normalize=True)"
      ]
    },
    {
      "cell_type": "markdown",
      "id": "1e0f9089",
      "metadata": {
        "id": "1e0f9089"
      },
      "source": [
        "With no information for the other section, it will be beneficial to drop those records.\n",
        "\n",
        "The unknown ones can be kept and dealt with aafter merging the different datasets.\n",
        "\n",
        "We can also see that the Recreational and motorcycle records total out to be even less than 1% of the total records. These will be extremely difficult to balance out alongside skewing our modeling to anomalies. Therefore, these records will be dropped."
      ]
    },
    {
      "cell_type": "code",
      "execution_count": 122,
      "id": "6679fb66",
      "metadata": {
        "id": "6679fb66"
      },
      "outputs": [],
      "source": [
        "#filter out the records with 'other' vehicle types\n",
        "cln_veh = cln_veh[(cln_veh['VEHICLE_TYPE'] != 'OTHER') &\n",
        "                  (cln_veh['VEHICLE_TYPE'] != 'RECREATIONAL/VOCATIONAL')&\n",
        "                  (cln_veh['VEHICLE_TYPE'] != 'MOTORCYCLE/CYCLE')\n",
        "                 ]"
      ]
    },
    {
      "cell_type": "code",
      "execution_count": 123,
      "id": "25413584",
      "metadata": {
        "colab": {
          "base_uri": "https://localhost:8080/"
        },
        "id": "25413584",
        "outputId": "c69a1000-d3b7-46ec-cc67-800415629741"
      },
      "outputs": [
        {
          "data": {
            "text/plain": [
              "REGULAR PERSONAL    1013415\n",
              "UNKNOWN/NA           114448\n",
              "COMMERCIAL            39342\n",
              "PUBLIC                15548\n",
              "Name: VEHICLE_TYPE, dtype: int64"
            ]
          },
          "execution_count": 123,
          "metadata": {},
          "output_type": "execute_result"
        }
      ],
      "source": [
        "#check new value counts\n",
        "cln_veh['VEHICLE_TYPE'].value_counts()"
      ]
    },
    {
      "cell_type": "code",
      "execution_count": 124,
      "id": "84e30442",
      "metadata": {
        "colab": {
          "base_uri": "https://localhost:8080/"
        },
        "id": "84e30442",
        "outputId": "b3d87441-d24f-4246-f3b0-bf1d2023cf50"
      },
      "outputs": [
        {
          "name": "stdout",
          "output_type": "stream",
          "text": [
            "<class 'pandas.core.frame.DataFrame'>\n",
            "Int64Index: 1182753 entries, 0 to 1228730\n",
            "Data columns (total 8 columns):\n",
            " #   Column               Non-Null Count    Dtype  \n",
            "---  ------               --------------    -----  \n",
            " 0   CRASH_RECORD_ID      1182753 non-null  object \n",
            " 1   VEHICLE_TYPE         1182753 non-null  object \n",
            " 2   VEHICLE_USE          1182753 non-null  object \n",
            " 3   MANEUVER             1182753 non-null  object \n",
            " 4   OCCUPANT_CNT         1182753 non-null  float64\n",
            " 5   FIRST_CONTACT_POINT  1173217 non-null  object \n",
            " 6   VEHICLE_CONFIG       10310 non-null    object \n",
            " 7   VEHICLE_DEFECT_I     1182753 non-null  object \n",
            "dtypes: float64(1), object(7)\n",
            "memory usage: 81.2+ MB\n"
          ]
        }
      ],
      "source": [
        "#check summary\n",
        "cln_veh.info()"
      ]
    },
    {
      "cell_type": "markdown",
      "id": "6ba570c7",
      "metadata": {
        "id": "6ba570c7"
      },
      "source": [
        "Considering that vevhicles types were binned according to usage, the Vehicle Use column would be a deeper dive column that can be explored if more granular details aree required."
      ]
    },
    {
      "cell_type": "code",
      "execution_count": 125,
      "id": "498b6f2d",
      "metadata": {
        "id": "498b6f2d"
      },
      "outputs": [],
      "source": [
        "#drop vehicle use column\n",
        "cln_veh = cln_veh.drop(['VEHICLE_USE'],axis=1)"
      ]
    },
    {
      "cell_type": "markdown",
      "id": "9922283a",
      "metadata": {
        "id": "9922283a"
      },
      "source": [
        "Lets explore the Maeuver column. We know from previous exploration that this column also contains multiple categories that can bee grouped together. Lets take a look at the values and forulate the binning strategy."
      ]
    },
    {
      "cell_type": "code",
      "execution_count": 126,
      "id": "9271a9d6",
      "metadata": {
        "colab": {
          "base_uri": "https://localhost:8080/"
        },
        "id": "9271a9d6",
        "outputId": "bc77dee9-afde-4267-9133-d147eae9aeed"
      },
      "outputs": [
        {
          "data": {
            "text/plain": [
              "STRAIGHT AHEAD                        536841\n",
              "PARKED                                163270\n",
              "UNKNOWN/NA                             92676\n",
              "SLOW/STOP IN TRAFFIC                   91957\n",
              "TURNING LEFT                           69159\n",
              "BACKING                                48883\n",
              "TURNING RIGHT                          38377\n",
              "PASSING/OVERTAKING                     27917\n",
              "CHANGING LANES                         23189\n",
              "OTHER                                  19513\n",
              "ENTERING TRAFFIC LANE FROM PARKING     13954\n",
              "MERGING                                 8140\n",
              "STARTING IN TRAFFIC                     7072\n",
              "U-TURN                                  6583\n",
              "LEAVING TRAFFIC LANE TO PARK            5839\n",
              "AVOIDING VEHICLES/OBJECTS               5139\n",
              "SKIDDING/CONTROL LOSS                   5011\n",
              "ENTER FROM DRIVE/ALLEY                  4845\n",
              "PARKED IN TRAFFIC LANE                  3438\n",
              "SLOW/STOP - LEFT TURN                   2944\n",
              "SLOW/STOP - RIGHT TURN                  1855\n",
              "DRIVING WRONG WAY                       1717\n",
              "SLOW/STOP - LOAD/UNLOAD                 1603\n",
              "NEGOTIATING A CURVE                     1597\n",
              "TURNING ON RED                           469\n",
              "DRIVERLESS                               451\n",
              "DIVERGING                                178\n",
              "DISABLED                                 136\n",
              "Name: MANEUVER, dtype: int64"
            ]
          },
          "execution_count": 126,
          "metadata": {},
          "output_type": "execute_result"
        }
      ],
      "source": [
        "#check value counts\n",
        "cln_veh['MANEUVER'].value_counts()"
      ]
    },
    {
      "cell_type": "markdown",
      "id": "4c63a4d0",
      "metadata": {
        "id": "4c63a4d0"
      },
      "source": [
        "The overlapping categories can be binned in the direction they were moving to make the modeling easier. If more details are required, data can bee subsequently maade more granular.\n",
        "\n",
        "    1. STRAIGHT: STRAIGHT AHEAD, NEGOTIATING A CURVE\n",
        "    2. TURNING: TURNING LEFT, TURNING RIGHT, U-TURN, SLOW/STOP - LEFT TURN, SLOW/STOP - RIGHT TURN, TURNING ON RED\n",
        "    3. ENTERING/EXITING TRAFFIC: PARKED, LEAVING TRAFFIC LANE TO PARK, ENTERING TRAFFIC LANE FROM PARKING,                                          MERGING, LEAVING TRAFFIC LANE TO PARK, ENTER FROM DRIVE/ALLEY, PARKED IN TRAFFIC                                  LANE, DIVERGING\n",
        "    4. START/STOP: SLOW/STOP IN TRAFFIC, STARTING IN TRAFFIC, SLOW/STOP - LOAD/UNLOAD\n",
        "    5. Lane Change: CHANGING LANES, PASSING/OVERTAKING\n",
        "    6. Respone to External Obstructions: AVOIDING VEHICLES/OBJECTS, SKIDDING/CONTROL LOSS"
      ]
    },
    {
      "cell_type": "code",
      "execution_count": 127,
      "id": "f7edda5c",
      "metadata": {
        "id": "f7edda5c"
      },
      "outputs": [],
      "source": [
        "#bin categories\n",
        "\n",
        "#Straight\n",
        "cln_veh['MANEUVER'].replace(['STRAIGHT AHEAD',\n",
        "                            'NEGOTIATING A CURVE'\n",
        "                            ], 'STRAIGHT', inplace=True)\n",
        "\n",
        "#Turning\n",
        "cln_veh['MANEUVER'].replace(['TURNING LEFT',\n",
        "                            'TURNING RIGHT',\n",
        "                             'U-TURN', 'SLOW/STOP - LEFT TURN', 'SLOW/STOP - RIGHT TURN',\n",
        "                             'TURNING ON RED'\n",
        "                            ], 'TURNING', inplace=True)\n",
        "\n",
        "#ENTERING/EXITING TRAFFIC\n",
        "cln_veh['MANEUVER'].replace(['PARKED', 'LEAVING TRAFFIC LANE TO PARK', 'ENTERING TRAFFIC LANE FROM PARKING',\n",
        "                            'MERGING', 'LEAVING TRAFFIC LANE TO PARK', 'ENTER FROM DRIVE/ALLEY', \n",
        "                             'PARKED IN TRAFFIC LANE',\n",
        "                             'DIVERGING'\n",
        "                            ], 'ENTERING/EXITING TRAFFIC', inplace=True)\n",
        "\n",
        "#START/STOP\n",
        "cln_veh['MANEUVER'].replace(['SLOW/STOP IN TRAFFIC', 'STARTING IN TRAFFIC', 'SLOW/STOP - LOAD/UNLOAD'\n",
        "                            ], 'START/STOP', inplace=True)\n",
        "\n",
        "#Lane Change\n",
        "cln_veh['MANEUVER'].replace(['CHANGING LANES', 'PASSING/OVERTAKING'\n",
        "                            ], 'LANE CHANGE', inplace=True)\n",
        "\n",
        "#External Obstructions\n",
        "cln_veh['MANEUVER'].replace(['AVOIDING VEHICLES/OBJECTS', 'SKIDDING/CONTROL LOSS'\n",
        "                            ], 'EXTERNAL OBSTRUCTIONS', inplace=True)"
      ]
    },
    {
      "cell_type": "code",
      "execution_count": 128,
      "id": "72b1148e",
      "metadata": {
        "colab": {
          "base_uri": "https://localhost:8080/"
        },
        "id": "72b1148e",
        "outputId": "2a30dbd2-7181-40f1-9b33-5001737f3b0c"
      },
      "outputs": [
        {
          "data": {
            "text/plain": [
              "STRAIGHT                    0.455241\n",
              "ENTERING/EXITING TRAFFIC    0.168813\n",
              "TURNING                     0.100940\n",
              "START/STOP                  0.085083\n",
              "UNKNOWN/NA                  0.078356\n",
              "LANE CHANGE                 0.043209\n",
              "BACKING                     0.041330\n",
              "OTHER                       0.016498\n",
              "EXTERNAL OBSTRUCTIONS       0.008582\n",
              "DRIVING WRONG WAY           0.001452\n",
              "DRIVERLESS                  0.000381\n",
              "DISABLED                    0.000115\n",
              "Name: MANEUVER, dtype: float64"
            ]
          },
          "execution_count": 128,
          "metadata": {},
          "output_type": "execute_result"
        }
      ],
      "source": [
        "#check new value counts\n",
        "cln_veh['MANEUVER'].value_counts(normalize=True)"
      ]
    },
    {
      "cell_type": "markdown",
      "id": "fcfe6e33",
      "metadata": {
        "id": "fcfe6e33"
      },
      "source": [
        "The unkown category will be handled after merging it with the other datasets.\n",
        "\n",
        "The Other category doesn;t have any clear information so it can be harmful noisse in the dataset therefore these records will be dropped. \n",
        "\n",
        "Driverless and Disabled are extreme anomalies that total out to be less than 1% therefore they will be dropped aswell."
      ]
    },
    {
      "cell_type": "code",
      "execution_count": 129,
      "id": "4607ef95",
      "metadata": {
        "id": "4607ef95"
      },
      "outputs": [],
      "source": [
        "#drop other category and anomalies\n",
        "cln_veh = cln_veh[(cln_veh['MANEUVER'] != 'OTHER') &\n",
        "                 (cln_veh['MANEUVER'] != 'DRIVERLESS') &\n",
        "                 (cln_veh['MANEUVER'] != 'DISABLED')]"
      ]
    },
    {
      "cell_type": "code",
      "execution_count": 130,
      "id": "08567d8b",
      "metadata": {
        "colab": {
          "base_uri": "https://localhost:8080/"
        },
        "id": "08567d8b",
        "outputId": "0b5dbdf4-ced1-4036-846f-9ac66f9bd3f3"
      },
      "outputs": [
        {
          "data": {
            "text/plain": [
              "STRAIGHT                    0.463112\n",
              "ENTERING/EXITING TRAFFIC    0.171731\n",
              "TURNING                     0.102685\n",
              "START/STOP                  0.086554\n",
              "UNKNOWN/NA                  0.079711\n",
              "LANE CHANGE                 0.043956\n",
              "BACKING                     0.042044\n",
              "EXTERNAL OBSTRUCTIONS       0.008730\n",
              "DRIVING WRONG WAY           0.001477\n",
              "Name: MANEUVER, dtype: float64"
            ]
          },
          "execution_count": 130,
          "metadata": {},
          "output_type": "execute_result"
        }
      ],
      "source": [
        "#check new value counts\n",
        "cln_veh['MANEUVER'].value_counts(normalize=True)"
      ]
    },
    {
      "cell_type": "code",
      "execution_count": 131,
      "id": "7a957a4a",
      "metadata": {
        "colab": {
          "base_uri": "https://localhost:8080/"
        },
        "id": "7a957a4a",
        "outputId": "1297b58f-e026-4a8c-f5be-66181e0478cd"
      },
      "outputs": [
        {
          "name": "stdout",
          "output_type": "stream",
          "text": [
            "<class 'pandas.core.frame.DataFrame'>\n",
            "Int64Index: 1162653 entries, 0 to 1228730\n",
            "Data columns (total 7 columns):\n",
            " #   Column               Non-Null Count    Dtype  \n",
            "---  ------               --------------    -----  \n",
            " 0   CRASH_RECORD_ID      1162653 non-null  object \n",
            " 1   VEHICLE_TYPE         1162653 non-null  object \n",
            " 2   MANEUVER             1162653 non-null  object \n",
            " 3   OCCUPANT_CNT         1162653 non-null  float64\n",
            " 4   FIRST_CONTACT_POINT  1153374 non-null  object \n",
            " 5   VEHICLE_CONFIG       10074 non-null    object \n",
            " 6   VEHICLE_DEFECT_I     1162653 non-null  object \n",
            "dtypes: float64(1), object(6)\n",
            "memory usage: 71.0+ MB\n"
          ]
        }
      ],
      "source": [
        "#check summary\n",
        "cln_veh.info()"
      ]
    },
    {
      "cell_type": "code",
      "execution_count": 132,
      "id": "a88c5cdd",
      "metadata": {
        "colab": {
          "base_uri": "https://localhost:8080/"
        },
        "id": "a88c5cdd",
        "outputId": "8421df81-161c-4933-a934-9a0b45d4c004",
        "papermill": {
          "duration": 0.12566,
          "end_time": "2023-04-22T07:22:11.825347",
          "exception": false,
          "start_time": "2023-04-22T07:22:11.699687",
          "status": "completed"
        },
        "tags": []
      },
      "outputs": [
        {
          "data": {
            "text/plain": [
              "TRACTOR/SEMI-TRAILER                   4091\n",
              "SINGLE UNIT TRUCK, 2 AXLES, 6 TIRES    1968\n",
              "BUS                                    1600\n",
              "TRUCK/TRACTOR                           819\n",
              "TRUCK/TRAILER                           661\n",
              "UNKNOWN HEAVY TRUCK                     457\n",
              "SINGLE UNIT TRUCK, 3 OR MORE AXLES      451\n",
              "TRACTOR/DOUBLES                          27\n",
              "Name: VEHICLE_CONFIG, dtype: int64"
            ]
          },
          "execution_count": 132,
          "metadata": {},
          "output_type": "execute_result"
        }
      ],
      "source": [
        "#check value counts\n",
        "cln_veh['VEHICLE_CONFIG'].value_counts()"
      ]
    },
    {
      "cell_type": "markdown",
      "id": "1e433348",
      "metadata": {
        "id": "1e433348",
        "papermill": {
          "duration": 0.125816,
          "end_time": "2023-04-22T07:22:12.072220",
          "exception": false,
          "start_time": "2023-04-22T07:22:11.946404",
          "status": "completed"
        },
        "tags": []
      },
      "source": [
        "This is the level of detail that can be explored as further insights analysis. The Vehicle Type feature already covers whether the vehicle involved in the crash is a commercial vehicle or not."
      ]
    },
    {
      "cell_type": "code",
      "execution_count": 133,
      "id": "ea218553",
      "metadata": {
        "id": "ea218553"
      },
      "outputs": [],
      "source": [
        "#drop vehicle config\n",
        "cln_veh = cln_veh.drop(['VEHICLE_CONFIG'],axis=1)"
      ]
    },
    {
      "cell_type": "markdown",
      "id": "e47c5221",
      "metadata": {
        "id": "e47c5221"
      },
      "source": [
        "The only one left is Occupant Count. This column has information on how many individuals there were in a vehicle involved in the crash. Lets explore this column further to understand how to processs it."
      ]
    },
    {
      "cell_type": "code",
      "execution_count": 134,
      "id": "f2a5bb27",
      "metadata": {
        "colab": {
          "base_uri": "https://localhost:8080/"
        },
        "id": "f2a5bb27",
        "outputId": "9010c85a-7336-4053-b1b2-4d83352d02d3"
      },
      "outputs": [
        {
          "data": {
            "text/plain": [
              "1.0     838691\n",
              "0.0     156411\n",
              "2.0     117896\n",
              "3.0      31365\n",
              "4.0      12291\n",
              "5.0       4024\n",
              "6.0       1072\n",
              "7.0        394\n",
              "8.0        162\n",
              "9.0         79\n",
              "11.0        50\n",
              "10.0        47\n",
              "13.0        28\n",
              "12.0        28\n",
              "15.0        16\n",
              "14.0        13\n",
              "16.0        11\n",
              "19.0         9\n",
              "20.0         8\n",
              "18.0         6\n",
              "26.0         5\n",
              "21.0         4\n",
              "36.0         4\n",
              "28.0         4\n",
              "30.0         3\n",
              "29.0         3\n",
              "17.0         3\n",
              "25.0         3\n",
              "41.0         2\n",
              "39.0         2\n",
              "33.0         2\n",
              "99.0         2\n",
              "35.0         2\n",
              "27.0         2\n",
              "44.0         1\n",
              "22.0         1\n",
              "37.0         1\n",
              "24.0         1\n",
              "43.0         1\n",
              "60.0         1\n",
              "34.0         1\n",
              "23.0         1\n",
              "31.0         1\n",
              "47.0         1\n",
              "38.0         1\n",
              "Name: OCCUPANT_CNT, dtype: int64"
            ]
          },
          "execution_count": 134,
          "metadata": {},
          "output_type": "execute_result"
        }
      ],
      "source": [
        "#check value counts\n",
        "cln_veh['OCCUPANT_CNT'].value_counts()"
      ]
    },
    {
      "cell_type": "markdown",
      "id": "c3bfbffe",
      "metadata": {
        "id": "c3bfbffe"
      },
      "source": [
        "There are several different number of paassenger bins. These can be grouped grouped together to represent certain common instancess.\n",
        "\n",
        "0: No passenger present\n",
        "\n",
        "1-2: This is very common having either only the driver or a adriver with a passenger\n",
        "\n",
        "3-5: 5 is the max a normaal car can hold\n",
        "\n",
        "6-9: These number of passengers is usually an indication of Mini-Vans or Vans\n",
        "\n",
        "10+: This is usually a larger van or a Bus which means that these amount of passengers would represent a public/mass transit vehicle."
      ]
    },
    {
      "cell_type": "code",
      "execution_count": 135,
      "id": "a5e36621",
      "metadata": {
        "id": "a5e36621"
      },
      "outputs": [],
      "source": [
        "#create lambda function for binning\n",
        "b = lambda x:'10+' if x>=10 else '6-9' if x>=6 else '3-5' if x>=3 else '1-2' if x>=1 else '0'"
      ]
    },
    {
      "cell_type": "code",
      "execution_count": 136,
      "id": "d0a96dae",
      "metadata": {
        "id": "d0a96dae"
      },
      "outputs": [],
      "source": [
        "#bin the counts\n",
        "cln_veh['OCCUPANT_CAT'] = cln_veh['OCCUPANT_CNT'].map(b)"
      ]
    },
    {
      "cell_type": "code",
      "execution_count": 137,
      "id": "dbeebd10",
      "metadata": {
        "colab": {
          "base_uri": "https://localhost:8080/"
        },
        "id": "dbeebd10",
        "outputId": "ed15c07a-75d3-4c1a-d0e0-e7f7988e8d5f"
      },
      "outputs": [
        {
          "data": {
            "text/plain": [
              "1-2    956587\n",
              "0      156411\n",
              "3-5     47680\n",
              "6-9      1707\n",
              "10+       268\n",
              "Name: OCCUPANT_CAT, dtype: int64"
            ]
          },
          "execution_count": 137,
          "metadata": {},
          "output_type": "execute_result"
        }
      ],
      "source": [
        "#check value counts\n",
        "cln_veh['OCCUPANT_CAT'].value_counts()"
      ]
    },
    {
      "cell_type": "code",
      "execution_count": 138,
      "id": "1c4aa093",
      "metadata": {
        "id": "1c4aa093"
      },
      "outputs": [],
      "source": [
        "#drop occupant count column\n",
        "cln_veh = cln_veh.drop(['OCCUPANT_CNT'],axis=1)"
      ]
    },
    {
      "cell_type": "code",
      "execution_count": 139,
      "id": "e77e801d",
      "metadata": {
        "colab": {
          "base_uri": "https://localhost:8080/"
        },
        "id": "e77e801d",
        "outputId": "0e596fad-1457-4e01-f58f-62bda6dfb70a"
      },
      "outputs": [
        {
          "name": "stdout",
          "output_type": "stream",
          "text": [
            "<class 'pandas.core.frame.DataFrame'>\n",
            "Int64Index: 1162653 entries, 0 to 1228730\n",
            "Data columns (total 6 columns):\n",
            " #   Column               Non-Null Count    Dtype \n",
            "---  ------               --------------    ----- \n",
            " 0   CRASH_RECORD_ID      1162653 non-null  object\n",
            " 1   VEHICLE_TYPE         1162653 non-null  object\n",
            " 2   MANEUVER             1162653 non-null  object\n",
            " 3   FIRST_CONTACT_POINT  1153374 non-null  object\n",
            " 4   VEHICLE_DEFECT_I     1162653 non-null  object\n",
            " 5   OCCUPANT_CAT         1162653 non-null  object\n",
            "dtypes: object(6)\n",
            "memory usage: 62.1+ MB\n"
          ]
        }
      ],
      "source": [
        "cln_veh.info()"
      ]
    },
    {
      "cell_type": "markdown",
      "id": "b09cd537",
      "metadata": {
        "id": "b09cd537"
      },
      "source": [
        "Next, lets take a look at First Contact Point."
      ]
    },
    {
      "cell_type": "code",
      "execution_count": 140,
      "id": "ab4525f6",
      "metadata": {
        "colab": {
          "base_uri": "https://localhost:8080/"
        },
        "id": "ab4525f6",
        "outputId": "dea19fdc-c791-4c0a-e506-f2d0fc855594"
      },
      "outputs": [
        {
          "data": {
            "text/plain": [
              "FRONT                180628\n",
              "OTHER                129520\n",
              "REAR-LEFT            128650\n",
              "UNKNOWN              109721\n",
              "REAR                 106388\n",
              "FRONT-LEFT            91354\n",
              "FRONT-RIGHT           80615\n",
              "SIDE-RIGHT            74286\n",
              "TOTAL (ALL AREAS)     72826\n",
              "SIDE-LEFT             69691\n",
              "REAR-RIGHT            44695\n",
              "ROOF                  42577\n",
              "UNDER CARRIAGE        12872\n",
              "NONE                   9551\n",
              "Name: FIRST_CONTACT_POINT, dtype: int64"
            ]
          },
          "execution_count": 140,
          "metadata": {},
          "output_type": "execute_result"
        }
      ],
      "source": [
        "#check value counts\n",
        "cln_veh['FIRST_CONTACT_POINT'].value_counts()"
      ]
    },
    {
      "cell_type": "markdown",
      "id": "d43f3ded",
      "metadata": {
        "id": "d43f3ded"
      },
      "source": [
        "The other category for this column is a big chunk of the dataset. Nonetheless, modeling it with other data might show a clear relationship between certain type of accidents and the other category. Consdiering that it is a large chunk of the dataset, we will leave it in place. If our modeling results end up being unsatisfactory, these kind of records would be the first ones we would want to remove.\n",
        "\n",
        "We will leave the unkown category as is and circle back to it after alll datasets have been joined. It is possible that in the process of joining, these records get dropped automatically.\n",
        "\n",
        "Also, there is a higher granularity of data where as it can be grouped into simple subsections of a vehicle. \n",
        "\n",
        "    1. None\n",
        "    2. Front\n",
        "    3. Rear\n",
        "    4. Side\n",
        "    5. Top/Bottom\n",
        "    6. Total"
      ]
    },
    {
      "cell_type": "code",
      "execution_count": 141,
      "id": "720fb693",
      "metadata": {
        "id": "720fb693"
      },
      "outputs": [],
      "source": [
        "#bin categories\n",
        "\n",
        "#Front\n",
        "cln_veh['FIRST_CONTACT_POINT'].replace([\n",
        "                                        'FRONT', 'FRONT-LEFT', 'FRONT-RIGHT'\n",
        "                                        ],'FRONT', inplace=True)\n",
        "\n",
        "#Rear\n",
        "cln_veh['FIRST_CONTACT_POINT'].replace([\n",
        "                                        'REAR','REAR-LEFT', 'REAR-RIGHT'\n",
        "                                        ],'REAR', inplace=True)\n",
        "\n",
        "#SIDE\n",
        "cln_veh['FIRST_CONTACT_POINT'].replace([\n",
        "                                        'SIDE-RIGHT', 'SIDE-LEFT'\n",
        "                                        ],'SIDE', inplace=True)\n",
        "\n",
        "#TOP/BOTTOM\n",
        "cln_veh['FIRST_CONTACT_POINT'].replace([\n",
        "                                        'ROOF', 'UNDER CARRIAGE'\n",
        "                                        ],'TOP/BOTTOM', inplace=True)"
      ]
    },
    {
      "cell_type": "code",
      "execution_count": 142,
      "id": "fbcf1a20",
      "metadata": {
        "colab": {
          "base_uri": "https://localhost:8080/"
        },
        "id": "fbcf1a20",
        "outputId": "5534b164-edbc-4bfb-89a0-a3f27165bb39"
      },
      "outputs": [
        {
          "data": {
            "text/plain": [
              "FRONT                352597\n",
              "REAR                 279733\n",
              "SIDE                 143977\n",
              "OTHER                129520\n",
              "UNKNOWN              109721\n",
              "TOTAL (ALL AREAS)     72826\n",
              "TOP/BOTTOM            55449\n",
              "NONE                   9551\n",
              "Name: FIRST_CONTACT_POINT, dtype: int64"
            ]
          },
          "execution_count": 142,
          "metadata": {},
          "output_type": "execute_result"
        }
      ],
      "source": [
        "#check new value counts\n",
        "cln_veh['FIRST_CONTACT_POINT'].value_counts()"
      ]
    },
    {
      "cell_type": "code",
      "execution_count": 143,
      "id": "a050c95c",
      "metadata": {
        "id": "a050c95c"
      },
      "outputs": [],
      "source": [
        "#drop missing values\n",
        "cln_veh = cln_veh.dropna()"
      ]
    },
    {
      "cell_type": "code",
      "execution_count": 144,
      "id": "6b84d404",
      "metadata": {
        "colab": {
          "base_uri": "https://localhost:8080/"
        },
        "id": "6b84d404",
        "outputId": "459bff9d-2538-48ee-f885-e79d283f693c"
      },
      "outputs": [
        {
          "name": "stdout",
          "output_type": "stream",
          "text": [
            "<class 'pandas.core.frame.DataFrame'>\n",
            "Int64Index: 1153374 entries, 0 to 1228730\n",
            "Data columns (total 6 columns):\n",
            " #   Column               Non-Null Count    Dtype \n",
            "---  ------               --------------    ----- \n",
            " 0   CRASH_RECORD_ID      1153374 non-null  object\n",
            " 1   VEHICLE_TYPE         1153374 non-null  object\n",
            " 2   MANEUVER             1153374 non-null  object\n",
            " 3   FIRST_CONTACT_POINT  1153374 non-null  object\n",
            " 4   VEHICLE_DEFECT_I     1153374 non-null  object\n",
            " 5   OCCUPANT_CAT         1153374 non-null  object\n",
            "dtypes: object(6)\n",
            "memory usage: 61.6+ MB\n"
          ]
        }
      ],
      "source": [
        "#final dataframe check\n",
        "cln_veh.info()"
      ]
    },
    {
      "cell_type": "markdown",
      "id": "a739bc9d",
      "metadata": {
        "id": "a739bc9d"
      },
      "source": [
        "No we can move on and merge this dataset with the crashes dataset."
      ]
    },
    {
      "cell_type": "code",
      "execution_count": 145,
      "id": "edf5d4c1",
      "metadata": {
        "execution": {
          "iopub.execute_input": "2023-04-22T07:22:12.578400Z",
          "iopub.status.busy": "2023-04-22T07:22:12.577256Z",
          "iopub.status.idle": "2023-04-22T07:22:14.601176Z",
          "shell.execute_reply": "2023-04-22T07:22:14.599852Z"
        },
        "id": "edf5d4c1",
        "papermill": {
          "duration": 2.153956,
          "end_time": "2023-04-22T07:22:14.604447",
          "exception": false,
          "start_time": "2023-04-22T07:22:12.450491",
          "status": "completed"
        },
        "tags": []
      },
      "outputs": [],
      "source": [
        "#merge using crash record ID\n",
        "veh_crsh = pd.merge(cln_crashes, cln_veh, how='inner', on='CRASH_RECORD_ID' )"
      ]
    },
    {
      "cell_type": "code",
      "execution_count": 146,
      "id": "4ec48186",
      "metadata": {
        "colab": {
          "base_uri": "https://localhost:8080/"
        },
        "execution": {
          "iopub.execute_input": "2023-04-22T07:22:14.852347Z",
          "iopub.status.busy": "2023-04-22T07:22:14.851553Z",
          "iopub.status.idle": "2023-04-22T07:22:15.227164Z",
          "shell.execute_reply": "2023-04-22T07:22:15.224467Z"
        },
        "id": "4ec48186",
        "outputId": "4ada38f4-209b-42c6-a2ee-99cfc24eabd9",
        "papermill": {
          "duration": 0.504262,
          "end_time": "2023-04-22T07:22:15.230826",
          "exception": false,
          "start_time": "2023-04-22T07:22:14.726564",
          "status": "completed"
        },
        "tags": []
      },
      "outputs": [
        {
          "name": "stdout",
          "output_type": "stream",
          "text": [
            "<class 'pandas.core.frame.DataFrame'>\n",
            "Int64Index: 212462 entries, 0 to 212461\n",
            "Data columns (total 25 columns):\n",
            " #   Column                   Non-Null Count   Dtype  \n",
            "---  ------                   --------------   -----  \n",
            " 0   CRASH_RECORD_ID          212462 non-null  object \n",
            " 1   CRASH_YEAR               212462 non-null  int64  \n",
            " 2   POSTED_SPEED_LIMIT       212462 non-null  int64  \n",
            " 3   DEVICE_CONDITION         212462 non-null  object \n",
            " 4   WEATHER_CONDITION        212462 non-null  object \n",
            " 5   LIGHTING_CONDITION       212462 non-null  object \n",
            " 6   CRASH_TYPE               212462 non-null  object \n",
            " 7   INTERSECTION_RELATED_I   212462 non-null  object \n",
            " 8   ROAD_DEFECT              212462 non-null  object \n",
            " 9   PRIM_CONTRIBUTORY_CAUSE  212462 non-null  object \n",
            " 10  NUM_UNITS                212462 non-null  int64  \n",
            " 11  WORK_ZONE_I              212462 non-null  object \n",
            " 12  WORKERS_PRESENT_I        212462 non-null  object \n",
            " 13  INJURIES_TOTAL           212462 non-null  float64\n",
            " 14  INJURIES_FATAL           212462 non-null  float64\n",
            " 15  CRASH_HOUR               212462 non-null  int64  \n",
            " 16  CRASH_DAY_OF_WEEK        212462 non-null  int64  \n",
            " 17  CRASH_MONTH              212462 non-null  int64  \n",
            " 18  LATITUDE                 212462 non-null  float64\n",
            " 19  LONGITUDE                212462 non-null  float64\n",
            " 20  VEHICLE_TYPE             212462 non-null  object \n",
            " 21  MANEUVER                 212462 non-null  object \n",
            " 22  FIRST_CONTACT_POINT      212462 non-null  object \n",
            " 23  VEHICLE_DEFECT_I         212462 non-null  object \n",
            " 24  OCCUPANT_CAT             212462 non-null  object \n",
            "dtypes: float64(4), int64(6), object(15)\n",
            "memory usage: 42.1+ MB\n"
          ]
        }
      ],
      "source": [
        "#check new dataframe's info\n",
        "veh_crsh.info()"
      ]
    },
    {
      "cell_type": "code",
      "execution_count": 147,
      "id": "9cd3bf54",
      "metadata": {
        "colab": {
          "base_uri": "https://localhost:8080/",
          "height": 560
        },
        "execution": {
          "iopub.execute_input": "2023-04-22T07:22:15.491897Z",
          "iopub.status.busy": "2023-04-22T07:22:15.491381Z",
          "iopub.status.idle": "2023-04-22T07:22:15.522126Z",
          "shell.execute_reply": "2023-04-22T07:22:15.520453Z"
        },
        "id": "9cd3bf54",
        "outputId": "09607372-ddc0-4028-a232-2f127c2a6e12",
        "papermill": {
          "duration": 0.157749,
          "end_time": "2023-04-22T07:22:15.525048",
          "exception": false,
          "start_time": "2023-04-22T07:22:15.367299",
          "status": "completed"
        },
        "tags": []
      },
      "outputs": [
        {
          "data": {
            "text/html": [
              "\n",
              "  <div id=\"df-7a638041-4e5f-475f-b178-a0f77cfe8d37\">\n",
              "    <div class=\"colab-df-container\">\n",
              "      <div>\n",
              "<style scoped>\n",
              "    .dataframe tbody tr th:only-of-type {\n",
              "        vertical-align: middle;\n",
              "    }\n",
              "\n",
              "    .dataframe tbody tr th {\n",
              "        vertical-align: top;\n",
              "    }\n",
              "\n",
              "    .dataframe thead th {\n",
              "        text-align: right;\n",
              "    }\n",
              "</style>\n",
              "<table border=\"1\" class=\"dataframe\">\n",
              "  <thead>\n",
              "    <tr style=\"text-align: right;\">\n",
              "      <th></th>\n",
              "      <th>CRASH_RECORD_ID</th>\n",
              "      <th>CRASH_YEAR</th>\n",
              "      <th>POSTED_SPEED_LIMIT</th>\n",
              "      <th>DEVICE_CONDITION</th>\n",
              "      <th>WEATHER_CONDITION</th>\n",
              "      <th>LIGHTING_CONDITION</th>\n",
              "      <th>CRASH_TYPE</th>\n",
              "      <th>INTERSECTION_RELATED_I</th>\n",
              "      <th>ROAD_DEFECT</th>\n",
              "      <th>PRIM_CONTRIBUTORY_CAUSE</th>\n",
              "      <th>...</th>\n",
              "      <th>CRASH_HOUR</th>\n",
              "      <th>CRASH_DAY_OF_WEEK</th>\n",
              "      <th>CRASH_MONTH</th>\n",
              "      <th>LATITUDE</th>\n",
              "      <th>LONGITUDE</th>\n",
              "      <th>VEHICLE_TYPE</th>\n",
              "      <th>MANEUVER</th>\n",
              "      <th>FIRST_CONTACT_POINT</th>\n",
              "      <th>VEHICLE_DEFECT_I</th>\n",
              "      <th>OCCUPANT_CAT</th>\n",
              "    </tr>\n",
              "  </thead>\n",
              "  <tbody>\n",
              "    <tr>\n",
              "      <th>0</th>\n",
              "      <td>79c7a2ce89f446262efd86df3d72d18b04ba487024b7c4...</td>\n",
              "      <td>2019</td>\n",
              "      <td>30</td>\n",
              "      <td>FUNCTIONING PROPERLY</td>\n",
              "      <td>CLEAR</td>\n",
              "      <td>DAY TIME</td>\n",
              "      <td>INJURY AND / OR TOW DUE TO CRASH</td>\n",
              "      <td>Y</td>\n",
              "      <td>NO DEFECTS</td>\n",
              "      <td>RECKLESS/IMPROPER DRIVING</td>\n",
              "      <td>...</td>\n",
              "      <td>14</td>\n",
              "      <td>2</td>\n",
              "      <td>3</td>\n",
              "      <td>41.884547</td>\n",
              "      <td>-87.641201</td>\n",
              "      <td>REGULAR PERSONAL</td>\n",
              "      <td>TURNING</td>\n",
              "      <td>FRONT</td>\n",
              "      <td>N</td>\n",
              "      <td>1-2</td>\n",
              "    </tr>\n",
              "    <tr>\n",
              "      <th>1</th>\n",
              "      <td>79c7a2ce89f446262efd86df3d72d18b04ba487024b7c4...</td>\n",
              "      <td>2019</td>\n",
              "      <td>30</td>\n",
              "      <td>FUNCTIONING PROPERLY</td>\n",
              "      <td>CLEAR</td>\n",
              "      <td>DAY TIME</td>\n",
              "      <td>INJURY AND / OR TOW DUE TO CRASH</td>\n",
              "      <td>Y</td>\n",
              "      <td>NO DEFECTS</td>\n",
              "      <td>RECKLESS/IMPROPER DRIVING</td>\n",
              "      <td>...</td>\n",
              "      <td>14</td>\n",
              "      <td>2</td>\n",
              "      <td>3</td>\n",
              "      <td>41.884547</td>\n",
              "      <td>-87.641201</td>\n",
              "      <td>REGULAR PERSONAL</td>\n",
              "      <td>STRAIGHT</td>\n",
              "      <td>FRONT</td>\n",
              "      <td>N</td>\n",
              "      <td>1-2</td>\n",
              "    </tr>\n",
              "    <tr>\n",
              "      <th>2</th>\n",
              "      <td>7b3545fb91352d7fc46ba142d9044a5508671db4d01d02...</td>\n",
              "      <td>2020</td>\n",
              "      <td>25</td>\n",
              "      <td>FUNCTIONING PROPERLY</td>\n",
              "      <td>CLEAR</td>\n",
              "      <td>DAY TIME</td>\n",
              "      <td>INJURY AND / OR TOW DUE TO CRASH</td>\n",
              "      <td>Y</td>\n",
              "      <td>NO DEFECTS</td>\n",
              "      <td>TRAFFIC RULES VIOLATED</td>\n",
              "      <td>...</td>\n",
              "      <td>11</td>\n",
              "      <td>4</td>\n",
              "      <td>7</td>\n",
              "      <td>41.876850</td>\n",
              "      <td>-87.745294</td>\n",
              "      <td>COMMERCIAL</td>\n",
              "      <td>START/STOP</td>\n",
              "      <td>NONE</td>\n",
              "      <td>U</td>\n",
              "      <td>1-2</td>\n",
              "    </tr>\n",
              "    <tr>\n",
              "      <th>3</th>\n",
              "      <td>79704e1b747fbf5f740f1255785934dfe659ff910d4782...</td>\n",
              "      <td>2019</td>\n",
              "      <td>30</td>\n",
              "      <td>FUNCTIONING PROPERLY</td>\n",
              "      <td>CLEAR</td>\n",
              "      <td>DAY TIME</td>\n",
              "      <td>INJURY AND / OR TOW DUE TO CRASH</td>\n",
              "      <td>N</td>\n",
              "      <td>NO DEFECTS</td>\n",
              "      <td>RECKLESS/IMPROPER DRIVING</td>\n",
              "      <td>...</td>\n",
              "      <td>14</td>\n",
              "      <td>6</td>\n",
              "      <td>6</td>\n",
              "      <td>41.867502</td>\n",
              "      <td>-87.627568</td>\n",
              "      <td>UNKNOWN/NA</td>\n",
              "      <td>UNKNOWN/NA</td>\n",
              "      <td>OTHER</td>\n",
              "      <td>U</td>\n",
              "      <td>1-2</td>\n",
              "    </tr>\n",
              "    <tr>\n",
              "      <th>4</th>\n",
              "      <td>79704e1b747fbf5f740f1255785934dfe659ff910d4782...</td>\n",
              "      <td>2019</td>\n",
              "      <td>30</td>\n",
              "      <td>FUNCTIONING PROPERLY</td>\n",
              "      <td>CLEAR</td>\n",
              "      <td>DAY TIME</td>\n",
              "      <td>INJURY AND / OR TOW DUE TO CRASH</td>\n",
              "      <td>N</td>\n",
              "      <td>NO DEFECTS</td>\n",
              "      <td>RECKLESS/IMPROPER DRIVING</td>\n",
              "      <td>...</td>\n",
              "      <td>14</td>\n",
              "      <td>6</td>\n",
              "      <td>6</td>\n",
              "      <td>41.867502</td>\n",
              "      <td>-87.627568</td>\n",
              "      <td>REGULAR PERSONAL</td>\n",
              "      <td>TURNING</td>\n",
              "      <td>REAR</td>\n",
              "      <td>N</td>\n",
              "      <td>1-2</td>\n",
              "    </tr>\n",
              "  </tbody>\n",
              "</table>\n",
              "<p>5 rows × 25 columns</p>\n",
              "</div>\n",
              "      <button class=\"colab-df-convert\" onclick=\"convertToInteractive('df-7a638041-4e5f-475f-b178-a0f77cfe8d37')\"\n",
              "              title=\"Convert this dataframe to an interactive table.\"\n",
              "              style=\"display:none;\">\n",
              "        \n",
              "  <svg xmlns=\"http://www.w3.org/2000/svg\" height=\"24px\"viewBox=\"0 0 24 24\"\n",
              "       width=\"24px\">\n",
              "    <path d=\"M0 0h24v24H0V0z\" fill=\"none\"/>\n",
              "    <path d=\"M18.56 5.44l.94 2.06.94-2.06 2.06-.94-2.06-.94-.94-2.06-.94 2.06-2.06.94zm-11 1L8.5 8.5l.94-2.06 2.06-.94-2.06-.94L8.5 2.5l-.94 2.06-2.06.94zm10 10l.94 2.06.94-2.06 2.06-.94-2.06-.94-.94-2.06-.94 2.06-2.06.94z\"/><path d=\"M17.41 7.96l-1.37-1.37c-.4-.4-.92-.59-1.43-.59-.52 0-1.04.2-1.43.59L10.3 9.45l-7.72 7.72c-.78.78-.78 2.05 0 2.83L4 21.41c.39.39.9.59 1.41.59.51 0 1.02-.2 1.41-.59l7.78-7.78 2.81-2.81c.8-.78.8-2.07 0-2.86zM5.41 20L4 18.59l7.72-7.72 1.47 1.35L5.41 20z\"/>\n",
              "  </svg>\n",
              "      </button>\n",
              "      \n",
              "  <style>\n",
              "    .colab-df-container {\n",
              "      display:flex;\n",
              "      flex-wrap:wrap;\n",
              "      gap: 12px;\n",
              "    }\n",
              "\n",
              "    .colab-df-convert {\n",
              "      background-color: #E8F0FE;\n",
              "      border: none;\n",
              "      border-radius: 50%;\n",
              "      cursor: pointer;\n",
              "      display: none;\n",
              "      fill: #1967D2;\n",
              "      height: 32px;\n",
              "      padding: 0 0 0 0;\n",
              "      width: 32px;\n",
              "    }\n",
              "\n",
              "    .colab-df-convert:hover {\n",
              "      background-color: #E2EBFA;\n",
              "      box-shadow: 0px 1px 2px rgba(60, 64, 67, 0.3), 0px 1px 3px 1px rgba(60, 64, 67, 0.15);\n",
              "      fill: #174EA6;\n",
              "    }\n",
              "\n",
              "    [theme=dark] .colab-df-convert {\n",
              "      background-color: #3B4455;\n",
              "      fill: #D2E3FC;\n",
              "    }\n",
              "\n",
              "    [theme=dark] .colab-df-convert:hover {\n",
              "      background-color: #434B5C;\n",
              "      box-shadow: 0px 1px 3px 1px rgba(0, 0, 0, 0.15);\n",
              "      filter: drop-shadow(0px 1px 2px rgba(0, 0, 0, 0.3));\n",
              "      fill: #FFFFFF;\n",
              "    }\n",
              "  </style>\n",
              "\n",
              "      <script>\n",
              "        const buttonEl =\n",
              "          document.querySelector('#df-7a638041-4e5f-475f-b178-a0f77cfe8d37 button.colab-df-convert');\n",
              "        buttonEl.style.display =\n",
              "          google.colab.kernel.accessAllowed ? 'block' : 'none';\n",
              "\n",
              "        async function convertToInteractive(key) {\n",
              "          const element = document.querySelector('#df-7a638041-4e5f-475f-b178-a0f77cfe8d37');\n",
              "          const dataTable =\n",
              "            await google.colab.kernel.invokeFunction('convertToInteractive',\n",
              "                                                     [key], {});\n",
              "          if (!dataTable) return;\n",
              "\n",
              "          const docLinkHtml = 'Like what you see? Visit the ' +\n",
              "            '<a target=\"_blank\" href=https://colab.research.google.com/notebooks/data_table.ipynb>data table notebook</a>'\n",
              "            + ' to learn more about interactive tables.';\n",
              "          element.innerHTML = '';\n",
              "          dataTable['output_type'] = 'display_data';\n",
              "          await google.colab.output.renderOutput(dataTable, element);\n",
              "          const docLink = document.createElement('div');\n",
              "          docLink.innerHTML = docLinkHtml;\n",
              "          element.appendChild(docLink);\n",
              "        }\n",
              "      </script>\n",
              "    </div>\n",
              "  </div>\n",
              "  "
            ],
            "text/plain": [
              "                                     CRASH_RECORD_ID  CRASH_YEAR  \\\n",
              "0  79c7a2ce89f446262efd86df3d72d18b04ba487024b7c4...        2019   \n",
              "1  79c7a2ce89f446262efd86df3d72d18b04ba487024b7c4...        2019   \n",
              "2  7b3545fb91352d7fc46ba142d9044a5508671db4d01d02...        2020   \n",
              "3  79704e1b747fbf5f740f1255785934dfe659ff910d4782...        2019   \n",
              "4  79704e1b747fbf5f740f1255785934dfe659ff910d4782...        2019   \n",
              "\n",
              "   POSTED_SPEED_LIMIT      DEVICE_CONDITION WEATHER_CONDITION  \\\n",
              "0                  30  FUNCTIONING PROPERLY             CLEAR   \n",
              "1                  30  FUNCTIONING PROPERLY             CLEAR   \n",
              "2                  25  FUNCTIONING PROPERLY             CLEAR   \n",
              "3                  30  FUNCTIONING PROPERLY             CLEAR   \n",
              "4                  30  FUNCTIONING PROPERLY             CLEAR   \n",
              "\n",
              "  LIGHTING_CONDITION                        CRASH_TYPE INTERSECTION_RELATED_I  \\\n",
              "0           DAY TIME  INJURY AND / OR TOW DUE TO CRASH                      Y   \n",
              "1           DAY TIME  INJURY AND / OR TOW DUE TO CRASH                      Y   \n",
              "2           DAY TIME  INJURY AND / OR TOW DUE TO CRASH                      Y   \n",
              "3           DAY TIME  INJURY AND / OR TOW DUE TO CRASH                      N   \n",
              "4           DAY TIME  INJURY AND / OR TOW DUE TO CRASH                      N   \n",
              "\n",
              "  ROAD_DEFECT    PRIM_CONTRIBUTORY_CAUSE  ...  CRASH_HOUR CRASH_DAY_OF_WEEK  \\\n",
              "0  NO DEFECTS  RECKLESS/IMPROPER DRIVING  ...          14                 2   \n",
              "1  NO DEFECTS  RECKLESS/IMPROPER DRIVING  ...          14                 2   \n",
              "2  NO DEFECTS     TRAFFIC RULES VIOLATED  ...          11                 4   \n",
              "3  NO DEFECTS  RECKLESS/IMPROPER DRIVING  ...          14                 6   \n",
              "4  NO DEFECTS  RECKLESS/IMPROPER DRIVING  ...          14                 6   \n",
              "\n",
              "  CRASH_MONTH   LATITUDE  LONGITUDE      VEHICLE_TYPE    MANEUVER  \\\n",
              "0           3  41.884547 -87.641201  REGULAR PERSONAL     TURNING   \n",
              "1           3  41.884547 -87.641201  REGULAR PERSONAL    STRAIGHT   \n",
              "2           7  41.876850 -87.745294        COMMERCIAL  START/STOP   \n",
              "3           6  41.867502 -87.627568        UNKNOWN/NA  UNKNOWN/NA   \n",
              "4           6  41.867502 -87.627568  REGULAR PERSONAL     TURNING   \n",
              "\n",
              "   FIRST_CONTACT_POINT  VEHICLE_DEFECT_I  OCCUPANT_CAT  \n",
              "0                FRONT                 N           1-2  \n",
              "1                FRONT                 N           1-2  \n",
              "2                 NONE                 U           1-2  \n",
              "3                OTHER                 U           1-2  \n",
              "4                 REAR                 N           1-2  \n",
              "\n",
              "[5 rows x 25 columns]"
            ]
          },
          "execution_count": 147,
          "metadata": {},
          "output_type": "execute_result"
        }
      ],
      "source": [
        "#check dataset\n",
        "veh_crsh.head()"
      ]
    },
    {
      "cell_type": "code",
      "execution_count": 148,
      "id": "cb607bce",
      "metadata": {
        "colab": {
          "base_uri": "https://localhost:8080/"
        },
        "execution": {
          "iopub.execute_input": "2023-04-22T07:22:15.779197Z",
          "iopub.status.busy": "2023-04-22T07:22:15.776364Z",
          "iopub.status.idle": "2023-04-22T07:22:15.943538Z",
          "shell.execute_reply": "2023-04-22T07:22:15.942007Z"
        },
        "id": "cb607bce",
        "outputId": "fc5d5609-5418-4d9e-c4d4-900c65111128",
        "papermill": {
          "duration": 0.298114,
          "end_time": "2023-04-22T07:22:15.946443",
          "exception": false,
          "start_time": "2023-04-22T07:22:15.648329",
          "status": "completed"
        },
        "tags": []
      },
      "outputs": [
        {
          "data": {
            "text/plain": [
              "110175"
            ]
          },
          "execution_count": 148,
          "metadata": {},
          "output_type": "execute_result"
        }
      ],
      "source": [
        "#check unique records fr crash reecord ID\n",
        "len(veh_crsh['CRASH_RECORD_ID'].unique())"
      ]
    },
    {
      "cell_type": "code",
      "execution_count": 149,
      "id": "80e2e488",
      "metadata": {
        "colab": {
          "base_uri": "https://localhost:8080/"
        },
        "id": "80e2e488",
        "outputId": "47262f28-fbff-46c5-c79d-f41a90c99edc"
      },
      "outputs": [
        {
          "name": "stdout",
          "output_type": "stream",
          "text": [
            "102287\n",
            "The ratio of number of crashes to total number of records:  2.0771163490961704\n"
          ]
        }
      ],
      "source": [
        "#check difference of unique reecords and total records\n",
        "diff = (len(veh_crsh) - len(veh_crsh['CRASH_RECORD_ID'].unique()))\n",
        "print(diff)\n",
        "\n",
        "#check the ratio to understand the ratio\n",
        "print('The ratio of number of crashes to total number of records: ', len(veh_crsh)/diff)"
      ]
    },
    {
      "cell_type": "markdown",
      "id": "7b1c7981",
      "metadata": {
        "id": "7b1c7981"
      },
      "source": [
        "We can see that there are approximately on average 2 vehicles per crash. There are for sure severaal records where crashes took place between a vehicle and a pedestrian or cyclist. The multiple records for the same craash ID represent that there was more than one vehicle involved in a crash.\n",
        "\n",
        "Next we'll clen up the people database and merge it with this one. Then we will deal with the unkown values that we have carried forward from this dataset."
      ]
    },
    {
      "cell_type": "markdown",
      "id": "b13ca729",
      "metadata": {
        "id": "b13ca729",
        "papermill": {
          "duration": 0.128916,
          "end_time": "2023-04-22T07:22:16.270823",
          "exception": false,
          "start_time": "2023-04-22T07:22:16.141907",
          "status": "completed"
        },
        "tags": []
      },
      "source": [
        "### People"
      ]
    },
    {
      "cell_type": "markdown",
      "id": "25ceefb8",
      "metadata": {
        "id": "25ceefb8"
      },
      "source": [
        "First, lets extract the columns to keep."
      ]
    },
    {
      "cell_type": "code",
      "execution_count": 150,
      "id": "c1a4cae3",
      "metadata": {
        "execution": {
          "iopub.execute_input": "2023-04-22T07:22:16.527621Z",
          "iopub.status.busy": "2023-04-22T07:22:16.526354Z",
          "iopub.status.idle": "2023-04-22T07:22:16.682808Z",
          "shell.execute_reply": "2023-04-22T07:22:16.681605Z"
        },
        "id": "c1a4cae3",
        "papermill": {
          "duration": 0.288145,
          "end_time": "2023-04-22T07:22:16.686305",
          "exception": false,
          "start_time": "2023-04-22T07:22:16.398160",
          "status": "completed"
        },
        "tags": []
      },
      "outputs": [],
      "source": [
        "#extract columns\n",
        "cln_people = people_df[\n",
        "    ['PERSON_TYPE',\n",
        "    'CRASH_RECORD_ID',\n",
        "    'VEHICLE_ID',\n",
        "    'AGE',\n",
        "    'SAFETY_EQUIPMENT',\n",
        "    'INJURY_CLASSIFICATION',\n",
        "    'DRIVER_ACTION',\n",
        "    'DRIVER_VISION',\n",
        "    'PHYSICAL_CONDITION',\n",
        "    'PEDPEDAL_ACTION',\n",
        "    'BAC_RESULT VALUE']    \n",
        "]"
      ]
    },
    {
      "cell_type": "code",
      "execution_count": 151,
      "id": "7fbd1327",
      "metadata": {
        "colab": {
          "base_uri": "https://localhost:8080/"
        },
        "execution": {
          "iopub.execute_input": "2023-04-22T07:22:16.937099Z",
          "iopub.status.busy": "2023-04-22T07:22:16.936623Z",
          "iopub.status.idle": "2023-04-22T07:22:17.642178Z",
          "shell.execute_reply": "2023-04-22T07:22:17.639744Z"
        },
        "id": "7fbd1327",
        "outputId": "a6230839-8e95-4641-8d9e-0f1d4b526787",
        "papermill": {
          "duration": 0.835917,
          "end_time": "2023-04-22T07:22:17.646300",
          "exception": false,
          "start_time": "2023-04-22T07:22:16.810383",
          "status": "completed"
        },
        "tags": []
      },
      "outputs": [
        {
          "name": "stdout",
          "output_type": "stream",
          "text": [
            "<class 'pandas.core.frame.DataFrame'>\n",
            "RangeIndex: 1255054 entries, 0 to 1255053\n",
            "Data columns (total 11 columns):\n",
            " #   Column                 Non-Null Count    Dtype  \n",
            "---  ------                 --------------    -----  \n",
            " 0   PERSON_TYPE            1255054 non-null  object \n",
            " 1   CRASH_RECORD_ID        1255054 non-null  object \n",
            " 2   VEHICLE_ID             1228805 non-null  float64\n",
            " 3   AGE                    902145 non-null   float64\n",
            " 4   SAFETY_EQUIPMENT       1251269 non-null  object \n",
            " 5   INJURY_CLASSIFICATION  1254561 non-null  object \n",
            " 6   DRIVER_ACTION          1070491 non-null  object \n",
            " 7   DRIVER_VISION          1070094 non-null  object \n",
            " 8   PHYSICAL_CONDITION     1071243 non-null  object \n",
            " 9   PEDPEDAL_ACTION        24761 non-null    object \n",
            " 10  BAC_RESULT VALUE       1662 non-null     float64\n",
            "dtypes: float64(3), object(8)\n",
            "memory usage: 105.3+ MB\n"
          ]
        }
      ],
      "source": [
        "#check dataframe info\n",
        "cln_people.info()"
      ]
    },
    {
      "cell_type": "markdown",
      "id": "b2957f1e",
      "metadata": {
        "id": "b2957f1e"
      },
      "source": [
        "There are a few missing records in Vehicle ID but since we are joining on Crash REcord ID, we can ignore these missing records and drop the Vehicle ID column eventually.\n",
        "\n",
        "Lets evaluate the specific Person Type column and correlare whether the data is clean from a perspective of every relevant category"
      ]
    },
    {
      "cell_type": "code",
      "execution_count": 152,
      "id": "0e66db60",
      "metadata": {
        "colab": {
          "base_uri": "https://localhost:8080/"
        },
        "execution": {
          "iopub.execute_input": "2023-04-22T07:22:17.903749Z",
          "iopub.status.busy": "2023-04-22T07:22:17.903068Z",
          "iopub.status.idle": "2023-04-22T07:22:18.010595Z",
          "shell.execute_reply": "2023-04-22T07:22:18.009006Z"
        },
        "id": "0e66db60",
        "outputId": "48dd74c5-0532-476d-b784-960e09e84b11",
        "papermill": {
          "duration": 0.241577,
          "end_time": "2023-04-22T07:22:18.013687",
          "exception": false,
          "start_time": "2023-04-22T07:22:17.772110",
          "status": "completed"
        },
        "tags": []
      },
      "outputs": [
        {
          "data": {
            "text/plain": [
              "DRIVER                 1047219\n",
              "PASSENGER               182080\n",
              "PEDESTRIAN               15328\n",
              "BICYCLE                   9068\n",
              "NON-MOTOR VEHICLE         1118\n",
              "NON-CONTACT VEHICLE        241\n",
              "Name: PERSON_TYPE, dtype: int64"
            ]
          },
          "execution_count": 152,
          "metadata": {},
          "output_type": "execute_result"
        }
      ],
      "source": [
        "cln_people['PERSON_TYPE'].value_counts()"
      ]
    },
    {
      "cell_type": "markdown",
      "id": "272b6846",
      "metadata": {
        "id": "272b6846"
      },
      "source": [
        "Lets look at the Passenger category. We want to make sure that there is no values in the Driver Action and Driver Visibility columns."
      ]
    },
    {
      "cell_type": "code",
      "execution_count": 153,
      "id": "d3d4fe34",
      "metadata": {
        "colab": {
          "base_uri": "https://localhost:8080/"
        },
        "execution": {
          "iopub.execute_input": "2023-04-22T07:22:18.264191Z",
          "iopub.status.busy": "2023-04-22T07:22:18.263666Z",
          "iopub.status.idle": "2023-04-22T07:22:18.616083Z",
          "shell.execute_reply": "2023-04-22T07:22:18.613622Z"
        },
        "id": "d3d4fe34",
        "outputId": "77ea969e-e303-4c65-aa04-37cce940e5b1",
        "papermill": {
          "duration": 0.482931,
          "end_time": "2023-04-22T07:22:18.619132",
          "exception": false,
          "start_time": "2023-04-22T07:22:18.136201",
          "status": "completed"
        },
        "tags": []
      },
      "outputs": [
        {
          "name": "stdout",
          "output_type": "stream",
          "text": [
            "<class 'pandas.core.frame.DataFrame'>\n",
            "Int64Index: 182080 entries, 54 to 1255053\n",
            "Data columns (total 11 columns):\n",
            " #   Column                 Non-Null Count   Dtype  \n",
            "---  ------                 --------------   -----  \n",
            " 0   PERSON_TYPE            182080 non-null  object \n",
            " 1   CRASH_RECORD_ID        182080 non-null  object \n",
            " 2   VEHICLE_ID             182079 non-null  float64\n",
            " 3   AGE                    111963 non-null  float64\n",
            " 4   SAFETY_EQUIPMENT       181949 non-null  object \n",
            " 5   INJURY_CLASSIFICATION  181927 non-null  object \n",
            " 6   DRIVER_ACTION          0 non-null       object \n",
            " 7   DRIVER_VISION          0 non-null       object \n",
            " 8   PHYSICAL_CONDITION     0 non-null       object \n",
            " 9   PEDPEDAL_ACTION        0 non-null       object \n",
            " 10  BAC_RESULT VALUE       0 non-null       float64\n",
            "dtypes: float64(3), object(8)\n",
            "memory usage: 16.7+ MB\n"
          ]
        }
      ],
      "source": [
        "#check info for Passenger person type\n",
        "cln_people[cln_people['PERSON_TYPE'] == 'PASSENGER'].info()"
      ]
    },
    {
      "cell_type": "markdown",
      "id": "b26ed8fe",
      "metadata": {
        "id": "b26ed8fe"
      },
      "source": [
        "The data is as was anticipated with no mistakes in the Driver Action and Driver Visbility feature. NExt lets ecplore the Age colum. It has a some missing values which we will have to deal with."
      ]
    },
    {
      "cell_type": "code",
      "execution_count": 154,
      "id": "b9574c64",
      "metadata": {
        "colab": {
          "base_uri": "https://localhost:8080/"
        },
        "execution": {
          "iopub.execute_input": "2023-04-22T07:22:19.825835Z",
          "iopub.status.busy": "2023-04-22T07:22:19.825350Z",
          "iopub.status.idle": "2023-04-22T07:22:19.859321Z",
          "shell.execute_reply": "2023-04-22T07:22:19.857558Z"
        },
        "id": "b9574c64",
        "outputId": "e81dba9d-1a6a-40d7-c5bb-d4acebb38c0f",
        "papermill": {
          "duration": 0.164529,
          "end_time": "2023-04-22T07:22:19.862773",
          "exception": false,
          "start_time": "2023-04-22T07:22:19.698244",
          "status": "completed"
        },
        "tags": []
      },
      "outputs": [
        {
          "data": {
            "text/plain": [
              " 25.0     26118\n",
              " 26.0     25938\n",
              " 27.0     25903\n",
              " 28.0     25316\n",
              " 24.0     25015\n",
              "          ...  \n",
              " 110.0        4\n",
              " 105.0        2\n",
              "-177.0        1\n",
              "-47.0         1\n",
              "-49.0         1\n",
              "Name: AGE, Length: 114, dtype: int64"
            ]
          },
          "execution_count": 154,
          "metadata": {},
          "output_type": "execute_result"
        }
      ],
      "source": [
        "#check value counts\n",
        "cln_people['AGE'].value_counts()"
      ]
    },
    {
      "cell_type": "markdown",
      "id": "6c583a34",
      "metadata": {
        "id": "6c583a34"
      },
      "source": [
        "Looks like there are several negative values as well. These caan be typos and we can use the absolute Mathematics operation t convert them back into positive integers."
      ]
    },
    {
      "cell_type": "code",
      "execution_count": 155,
      "id": "dc7be0c2",
      "metadata": {
        "colab": {
          "base_uri": "https://localhost:8080/"
        },
        "execution": {
          "iopub.execute_input": "2023-04-22T07:22:20.114370Z",
          "iopub.status.busy": "2023-04-22T07:22:20.113931Z",
          "iopub.status.idle": "2023-04-22T07:22:20.128455Z",
          "shell.execute_reply": "2023-04-22T07:22:20.127355Z"
        },
        "id": "dc7be0c2",
        "outputId": "fc811ee9-e174-49cc-b48d-bd9a4798e178",
        "papermill": {
          "duration": 0.145537,
          "end_time": "2023-04-22T07:22:20.131551",
          "exception": false,
          "start_time": "2023-04-22T07:22:19.986014",
          "status": "completed"
        },
        "tags": []
      },
      "outputs": [
        {
          "name": "stderr",
          "output_type": "stream",
          "text": [
            "<ipython-input-155-cbaf058256f5>:2: SettingWithCopyWarning: \n",
            "A value is trying to be set on a copy of a slice from a DataFrame.\n",
            "Try using .loc[row_indexer,col_indexer] = value instead\n",
            "\n",
            "See the caveats in the documentation: https://pandas.pydata.org/pandas-docs/stable/user_guide/indexing.html#returning-a-view-versus-a-copy\n",
            "  cln_people['AGE'] = cln_people['AGE'].abs()\n"
          ]
        }
      ],
      "source": [
        "#convert negative values to positive\n",
        "cln_people['AGE'] = cln_people['AGE'].abs()"
      ]
    },
    {
      "cell_type": "code",
      "execution_count": 156,
      "id": "ed432e4b",
      "metadata": {
        "colab": {
          "base_uri": "https://localhost:8080/"
        },
        "execution": {
          "iopub.execute_input": "2023-04-22T07:22:20.394212Z",
          "iopub.status.busy": "2023-04-22T07:22:20.393703Z",
          "iopub.status.idle": "2023-04-22T07:22:20.427511Z",
          "shell.execute_reply": "2023-04-22T07:22:20.426089Z"
        },
        "id": "ed432e4b",
        "outputId": "6788db57-e90a-4444-c656-c5259767fd9a",
        "papermill": {
          "duration": 0.172719,
          "end_time": "2023-04-22T07:22:20.430530",
          "exception": false,
          "start_time": "2023-04-22T07:22:20.257811",
          "status": "completed"
        },
        "tags": []
      },
      "outputs": [
        {
          "data": {
            "text/plain": [
              "25.0     26118\n",
              "26.0     25938\n",
              "27.0     25903\n",
              "28.0     25316\n",
              "24.0     25015\n",
              "         ...  \n",
              "107.0        5\n",
              "108.0        5\n",
              "110.0        4\n",
              "105.0        2\n",
              "177.0        1\n",
              "Name: AGE, Length: 111, dtype: int64"
            ]
          },
          "execution_count": 156,
          "metadata": {},
          "output_type": "execute_result"
        }
      ],
      "source": [
        "#check new value counts\n",
        "cln_people['AGE'].value_counts()"
      ]
    },
    {
      "cell_type": "markdown",
      "id": "df6c1ade",
      "metadata": {
        "id": "df6c1ade"
      },
      "source": [
        "The longest a person haas lived in the US is 119 years therefore there are a few age values that don;t seem realistic. As of 2021, the official numbers for the percentage of US population older than 75 was ~6.7%\n",
        "\n",
        "Based on this fact, to increase the confidence in the dataset and remove any possible erros in entering ages, it would be important to limit the ages that we model for. It would be safe to drop records with 75+ ages and still cater to the majority of the population."
      ]
    },
    {
      "cell_type": "code",
      "execution_count": 157,
      "id": "28417daa",
      "metadata": {
        "id": "28417daa"
      },
      "outputs": [],
      "source": [
        "#select records with ages less than or equal to 75\n",
        "cln_people = cln_people[cln_people['AGE'] <= 75]"
      ]
    },
    {
      "cell_type": "markdown",
      "id": "abeed28a",
      "metadata": {
        "id": "abeed28a"
      },
      "source": [
        "Lets take a look at the filtered out data's disstribution. Ideally, we would see a smaller amount people under the age of 18 because they are mostly passengers or with adults. Vice versa, we should see a hiigher number of people involved in crashes older than 18 years."
      ]
    },
    {
      "cell_type": "code",
      "execution_count": 158,
      "id": "4ef45b2c",
      "metadata": {
        "colab": {
          "base_uri": "https://localhost:8080/",
          "height": 430
        },
        "execution": {
          "iopub.execute_input": "2023-04-22T07:22:20.760469Z",
          "iopub.status.busy": "2023-04-22T07:22:20.759994Z",
          "iopub.status.idle": "2023-04-22T07:22:22.048899Z",
          "shell.execute_reply": "2023-04-22T07:22:22.047251Z"
        },
        "id": "4ef45b2c",
        "outputId": "9c9053ca-e969-44f4-e55d-1c244f9c5d84",
        "papermill": {
          "duration": 1.495705,
          "end_time": "2023-04-22T07:22:22.052166",
          "exception": false,
          "start_time": "2023-04-22T07:22:20.556461",
          "status": "completed"
        },
        "scrolled": true,
        "tags": []
      },
      "outputs": [
        {
          "data": {
            "image/png": "[encoded data removed]",
            "text/plain": [
              "<Figure size 640x480 with 1 Axes>"
            ]
          },
          "metadata": {},
          "output_type": "display_data"
        }
      ],
      "source": [
        "#plot a histogram\n",
        "cln_people['AGE'].hist(bins='auto');"
      ]
    },
    {
      "cell_type": "markdown",
      "id": "67b6eeb8",
      "metadata": {
        "id": "67b6eeb8"
      },
      "source": [
        "Now we haave to deal with the missing values for the Age column. There are almost 500k records missing age values. This is a very large number so we can't drop these. We can impute values using the person type column. For drivers, we will use the median age from the records of that specific category."
      ]
    },
    {
      "cell_type": "code",
      "execution_count": 159,
      "id": "b1f03930",
      "metadata": {
        "colab": {
          "base_uri": "https://localhost:8080/"
        },
        "id": "b1f03930",
        "outputId": "a1f32537-39da-4e43-f7ff-3ab904482656"
      },
      "outputs": [
        {
          "name": "stderr",
          "output_type": "stream",
          "text": [
            "<ipython-input-159-5cefa873a844>:2: SettingWithCopyWarning: \n",
            "A value is trying to be set on a copy of a slice from a DataFrame\n",
            "\n",
            "See the caveats in the documentation: https://pandas.pydata.org/pandas-docs/stable/user_guide/indexing.html#returning-a-view-versus-a-copy\n",
            "  cln_people[cln_people['PERSON_TYPE'] == 'DRIVER']['AGE'].fillna(\n"
          ]
        }
      ],
      "source": [
        "#impute the values of age for the driver person type\n",
        "cln_people[cln_people['PERSON_TYPE'] == 'DRIVER']['AGE'].fillna(\n",
        "                                            cln_people[cln_people['PERSON_TYPE'] == 'DRIVER']['AGE'].median(), \n",
        "                                            inplace= True)"
      ]
    },
    {
      "cell_type": "code",
      "execution_count": 160,
      "id": "1749fd38",
      "metadata": {
        "colab": {
          "base_uri": "https://localhost:8080/"
        },
        "id": "1749fd38",
        "outputId": "28f66120-3e32-4524-e954-c2bb53c3cce5"
      },
      "outputs": [
        {
          "name": "stderr",
          "output_type": "stream",
          "text": [
            "<ipython-input-160-9fef07efa0a4>:2: SettingWithCopyWarning: \n",
            "A value is trying to be set on a copy of a slice from a DataFrame\n",
            "\n",
            "See the caveats in the documentation: https://pandas.pydata.org/pandas-docs/stable/user_guide/indexing.html#returning-a-view-versus-a-copy\n",
            "  cln_people[cln_people['PERSON_TYPE'] == 'PASSENGER']['AGE'].fillna(\n"
          ]
        }
      ],
      "source": [
        "#impute the values of age for the passenger person type\n",
        "cln_people[cln_people['PERSON_TYPE'] == 'PASSENGER']['AGE'].fillna(\n",
        "                                            cln_people[cln_people['PERSON_TYPE'] == 'PASSENGER']['AGE'].median(), \n",
        "                                            inplace= True)"
      ]
    },
    {
      "cell_type": "code",
      "execution_count": 161,
      "id": "c9dc8946",
      "metadata": {
        "colab": {
          "base_uri": "https://localhost:8080/"
        },
        "id": "c9dc8946",
        "outputId": "c64cb66c-cdd1-4f67-e044-64706b08efcf"
      },
      "outputs": [
        {
          "name": "stderr",
          "output_type": "stream",
          "text": [
            "<ipython-input-161-cc840edc0814>:2: SettingWithCopyWarning: \n",
            "A value is trying to be set on a copy of a slice from a DataFrame\n",
            "\n",
            "See the caveats in the documentation: https://pandas.pydata.org/pandas-docs/stable/user_guide/indexing.html#returning-a-view-versus-a-copy\n",
            "  cln_people[cln_people['PERSON_TYPE'] == 'PEDESTRIAN']['AGE'].fillna(\n"
          ]
        }
      ],
      "source": [
        "#impute the values of age for the pedestrian person type\n",
        "cln_people[cln_people['PERSON_TYPE'] == 'PEDESTRIAN']['AGE'].fillna(\n",
        "                                            cln_people[cln_people['PERSON_TYPE'] == 'PEDESTRIAN']['AGE'].median(), \n",
        "                                            inplace= True)"
      ]
    },
    {
      "cell_type": "code",
      "execution_count": 162,
      "id": "0803ecf0",
      "metadata": {
        "colab": {
          "base_uri": "https://localhost:8080/"
        },
        "id": "0803ecf0",
        "outputId": "925aaeb0-46a1-423a-a923-a37bbf4575f0"
      },
      "outputs": [
        {
          "name": "stderr",
          "output_type": "stream",
          "text": [
            "<ipython-input-162-4c6cad64944a>:2: SettingWithCopyWarning: \n",
            "A value is trying to be set on a copy of a slice from a DataFrame\n",
            "\n",
            "See the caveats in the documentation: https://pandas.pydata.org/pandas-docs/stable/user_guide/indexing.html#returning-a-view-versus-a-copy\n",
            "  cln_people[cln_people['PERSON_TYPE'] == 'BICYCLE']['AGE'].fillna(\n"
          ]
        }
      ],
      "source": [
        "#impute the values of age for the biycle person type\n",
        "cln_people[cln_people['PERSON_TYPE'] == 'BICYCLE']['AGE'].fillna(\n",
        "                                                cln_people[cln_people['PERSON_TYPE'] == 'BICYCLE']['AGE'].median(), \n",
        "                                                inplace= True)"
      ]
    },
    {
      "cell_type": "code",
      "execution_count": 163,
      "id": "9320450d",
      "metadata": {
        "colab": {
          "base_uri": "https://localhost:8080/"
        },
        "id": "9320450d",
        "outputId": "3ed9f72c-fd1d-4955-ba27-9f6b5b8d1e28"
      },
      "outputs": [
        {
          "name": "stderr",
          "output_type": "stream",
          "text": [
            "<ipython-input-163-a94c76633dbd>:2: SettingWithCopyWarning: \n",
            "A value is trying to be set on a copy of a slice from a DataFrame\n",
            "\n",
            "See the caveats in the documentation: https://pandas.pydata.org/pandas-docs/stable/user_guide/indexing.html#returning-a-view-versus-a-copy\n",
            "  cln_people[cln_people['PERSON_TYPE'] == 'NON-MOTOR VEHICLE']['AGE'].fillna(\n"
          ]
        }
      ],
      "source": [
        "#impute the values of age for the NON-MOTOR VEHICLE person type\n",
        "cln_people[cln_people['PERSON_TYPE'] == 'NON-MOTOR VEHICLE']['AGE'].fillna(\n",
        "                                    cln_people[cln_people['PERSON_TYPE'] == 'NON-MOTOR VEHICLE']['AGE'].median(), \n",
        "                                    inplace= True)"
      ]
    },
    {
      "cell_type": "code",
      "execution_count": 164,
      "id": "d13d0544",
      "metadata": {
        "colab": {
          "base_uri": "https://localhost:8080/"
        },
        "id": "d13d0544",
        "outputId": "5e142d22-9e50-4a29-89dd-b53e52e42407"
      },
      "outputs": [
        {
          "name": "stderr",
          "output_type": "stream",
          "text": [
            "<ipython-input-164-1eb64ab57a96>:2: SettingWithCopyWarning: \n",
            "A value is trying to be set on a copy of a slice from a DataFrame\n",
            "\n",
            "See the caveats in the documentation: https://pandas.pydata.org/pandas-docs/stable/user_guide/indexing.html#returning-a-view-versus-a-copy\n",
            "  cln_people[cln_people['PERSON_TYPE'] == 'NON-CONTACT VEHICLE']['AGE'].fillna(\n"
          ]
        }
      ],
      "source": [
        "#impute the values of age for the NON-CONTACT VEHICLE person type\n",
        "cln_people[cln_people['PERSON_TYPE'] == 'NON-CONTACT VEHICLE']['AGE'].fillna(\n",
        "                                    cln_people[cln_people['PERSON_TYPE'] == 'NON-CONTACT VEHICLE']['AGE'].median(), \n",
        "                                    inplace= True)"
      ]
    },
    {
      "cell_type": "markdown",
      "id": "8de557e9",
      "metadata": {
        "id": "8de557e9"
      },
      "source": [
        "Lets take a look at the distribution again"
      ]
    },
    {
      "cell_type": "code",
      "execution_count": 165,
      "id": "314428d9",
      "metadata": {
        "colab": {
          "base_uri": "https://localhost:8080/",
          "height": 430
        },
        "execution": {
          "iopub.execute_input": "2023-04-22T07:22:23.598960Z",
          "iopub.status.busy": "2023-04-22T07:22:23.598468Z",
          "iopub.status.idle": "2023-04-22T07:22:23.928170Z",
          "shell.execute_reply": "2023-04-22T07:22:23.926469Z"
        },
        "id": "314428d9",
        "outputId": "b64b705e-b3a2-42f2-844b-ac245d486318",
        "papermill": {
          "duration": 0.460756,
          "end_time": "2023-04-22T07:22:23.931682",
          "exception": false,
          "start_time": "2023-04-22T07:22:23.470926",
          "status": "completed"
        },
        "tags": []
      },
      "outputs": [
        {
          "data": {
            "image/png": "[encoded data removed]",
            "text/plain": [
              "<Figure size 640x480 with 1 Axes>"
            ]
          },
          "metadata": {},
          "output_type": "display_data"
        }
      ],
      "source": [
        "#plot the histogram\n",
        "cln_people['AGE'].hist();"
      ]
    },
    {
      "cell_type": "code",
      "execution_count": 166,
      "id": "20942048",
      "metadata": {
        "colab": {
          "base_uri": "https://localhost:8080/"
        },
        "id": "20942048",
        "outputId": "af120762-d42d-45c7-c746-75fcf36ce994"
      },
      "outputs": [
        {
          "name": "stdout",
          "output_type": "stream",
          "text": [
            "<class 'pandas.core.frame.DataFrame'>\n",
            "Int64Index: 885751 entries, 0 to 1255045\n",
            "Data columns (total 11 columns):\n",
            " #   Column                 Non-Null Count   Dtype  \n",
            "---  ------                 --------------   -----  \n",
            " 0   PERSON_TYPE            885751 non-null  object \n",
            " 1   CRASH_RECORD_ID        885751 non-null  object \n",
            " 2   VEHICLE_ID             863741 non-null  float64\n",
            " 3   AGE                    885751 non-null  float64\n",
            " 4   SAFETY_EQUIPMENT       883080 non-null  object \n",
            " 5   INJURY_CLASSIFICATION  885729 non-null  object \n",
            " 6   DRIVER_ACTION          773855 non-null  object \n",
            " 7   DRIVER_VISION          773551 non-null  object \n",
            " 8   PHYSICAL_CONDITION     774542 non-null  object \n",
            " 9   PEDPEDAL_ACTION        21479 non-null   object \n",
            " 10  BAC_RESULT VALUE       1633 non-null    float64\n",
            "dtypes: float64(3), object(8)\n",
            "memory usage: 81.1+ MB\n"
          ]
        }
      ],
      "source": [
        "#check dataframe info\n",
        "cln_people.info()"
      ]
    },
    {
      "cell_type": "markdown",
      "id": "3405e8dd",
      "metadata": {
        "id": "3405e8dd"
      },
      "source": [
        "Next we will tackle the Safety Equipment column. There are a few missing values which we will explore how to tackle. There are also a lot of categoricaal values in this column. The informaation that we are trying to extract from this column is whether safety equipment was used or not. There are also some unkown values that we have to tackle.\n",
        "\n",
        "We can drop the records with missing values because they are a small perentage of the total and then group the remaining categories. First, lets take a look at the categories in this column."
      ]
    },
    {
      "cell_type": "code",
      "execution_count": 167,
      "id": "4322f4e6",
      "metadata": {
        "id": "4322f4e6"
      },
      "outputs": [],
      "source": [
        "#drop missing values\n",
        "cln_people = cln_people.dropna(subset=['SAFETY_EQUIPMENT'])"
      ]
    },
    {
      "cell_type": "code",
      "execution_count": 168,
      "id": "3caac65a",
      "metadata": {
        "colab": {
          "base_uri": "https://localhost:8080/"
        },
        "id": "3caac65a",
        "outputId": "0a6090f6-6102-4129-de95-79f8c58e953b"
      },
      "outputs": [
        {
          "name": "stdout",
          "output_type": "stream",
          "text": [
            "<class 'pandas.core.frame.DataFrame'>\n",
            "Int64Index: 883080 entries, 0 to 1255045\n",
            "Data columns (total 11 columns):\n",
            " #   Column                 Non-Null Count   Dtype  \n",
            "---  ------                 --------------   -----  \n",
            " 0   PERSON_TYPE            883080 non-null  object \n",
            " 1   CRASH_RECORD_ID        883080 non-null  object \n",
            " 2   VEHICLE_ID             863735 non-null  float64\n",
            " 3   AGE                    883080 non-null  float64\n",
            " 4   SAFETY_EQUIPMENT       883080 non-null  object \n",
            " 5   INJURY_CLASSIFICATION  883072 non-null  object \n",
            " 6   DRIVER_ACTION          772322 non-null  object \n",
            " 7   DRIVER_VISION          772200 non-null  object \n",
            " 8   PHYSICAL_CONDITION     772494 non-null  object \n",
            " 9   PEDPEDAL_ACTION        18853 non-null   object \n",
            " 10  BAC_RESULT VALUE       1632 non-null    float64\n",
            "dtypes: float64(3), object(8)\n",
            "memory usage: 80.8+ MB\n"
          ]
        }
      ],
      "source": [
        "#check info\n",
        "cln_people.info()"
      ]
    },
    {
      "cell_type": "code",
      "execution_count": 169,
      "id": "b15fa3c3",
      "metadata": {
        "colab": {
          "base_uri": "https://localhost:8080/"
        },
        "execution": {
          "iopub.execute_input": "2023-04-22T07:22:24.194315Z",
          "iopub.status.busy": "2023-04-22T07:22:24.193842Z",
          "iopub.status.idle": "2023-04-22T07:22:24.308106Z",
          "shell.execute_reply": "2023-04-22T07:22:24.306175Z"
        },
        "id": "b15fa3c3",
        "outputId": "a4abd941-c8d2-43b9-95de-7b9fa274fcc6",
        "papermill": {
          "duration": 0.249164,
          "end_time": "2023-04-22T07:22:24.310938",
          "exception": false,
          "start_time": "2023-04-22T07:22:24.061774",
          "status": "completed"
        },
        "scrolled": true,
        "tags": []
      },
      "outputs": [
        {
          "data": {
            "text/plain": [
              "SAFETY BELT USED                              542051\n",
              "USAGE UNKNOWN                                 288672\n",
              "NONE PRESENT                                   31681\n",
              "SAFETY BELT NOT USED                            5343\n",
              "HELMET NOT USED                                 4529\n",
              "CHILD RESTRAINT USED                            2426\n",
              "CHILD RESTRAINT - FORWARD FACING                1791\n",
              "BICYCLE HELMET (PEDACYCLIST INVOLVED ONLY)      1695\n",
              "HELMET USED                                     1249\n",
              "CHILD RESTRAINT - REAR FACING                    947\n",
              "CHILD RESTRAINT - TYPE UNKNOWN                   935\n",
              "DOT COMPLIANT MOTORCYCLE HELMET                  669\n",
              "BOOSTER SEAT                                     523\n",
              "CHILD RESTRAINT NOT USED                         212\n",
              "NOT DOT COMPLIANT MOTORCYCLE HELMET              103\n",
              "SHOULD/LAP BELT USED IMPROPERLY                   98\n",
              "WHEELCHAIR                                        84\n",
              "CHILD RESTRAINT USED IMPROPERLY                   60\n",
              "STRETCHER                                         12\n",
              "Name: SAFETY_EQUIPMENT, dtype: int64"
            ]
          },
          "execution_count": 169,
          "metadata": {},
          "output_type": "execute_result"
        }
      ],
      "source": [
        "#check value counts\n",
        "cln_people['SAFETY_EQUIPMENT'].value_counts()"
      ]
    },
    {
      "cell_type": "code",
      "execution_count": 170,
      "id": "168aefad",
      "metadata": {
        "execution": {
          "iopub.execute_input": "2023-04-22T07:22:24.564471Z",
          "iopub.status.busy": "2023-04-22T07:22:24.563805Z",
          "iopub.status.idle": "2023-04-22T07:22:24.571783Z",
          "shell.execute_reply": "2023-04-22T07:22:24.570231Z"
        },
        "id": "168aefad",
        "papermill": {
          "duration": 0.13754,
          "end_time": "2023-04-22T07:22:24.574734",
          "exception": false,
          "start_time": "2023-04-22T07:22:24.437194",
          "status": "completed"
        },
        "tags": []
      },
      "outputs": [],
      "source": [
        "#create a lists of categories for Indication thta Safety equipment was used\n",
        "sf_equip = ['SAFETY BELT USED', 'CHILD RESTRAINT USED', 'CHILD RESTRAINT - FORWARD FACING', \n",
        "            'BICYCLE HELMET (PEDACYCLIST INVOLVED ONLY)', 'CHILD RESTRAINT - TYPE UNKNOWN',\n",
        "           'CHILD RESTRAINT - REAR FACING', 'HELMET USED', 'DOT COMPLIANT MOTORCYCLE HELMET',\n",
        "           'BOOSTER SEAT', 'WHEELCHAIR', 'STRETCHER']\n",
        "\n",
        "#set up a lambda functin for grouping categories into 2 bins:\n",
        "#Equipment Used and Not Used/Misused\n",
        "f1 = (lambda x: 'SAFETY EQUIPMENT USED' if x in sf_equip \n",
        "      else ('USAGE UNKNOWN' if x =='USAGE UNKNOWN' else 'SAFETY EQUIPMENT MISSING/MISUSED'))"
      ]
    },
    {
      "cell_type": "code",
      "execution_count": 171,
      "id": "151df2c8",
      "metadata": {
        "execution": {
          "iopub.execute_input": "2023-04-22T07:22:24.831622Z",
          "iopub.status.busy": "2023-04-22T07:22:24.831160Z",
          "iopub.status.idle": "2023-04-22T07:22:25.327879Z",
          "shell.execute_reply": "2023-04-22T07:22:25.324038Z"
        },
        "id": "151df2c8",
        "papermill": {
          "duration": 0.630179,
          "end_time": "2023-04-22T07:22:25.331370",
          "exception": false,
          "start_time": "2023-04-22T07:22:24.701191",
          "status": "completed"
        },
        "tags": []
      },
      "outputs": [],
      "source": [
        "#bin ccategories\n",
        "cln_people['SAFETY_EQUIPMENT'] = cln_people['SAFETY_EQUIPMENT'].map(f1)"
      ]
    },
    {
      "cell_type": "code",
      "execution_count": 172,
      "id": "546e6870",
      "metadata": {
        "colab": {
          "base_uri": "https://localhost:8080/"
        },
        "execution": {
          "iopub.execute_input": "2023-04-22T07:22:25.587493Z",
          "iopub.status.busy": "2023-04-22T07:22:25.587001Z",
          "iopub.status.idle": "2023-04-22T07:22:25.662929Z",
          "shell.execute_reply": "2023-04-22T07:22:25.661264Z"
        },
        "id": "546e6870",
        "outputId": "b1ddd648-6674-4626-e702-b1e350764352",
        "papermill": {
          "duration": 0.207084,
          "end_time": "2023-04-22T07:22:25.666191",
          "exception": false,
          "start_time": "2023-04-22T07:22:25.459107",
          "status": "completed"
        },
        "tags": []
      },
      "outputs": [
        {
          "data": {
            "text/plain": [
              "SAFETY EQUIPMENT USED               552382\n",
              "USAGE UNKNOWN                       288672\n",
              "SAFETY EQUIPMENT MISSING/MISUSED     42026\n",
              "Name: SAFETY_EQUIPMENT, dtype: int64"
            ]
          },
          "execution_count": 172,
          "metadata": {},
          "output_type": "execute_result"
        }
      ],
      "source": [
        "cln_people['SAFETY_EQUIPMENT'].value_counts()"
      ]
    },
    {
      "cell_type": "markdown",
      "id": "f1a30b1d",
      "metadata": {
        "id": "f1a30b1d"
      },
      "source": [
        "We will keep the Usage Unkown category for now since it is a large chunk of the dataset and reevaluate after merging to see how to deal with it."
      ]
    },
    {
      "cell_type": "markdown",
      "id": "7d8ecc58",
      "metadata": {
        "id": "7d8ecc58"
      },
      "source": [
        "Neext is Injury Classifiation which also has a come missing values. The purpose of this column is to understand whether there was any injury/fatality or not. Therefore we will grooup categories accordingly. First, Lets check the value contents and go from there. "
      ]
    },
    {
      "cell_type": "code",
      "execution_count": 173,
      "id": "ae1e1b7c",
      "metadata": {
        "colab": {
          "base_uri": "https://localhost:8080/"
        },
        "execution": {
          "iopub.execute_input": "2023-04-22T07:22:27.315192Z",
          "iopub.status.busy": "2023-04-22T07:22:27.314709Z",
          "iopub.status.idle": "2023-04-22T07:22:27.420396Z",
          "shell.execute_reply": "2023-04-22T07:22:27.418864Z"
        },
        "id": "ae1e1b7c",
        "outputId": "533343d2-6a54-4c9a-a3f9-c4adcfeddd16",
        "papermill": {
          "duration": 0.240919,
          "end_time": "2023-04-22T07:22:27.424135",
          "exception": false,
          "start_time": "2023-04-22T07:22:27.183216",
          "status": "completed"
        },
        "tags": []
      },
      "outputs": [
        {
          "data": {
            "text/plain": [
              "NO INDICATION OF INJURY     791482\n",
              "NONINCAPACITATING INJURY     51703\n",
              "REPORTED, NOT EVIDENT        29574\n",
              "INCAPACITATING INJURY         9792\n",
              "FATAL                          521\n",
              "Name: INJURY_CLASSIFICATION, dtype: int64"
            ]
          },
          "execution_count": 173,
          "metadata": {},
          "output_type": "execute_result"
        }
      ],
      "source": [
        "#checkk value counts\n",
        "cln_people['INJURY_CLASSIFICATION'].value_counts()"
      ]
    },
    {
      "cell_type": "markdown",
      "id": "84573cb5",
      "metadata": {
        "id": "84573cb5"
      },
      "source": [
        "We can group together the multiple categories into 2 categories of Injury and No Injury. \n",
        "\n",
        "Also, we can assume that an injury is something that is very evident and involves emeergency responsee in crashes. For missing values, we can impute the values with No Indication of Injury."
      ]
    },
    {
      "cell_type": "code",
      "execution_count": 174,
      "id": "303d3ab8",
      "metadata": {
        "execution": {
          "iopub.execute_input": "2023-04-22T07:22:26.964291Z",
          "iopub.status.busy": "2023-04-22T07:22:26.963855Z",
          "iopub.status.idle": "2023-04-22T07:22:27.051982Z",
          "shell.execute_reply": "2023-04-22T07:22:27.049896Z"
        },
        "id": "303d3ab8",
        "papermill": {
          "duration": 0.222555,
          "end_time": "2023-04-22T07:22:27.055413",
          "exception": false,
          "start_time": "2023-04-22T07:22:26.832858",
          "status": "completed"
        },
        "tags": []
      },
      "outputs": [],
      "source": [
        "#impute missing values\n",
        "cln_people['INJURY_CLASSIFICATION'].fillna('NO INDICATION OF INJURY',inplace=True)"
      ]
    },
    {
      "cell_type": "code",
      "execution_count": 175,
      "id": "5f101fa4",
      "metadata": {
        "id": "5f101fa4"
      },
      "outputs": [],
      "source": [
        "#bin categories\n",
        "\n",
        "#INJURY\n",
        "cln_people['INJURY_CLASSIFICATION'].replace(['NONINCAPACITATING INJURY', 'REPORTED, NOT EVIDENT',\n",
        "                                             'INCAPACITATING INJURY', 'FATAL'\n",
        "                                            ], 'INJUIRY', inplace=True)"
      ]
    },
    {
      "cell_type": "code",
      "execution_count": 176,
      "id": "244345d7",
      "metadata": {
        "colab": {
          "base_uri": "https://localhost:8080/"
        },
        "id": "244345d7",
        "outputId": "8ebe13f2-be55-4d6b-cb85-a70f49fa1a51"
      },
      "outputs": [
        {
          "data": {
            "text/plain": [
              "NO INDICATION OF INJURY    791490\n",
              "INJUIRY                     91590\n",
              "Name: INJURY_CLASSIFICATION, dtype: int64"
            ]
          },
          "execution_count": 176,
          "metadata": {},
          "output_type": "execute_result"
        }
      ],
      "source": [
        "#check new value counts\n",
        "cln_people['INJURY_CLASSIFICATION'].value_counts()"
      ]
    },
    {
      "cell_type": "code",
      "execution_count": 177,
      "id": "249ccf6e",
      "metadata": {
        "colab": {
          "base_uri": "https://localhost:8080/"
        },
        "id": "249ccf6e",
        "outputId": "1ca13c7c-f0b4-44ee-efe9-860d9e29c5ac"
      },
      "outputs": [
        {
          "name": "stdout",
          "output_type": "stream",
          "text": [
            "<class 'pandas.core.frame.DataFrame'>\n",
            "Int64Index: 883080 entries, 0 to 1255045\n",
            "Data columns (total 11 columns):\n",
            " #   Column                 Non-Null Count   Dtype  \n",
            "---  ------                 --------------   -----  \n",
            " 0   PERSON_TYPE            883080 non-null  object \n",
            " 1   CRASH_RECORD_ID        883080 non-null  object \n",
            " 2   VEHICLE_ID             863735 non-null  float64\n",
            " 3   AGE                    883080 non-null  float64\n",
            " 4   SAFETY_EQUIPMENT       883080 non-null  object \n",
            " 5   INJURY_CLASSIFICATION  883080 non-null  object \n",
            " 6   DRIVER_ACTION          772322 non-null  object \n",
            " 7   DRIVER_VISION          772200 non-null  object \n",
            " 8   PHYSICAL_CONDITION     772494 non-null  object \n",
            " 9   PEDPEDAL_ACTION        18853 non-null   object \n",
            " 10  BAC_RESULT VALUE       1632 non-null    float64\n",
            "dtypes: float64(3), object(8)\n",
            "memory usage: 80.8+ MB\n"
          ]
        }
      ],
      "source": [
        "#check info\n",
        "cln_people.info()"
      ]
    },
    {
      "cell_type": "markdown",
      "id": "7fbcff25",
      "metadata": {
        "id": "7fbcff25"
      },
      "source": [
        "Lets check the Driver Action Column next. We saw earlier that the Pedestrian Person Type didn't have any values for this column. Lets explore whhat the division of person types is for the missing values in the Driver Action column."
      ]
    },
    {
      "cell_type": "code",
      "execution_count": 178,
      "id": "776267b8",
      "metadata": {
        "colab": {
          "base_uri": "https://localhost:8080/"
        },
        "id": "776267b8",
        "outputId": "0fdfaa89-43fd-4370-c395-1d32774db52f"
      },
      "outputs": [
        {
          "data": {
            "text/plain": [
              "DRIVER                 753735\n",
              "PASSENGER              110337\n",
              "PEDESTRIAN              11115\n",
              "BICYCLE                  7603\n",
              "NON-MOTOR VEHICLE         221\n",
              "NON-CONTACT VEHICLE        69\n",
              "Name: PERSON_TYPE, dtype: int64"
            ]
          },
          "execution_count": 178,
          "metadata": {},
          "output_type": "execute_result"
        }
      ],
      "source": [
        "#check person type vaalue counts\n",
        "cln_people.PERSON_TYPE.value_counts()"
      ]
    },
    {
      "cell_type": "code",
      "execution_count": 179,
      "id": "4ea58ef9",
      "metadata": {
        "colab": {
          "base_uri": "https://localhost:8080/"
        },
        "id": "4ea58ef9",
        "outputId": "5d1b03be-e024-49a9-91c3-d182261ac89e"
      },
      "outputs": [
        {
          "data": {
            "text/plain": [
              "PASSENGER            110337\n",
              "PEDESTRIAN              343\n",
              "BICYCLE                  75\n",
              "NON-MOTOR VEHICLE         3\n",
              "Name: PERSON_TYPE, dtype: int64"
            ]
          },
          "execution_count": 179,
          "metadata": {},
          "output_type": "execute_result"
        }
      ],
      "source": [
        "#check person type split for driver aactino null values\n",
        "cln_people[cln_people['DRIVER_ACTION'].isnull()].PERSON_TYPE.value_counts()"
      ]
    },
    {
      "cell_type": "markdown",
      "id": "627a0aff",
      "metadata": {
        "id": "627a0aff"
      },
      "source": [
        "All the Passenger person type records can be populated with 'Not a Driver' category and the rest can be dropped."
      ]
    },
    {
      "cell_type": "code",
      "execution_count": 180,
      "id": "c795daef",
      "metadata": {
        "id": "c795daef"
      },
      "outputs": [],
      "source": [
        "#replace the passenger person type null values in driver aaction column with PASSENGER\n",
        "cln_people.loc[cln_people.PERSON_TYPE == 'PASSENGER', 'DRIVER_ACTION'] = cln_people.DRIVER_ACTION.fillna(\n",
        "                                                                                'PASSENGER')"
      ]
    },
    {
      "cell_type": "code",
      "execution_count": 181,
      "id": "ebfd121a",
      "metadata": {
        "colab": {
          "base_uri": "https://localhost:8080/"
        },
        "id": "ebfd121a",
        "outputId": "1fbcb7de-3769-463f-da99-8ddad32dbdb7"
      },
      "outputs": [
        {
          "data": {
            "text/plain": [
              "PEDESTRIAN           343\n",
              "BICYCLE               75\n",
              "NON-MOTOR VEHICLE      3\n",
              "Name: PERSON_TYPE, dtype: int64"
            ]
          },
          "execution_count": 181,
          "metadata": {},
          "output_type": "execute_result"
        }
      ],
      "source": [
        "#check person type split for driver aactino null values\n",
        "cln_people[cln_people['DRIVER_ACTION'].isnull()].PERSON_TYPE.value_counts()"
      ]
    },
    {
      "cell_type": "code",
      "execution_count": 182,
      "id": "2881ae28",
      "metadata": {
        "id": "2881ae28"
      },
      "outputs": [],
      "source": [
        "#drop records with null values in the Driver Action column\n",
        "cln_people.dropna(subset=['DRIVER_ACTION'],inplace=True)"
      ]
    },
    {
      "cell_type": "code",
      "execution_count": 183,
      "id": "3b160a85",
      "metadata": {
        "colab": {
          "base_uri": "https://localhost:8080/"
        },
        "execution": {
          "iopub.execute_input": "2023-04-22T07:22:27.684790Z",
          "iopub.status.busy": "2023-04-22T07:22:27.684240Z",
          "iopub.status.idle": "2023-04-22T07:22:27.782686Z",
          "shell.execute_reply": "2023-04-22T07:22:27.781036Z"
        },
        "id": "3b160a85",
        "outputId": "031a015a-a842-4d79-ec3e-0b69e6fb3b59",
        "papermill": {
          "duration": 0.233003,
          "end_time": "2023-04-22T07:22:27.785870",
          "exception": false,
          "start_time": "2023-04-22T07:22:27.552867",
          "status": "completed"
        },
        "scrolled": true,
        "tags": []
      },
      "outputs": [
        {
          "data": {
            "text/plain": [
              "NONE                                 349336\n",
              "UNKNOWN                              131412\n",
              "PASSENGER                            110337\n",
              "OTHER                                 73437\n",
              "FAILED TO YIELD                       70066\n",
              "FOLLOWED TOO CLOSELY                  46157\n",
              "IMPROPER BACKING                      19846\n",
              "IMPROPER TURN                         19639\n",
              "IMPROPER LANE CHANGE                  17740\n",
              "IMPROPER PASSING                      12159\n",
              "TOO FAST FOR CONDITIONS               11582\n",
              "DISREGARDED CONTROL DEVICES           11496\n",
              "WRONG WAY/SIDE                         2390\n",
              "IMPROPER PARKING                       2346\n",
              "CELL PHONE USE OTHER THAN TEXTING      1209\n",
              "OVERCORRECTED                          1174\n",
              "EVADING POLICE VEHICLE                 1038\n",
              "EMERGENCY VEHICLE ON CALL               832\n",
              "TEXTING                                 322\n",
              "STOPPED SCHOOL BUS                      100\n",
              "LICENSE RESTRICTIONS                     41\n",
              "Name: DRIVER_ACTION, dtype: int64"
            ]
          },
          "execution_count": 183,
          "metadata": {},
          "output_type": "execute_result"
        }
      ],
      "source": [
        "#check new value counts\n",
        "cln_people['DRIVER_ACTION'].value_counts()"
      ]
    },
    {
      "cell_type": "code",
      "execution_count": 184,
      "id": "422766d1",
      "metadata": {
        "colab": {
          "base_uri": "https://localhost:8080/"
        },
        "id": "422766d1",
        "outputId": "1fb711f3-f00b-4798-d87b-7c1be7ebd7c2"
      },
      "outputs": [
        {
          "name": "stdout",
          "output_type": "stream",
          "text": [
            "<class 'pandas.core.frame.DataFrame'>\n",
            "Int64Index: 882659 entries, 0 to 1255045\n",
            "Data columns (total 11 columns):\n",
            " #   Column                 Non-Null Count   Dtype  \n",
            "---  ------                 --------------   -----  \n",
            " 0   PERSON_TYPE            882659 non-null  object \n",
            " 1   CRASH_RECORD_ID        882659 non-null  object \n",
            " 2   VEHICLE_ID             863735 non-null  float64\n",
            " 3   AGE                    882659 non-null  float64\n",
            " 4   SAFETY_EQUIPMENT       882659 non-null  object \n",
            " 5   INJURY_CLASSIFICATION  882659 non-null  object \n",
            " 6   DRIVER_ACTION          882659 non-null  object \n",
            " 7   DRIVER_VISION          772059 non-null  object \n",
            " 8   PHYSICAL_CONDITION     772241 non-null  object \n",
            " 9   PEDPEDAL_ACTION        18435 non-null   object \n",
            " 10  BAC_RESULT VALUE       1632 non-null    float64\n",
            "dtypes: float64(3), object(8)\n",
            "memory usage: 80.8+ MB\n"
          ]
        }
      ],
      "source": [
        "cln_people.info()"
      ]
    },
    {
      "cell_type": "markdown",
      "id": "87390639",
      "metadata": {
        "id": "87390639"
      },
      "source": [
        "Next we haave to clean the Driver Vision column. This column also has several missing values which we ssaw earlier can mostly be Passenger person type which can be replaced with the Passenger category. Therefre lets first take a look at the missing values for this column."
      ]
    },
    {
      "cell_type": "code",
      "execution_count": 185,
      "id": "8c830d59",
      "metadata": {
        "colab": {
          "base_uri": "https://localhost:8080/"
        },
        "id": "8c830d59",
        "outputId": "6da90970-335e-45d8-c0db-172a945bf431"
      },
      "outputs": [
        {
          "data": {
            "text/plain": [
              "PASSENGER            110337\n",
              "PEDESTRIAN              210\n",
              "BICYCLE                  49\n",
              "NON-MOTOR VEHICLE         4\n",
              "Name: PERSON_TYPE, dtype: int64"
            ]
          },
          "execution_count": 185,
          "metadata": {},
          "output_type": "execute_result"
        }
      ],
      "source": [
        "#check person type split for driver aactino null values\n",
        "cln_people[cln_people['DRIVER_VISION'].isnull()].PERSON_TYPE.value_counts()"
      ]
    },
    {
      "cell_type": "code",
      "execution_count": 186,
      "id": "1e393338",
      "metadata": {
        "id": "1e393338"
      },
      "outputs": [],
      "source": [
        "#replace the passenger person type null values in driver vision column with PASSENGER\n",
        "cln_people.loc[cln_people.PERSON_TYPE == 'PASSENGER', 'DRIVER_VISION'] = cln_people.DRIVER_VISION.fillna(\n",
        "                                                                                'PASSENGER')"
      ]
    },
    {
      "cell_type": "code",
      "execution_count": 187,
      "id": "73613bd4",
      "metadata": {
        "colab": {
          "base_uri": "https://localhost:8080/"
        },
        "id": "73613bd4",
        "outputId": "77f8b302-e0ea-4e4e-f7c0-d59c2fc15373"
      },
      "outputs": [
        {
          "data": {
            "text/plain": [
              "PEDESTRIAN           210\n",
              "BICYCLE               49\n",
              "NON-MOTOR VEHICLE      4\n",
              "Name: PERSON_TYPE, dtype: int64"
            ]
          },
          "execution_count": 187,
          "metadata": {},
          "output_type": "execute_result"
        }
      ],
      "source": [
        "#check person type split for driver vision null values\n",
        "cln_people[cln_people['DRIVER_VISION'].isnull()].PERSON_TYPE.value_counts()"
      ]
    },
    {
      "cell_type": "code",
      "execution_count": 188,
      "id": "cebf7352",
      "metadata": {
        "id": "cebf7352"
      },
      "outputs": [],
      "source": [
        "#drop the other records with the missing values becaue they are a very small percentage of the total dataset\n",
        "#drop records with null values in the Driver Vision column\n",
        "cln_people.dropna(subset=['DRIVER_VISION'],inplace=True)"
      ]
    },
    {
      "cell_type": "code",
      "execution_count": 189,
      "id": "2fbded03",
      "metadata": {
        "colab": {
          "base_uri": "https://localhost:8080/"
        },
        "id": "2fbded03",
        "outputId": "364b2c8a-21ad-4cb8-d961-38727a3273e3"
      },
      "outputs": [
        {
          "data": {
            "text/plain": [
              "0"
            ]
          },
          "execution_count": 189,
          "metadata": {},
          "output_type": "execute_result"
        }
      ],
      "source": [
        "#check total number of remaining null values in driver vision column\n",
        "#should be zero\n",
        "cln_people['DRIVER_VISION'].isnull().sum()"
      ]
    },
    {
      "cell_type": "markdown",
      "id": "2cb9d586",
      "metadata": {
        "id": "2cb9d586"
      },
      "source": [
        "The purpose of this column is to understand whether obstructed driver vision played a part in the crash or not. We can Group the different categories into two main bins; 1. Obscured, 2. Not Obscured"
      ]
    },
    {
      "cell_type": "code",
      "execution_count": 190,
      "id": "6411bd2e",
      "metadata": {
        "colab": {
          "base_uri": "https://localhost:8080/"
        },
        "execution": {
          "iopub.execute_input": "2023-04-22T07:22:30.070356Z",
          "iopub.status.busy": "2023-04-22T07:22:30.069869Z",
          "iopub.status.idle": "2023-04-22T07:22:30.168841Z",
          "shell.execute_reply": "2023-04-22T07:22:30.166951Z"
        },
        "id": "6411bd2e",
        "outputId": "cacda8b9-dd20-47a4-b221-fba941c7183f",
        "papermill": {
          "duration": 0.235628,
          "end_time": "2023-04-22T07:22:30.173101",
          "exception": false,
          "start_time": "2023-04-22T07:22:29.937473",
          "status": "completed"
        },
        "tags": []
      },
      "outputs": [
        {
          "data": {
            "text/plain": [
              "NOT OBSCURED              520416\n",
              "UNKNOWN                   226927\n",
              "PASSENGER                 110337\n",
              "OTHER                       9817\n",
              "MOVING VEHICLES             5981\n",
              "PARKED VEHICLES             3692\n",
              "WINDSHIELD (WATER/ICE)      2900\n",
              "BLINDED - SUNLIGHT          1169\n",
              "TREES, PLANTS                455\n",
              "BUILDINGS                    369\n",
              "BLINDED - HEADLIGHTS          90\n",
              "HILLCREST                     84\n",
              "BLOWING MATERIALS             72\n",
              "EMBANKMENT                    62\n",
              "SIGNBOARD                     25\n",
              "Name: DRIVER_VISION, dtype: int64"
            ]
          },
          "execution_count": 190,
          "metadata": {},
          "output_type": "execute_result"
        }
      ],
      "source": [
        "#check value counts\n",
        "cln_people['DRIVER_VISION'].value_counts()"
      ]
    },
    {
      "cell_type": "code",
      "execution_count": 191,
      "id": "8b9c815c",
      "metadata": {
        "execution": {
          "iopub.execute_input": "2023-04-22T07:22:30.448277Z",
          "iopub.status.busy": "2023-04-22T07:22:30.447828Z",
          "iopub.status.idle": "2023-04-22T07:22:30.871680Z",
          "shell.execute_reply": "2023-04-22T07:22:30.869957Z"
        },
        "id": "8b9c815c",
        "papermill": {
          "duration": 0.565566,
          "end_time": "2023-04-22T07:22:30.874984",
          "exception": false,
          "start_time": "2023-04-22T07:22:30.309418",
          "status": "completed"
        },
        "tags": []
      },
      "outputs": [],
      "source": [
        "#bin category\n",
        "cln_people['DRIVER_VISION'].replace(['MOVING VEHICLES',\n",
        "                                    'PARKED VEHICLES',\n",
        "                                    'WINDSHIELD (WATER/ICE)',\n",
        "                                    'BLINDED - SUNLIGHT',\n",
        "                                    'TREES, PLANTS',\n",
        "                                    'BUILDINGS',\n",
        "                                    'BLINDED - HEADLIGHTS',\n",
        "                                    'HILLCREST',\n",
        "                                    'BLOWING MATERIALS',\n",
        "                                    'EMBANKMENT',\n",
        "                                    'SIGNBOARD', 'OTHER'], 'OBSCURED', inplace=True)"
      ]
    },
    {
      "cell_type": "code",
      "execution_count": 192,
      "id": "d6d0e798",
      "metadata": {
        "colab": {
          "base_uri": "https://localhost:8080/"
        },
        "execution": {
          "iopub.execute_input": "2023-04-22T07:22:32.209009Z",
          "iopub.status.busy": "2023-04-22T07:22:32.208526Z",
          "iopub.status.idle": "2023-04-22T07:22:32.911919Z",
          "shell.execute_reply": "2023-04-22T07:22:32.909744Z"
        },
        "id": "d6d0e798",
        "outputId": "78bc6218-65d1-4298-e415-51fa35df7da3",
        "papermill": {
          "duration": 0.83927,
          "end_time": "2023-04-22T07:22:32.915414",
          "exception": false,
          "start_time": "2023-04-22T07:22:32.076144",
          "status": "completed"
        },
        "tags": []
      },
      "outputs": [
        {
          "data": {
            "text/plain": [
              "NOT OBSCURED    520416\n",
              "UNKNOWN         226927\n",
              "PASSENGER       110337\n",
              "OBSCURED         24716\n",
              "Name: DRIVER_VISION, dtype: int64"
            ]
          },
          "execution_count": 192,
          "metadata": {},
          "output_type": "execute_result"
        }
      ],
      "source": [
        "#check new value counts\n",
        "cln_people['DRIVER_VISION'].value_counts()"
      ]
    },
    {
      "cell_type": "code",
      "execution_count": 193,
      "id": "b271124f",
      "metadata": {
        "colab": {
          "base_uri": "https://localhost:8080/"
        },
        "id": "b271124f",
        "outputId": "01d80906-bc56-4c32-83bf-729435aa7982"
      },
      "outputs": [
        {
          "name": "stdout",
          "output_type": "stream",
          "text": [
            "<class 'pandas.core.frame.DataFrame'>\n",
            "Int64Index: 882396 entries, 0 to 1255045\n",
            "Data columns (total 11 columns):\n",
            " #   Column                 Non-Null Count   Dtype  \n",
            "---  ------                 --------------   -----  \n",
            " 0   PERSON_TYPE            882396 non-null  object \n",
            " 1   CRASH_RECORD_ID        882396 non-null  object \n",
            " 2   VEHICLE_ID             863735 non-null  float64\n",
            " 3   AGE                    882396 non-null  float64\n",
            " 4   SAFETY_EQUIPMENT       882396 non-null  object \n",
            " 5   INJURY_CLASSIFICATION  882396 non-null  object \n",
            " 6   DRIVER_ACTION          882396 non-null  object \n",
            " 7   DRIVER_VISION          882396 non-null  object \n",
            " 8   PHYSICAL_CONDITION     772023 non-null  object \n",
            " 9   PEDPEDAL_ACTION        18175 non-null   object \n",
            " 10  BAC_RESULT VALUE       1632 non-null    float64\n",
            "dtypes: float64(3), object(8)\n",
            "memory usage: 80.8+ MB\n"
          ]
        }
      ],
      "source": [
        "#check info\n",
        "cln_people.info()"
      ]
    },
    {
      "cell_type": "markdown",
      "id": "8579b9eb",
      "metadata": {
        "id": "8579b9eb"
      },
      "source": [
        "Next is the Physial Condition Column. We know from previous exploration that Passengers will be the biggest contributors to the missing data in this column because this feature concerns the driver's physical condition at the time of crash. Therefore we will perform similar imputation as in the previoous cases.\n",
        "\n",
        "\n",
        "The primary focus of using this column is to understand whether the driver's condition was impaired or not. Thoose will be the 2 categories that the available categories will be binned as.\n",
        "\n",
        "Also there are multiple catgories in this column, as explored earlier. A big chunk of the data is Unknown. Considering that if the driver's condition would have been explicitlly normal, it would have been obvious, the unknown and other category can be categorized as Impaired."
      ]
    },
    {
      "cell_type": "code",
      "execution_count": 194,
      "id": "ed3d9f66",
      "metadata": {
        "colab": {
          "base_uri": "https://localhost:8080/"
        },
        "id": "ed3d9f66",
        "outputId": "4f77aa70-31bf-420a-9b43-8ee205abd7e7"
      },
      "outputs": [
        {
          "data": {
            "text/plain": [
              "PASSENGER              110337\n",
              "PEDESTRIAN                 19\n",
              "BICYCLE                    15\n",
              "NON-MOTOR VEHICLE           1\n",
              "NON-CONTACT VEHICLE         1\n",
              "Name: PERSON_TYPE, dtype: int64"
            ]
          },
          "execution_count": 194,
          "metadata": {},
          "output_type": "execute_result"
        }
      ],
      "source": [
        "#check person type split for physical condition null values\n",
        "cln_people[cln_people['PHYSICAL_CONDITION'].isnull()].PERSON_TYPE.value_counts()"
      ]
    },
    {
      "cell_type": "code",
      "execution_count": 195,
      "id": "eebc4e7b",
      "metadata": {
        "id": "eebc4e7b"
      },
      "outputs": [],
      "source": [
        "#replace the passenger person type null values in physical condition column with PASSENGER\n",
        "cln_people.loc[cln_people.PERSON_TYPE == 'PASSENGER', 'PHYSICAL_CONDITION'] = cln_people.PHYSICAL_CONDITION.fillna(\n",
        "                                                                                'PASSENGER')"
      ]
    },
    {
      "cell_type": "code",
      "execution_count": 196,
      "id": "b58e585d",
      "metadata": {
        "id": "b58e585d"
      },
      "outputs": [],
      "source": [
        "#drop the other records with the missing values becaue they are a very small percentage of the total dataset\n",
        "#drop records with null values in the Physical Condition column\n",
        "cln_people.dropna(subset=['PHYSICAL_CONDITION'],inplace=True)"
      ]
    },
    {
      "cell_type": "code",
      "execution_count": 197,
      "id": "7756897f",
      "metadata": {
        "colab": {
          "base_uri": "https://localhost:8080/"
        },
        "id": "7756897f",
        "outputId": "2817d7ac-57c9-4534-b9db-fae6f49e2aa3"
      },
      "outputs": [
        {
          "data": {
            "text/plain": [
              "0"
            ]
          },
          "execution_count": 197,
          "metadata": {},
          "output_type": "execute_result"
        }
      ],
      "source": [
        "#check total number of remaining null values\n",
        "#should be zero\n",
        "cln_people['PHYSICAL_CONDITION'].isnull().sum()"
      ]
    },
    {
      "cell_type": "code",
      "execution_count": 198,
      "id": "df332f21",
      "metadata": {
        "colab": {
          "base_uri": "https://localhost:8080/"
        },
        "execution": {
          "iopub.execute_input": "2023-04-22T07:22:33.178743Z",
          "iopub.status.busy": "2023-04-22T07:22:33.178263Z",
          "iopub.status.idle": "2023-04-22T07:22:33.275345Z",
          "shell.execute_reply": "2023-04-22T07:22:33.273688Z"
        },
        "id": "df332f21",
        "outputId": "9738d7b6-8b93-4796-c16e-23e1520f4437",
        "papermill": {
          "duration": 0.232896,
          "end_time": "2023-04-22T07:22:33.278503",
          "exception": false,
          "start_time": "2023-04-22T07:22:33.045607",
          "status": "completed"
        },
        "tags": []
      },
      "outputs": [
        {
          "data": {
            "text/plain": [
              "NORMAL                          652403\n",
              "PASSENGER                       110337\n",
              "UNKNOWN                         101698\n",
              "IMPAIRED - ALCOHOL                4611\n",
              "REMOVED BY EMS                    3587\n",
              "FATIGUED/ASLEEP                   2653\n",
              "OTHER                             2376\n",
              "EMOTIONAL                         2178\n",
              "ILLNESS/FAINTED                    918\n",
              "HAD BEEN DRINKING                  695\n",
              "IMPAIRED - DRUGS                   548\n",
              "IMPAIRED - ALCOHOL AND DRUGS       235\n",
              "MEDICATED                          121\n",
              "Name: PHYSICAL_CONDITION, dtype: int64"
            ]
          },
          "execution_count": 198,
          "metadata": {},
          "output_type": "execute_result"
        }
      ],
      "source": [
        "#check value counts\n",
        "cln_people['PHYSICAL_CONDITION'].value_counts()"
      ]
    },
    {
      "cell_type": "code",
      "execution_count": 199,
      "id": "e63d0df8",
      "metadata": {
        "execution": {
          "iopub.execute_input": "2023-04-22T07:22:33.538738Z",
          "iopub.status.busy": "2023-04-22T07:22:33.538271Z",
          "iopub.status.idle": "2023-04-22T07:22:33.901670Z",
          "shell.execute_reply": "2023-04-22T07:22:33.900050Z"
        },
        "id": "e63d0df8",
        "papermill": {
          "duration": 0.496528,
          "end_time": "2023-04-22T07:22:33.905317",
          "exception": false,
          "start_time": "2023-04-22T07:22:33.408789",
          "status": "completed"
        },
        "tags": []
      },
      "outputs": [],
      "source": [
        "#bin caategories\n",
        "cln_people['PHYSICAL_CONDITION'].replace(['IMPAIRED - ALCOHOL',\n",
        "                                    'REMOVED BY EMS',\n",
        "                                    'FATIGUED/ASLEEP',\n",
        "                                    'EMOTIONAL',\n",
        "                                    'ILLNESS/FAINTED',\n",
        "                                    'HAD BEEN DRINKING',\n",
        "                                    'IMPAIRED - DRUGS',\n",
        "                                    'IMPAIRED - ALCOHOL AND DRUGS',\n",
        "                                    'MEDICATED', 'UNKNOWN', 'OTHER'], 'IMPAIRED', inplace=True)"
      ]
    },
    {
      "cell_type": "code",
      "execution_count": 200,
      "id": "f37c180c",
      "metadata": {
        "colab": {
          "base_uri": "https://localhost:8080/"
        },
        "execution": {
          "iopub.execute_input": "2023-04-22T07:22:34.516182Z",
          "iopub.status.busy": "2023-04-22T07:22:34.515302Z",
          "iopub.status.idle": "2023-04-22T07:22:34.622268Z",
          "shell.execute_reply": "2023-04-22T07:22:34.620086Z"
        },
        "id": "f37c180c",
        "outputId": "33a3147a-2c77-488b-9fd8-c2452b49ed49",
        "papermill": {
          "duration": 0.241579,
          "end_time": "2023-04-22T07:22:34.625679",
          "exception": false,
          "start_time": "2023-04-22T07:22:34.384100",
          "status": "completed"
        },
        "tags": []
      },
      "outputs": [
        {
          "data": {
            "text/plain": [
              "NORMAL       652403\n",
              "IMPAIRED     119620\n",
              "PASSENGER    110337\n",
              "Name: PHYSICAL_CONDITION, dtype: int64"
            ]
          },
          "execution_count": 200,
          "metadata": {},
          "output_type": "execute_result"
        }
      ],
      "source": [
        "#check new value counts\n",
        "cln_people['PHYSICAL_CONDITION'].value_counts()"
      ]
    },
    {
      "cell_type": "code",
      "execution_count": 201,
      "id": "b1825412",
      "metadata": {
        "colab": {
          "base_uri": "https://localhost:8080/"
        },
        "execution": {
          "iopub.execute_input": "2023-04-22T07:22:34.891745Z",
          "iopub.status.busy": "2023-04-22T07:22:34.891301Z",
          "iopub.status.idle": "2023-04-22T07:22:35.610795Z",
          "shell.execute_reply": "2023-04-22T07:22:35.608601Z"
        },
        "id": "b1825412",
        "outputId": "cc4319b5-add8-469f-efa6-da7dff7888b9",
        "papermill": {
          "duration": 0.855349,
          "end_time": "2023-04-22T07:22:35.613860",
          "exception": false,
          "start_time": "2023-04-22T07:22:34.758511",
          "status": "completed"
        },
        "tags": []
      },
      "outputs": [
        {
          "name": "stdout",
          "output_type": "stream",
          "text": [
            "<class 'pandas.core.frame.DataFrame'>\n",
            "Int64Index: 882360 entries, 0 to 1255045\n",
            "Data columns (total 11 columns):\n",
            " #   Column                 Non-Null Count   Dtype  \n",
            "---  ------                 --------------   -----  \n",
            " 0   PERSON_TYPE            882360 non-null  object \n",
            " 1   CRASH_RECORD_ID        882360 non-null  object \n",
            " 2   VEHICLE_ID             863734 non-null  float64\n",
            " 3   AGE                    882360 non-null  float64\n",
            " 4   SAFETY_EQUIPMENT       882360 non-null  object \n",
            " 5   INJURY_CLASSIFICATION  882360 non-null  object \n",
            " 6   DRIVER_ACTION          882360 non-null  object \n",
            " 7   DRIVER_VISION          882360 non-null  object \n",
            " 8   PHYSICAL_CONDITION     882360 non-null  object \n",
            " 9   PEDPEDAL_ACTION        18141 non-null   object \n",
            " 10  BAC_RESULT VALUE       1632 non-null    float64\n",
            "dtypes: float64(3), object(8)\n",
            "memory usage: 80.8+ MB\n"
          ]
        }
      ],
      "source": [
        "#check info\n",
        "cln_people.info()"
      ]
    },
    {
      "cell_type": "markdown",
      "id": "e8c173e3",
      "metadata": {
        "id": "e8c173e3"
      },
      "source": [
        "Next we look at the PedPEdal Action Column which focuses on the aaction of the pedestriaan or cyclist at the time of crash. There are a lot of missisng but considering that the values in this column are focusing only on Pedestraiaan and bicyclist, it might be posssible that the missing value are drivers and passsengerss.\n",
        "\n",
        "We will evaluate the person type for the null values in this column and then investigate the non null values."
      ]
    },
    {
      "cell_type": "code",
      "execution_count": 202,
      "id": "b4416e03",
      "metadata": {
        "colab": {
          "base_uri": "https://localhost:8080/"
        },
        "id": "b4416e03",
        "outputId": "419f3dd9-5a99-4fa9-8834-3aa55a2f169a"
      },
      "outputs": [
        {
          "data": {
            "text/plain": [
              "DRIVER                 753735\n",
              "PASSENGER              110337\n",
              "PEDESTRIAN              10543\n",
              "BICYCLE                  7464\n",
              "NON-MOTOR VEHICLE         213\n",
              "NON-CONTACT VEHICLE        68\n",
              "Name: PERSON_TYPE, dtype: int64"
            ]
          },
          "execution_count": 202,
          "metadata": {},
          "output_type": "execute_result"
        }
      ],
      "source": [
        "#check value counts for person type\n",
        "cln_people['PERSON_TYPE'].value_counts()"
      ]
    },
    {
      "cell_type": "code",
      "execution_count": 203,
      "id": "2343ef3f",
      "metadata": {
        "colab": {
          "base_uri": "https://localhost:8080/"
        },
        "id": "2343ef3f",
        "outputId": "2b673898-0ce5-4cd3-9c58-14dbfcd2e897",
        "scrolled": true
      },
      "outputs": [
        {
          "data": {
            "text/plain": [
              "DRIVER                 753735\n",
              "PASSENGER              110337\n",
              "NON-MOTOR VEHICLE          88\n",
              "NON-CONTACT VEHICLE        58\n",
              "PEDESTRIAN                  1\n",
              "Name: PERSON_TYPE, dtype: int64"
            ]
          },
          "execution_count": 203,
          "metadata": {},
          "output_type": "execute_result"
        }
      ],
      "source": [
        "#check person type split for physical condition null values\n",
        "cln_people[cln_people['PEDPEDAL_ACTION'].isnull()].PERSON_TYPE.value_counts()"
      ]
    },
    {
      "cell_type": "markdown",
      "id": "b680c286",
      "metadata": {
        "id": "b680c286"
      },
      "source": [
        "Looks like most of the non null values are either drivers or passengers which is what was expected. We can replace Drivers and Passengers with their categories explicitly."
      ]
    },
    {
      "cell_type": "code",
      "execution_count": 204,
      "id": "e7919f69",
      "metadata": {
        "id": "e7919f69"
      },
      "outputs": [],
      "source": [
        "#replace the passenger person type null values in pedpedal actin column with PASSENGER\n",
        "cln_people.loc[cln_people.PERSON_TYPE == 'PASSENGER', 'PEDPEDAL_ACTION'] = cln_people.PEDPEDAL_ACTION.fillna(\n",
        "                                                                                'PASSENGER')\n",
        "\n",
        "#replace the driver person type null values in pedpedal actin column with DRIVER\n",
        "cln_people.loc[cln_people.PERSON_TYPE == 'DRIVER', 'PEDPEDAL_ACTION'] = cln_people.PEDPEDAL_ACTION.fillna(\n",
        "                                                                                'DRIVER')"
      ]
    },
    {
      "cell_type": "code",
      "execution_count": 205,
      "id": "a644b2ff",
      "metadata": {
        "colab": {
          "base_uri": "https://localhost:8080/"
        },
        "id": "a644b2ff",
        "outputId": "46bfa4e0-abe8-4747-d0ca-f3ca1f365006"
      },
      "outputs": [
        {
          "data": {
            "text/plain": [
              "NON-MOTOR VEHICLE      88\n",
              "NON-CONTACT VEHICLE    58\n",
              "PEDESTRIAN              1\n",
              "Name: PERSON_TYPE, dtype: int64"
            ]
          },
          "execution_count": 205,
          "metadata": {},
          "output_type": "execute_result"
        }
      ],
      "source": [
        "#check the new person type split for physical condition null values\n",
        "cln_people[cln_people['PEDPEDAL_ACTION'].isnull()].PERSON_TYPE.value_counts()"
      ]
    },
    {
      "cell_type": "code",
      "execution_count": 206,
      "id": "bf294b0c",
      "metadata": {
        "id": "bf294b0c"
      },
      "outputs": [],
      "source": [
        "#drop the remaining missing values\n",
        "cln_people.dropna(subset=['PEDPEDAL_ACTION'],inplace=True)"
      ]
    },
    {
      "cell_type": "code",
      "execution_count": 207,
      "id": "ed5f222f",
      "metadata": {
        "colab": {
          "base_uri": "https://localhost:8080/"
        },
        "id": "ed5f222f",
        "outputId": "4efed413-b4b3-4f44-b424-f72c8ae4bf0c"
      },
      "outputs": [
        {
          "data": {
            "text/plain": [
              "DRIVER                 753735\n",
              "PASSENGER              110337\n",
              "PEDESTRIAN              10542\n",
              "BICYCLE                  7464\n",
              "NON-MOTOR VEHICLE         125\n",
              "NON-CONTACT VEHICLE        10\n",
              "Name: PERSON_TYPE, dtype: int64"
            ]
          },
          "execution_count": 207,
          "metadata": {},
          "output_type": "execute_result"
        }
      ],
      "source": [
        "#check the new person type split for physical condition non null values\n",
        "cln_people[cln_people['PEDPEDAL_ACTION'].notnull()].PERSON_TYPE.value_counts()"
      ]
    },
    {
      "cell_type": "code",
      "execution_count": 208,
      "id": "beeb1a75",
      "metadata": {
        "colab": {
          "base_uri": "https://localhost:8080/"
        },
        "execution": {
          "iopub.execute_input": "2023-04-22T07:22:35.878299Z",
          "iopub.status.busy": "2023-04-22T07:22:35.877829Z",
          "iopub.status.idle": "2023-04-22T07:22:35.923373Z",
          "shell.execute_reply": "2023-04-22T07:22:35.921862Z"
        },
        "id": "beeb1a75",
        "outputId": "87747757-4856-4c57-e972-75af427e3b8e",
        "papermill": {
          "duration": 0.181503,
          "end_time": "2023-04-22T07:22:35.926196",
          "exception": false,
          "start_time": "2023-04-22T07:22:35.744693",
          "status": "completed"
        },
        "scrolled": true,
        "tags": []
      },
      "outputs": [
        {
          "data": {
            "text/plain": [
              "DRIVER                                               753735\n",
              "PASSENGER                                            110337\n",
              "CROSSING - WITH SIGNAL                                 3760\n",
              "WITH TRAFFIC                                           3231\n",
              "OTHER ACTION                                           2245\n",
              "UNKNOWN/NA                                             2099\n",
              "NO ACTION                                              1012\n",
              "CROSSING - NO CONTROLS (NOT AT INTERSECTION)            910\n",
              "CROSSING - AGAINST SIGNAL                               830\n",
              "CROSSING - NO CONTROLS (AT INTERSECTION)                792\n",
              "NOT AT INTERSECTION                                     690\n",
              "AGAINST TRAFFIC                                         566\n",
              "CROSSING - CONTROLS PRESENT (NOT AT INTERSECTION)       460\n",
              "STANDING IN ROADWAY                                     402\n",
              "TURNING LEFT                                            270\n",
              "PARKED VEHICLE                                          210\n",
              "ENTER FROM DRIVE/ALLEY                                  176\n",
              "TURNING RIGHT                                           139\n",
              "WORKING IN ROADWAY                                      116\n",
              "INTOXICATED PED/PEDAL                                   113\n",
              "PLAYING IN ROADWAY                                       81\n",
              "TO/FROM DISABLED VEHICLE                                 12\n",
              "PLAYING/WORKING ON VEHICLE                               11\n",
              "SCHOOL BUS (WITHIN 50 FT.)                                9\n",
              "WAITING FOR SCHOOL BUS                                    7\n",
              "Name: PEDPEDAL_ACTION, dtype: int64"
            ]
          },
          "execution_count": 208,
          "metadata": {},
          "output_type": "execute_result"
        }
      ],
      "source": [
        "cln_people['PEDPEDAL_ACTION'].value_counts()"
      ]
    },
    {
      "cell_type": "code",
      "execution_count": 209,
      "id": "ab310f98",
      "metadata": {
        "colab": {
          "base_uri": "https://localhost:8080/"
        },
        "id": "ab310f98",
        "outputId": "84eedc03-7ca7-4410-ae3e-52b20b78417f"
      },
      "outputs": [
        {
          "name": "stdout",
          "output_type": "stream",
          "text": [
            "<class 'pandas.core.frame.DataFrame'>\n",
            "Int64Index: 882213 entries, 0 to 1255045\n",
            "Data columns (total 11 columns):\n",
            " #   Column                 Non-Null Count   Dtype  \n",
            "---  ------                 --------------   -----  \n",
            " 0   PERSON_TYPE            882213 non-null  object \n",
            " 1   CRASH_RECORD_ID        882213 non-null  object \n",
            " 2   VEHICLE_ID             863690 non-null  float64\n",
            " 3   AGE                    882213 non-null  float64\n",
            " 4   SAFETY_EQUIPMENT       882213 non-null  object \n",
            " 5   INJURY_CLASSIFICATION  882213 non-null  object \n",
            " 6   DRIVER_ACTION          882213 non-null  object \n",
            " 7   DRIVER_VISION          882213 non-null  object \n",
            " 8   PHYSICAL_CONDITION     882213 non-null  object \n",
            " 9   PEDPEDAL_ACTION        882213 non-null  object \n",
            " 10  BAC_RESULT VALUE       1632 non-null    float64\n",
            "dtypes: float64(3), object(8)\n",
            "memory usage: 80.8+ MB\n"
          ]
        }
      ],
      "source": [
        "cln_people.info()"
      ]
    },
    {
      "cell_type": "markdown",
      "id": "1f6125a6",
      "metadata": {
        "id": "1f6125a6"
      },
      "source": [
        "NExt, we will look at the BAC result value column. This column has a lot of missing values. The main information that we want to extract from this column is identifying whether the driver was intoxicated or not. \n",
        "\n",
        "We will first check the person type splits for the null values in this column and explore further from there."
      ]
    },
    {
      "cell_type": "code",
      "execution_count": 210,
      "id": "43325c69",
      "metadata": {
        "colab": {
          "base_uri": "https://localhost:8080/"
        },
        "id": "43325c69",
        "outputId": "8c876921-ba74-4f71-ea5e-233f4b9925af"
      },
      "outputs": [
        {
          "data": {
            "text/plain": [
              "DRIVER                 753735\n",
              "PASSENGER              110337\n",
              "PEDESTRIAN              10542\n",
              "BICYCLE                  7464\n",
              "NON-MOTOR VEHICLE         125\n",
              "NON-CONTACT VEHICLE        10\n",
              "Name: PERSON_TYPE, dtype: int64"
            ]
          },
          "execution_count": 210,
          "metadata": {},
          "output_type": "execute_result"
        }
      ],
      "source": [
        "#check value counts for person type\n",
        "cln_people['PERSON_TYPE'].value_counts()"
      ]
    },
    {
      "cell_type": "code",
      "execution_count": 211,
      "id": "5d9dedd3",
      "metadata": {
        "colab": {
          "base_uri": "https://localhost:8080/"
        },
        "id": "5d9dedd3",
        "outputId": "e282850f-7cb8-4517-8107-a49f9e98d56d"
      },
      "outputs": [
        {
          "data": {
            "text/plain": [
              "DRIVER                 752106\n",
              "PASSENGER              110337\n",
              "PEDESTRIAN              10540\n",
              "BICYCLE                  7463\n",
              "NON-MOTOR VEHICLE         125\n",
              "NON-CONTACT VEHICLE        10\n",
              "Name: PERSON_TYPE, dtype: int64"
            ]
          },
          "execution_count": 211,
          "metadata": {},
          "output_type": "execute_result"
        }
      ],
      "source": [
        "#check the new person type splits\n",
        "cln_people[cln_people['BAC_RESULT VALUE'].isnull()].PERSON_TYPE.value_counts()"
      ]
    },
    {
      "cell_type": "code",
      "execution_count": 212,
      "id": "edee4fe7",
      "metadata": {
        "colab": {
          "base_uri": "https://localhost:8080/"
        },
        "id": "edee4fe7",
        "outputId": "881c7d9b-6f80-40ef-8fea-facd7086b69b"
      },
      "outputs": [
        {
          "data": {
            "text/plain": [
              "DRIVER        1629\n",
              "PEDESTRIAN       2\n",
              "BICYCLE          1\n",
              "Name: PERSON_TYPE, dtype: int64"
            ]
          },
          "execution_count": 212,
          "metadata": {},
          "output_type": "execute_result"
        }
      ],
      "source": [
        "#check the new person type splits for non null values\n",
        "cln_people[cln_people['BAC_RESULT VALUE'].notnull()].PERSON_TYPE.value_counts()"
      ]
    },
    {
      "cell_type": "markdown",
      "id": "294a5fd0",
      "metadata": {
        "id": "294a5fd0"
      },
      "source": [
        "Looks like the values in this column are for only drivers, biycle and Pedestrians. We will use the values from this column and the general standard to populate aa neew column indicating if the person was intxicated or not."
      ]
    },
    {
      "cell_type": "code",
      "execution_count": 213,
      "id": "4a9b57d9",
      "metadata": {
        "colab": {
          "base_uri": "https://localhost:8080/"
        },
        "execution": {
          "iopub.execute_input": "2023-04-22T07:22:37.964647Z",
          "iopub.status.busy": "2023-04-22T07:22:37.964137Z",
          "iopub.status.idle": "2023-04-22T07:22:37.981933Z",
          "shell.execute_reply": "2023-04-22T07:22:37.980255Z"
        },
        "id": "4a9b57d9",
        "outputId": "9402980b-7729-45c7-89fc-dc8ec8c9b0a5",
        "papermill": {
          "duration": 0.150242,
          "end_time": "2023-04-22T07:22:37.985175",
          "exception": false,
          "start_time": "2023-04-22T07:22:37.834933",
          "status": "completed"
        },
        "scrolled": true,
        "tags": []
      },
      "outputs": [
        {
          "data": {
            "text/plain": [
              "0.00    156\n",
              "0.18    117\n",
              "0.17    117\n",
              "0.21    103\n",
              "0.14     92\n",
              "0.20     86\n",
              "0.16     79\n",
              "0.19     73\n",
              "0.15     73\n",
              "0.22     69\n",
              "0.23     63\n",
              "0.12     61\n",
              "0.11     59\n",
              "0.13     58\n",
              "0.24     50\n",
              "0.26     35\n",
              "0.27     31\n",
              "0.10     29\n",
              "0.09     29\n",
              "0.25     28\n",
              "0.28     26\n",
              "0.29     16\n",
              "0.30     16\n",
              "0.08     16\n",
              "0.03     16\n",
              "0.04     15\n",
              "0.07     15\n",
              "0.33     14\n",
              "0.05     10\n",
              "0.32      9\n",
              "0.06      8\n",
              "0.02      7\n",
              "0.35      7\n",
              "0.31      7\n",
              "0.38      6\n",
              "0.36      4\n",
              "0.34      4\n",
              "0.39      3\n",
              "0.01      3\n",
              "1.00      2\n",
              "0.79      2\n",
              "0.44      2\n",
              "0.88      2\n",
              "0.45      2\n",
              "0.60      2\n",
              "0.95      1\n",
              "0.47      1\n",
              "0.99      1\n",
              "0.41      1\n",
              "0.80      1\n",
              "0.58      1\n",
              "0.37      1\n",
              "0.85      1\n",
              "0.67      1\n",
              "0.40      1\n",
              "Name: BAC_RESULT VALUE, dtype: int64"
            ]
          },
          "execution_count": 213,
          "metadata": {},
          "output_type": "execute_result"
        }
      ],
      "source": [
        "#chek value counts\n",
        "cln_people['BAC_RESULT VALUE'].value_counts()"
      ]
    },
    {
      "cell_type": "markdown",
      "id": "8b72b161",
      "metadata": {
        "id": "8b72b161",
        "papermill": {
          "duration": 0.125952,
          "end_time": "2023-04-22T07:22:38.238302",
          "exception": false,
          "start_time": "2023-04-22T07:22:38.112350",
          "status": "completed"
        },
        "tags": []
      },
      "source": [
        "Legally people are not allowed to drive with a BAC greater than 0.8. We will ussee that as our baaseline for categorizing whether a person waas intoxicated or not. \n",
        "\n",
        "We also have some very high values for BAC which do not make sensee considering BAC 0.30% to 0.40%: In this percentage range, you'll likely have alcohol poisoning, a potentially life-threatening condition, and experience loss of consciousness. BAC Over 0.40%: This is a potentially fatal blood alcohol level.\n",
        "\n",
        "Therefore we will drop records with BAC greater than 0.40 beccause it would be nearly impossible for people with that high of a BAC to be on the streets."
      ]
    },
    {
      "cell_type": "code",
      "execution_count": 214,
      "id": "67adda6e",
      "metadata": {
        "execution": {
          "iopub.execute_input": "2023-04-22T07:22:38.501605Z",
          "iopub.status.busy": "2023-04-22T07:22:38.501156Z",
          "iopub.status.idle": "2023-04-22T07:22:38.876224Z",
          "shell.execute_reply": "2023-04-22T07:22:38.874156Z"
        },
        "id": "67adda6e",
        "papermill": {
          "duration": 0.511603,
          "end_time": "2023-04-22T07:22:38.879818",
          "exception": false,
          "start_time": "2023-04-22T07:22:38.368215",
          "status": "completed"
        },
        "tags": []
      },
      "outputs": [],
      "source": [
        "#drop records\n",
        "cln_people.drop((cln_people[cln_people['BAC_RESULT VALUE']>0.40].index),inplace=True) "
      ]
    },
    {
      "cell_type": "code",
      "execution_count": 215,
      "id": "d26dd95d",
      "metadata": {
        "colab": {
          "base_uri": "https://localhost:8080/"
        },
        "execution": {
          "iopub.execute_input": "2023-04-22T07:22:39.440475Z",
          "iopub.status.busy": "2023-04-22T07:22:39.440025Z",
          "iopub.status.idle": "2023-04-22T07:22:39.457529Z",
          "shell.execute_reply": "2023-04-22T07:22:39.455840Z"
        },
        "id": "d26dd95d",
        "outputId": "016d83d9-9706-49c5-cbc8-288835130469",
        "papermill": {
          "duration": 0.155412,
          "end_time": "2023-04-22T07:22:39.460540",
          "exception": false,
          "start_time": "2023-04-22T07:22:39.305128",
          "status": "completed"
        },
        "tags": []
      },
      "outputs": [
        {
          "data": {
            "text/plain": [
              "0.00    156\n",
              "0.18    117\n",
              "0.17    117\n",
              "0.21    103\n",
              "0.14     92\n",
              "0.20     86\n",
              "0.16     79\n",
              "0.19     73\n",
              "0.15     73\n",
              "0.22     69\n",
              "0.23     63\n",
              "0.12     61\n",
              "0.11     59\n",
              "0.13     58\n",
              "0.24     50\n",
              "0.26     35\n",
              "0.27     31\n",
              "0.10     29\n",
              "0.09     29\n",
              "0.25     28\n",
              "0.28     26\n",
              "0.08     16\n",
              "0.29     16\n",
              "0.30     16\n",
              "0.03     16\n",
              "0.04     15\n",
              "0.07     15\n",
              "0.33     14\n",
              "0.05     10\n",
              "0.32      9\n",
              "0.06      8\n",
              "0.02      7\n",
              "0.35      7\n",
              "0.31      7\n",
              "0.38      6\n",
              "0.36      4\n",
              "0.34      4\n",
              "0.39      3\n",
              "0.01      3\n",
              "0.37      1\n",
              "0.40      1\n",
              "Name: BAC_RESULT VALUE, dtype: int64"
            ]
          },
          "execution_count": 215,
          "metadata": {},
          "output_type": "execute_result"
        }
      ],
      "source": [
        "#check new value counts\n",
        "cln_people['BAC_RESULT VALUE'].value_counts()"
      ]
    },
    {
      "cell_type": "code",
      "execution_count": 216,
      "id": "2110f418",
      "metadata": {
        "colab": {
          "base_uri": "https://localhost:8080/",
          "height": 430
        },
        "execution": {
          "iopub.execute_input": "2023-04-22T07:22:39.729684Z",
          "iopub.status.busy": "2023-04-22T07:22:39.728424Z",
          "iopub.status.idle": "2023-04-22T07:22:40.107565Z",
          "shell.execute_reply": "2023-04-22T07:22:40.105108Z"
        },
        "id": "2110f418",
        "outputId": "d46022fe-6567-45b0-9df0-523d44ce0dc8",
        "papermill": {
          "duration": 0.519617,
          "end_time": "2023-04-22T07:22:40.111700",
          "exception": false,
          "start_time": "2023-04-22T07:22:39.592083",
          "status": "completed"
        },
        "scrolled": true,
        "tags": []
      },
      "outputs": [
        {
          "data": {
            "image/png": "[encoded data removed]",
            "text/plain": [
              "<Figure size 640x480 with 1 Axes>"
            ]
          },
          "metadata": {},
          "output_type": "display_data"
        }
      ],
      "source": [
        "cln_people['BAC_RESULT VALUE'].hist(bins='auto');"
      ]
    },
    {
      "cell_type": "code",
      "execution_count": 217,
      "id": "2c1ddea4",
      "metadata": {
        "colab": {
          "base_uri": "https://localhost:8080/"
        },
        "id": "2c1ddea4",
        "outputId": "da12201c-111f-4ce0-c67e-ae2de62f83f1"
      },
      "outputs": [
        {
          "name": "stderr",
          "output_type": "stream",
          "text": [
            "<ipython-input-217-f04e5ed22f42>:7: UserWarning: Pandas doesn't allow columns to be created via a new attribute name - see https://pandas.pydata.org/pandas-docs/stable/indexing.html#attribute-access\n",
            "  cln_people.INTOXICATED_I = cln_people['BAC_RESULT VALUE'].map(e)\n"
          ]
        }
      ],
      "source": [
        "#create new column for intoxication indication using BAC results value\n",
        "\n",
        "#create a lambda function for maapping purposes\n",
        "e = lambda x: 'Y' if x > 0.08 else 'N'\n",
        "\n",
        "#map the funtion and create the new column\n",
        "cln_people.INTOXICATED_I = cln_people['BAC_RESULT VALUE'].map(e)"
      ]
    },
    {
      "cell_type": "code",
      "execution_count": 218,
      "id": "60ad8ab6",
      "metadata": {
        "colab": {
          "base_uri": "https://localhost:8080/"
        },
        "id": "60ad8ab6",
        "outputId": "c464e692-6a24-4238-e9f1-ddf1c6f8960d"
      },
      "outputs": [
        {
          "data": {
            "text/plain": [
              "N    880827\n",
              "Y      1366\n",
              "Name: BAC_RESULT VALUE, dtype: int64"
            ]
          },
          "execution_count": 218,
          "metadata": {},
          "output_type": "execute_result"
        }
      ],
      "source": [
        "#check value counts\n",
        "cln_people.INTOXICATED_I.value_counts()"
      ]
    },
    {
      "cell_type": "code",
      "execution_count": 219,
      "id": "6b0bce52",
      "metadata": {
        "execution": {
          "iopub.execute_input": "2023-04-22T07:22:40.473627Z",
          "iopub.status.busy": "2023-04-22T07:22:40.473168Z",
          "iopub.status.idle": "2023-04-22T07:22:40.484298Z",
          "shell.execute_reply": "2023-04-22T07:22:40.482690Z"
        },
        "id": "6b0bce52",
        "papermill": {
          "duration": 0.224534,
          "end_time": "2023-04-22T07:22:40.487590",
          "exception": false,
          "start_time": "2023-04-22T07:22:40.263056",
          "status": "completed"
        },
        "tags": []
      },
      "outputs": [],
      "source": [
        "#drop BAC result value column\n",
        "cln_people = cln_people.drop(['BAC_RESULT VALUE'], axis=1)"
      ]
    },
    {
      "cell_type": "code",
      "execution_count": 220,
      "id": "eb45845a",
      "metadata": {
        "colab": {
          "base_uri": "https://localhost:8080/"
        },
        "execution": {
          "iopub.execute_input": "2023-04-22T07:22:40.781806Z",
          "iopub.status.busy": "2023-04-22T07:22:40.781145Z",
          "iopub.status.idle": "2023-04-22T07:22:41.592108Z",
          "shell.execute_reply": "2023-04-22T07:22:41.589623Z"
        },
        "id": "eb45845a",
        "outputId": "df27e860-0056-493e-a9d9-3b0daaa5fca6",
        "papermill": {
          "duration": 0.952847,
          "end_time": "2023-04-22T07:22:41.596184",
          "exception": false,
          "start_time": "2023-04-22T07:22:40.643337",
          "status": "completed"
        },
        "tags": []
      },
      "outputs": [
        {
          "name": "stdout",
          "output_type": "stream",
          "text": [
            "<class 'pandas.core.frame.DataFrame'>\n",
            "Int64Index: 882193 entries, 0 to 1255045\n",
            "Data columns (total 10 columns):\n",
            " #   Column                 Non-Null Count   Dtype  \n",
            "---  ------                 --------------   -----  \n",
            " 0   PERSON_TYPE            882193 non-null  object \n",
            " 1   CRASH_RECORD_ID        882193 non-null  object \n",
            " 2   VEHICLE_ID             863670 non-null  float64\n",
            " 3   AGE                    882193 non-null  float64\n",
            " 4   SAFETY_EQUIPMENT       882193 non-null  object \n",
            " 5   INJURY_CLASSIFICATION  882193 non-null  object \n",
            " 6   DRIVER_ACTION          882193 non-null  object \n",
            " 7   DRIVER_VISION          882193 non-null  object \n",
            " 8   PHYSICAL_CONDITION     882193 non-null  object \n",
            " 9   PEDPEDAL_ACTION        882193 non-null  object \n",
            "dtypes: float64(2), object(8)\n",
            "memory usage: 74.0+ MB\n"
          ]
        }
      ],
      "source": [
        "cln_people.info()"
      ]
    },
    {
      "cell_type": "code",
      "execution_count": 221,
      "id": "e2cbd5f9",
      "metadata": {
        "id": "e2cbd5f9"
      },
      "outputs": [],
      "source": [
        "#drop vehicle ID column\n",
        "cln_people = cln_people.drop(['VEHICLE_ID'], axis=1)"
      ]
    },
    {
      "cell_type": "markdown",
      "id": "d3f4b5b0",
      "metadata": {
        "id": "d3f4b5b0"
      },
      "source": [
        "Now we can move onto merging the all the daatasets together."
      ]
    },
    {
      "cell_type": "code",
      "execution_count": 222,
      "id": "4ea9eb78",
      "metadata": {
        "execution": {
          "iopub.execute_input": "2023-04-22T07:22:41.863363Z",
          "iopub.status.busy": "2023-04-22T07:22:41.862886Z",
          "iopub.status.idle": "2023-04-22T07:22:44.440626Z",
          "shell.execute_reply": "2023-04-22T07:22:44.438263Z"
        },
        "id": "4ea9eb78",
        "papermill": {
          "duration": 2.714769,
          "end_time": "2023-04-22T07:22:44.445033",
          "exception": false,
          "start_time": "2023-04-22T07:22:41.730264",
          "status": "completed"
        },
        "tags": []
      },
      "outputs": [],
      "source": [
        "# merge veh_crsh with peoples cleaned dataset on crash record id\n",
        "veh_crsh_ppl = pd.merge(veh_crsh, cln_people, how='inner', on='CRASH_RECORD_ID' )"
      ]
    },
    {
      "cell_type": "code",
      "execution_count": 223,
      "id": "12318a55",
      "metadata": {
        "colab": {
          "base_uri": "https://localhost:8080/",
          "height": 560
        },
        "execution": {
          "iopub.execute_input": "2023-04-22T07:22:44.792835Z",
          "iopub.status.busy": "2023-04-22T07:22:44.792057Z",
          "iopub.status.idle": "2023-04-22T07:22:44.824148Z",
          "shell.execute_reply": "2023-04-22T07:22:44.822278Z"
        },
        "id": "12318a55",
        "outputId": "37c40dd4-fd69-4520-9482-c111336e062c",
        "papermill": {
          "duration": 0.172239,
          "end_time": "2023-04-22T07:22:44.827147",
          "exception": false,
          "start_time": "2023-04-22T07:22:44.654908",
          "status": "completed"
        },
        "tags": []
      },
      "outputs": [
        {
          "data": {
            "text/html": [
              "\n",
              "  <div id=\"df-7b72626b-ba2c-4c3c-862f-66703b4702d4\">\n",
              "    <div class=\"colab-df-container\">\n",
              "      <div>\n",
              "<style scoped>\n",
              "    .dataframe tbody tr th:only-of-type {\n",
              "        vertical-align: middle;\n",
              "    }\n",
              "\n",
              "    .dataframe tbody tr th {\n",
              "        vertical-align: top;\n",
              "    }\n",
              "\n",
              "    .dataframe thead th {\n",
              "        text-align: right;\n",
              "    }\n",
              "</style>\n",
              "<table border=\"1\" class=\"dataframe\">\n",
              "  <thead>\n",
              "    <tr style=\"text-align: right;\">\n",
              "      <th></th>\n",
              "      <th>CRASH_RECORD_ID</th>\n",
              "      <th>CRASH_YEAR</th>\n",
              "      <th>POSTED_SPEED_LIMIT</th>\n",
              "      <th>DEVICE_CONDITION</th>\n",
              "      <th>WEATHER_CONDITION</th>\n",
              "      <th>LIGHTING_CONDITION</th>\n",
              "      <th>CRASH_TYPE</th>\n",
              "      <th>INTERSECTION_RELATED_I</th>\n",
              "      <th>ROAD_DEFECT</th>\n",
              "      <th>PRIM_CONTRIBUTORY_CAUSE</th>\n",
              "      <th>...</th>\n",
              "      <th>VEHICLE_DEFECT_I</th>\n",
              "      <th>OCCUPANT_CAT</th>\n",
              "      <th>PERSON_TYPE</th>\n",
              "      <th>AGE</th>\n",
              "      <th>SAFETY_EQUIPMENT</th>\n",
              "      <th>INJURY_CLASSIFICATION</th>\n",
              "      <th>DRIVER_ACTION</th>\n",
              "      <th>DRIVER_VISION</th>\n",
              "      <th>PHYSICAL_CONDITION</th>\n",
              "      <th>PEDPEDAL_ACTION</th>\n",
              "    </tr>\n",
              "  </thead>\n",
              "  <tbody>\n",
              "    <tr>\n",
              "      <th>0</th>\n",
              "      <td>79c7a2ce89f446262efd86df3d72d18b04ba487024b7c4...</td>\n",
              "      <td>2019</td>\n",
              "      <td>30</td>\n",
              "      <td>FUNCTIONING PROPERLY</td>\n",
              "      <td>CLEAR</td>\n",
              "      <td>DAY TIME</td>\n",
              "      <td>INJURY AND / OR TOW DUE TO CRASH</td>\n",
              "      <td>Y</td>\n",
              "      <td>NO DEFECTS</td>\n",
              "      <td>RECKLESS/IMPROPER DRIVING</td>\n",
              "      <td>...</td>\n",
              "      <td>N</td>\n",
              "      <td>1-2</td>\n",
              "      <td>PASSENGER</td>\n",
              "      <td>27.0</td>\n",
              "      <td>SAFETY EQUIPMENT USED</td>\n",
              "      <td>NO INDICATION OF INJURY</td>\n",
              "      <td>PASSENGER</td>\n",
              "      <td>PASSENGER</td>\n",
              "      <td>PASSENGER</td>\n",
              "      <td>PASSENGER</td>\n",
              "    </tr>\n",
              "    <tr>\n",
              "      <th>1</th>\n",
              "      <td>79c7a2ce89f446262efd86df3d72d18b04ba487024b7c4...</td>\n",
              "      <td>2019</td>\n",
              "      <td>30</td>\n",
              "      <td>FUNCTIONING PROPERLY</td>\n",
              "      <td>CLEAR</td>\n",
              "      <td>DAY TIME</td>\n",
              "      <td>INJURY AND / OR TOW DUE TO CRASH</td>\n",
              "      <td>Y</td>\n",
              "      <td>NO DEFECTS</td>\n",
              "      <td>RECKLESS/IMPROPER DRIVING</td>\n",
              "      <td>...</td>\n",
              "      <td>N</td>\n",
              "      <td>1-2</td>\n",
              "      <td>DRIVER</td>\n",
              "      <td>22.0</td>\n",
              "      <td>SAFETY EQUIPMENT USED</td>\n",
              "      <td>INJUIRY</td>\n",
              "      <td>IMPROPER TURN</td>\n",
              "      <td>UNKNOWN</td>\n",
              "      <td>NORMAL</td>\n",
              "      <td>DRIVER</td>\n",
              "    </tr>\n",
              "    <tr>\n",
              "      <th>2</th>\n",
              "      <td>79c7a2ce89f446262efd86df3d72d18b04ba487024b7c4...</td>\n",
              "      <td>2019</td>\n",
              "      <td>30</td>\n",
              "      <td>FUNCTIONING PROPERLY</td>\n",
              "      <td>CLEAR</td>\n",
              "      <td>DAY TIME</td>\n",
              "      <td>INJURY AND / OR TOW DUE TO CRASH</td>\n",
              "      <td>Y</td>\n",
              "      <td>NO DEFECTS</td>\n",
              "      <td>RECKLESS/IMPROPER DRIVING</td>\n",
              "      <td>...</td>\n",
              "      <td>N</td>\n",
              "      <td>1-2</td>\n",
              "      <td>DRIVER</td>\n",
              "      <td>56.0</td>\n",
              "      <td>SAFETY EQUIPMENT USED</td>\n",
              "      <td>NO INDICATION OF INJURY</td>\n",
              "      <td>NONE</td>\n",
              "      <td>NOT OBSCURED</td>\n",
              "      <td>NORMAL</td>\n",
              "      <td>DRIVER</td>\n",
              "    </tr>\n",
              "    <tr>\n",
              "      <th>3</th>\n",
              "      <td>79c7a2ce89f446262efd86df3d72d18b04ba487024b7c4...</td>\n",
              "      <td>2019</td>\n",
              "      <td>30</td>\n",
              "      <td>FUNCTIONING PROPERLY</td>\n",
              "      <td>CLEAR</td>\n",
              "      <td>DAY TIME</td>\n",
              "      <td>INJURY AND / OR TOW DUE TO CRASH</td>\n",
              "      <td>Y</td>\n",
              "      <td>NO DEFECTS</td>\n",
              "      <td>RECKLESS/IMPROPER DRIVING</td>\n",
              "      <td>...</td>\n",
              "      <td>N</td>\n",
              "      <td>1-2</td>\n",
              "      <td>PASSENGER</td>\n",
              "      <td>27.0</td>\n",
              "      <td>SAFETY EQUIPMENT USED</td>\n",
              "      <td>NO INDICATION OF INJURY</td>\n",
              "      <td>PASSENGER</td>\n",
              "      <td>PASSENGER</td>\n",
              "      <td>PASSENGER</td>\n",
              "      <td>PASSENGER</td>\n",
              "    </tr>\n",
              "    <tr>\n",
              "      <th>4</th>\n",
              "      <td>79c7a2ce89f446262efd86df3d72d18b04ba487024b7c4...</td>\n",
              "      <td>2019</td>\n",
              "      <td>30</td>\n",
              "      <td>FUNCTIONING PROPERLY</td>\n",
              "      <td>CLEAR</td>\n",
              "      <td>DAY TIME</td>\n",
              "      <td>INJURY AND / OR TOW DUE TO CRASH</td>\n",
              "      <td>Y</td>\n",
              "      <td>NO DEFECTS</td>\n",
              "      <td>RECKLESS/IMPROPER DRIVING</td>\n",
              "      <td>...</td>\n",
              "      <td>N</td>\n",
              "      <td>1-2</td>\n",
              "      <td>DRIVER</td>\n",
              "      <td>22.0</td>\n",
              "      <td>SAFETY EQUIPMENT USED</td>\n",
              "      <td>INJUIRY</td>\n",
              "      <td>IMPROPER TURN</td>\n",
              "      <td>UNKNOWN</td>\n",
              "      <td>NORMAL</td>\n",
              "      <td>DRIVER</td>\n",
              "    </tr>\n",
              "  </tbody>\n",
              "</table>\n",
              "<p>5 rows × 33 columns</p>\n",
              "</div>\n",
              "      <button class=\"colab-df-convert\" onclick=\"convertToInteractive('df-7b72626b-ba2c-4c3c-862f-66703b4702d4')\"\n",
              "              title=\"Convert this dataframe to an interactive table.\"\n",
              "              style=\"display:none;\">\n",
              "        \n",
              "  <svg xmlns=\"http://www.w3.org/2000/svg\" height=\"24px\"viewBox=\"0 0 24 24\"\n",
              "       width=\"24px\">\n",
              "    <path d=\"M0 0h24v24H0V0z\" fill=\"none\"/>\n",
              "    <path d=\"M18.56 5.44l.94 2.06.94-2.06 2.06-.94-2.06-.94-.94-2.06-.94 2.06-2.06.94zm-11 1L8.5 8.5l.94-2.06 2.06-.94-2.06-.94L8.5 2.5l-.94 2.06-2.06.94zm10 10l.94 2.06.94-2.06 2.06-.94-2.06-.94-.94-2.06-.94 2.06-2.06.94z\"/><path d=\"M17.41 7.96l-1.37-1.37c-.4-.4-.92-.59-1.43-.59-.52 0-1.04.2-1.43.59L10.3 9.45l-7.72 7.72c-.78.78-.78 2.05 0 2.83L4 21.41c.39.39.9.59 1.41.59.51 0 1.02-.2 1.41-.59l7.78-7.78 2.81-2.81c.8-.78.8-2.07 0-2.86zM5.41 20L4 18.59l7.72-7.72 1.47 1.35L5.41 20z\"/>\n",
              "  </svg>\n",
              "      </button>\n",
              "      \n",
              "  <style>\n",
              "    .colab-df-container {\n",
              "      display:flex;\n",
              "      flex-wrap:wrap;\n",
              "      gap: 12px;\n",
              "    }\n",
              "\n",
              "    .colab-df-convert {\n",
              "      background-color: #E8F0FE;\n",
              "      border: none;\n",
              "      border-radius: 50%;\n",
              "      cursor: pointer;\n",
              "      display: none;\n",
              "      fill: #1967D2;\n",
              "      height: 32px;\n",
              "      padding: 0 0 0 0;\n",
              "      width: 32px;\n",
              "    }\n",
              "\n",
              "    .colab-df-convert:hover {\n",
              "      background-color: #E2EBFA;\n",
              "      box-shadow: 0px 1px 2px rgba(60, 64, 67, 0.3), 0px 1px 3px 1px rgba(60, 64, 67, 0.15);\n",
              "      fill: #174EA6;\n",
              "    }\n",
              "\n",
              "    [theme=dark] .colab-df-convert {\n",
              "      background-color: #3B4455;\n",
              "      fill: #D2E3FC;\n",
              "    }\n",
              "\n",
              "    [theme=dark] .colab-df-convert:hover {\n",
              "      background-color: #434B5C;\n",
              "      box-shadow: 0px 1px 3px 1px rgba(0, 0, 0, 0.15);\n",
              "      filter: drop-shadow(0px 1px 2px rgba(0, 0, 0, 0.3));\n",
              "      fill: #FFFFFF;\n",
              "    }\n",
              "  </style>\n",
              "\n",
              "      <script>\n",
              "        const buttonEl =\n",
              "          document.querySelector('#df-7b72626b-ba2c-4c3c-862f-66703b4702d4 button.colab-df-convert');\n",
              "        buttonEl.style.display =\n",
              "          google.colab.kernel.accessAllowed ? 'block' : 'none';\n",
              "\n",
              "        async function convertToInteractive(key) {\n",
              "          const element = document.querySelector('#df-7b72626b-ba2c-4c3c-862f-66703b4702d4');\n",
              "          const dataTable =\n",
              "            await google.colab.kernel.invokeFunction('convertToInteractive',\n",
              "                                                     [key], {});\n",
              "          if (!dataTable) return;\n",
              "\n",
              "          const docLinkHtml = 'Like what you see? Visit the ' +\n",
              "            '<a target=\"_blank\" href=https://colab.research.google.com/notebooks/data_table.ipynb>data table notebook</a>'\n",
              "            + ' to learn more about interactive tables.';\n",
              "          element.innerHTML = '';\n",
              "          dataTable['output_type'] = 'display_data';\n",
              "          await google.colab.output.renderOutput(dataTable, element);\n",
              "          const docLink = document.createElement('div');\n",
              "          docLink.innerHTML = docLinkHtml;\n",
              "          element.appendChild(docLink);\n",
              "        }\n",
              "      </script>\n",
              "    </div>\n",
              "  </div>\n",
              "  "
            ],
            "text/plain": [
              "                                     CRASH_RECORD_ID  CRASH_YEAR  \\\n",
              "0  79c7a2ce89f446262efd86df3d72d18b04ba487024b7c4...        2019   \n",
              "1  79c7a2ce89f446262efd86df3d72d18b04ba487024b7c4...        2019   \n",
              "2  79c7a2ce89f446262efd86df3d72d18b04ba487024b7c4...        2019   \n",
              "3  79c7a2ce89f446262efd86df3d72d18b04ba487024b7c4...        2019   \n",
              "4  79c7a2ce89f446262efd86df3d72d18b04ba487024b7c4...        2019   \n",
              "\n",
              "   POSTED_SPEED_LIMIT      DEVICE_CONDITION WEATHER_CONDITION  \\\n",
              "0                  30  FUNCTIONING PROPERLY             CLEAR   \n",
              "1                  30  FUNCTIONING PROPERLY             CLEAR   \n",
              "2                  30  FUNCTIONING PROPERLY             CLEAR   \n",
              "3                  30  FUNCTIONING PROPERLY             CLEAR   \n",
              "4                  30  FUNCTIONING PROPERLY             CLEAR   \n",
              "\n",
              "  LIGHTING_CONDITION                        CRASH_TYPE INTERSECTION_RELATED_I  \\\n",
              "0           DAY TIME  INJURY AND / OR TOW DUE TO CRASH                      Y   \n",
              "1           DAY TIME  INJURY AND / OR TOW DUE TO CRASH                      Y   \n",
              "2           DAY TIME  INJURY AND / OR TOW DUE TO CRASH                      Y   \n",
              "3           DAY TIME  INJURY AND / OR TOW DUE TO CRASH                      Y   \n",
              "4           DAY TIME  INJURY AND / OR TOW DUE TO CRASH                      Y   \n",
              "\n",
              "  ROAD_DEFECT    PRIM_CONTRIBUTORY_CAUSE  ...  VEHICLE_DEFECT_I OCCUPANT_CAT  \\\n",
              "0  NO DEFECTS  RECKLESS/IMPROPER DRIVING  ...                 N          1-2   \n",
              "1  NO DEFECTS  RECKLESS/IMPROPER DRIVING  ...                 N          1-2   \n",
              "2  NO DEFECTS  RECKLESS/IMPROPER DRIVING  ...                 N          1-2   \n",
              "3  NO DEFECTS  RECKLESS/IMPROPER DRIVING  ...                 N          1-2   \n",
              "4  NO DEFECTS  RECKLESS/IMPROPER DRIVING  ...                 N          1-2   \n",
              "\n",
              "  PERSON_TYPE   AGE       SAFETY_EQUIPMENT    INJURY_CLASSIFICATION  \\\n",
              "0   PASSENGER  27.0  SAFETY EQUIPMENT USED  NO INDICATION OF INJURY   \n",
              "1      DRIVER  22.0  SAFETY EQUIPMENT USED                  INJUIRY   \n",
              "2      DRIVER  56.0  SAFETY EQUIPMENT USED  NO INDICATION OF INJURY   \n",
              "3   PASSENGER  27.0  SAFETY EQUIPMENT USED  NO INDICATION OF INJURY   \n",
              "4      DRIVER  22.0  SAFETY EQUIPMENT USED                  INJUIRY   \n",
              "\n",
              "   DRIVER_ACTION  DRIVER_VISION  PHYSICAL_CONDITION  PEDPEDAL_ACTION  \n",
              "0      PASSENGER      PASSENGER           PASSENGER        PASSENGER  \n",
              "1  IMPROPER TURN        UNKNOWN              NORMAL           DRIVER  \n",
              "2           NONE   NOT OBSCURED              NORMAL           DRIVER  \n",
              "3      PASSENGER      PASSENGER           PASSENGER        PASSENGER  \n",
              "4  IMPROPER TURN        UNKNOWN              NORMAL           DRIVER  \n",
              "\n",
              "[5 rows x 33 columns]"
            ]
          },
          "execution_count": 223,
          "metadata": {},
          "output_type": "execute_result"
        }
      ],
      "source": [
        "#preview the first 5 rows\n",
        "veh_crsh_ppl.head()"
      ]
    },
    {
      "cell_type": "code",
      "execution_count": 224,
      "id": "ca39625b",
      "metadata": {
        "colab": {
          "base_uri": "https://localhost:8080/"
        },
        "execution": {
          "iopub.execute_input": "2023-04-22T07:22:45.093970Z",
          "iopub.status.busy": "2023-04-22T07:22:45.092963Z",
          "iopub.status.idle": "2023-04-22T07:22:46.375098Z",
          "shell.execute_reply": "2023-04-22T07:22:46.373339Z"
        },
        "id": "ca39625b",
        "outputId": "81605b48-3efb-4ad4-9697-8340a8b1ebfe",
        "papermill": {
          "duration": 1.419929,
          "end_time": "2023-04-22T07:22:46.379269",
          "exception": false,
          "start_time": "2023-04-22T07:22:44.959340",
          "status": "completed"
        },
        "scrolled": true,
        "tags": []
      },
      "outputs": [
        {
          "name": "stdout",
          "output_type": "stream",
          "text": [
            "<class 'pandas.core.frame.DataFrame'>\n",
            "Int64Index: 420609 entries, 0 to 420608\n",
            "Data columns (total 33 columns):\n",
            " #   Column                   Non-Null Count   Dtype  \n",
            "---  ------                   --------------   -----  \n",
            " 0   CRASH_RECORD_ID          420609 non-null  object \n",
            " 1   CRASH_YEAR               420609 non-null  int64  \n",
            " 2   POSTED_SPEED_LIMIT       420609 non-null  int64  \n",
            " 3   DEVICE_CONDITION         420609 non-null  object \n",
            " 4   WEATHER_CONDITION        420609 non-null  object \n",
            " 5   LIGHTING_CONDITION       420609 non-null  object \n",
            " 6   CRASH_TYPE               420609 non-null  object \n",
            " 7   INTERSECTION_RELATED_I   420609 non-null  object \n",
            " 8   ROAD_DEFECT              420609 non-null  object \n",
            " 9   PRIM_CONTRIBUTORY_CAUSE  420609 non-null  object \n",
            " 10  NUM_UNITS                420609 non-null  int64  \n",
            " 11  WORK_ZONE_I              420609 non-null  object \n",
            " 12  WORKERS_PRESENT_I        420609 non-null  object \n",
            " 13  INJURIES_TOTAL           420609 non-null  float64\n",
            " 14  INJURIES_FATAL           420609 non-null  float64\n",
            " 15  CRASH_HOUR               420609 non-null  int64  \n",
            " 16  CRASH_DAY_OF_WEEK        420609 non-null  int64  \n",
            " 17  CRASH_MONTH              420609 non-null  int64  \n",
            " 18  LATITUDE                 420609 non-null  float64\n",
            " 19  LONGITUDE                420609 non-null  float64\n",
            " 20  VEHICLE_TYPE             420609 non-null  object \n",
            " 21  MANEUVER                 420609 non-null  object \n",
            " 22  FIRST_CONTACT_POINT      420609 non-null  object \n",
            " 23  VEHICLE_DEFECT_I         420609 non-null  object \n",
            " 24  OCCUPANT_CAT             420609 non-null  object \n",
            " 25  PERSON_TYPE              420609 non-null  object \n",
            " 26  AGE                      420609 non-null  float64\n",
            " 27  SAFETY_EQUIPMENT         420609 non-null  object \n",
            " 28  INJURY_CLASSIFICATION    420609 non-null  object \n",
            " 29  DRIVER_ACTION            420609 non-null  object \n",
            " 30  DRIVER_VISION            420609 non-null  object \n",
            " 31  PHYSICAL_CONDITION       420609 non-null  object \n",
            " 32  PEDPEDAL_ACTION          420609 non-null  object \n",
            "dtypes: float64(5), int64(6), object(22)\n",
            "memory usage: 109.1+ MB\n"
          ]
        }
      ],
      "source": [
        "veh_crsh_ppl.info()"
      ]
    },
    {
      "cell_type": "markdown",
      "id": "43bbe20f",
      "metadata": {
        "id": "43bbe20f"
      },
      "source": [
        "Lets take a look at the unkown categories we left behind in the vehicles database. If the number of records with unkown values has gone down, we will drop the unknown values. In the scenario where they haven't, we will have to deal with them accordingly."
      ]
    },
    {
      "cell_type": "code",
      "execution_count": 225,
      "id": "22cbc62f",
      "metadata": {
        "colab": {
          "base_uri": "https://localhost:8080/"
        },
        "id": "22cbc62f",
        "outputId": "4760d740-b723-44f3-d3ca-1b47f6d9c973"
      },
      "outputs": [
        {
          "data": {
            "text/plain": [
              "REGULAR PERSONAL    393825\n",
              "UNKNOWN/NA           12460\n",
              "COMMERCIAL            9649\n",
              "PUBLIC                4675\n",
              "Name: VEHICLE_TYPE, dtype: int64"
            ]
          },
          "execution_count": 225,
          "metadata": {},
          "output_type": "execute_result"
        }
      ],
      "source": [
        "#check value counts of vehicle type\n",
        "veh_crsh_ppl.VEHICLE_TYPE.value_counts()"
      ]
    },
    {
      "cell_type": "code",
      "execution_count": 226,
      "id": "e692e60f",
      "metadata": {
        "id": "e692e60f"
      },
      "outputs": [],
      "source": [
        "#drop records with unknown values in the vehicle type column\n",
        "veh_crsh_ppl = veh_crsh_ppl[veh_crsh_ppl.VEHICLE_TYPE != 'UNKNOWN/NA']"
      ]
    },
    {
      "cell_type": "code",
      "execution_count": 227,
      "id": "4d0eded9",
      "metadata": {
        "colab": {
          "base_uri": "https://localhost:8080/"
        },
        "id": "4d0eded9",
        "outputId": "6e94af7d-2a54-4320-8c1f-00d4612ad05f"
      },
      "outputs": [
        {
          "data": {
            "text/plain": [
              "STRAIGHT                    248856\n",
              "TURNING                      60989\n",
              "START/STOP                   38197\n",
              "ENTERING/EXITING TRAFFIC     31623\n",
              "LANE CHANGE                  11247\n",
              "UNKNOWN/NA                    7484\n",
              "EXTERNAL OBSTRUCTIONS         5767\n",
              "BACKING                       2722\n",
              "DRIVING WRONG WAY             1264\n",
              "Name: MANEUVER, dtype: int64"
            ]
          },
          "execution_count": 227,
          "metadata": {},
          "output_type": "execute_result"
        }
      ],
      "source": [
        "#check value counts of MANEUVER\n",
        "veh_crsh_ppl.MANEUVER.value_counts()"
      ]
    },
    {
      "cell_type": "code",
      "execution_count": 228,
      "id": "5c399aab",
      "metadata": {
        "id": "5c399aab"
      },
      "outputs": [],
      "source": [
        "#drop records with unknown values in the MANEUVER column\n",
        "veh_crsh_ppl = veh_crsh_ppl[veh_crsh_ppl.MANEUVER != 'UNKNOWN/NA']"
      ]
    },
    {
      "cell_type": "code",
      "execution_count": 229,
      "id": "8df3985b",
      "metadata": {
        "colab": {
          "base_uri": "https://localhost:8080/"
        },
        "id": "8df3985b",
        "outputId": "edf2b962-d591-4b38-dce4-fd15e369e998"
      },
      "outputs": [
        {
          "data": {
            "text/plain": [
              "STRAIGHT                    248856\n",
              "TURNING                      60989\n",
              "START/STOP                   38197\n",
              "ENTERING/EXITING TRAFFIC     31623\n",
              "LANE CHANGE                  11247\n",
              "EXTERNAL OBSTRUCTIONS         5767\n",
              "BACKING                       2722\n",
              "DRIVING WRONG WAY             1264\n",
              "Name: MANEUVER, dtype: int64"
            ]
          },
          "execution_count": 229,
          "metadata": {},
          "output_type": "execute_result"
        }
      ],
      "source": [
        "#check new value counts of MANEUVER\n",
        "veh_crsh_ppl.MANEUVER.value_counts()"
      ]
    },
    {
      "cell_type": "code",
      "execution_count": 230,
      "id": "d2171343",
      "metadata": {
        "colab": {
          "base_uri": "https://localhost:8080/"
        },
        "id": "d2171343",
        "outputId": "1cdc4d10-c687-4c12-b6a9-beb53f3f274b"
      },
      "outputs": [
        {
          "data": {
            "text/plain": [
              "FRONT                122398\n",
              "OTHER                 85977\n",
              "REAR                  81278\n",
              "TOTAL (ALL AREAS)     41241\n",
              "SIDE                  39364\n",
              "TOP/BOTTOM            22020\n",
              "UNKNOWN                6880\n",
              "NONE                   1507\n",
              "Name: FIRST_CONTACT_POINT, dtype: int64"
            ]
          },
          "execution_count": 230,
          "metadata": {},
          "output_type": "execute_result"
        }
      ],
      "source": [
        "#check value counts of FIRST_CONTACT_POINT\n",
        "veh_crsh_ppl.FIRST_CONTACT_POINT.value_counts()"
      ]
    },
    {
      "cell_type": "code",
      "execution_count": 231,
      "id": "a2f3aa71",
      "metadata": {
        "id": "a2f3aa71"
      },
      "outputs": [],
      "source": [
        "#drop records with unknown values in the FIRST_CONTACT_POINT column\n",
        "veh_crsh_ppl = veh_crsh_ppl[veh_crsh_ppl.FIRST_CONTACT_POINT != 'UNKNOWN']"
      ]
    },
    {
      "cell_type": "code",
      "execution_count": 232,
      "id": "b6e030b9",
      "metadata": {
        "colab": {
          "base_uri": "https://localhost:8080/"
        },
        "id": "b6e030b9",
        "outputId": "5622cae8-ec4c-434b-fc6d-cb5ab02ac32d"
      },
      "outputs": [
        {
          "data": {
            "text/plain": [
              "FRONT                122398\n",
              "OTHER                 85977\n",
              "REAR                  81278\n",
              "TOTAL (ALL AREAS)     41241\n",
              "SIDE                  39364\n",
              "TOP/BOTTOM            22020\n",
              "NONE                   1507\n",
              "Name: FIRST_CONTACT_POINT, dtype: int64"
            ]
          },
          "execution_count": 232,
          "metadata": {},
          "output_type": "execute_result"
        }
      ],
      "source": [
        "#check new value counts of FIRST_CONTACT_POINT\n",
        "veh_crsh_ppl.FIRST_CONTACT_POINT.value_counts()"
      ]
    },
    {
      "cell_type": "code",
      "execution_count": 233,
      "id": "c4a75ae6",
      "metadata": {
        "colab": {
          "base_uri": "https://localhost:8080/"
        },
        "id": "c4a75ae6",
        "outputId": "c6c75f8a-0b7c-4c0c-b0c0-ce5797f3e427"
      },
      "outputs": [
        {
          "data": {
            "text/plain": [
              "N    239039\n",
              "U    149016\n",
              "Y      5730\n",
              "Name: VEHICLE_DEFECT_I, dtype: int64"
            ]
          },
          "execution_count": 233,
          "metadata": {},
          "output_type": "execute_result"
        }
      ],
      "source": [
        "#check value counts of VEHICLE_DEFECT_I\n",
        "veh_crsh_ppl.VEHICLE_DEFECT_I.value_counts()"
      ]
    },
    {
      "cell_type": "markdown",
      "id": "d7a7432a",
      "metadata": {
        "id": "d7a7432a"
      },
      "source": [
        "The number of unkowns in this column are still very high. Unfortunately, there is not enough information to impute these values. We will carry them forward into our modeling because there might be other variabless that link with it to form a trend of the causes of traffic accidents."
      ]
    },
    {
      "cell_type": "code",
      "execution_count": 234,
      "id": "823c8a47",
      "metadata": {
        "colab": {
          "base_uri": "https://localhost:8080/"
        },
        "id": "823c8a47",
        "outputId": "f9feb08a-6376-41b2-9c37-f82454a03218"
      },
      "outputs": [
        {
          "name": "stdout",
          "output_type": "stream",
          "text": [
            "<class 'pandas.core.frame.DataFrame'>\n",
            "Int64Index: 393785 entries, 0 to 420608\n",
            "Data columns (total 33 columns):\n",
            " #   Column                   Non-Null Count   Dtype  \n",
            "---  ------                   --------------   -----  \n",
            " 0   CRASH_RECORD_ID          393785 non-null  object \n",
            " 1   CRASH_YEAR               393785 non-null  int64  \n",
            " 2   POSTED_SPEED_LIMIT       393785 non-null  int64  \n",
            " 3   DEVICE_CONDITION         393785 non-null  object \n",
            " 4   WEATHER_CONDITION        393785 non-null  object \n",
            " 5   LIGHTING_CONDITION       393785 non-null  object \n",
            " 6   CRASH_TYPE               393785 non-null  object \n",
            " 7   INTERSECTION_RELATED_I   393785 non-null  object \n",
            " 8   ROAD_DEFECT              393785 non-null  object \n",
            " 9   PRIM_CONTRIBUTORY_CAUSE  393785 non-null  object \n",
            " 10  NUM_UNITS                393785 non-null  int64  \n",
            " 11  WORK_ZONE_I              393785 non-null  object \n",
            " 12  WORKERS_PRESENT_I        393785 non-null  object \n",
            " 13  INJURIES_TOTAL           393785 non-null  float64\n",
            " 14  INJURIES_FATAL           393785 non-null  float64\n",
            " 15  CRASH_HOUR               393785 non-null  int64  \n",
            " 16  CRASH_DAY_OF_WEEK        393785 non-null  int64  \n",
            " 17  CRASH_MONTH              393785 non-null  int64  \n",
            " 18  LATITUDE                 393785 non-null  float64\n",
            " 19  LONGITUDE                393785 non-null  float64\n",
            " 20  VEHICLE_TYPE             393785 non-null  object \n",
            " 21  MANEUVER                 393785 non-null  object \n",
            " 22  FIRST_CONTACT_POINT      393785 non-null  object \n",
            " 23  VEHICLE_DEFECT_I         393785 non-null  object \n",
            " 24  OCCUPANT_CAT             393785 non-null  object \n",
            " 25  PERSON_TYPE              393785 non-null  object \n",
            " 26  AGE                      393785 non-null  float64\n",
            " 27  SAFETY_EQUIPMENT         393785 non-null  object \n",
            " 28  INJURY_CLASSIFICATION    393785 non-null  object \n",
            " 29  DRIVER_ACTION            393785 non-null  object \n",
            " 30  DRIVER_VISION            393785 non-null  object \n",
            " 31  PHYSICAL_CONDITION       393785 non-null  object \n",
            " 32  PEDPEDAL_ACTION          393785 non-null  object \n",
            "dtypes: float64(5), int64(6), object(22)\n",
            "memory usage: 102.1+ MB\n"
          ]
        }
      ],
      "source": [
        "veh_crsh_ppl.info()"
      ]
    },
    {
      "cell_type": "markdown",
      "id": "e7797aa2",
      "metadata": {
        "id": "e7797aa2"
      },
      "source": [
        "Next, lets look at processing this merged dataset to prepare it for modelling but first, lets separate out the unable to determine categories from the Primary Contributary Cause column to check later whether our model can provide some insights into what coud have been the causes for it."
      ]
    },
    {
      "cell_type": "code",
      "execution_count": 235,
      "id": "40a7c9d1",
      "metadata": {
        "colab": {
          "base_uri": "https://localhost:8080/"
        },
        "id": "40a7c9d1",
        "outputId": "86081f79-cabd-45b5-930e-5ec81002b2a0"
      },
      "outputs": [
        {
          "data": {
            "text/plain": [
              "RECKLESS/IMPROPER DRIVING    154430\n",
              "TRAFFIC RULES VIOLATED       139833\n",
              "UNABLE TO DETERMINE           52774\n",
              "COMPROMISED DRIVING           27461\n",
              "OBSTRUCTIONS                  19287\n",
              "Name: PRIM_CONTRIBUTORY_CAUSE, dtype: int64"
            ]
          },
          "execution_count": 235,
          "metadata": {},
          "output_type": "execute_result"
        }
      ],
      "source": [
        "veh_crsh_ppl.PRIM_CONTRIBUTORY_CAUSE.value_counts()"
      ]
    },
    {
      "cell_type": "code",
      "execution_count": 236,
      "id": "7d12e2a8",
      "metadata": {
        "id": "7d12e2a8"
      },
      "outputs": [],
      "source": [
        "#separate out unable to determine categories\n",
        "u_veh_crsh_ppl = veh_crsh_ppl[veh_crsh_ppl.PRIM_CONTRIBUTORY_CAUSE == 'UNABLE TO DETERMINE']\n",
        "\n",
        "#separate out the rest\n",
        "veh_crsh_ppl = veh_crsh_ppl[veh_crsh_ppl.PRIM_CONTRIBUTORY_CAUSE != 'UNABLE TO DETERMINE']"
      ]
    },
    {
      "cell_type": "markdown",
      "id": "9ecda2bc",
      "metadata": {
        "id": "9ecda2bc"
      },
      "source": [
        "Lets take a look at how the dataset looks after filtering out the Unable to Determine causes."
      ]
    },
    {
      "cell_type": "code",
      "execution_count": 237,
      "id": "03483af3",
      "metadata": {
        "colab": {
          "base_uri": "https://localhost:8080/"
        },
        "id": "03483af3",
        "outputId": "bc971ec7-17f1-4a91-bec5-436a0887c336"
      },
      "outputs": [
        {
          "name": "stdout",
          "output_type": "stream",
          "text": [
            "<class 'pandas.core.frame.DataFrame'>\n",
            "Int64Index: 52774 entries, 23 to 420540\n",
            "Data columns (total 33 columns):\n",
            " #   Column                   Non-Null Count  Dtype  \n",
            "---  ------                   --------------  -----  \n",
            " 0   CRASH_RECORD_ID          52774 non-null  object \n",
            " 1   CRASH_YEAR               52774 non-null  int64  \n",
            " 2   POSTED_SPEED_LIMIT       52774 non-null  int64  \n",
            " 3   DEVICE_CONDITION         52774 non-null  object \n",
            " 4   WEATHER_CONDITION        52774 non-null  object \n",
            " 5   LIGHTING_CONDITION       52774 non-null  object \n",
            " 6   CRASH_TYPE               52774 non-null  object \n",
            " 7   INTERSECTION_RELATED_I   52774 non-null  object \n",
            " 8   ROAD_DEFECT              52774 non-null  object \n",
            " 9   PRIM_CONTRIBUTORY_CAUSE  52774 non-null  object \n",
            " 10  NUM_UNITS                52774 non-null  int64  \n",
            " 11  WORK_ZONE_I              52774 non-null  object \n",
            " 12  WORKERS_PRESENT_I        52774 non-null  object \n",
            " 13  INJURIES_TOTAL           52774 non-null  float64\n",
            " 14  INJURIES_FATAL           52774 non-null  float64\n",
            " 15  CRASH_HOUR               52774 non-null  int64  \n",
            " 16  CRASH_DAY_OF_WEEK        52774 non-null  int64  \n",
            " 17  CRASH_MONTH              52774 non-null  int64  \n",
            " 18  LATITUDE                 52774 non-null  float64\n",
            " 19  LONGITUDE                52774 non-null  float64\n",
            " 20  VEHICLE_TYPE             52774 non-null  object \n",
            " 21  MANEUVER                 52774 non-null  object \n",
            " 22  FIRST_CONTACT_POINT      52774 non-null  object \n",
            " 23  VEHICLE_DEFECT_I         52774 non-null  object \n",
            " 24  OCCUPANT_CAT             52774 non-null  object \n",
            " 25  PERSON_TYPE              52774 non-null  object \n",
            " 26  AGE                      52774 non-null  float64\n",
            " 27  SAFETY_EQUIPMENT         52774 non-null  object \n",
            " 28  INJURY_CLASSIFICATION    52774 non-null  object \n",
            " 29  DRIVER_ACTION            52774 non-null  object \n",
            " 30  DRIVER_VISION            52774 non-null  object \n",
            " 31  PHYSICAL_CONDITION       52774 non-null  object \n",
            " 32  PEDPEDAL_ACTION          52774 non-null  object \n",
            "dtypes: float64(5), int64(6), object(22)\n",
            "memory usage: 13.7+ MB\n"
          ]
        }
      ],
      "source": [
        "#unable to determine cause dataset\n",
        "u_veh_crsh_ppl.info()"
      ]
    },
    {
      "cell_type": "code",
      "execution_count": 238,
      "id": "b71885fd",
      "metadata": {
        "colab": {
          "base_uri": "https://localhost:8080/"
        },
        "execution": {
          "iopub.execute_input": "2023-04-22T07:24:24.406262Z",
          "iopub.status.busy": "2023-04-22T07:24:24.405493Z",
          "iopub.status.idle": "2023-04-22T07:24:25.483849Z",
          "shell.execute_reply": "2023-04-22T07:24:25.481576Z"
        },
        "id": "b71885fd",
        "outputId": "3ee74038-20ef-42f3-b907-6b0ca32c6cc7",
        "papermill": {
          "duration": 1.291701,
          "end_time": "2023-04-22T07:24:25.487129",
          "exception": false,
          "start_time": "2023-04-22T07:24:24.195428",
          "status": "completed"
        },
        "tags": []
      },
      "outputs": [
        {
          "name": "stdout",
          "output_type": "stream",
          "text": [
            "<class 'pandas.core.frame.DataFrame'>\n",
            "Int64Index: 341011 entries, 0 to 420608\n",
            "Data columns (total 33 columns):\n",
            " #   Column                   Non-Null Count   Dtype  \n",
            "---  ------                   --------------   -----  \n",
            " 0   CRASH_RECORD_ID          341011 non-null  object \n",
            " 1   CRASH_YEAR               341011 non-null  int64  \n",
            " 2   POSTED_SPEED_LIMIT       341011 non-null  int64  \n",
            " 3   DEVICE_CONDITION         341011 non-null  object \n",
            " 4   WEATHER_CONDITION        341011 non-null  object \n",
            " 5   LIGHTING_CONDITION       341011 non-null  object \n",
            " 6   CRASH_TYPE               341011 non-null  object \n",
            " 7   INTERSECTION_RELATED_I   341011 non-null  object \n",
            " 8   ROAD_DEFECT              341011 non-null  object \n",
            " 9   PRIM_CONTRIBUTORY_CAUSE  341011 non-null  object \n",
            " 10  NUM_UNITS                341011 non-null  int64  \n",
            " 11  WORK_ZONE_I              341011 non-null  object \n",
            " 12  WORKERS_PRESENT_I        341011 non-null  object \n",
            " 13  INJURIES_TOTAL           341011 non-null  float64\n",
            " 14  INJURIES_FATAL           341011 non-null  float64\n",
            " 15  CRASH_HOUR               341011 non-null  int64  \n",
            " 16  CRASH_DAY_OF_WEEK        341011 non-null  int64  \n",
            " 17  CRASH_MONTH              341011 non-null  int64  \n",
            " 18  LATITUDE                 341011 non-null  float64\n",
            " 19  LONGITUDE                341011 non-null  float64\n",
            " 20  VEHICLE_TYPE             341011 non-null  object \n",
            " 21  MANEUVER                 341011 non-null  object \n",
            " 22  FIRST_CONTACT_POINT      341011 non-null  object \n",
            " 23  VEHICLE_DEFECT_I         341011 non-null  object \n",
            " 24  OCCUPANT_CAT             341011 non-null  object \n",
            " 25  PERSON_TYPE              341011 non-null  object \n",
            " 26  AGE                      341011 non-null  float64\n",
            " 27  SAFETY_EQUIPMENT         341011 non-null  object \n",
            " 28  INJURY_CLASSIFICATION    341011 non-null  object \n",
            " 29  DRIVER_ACTION            341011 non-null  object \n",
            " 30  DRIVER_VISION            341011 non-null  object \n",
            " 31  PHYSICAL_CONDITION       341011 non-null  object \n",
            " 32  PEDPEDAL_ACTION          341011 non-null  object \n",
            "dtypes: float64(5), int64(6), object(22)\n",
            "memory usage: 88.5+ MB\n"
          ]
        }
      ],
      "source": [
        "#dataset with the causes\n",
        "veh_crsh_ppl.info()"
      ]
    },
    {
      "cell_type": "markdown",
      "id": "13701068",
      "metadata": {
        "id": "13701068"
      },
      "source": [
        "We don't have any missing values and the unable to determine is a largely significant dataset with almost 70,000 records.\n",
        "\n",
        "Now we need to encode the categorical columns because ML models are better adept at handling numerical data as compared to categorical data."
      ]
    },
    {
      "cell_type": "code",
      "execution_count": 239,
      "id": "1de69269",
      "metadata": {
        "colab": {
          "base_uri": "https://localhost:8080/"
        },
        "execution": {
          "iopub.execute_input": "2023-04-22T07:24:25.767493Z",
          "iopub.status.busy": "2023-04-22T07:24:25.766999Z",
          "iopub.status.idle": "2023-04-22T07:24:27.891036Z",
          "shell.execute_reply": "2023-04-22T07:24:27.888908Z"
        },
        "id": "1de69269",
        "outputId": "4d86b730-1c57-4db1-a26b-fb626e95b105",
        "papermill": {
          "duration": 2.266214,
          "end_time": "2023-04-22T07:24:27.894435",
          "exception": false,
          "start_time": "2023-04-22T07:24:25.628221",
          "status": "completed"
        },
        "tags": []
      },
      "outputs": [
        {
          "data": {
            "text/plain": [
              "Index(['CRASH_RECORD_ID', 'DEVICE_CONDITION', 'WEATHER_CONDITION',\n",
              "       'LIGHTING_CONDITION', 'CRASH_TYPE', 'INTERSECTION_RELATED_I',\n",
              "       'ROAD_DEFECT', 'PRIM_CONTRIBUTORY_CAUSE', 'WORK_ZONE_I',\n",
              "       'WORKERS_PRESENT_I', 'VEHICLE_TYPE', 'MANEUVER', 'FIRST_CONTACT_POINT',\n",
              "       'VEHICLE_DEFECT_I', 'OCCUPANT_CAT', 'PERSON_TYPE', 'SAFETY_EQUIPMENT',\n",
              "       'INJURY_CLASSIFICATION', 'DRIVER_ACTION', 'DRIVER_VISION',\n",
              "       'PHYSICAL_CONDITION', 'PEDPEDAL_ACTION'],\n",
              "      dtype='object')"
            ]
          },
          "execution_count": 239,
          "metadata": {},
          "output_type": "execute_result"
        }
      ],
      "source": [
        "# Finding Category Columns\n",
        "cat_columns = veh_crsh_ppl.dtypes[veh_crsh_ppl.dtypes == 'object'].index\n",
        "\n",
        "# Finding unique counts for categorical columns \n",
        "cat_unique = veh_crsh_ppl[cat_columns].nunique()\n",
        "\n",
        "#separate the list of the categorical columns\n",
        "cat = veh_crsh_ppl[cat_columns].columns\n",
        "\n",
        "cat"
      ]
    },
    {
      "cell_type": "code",
      "execution_count": 240,
      "id": "09f03acb",
      "metadata": {
        "colab": {
          "base_uri": "https://localhost:8080/"
        },
        "id": "09f03acb",
        "outputId": "a9217f02-0aef-4cbf-9558-3a3b2d9c6e91"
      },
      "outputs": [
        {
          "data": {
            "text/plain": [
              "Index(['CRASH_RECORD_ID', 'DEVICE_CONDITION', 'WEATHER_CONDITION',\n",
              "       'LIGHTING_CONDITION', 'CRASH_TYPE', 'INTERSECTION_RELATED_I',\n",
              "       'ROAD_DEFECT', 'PRIM_CONTRIBUTORY_CAUSE', 'WORK_ZONE_I',\n",
              "       'WORKERS_PRESENT_I', 'VEHICLE_TYPE', 'MANEUVER', 'FIRST_CONTACT_POINT',\n",
              "       'VEHICLE_DEFECT_I', 'OCCUPANT_CAT', 'PERSON_TYPE', 'SAFETY_EQUIPMENT',\n",
              "       'INJURY_CLASSIFICATION', 'DRIVER_ACTION', 'DRIVER_VISION',\n",
              "       'PHYSICAL_CONDITION', 'PEDPEDAL_ACTION'],\n",
              "      dtype='object')"
            ]
          },
          "execution_count": 240,
          "metadata": {},
          "output_type": "execute_result"
        }
      ],
      "source": [
        "# Finding Category Columns for the unable to determine dataset\n",
        "cat_columns_u = u_veh_crsh_ppl.dtypes[u_veh_crsh_ppl.dtypes == 'object'].index\n",
        "\n",
        "# Finding unique counts for categorical columns \n",
        "cat_unique_u = u_veh_crsh_ppl[cat_columns_u].nunique()\n",
        "\n",
        "#separate the list of the categorical columns\n",
        "cat_u = u_veh_crsh_ppl[cat_columns_u].columns\n",
        "\n",
        "cat_u"
      ]
    },
    {
      "cell_type": "markdown",
      "id": "283cf1ad",
      "metadata": {
        "id": "283cf1ad"
      },
      "source": [
        "We will use the caategoricaal columns names to loop through it one by one and label encode the categories in the column using integers from zero onwards"
      ]
    },
    {
      "cell_type": "code",
      "execution_count": 241,
      "id": "9ea54ae3",
      "metadata": {
        "colab": {
          "base_uri": "https://localhost:8080/"
        },
        "id": "9ea54ae3",
        "outputId": "453a7ed1-6224-4d43-ddeb-9fbb6bdc0238"
      },
      "outputs": [
        {
          "name": "stdout",
          "output_type": "stream",
          "text": [
            "[['DEVICE_CONDITION', {'FUNCTIONING PROPERLY': 0, 'NOT FUNCTIONING PROPERLY': 1, 'NO CONTROLS': 2}], ['WEATHER_CONDITION', {'CLEAR': 0, 'NOT CLEAR': 1}], ['LIGHTING_CONDITION', {'DAY TIME': 0, 'NIGHT TIME': 1}], ['CRASH_TYPE', {'INJURY AND / OR TOW DUE TO CRASH': 0}], ['INTERSECTION_RELATED_I', {'Y': 0, 'N': 1}], ['ROAD_DEFECT', {'NO DEFECTS': 0, 'DEFECTS': 1}], ['PRIM_CONTRIBUTORY_CAUSE', {'RECKLESS/IMPROPER DRIVING': 0, 'TRAFFIC RULES VIOLATED': 1, 'COMPROMISED DRIVING': 2, 'OBSTRUCTIONS': 3}], ['WORK_ZONE_I', {'N': 0, 'Y': 1}], ['WORKERS_PRESENT_I', {'N': 0, 'Y': 1}], ['VEHICLE_TYPE', {'REGULAR PERSONAL': 0, 'COMMERCIAL': 1, 'PUBLIC': 2}], ['MANEUVER', {'TURNING': 0, 'STRAIGHT': 1, 'START/STOP': 2, 'EXTERNAL OBSTRUCTIONS': 3, 'ENTERING/EXITING TRAFFIC': 4, 'LANE CHANGE': 5, 'BACKING': 6, 'DRIVING WRONG WAY': 7}], ['FIRST_CONTACT_POINT', {'FRONT': 0, 'NONE': 1, 'REAR': 2, 'OTHER': 3, 'TOTAL (ALL AREAS)': 4, 'SIDE': 5, 'TOP/BOTTOM': 6}], ['VEHICLE_DEFECT_I', {'N': 0, 'U': 1, 'Y': 2}], ['OCCUPANT_CAT', {'1-2': 0, '3-5': 1, '0': 2, '6-9': 3, '10+': 4}], ['PERSON_TYPE', {'PASSENGER': 0, 'DRIVER': 1, 'BICYCLE': 2, 'PEDESTRIAN': 3, 'NON-MOTOR VEHICLE': 4, 'NON-CONTACT VEHICLE': 5}], ['SAFETY_EQUIPMENT', {'SAFETY EQUIPMENT USED': 0, 'SAFETY EQUIPMENT MISSING/MISUSED': 1, 'USAGE UNKNOWN': 2}], ['INJURY_CLASSIFICATION', {'NO INDICATION OF INJURY': 0, 'INJUIRY': 1}], ['DRIVER_ACTION', {'PASSENGER': 0, 'IMPROPER TURN': 1, 'NONE': 2, 'OTHER': 3, 'WRONG WAY/SIDE': 4, 'CELL PHONE USE OTHER THAN TEXTING': 5, 'FAILED TO YIELD': 6, 'IMPROPER LANE CHANGE': 7, 'FOLLOWED TOO CLOSELY': 8, 'DISREGARDED CONTROL DEVICES': 9, 'UNKNOWN': 10, 'TOO FAST FOR CONDITIONS': 11, 'IMPROPER BACKING': 12, 'IMPROPER PASSING': 13, 'EVADING POLICE VEHICLE': 14, 'TEXTING': 15, 'OVERCORRECTED': 16, 'EMERGENCY VEHICLE ON CALL': 17, 'IMPROPER PARKING': 18, 'LICENSE RESTRICTIONS': 19, 'STOPPED SCHOOL BUS': 20}], ['DRIVER_VISION', {'PASSENGER': 0, 'UNKNOWN': 1, 'NOT OBSCURED': 2, 'OBSCURED': 3}], ['PHYSICAL_CONDITION', {'PASSENGER': 0, 'NORMAL': 1, 'IMPAIRED': 2}], ['PEDPEDAL_ACTION', {'PASSENGER': 0, 'DRIVER': 1, 'AGAINST TRAFFIC': 2, 'CROSSING - CONTROLS PRESENT (NOT AT INTERSECTION)': 3, 'OTHER ACTION': 4, 'CROSSING - NO CONTROLS (NOT AT INTERSECTION)': 5, 'PLAYING IN ROADWAY': 6, 'CROSSING - WITH SIGNAL': 7, 'INTOXICATED PED/PEDAL': 8, 'ENTER FROM DRIVE/ALLEY': 9, 'CROSSING - AGAINST SIGNAL': 10, 'UNKNOWN/NA': 11, 'NOT AT INTERSECTION': 12, 'NO ACTION': 13, 'STANDING IN ROADWAY': 14, 'CROSSING - NO CONTROLS (AT INTERSECTION)': 15, 'WITH TRAFFIC': 16, 'WORKING IN ROADWAY': 17, 'TURNING LEFT': 18, 'TURNING RIGHT': 19, 'PARKED VEHICLE': 20, 'WAITING FOR SCHOOL BUS': 21, 'TO/FROM DISABLED VEHICLE': 22, 'PLAYING/WORKING ON VEHICLE': 23, 'SCHOOL BUS (WITHIN 50 FT.)': 24}]]\n",
            "[['DEVICE_CONDITION', {'FUNCTIONING PROPERLY': 0, 'NOT FUNCTIONING PROPERLY': 1, 'NO CONTROLS': 2}], ['WEATHER_CONDITION', {'CLEAR': 0, 'NOT CLEAR': 1}], ['LIGHTING_CONDITION', {'DAY TIME': 0, 'NIGHT TIME': 1}], ['CRASH_TYPE', {'INJURY AND / OR TOW DUE TO CRASH': 0}], ['INTERSECTION_RELATED_I', {'Y': 0, 'N': 1}], ['ROAD_DEFECT', {'NO DEFECTS': 0, 'DEFECTS': 1}], ['PRIM_CONTRIBUTORY_CAUSE', {'RECKLESS/IMPROPER DRIVING': 0, 'TRAFFIC RULES VIOLATED': 1, 'COMPROMISED DRIVING': 2, 'OBSTRUCTIONS': 3}], ['WORK_ZONE_I', {'N': 0, 'Y': 1}], ['WORKERS_PRESENT_I', {'N': 0, 'Y': 1}], ['VEHICLE_TYPE', {'REGULAR PERSONAL': 0, 'COMMERCIAL': 1, 'PUBLIC': 2}], ['MANEUVER', {'TURNING': 0, 'STRAIGHT': 1, 'START/STOP': 2, 'EXTERNAL OBSTRUCTIONS': 3, 'ENTERING/EXITING TRAFFIC': 4, 'LANE CHANGE': 5, 'BACKING': 6, 'DRIVING WRONG WAY': 7}], ['FIRST_CONTACT_POINT', {'FRONT': 0, 'NONE': 1, 'REAR': 2, 'OTHER': 3, 'TOTAL (ALL AREAS)': 4, 'SIDE': 5, 'TOP/BOTTOM': 6}], ['VEHICLE_DEFECT_I', {'N': 0, 'U': 1, 'Y': 2}], ['OCCUPANT_CAT', {'1-2': 0, '3-5': 1, '0': 2, '6-9': 3, '10+': 4}], ['PERSON_TYPE', {'PASSENGER': 0, 'DRIVER': 1, 'BICYCLE': 2, 'PEDESTRIAN': 3, 'NON-MOTOR VEHICLE': 4, 'NON-CONTACT VEHICLE': 5}], ['SAFETY_EQUIPMENT', {'SAFETY EQUIPMENT USED': 0, 'SAFETY EQUIPMENT MISSING/MISUSED': 1, 'USAGE UNKNOWN': 2}], ['INJURY_CLASSIFICATION', {'NO INDICATION OF INJURY': 0, 'INJUIRY': 1}], ['DRIVER_ACTION', {'PASSENGER': 0, 'IMPROPER TURN': 1, 'NONE': 2, 'OTHER': 3, 'WRONG WAY/SIDE': 4, 'CELL PHONE USE OTHER THAN TEXTING': 5, 'FAILED TO YIELD': 6, 'IMPROPER LANE CHANGE': 7, 'FOLLOWED TOO CLOSELY': 8, 'DISREGARDED CONTROL DEVICES': 9, 'UNKNOWN': 10, 'TOO FAST FOR CONDITIONS': 11, 'IMPROPER BACKING': 12, 'IMPROPER PASSING': 13, 'EVADING POLICE VEHICLE': 14, 'TEXTING': 15, 'OVERCORRECTED': 16, 'EMERGENCY VEHICLE ON CALL': 17, 'IMPROPER PARKING': 18, 'LICENSE RESTRICTIONS': 19, 'STOPPED SCHOOL BUS': 20}], ['DRIVER_VISION', {'PASSENGER': 0, 'UNKNOWN': 1, 'NOT OBSCURED': 2, 'OBSCURED': 3}], ['PHYSICAL_CONDITION', {'PASSENGER': 0, 'NORMAL': 1, 'IMPAIRED': 2}], ['PEDPEDAL_ACTION', {'PASSENGER': 0, 'DRIVER': 1, 'AGAINST TRAFFIC': 2, 'CROSSING - CONTROLS PRESENT (NOT AT INTERSECTION)': 3, 'OTHER ACTION': 4, 'CROSSING - NO CONTROLS (NOT AT INTERSECTION)': 5, 'PLAYING IN ROADWAY': 6, 'CROSSING - WITH SIGNAL': 7, 'INTOXICATED PED/PEDAL': 8, 'ENTER FROM DRIVE/ALLEY': 9, 'CROSSING - AGAINST SIGNAL': 10, 'UNKNOWN/NA': 11, 'NOT AT INTERSECTION': 12, 'NO ACTION': 13, 'STANDING IN ROADWAY': 14, 'CROSSING - NO CONTROLS (AT INTERSECTION)': 15, 'WITH TRAFFIC': 16, 'WORKING IN ROADWAY': 17, 'TURNING LEFT': 18, 'TURNING RIGHT': 19, 'PARKED VEHICLE': 20, 'WAITING FOR SCHOOL BUS': 21, 'TO/FROM DISABLED VEHICLE': 22, 'PLAYING/WORKING ON VEHICLE': 23, 'SCHOOL BUS (WITHIN 50 FT.)': 24}]]\n"
          ]
        }
      ],
      "source": [
        "label_list=[]\n",
        "label_list_u=[]\n",
        "for j in cat[1:]: #loop through the categorical variables\n",
        "    label_encoding = veh_crsh_ppl[j].unique() #separate the unique variables in the specific column\n",
        "    label_encoding = { label_encoding[i] : i for i in range(len(label_encoding))} #label encode\n",
        "    label_list.append([j,label_encoding])\n",
        "    \n",
        "    \n",
        "    #do the same thing for the unable to determine dataset\n",
        "    label_encoding_u = u_veh_crsh_ppl[j].unique()\n",
        "    label_encoding_u = { label_encoding_u[i] : i for i in range(len(label_encoding_u))}\n",
        "    label_list_u.append([j,label_encoding])\n",
        "    \n",
        "    #encode both datasets\n",
        "    veh_crsh_ppl[j] = veh_crsh_ppl[j].apply(lambda x : label_encoding[x])\n",
        "#     print(j, veh_crsh_ppl[j].unique())\n",
        "\n",
        "    u_veh_crsh_ppl[j] = u_veh_crsh_ppl[j].apply(lambda x : label_encoding_u[x])\n",
        "#     print(j, u_veh_crsh_ppl[j].unique())\n",
        "\n",
        "print(label_list)\n",
        "print(label_list_u)"
      ]
    },
    {
      "cell_type": "markdown",
      "id": "bab9f6f0",
      "metadata": {
        "id": "bab9f6f0"
      },
      "source": [
        "We filtered out the types of crashes to only keep the ones that had inlved injuries. Considering that crash type has been filtered to only the injuries or fatalities, we can drop this columnm."
      ]
    },
    {
      "cell_type": "code",
      "execution_count": 242,
      "id": "05592bb4",
      "metadata": {
        "execution": {
          "iopub.execute_input": "2023-04-22T07:24:33.763619Z",
          "iopub.status.busy": "2023-04-22T07:24:33.763177Z",
          "iopub.status.idle": "2023-04-22T07:24:34.166917Z",
          "shell.execute_reply": "2023-04-22T07:24:34.165217Z"
        },
        "id": "05592bb4",
        "papermill": {
          "duration": 0.54603,
          "end_time": "2023-04-22T07:24:34.170231",
          "exception": false,
          "start_time": "2023-04-22T07:24:33.624201",
          "status": "completed"
        },
        "tags": []
      },
      "outputs": [],
      "source": [
        "veh_crsh_ppl.drop('CRASH_TYPE', axis= 1, inplace= True)\n",
        "u_veh_crsh_ppl.drop('CRASH_TYPE', axis= 1, inplace= True)"
      ]
    },
    {
      "cell_type": "markdown",
      "id": "c5fd7d86",
      "metadata": {
        "id": "c5fd7d86"
      },
      "source": [
        "The Craash Record IDs are more of a primary key for this dataset therefore we will set this aas the index so as not to interfere with our mdelling but still have it available if we need it. After setting the index, we will extract the unique indices so as to keep records relating to the same crash in the same train/test dataset."
      ]
    },
    {
      "cell_type": "code",
      "execution_count": 243,
      "id": "f60b67bc",
      "metadata": {
        "colab": {
          "base_uri": "https://localhost:8080/",
          "height": 488
        },
        "id": "f60b67bc",
        "outputId": "fc868184-c6b6-447d-a014-64a0eb88fdc8"
      },
      "outputs": [
        {
          "data": {
            "text/html": [
              "\n",
              "  <div id=\"df-e2dea7c2-afaa-487b-9c36-10c7f703d7ab\">\n",
              "    <div class=\"colab-df-container\">\n",
              "      <div>\n",
              "<style scoped>\n",
              "    .dataframe tbody tr th:only-of-type {\n",
              "        vertical-align: middle;\n",
              "    }\n",
              "\n",
              "    .dataframe tbody tr th {\n",
              "        vertical-align: top;\n",
              "    }\n",
              "\n",
              "    .dataframe thead th {\n",
              "        text-align: right;\n",
              "    }\n",
              "</style>\n",
              "<table border=\"1\" class=\"dataframe\">\n",
              "  <thead>\n",
              "    <tr style=\"text-align: right;\">\n",
              "      <th></th>\n",
              "      <th>CRASH_RECORD_ID</th>\n",
              "      <th>CRASH_YEAR</th>\n",
              "      <th>POSTED_SPEED_LIMIT</th>\n",
              "      <th>DEVICE_CONDITION</th>\n",
              "      <th>WEATHER_CONDITION</th>\n",
              "      <th>LIGHTING_CONDITION</th>\n",
              "      <th>INTERSECTION_RELATED_I</th>\n",
              "      <th>ROAD_DEFECT</th>\n",
              "      <th>PRIM_CONTRIBUTORY_CAUSE</th>\n",
              "      <th>NUM_UNITS</th>\n",
              "      <th>...</th>\n",
              "      <th>VEHICLE_DEFECT_I</th>\n",
              "      <th>OCCUPANT_CAT</th>\n",
              "      <th>PERSON_TYPE</th>\n",
              "      <th>AGE</th>\n",
              "      <th>SAFETY_EQUIPMENT</th>\n",
              "      <th>INJURY_CLASSIFICATION</th>\n",
              "      <th>DRIVER_ACTION</th>\n",
              "      <th>DRIVER_VISION</th>\n",
              "      <th>PHYSICAL_CONDITION</th>\n",
              "      <th>PEDPEDAL_ACTION</th>\n",
              "    </tr>\n",
              "  </thead>\n",
              "  <tbody>\n",
              "    <tr>\n",
              "      <th>0</th>\n",
              "      <td>79c7a2ce89f446262efd86df3d72d18b04ba487024b7c4...</td>\n",
              "      <td>2019</td>\n",
              "      <td>30</td>\n",
              "      <td>0</td>\n",
              "      <td>0</td>\n",
              "      <td>0</td>\n",
              "      <td>0</td>\n",
              "      <td>0</td>\n",
              "      <td>0</td>\n",
              "      <td>2</td>\n",
              "      <td>...</td>\n",
              "      <td>0</td>\n",
              "      <td>0</td>\n",
              "      <td>0</td>\n",
              "      <td>27.0</td>\n",
              "      <td>0</td>\n",
              "      <td>0</td>\n",
              "      <td>0</td>\n",
              "      <td>0</td>\n",
              "      <td>0</td>\n",
              "      <td>0</td>\n",
              "    </tr>\n",
              "    <tr>\n",
              "      <th>1</th>\n",
              "      <td>79c7a2ce89f446262efd86df3d72d18b04ba487024b7c4...</td>\n",
              "      <td>2019</td>\n",
              "      <td>30</td>\n",
              "      <td>0</td>\n",
              "      <td>0</td>\n",
              "      <td>0</td>\n",
              "      <td>0</td>\n",
              "      <td>0</td>\n",
              "      <td>0</td>\n",
              "      <td>2</td>\n",
              "      <td>...</td>\n",
              "      <td>0</td>\n",
              "      <td>0</td>\n",
              "      <td>1</td>\n",
              "      <td>22.0</td>\n",
              "      <td>0</td>\n",
              "      <td>1</td>\n",
              "      <td>1</td>\n",
              "      <td>1</td>\n",
              "      <td>1</td>\n",
              "      <td>1</td>\n",
              "    </tr>\n",
              "    <tr>\n",
              "      <th>2</th>\n",
              "      <td>79c7a2ce89f446262efd86df3d72d18b04ba487024b7c4...</td>\n",
              "      <td>2019</td>\n",
              "      <td>30</td>\n",
              "      <td>0</td>\n",
              "      <td>0</td>\n",
              "      <td>0</td>\n",
              "      <td>0</td>\n",
              "      <td>0</td>\n",
              "      <td>0</td>\n",
              "      <td>2</td>\n",
              "      <td>...</td>\n",
              "      <td>0</td>\n",
              "      <td>0</td>\n",
              "      <td>1</td>\n",
              "      <td>56.0</td>\n",
              "      <td>0</td>\n",
              "      <td>0</td>\n",
              "      <td>2</td>\n",
              "      <td>2</td>\n",
              "      <td>1</td>\n",
              "      <td>1</td>\n",
              "    </tr>\n",
              "    <tr>\n",
              "      <th>3</th>\n",
              "      <td>79c7a2ce89f446262efd86df3d72d18b04ba487024b7c4...</td>\n",
              "      <td>2019</td>\n",
              "      <td>30</td>\n",
              "      <td>0</td>\n",
              "      <td>0</td>\n",
              "      <td>0</td>\n",
              "      <td>0</td>\n",
              "      <td>0</td>\n",
              "      <td>0</td>\n",
              "      <td>2</td>\n",
              "      <td>...</td>\n",
              "      <td>0</td>\n",
              "      <td>0</td>\n",
              "      <td>0</td>\n",
              "      <td>27.0</td>\n",
              "      <td>0</td>\n",
              "      <td>0</td>\n",
              "      <td>0</td>\n",
              "      <td>0</td>\n",
              "      <td>0</td>\n",
              "      <td>0</td>\n",
              "    </tr>\n",
              "    <tr>\n",
              "      <th>4</th>\n",
              "      <td>79c7a2ce89f446262efd86df3d72d18b04ba487024b7c4...</td>\n",
              "      <td>2019</td>\n",
              "      <td>30</td>\n",
              "      <td>0</td>\n",
              "      <td>0</td>\n",
              "      <td>0</td>\n",
              "      <td>0</td>\n",
              "      <td>0</td>\n",
              "      <td>0</td>\n",
              "      <td>2</td>\n",
              "      <td>...</td>\n",
              "      <td>0</td>\n",
              "      <td>0</td>\n",
              "      <td>1</td>\n",
              "      <td>22.0</td>\n",
              "      <td>0</td>\n",
              "      <td>1</td>\n",
              "      <td>1</td>\n",
              "      <td>1</td>\n",
              "      <td>1</td>\n",
              "      <td>1</td>\n",
              "    </tr>\n",
              "    <tr>\n",
              "      <th>...</th>\n",
              "      <td>...</td>\n",
              "      <td>...</td>\n",
              "      <td>...</td>\n",
              "      <td>...</td>\n",
              "      <td>...</td>\n",
              "      <td>...</td>\n",
              "      <td>...</td>\n",
              "      <td>...</td>\n",
              "      <td>...</td>\n",
              "      <td>...</td>\n",
              "      <td>...</td>\n",
              "      <td>...</td>\n",
              "      <td>...</td>\n",
              "      <td>...</td>\n",
              "      <td>...</td>\n",
              "      <td>...</td>\n",
              "      <td>...</td>\n",
              "      <td>...</td>\n",
              "      <td>...</td>\n",
              "      <td>...</td>\n",
              "      <td>...</td>\n",
              "    </tr>\n",
              "    <tr>\n",
              "      <th>420604</th>\n",
              "      <td>6b6f5ceb4053bfbb3483fb453231caa94ff2351bde4c9d...</td>\n",
              "      <td>2019</td>\n",
              "      <td>30</td>\n",
              "      <td>0</td>\n",
              "      <td>0</td>\n",
              "      <td>0</td>\n",
              "      <td>1</td>\n",
              "      <td>0</td>\n",
              "      <td>1</td>\n",
              "      <td>2</td>\n",
              "      <td>...</td>\n",
              "      <td>0</td>\n",
              "      <td>0</td>\n",
              "      <td>1</td>\n",
              "      <td>52.0</td>\n",
              "      <td>0</td>\n",
              "      <td>1</td>\n",
              "      <td>2</td>\n",
              "      <td>2</td>\n",
              "      <td>1</td>\n",
              "      <td>1</td>\n",
              "    </tr>\n",
              "    <tr>\n",
              "      <th>420605</th>\n",
              "      <td>6b6f5ceb4053bfbb3483fb453231caa94ff2351bde4c9d...</td>\n",
              "      <td>2019</td>\n",
              "      <td>30</td>\n",
              "      <td>0</td>\n",
              "      <td>0</td>\n",
              "      <td>0</td>\n",
              "      <td>1</td>\n",
              "      <td>0</td>\n",
              "      <td>1</td>\n",
              "      <td>2</td>\n",
              "      <td>...</td>\n",
              "      <td>0</td>\n",
              "      <td>0</td>\n",
              "      <td>1</td>\n",
              "      <td>52.0</td>\n",
              "      <td>0</td>\n",
              "      <td>0</td>\n",
              "      <td>3</td>\n",
              "      <td>2</td>\n",
              "      <td>1</td>\n",
              "      <td>1</td>\n",
              "    </tr>\n",
              "    <tr>\n",
              "      <th>420606</th>\n",
              "      <td>6b6f5ceb4053bfbb3483fb453231caa94ff2351bde4c9d...</td>\n",
              "      <td>2019</td>\n",
              "      <td>30</td>\n",
              "      <td>0</td>\n",
              "      <td>0</td>\n",
              "      <td>0</td>\n",
              "      <td>1</td>\n",
              "      <td>0</td>\n",
              "      <td>1</td>\n",
              "      <td>2</td>\n",
              "      <td>...</td>\n",
              "      <td>1</td>\n",
              "      <td>0</td>\n",
              "      <td>3</td>\n",
              "      <td>50.0</td>\n",
              "      <td>1</td>\n",
              "      <td>1</td>\n",
              "      <td>3</td>\n",
              "      <td>2</td>\n",
              "      <td>2</td>\n",
              "      <td>4</td>\n",
              "    </tr>\n",
              "    <tr>\n",
              "      <th>420607</th>\n",
              "      <td>6b6f5ceb4053bfbb3483fb453231caa94ff2351bde4c9d...</td>\n",
              "      <td>2019</td>\n",
              "      <td>30</td>\n",
              "      <td>0</td>\n",
              "      <td>0</td>\n",
              "      <td>0</td>\n",
              "      <td>1</td>\n",
              "      <td>0</td>\n",
              "      <td>1</td>\n",
              "      <td>2</td>\n",
              "      <td>...</td>\n",
              "      <td>1</td>\n",
              "      <td>0</td>\n",
              "      <td>1</td>\n",
              "      <td>52.0</td>\n",
              "      <td>0</td>\n",
              "      <td>1</td>\n",
              "      <td>2</td>\n",
              "      <td>2</td>\n",
              "      <td>1</td>\n",
              "      <td>1</td>\n",
              "    </tr>\n",
              "    <tr>\n",
              "      <th>420608</th>\n",
              "      <td>6b6f5ceb4053bfbb3483fb453231caa94ff2351bde4c9d...</td>\n",
              "      <td>2019</td>\n",
              "      <td>30</td>\n",
              "      <td>0</td>\n",
              "      <td>0</td>\n",
              "      <td>0</td>\n",
              "      <td>1</td>\n",
              "      <td>0</td>\n",
              "      <td>1</td>\n",
              "      <td>2</td>\n",
              "      <td>...</td>\n",
              "      <td>1</td>\n",
              "      <td>0</td>\n",
              "      <td>1</td>\n",
              "      <td>52.0</td>\n",
              "      <td>0</td>\n",
              "      <td>0</td>\n",
              "      <td>3</td>\n",
              "      <td>2</td>\n",
              "      <td>1</td>\n",
              "      <td>1</td>\n",
              "    </tr>\n",
              "  </tbody>\n",
              "</table>\n",
              "<p>341011 rows × 32 columns</p>\n",
              "</div>\n",
              "      <button class=\"colab-df-convert\" onclick=\"convertToInteractive('df-e2dea7c2-afaa-487b-9c36-10c7f703d7ab')\"\n",
              "              title=\"Convert this dataframe to an interactive table.\"\n",
              "              style=\"display:none;\">\n",
              "        \n",
              "  <svg xmlns=\"http://www.w3.org/2000/svg\" height=\"24px\"viewBox=\"0 0 24 24\"\n",
              "       width=\"24px\">\n",
              "    <path d=\"M0 0h24v24H0V0z\" fill=\"none\"/>\n",
              "    <path d=\"M18.56 5.44l.94 2.06.94-2.06 2.06-.94-2.06-.94-.94-2.06-.94 2.06-2.06.94zm-11 1L8.5 8.5l.94-2.06 2.06-.94-2.06-.94L8.5 2.5l-.94 2.06-2.06.94zm10 10l.94 2.06.94-2.06 2.06-.94-2.06-.94-.94-2.06-.94 2.06-2.06.94z\"/><path d=\"M17.41 7.96l-1.37-1.37c-.4-.4-.92-.59-1.43-.59-.52 0-1.04.2-1.43.59L10.3 9.45l-7.72 7.72c-.78.78-.78 2.05 0 2.83L4 21.41c.39.39.9.59 1.41.59.51 0 1.02-.2 1.41-.59l7.78-7.78 2.81-2.81c.8-.78.8-2.07 0-2.86zM5.41 20L4 18.59l7.72-7.72 1.47 1.35L5.41 20z\"/>\n",
              "  </svg>\n",
              "      </button>\n",
              "      \n",
              "  <style>\n",
              "    .colab-df-container {\n",
              "      display:flex;\n",
              "      flex-wrap:wrap;\n",
              "      gap: 12px;\n",
              "    }\n",
              "\n",
              "    .colab-df-convert {\n",
              "      background-color: #E8F0FE;\n",
              "      border: none;\n",
              "      border-radius: 50%;\n",
              "      cursor: pointer;\n",
              "      display: none;\n",
              "      fill: #1967D2;\n",
              "      height: 32px;\n",
              "      padding: 0 0 0 0;\n",
              "      width: 32px;\n",
              "    }\n",
              "\n",
              "    .colab-df-convert:hover {\n",
              "      background-color: #E2EBFA;\n",
              "      box-shadow: 0px 1px 2px rgba(60, 64, 67, 0.3), 0px 1px 3px 1px rgba(60, 64, 67, 0.15);\n",
              "      fill: #174EA6;\n",
              "    }\n",
              "\n",
              "    [theme=dark] .colab-df-convert {\n",
              "      background-color: #3B4455;\n",
              "      fill: #D2E3FC;\n",
              "    }\n",
              "\n",
              "    [theme=dark] .colab-df-convert:hover {\n",
              "      background-color: #434B5C;\n",
              "      box-shadow: 0px 1px 3px 1px rgba(0, 0, 0, 0.15);\n",
              "      filter: drop-shadow(0px 1px 2px rgba(0, 0, 0, 0.3));\n",
              "      fill: #FFFFFF;\n",
              "    }\n",
              "  </style>\n",
              "\n",
              "      <script>\n",
              "        const buttonEl =\n",
              "          document.querySelector('#df-e2dea7c2-afaa-487b-9c36-10c7f703d7ab button.colab-df-convert');\n",
              "        buttonEl.style.display =\n",
              "          google.colab.kernel.accessAllowed ? 'block' : 'none';\n",
              "\n",
              "        async function convertToInteractive(key) {\n",
              "          const element = document.querySelector('#df-e2dea7c2-afaa-487b-9c36-10c7f703d7ab');\n",
              "          const dataTable =\n",
              "            await google.colab.kernel.invokeFunction('convertToInteractive',\n",
              "                                                     [key], {});\n",
              "          if (!dataTable) return;\n",
              "\n",
              "          const docLinkHtml = 'Like what you see? Visit the ' +\n",
              "            '<a target=\"_blank\" href=https://colab.research.google.com/notebooks/data_table.ipynb>data table notebook</a>'\n",
              "            + ' to learn more about interactive tables.';\n",
              "          element.innerHTML = '';\n",
              "          dataTable['output_type'] = 'display_data';\n",
              "          await google.colab.output.renderOutput(dataTable, element);\n",
              "          const docLink = document.createElement('div');\n",
              "          docLink.innerHTML = docLinkHtml;\n",
              "          element.appendChild(docLink);\n",
              "        }\n",
              "      </script>\n",
              "    </div>\n",
              "  </div>\n",
              "  "
            ],
            "text/plain": [
              "                                          CRASH_RECORD_ID  CRASH_YEAR  \\\n",
              "0       79c7a2ce89f446262efd86df3d72d18b04ba487024b7c4...        2019   \n",
              "1       79c7a2ce89f446262efd86df3d72d18b04ba487024b7c4...        2019   \n",
              "2       79c7a2ce89f446262efd86df3d72d18b04ba487024b7c4...        2019   \n",
              "3       79c7a2ce89f446262efd86df3d72d18b04ba487024b7c4...        2019   \n",
              "4       79c7a2ce89f446262efd86df3d72d18b04ba487024b7c4...        2019   \n",
              "...                                                   ...         ...   \n",
              "420604  6b6f5ceb4053bfbb3483fb453231caa94ff2351bde4c9d...        2019   \n",
              "420605  6b6f5ceb4053bfbb3483fb453231caa94ff2351bde4c9d...        2019   \n",
              "420606  6b6f5ceb4053bfbb3483fb453231caa94ff2351bde4c9d...        2019   \n",
              "420607  6b6f5ceb4053bfbb3483fb453231caa94ff2351bde4c9d...        2019   \n",
              "420608  6b6f5ceb4053bfbb3483fb453231caa94ff2351bde4c9d...        2019   \n",
              "\n",
              "        POSTED_SPEED_LIMIT  DEVICE_CONDITION  WEATHER_CONDITION  \\\n",
              "0                       30                 0                  0   \n",
              "1                       30                 0                  0   \n",
              "2                       30                 0                  0   \n",
              "3                       30                 0                  0   \n",
              "4                       30                 0                  0   \n",
              "...                    ...               ...                ...   \n",
              "420604                  30                 0                  0   \n",
              "420605                  30                 0                  0   \n",
              "420606                  30                 0                  0   \n",
              "420607                  30                 0                  0   \n",
              "420608                  30                 0                  0   \n",
              "\n",
              "        LIGHTING_CONDITION  INTERSECTION_RELATED_I  ROAD_DEFECT  \\\n",
              "0                        0                       0            0   \n",
              "1                        0                       0            0   \n",
              "2                        0                       0            0   \n",
              "3                        0                       0            0   \n",
              "4                        0                       0            0   \n",
              "...                    ...                     ...          ...   \n",
              "420604                   0                       1            0   \n",
              "420605                   0                       1            0   \n",
              "420606                   0                       1            0   \n",
              "420607                   0                       1            0   \n",
              "420608                   0                       1            0   \n",
              "\n",
              "        PRIM_CONTRIBUTORY_CAUSE  NUM_UNITS  ...  VEHICLE_DEFECT_I  \\\n",
              "0                             0          2  ...                 0   \n",
              "1                             0          2  ...                 0   \n",
              "2                             0          2  ...                 0   \n",
              "3                             0          2  ...                 0   \n",
              "4                             0          2  ...                 0   \n",
              "...                         ...        ...  ...               ...   \n",
              "420604                        1          2  ...                 0   \n",
              "420605                        1          2  ...                 0   \n",
              "420606                        1          2  ...                 1   \n",
              "420607                        1          2  ...                 1   \n",
              "420608                        1          2  ...                 1   \n",
              "\n",
              "        OCCUPANT_CAT  PERSON_TYPE   AGE  SAFETY_EQUIPMENT  \\\n",
              "0                  0            0  27.0                 0   \n",
              "1                  0            1  22.0                 0   \n",
              "2                  0            1  56.0                 0   \n",
              "3                  0            0  27.0                 0   \n",
              "4                  0            1  22.0                 0   \n",
              "...              ...          ...   ...               ...   \n",
              "420604             0            1  52.0                 0   \n",
              "420605             0            1  52.0                 0   \n",
              "420606             0            3  50.0                 1   \n",
              "420607             0            1  52.0                 0   \n",
              "420608             0            1  52.0                 0   \n",
              "\n",
              "        INJURY_CLASSIFICATION  DRIVER_ACTION  DRIVER_VISION  \\\n",
              "0                           0              0              0   \n",
              "1                           1              1              1   \n",
              "2                           0              2              2   \n",
              "3                           0              0              0   \n",
              "4                           1              1              1   \n",
              "...                       ...            ...            ...   \n",
              "420604                      1              2              2   \n",
              "420605                      0              3              2   \n",
              "420606                      1              3              2   \n",
              "420607                      1              2              2   \n",
              "420608                      0              3              2   \n",
              "\n",
              "        PHYSICAL_CONDITION  PEDPEDAL_ACTION  \n",
              "0                        0                0  \n",
              "1                        1                1  \n",
              "2                        1                1  \n",
              "3                        0                0  \n",
              "4                        1                1  \n",
              "...                    ...              ...  \n",
              "420604                   1                1  \n",
              "420605                   1                1  \n",
              "420606                   2                4  \n",
              "420607                   1                1  \n",
              "420608                   1                1  \n",
              "\n",
              "[341011 rows x 32 columns]"
            ]
          },
          "execution_count": 243,
          "metadata": {},
          "output_type": "execute_result"
        }
      ],
      "source": [
        "veh_crsh_ppl"
      ]
    },
    {
      "cell_type": "code",
      "execution_count": 244,
      "id": "893437dd",
      "metadata": {
        "id": "893437dd"
      },
      "outputs": [],
      "source": [
        "veh_crsh_ppl.set_index('CRASH_RECORD_ID',inplace=True)\n",
        "\n",
        "u_veh_crsh_ppl.set_index('CRASH_RECORD_ID',inplace=True)"
      ]
    },
    {
      "cell_type": "code",
      "execution_count": 245,
      "id": "9b6c991c",
      "metadata": {
        "id": "9b6c991c"
      },
      "outputs": [],
      "source": [
        "# u_veh_crsh_ppl.set_index('CRASH_RECORD_ID',inplace=True)"
      ]
    },
    {
      "cell_type": "code",
      "execution_count": 246,
      "id": "b97b348a",
      "metadata": {
        "colab": {
          "base_uri": "https://localhost:8080/"
        },
        "id": "b97b348a",
        "outputId": "31cf08e4-ca1b-4a66-bada-09db256dc2ee"
      },
      "outputs": [
        {
          "data": {
            "text/plain": [
              "0    154430\n",
              "1    139833\n",
              "2     27461\n",
              "3     19287\n",
              "Name: PRIM_CONTRIBUTORY_CAUSE, dtype: int64"
            ]
          },
          "execution_count": 246,
          "metadata": {},
          "output_type": "execute_result"
        }
      ],
      "source": [
        "veh_crsh_ppl.PRIM_CONTRIBUTORY_CAUSE.value_counts()"
      ]
    },
    {
      "cell_type": "code",
      "execution_count": 247,
      "id": "2944a376",
      "metadata": {
        "colab": {
          "base_uri": "https://localhost:8080/"
        },
        "id": "2944a376",
        "outputId": "d289d6f2-614e-48b1-8908-029297e01bc5"
      },
      "outputs": [
        {
          "data": {
            "text/plain": [
              "Index(['79c7a2ce89f446262efd86df3d72d18b04ba487024b7c42d58be7bc0ee3b2779be1916679231382b4a4bfe14200bd305d9c6feb7cd70839f863dd944b040212d',\n",
              "       '7b3545fb91352d7fc46ba142d9044a5508671db4d01d0226f0a56f7774954d7d98030e5c47efb4aec51122cc57d15a820e826eb99e4559ebae383c5715f637e6',\n",
              "       '79704e1b747fbf5f740f1255785934dfe659ff910d4782b606f87f714d6a7292cbced2d9f08e091569f06bdd38051ba0bb15ccb125e1f32f16ed5620e05ba305',\n",
              "       '7b3850c200a1f73cc7c800e48ece28907dc6599da0d905a94b842b362ca7163041da962602dbc4bb6560dd9fe15395b42d971b1dacf6894ff2fff3d8bc59f7f5',\n",
              "       '798cc771c20c11dcc335369c87eb8458964dd30b94bd00498f0b30ccb8d4f78f9bfa9aaad56ed7629ae75c6cf10451b31582783285f24e17bd9aef61805c9907',\n",
              "       '79a9c11b06e5d529811576e6d109e250056fb31724b246104f72a89e2ca3f62a90f51fa0635b771fbf174e5e20380ecc8bebf5b6e9276799f913fdcbd2623bb4',\n",
              "       '7b1b05ed5eb0a764604b983288ffe852e202253d4cb25431957b5859f81e8938c15aee47c10f7510ea52036328b31a54d206dba24fb211d3017fc6cda08579c1',\n",
              "       '7af7cc489ab2796162224c510e09bf6f7a8de67cf3a7858ffcf115f85ea38cba9fe72d346484c0ddd6fe5c270043c822d77ec2b770db85d7103c60963c6e11df',\n",
              "       '7a20752f71e23e12bb2f1a3d760d72572c775e7bb697bdb81ad09a83f2c178ba88f5be109ca9f238eec9a7b4f4243199c230fdb3102d2e1f5170d14fc8d6e195',\n",
              "       '7b2e965c8cefcb0d45225e3fd1e811ac384296b30a9f73bc69c272440b58ac2d0d9d7af82edec5ab992301bea4eb75530c2b2366274f1ab4eb4a01f8e550afec',\n",
              "       ...\n",
              "       'fd513d10e664f2def020f1cacfc56e902758d2e0bd744632f5af5a3ab191d6fe6533fb01fce230e56a92334da73ab29e971624c21cfdee79f065785846cfe85f',\n",
              "       'fe6972aeaf89062f34bfdf6a3d82ccea70fc7b55f8f20dd34e5678fb43b0d0dc37e3c400cb2851cca9263b2034e98d19d3b0200b8c422124abd182d8bf89a87c',\n",
              "       'ddb7c68c829fa774fa13b1a8bda817c7f9094a660447231ea7707c0ae19c6fab186f192076fd892cd3ad94987bd515ca2833a011008823e65a3e2b7a53544757',\n",
              "       'a9bbdb526397e66da4c0f889362d0749748dde077c85db7964e0b0578099ca51b5ae60264baa17ab1f5c7e83949396e6e06217c7fbcf91dc8639ad342fa18d31',\n",
              "       'e88a7d78baea3f2de14f0042ce24937d03ca58553c71022c5abc84cfabfd5f6db42fabfe34751eaa13e6c617a725ab8f42af877c382a4abdab0709b99deccf8a',\n",
              "       '2d073f9830f5aaa503d4598c41adebd05f9e28ed4cb47dcbcf8a9cb56ea4a08b9c28b760470a4cd26c9dba0218d67c6eff0d122d3b997aac97a2c89d08946a04',\n",
              "       'be4c7ca3cc3465c194e1a8d181874e961e919fc9a4f19fab1ec356352e1f6c47dc8ac02907326b6b4c0cb3f56473a094fe5617cf8b783be9ac2a9e3b9e0c8d49',\n",
              "       '49c1e6176dc5f9eb893ca871ddf95a2557a56fc96e33ff291cf3bef7196f7f5b6b1755c3de552983f3b6f1956c61707fedb6d1ae5642116570c6c063f176088b',\n",
              "       'e92a50b2ea775f6aecf0648513c8864673b55eeb1b91d3ffa64a74a6ad123c9fbb010c15f92bf49ecb4c1e2c87d4bd5e3d94bf69325c0087c9eb65a4df696cdc',\n",
              "       '6b6f5ceb4053bfbb3483fb453231caa94ff2351bde4c9d2e9398184ae92621933b7fcecb831289f93a18d8579f23ff5dbae1e25a1bad7dc5f53ee64f45492640'],\n",
              "      dtype='object', name='CRASH_RECORD_ID', length=79419)"
            ]
          },
          "execution_count": 247,
          "metadata": {},
          "output_type": "execute_result"
        }
      ],
      "source": [
        "# Get the unique indices\n",
        "groups = veh_crsh_ppl.index.unique()\n",
        "groups"
      ]
    },
    {
      "cell_type": "code",
      "execution_count": 248,
      "id": "4b725f2a",
      "metadata": {
        "colab": {
          "base_uri": "https://localhost:8080/",
          "height": 349
        },
        "execution": {
          "iopub.execute_input": "2023-04-22T07:25:04.993704Z",
          "iopub.status.busy": "2023-04-22T07:25:04.993216Z",
          "iopub.status.idle": "2023-04-22T07:25:05.017885Z",
          "shell.execute_reply": "2023-04-22T07:25:05.016678Z"
        },
        "id": "4b725f2a",
        "outputId": "9b64c5fa-6a5e-4cbc-d5cb-9056f0ab2897",
        "papermill": {
          "duration": 0.179275,
          "end_time": "2023-04-22T07:25:05.020896",
          "exception": false,
          "start_time": "2023-04-22T07:25:04.841621",
          "status": "completed"
        },
        "tags": []
      },
      "outputs": [
        {
          "name": "stdout",
          "output_type": "stream",
          "text": [
            "(341011, 31)\n"
          ]
        },
        {
          "data": {
            "text/html": [
              "\n",
              "  <div id=\"df-59dc829c-f518-4b01-8e9e-0509683dde26\">\n",
              "    <div class=\"colab-df-container\">\n",
              "      <div>\n",
              "<style scoped>\n",
              "    .dataframe tbody tr th:only-of-type {\n",
              "        vertical-align: middle;\n",
              "    }\n",
              "\n",
              "    .dataframe tbody tr th {\n",
              "        vertical-align: top;\n",
              "    }\n",
              "\n",
              "    .dataframe thead th {\n",
              "        text-align: right;\n",
              "    }\n",
              "</style>\n",
              "<table border=\"1\" class=\"dataframe\">\n",
              "  <thead>\n",
              "    <tr style=\"text-align: right;\">\n",
              "      <th></th>\n",
              "      <th>CRASH_YEAR</th>\n",
              "      <th>POSTED_SPEED_LIMIT</th>\n",
              "      <th>DEVICE_CONDITION</th>\n",
              "      <th>WEATHER_CONDITION</th>\n",
              "      <th>LIGHTING_CONDITION</th>\n",
              "      <th>INTERSECTION_RELATED_I</th>\n",
              "      <th>ROAD_DEFECT</th>\n",
              "      <th>PRIM_CONTRIBUTORY_CAUSE</th>\n",
              "      <th>NUM_UNITS</th>\n",
              "      <th>WORK_ZONE_I</th>\n",
              "      <th>...</th>\n",
              "      <th>VEHICLE_DEFECT_I</th>\n",
              "      <th>OCCUPANT_CAT</th>\n",
              "      <th>PERSON_TYPE</th>\n",
              "      <th>AGE</th>\n",
              "      <th>SAFETY_EQUIPMENT</th>\n",
              "      <th>INJURY_CLASSIFICATION</th>\n",
              "      <th>DRIVER_ACTION</th>\n",
              "      <th>DRIVER_VISION</th>\n",
              "      <th>PHYSICAL_CONDITION</th>\n",
              "      <th>PEDPEDAL_ACTION</th>\n",
              "    </tr>\n",
              "    <tr>\n",
              "      <th>CRASH_RECORD_ID</th>\n",
              "      <th></th>\n",
              "      <th></th>\n",
              "      <th></th>\n",
              "      <th></th>\n",
              "      <th></th>\n",
              "      <th></th>\n",
              "      <th></th>\n",
              "      <th></th>\n",
              "      <th></th>\n",
              "      <th></th>\n",
              "      <th></th>\n",
              "      <th></th>\n",
              "      <th></th>\n",
              "      <th></th>\n",
              "      <th></th>\n",
              "      <th></th>\n",
              "      <th></th>\n",
              "      <th></th>\n",
              "      <th></th>\n",
              "      <th></th>\n",
              "      <th></th>\n",
              "    </tr>\n",
              "  </thead>\n",
              "  <tbody>\n",
              "    <tr>\n",
              "      <th>79c7a2ce89f446262efd86df3d72d18b04ba487024b7c42d58be7bc0ee3b2779be1916679231382b4a4bfe14200bd305d9c6feb7cd70839f863dd944b040212d</th>\n",
              "      <td>2019</td>\n",
              "      <td>30</td>\n",
              "      <td>0</td>\n",
              "      <td>0</td>\n",
              "      <td>0</td>\n",
              "      <td>0</td>\n",
              "      <td>0</td>\n",
              "      <td>0</td>\n",
              "      <td>2</td>\n",
              "      <td>0</td>\n",
              "      <td>...</td>\n",
              "      <td>0</td>\n",
              "      <td>0</td>\n",
              "      <td>0</td>\n",
              "      <td>27.0</td>\n",
              "      <td>0</td>\n",
              "      <td>0</td>\n",
              "      <td>0</td>\n",
              "      <td>0</td>\n",
              "      <td>0</td>\n",
              "      <td>0</td>\n",
              "    </tr>\n",
              "    <tr>\n",
              "      <th>79c7a2ce89f446262efd86df3d72d18b04ba487024b7c42d58be7bc0ee3b2779be1916679231382b4a4bfe14200bd305d9c6feb7cd70839f863dd944b040212d</th>\n",
              "      <td>2019</td>\n",
              "      <td>30</td>\n",
              "      <td>0</td>\n",
              "      <td>0</td>\n",
              "      <td>0</td>\n",
              "      <td>0</td>\n",
              "      <td>0</td>\n",
              "      <td>0</td>\n",
              "      <td>2</td>\n",
              "      <td>0</td>\n",
              "      <td>...</td>\n",
              "      <td>0</td>\n",
              "      <td>0</td>\n",
              "      <td>1</td>\n",
              "      <td>22.0</td>\n",
              "      <td>0</td>\n",
              "      <td>1</td>\n",
              "      <td>1</td>\n",
              "      <td>1</td>\n",
              "      <td>1</td>\n",
              "      <td>1</td>\n",
              "    </tr>\n",
              "    <tr>\n",
              "      <th>79c7a2ce89f446262efd86df3d72d18b04ba487024b7c42d58be7bc0ee3b2779be1916679231382b4a4bfe14200bd305d9c6feb7cd70839f863dd944b040212d</th>\n",
              "      <td>2019</td>\n",
              "      <td>30</td>\n",
              "      <td>0</td>\n",
              "      <td>0</td>\n",
              "      <td>0</td>\n",
              "      <td>0</td>\n",
              "      <td>0</td>\n",
              "      <td>0</td>\n",
              "      <td>2</td>\n",
              "      <td>0</td>\n",
              "      <td>...</td>\n",
              "      <td>0</td>\n",
              "      <td>0</td>\n",
              "      <td>1</td>\n",
              "      <td>56.0</td>\n",
              "      <td>0</td>\n",
              "      <td>0</td>\n",
              "      <td>2</td>\n",
              "      <td>2</td>\n",
              "      <td>1</td>\n",
              "      <td>1</td>\n",
              "    </tr>\n",
              "    <tr>\n",
              "      <th>79c7a2ce89f446262efd86df3d72d18b04ba487024b7c42d58be7bc0ee3b2779be1916679231382b4a4bfe14200bd305d9c6feb7cd70839f863dd944b040212d</th>\n",
              "      <td>2019</td>\n",
              "      <td>30</td>\n",
              "      <td>0</td>\n",
              "      <td>0</td>\n",
              "      <td>0</td>\n",
              "      <td>0</td>\n",
              "      <td>0</td>\n",
              "      <td>0</td>\n",
              "      <td>2</td>\n",
              "      <td>0</td>\n",
              "      <td>...</td>\n",
              "      <td>0</td>\n",
              "      <td>0</td>\n",
              "      <td>0</td>\n",
              "      <td>27.0</td>\n",
              "      <td>0</td>\n",
              "      <td>0</td>\n",
              "      <td>0</td>\n",
              "      <td>0</td>\n",
              "      <td>0</td>\n",
              "      <td>0</td>\n",
              "    </tr>\n",
              "    <tr>\n",
              "      <th>79c7a2ce89f446262efd86df3d72d18b04ba487024b7c42d58be7bc0ee3b2779be1916679231382b4a4bfe14200bd305d9c6feb7cd70839f863dd944b040212d</th>\n",
              "      <td>2019</td>\n",
              "      <td>30</td>\n",
              "      <td>0</td>\n",
              "      <td>0</td>\n",
              "      <td>0</td>\n",
              "      <td>0</td>\n",
              "      <td>0</td>\n",
              "      <td>0</td>\n",
              "      <td>2</td>\n",
              "      <td>0</td>\n",
              "      <td>...</td>\n",
              "      <td>0</td>\n",
              "      <td>0</td>\n",
              "      <td>1</td>\n",
              "      <td>22.0</td>\n",
              "      <td>0</td>\n",
              "      <td>1</td>\n",
              "      <td>1</td>\n",
              "      <td>1</td>\n",
              "      <td>1</td>\n",
              "      <td>1</td>\n",
              "    </tr>\n",
              "  </tbody>\n",
              "</table>\n",
              "<p>5 rows × 31 columns</p>\n",
              "</div>\n",
              "      <button class=\"colab-df-convert\" onclick=\"convertToInteractive('df-59dc829c-f518-4b01-8e9e-0509683dde26')\"\n",
              "              title=\"Convert this dataframe to an interactive table.\"\n",
              "              style=\"display:none;\">\n",
              "        \n",
              "  <svg xmlns=\"http://www.w3.org/2000/svg\" height=\"24px\"viewBox=\"0 0 24 24\"\n",
              "       width=\"24px\">\n",
              "    <path d=\"M0 0h24v24H0V0z\" fill=\"none\"/>\n",
              "    <path d=\"M18.56 5.44l.94 2.06.94-2.06 2.06-.94-2.06-.94-.94-2.06-.94 2.06-2.06.94zm-11 1L8.5 8.5l.94-2.06 2.06-.94-2.06-.94L8.5 2.5l-.94 2.06-2.06.94zm10 10l.94 2.06.94-2.06 2.06-.94-2.06-.94-.94-2.06-.94 2.06-2.06.94z\"/><path d=\"M17.41 7.96l-1.37-1.37c-.4-.4-.92-.59-1.43-.59-.52 0-1.04.2-1.43.59L10.3 9.45l-7.72 7.72c-.78.78-.78 2.05 0 2.83L4 21.41c.39.39.9.59 1.41.59.51 0 1.02-.2 1.41-.59l7.78-7.78 2.81-2.81c.8-.78.8-2.07 0-2.86zM5.41 20L4 18.59l7.72-7.72 1.47 1.35L5.41 20z\"/>\n",
              "  </svg>\n",
              "      </button>\n",
              "      \n",
              "  <style>\n",
              "    .colab-df-container {\n",
              "      display:flex;\n",
              "      flex-wrap:wrap;\n",
              "      gap: 12px;\n",
              "    }\n",
              "\n",
              "    .colab-df-convert {\n",
              "      background-color: #E8F0FE;\n",
              "      border: none;\n",
              "      border-radius: 50%;\n",
              "      cursor: pointer;\n",
              "      display: none;\n",
              "      fill: #1967D2;\n",
              "      height: 32px;\n",
              "      padding: 0 0 0 0;\n",
              "      width: 32px;\n",
              "    }\n",
              "\n",
              "    .colab-df-convert:hover {\n",
              "      background-color: #E2EBFA;\n",
              "      box-shadow: 0px 1px 2px rgba(60, 64, 67, 0.3), 0px 1px 3px 1px rgba(60, 64, 67, 0.15);\n",
              "      fill: #174EA6;\n",
              "    }\n",
              "\n",
              "    [theme=dark] .colab-df-convert {\n",
              "      background-color: #3B4455;\n",
              "      fill: #D2E3FC;\n",
              "    }\n",
              "\n",
              "    [theme=dark] .colab-df-convert:hover {\n",
              "      background-color: #434B5C;\n",
              "      box-shadow: 0px 1px 3px 1px rgba(0, 0, 0, 0.15);\n",
              "      filter: drop-shadow(0px 1px 2px rgba(0, 0, 0, 0.3));\n",
              "      fill: #FFFFFF;\n",
              "    }\n",
              "  </style>\n",
              "\n",
              "      <script>\n",
              "        const buttonEl =\n",
              "          document.querySelector('#df-59dc829c-f518-4b01-8e9e-0509683dde26 button.colab-df-convert');\n",
              "        buttonEl.style.display =\n",
              "          google.colab.kernel.accessAllowed ? 'block' : 'none';\n",
              "\n",
              "        async function convertToInteractive(key) {\n",
              "          const element = document.querySelector('#df-59dc829c-f518-4b01-8e9e-0509683dde26');\n",
              "          const dataTable =\n",
              "            await google.colab.kernel.invokeFunction('convertToInteractive',\n",
              "                                                     [key], {});\n",
              "          if (!dataTable) return;\n",
              "\n",
              "          const docLinkHtml = 'Like what you see? Visit the ' +\n",
              "            '<a target=\"_blank\" href=https://colab.research.google.com/notebooks/data_table.ipynb>data table notebook</a>'\n",
              "            + ' to learn more about interactive tables.';\n",
              "          element.innerHTML = '';\n",
              "          dataTable['output_type'] = 'display_data';\n",
              "          await google.colab.output.renderOutput(dataTable, element);\n",
              "          const docLink = document.createElement('div');\n",
              "          docLink.innerHTML = docLinkHtml;\n",
              "          element.appendChild(docLink);\n",
              "        }\n",
              "      </script>\n",
              "    </div>\n",
              "  </div>\n",
              "  "
            ],
            "text/plain": [
              "                                                    CRASH_YEAR  \\\n",
              "CRASH_RECORD_ID                                                  \n",
              "79c7a2ce89f446262efd86df3d72d18b04ba487024b7c42...        2019   \n",
              "79c7a2ce89f446262efd86df3d72d18b04ba487024b7c42...        2019   \n",
              "79c7a2ce89f446262efd86df3d72d18b04ba487024b7c42...        2019   \n",
              "79c7a2ce89f446262efd86df3d72d18b04ba487024b7c42...        2019   \n",
              "79c7a2ce89f446262efd86df3d72d18b04ba487024b7c42...        2019   \n",
              "\n",
              "                                                    POSTED_SPEED_LIMIT  \\\n",
              "CRASH_RECORD_ID                                                          \n",
              "79c7a2ce89f446262efd86df3d72d18b04ba487024b7c42...                  30   \n",
              "79c7a2ce89f446262efd86df3d72d18b04ba487024b7c42...                  30   \n",
              "79c7a2ce89f446262efd86df3d72d18b04ba487024b7c42...                  30   \n",
              "79c7a2ce89f446262efd86df3d72d18b04ba487024b7c42...                  30   \n",
              "79c7a2ce89f446262efd86df3d72d18b04ba487024b7c42...                  30   \n",
              "\n",
              "                                                    DEVICE_CONDITION  \\\n",
              "CRASH_RECORD_ID                                                        \n",
              "79c7a2ce89f446262efd86df3d72d18b04ba487024b7c42...                 0   \n",
              "79c7a2ce89f446262efd86df3d72d18b04ba487024b7c42...                 0   \n",
              "79c7a2ce89f446262efd86df3d72d18b04ba487024b7c42...                 0   \n",
              "79c7a2ce89f446262efd86df3d72d18b04ba487024b7c42...                 0   \n",
              "79c7a2ce89f446262efd86df3d72d18b04ba487024b7c42...                 0   \n",
              "\n",
              "                                                    WEATHER_CONDITION  \\\n",
              "CRASH_RECORD_ID                                                         \n",
              "79c7a2ce89f446262efd86df3d72d18b04ba487024b7c42...                  0   \n",
              "79c7a2ce89f446262efd86df3d72d18b04ba487024b7c42...                  0   \n",
              "79c7a2ce89f446262efd86df3d72d18b04ba487024b7c42...                  0   \n",
              "79c7a2ce89f446262efd86df3d72d18b04ba487024b7c42...                  0   \n",
              "79c7a2ce89f446262efd86df3d72d18b04ba487024b7c42...                  0   \n",
              "\n",
              "                                                    LIGHTING_CONDITION  \\\n",
              "CRASH_RECORD_ID                                                          \n",
              "79c7a2ce89f446262efd86df3d72d18b04ba487024b7c42...                   0   \n",
              "79c7a2ce89f446262efd86df3d72d18b04ba487024b7c42...                   0   \n",
              "79c7a2ce89f446262efd86df3d72d18b04ba487024b7c42...                   0   \n",
              "79c7a2ce89f446262efd86df3d72d18b04ba487024b7c42...                   0   \n",
              "79c7a2ce89f446262efd86df3d72d18b04ba487024b7c42...                   0   \n",
              "\n",
              "                                                    INTERSECTION_RELATED_I  \\\n",
              "CRASH_RECORD_ID                                                              \n",
              "79c7a2ce89f446262efd86df3d72d18b04ba487024b7c42...                       0   \n",
              "79c7a2ce89f446262efd86df3d72d18b04ba487024b7c42...                       0   \n",
              "79c7a2ce89f446262efd86df3d72d18b04ba487024b7c42...                       0   \n",
              "79c7a2ce89f446262efd86df3d72d18b04ba487024b7c42...                       0   \n",
              "79c7a2ce89f446262efd86df3d72d18b04ba487024b7c42...                       0   \n",
              "\n",
              "                                                    ROAD_DEFECT  \\\n",
              "CRASH_RECORD_ID                                                   \n",
              "79c7a2ce89f446262efd86df3d72d18b04ba487024b7c42...            0   \n",
              "79c7a2ce89f446262efd86df3d72d18b04ba487024b7c42...            0   \n",
              "79c7a2ce89f446262efd86df3d72d18b04ba487024b7c42...            0   \n",
              "79c7a2ce89f446262efd86df3d72d18b04ba487024b7c42...            0   \n",
              "79c7a2ce89f446262efd86df3d72d18b04ba487024b7c42...            0   \n",
              "\n",
              "                                                    PRIM_CONTRIBUTORY_CAUSE  \\\n",
              "CRASH_RECORD_ID                                                               \n",
              "79c7a2ce89f446262efd86df3d72d18b04ba487024b7c42...                        0   \n",
              "79c7a2ce89f446262efd86df3d72d18b04ba487024b7c42...                        0   \n",
              "79c7a2ce89f446262efd86df3d72d18b04ba487024b7c42...                        0   \n",
              "79c7a2ce89f446262efd86df3d72d18b04ba487024b7c42...                        0   \n",
              "79c7a2ce89f446262efd86df3d72d18b04ba487024b7c42...                        0   \n",
              "\n",
              "                                                    NUM_UNITS  WORK_ZONE_I  \\\n",
              "CRASH_RECORD_ID                                                              \n",
              "79c7a2ce89f446262efd86df3d72d18b04ba487024b7c42...          2            0   \n",
              "79c7a2ce89f446262efd86df3d72d18b04ba487024b7c42...          2            0   \n",
              "79c7a2ce89f446262efd86df3d72d18b04ba487024b7c42...          2            0   \n",
              "79c7a2ce89f446262efd86df3d72d18b04ba487024b7c42...          2            0   \n",
              "79c7a2ce89f446262efd86df3d72d18b04ba487024b7c42...          2            0   \n",
              "\n",
              "                                                    ...  VEHICLE_DEFECT_I  \\\n",
              "CRASH_RECORD_ID                                     ...                     \n",
              "79c7a2ce89f446262efd86df3d72d18b04ba487024b7c42...  ...                 0   \n",
              "79c7a2ce89f446262efd86df3d72d18b04ba487024b7c42...  ...                 0   \n",
              "79c7a2ce89f446262efd86df3d72d18b04ba487024b7c42...  ...                 0   \n",
              "79c7a2ce89f446262efd86df3d72d18b04ba487024b7c42...  ...                 0   \n",
              "79c7a2ce89f446262efd86df3d72d18b04ba487024b7c42...  ...                 0   \n",
              "\n",
              "                                                    OCCUPANT_CAT  PERSON_TYPE  \\\n",
              "CRASH_RECORD_ID                                                                 \n",
              "79c7a2ce89f446262efd86df3d72d18b04ba487024b7c42...             0            0   \n",
              "79c7a2ce89f446262efd86df3d72d18b04ba487024b7c42...             0            1   \n",
              "79c7a2ce89f446262efd86df3d72d18b04ba487024b7c42...             0            1   \n",
              "79c7a2ce89f446262efd86df3d72d18b04ba487024b7c42...             0            0   \n",
              "79c7a2ce89f446262efd86df3d72d18b04ba487024b7c42...             0            1   \n",
              "\n",
              "                                                     AGE  SAFETY_EQUIPMENT  \\\n",
              "CRASH_RECORD_ID                                                              \n",
              "79c7a2ce89f446262efd86df3d72d18b04ba487024b7c42...  27.0                 0   \n",
              "79c7a2ce89f446262efd86df3d72d18b04ba487024b7c42...  22.0                 0   \n",
              "79c7a2ce89f446262efd86df3d72d18b04ba487024b7c42...  56.0                 0   \n",
              "79c7a2ce89f446262efd86df3d72d18b04ba487024b7c42...  27.0                 0   \n",
              "79c7a2ce89f446262efd86df3d72d18b04ba487024b7c42...  22.0                 0   \n",
              "\n",
              "                                                    INJURY_CLASSIFICATION  \\\n",
              "CRASH_RECORD_ID                                                             \n",
              "79c7a2ce89f446262efd86df3d72d18b04ba487024b7c42...                      0   \n",
              "79c7a2ce89f446262efd86df3d72d18b04ba487024b7c42...                      1   \n",
              "79c7a2ce89f446262efd86df3d72d18b04ba487024b7c42...                      0   \n",
              "79c7a2ce89f446262efd86df3d72d18b04ba487024b7c42...                      0   \n",
              "79c7a2ce89f446262efd86df3d72d18b04ba487024b7c42...                      1   \n",
              "\n",
              "                                                    DRIVER_ACTION  \\\n",
              "CRASH_RECORD_ID                                                     \n",
              "79c7a2ce89f446262efd86df3d72d18b04ba487024b7c42...              0   \n",
              "79c7a2ce89f446262efd86df3d72d18b04ba487024b7c42...              1   \n",
              "79c7a2ce89f446262efd86df3d72d18b04ba487024b7c42...              2   \n",
              "79c7a2ce89f446262efd86df3d72d18b04ba487024b7c42...              0   \n",
              "79c7a2ce89f446262efd86df3d72d18b04ba487024b7c42...              1   \n",
              "\n",
              "                                                    DRIVER_VISION  \\\n",
              "CRASH_RECORD_ID                                                     \n",
              "79c7a2ce89f446262efd86df3d72d18b04ba487024b7c42...              0   \n",
              "79c7a2ce89f446262efd86df3d72d18b04ba487024b7c42...              1   \n",
              "79c7a2ce89f446262efd86df3d72d18b04ba487024b7c42...              2   \n",
              "79c7a2ce89f446262efd86df3d72d18b04ba487024b7c42...              0   \n",
              "79c7a2ce89f446262efd86df3d72d18b04ba487024b7c42...              1   \n",
              "\n",
              "                                                    PHYSICAL_CONDITION  \\\n",
              "CRASH_RECORD_ID                                                          \n",
              "79c7a2ce89f446262efd86df3d72d18b04ba487024b7c42...                   0   \n",
              "79c7a2ce89f446262efd86df3d72d18b04ba487024b7c42...                   1   \n",
              "79c7a2ce89f446262efd86df3d72d18b04ba487024b7c42...                   1   \n",
              "79c7a2ce89f446262efd86df3d72d18b04ba487024b7c42...                   0   \n",
              "79c7a2ce89f446262efd86df3d72d18b04ba487024b7c42...                   1   \n",
              "\n",
              "                                                    PEDPEDAL_ACTION  \n",
              "CRASH_RECORD_ID                                                      \n",
              "79c7a2ce89f446262efd86df3d72d18b04ba487024b7c42...                0  \n",
              "79c7a2ce89f446262efd86df3d72d18b04ba487024b7c42...                1  \n",
              "79c7a2ce89f446262efd86df3d72d18b04ba487024b7c42...                1  \n",
              "79c7a2ce89f446262efd86df3d72d18b04ba487024b7c42...                0  \n",
              "79c7a2ce89f446262efd86df3d72d18b04ba487024b7c42...                1  \n",
              "\n",
              "[5 rows x 31 columns]"
            ]
          },
          "execution_count": 248,
          "metadata": {},
          "output_type": "execute_result"
        }
      ],
      "source": [
        "# checking the shape and final result\n",
        "print(veh_crsh_ppl.shape)\n",
        "veh_crsh_ppl.head()"
      ]
    },
    {
      "cell_type": "markdown",
      "id": "9b3294f0",
      "metadata": {
        "id": "9b3294f0",
        "papermill": {
          "duration": 0.151959,
          "end_time": "2023-04-22T07:25:05.318387",
          "exception": false,
          "start_time": "2023-04-22T07:25:05.166428",
          "status": "completed"
        },
        "tags": []
      },
      "source": [
        "## Modeling and Evaluation"
      ]
    },
    {
      "cell_type": "markdown",
      "id": "93a26934",
      "metadata": {
        "id": "93a26934"
      },
      "source": [
        "Now we will split our datasets into X and y sets to use for modeling. Before we can start modeling, we still need to deal with the imbalance of the datsets which we will do after splitting int train and test sets to avoid data leakage."
      ]
    },
    {
      "cell_type": "code",
      "execution_count": 249,
      "id": "6c7e510f",
      "metadata": {
        "execution": {
          "iopub.execute_input": "2023-04-22T07:25:05.621943Z",
          "iopub.status.busy": "2023-04-22T07:25:05.621226Z",
          "iopub.status.idle": "2023-04-22T07:25:06.212956Z",
          "shell.execute_reply": "2023-04-22T07:25:06.211777Z"
        },
        "id": "6c7e510f",
        "papermill": {
          "duration": 0.746384,
          "end_time": "2023-04-22T07:25:06.216019",
          "exception": false,
          "start_time": "2023-04-22T07:25:05.469635",
          "status": "completed"
        },
        "tags": []
      },
      "outputs": [],
      "source": [
        "#split into X and y\n",
        "X = veh_crsh_ppl.drop('PRIM_CONTRIBUTORY_CAUSE',axis=1)\n",
        "y = veh_crsh_ppl['PRIM_CONTRIBUTORY_CAUSE']\n",
        "\n",
        "Xu = u_veh_crsh_ppl.drop('PRIM_CONTRIBUTORY_CAUSE',axis=1)"
      ]
    },
    {
      "cell_type": "code",
      "execution_count": 250,
      "id": "e5e2cc49",
      "metadata": {
        "id": "e5e2cc49"
      },
      "outputs": [],
      "source": [
        "from sklearn.model_selection import GroupShuffleSplit"
      ]
    },
    {
      "cell_type": "markdown",
      "id": "b26e18b0",
      "metadata": {
        "id": "b26e18b0"
      },
      "source": [
        "Since we want to keep the records associated with the same crash together, we will use the Group Shuffle Split method to keep these together."
      ]
    },
    {
      "cell_type": "code",
      "execution_count": 251,
      "id": "ea98a988",
      "metadata": {
        "id": "ea98a988"
      },
      "outputs": [],
      "source": [
        "# Split the indices into train and test sets\n",
        "group_splitter = GroupShuffleSplit(n_splits=1, test_size=0.2, random_state=42)\n",
        "train_idx, test_idx = next(group_splitter.split(X=X, groups=X.index))\n",
        "\n",
        "# Get the data for the train and test sets\n",
        "X_train = X.loc[X.index.isin(X.index[train_idx])]\n",
        "y_train = y.loc[y.index.isin(X.index[train_idx])]\n",
        "\n",
        "X_test = X.loc[X.index.isin(X.index[test_idx])]\n",
        "y_test = y.loc[y.index.isin(X.index[test_idx])]"
      ]
    },
    {
      "cell_type": "code",
      "execution_count": 252,
      "id": "b3fd3eb3",
      "metadata": {
        "colab": {
          "base_uri": "https://localhost:8080/"
        },
        "id": "b3fd3eb3",
        "outputId": "ee1a6bf4-d36c-4a2c-ff0b-dcadc900807b"
      },
      "outputs": [
        {
          "name": "stdout",
          "output_type": "stream",
          "text": [
            "<class 'pandas.core.frame.DataFrame'>\n",
            "Index: 272943 entries, 798cc771c20c11dcc335369c87eb8458964dd30b94bd00498f0b30ccb8d4f78f9bfa9aaad56ed7629ae75c6cf10451b31582783285f24e17bd9aef61805c9907 to e92a50b2ea775f6aecf0648513c8864673b55eeb1b91d3ffa64a74a6ad123c9fbb010c15f92bf49ecb4c1e2c87d4bd5e3d94bf69325c0087c9eb65a4df696cdc\n",
            "Data columns (total 30 columns):\n",
            " #   Column                  Non-Null Count   Dtype  \n",
            "---  ------                  --------------   -----  \n",
            " 0   CRASH_YEAR              272943 non-null  int64  \n",
            " 1   POSTED_SPEED_LIMIT      272943 non-null  int64  \n",
            " 2   DEVICE_CONDITION        272943 non-null  int64  \n",
            " 3   WEATHER_CONDITION       272943 non-null  int64  \n",
            " 4   LIGHTING_CONDITION      272943 non-null  int64  \n",
            " 5   INTERSECTION_RELATED_I  272943 non-null  int64  \n",
            " 6   ROAD_DEFECT             272943 non-null  int64  \n",
            " 7   NUM_UNITS               272943 non-null  int64  \n",
            " 8   WORK_ZONE_I             272943 non-null  int64  \n",
            " 9   WORKERS_PRESENT_I       272943 non-null  int64  \n",
            " 10  INJURIES_TOTAL          272943 non-null  float64\n",
            " 11  INJURIES_FATAL          272943 non-null  float64\n",
            " 12  CRASH_HOUR              272943 non-null  int64  \n",
            " 13  CRASH_DAY_OF_WEEK       272943 non-null  int64  \n",
            " 14  CRASH_MONTH             272943 non-null  int64  \n",
            " 15  LATITUDE                272943 non-null  float64\n",
            " 16  LONGITUDE               272943 non-null  float64\n",
            " 17  VEHICLE_TYPE            272943 non-null  int64  \n",
            " 18  MANEUVER                272943 non-null  int64  \n",
            " 19  FIRST_CONTACT_POINT     272943 non-null  int64  \n",
            " 20  VEHICLE_DEFECT_I        272943 non-null  int64  \n",
            " 21  OCCUPANT_CAT            272943 non-null  int64  \n",
            " 22  PERSON_TYPE             272943 non-null  int64  \n",
            " 23  AGE                     272943 non-null  float64\n",
            " 24  SAFETY_EQUIPMENT        272943 non-null  int64  \n",
            " 25  INJURY_CLASSIFICATION   272943 non-null  int64  \n",
            " 26  DRIVER_ACTION           272943 non-null  int64  \n",
            " 27  DRIVER_VISION           272943 non-null  int64  \n",
            " 28  PHYSICAL_CONDITION      272943 non-null  int64  \n",
            " 29  PEDPEDAL_ACTION         272943 non-null  int64  \n",
            "dtypes: float64(5), int64(25)\n",
            "memory usage: 64.6+ MB\n"
          ]
        }
      ],
      "source": [
        "X_train.info()"
      ]
    },
    {
      "cell_type": "markdown",
      "id": "904fcf25",
      "metadata": {
        "id": "904fcf25"
      },
      "source": [
        "Since we have converted all of our data to numerical formaat, it wuld be helpful to scale the dataset so thaat all of it is on the saame scale and normalized. This way no single column with a lot of categories or columns that have higgh integer value data would bias the model into a poor performance."
      ]
    },
    {
      "cell_type": "markdown",
      "id": "17ce91a6",
      "metadata": {
        "id": "17ce91a6"
      },
      "source": [
        "We will use standard scaler because itwill normalize our dataset, take care of outliers and be helpful to any gradient descent algorithms we waant to use."
      ]
    },
    {
      "cell_type": "code",
      "execution_count": 253,
      "id": "4e39ca68",
      "metadata": {
        "id": "4e39ca68"
      },
      "outputs": [],
      "source": [
        "# Scale the data to ensure that all features have the same range of values\n",
        "scaler = StandardScaler()\n",
        "X_train_scaled = scaler.fit_transform(X_train)\n",
        "X_test_scaled = scaler.transform(X_test)\n",
        "\n",
        "scaler_u = StandardScaler()\n",
        "Xu_scaled = scaler_u.fit_transform(Xu)"
      ]
    },
    {
      "cell_type": "code",
      "execution_count": 254,
      "id": "579a4126",
      "metadata": {
        "id": "579a4126"
      },
      "outputs": [],
      "source": [
        "# Convert X_train_scaled back to a DataFrame\n",
        "X_train_scaled_df = pd.DataFrame(X_train_scaled, columns=X_train.columns, index=X_train.index)\n",
        "\n",
        "# Convert X_test_scaled back to a DataFrame\n",
        "X_test_scaled_df = pd.DataFrame(X_test_scaled, columns=X_test.columns, index=X_test.index)\n",
        "\n",
        "\n",
        "Xu_train_scaled_df = pd.DataFrame(Xu_scaled, columns=Xu.columns)"
      ]
    },
    {
      "cell_type": "markdown",
      "id": "50b80fe0",
      "metadata": {
        "id": "50b80fe0",
        "papermill": {
          "duration": 0.146698,
          "end_time": "2023-04-22T07:25:06.825481",
          "exception": false,
          "start_time": "2023-04-22T07:25:06.678783",
          "status": "completed"
        },
        "tags": []
      },
      "source": [
        "### Random under Sampling"
      ]
    },
    {
      "cell_type": "markdown",
      "id": "3840b0c0",
      "metadata": {
        "id": "3840b0c0"
      },
      "source": [
        "Now, we want to undersample the data to deal with the imabalnce in our dataset. Undersampling is a technique used to address the issue of imbalanced datasets. When the classes in a dataset are imbalanced, the model trained on this dataset may be biased towards the majority class and may have poor performance on the minority class. By undersampling, we reduce the number of instances of the majority class so that the number of instances in the majority class is more balanced with the number of instances in the minority class. This helps to reduce the bias towards the majority class and can lead to improved model performance on the minority class.\n",
        "\n",
        "We will use sampling_strategy=\"not minority\". This strategy will sample all classes equally, ensuring that the resulting dataset has the same number of records for each category."
      ]
    },
    {
      "cell_type": "code",
      "execution_count": 255,
      "id": "b03fb100",
      "metadata": {
        "execution": {
          "iopub.execute_input": "2023-04-22T07:25:07.118869Z",
          "iopub.status.busy": "2023-04-22T07:25:07.117984Z",
          "iopub.status.idle": "2023-04-22T07:25:07.123442Z",
          "shell.execute_reply": "2023-04-22T07:25:07.122136Z"
        },
        "id": "b03fb100",
        "papermill": {
          "duration": 0.156826,
          "end_time": "2023-04-22T07:25:07.126361",
          "exception": false,
          "start_time": "2023-04-22T07:25:06.969535",
          "status": "completed"
        },
        "tags": []
      },
      "outputs": [],
      "source": [
        "from imblearn.under_sampling import RandomUnderSampler\n",
        "from collections import Counter\n",
        "from imblearn.under_sampling import ClusterCentroids\n",
        "from imblearn.over_sampling import SMOTE\n",
        "from imblearn.under_sampling import RandomUnderSampler"
      ]
    },
    {
      "cell_type": "code",
      "execution_count": 256,
      "id": "12fc2e12",
      "metadata": {
        "id": "12fc2e12"
      },
      "outputs": [],
      "source": [
        "# undersample = RandomUnderSampler(sampling_strategy='majority')\n",
        "# oversample = SMOTE(sampling_strategy='auto', k_neighbors=5)\n",
        "\n",
        "# # Undersample the majority class\n",
        "# X_under, y_under = undersample.fit_resample(X_train_scaled_df, y_train)\n",
        "\n",
        "# # Oversample the minority classes\n",
        "# X3_resampled, y3_resampled = oversample.fit_resample(X_under, y_under)"
      ]
    },
    {
      "cell_type": "code",
      "execution_count": 257,
      "id": "a7eba2ec",
      "metadata": {
        "execution": {
          "iopub.execute_input": "2023-04-22T07:25:07.844665Z",
          "iopub.status.busy": "2023-04-22T07:25:07.843976Z",
          "iopub.status.idle": "2023-04-22T07:25:08.842703Z",
          "shell.execute_reply": "2023-04-22T07:25:08.841243Z"
        },
        "id": "a7eba2ec",
        "papermill": {
          "duration": 1.154577,
          "end_time": "2023-04-22T07:25:08.846723",
          "exception": false,
          "start_time": "2023-04-22T07:25:07.692146",
          "status": "completed"
        },
        "tags": []
      },
      "outputs": [],
      "source": [
        "# rus = RandomUnderSampler(sampling_strategy='not minority',random_state=42)\n",
        "# X1_train_scaled_resampled, y1_train_resampled = rus.fit_resample(X_train_scaled_df, y_train)"
      ]
    },
    {
      "cell_type": "code",
      "execution_count": 258,
      "id": "324b9459",
      "metadata": {
        "id": "324b9459"
      },
      "outputs": [],
      "source": [
        "# rus = RandomUnderSampler(sampling_strategy='majority',random_state=42)\n",
        "# X2_train_scaled_resampled, y2_train_resampled = rus.fit_resample(X_train_scaled_df, y_train)"
      ]
    },
    {
      "cell_type": "code",
      "execution_count": 259,
      "id": "6de6d043",
      "metadata": {
        "colab": {
          "base_uri": "https://localhost:8080/"
        },
        "id": "6de6d043",
        "outputId": "be8bc470-0791-47c8-a261-cc42b57fd2b1",
        "scrolled": true
      },
      "outputs": [
        {
          "data": {
            "text/plain": [
              "0    122981\n",
              "1    112637\n",
              "2     21721\n",
              "3     15604\n",
              "Name: PRIM_CONTRIBUTORY_CAUSE, dtype: int64"
            ]
          },
          "execution_count": 259,
          "metadata": {},
          "output_type": "execute_result"
        }
      ],
      "source": [
        "y_train.value_counts()"
      ]
    },
    {
      "cell_type": "code",
      "execution_count": 260,
      "id": "f17434b8",
      "metadata": {
        "colab": {
          "base_uri": "https://localhost:8080/"
        },
        "id": "f17434b8",
        "outputId": "4c5dc6ad-e976-4e1c-981e-14861bd0853f"
      },
      "outputs": [
        {
          "name": "stdout",
          "output_type": "stream",
          "text": [
            "122981 122981 1.0\n",
            "112637 122981 0.9158894463372391\n",
            "21721 122981 0.17662077881949245\n",
            "15604 122981 0.12688138818191427\n"
          ]
        }
      ],
      "source": [
        "y = max(y_train.value_counts())\n",
        "for x in y_train.value_counts():\n",
        "    print(x, y, x/y)\n",
        "\n"
      ]
    },
    {
      "cell_type": "code",
      "execution_count": 261,
      "id": "f0ac6224",
      "metadata": {
        "colab": {
          "base_uri": "https://localhost:8080/"
        },
        "id": "f0ac6224",
        "outputId": "2f4addbe-0414-4ab3-cf97-a5912296e0ef"
      },
      "outputs": [
        {
          "name": "stderr",
          "output_type": "stream",
          "text": [
            "/usr/local/lib/python3.10/dist-packages/imblearn/utils/_validation.py:313: UserWarning: After over-sampling, the number of samples (154368) in class 0 will be larger than the number of samples in the majority class (class #0 -> 122981)\n",
            "  warnings.warn(\n",
            "/usr/local/lib/python3.10/dist-packages/imblearn/utils/_validation.py:313: UserWarning: After over-sampling, the number of samples (142577) in class 1 will be larger than the number of samples in the majority class (class #0 -> 122981)\n",
            "  warnings.warn(\n"
          ]
        }
      ],
      "source": [
        "# Define the ratios for each class\n",
        "class_ratios = {0: 154368, 1: 142577, 2: 30000, 3: 30000}\n",
        "\n",
        "# Create the SMOTE object with the specified ratios\n",
        "oversample = SMOTE(sampling_strategy=class_ratios, k_neighbors=5)\n",
        "\n",
        "# Oversample the minority classes\n",
        "X1_train_scaled_resampled, y1_train_resampled = oversample.fit_resample(X_train_scaled_df, y_train)\n"
      ]
    },
    {
      "cell_type": "code",
      "execution_count": 262,
      "id": "ruKE0xq2FPO1",
      "metadata": {
        "id": "ruKE0xq2FPO1"
      },
      "outputs": [],
      "source": [
        "# define the undersampling ratio\n",
        "desired_samples = {0: 60000, 1: 60000, 2: 30000, 3: 30000}\n",
        "\n",
        "# instantiate the RandomUnderSampler\n",
        "under_sampler = RandomUnderSampler(sampling_strategy=desired_samples)\n",
        "\n",
        "# perform undersampling on the training data\n",
        "X_train_scaled_resampled, y_train_resampled = under_sampler.fit_resample(X1_train_scaled_resampled, y1_train_resampled)"
      ]
    },
    {
      "cell_type": "code",
      "execution_count": 263,
      "id": "8d8e9652",
      "metadata": {
        "colab": {
          "base_uri": "https://localhost:8080/"
        },
        "id": "8d8e9652",
        "outputId": "5ebd5bf7-ce77-4f82-eb79-f4395c596086"
      },
      "outputs": [
        {
          "data": {
            "text/plain": [
              "180000"
            ]
          },
          "execution_count": 263,
          "metadata": {},
          "output_type": "execute_result"
        }
      ],
      "source": [
        "len(X_train_scaled_resampled)"
      ]
    },
    {
      "cell_type": "code",
      "execution_count": 264,
      "id": "8da3636d",
      "metadata": {
        "colab": {
          "base_uri": "https://localhost:8080/"
        },
        "id": "8da3636d",
        "outputId": "75d036df-6573-4a46-e848-675d03d8074f"
      },
      "outputs": [
        {
          "data": {
            "text/plain": [
              "0    60000\n",
              "1    60000\n",
              "2    30000\n",
              "3    30000\n",
              "Name: PRIM_CONTRIBUTORY_CAUSE, dtype: int64"
            ]
          },
          "execution_count": 264,
          "metadata": {},
          "output_type": "execute_result"
        }
      ],
      "source": [
        "y_train_resampled.value_counts()"
      ]
    },
    {
      "cell_type": "code",
      "execution_count": 265,
      "id": "fc489a61",
      "metadata": {
        "id": "fc489a61"
      },
      "outputs": [],
      "source": [
        "# y1_train_resampled.value_counts()"
      ]
    },
    {
      "cell_type": "code",
      "execution_count": 266,
      "id": "ae7ae238",
      "metadata": {
        "id": "ae7ae238"
      },
      "outputs": [],
      "source": [
        "# y2_train_resampled.value_counts()"
      ]
    },
    {
      "cell_type": "code",
      "execution_count": 267,
      "id": "b5eac122",
      "metadata": {
        "id": "b5eac122"
      },
      "outputs": [],
      "source": [
        "# y3_resampled.value_counts()"
      ]
    },
    {
      "cell_type": "code",
      "execution_count": 268,
      "id": "9d298a0d",
      "metadata": {
        "colab": {
          "base_uri": "https://localhost:8080/"
        },
        "id": "9d298a0d",
        "outputId": "0e8ec9af-bc49-4d0a-cf86-13a0a7d93b8d"
      },
      "outputs": [
        {
          "name": "stdout",
          "output_type": "stream",
          "text": [
            "<class 'pandas.core.frame.DataFrame'>\n",
            "Index: 68068 entries, 79c7a2ce89f446262efd86df3d72d18b04ba487024b7c42d58be7bc0ee3b2779be1916679231382b4a4bfe14200bd305d9c6feb7cd70839f863dd944b040212d to 6b6f5ceb4053bfbb3483fb453231caa94ff2351bde4c9d2e9398184ae92621933b7fcecb831289f93a18d8579f23ff5dbae1e25a1bad7dc5f53ee64f45492640\n",
            "Data columns (total 30 columns):\n",
            " #   Column                  Non-Null Count  Dtype  \n",
            "---  ------                  --------------  -----  \n",
            " 0   CRASH_YEAR              68068 non-null  float64\n",
            " 1   POSTED_SPEED_LIMIT      68068 non-null  float64\n",
            " 2   DEVICE_CONDITION        68068 non-null  float64\n",
            " 3   WEATHER_CONDITION       68068 non-null  float64\n",
            " 4   LIGHTING_CONDITION      68068 non-null  float64\n",
            " 5   INTERSECTION_RELATED_I  68068 non-null  float64\n",
            " 6   ROAD_DEFECT             68068 non-null  float64\n",
            " 7   NUM_UNITS               68068 non-null  float64\n",
            " 8   WORK_ZONE_I             68068 non-null  float64\n",
            " 9   WORKERS_PRESENT_I       68068 non-null  float64\n",
            " 10  INJURIES_TOTAL          68068 non-null  float64\n",
            " 11  INJURIES_FATAL          68068 non-null  float64\n",
            " 12  CRASH_HOUR              68068 non-null  float64\n",
            " 13  CRASH_DAY_OF_WEEK       68068 non-null  float64\n",
            " 14  CRASH_MONTH             68068 non-null  float64\n",
            " 15  LATITUDE                68068 non-null  float64\n",
            " 16  LONGITUDE               68068 non-null  float64\n",
            " 17  VEHICLE_TYPE            68068 non-null  float64\n",
            " 18  MANEUVER                68068 non-null  float64\n",
            " 19  FIRST_CONTACT_POINT     68068 non-null  float64\n",
            " 20  VEHICLE_DEFECT_I        68068 non-null  float64\n",
            " 21  OCCUPANT_CAT            68068 non-null  float64\n",
            " 22  PERSON_TYPE             68068 non-null  float64\n",
            " 23  AGE                     68068 non-null  float64\n",
            " 24  SAFETY_EQUIPMENT        68068 non-null  float64\n",
            " 25  INJURY_CLASSIFICATION   68068 non-null  float64\n",
            " 26  DRIVER_ACTION           68068 non-null  float64\n",
            " 27  DRIVER_VISION           68068 non-null  float64\n",
            " 28  PHYSICAL_CONDITION      68068 non-null  float64\n",
            " 29  PEDPEDAL_ACTION         68068 non-null  float64\n",
            "dtypes: float64(30)\n",
            "memory usage: 16.1+ MB\n"
          ]
        }
      ],
      "source": [
        "X_test_scaled_df.info()"
      ]
    },
    {
      "cell_type": "markdown",
      "id": "8384fb56",
      "metadata": {
        "id": "8384fb56",
        "papermill": {
          "duration": 0.147535,
          "end_time": "2023-04-22T07:25:10.612442",
          "exception": false,
          "start_time": "2023-04-22T07:25:10.464907",
          "status": "completed"
        },
        "tags": []
      },
      "source": [
        "### Feature Selection"
      ]
    },
    {
      "cell_type": "markdown",
      "id": "6c9412f7",
      "metadata": {
        "id": "6c9412f7"
      },
      "source": [
        "With 30 different features, it will be computationally extremely expensive to model 200,000 records over 30 features. We will use feature selection thrugh the SelectKBest model using the Mutual information method. Mutual information measures the dependence between variables, and can be used to identify which variables have the most information about the target variable. It is a non-parametric method that does not assume a particular functional form of the relationship between the variables therefore we don't have to worry if the relationship between the target and the predictors is linear or not.\n",
        "\n",
        "Also this will help us identify the features provided us the most information about thee cause. This is one of the things thta Chicago DOT was trying to understand. Based on these features, the DOT can conduct further eexploratory analysis to understand where to make improvements. Therefore we will also save these feaatures for use further."
      ]
    },
    {
      "cell_type": "code",
      "execution_count": 269,
      "id": "1cb3a371",
      "metadata": {
        "execution": {
          "iopub.execute_input": "2023-04-22T07:25:10.905346Z",
          "iopub.status.busy": "2023-04-22T07:25:10.904925Z",
          "iopub.status.idle": "2023-04-22T07:25:10.911506Z",
          "shell.execute_reply": "2023-04-22T07:25:10.909868Z"
        },
        "id": "1cb3a371",
        "papermill": {
          "duration": 0.159571,
          "end_time": "2023-04-22T07:25:10.914618",
          "exception": false,
          "start_time": "2023-04-22T07:25:10.755047",
          "status": "completed"
        },
        "tags": []
      },
      "outputs": [],
      "source": [
        "import pandas as pd\n",
        "from sklearn.feature_selection import SelectKBest\n",
        "from sklearn.feature_selection import chi2\n",
        "from sklearn.feature_selection import mutual_info_classif"
      ]
    },
    {
      "cell_type": "code",
      "execution_count": 270,
      "id": "65cc9e75",
      "metadata": {
        "colab": {
          "base_uri": "https://localhost:8080/",
          "height": 363
        },
        "execution": {
          "iopub.execute_input": "2023-04-22T07:25:11.220675Z",
          "iopub.status.busy": "2023-04-22T07:25:11.219598Z",
          "iopub.status.idle": "2023-04-22T07:26:06.535909Z",
          "shell.execute_reply": "2023-04-22T07:26:06.533015Z"
        },
        "id": "65cc9e75",
        "outputId": "b0f20af0-8dbd-4688-be3c-49eae65520e6",
        "papermill": {
          "duration": 55.643876,
          "end_time": "2023-04-22T07:26:06.709719",
          "exception": false,
          "start_time": "2023-04-22T07:25:11.065843",
          "status": "completed"
        },
        "tags": []
      },
      "outputs": [
        {
          "data": {
            "text/html": [
              "\n",
              "  <div id=\"df-e2b784c7-9a9f-48e9-be5e-43cbbd1c54ce\">\n",
              "    <div class=\"colab-df-container\">\n",
              "      <div>\n",
              "<style scoped>\n",
              "    .dataframe tbody tr th:only-of-type {\n",
              "        vertical-align: middle;\n",
              "    }\n",
              "\n",
              "    .dataframe tbody tr th {\n",
              "        vertical-align: top;\n",
              "    }\n",
              "\n",
              "    .dataframe thead th {\n",
              "        text-align: right;\n",
              "    }\n",
              "</style>\n",
              "<table border=\"1\" class=\"dataframe\">\n",
              "  <thead>\n",
              "    <tr style=\"text-align: right;\">\n",
              "      <th></th>\n",
              "      <th>Feature</th>\n",
              "      <th>Score</th>\n",
              "    </tr>\n",
              "  </thead>\n",
              "  <tbody>\n",
              "    <tr>\n",
              "      <th>15</th>\n",
              "      <td>LATITUDE</td>\n",
              "      <td>0.575710</td>\n",
              "    </tr>\n",
              "    <tr>\n",
              "      <th>16</th>\n",
              "      <td>LONGITUDE</td>\n",
              "      <td>0.571104</td>\n",
              "    </tr>\n",
              "    <tr>\n",
              "      <th>26</th>\n",
              "      <td>DRIVER_ACTION</td>\n",
              "      <td>0.152321</td>\n",
              "    </tr>\n",
              "    <tr>\n",
              "      <th>5</th>\n",
              "      <td>INTERSECTION_RELATED_I</td>\n",
              "      <td>0.081477</td>\n",
              "    </tr>\n",
              "    <tr>\n",
              "      <th>18</th>\n",
              "      <td>MANEUVER</td>\n",
              "      <td>0.072786</td>\n",
              "    </tr>\n",
              "    <tr>\n",
              "      <th>19</th>\n",
              "      <td>FIRST_CONTACT_POINT</td>\n",
              "      <td>0.053739</td>\n",
              "    </tr>\n",
              "    <tr>\n",
              "      <th>7</th>\n",
              "      <td>NUM_UNITS</td>\n",
              "      <td>0.045599</td>\n",
              "    </tr>\n",
              "    <tr>\n",
              "      <th>2</th>\n",
              "      <td>DEVICE_CONDITION</td>\n",
              "      <td>0.041522</td>\n",
              "    </tr>\n",
              "    <tr>\n",
              "      <th>3</th>\n",
              "      <td>WEATHER_CONDITION</td>\n",
              "      <td>0.041163</td>\n",
              "    </tr>\n",
              "    <tr>\n",
              "      <th>28</th>\n",
              "      <td>PHYSICAL_CONDITION</td>\n",
              "      <td>0.033478</td>\n",
              "    </tr>\n",
              "  </tbody>\n",
              "</table>\n",
              "</div>\n",
              "      <button class=\"colab-df-convert\" onclick=\"convertToInteractive('df-e2b784c7-9a9f-48e9-be5e-43cbbd1c54ce')\"\n",
              "              title=\"Convert this dataframe to an interactive table.\"\n",
              "              style=\"display:none;\">\n",
              "        \n",
              "  <svg xmlns=\"http://www.w3.org/2000/svg\" height=\"24px\"viewBox=\"0 0 24 24\"\n",
              "       width=\"24px\">\n",
              "    <path d=\"M0 0h24v24H0V0z\" fill=\"none\"/>\n",
              "    <path d=\"M18.56 5.44l.94 2.06.94-2.06 2.06-.94-2.06-.94-.94-2.06-.94 2.06-2.06.94zm-11 1L8.5 8.5l.94-2.06 2.06-.94-2.06-.94L8.5 2.5l-.94 2.06-2.06.94zm10 10l.94 2.06.94-2.06 2.06-.94-2.06-.94-.94-2.06-.94 2.06-2.06.94z\"/><path d=\"M17.41 7.96l-1.37-1.37c-.4-.4-.92-.59-1.43-.59-.52 0-1.04.2-1.43.59L10.3 9.45l-7.72 7.72c-.78.78-.78 2.05 0 2.83L4 21.41c.39.39.9.59 1.41.59.51 0 1.02-.2 1.41-.59l7.78-7.78 2.81-2.81c.8-.78.8-2.07 0-2.86zM5.41 20L4 18.59l7.72-7.72 1.47 1.35L5.41 20z\"/>\n",
              "  </svg>\n",
              "      </button>\n",
              "      \n",
              "  <style>\n",
              "    .colab-df-container {\n",
              "      display:flex;\n",
              "      flex-wrap:wrap;\n",
              "      gap: 12px;\n",
              "    }\n",
              "\n",
              "    .colab-df-convert {\n",
              "      background-color: #E8F0FE;\n",
              "      border: none;\n",
              "      border-radius: 50%;\n",
              "      cursor: pointer;\n",
              "      display: none;\n",
              "      fill: #1967D2;\n",
              "      height: 32px;\n",
              "      padding: 0 0 0 0;\n",
              "      width: 32px;\n",
              "    }\n",
              "\n",
              "    .colab-df-convert:hover {\n",
              "      background-color: #E2EBFA;\n",
              "      box-shadow: 0px 1px 2px rgba(60, 64, 67, 0.3), 0px 1px 3px 1px rgba(60, 64, 67, 0.15);\n",
              "      fill: #174EA6;\n",
              "    }\n",
              "\n",
              "    [theme=dark] .colab-df-convert {\n",
              "      background-color: #3B4455;\n",
              "      fill: #D2E3FC;\n",
              "    }\n",
              "\n",
              "    [theme=dark] .colab-df-convert:hover {\n",
              "      background-color: #434B5C;\n",
              "      box-shadow: 0px 1px 3px 1px rgba(0, 0, 0, 0.15);\n",
              "      filter: drop-shadow(0px 1px 2px rgba(0, 0, 0, 0.3));\n",
              "      fill: #FFFFFF;\n",
              "    }\n",
              "  </style>\n",
              "\n",
              "      <script>\n",
              "        const buttonEl =\n",
              "          document.querySelector('#df-e2b784c7-9a9f-48e9-be5e-43cbbd1c54ce button.colab-df-convert');\n",
              "        buttonEl.style.display =\n",
              "          google.colab.kernel.accessAllowed ? 'block' : 'none';\n",
              "\n",
              "        async function convertToInteractive(key) {\n",
              "          const element = document.querySelector('#df-e2b784c7-9a9f-48e9-be5e-43cbbd1c54ce');\n",
              "          const dataTable =\n",
              "            await google.colab.kernel.invokeFunction('convertToInteractive',\n",
              "                                                     [key], {});\n",
              "          if (!dataTable) return;\n",
              "\n",
              "          const docLinkHtml = 'Like what you see? Visit the ' +\n",
              "            '<a target=\"_blank\" href=https://colab.research.google.com/notebooks/data_table.ipynb>data table notebook</a>'\n",
              "            + ' to learn more about interactive tables.';\n",
              "          element.innerHTML = '';\n",
              "          dataTable['output_type'] = 'display_data';\n",
              "          await google.colab.output.renderOutput(dataTable, element);\n",
              "          const docLink = document.createElement('div');\n",
              "          docLink.innerHTML = docLinkHtml;\n",
              "          element.appendChild(docLink);\n",
              "        }\n",
              "      </script>\n",
              "    </div>\n",
              "  </div>\n",
              "  "
            ],
            "text/plain": [
              "                   Feature     Score\n",
              "15                LATITUDE  0.575710\n",
              "16               LONGITUDE  0.571104\n",
              "26           DRIVER_ACTION  0.152321\n",
              "5   INTERSECTION_RELATED_I  0.081477\n",
              "18                MANEUVER  0.072786\n",
              "19     FIRST_CONTACT_POINT  0.053739\n",
              "7                NUM_UNITS  0.045599\n",
              "2         DEVICE_CONDITION  0.041522\n",
              "3        WEATHER_CONDITION  0.041163\n",
              "28      PHYSICAL_CONDITION  0.033478"
            ]
          },
          "execution_count": 270,
          "metadata": {},
          "output_type": "execute_result"
        }
      ],
      "source": [
        "# Apply SelectKBest class to extract top 10 best features\n",
        "k=10\n",
        "kbest = SelectKBest(score_func=mutual_info_classif, k=k)\n",
        "fit = kbest.fit(X_train_scaled_resampled, y_train_resampled)\n",
        "\n",
        "# Create a new dataframe with only the selected features\n",
        "selected_features_indices = kbest.get_support(indices=True)\n",
        "selected_features = pd.DataFrame({'Feature': X_train.columns, 'Score': fit.scores_})\n",
        "selected_features.sort_values('Score', ascending=False).head(k)"
      ]
    },
    {
      "cell_type": "markdown",
      "id": "22e4a5a8",
      "metadata": {
        "id": "22e4a5a8"
      },
      "source": [
        "For mutual_info_classif, a higher score indicates a stronger mutual information between the target variable and the features, which means the feature is more relevant for prediction.\n",
        "\n",
        "Therefore we will extract the top 10 features and create new datasets that we will model on."
      ]
    },
    {
      "cell_type": "code",
      "execution_count": 271,
      "id": "709e5237",
      "metadata": {
        "execution": {
          "iopub.execute_input": "2023-04-22T07:26:07.006038Z",
          "iopub.status.busy": "2023-04-22T07:26:07.005218Z",
          "iopub.status.idle": "2023-04-22T07:26:07.016273Z",
          "shell.execute_reply": "2023-04-22T07:26:07.015040Z"
        },
        "id": "709e5237",
        "papermill": {
          "duration": 0.16436,
          "end_time": "2023-04-22T07:26:07.019429",
          "exception": false,
          "start_time": "2023-04-22T07:26:06.855069",
          "status": "completed"
        },
        "tags": []
      },
      "outputs": [],
      "source": [
        "#use the indices to select the relevant features from the trainiing data\n",
        "X_train_fselect = X_train_scaled_resampled.iloc[:, selected_features_indices]\n",
        "\n",
        "features_used = X_train_fselect.columns\n",
        "\n",
        "#use the indices to select the relevant features from the test data\n",
        "X_test_fselect = X_test_scaled_df.iloc[:, selected_features_indices]\n",
        "\n",
        "#use the indices to select the relevant features from the unable to determine data\n",
        "Xu_fselect = Xu_train_scaled_df.iloc[:, selected_features_indices]\n",
        "\n",
        "#since random forest is well adept at handling imabalnced dataset, we will use the original\n",
        "#dataset without resampling\n",
        "X_train_scaled_fselect = X_train_scaled_df.iloc[:, selected_features_indices]\n",
        "X_test_scaled_fselect = X_test_scaled_df.iloc[:, selected_features_indices]"
      ]
    },
    {
      "cell_type": "code",
      "execution_count": 272,
      "id": "9a8c6d65",
      "metadata": {
        "execution": {
          "iopub.execute_input": "2023-04-22T07:26:07.753384Z",
          "iopub.status.busy": "2023-04-22T07:26:07.752920Z",
          "iopub.status.idle": "2023-04-22T07:26:07.760133Z",
          "shell.execute_reply": "2023-04-22T07:26:07.758372Z"
        },
        "id": "9a8c6d65",
        "papermill": {
          "duration": 0.157221,
          "end_time": "2023-04-22T07:26:07.763414",
          "exception": false,
          "start_time": "2023-04-22T07:26:07.606193",
          "status": "completed"
        },
        "tags": []
      },
      "outputs": [],
      "source": [
        "# Creating data structure  of model and evaluation accuracy\n",
        "\n",
        "models ={\n",
        "    'Model Name':[],\n",
        "    'Accuracy':[],\n",
        "    'CV Score':[],\n",
        "    'Precision':[],\n",
        "    'Recall':[],\n",
        "}"
      ]
    },
    {
      "cell_type": "markdown",
      "id": "64d0b5fb",
      "metadata": {
        "id": "64d0b5fb"
      },
      "source": [
        "Now we will move on to the modelling side. Although, we will look at multiple scores to understand the performance of the model, we will focus on the accuracy score  and the recall score since we want to be able to predict the causes of car crashes as aaccurately as possible since that will drive further insights for the DOT staff to take further action."
      ]
    },
    {
      "cell_type": "markdown",
      "id": "bb07a71a",
      "metadata": {
        "id": "bb07a71a",
        "papermill": {
          "duration": 0.155975,
          "end_time": "2023-04-22T07:26:08.064800",
          "exception": false,
          "start_time": "2023-04-22T07:26:07.908825",
          "status": "completed"
        },
        "tags": []
      },
      "source": [
        "### Baseline Model"
      ]
    },
    {
      "cell_type": "markdown",
      "id": "02645c7b",
      "metadata": {
        "id": "02645c7b"
      },
      "source": [
        "We will start with a Baseline model of a Decision Tree Classifier. Decision tree classifiers are good for multi-categorical data modeling because they can handle both categorical and continuous features, and are able to handle interactions and non-linear relationships between features. "
      ]
    },
    {
      "cell_type": "code",
      "execution_count": 273,
      "id": "c7596cf3",
      "metadata": {
        "execution": {
          "iopub.execute_input": "2023-04-22T07:26:08.365280Z",
          "iopub.status.busy": "2023-04-22T07:26:08.364502Z",
          "iopub.status.idle": "2023-04-22T07:26:08.370501Z",
          "shell.execute_reply": "2023-04-22T07:26:08.369284Z"
        },
        "id": "c7596cf3",
        "papermill": {
          "duration": 0.161198,
          "end_time": "2023-04-22T07:26:08.373427",
          "exception": false,
          "start_time": "2023-04-22T07:26:08.212229",
          "status": "completed"
        },
        "tags": []
      },
      "outputs": [],
      "source": [
        "# from sklearn.linear_model import LogisticRegression\n",
        "from sklearn.tree import DecisionTreeClassifier\n",
        "from sklearn.metrics import accuracy_score\n",
        "from sklearn.model_selection import cross_val_score"
      ]
    },
    {
      "cell_type": "code",
      "execution_count": 274,
      "id": "a975e3e8",
      "metadata": {
        "execution": {
          "iopub.execute_input": "2023-04-22T07:26:08.674317Z",
          "iopub.status.busy": "2023-04-22T07:26:08.673796Z",
          "iopub.status.idle": "2023-04-22T07:26:08.680264Z",
          "shell.execute_reply": "2023-04-22T07:26:08.678712Z"
        },
        "id": "a975e3e8",
        "papermill": {
          "duration": 0.162825,
          "end_time": "2023-04-22T07:26:08.683774",
          "exception": false,
          "start_time": "2023-04-22T07:26:08.520949",
          "status": "completed"
        },
        "tags": []
      },
      "outputs": [],
      "source": [
        "#initialize the classifier\n",
        "DT = DecisionTreeClassifier()"
      ]
    },
    {
      "cell_type": "code",
      "execution_count": 275,
      "id": "44493b1a",
      "metadata": {
        "colab": {
          "base_uri": "https://localhost:8080/",
          "height": 75
        },
        "execution": {
          "iopub.execute_input": "2023-04-22T07:26:08.978981Z",
          "iopub.status.busy": "2023-04-22T07:26:08.978504Z",
          "iopub.status.idle": "2023-04-22T07:26:09.307526Z",
          "shell.execute_reply": "2023-04-22T07:26:09.304557Z"
        },
        "id": "44493b1a",
        "outputId": "a5383bb8-bf57-44a1-dc78-741bc61aff01",
        "papermill": {
          "duration": 0.485311,
          "end_time": "2023-04-22T07:26:09.317262",
          "exception": false,
          "start_time": "2023-04-22T07:26:08.831951",
          "status": "completed"
        },
        "tags": []
      },
      "outputs": [
        {
          "data": {
            "text/html": [
              "<style>#sk-container-id-1 {color: black;background-color: white;}#sk-container-id-1 pre{padding: 0;}#sk-container-id-1 div.sk-toggleable {background-color: white;}#sk-container-id-1 label.sk-toggleable__label {cursor: pointer;display: block;width: 100%;margin-bottom: 0;padding: 0.3em;box-sizing: border-box;text-align: center;}#sk-container-id-1 label.sk-toggleable__label-arrow:before {content: \"▸\";float: left;margin-right: 0.25em;color: #696969;}#sk-container-id-1 label.sk-toggleable__label-arrow:hover:before {color: black;}#sk-container-id-1 div.sk-estimator:hover label.sk-toggleable__label-arrow:before {color: black;}#sk-container-id-1 div.sk-toggleable__content {max-height: 0;max-width: 0;overflow: hidden;text-align: left;background-color: #f0f8ff;}#sk-container-id-1 div.sk-toggleable__content pre {margin: 0.2em;color: black;border-radius: 0.25em;background-color: #f0f8ff;}#sk-container-id-1 input.sk-toggleable__control:checked~div.sk-toggleable__content {max-height: 200px;max-width: 100%;overflow: auto;}#sk-container-id-1 input.sk-toggleable__control:checked~label.sk-toggleable__label-arrow:before {content: \"▾\";}#sk-container-id-1 div.sk-estimator input.sk-toggleable__control:checked~label.sk-toggleable__label {background-color: #d4ebff;}#sk-container-id-1 div.sk-label input.sk-toggleable__control:checked~label.sk-toggleable__label {background-color: #d4ebff;}#sk-container-id-1 input.sk-hidden--visually {border: 0;clip: rect(1px 1px 1px 1px);clip: rect(1px, 1px, 1px, 1px);height: 1px;margin: -1px;overflow: hidden;padding: 0;position: absolute;width: 1px;}#sk-container-id-1 div.sk-estimator {font-family: monospace;background-color: #f0f8ff;border: 1px dotted black;border-radius: 0.25em;box-sizing: border-box;margin-bottom: 0.5em;}#sk-container-id-1 div.sk-estimator:hover {background-color: #d4ebff;}#sk-container-id-1 div.sk-parallel-item::after {content: \"\";width: 100%;border-bottom: 1px solid gray;flex-grow: 1;}#sk-container-id-1 div.sk-label:hover label.sk-toggleable__label {background-color: #d4ebff;}#sk-container-id-1 div.sk-serial::before {content: \"\";position: absolute;border-left: 1px solid gray;box-sizing: border-box;top: 0;bottom: 0;left: 50%;z-index: 0;}#sk-container-id-1 div.sk-serial {display: flex;flex-direction: column;align-items: center;background-color: white;padding-right: 0.2em;padding-left: 0.2em;position: relative;}#sk-container-id-1 div.sk-item {position: relative;z-index: 1;}#sk-container-id-1 div.sk-parallel {display: flex;align-items: stretch;justify-content: center;background-color: white;position: relative;}#sk-container-id-1 div.sk-item::before, #sk-container-id-1 div.sk-parallel-item::before {content: \"\";position: absolute;border-left: 1px solid gray;box-sizing: border-box;top: 0;bottom: 0;left: 50%;z-index: -1;}#sk-container-id-1 div.sk-parallel-item {display: flex;flex-direction: column;z-index: 1;position: relative;background-color: white;}#sk-container-id-1 div.sk-parallel-item:first-child::after {align-self: flex-end;width: 50%;}#sk-container-id-1 div.sk-parallel-item:last-child::after {align-self: flex-start;width: 50%;}#sk-container-id-1 div.sk-parallel-item:only-child::after {width: 0;}#sk-container-id-1 div.sk-dashed-wrapped {border: 1px dashed gray;margin: 0 0.4em 0.5em 0.4em;box-sizing: border-box;padding-bottom: 0.4em;background-color: white;}#sk-container-id-1 div.sk-label label {font-family: monospace;font-weight: bold;display: inline-block;line-height: 1.2em;}#sk-container-id-1 div.sk-label-container {text-align: center;}#sk-container-id-1 div.sk-container {/* jupyter's `normalize.less` sets `[hidden] { display: none; }` but bootstrap.min.css set `[hidden] { display: none !important; }` so we also need the `!important` here to be able to override the default hidden behavior on the sphinx rendered scikit-learn.org. See: https://github.com/scikit-learn/scikit-learn/issues/21755 */display: inline-block !important;position: relative;}#sk-container-id-1 div.sk-text-repr-fallback {display: none;}</style><div id=\"sk-container-id-1\" class=\"sk-top-container\"><div class=\"sk-text-repr-fallback\"><pre>DecisionTreeClassifier()</pre><b>In a Jupyter environment, please rerun this cell to show the HTML representation or trust the notebook. <br />On GitHub, the HTML representation is unable to render, please try loading this page with nbviewer.org.</b></div><div class=\"sk-container\" hidden><div class=\"sk-item\"><div class=\"sk-estimator sk-toggleable\"><input class=\"sk-toggleable__control sk-hidden--visually\" id=\"sk-estimator-id-1\" type=\"checkbox\" checked><label for=\"sk-estimator-id-1\" class=\"sk-toggleable__label sk-toggleable__label-arrow\">DecisionTreeClassifier</label><div class=\"sk-toggleable__content\"><pre>DecisionTreeClassifier()</pre></div></div></div></div></div>"
            ],
            "text/plain": [
              "DecisionTreeClassifier()"
            ]
          },
          "execution_count": 275,
          "metadata": {},
          "output_type": "execute_result"
        }
      ],
      "source": [
        "#fit the model\n",
        "DT.fit(X_train_fselect,y_train_resampled)"
      ]
    },
    {
      "cell_type": "code",
      "execution_count": 276,
      "id": "96fa943a",
      "metadata": {
        "execution": {
          "iopub.execute_input": "2023-04-22T07:26:09.661682Z",
          "iopub.status.busy": "2023-04-22T07:26:09.661230Z",
          "iopub.status.idle": "2023-04-22T07:26:09.677561Z",
          "shell.execute_reply": "2023-04-22T07:26:09.676158Z"
        },
        "id": "96fa943a",
        "papermill": {
          "duration": 0.172986,
          "end_time": "2023-04-22T07:26:09.681315",
          "exception": false,
          "start_time": "2023-04-22T07:26:09.508329",
          "status": "completed"
        },
        "tags": []
      },
      "outputs": [],
      "source": [
        "#predict\n",
        "y_pred = DT.predict(X_test_fselect)"
      ]
    },
    {
      "cell_type": "code",
      "execution_count": 277,
      "id": "fbcb46ba",
      "metadata": {
        "colab": {
          "base_uri": "https://localhost:8080/"
        },
        "execution": {
          "iopub.execute_input": "2023-04-22T07:26:09.975097Z",
          "iopub.status.busy": "2023-04-22T07:26:09.973999Z",
          "iopub.status.idle": "2023-04-22T07:26:10.654297Z",
          "shell.execute_reply": "2023-04-22T07:26:10.652279Z"
        },
        "id": "fbcb46ba",
        "outputId": "c5e37129-74d0-42e4-9399-6ad1982ec03d",
        "papermill": {
          "duration": 0.832208,
          "end_time": "2023-04-22T07:26:10.658893",
          "exception": false,
          "start_time": "2023-04-22T07:26:09.826685",
          "status": "completed"
        },
        "tags": []
      },
      "outputs": [
        {
          "name": "stdout",
          "output_type": "stream",
          "text": [
            "Cross-validation scores: [0.63968333 0.6355     0.63868333]\n",
            "Mean CV score: 0.6379555555555556\n"
          ]
        }
      ],
      "source": [
        "# Evaluate the model with cross-validation\n",
        "cv_scores = cross_val_score(DT, X_train_fselect, y_train_resampled, cv=3)\n",
        "print(\"Cross-validation scores:\", cv_scores)\n",
        "print(\"Mean CV score:\", np.mean(cv_scores)) "
      ]
    },
    {
      "cell_type": "code",
      "execution_count": 278,
      "id": "f897d9c3",
      "metadata": {
        "colab": {
          "base_uri": "https://localhost:8080/"
        },
        "execution": {
          "iopub.execute_input": "2023-04-22T07:26:10.954003Z",
          "iopub.status.busy": "2023-04-22T07:26:10.953498Z",
          "iopub.status.idle": "2023-04-22T07:26:10.965488Z",
          "shell.execute_reply": "2023-04-22T07:26:10.963958Z"
        },
        "id": "f897d9c3",
        "outputId": "5af28677-5cdc-4746-e563-12e066c27bc2",
        "papermill": {
          "duration": 0.162153,
          "end_time": "2023-04-22T07:26:10.968542",
          "exception": false,
          "start_time": "2023-04-22T07:26:10.806389",
          "status": "completed"
        },
        "tags": []
      },
      "outputs": [
        {
          "data": {
            "text/plain": [
              "0.5248574954457308"
            ]
          },
          "execution_count": 278,
          "metadata": {},
          "output_type": "execute_result"
        }
      ],
      "source": [
        "#calcualte the accuraacy score\n",
        "accuracy = accuracy_score(y_test, y_pred)\n",
        "\n",
        "accuracy"
      ]
    },
    {
      "cell_type": "code",
      "execution_count": 279,
      "id": "514748ff",
      "metadata": {
        "execution": {
          "iopub.execute_input": "2023-04-22T07:26:11.346198Z",
          "iopub.status.busy": "2023-04-22T07:26:11.345373Z",
          "iopub.status.idle": "2023-04-22T07:26:11.352055Z",
          "shell.execute_reply": "2023-04-22T07:26:11.350793Z"
        },
        "id": "514748ff",
        "papermill": {
          "duration": 0.163817,
          "end_time": "2023-04-22T07:26:11.355386",
          "exception": false,
          "start_time": "2023-04-22T07:26:11.191569",
          "status": "completed"
        },
        "tags": []
      },
      "outputs": [],
      "source": [
        "#import confusiion matrix\n",
        "from sklearn.metrics import confusion_matrix"
      ]
    },
    {
      "cell_type": "markdown",
      "id": "bc7865a7",
      "metadata": {
        "id": "bc7865a7"
      },
      "source": [
        "We can take a look at a confusion maatrix to understand how is our model performing."
      ]
    },
    {
      "cell_type": "code",
      "execution_count": 280,
      "id": "20ff645a",
      "metadata": {
        "execution": {
          "iopub.execute_input": "2023-04-22T07:26:11.655280Z",
          "iopub.status.busy": "2023-04-22T07:26:11.654805Z",
          "iopub.status.idle": "2023-04-22T07:26:14.291198Z",
          "shell.execute_reply": "2023-04-22T07:26:14.288952Z"
        },
        "id": "20ff645a",
        "papermill": {
          "duration": 2.788819,
          "end_time": "2023-04-22T07:26:14.294688",
          "exception": false,
          "start_time": "2023-04-22T07:26:11.505869",
          "status": "completed"
        },
        "tags": []
      },
      "outputs": [],
      "source": [
        "cm = confusion_matrix(y_test, y_pred)\n",
        "\n",
        "#plot confusion matrix\n",
        "# plot_confusion_matrix(DT, X_test_fselect, y_test, cmap=plt.cm.Blues);"
      ]
    },
    {
      "cell_type": "code",
      "execution_count": 281,
      "id": "1af6aea0",
      "metadata": {
        "execution": {
          "iopub.execute_input": "2023-04-22T07:26:14.603806Z",
          "iopub.status.busy": "2023-04-22T07:26:14.603046Z",
          "iopub.status.idle": "2023-04-22T07:26:14.609353Z",
          "shell.execute_reply": "2023-04-22T07:26:14.607646Z"
        },
        "id": "1af6aea0",
        "papermill": {
          "duration": 0.160997,
          "end_time": "2023-04-22T07:26:14.612320",
          "exception": false,
          "start_time": "2023-04-22T07:26:14.451323",
          "status": "completed"
        },
        "tags": []
      },
      "outputs": [],
      "source": [
        "from sklearn.metrics import precision_score, recall_score, classification_report"
      ]
    },
    {
      "cell_type": "markdown",
      "id": "78e36175",
      "metadata": {
        "id": "78e36175"
      },
      "source": [
        "Lets also take a look at a few other scoring methods to holistically understand the performaance of our dataet."
      ]
    },
    {
      "cell_type": "code",
      "execution_count": 282,
      "id": "36206ae6",
      "metadata": {
        "colab": {
          "base_uri": "https://localhost:8080/"
        },
        "execution": {
          "iopub.execute_input": "2023-04-22T07:26:14.923503Z",
          "iopub.status.busy": "2023-04-22T07:26:14.922717Z",
          "iopub.status.idle": "2023-04-22T07:26:14.944424Z",
          "shell.execute_reply": "2023-04-22T07:26:14.943268Z"
        },
        "id": "36206ae6",
        "outputId": "87debb1f-ff66-4c75-9176-6546effb9066",
        "papermill": {
          "duration": 0.180864,
          "end_time": "2023-04-22T07:26:14.948223",
          "exception": false,
          "start_time": "2023-04-22T07:26:14.767359",
          "status": "completed"
        },
        "tags": []
      },
      "outputs": [
        {
          "name": "stdout",
          "output_type": "stream",
          "text": [
            "Precision: 0.5636992176296005\n",
            "Recall: 0.5248574954457308\n"
          ]
        }
      ],
      "source": [
        "precision = precision_score(y_test, y_pred,average='weighted')\n",
        "recall = recall_score(y_test, y_pred,average='weighted')\n",
        "\n",
        "print(\"Precision:\", precision)\n",
        "print(\"Recall:\", recall)"
      ]
    },
    {
      "cell_type": "code",
      "execution_count": 283,
      "id": "e32bea7c",
      "metadata": {
        "colab": {
          "base_uri": "https://localhost:8080/"
        },
        "execution": {
          "iopub.execute_input": "2023-04-22T07:26:15.252934Z",
          "iopub.status.busy": "2023-04-22T07:26:15.252449Z",
          "iopub.status.idle": "2023-04-22T07:26:15.289953Z",
          "shell.execute_reply": "2023-04-22T07:26:15.288105Z"
        },
        "id": "e32bea7c",
        "outputId": "34fd1220-188f-42e9-a10f-8f20270b83c3",
        "papermill": {
          "duration": 0.194205,
          "end_time": "2023-04-22T07:26:15.293709",
          "exception": false,
          "start_time": "2023-04-22T07:26:15.099504",
          "status": "completed"
        },
        "tags": []
      },
      "outputs": [
        {
          "name": "stdout",
          "output_type": "stream",
          "text": [
            "              precision    recall  f1-score   support\n",
            "\n",
            "           0       0.62      0.53      0.57     31449\n",
            "           1       0.62      0.60      0.61     27196\n",
            "           2       0.21      0.30      0.25      5740\n",
            "           3       0.14      0.27      0.19      3683\n",
            "\n",
            "    accuracy                           0.52     68068\n",
            "   macro avg       0.40      0.43      0.40     68068\n",
            "weighted avg       0.56      0.52      0.54     68068\n",
            "\n"
          ]
        }
      ],
      "source": [
        "#print the classification report \n",
        "report = classification_report(y_test, y_pred)\n",
        "print(report)"
      ]
    },
    {
      "cell_type": "markdown",
      "id": "a2325a1e",
      "metadata": {
        "id": "a2325a1e"
      },
      "source": [
        "The accuracy of this model is less than 50% which is even worse than the probability of flipping a coin. \n",
        "\n",
        "We can see that although the CV scores are high, the accuracy is low, showing that the model overfitted to the training set, speciifically to Category 1, since the recall and was relatively a lot higher for this category.\n",
        "\n",
        "The model performed poorly for the other 3 categories. This is showing signs that there might be a need to increase the granulatiry of our modelling variables. Nonetheless, we will continue to explore other models for catgorical data and evaluate further."
      ]
    },
    {
      "cell_type": "code",
      "execution_count": 284,
      "id": "3ec28d9f",
      "metadata": {
        "execution": {
          "iopub.execute_input": "2023-04-22T07:26:15.608687Z",
          "iopub.status.busy": "2023-04-22T07:26:15.608162Z",
          "iopub.status.idle": "2023-04-22T07:26:15.616079Z",
          "shell.execute_reply": "2023-04-22T07:26:15.614258Z"
        },
        "id": "3ec28d9f",
        "papermill": {
          "duration": 0.167321,
          "end_time": "2023-04-22T07:26:15.619254",
          "exception": false,
          "start_time": "2023-04-22T07:26:15.451933",
          "status": "completed"
        },
        "tags": []
      },
      "outputs": [],
      "source": [
        "# result in model data structure\n",
        "\n",
        "models['Model Name'].append('Decision Tree Classifier')\n",
        "models['Accuracy'].append(accuracy)\n",
        "models['CV Score'].append(np.mean(cv_scores))\n",
        "models['Precision'].append(precision)\n",
        "models['Recall'].append(recall)"
      ]
    },
    {
      "cell_type": "markdown",
      "id": "735c1215",
      "metadata": {
        "id": "735c1215",
        "papermill": {
          "duration": 0.149724,
          "end_time": "2023-04-22T07:26:15.919993",
          "exception": false,
          "start_time": "2023-04-22T07:26:15.770269",
          "status": "completed"
        },
        "tags": []
      },
      "source": [
        "### KNN Model"
      ]
    },
    {
      "cell_type": "markdown",
      "id": "7184536f",
      "metadata": {
        "id": "7184536f"
      },
      "source": [
        "While Decision Trees can be a powerful and flexible algorithm for classification tasks, they can suffer from overfitting and can be sensitive to the choice of hyperparameters. K-Nearest Neighbors (KNN), on the other hand, is a non-parametric algorithm that makes no assumptions about the underlying distribution of the data and can be less prone to overfitting. \n",
        "\n",
        "KNN can also be more effective than Decision Trees for datasets with well-separated clusters like ours, as it relies on the distance between data points to make predictions rather than fitting a model to the data. By exploring KNN as an alternative to Decision Trees, we may be able to find a more robust and accurate model for our specific dataset.\n",
        "\n",
        "We can use hyperparameter tuning to optimize the performance.\n",
        "\n",
        "We will optimize for 4 parameters:\n",
        "\n",
        "    1. n_neighbours: This is the number of neighbours the model uses to make the prediction. BEcause of the large set of out data, it would be helpful to start with a range that can cover small and large number of neighbours. Therefore we caan use 5, 10, 25, 50, 100, 1000].\n",
        "    \n",
        "    2. weights: We will investigate the uniform and distance metrics.\n",
        "    \n",
        "    3. metric: We will use Euclidean, Manhattan and Minkowski distance as parameters\n",
        "    \n",
        "    4. algorithm: We will set this to auto and let knn choose the best algorithm to use according to the dataset.  This will also help us computationally.\n",
        "    \n",
        "    \n"
      ]
    },
    {
      "cell_type": "code",
      "execution_count": 285,
      "id": "0d60a44d",
      "metadata": {
        "execution": {
          "iopub.execute_input": "2023-04-22T07:26:16.220855Z",
          "iopub.status.busy": "2023-04-22T07:26:16.219116Z",
          "iopub.status.idle": "2023-04-22T07:26:16.226789Z",
          "shell.execute_reply": "2023-04-22T07:26:16.225368Z"
        },
        "id": "0d60a44d",
        "papermill": {
          "duration": 0.161132,
          "end_time": "2023-04-22T07:26:16.230162",
          "exception": false,
          "start_time": "2023-04-22T07:26:16.069030",
          "status": "completed"
        },
        "tags": []
      },
      "outputs": [],
      "source": [
        "from sklearn.neighbors import KNeighborsClassifier\n",
        "from sklearn.model_selection import train_test_split, cross_val_score, GridSearchCV"
      ]
    },
    {
      "cell_type": "code",
      "execution_count": 286,
      "id": "4b203ed3",
      "metadata": {
        "colab": {
          "base_uri": "https://localhost:8080/"
        },
        "execution": {
          "iopub.execute_input": "2023-04-22T07:26:16.537215Z",
          "iopub.status.busy": "2023-04-22T07:26:16.536709Z",
          "iopub.status.idle": "2023-04-22T07:34:28.037200Z",
          "shell.execute_reply": "2023-04-22T07:34:28.034853Z"
        },
        "id": "4b203ed3",
        "outputId": "f76748f9-033b-4997-b897-f942d58d7daf",
        "papermill": {
          "duration": 491.909131,
          "end_time": "2023-04-22T07:34:28.292520",
          "exception": false,
          "start_time": "2023-04-22T07:26:16.383389",
          "status": "completed"
        },
        "tags": []
      },
      "outputs": [
        {
          "name": "stdout",
          "output_type": "stream",
          "text": [
            "Best parameters:  {'algorithm': 'auto', 'metric': 'manhattan', 'n_neighbors': 11, 'weights': 'distance'}\n",
            "Best score:  0.6419888888888888\n"
          ]
        }
      ],
      "source": [
        "# Define the KNN classifier and the parameter grid for grid search\n",
        "knn = KNeighborsClassifier()\n",
        "\n",
        "# Define parameter grid distribution\n",
        "param_grid = {'n_neighbors': [7,9,11],\n",
        "              'weights': ['uniform','distance'],'metric': ['euclidean', 'manhattan'],\n",
        "              'algorithm': ['auto', 'ball_tree']}\n",
        "\n",
        "# Perform grid search with cross-validation to find the best hyperparameters\n",
        "grid_search = GridSearchCV(knn, param_grid=param_grid, cv=3, scoring='accuracy')\n",
        "\n",
        "#grid_search.fit(X_train_knn_dr, y_train_resampled2)\n",
        "grid_search.fit(X_train_fselect, y_train_resampled)\n",
        "\n",
        "# Print best parameters and best score\n",
        "print(\"Best parameters: \", grid_search.best_params_)\n",
        "print(\"Best score: \", grid_search.best_score_)"
      ]
    },
    {
      "cell_type": "code",
      "execution_count": 287,
      "id": "50e08206",
      "metadata": {
        "execution": {
          "iopub.execute_input": "2023-04-22T07:34:28.597024Z",
          "iopub.status.busy": "2023-04-22T07:34:28.596541Z",
          "iopub.status.idle": "2023-04-22T07:34:44.464251Z",
          "shell.execute_reply": "2023-04-22T07:34:44.462615Z"
        },
        "id": "50e08206",
        "papermill": {
          "duration": 16.024045,
          "end_time": "2023-04-22T07:34:44.467679",
          "exception": false,
          "start_time": "2023-04-22T07:34:28.443634",
          "status": "completed"
        },
        "tags": []
      },
      "outputs": [],
      "source": [
        "# Make predictions on test set with best parameters\n",
        "best_knn = grid_search.best_estimator_\n",
        "y_pred = best_knn.predict(X_test_fselect)"
      ]
    },
    {
      "cell_type": "code",
      "execution_count": 288,
      "id": "2ad59ee9",
      "metadata": {
        "colab": {
          "base_uri": "https://localhost:8080/"
        },
        "execution": {
          "iopub.execute_input": "2023-04-22T07:34:44.766649Z",
          "iopub.status.busy": "2023-04-22T07:34:44.766192Z",
          "iopub.status.idle": "2023-04-22T07:36:17.738683Z",
          "shell.execute_reply": "2023-04-22T07:36:17.736319Z"
        },
        "id": "2ad59ee9",
        "outputId": "f456e9f7-4421-4173-f868-cd64461a675e",
        "papermill": {
          "duration": 93.292241,
          "end_time": "2023-04-22T07:36:17.908854",
          "exception": false,
          "start_time": "2023-04-22T07:34:44.616613",
          "status": "completed"
        },
        "tags": []
      },
      "outputs": [
        {
          "name": "stdout",
          "output_type": "stream",
          "text": [
            "Cross-validation scores: [0.64296667 0.64023333 0.64276667]\n",
            "Mean CV score: 0.6419888888888888\n"
          ]
        }
      ],
      "source": [
        "# Evaluate the model with cross-validation\n",
        "\n",
        "cv_scores = cross_val_score(best_knn, X_train_fselect, y_train_resampled, cv=3, scoring='accuracy')\n",
        "print(\"Cross-validation scores:\", cv_scores)\n",
        "print(\"Mean CV score:\", np.mean(cv_scores))"
      ]
    },
    {
      "cell_type": "code",
      "execution_count": 289,
      "id": "f5e808e6",
      "metadata": {
        "execution": {
          "iopub.execute_input": "2023-04-22T07:36:18.233841Z",
          "iopub.status.busy": "2023-04-22T07:36:18.232620Z",
          "iopub.status.idle": "2023-04-22T07:36:34.286851Z",
          "shell.execute_reply": "2023-04-22T07:36:34.284962Z"
        },
        "id": "f5e808e6",
        "papermill": {
          "duration": 16.226133,
          "end_time": "2023-04-22T07:36:34.290562",
          "exception": false,
          "start_time": "2023-04-22T07:36:18.064429",
          "status": "completed"
        },
        "tags": []
      },
      "outputs": [],
      "source": [
        "# # Make predictions on test set with best parameters\n",
        "# best_knn = grid_search.best_estimator_\n",
        "# y_pred = best_knn.predict(X_test_fselect)"
      ]
    },
    {
      "cell_type": "code",
      "execution_count": 290,
      "id": "541f3256",
      "metadata": {
        "colab": {
          "base_uri": "https://localhost:8080/"
        },
        "execution": {
          "iopub.execute_input": "2023-04-22T07:36:34.598572Z",
          "iopub.status.busy": "2023-04-22T07:36:34.597620Z",
          "iopub.status.idle": "2023-04-22T07:36:34.638428Z",
          "shell.execute_reply": "2023-04-22T07:36:34.636378Z"
        },
        "id": "541f3256",
        "outputId": "5469c5ea-2731-4ff6-b410-24e607f1931b",
        "papermill": {
          "duration": 0.201359,
          "end_time": "2023-04-22T07:36:34.642252",
          "exception": false,
          "start_time": "2023-04-22T07:36:34.440893",
          "status": "completed"
        },
        "tags": []
      },
      "outputs": [
        {
          "name": "stdout",
          "output_type": "stream",
          "text": [
            "Classification report:\n",
            "               precision    recall  f1-score   support\n",
            "\n",
            "           0       0.68      0.55      0.61     31449\n",
            "           1       0.66      0.70      0.68     27196\n",
            "           2       0.26      0.35      0.30      5740\n",
            "           3       0.18      0.27      0.22      3683\n",
            "\n",
            "    accuracy                           0.58     68068\n",
            "   macro avg       0.44      0.47      0.45     68068\n",
            "weighted avg       0.61      0.58      0.59     68068\n",
            "\n"
          ]
        }
      ],
      "source": [
        "# Calculate the confusion matrix and classification report\n",
        "cm = confusion_matrix(y_test, y_pred)\n",
        "class_report = classification_report(y_test, y_pred)\n",
        "# print(\"Confusion matrix:\\n\", conf_mat)\n",
        "print(\"Classification report:\\n\", class_report)"
      ]
    },
    {
      "cell_type": "code",
      "execution_count": 291,
      "id": "14208065",
      "metadata": {
        "id": "14208065"
      },
      "outputs": [],
      "source": [
        "# plot_confusion_matrix(cm=cm,classes=label_encoding.keys())\n",
        "# plot_confusion_matrix(best_knn, X_test_fselect, y_test, cmap=plt.cm.Blues);"
      ]
    },
    {
      "cell_type": "code",
      "execution_count": 292,
      "id": "0d695896",
      "metadata": {
        "colab": {
          "base_uri": "https://localhost:8080/"
        },
        "execution": {
          "iopub.execute_input": "2023-04-22T07:36:37.983035Z",
          "iopub.status.busy": "2023-04-22T07:36:37.982018Z",
          "iopub.status.idle": "2023-04-22T07:36:38.008538Z",
          "shell.execute_reply": "2023-04-22T07:36:38.006150Z"
        },
        "id": "0d695896",
        "outputId": "5028e6d2-86c3-4ff5-8fe2-71108e02a274",
        "papermill": {
          "duration": 0.186763,
          "end_time": "2023-04-22T07:36:38.012512",
          "exception": false,
          "start_time": "2023-04-22T07:36:37.825749",
          "status": "completed"
        },
        "tags": []
      },
      "outputs": [
        {
          "name": "stdout",
          "output_type": "stream",
          "text": [
            "Accuracy: 0.579582182523359\n",
            "Precision: 0.6067365568066843\n",
            "Recall: 0.579582182523359\n"
          ]
        }
      ],
      "source": [
        "# Calculate the accuracy score\n",
        "accuracy = accuracy_score(y_test, y_pred)\n",
        "print(\"Accuracy:\", accuracy)\n",
        "\n",
        "precision = precision_score(y_test, y_pred,average='weighted')\n",
        "recall = recall_score(y_test, y_pred,average='weighted')\n",
        "\n",
        "print(\"Precision:\", precision)\n",
        "print(\"Recall:\", recall)"
      ]
    },
    {
      "cell_type": "markdown",
      "id": "61c601d6",
      "metadata": {
        "id": "61c601d6"
      },
      "source": [
        "Talk about the results and what does it show"
      ]
    },
    {
      "cell_type": "code",
      "execution_count": 293,
      "id": "f515de99",
      "metadata": {
        "execution": {
          "iopub.execute_input": "2023-04-22T07:36:38.326264Z",
          "iopub.status.busy": "2023-04-22T07:36:38.325023Z",
          "iopub.status.idle": "2023-04-22T07:36:38.333803Z",
          "shell.execute_reply": "2023-04-22T07:36:38.332426Z"
        },
        "id": "f515de99",
        "papermill": {
          "duration": 0.169339,
          "end_time": "2023-04-22T07:36:38.338060",
          "exception": false,
          "start_time": "2023-04-22T07:36:38.168721",
          "status": "completed"
        },
        "tags": []
      },
      "outputs": [],
      "source": [
        "# result in model data structure\n",
        "\n",
        "models['Model Name'].append('KNN MODEL')\n",
        "models['Accuracy'].append(accuracy)\n",
        "models['CV Score'].append(np.mean(cv_scores))\n",
        "models['Precision'].append(precision)\n",
        "models['Recall'].append(recall)"
      ]
    },
    {
      "cell_type": "markdown",
      "id": "55513108",
      "metadata": {
        "id": "55513108",
        "papermill": {
          "duration": 0.1521,
          "end_time": "2023-04-22T07:36:38.649016",
          "exception": false,
          "start_time": "2023-04-22T07:36:38.496916",
          "status": "completed"
        },
        "tags": []
      },
      "source": [
        "### Random Forests Model"
      ]
    },
    {
      "cell_type": "markdown",
      "id": "67736df9",
      "metadata": {
        "id": "67736df9"
      },
      "source": [
        "We are going to try a Random Forest Modele now t osee if we cana get better results. Random forests aare generally better equipped to handle imbalanced datasets wiithout the need to undersample or creaate synthetic datapoints. Random forests model are also better ata handling larger datasets which can help with the amount of data that we have.\n",
        "\n",
        "We can set te class_weight parameter to balanced for the random forest to deal with the imabalanced dataset withouot loosing any original data to random sampling.\n",
        "\n",
        "We can also tune several different hyperparameters and use randomized search to see which ones would be the best to use.\n",
        "\n",
        "    1. n_estimators: Since we have such a large dataset, we will teest between 100-2000 to see what would be our optimizied option\n",
        "    \n",
        "    2. max_depth: We will test out different options to see how many branches the trees should make\n",
        "    \n",
        "    3. min_samples_split: We will check what is the minimum amount of splits that thee model needs to perform\n",
        "    \n",
        "    4. min_samples leaf: Whta is the minimum number of leafs that it needs to create for optimized performance"
      ]
    },
    {
      "cell_type": "code",
      "execution_count": 296,
      "id": "adfcb038",
      "metadata": {
        "execution": {
          "iopub.execute_input": "2023-04-22T07:36:39.052688Z",
          "iopub.status.busy": "2023-04-22T07:36:39.051434Z",
          "iopub.status.idle": "2023-04-22T07:36:39.059108Z",
          "shell.execute_reply": "2023-04-22T07:36:39.057484Z"
        },
        "id": "adfcb038",
        "papermill": {
          "duration": 0.169269,
          "end_time": "2023-04-22T07:36:39.062391",
          "exception": false,
          "start_time": "2023-04-22T07:36:38.893122",
          "status": "completed"
        },
        "tags": []
      },
      "outputs": [],
      "source": [
        "from sklearn.model_selection import RandomizedSearchCV\n",
        "from sklearn.ensemble import RandomForestClassifier\n",
        "from sklearn.metrics import accuracy_score"
      ]
    },
    {
      "cell_type": "code",
      "execution_count": 301,
      "id": "d4bf148c",
      "metadata": {
        "colab": {
          "base_uri": "https://localhost:8080/"
        },
        "execution": {
          "iopub.execute_input": "2023-04-22T07:36:39.375676Z",
          "iopub.status.busy": "2023-04-22T07:36:39.375201Z",
          "iopub.status.idle": "2023-04-22T08:21:58.646351Z",
          "shell.execute_reply": "2023-04-22T08:21:58.644530Z"
        },
        "id": "d4bf148c",
        "outputId": "20b1e035-68ee-4957-81b3-88dd96cfae4f",
        "papermill": {
          "duration": 2719.594677,
          "end_time": "2023-04-22T08:21:58.810940",
          "exception": false,
          "start_time": "2023-04-22T07:36:39.216263",
          "status": "completed"
        },
        "tags": []
      },
      "outputs": [
        {
          "name": "stderr",
          "output_type": "stream",
          "text": [
            "/usr/local/lib/python3.10/dist-packages/sklearn/model_selection/_validation.py:378: FitFailedWarning: \n",
            "60 fits failed out of a total of 150.\n",
            "The score on these train-test partitions for these parameters will be set to nan.\n",
            "If these failures are not expected, you can try to debug them by setting error_score='raise'.\n",
            "\n",
            "Below are more details about the failures:\n",
            "--------------------------------------------------------------------------------\n",
            "60 fits failed with the following error:\n",
            "Traceback (most recent call last):\n",
            "  File \"/usr/local/lib/python3.10/dist-packages/sklearn/model_selection/_validation.py\", line 686, in _fit_and_score\n",
            "    estimator.fit(X_train, y_train, **fit_params)\n",
            "  File \"/usr/local/lib/python3.10/dist-packages/sklearn/ensemble/_forest.py\", line 340, in fit\n",
            "    self._validate_params()\n",
            "  File \"/usr/local/lib/python3.10/dist-packages/sklearn/base.py\", line 600, in _validate_params\n",
            "    validate_parameter_constraints(\n",
            "  File \"/usr/local/lib/python3.10/dist-packages/sklearn/utils/_param_validation.py\", line 97, in validate_parameter_constraints\n",
            "    raise InvalidParameterError(\n",
            "sklearn.utils._param_validation.InvalidParameterError: The 'max_features' parameter of RandomForestClassifier must be an int in the range [1, inf), a float in the range (0.0, 1.0], a str among {'auto' (deprecated), 'log2', 'sqrt'} or None. Got 'None' instead.\n",
            "\n",
            "  warnings.warn(some_fits_failed_message, FitFailedWarning)\n",
            "/usr/local/lib/python3.10/dist-packages/sklearn/model_selection/_search.py:952: UserWarning: One or more of the test scores are non-finite: [0.55737778 0.55761667 0.55911667        nan        nan 0.55938889\n",
            " 0.66400556 0.65591111        nan 0.55921111        nan        nan\n",
            " 0.66190556 0.55822778        nan 0.69192778 0.65621111 0.5579\n",
            "        nan        nan 0.66835    0.69434444 0.65816667        nan\n",
            "        nan 0.55943333 0.64581111 0.65302778 0.68040556 0.65781111\n",
            "        nan 0.65292778        nan        nan 0.68755556        nan\n",
            " 0.69168889 0.67427778        nan        nan        nan 0.66668889\n",
            " 0.67736667        nan 0.65522778 0.67481667        nan 0.65781111\n",
            " 0.68758889        nan]\n",
            "  warnings.warn(\n"
          ]
        },
        {
          "name": "stdout",
          "output_type": "stream",
          "text": [
            "Best parameters:  {'n_estimators': 200, 'min_samples_split': 2, 'min_samples_leaf': 1, 'max_features': 'sqrt', 'max_depth': 40}\n",
            "Best score:  0.6943444444444444\n"
          ]
        }
      ],
      "source": [
        "# Define Random Forest classifier with random state\n",
        "RFC = RandomForestClassifier(class_weight=\"balanced\", random_state=54)\n",
        "\n",
        "# Define parameter distribution\n",
        "param_dist = {'n_estimators': [50,100, 200],\n",
        "#               'max_samples_split': [2, 5, 10], 'max_samples_leaf': [1, 2, 4],\n",
        "              'max_depth': [None, 10, 20, 40],\n",
        "              'max_features': ['sqrt', 'log2'],\n",
        "              'min_samples_split': [2, 5, 10],\n",
        "              'min_samples_leaf': [1, 2, 4]}\n",
        "\n",
        "# Perform random search with cross validation\n",
        "random_search = RandomizedSearchCV(RFC, param_distributions=param_dist, cv=3, n_iter=50, random_state=42)\n",
        "random_search.fit(X_train_fselect, y_train_resampled)\n",
        "\n",
        "# Print best parameters and best score\n",
        "print(\"Best parameters: \", random_search.best_params_)\n",
        "print(\"Best score: \", random_search.best_score_)"
      ]
    },
    {
      "cell_type": "code",
      "execution_count": 303,
      "id": "42d7f35c",
      "metadata": {
        "execution": {
          "iopub.execute_input": "2023-04-22T08:21:59.129197Z",
          "iopub.status.busy": "2023-04-22T08:21:59.127263Z",
          "iopub.status.idle": "2023-04-22T08:21:59.764113Z",
          "shell.execute_reply": "2023-04-22T08:21:59.761785Z"
        },
        "id": "42d7f35c",
        "papermill": {
          "duration": 0.800191,
          "end_time": "2023-04-22T08:21:59.768175",
          "exception": false,
          "start_time": "2023-04-22T08:21:58.967984",
          "status": "completed"
        },
        "tags": []
      },
      "outputs": [],
      "source": [
        "# Make predictions on test set with best parameters\n",
        "best_rf = random_search.best_estimator_\n",
        "y_pred = best_rf.predict(X_test_fselect)"
      ]
    },
    {
      "cell_type": "code",
      "execution_count": 304,
      "id": "95e10b7f",
      "metadata": {
        "colab": {
          "base_uri": "https://localhost:8080/"
        },
        "execution": {
          "iopub.execute_input": "2023-04-22T08:22:00.078587Z",
          "iopub.status.busy": "2023-04-22T08:22:00.077055Z",
          "iopub.status.idle": "2023-04-22T08:23:43.939426Z",
          "shell.execute_reply": "2023-04-22T08:23:43.937707Z"
        },
        "id": "95e10b7f",
        "outputId": "c943bd0f-b9d0-497a-eca1-56a346174ed4",
        "papermill": {
          "duration": 104.2723,
          "end_time": "2023-04-22T08:23:44.192472",
          "exception": false,
          "start_time": "2023-04-22T08:21:59.920172",
          "status": "completed"
        },
        "tags": []
      },
      "outputs": [
        {
          "name": "stdout",
          "output_type": "stream",
          "text": [
            "Cross-validation scores: [0.71283333 0.70491667 0.70269444 0.70766667 0.70472222]\n",
            "Mean CV score: 0.7065666666666667\n"
          ]
        }
      ],
      "source": [
        "# Evaluate the model with cross-validation\n",
        "cv_scores = cross_val_score(best_rf, X_train_fselect, y_train_resampled, cv=5)\n",
        "print(\"Cross-validation scores:\", cv_scores)\n",
        "print(\"Mean CV score:\", np.mean(cv_scores))"
      ]
    },
    {
      "cell_type": "code",
      "execution_count": 305,
      "id": "96fab2af",
      "metadata": {
        "colab": {
          "base_uri": "https://localhost:8080/"
        },
        "execution": {
          "iopub.execute_input": "2023-04-22T08:23:44.504275Z",
          "iopub.status.busy": "2023-04-22T08:23:44.502815Z",
          "iopub.status.idle": "2023-04-22T08:23:44.545585Z",
          "shell.execute_reply": "2023-04-22T08:23:44.543667Z"
        },
        "id": "96fab2af",
        "outputId": "f8981165-447b-4c86-a74c-7c328f7e914a",
        "papermill": {
          "duration": 0.201588,
          "end_time": "2023-04-22T08:23:44.548692",
          "exception": false,
          "start_time": "2023-04-22T08:23:44.347104",
          "status": "completed"
        },
        "tags": []
      },
      "outputs": [
        {
          "name": "stdout",
          "output_type": "stream",
          "text": [
            "Classification report:\n",
            "               precision    recall  f1-score   support\n",
            "\n",
            "           0       0.68      0.61      0.64     31449\n",
            "           1       0.67      0.71      0.69     27196\n",
            "           2       0.30      0.33      0.31      5740\n",
            "           3       0.21      0.26      0.23      3683\n",
            "\n",
            "    accuracy                           0.61     68068\n",
            "   macro avg       0.46      0.48      0.47     68068\n",
            "weighted avg       0.62      0.61      0.61     68068\n",
            "\n"
          ]
        }
      ],
      "source": [
        "# Calculate the confusion matrix and classification report\n",
        "cm = confusion_matrix(y_test, y_pred)\n",
        "class_report = classification_report(y_test, y_pred)\n",
        "# print(\"Confusion matrix:\\n\", conf_mat)\n",
        "print(\"Classification report:\\n\", class_report)"
      ]
    },
    {
      "cell_type": "code",
      "execution_count": 306,
      "id": "b77cc1cf",
      "metadata": {
        "execution": {
          "iopub.execute_input": "2023-04-22T08:23:44.865131Z",
          "iopub.status.busy": "2023-04-22T08:23:44.864479Z",
          "iopub.status.idle": "2023-04-22T08:23:47.558394Z",
          "shell.execute_reply": "2023-04-22T08:23:47.556242Z"
        },
        "id": "b77cc1cf",
        "papermill": {
          "duration": 2.857345,
          "end_time": "2023-04-22T08:23:47.562821",
          "exception": false,
          "start_time": "2023-04-22T08:23:44.705476",
          "status": "completed"
        },
        "tags": []
      },
      "outputs": [],
      "source": [
        "# plot_confusion_matrix(cm=cm,classes=label_encoding.keys())\n",
        "# plot_confusion_matrix(best_rf, X_test_scaaled_fselect, y_test, cmap=plt.cm.Blues);"
      ]
    },
    {
      "cell_type": "code",
      "execution_count": 307,
      "id": "7d32f042",
      "metadata": {
        "colab": {
          "base_uri": "https://localhost:8080/"
        },
        "execution": {
          "iopub.execute_input": "2023-04-22T08:23:47.892340Z",
          "iopub.status.busy": "2023-04-22T08:23:47.891021Z",
          "iopub.status.idle": "2023-04-22T08:23:47.915490Z",
          "shell.execute_reply": "2023-04-22T08:23:47.914062Z"
        },
        "id": "7d32f042",
        "outputId": "8c79baff-afca-476e-f75d-f4f462ae3542",
        "papermill": {
          "duration": 0.193154,
          "end_time": "2023-04-22T08:23:47.918639",
          "exception": false,
          "start_time": "2023-04-22T08:23:47.725485",
          "status": "completed"
        },
        "tags": []
      },
      "outputs": [
        {
          "name": "stdout",
          "output_type": "stream",
          "text": [
            "Accuracy: 0.6078627255097844\n",
            "Precision: 0.6167318187113938\n",
            "Recall: 0.6078627255097844\n"
          ]
        }
      ],
      "source": [
        "# Calculate the accuracy score\n",
        "accuracy = accuracy_score(y_test, y_pred)\n",
        "print(\"Accuracy:\", accuracy)\n",
        "\n",
        "precision = precision_score(y_test, y_pred,average='weighted')\n",
        "recall = recall_score(y_test, y_pred,average='weighted')\n",
        "\n",
        "print(\"Precision:\", precision)\n",
        "print(\"Recall:\", recall)"
      ]
    },
    {
      "cell_type": "markdown",
      "id": "932becd0",
      "metadata": {
        "id": "932becd0"
      },
      "source": [
        "Talk about model performance"
      ]
    },
    {
      "cell_type": "code",
      "execution_count": 308,
      "id": "02868668",
      "metadata": {
        "execution": {
          "iopub.execute_input": "2023-04-22T08:23:48.243557Z",
          "iopub.status.busy": "2023-04-22T08:23:48.242055Z",
          "iopub.status.idle": "2023-04-22T08:23:48.250838Z",
          "shell.execute_reply": "2023-04-22T08:23:48.249668Z"
        },
        "id": "02868668",
        "papermill": {
          "duration": 0.176384,
          "end_time": "2023-04-22T08:23:48.253717",
          "exception": false,
          "start_time": "2023-04-22T08:23:48.077333",
          "status": "completed"
        },
        "tags": []
      },
      "outputs": [],
      "source": [
        "# result in model data structure\n",
        "\n",
        "models['Model Name'].append('Random Forest Classifier')\n",
        "models['Accuracy'].append(accuracy)\n",
        "models['CV Score'].append(np.mean(cv_scores))\n",
        "models['Precision'].append(precision)\n",
        "models['Recall'].append(recall)"
      ]
    },
    {
      "cell_type": "markdown",
      "id": "4f732006",
      "metadata": {
        "id": "4f732006",
        "papermill": {
          "duration": 0.161676,
          "end_time": "2023-04-22T08:23:48.574993",
          "exception": false,
          "start_time": "2023-04-22T08:23:48.413317",
          "status": "completed"
        },
        "tags": []
      },
      "source": [
        "### XG Boost Model"
      ]
    },
    {
      "cell_type": "markdown",
      "id": "9d39eec7",
      "metadata": {
        "id": "9d39eec7"
      },
      "source": [
        "We would want to try another model to see if we can improve performance. We will try XGBoost nex which is one of the most popular ensemble method. XGBoost (Extreme Gradient Boosting) and Random Forest are both ensemble learning algorithms used in machine learning for classification and regression tasks. There are a few pros of using XGBoost as compared to Random Forests. \n",
        "\n",
        "    1. Handling of non-linear data: XGBoost can handle non-linear relationships between the features and the target variable better than Random Forest. This is because XGBoost uses a gradient boosting approach that builds a sequence of weak models to improve the overall prediction accuracy. Each model tries to capture the remaining error of the previous models, allowing the model to learn complex non-linear patterns in the data.\n",
        "\n",
        "    2. Regularization: XGBoost uses regularization techniques such as L1, L2 regularization and dropout to prevent overfitting and improve the model's generalization ability. Random Forest, on the other hand, relies on bootstrapping and feature bagging to reduce overfitting.\n",
        "\n",
        "    3. Speed: XGBoost is often faster than Random Forest due to its implementation using parallel processing techniques and the use of efficient data structures such as Compressed Sparse Column (CSC) matrix.\n",
        "\n",
        "    4. Handling missing values: XGBoost can handle missing values in the data, whereas Random Forest cannot. XGBoost can learn how to use information from other variables to fill in missing data points, which can help improve the model's accuracy."
      ]
    },
    {
      "cell_type": "markdown",
      "id": "f95e70c3",
      "metadata": {
        "id": "f95e70c3"
      },
      "source": [
        "We will also use gridsearch for hyperparameter tuning for 3 parameters. \n",
        "\n",
        "    1.n_estimators: Since oour dataset is significantly larger, we will use three different iterations, 500,1000,2500.\n",
        "    \n",
        "    2. learning rate: The learning rate, also known as the step size, controls the magnitude of the updates made to the model parameters at each step during the training process. The learning rate determines the extent to which the algorithm should rely on new information compared to the previous information while updating the model parameters.\n",
        "    \n",
        "    3. max_depth: We will try out 6, 9 and 11"
      ]
    },
    {
      "cell_type": "code",
      "execution_count": 309,
      "id": "ccc1fd91",
      "metadata": {
        "colab": {
          "base_uri": "https://localhost:8080/"
        },
        "execution": {
          "iopub.execute_input": "2023-04-22T08:24:03.791872Z",
          "iopub.status.busy": "2023-04-22T08:24:03.791348Z",
          "iopub.status.idle": "2023-04-22T12:57:22.444263Z",
          "shell.execute_reply": "2023-04-22T12:57:22.442645Z"
        },
        "id": "ccc1fd91",
        "outputId": "d77b3c55-b98a-4585-cba2-7391ed85f71d",
        "papermill": {
          "duration": 16398.970885,
          "end_time": "2023-04-22T12:57:22.599963",
          "exception": false,
          "start_time": "2023-04-22T08:24:03.629078",
          "status": "completed"
        },
        "tags": []
      },
      "outputs": [
        {
          "name": "stdout",
          "output_type": "stream",
          "text": [
            "Best parameters:  {'learning_rate': 1, 'max_depth': 9, 'n_estimators': 500}\n",
            "Best score:  0.7883444444444446\n"
          ]
        }
      ],
      "source": [
        "from xgboost import XGBClassifier\n",
        "\n",
        "# Defing XG Boosting Classifier along with random state\n",
        "XG = XGBClassifier(random_state=54 , reg_alpha=0.1)\n",
        "\n",
        "# Define parameter grid\n",
        "param_grid = {'n_estimators': [50,100,500],\n",
        "              'learning_rate': [0.3, 0.5, 1],\n",
        "              'max_depth': [3, 9, 15]}\n",
        "\n",
        "# Perform grid search\n",
        "grid_search = GridSearchCV(XG, param_grid, cv=3, scoring='accuracy')\n",
        "grid_search.fit(X_train_fselect, y_train_resampled)\n",
        "\n",
        "# Print best parameters and best score\n",
        "print(\"Best parameters: \", grid_search.best_params_)\n",
        "print(\"Best score: \", grid_search.best_score_)"
      ]
    },
    {
      "cell_type": "code",
      "execution_count": 311,
      "id": "4f4dcce3",
      "metadata": {
        "execution": {
          "iopub.execute_input": "2023-04-22T12:57:22.901897Z",
          "iopub.status.busy": "2023-04-22T12:57:22.901427Z",
          "iopub.status.idle": "2023-04-22T12:57:23.820742Z",
          "shell.execute_reply": "2023-04-22T12:57:23.819134Z"
        },
        "id": "4f4dcce3",
        "papermill": {
          "duration": 1.074379,
          "end_time": "2023-04-22T12:57:23.823982",
          "exception": false,
          "start_time": "2023-04-22T12:57:22.749603",
          "status": "completed"
        },
        "tags": []
      },
      "outputs": [],
      "source": [
        "# Make predictions on test set with best parameters\n",
        "best_xgb = grid_search.best_estimator_\n",
        "y_pred = best_xgb.predict(X_test_fselect)"
      ]
    },
    {
      "cell_type": "code",
      "execution_count": 312,
      "id": "42e18c4f",
      "metadata": {
        "colab": {
          "base_uri": "https://localhost:8080/"
        },
        "execution": {
          "iopub.execute_input": "2023-04-22T12:57:24.125821Z",
          "iopub.status.busy": "2023-04-22T12:57:24.125394Z",
          "iopub.status.idle": "2023-04-22T14:28:53.123942Z",
          "shell.execute_reply": "2023-04-22T14:28:53.122163Z"
        },
        "id": "42e18c4f",
        "outputId": "fbbabf4f-a3db-44fe-8afc-abca76896cef",
        "papermill": {
          "duration": 5489.313267,
          "end_time": "2023-04-22T14:28:53.285456",
          "exception": false,
          "start_time": "2023-04-22T12:57:23.972189",
          "status": "completed"
        },
        "tags": []
      },
      "outputs": [
        {
          "name": "stdout",
          "output_type": "stream",
          "text": [
            "Cross-validation scores: [0.78985    0.78623333 0.78895   ]\n",
            "Mean CV score: 0.7883444444444446\n"
          ]
        }
      ],
      "source": [
        "# Evaluate the model with cross-validation\n",
        "cv_scores = cross_val_score(best_xgb, X_train_fselect, y_train_resampled, cv=3)\n",
        "print(\"Cross-validation scores:\", cv_scores)\n",
        "print(\"Mean CV score:\", np.mean(cv_scores))"
      ]
    },
    {
      "cell_type": "code",
      "execution_count": 313,
      "id": "b499a9ae",
      "metadata": {
        "colab": {
          "base_uri": "https://localhost:8080/"
        },
        "execution": {
          "iopub.execute_input": "2023-04-22T14:28:53.595490Z",
          "iopub.status.busy": "2023-04-22T14:28:53.594694Z",
          "iopub.status.idle": "2023-04-22T14:28:53.634140Z",
          "shell.execute_reply": "2023-04-22T14:28:53.632703Z"
        },
        "id": "b499a9ae",
        "outputId": "b53aad0f-61b5-4f8d-ed8a-bc3edb8775f5",
        "papermill": {
          "duration": 0.199816,
          "end_time": "2023-04-22T14:28:53.636797",
          "exception": false,
          "start_time": "2023-04-22T14:28:53.436981",
          "status": "completed"
        },
        "tags": []
      },
      "outputs": [
        {
          "name": "stdout",
          "output_type": "stream",
          "text": [
            "Classification report:\n",
            "               precision    recall  f1-score   support\n",
            "\n",
            "           0       0.66      0.66      0.66     31449\n",
            "           1       0.66      0.71      0.69     27196\n",
            "           2       0.33      0.27      0.30      5740\n",
            "           3       0.23      0.21      0.22      3683\n",
            "\n",
            "    accuracy                           0.62     68068\n",
            "   macro avg       0.47      0.46      0.47     68068\n",
            "weighted avg       0.61      0.62      0.62     68068\n",
            "\n"
          ]
        }
      ],
      "source": [
        "# Calculate the confusion matrix and classification report\n",
        "cm = confusion_matrix(y_test, y_pred)\n",
        "class_report = classification_report(y_test, y_pred)\n",
        "# print(\"Confusion matrix:\\n\", conf_mat)\n",
        "print(\"Classification report:\\n\", class_report)"
      ]
    },
    {
      "cell_type": "code",
      "execution_count": 314,
      "id": "3b4cabe0",
      "metadata": {
        "execution": {
          "iopub.execute_input": "2023-04-22T14:28:53.941996Z",
          "iopub.status.busy": "2023-04-22T14:28:53.941557Z",
          "iopub.status.idle": "2023-04-22T14:28:56.405488Z",
          "shell.execute_reply": "2023-04-22T14:28:56.404116Z"
        },
        "id": "3b4cabe0",
        "papermill": {
          "duration": 2.622964,
          "end_time": "2023-04-22T14:28:56.410228",
          "exception": false,
          "start_time": "2023-04-22T14:28:53.787264",
          "status": "completed"
        },
        "tags": []
      },
      "outputs": [],
      "source": [
        "# plot_confusion_matrix(cm=cm,classes=label_encoding.keys())\n",
        "# plot_confusion_matrix(best_xgb, X_test_fselect, y_test, cmap=plt.cm.Blues);"
      ]
    },
    {
      "cell_type": "code",
      "execution_count": 315,
      "id": "d72553dc",
      "metadata": {
        "colab": {
          "base_uri": "https://localhost:8080/"
        },
        "execution": {
          "iopub.execute_input": "2023-04-22T14:28:56.730572Z",
          "iopub.status.busy": "2023-04-22T14:28:56.729834Z",
          "iopub.status.idle": "2023-04-22T14:28:56.751925Z",
          "shell.execute_reply": "2023-04-22T14:28:56.750569Z"
        },
        "id": "d72553dc",
        "outputId": "6eb59f6a-a389-4746-a2b2-ef653b1dde4e",
        "papermill": {
          "duration": 0.183732,
          "end_time": "2023-04-22T14:28:56.754235",
          "exception": false,
          "start_time": "2023-04-22T14:28:56.570503",
          "status": "completed"
        },
        "tags": []
      },
      "outputs": [
        {
          "name": "stdout",
          "output_type": "stream",
          "text": [
            "Accuracy: 0.620673444202856\n",
            "Precision: 0.6130243530411814\n",
            "Recall: 0.620673444202856\n"
          ]
        }
      ],
      "source": [
        "# Calculate the accuracy score\n",
        "accuracy = accuracy_score(y_test, y_pred)\n",
        "print(\"Accuracy:\", accuracy)\n",
        "\n",
        "precision = precision_score(y_test, y_pred,average='weighted')\n",
        "recall = recall_score(y_test, y_pred,average='weighted')\n",
        "\n",
        "print(\"Precision:\", precision)\n",
        "print(\"Recall:\", recall)"
      ]
    },
    {
      "cell_type": "markdown",
      "id": "89433124",
      "metadata": {
        "id": "89433124"
      },
      "source": [
        "Talk about model performance"
      ]
    },
    {
      "cell_type": "code",
      "execution_count": 316,
      "id": "57abd589",
      "metadata": {
        "execution": {
          "iopub.execute_input": "2023-04-22T14:28:57.185311Z",
          "iopub.status.busy": "2023-04-22T14:28:57.184381Z",
          "iopub.status.idle": "2023-04-22T14:28:57.191969Z",
          "shell.execute_reply": "2023-04-22T14:28:57.190526Z"
        },
        "id": "57abd589",
        "papermill": {
          "duration": 0.285663,
          "end_time": "2023-04-22T14:28:57.194693",
          "exception": false,
          "start_time": "2023-04-22T14:28:56.909030",
          "status": "completed"
        },
        "tags": []
      },
      "outputs": [],
      "source": [
        "# result in model data structure\n",
        "\n",
        "models['Model Name'].append('XG Booster Classifier')\n",
        "models['Accuracy'].append(accuracy)\n",
        "models['CV Score'].append(np.mean(cv_scores))\n",
        "models['Precision'].append(precision)\n",
        "models['Recall'].append(recall)"
      ]
    },
    {
      "cell_type": "markdown",
      "id": "3a15acc0",
      "metadata": {
        "id": "3a15acc0",
        "papermill": {
          "duration": 0.159024,
          "end_time": "2023-04-22T14:28:57.511248",
          "exception": false,
          "start_time": "2023-04-22T14:28:57.352224",
          "status": "completed"
        },
        "tags": []
      },
      "source": [
        "### Models Comparison"
      ]
    },
    {
      "cell_type": "code",
      "execution_count": 317,
      "id": "05a50463",
      "metadata": {
        "colab": {
          "base_uri": "https://localhost:8080/",
          "height": 175
        },
        "execution": {
          "iopub.execute_input": "2023-04-22T14:28:57.828100Z",
          "iopub.status.busy": "2023-04-22T14:28:57.827653Z",
          "iopub.status.idle": "2023-04-22T14:28:57.849010Z",
          "shell.execute_reply": "2023-04-22T14:28:57.847298Z"
        },
        "id": "05a50463",
        "outputId": "b184d214-b798-4ae0-cfdf-746d90ec07b3",
        "papermill": {
          "duration": 0.183488,
          "end_time": "2023-04-22T14:28:57.851564",
          "exception": false,
          "start_time": "2023-04-22T14:28:57.668076",
          "status": "completed"
        },
        "tags": []
      },
      "outputs": [
        {
          "data": {
            "text/html": [
              "\n",
              "  <div id=\"df-25b6a9f2-2b9a-4979-944f-32383380bbcc\">\n",
              "    <div class=\"colab-df-container\">\n",
              "      <div>\n",
              "<style scoped>\n",
              "    .dataframe tbody tr th:only-of-type {\n",
              "        vertical-align: middle;\n",
              "    }\n",
              "\n",
              "    .dataframe tbody tr th {\n",
              "        vertical-align: top;\n",
              "    }\n",
              "\n",
              "    .dataframe thead th {\n",
              "        text-align: right;\n",
              "    }\n",
              "</style>\n",
              "<table border=\"1\" class=\"dataframe\">\n",
              "  <thead>\n",
              "    <tr style=\"text-align: right;\">\n",
              "      <th></th>\n",
              "      <th>Model Name</th>\n",
              "      <th>Accuracy</th>\n",
              "      <th>CV Score</th>\n",
              "      <th>Precision</th>\n",
              "      <th>Recall</th>\n",
              "    </tr>\n",
              "  </thead>\n",
              "  <tbody>\n",
              "    <tr>\n",
              "      <th>3</th>\n",
              "      <td>XG Booster Classifier</td>\n",
              "      <td>0.620673</td>\n",
              "      <td>0.788344</td>\n",
              "      <td>0.613024</td>\n",
              "      <td>0.620673</td>\n",
              "    </tr>\n",
              "    <tr>\n",
              "      <th>2</th>\n",
              "      <td>Random Forest Classifier</td>\n",
              "      <td>0.607863</td>\n",
              "      <td>0.706567</td>\n",
              "      <td>0.616732</td>\n",
              "      <td>0.607863</td>\n",
              "    </tr>\n",
              "    <tr>\n",
              "      <th>1</th>\n",
              "      <td>KNN MODEL</td>\n",
              "      <td>0.579582</td>\n",
              "      <td>0.641989</td>\n",
              "      <td>0.606737</td>\n",
              "      <td>0.579582</td>\n",
              "    </tr>\n",
              "    <tr>\n",
              "      <th>0</th>\n",
              "      <td>Decision Tree Classifier</td>\n",
              "      <td>0.524857</td>\n",
              "      <td>0.637956</td>\n",
              "      <td>0.563699</td>\n",
              "      <td>0.524857</td>\n",
              "    </tr>\n",
              "  </tbody>\n",
              "</table>\n",
              "</div>\n",
              "      <button class=\"colab-df-convert\" onclick=\"convertToInteractive('df-25b6a9f2-2b9a-4979-944f-32383380bbcc')\"\n",
              "              title=\"Convert this dataframe to an interactive table.\"\n",
              "              style=\"display:none;\">\n",
              "        \n",
              "  <svg xmlns=\"http://www.w3.org/2000/svg\" height=\"24px\"viewBox=\"0 0 24 24\"\n",
              "       width=\"24px\">\n",
              "    <path d=\"M0 0h24v24H0V0z\" fill=\"none\"/>\n",
              "    <path d=\"M18.56 5.44l.94 2.06.94-2.06 2.06-.94-2.06-.94-.94-2.06-.94 2.06-2.06.94zm-11 1L8.5 8.5l.94-2.06 2.06-.94-2.06-.94L8.5 2.5l-.94 2.06-2.06.94zm10 10l.94 2.06.94-2.06 2.06-.94-2.06-.94-.94-2.06-.94 2.06-2.06.94z\"/><path d=\"M17.41 7.96l-1.37-1.37c-.4-.4-.92-.59-1.43-.59-.52 0-1.04.2-1.43.59L10.3 9.45l-7.72 7.72c-.78.78-.78 2.05 0 2.83L4 21.41c.39.39.9.59 1.41.59.51 0 1.02-.2 1.41-.59l7.78-7.78 2.81-2.81c.8-.78.8-2.07 0-2.86zM5.41 20L4 18.59l7.72-7.72 1.47 1.35L5.41 20z\"/>\n",
              "  </svg>\n",
              "      </button>\n",
              "      \n",
              "  <style>\n",
              "    .colab-df-container {\n",
              "      display:flex;\n",
              "      flex-wrap:wrap;\n",
              "      gap: 12px;\n",
              "    }\n",
              "\n",
              "    .colab-df-convert {\n",
              "      background-color: #E8F0FE;\n",
              "      border: none;\n",
              "      border-radius: 50%;\n",
              "      cursor: pointer;\n",
              "      display: none;\n",
              "      fill: #1967D2;\n",
              "      height: 32px;\n",
              "      padding: 0 0 0 0;\n",
              "      width: 32px;\n",
              "    }\n",
              "\n",
              "    .colab-df-convert:hover {\n",
              "      background-color: #E2EBFA;\n",
              "      box-shadow: 0px 1px 2px rgba(60, 64, 67, 0.3), 0px 1px 3px 1px rgba(60, 64, 67, 0.15);\n",
              "      fill: #174EA6;\n",
              "    }\n",
              "\n",
              "    [theme=dark] .colab-df-convert {\n",
              "      background-color: #3B4455;\n",
              "      fill: #D2E3FC;\n",
              "    }\n",
              "\n",
              "    [theme=dark] .colab-df-convert:hover {\n",
              "      background-color: #434B5C;\n",
              "      box-shadow: 0px 1px 3px 1px rgba(0, 0, 0, 0.15);\n",
              "      filter: drop-shadow(0px 1px 2px rgba(0, 0, 0, 0.3));\n",
              "      fill: #FFFFFF;\n",
              "    }\n",
              "  </style>\n",
              "\n",
              "      <script>\n",
              "        const buttonEl =\n",
              "          document.querySelector('#df-25b6a9f2-2b9a-4979-944f-32383380bbcc button.colab-df-convert');\n",
              "        buttonEl.style.display =\n",
              "          google.colab.kernel.accessAllowed ? 'block' : 'none';\n",
              "\n",
              "        async function convertToInteractive(key) {\n",
              "          const element = document.querySelector('#df-25b6a9f2-2b9a-4979-944f-32383380bbcc');\n",
              "          const dataTable =\n",
              "            await google.colab.kernel.invokeFunction('convertToInteractive',\n",
              "                                                     [key], {});\n",
              "          if (!dataTable) return;\n",
              "\n",
              "          const docLinkHtml = 'Like what you see? Visit the ' +\n",
              "            '<a target=\"_blank\" href=https://colab.research.google.com/notebooks/data_table.ipynb>data table notebook</a>'\n",
              "            + ' to learn more about interactive tables.';\n",
              "          element.innerHTML = '';\n",
              "          dataTable['output_type'] = 'display_data';\n",
              "          await google.colab.output.renderOutput(dataTable, element);\n",
              "          const docLink = document.createElement('div');\n",
              "          docLink.innerHTML = docLinkHtml;\n",
              "          element.appendChild(docLink);\n",
              "        }\n",
              "      </script>\n",
              "    </div>\n",
              "  </div>\n",
              "  "
            ],
            "text/plain": [
              "                 Model Name  Accuracy  CV Score  Precision    Recall\n",
              "3     XG Booster Classifier  0.620673  0.788344   0.613024  0.620673\n",
              "2  Random Forest Classifier  0.607863  0.706567   0.616732  0.607863\n",
              "1                 KNN MODEL  0.579582  0.641989   0.606737  0.579582\n",
              "0  Decision Tree Classifier  0.524857  0.637956   0.563699  0.524857"
            ]
          },
          "execution_count": 317,
          "metadata": {},
          "output_type": "execute_result"
        }
      ],
      "source": [
        "# Creating Dataframe of Model Evaluation\n",
        "models = pd.DataFrame(models)\n",
        "\n",
        "# top model based on Accurary\n",
        "models.sort_values(by='Accuracy', ascending= False)"
      ]
    },
    {
      "cell_type": "code",
      "execution_count": 318,
      "id": "f64b1a29",
      "metadata": {
        "colab": {
          "base_uri": "https://localhost:8080/",
          "height": 175
        },
        "execution": {
          "iopub.execute_input": "2023-04-22T14:28:58.166406Z",
          "iopub.status.busy": "2023-04-22T14:28:58.165945Z",
          "iopub.status.idle": "2023-04-22T14:28:58.181837Z",
          "shell.execute_reply": "2023-04-22T14:28:58.180374Z"
        },
        "id": "f64b1a29",
        "outputId": "c908d409-a4d9-437d-9920-81a2a9e6bb97",
        "papermill": {
          "duration": 0.178286,
          "end_time": "2023-04-22T14:28:58.184466",
          "exception": false,
          "start_time": "2023-04-22T14:28:58.006180",
          "status": "completed"
        },
        "tags": []
      },
      "outputs": [
        {
          "data": {
            "text/html": [
              "\n",
              "  <div id=\"df-f0491386-83da-48c0-8e4a-d50b14fbf586\">\n",
              "    <div class=\"colab-df-container\">\n",
              "      <div>\n",
              "<style scoped>\n",
              "    .dataframe tbody tr th:only-of-type {\n",
              "        vertical-align: middle;\n",
              "    }\n",
              "\n",
              "    .dataframe tbody tr th {\n",
              "        vertical-align: top;\n",
              "    }\n",
              "\n",
              "    .dataframe thead th {\n",
              "        text-align: right;\n",
              "    }\n",
              "</style>\n",
              "<table border=\"1\" class=\"dataframe\">\n",
              "  <thead>\n",
              "    <tr style=\"text-align: right;\">\n",
              "      <th></th>\n",
              "      <th>Model Name</th>\n",
              "      <th>Accuracy</th>\n",
              "      <th>CV Score</th>\n",
              "      <th>Precision</th>\n",
              "      <th>Recall</th>\n",
              "    </tr>\n",
              "  </thead>\n",
              "  <tbody>\n",
              "    <tr>\n",
              "      <th>3</th>\n",
              "      <td>XG Booster Classifier</td>\n",
              "      <td>0.620673</td>\n",
              "      <td>0.788344</td>\n",
              "      <td>0.613024</td>\n",
              "      <td>0.620673</td>\n",
              "    </tr>\n",
              "    <tr>\n",
              "      <th>2</th>\n",
              "      <td>Random Forest Classifier</td>\n",
              "      <td>0.607863</td>\n",
              "      <td>0.706567</td>\n",
              "      <td>0.616732</td>\n",
              "      <td>0.607863</td>\n",
              "    </tr>\n",
              "    <tr>\n",
              "      <th>1</th>\n",
              "      <td>KNN MODEL</td>\n",
              "      <td>0.579582</td>\n",
              "      <td>0.641989</td>\n",
              "      <td>0.606737</td>\n",
              "      <td>0.579582</td>\n",
              "    </tr>\n",
              "    <tr>\n",
              "      <th>0</th>\n",
              "      <td>Decision Tree Classifier</td>\n",
              "      <td>0.524857</td>\n",
              "      <td>0.637956</td>\n",
              "      <td>0.563699</td>\n",
              "      <td>0.524857</td>\n",
              "    </tr>\n",
              "  </tbody>\n",
              "</table>\n",
              "</div>\n",
              "      <button class=\"colab-df-convert\" onclick=\"convertToInteractive('df-f0491386-83da-48c0-8e4a-d50b14fbf586')\"\n",
              "              title=\"Convert this dataframe to an interactive table.\"\n",
              "              style=\"display:none;\">\n",
              "        \n",
              "  <svg xmlns=\"http://www.w3.org/2000/svg\" height=\"24px\"viewBox=\"0 0 24 24\"\n",
              "       width=\"24px\">\n",
              "    <path d=\"M0 0h24v24H0V0z\" fill=\"none\"/>\n",
              "    <path d=\"M18.56 5.44l.94 2.06.94-2.06 2.06-.94-2.06-.94-.94-2.06-.94 2.06-2.06.94zm-11 1L8.5 8.5l.94-2.06 2.06-.94-2.06-.94L8.5 2.5l-.94 2.06-2.06.94zm10 10l.94 2.06.94-2.06 2.06-.94-2.06-.94-.94-2.06-.94 2.06-2.06.94z\"/><path d=\"M17.41 7.96l-1.37-1.37c-.4-.4-.92-.59-1.43-.59-.52 0-1.04.2-1.43.59L10.3 9.45l-7.72 7.72c-.78.78-.78 2.05 0 2.83L4 21.41c.39.39.9.59 1.41.59.51 0 1.02-.2 1.41-.59l7.78-7.78 2.81-2.81c.8-.78.8-2.07 0-2.86zM5.41 20L4 18.59l7.72-7.72 1.47 1.35L5.41 20z\"/>\n",
              "  </svg>\n",
              "      </button>\n",
              "      \n",
              "  <style>\n",
              "    .colab-df-container {\n",
              "      display:flex;\n",
              "      flex-wrap:wrap;\n",
              "      gap: 12px;\n",
              "    }\n",
              "\n",
              "    .colab-df-convert {\n",
              "      background-color: #E8F0FE;\n",
              "      border: none;\n",
              "      border-radius: 50%;\n",
              "      cursor: pointer;\n",
              "      display: none;\n",
              "      fill: #1967D2;\n",
              "      height: 32px;\n",
              "      padding: 0 0 0 0;\n",
              "      width: 32px;\n",
              "    }\n",
              "\n",
              "    .colab-df-convert:hover {\n",
              "      background-color: #E2EBFA;\n",
              "      box-shadow: 0px 1px 2px rgba(60, 64, 67, 0.3), 0px 1px 3px 1px rgba(60, 64, 67, 0.15);\n",
              "      fill: #174EA6;\n",
              "    }\n",
              "\n",
              "    [theme=dark] .colab-df-convert {\n",
              "      background-color: #3B4455;\n",
              "      fill: #D2E3FC;\n",
              "    }\n",
              "\n",
              "    [theme=dark] .colab-df-convert:hover {\n",
              "      background-color: #434B5C;\n",
              "      box-shadow: 0px 1px 3px 1px rgba(0, 0, 0, 0.15);\n",
              "      filter: drop-shadow(0px 1px 2px rgba(0, 0, 0, 0.3));\n",
              "      fill: #FFFFFF;\n",
              "    }\n",
              "  </style>\n",
              "\n",
              "      <script>\n",
              "        const buttonEl =\n",
              "          document.querySelector('#df-f0491386-83da-48c0-8e4a-d50b14fbf586 button.colab-df-convert');\n",
              "        buttonEl.style.display =\n",
              "          google.colab.kernel.accessAllowed ? 'block' : 'none';\n",
              "\n",
              "        async function convertToInteractive(key) {\n",
              "          const element = document.querySelector('#df-f0491386-83da-48c0-8e4a-d50b14fbf586');\n",
              "          const dataTable =\n",
              "            await google.colab.kernel.invokeFunction('convertToInteractive',\n",
              "                                                     [key], {});\n",
              "          if (!dataTable) return;\n",
              "\n",
              "          const docLinkHtml = 'Like what you see? Visit the ' +\n",
              "            '<a target=\"_blank\" href=https://colab.research.google.com/notebooks/data_table.ipynb>data table notebook</a>'\n",
              "            + ' to learn more about interactive tables.';\n",
              "          element.innerHTML = '';\n",
              "          dataTable['output_type'] = 'display_data';\n",
              "          await google.colab.output.renderOutput(dataTable, element);\n",
              "          const docLink = document.createElement('div');\n",
              "          docLink.innerHTML = docLinkHtml;\n",
              "          element.appendChild(docLink);\n",
              "        }\n",
              "      </script>\n",
              "    </div>\n",
              "  </div>\n",
              "  "
            ],
            "text/plain": [
              "                 Model Name  Accuracy  CV Score  Precision    Recall\n",
              "3     XG Booster Classifier  0.620673  0.788344   0.613024  0.620673\n",
              "2  Random Forest Classifier  0.607863  0.706567   0.616732  0.607863\n",
              "1                 KNN MODEL  0.579582  0.641989   0.606737  0.579582\n",
              "0  Decision Tree Classifier  0.524857  0.637956   0.563699  0.524857"
            ]
          },
          "execution_count": 318,
          "metadata": {},
          "output_type": "execute_result"
        }
      ],
      "source": [
        "# top model based on CV Score\n",
        "models.sort_values(by='CV Score', ascending= False)"
      ]
    },
    {
      "cell_type": "code",
      "execution_count": 319,
      "id": "a4438f09",
      "metadata": {
        "colab": {
          "base_uri": "https://localhost:8080/",
          "height": 175
        },
        "execution": {
          "iopub.execute_input": "2023-04-22T14:28:58.509934Z",
          "iopub.status.busy": "2023-04-22T14:28:58.509475Z",
          "iopub.status.idle": "2023-04-22T14:28:58.524804Z",
          "shell.execute_reply": "2023-04-22T14:28:58.523309Z"
        },
        "id": "a4438f09",
        "outputId": "a44f6642-d31f-40f7-cbbe-d29da5becd70",
        "papermill": {
          "duration": 0.188465,
          "end_time": "2023-04-22T14:28:58.527655",
          "exception": false,
          "start_time": "2023-04-22T14:28:58.339190",
          "status": "completed"
        },
        "tags": []
      },
      "outputs": [
        {
          "data": {
            "text/html": [
              "\n",
              "  <div id=\"df-4689fe02-1737-423b-b7c5-0f1ef7e4ea94\">\n",
              "    <div class=\"colab-df-container\">\n",
              "      <div>\n",
              "<style scoped>\n",
              "    .dataframe tbody tr th:only-of-type {\n",
              "        vertical-align: middle;\n",
              "    }\n",
              "\n",
              "    .dataframe tbody tr th {\n",
              "        vertical-align: top;\n",
              "    }\n",
              "\n",
              "    .dataframe thead th {\n",
              "        text-align: right;\n",
              "    }\n",
              "</style>\n",
              "<table border=\"1\" class=\"dataframe\">\n",
              "  <thead>\n",
              "    <tr style=\"text-align: right;\">\n",
              "      <th></th>\n",
              "      <th>Model Name</th>\n",
              "      <th>Accuracy</th>\n",
              "      <th>CV Score</th>\n",
              "      <th>Precision</th>\n",
              "      <th>Recall</th>\n",
              "    </tr>\n",
              "  </thead>\n",
              "  <tbody>\n",
              "    <tr>\n",
              "      <th>3</th>\n",
              "      <td>XG Booster Classifier</td>\n",
              "      <td>0.620673</td>\n",
              "      <td>0.788344</td>\n",
              "      <td>0.613024</td>\n",
              "      <td>0.620673</td>\n",
              "    </tr>\n",
              "    <tr>\n",
              "      <th>2</th>\n",
              "      <td>Random Forest Classifier</td>\n",
              "      <td>0.607863</td>\n",
              "      <td>0.706567</td>\n",
              "      <td>0.616732</td>\n",
              "      <td>0.607863</td>\n",
              "    </tr>\n",
              "    <tr>\n",
              "      <th>1</th>\n",
              "      <td>KNN MODEL</td>\n",
              "      <td>0.579582</td>\n",
              "      <td>0.641989</td>\n",
              "      <td>0.606737</td>\n",
              "      <td>0.579582</td>\n",
              "    </tr>\n",
              "    <tr>\n",
              "      <th>0</th>\n",
              "      <td>Decision Tree Classifier</td>\n",
              "      <td>0.524857</td>\n",
              "      <td>0.637956</td>\n",
              "      <td>0.563699</td>\n",
              "      <td>0.524857</td>\n",
              "    </tr>\n",
              "  </tbody>\n",
              "</table>\n",
              "</div>\n",
              "      <button class=\"colab-df-convert\" onclick=\"convertToInteractive('df-4689fe02-1737-423b-b7c5-0f1ef7e4ea94')\"\n",
              "              title=\"Convert this dataframe to an interactive table.\"\n",
              "              style=\"display:none;\">\n",
              "        \n",
              "  <svg xmlns=\"http://www.w3.org/2000/svg\" height=\"24px\"viewBox=\"0 0 24 24\"\n",
              "       width=\"24px\">\n",
              "    <path d=\"M0 0h24v24H0V0z\" fill=\"none\"/>\n",
              "    <path d=\"M18.56 5.44l.94 2.06.94-2.06 2.06-.94-2.06-.94-.94-2.06-.94 2.06-2.06.94zm-11 1L8.5 8.5l.94-2.06 2.06-.94-2.06-.94L8.5 2.5l-.94 2.06-2.06.94zm10 10l.94 2.06.94-2.06 2.06-.94-2.06-.94-.94-2.06-.94 2.06-2.06.94z\"/><path d=\"M17.41 7.96l-1.37-1.37c-.4-.4-.92-.59-1.43-.59-.52 0-1.04.2-1.43.59L10.3 9.45l-7.72 7.72c-.78.78-.78 2.05 0 2.83L4 21.41c.39.39.9.59 1.41.59.51 0 1.02-.2 1.41-.59l7.78-7.78 2.81-2.81c.8-.78.8-2.07 0-2.86zM5.41 20L4 18.59l7.72-7.72 1.47 1.35L5.41 20z\"/>\n",
              "  </svg>\n",
              "      </button>\n",
              "      \n",
              "  <style>\n",
              "    .colab-df-container {\n",
              "      display:flex;\n",
              "      flex-wrap:wrap;\n",
              "      gap: 12px;\n",
              "    }\n",
              "\n",
              "    .colab-df-convert {\n",
              "      background-color: #E8F0FE;\n",
              "      border: none;\n",
              "      border-radius: 50%;\n",
              "      cursor: pointer;\n",
              "      display: none;\n",
              "      fill: #1967D2;\n",
              "      height: 32px;\n",
              "      padding: 0 0 0 0;\n",
              "      width: 32px;\n",
              "    }\n",
              "\n",
              "    .colab-df-convert:hover {\n",
              "      background-color: #E2EBFA;\n",
              "      box-shadow: 0px 1px 2px rgba(60, 64, 67, 0.3), 0px 1px 3px 1px rgba(60, 64, 67, 0.15);\n",
              "      fill: #174EA6;\n",
              "    }\n",
              "\n",
              "    [theme=dark] .colab-df-convert {\n",
              "      background-color: #3B4455;\n",
              "      fill: #D2E3FC;\n",
              "    }\n",
              "\n",
              "    [theme=dark] .colab-df-convert:hover {\n",
              "      background-color: #434B5C;\n",
              "      box-shadow: 0px 1px 3px 1px rgba(0, 0, 0, 0.15);\n",
              "      filter: drop-shadow(0px 1px 2px rgba(0, 0, 0, 0.3));\n",
              "      fill: #FFFFFF;\n",
              "    }\n",
              "  </style>\n",
              "\n",
              "      <script>\n",
              "        const buttonEl =\n",
              "          document.querySelector('#df-4689fe02-1737-423b-b7c5-0f1ef7e4ea94 button.colab-df-convert');\n",
              "        buttonEl.style.display =\n",
              "          google.colab.kernel.accessAllowed ? 'block' : 'none';\n",
              "\n",
              "        async function convertToInteractive(key) {\n",
              "          const element = document.querySelector('#df-4689fe02-1737-423b-b7c5-0f1ef7e4ea94');\n",
              "          const dataTable =\n",
              "            await google.colab.kernel.invokeFunction('convertToInteractive',\n",
              "                                                     [key], {});\n",
              "          if (!dataTable) return;\n",
              "\n",
              "          const docLinkHtml = 'Like what you see? Visit the ' +\n",
              "            '<a target=\"_blank\" href=https://colab.research.google.com/notebooks/data_table.ipynb>data table notebook</a>'\n",
              "            + ' to learn more about interactive tables.';\n",
              "          element.innerHTML = '';\n",
              "          dataTable['output_type'] = 'display_data';\n",
              "          await google.colab.output.renderOutput(dataTable, element);\n",
              "          const docLink = document.createElement('div');\n",
              "          docLink.innerHTML = docLinkHtml;\n",
              "          element.appendChild(docLink);\n",
              "        }\n",
              "      </script>\n",
              "    </div>\n",
              "  </div>\n",
              "  "
            ],
            "text/plain": [
              "                 Model Name  Accuracy  CV Score  Precision    Recall\n",
              "3     XG Booster Classifier  0.620673  0.788344   0.613024  0.620673\n",
              "2  Random Forest Classifier  0.607863  0.706567   0.616732  0.607863\n",
              "1                 KNN MODEL  0.579582  0.641989   0.606737  0.579582\n",
              "0  Decision Tree Classifier  0.524857  0.637956   0.563699  0.524857"
            ]
          },
          "execution_count": 319,
          "metadata": {},
          "output_type": "execute_result"
        }
      ],
      "source": [
        "# top model based on Recall Score\n",
        "models.sort_values(by='Recall', ascending= False)"
      ]
    },
    {
      "cell_type": "markdown",
      "id": "845941ca",
      "metadata": {
        "id": "845941ca",
        "papermill": {
          "duration": 0.154145,
          "end_time": "2023-04-22T14:28:58.834477",
          "exception": false,
          "start_time": "2023-04-22T14:28:58.680332",
          "status": "completed"
        },
        "tags": []
      },
      "source": [
        "## Final Model Evlauation"
      ]
    },
    {
      "cell_type": "markdown",
      "id": "54935ae3",
      "metadata": {
        "id": "54935ae3"
      },
      "source": [
        "We have looked at aa few different performaance metric but as wee taalked about eearalier, our main focus will be accuracy so thaata we know how accurate are predictions are."
      ]
    },
    {
      "cell_type": "code",
      "execution_count": 320,
      "id": "704b3aaa",
      "metadata": {
        "colab": {
          "base_uri": "https://localhost:8080/",
          "height": 81
        },
        "execution": {
          "iopub.execute_input": "2023-04-22T14:28:59.145012Z",
          "iopub.status.busy": "2023-04-22T14:28:59.144424Z",
          "iopub.status.idle": "2023-04-22T14:28:59.158800Z",
          "shell.execute_reply": "2023-04-22T14:28:59.157296Z"
        },
        "id": "704b3aaa",
        "outputId": "8b26943c-e3b8-4be7-df8f-27d553dd30e2",
        "papermill": {
          "duration": 0.173272,
          "end_time": "2023-04-22T14:28:59.161290",
          "exception": false,
          "start_time": "2023-04-22T14:28:58.988018",
          "status": "completed"
        },
        "tags": []
      },
      "outputs": [
        {
          "data": {
            "text/html": [
              "\n",
              "  <div id=\"df-ba370514-5752-4b8b-96a7-084aa3ad6688\">\n",
              "    <div class=\"colab-df-container\">\n",
              "      <div>\n",
              "<style scoped>\n",
              "    .dataframe tbody tr th:only-of-type {\n",
              "        vertical-align: middle;\n",
              "    }\n",
              "\n",
              "    .dataframe tbody tr th {\n",
              "        vertical-align: top;\n",
              "    }\n",
              "\n",
              "    .dataframe thead th {\n",
              "        text-align: right;\n",
              "    }\n",
              "</style>\n",
              "<table border=\"1\" class=\"dataframe\">\n",
              "  <thead>\n",
              "    <tr style=\"text-align: right;\">\n",
              "      <th></th>\n",
              "      <th>Model Name</th>\n",
              "      <th>Accuracy</th>\n",
              "      <th>CV Score</th>\n",
              "      <th>Precision</th>\n",
              "      <th>Recall</th>\n",
              "    </tr>\n",
              "  </thead>\n",
              "  <tbody>\n",
              "    <tr>\n",
              "      <th>3</th>\n",
              "      <td>XG Booster Classifier</td>\n",
              "      <td>0.620673</td>\n",
              "      <td>0.788344</td>\n",
              "      <td>0.613024</td>\n",
              "      <td>0.620673</td>\n",
              "    </tr>\n",
              "  </tbody>\n",
              "</table>\n",
              "</div>\n",
              "      <button class=\"colab-df-convert\" onclick=\"convertToInteractive('df-ba370514-5752-4b8b-96a7-084aa3ad6688')\"\n",
              "              title=\"Convert this dataframe to an interactive table.\"\n",
              "              style=\"display:none;\">\n",
              "        \n",
              "  <svg xmlns=\"http://www.w3.org/2000/svg\" height=\"24px\"viewBox=\"0 0 24 24\"\n",
              "       width=\"24px\">\n",
              "    <path d=\"M0 0h24v24H0V0z\" fill=\"none\"/>\n",
              "    <path d=\"M18.56 5.44l.94 2.06.94-2.06 2.06-.94-2.06-.94-.94-2.06-.94 2.06-2.06.94zm-11 1L8.5 8.5l.94-2.06 2.06-.94-2.06-.94L8.5 2.5l-.94 2.06-2.06.94zm10 10l.94 2.06.94-2.06 2.06-.94-2.06-.94-.94-2.06-.94 2.06-2.06.94z\"/><path d=\"M17.41 7.96l-1.37-1.37c-.4-.4-.92-.59-1.43-.59-.52 0-1.04.2-1.43.59L10.3 9.45l-7.72 7.72c-.78.78-.78 2.05 0 2.83L4 21.41c.39.39.9.59 1.41.59.51 0 1.02-.2 1.41-.59l7.78-7.78 2.81-2.81c.8-.78.8-2.07 0-2.86zM5.41 20L4 18.59l7.72-7.72 1.47 1.35L5.41 20z\"/>\n",
              "  </svg>\n",
              "      </button>\n",
              "      \n",
              "  <style>\n",
              "    .colab-df-container {\n",
              "      display:flex;\n",
              "      flex-wrap:wrap;\n",
              "      gap: 12px;\n",
              "    }\n",
              "\n",
              "    .colab-df-convert {\n",
              "      background-color: #E8F0FE;\n",
              "      border: none;\n",
              "      border-radius: 50%;\n",
              "      cursor: pointer;\n",
              "      display: none;\n",
              "      fill: #1967D2;\n",
              "      height: 32px;\n",
              "      padding: 0 0 0 0;\n",
              "      width: 32px;\n",
              "    }\n",
              "\n",
              "    .colab-df-convert:hover {\n",
              "      background-color: #E2EBFA;\n",
              "      box-shadow: 0px 1px 2px rgba(60, 64, 67, 0.3), 0px 1px 3px 1px rgba(60, 64, 67, 0.15);\n",
              "      fill: #174EA6;\n",
              "    }\n",
              "\n",
              "    [theme=dark] .colab-df-convert {\n",
              "      background-color: #3B4455;\n",
              "      fill: #D2E3FC;\n",
              "    }\n",
              "\n",
              "    [theme=dark] .colab-df-convert:hover {\n",
              "      background-color: #434B5C;\n",
              "      box-shadow: 0px 1px 3px 1px rgba(0, 0, 0, 0.15);\n",
              "      filter: drop-shadow(0px 1px 2px rgba(0, 0, 0, 0.3));\n",
              "      fill: #FFFFFF;\n",
              "    }\n",
              "  </style>\n",
              "\n",
              "      <script>\n",
              "        const buttonEl =\n",
              "          document.querySelector('#df-ba370514-5752-4b8b-96a7-084aa3ad6688 button.colab-df-convert');\n",
              "        buttonEl.style.display =\n",
              "          google.colab.kernel.accessAllowed ? 'block' : 'none';\n",
              "\n",
              "        async function convertToInteractive(key) {\n",
              "          const element = document.querySelector('#df-ba370514-5752-4b8b-96a7-084aa3ad6688');\n",
              "          const dataTable =\n",
              "            await google.colab.kernel.invokeFunction('convertToInteractive',\n",
              "                                                     [key], {});\n",
              "          if (!dataTable) return;\n",
              "\n",
              "          const docLinkHtml = 'Like what you see? Visit the ' +\n",
              "            '<a target=\"_blank\" href=https://colab.research.google.com/notebooks/data_table.ipynb>data table notebook</a>'\n",
              "            + ' to learn more about interactive tables.';\n",
              "          element.innerHTML = '';\n",
              "          dataTable['output_type'] = 'display_data';\n",
              "          await google.colab.output.renderOutput(dataTable, element);\n",
              "          const docLink = document.createElement('div');\n",
              "          docLink.innerHTML = docLinkHtml;\n",
              "          element.appendChild(docLink);\n",
              "        }\n",
              "      </script>\n",
              "    </div>\n",
              "  </div>\n",
              "  "
            ],
            "text/plain": [
              "              Model Name  Accuracy  CV Score  Precision    Recall\n",
              "3  XG Booster Classifier  0.620673  0.788344   0.613024  0.620673"
            ]
          },
          "execution_count": 320,
          "metadata": {},
          "output_type": "execute_result"
        }
      ],
      "source": [
        "models.sort_values(by='Accuracy', ascending= False).head(1)"
      ]
    },
    {
      "cell_type": "markdown",
      "id": "5077ca53",
      "metadata": {
        "id": "5077ca53"
      },
      "source": [
        "Talk about the final model and why it is a good option"
      ]
    },
    {
      "cell_type": "markdown",
      "id": "2ceb1201",
      "metadata": {
        "id": "2ceb1201"
      },
      "source": [
        "Lets predict the unable to determine dataset"
      ]
    },
    {
      "cell_type": "code",
      "execution_count": 321,
      "id": "c1d6ef8b",
      "metadata": {
        "id": "c1d6ef8b"
      },
      "outputs": [],
      "source": [
        "unable_to_determine_preds = best_xgb.predict(Xu_fselect)"
      ]
    },
    {
      "cell_type": "code",
      "execution_count": 322,
      "id": "01e9084c",
      "metadata": {
        "colab": {
          "base_uri": "https://localhost:8080/",
          "height": 204
        },
        "id": "01e9084c",
        "outputId": "ae890bc8-9325-4410-f22b-91561a01cf1a"
      },
      "outputs": [
        {
          "ename": "AttributeError",
          "evalue": "ignored",
          "output_type": "error",
          "traceback": [
            "\u001b[0;31m---------------------------------------------------------------------------\u001b[0m",
            "\u001b[0;31mAttributeError\u001b[0m                            Traceback (most recent call last)",
            "\u001b[0;32m<ipython-input-322-1f62d5868707>\u001b[0m in \u001b[0;36m<cell line: 1>\u001b[0;34m()\u001b[0m\n\u001b[0;32m----> 1\u001b[0;31m \u001b[0munable_to_determine_preds\u001b[0m\u001b[0;34m.\u001b[0m\u001b[0mvalue_counts\u001b[0m\u001b[0;34m(\u001b[0m\u001b[0;34m)\u001b[0m\u001b[0;34m\u001b[0m\u001b[0;34m\u001b[0m\u001b[0m\n\u001b[0m",
            "\u001b[0;31mAttributeError\u001b[0m: 'numpy.ndarray' object has no attribute 'value_counts'"
          ]
        }
      ],
      "source": [
        "unable_to_determine_preds.value_counts()"
      ]
    },
    {
      "cell_type": "markdown",
      "id": "2c79b1f3",
      "metadata": {
        "id": "2c79b1f3"
      },
      "source": [
        "Talk about these results"
      ]
    },
    {
      "cell_type": "markdown",
      "id": "c64e23ed",
      "metadata": {
        "id": "c64e23ed"
      },
      "source": [
        "Also, looking at the features that showcased to play the largest imapct were the ones listed below."
      ]
    },
    {
      "cell_type": "code",
      "execution_count": null,
      "id": "56c9bd65",
      "metadata": {
        "id": "56c9bd65"
      },
      "outputs": [],
      "source": [
        "features_used"
      ]
    },
    {
      "cell_type": "markdown",
      "id": "f710a32c",
      "metadata": {
        "id": "f710a32c"
      },
      "source": [
        "These features show that the following areas would be valuable areas for the DOT to work on towards Vision Zero"
      ]
    },
    {
      "cell_type": "markdown",
      "id": "446ce64d",
      "metadata": {
        "id": "446ce64d"
      },
      "source": [
        "Mention insights about the Top 10 features"
      ]
    },
    {
      "cell_type": "markdown",
      "id": "7b19384a",
      "metadata": {
        "id": "7b19384a",
        "papermill": {
          "duration": 0.155769,
          "end_time": "2023-04-22T14:28:59.475036",
          "exception": false,
          "start_time": "2023-04-22T14:28:59.319267",
          "status": "completed"
        },
        "tags": []
      },
      "source": [
        "## Recommendations"
      ]
    },
    {
      "cell_type": "markdown",
      "id": "2034d321",
      "metadata": {
        "id": "2034d321",
        "papermill": {
          "duration": 0.153053,
          "end_time": "2023-04-22T14:28:59.782448",
          "exception": false,
          "start_time": "2023-04-22T14:28:59.629395",
          "status": "completed"
        },
        "tags": []
      },
      "source": [
        "Talk about whether the model is performing well or not"
      ]
    },
    {
      "cell_type": "markdown",
      "id": "6e99d395",
      "metadata": {
        "id": "6e99d395",
        "papermill": {
          "duration": 0.155521,
          "end_time": "2023-04-22T14:29:00.091331",
          "exception": false,
          "start_time": "2023-04-22T14:28:59.935810",
          "status": "completed"
        },
        "tags": []
      },
      "source": [
        "### Improvements"
      ]
    },
    {
      "cell_type": "markdown",
      "id": "41083071",
      "metadata": {
        "id": "41083071",
        "papermill": {
          "duration": 0.15855,
          "end_time": "2023-04-22T14:29:00.408687",
          "exception": false,
          "start_time": "2023-04-22T14:29:00.250137",
          "status": "completed"
        },
        "tags": []
      },
      "source": [
        "Talk about what imporvements can be made"
      ]
    },
    {
      "cell_type": "markdown",
      "id": "63b6f09b",
      "metadata": {
        "id": "63b6f09b",
        "papermill": {
          "duration": 0.156063,
          "end_time": "2023-04-22T14:29:00.721286",
          "exception": false,
          "start_time": "2023-04-22T14:29:00.565223",
          "status": "completed"
        },
        "tags": []
      },
      "source": [
        "### Next Steps"
      ]
    },
    {
      "cell_type": "markdown",
      "id": "3be468db",
      "metadata": {
        "id": "3be468db",
        "papermill": {
          "duration": 0.156762,
          "end_time": "2023-04-22T14:29:01.034155",
          "exception": false,
          "start_time": "2023-04-22T14:29:00.877393",
          "status": "completed"
        },
        "tags": []
      },
      "source": [
        "Talk about either futher granular analysis and deriving insights for actionable steps"
      ]
    }
  ],
  "metadata": {
    "accelerator": "GPU",
    "colab": {
      "gpuType": "A100",
      "machine_shape": "hm",
      "provenance": []
    },
    "gpuClass": "standard",
    "kernelspec": {
      "display_name": "Python 3 (ipykernel)",
      "language": "python",
      "name": "python3"
    },
    "language_info": {
      "codemirror_mode": {
        "name": "ipython",
        "version": 3
      },
      "file_extension": ".py",
      "mimetype": "text/x-python",
      "name": "python",
      "nbconvert_exporter": "python",
      "pygments_lexer": "ipython3",
      "version": "3.9.12"
    },
    "papermill": {
      "default_parameters": {},
      "duration": 25882.00979,
      "end_time": "2023-04-22T14:29:39.020062",
      "environment_variables": {},
      "exception": true,
      "input_path": "__notebook__.ipynb",
      "output_path": "__notebook__.ipynb",
      "parameters": {},
      "start_time": "2023-04-22T07:18:17.010272",
      "version": "2.4.0"
    }
  },
  "nbformat": 4,
  "nbformat_minor": 5
}
