{
  "cells": [
    {
      "cell_type": "markdown",
      "metadata": {
        "id": "e012cbfe"
      },
      "source": [
        "# Final Project Submission"
      ],
      "id": "e012cbfe"
    },
    {
      "cell_type": "markdown",
      "metadata": {
        "id": "6e5ee9f1"
      },
      "source": [
        "* Student name: Shayan Abdul Karim Khan\n",
        "* Student pace: Self Paced\n",
        "* Scheduled project review date/time:\n",
        "* Instructor name: Abhineet Kulkarni"
      ],
      "id": "6e5ee9f1"
    },
    {
      "cell_type": "markdown",
      "metadata": {
        "id": "90336780"
      },
      "source": [
        "## Problem Overview"
      ],
      "id": "90336780"
    },
    {
      "cell_type": "markdown",
      "metadata": {
        "id": "3cb0a058"
      },
      "source": [
        "Each year more than 42,000 people are needlessly killed on American streets and thousands more are injured. We call this suffering traffic “accidents” — but, in reality, we have the power to prevent traffic collisions. To counter these fatalities and injuries, the Department of Transportations (DOTs) across the US are working towards a new vision for safety called \"Vision Zero\". \n",
        "\n",
        "Vision Zero recognizes that people will sometimes make mistakes, so the road system and related policies should be designed to ensure those inevitable mistakes do not result in severe injuries or fatalities. This means that system designers and policymakers are expected to improve the roadway environment, policies (such as speed management), and other related systems to lessen the severity of crashes by working with stakeholders ranging from auto manufacturers to policy makers.\n",
        "\n",
        "Similarly, the Chicago DOT wants to conduct a study to understand the underlying patterns for car accidents. The ask is to use the data available to predict the primary contributory cause of a car accident, given information about the car, the people in the car, the road conditions etc. "
      ],
      "id": "3cb0a058"
    },
    {
      "cell_type": "markdown",
      "metadata": {
        "id": "7025ece8"
      },
      "source": [
        "## Data Sources"
      ],
      "id": "7025ece8"
    },
    {
      "cell_type": "markdown",
      "metadata": {
        "id": "dd0584a0"
      },
      "source": [
        "The data being used is from the Chicago Polic Department (CPD) and is provided oninee by the City of Chicago. The data is from 2015 to the present day. It is updated daily but the data being used as a part of this project is recent until 3rd February 2023. \n",
        "\n",
        "There are 3 datasets being used for analysis:\n",
        "\n",
        "1. Traffic crashes data summary: https://data.cityofchicago.org/Transportation/Traffic-Crashes-Crashes/85ca-t3ifhttps://data.cityofchicago.org/Transportation/Traffic-Crashes-Crashes/85ca-t3ifv \n",
        "<br>\n",
        "\n",
        "2. Vehicles information involved in a crash: https://data.cityofchicago.org/Transportation/Traffic-Crashes-Vehicles/68nd-jvt3 \n",
        "<br>\n",
        "\n",
        "3. People information involved in a crash: https://data.cityofchicago.org/Transportation/Traffic-Crashes-People/u6pd-qa9d "
      ],
      "id": "dd0584a0"
    },
    {
      "cell_type": "markdown",
      "metadata": {
        "id": "bc69cab1"
      },
      "source": [
        "Considering that this is the official dataset of the City of Chicago regarding traffic crashes, it can be easilly concluded that it would be the most reliable dataset available. Using this dataset will also increase the confidence of the client on the results and recommendations of this project. "
      ],
      "id": "bc69cab1"
    },
    {
      "cell_type": "markdown",
      "metadata": {
        "id": "6a5bc85a"
      },
      "source": [
        "## Data Understanding"
      ],
      "id": "6a5bc85a"
    },
    {
      "cell_type": "markdown",
      "metadata": {
        "id": "d2b49fba"
      },
      "source": [
        "This section will be exploratory to understand the different features of the data. All three datasets will be explored separately. Using the source documentation, data and the features will be interpreted and determinations will be made about which features are relevant to identifying the causes of car crashes. Towards the end of exploring the data, avenues of analysis that can be used will also become clearer. As data is explored, any anomalies or issues require further cleaning/processing will be identified and handled in the `Data Preparation` section.\n",
        "\n",
        "To start things off, lets import all the libraries and functions that will be used in this notebook."
      ],
      "id": "d2b49fba"
    },
    {
      "cell_type": "code",
      "execution_count": 4,
      "metadata": {
        "colab": {
          "base_uri": "https://localhost:8080/"
        },
        "id": "41pABrcSHO3x",
        "outputId": "93ab33ef-ad51-4c2d-faba-2475b5c5d362"
      },
      "outputs": [
        {
          "output_type": "stream",
          "name": "stdout",
          "text": [
            "Looking in indexes: https://pypi.org/simple, https://us-python.pkg.dev/colab-wheels/public/simple/\n",
            "\u001b[31mERROR: Could not find a version that satisfies the requirement scikit-learn==0.22.2 (from versions: 0.9, 0.10, 0.11, 0.12, 0.12.1, 0.13, 0.13.1, 0.14, 0.14.1, 0.15.0, 0.15.1, 0.15.2, 0.16.0, 0.16.1, 0.17, 0.17.1, 0.18, 0.18.1, 0.18.2, 0.19.0, 0.19.1, 0.19.2, 0.20.0, 0.20.1, 0.20.2, 0.20.3, 0.20.4, 0.21.1, 0.21.2, 0.21.3, 0.22, 0.22.1, 0.22.2.post1, 0.23.0, 0.23.1, 0.23.2, 0.24.0, 0.24.1, 0.24.2, 1.0, 1.0.1, 1.0.2, 1.1.0, 1.1.1, 1.1.2, 1.1.3, 1.2.0rc1, 1.2.0, 1.2.1, 1.2.2)\u001b[0m\u001b[31m\n",
            "\u001b[0m\u001b[31mERROR: No matching distribution found for scikit-learn==0.22.2\u001b[0m\u001b[31m\n",
            "\u001b[0m"
          ]
        }
      ],
      "source": [
        "!pip install scikit-learn==0.22.2"
      ],
      "id": "41pABrcSHO3x"
    },
    {
      "cell_type": "code",
      "execution_count": 5,
      "metadata": {
        "id": "6dff583b"
      },
      "outputs": [],
      "source": [
        "import pandas as pd #imports the pandas library as pd to work on databases\n",
        "# from sodapy import Socrata # for API integration\n",
        "import sqlite3 as sql # imports the sqlite3 library to leverage sql with pandas\n",
        "# from pandasql import sqldf # imports pandas sql library\n",
        "from datetime import datetime # for datetime manipulation\n",
        "import matplotlib.pyplot as plt # importing matplotlib for visualizations \n",
        "\n",
        "%matplotlib inline \n",
        "import numpy as np # imports the numpy library\n",
        "import datetime as dt #import datetime module\n",
        "import seaborn as sns #import seaborn\n",
        "from collections import Counter #import Counter\n",
        "import statsmodels.api as sm #import stats models\n",
        "from statsmodels.stats.outliers_influence import variance_inflation_factor\n",
        "\n",
        "#import scikit library functions\n",
        "from sklearn.preprocessing import OneHotEncoder, StandardScaler \n",
        "from sklearn.datasets import make_regression\n",
        "from sklearn.linear_model import LinearRegression\n",
        "from sklearn.metrics import mean_squared_error\n",
        "from sklearn.model_selection import train_test_split, cross_validate, ShuffleSplit\n",
        "from sklearn.feature_selection import RFECV\n",
        "\n",
        "\n",
        "#import scipy libraries\n",
        "from scipy import stats as stats\n",
        "\n",
        "#import plotly\n",
        "import plotly.express as px\n",
        "import plotly.graph_objects as go\n",
        "\n",
        "#import libraries to deal with unbaalanced dataset\n",
        "from imblearn.over_sampling import SMOTE\n",
        "from imblearn.over_sampling import SMOTENC\n",
        "from sklearn.compose import ColumnTransformer\n",
        "from imblearn.over_sampling import SMOTENC\n",
        "\n",
        "#import metrics\n",
        "from sklearn import metrics\n",
        "import itertools\n",
        "# from sklearn.metrics import plot_confusion_matrix"
      ],
      "id": "6dff583b"
    },
    {
      "cell_type": "markdown",
      "metadata": {
        "id": "049b62e9"
      },
      "source": [
        "### Traffic Crashes - Crashes"
      ],
      "id": "049b62e9"
    },
    {
      "cell_type": "markdown",
      "metadata": {
        "id": "10f5ed15"
      },
      "source": [
        "This is the summary data for all the crashes. Thee dataset was downloaded and stores in the `data` folder as `Traffic_Crashes-Crashes`. The overview of the contents of this data is aavailable below and at https://data.cityofchicago.org/Transportation/Traffic-Crashes-Crashes/85ca-t3if."
      ],
      "id": "10f5ed15"
    },
    {
      "cell_type": "markdown",
      "metadata": {
        "id": "afd68eb0"
      },
      "source": [
        "Crash data shows information about each traffic crash on city streets within the City of Chicago limits and under the jurisdiction of Chicago Police Department (CPD). Data are shown as is from the electronic crash reporting system (E-Crash) at CPD, excluding any personally identifiable information. Records are added to the data portal when a crash report is finalized or when amendments are made to an existing report in E-Crash. Data from E-Crash are available for some police districts in 2015, but citywide data are not available until September 2017. About half of all crash reports, mostly minor crashes, are self-reported at the police district by the driver(s) involved and the other half are recorded at the scene by the police officer responding to the crash. Many of the crash parameters, including street condition data, weather condition, and posted speed limits, are recorded by the reporting officer based on best available information at the time, but many of these may disagree with posted information or other assessments on road conditions. If any new or updated information on a crash is received, the reporting officer may amend the crash report at a later time. A traffic crash within the city limits for which CPD is not the responding police agency, typically crashes on interstate highways, freeway ramps, and on local roads along the City boundary, are excluded from this dataset.\n",
        "\n",
        "As per Illinois statute, only crashes with a property damage value of $1,500 or more or involving bodily injury to any person(s) and that happen on a public roadway and that involve at least one moving vehicle, except bike dooring, are considered reportable crashes. However, CPD records every reported traffic crash event, regardless of the statute of limitations, and hence any formal Chicago crash dataset released by Illinois Department of Transportation may not include all the crashes listed here."
      ],
      "id": "afd68eb0"
    },
    {
      "cell_type": "code",
      "execution_count": 6,
      "metadata": {
        "colab": {
          "base_uri": "https://localhost:8080/",
          "height": 473
        },
        "id": "2b0a5574",
        "outputId": "875d7659-60f8-4081-9f31-68d778b2a869"
      },
      "outputs": [
        {
          "output_type": "execute_result",
          "data": {
            "text/plain": [
              "                                     CRASH_RECORD_ID     RD_NO  \\\n",
              "0  79c7a2ce89f446262efd86df3d72d18b04ba487024b7c4...  JC199149   \n",
              "1  792b539deaaad65ee5b4a9691d927a34d298eb33d42af0...  JB422857   \n",
              "2  0115ade9a755e835255508463f7e9c4a9a0b47e9304238...  JF318029   \n",
              "3  05b1982cdba5d8a00e7e76ad1ecdab0e598429f78481d2...  JF378711   \n",
              "4  017040c61958d2fa977c956b2bd2d6759ef7754496dc96...  JF324552   \n",
              "\n",
              "  CRASH_DATE_EST_I              CRASH_DATE  POSTED_SPEED_LIMIT  \\\n",
              "0              NaN  03/25/2019 02:43:00 PM                  30   \n",
              "1              NaN  09/05/2018 08:40:00 AM                  30   \n",
              "2              NaN  07/15/2022 12:45:00 AM                  30   \n",
              "3              NaN  08/29/2022 11:30:00 AM                  30   \n",
              "4              NaN  07/15/2022 06:50:00 PM                  30   \n",
              "\n",
              "  TRAFFIC_CONTROL_DEVICE      DEVICE_CONDITION WEATHER_CONDITION  \\\n",
              "0         TRAFFIC SIGNAL  FUNCTIONING PROPERLY             CLEAR   \n",
              "1            NO CONTROLS           NO CONTROLS             CLEAR   \n",
              "2                UNKNOWN               UNKNOWN             CLEAR   \n",
              "3         TRAFFIC SIGNAL  FUNCTIONING PROPERLY             CLEAR   \n",
              "4         TRAFFIC SIGNAL  FUNCTIONING PROPERLY             CLEAR   \n",
              "\n",
              "       LIGHTING_CONDITION FIRST_CRASH_TYPE  ... INJURIES_NON_INCAPACITATING  \\\n",
              "0                DAYLIGHT          TURNING  ...                         0.0   \n",
              "1                DAYLIGHT            ANGLE  ...                         0.0   \n",
              "2  DARKNESS, LIGHTED ROAD            ANGLE  ...                         0.0   \n",
              "3                DAYLIGHT         REAR END  ...                         0.0   \n",
              "4                DAYLIGHT         REAR END  ...                         0.0   \n",
              "\n",
              "   INJURIES_REPORTED_NOT_EVIDENT INJURIES_NO_INDICATION INJURIES_UNKNOWN  \\\n",
              "0                            1.0                    2.0              0.0   \n",
              "1                            0.0                    2.0              0.0   \n",
              "2                            0.0                    2.0              0.0   \n",
              "3                            0.0                    3.0              0.0   \n",
              "4                            0.0                    2.0              0.0   \n",
              "\n",
              "  CRASH_HOUR CRASH_DAY_OF_WEEK CRASH_MONTH   LATITUDE  LONGITUDE  \\\n",
              "0         14                 2           3  41.884547 -87.641201   \n",
              "1          8                 4           9  41.968562 -87.740659   \n",
              "2          0                 6           7  41.886336 -87.716203   \n",
              "3         11                 2           8  41.749348 -87.721097   \n",
              "4         18                 6           7  41.925111 -87.667997   \n",
              "\n",
              "                                   LOCATION  \n",
              "0   POINT (-87.64120093714 41.884547224337)  \n",
              "1  POINT (-87.740659314632 41.968562453871)  \n",
              "2  POINT (-87.716203130599 41.886336409761)  \n",
              "3  POINT (-87.721096727406 41.749348170421)  \n",
              "4  POINT (-87.667997321599 41.925110815832)  \n",
              "\n",
              "[5 rows x 49 columns]"
            ],
            "text/html": [
              "\n",
              "  <div id=\"df-fc974ea0-5cd8-4866-af96-851213eb8917\">\n",
              "    <div class=\"colab-df-container\">\n",
              "      <div>\n",
              "<style scoped>\n",
              "    .dataframe tbody tr th:only-of-type {\n",
              "        vertical-align: middle;\n",
              "    }\n",
              "\n",
              "    .dataframe tbody tr th {\n",
              "        vertical-align: top;\n",
              "    }\n",
              "\n",
              "    .dataframe thead th {\n",
              "        text-align: right;\n",
              "    }\n",
              "</style>\n",
              "<table border=\"1\" class=\"dataframe\">\n",
              "  <thead>\n",
              "    <tr style=\"text-align: right;\">\n",
              "      <th></th>\n",
              "      <th>CRASH_RECORD_ID</th>\n",
              "      <th>RD_NO</th>\n",
              "      <th>CRASH_DATE_EST_I</th>\n",
              "      <th>CRASH_DATE</th>\n",
              "      <th>POSTED_SPEED_LIMIT</th>\n",
              "      <th>TRAFFIC_CONTROL_DEVICE</th>\n",
              "      <th>DEVICE_CONDITION</th>\n",
              "      <th>WEATHER_CONDITION</th>\n",
              "      <th>LIGHTING_CONDITION</th>\n",
              "      <th>FIRST_CRASH_TYPE</th>\n",
              "      <th>...</th>\n",
              "      <th>INJURIES_NON_INCAPACITATING</th>\n",
              "      <th>INJURIES_REPORTED_NOT_EVIDENT</th>\n",
              "      <th>INJURIES_NO_INDICATION</th>\n",
              "      <th>INJURIES_UNKNOWN</th>\n",
              "      <th>CRASH_HOUR</th>\n",
              "      <th>CRASH_DAY_OF_WEEK</th>\n",
              "      <th>CRASH_MONTH</th>\n",
              "      <th>LATITUDE</th>\n",
              "      <th>LONGITUDE</th>\n",
              "      <th>LOCATION</th>\n",
              "    </tr>\n",
              "  </thead>\n",
              "  <tbody>\n",
              "    <tr>\n",
              "      <th>0</th>\n",
              "      <td>79c7a2ce89f446262efd86df3d72d18b04ba487024b7c4...</td>\n",
              "      <td>JC199149</td>\n",
              "      <td>NaN</td>\n",
              "      <td>03/25/2019 02:43:00 PM</td>\n",
              "      <td>30</td>\n",
              "      <td>TRAFFIC SIGNAL</td>\n",
              "      <td>FUNCTIONING PROPERLY</td>\n",
              "      <td>CLEAR</td>\n",
              "      <td>DAYLIGHT</td>\n",
              "      <td>TURNING</td>\n",
              "      <td>...</td>\n",
              "      <td>0.0</td>\n",
              "      <td>1.0</td>\n",
              "      <td>2.0</td>\n",
              "      <td>0.0</td>\n",
              "      <td>14</td>\n",
              "      <td>2</td>\n",
              "      <td>3</td>\n",
              "      <td>41.884547</td>\n",
              "      <td>-87.641201</td>\n",
              "      <td>POINT (-87.64120093714 41.884547224337)</td>\n",
              "    </tr>\n",
              "    <tr>\n",
              "      <th>1</th>\n",
              "      <td>792b539deaaad65ee5b4a9691d927a34d298eb33d42af0...</td>\n",
              "      <td>JB422857</td>\n",
              "      <td>NaN</td>\n",
              "      <td>09/05/2018 08:40:00 AM</td>\n",
              "      <td>30</td>\n",
              "      <td>NO CONTROLS</td>\n",
              "      <td>NO CONTROLS</td>\n",
              "      <td>CLEAR</td>\n",
              "      <td>DAYLIGHT</td>\n",
              "      <td>ANGLE</td>\n",
              "      <td>...</td>\n",
              "      <td>0.0</td>\n",
              "      <td>0.0</td>\n",
              "      <td>2.0</td>\n",
              "      <td>0.0</td>\n",
              "      <td>8</td>\n",
              "      <td>4</td>\n",
              "      <td>9</td>\n",
              "      <td>41.968562</td>\n",
              "      <td>-87.740659</td>\n",
              "      <td>POINT (-87.740659314632 41.968562453871)</td>\n",
              "    </tr>\n",
              "    <tr>\n",
              "      <th>2</th>\n",
              "      <td>0115ade9a755e835255508463f7e9c4a9a0b47e9304238...</td>\n",
              "      <td>JF318029</td>\n",
              "      <td>NaN</td>\n",
              "      <td>07/15/2022 12:45:00 AM</td>\n",
              "      <td>30</td>\n",
              "      <td>UNKNOWN</td>\n",
              "      <td>UNKNOWN</td>\n",
              "      <td>CLEAR</td>\n",
              "      <td>DARKNESS, LIGHTED ROAD</td>\n",
              "      <td>ANGLE</td>\n",
              "      <td>...</td>\n",
              "      <td>0.0</td>\n",
              "      <td>0.0</td>\n",
              "      <td>2.0</td>\n",
              "      <td>0.0</td>\n",
              "      <td>0</td>\n",
              "      <td>6</td>\n",
              "      <td>7</td>\n",
              "      <td>41.886336</td>\n",
              "      <td>-87.716203</td>\n",
              "      <td>POINT (-87.716203130599 41.886336409761)</td>\n",
              "    </tr>\n",
              "    <tr>\n",
              "      <th>3</th>\n",
              "      <td>05b1982cdba5d8a00e7e76ad1ecdab0e598429f78481d2...</td>\n",
              "      <td>JF378711</td>\n",
              "      <td>NaN</td>\n",
              "      <td>08/29/2022 11:30:00 AM</td>\n",
              "      <td>30</td>\n",
              "      <td>TRAFFIC SIGNAL</td>\n",
              "      <td>FUNCTIONING PROPERLY</td>\n",
              "      <td>CLEAR</td>\n",
              "      <td>DAYLIGHT</td>\n",
              "      <td>REAR END</td>\n",
              "      <td>...</td>\n",
              "      <td>0.0</td>\n",
              "      <td>0.0</td>\n",
              "      <td>3.0</td>\n",
              "      <td>0.0</td>\n",
              "      <td>11</td>\n",
              "      <td>2</td>\n",
              "      <td>8</td>\n",
              "      <td>41.749348</td>\n",
              "      <td>-87.721097</td>\n",
              "      <td>POINT (-87.721096727406 41.749348170421)</td>\n",
              "    </tr>\n",
              "    <tr>\n",
              "      <th>4</th>\n",
              "      <td>017040c61958d2fa977c956b2bd2d6759ef7754496dc96...</td>\n",
              "      <td>JF324552</td>\n",
              "      <td>NaN</td>\n",
              "      <td>07/15/2022 06:50:00 PM</td>\n",
              "      <td>30</td>\n",
              "      <td>TRAFFIC SIGNAL</td>\n",
              "      <td>FUNCTIONING PROPERLY</td>\n",
              "      <td>CLEAR</td>\n",
              "      <td>DAYLIGHT</td>\n",
              "      <td>REAR END</td>\n",
              "      <td>...</td>\n",
              "      <td>0.0</td>\n",
              "      <td>0.0</td>\n",
              "      <td>2.0</td>\n",
              "      <td>0.0</td>\n",
              "      <td>18</td>\n",
              "      <td>6</td>\n",
              "      <td>7</td>\n",
              "      <td>41.925111</td>\n",
              "      <td>-87.667997</td>\n",
              "      <td>POINT (-87.667997321599 41.925110815832)</td>\n",
              "    </tr>\n",
              "  </tbody>\n",
              "</table>\n",
              "<p>5 rows × 49 columns</p>\n",
              "</div>\n",
              "      <button class=\"colab-df-convert\" onclick=\"convertToInteractive('df-fc974ea0-5cd8-4866-af96-851213eb8917')\"\n",
              "              title=\"Convert this dataframe to an interactive table.\"\n",
              "              style=\"display:none;\">\n",
              "        \n",
              "  <svg xmlns=\"http://www.w3.org/2000/svg\" height=\"24px\"viewBox=\"0 0 24 24\"\n",
              "       width=\"24px\">\n",
              "    <path d=\"M0 0h24v24H0V0z\" fill=\"none\"/>\n",
              "    <path d=\"M18.56 5.44l.94 2.06.94-2.06 2.06-.94-2.06-.94-.94-2.06-.94 2.06-2.06.94zm-11 1L8.5 8.5l.94-2.06 2.06-.94-2.06-.94L8.5 2.5l-.94 2.06-2.06.94zm10 10l.94 2.06.94-2.06 2.06-.94-2.06-.94-.94-2.06-.94 2.06-2.06.94z\"/><path d=\"M17.41 7.96l-1.37-1.37c-.4-.4-.92-.59-1.43-.59-.52 0-1.04.2-1.43.59L10.3 9.45l-7.72 7.72c-.78.78-.78 2.05 0 2.83L4 21.41c.39.39.9.59 1.41.59.51 0 1.02-.2 1.41-.59l7.78-7.78 2.81-2.81c.8-.78.8-2.07 0-2.86zM5.41 20L4 18.59l7.72-7.72 1.47 1.35L5.41 20z\"/>\n",
              "  </svg>\n",
              "      </button>\n",
              "      \n",
              "  <style>\n",
              "    .colab-df-container {\n",
              "      display:flex;\n",
              "      flex-wrap:wrap;\n",
              "      gap: 12px;\n",
              "    }\n",
              "\n",
              "    .colab-df-convert {\n",
              "      background-color: #E8F0FE;\n",
              "      border: none;\n",
              "      border-radius: 50%;\n",
              "      cursor: pointer;\n",
              "      display: none;\n",
              "      fill: #1967D2;\n",
              "      height: 32px;\n",
              "      padding: 0 0 0 0;\n",
              "      width: 32px;\n",
              "    }\n",
              "\n",
              "    .colab-df-convert:hover {\n",
              "      background-color: #E2EBFA;\n",
              "      box-shadow: 0px 1px 2px rgba(60, 64, 67, 0.3), 0px 1px 3px 1px rgba(60, 64, 67, 0.15);\n",
              "      fill: #174EA6;\n",
              "    }\n",
              "\n",
              "    [theme=dark] .colab-df-convert {\n",
              "      background-color: #3B4455;\n",
              "      fill: #D2E3FC;\n",
              "    }\n",
              "\n",
              "    [theme=dark] .colab-df-convert:hover {\n",
              "      background-color: #434B5C;\n",
              "      box-shadow: 0px 1px 3px 1px rgba(0, 0, 0, 0.15);\n",
              "      filter: drop-shadow(0px 1px 2px rgba(0, 0, 0, 0.3));\n",
              "      fill: #FFFFFF;\n",
              "    }\n",
              "  </style>\n",
              "\n",
              "      <script>\n",
              "        const buttonEl =\n",
              "          document.querySelector('#df-fc974ea0-5cd8-4866-af96-851213eb8917 button.colab-df-convert');\n",
              "        buttonEl.style.display =\n",
              "          google.colab.kernel.accessAllowed ? 'block' : 'none';\n",
              "\n",
              "        async function convertToInteractive(key) {\n",
              "          const element = document.querySelector('#df-fc974ea0-5cd8-4866-af96-851213eb8917');\n",
              "          const dataTable =\n",
              "            await google.colab.kernel.invokeFunction('convertToInteractive',\n",
              "                                                     [key], {});\n",
              "          if (!dataTable) return;\n",
              "\n",
              "          const docLinkHtml = 'Like what you see? Visit the ' +\n",
              "            '<a target=\"_blank\" href=https://colab.research.google.com/notebooks/data_table.ipynb>data table notebook</a>'\n",
              "            + ' to learn more about interactive tables.';\n",
              "          element.innerHTML = '';\n",
              "          dataTable['output_type'] = 'display_data';\n",
              "          await google.colab.output.renderOutput(dataTable, element);\n",
              "          const docLink = document.createElement('div');\n",
              "          docLink.innerHTML = docLinkHtml;\n",
              "          element.appendChild(docLink);\n",
              "        }\n",
              "      </script>\n",
              "    </div>\n",
              "  </div>\n",
              "  "
            ]
          },
          "metadata": {},
          "execution_count": 6
        }
      ],
      "source": [
        "#import the dataset using the API endpoint\n",
        "crashes_df = pd.read_csv('data/Traffic_Crashes-Crashes.csv')\n",
        "\n",
        "#preview thee first 5 rows\n",
        "crashes_df.head()"
      ],
      "id": "2b0a5574"
    },
    {
      "cell_type": "code",
      "execution_count": 7,
      "metadata": {
        "colab": {
          "base_uri": "https://localhost:8080/"
        },
        "id": "a342d8f5",
        "outputId": "9aa43fea-4d33-4aac-ca4b-ad06e5d185f8"
      },
      "outputs": [
        {
          "output_type": "stream",
          "name": "stdout",
          "text": [
            "<class 'pandas.core.frame.DataFrame'>\n",
            "RangeIndex: 692784 entries, 0 to 692783\n",
            "Data columns (total 49 columns):\n",
            " #   Column                         Non-Null Count   Dtype  \n",
            "---  ------                         --------------   -----  \n",
            " 0   CRASH_RECORD_ID                692784 non-null  object \n",
            " 1   RD_NO                          688672 non-null  object \n",
            " 2   CRASH_DATE_EST_I               52531 non-null   object \n",
            " 3   CRASH_DATE                     692784 non-null  object \n",
            " 4   POSTED_SPEED_LIMIT             692784 non-null  int64  \n",
            " 5   TRAFFIC_CONTROL_DEVICE         692784 non-null  object \n",
            " 6   DEVICE_CONDITION               692784 non-null  object \n",
            " 7   WEATHER_CONDITION              692784 non-null  object \n",
            " 8   LIGHTING_CONDITION             692784 non-null  object \n",
            " 9   FIRST_CRASH_TYPE               692784 non-null  object \n",
            " 10  TRAFFICWAY_TYPE                692784 non-null  object \n",
            " 11  LANE_CNT                       198997 non-null  float64\n",
            " 12  ALIGNMENT                      692784 non-null  object \n",
            " 13  ROADWAY_SURFACE_COND           692784 non-null  object \n",
            " 14  ROAD_DEFECT                    692784 non-null  object \n",
            " 15  REPORT_TYPE                    673774 non-null  object \n",
            " 16  CRASH_TYPE                     692784 non-null  object \n",
            " 17  INTERSECTION_RELATED_I         158797 non-null  object \n",
            " 18  NOT_RIGHT_OF_WAY_I             32485 non-null   object \n",
            " 19  HIT_AND_RUN_I                  214969 non-null  object \n",
            " 20  DAMAGE                         692784 non-null  object \n",
            " 21  DATE_POLICE_NOTIFIED           692784 non-null  object \n",
            " 22  PRIM_CONTRIBUTORY_CAUSE        692784 non-null  object \n",
            " 23  SEC_CONTRIBUTORY_CAUSE         692784 non-null  object \n",
            " 24  STREET_NO                      692784 non-null  int64  \n",
            " 25  STREET_DIRECTION               692780 non-null  object \n",
            " 26  STREET_NAME                    692783 non-null  object \n",
            " 27  BEAT_OF_OCCURRENCE             692779 non-null  float64\n",
            " 28  PHOTOS_TAKEN_I                 8586 non-null    object \n",
            " 29  STATEMENTS_TAKEN_I             14493 non-null   object \n",
            " 30  DOORING_I                      2128 non-null    object \n",
            " 31  WORK_ZONE_I                    4046 non-null    object \n",
            " 32  WORK_ZONE_TYPE                 3170 non-null    object \n",
            " 33  WORKERS_PRESENT_I              1048 non-null    object \n",
            " 34  NUM_UNITS                      692784 non-null  int64  \n",
            " 35  MOST_SEVERE_INJURY             691281 non-null  object \n",
            " 36  INJURIES_TOTAL                 691292 non-null  float64\n",
            " 37  INJURIES_FATAL                 691292 non-null  float64\n",
            " 38  INJURIES_INCAPACITATING        691292 non-null  float64\n",
            " 39  INJURIES_NON_INCAPACITATING    691292 non-null  float64\n",
            " 40  INJURIES_REPORTED_NOT_EVIDENT  691292 non-null  float64\n",
            " 41  INJURIES_NO_INDICATION         691292 non-null  float64\n",
            " 42  INJURIES_UNKNOWN               691292 non-null  float64\n",
            " 43  CRASH_HOUR                     692784 non-null  int64  \n",
            " 44  CRASH_DAY_OF_WEEK              692784 non-null  int64  \n",
            " 45  CRASH_MONTH                    692784 non-null  int64  \n",
            " 46  LATITUDE                       688378 non-null  float64\n",
            " 47  LONGITUDE                      688378 non-null  float64\n",
            " 48  LOCATION                       688378 non-null  object \n",
            "dtypes: float64(11), int64(6), object(32)\n",
            "memory usage: 259.0+ MB\n"
          ]
        }
      ],
      "source": [
        "#Explore the info for all the features\n",
        "crashes_df.info()"
      ],
      "id": "a342d8f5"
    },
    {
      "cell_type": "markdown",
      "metadata": {
        "id": "40554ddf"
      },
      "source": [
        "There are a number of columns with missing values but they can also simply be categorical columns that don't apply to all records. The documentation on the columns available on https://data.cityofchicago.org/Transportation/Traffic-Crashes-Crashes/85ca-t3if can be used to explore the columns separately. The descriptions have also been listed below."
      ],
      "id": "40554ddf"
    },
    {
      "cell_type": "markdown",
      "metadata": {
        "id": "66983826"
      },
      "source": [
        "1. `CRASH_RECORD_ID`: This number can be used to link to the same crash in the Vehicles and People datasets. This number also serves as a unique ID in this dataset. This will be important for joining the databases.\n",
        "<br>\n",
        "\n",
        "2. `RD_NO`: Chicago Police Department report number. For privacy reasons, this column is blank for recent crashes.\n",
        "This column can be ignored since this does not give us any insight into the causes of crashes. **DROP COLUMN**\n",
        "<br>\n",
        "\n",
        "3. `CRASH_DATE_EST_I`: Crash date estimated by desk officer or reporting party (only used in cases where crash is reported at police station days after the crash). This column can be ignored since there are missing values here. There is another column for Crash Dates but has no missing values. **DROP COLUMN**\n",
        "<br>\n",
        "\n",
        "4. `CRASH_DATE`: Date and time of crash as entered by the reporting officer. This gives us insight into if there are periods where there are more crashes than others. If there is a discernable pattern, appropriate preventative measures can be taken. The time and date will have to be separated out for individual analysis. Also the initial description of thee dataset mentions that 2018 onwards citywide E-craash daat aiss available. Therefore, the data will be filtered out accordingly. Also, the daata has to be changed to datetime versions for proper use.\n",
        "<br>\n",
        "\n",
        "5. `POSTED_SPEED_LIMIT`: Posted speed limit, as determined by reporting officer. This is the speed limit for the area where the crash happened. This coupled with the speed that the car was travelling at can help inform if the crash was at high speeds. Consequently, this can be a critical contirbutor in determining the cause of the crash.\n",
        "<br>\n",
        "\n",
        "6. `TRAFFIC_CONTROL_DEVICE`: Traffic control device present at crash location, as determined by reporting officer. It would be important to understand the contents of this column before making a decision on its use. "
      ],
      "id": "66983826"
    },
    {
      "cell_type": "code",
      "execution_count": 8,
      "metadata": {
        "colab": {
          "base_uri": "https://localhost:8080/"
        },
        "id": "f5cddd2b",
        "outputId": "0cd16021-b7ee-4b5c-ea32-49c20ba72e03"
      },
      "outputs": [
        {
          "output_type": "execute_result",
          "data": {
            "text/plain": [
              "CRASH_RECORD_ID                       0\n",
              "RD_NO                              4112\n",
              "CRASH_DATE_EST_I                 640253\n",
              "CRASH_DATE                            0\n",
              "POSTED_SPEED_LIMIT                    0\n",
              "TRAFFIC_CONTROL_DEVICE                0\n",
              "DEVICE_CONDITION                      0\n",
              "WEATHER_CONDITION                     0\n",
              "LIGHTING_CONDITION                    0\n",
              "FIRST_CRASH_TYPE                      0\n",
              "TRAFFICWAY_TYPE                       0\n",
              "LANE_CNT                         493787\n",
              "ALIGNMENT                             0\n",
              "ROADWAY_SURFACE_COND                  0\n",
              "ROAD_DEFECT                           0\n",
              "REPORT_TYPE                       19010\n",
              "CRASH_TYPE                            0\n",
              "INTERSECTION_RELATED_I           533987\n",
              "NOT_RIGHT_OF_WAY_I               660299\n",
              "HIT_AND_RUN_I                    477815\n",
              "DAMAGE                                0\n",
              "DATE_POLICE_NOTIFIED                  0\n",
              "PRIM_CONTRIBUTORY_CAUSE               0\n",
              "SEC_CONTRIBUTORY_CAUSE                0\n",
              "STREET_NO                             0\n",
              "STREET_DIRECTION                      4\n",
              "STREET_NAME                           1\n",
              "BEAT_OF_OCCURRENCE                    5\n",
              "PHOTOS_TAKEN_I                   684198\n",
              "STATEMENTS_TAKEN_I               678291\n",
              "DOORING_I                        690656\n",
              "WORK_ZONE_I                      688738\n",
              "WORK_ZONE_TYPE                   689614\n",
              "WORKERS_PRESENT_I                691736\n",
              "NUM_UNITS                             0\n",
              "MOST_SEVERE_INJURY                 1503\n",
              "INJURIES_TOTAL                     1492\n",
              "INJURIES_FATAL                     1492\n",
              "INJURIES_INCAPACITATING            1492\n",
              "INJURIES_NON_INCAPACITATING        1492\n",
              "INJURIES_REPORTED_NOT_EVIDENT      1492\n",
              "INJURIES_NO_INDICATION             1492\n",
              "INJURIES_UNKNOWN                   1492\n",
              "CRASH_HOUR                            0\n",
              "CRASH_DAY_OF_WEEK                     0\n",
              "CRASH_MONTH                           0\n",
              "LATITUDE                           4406\n",
              "LONGITUDE                          4406\n",
              "LOCATION                           4406\n",
              "dtype: int64"
            ]
          },
          "metadata": {},
          "execution_count": 8
        }
      ],
      "source": [
        "# checking null values\n",
        "crashes_df.isna().sum()"
      ],
      "id": "f5cddd2b"
    },
    {
      "cell_type": "code",
      "execution_count": 9,
      "metadata": {
        "colab": {
          "base_uri": "https://localhost:8080/"
        },
        "id": "40758857",
        "outputId": "3db89264-2811-4fc1-c43d-a7738ece4460"
      },
      "outputs": [
        {
          "output_type": "execute_result",
          "data": {
            "text/plain": [
              "NO CONTROLS                 397249\n",
              "TRAFFIC SIGNAL              192000\n",
              "STOP SIGN/FLASHER            68792\n",
              "UNKNOWN                      24545\n",
              "OTHER                         4515\n",
              "LANE USE MARKING              1226\n",
              "YIELD                          977\n",
              "OTHER REG. SIGN                721\n",
              "OTHER WARNING SIGN             591\n",
              "RAILROAD CROSSING GATE         448\n",
              "PEDESTRIAN CROSSING SIGN       384\n",
              "DELINEATORS                    271\n",
              "SCHOOL ZONE                    263\n",
              "FLASHING CONTROL SIGNAL        248\n",
              "POLICE/FLAGMAN                 243\n",
              "OTHER RAILROAD CROSSING        159\n",
              "RR CROSSING SIGN                93\n",
              "NO PASSING                      40\n",
              "BICYCLE CROSSING SIGN           19\n",
              "Name: TRAFFIC_CONTROL_DEVICE, dtype: int64"
            ]
          },
          "metadata": {},
          "execution_count": 9
        }
      ],
      "source": [
        "#check unique values\n",
        "crashes_df['TRAFFIC_CONTROL_DEVICE'].value_counts()"
      ],
      "id": "40758857"
    },
    {
      "cell_type": "markdown",
      "metadata": {
        "id": "fda192cb"
      },
      "source": [
        "There are multiple categories but the `NO CONTROLS` category stands out with almost 50% share in the data for this column. The other categorieswould be location dependent signage. This data can be used to determine whether `NO CCONTROLS` plays a significantlt higher part in certain types of crashes. The data in this column can be grouped together to only two categories, `NO CONTROLS` and `CONTROLS`."
      ],
      "id": "fda192cb"
    },
    {
      "cell_type": "markdown",
      "metadata": {
        "id": "13892c2a"
      },
      "source": [
        "7. `DEVICE_CONDITION`: Condition of traffic control device, as determined by reporting officer. This would be an important aspect to consider. Lets explore the contents of this column."
      ],
      "id": "13892c2a"
    },
    {
      "cell_type": "code",
      "execution_count": 10,
      "metadata": {
        "colab": {
          "base_uri": "https://localhost:8080/"
        },
        "id": "a2df6db8",
        "outputId": "47fc95a6-636b-4ae1-e438-41d4d5d8614b"
      },
      "outputs": [
        {
          "output_type": "execute_result",
          "data": {
            "text/plain": [
              "NO CONTROLS                 401903\n",
              "FUNCTIONING PROPERLY        238515\n",
              "UNKNOWN                      41164\n",
              "OTHER                         5347\n",
              "FUNCTIONING IMPROPERLY        3373\n",
              "NOT FUNCTIONING               2143\n",
              "WORN REFLECTIVE MATERIAL       258\n",
              "MISSING                         81\n",
              "Name: DEVICE_CONDITION, dtype: int64"
            ]
          },
          "metadata": {},
          "execution_count": 10
        }
      ],
      "source": [
        "#check unique values\n",
        "crashes_df['DEVICE_CONDITION'].value_counts()"
      ],
      "id": "a2df6db8"
    },
    {
      "cell_type": "markdown",
      "metadata": {
        "id": "82fd0322"
      },
      "source": [
        "Considering that this column also has a demarcated category of `NO CONTROLS` with categories highlighting whther there were any issues with the traffic control devices present, it would be more useful to use this column rather than using the `TRAFFIC_CONTROL_DEVICE` column. It is also clear that having no controls is the biggest contributor to traffic crashes but what kind of impact they have is something that has to be explored.\n",
        "\n",
        "Therefore, **DROP `TRAFFIC_CONTROL_DEVICE` COLUMN**"
      ],
      "id": "82fd0322"
    },
    {
      "cell_type": "markdown",
      "metadata": {
        "id": "d53a6011"
      },
      "source": [
        "`WEATHER_CONDITION`: Weather condition at time of crash, as determined by reporting officer. This will definitely be a big factor in predicting the cause of crashes as well since the weather can play a big part in traffic accidents. Lets take a look at the contents of the column."
      ],
      "id": "d53a6011"
    },
    {
      "cell_type": "code",
      "execution_count": 11,
      "metadata": {
        "colab": {
          "base_uri": "https://localhost:8080/"
        },
        "id": "374d4931",
        "outputId": "c06b944d-0011-46b9-bf97-e7e5bc4f6eb9"
      },
      "outputs": [
        {
          "output_type": "execute_result",
          "data": {
            "text/plain": [
              "CLEAR                       546474\n",
              "RAIN                         59674\n",
              "UNKNOWN                      34543\n",
              "SNOW                         25734\n",
              "CLOUDY/OVERCAST              20505\n",
              "OTHER                         2204\n",
              "FREEZING RAIN/DRIZZLE         1229\n",
              "FOG/SMOKE/HAZE                1031\n",
              "SLEET/HAIL                     881\n",
              "BLOWING SNOW                   367\n",
              "SEVERE CROSS WIND GATE         138\n",
              "BLOWING SAND, SOIL, DIRT         4\n",
              "Name: WEATHER_CONDITION, dtype: int64"
            ]
          },
          "metadata": {},
          "execution_count": 11
        }
      ],
      "source": [
        "#check unique values\n",
        "crashes_df['WEATHER_CONDITION'].value_counts()"
      ],
      "id": "374d4931"
    },
    {
      "cell_type": "markdown",
      "metadata": {
        "id": "a4b6d0e0"
      },
      "source": [
        "The unkown data has to be dealt with in the **Data Preparation** section but all other data will be valuable to carry forward. It seems like the most car crashes take place in the clear weather while the worse the weather is the fewer car crashes there are. This might be becausee people naturally are more carefull during bad weather. Nonetheless this has to be inveestigated more to see whether inclement weather accidents are more serious or impact specific types of vehicles. It can also be that there are less vehicles on the road during inclement weather therefore while the numbers might be low, the ratio of cars on the road and number of accidents might be high."
      ],
      "id": "a4b6d0e0"
    },
    {
      "cell_type": "markdown",
      "metadata": {
        "id": "c96a5dab"
      },
      "source": [
        "`LIGHTING_CONDITION`: Light condition at time of crash, as determined by reporting office. This is also another big factor. Theoretically, bad lighting conditions can play a big part in car crashes. This column can prove to be critial. Lets invvestigate it to understand the contents."
      ],
      "id": "c96a5dab"
    },
    {
      "cell_type": "code",
      "execution_count": 12,
      "metadata": {
        "colab": {
          "base_uri": "https://localhost:8080/"
        },
        "id": "3291c49c",
        "outputId": "0a1a3322-59ac-4a1c-a592-d97fc5b57f77",
        "scrolled": true
      },
      "outputs": [
        {
          "output_type": "execute_result",
          "data": {
            "text/plain": [
              "DAYLIGHT                  445517\n",
              "DARKNESS, LIGHTED ROAD    153269\n",
              "DARKNESS                   33364\n",
              "UNKNOWN                    28678\n",
              "DUSK                       20317\n",
              "DAWN                       11639\n",
              "Name: LIGHTING_CONDITION, dtype: int64"
            ]
          },
          "metadata": {},
          "execution_count": 12
        }
      ],
      "source": [
        "#check unique values\n",
        "crashes_df['LIGHTING_CONDITION'].value_counts()"
      ],
      "id": "3291c49c"
    },
    {
      "cell_type": "code",
      "execution_count": 13,
      "metadata": {
        "colab": {
          "base_uri": "https://localhost:8080/"
        },
        "id": "d31da885",
        "outputId": "5da58055-d807-41ba-c417-6a87ddf1f4e7"
      },
      "outputs": [
        {
          "output_type": "execute_result",
          "data": {
            "text/plain": [
              "DAYLIGHT                  0.643082\n",
              "DARKNESS, LIGHTED ROAD    0.221236\n",
              "DARKNESS                  0.048159\n",
              "UNKNOWN                   0.041395\n",
              "DUSK                      0.029327\n",
              "DAWN                      0.016800\n",
              "Name: LIGHTING_CONDITION, dtype: float64"
            ]
          },
          "metadata": {},
          "execution_count": 13
        }
      ],
      "source": [
        "crashes_df['LIGHTING_CONDITION'].value_counts(normalize=True)"
      ],
      "id": "d31da885"
    },
    {
      "cell_type": "markdown",
      "metadata": {
        "id": "b0be404b"
      },
      "source": [
        "Similar to the weather conditions data, it looks like the best lighting condition has the most accidents. This can be either be because peoplee are generally more careful when there's less light or that there are fewer cars on the road therefore fewer accidents. Regardless, considering that almost 91% of crashes occured in either Daylight, Lighted roads, or unknown, means that this data will not be able to help us greatlly distinguish patterns in the causes of the crashes.\n",
        "\n",
        "**DROP LIGHTING_CONDITION COLUMN**"
      ],
      "id": "b0be404b"
    },
    {
      "cell_type": "markdown",
      "metadata": {
        "id": "4ccd3314"
      },
      "source": [
        "`ROAD_DEFECT`: Road defects, as determined by reporting officer. This might be important. Lets take a look at the data first."
      ],
      "id": "4ccd3314"
    },
    {
      "cell_type": "code",
      "execution_count": 14,
      "metadata": {
        "colab": {
          "base_uri": "https://localhost:8080/"
        },
        "id": "88665123",
        "outputId": "50a8b32d-eeba-459f-9081-d1d77c4123c1"
      },
      "outputs": [
        {
          "output_type": "execute_result",
          "data": {
            "text/plain": [
              "NO DEFECTS           565943\n",
              "UNKNOWN              112665\n",
              "RUT, HOLES             5561\n",
              "OTHER                  3858\n",
              "WORN SURFACE           2859\n",
              "SHOULDER DEFECT        1350\n",
              "DEBRIS ON ROADWAY       548\n",
              "Name: ROAD_DEFECT, dtype: int64"
            ]
          },
          "metadata": {},
          "execution_count": 14
        }
      ],
      "source": [
        "#check unique values\n",
        "crashes_df['ROAD_DEFECT'].value_counts()"
      ],
      "id": "88665123"
    },
    {
      "cell_type": "code",
      "execution_count": 15,
      "metadata": {
        "colab": {
          "base_uri": "https://localhost:8080/"
        },
        "id": "d29cc46e",
        "outputId": "604c8afd-a7bb-49b5-8e4d-a012affa7d60"
      },
      "outputs": [
        {
          "output_type": "execute_result",
          "data": {
            "text/plain": [
              "NO DEFECTS           0.816911\n",
              "UNKNOWN              0.162626\n",
              "RUT, HOLES           0.008027\n",
              "OTHER                0.005569\n",
              "WORN SURFACE         0.004127\n",
              "SHOULDER DEFECT      0.001949\n",
              "DEBRIS ON ROADWAY    0.000791\n",
              "Name: ROAD_DEFECT, dtype: float64"
            ]
          },
          "metadata": {},
          "execution_count": 15
        }
      ],
      "source": [
        "#check the ratios\n",
        "crashes_df['ROAD_DEFECT'].value_counts(normalize=True)"
      ],
      "id": "d29cc46e"
    },
    {
      "cell_type": "markdown",
      "metadata": {
        "id": "a4846322"
      },
      "source": [
        "Almost 97% of the crashes occured in NO DEFECTS or UNKOWN zones which means that this data will not help in any significant way. \n",
        "\n",
        "**DROP ROAD_DEFECT COLUMN**"
      ],
      "id": "a4846322"
    },
    {
      "cell_type": "markdown",
      "metadata": {
        "id": "d067b1fa"
      },
      "source": [
        "`REPORT_TYPE`: Administrative report type (at scene, at desk, amended). This column can be ignored for the purposes of this analysis.\n",
        "\n",
        "**DROP REPORT_TYPE COLUMN**"
      ],
      "id": "d067b1fa"
    },
    {
      "cell_type": "markdown",
      "metadata": {
        "id": "05230185"
      },
      "source": [
        "`CRASH_TYPE`: A general severity classification for the crash. Can be either Injury and/or Tow Due to Crash or No Injury / Drive Away. This data will be used to filter on crashes that had injuries or fatalities. While the eventual goal is to have no crashes, the goal of this analysis is to support work towards Vision Zero which focuses on fatalities and injuries. Lets investigate the contents if this column before movving on."
      ],
      "id": "05230185"
    },
    {
      "cell_type": "code",
      "execution_count": 16,
      "metadata": {
        "colab": {
          "base_uri": "https://localhost:8080/"
        },
        "id": "fa734724",
        "outputId": "f2b23fc3-6c78-41f6-e445-2d1938698929"
      },
      "outputs": [
        {
          "output_type": "execute_result",
          "data": {
            "text/plain": [
              "NO INJURY / DRIVE AWAY              510406\n",
              "INJURY AND / OR TOW DUE TO CRASH    182378\n",
              "Name: CRASH_TYPE, dtype: int64"
            ]
          },
          "metadata": {},
          "execution_count": 16
        }
      ],
      "source": [
        "#check unique values\n",
        "crashes_df['CRASH_TYPE'].value_counts()"
      ],
      "id": "fa734724"
    },
    {
      "cell_type": "markdown",
      "metadata": {
        "id": "6b6a06c8"
      },
      "source": [
        "With only 180,000 records, out data size will be significantly reduced but helps us focus on the main problem."
      ],
      "id": "6b6a06c8"
    },
    {
      "cell_type": "markdown",
      "metadata": {
        "id": "ab76a24c"
      },
      "source": [
        "`INTERSECTION_RELATED_I`: A field observation by the police officer whether an intersection played a role in the crash. Does not represent whether or not the crash occurred within the intersection. \n",
        "Lets investigate the contents of this column."
      ],
      "id": "ab76a24c"
    },
    {
      "cell_type": "code",
      "execution_count": 17,
      "metadata": {
        "colab": {
          "base_uri": "https://localhost:8080/"
        },
        "id": "cd054495",
        "outputId": "fbfacf6f-c091-403b-d0f0-beb27d4c9f59"
      },
      "outputs": [
        {
          "output_type": "execute_result",
          "data": {
            "text/plain": [
              "Y    151396\n",
              "N      7401\n",
              "Name: INTERSECTION_RELATED_I, dtype: int64"
            ]
          },
          "metadata": {},
          "execution_count": 17
        }
      ],
      "source": [
        "#check unique values\n",
        "crashes_df['INTERSECTION_RELATED_I'].value_counts()"
      ],
      "id": "cd054495"
    },
    {
      "cell_type": "markdown",
      "metadata": {
        "id": "fc5d0372"
      },
      "source": [
        "This column has several missing values that we can't replace and dropping those records would be detrimeental to the dataset. Therefore this column can be ignored.\n",
        "\n",
        "**DROP INTERSECTION_RELATED_I COLUMN**"
      ],
      "id": "fc5d0372"
    },
    {
      "cell_type": "markdown",
      "metadata": {
        "id": "32b42fa3"
      },
      "source": [
        "`NOT_RIGHT_OF_WAY_I`: Whether the crash begun or first contact was made outside of the public right-of-way. This column also has almost 50% of its values missing. Also, this gives us insight into the circumstances around a crash but not significant insight into the cause of a crash. \n",
        "\n",
        "**DROP NOT_RIGHT_OF_WAY_I COLUMN**"
      ],
      "id": "32b42fa3"
    },
    {
      "cell_type": "markdown",
      "metadata": {
        "id": "15178997"
      },
      "source": [
        "`HIT_AND_RUN_I`: Crash did/did not involve a driver who caused the crash and fled the scene without exchanging information and/or rendering aid. This gives us inight into the aftermaths of the crash but no significant insight into the cause of it.\n",
        "\n",
        "**DROP HIT_AND_RUN_I COLUMN**"
      ],
      "id": "15178997"
    },
    {
      "cell_type": "markdown",
      "metadata": {
        "id": "e2e7dbb9"
      },
      "source": [
        "`DAMAGE`: A field observation of estimated damage. Similar to the previous two, this doesn't provide insight into the causes of the crash. \n",
        "\n",
        "**DROP DAMAGE COLUMN**"
      ],
      "id": "e2e7dbb9"
    },
    {
      "cell_type": "markdown",
      "metadata": {
        "id": "e55f9a47"
      },
      "source": [
        "`DATE_POLICE_NOTIFIED`: Calendar date on which police were notified of the crash. Similarly, this doesn't provide any insight into the causes of the crash.\n",
        "\n",
        "**DROP DATE_POLICE_NOTIFIED COLUMN**"
      ],
      "id": "e55f9a47"
    },
    {
      "cell_type": "markdown",
      "metadata": {
        "id": "07ed4799"
      },
      "source": [
        "`PRIM_CONTRIBUTORY_CAUSE`: The factor which was most significant in causing the crash, as determined by officer judgment. This will be the target column that will be used. Lets investigate the contents of this column."
      ],
      "id": "07ed4799"
    },
    {
      "cell_type": "code",
      "execution_count": 18,
      "metadata": {
        "colab": {
          "base_uri": "https://localhost:8080/"
        },
        "id": "03c91dd3",
        "outputId": "28e3cfe7-de79-4434-d5ab-0ef571ad1853"
      },
      "outputs": [
        {
          "output_type": "execute_result",
          "data": {
            "text/plain": [
              "UNABLE TO DETERMINE                                                                 266260\n",
              "FAILING TO YIELD RIGHT-OF-WAY                                                        75716\n",
              "FOLLOWING TOO CLOSELY                                                                69035\n",
              "NOT APPLICABLE                                                                       36421\n",
              "IMPROPER OVERTAKING/PASSING                                                          33504\n",
              "FAILING TO REDUCE SPEED TO AVOID CRASH                                               29613\n",
              "IMPROPER BACKING                                                                     28228\n",
              "IMPROPER LANE USAGE                                                                  25526\n",
              "IMPROPER TURNING/NO SIGNAL                                                           22879\n",
              "DRIVING SKILLS/KNOWLEDGE/EXPERIENCE                                                  22419\n",
              "DISREGARDING TRAFFIC SIGNALS                                                         13383\n",
              "WEATHER                                                                              11029\n",
              "OPERATING VEHICLE IN ERRATIC, RECKLESS, CARELESS, NEGLIGENT OR AGGRESSIVE MANNER      8804\n",
              "DISREGARDING STOP SIGN                                                                7705\n",
              "DISTRACTION - FROM INSIDE VEHICLE                                                     4829\n",
              "EQUIPMENT - VEHICLE CONDITION                                                         4415\n",
              "PHYSICAL CONDITION OF DRIVER                                                          4221\n",
              "VISION OBSCURED (SIGNS, TREE LIMBS, BUILDINGS, ETC.)                                  3977\n",
              "DRIVING ON WRONG SIDE/WRONG WAY                                                       3580\n",
              "UNDER THE INFLUENCE OF ALCOHOL/DRUGS (USE WHEN ARREST IS EFFECTED)                    3418\n",
              "DISTRACTION - FROM OUTSIDE VEHICLE                                                    2959\n",
              "EXCEEDING AUTHORIZED SPEED LIMIT                                                      1982\n",
              "ROAD ENGINEERING/SURFACE/MARKING DEFECTS                                              1795\n",
              "EXCEEDING SAFE SPEED FOR CONDITIONS                                                   1684\n",
              "ROAD CONSTRUCTION/MAINTENANCE                                                         1548\n",
              "DISREGARDING OTHER TRAFFIC SIGNS                                                      1509\n",
              "EVASIVE ACTION DUE TO ANIMAL, OBJECT, NONMOTORIST                                     1305\n",
              "CELL PHONE USE OTHER THAN TEXTING                                                      944\n",
              "DISREGARDING ROAD MARKINGS                                                             891\n",
              "HAD BEEN DRINKING (USE WHEN ARREST IS NOT MADE)                                        748\n",
              "ANIMAL                                                                                 577\n",
              "TURNING RIGHT ON RED                                                                   485\n",
              "DISTRACTION - OTHER ELECTRONIC DEVICE (NAVIGATION DEVICE, DVD PLAYER, ETC.)            327\n",
              "RELATED TO BUS STOP                                                                    291\n",
              "TEXTING                                                                                282\n",
              "DISREGARDING YIELD SIGN                                                                247\n",
              "PASSING STOPPED SCHOOL BUS                                                              87\n",
              "BICYCLE ADVANCING LEGALLY ON RED LIGHT                                                  76\n",
              "OBSTRUCTED CROSSWALKS                                                                   65\n",
              "MOTORCYCLE ADVANCING LEGALLY ON RED LIGHT                                               20\n",
              "Name: PRIM_CONTRIBUTORY_CAUSE, dtype: int64"
            ]
          },
          "metadata": {},
          "execution_count": 18
        }
      ],
      "source": [
        "#check unique values\n",
        "crashes_df['PRIM_CONTRIBUTORY_CAUSE'].value_counts()"
      ],
      "id": "03c91dd3"
    },
    {
      "cell_type": "markdown",
      "metadata": {
        "id": "199544bc"
      },
      "source": [
        "While there are a lot of categories, there seem to be several overlapping ones which we can group later on during the Data Preparation phase."
      ],
      "id": "199544bc"
    },
    {
      "cell_type": "markdown",
      "metadata": {
        "id": "c100e550"
      },
      "source": [
        "`SEC_CONTRIBUTORY_CAUSE`: The factor which was second most significant in causing the crash, as determined by officer judgment. Similar to the previous one, this will be an important column in analysis."
      ],
      "id": "c100e550"
    },
    {
      "cell_type": "code",
      "execution_count": 19,
      "metadata": {
        "colab": {
          "base_uri": "https://localhost:8080/"
        },
        "id": "e2152577",
        "outputId": "ce765d13-0c99-4df7-93e2-68f7a7c27a58"
      },
      "outputs": [
        {
          "output_type": "execute_result",
          "data": {
            "text/plain": [
              "NOT APPLICABLE                                                                      282372\n",
              "UNABLE TO DETERMINE                                                                 251338\n",
              "FAILING TO REDUCE SPEED TO AVOID CRASH                                               26909\n",
              "DRIVING SKILLS/KNOWLEDGE/EXPERIENCE                                                  21221\n",
              "FAILING TO YIELD RIGHT-OF-WAY                                                        21098\n",
              "FOLLOWING TOO CLOSELY                                                                18283\n",
              "IMPROPER OVERTAKING/PASSING                                                          10318\n",
              "IMPROPER LANE USAGE                                                                   9863\n",
              "WEATHER                                                                               8260\n",
              "IMPROPER TURNING/NO SIGNAL                                                            6921\n",
              "IMPROPER BACKING                                                                      5666\n",
              "OPERATING VEHICLE IN ERRATIC, RECKLESS, CARELESS, NEGLIGENT OR AGGRESSIVE MANNER      4457\n",
              "DISREGARDING TRAFFIC SIGNALS                                                          2749\n",
              "VISION OBSCURED (SIGNS, TREE LIMBS, BUILDINGS, ETC.)                                  2245\n",
              "PHYSICAL CONDITION OF DRIVER                                                          2178\n",
              "DISTRACTION - FROM INSIDE VEHICLE                                                     2135\n",
              "DISREGARDING STOP SIGN                                                                2061\n",
              "EXCEEDING AUTHORIZED SPEED LIMIT                                                      1473\n",
              "EXCEEDING SAFE SPEED FOR CONDITIONS                                                   1438\n",
              "EQUIPMENT - VEHICLE CONDITION                                                         1405\n",
              "DRIVING ON WRONG SIDE/WRONG WAY                                                       1369\n",
              "DISTRACTION - FROM OUTSIDE VEHICLE                                                    1190\n",
              "UNDER THE INFLUENCE OF ALCOHOL/DRUGS (USE WHEN ARREST IS EFFECTED)                    1165\n",
              "HAD BEEN DRINKING (USE WHEN ARREST IS NOT MADE)                                        895\n",
              "ROAD CONSTRUCTION/MAINTENANCE                                                          837\n",
              "DISREGARDING ROAD MARKINGS                                                             729\n",
              "DISREGARDING OTHER TRAFFIC SIGNS                                                       724\n",
              "ROAD ENGINEERING/SURFACE/MARKING DEFECTS                                               717\n",
              "CELL PHONE USE OTHER THAN TEXTING                                                      530\n",
              "EVASIVE ACTION DUE TO ANIMAL, OBJECT, NONMOTORIST                                      384\n",
              "ANIMAL                                                                                 331\n",
              "RELATED TO BUS STOP                                                                    307\n",
              "TURNING RIGHT ON RED                                                                   254\n",
              "BICYCLE ADVANCING LEGALLY ON RED LIGHT                                                 224\n",
              "DISTRACTION - OTHER ELECTRONIC DEVICE (NAVIGATION DEVICE, DVD PLAYER, ETC.)            214\n",
              "DISREGARDING YIELD SIGN                                                                183\n",
              "TEXTING                                                                                129\n",
              "PASSING STOPPED SCHOOL BUS                                                              86\n",
              "OBSTRUCTED CROSSWALKS                                                                   71\n",
              "MOTORCYCLE ADVANCING LEGALLY ON RED LIGHT                                               55\n",
              "Name: SEC_CONTRIBUTORY_CAUSE, dtype: int64"
            ]
          },
          "metadata": {},
          "execution_count": 19
        }
      ],
      "source": [
        "#check unique values\n",
        "crashes_df['SEC_CONTRIBUTORY_CAUSE'].value_counts()"
      ],
      "id": "e2152577"
    },
    {
      "cell_type": "markdown",
      "metadata": {
        "id": "6780b1d6"
      },
      "source": [
        "While there are a lot of categories, there seem to be several overlapping ones which we can group later on during the Data Preparation phase."
      ],
      "id": "6780b1d6"
    },
    {
      "cell_type": "markdown",
      "metadata": {
        "id": "46ca0467"
      },
      "source": [
        "`STREET_NO`: Street address number of crash location, as determined by reporting officer. While this is a valuable data point, there are latitude and longtitude data points which can proove to be more useful.\n",
        "\n",
        "**DROP STREET_NO COLUMN**"
      ],
      "id": "46ca0467"
    },
    {
      "cell_type": "markdown",
      "metadata": {
        "id": "f8dfafa2"
      },
      "source": [
        "Similarly, `STREET_DIRECTION`, `STREET_NAME`, and `BEAT_OF_OCCURRENCE` can be **DROPPED**."
      ],
      "id": "f8dfafa2"
    },
    {
      "cell_type": "markdown",
      "metadata": {
        "id": "86cf2e3b"
      },
      "source": [
        "Also `PHOTOS_TAKEN_I` and `STATEMENTS_TAKEN_I` are relevant to the police investigation records but not for the purposes of this notebook's analysis. Therefore they can be **DROPPED**"
      ],
      "id": "86cf2e3b"
    },
    {
      "cell_type": "markdown",
      "metadata": {
        "id": "742ae25c"
      },
      "source": [
        "`WORK_ZONE_I`, `WORK_ZONE_TYPE`, and `WORKERS_PRESENT_I` are important columns to caarry forward. Usually these aree critical areas where speed limits are significantly reduced and there is a lot of worker traffic during shift hours. These can be very sensitive areas that can be significant towards attaining Vision Zero therefore it will be interesting to see their contribution towards crashes. \n",
        "\n",
        "Nonetheless we can drop the `WORK_ZONE_TYPE` column since the granularity of the analysis isn't specifically based on work zone type crashes. If aa significant correlation is found, then this area can be further investigated in future analysis."
      ],
      "id": "742ae25c"
    },
    {
      "cell_type": "markdown",
      "metadata": {
        "id": "f2f25a10"
      },
      "source": [
        "`NUM_UNITS` will be an important data point since it gives information on the number of units involved in the crash.\n",
        "\n",
        "Similarly, aligning with the Vision Zero goal, `INJURIES_TOTAL` and `INJURIES_FATAL` would be valuable columns to use in analysis. The other Injuries columns can be **DROPPED**."
      ],
      "id": "f2f25a10"
    },
    {
      "cell_type": "markdown",
      "metadata": {
        "id": "2ae4e24c"
      },
      "source": [
        "`CRASH_HOUR`, `CRASH_DAY_OF_WEEK`, and `CRASH_MONTH` can be used instead of the timesatamp in column `CRASH_DATE` since these are broken down values. Nonetheless, what would be valuable from the timestamp column is the year of the crash. It might be possible that the year can play a big part in recognizing patterns of the accidents."
      ],
      "id": "2ae4e24c"
    },
    {
      "cell_type": "markdown",
      "metadata": {
        "id": "5f7c1e42"
      },
      "source": [
        "`LATITUDE` and `LONGITUDE` will be used for location data for crashes. This will helo determine if there are specific areas that more volatile to crashes as compared to others."
      ],
      "id": "5f7c1e42"
    },
    {
      "cell_type": "markdown",
      "metadata": {
        "id": "2e7a815c"
      },
      "source": [
        "**SUMMARY**"
      ],
      "id": "2e7a815c"
    },
    {
      "cell_type": "markdown",
      "metadata": {
        "id": "63076003"
      },
      "source": [
        "The following columns will be carried forward:\n",
        "\n",
        "1. CRASH_RECORD_ID\n",
        "2. CRASH_DATE\n",
        "3. POSTED_SPEED_LIMIT\n",
        "4. DEVICE_CONDITION\n",
        "5. WEATHER_CONDITION\n",
        "6. CRASH_TYPE\n",
        "7. PRIM_CONTRIBUTORY_CAUSE\n",
        "8. SEC_CONTRIBUTORY_CAUSE\n",
        "9. WORK_ZONE_I\n",
        "10. WORKERS_PRESENT_I\n",
        "11. INJURIES_TOTAL\n",
        "12. INJURIES_FATAL\n",
        "13. CRASH_HOUR\n",
        "14. CRASH_DAY_OF_WEEK\n",
        "15. CRASH_MONTH\n",
        "16. LATITUDE\n",
        "17. LONGITUDE"
      ],
      "id": "63076003"
    },
    {
      "cell_type": "markdown",
      "metadata": {
        "id": "f8e88b92"
      },
      "source": [
        "### Traffic Crashes - Vechiles"
      ],
      "id": "f8e88b92"
    },
    {
      "cell_type": "markdown",
      "metadata": {
        "id": "02bf5f8d"
      },
      "source": [
        "This is the summary data for all the crashes. Thee dataset was downloaded and stores in the `data` folder as `Traffic_Crashes-Vehicles`. The overview of the contents of this data is aavailable below and at https://data.cityofchicago.org/Transportation/Traffic-Crashes-Vehicles/68nd-jvt3."
      ],
      "id": "02bf5f8d"
    },
    {
      "cell_type": "markdown",
      "metadata": {
        "id": "e7f7ff7a"
      },
      "source": [
        "This dataset contains information about vehicles (or units as they are identified in crash reports) involved in a traffic crash. This dataset should be used in conjunction with the traffic Crash and People dataset available in the portal. “Vehicle” information includes motor vehicle and non-motor vehicle modes of transportation, such as bicycles and pedestrians. Each mode of transportation involved in a crash is a “unit” and get one entry here. Each vehicle, each pedestrian, each motorcyclist, and each bicyclist is considered an independent unit that can have a trajectory separate from the other units. However, people inside a vehicle including the driver do not have a trajectory separate from the vehicle in which they are travelling and hence only the vehicle they are travelling in get any entry here. This type of identification of “units” is needed to determine how each movement affected the crash. Data for occupants who do not make up an independent unit, typically drivers and passengers, are available in the People table. Many of the fields are coded to denote the type and location of damage on the vehicle. Vehicle information can be linked back to Crash data using the “CRASH_RECORD_ID” field. Since this dataset is a combination of vehicles, pedestrians, and pedal cyclists not all columns are applicable to each record."
      ],
      "id": "e7f7ff7a"
    },
    {
      "cell_type": "code",
      "execution_count": 20,
      "metadata": {
        "colab": {
          "base_uri": "https://localhost:8080/",
          "height": 457
        },
        "id": "4b273e2c",
        "outputId": "3205aacb-f10a-41e3-f1a5-4f1ebc47fe4e",
        "scrolled": true
      },
      "outputs": [
        {
          "output_type": "stream",
          "name": "stderr",
          "text": [
            "<ipython-input-20-e77540458d9f>:2: DtypeWarning: Columns (19,21,40,41,42,44,48,49,50,53,55,58,59,61,71) have mixed types. Specify dtype option on import or set low_memory=False.\n",
            "  vehicles_df = pd.read_csv('data/Traffic_Crashes-Vehicles.csv')\n"
          ]
        },
        {
          "output_type": "execute_result",
          "data": {
            "text/plain": [
              "   CRASH_UNIT_ID                                    CRASH_RECORD_ID     RD_NO  \\\n",
              "0         829999  24ddf9fd8542199d832e1c223cc474e5601b356f1d77a6...  JD124535   \n",
              "1         749947  81dc0de2ed92aa62baccab641fa377be7feb1cc47e6554...  JC451435   \n",
              "2         749949  81dc0de2ed92aa62baccab641fa377be7feb1cc47e6554...  JC451435   \n",
              "3         749950  81dc0de2ed92aa62baccab641fa377be7feb1cc47e6554...  JC451435   \n",
              "4         871921  af84fb5c8d996fcd3aefd36593c3a02e6e7509eeb27568...  JD208731   \n",
              "\n",
              "               CRASH_DATE  UNIT_NO UNIT_TYPE  NUM_PASSENGERS  VEHICLE_ID  \\\n",
              "0  01/22/2020 06:25:00 AM        1    DRIVER             NaN    796949.0   \n",
              "1  09/28/2019 03:30:00 AM        1    DRIVER             NaN    834816.0   \n",
              "2  09/28/2019 03:30:00 AM        2    PARKED             NaN    834819.0   \n",
              "3  09/28/2019 03:30:00 AM        3    PARKED             NaN    834817.0   \n",
              "4  04/13/2020 10:50:00 PM        2    DRIVER             NaN    827212.0   \n",
              "\n",
              "  CMRC_VEH_I                              MAKE  ... TRAILER1_LENGTH  \\\n",
              "0        NaN                          INFINITI  ...             NaN   \n",
              "1        NaN                             HONDA  ...             NaN   \n",
              "2        NaN                            TOYOTA  ...             NaN   \n",
              "3        NaN  GENERAL MOTORS CORPORATION (GMC)  ...             NaN   \n",
              "4        NaN                             BUICK  ...             NaN   \n",
              "\n",
              "  TRAILER2_LENGTH  TOTAL_VEHICLE_LENGTH AXLE_CNT VEHICLE_CONFIG  \\\n",
              "0             NaN                   NaN      NaN            NaN   \n",
              "1             NaN                   NaN      NaN            NaN   \n",
              "2             NaN                   NaN      NaN            NaN   \n",
              "3             NaN                   NaN      NaN            NaN   \n",
              "4             NaN                   NaN      NaN            NaN   \n",
              "\n",
              "  CARGO_BODY_TYPE LOAD_TYPE HAZMAT_OUT_OF_SERVICE_I MCS_OUT_OF_SERVICE_I  \\\n",
              "0             NaN       NaN                     NaN                  NaN   \n",
              "1             NaN       NaN                     NaN                  NaN   \n",
              "2             NaN       NaN                     NaN                  NaN   \n",
              "3             NaN       NaN                     NaN                  NaN   \n",
              "4             NaN       NaN                     NaN                  NaN   \n",
              "\n",
              "  HAZMAT_CLASS  \n",
              "0          NaN  \n",
              "1          NaN  \n",
              "2          NaN  \n",
              "3          NaN  \n",
              "4          NaN  \n",
              "\n",
              "[5 rows x 72 columns]"
            ],
            "text/html": [
              "\n",
              "  <div id=\"df-c13103b2-a851-4fc6-8674-a76240fbe1cd\">\n",
              "    <div class=\"colab-df-container\">\n",
              "      <div>\n",
              "<style scoped>\n",
              "    .dataframe tbody tr th:only-of-type {\n",
              "        vertical-align: middle;\n",
              "    }\n",
              "\n",
              "    .dataframe tbody tr th {\n",
              "        vertical-align: top;\n",
              "    }\n",
              "\n",
              "    .dataframe thead th {\n",
              "        text-align: right;\n",
              "    }\n",
              "</style>\n",
              "<table border=\"1\" class=\"dataframe\">\n",
              "  <thead>\n",
              "    <tr style=\"text-align: right;\">\n",
              "      <th></th>\n",
              "      <th>CRASH_UNIT_ID</th>\n",
              "      <th>CRASH_RECORD_ID</th>\n",
              "      <th>RD_NO</th>\n",
              "      <th>CRASH_DATE</th>\n",
              "      <th>UNIT_NO</th>\n",
              "      <th>UNIT_TYPE</th>\n",
              "      <th>NUM_PASSENGERS</th>\n",
              "      <th>VEHICLE_ID</th>\n",
              "      <th>CMRC_VEH_I</th>\n",
              "      <th>MAKE</th>\n",
              "      <th>...</th>\n",
              "      <th>TRAILER1_LENGTH</th>\n",
              "      <th>TRAILER2_LENGTH</th>\n",
              "      <th>TOTAL_VEHICLE_LENGTH</th>\n",
              "      <th>AXLE_CNT</th>\n",
              "      <th>VEHICLE_CONFIG</th>\n",
              "      <th>CARGO_BODY_TYPE</th>\n",
              "      <th>LOAD_TYPE</th>\n",
              "      <th>HAZMAT_OUT_OF_SERVICE_I</th>\n",
              "      <th>MCS_OUT_OF_SERVICE_I</th>\n",
              "      <th>HAZMAT_CLASS</th>\n",
              "    </tr>\n",
              "  </thead>\n",
              "  <tbody>\n",
              "    <tr>\n",
              "      <th>0</th>\n",
              "      <td>829999</td>\n",
              "      <td>24ddf9fd8542199d832e1c223cc474e5601b356f1d77a6...</td>\n",
              "      <td>JD124535</td>\n",
              "      <td>01/22/2020 06:25:00 AM</td>\n",
              "      <td>1</td>\n",
              "      <td>DRIVER</td>\n",
              "      <td>NaN</td>\n",
              "      <td>796949.0</td>\n",
              "      <td>NaN</td>\n",
              "      <td>INFINITI</td>\n",
              "      <td>...</td>\n",
              "      <td>NaN</td>\n",
              "      <td>NaN</td>\n",
              "      <td>NaN</td>\n",
              "      <td>NaN</td>\n",
              "      <td>NaN</td>\n",
              "      <td>NaN</td>\n",
              "      <td>NaN</td>\n",
              "      <td>NaN</td>\n",
              "      <td>NaN</td>\n",
              "      <td>NaN</td>\n",
              "    </tr>\n",
              "    <tr>\n",
              "      <th>1</th>\n",
              "      <td>749947</td>\n",
              "      <td>81dc0de2ed92aa62baccab641fa377be7feb1cc47e6554...</td>\n",
              "      <td>JC451435</td>\n",
              "      <td>09/28/2019 03:30:00 AM</td>\n",
              "      <td>1</td>\n",
              "      <td>DRIVER</td>\n",
              "      <td>NaN</td>\n",
              "      <td>834816.0</td>\n",
              "      <td>NaN</td>\n",
              "      <td>HONDA</td>\n",
              "      <td>...</td>\n",
              "      <td>NaN</td>\n",
              "      <td>NaN</td>\n",
              "      <td>NaN</td>\n",
              "      <td>NaN</td>\n",
              "      <td>NaN</td>\n",
              "      <td>NaN</td>\n",
              "      <td>NaN</td>\n",
              "      <td>NaN</td>\n",
              "      <td>NaN</td>\n",
              "      <td>NaN</td>\n",
              "    </tr>\n",
              "    <tr>\n",
              "      <th>2</th>\n",
              "      <td>749949</td>\n",
              "      <td>81dc0de2ed92aa62baccab641fa377be7feb1cc47e6554...</td>\n",
              "      <td>JC451435</td>\n",
              "      <td>09/28/2019 03:30:00 AM</td>\n",
              "      <td>2</td>\n",
              "      <td>PARKED</td>\n",
              "      <td>NaN</td>\n",
              "      <td>834819.0</td>\n",
              "      <td>NaN</td>\n",
              "      <td>TOYOTA</td>\n",
              "      <td>...</td>\n",
              "      <td>NaN</td>\n",
              "      <td>NaN</td>\n",
              "      <td>NaN</td>\n",
              "      <td>NaN</td>\n",
              "      <td>NaN</td>\n",
              "      <td>NaN</td>\n",
              "      <td>NaN</td>\n",
              "      <td>NaN</td>\n",
              "      <td>NaN</td>\n",
              "      <td>NaN</td>\n",
              "    </tr>\n",
              "    <tr>\n",
              "      <th>3</th>\n",
              "      <td>749950</td>\n",
              "      <td>81dc0de2ed92aa62baccab641fa377be7feb1cc47e6554...</td>\n",
              "      <td>JC451435</td>\n",
              "      <td>09/28/2019 03:30:00 AM</td>\n",
              "      <td>3</td>\n",
              "      <td>PARKED</td>\n",
              "      <td>NaN</td>\n",
              "      <td>834817.0</td>\n",
              "      <td>NaN</td>\n",
              "      <td>GENERAL MOTORS CORPORATION (GMC)</td>\n",
              "      <td>...</td>\n",
              "      <td>NaN</td>\n",
              "      <td>NaN</td>\n",
              "      <td>NaN</td>\n",
              "      <td>NaN</td>\n",
              "      <td>NaN</td>\n",
              "      <td>NaN</td>\n",
              "      <td>NaN</td>\n",
              "      <td>NaN</td>\n",
              "      <td>NaN</td>\n",
              "      <td>NaN</td>\n",
              "    </tr>\n",
              "    <tr>\n",
              "      <th>4</th>\n",
              "      <td>871921</td>\n",
              "      <td>af84fb5c8d996fcd3aefd36593c3a02e6e7509eeb27568...</td>\n",
              "      <td>JD208731</td>\n",
              "      <td>04/13/2020 10:50:00 PM</td>\n",
              "      <td>2</td>\n",
              "      <td>DRIVER</td>\n",
              "      <td>NaN</td>\n",
              "      <td>827212.0</td>\n",
              "      <td>NaN</td>\n",
              "      <td>BUICK</td>\n",
              "      <td>...</td>\n",
              "      <td>NaN</td>\n",
              "      <td>NaN</td>\n",
              "      <td>NaN</td>\n",
              "      <td>NaN</td>\n",
              "      <td>NaN</td>\n",
              "      <td>NaN</td>\n",
              "      <td>NaN</td>\n",
              "      <td>NaN</td>\n",
              "      <td>NaN</td>\n",
              "      <td>NaN</td>\n",
              "    </tr>\n",
              "  </tbody>\n",
              "</table>\n",
              "<p>5 rows × 72 columns</p>\n",
              "</div>\n",
              "      <button class=\"colab-df-convert\" onclick=\"convertToInteractive('df-c13103b2-a851-4fc6-8674-a76240fbe1cd')\"\n",
              "              title=\"Convert this dataframe to an interactive table.\"\n",
              "              style=\"display:none;\">\n",
              "        \n",
              "  <svg xmlns=\"http://www.w3.org/2000/svg\" height=\"24px\"viewBox=\"0 0 24 24\"\n",
              "       width=\"24px\">\n",
              "    <path d=\"M0 0h24v24H0V0z\" fill=\"none\"/>\n",
              "    <path d=\"M18.56 5.44l.94 2.06.94-2.06 2.06-.94-2.06-.94-.94-2.06-.94 2.06-2.06.94zm-11 1L8.5 8.5l.94-2.06 2.06-.94-2.06-.94L8.5 2.5l-.94 2.06-2.06.94zm10 10l.94 2.06.94-2.06 2.06-.94-2.06-.94-.94-2.06-.94 2.06-2.06.94z\"/><path d=\"M17.41 7.96l-1.37-1.37c-.4-.4-.92-.59-1.43-.59-.52 0-1.04.2-1.43.59L10.3 9.45l-7.72 7.72c-.78.78-.78 2.05 0 2.83L4 21.41c.39.39.9.59 1.41.59.51 0 1.02-.2 1.41-.59l7.78-7.78 2.81-2.81c.8-.78.8-2.07 0-2.86zM5.41 20L4 18.59l7.72-7.72 1.47 1.35L5.41 20z\"/>\n",
              "  </svg>\n",
              "      </button>\n",
              "      \n",
              "  <style>\n",
              "    .colab-df-container {\n",
              "      display:flex;\n",
              "      flex-wrap:wrap;\n",
              "      gap: 12px;\n",
              "    }\n",
              "\n",
              "    .colab-df-convert {\n",
              "      background-color: #E8F0FE;\n",
              "      border: none;\n",
              "      border-radius: 50%;\n",
              "      cursor: pointer;\n",
              "      display: none;\n",
              "      fill: #1967D2;\n",
              "      height: 32px;\n",
              "      padding: 0 0 0 0;\n",
              "      width: 32px;\n",
              "    }\n",
              "\n",
              "    .colab-df-convert:hover {\n",
              "      background-color: #E2EBFA;\n",
              "      box-shadow: 0px 1px 2px rgba(60, 64, 67, 0.3), 0px 1px 3px 1px rgba(60, 64, 67, 0.15);\n",
              "      fill: #174EA6;\n",
              "    }\n",
              "\n",
              "    [theme=dark] .colab-df-convert {\n",
              "      background-color: #3B4455;\n",
              "      fill: #D2E3FC;\n",
              "    }\n",
              "\n",
              "    [theme=dark] .colab-df-convert:hover {\n",
              "      background-color: #434B5C;\n",
              "      box-shadow: 0px 1px 3px 1px rgba(0, 0, 0, 0.15);\n",
              "      filter: drop-shadow(0px 1px 2px rgba(0, 0, 0, 0.3));\n",
              "      fill: #FFFFFF;\n",
              "    }\n",
              "  </style>\n",
              "\n",
              "      <script>\n",
              "        const buttonEl =\n",
              "          document.querySelector('#df-c13103b2-a851-4fc6-8674-a76240fbe1cd button.colab-df-convert');\n",
              "        buttonEl.style.display =\n",
              "          google.colab.kernel.accessAllowed ? 'block' : 'none';\n",
              "\n",
              "        async function convertToInteractive(key) {\n",
              "          const element = document.querySelector('#df-c13103b2-a851-4fc6-8674-a76240fbe1cd');\n",
              "          const dataTable =\n",
              "            await google.colab.kernel.invokeFunction('convertToInteractive',\n",
              "                                                     [key], {});\n",
              "          if (!dataTable) return;\n",
              "\n",
              "          const docLinkHtml = 'Like what you see? Visit the ' +\n",
              "            '<a target=\"_blank\" href=https://colab.research.google.com/notebooks/data_table.ipynb>data table notebook</a>'\n",
              "            + ' to learn more about interactive tables.';\n",
              "          element.innerHTML = '';\n",
              "          dataTable['output_type'] = 'display_data';\n",
              "          await google.colab.output.renderOutput(dataTable, element);\n",
              "          const docLink = document.createElement('div');\n",
              "          docLink.innerHTML = docLinkHtml;\n",
              "          element.appendChild(docLink);\n",
              "        }\n",
              "      </script>\n",
              "    </div>\n",
              "  </div>\n",
              "  "
            ]
          },
          "metadata": {},
          "execution_count": 20
        }
      ],
      "source": [
        "#import the dataset using the API endpoint\n",
        "vehicles_df = pd.read_csv('data/Traffic_Crashes-Vehicles.csv')\n",
        "\n",
        "#preview thee first 5 rows\n",
        "vehicles_df.head()"
      ],
      "id": "4b273e2c"
    },
    {
      "cell_type": "code",
      "execution_count": 21,
      "metadata": {
        "colab": {
          "base_uri": "https://localhost:8080/"
        },
        "id": "e3114c13",
        "outputId": "d6907cee-9ba8-4bed-c903-b910411347d2"
      },
      "outputs": [
        {
          "output_type": "stream",
          "name": "stdout",
          "text": [
            "<class 'pandas.core.frame.DataFrame'>\n",
            "RangeIndex: 1416095 entries, 0 to 1416094\n",
            "Data columns (total 72 columns):\n",
            " #   Column                    Non-Null Count    Dtype  \n",
            "---  ------                    --------------    -----  \n",
            " 0   CRASH_UNIT_ID             1416095 non-null  int64  \n",
            " 1   CRASH_RECORD_ID           1416095 non-null  object \n",
            " 2   RD_NO                     1408273 non-null  object \n",
            " 3   CRASH_DATE                1416095 non-null  object \n",
            " 4   UNIT_NO                   1416095 non-null  int64  \n",
            " 5   UNIT_TYPE                 1414134 non-null  object \n",
            " 6   NUM_PASSENGERS            209579 non-null   float64\n",
            " 7   VEHICLE_ID                1384025 non-null  float64\n",
            " 8   CMRC_VEH_I                26451 non-null    object \n",
            " 9   MAKE                      1384020 non-null  object \n",
            " 10  MODEL                     1383876 non-null  object \n",
            " 11  LIC_PLATE_STATE           1258222 non-null  object \n",
            " 12  VEHICLE_YEAR              1159243 non-null  float64\n",
            " 13  VEHICLE_DEFECT            1384025 non-null  object \n",
            " 14  VEHICLE_TYPE              1384025 non-null  object \n",
            " 15  VEHICLE_USE               1384025 non-null  object \n",
            " 16  TRAVEL_DIRECTION          1384025 non-null  object \n",
            " 17  MANEUVER                  1384025 non-null  object \n",
            " 18  TOWED_I                   173461 non-null   object \n",
            " 19  FIRE_I                    1132 non-null     object \n",
            " 20  OCCUPANT_CNT              1384025 non-null  float64\n",
            " 21  EXCEED_SPEED_LIMIT_I      2397 non-null     object \n",
            " 22  TOWED_BY                  129266 non-null   object \n",
            " 23  TOWED_TO                  79553 non-null    object \n",
            " 24  AREA_00_I                 50097 non-null    object \n",
            " 25  AREA_01_I                 374799 non-null   object \n",
            " 26  AREA_02_I                 227990 non-null   object \n",
            " 27  AREA_03_I                 134586 non-null   object \n",
            " 28  AREA_04_I                 135984 non-null   object \n",
            " 29  AREA_05_I                 210775 non-null   object \n",
            " 30  AREA_06_I                 219467 non-null   object \n",
            " 31  AREA_07_I                 198788 non-null   object \n",
            " 32  AREA_08_I                 210912 non-null   object \n",
            " 33  AREA_09_I                 85333 non-null    object \n",
            " 34  AREA_10_I                 123385 non-null   object \n",
            " 35  AREA_11_I                 241587 non-null   object \n",
            " 36  AREA_12_I                 237530 non-null   object \n",
            " 37  AREA_99_I                 156879 non-null   object \n",
            " 38  FIRST_CONTACT_POINT       1371395 non-null  object \n",
            " 39  CMV_ID                    14819 non-null    float64\n",
            " 40  USDOT_NO                  8455 non-null     object \n",
            " 41  CCMC_NO                   1842 non-null     object \n",
            " 42  ILCC_NO                   1284 non-null     object \n",
            " 43  COMMERCIAL_SRC            10012 non-null    object \n",
            " 44  GVWR                      8380 non-null     object \n",
            " 45  CARRIER_NAME              14182 non-null    object \n",
            " 46  CARRIER_STATE             13322 non-null    object \n",
            " 47  CARRIER_CITY              13087 non-null    object \n",
            " 48  HAZMAT_PLACARDS_I         290 non-null      object \n",
            " 49  HAZMAT_NAME               54 non-null       object \n",
            " 50  UN_NO                     508 non-null      object \n",
            " 51  HAZMAT_PRESENT_I          10846 non-null    object \n",
            " 52  HAZMAT_REPORT_I           10529 non-null    object \n",
            " 53  HAZMAT_REPORT_NO          1 non-null        object \n",
            " 54  MCS_REPORT_I              10584 non-null    object \n",
            " 55  MCS_REPORT_NO             7 non-null        object \n",
            " 56  HAZMAT_VIO_CAUSE_CRASH_I  10689 non-null    object \n",
            " 57  MCS_VIO_CAUSE_CRASH_I     10489 non-null    object \n",
            " 58  IDOT_PERMIT_NO            824 non-null      object \n",
            " 59  WIDE_LOAD_I               125 non-null      object \n",
            " 60  TRAILER1_WIDTH            2674 non-null     object \n",
            " 61  TRAILER2_WIDTH            320 non-null      object \n",
            " 62  TRAILER1_LENGTH           2180 non-null     float64\n",
            " 63  TRAILER2_LENGTH           65 non-null       float64\n",
            " 64  TOTAL_VEHICLE_LENGTH      2644 non-null     float64\n",
            " 65  AXLE_CNT                  3912 non-null     float64\n",
            " 66  VEHICLE_CONFIG            12287 non-null    object \n",
            " 67  CARGO_BODY_TYPE           11753 non-null    object \n",
            " 68  LOAD_TYPE                 11241 non-null    object \n",
            " 69  HAZMAT_OUT_OF_SERVICE_I   10214 non-null    object \n",
            " 70  MCS_OUT_OF_SERVICE_I      10458 non-null    object \n",
            " 71  HAZMAT_CLASS              983 non-null      object \n",
            "dtypes: float64(9), int64(2), object(61)\n",
            "memory usage: 777.9+ MB\n"
          ]
        }
      ],
      "source": [
        "#Explore the info for all the features\n",
        "vehicles_df.info()"
      ],
      "id": "e3114c13"
    },
    {
      "cell_type": "markdown",
      "metadata": {
        "id": "fad83338"
      },
      "source": [
        "`CRASH_UNIT_ID`, `RD_NO`, `UNIT_NO`, `VEHICLE_ID`, and `CMRC_VEH_I`,  are unique IDs for crash reports which can be ignored for the purposes of the analysis. These columns will be **DROPPED**\n",
        "\n",
        "`MAKE`, `MODEL`, `LIC_PLATE_STATE`, `VEHICLE_YEAR`, and `TRAVEL_DIRECTION` are speciific informations relevant to the vehicle. These are valuable information to keep track but these don;t provide valuable insights into causes for crashes. While the argument can be made that the make or vehicle year of a car can showcase which brands of cars and which years are involved in the most crashes, these singular data points can inform biased policies. For instance, older cars are usually owned by people who can't afford the expensive new models. Moreover, the more important aspect to know would be what kind of safety features did these cars have to understand how helpful ccertain safety features have but that data is not availabl. Therefore, these columns will be **DROPPED**.\n",
        "\n",
        "`VEHICLE_DEFECT`: This column might contain some intersting data. Lets investigate the contents of this column."
      ],
      "id": "fad83338"
    },
    {
      "cell_type": "code",
      "execution_count": 22,
      "metadata": {
        "colab": {
          "base_uri": "https://localhost:8080/"
        },
        "id": "5c71e88d",
        "outputId": "b10a9d51-6c62-4bf3-c5e2-9942d4f0dfbc"
      },
      "outputs": [
        {
          "output_type": "execute_result",
          "data": {
            "text/plain": [
              "NONE                768370\n",
              "UNKNOWN             601707\n",
              "OTHER                 6782\n",
              "BRAKES                4566\n",
              "TIRES                  700\n",
              "STEERING               650\n",
              "WHEELS                 365\n",
              "SUSPENSION             241\n",
              "ENGINE/MOTOR           183\n",
              "FUEL SYSTEM            150\n",
              "LIGHTS                  86\n",
              "WINDOWS                 82\n",
              "CARGO                   47\n",
              "SIGNALS                 38\n",
              "RESTRAINT SYSTEM        21\n",
              "TRAILER COUPLING        19\n",
              "EXHAUST                 18\n",
              "Name: VEHICLE_DEFECT, dtype: int64"
            ]
          },
          "metadata": {},
          "execution_count": 22
        }
      ],
      "source": [
        "#check unique values\n",
        "vehicles_df['VEHICLE_DEFECT'].value_counts()"
      ],
      "id": "5c71e88d"
    },
    {
      "cell_type": "markdown",
      "metadata": {
        "id": "cd1a5f8a"
      },
      "source": [
        "while thiss information is useful, 98% of the data is skewed towards None, Unkown or Other values that don't provide us any valuable insights. We can use oversampling methodlogies to help balance out the data to provide valuable insights."
      ],
      "id": "cd1a5f8a"
    },
    {
      "cell_type": "markdown",
      "metadata": {
        "id": "d5b2c33a"
      },
      "source": [
        "`VEHICLE_TYPE`: The type of vehicle, if relevant. Lets investigate the contents of this column."
      ],
      "id": "d5b2c33a"
    },
    {
      "cell_type": "code",
      "execution_count": 23,
      "metadata": {
        "colab": {
          "base_uri": "https://localhost:8080/"
        },
        "id": "359426ce",
        "outputId": "513a9b39-76e8-440f-f642-0b510501a505"
      },
      "outputs": [
        {
          "output_type": "execute_result",
          "data": {
            "text/plain": [
              "PASSENGER                                 870964\n",
              "SPORT UTILITY VEHICLE (SUV)               186498\n",
              "UNKNOWN/NA                                131562\n",
              "VAN/MINI-VAN                               67371\n",
              "PICKUP                                     43239\n",
              "TRUCK - SINGLE UNIT                        26270\n",
              "OTHER                                      16301\n",
              "BUS OVER 15 PASS.                          14529\n",
              "TRACTOR W/ SEMI-TRAILER                    13251\n",
              "BUS UP TO 15 PASS.                          3487\n",
              "MOTORCYCLE (OVER 150CC)                     3217\n",
              "SINGLE UNIT TRUCK WITH TRAILER              2131\n",
              "OTHER VEHICLE WITH TRAILER                  1774\n",
              "TRACTOR W/O SEMI-TRAILER                    1766\n",
              "AUTOCYCLE                                    648\n",
              "MOPED OR MOTORIZED BICYCLE                   382\n",
              "MOTOR DRIVEN CYCLE                           326\n",
              "ALL-TERRAIN VEHICLE (ATV)                    160\n",
              "FARM EQUIPMENT                                72\n",
              "3-WHEELED MOTORCYCLE (2 REAR WHEELS)          49\n",
              "RECREATIONAL OFF-HIGHWAY VEHICLE (ROV)        20\n",
              "SNOWMOBILE                                     8\n",
              "Name: VEHICLE_TYPE, dtype: int64"
            ]
          },
          "metadata": {},
          "execution_count": 23
        }
      ],
      "source": [
        "#check unique values\n",
        "vehicles_df['VEHICLE_TYPE'].value_counts()"
      ],
      "id": "359426ce"
    },
    {
      "cell_type": "markdown",
      "metadata": {
        "id": "dd864f52"
      },
      "source": [
        "This data will be very valuable to discern how different types of vehicles get into accidents and understand the trends in causes. The imbalance in the data has to be aaddresssed later in th eDaata Preparations Section."
      ],
      "id": "dd864f52"
    },
    {
      "cell_type": "markdown",
      "metadata": {
        "id": "1ed22693"
      },
      "source": [
        "`VEHICLE_USE`: The normal use of the vehicle, if relevant. In conjunction with previous column, this column can be used to createe grouped categories of vehicles such as Personal, Rideshare, etc. We can also see that there are more unknown records in this collumn than the previous one. We can use the previous column to reduce the number of unkowns n our data. "
      ],
      "id": "1ed22693"
    },
    {
      "cell_type": "code",
      "execution_count": 24,
      "metadata": {
        "colab": {
          "base_uri": "https://localhost:8080/"
        },
        "id": "fd66c730",
        "outputId": "7a7646a3-2269-4542-a1ec-8fbc1b5036c0"
      },
      "outputs": [
        {
          "output_type": "execute_result",
          "data": {
            "text/plain": [
              "PERSONAL                        894350\n",
              "UNKNOWN/NA                      279642\n",
              "NOT IN USE                       71810\n",
              "OTHER                            43301\n",
              "TAXI/FOR HIRE                    18505\n",
              "COMMERCIAL - SINGLE UNIT         17164\n",
              "RIDESHARE SERVICE                11623\n",
              "CTA                               9315\n",
              "POLICE                            9055\n",
              "CONSTRUCTION/MAINTENANCE          6300\n",
              "COMMERCIAL - MULTI-UNIT           5689\n",
              "OTHER TRANSIT                     3964\n",
              "SCHOOL BUS                        3724\n",
              "TOW TRUCK                         2657\n",
              "AMBULANCE                         1638\n",
              "FIRE                              1357\n",
              "STATE OWNED                       1162\n",
              "DRIVER EDUCATION                  1107\n",
              "MASS TRANSIT                       832\n",
              "LAWN CARE/LANDSCAPING              526\n",
              "AGRICULTURE                        143\n",
              "CAMPER/RV - SINGLE UNIT             68\n",
              "MILITARY                            55\n",
              "HOUSE TRAILER                       22\n",
              "CAMPER/RV - TOWED/MULTI-UNIT        16\n",
              "Name: VEHICLE_USE, dtype: int64"
            ]
          },
          "metadata": {},
          "execution_count": 24
        }
      ],
      "source": [
        "#check unique values\n",
        "vehicles_df['VEHICLE_USE'].value_counts()"
      ],
      "id": "fd66c730"
    },
    {
      "cell_type": "markdown",
      "metadata": {
        "id": "ded76bf1"
      },
      "source": [
        "`MANEUVER`: The action the unit was taking prior to the crash, as determined by the reporting officer. This will be important too understand what kind of maneuvers can cause the most crashes. These will also go hand in hand with location data to understand if certain areas have accidents occuring at specific manevers. Lets investigate this column to understand the values in it."
      ],
      "id": "ded76bf1"
    },
    {
      "cell_type": "code",
      "execution_count": 25,
      "metadata": {
        "colab": {
          "base_uri": "https://localhost:8080/"
        },
        "id": "4311143d",
        "outputId": "2f6e1bcb-4164-46ec-e347-353dc0192ceb"
      },
      "outputs": [
        {
          "output_type": "execute_result",
          "data": {
            "text/plain": [
              "STRAIGHT AHEAD                        630603\n",
              "PARKED                                190912\n",
              "UNKNOWN/NA                            108064\n",
              "SLOW/STOP IN TRAFFIC                  105648\n",
              "TURNING LEFT                           81375\n",
              "BACKING                                57054\n",
              "TURNING RIGHT                          45377\n",
              "PASSING/OVERTAKING                     33216\n",
              "CHANGING LANES                         26814\n",
              "OTHER                                  23226\n",
              "ENTERING TRAFFIC LANE FROM PARKING     16299\n",
              "MERGING                                 9569\n",
              "STARTING IN TRAFFIC                     8157\n",
              "U-TURN                                  7783\n",
              "LEAVING TRAFFIC LANE TO PARK            6719\n",
              "AVOIDING VEHICLES/OBJECTS               6021\n",
              "SKIDDING/CONTROL LOSS                   5624\n",
              "ENTER FROM DRIVE/ALLEY                  5414\n",
              "PARKED IN TRAFFIC LANE                  4193\n",
              "SLOW/STOP - LEFT TURN                   3042\n",
              "DRIVING WRONG WAY                       2001\n",
              "SLOW/STOP - RIGHT TURN                  1929\n",
              "NEGOTIATING A CURVE                     1860\n",
              "SLOW/STOP - LOAD/UNLOAD                 1663\n",
              "TURNING ON RED                           538\n",
              "DRIVERLESS                               530\n",
              "DIVERGING                                216\n",
              "DISABLED                                 178\n",
              "Name: MANEUVER, dtype: int64"
            ]
          },
          "metadata": {},
          "execution_count": 25
        }
      ],
      "source": [
        "#check unique values\n",
        "vehicles_df['MANEUVER'].value_counts()"
      ],
      "id": "4311143d"
    },
    {
      "cell_type": "markdown",
      "metadata": {
        "id": "a1e80acd"
      },
      "source": [
        "Some of these categories can be grouped together to make claassificatin analysis less granular. This will be done in the Data Preparation section."
      ],
      "id": "a1e80acd"
    },
    {
      "cell_type": "markdown",
      "metadata": {
        "id": "237a549d"
      },
      "source": [
        "`TOWED_I`, `FIRE_I`, `TOWED_BY`, and `TOWED_TO` are relevant details for keeping record of a crash but these columns won't be useful data to understand the causes and trends of crashes. These columns will be **DROPPED**."
      ],
      "id": "237a549d"
    },
    {
      "cell_type": "markdown",
      "metadata": {
        "id": "7d2a1669"
      },
      "source": [
        "`OCCUPANT_CNT` which is the number of people in the unit, and `EXCEED_SPEED_LIMIT_I` which records whether the unit was speeding or not, will be very valuable columns to use in our analysis."
      ],
      "id": "7d2a1669"
    },
    {
      "cell_type": "markdown",
      "metadata": {
        "id": "bff8119b"
      },
      "source": [
        "`AREA_00_I` to `AREA_99_I` are encoded columns but do not have any details on what information do they represent. Lets investigate the contents of these columns to see if there is more insight."
      ],
      "id": "bff8119b"
    },
    {
      "cell_type": "code",
      "execution_count": 26,
      "metadata": {
        "colab": {
          "base_uri": "https://localhost:8080/"
        },
        "id": "7e42cc7e",
        "outputId": "29264ab8-dda3-4516-98ea-310fddd73a6b"
      },
      "outputs": [
        {
          "output_type": "stream",
          "name": "stdout",
          "text": [
            "Y    43954\n",
            "N     6143\n"
          ]
        }
      ],
      "source": [
        "#check unique values\n",
        "print(vehicles_df['AREA_00_I'].value_counts().to_string())"
      ],
      "id": "7e42cc7e"
    },
    {
      "cell_type": "code",
      "execution_count": 27,
      "metadata": {
        "colab": {
          "base_uri": "https://localhost:8080/"
        },
        "id": "24374217",
        "outputId": "f3a8c82d-36ef-41be-fc3b-f30733a79fc6"
      },
      "outputs": [
        {
          "output_type": "execute_result",
          "data": {
            "text/plain": [
              "Y    217069\n",
              "N     10921\n",
              "Name: AREA_02_I, dtype: int64"
            ]
          },
          "metadata": {},
          "execution_count": 27
        }
      ],
      "source": [
        "#check unique values\n",
        "vehicles_df['AREA_02_I'].value_counts()"
      ],
      "id": "24374217"
    },
    {
      "cell_type": "code",
      "execution_count": 28,
      "metadata": {
        "colab": {
          "base_uri": "https://localhost:8080/"
        },
        "id": "16a7ac2d",
        "outputId": "37f7b36a-f7e8-48c1-ad7e-7e903f7db009"
      },
      "outputs": [
        {
          "output_type": "execute_result",
          "data": {
            "text/plain": [
              "Y    128418\n",
              "N      6168\n",
              "Name: AREA_03_I, dtype: int64"
            ]
          },
          "metadata": {},
          "execution_count": 28
        }
      ],
      "source": [
        "#check unique values\n",
        "vehicles_df['AREA_03_I'].value_counts()"
      ],
      "id": "16a7ac2d"
    },
    {
      "cell_type": "code",
      "execution_count": 29,
      "metadata": {
        "colab": {
          "base_uri": "https://localhost:8080/"
        },
        "id": "10052693",
        "outputId": "56c1a391-bee6-4db6-8fbb-774a6d8c3353"
      },
      "outputs": [
        {
          "output_type": "execute_result",
          "data": {
            "text/plain": [
              "Y    129920\n",
              "N      6064\n",
              "Name: AREA_04_I, dtype: int64"
            ]
          },
          "metadata": {},
          "execution_count": 29
        }
      ],
      "source": [
        "#check unique values\n",
        "vehicles_df['AREA_04_I'].value_counts()"
      ],
      "id": "10052693"
    },
    {
      "cell_type": "code",
      "execution_count": 30,
      "metadata": {
        "colab": {
          "base_uri": "https://localhost:8080/"
        },
        "id": "83431f79",
        "outputId": "ec763077-191a-43bb-9160-3d8b1476bcb8"
      },
      "outputs": [
        {
          "output_type": "execute_result",
          "data": {
            "text/plain": [
              "Y    151041\n",
              "N      5838\n",
              "Name: AREA_99_I, dtype: int64"
            ]
          },
          "metadata": {},
          "execution_count": 30
        }
      ],
      "source": [
        "#check unique values\n",
        "vehicles_df['AREA_99_I'].value_counts()"
      ],
      "id": "83431f79"
    },
    {
      "cell_type": "markdown",
      "metadata": {
        "id": "52ece625"
      },
      "source": [
        "Most of these are just indicators but there's no information on what do these indicators represent. With no extra information on what areas these columns represent, these columns will bee **DROPPED**. Moreover, we the latitude and longitude to help us understand the location."
      ],
      "id": "52ece625"
    },
    {
      "cell_type": "markdown",
      "metadata": {
        "id": "0c8808f5"
      },
      "source": [
        "`FIRST_CONTACT_POINT`: This column does not have a description. LLets investigate the column values to understand more."
      ],
      "id": "0c8808f5"
    },
    {
      "cell_type": "code",
      "execution_count": 31,
      "metadata": {
        "colab": {
          "base_uri": "https://localhost:8080/"
        },
        "id": "f5cde822",
        "outputId": "b31c7a97-ce57-44e5-cc8c-685576128ba2"
      },
      "outputs": [
        {
          "output_type": "execute_result",
          "data": {
            "text/plain": [
              "FRONT                207316\n",
              "OTHER                168617\n",
              "REAR-LEFT            156455\n",
              "UNKNOWN              131938\n",
              "REAR                 117386\n",
              "FRONT-LEFT           100587\n",
              "TOTAL (ALL AREAS)     95027\n",
              "SIDE-RIGHT            89210\n",
              "FRONT-RIGHT           87356\n",
              "SIDE-LEFT             81838\n",
              "ROOF                  56741\n",
              "REAR-RIGHT            50777\n",
              "UNDER CARRIAGE        16646\n",
              "NONE                  11501\n",
              "Name: FIRST_CONTACT_POINT, dtype: int64"
            ]
          },
          "metadata": {},
          "execution_count": 31
        }
      ],
      "source": [
        "#check unique values\n",
        "vehicles_df['FIRST_CONTACT_POINT'].value_counts()"
      ],
      "id": "f5cde822"
    },
    {
      "cell_type": "markdown",
      "metadata": {
        "id": "3692a0e1"
      },
      "source": [
        "This column represents the first point of contact of an accident. This is good information to have for further analysis but for the purposes of this notebook, to investigate the causes of crashes, this information will not be as valuable. Therefore, this column will be **DROPPED**."
      ],
      "id": "3692a0e1"
    },
    {
      "cell_type": "markdown",
      "metadata": {
        "id": "4ca2ab27"
      },
      "source": [
        "`CMV_ID`, `USDOT_NO`, `CCMC_NO`, `ILCC_NO`, and `COMMERCIAL_SRC` are specific information for record keeping of the crash reports. These do not provide any insights into the causes of accidents. They will be **DROPPED**."
      ],
      "id": "4ca2ab27"
    },
    {
      "cell_type": "markdown",
      "metadata": {
        "id": "6d6fe0c5"
      },
      "source": [
        "The following are the columns specific to Comemrcial Trailer/Tractor crashes. These will be **DROPPED**\n",
        "\n",
        "\n",
        "`GVWR`: Gross Vehicle Weight Rating (GVWR)\n",
        "\n",
        "`CARRIER_NAME`: This is the name of the company that owns the tractor/trailer\n",
        "\n",
        "`CARRIER_STATE`: This is the state where the carrier is registered\n",
        "\n",
        "`CARRIER_CITY`: This is the city where the carrier is located\n",
        "\n",
        "`HAZMAT_PLACARDS_I`: This is the hazmat warning on the tractor/trailer regarding the contents. When carrying certain types of content, carriers are mandated to have hazmat signs displayed.\n",
        "\n",
        "`HAZMAT_NAME`: This is the name of what kind of hazmat was being carried\n",
        "\n",
        "`UN_NO`: This is the 4 digit number thata identifies hazardouss equipment\n"
      ],
      "id": "6d6fe0c5"
    },
    {
      "cell_type": "markdown",
      "metadata": {
        "id": "798e8a6c"
      },
      "source": [
        "The following information will be **DROPPED** because it is relevant to the hazmat reports involved in a traffic accident.\n",
        "\n",
        "`HAZMAT_PRESENT_I`, `HAZMAT_REPORT_I`, `HAZMAT_REPORT_NO`, `MCS_REPORT_I`, `MCS_REPORT_NO`, `HAZMAT_VIO_CAUSE_CRASH_I`, `MCS_VIO_CAUSE_CRASH_I`, and `IDOT_PERMIT_NO`"
      ],
      "id": "798e8a6c"
    },
    {
      "cell_type": "markdown",
      "metadata": {
        "id": "e0aedbee"
      },
      "source": [
        "`WIDE_LOAD_I`: This is an indication whether there was an oversized load. This would be valuable information to analyse to understand how big of a correlation there is between oversize loads and crashes."
      ],
      "id": "e0aedbee"
    },
    {
      "cell_type": "markdown",
      "metadata": {
        "id": "3a94da2f"
      },
      "source": [
        "While the following colummns have interesting information to analyse about trailer lengths, it would be more useful to just use the `TOTAL_VEHICLE_LENGTH` column. Also, we can the `TRAILER2_LENGTH` column can be used to idenitfy whether there were more than one trailers or not. \n",
        "\n",
        "Therefore, `TRAILER1_WIDTH`, `TRAILER2_WIDTH`, and `TRAILER1_LENGTH` will be **Dropped**."
      ],
      "id": "3a94da2f"
    },
    {
      "cell_type": "markdown",
      "metadata": {
        "id": "e379cdf3"
      },
      "source": [
        "`AXLE_CNT`: This will provide indication of what kind of a vehicle it is. There has to be some cleaning done on this dataset depending on the contents of this column. Lets invetigate this column."
      ],
      "id": "e379cdf3"
    },
    {
      "cell_type": "code",
      "execution_count": 32,
      "metadata": {
        "colab": {
          "base_uri": "https://localhost:8080/"
        },
        "id": "8e3812cb",
        "outputId": "0d0a26bc-af09-4c80-d905-c010cb3a4cb8"
      },
      "outputs": [
        {
          "output_type": "execute_result",
          "data": {
            "text/plain": [
              "2.0        1238\n",
              "5.0        1222\n",
              "3.0         875\n",
              "6.0         250\n",
              "4.0         197\n",
              "1.0          57\n",
              "8.0          25\n",
              "7.0          14\n",
              "18.0         10\n",
              "9.0           7\n",
              "16.0          4\n",
              "10.0          4\n",
              "12.0          2\n",
              "20.0          1\n",
              "53.0          1\n",
              "52.0          1\n",
              "77.0          1\n",
              "55.0          1\n",
              "99.0          1\n",
              "26009.0       1\n",
              "Name: AXLE_CNT, dtype: int64"
            ]
          },
          "metadata": {},
          "execution_count": 32
        }
      ],
      "source": [
        "#check unique values\n",
        "vehicles_df['AXLE_CNT'].value_counts()"
      ],
      "id": "8e3812cb"
    },
    {
      "cell_type": "markdown",
      "metadata": {
        "id": "d04c5313"
      },
      "source": [
        "It is clear that there are a few typos here. Also, not all records have values for axlle count which will be dealt with later. Nonetheless, the `VEHICLE_CONFIG` column can provide more valuable information with regaaards to vehicl type for tractor/trailers therefore this column will be **DROPPED**"
      ],
      "id": "d04c5313"
    },
    {
      "cell_type": "markdown",
      "metadata": {
        "id": "c2b36939"
      },
      "source": [
        "`VEHICLE_CONFIG`: This has data on the type of tractor/trailer which will be useful to understand the pattern of vehicle configurations and crashes. Lets take a quick look at the data."
      ],
      "id": "c2b36939"
    },
    {
      "cell_type": "code",
      "execution_count": 33,
      "metadata": {
        "colab": {
          "base_uri": "https://localhost:8080/"
        },
        "id": "bede4e45",
        "outputId": "1746db55-0533-4255-e4dc-efce7522d010"
      },
      "outputs": [
        {
          "output_type": "execute_result",
          "data": {
            "text/plain": [
              "TRACTOR/SEMI-TRAILER                   4841\n",
              "SINGLE UNIT TRUCK, 2 AXLES, 6 TIRES    2450\n",
              "BUS                                    1910\n",
              "TRUCK/TRACTOR                           985\n",
              "TRUCK/TRAILER                           819\n",
              "UNKNOWN HEAVY TRUCK                     712\n",
              "SINGLE UNIT TRUCK, 3 OR MORE AXLES      538\n",
              "TRACTOR/DOUBLES                          32\n",
              "Name: VEHICLE_CONFIG, dtype: int64"
            ]
          },
          "metadata": {},
          "execution_count": 33
        }
      ],
      "source": [
        "#check unique values\n",
        "vehicles_df['VEHICLE_CONFIG'].value_counts()"
      ],
      "id": "bede4e45"
    },
    {
      "cell_type": "markdown",
      "metadata": {
        "id": "4dbb77b1"
      },
      "source": [
        "`CARGO_BODY_TYPE`: This is anothere type of vehicle description that would you useful iin understanding what kind of vocational vehicles are involved in crashes. Lets snvestigate the contents of this column."
      ],
      "id": "4dbb77b1"
    },
    {
      "cell_type": "code",
      "execution_count": 34,
      "metadata": {
        "colab": {
          "base_uri": "https://localhost:8080/"
        },
        "id": "cfa9d77e",
        "outputId": "0231b8fe-36eb-43eb-94f1-d0a8274f647d"
      },
      "outputs": [
        {
          "output_type": "execute_result",
          "data": {
            "text/plain": [
              "VAN/ENCLOSED BOX    5173\n",
              "OTHER               2643\n",
              "BUS                 1836\n",
              "FLATBED              907\n",
              "DUMP                 412\n",
              "GARBAGE/REFUSE       336\n",
              "TANK                 234\n",
              "CONCRETE MIXER       109\n",
              "AUTO TRANSPORTER     103\n",
              "Name: CARGO_BODY_TYPE, dtype: int64"
            ]
          },
          "metadata": {},
          "execution_count": 34
        }
      ],
      "source": [
        "#check unique values\n",
        "vehicles_df['CARGO_BODY_TYPE'].value_counts()"
      ],
      "id": "cfa9d77e"
    },
    {
      "cell_type": "markdown",
      "metadata": {
        "id": "1b09543e"
      },
      "source": [
        "`LOAD_TYE`: If cargo body type column is used, using Loaad Type will increase the level of graanularity. f our model isn't performing good enough, we can reconsider using more granular data. **DROP LOAD_TYPE COLUMN**"
      ],
      "id": "1b09543e"
    },
    {
      "cell_type": "code",
      "execution_count": 35,
      "metadata": {
        "colab": {
          "base_uri": "https://localhost:8080/"
        },
        "id": "102c50da",
        "outputId": "5ebe21dd-59ee-4e5d-8771-5f4874a49d57"
      },
      "outputs": [
        {
          "output_type": "execute_result",
          "data": {
            "text/plain": [
              "OTHER                     6119\n",
              "UNKNOWN                   4453\n",
              "CONSTRUCTION EQUIPMENT     389\n",
              "BUILDING MATERIALS         213\n",
              "STEEL COILS                 47\n",
              "FARM EQUIPMENT              20\n",
              "Name: LOAD_TYPE, dtype: int64"
            ]
          },
          "metadata": {},
          "execution_count": 35
        }
      ],
      "source": [
        "#check unique values\n",
        "vehicles_df['LOAD_TYPE'].value_counts()"
      ],
      "id": "102c50da"
    },
    {
      "cell_type": "markdown",
      "metadata": {
        "id": "7059c613"
      },
      "source": [
        "The following columns are more relevaant to Hazmats."
      ],
      "id": "7059c613"
    },
    {
      "cell_type": "markdown",
      "metadata": {
        "id": "af947ea1"
      },
      "source": [
        "`HAZMAT_OUT_OF_SERVICE_I`, `MCS_OUT_OF_SERVICE_I`, `HAZMAT_CLASS` **DROP**"
      ],
      "id": "af947ea1"
    },
    {
      "cell_type": "markdown",
      "metadata": {
        "id": "acc366f0"
      },
      "source": [
        "**SUMMARY**"
      ],
      "id": "acc366f0"
    },
    {
      "cell_type": "markdown",
      "metadata": {
        "id": "4d5389ea"
      },
      "source": [
        "The following columns will be carried forward:\n",
        "\n",
        "1. VEHICLE_ID\n",
        "2. CRASH_RECORD_ID\n",
        "3. VEHICLE_DEFECT\n",
        "4. VEHICLE_TYPE\n",
        "5. VEHICLE_USE\n",
        "6. MANEUVER\n",
        "7. WIDE_LOAD_I\n",
        "8. TRAILER2_LENGTH\n",
        "9. TOTAL_VEHICLE_LENGTH\n",
        "10. VEHICLE_CONFIG\n",
        "11. CARGO_BODY_TYPE\n"
      ],
      "id": "4d5389ea"
    },
    {
      "cell_type": "markdown",
      "metadata": {
        "id": "e0a90823"
      },
      "source": [
        "### Traffic Crashes - People"
      ],
      "id": "e0a90823"
    },
    {
      "cell_type": "markdown",
      "metadata": {
        "id": "e53e88bd"
      },
      "source": [
        "This data contains information about people involved in a crash and if any injuries were sustained. This dataset should be used in combination with the traffic Crash and Vehicle dataset. Each record corresponds to an occupant in a vehicle listed in the Crash dataset. Some people involved in a crash may not have been an occupant in a motor vehicle, but may have been a pedestrian, bicyclist, or using another non-motor vehicle mode of transportation. Injuries reported are reported by the responding police officer. Fatalities that occur after the initial reports are typically updated in these records up to 30 days after the date of the crash. Person data can be linked with the Crash and Vehicle dataset using the “CRASH_RECORD_ID” field. A vehicle can have multiple occupants and hence have a one to many relationship between Vehicle and Person dataset. However, a pedestrian is a “unit” by itself and have a one to one relationship between the Vehicle and Person table."
      ],
      "id": "e53e88bd"
    },
    {
      "cell_type": "code",
      "execution_count": 36,
      "metadata": {
        "colab": {
          "base_uri": "https://localhost:8080/",
          "height": 439
        },
        "id": "3d365261",
        "outputId": "3eb3a21e-d05c-4af0-df46-445713440053"
      },
      "outputs": [
        {
          "output_type": "stream",
          "name": "stderr",
          "text": [
            "<ipython-input-36-904a295451e4>:2: DtypeWarning: Columns (20,24,25,26,29) have mixed types. Specify dtype option on import or set low_memory=False.\n",
            "  people_df = pd.read_csv('data/Traffic_Crashes-People.csv')\n"
          ]
        },
        {
          "output_type": "execute_result",
          "data": {
            "text/plain": [
              "  PERSON_ID PERSON_TYPE                                    CRASH_RECORD_ID  \\\n",
              "0   O749947      DRIVER  81dc0de2ed92aa62baccab641fa377be7feb1cc47e6554...   \n",
              "1   O871921      DRIVER  af84fb5c8d996fcd3aefd36593c3a02e6e7509eeb27568...   \n",
              "2    O10018      DRIVER  71162af7bf22799b776547132ebf134b5b438dcf3dac6b...   \n",
              "3    O10038      DRIVER  c21c476e2ccc41af550b5d858d22aaac4ffc88745a1700...   \n",
              "4    O10039      DRIVER  eb390a4c8e114c69488f5fb8a097fe629f5a92fd528cf4...   \n",
              "\n",
              "      RD_NO  VEHICLE_ID              CRASH_DATE  SEAT_NO     CITY STATE  \\\n",
              "0  JC451435    834816.0  09/28/2019 03:30:00 AM      NaN  CHICAGO    IL   \n",
              "1  JD208731    827212.0  04/13/2020 10:50:00 PM      NaN  CHICAGO    IL   \n",
              "2  HY484534      9579.0  11/01/2015 05:00:00 AM      NaN      NaN   NaN   \n",
              "3  HY484750      9598.0  11/01/2015 08:00:00 AM      NaN      NaN   NaN   \n",
              "4  HY484778      9600.0  11/01/2015 10:15:00 AM      NaN      NaN   NaN   \n",
              "\n",
              "  ZIPCODE  ... EMS_RUN_NO     DRIVER_ACTION DRIVER_VISION PHYSICAL_CONDITION  \\\n",
              "0   60651  ...        NaN           UNKNOWN       UNKNOWN            UNKNOWN   \n",
              "1   60620  ...        NaN              NONE  NOT OBSCURED             NORMAL   \n",
              "2     NaN  ...        NaN  IMPROPER BACKING       UNKNOWN            UNKNOWN   \n",
              "3     NaN  ...        NaN           UNKNOWN       UNKNOWN            UNKNOWN   \n",
              "4     NaN  ...        NaN           UNKNOWN       UNKNOWN            UNKNOWN   \n",
              "\n",
              "  PEDPEDAL_ACTION PEDPEDAL_VISIBILITY PEDPEDAL_LOCATION        BAC_RESULT  \\\n",
              "0             NaN                 NaN               NaN  TEST NOT OFFERED   \n",
              "1             NaN                 NaN               NaN  TEST NOT OFFERED   \n",
              "2             NaN                 NaN               NaN  TEST NOT OFFERED   \n",
              "3             NaN                 NaN               NaN  TEST NOT OFFERED   \n",
              "4             NaN                 NaN               NaN  TEST NOT OFFERED   \n",
              "\n",
              "  BAC_RESULT VALUE CELL_PHONE_USE  \n",
              "0              NaN            NaN  \n",
              "1              NaN            NaN  \n",
              "2              NaN            NaN  \n",
              "3              NaN            NaN  \n",
              "4              NaN            NaN  \n",
              "\n",
              "[5 rows x 30 columns]"
            ],
            "text/html": [
              "\n",
              "  <div id=\"df-2b6a8163-f82e-4487-bcf3-53151f83d156\">\n",
              "    <div class=\"colab-df-container\">\n",
              "      <div>\n",
              "<style scoped>\n",
              "    .dataframe tbody tr th:only-of-type {\n",
              "        vertical-align: middle;\n",
              "    }\n",
              "\n",
              "    .dataframe tbody tr th {\n",
              "        vertical-align: top;\n",
              "    }\n",
              "\n",
              "    .dataframe thead th {\n",
              "        text-align: right;\n",
              "    }\n",
              "</style>\n",
              "<table border=\"1\" class=\"dataframe\">\n",
              "  <thead>\n",
              "    <tr style=\"text-align: right;\">\n",
              "      <th></th>\n",
              "      <th>PERSON_ID</th>\n",
              "      <th>PERSON_TYPE</th>\n",
              "      <th>CRASH_RECORD_ID</th>\n",
              "      <th>RD_NO</th>\n",
              "      <th>VEHICLE_ID</th>\n",
              "      <th>CRASH_DATE</th>\n",
              "      <th>SEAT_NO</th>\n",
              "      <th>CITY</th>\n",
              "      <th>STATE</th>\n",
              "      <th>ZIPCODE</th>\n",
              "      <th>...</th>\n",
              "      <th>EMS_RUN_NO</th>\n",
              "      <th>DRIVER_ACTION</th>\n",
              "      <th>DRIVER_VISION</th>\n",
              "      <th>PHYSICAL_CONDITION</th>\n",
              "      <th>PEDPEDAL_ACTION</th>\n",
              "      <th>PEDPEDAL_VISIBILITY</th>\n",
              "      <th>PEDPEDAL_LOCATION</th>\n",
              "      <th>BAC_RESULT</th>\n",
              "      <th>BAC_RESULT VALUE</th>\n",
              "      <th>CELL_PHONE_USE</th>\n",
              "    </tr>\n",
              "  </thead>\n",
              "  <tbody>\n",
              "    <tr>\n",
              "      <th>0</th>\n",
              "      <td>O749947</td>\n",
              "      <td>DRIVER</td>\n",
              "      <td>81dc0de2ed92aa62baccab641fa377be7feb1cc47e6554...</td>\n",
              "      <td>JC451435</td>\n",
              "      <td>834816.0</td>\n",
              "      <td>09/28/2019 03:30:00 AM</td>\n",
              "      <td>NaN</td>\n",
              "      <td>CHICAGO</td>\n",
              "      <td>IL</td>\n",
              "      <td>60651</td>\n",
              "      <td>...</td>\n",
              "      <td>NaN</td>\n",
              "      <td>UNKNOWN</td>\n",
              "      <td>UNKNOWN</td>\n",
              "      <td>UNKNOWN</td>\n",
              "      <td>NaN</td>\n",
              "      <td>NaN</td>\n",
              "      <td>NaN</td>\n",
              "      <td>TEST NOT OFFERED</td>\n",
              "      <td>NaN</td>\n",
              "      <td>NaN</td>\n",
              "    </tr>\n",
              "    <tr>\n",
              "      <th>1</th>\n",
              "      <td>O871921</td>\n",
              "      <td>DRIVER</td>\n",
              "      <td>af84fb5c8d996fcd3aefd36593c3a02e6e7509eeb27568...</td>\n",
              "      <td>JD208731</td>\n",
              "      <td>827212.0</td>\n",
              "      <td>04/13/2020 10:50:00 PM</td>\n",
              "      <td>NaN</td>\n",
              "      <td>CHICAGO</td>\n",
              "      <td>IL</td>\n",
              "      <td>60620</td>\n",
              "      <td>...</td>\n",
              "      <td>NaN</td>\n",
              "      <td>NONE</td>\n",
              "      <td>NOT OBSCURED</td>\n",
              "      <td>NORMAL</td>\n",
              "      <td>NaN</td>\n",
              "      <td>NaN</td>\n",
              "      <td>NaN</td>\n",
              "      <td>TEST NOT OFFERED</td>\n",
              "      <td>NaN</td>\n",
              "      <td>NaN</td>\n",
              "    </tr>\n",
              "    <tr>\n",
              "      <th>2</th>\n",
              "      <td>O10018</td>\n",
              "      <td>DRIVER</td>\n",
              "      <td>71162af7bf22799b776547132ebf134b5b438dcf3dac6b...</td>\n",
              "      <td>HY484534</td>\n",
              "      <td>9579.0</td>\n",
              "      <td>11/01/2015 05:00:00 AM</td>\n",
              "      <td>NaN</td>\n",
              "      <td>NaN</td>\n",
              "      <td>NaN</td>\n",
              "      <td>NaN</td>\n",
              "      <td>...</td>\n",
              "      <td>NaN</td>\n",
              "      <td>IMPROPER BACKING</td>\n",
              "      <td>UNKNOWN</td>\n",
              "      <td>UNKNOWN</td>\n",
              "      <td>NaN</td>\n",
              "      <td>NaN</td>\n",
              "      <td>NaN</td>\n",
              "      <td>TEST NOT OFFERED</td>\n",
              "      <td>NaN</td>\n",
              "      <td>NaN</td>\n",
              "    </tr>\n",
              "    <tr>\n",
              "      <th>3</th>\n",
              "      <td>O10038</td>\n",
              "      <td>DRIVER</td>\n",
              "      <td>c21c476e2ccc41af550b5d858d22aaac4ffc88745a1700...</td>\n",
              "      <td>HY484750</td>\n",
              "      <td>9598.0</td>\n",
              "      <td>11/01/2015 08:00:00 AM</td>\n",
              "      <td>NaN</td>\n",
              "      <td>NaN</td>\n",
              "      <td>NaN</td>\n",
              "      <td>NaN</td>\n",
              "      <td>...</td>\n",
              "      <td>NaN</td>\n",
              "      <td>UNKNOWN</td>\n",
              "      <td>UNKNOWN</td>\n",
              "      <td>UNKNOWN</td>\n",
              "      <td>NaN</td>\n",
              "      <td>NaN</td>\n",
              "      <td>NaN</td>\n",
              "      <td>TEST NOT OFFERED</td>\n",
              "      <td>NaN</td>\n",
              "      <td>NaN</td>\n",
              "    </tr>\n",
              "    <tr>\n",
              "      <th>4</th>\n",
              "      <td>O10039</td>\n",
              "      <td>DRIVER</td>\n",
              "      <td>eb390a4c8e114c69488f5fb8a097fe629f5a92fd528cf4...</td>\n",
              "      <td>HY484778</td>\n",
              "      <td>9600.0</td>\n",
              "      <td>11/01/2015 10:15:00 AM</td>\n",
              "      <td>NaN</td>\n",
              "      <td>NaN</td>\n",
              "      <td>NaN</td>\n",
              "      <td>NaN</td>\n",
              "      <td>...</td>\n",
              "      <td>NaN</td>\n",
              "      <td>UNKNOWN</td>\n",
              "      <td>UNKNOWN</td>\n",
              "      <td>UNKNOWN</td>\n",
              "      <td>NaN</td>\n",
              "      <td>NaN</td>\n",
              "      <td>NaN</td>\n",
              "      <td>TEST NOT OFFERED</td>\n",
              "      <td>NaN</td>\n",
              "      <td>NaN</td>\n",
              "    </tr>\n",
              "  </tbody>\n",
              "</table>\n",
              "<p>5 rows × 30 columns</p>\n",
              "</div>\n",
              "      <button class=\"colab-df-convert\" onclick=\"convertToInteractive('df-2b6a8163-f82e-4487-bcf3-53151f83d156')\"\n",
              "              title=\"Convert this dataframe to an interactive table.\"\n",
              "              style=\"display:none;\">\n",
              "        \n",
              "  <svg xmlns=\"http://www.w3.org/2000/svg\" height=\"24px\"viewBox=\"0 0 24 24\"\n",
              "       width=\"24px\">\n",
              "    <path d=\"M0 0h24v24H0V0z\" fill=\"none\"/>\n",
              "    <path d=\"M18.56 5.44l.94 2.06.94-2.06 2.06-.94-2.06-.94-.94-2.06-.94 2.06-2.06.94zm-11 1L8.5 8.5l.94-2.06 2.06-.94-2.06-.94L8.5 2.5l-.94 2.06-2.06.94zm10 10l.94 2.06.94-2.06 2.06-.94-2.06-.94-.94-2.06-.94 2.06-2.06.94z\"/><path d=\"M17.41 7.96l-1.37-1.37c-.4-.4-.92-.59-1.43-.59-.52 0-1.04.2-1.43.59L10.3 9.45l-7.72 7.72c-.78.78-.78 2.05 0 2.83L4 21.41c.39.39.9.59 1.41.59.51 0 1.02-.2 1.41-.59l7.78-7.78 2.81-2.81c.8-.78.8-2.07 0-2.86zM5.41 20L4 18.59l7.72-7.72 1.47 1.35L5.41 20z\"/>\n",
              "  </svg>\n",
              "      </button>\n",
              "      \n",
              "  <style>\n",
              "    .colab-df-container {\n",
              "      display:flex;\n",
              "      flex-wrap:wrap;\n",
              "      gap: 12px;\n",
              "    }\n",
              "\n",
              "    .colab-df-convert {\n",
              "      background-color: #E8F0FE;\n",
              "      border: none;\n",
              "      border-radius: 50%;\n",
              "      cursor: pointer;\n",
              "      display: none;\n",
              "      fill: #1967D2;\n",
              "      height: 32px;\n",
              "      padding: 0 0 0 0;\n",
              "      width: 32px;\n",
              "    }\n",
              "\n",
              "    .colab-df-convert:hover {\n",
              "      background-color: #E2EBFA;\n",
              "      box-shadow: 0px 1px 2px rgba(60, 64, 67, 0.3), 0px 1px 3px 1px rgba(60, 64, 67, 0.15);\n",
              "      fill: #174EA6;\n",
              "    }\n",
              "\n",
              "    [theme=dark] .colab-df-convert {\n",
              "      background-color: #3B4455;\n",
              "      fill: #D2E3FC;\n",
              "    }\n",
              "\n",
              "    [theme=dark] .colab-df-convert:hover {\n",
              "      background-color: #434B5C;\n",
              "      box-shadow: 0px 1px 3px 1px rgba(0, 0, 0, 0.15);\n",
              "      filter: drop-shadow(0px 1px 2px rgba(0, 0, 0, 0.3));\n",
              "      fill: #FFFFFF;\n",
              "    }\n",
              "  </style>\n",
              "\n",
              "      <script>\n",
              "        const buttonEl =\n",
              "          document.querySelector('#df-2b6a8163-f82e-4487-bcf3-53151f83d156 button.colab-df-convert');\n",
              "        buttonEl.style.display =\n",
              "          google.colab.kernel.accessAllowed ? 'block' : 'none';\n",
              "\n",
              "        async function convertToInteractive(key) {\n",
              "          const element = document.querySelector('#df-2b6a8163-f82e-4487-bcf3-53151f83d156');\n",
              "          const dataTable =\n",
              "            await google.colab.kernel.invokeFunction('convertToInteractive',\n",
              "                                                     [key], {});\n",
              "          if (!dataTable) return;\n",
              "\n",
              "          const docLinkHtml = 'Like what you see? Visit the ' +\n",
              "            '<a target=\"_blank\" href=https://colab.research.google.com/notebooks/data_table.ipynb>data table notebook</a>'\n",
              "            + ' to learn more about interactive tables.';\n",
              "          element.innerHTML = '';\n",
              "          dataTable['output_type'] = 'display_data';\n",
              "          await google.colab.output.renderOutput(dataTable, element);\n",
              "          const docLink = document.createElement('div');\n",
              "          docLink.innerHTML = docLinkHtml;\n",
              "          element.appendChild(docLink);\n",
              "        }\n",
              "      </script>\n",
              "    </div>\n",
              "  </div>\n",
              "  "
            ]
          },
          "metadata": {},
          "execution_count": 36
        }
      ],
      "source": [
        "#import the dataset using the API endpoint\n",
        "people_df = pd.read_csv('data/Traffic_Crashes-People.csv')\n",
        "\n",
        "#preview thee first 5 rows\n",
        "people_df.head()"
      ],
      "id": "3d365261"
    },
    {
      "cell_type": "code",
      "execution_count": 37,
      "metadata": {
        "colab": {
          "base_uri": "https://localhost:8080/"
        },
        "id": "36d5487d",
        "outputId": "853d45a7-71ac-46b3-b961-19427779d808"
      },
      "outputs": [
        {
          "output_type": "stream",
          "name": "stdout",
          "text": [
            "<class 'pandas.core.frame.DataFrame'>\n",
            "RangeIndex: 1530385 entries, 0 to 1530384\n",
            "Data columns (total 30 columns):\n",
            " #   Column                 Non-Null Count    Dtype  \n",
            "---  ------                 --------------    -----  \n",
            " 0   PERSON_ID              1530385 non-null  object \n",
            " 1   PERSON_TYPE            1530385 non-null  object \n",
            " 2   CRASH_RECORD_ID        1530385 non-null  object \n",
            " 3   RD_NO                  1521511 non-null  object \n",
            " 4   VEHICLE_ID             1500311 non-null  float64\n",
            " 5   CRASH_DATE             1530385 non-null  object \n",
            " 6   SEAT_NO                309565 non-null   float64\n",
            " 7   CITY                   1117449 non-null  object \n",
            " 8   STATE                  1132411 non-null  object \n",
            " 9   ZIPCODE                1021601 non-null  object \n",
            " 10  SEX                    1506380 non-null  object \n",
            " 11  AGE                    1085359 non-null  float64\n",
            " 12  DRIVERS_LICENSE_STATE  899668 non-null   object \n",
            " 13  DRIVERS_LICENSE_CLASS  760585 non-null   object \n",
            " 14  SAFETY_EQUIPMENT       1526028 non-null  object \n",
            " 15  AIRBAG_DEPLOYED        1501485 non-null  object \n",
            " 16  EJECTION               1511675 non-null  object \n",
            " 17  INJURY_CLASSIFICATION  1529714 non-null  object \n",
            " 18  HOSPITAL               263368 non-null   object \n",
            " 19  EMS_AGENCY             163631 non-null   object \n",
            " 20  EMS_RUN_NO             26932 non-null    object \n",
            " 21  DRIVER_ACTION          1218047 non-null  object \n",
            " 22  DRIVER_VISION          1217601 non-null  object \n",
            " 23  PHYSICAL_CONDITION     1218903 non-null  object \n",
            " 24  PEDPEDAL_ACTION        28502 non-null    object \n",
            " 25  PEDPEDAL_VISIBILITY    28446 non-null    object \n",
            " 26  PEDPEDAL_LOCATION      28499 non-null    object \n",
            " 27  BAC_RESULT             1219061 non-null  object \n",
            " 28  BAC_RESULT VALUE       1824 non-null     float64\n",
            " 29  CELL_PHONE_USE         1158 non-null     object \n",
            "dtypes: float64(4), object(26)\n",
            "memory usage: 350.3+ MB\n"
          ]
        }
      ],
      "source": [
        "people_df.info()"
      ],
      "id": "36d5487d"
    },
    {
      "cell_type": "markdown",
      "metadata": {
        "id": "b0c8d5d2"
      },
      "source": [
        "`PERSON_ID`: A unique identifier for each person record. IDs starting with P indicate passengers. IDs starting with O indicate a person who was not a passenger in the vehicle (e.g., driver, pedestrian, cyclist, etc.). Considering that the Person Type column gives us more detailed information, there won't be a need to keep this column.**DROP**"
      ],
      "id": "b0c8d5d2"
    },
    {
      "cell_type": "markdown",
      "metadata": {
        "id": "8c82ff08"
      },
      "source": [
        "`PERSON_TYPE`: Type of roadway user involved in crash"
      ],
      "id": "8c82ff08"
    },
    {
      "cell_type": "code",
      "execution_count": 38,
      "metadata": {
        "colab": {
          "base_uri": "https://localhost:8080/"
        },
        "id": "ca6376ef",
        "outputId": "8478c982-e3c9-42a1-a00d-7d1a74a745e2"
      },
      "outputs": [
        {
          "output_type": "execute_result",
          "data": {
            "text/plain": [
              "DRIVER                 1191234\n",
              "PASSENGER               309565\n",
              "PEDESTRIAN               17588\n",
              "BICYCLE                  10478\n",
              "NON-MOTOR VEHICLE         1253\n",
              "NON-CONTACT VEHICLE        267\n",
              "Name: PERSON_TYPE, dtype: int64"
            ]
          },
          "metadata": {},
          "execution_count": 38
        }
      ],
      "source": [
        "#check unique values\n",
        "people_df['PERSON_TYPE'].value_counts()"
      ],
      "id": "ca6376ef"
    },
    {
      "cell_type": "markdown",
      "metadata": {
        "id": "e0718af4"
      },
      "source": [
        "`CRASH_RECORD_ID`: This number can be used to link to the same crash in the Crashes and Vehicles datasets. This number also serves as a unique ID in the Crashes dataset. Hence, this will be important to keep for joining and comparing the datasets."
      ],
      "id": "e0718af4"
    },
    {
      "cell_type": "markdown",
      "metadata": {
        "id": "2c57dcd9"
      },
      "source": [
        "`RD_NO`: Chicago Police Department report number. For privacy reasons, this column is blank for recent crashes. This is a column for record-keeping purposed. **DROP**"
      ],
      "id": "2c57dcd9"
    },
    {
      "cell_type": "markdown",
      "metadata": {
        "id": "df76ea91"
      },
      "source": [
        "`VEHICLE_ID`: The corresponding CRASH_UNIT_ID from the Vehicles dataset."
      ],
      "id": "df76ea91"
    },
    {
      "cell_type": "markdown",
      "metadata": {
        "id": "e915cb41"
      },
      "source": [
        "`CRASH_DATE`: Date and time of crash as entered by the reporting officer. **DROP**"
      ],
      "id": "e915cb41"
    },
    {
      "cell_type": "markdown",
      "metadata": {
        "id": "f1521525"
      },
      "source": [
        "`SEAT_NO`: Code for seating position of motor vehicle occupant: 1= driver, 2= center front, 3 = front passenger, 4 = second row left, 5 = second row center, 6 = second row right, 7 = enclosed passengers, 8 = exposed passengers, 9= unknown position, 10 = third row left, 11 = third row center, 12 = third row right."
      ],
      "id": "f1521525"
    },
    {
      "cell_type": "code",
      "execution_count": 39,
      "metadata": {
        "colab": {
          "base_uri": "https://localhost:8080/"
        },
        "id": "34151548",
        "outputId": "e89c400e-7327-49ea-dbc1-03e62a4f6a02"
      },
      "outputs": [
        {
          "output_type": "execute_result",
          "data": {
            "text/plain": [
              "3.0     150042\n",
              "6.0      52277\n",
              "4.0      41331\n",
              "5.0      14578\n",
              "1.0      13563\n",
              "2.0      12780\n",
              "12.0      7996\n",
              "7.0       7163\n",
              "10.0      6805\n",
              "11.0      2678\n",
              "8.0        352\n",
              "Name: SEAT_NO, dtype: int64"
            ]
          },
          "metadata": {},
          "execution_count": 39
        }
      ],
      "source": [
        "#check unique values\n",
        "people_df['SEAT_NO'].value_counts()"
      ],
      "id": "34151548"
    },
    {
      "cell_type": "markdown",
      "metadata": {
        "id": "08778fa3"
      },
      "source": [
        "There are missing values in thi column which can be subsituted with code *9* which is for the unkown position.\n",
        "\n",
        "The values also have to be converted to categories for data analysis later."
      ],
      "id": "08778fa3"
    },
    {
      "cell_type": "markdown",
      "metadata": {
        "id": "53548ed0"
      },
      "source": [
        "`CITY`, `STATE`, `ZIPCODE`, `DRIVERS_LICENSE_STATE`, `DRIVERS_LICENSE_CLASS` are people specific information to aaa vehicle that won't help out **DROPPED**"
      ],
      "id": "53548ed0"
    },
    {
      "cell_type": "markdown",
      "metadata": {
        "id": "000caaaf"
      },
      "source": [
        "`AGE` can be an imprtant factor to look at aand might be linked to the cause of crashes."
      ],
      "id": "000caaaf"
    },
    {
      "cell_type": "markdown",
      "metadata": {
        "id": "27e6f7d4"
      },
      "source": [
        "`SAFETY_EQUIPMENT`: Safety equipment used by vehicle occupant in crash, if any. Very important information that can have a high correlation to injuries or faatalities."
      ],
      "id": "27e6f7d4"
    },
    {
      "cell_type": "code",
      "execution_count": 40,
      "metadata": {
        "colab": {
          "base_uri": "https://localhost:8080/"
        },
        "id": "d2b58d72",
        "outputId": "fa81ff98-ba02-4830-8af0-236e397e1110"
      },
      "outputs": [
        {
          "output_type": "execute_result",
          "data": {
            "text/plain": [
              "SAFETY BELT USED                              741510\n",
              "USAGE UNKNOWN                                 699868\n",
              "NONE PRESENT                                   47896\n",
              "SAFETY BELT NOT USED                            8625\n",
              "CHILD RESTRAINT USED                            7821\n",
              "HELMET NOT USED                                 6525\n",
              "CHILD RESTRAINT - FORWARD FACING                3409\n",
              "BICYCLE HELMET (PEDACYCLIST INVOLVED ONLY)      2457\n",
              "CHILD RESTRAINT - TYPE UNKNOWN                  1718\n",
              "CHILD RESTRAINT - REAR FACING                   1610\n",
              "HELMET USED                                     1358\n",
              "DOT COMPLIANT MOTORCYCLE HELMET                  974\n",
              "BOOSTER SEAT                                     913\n",
              "CHILD RESTRAINT NOT USED                         668\n",
              "SHOULD/LAP BELT USED IMPROPERLY                  190\n",
              "NOT DOT COMPLIANT MOTORCYCLE HELMET              186\n",
              "WHEELCHAIR                                       163\n",
              "CHILD RESTRAINT USED IMPROPERLY                  107\n",
              "STRETCHER                                         30\n",
              "Name: SAFETY_EQUIPMENT, dtype: int64"
            ]
          },
          "metadata": {},
          "execution_count": 40
        }
      ],
      "source": [
        "#check unique values\n",
        "people_df['SAFETY_EQUIPMENT'].value_counts()"
      ],
      "id": "d2b58d72"
    },
    {
      "cell_type": "markdown",
      "metadata": {
        "id": "662161ea"
      },
      "source": [
        "`AIRBAG_DEPLOYED`: Whether vehicle occupant airbag deployed as result of crash. This doesn't play a paart in causing the crash **DROP**"
      ],
      "id": "662161ea"
    },
    {
      "cell_type": "markdown",
      "metadata": {
        "id": "901adf48"
      },
      "source": [
        "`EJECTION`: Whether vehicle occupant was ejected or extricated from the vehicle as a result of crash **DROP**"
      ],
      "id": "901adf48"
    },
    {
      "cell_type": "markdown",
      "metadata": {
        "id": "a34ab323"
      },
      "source": [
        "`INJURY_CLASSIFICATION`: Severity of injury person sustained in the crash. This information can be used to understand which columns to keep since Vision Zero focuses on reducing injuries and fatalities."
      ],
      "id": "a34ab323"
    },
    {
      "cell_type": "code",
      "execution_count": 41,
      "metadata": {
        "colab": {
          "base_uri": "https://localhost:8080/"
        },
        "id": "15dde998",
        "outputId": "148f46a1-34b9-495f-af11-c19d9f93384a"
      },
      "outputs": [
        {
          "output_type": "execute_result",
          "data": {
            "text/plain": [
              "NO INDICATION OF INJURY     1399940\n",
              "NONINCAPACITATING INJURY      73185\n",
              "REPORTED, NOT EVIDENT         41738\n",
              "INCAPACITATING INJURY         14003\n",
              "FATAL                           848\n",
              "Name: INJURY_CLASSIFICATION, dtype: int64"
            ]
          },
          "metadata": {},
          "execution_count": 41
        }
      ],
      "source": [
        "#check unique values\n",
        "people_df['INJURY_CLASSIFICATION'].value_counts()"
      ],
      "id": "15dde998"
    },
    {
      "cell_type": "markdown",
      "metadata": {
        "id": "26d31f4a"
      },
      "source": [
        "`HOSPITAL`, `EMS_AGENCY`, `EMS_RUN_NO` are specific recrd keeping columns that won't be useful**DROP**"
      ],
      "id": "26d31f4a"
    },
    {
      "cell_type": "markdown",
      "metadata": {
        "id": "49cc9fc2"
      },
      "source": [
        "`DRIVER_ACTION`: Driver action that contributed to the crash, as determined by reporting officer. This will be important in identifying the cause of the crashes."
      ],
      "id": "49cc9fc2"
    },
    {
      "cell_type": "code",
      "execution_count": 42,
      "metadata": {
        "colab": {
          "base_uri": "https://localhost:8080/"
        },
        "id": "43a8fa13",
        "outputId": "83c77a05-d138-4498-ab8d-015a39ac85a2"
      },
      "outputs": [
        {
          "output_type": "execute_result",
          "data": {
            "text/plain": [
              "NONE                                 438974\n",
              "UNKNOWN                              301595\n",
              "FAILED TO YIELD                      110980\n",
              "OTHER                                107701\n",
              "FOLLOWED TOO CLOSELY                  74349\n",
              "IMPROPER BACKING                      37076\n",
              "IMPROPER TURN                         31917\n",
              "IMPROPER LANE CHANGE                  31451\n",
              "IMPROPER PASSING                      27025\n",
              "DISREGARDED CONTROL DEVICES           21109\n",
              "TOO FAST FOR CONDITIONS               18947\n",
              "WRONG WAY/SIDE                         4794\n",
              "IMPROPER PARKING                       4556\n",
              "OVERCORRECTED                          1955\n",
              "EVADING POLICE VEHICLE                 1940\n",
              "CELL PHONE USE OTHER THAN TEXTING      1867\n",
              "EMERGENCY VEHICLE ON CALL              1110\n",
              "TEXTING                                 504\n",
              "STOPPED SCHOOL BUS                      145\n",
              "LICENSE RESTRICTIONS                     52\n",
              "Name: DRIVER_ACTION, dtype: int64"
            ]
          },
          "metadata": {},
          "execution_count": 42
        }
      ],
      "source": [
        "#check unique values\n",
        "people_df['DRIVER_ACTION'].value_counts()"
      ],
      "id": "43a8fa13"
    },
    {
      "cell_type": "markdown",
      "metadata": {
        "id": "e4676376"
      },
      "source": [
        "`DRIVER_VISION`: What, if any, objects obscured the driver’s vision at time of crash. This will be another importnt piece of information in identifying car crashes."
      ],
      "id": "e4676376"
    },
    {
      "cell_type": "code",
      "execution_count": 43,
      "metadata": {
        "colab": {
          "base_uri": "https://localhost:8080/"
        },
        "id": "a23dd44c",
        "outputId": "524cbb03-8542-4667-b3a5-abe09509099d"
      },
      "outputs": [
        {
          "output_type": "execute_result",
          "data": {
            "text/plain": [
              "NOT OBSCURED              632631\n",
              "UNKNOWN                   554663\n",
              "OTHER                      12394\n",
              "MOVING VEHICLES             7183\n",
              "PARKED VEHICLES             4415\n",
              "WINDSHIELD (WATER/ICE)      3476\n",
              "BLINDED - SUNLIGHT          1451\n",
              "TREES, PLANTS                535\n",
              "BUILDINGS                    442\n",
              "BLINDED - HEADLIGHTS         120\n",
              "HILLCREST                     93\n",
              "BLOWING MATERIALS             88\n",
              "EMBANKMENT                    77\n",
              "SIGNBOARD                     33\n",
              "Name: DRIVER_VISION, dtype: int64"
            ]
          },
          "metadata": {},
          "execution_count": 43
        }
      ],
      "source": [
        "#check unique values\n",
        "people_df['DRIVER_VISION'].value_counts()"
      ],
      "id": "a23dd44c"
    },
    {
      "cell_type": "markdown",
      "metadata": {
        "id": "9ecb0603"
      },
      "source": [
        "`PHYSICAL_CONDITION`: Driver’s apparent physical condition at time of crash, as observed by the reporting officer"
      ],
      "id": "9ecb0603"
    },
    {
      "cell_type": "code",
      "execution_count": 44,
      "metadata": {
        "colab": {
          "base_uri": "https://localhost:8080/"
        },
        "id": "a9cb9907",
        "outputId": "4146d94d-5110-4bdc-e73a-4d4b838559f2"
      },
      "outputs": [
        {
          "output_type": "execute_result",
          "data": {
            "text/plain": [
              "NORMAL                          801930\n",
              "UNKNOWN                         394225\n",
              "IMPAIRED - ALCOHOL                5489\n",
              "REMOVED BY EMS                    4515\n",
              "OTHER                             3579\n",
              "FATIGUED/ASLEEP                   3260\n",
              "EMOTIONAL                         2710\n",
              "ILLNESS/FAINTED                   1138\n",
              "HAD BEEN DRINKING                  929\n",
              "IMPAIRED - DRUGS                   644\n",
              "IMPAIRED - ALCOHOL AND DRUGS       331\n",
              "MEDICATED                          153\n",
              "Name: PHYSICAL_CONDITION, dtype: int64"
            ]
          },
          "metadata": {},
          "execution_count": 44
        }
      ],
      "source": [
        "#check unique values\n",
        "people_df['PHYSICAL_CONDITION'].value_counts()"
      ],
      "id": "a9cb9907"
    },
    {
      "cell_type": "markdown",
      "metadata": {
        "id": "3e61e856"
      },
      "source": [
        "This column provides valuable information on whether the driver was in a state to drive or not. Add missing values to unknown categories. Bin different categories together."
      ],
      "id": "3e61e856"
    },
    {
      "cell_type": "markdown",
      "metadata": {
        "id": "db9a547d"
      },
      "source": [
        "`PEDPEDAL_ACTION`: Action of pedestrian or cyclist at the time of crash"
      ],
      "id": "db9a547d"
    },
    {
      "cell_type": "code",
      "execution_count": 45,
      "metadata": {
        "colab": {
          "base_uri": "https://localhost:8080/"
        },
        "id": "fc969615",
        "outputId": "f2f86e39-edf5-4b14-eb41-60a92a2d6f80"
      },
      "outputs": [
        {
          "output_type": "execute_result",
          "data": {
            "text/plain": [
              "CROSSING - WITH SIGNAL                               5861\n",
              "WITH TRAFFIC                                         4420\n",
              "UNKNOWN/NA                                           3698\n",
              "OTHER ACTION                                         3456\n",
              "CROSSING - NO CONTROLS (NOT AT INTERSECTION)         1682\n",
              "NO ACTION                                            1508\n",
              "CROSSING - NO CONTROLS (AT INTERSECTION)             1422\n",
              "CROSSING - AGAINST SIGNAL                            1361\n",
              "NOT AT INTERSECTION                                  1005\n",
              "AGAINST TRAFFIC                                       874\n",
              "CROSSING - CONTROLS PRESENT (NOT AT INTERSECTION)     826\n",
              "STANDING IN ROADWAY                                   674\n",
              "TURNING LEFT                                          390\n",
              "PARKED VEHICLE                                        326\n",
              "ENTER FROM DRIVE/ALLEY                                275\n",
              "WORKING IN ROADWAY                                    196\n",
              "TURNING RIGHT                                         177\n",
              "INTOXICATED PED/PEDAL                                 176\n",
              "PLAYING IN ROADWAY                                    109\n",
              "PLAYING/WORKING ON VEHICLE                             21\n",
              "TO/FROM DISABLED VEHICLE                               20\n",
              "SCHOOL BUS (WITHIN 50 FT.)                             15\n",
              "WAITING FOR SCHOOL BUS                                 10\n",
              "Name: PEDPEDAL_ACTION, dtype: int64"
            ]
          },
          "metadata": {},
          "execution_count": 45
        }
      ],
      "source": [
        "#check unique values\n",
        "people_df['PEDPEDAL_ACTION'].value_counts()"
      ],
      "id": "fc969615"
    },
    {
      "cell_type": "markdown",
      "metadata": {
        "id": "89560d6b"
      },
      "source": [
        "Group together multiple categories"
      ],
      "id": "89560d6b"
    },
    {
      "cell_type": "markdown",
      "metadata": {
        "id": "a37539ba"
      },
      "source": [
        "`PEDPEDAL_VISIBILITY`: Visibility of pedestrian of cyclist safety equipment in use at time of crash"
      ],
      "id": "a37539ba"
    },
    {
      "cell_type": "code",
      "execution_count": 46,
      "metadata": {
        "colab": {
          "base_uri": "https://localhost:8080/"
        },
        "id": "c99d8379",
        "outputId": "2d6992ee-115a-4719-b4e1-4a463cc41012"
      },
      "outputs": [
        {
          "output_type": "execute_result",
          "data": {
            "text/plain": [
              "NO CONTRASTING CLOTHING    22345\n",
              "CONTRASTING CLOTHING        3753\n",
              "OTHER LIGHT SOURCE USED     1635\n",
              "REFLECTIVE MATERIAL          713\n",
              "Name: PEDPEDAL_VISIBILITY, dtype: int64"
            ]
          },
          "metadata": {},
          "execution_count": 46
        }
      ],
      "source": [
        "#check unique values\n",
        "people_df['PEDPEDAL_VISIBILITY'].value_counts()"
      ],
      "id": "c99d8379"
    },
    {
      "cell_type": "markdown",
      "metadata": {
        "id": "8a0f9375"
      },
      "source": [
        "`PEDPEDAL_LOCATION`: Location of pedestrian or cyclist at the time of crash"
      ],
      "id": "8a0f9375"
    },
    {
      "cell_type": "code",
      "execution_count": 47,
      "metadata": {
        "colab": {
          "base_uri": "https://localhost:8080/"
        },
        "id": "5829ec46",
        "outputId": "86aabdab-7203-427b-ccb8-a5cce0590476"
      },
      "outputs": [
        {
          "output_type": "execute_result",
          "data": {
            "text/plain": [
              "IN ROADWAY         12781\n",
              "IN CROSSWALK        9487\n",
              "UNKNOWN/NA          2375\n",
              "NOT IN ROADWAY      1273\n",
              "BIKEWAY             1227\n",
              "BIKE LANE            794\n",
              "DRIVEWAY ACCESS      416\n",
              "SHOULDER             146\n",
              "Name: PEDPEDAL_LOCATION, dtype: int64"
            ]
          },
          "metadata": {},
          "execution_count": 47
        }
      ],
      "source": [
        "#check unique values\n",
        "people_df['PEDPEDAL_LOCATION'].value_counts()"
      ],
      "id": "5829ec46"
    },
    {
      "cell_type": "markdown",
      "metadata": {
        "id": "26b3f8db"
      },
      "source": [
        "`BAC_RESULT`: Status of blood alcohol concentration testing for driver or other person involved in crash"
      ],
      "id": "26b3f8db"
    },
    {
      "cell_type": "code",
      "execution_count": 48,
      "metadata": {
        "colab": {
          "base_uri": "https://localhost:8080/"
        },
        "id": "01cd447c",
        "outputId": "8241cdd9-8afa-41d8-eb05-f68f8b28106d"
      },
      "outputs": [
        {
          "output_type": "execute_result",
          "data": {
            "text/plain": [
              "TEST NOT OFFERED                   1200818\n",
              "TEST REFUSED                         12968\n",
              "TEST PERFORMED, RESULTS UNKNOWN       3007\n",
              "TEST TAKEN                            2268\n",
              "Name: BAC_RESULT, dtype: int64"
            ]
          },
          "metadata": {},
          "execution_count": 48
        }
      ],
      "source": [
        "#check unique values\n",
        "people_df['BAC_RESULT'].value_counts()"
      ],
      "id": "01cd447c"
    },
    {
      "cell_type": "markdown",
      "metadata": {
        "id": "916293f9"
      },
      "source": [
        "Since this column seems more like record-keeping whereas the results value if more valluble. **DROP**"
      ],
      "id": "916293f9"
    },
    {
      "cell_type": "markdown",
      "metadata": {
        "id": "59ee35c9"
      },
      "source": [
        "`BAC_RESULT VALUE`: Driver’s blood alcohol concentration test result (fatal crashes may include pedestrian or cyclist results)"
      ],
      "id": "59ee35c9"
    },
    {
      "cell_type": "code",
      "execution_count": 49,
      "metadata": {
        "colab": {
          "base_uri": "https://localhost:8080/"
        },
        "id": "203ac4ac",
        "outputId": "3c2c0d85-ddcb-4507-e672-0a4e803dd07d"
      },
      "outputs": [
        {
          "output_type": "execute_result",
          "data": {
            "text/plain": [
              "0.00    176\n",
              "0.17    127\n",
              "0.18    126\n",
              "0.21    110\n",
              "0.14    102\n",
              "0.20     95\n",
              "0.16     90\n",
              "0.19     87\n",
              "0.15     80\n",
              "0.22     76\n",
              "0.23     73\n",
              "0.12     68\n",
              "0.13     68\n",
              "0.11     64\n",
              "0.24     59\n",
              "0.25     41\n",
              "0.26     40\n",
              "0.27     34\n",
              "0.10     34\n",
              "0.09     32\n",
              "0.28     28\n",
              "0.08     19\n",
              "0.29     18\n",
              "0.03     17\n",
              "0.07     17\n",
              "0.30     16\n",
              "0.33     15\n",
              "0.04     15\n",
              "0.05     11\n",
              "0.32      9\n",
              "0.35      9\n",
              "0.02      8\n",
              "0.31      8\n",
              "0.06      8\n",
              "0.38      6\n",
              "0.36      4\n",
              "0.34      4\n",
              "0.39      3\n",
              "0.44      3\n",
              "0.01      3\n",
              "1.00      2\n",
              "0.79      2\n",
              "0.88      2\n",
              "0.45      2\n",
              "0.60      2\n",
              "0.95      1\n",
              "0.40      1\n",
              "0.47      1\n",
              "0.99      1\n",
              "0.41      1\n",
              "0.80      1\n",
              "0.58      1\n",
              "0.37      1\n",
              "0.85      1\n",
              "0.67      1\n",
              "0.98      1\n",
              "Name: BAC_RESULT VALUE, dtype: int64"
            ]
          },
          "metadata": {},
          "execution_count": 49
        }
      ],
      "source": [
        "#check unique values\n",
        "people_df['BAC_RESULT VALUE'].value_counts()"
      ],
      "id": "203ac4ac"
    },
    {
      "cell_type": "markdown",
      "metadata": {
        "id": "07343cd0"
      },
      "source": [
        "`CELL_PHONE_USE`: Whether person was/was not using cellphone at the time of the crash, as determined by the reporting officer"
      ],
      "id": "07343cd0"
    },
    {
      "cell_type": "code",
      "execution_count": 50,
      "metadata": {
        "colab": {
          "base_uri": "https://localhost:8080/"
        },
        "id": "e3653cc6",
        "outputId": "123d8217-7a21-4c93-f403-3073d04198af"
      },
      "outputs": [
        {
          "output_type": "execute_result",
          "data": {
            "text/plain": [
              "Y    752\n",
              "N    406\n",
              "Name: CELL_PHONE_USE, dtype: int64"
            ]
          },
          "metadata": {},
          "execution_count": 50
        }
      ],
      "source": [
        "#check unique values\n",
        "people_df['CELL_PHONE_USE'].value_counts()"
      ],
      "id": "e3653cc6"
    },
    {
      "cell_type": "markdown",
      "metadata": {
        "id": "7f068c33"
      },
      "source": [
        "**SUMMARY**"
      ],
      "id": "7f068c33"
    },
    {
      "cell_type": "markdown",
      "metadata": {
        "id": "9a88dc00"
      },
      "source": [
        "Columns to keep:\n",
        "\n",
        "1. PERSON_TYPE\n",
        "2. CRASH_RECORD_ID\n",
        "3. VEHICLE_ID\n",
        "4. SEAT_NO\n",
        "5. SEX\n",
        "6. AGE\n",
        "7. SAFETY_EQUIPMENT\n",
        "8. INJURY_CLASSIFICATION\n",
        "9. DRIVER_ACTION\n",
        "10. DRIVER_VISION\n",
        "11. PHYSICAL_CONDITION\n",
        "12. PEDPEDAL_ACTION\n",
        "13. PEDPEDAL_VISIBILITY\n",
        "14. PEDPEDAL_LOCATION\n",
        "15. BAC_RESULT VALUE\n",
        "16. CELL_PHONE_USE\n"
      ],
      "id": "9a88dc00"
    },
    {
      "cell_type": "markdown",
      "metadata": {
        "id": "64b6362b"
      },
      "source": [
        "### Data Limitations"
      ],
      "id": "64b6362b"
    },
    {
      "cell_type": "markdown",
      "metadata": {
        "id": "29e3c6df"
      },
      "source": [],
      "id": "29e3c6df"
    },
    {
      "cell_type": "markdown",
      "metadata": {
        "id": "22943234"
      },
      "source": [
        "## Data Preparation"
      ],
      "id": "22943234"
    },
    {
      "cell_type": "markdown",
      "metadata": {
        "id": "a0d33fd5"
      },
      "source": [
        "### Crashes-Crashes"
      ],
      "id": "a0d33fd5"
    },
    {
      "cell_type": "markdown",
      "metadata": {
        "id": "46e55565"
      },
      "source": [
        "First filter out the column that will be proceeded with."
      ],
      "id": "46e55565"
    },
    {
      "cell_type": "code",
      "execution_count": 51,
      "metadata": {
        "id": "ad2b12e6"
      },
      "outputs": [],
      "source": [
        "#Select the columns that need to be kept\n",
        "cln_crashes = crashes_df[['CRASH_RECORD_ID',\n",
        "'CRASH_DATE',\n",
        "'POSTED_SPEED_LIMIT',\n",
        "'DEVICE_CONDITION',\n",
        "'WEATHER_CONDITION',\n",
        "'LIGHTING_CONDITION',\n",
        "'CRASH_TYPE',\n",
        "'INTERSECTION_RELATED_I',\n",
        "'ROAD_DEFECT',\n",
        "'PRIM_CONTRIBUTORY_CAUSE',\n",
        "'SEC_CONTRIBUTORY_CAUSE',\n",
        "'NUM_UNITS',\n",
        "'WORK_ZONE_I',\n",
        "'WORKERS_PRESENT_I',\n",
        "'INJURIES_TOTAL',\n",
        "'INJURIES_FATAL',\n",
        "'CRASH_HOUR',\n",
        "'CRASH_DAY_OF_WEEK',\n",
        "'CRASH_MONTH',\n",
        "'LATITUDE',\n",
        "'LONGITUDE']]"
      ],
      "id": "ad2b12e6"
    },
    {
      "cell_type": "markdown",
      "metadata": {
        "id": "a4b8d787"
      },
      "source": [
        "Lets takae a look at the summary of the daataframe to understand null vlues and other characteristics"
      ],
      "id": "a4b8d787"
    },
    {
      "cell_type": "code",
      "execution_count": 52,
      "metadata": {
        "colab": {
          "base_uri": "https://localhost:8080/"
        },
        "id": "5f78c57b",
        "outputId": "dc0a308b-7cda-4181-8a37-ecae3941685d"
      },
      "outputs": [
        {
          "output_type": "stream",
          "name": "stdout",
          "text": [
            "<class 'pandas.core.frame.DataFrame'>\n",
            "RangeIndex: 692784 entries, 0 to 692783\n",
            "Data columns (total 21 columns):\n",
            " #   Column                   Non-Null Count   Dtype  \n",
            "---  ------                   --------------   -----  \n",
            " 0   CRASH_RECORD_ID          692784 non-null  object \n",
            " 1   CRASH_DATE               692784 non-null  object \n",
            " 2   POSTED_SPEED_LIMIT       692784 non-null  int64  \n",
            " 3   DEVICE_CONDITION         692784 non-null  object \n",
            " 4   WEATHER_CONDITION        692784 non-null  object \n",
            " 5   LIGHTING_CONDITION       692784 non-null  object \n",
            " 6   CRASH_TYPE               692784 non-null  object \n",
            " 7   INTERSECTION_RELATED_I   158797 non-null  object \n",
            " 8   ROAD_DEFECT              692784 non-null  object \n",
            " 9   PRIM_CONTRIBUTORY_CAUSE  692784 non-null  object \n",
            " 10  SEC_CONTRIBUTORY_CAUSE   692784 non-null  object \n",
            " 11  NUM_UNITS                692784 non-null  int64  \n",
            " 12  WORK_ZONE_I              4046 non-null    object \n",
            " 13  WORKERS_PRESENT_I        1048 non-null    object \n",
            " 14  INJURIES_TOTAL           691292 non-null  float64\n",
            " 15  INJURIES_FATAL           691292 non-null  float64\n",
            " 16  CRASH_HOUR               692784 non-null  int64  \n",
            " 17  CRASH_DAY_OF_WEEK        692784 non-null  int64  \n",
            " 18  CRASH_MONTH              692784 non-null  int64  \n",
            " 19  LATITUDE                 688378 non-null  float64\n",
            " 20  LONGITUDE                688378 non-null  float64\n",
            "dtypes: float64(4), int64(5), object(12)\n",
            "memory usage: 111.0+ MB\n"
          ]
        }
      ],
      "source": [
        "cln_crashes.info()"
      ],
      "id": "5f78c57b"
    },
    {
      "cell_type": "markdown",
      "metadata": {
        "id": "e32069ef"
      },
      "source": [
        "There are 7 columns with missing values with 3 columns having a significantly high number than the rest. Lets go through one by one and fix these."
      ],
      "id": "e32069ef"
    },
    {
      "cell_type": "code",
      "execution_count": 53,
      "metadata": {
        "colab": {
          "base_uri": "https://localhost:8080/"
        },
        "id": "fefa2251",
        "outputId": "222d1c26-3abe-482d-b5aa-986717d12686"
      },
      "outputs": [
        {
          "output_type": "execute_result",
          "data": {
            "text/plain": [
              "Y    3170\n",
              "N     876\n",
              "Name: WORK_ZONE_I, dtype: int64"
            ]
          },
          "metadata": {},
          "execution_count": 53
        }
      ],
      "source": [
        "#Indentify the value counts\n",
        "cln_crashes['WORK_ZONE_I'].value_counts()"
      ],
      "id": "fefa2251"
    },
    {
      "cell_type": "code",
      "execution_count": 54,
      "metadata": {
        "colab": {
          "base_uri": "https://localhost:8080/"
        },
        "id": "5531d34b",
        "outputId": "62d5c5a6-cd73-4b85-b02d-6a61edd712a1"
      },
      "outputs": [
        {
          "output_type": "execute_result",
          "data": {
            "text/plain": [
              "Y    932\n",
              "N    116\n",
              "Name: WORKERS_PRESENT_I, dtype: int64"
            ]
          },
          "metadata": {},
          "execution_count": 54
        }
      ],
      "source": [
        "cln_crashes['WORKERS_PRESENT_I'].value_counts()"
      ],
      "id": "5531d34b"
    },
    {
      "cell_type": "markdown",
      "metadata": {
        "id": "3bdd2c54"
      },
      "source": [
        "Both of these columns arae indicators in the form of Yes or No. We are going to assume that if a crash happens in a work zone with workers present, it would be aa significant thing to note. Relying on the thoroughness of the responding officer, we will replace the missing values with No. This is an assumption that a responding officer will easilly notice aa work site and note it down considering that work sites are significantly big landmarks."
      ],
      "id": "3bdd2c54"
    },
    {
      "cell_type": "code",
      "execution_count": 55,
      "metadata": {
        "colab": {
          "base_uri": "https://localhost:8080/"
        },
        "id": "bb9a2cdd",
        "outputId": "180211fb-bbed-4b42-9735-3ff6e3b4e841"
      },
      "outputs": [
        {
          "output_type": "stream",
          "name": "stderr",
          "text": [
            "<ipython-input-55-cb695187d75f>:2: SettingWithCopyWarning: \n",
            "A value is trying to be set on a copy of a slice from a DataFrame\n",
            "\n",
            "See the caveats in the documentation: https://pandas.pydata.org/pandas-docs/stable/user_guide/indexing.html#returning-a-view-versus-a-copy\n",
            "  cln_crashes['WORK_ZONE_I'].fillna('N',inplace=True)\n",
            "<ipython-input-55-cb695187d75f>:3: SettingWithCopyWarning: \n",
            "A value is trying to be set on a copy of a slice from a DataFrame\n",
            "\n",
            "See the caveats in the documentation: https://pandas.pydata.org/pandas-docs/stable/user_guide/indexing.html#returning-a-view-versus-a-copy\n",
            "  cln_crashes['WORKERS_PRESENT_I'].fillna('N',inplace=True)\n"
          ]
        }
      ],
      "source": [
        "#replace thee Null values with N to indicate No\n",
        "cln_crashes['WORK_ZONE_I'].fillna('N',inplace=True)\n",
        "cln_crashes['WORKERS_PRESENT_I'].fillna('N',inplace=True)"
      ],
      "id": "bb9a2cdd"
    },
    {
      "cell_type": "markdown",
      "metadata": {
        "id": "c7786a09"
      },
      "source": [
        "Lets check the value counts after replacing the missing values"
      ],
      "id": "c7786a09"
    },
    {
      "cell_type": "code",
      "execution_count": 56,
      "metadata": {
        "colab": {
          "base_uri": "https://localhost:8080/"
        },
        "id": "4d78910e",
        "outputId": "75642a9b-b0e2-4a20-ae8e-2476dfd2ce1c",
        "scrolled": false
      },
      "outputs": [
        {
          "output_type": "execute_result",
          "data": {
            "text/plain": [
              "N    689614\n",
              "Y      3170\n",
              "Name: WORK_ZONE_I, dtype: int64"
            ]
          },
          "metadata": {},
          "execution_count": 56
        }
      ],
      "source": [
        "cln_crashes['WORK_ZONE_I'].value_counts()"
      ],
      "id": "4d78910e"
    },
    {
      "cell_type": "code",
      "execution_count": 57,
      "metadata": {
        "colab": {
          "base_uri": "https://localhost:8080/"
        },
        "id": "6ae56382",
        "outputId": "8c2e4ea2-e69e-42c2-b881-15a02c2445ed"
      },
      "outputs": [
        {
          "output_type": "execute_result",
          "data": {
            "text/plain": [
              "N    691852\n",
              "Y       932\n",
              "Name: WORKERS_PRESENT_I, dtype: int64"
            ]
          },
          "metadata": {},
          "execution_count": 57
        }
      ],
      "source": [
        "cln_crashes['WORKERS_PRESENT_I'].value_counts()"
      ],
      "id": "6ae56382"
    },
    {
      "cell_type": "markdown",
      "metadata": {
        "id": "5dc29529"
      },
      "source": [
        "Similarly, for intersection related events, the assumption is going to be that it is a significant thing to miss. Intersections are very clear landmarks which are difficult to miss. The missing values will be replaced by No"
      ],
      "id": "5dc29529"
    },
    {
      "cell_type": "code",
      "execution_count": 58,
      "metadata": {
        "colab": {
          "base_uri": "https://localhost:8080/"
        },
        "id": "a46823b3",
        "outputId": "4075c391-bd5f-41b2-b8ac-99ec35561516",
        "scrolled": true
      },
      "outputs": [
        {
          "output_type": "stream",
          "name": "stderr",
          "text": [
            "<ipython-input-58-d6473f561668>:2: SettingWithCopyWarning: \n",
            "A value is trying to be set on a copy of a slice from a DataFrame\n",
            "\n",
            "See the caveats in the documentation: https://pandas.pydata.org/pandas-docs/stable/user_guide/indexing.html#returning-a-view-versus-a-copy\n",
            "  cln_crashes['INTERSECTION_RELATED_I'].fillna('N',inplace=True)\n"
          ]
        }
      ],
      "source": [
        "#replace Null values with N\n",
        "cln_crashes['INTERSECTION_RELATED_I'].fillna('N',inplace=True)"
      ],
      "id": "a46823b3"
    },
    {
      "cell_type": "code",
      "execution_count": 59,
      "metadata": {
        "colab": {
          "base_uri": "https://localhost:8080/"
        },
        "id": "8f91cb69",
        "outputId": "5892d51a-8a7a-4595-81b5-1dfd68dc4ca9"
      },
      "outputs": [
        {
          "output_type": "execute_result",
          "data": {
            "text/plain": [
              "N    541388\n",
              "Y    151396\n",
              "Name: INTERSECTION_RELATED_I, dtype: int64"
            ]
          },
          "metadata": {},
          "execution_count": 59
        }
      ],
      "source": [
        "cln_crashes['INTERSECTION_RELATED_I'].value_counts()"
      ],
      "id": "8f91cb69"
    },
    {
      "cell_type": "markdown",
      "metadata": {
        "id": "5971ea37"
      },
      "source": [
        "Before dealing with the other 4 columns that have a small percentage of records with missing values, lets filter out the crash type to see if we automatically drop the missing records. \n",
        "\n",
        "Since the goal is to recognise car crash causes that can help with Vision Zero, we will only use the crashes where there was an injury or fatality. \n",
        "\n",
        "\n",
        "Therefore the next step will be to filter out the crashes according to crash types."
      ],
      "id": "5971ea37"
    },
    {
      "cell_type": "code",
      "execution_count": 60,
      "metadata": {
        "colab": {
          "base_uri": "https://localhost:8080/"
        },
        "id": "0cdbe7ce",
        "outputId": "ed0912e2-f9b9-44db-a42f-effd2d1a57c5",
        "scrolled": true
      },
      "outputs": [
        {
          "output_type": "execute_result",
          "data": {
            "text/plain": [
              "NO INJURY / DRIVE AWAY              510406\n",
              "INJURY AND / OR TOW DUE TO CRASH    182378\n",
              "Name: CRASH_TYPE, dtype: int64"
            ]
          },
          "metadata": {},
          "execution_count": 60
        }
      ],
      "source": [
        "#investigate the different values in crash type\n",
        "cln_crashes['CRASH_TYPE'].value_counts()"
      ],
      "id": "0cdbe7ce"
    },
    {
      "cell_type": "code",
      "execution_count": 61,
      "metadata": {
        "colab": {
          "base_uri": "https://localhost:8080/"
        },
        "id": "5af1608f",
        "outputId": "5c01a2e0-a338-493e-8841-cedd1516ea2e"
      },
      "outputs": [
        {
          "output_type": "stream",
          "name": "stdout",
          "text": [
            "<class 'pandas.core.frame.DataFrame'>\n",
            "Int64Index: 182378 entries, 0 to 692777\n",
            "Data columns (total 21 columns):\n",
            " #   Column                   Non-Null Count   Dtype  \n",
            "---  ------                   --------------   -----  \n",
            " 0   CRASH_RECORD_ID          182378 non-null  object \n",
            " 1   CRASH_DATE               182378 non-null  object \n",
            " 2   POSTED_SPEED_LIMIT       182378 non-null  int64  \n",
            " 3   DEVICE_CONDITION         182378 non-null  object \n",
            " 4   WEATHER_CONDITION        182378 non-null  object \n",
            " 5   LIGHTING_CONDITION       182378 non-null  object \n",
            " 6   CRASH_TYPE               182378 non-null  object \n",
            " 7   INTERSECTION_RELATED_I   182378 non-null  object \n",
            " 8   ROAD_DEFECT              182378 non-null  object \n",
            " 9   PRIM_CONTRIBUTORY_CAUSE  182378 non-null  object \n",
            " 10  SEC_CONTRIBUTORY_CAUSE   182378 non-null  object \n",
            " 11  NUM_UNITS                182378 non-null  int64  \n",
            " 12  WORK_ZONE_I              182378 non-null  object \n",
            " 13  WORKERS_PRESENT_I        182378 non-null  object \n",
            " 14  INJURIES_TOTAL           181739 non-null  float64\n",
            " 15  INJURIES_FATAL           181739 non-null  float64\n",
            " 16  CRASH_HOUR               182378 non-null  int64  \n",
            " 17  CRASH_DAY_OF_WEEK        182378 non-null  int64  \n",
            " 18  CRASH_MONTH              182378 non-null  int64  \n",
            " 19  LATITUDE                 181319 non-null  float64\n",
            " 20  LONGITUDE                181319 non-null  float64\n",
            "dtypes: float64(4), int64(5), object(12)\n",
            "memory usage: 30.6+ MB\n"
          ]
        }
      ],
      "source": [
        "#filter out records for injury related events\n",
        "cln_crashes = cln_crashes[cln_crashes['CRASH_TYPE'] == 'INJURY AND / OR TOW DUE TO CRASH']\n",
        "\n",
        "#look at the new summaary for the dataframe\n",
        "cln_crashes.info()"
      ],
      "id": "5af1608f"
    },
    {
      "cell_type": "markdown",
      "metadata": {
        "id": "2ea54eb1"
      },
      "source": [
        "Looks like there are still columns with missing values. Compared to the total number of records, the number of records that these columns aree missing is significantly very small. With that consdieration, it would be better to drop tee records with missing values."
      ],
      "id": "2ea54eb1"
    },
    {
      "cell_type": "code",
      "execution_count": 62,
      "metadata": {
        "id": "4e30360d"
      },
      "outputs": [],
      "source": [
        "#drop records with missing values\n",
        "cln_crashes.dropna(inplace=True)"
      ],
      "id": "4e30360d"
    },
    {
      "cell_type": "code",
      "execution_count": 63,
      "metadata": {
        "colab": {
          "base_uri": "https://localhost:8080/"
        },
        "id": "a290a6a6",
        "outputId": "a1a84b8b-18f8-4080-acd0-e419158ad4e6"
      },
      "outputs": [
        {
          "output_type": "stream",
          "name": "stdout",
          "text": [
            "<class 'pandas.core.frame.DataFrame'>\n",
            "Int64Index: 180681 entries, 0 to 692777\n",
            "Data columns (total 21 columns):\n",
            " #   Column                   Non-Null Count   Dtype  \n",
            "---  ------                   --------------   -----  \n",
            " 0   CRASH_RECORD_ID          180681 non-null  object \n",
            " 1   CRASH_DATE               180681 non-null  object \n",
            " 2   POSTED_SPEED_LIMIT       180681 non-null  int64  \n",
            " 3   DEVICE_CONDITION         180681 non-null  object \n",
            " 4   WEATHER_CONDITION        180681 non-null  object \n",
            " 5   LIGHTING_CONDITION       180681 non-null  object \n",
            " 6   CRASH_TYPE               180681 non-null  object \n",
            " 7   INTERSECTION_RELATED_I   180681 non-null  object \n",
            " 8   ROAD_DEFECT              180681 non-null  object \n",
            " 9   PRIM_CONTRIBUTORY_CAUSE  180681 non-null  object \n",
            " 10  SEC_CONTRIBUTORY_CAUSE   180681 non-null  object \n",
            " 11  NUM_UNITS                180681 non-null  int64  \n",
            " 12  WORK_ZONE_I              180681 non-null  object \n",
            " 13  WORKERS_PRESENT_I        180681 non-null  object \n",
            " 14  INJURIES_TOTAL           180681 non-null  float64\n",
            " 15  INJURIES_FATAL           180681 non-null  float64\n",
            " 16  CRASH_HOUR               180681 non-null  int64  \n",
            " 17  CRASH_DAY_OF_WEEK        180681 non-null  int64  \n",
            " 18  CRASH_MONTH              180681 non-null  int64  \n",
            " 19  LATITUDE                 180681 non-null  float64\n",
            " 20  LONGITUDE                180681 non-null  float64\n",
            "dtypes: float64(4), int64(5), object(12)\n",
            "memory usage: 30.3+ MB\n"
          ]
        }
      ],
      "source": [
        "#investigate the summarry\n",
        "cln_crashes.info()"
      ],
      "id": "a290a6a6"
    },
    {
      "cell_type": "markdown",
      "metadata": {
        "id": "eab1e094"
      },
      "source": [
        "Next, lets break up the Crash Date column to extract the year since we already have the hour, month, and daay of the week in separate columns."
      ],
      "id": "eab1e094"
    },
    {
      "cell_type": "code",
      "execution_count": 64,
      "metadata": {
        "colab": {
          "base_uri": "https://localhost:8080/"
        },
        "id": "1d87957b",
        "outputId": "be3fa02a-124d-4072-9dfd-2f66fd40e27e"
      },
      "outputs": [
        {
          "output_type": "execute_result",
          "data": {
            "text/plain": [
              "0         03/25/2019 02:43:00 PM\n",
              "11        07/15/2020 11:45:00 AM\n",
              "14        07/15/2022 04:10:00 PM\n",
              "18        07/15/2022 09:00:00 PM\n",
              "21        06/21/2019 02:37:00 PM\n",
              "                   ...          \n",
              "692765    11/23/2022 05:58:00 PM\n",
              "692767    11/24/2022 05:27:00 AM\n",
              "692771    11/22/2022 08:00:00 PM\n",
              "692776    11/24/2022 01:10:00 AM\n",
              "692777    11/22/2022 04:30:00 PM\n",
              "Name: CRASH_DATE, Length: 180681, dtype: object"
            ]
          },
          "metadata": {},
          "execution_count": 64
        }
      ],
      "source": [
        "#investigate the current values\n",
        "cln_crashes['CRASH_DATE']"
      ],
      "id": "1d87957b"
    },
    {
      "cell_type": "markdown",
      "metadata": {
        "id": "d0c09a2b"
      },
      "source": [
        "Looks like these are strings. They have to be converted to datetime for extraction"
      ],
      "id": "d0c09a2b"
    },
    {
      "cell_type": "code",
      "execution_count": 65,
      "metadata": {
        "id": "d0b33ffb"
      },
      "outputs": [],
      "source": [
        "#convert the data type to Datetime\n",
        "cln_crashes['CRASH_DATE'] = cln_crashes['CRASH_DATE'].map(\n",
        "                            lambda x: dt.datetime.strptime(x, '%m/%d/%Y %H:%M:%S %p'))"
      ],
      "id": "d0b33ffb"
    },
    {
      "cell_type": "code",
      "execution_count": 66,
      "metadata": {
        "colab": {
          "base_uri": "https://localhost:8080/"
        },
        "id": "850c0413",
        "outputId": "a8e25e73-b056-449c-f6a4-8c44ed384bea"
      },
      "outputs": [
        {
          "output_type": "execute_result",
          "data": {
            "text/plain": [
              "0        2019-03-25 02:43:00\n",
              "11       2020-07-15 11:45:00\n",
              "14       2022-07-15 04:10:00\n",
              "18       2022-07-15 09:00:00\n",
              "21       2019-06-21 02:37:00\n",
              "                 ...        \n",
              "692765   2022-11-23 05:58:00\n",
              "692767   2022-11-24 05:27:00\n",
              "692771   2022-11-22 08:00:00\n",
              "692776   2022-11-24 01:10:00\n",
              "692777   2022-11-22 04:30:00\n",
              "Name: CRASH_DATE, Length: 180681, dtype: datetime64[ns]"
            ]
          },
          "metadata": {},
          "execution_count": 66
        }
      ],
      "source": [
        "#investigate the new values\n",
        "cln_crashes['CRASH_DATE']"
      ],
      "id": "850c0413"
    },
    {
      "cell_type": "code",
      "execution_count": 67,
      "metadata": {
        "id": "83447d98"
      },
      "outputs": [],
      "source": [
        "#keep only the year\n",
        "cln_crashes['CRASH_DATE'] = cln_crashes['CRASH_DATE'].dt.year"
      ],
      "id": "83447d98"
    },
    {
      "cell_type": "code",
      "execution_count": 68,
      "metadata": {
        "id": "55056902"
      },
      "outputs": [],
      "source": [
        "#rename column to year \n",
        "cln_crashes.rename(columns={'CRASH_DATE': 'CRASH_YEAR'},inplace = True)"
      ],
      "id": "55056902"
    },
    {
      "cell_type": "code",
      "execution_count": 69,
      "metadata": {
        "colab": {
          "base_uri": "https://localhost:8080/"
        },
        "id": "168b3889",
        "outputId": "ce3c17c7-6741-49f1-b023-d4bd7e76650f"
      },
      "outputs": [
        {
          "output_type": "stream",
          "name": "stdout",
          "text": [
            "<class 'pandas.core.frame.DataFrame'>\n",
            "Int64Index: 180681 entries, 0 to 692777\n",
            "Data columns (total 21 columns):\n",
            " #   Column                   Non-Null Count   Dtype  \n",
            "---  ------                   --------------   -----  \n",
            " 0   CRASH_RECORD_ID          180681 non-null  object \n",
            " 1   CRASH_YEAR               180681 non-null  int64  \n",
            " 2   POSTED_SPEED_LIMIT       180681 non-null  int64  \n",
            " 3   DEVICE_CONDITION         180681 non-null  object \n",
            " 4   WEATHER_CONDITION        180681 non-null  object \n",
            " 5   LIGHTING_CONDITION       180681 non-null  object \n",
            " 6   CRASH_TYPE               180681 non-null  object \n",
            " 7   INTERSECTION_RELATED_I   180681 non-null  object \n",
            " 8   ROAD_DEFECT              180681 non-null  object \n",
            " 9   PRIM_CONTRIBUTORY_CAUSE  180681 non-null  object \n",
            " 10  SEC_CONTRIBUTORY_CAUSE   180681 non-null  object \n",
            " 11  NUM_UNITS                180681 non-null  int64  \n",
            " 12  WORK_ZONE_I              180681 non-null  object \n",
            " 13  WORKERS_PRESENT_I        180681 non-null  object \n",
            " 14  INJURIES_TOTAL           180681 non-null  float64\n",
            " 15  INJURIES_FATAL           180681 non-null  float64\n",
            " 16  CRASH_HOUR               180681 non-null  int64  \n",
            " 17  CRASH_DAY_OF_WEEK        180681 non-null  int64  \n",
            " 18  CRASH_MONTH              180681 non-null  int64  \n",
            " 19  LATITUDE                 180681 non-null  float64\n",
            " 20  LONGITUDE                180681 non-null  float64\n",
            "dtypes: float64(4), int64(6), object(11)\n",
            "memory usage: 30.3+ MB\n"
          ]
        }
      ],
      "source": [
        "#investigate summary after change\n",
        "cln_crashes.info()"
      ],
      "id": "168b3889"
    },
    {
      "cell_type": "markdown",
      "metadata": {
        "id": "94ad9aa7"
      },
      "source": [
        "Since the datasource mentions that citywide data isn't availale until September 2017, we will be conservative and give a couplee of months for the new system to be incorporated properly and use records from 2018 onwards."
      ],
      "id": "94ad9aa7"
    },
    {
      "cell_type": "code",
      "execution_count": 70,
      "metadata": {
        "id": "42f17016"
      },
      "outputs": [],
      "source": [
        "#filter records to keep 2018 onwards\n",
        "cln_crashes = cln_crashes[cln_crashes['CRASH_YEAR'] >= 2018]"
      ],
      "id": "42f17016"
    },
    {
      "cell_type": "code",
      "execution_count": 71,
      "metadata": {
        "colab": {
          "base_uri": "https://localhost:8080/"
        },
        "id": "6dab9cbe",
        "outputId": "4f0f1911-c016-4f36-88ae-3caf6f006931"
      },
      "outputs": [
        {
          "output_type": "stream",
          "name": "stdout",
          "text": [
            "<class 'pandas.core.frame.DataFrame'>\n",
            "Int64Index: 158209 entries, 0 to 692777\n",
            "Data columns (total 21 columns):\n",
            " #   Column                   Non-Null Count   Dtype  \n",
            "---  ------                   --------------   -----  \n",
            " 0   CRASH_RECORD_ID          158209 non-null  object \n",
            " 1   CRASH_YEAR               158209 non-null  int64  \n",
            " 2   POSTED_SPEED_LIMIT       158209 non-null  int64  \n",
            " 3   DEVICE_CONDITION         158209 non-null  object \n",
            " 4   WEATHER_CONDITION        158209 non-null  object \n",
            " 5   LIGHTING_CONDITION       158209 non-null  object \n",
            " 6   CRASH_TYPE               158209 non-null  object \n",
            " 7   INTERSECTION_RELATED_I   158209 non-null  object \n",
            " 8   ROAD_DEFECT              158209 non-null  object \n",
            " 9   PRIM_CONTRIBUTORY_CAUSE  158209 non-null  object \n",
            " 10  SEC_CONTRIBUTORY_CAUSE   158209 non-null  object \n",
            " 11  NUM_UNITS                158209 non-null  int64  \n",
            " 12  WORK_ZONE_I              158209 non-null  object \n",
            " 13  WORKERS_PRESENT_I        158209 non-null  object \n",
            " 14  INJURIES_TOTAL           158209 non-null  float64\n",
            " 15  INJURIES_FATAL           158209 non-null  float64\n",
            " 16  CRASH_HOUR               158209 non-null  int64  \n",
            " 17  CRASH_DAY_OF_WEEK        158209 non-null  int64  \n",
            " 18  CRASH_MONTH              158209 non-null  int64  \n",
            " 19  LATITUDE                 158209 non-null  float64\n",
            " 20  LONGITUDE                158209 non-null  float64\n",
            "dtypes: float64(4), int64(6), object(11)\n",
            "memory usage: 26.6+ MB\n"
          ]
        }
      ],
      "source": [
        "#investigate the summary after filtering\n",
        "cln_crashes.info()"
      ],
      "id": "6dab9cbe"
    },
    {
      "cell_type": "markdown",
      "metadata": {
        "id": "e1190541"
      },
      "source": [
        "The number of records have reduced but a significant chunk is still there. Lets proceed further with cleaning the other columns\n",
        "\n",
        "The next one is device condition"
      ],
      "id": "e1190541"
    },
    {
      "cell_type": "code",
      "execution_count": 72,
      "metadata": {
        "colab": {
          "base_uri": "https://localhost:8080/"
        },
        "id": "a21633fe",
        "outputId": "5d0cd3f2-0883-4434-c2db-f19d644cd9ba"
      },
      "outputs": [
        {
          "output_type": "execute_result",
          "data": {
            "text/plain": [
              "NO CONTROLS                 79463\n",
              "FUNCTIONING PROPERLY        67803\n",
              "UNKNOWN                      7842\n",
              "OTHER                        1443\n",
              "FUNCTIONING IMPROPERLY        971\n",
              "NOT FUNCTIONING               588\n",
              "WORN REFLECTIVE MATERIAL       67\n",
              "MISSING                        32\n",
              "Name: DEVICE_CONDITION, dtype: int64"
            ]
          },
          "metadata": {},
          "execution_count": 72
        }
      ],
      "source": [
        "#look at the value counts of the different categories\n",
        "cln_crashes['DEVICE_CONDITION'].value_counts()"
      ],
      "id": "a21633fe"
    },
    {
      "cell_type": "markdown",
      "metadata": {
        "id": "8ca3a156"
      },
      "source": [
        "This column contains multiple categories that can be grouped together. To reduce the amount of granularity of the data, 3 main categories can be focused on. \n",
        "\n",
        "1. No controls: shows that there were no controls in that area\n",
        "2. Functioning properly: shows that there were controls and were working properly\n",
        "3. Not Functioning properly: shows that there were controls but weren't working properly"
      ],
      "id": "8ca3a156"
    },
    {
      "cell_type": "code",
      "execution_count": 73,
      "metadata": {
        "id": "b5a91dfc"
      },
      "outputs": [],
      "source": [
        "#replace values with the binned category\n",
        "cln_crashes['DEVICE_CONDITION'].replace(['UNKNOWN', \n",
        "                                         'OTHER', \n",
        "                                         'FUNCTIONING IMPROPERLY', \n",
        "                                         'NOT FUNCTIONING', \n",
        "                                         'WORN REFLECTIVE MATERIAL', \n",
        "                                         'MISSING'], 'NOT FUNCTIONING PROPERLY', inplace=True)"
      ],
      "id": "b5a91dfc"
    },
    {
      "cell_type": "code",
      "execution_count": 74,
      "metadata": {
        "colab": {
          "base_uri": "https://localhost:8080/"
        },
        "id": "3ee3ca4f",
        "outputId": "686d1e04-582d-452d-fc15-c2c3dd00645e"
      },
      "outputs": [
        {
          "output_type": "execute_result",
          "data": {
            "text/plain": [
              "NO CONTROLS                 79463\n",
              "FUNCTIONING PROPERLY        67803\n",
              "NOT FUNCTIONING PROPERLY    10943\n",
              "Name: DEVICE_CONDITION, dtype: int64"
            ]
          },
          "metadata": {},
          "execution_count": 74
        }
      ],
      "source": [
        "#look at the new value counts\n",
        "cln_crashes['DEVICE_CONDITION'].value_counts()"
      ],
      "id": "3ee3ca4f"
    },
    {
      "cell_type": "markdown",
      "metadata": {
        "id": "a6b23364"
      },
      "source": [
        "Next, lets investigate the Weather Condition column"
      ],
      "id": "a6b23364"
    },
    {
      "cell_type": "code",
      "execution_count": 75,
      "metadata": {
        "colab": {
          "base_uri": "https://localhost:8080/"
        },
        "id": "9058bdac",
        "outputId": "c2405db9-0612-41df-8954-1831d46bf370"
      },
      "outputs": [
        {
          "output_type": "execute_result",
          "data": {
            "text/plain": [
              "CLEAR                     124418\n",
              "RAIN                       16925\n",
              "SNOW                        6227\n",
              "CLOUDY/OVERCAST             5346\n",
              "UNKNOWN                     3242\n",
              "OTHER                        742\n",
              "FREEZING RAIN/DRIZZLE        512\n",
              "FOG/SMOKE/HAZE               328\n",
              "SLEET/HAIL                   298\n",
              "BLOWING SNOW                 138\n",
              "SEVERE CROSS WIND GATE        33\n",
              "Name: WEATHER_CONDITION, dtype: int64"
            ]
          },
          "metadata": {},
          "execution_count": 75
        }
      ],
      "source": [
        "#look at the value counts\n",
        "cln_crashes['WEATHER_CONDITION'].value_counts()"
      ],
      "id": "9058bdac"
    },
    {
      "cell_type": "markdown",
      "metadata": {
        "id": "b4f31019"
      },
      "source": [
        "Similarly, to reduce teh granularity of the dataset, multiple categories in this dataset can be binned together to represent 2 main categories:\n",
        "\n",
        "1. Clear: shows clear weather\n",
        "2. Not Clear: shows that the weather wasn't clear and could have been a cause of obstruction\n",
        "\n"
      ],
      "id": "b4f31019"
    },
    {
      "cell_type": "code",
      "execution_count": 76,
      "metadata": {
        "id": "40438e96"
      },
      "outputs": [],
      "source": [
        "#replace values with the binned category\n",
        "cln_crashes['WEATHER_CONDITION'].replace(['RAIN', \n",
        "                                         'SNOW', \n",
        "                                         'CLOUDY/OVERCAST', \n",
        "                                         'UNKNOWN', \n",
        "                                         'OTHER', \n",
        "                                         'FREEZING RAIN/DRIZZLE',\n",
        "                                         'FOG/SMOKE/HAZE',\n",
        "                                         'SLEET/HAIL',\n",
        "                                         'BLOWING SNOW',\n",
        "                                         'SEVERE CROSS WIND GATE'], 'NOT CLEAR', inplace=True)"
      ],
      "id": "40438e96"
    },
    {
      "cell_type": "code",
      "execution_count": 77,
      "metadata": {
        "colab": {
          "base_uri": "https://localhost:8080/"
        },
        "id": "75e65f13",
        "outputId": "8f81a1ba-0f4c-4476-f48a-a2493808336e"
      },
      "outputs": [
        {
          "output_type": "execute_result",
          "data": {
            "text/plain": [
              "CLEAR        124418\n",
              "NOT CLEAR     33791\n",
              "Name: WEATHER_CONDITION, dtype: int64"
            ]
          },
          "metadata": {},
          "execution_count": 77
        }
      ],
      "source": [
        "#look at the new value counts\n",
        "cln_crashes['WEATHER_CONDITION'].value_counts()"
      ],
      "id": "75e65f13"
    },
    {
      "cell_type": "markdown",
      "metadata": {
        "id": "0cccf097"
      },
      "source": [
        "Lets investigate the Lighting Condition next."
      ],
      "id": "0cccf097"
    },
    {
      "cell_type": "code",
      "execution_count": 78,
      "metadata": {
        "colab": {
          "base_uri": "https://localhost:8080/"
        },
        "id": "d46b7e12",
        "outputId": "a8e69372-c5fa-45fb-b1ee-c3caf7bc560f"
      },
      "outputs": [
        {
          "output_type": "execute_result",
          "data": {
            "text/plain": [
              "DAYLIGHT                  89319\n",
              "DARKNESS, LIGHTED ROAD    50881\n",
              "DARKNESS                   7480\n",
              "DUSK                       4661\n",
              "DAWN                       3232\n",
              "UNKNOWN                    2636\n",
              "Name: LIGHTING_CONDITION, dtype: int64"
            ]
          },
          "metadata": {},
          "execution_count": 78
        }
      ],
      "source": [
        "#look at the value counts\n",
        "cln_crashes['LIGHTING_CONDITION'].value_counts()"
      ],
      "id": "d46b7e12"
    },
    {
      "cell_type": "markdown",
      "metadata": {
        "id": "d4a064b3"
      },
      "source": [
        "Lighting conditions is a lot more granular whereas we can work with a sllighly less granular approach. Day Time and Night Time would be sufficient categories to indicate what time of dat the crash ocurred. If Lighting Conditions are a significant cause, these can be explored further.\n",
        "\n",
        "For the unknown category, we can take a look at the crash hour and assign the correct bin aaccordingly.\n"
      ],
      "id": "d4a064b3"
    },
    {
      "cell_type": "code",
      "execution_count": 79,
      "metadata": {
        "id": "01fa15c2"
      },
      "outputs": [],
      "source": [
        "#bin categories for Night time\n",
        "cln_crashes['LIGHTING_CONDITION'].replace(['DARKNESS, LIGHTED ROAD', \n",
        "                                         'DARKNESS, LIGHTED ROAD', \n",
        "                                         'DARKNESS', \n",
        "                                         'DAWN', \n",
        "                                         'OTHER', \n",
        "                                         ], 'NIGHT TIME', inplace=True)\n",
        "\n",
        "\n",
        "#bin categories for daytime\n",
        "cln_crashes['LIGHTING_CONDITION'].replace(['DAYLIGHT', \n",
        "                                         'DUSK',  \n",
        "                                         ], 'DAY TIME', inplace=True)"
      ],
      "id": "01fa15c2"
    },
    {
      "cell_type": "code",
      "execution_count": 80,
      "metadata": {
        "colab": {
          "base_uri": "https://localhost:8080/"
        },
        "id": "d7827a66",
        "outputId": "0b7d4bd3-96e9-4a76-93bc-756114dc9db5"
      },
      "outputs": [
        {
          "output_type": "execute_result",
          "data": {
            "text/plain": [
              "DAY TIME      93980\n",
              "NIGHT TIME    61593\n",
              "UNKNOWN        2636\n",
              "Name: LIGHTING_CONDITION, dtype: int64"
            ]
          },
          "metadata": {},
          "execution_count": 80
        }
      ],
      "source": [
        "#check new value counts\n",
        "cln_crashes['LIGHTING_CONDITION'].value_counts()"
      ],
      "id": "d7827a66"
    },
    {
      "cell_type": "code",
      "execution_count": 81,
      "metadata": {
        "colab": {
          "base_uri": "https://localhost:8080/"
        },
        "id": "dac6fbae",
        "outputId": "bd1850e1-31f6-468b-c9fe-b685990fa7e9"
      },
      "outputs": [
        {
          "output_type": "execute_result",
          "data": {
            "text/plain": [
              "0     175\n",
              "18    161\n",
              "17    159\n",
              "16    143\n",
              "19    141\n",
              "20    126\n",
              "22    122\n",
              "21    121\n",
              "6     119\n",
              "15    118\n",
              "7     116\n",
              "23    106\n",
              "5     104\n",
              "14    104\n",
              "8     100\n",
              "2      95\n",
              "1      93\n",
              "9      86\n",
              "4      85\n",
              "12     83\n",
              "10     77\n",
              "3      74\n",
              "11     71\n",
              "13     57\n",
              "Name: CRASH_HOUR, dtype: int64"
            ]
          },
          "metadata": {},
          "execution_count": 81
        }
      ],
      "source": [
        "#check unkown category crash hour\n",
        "cln_crashes[cln_crashes['LIGHTING_CONDITION'] == 'UNKNOWN']['CRASH_HOUR'].value_counts()"
      ],
      "id": "dac6fbae"
    },
    {
      "cell_type": "code",
      "execution_count": 82,
      "metadata": {
        "id": "9407e3c3"
      },
      "outputs": [],
      "source": [
        "#assign day time according to general guidelines\n",
        "cln_crashes.loc[(cln_crashes['LIGHTING_CONDITION'] == 'UNKNOWN') & \n",
        "            ((cln_crashes['CRASH_HOUR']>=6) | (cln_crashes['CRASH_HOUR']<=19)),\n",
        "               'LIGHTING_CONDITION'] = 'DAY TIME'"
      ],
      "id": "9407e3c3"
    },
    {
      "cell_type": "code",
      "execution_count": 83,
      "metadata": {
        "id": "9845cd57"
      },
      "outputs": [],
      "source": [
        "#assign night time according to general guidelines\n",
        "cln_crashes.loc[(cln_crashes['LIGHTING_CONDITION'] == 'UNKNOWN') & \n",
        "            ((cln_crashes['CRASH_HOUR']<=5) | (cln_crashes['CRASH_HOUR']>=18)),\n",
        "               'LIGHTING_CONDITION'] = 'NIGHT TIME'"
      ],
      "id": "9845cd57"
    },
    {
      "cell_type": "code",
      "execution_count": 84,
      "metadata": {
        "colab": {
          "base_uri": "https://localhost:8080/"
        },
        "id": "4f65d25e",
        "outputId": "25b77d58-35f1-4337-9166-0d04a336ca62"
      },
      "outputs": [
        {
          "output_type": "execute_result",
          "data": {
            "text/plain": [
              "DAY TIME      96616\n",
              "NIGHT TIME    61593\n",
              "Name: LIGHTING_CONDITION, dtype: int64"
            ]
          },
          "metadata": {},
          "execution_count": 84
        }
      ],
      "source": [
        "#check new value counts\n",
        "cln_crashes['LIGHTING_CONDITION'].value_counts()"
      ],
      "id": "4f65d25e"
    },
    {
      "cell_type": "code",
      "execution_count": 85,
      "metadata": {
        "colab": {
          "base_uri": "https://localhost:8080/"
        },
        "id": "beb62d9a",
        "outputId": "839b6733-1c3b-42f6-bf53-230cd3ea77ca"
      },
      "outputs": [
        {
          "output_type": "stream",
          "name": "stdout",
          "text": [
            "<class 'pandas.core.frame.DataFrame'>\n",
            "Int64Index: 158209 entries, 0 to 692777\n",
            "Data columns (total 21 columns):\n",
            " #   Column                   Non-Null Count   Dtype  \n",
            "---  ------                   --------------   -----  \n",
            " 0   CRASH_RECORD_ID          158209 non-null  object \n",
            " 1   CRASH_YEAR               158209 non-null  int64  \n",
            " 2   POSTED_SPEED_LIMIT       158209 non-null  int64  \n",
            " 3   DEVICE_CONDITION         158209 non-null  object \n",
            " 4   WEATHER_CONDITION        158209 non-null  object \n",
            " 5   LIGHTING_CONDITION       158209 non-null  object \n",
            " 6   CRASH_TYPE               158209 non-null  object \n",
            " 7   INTERSECTION_RELATED_I   158209 non-null  object \n",
            " 8   ROAD_DEFECT              158209 non-null  object \n",
            " 9   PRIM_CONTRIBUTORY_CAUSE  158209 non-null  object \n",
            " 10  SEC_CONTRIBUTORY_CAUSE   158209 non-null  object \n",
            " 11  NUM_UNITS                158209 non-null  int64  \n",
            " 12  WORK_ZONE_I              158209 non-null  object \n",
            " 13  WORKERS_PRESENT_I        158209 non-null  object \n",
            " 14  INJURIES_TOTAL           158209 non-null  float64\n",
            " 15  INJURIES_FATAL           158209 non-null  float64\n",
            " 16  CRASH_HOUR               158209 non-null  int64  \n",
            " 17  CRASH_DAY_OF_WEEK        158209 non-null  int64  \n",
            " 18  CRASH_MONTH              158209 non-null  int64  \n",
            " 19  LATITUDE                 158209 non-null  float64\n",
            " 20  LONGITUDE                158209 non-null  float64\n",
            "dtypes: float64(4), int64(6), object(11)\n",
            "memory usage: 26.6+ MB\n"
          ]
        }
      ],
      "source": [
        "#check dataframe summary after changes\n",
        "cln_crashes.info()"
      ],
      "id": "beb62d9a"
    },
    {
      "cell_type": "markdown",
      "metadata": {
        "id": "728da182"
      },
      "source": [
        "Lets investigate the road defect column."
      ],
      "id": "728da182"
    },
    {
      "cell_type": "code",
      "execution_count": 86,
      "metadata": {
        "colab": {
          "base_uri": "https://localhost:8080/"
        },
        "id": "6451b91a",
        "outputId": "6f2a243c-cb46-426a-bfd0-44ed1c8e2494"
      },
      "outputs": [
        {
          "output_type": "execute_result",
          "data": {
            "text/plain": [
              "NO DEFECTS           134050\n",
              "UNKNOWN               20600\n",
              "RUT, HOLES             1147\n",
              "OTHER                  1014\n",
              "WORN SURFACE            924\n",
              "SHOULDER DEFECT         326\n",
              "DEBRIS ON ROADWAY       148\n",
              "Name: ROAD_DEFECT, dtype: int64"
            ]
          },
          "metadata": {},
          "execution_count": 86
        }
      ],
      "source": [
        "#check value counts\n",
        "cln_crashes['ROAD_DEFECT'].value_counts()"
      ],
      "id": "6451b91a"
    },
    {
      "cell_type": "markdown",
      "metadata": {
        "id": "5bf24497"
      },
      "source": [
        "2 binned categories will be sufficient to use. \n",
        "\n",
        "1. No Defects: shows that there were no defects at the crash location\n",
        "2. Defects: shows that there were defects at the crash location"
      ],
      "id": "5bf24497"
    },
    {
      "cell_type": "code",
      "execution_count": 87,
      "metadata": {
        "id": "1d0637b8"
      },
      "outputs": [],
      "source": [
        "#bin categories\n",
        "cln_crashes['ROAD_DEFECT'].replace(['UNKNOWN','RUT, HOLES', \n",
        "                                         'OTHER', \n",
        "                                         'WORN SURFACE', \n",
        "                                         'SHOULDER DEFECT', \n",
        "                                         'DEBRIS ON ROADWAY', \n",
        "                                         ], 'DEFECTS', inplace=True)"
      ],
      "id": "1d0637b8"
    },
    {
      "cell_type": "code",
      "execution_count": 88,
      "metadata": {
        "colab": {
          "base_uri": "https://localhost:8080/"
        },
        "id": "e5e45553",
        "outputId": "c62e010d-e92b-4bfd-e1b9-d32b4f682e1e"
      },
      "outputs": [
        {
          "output_type": "execute_result",
          "data": {
            "text/plain": [
              "NO DEFECTS    134050\n",
              "DEFECTS        24159\n",
              "Name: ROAD_DEFECT, dtype: int64"
            ]
          },
          "metadata": {},
          "execution_count": 88
        }
      ],
      "source": [
        "#check new value counts\n",
        "cln_crashes['ROAD_DEFECT'].value_counts()"
      ],
      "id": "e5e45553"
    },
    {
      "cell_type": "markdown",
      "metadata": {
        "id": "5e9bc61f"
      },
      "source": [
        "The next column to be investigated will be Number of Units. This column contains information on how many units weeree involved in the crash."
      ],
      "id": "5e9bc61f"
    },
    {
      "cell_type": "code",
      "execution_count": 89,
      "metadata": {
        "colab": {
          "base_uri": "https://localhost:8080/"
        },
        "id": "d23db9d7",
        "outputId": "bf409d4a-ddc7-4b7b-8bdd-a706c40ccda7"
      },
      "outputs": [
        {
          "output_type": "execute_result",
          "data": {
            "text/plain": [
              "2     116347\n",
              "3      18777\n",
              "1      16256\n",
              "4       4848\n",
              "5       1324\n",
              "6        409\n",
              "7        140\n",
              "8         56\n",
              "9         26\n",
              "10        11\n",
              "11         5\n",
              "12         4\n",
              "18         3\n",
              "14         1\n",
              "15         1\n",
              "16         1\n",
              "Name: NUM_UNITS, dtype: int64"
            ]
          },
          "metadata": {},
          "execution_count": 89
        }
      ],
      "source": [
        "#check the value counts\n",
        "cln_crashes['NUM_UNITS'].value_counts()"
      ],
      "id": "d23db9d7"
    },
    {
      "cell_type": "markdown",
      "metadata": {
        "id": "ccc07dac"
      },
      "source": [
        "There are a few definite anomalies. It is very rare to see 5 or more units involved in a crash. That would mean that either there was a big pile up of vehicles because of a rare type of crash. "
      ],
      "id": "ccc07dac"
    },
    {
      "cell_type": "code",
      "execution_count": 90,
      "metadata": {
        "colab": {
          "base_uri": "https://localhost:8080/"
        },
        "id": "85b9ab25",
        "outputId": "31ac06c8-a96f-4e08-db0c-b95c671fe3d6"
      },
      "outputs": [
        {
          "output_type": "execute_result",
          "data": {
            "text/plain": [
              "2     73.5401%\n",
              "3     11.8685%\n",
              "1      10.275%\n",
              "4      3.0643%\n",
              "5      0.8369%\n",
              "6      0.2585%\n",
              "7      0.0885%\n",
              "8      0.0354%\n",
              "9      0.0164%\n",
              "10      0.007%\n",
              "11     0.0032%\n",
              "12     0.0025%\n",
              "18     0.0019%\n",
              "14     0.0006%\n",
              "15     0.0006%\n",
              "16     0.0006%\n",
              "Name: NUM_UNITS, dtype: object"
            ]
          },
          "metadata": {},
          "execution_count": 90
        }
      ],
      "source": [
        "#check the value counts percentages\n",
        "cln_crashes['NUM_UNITS'].value_counts(normalize=True).mul(100).round(4).astype(str) + '%'"
      ],
      "id": "85b9ab25"
    },
    {
      "cell_type": "markdown",
      "metadata": {
        "id": "ee1966dc"
      },
      "source": [
        "Crashes with 5 or more units involved is extremely rare and totals to slightly more than 1%. Considering how rare these occurances are, it would be useful to ignore them and focus on the bigger pieces of the pie."
      ],
      "id": "ee1966dc"
    },
    {
      "cell_type": "code",
      "execution_count": 91,
      "metadata": {
        "id": "9af03b49"
      },
      "outputs": [],
      "source": [
        "#filter records for 5 or more\n",
        "cln_crashes = cln_crashes[cln_crashes['NUM_UNITS']<5]"
      ],
      "id": "9af03b49"
    },
    {
      "cell_type": "code",
      "execution_count": 92,
      "metadata": {
        "id": "51cb5bb9"
      },
      "outputs": [],
      "source": [
        "# cln_crashes.loc[cln_crashes['NUM_UNITS']>=6, 'NUM_UNITS'] = 6"
      ],
      "id": "51cb5bb9"
    },
    {
      "cell_type": "code",
      "execution_count": 93,
      "metadata": {
        "colab": {
          "base_uri": "https://localhost:8080/"
        },
        "id": "fee42c8c",
        "outputId": "cdf309bd-9062-4f06-fb96-e09e6429efed"
      },
      "outputs": [
        {
          "output_type": "execute_result",
          "data": {
            "text/plain": [
              "2    116347\n",
              "3     18777\n",
              "1     16256\n",
              "4      4848\n",
              "Name: NUM_UNITS, dtype: int64"
            ]
          },
          "metadata": {},
          "execution_count": 93
        }
      ],
      "source": [
        "#check new vlaue counts\n",
        "cln_crashes['NUM_UNITS'].value_counts()"
      ],
      "id": "fee42c8c"
    },
    {
      "cell_type": "markdown",
      "metadata": {
        "id": "0be74cf3"
      },
      "source": [
        "Next is the Primary Contributary Cause. This will be the target variable later on. Letss investigate thiss columnn."
      ],
      "id": "0be74cf3"
    },
    {
      "cell_type": "code",
      "execution_count": 94,
      "metadata": {
        "colab": {
          "base_uri": "https://localhost:8080/"
        },
        "id": "5b812851",
        "outputId": "85b28759-6069-487a-f892-5d825ea9c998",
        "scrolled": true
      },
      "outputs": [
        {
          "output_type": "execute_result",
          "data": {
            "text/plain": [
              "UNABLE TO DETERMINE                                                                 47841\n",
              "FAILING TO YIELD RIGHT-OF-WAY                                                       25493\n",
              "FAILING TO REDUCE SPEED TO AVOID CRASH                                              11184\n",
              "FOLLOWING TOO CLOSELY                                                               10207\n",
              "DISREGARDING TRAFFIC SIGNALS                                                         7968\n",
              "NOT APPLICABLE                                                                       6268\n",
              "IMPROPER TURNING/NO SIGNAL                                                           5575\n",
              "DRIVING SKILLS/KNOWLEDGE/EXPERIENCE                                                  4456\n",
              "IMPROPER OVERTAKING/PASSING                                                          4052\n",
              "IMPROPER LANE USAGE                                                                  3913\n",
              "DISREGARDING STOP SIGN                                                               3691\n",
              "WEATHER                                                                              3256\n",
              "OPERATING VEHICLE IN ERRATIC, RECKLESS, CARELESS, NEGLIGENT OR AGGRESSIVE MANNER     3199\n",
              "PHYSICAL CONDITION OF DRIVER                                                         2435\n",
              "EQUIPMENT - VEHICLE CONDITION                                                        2302\n",
              "UNDER THE INFLUENCE OF ALCOHOL/DRUGS (USE WHEN ARREST IS EFFECTED)                   2245\n",
              "DISTRACTION - FROM INSIDE VEHICLE                                                    1732\n",
              "DRIVING ON WRONG SIDE/WRONG WAY                                                      1650\n",
              "VISION OBSCURED (SIGNS, TREE LIMBS, BUILDINGS, ETC.)                                 1488\n",
              "IMPROPER BACKING                                                                     1313\n",
              "DISTRACTION - FROM OUTSIDE VEHICLE                                                   1108\n",
              "DISREGARDING OTHER TRAFFIC SIGNS                                                      769\n",
              "EXCEEDING AUTHORIZED SPEED LIMIT                                                      614\n",
              "EVASIVE ACTION DUE TO ANIMAL, OBJECT, NONMOTORIST                                     508\n",
              "EXCEEDING SAFE SPEED FOR CONDITIONS                                                   488\n",
              "ROAD ENGINEERING/SURFACE/MARKING DEFECTS                                              404\n",
              "ROAD CONSTRUCTION/MAINTENANCE                                                         345\n",
              "CELL PHONE USE OTHER THAN TEXTING                                                     340\n",
              "DISREGARDING ROAD MARKINGS                                                            320\n",
              "HAD BEEN DRINKING (USE WHEN ARREST IS NOT MADE)                                       265\n",
              "ANIMAL                                                                                173\n",
              "TURNING RIGHT ON RED                                                                  151\n",
              "DISTRACTION - OTHER ELECTRONIC DEVICE (NAVIGATION DEVICE, DVD PLAYER, ETC.)           142\n",
              "DISREGARDING YIELD SIGN                                                               103\n",
              "TEXTING                                                                                99\n",
              "RELATED TO BUS STOP                                                                    61\n",
              "OBSTRUCTED CROSSWALKS                                                                  33\n",
              "BICYCLE ADVANCING LEGALLY ON RED LIGHT                                                 17\n",
              "PASSING STOPPED SCHOOL BUS                                                             13\n",
              "MOTORCYCLE ADVANCING LEGALLY ON RED LIGHT                                               7\n",
              "Name: PRIM_CONTRIBUTORY_CAUSE, dtype: int64"
            ]
          },
          "metadata": {},
          "execution_count": 94
        }
      ],
      "source": [
        "#check valaue counts\n",
        "cln_crashes['PRIM_CONTRIBUTORY_CAUSE'].value_counts()"
      ],
      "id": "5b812851"
    },
    {
      "cell_type": "code",
      "execution_count": 95,
      "metadata": {
        "colab": {
          "base_uri": "https://localhost:8080/"
        },
        "id": "6207baa1",
        "outputId": "152bc693-6f12-41e8-edc9-ebad3d6182b5"
      },
      "outputs": [
        {
          "output_type": "execute_result",
          "data": {
            "text/plain": [
              "40"
            ]
          },
          "metadata": {},
          "execution_count": 95
        }
      ],
      "source": [
        "#check total number of uniique categories\n",
        "len(cln_crashes['PRIM_CONTRIBUTORY_CAUSE'].unique())"
      ],
      "id": "6207baa1"
    },
    {
      "cell_type": "markdown",
      "metadata": {
        "id": "b396d72c"
      },
      "source": [
        "40 categories are a lot of categories to deal with. It would be very tedious for the model and proessing capability. \n",
        "\n",
        "Theree is clear overlap between multiple categoriesss in this column. These can be binned together to 4 major categories to make this dataset more manageable.\n",
        "\n",
        "1. Traffic Rules Violated: shows that there were traffic violations to be the primary cause of the crash\n",
        "\n",
        "2. Reckless/Improper Driving: shows that the drivver was not being safe with their driving\n",
        "\n",
        "3. Obstructions: shows that there were external distractions\n",
        "\n",
        "4. Compromised Driving: Although this can also be grouped together with unsafe driving, it stands as a category of its own because of comprimises like DUI or phone usage. It mainly covers any distractions from inside the vehicle."
      ],
      "id": "b396d72c"
    },
    {
      "cell_type": "code",
      "execution_count": 96,
      "metadata": {
        "id": "c94c9efc"
      },
      "outputs": [],
      "source": [
        "#bin categories\n",
        "\n",
        "#traffic ruless violated\n",
        "cln_crashes['PRIM_CONTRIBUTORY_CAUSE'].replace(['DISREGARDING TRAFFIC SIGNALS',\n",
        "                                                'DISREGARDING STOP SIGN', \n",
        "                                                'PASSING STOPPED SCHOOL BUS', \n",
        "                                                'RELATED TO BUS STOP', \n",
        "                                                'DISREGARDING YIELD SIGN', \n",
        "                                                'TURNING RIGHT ON RED',\n",
        "                                                'TURNING RIGHT ON RED',\n",
        "                                                'DISREGARDING OTHER TRAFFIC SIGNS',\n",
        "                                                'DRIVING ON WRONG SIDE/WRONG WAY',\n",
        "                                                'DISREGARDING ROAD MARKINGS',\n",
        "                                                'FAILING TO YIELD RIGHT-OF-WAY'\n",
        "                                         ], 'TRAFFIC RULES VIOLATED', inplace=True)\n",
        "\n",
        "#Reckless/Improper Driving\n",
        "cln_crashes['PRIM_CONTRIBUTORY_CAUSE'].replace(['IMPROPER TURNING/NO SIGNAL',\n",
        "                                                'DRIVING SKILLS/KNOWLEDGE/EXPERIENCE', \n",
        "                                                'IMPROPER OVERTAKING/PASSING', \n",
        "                                                'IMPROPER LANE USAGE', \n",
        "                                                'OPERATING VEHICLE IN ERRATIC, RECKLESS, CARELESS, NEGLIGENT OR AGGRESSIVE MANNER', \n",
        "                                                'DRIVING ON WRONG SIDE/WRONG WAY',\n",
        "                                                'IMPROPER BACKING',\n",
        "                                                'EXCEEDING AUTHORIZED SPEED LIMIT',\n",
        "                                                'EXCEEDING SAFE SPEED FOR CONDITIONS',\n",
        "                                                'FAILING TO REDUCE SPEED TO AVOID CRASH',\n",
        "                                                'FOLLOWING TOO CLOSELY'\n",
        "                                         ], 'RECKLESS/IMPROPER DRIVING', inplace=True)\n",
        "\n",
        "# #Overspeeding\n",
        "# cln_crashes['PRIM_CONTRIBUTORY_CAUSE'].replace(['EXCEEDING AUTHORIZED SPEED LIMIT',\n",
        "#                                                 'EXCEEDING SAFE SPEED FOR CONDITIONS'\n",
        "#                                          ], 'OVERSPEEDING', inplace=True)\n",
        "\n",
        "# #Overspeeding\n",
        "# cln_crashes['PRIM_CONTRIBUTORY_CAUSE'].replace(['WEATHER'\n",
        "#                                          ], \"NATURE'S IMPACT\", inplace=True)\n",
        "\n",
        "#Obstructions\n",
        "cln_crashes['PRIM_CONTRIBUTORY_CAUSE'].replace(['MOTORCYCLE ADVANCING LEGALLY ON RED LIGHT',\n",
        "                                                'BICYCLE ADVANCING LEGALLY ON RED LIGHT', \n",
        "                                                'OBSTRUCTED CROSSWALKS', \n",
        "                                                'ANIMAL', \n",
        "                                                'ROAD CONSTRUCTION/MAINTENANCE', \n",
        "                                                'ROAD ENGINEERING/SURFACE/MARKING DEFECTS',\n",
        "                                                'EVASIVE ACTION DUE TO ANIMAL, OBJECT, NONMOTORIST',\n",
        "                                                'VISION OBSCURED (SIGNS, TREE LIMBS, BUILDINGS, ETC.)',\n",
        "                                                'VISION OBSCURED (SIGNS, TREE LIMBS, BUILDINGS, ETC.)',\n",
        "                                                'DISTRACTION - FROM OUTSIDE VEHICLE',\n",
        "                                                'WEATHER'\n",
        "                                         ], 'OBSTRUCTIONS', inplace=True)\n",
        "\n",
        "#Compromised Driving\n",
        "cln_crashes['PRIM_CONTRIBUTORY_CAUSE'].replace(['PHYSICAL CONDITION OF DRIVER',\n",
        "                                                'UNDER THE INFLUENCE OF ALCOHOL/DRUGS (USE WHEN ARREST IS EFFECTED)', \n",
        "                                                'DISTRACTION - FROM INSIDE VEHICLE', \n",
        "                                                'CELL PHONE USE OTHER THAN TEXTING', \n",
        "                                                'HAD BEEN DRINKING (USE WHEN ARREST IS NOT MADE)', \n",
        "                                                'DISTRACTION - OTHER ELECTRONIC DEVICE (NAVIGATION DEVICE, DVD PLAYER, ETC.)',\n",
        "                                                \n",
        "                                                'EQUIPMENT - VEHICLE CONDITION',\n",
        "                                                'TEXTING'\n",
        "                                         ], 'COMPROMISED DRIVING', inplace=True)\n",
        "\n",
        "\n"
      ],
      "id": "c94c9efc"
    },
    {
      "cell_type": "code",
      "execution_count": 97,
      "metadata": {
        "colab": {
          "base_uri": "https://localhost:8080/"
        },
        "id": "fece0244",
        "outputId": "626736cc-d82b-460c-de4d-9937ffeb560b",
        "scrolled": true
      },
      "outputs": [
        {
          "output_type": "execute_result",
          "data": {
            "text/plain": [
              "UNABLE TO DETERMINE          47841\n",
              "RECKLESS/IMPROPER DRIVING    45001\n",
              "TRAFFIC RULES VIOLATED       40219\n",
              "COMPROMISED DRIVING           9560\n",
              "OBSTRUCTIONS                  7339\n",
              "NOT APPLICABLE                6268\n",
              "Name: PRIM_CONTRIBUTORY_CAUSE, dtype: int64"
            ]
          },
          "metadata": {},
          "execution_count": 97
        }
      ],
      "source": [
        "#check new vaalue counts\n",
        "cln_crashes['PRIM_CONTRIBUTORY_CAUSE'].value_counts()"
      ],
      "id": "fece0244"
    },
    {
      "cell_type": "code",
      "execution_count": 98,
      "metadata": {
        "colab": {
          "base_uri": "https://localhost:8080/"
        },
        "id": "2f472924",
        "outputId": "15e91c05-b099-4ec7-bdfb-7da1699bdfa6"
      },
      "outputs": [
        {
          "output_type": "execute_result",
          "data": {
            "text/plain": [
              "UNABLE TO DETERMINE          30.6226%\n",
              "RECKLESS/IMPROPER DRIVING    28.8047%\n",
              "TRAFFIC RULES VIOLATED       25.7438%\n",
              "COMPROMISED DRIVING           6.1193%\n",
              "OBSTRUCTIONS                  4.6976%\n",
              "NOT APPLICABLE                4.0121%\n",
              "Name: PRIM_CONTRIBUTORY_CAUSE, dtype: object"
            ]
          },
          "metadata": {},
          "execution_count": 98
        }
      ],
      "source": [
        "#check new vaalue counts percentages\n",
        "cln_crashes['PRIM_CONTRIBUTORY_CAUSE'].value_counts(normalize=True).mul(100).round(4).astype(str) + '%'"
      ],
      "id": "2f472924"
    },
    {
      "cell_type": "markdown",
      "metadata": {
        "id": "c33fb111"
      },
      "source": [
        "Next is the second contributory cause. We can use the same binn categories as we did for the primary one but before we do that, we are going to see if there is a ssecondary contributory cause listed for records that were unable to determine or not applicable. The goal is to only have a singular cause column. Primaary cause will take precedence but where we don't have enough information, we can use the secondary one to fill the gaps."
      ],
      "id": "c33fb111"
    },
    {
      "cell_type": "code",
      "execution_count": 99,
      "metadata": {
        "colab": {
          "base_uri": "https://localhost:8080/"
        },
        "id": "217e2f0e",
        "outputId": "02161ea3-fc2a-463c-a197-7a191c91b675"
      },
      "outputs": [
        {
          "output_type": "execute_result",
          "data": {
            "text/plain": [
              "NOT APPLICABLE                                                                      61028\n",
              "UNABLE TO DETERMINE                                                                 50601\n",
              "FAILING TO REDUCE SPEED TO AVOID CRASH                                               8974\n",
              "FAILING TO YIELD RIGHT-OF-WAY                                                        6721\n",
              "DRIVING SKILLS/KNOWLEDGE/EXPERIENCE                                                  5338\n",
              "FOLLOWING TOO CLOSELY                                                                2960\n",
              "WEATHER                                                                              2708\n",
              "IMPROPER TURNING/NO SIGNAL                                                           1984\n",
              "IMPROPER LANE USAGE                                                                  1939\n",
              "OPERATING VEHICLE IN ERRATIC, RECKLESS, CARELESS, NEGLIGENT OR AGGRESSIVE MANNER     1665\n",
              "IMPROPER OVERTAKING/PASSING                                                          1542\n",
              "DISREGARDING TRAFFIC SIGNALS                                                         1459\n",
              "PHYSICAL CONDITION OF DRIVER                                                         1061\n",
              "VISION OBSCURED (SIGNS, TREE LIMBS, BUILDINGS, ETC.)                                  938\n",
              "DISREGARDING STOP SIGN                                                                877\n",
              "DISTRACTION - FROM INSIDE VEHICLE                                                     733\n",
              "UNDER THE INFLUENCE OF ALCOHOL/DRUGS (USE WHEN ARREST IS EFFECTED)                    716\n",
              "EQUIPMENT - VEHICLE CONDITION                                                         691\n",
              "DRIVING ON WRONG SIDE/WRONG WAY                                                       609\n",
              "EXCEEDING AUTHORIZED SPEED LIMIT                                                      490\n",
              "DISTRACTION - FROM OUTSIDE VEHICLE                                                    440\n",
              "EXCEEDING SAFE SPEED FOR CONDITIONS                                                   403\n",
              "DISREGARDING OTHER TRAFFIC SIGNS                                                      326\n",
              "IMPROPER BACKING                                                                      320\n",
              "HAD BEEN DRINKING (USE WHEN ARREST IS NOT MADE)                                       247\n",
              "DISREGARDING ROAD MARKINGS                                                            234\n",
              "ROAD CONSTRUCTION/MAINTENANCE                                                         193\n",
              "CELL PHONE USE OTHER THAN TEXTING                                                     185\n",
              "ROAD ENGINEERING/SURFACE/MARKING DEFECTS                                              173\n",
              "EVASIVE ACTION DUE TO ANIMAL, OBJECT, NONMOTORIST                                     137\n",
              "DISTRACTION - OTHER ELECTRONIC DEVICE (NAVIGATION DEVICE, DVD PLAYER, ETC.)            87\n",
              "TURNING RIGHT ON RED                                                                   84\n",
              "DISREGARDING YIELD SIGN                                                                78\n",
              "RELATED TO BUS STOP                                                                    76\n",
              "ANIMAL                                                                                 71\n",
              "BICYCLE ADVANCING LEGALLY ON RED LIGHT                                                 44\n",
              "TEXTING                                                                                36\n",
              "OBSTRUCTED CROSSWALKS                                                                  30\n",
              "PASSING STOPPED SCHOOL BUS                                                             18\n",
              "MOTORCYCLE ADVANCING LEGALLY ON RED LIGHT                                              12\n",
              "Name: SEC_CONTRIBUTORY_CAUSE, dtype: int64"
            ]
          },
          "metadata": {},
          "execution_count": 99
        }
      ],
      "source": [
        "#check value counts\n",
        "cln_crashes['SEC_CONTRIBUTORY_CAUSE'].value_counts()"
      ],
      "id": "217e2f0e"
    },
    {
      "cell_type": "code",
      "execution_count": 100,
      "metadata": {
        "id": "56e503a8"
      },
      "outputs": [],
      "source": [
        "#bin categories\n",
        "\n",
        "#traffic ruless violated\n",
        "cln_crashes['SEC_CONTRIBUTORY_CAUSE'].replace(['DISREGARDING TRAFFIC SIGNALS',\n",
        "                                                'DISREGARDING STOP SIGN', \n",
        "                                                'PASSING STOPPED SCHOOL BUS', \n",
        "                                                'RELATED TO BUS STOP', \n",
        "                                                'DISREGARDING YIELD SIGN', \n",
        "                                                'TURNING RIGHT ON RED',\n",
        "                                                'TURNING RIGHT ON RED',\n",
        "                                                'DISREGARDING OTHER TRAFFIC SIGNS',\n",
        "                                                'DRIVING ON WRONG SIDE/WRONG WAY',\n",
        "                                                'DISREGARDING ROAD MARKINGS',\n",
        "                                                'FAILING TO YIELD RIGHT-OF-WAY'\n",
        "                                         ], 'TRAFFIC RULES VIOLATED', inplace=True)\n",
        "\n",
        "#Reckless/Improper Driving\n",
        "cln_crashes['SEC_CONTRIBUTORY_CAUSE'].replace(['IMPROPER TURNING/NO SIGNAL',\n",
        "                                                'DRIVING SKILLS/KNOWLEDGE/EXPERIENCE', \n",
        "                                                'IMPROPER OVERTAKING/PASSING', \n",
        "                                                'IMPROPER LANE USAGE', \n",
        "                                                'OPERATING VEHICLE IN ERRATIC, RECKLESS, CARELESS, NEGLIGENT OR AGGRESSIVE MANNER', \n",
        "                                                'DRIVING ON WRONG SIDE/WRONG WAY',\n",
        "                                                'IMPROPER BACKING',\n",
        "                                                'EXCEEDING AUTHORIZED SPEED LIMIT',\n",
        "                                                'EXCEEDING SAFE SPEED FOR CONDITIONS',\n",
        "                                                'FAILING TO REDUCE SPEED TO AVOID CRASH',\n",
        "                                                'FOLLOWING TOO CLOSELY'\n",
        "                                         ], 'RECKLESS/IMPROPER DRIVING', inplace=True)\n",
        "\n",
        "\n",
        "#Obstructions\n",
        "cln_crashes['SEC_CONTRIBUTORY_CAUSE'].replace(['MOTORCYCLE ADVANCING LEGALLY ON RED LIGHT',\n",
        "                                                'BICYCLE ADVANCING LEGALLY ON RED LIGHT', \n",
        "                                                'OBSTRUCTED CROSSWALKS', \n",
        "                                                'ANIMAL', \n",
        "                                                'ROAD CONSTRUCTION/MAINTENANCE', \n",
        "                                                'ROAD ENGINEERING/SURFACE/MARKING DEFECTS',\n",
        "                                                'EVASIVE ACTION DUE TO ANIMAL, OBJECT, NONMOTORIST',\n",
        "                                                'VISION OBSCURED (SIGNS, TREE LIMBS, BUILDINGS, ETC.)',\n",
        "                                                'VISION OBSCURED (SIGNS, TREE LIMBS, BUILDINGS, ETC.)',\n",
        "                                                'DISTRACTION - FROM OUTSIDE VEHICLE',\n",
        "                                                'WEATHER'\n",
        "                                         ], 'OBSTRUCTIONS', inplace=True)\n",
        "\n",
        "#Compromised Driving\n",
        "cln_crashes['SEC_CONTRIBUTORY_CAUSE'].replace(['PHYSICAL CONDITION OF DRIVER',\n",
        "                                                'UNDER THE INFLUENCE OF ALCOHOL/DRUGS (USE WHEN ARREST IS EFFECTED)', \n",
        "                                                'DISTRACTION - FROM INSIDE VEHICLE', \n",
        "                                                'CELL PHONE USE OTHER THAN TEXTING', \n",
        "                                                'HAD BEEN DRINKING (USE WHEN ARREST IS NOT MADE)', \n",
        "                                                'DISTRACTION - OTHER ELECTRONIC DEVICE (NAVIGATION DEVICE, DVD PLAYER, ETC.)',\n",
        "                                                \n",
        "                                                'EQUIPMENT - VEHICLE CONDITION',\n",
        "                                                'TEXTING'\n",
        "                                         ], 'COMPROMISED DRIVING', inplace=True)\n",
        "\n",
        "\n"
      ],
      "id": "56e503a8"
    },
    {
      "cell_type": "code",
      "execution_count": 101,
      "metadata": {
        "colab": {
          "base_uri": "https://localhost:8080/"
        },
        "id": "ab7193ee",
        "outputId": "ec9562d0-aff6-4e76-8b45-0ff803d2d462",
        "scrolled": true
      },
      "outputs": [
        {
          "output_type": "execute_result",
          "data": {
            "text/plain": [
              "NOT APPLICABLE               61028\n",
              "UNABLE TO DETERMINE          50601\n",
              "RECKLESS/IMPROPER DRIVING    25615\n",
              "TRAFFIC RULES VIOLATED       10482\n",
              "OBSTRUCTIONS                  4746\n",
              "COMPROMISED DRIVING           3756\n",
              "Name: SEC_CONTRIBUTORY_CAUSE, dtype: int64"
            ]
          },
          "metadata": {},
          "execution_count": 101
        }
      ],
      "source": [
        "#check new vaalue counts\n",
        "cln_crashes['SEC_CONTRIBUTORY_CAUSE'].value_counts()"
      ],
      "id": "ab7193ee"
    },
    {
      "cell_type": "code",
      "execution_count": 102,
      "metadata": {
        "id": "f85b8ab1"
      },
      "outputs": [],
      "source": [
        "#bin categories\n",
        "\n",
        "#traffic ruless violated\n",
        "cln_crashes['PRIM_CONTRIBUTORY_CAUSE'].replace(['DISREGARDING TRAFFIC SIGNALS',\n",
        "                                                'DISREGARDING STOP SIGN', \n",
        "                                                'PASSING STOPPED SCHOOL BUS', \n",
        "                                                'RELATED TO BUS STOP', \n",
        "                                                'DISREGARDING YIELD SIGN', \n",
        "                                                'TURNING RIGHT ON RED',\n",
        "                                                'TURNING RIGHT ON RED',\n",
        "                                                'DISREGARDING OTHER TRAFFIC SIGNS',\n",
        "                                                'DRIVING ON WRONG SIDE/WRONG WAY',\n",
        "                                                'DISREGARDING ROAD MARKINGS',\n",
        "                                                'FAILING TO YIELD RIGHT-OF-WAY'\n",
        "                                         ], 'TRAFFIC RULES VIOLATED', inplace=True)\n",
        "\n",
        "#Reckless/Improper Driving\n",
        "cln_crashes['PRIM_CONTRIBUTORY_CAUSE'].replace(['IMPROPER TURNING/NO SIGNAL',\n",
        "                                                'DRIVING SKILLS/KNOWLEDGE/EXPERIENCE', \n",
        "                                                'IMPROPER OVERTAKING/PASSING', \n",
        "                                                'IMPROPER LANE USAGE', \n",
        "                                                'OPERATING VEHICLE IN ERRATIC, RECKLESS, CARELESS, NEGLIGENT OR AGGRESSIVE MANNER', \n",
        "                                                'DRIVING ON WRONG SIDE/WRONG WAY',\n",
        "                                                'IMPROPER BACKING',\n",
        "                                                'EXCEEDING AUTHORIZED SPEED LIMIT',\n",
        "                                                'EXCEEDING SAFE SPEED FOR CONDITIONS',\n",
        "                                                'FAILING TO REDUCE SPEED TO AVOID CRASH',\n",
        "                                                'FOLLOWING TOO CLOSELY'\n",
        "                                         ], 'RECKLESS/IMPROPER DRIVING', inplace=True)\n",
        "\n",
        "# #Overspeeding\n",
        "# cln_crashes['PRIM_CONTRIBUTORY_CAUSE'].replace(['EXCEEDING AUTHORIZED SPEED LIMIT',\n",
        "#                                                 'EXCEEDING SAFE SPEED FOR CONDITIONS'\n",
        "#                                          ], 'OVERSPEEDING', inplace=True)\n",
        "\n",
        "# #Overspeeding\n",
        "# cln_crashes['PRIM_CONTRIBUTORY_CAUSE'].replace(['WEATHER'\n",
        "#                                          ], \"NATURE'S IMPACT\", inplace=True)\n",
        "\n",
        "#Obstructions\n",
        "cln_crashes['PRIM_CONTRIBUTORY_CAUSE'].replace(['MOTORCYCLE ADVANCING LEGALLY ON RED LIGHT',\n",
        "                                                'BICYCLE ADVANCING LEGALLY ON RED LIGHT', \n",
        "                                                'OBSTRUCTED CROSSWALKS', \n",
        "                                                'ANIMAL', \n",
        "                                                'ROAD CONSTRUCTION/MAINTENANCE', \n",
        "                                                'ROAD ENGINEERING/SURFACE/MARKING DEFECTS',\n",
        "                                                'EVASIVE ACTION DUE TO ANIMAL, OBJECT, NONMOTORIST',\n",
        "                                                'VISION OBSCURED (SIGNS, TREE LIMBS, BUILDINGS, ETC.)',\n",
        "                                                'VISION OBSCURED (SIGNS, TREE LIMBS, BUILDINGS, ETC.)',\n",
        "                                                'DISTRACTION - FROM OUTSIDE VEHICLE',\n",
        "                                                'WEATHER'\n",
        "                                         ], 'OBSTRUCTIONS', inplace=True)\n",
        "\n",
        "#Compromised Driving\n",
        "cln_crashes['PRIM_CONTRIBUTORY_CAUSE'].replace(['PHYSICAL CONDITION OF DRIVER',\n",
        "                                                'UNDER THE INFLUENCE OF ALCOHOL/DRUGS (USE WHEN ARREST IS EFFECTED)', \n",
        "                                                'DISTRACTION - FROM INSIDE VEHICLE', \n",
        "                                                'CELL PHONE USE OTHER THAN TEXTING', \n",
        "                                                'HAD BEEN DRINKING (USE WHEN ARREST IS NOT MADE)', \n",
        "                                                'DISTRACTION - OTHER ELECTRONIC DEVICE (NAVIGATION DEVICE, DVD PLAYER, ETC.)',\n",
        "                                                \n",
        "                                                'EQUIPMENT - VEHICLE CONDITION',\n",
        "                                                'TEXTING'\n",
        "                                         ], 'COMPROMISED DRIVING', inplace=True)\n",
        "\n",
        "\n"
      ],
      "id": "f85b8ab1"
    },
    {
      "cell_type": "code",
      "execution_count": 103,
      "metadata": {
        "colab": {
          "base_uri": "https://localhost:8080/"
        },
        "id": "0469be77",
        "outputId": "7e2de8ed-4253-4e4e-d069-bdbc7405a5d0",
        "scrolled": true
      },
      "outputs": [
        {
          "output_type": "execute_result",
          "data": {
            "text/plain": [
              "UNABLE TO DETERMINE          47841\n",
              "RECKLESS/IMPROPER DRIVING    45001\n",
              "TRAFFIC RULES VIOLATED       40219\n",
              "COMPROMISED DRIVING           9560\n",
              "OBSTRUCTIONS                  7339\n",
              "NOT APPLICABLE                6268\n",
              "Name: PRIM_CONTRIBUTORY_CAUSE, dtype: int64"
            ]
          },
          "metadata": {},
          "execution_count": 103
        }
      ],
      "source": [
        "#check new vaalue counts\n",
        "cln_crashes['PRIM_CONTRIBUTORY_CAUSE'].value_counts()"
      ],
      "id": "0469be77"
    },
    {
      "cell_type": "markdown",
      "metadata": {
        "id": "4472e81f"
      },
      "source": [
        "Now we will check whether there are any records that have 'unable to determine' listed the in primary column but have a cause listed in the secondary column."
      ],
      "id": "4472e81f"
    },
    {
      "cell_type": "code",
      "execution_count": 104,
      "metadata": {
        "colab": {
          "base_uri": "https://localhost:8080/"
        },
        "id": "b568a0ee",
        "outputId": "67479f52-c08d-4527-9b6d-7acb363c4548"
      },
      "outputs": [
        {
          "output_type": "execute_result",
          "data": {
            "text/plain": [
              "UNABLE TO DETERMINE          27467\n",
              "NOT APPLICABLE               18248\n",
              "RECKLESS/IMPROPER DRIVING     1131\n",
              "TRAFFIC RULES VIOLATED         375\n",
              "OBSTRUCTIONS                   371\n",
              "COMPROMISED DRIVING            249\n",
              "Name: SEC_CONTRIBUTORY_CAUSE, dtype: int64"
            ]
          },
          "metadata": {},
          "execution_count": 104
        }
      ],
      "source": [
        "#check value counts for primary unable to determine cause\n",
        "cln_crashes[cln_crashes['PRIM_CONTRIBUTORY_CAUSE'] == 'UNABLE TO DETERMINE']['SEC_CONTRIBUTORY_CAUSE'].value_counts()"
      ],
      "id": "b568a0ee"
    },
    {
      "cell_type": "markdown",
      "metadata": {
        "id": "d0063d04"
      },
      "source": [
        "The majority of the records are also either 'Unable to Determine' or 'Not Applicable' but there are some records where we can leverage this data to fill up gaps in the primary column."
      ],
      "id": "d0063d04"
    },
    {
      "cell_type": "code",
      "execution_count": 105,
      "metadata": {
        "colab": {
          "base_uri": "https://localhost:8080/"
        },
        "id": "36aa4f07",
        "outputId": "a59e0e34-4eec-4092-a047-b97ec4956726"
      },
      "outputs": [
        {
          "output_type": "execute_result",
          "data": {
            "text/plain": [
              "NOT APPLICABLE               5753\n",
              "UNABLE TO DETERMINE           314\n",
              "RECKLESS/IMPROPER DRIVING      70\n",
              "OBSTRUCTIONS                   57\n",
              "TRAFFIC RULES VIOLATED         45\n",
              "COMPROMISED DRIVING            29\n",
              "Name: SEC_CONTRIBUTORY_CAUSE, dtype: int64"
            ]
          },
          "metadata": {},
          "execution_count": 105
        }
      ],
      "source": [
        "#check value counts for primary not applicable cause\n",
        "cln_crashes[cln_crashes['PRIM_CONTRIBUTORY_CAUSE'] == 'NOT APPLICABLE']['SEC_CONTRIBUTORY_CAUSE'].value_counts()"
      ],
      "id": "36aa4f07"
    },
    {
      "cell_type": "markdown",
      "metadata": {
        "id": "40c53a93"
      },
      "source": [
        "Similarly, the majority of the records are also either 'Unable to Determine' or 'Not Applicable' but there are some records where we can leverage this data to fill up gaps in the primary column."
      ],
      "id": "40c53a93"
    },
    {
      "cell_type": "markdown",
      "metadata": {
        "id": "4f9d0228"
      },
      "source": [
        "Now, lets fill in the gaps for primary causes"
      ],
      "id": "4f9d0228"
    },
    {
      "cell_type": "code",
      "execution_count": 106,
      "metadata": {
        "colab": {
          "base_uri": "https://localhost:8080/"
        },
        "id": "65809d45",
        "outputId": "ab2bb9ae-e787-48f8-d493-45b05c65b836"
      },
      "outputs": [
        {
          "output_type": "stream",
          "name": "stderr",
          "text": [
            "<ipython-input-106-a1cd0603bb70>:6: SettingWithCopyWarning: \n",
            "A value is trying to be set on a copy of a slice from a DataFrame\n",
            "\n",
            "See the caveats in the documentation: https://pandas.pydata.org/pandas-docs/stable/user_guide/indexing.html#returning-a-view-versus-a-copy\n",
            "  cln_crashes['PRIM_CONTRIBUTORY_CAUSE'][ind] = row['SEC_CONTRIBUTORY_CAUSE']\n"
          ]
        }
      ],
      "source": [
        "#identify the records from thee primary column and replace with secondary information\n",
        "for ind, row in cln_crashes[['PRIM_CONTRIBUTORY_CAUSE', 'SEC_CONTRIBUTORY_CAUSE']].iterrows():\n",
        "    if (row['PRIM_CONTRIBUTORY_CAUSE'] != row['SEC_CONTRIBUTORY_CAUSE']) & (\n",
        "        (row['PRIM_CONTRIBUTORY_CAUSE'] == 'UNABLE TO DETERMINE') | \n",
        "         (row['PRIM_CONTRIBUTORY_CAUSE'] == 'NOT APPLICABLE')):\n",
        "            cln_crashes['PRIM_CONTRIBUTORY_CAUSE'][ind] = row['SEC_CONTRIBUTORY_CAUSE']\n",
        "            "
      ],
      "id": "65809d45"
    },
    {
      "cell_type": "code",
      "execution_count": 107,
      "metadata": {
        "colab": {
          "base_uri": "https://localhost:8080/"
        },
        "id": "31d89b42",
        "outputId": "feb4ab56-4fe6-4137-903d-d705adfbcbc9"
      },
      "outputs": [
        {
          "output_type": "execute_result",
          "data": {
            "text/plain": [
              "RECKLESS/IMPROPER DRIVING    46202\n",
              "TRAFFIC RULES VIOLATED       40639\n",
              "UNABLE TO DETERMINE          27781\n",
              "NOT APPLICABLE               24001\n",
              "COMPROMISED DRIVING           9838\n",
              "OBSTRUCTIONS                  7767\n",
              "Name: PRIM_CONTRIBUTORY_CAUSE, dtype: int64"
            ]
          },
          "metadata": {},
          "execution_count": 107
        }
      ],
      "source": [
        "cln_crashes['PRIM_CONTRIBUTORY_CAUSE'].value_counts()"
      ],
      "id": "31d89b42"
    },
    {
      "cell_type": "markdown",
      "metadata": {
        "id": "7ecced37"
      },
      "source": [
        "We can set aside the Unable to determine category and predict it with our final model to get an understanding of what it could have been.\n",
        "\n",
        "For the Not Applicable Category, there is no explanation as to what this means. Rather than using data that we don't understand, it would be better to drop it."
      ],
      "id": "7ecced37"
    },
    {
      "cell_type": "code",
      "execution_count": 108,
      "metadata": {
        "id": "7b802a75"
      },
      "outputs": [],
      "source": [
        "#filter out not applicaable category\n",
        "cln_crashes = cln_crashes[cln_crashes['PRIM_CONTRIBUTORY_CAUSE'] != 'NOT APPLICABLE']"
      ],
      "id": "7b802a75"
    },
    {
      "cell_type": "code",
      "execution_count": 109,
      "metadata": {
        "colab": {
          "base_uri": "https://localhost:8080/"
        },
        "id": "837c1c20",
        "outputId": "d6d62b64-dd63-4569-a2ea-9aba956f64b7"
      },
      "outputs": [
        {
          "output_type": "execute_result",
          "data": {
            "text/plain": [
              "RECKLESS/IMPROPER DRIVING    46202\n",
              "TRAFFIC RULES VIOLATED       40639\n",
              "UNABLE TO DETERMINE          27781\n",
              "COMPROMISED DRIVING           9838\n",
              "OBSTRUCTIONS                  7767\n",
              "Name: PRIM_CONTRIBUTORY_CAUSE, dtype: int64"
            ]
          },
          "metadata": {},
          "execution_count": 109
        }
      ],
      "source": [
        "#check new vaalue counts\n",
        "cln_crashes['PRIM_CONTRIBUTORY_CAUSE'].value_counts()"
      ],
      "id": "837c1c20"
    },
    {
      "cell_type": "markdown",
      "metadata": {
        "id": "6df88cb3"
      },
      "source": [
        "With only unable to determine left, the secondary column can be dropped"
      ],
      "id": "6df88cb3"
    },
    {
      "cell_type": "code",
      "execution_count": 110,
      "metadata": {
        "id": "af46f5a3"
      },
      "outputs": [],
      "source": [
        "#drop column\n",
        "cln_crashes.drop(columns=['SEC_CONTRIBUTORY_CAUSE'],axis=1, inplace=True)"
      ],
      "id": "af46f5a3"
    },
    {
      "cell_type": "code",
      "execution_count": 111,
      "metadata": {
        "colab": {
          "base_uri": "https://localhost:8080/"
        },
        "id": "a089e4fa",
        "outputId": "12d954b2-3bd8-43c6-ad91-3104a874ab83"
      },
      "outputs": [
        {
          "output_type": "stream",
          "name": "stdout",
          "text": [
            "<class 'pandas.core.frame.DataFrame'>\n",
            "Int64Index: 132227 entries, 0 to 692777\n",
            "Data columns (total 20 columns):\n",
            " #   Column                   Non-Null Count   Dtype  \n",
            "---  ------                   --------------   -----  \n",
            " 0   CRASH_RECORD_ID          132227 non-null  object \n",
            " 1   CRASH_YEAR               132227 non-null  int64  \n",
            " 2   POSTED_SPEED_LIMIT       132227 non-null  int64  \n",
            " 3   DEVICE_CONDITION         132227 non-null  object \n",
            " 4   WEATHER_CONDITION        132227 non-null  object \n",
            " 5   LIGHTING_CONDITION       132227 non-null  object \n",
            " 6   CRASH_TYPE               132227 non-null  object \n",
            " 7   INTERSECTION_RELATED_I   132227 non-null  object \n",
            " 8   ROAD_DEFECT              132227 non-null  object \n",
            " 9   PRIM_CONTRIBUTORY_CAUSE  132227 non-null  object \n",
            " 10  NUM_UNITS                132227 non-null  int64  \n",
            " 11  WORK_ZONE_I              132227 non-null  object \n",
            " 12  WORKERS_PRESENT_I        132227 non-null  object \n",
            " 13  INJURIES_TOTAL           132227 non-null  float64\n",
            " 14  INJURIES_FATAL           132227 non-null  float64\n",
            " 15  CRASH_HOUR               132227 non-null  int64  \n",
            " 16  CRASH_DAY_OF_WEEK        132227 non-null  int64  \n",
            " 17  CRASH_MONTH              132227 non-null  int64  \n",
            " 18  LATITUDE                 132227 non-null  float64\n",
            " 19  LONGITUDE                132227 non-null  float64\n",
            "dtypes: float64(4), int64(6), object(10)\n",
            "memory usage: 21.2+ MB\n"
          ]
        }
      ],
      "source": [
        "#check dataframe summaary after all changes\n",
        "cln_crashes.info()"
      ],
      "id": "a089e4fa"
    },
    {
      "cell_type": "markdown",
      "metadata": {
        "id": "fb0843d1"
      },
      "source": [
        "That sums up the cleaning for this dataset. Lets taake a look at the next one."
      ],
      "id": "fb0843d1"
    },
    {
      "cell_type": "markdown",
      "metadata": {
        "id": "42306e1c"
      },
      "source": [
        "### Crashes-Vehicle"
      ],
      "id": "42306e1c"
    },
    {
      "cell_type": "markdown",
      "metadata": {
        "id": "e7c5f7b6"
      },
      "source": [
        "We will start by extracting the columns identified in the Data Understanding portion and then addressing the data."
      ],
      "id": "e7c5f7b6"
    },
    {
      "cell_type": "code",
      "execution_count": 112,
      "metadata": {
        "id": "34137e52"
      },
      "outputs": [],
      "source": [
        "#extract columns\n",
        "cln_veh = vehicles_df[['CRASH_RECORD_ID',\n",
        "                        'VEHICLE_DEFECT',\n",
        "                        'VEHICLE_TYPE',\n",
        "                        'VEHICLE_USE',\n",
        "                        'MANEUVER',\n",
        "                        'OCCUPANT_CNT',\n",
        "                        'FIRST_CONTACT_POINT',\n",
        "                        'VEHICLE_CONFIG']].copy()"
      ],
      "id": "34137e52"
    },
    {
      "cell_type": "code",
      "execution_count": 113,
      "metadata": {
        "colab": {
          "base_uri": "https://localhost:8080/"
        },
        "id": "4c2ac6e1",
        "outputId": "c352103b-40e6-41c5-862a-b1703044d322"
      },
      "outputs": [
        {
          "output_type": "stream",
          "name": "stdout",
          "text": [
            "<class 'pandas.core.frame.DataFrame'>\n",
            "RangeIndex: 1416095 entries, 0 to 1416094\n",
            "Data columns (total 8 columns):\n",
            " #   Column               Non-Null Count    Dtype  \n",
            "---  ------               --------------    -----  \n",
            " 0   CRASH_RECORD_ID      1416095 non-null  object \n",
            " 1   VEHICLE_DEFECT       1384025 non-null  object \n",
            " 2   VEHICLE_TYPE         1384025 non-null  object \n",
            " 3   VEHICLE_USE          1384025 non-null  object \n",
            " 4   MANEUVER             1384025 non-null  object \n",
            " 5   OCCUPANT_CNT         1384025 non-null  float64\n",
            " 6   FIRST_CONTACT_POINT  1371395 non-null  object \n",
            " 7   VEHICLE_CONFIG       12287 non-null    object \n",
            "dtypes: float64(1), object(7)\n",
            "memory usage: 86.4+ MB\n"
          ]
        }
      ],
      "source": [
        "#check summary\n",
        "cln_veh.info()"
      ],
      "id": "4c2ac6e1"
    },
    {
      "cell_type": "markdown",
      "metadata": {
        "id": "9c45561f"
      },
      "source": [
        "There are alot of columns with missing values. Interestingly, there are certain records that have craash record IDs but don't have information for any other columns. Lets see how many these are."
      ],
      "id": "9c45561f"
    },
    {
      "cell_type": "code",
      "execution_count": 114,
      "metadata": {
        "colab": {
          "base_uri": "https://localhost:8080/",
          "height": 488
        },
        "id": "cee75430",
        "outputId": "08dd7920-2479-4571-921b-200dfa92c19b"
      },
      "outputs": [
        {
          "output_type": "execute_result",
          "data": {
            "text/plain": [
              "                                           CRASH_RECORD_ID VEHICLE_DEFECT  \\\n",
              "11       55a20437d79a3176ac805c65b13940186970246ab14ce5...            NaN   \n",
              "26       af61b8eabb1b375bd1f6ff97f6ecce3e0f3592d4930381...            NaN   \n",
              "40       034f42deaec11021e28cda25717373e36351025652ccf1...            NaN   \n",
              "62       f84c48d4194761d1bb3808061f35ebf796508fb209deb5...            NaN   \n",
              "89       7218ea2ed9cf304383636ee5194c83019beb6a7a1ec311...            NaN   \n",
              "...                                                    ...            ...   \n",
              "1415712  fe8e3bf92de539ddffb7f696dac444289517b3a1a2c1a6...            NaN   \n",
              "1415723  7924f00c55a8ac8a56064c60cd1b9a0ff63a2c27c4bc16...            NaN   \n",
              "1415750  d082175fc7fb3397a3fbb2469355ed527ed9ade4d5f2af...            NaN   \n",
              "1415921  3bcc07fc108ea9b0d417243d6be6818b2d319dba8b5bd9...            NaN   \n",
              "1416020  3793de677675a7e9ac41b0a3b85396417d00f9637ae08a...            NaN   \n",
              "\n",
              "        VEHICLE_TYPE VEHICLE_USE MANEUVER  OCCUPANT_CNT FIRST_CONTACT_POINT  \\\n",
              "11               NaN         NaN      NaN           NaN                 NaN   \n",
              "26               NaN         NaN      NaN           NaN                 NaN   \n",
              "40               NaN         NaN      NaN           NaN                 NaN   \n",
              "62               NaN         NaN      NaN           NaN                 NaN   \n",
              "89               NaN         NaN      NaN           NaN                 NaN   \n",
              "...              ...         ...      ...           ...                 ...   \n",
              "1415712          NaN         NaN      NaN           NaN                 NaN   \n",
              "1415723          NaN         NaN      NaN           NaN                 NaN   \n",
              "1415750          NaN         NaN      NaN           NaN                 NaN   \n",
              "1415921          NaN         NaN      NaN           NaN                 NaN   \n",
              "1416020          NaN         NaN      NaN           NaN                 NaN   \n",
              "\n",
              "        VEHICLE_CONFIG  \n",
              "11                 NaN  \n",
              "26                 NaN  \n",
              "40                 NaN  \n",
              "62                 NaN  \n",
              "89                 NaN  \n",
              "...                ...  \n",
              "1415712            NaN  \n",
              "1415723            NaN  \n",
              "1415750            NaN  \n",
              "1415921            NaN  \n",
              "1416020            NaN  \n",
              "\n",
              "[32070 rows x 8 columns]"
            ],
            "text/html": [
              "\n",
              "  <div id=\"df-d47a3457-fa31-43bf-95c2-07102d52e46d\">\n",
              "    <div class=\"colab-df-container\">\n",
              "      <div>\n",
              "<style scoped>\n",
              "    .dataframe tbody tr th:only-of-type {\n",
              "        vertical-align: middle;\n",
              "    }\n",
              "\n",
              "    .dataframe tbody tr th {\n",
              "        vertical-align: top;\n",
              "    }\n",
              "\n",
              "    .dataframe thead th {\n",
              "        text-align: right;\n",
              "    }\n",
              "</style>\n",
              "<table border=\"1\" class=\"dataframe\">\n",
              "  <thead>\n",
              "    <tr style=\"text-align: right;\">\n",
              "      <th></th>\n",
              "      <th>CRASH_RECORD_ID</th>\n",
              "      <th>VEHICLE_DEFECT</th>\n",
              "      <th>VEHICLE_TYPE</th>\n",
              "      <th>VEHICLE_USE</th>\n",
              "      <th>MANEUVER</th>\n",
              "      <th>OCCUPANT_CNT</th>\n",
              "      <th>FIRST_CONTACT_POINT</th>\n",
              "      <th>VEHICLE_CONFIG</th>\n",
              "    </tr>\n",
              "  </thead>\n",
              "  <tbody>\n",
              "    <tr>\n",
              "      <th>11</th>\n",
              "      <td>55a20437d79a3176ac805c65b13940186970246ab14ce5...</td>\n",
              "      <td>NaN</td>\n",
              "      <td>NaN</td>\n",
              "      <td>NaN</td>\n",
              "      <td>NaN</td>\n",
              "      <td>NaN</td>\n",
              "      <td>NaN</td>\n",
              "      <td>NaN</td>\n",
              "    </tr>\n",
              "    <tr>\n",
              "      <th>26</th>\n",
              "      <td>af61b8eabb1b375bd1f6ff97f6ecce3e0f3592d4930381...</td>\n",
              "      <td>NaN</td>\n",
              "      <td>NaN</td>\n",
              "      <td>NaN</td>\n",
              "      <td>NaN</td>\n",
              "      <td>NaN</td>\n",
              "      <td>NaN</td>\n",
              "      <td>NaN</td>\n",
              "    </tr>\n",
              "    <tr>\n",
              "      <th>40</th>\n",
              "      <td>034f42deaec11021e28cda25717373e36351025652ccf1...</td>\n",
              "      <td>NaN</td>\n",
              "      <td>NaN</td>\n",
              "      <td>NaN</td>\n",
              "      <td>NaN</td>\n",
              "      <td>NaN</td>\n",
              "      <td>NaN</td>\n",
              "      <td>NaN</td>\n",
              "    </tr>\n",
              "    <tr>\n",
              "      <th>62</th>\n",
              "      <td>f84c48d4194761d1bb3808061f35ebf796508fb209deb5...</td>\n",
              "      <td>NaN</td>\n",
              "      <td>NaN</td>\n",
              "      <td>NaN</td>\n",
              "      <td>NaN</td>\n",
              "      <td>NaN</td>\n",
              "      <td>NaN</td>\n",
              "      <td>NaN</td>\n",
              "    </tr>\n",
              "    <tr>\n",
              "      <th>89</th>\n",
              "      <td>7218ea2ed9cf304383636ee5194c83019beb6a7a1ec311...</td>\n",
              "      <td>NaN</td>\n",
              "      <td>NaN</td>\n",
              "      <td>NaN</td>\n",
              "      <td>NaN</td>\n",
              "      <td>NaN</td>\n",
              "      <td>NaN</td>\n",
              "      <td>NaN</td>\n",
              "    </tr>\n",
              "    <tr>\n",
              "      <th>...</th>\n",
              "      <td>...</td>\n",
              "      <td>...</td>\n",
              "      <td>...</td>\n",
              "      <td>...</td>\n",
              "      <td>...</td>\n",
              "      <td>...</td>\n",
              "      <td>...</td>\n",
              "      <td>...</td>\n",
              "    </tr>\n",
              "    <tr>\n",
              "      <th>1415712</th>\n",
              "      <td>fe8e3bf92de539ddffb7f696dac444289517b3a1a2c1a6...</td>\n",
              "      <td>NaN</td>\n",
              "      <td>NaN</td>\n",
              "      <td>NaN</td>\n",
              "      <td>NaN</td>\n",
              "      <td>NaN</td>\n",
              "      <td>NaN</td>\n",
              "      <td>NaN</td>\n",
              "    </tr>\n",
              "    <tr>\n",
              "      <th>1415723</th>\n",
              "      <td>7924f00c55a8ac8a56064c60cd1b9a0ff63a2c27c4bc16...</td>\n",
              "      <td>NaN</td>\n",
              "      <td>NaN</td>\n",
              "      <td>NaN</td>\n",
              "      <td>NaN</td>\n",
              "      <td>NaN</td>\n",
              "      <td>NaN</td>\n",
              "      <td>NaN</td>\n",
              "    </tr>\n",
              "    <tr>\n",
              "      <th>1415750</th>\n",
              "      <td>d082175fc7fb3397a3fbb2469355ed527ed9ade4d5f2af...</td>\n",
              "      <td>NaN</td>\n",
              "      <td>NaN</td>\n",
              "      <td>NaN</td>\n",
              "      <td>NaN</td>\n",
              "      <td>NaN</td>\n",
              "      <td>NaN</td>\n",
              "      <td>NaN</td>\n",
              "    </tr>\n",
              "    <tr>\n",
              "      <th>1415921</th>\n",
              "      <td>3bcc07fc108ea9b0d417243d6be6818b2d319dba8b5bd9...</td>\n",
              "      <td>NaN</td>\n",
              "      <td>NaN</td>\n",
              "      <td>NaN</td>\n",
              "      <td>NaN</td>\n",
              "      <td>NaN</td>\n",
              "      <td>NaN</td>\n",
              "      <td>NaN</td>\n",
              "    </tr>\n",
              "    <tr>\n",
              "      <th>1416020</th>\n",
              "      <td>3793de677675a7e9ac41b0a3b85396417d00f9637ae08a...</td>\n",
              "      <td>NaN</td>\n",
              "      <td>NaN</td>\n",
              "      <td>NaN</td>\n",
              "      <td>NaN</td>\n",
              "      <td>NaN</td>\n",
              "      <td>NaN</td>\n",
              "      <td>NaN</td>\n",
              "    </tr>\n",
              "  </tbody>\n",
              "</table>\n",
              "<p>32070 rows × 8 columns</p>\n",
              "</div>\n",
              "      <button class=\"colab-df-convert\" onclick=\"convertToInteractive('df-d47a3457-fa31-43bf-95c2-07102d52e46d')\"\n",
              "              title=\"Convert this dataframe to an interactive table.\"\n",
              "              style=\"display:none;\">\n",
              "        \n",
              "  <svg xmlns=\"http://www.w3.org/2000/svg\" height=\"24px\"viewBox=\"0 0 24 24\"\n",
              "       width=\"24px\">\n",
              "    <path d=\"M0 0h24v24H0V0z\" fill=\"none\"/>\n",
              "    <path d=\"M18.56 5.44l.94 2.06.94-2.06 2.06-.94-2.06-.94-.94-2.06-.94 2.06-2.06.94zm-11 1L8.5 8.5l.94-2.06 2.06-.94-2.06-.94L8.5 2.5l-.94 2.06-2.06.94zm10 10l.94 2.06.94-2.06 2.06-.94-2.06-.94-.94-2.06-.94 2.06-2.06.94z\"/><path d=\"M17.41 7.96l-1.37-1.37c-.4-.4-.92-.59-1.43-.59-.52 0-1.04.2-1.43.59L10.3 9.45l-7.72 7.72c-.78.78-.78 2.05 0 2.83L4 21.41c.39.39.9.59 1.41.59.51 0 1.02-.2 1.41-.59l7.78-7.78 2.81-2.81c.8-.78.8-2.07 0-2.86zM5.41 20L4 18.59l7.72-7.72 1.47 1.35L5.41 20z\"/>\n",
              "  </svg>\n",
              "      </button>\n",
              "      \n",
              "  <style>\n",
              "    .colab-df-container {\n",
              "      display:flex;\n",
              "      flex-wrap:wrap;\n",
              "      gap: 12px;\n",
              "    }\n",
              "\n",
              "    .colab-df-convert {\n",
              "      background-color: #E8F0FE;\n",
              "      border: none;\n",
              "      border-radius: 50%;\n",
              "      cursor: pointer;\n",
              "      display: none;\n",
              "      fill: #1967D2;\n",
              "      height: 32px;\n",
              "      padding: 0 0 0 0;\n",
              "      width: 32px;\n",
              "    }\n",
              "\n",
              "    .colab-df-convert:hover {\n",
              "      background-color: #E2EBFA;\n",
              "      box-shadow: 0px 1px 2px rgba(60, 64, 67, 0.3), 0px 1px 3px 1px rgba(60, 64, 67, 0.15);\n",
              "      fill: #174EA6;\n",
              "    }\n",
              "\n",
              "    [theme=dark] .colab-df-convert {\n",
              "      background-color: #3B4455;\n",
              "      fill: #D2E3FC;\n",
              "    }\n",
              "\n",
              "    [theme=dark] .colab-df-convert:hover {\n",
              "      background-color: #434B5C;\n",
              "      box-shadow: 0px 1px 3px 1px rgba(0, 0, 0, 0.15);\n",
              "      filter: drop-shadow(0px 1px 2px rgba(0, 0, 0, 0.3));\n",
              "      fill: #FFFFFF;\n",
              "    }\n",
              "  </style>\n",
              "\n",
              "      <script>\n",
              "        const buttonEl =\n",
              "          document.querySelector('#df-d47a3457-fa31-43bf-95c2-07102d52e46d button.colab-df-convert');\n",
              "        buttonEl.style.display =\n",
              "          google.colab.kernel.accessAllowed ? 'block' : 'none';\n",
              "\n",
              "        async function convertToInteractive(key) {\n",
              "          const element = document.querySelector('#df-d47a3457-fa31-43bf-95c2-07102d52e46d');\n",
              "          const dataTable =\n",
              "            await google.colab.kernel.invokeFunction('convertToInteractive',\n",
              "                                                     [key], {});\n",
              "          if (!dataTable) return;\n",
              "\n",
              "          const docLinkHtml = 'Like what you see? Visit the ' +\n",
              "            '<a target=\"_blank\" href=https://colab.research.google.com/notebooks/data_table.ipynb>data table notebook</a>'\n",
              "            + ' to learn more about interactive tables.';\n",
              "          element.innerHTML = '';\n",
              "          dataTable['output_type'] = 'display_data';\n",
              "          await google.colab.output.renderOutput(dataTable, element);\n",
              "          const docLink = document.createElement('div');\n",
              "          docLink.innerHTML = docLinkHtml;\n",
              "          element.appendChild(docLink);\n",
              "        }\n",
              "      </script>\n",
              "    </div>\n",
              "  </div>\n",
              "  "
            ]
          },
          "metadata": {},
          "execution_count": 114
        }
      ],
      "source": [
        "cln_veh[cln_veh['VEHICLE_TYPE'].isnull()]#check vehicle type records wiith null values"
      ],
      "id": "cee75430"
    },
    {
      "cell_type": "markdown",
      "metadata": {
        "id": "6abb9746"
      },
      "source": [
        "These are ~2% of the records. We can drop these off knowing that they don;t have any valuable information and won't impact our analysis."
      ],
      "id": "6abb9746"
    },
    {
      "cell_type": "code",
      "execution_count": 115,
      "metadata": {
        "id": "c9215eea"
      },
      "outputs": [],
      "source": [
        "#drop null records using subset Vehicle type\n",
        "cln_veh = cln_veh.dropna(subset=['VEHICLE_TYPE'])"
      ],
      "id": "c9215eea"
    },
    {
      "cell_type": "code",
      "execution_count": 116,
      "metadata": {
        "colab": {
          "base_uri": "https://localhost:8080/"
        },
        "id": "18d726db",
        "outputId": "295fdd9e-4f57-4534-86ce-de896ca409a6"
      },
      "outputs": [
        {
          "output_type": "stream",
          "name": "stdout",
          "text": [
            "<class 'pandas.core.frame.DataFrame'>\n",
            "Int64Index: 1384025 entries, 0 to 1416094\n",
            "Data columns (total 8 columns):\n",
            " #   Column               Non-Null Count    Dtype  \n",
            "---  ------               --------------    -----  \n",
            " 0   CRASH_RECORD_ID      1384025 non-null  object \n",
            " 1   VEHICLE_DEFECT       1384025 non-null  object \n",
            " 2   VEHICLE_TYPE         1384025 non-null  object \n",
            " 3   VEHICLE_USE          1384025 non-null  object \n",
            " 4   MANEUVER             1384025 non-null  object \n",
            " 5   OCCUPANT_CNT         1384025 non-null  float64\n",
            " 6   FIRST_CONTACT_POINT  1371395 non-null  object \n",
            " 7   VEHICLE_CONFIG       12287 non-null    object \n",
            "dtypes: float64(1), object(7)\n",
            "memory usage: 95.0+ MB\n"
          ]
        }
      ],
      "source": [
        "#check summary\n",
        "cln_veh.info()"
      ],
      "id": "18d726db"
    },
    {
      "cell_type": "markdown",
      "metadata": {
        "id": "32ebeeba"
      },
      "source": [
        "Lets bin the Vehicle Defect Column categories into less granular detail. We are interested in understanding whether a vehicle defect can play a part in crashes or not. Accordingly, If it later on shows to lay a significant part, insights can be generated as to how can the number of vehile defects be reduced."
      ],
      "id": "32ebeeba"
    },
    {
      "cell_type": "code",
      "execution_count": 117,
      "metadata": {
        "colab": {
          "base_uri": "https://localhost:8080/"
        },
        "id": "05d85d25",
        "outputId": "6254a0e3-9ae6-447e-f40d-970418949e35"
      },
      "outputs": [
        {
          "output_type": "execute_result",
          "data": {
            "text/plain": [
              "NONE                768370\n",
              "UNKNOWN             601707\n",
              "OTHER                 6782\n",
              "BRAKES                4566\n",
              "TIRES                  700\n",
              "STEERING               650\n",
              "WHEELS                 365\n",
              "SUSPENSION             241\n",
              "ENGINE/MOTOR           183\n",
              "FUEL SYSTEM            150\n",
              "LIGHTS                  86\n",
              "WINDOWS                 82\n",
              "CARGO                   47\n",
              "SIGNALS                 38\n",
              "RESTRAINT SYSTEM        21\n",
              "TRAILER COUPLING        19\n",
              "EXHAUST                 18\n",
              "Name: VEHICLE_DEFECT, dtype: int64"
            ]
          },
          "metadata": {},
          "execution_count": 117
        }
      ],
      "source": [
        "#check vlaue counts\n",
        "cln_veh['VEHICLE_DEFECT'].value_counts()"
      ],
      "id": "05d85d25"
    },
    {
      "cell_type": "markdown",
      "metadata": {
        "id": "742fb4f8"
      },
      "source": [
        "We can leave the unkown category as is for now and then later on deduce how mnay we have left after joining the datasets. If there are still many, we can tackle it aaccordingly.\n",
        "\n",
        "We will create aa new column identifying whether there is  a defect or not. The Unknown categories will show up with a 'U'"
      ],
      "id": "742fb4f8"
    },
    {
      "cell_type": "code",
      "execution_count": 118,
      "metadata": {
        "id": "386ab1ab"
      },
      "outputs": [],
      "source": [
        "#create the lambda function\n",
        "z = lambda x: 'U' if (x == 'UNKNOWN') else 'Y' if (x != 'NONE') else 'N'"
      ],
      "id": "386ab1ab"
    },
    {
      "cell_type": "code",
      "execution_count": 119,
      "metadata": {
        "id": "21b5ac56"
      },
      "outputs": [],
      "source": [
        "#map the lambda function to creaate the new column\n",
        "cln_veh['VEHICLE_DEFECT_I'] = cln_veh['VEHICLE_DEFECT'].map(z)"
      ],
      "id": "21b5ac56"
    },
    {
      "cell_type": "code",
      "execution_count": 120,
      "metadata": {
        "colab": {
          "base_uri": "https://localhost:8080/"
        },
        "id": "57345468",
        "outputId": "acb86c27-51c4-4e36-b6b3-58a04134dd8f"
      },
      "outputs": [
        {
          "output_type": "execute_result",
          "data": {
            "text/plain": [
              "N    768370\n",
              "U    601707\n",
              "Y     13948\n",
              "Name: VEHICLE_DEFECT_I, dtype: int64"
            ]
          },
          "metadata": {},
          "execution_count": 120
        }
      ],
      "source": [
        "#check vlaue counts\n",
        "cln_veh['VEHICLE_DEFECT_I'].value_counts()"
      ],
      "id": "57345468"
    },
    {
      "cell_type": "code",
      "execution_count": 121,
      "metadata": {
        "id": "d6619d7f"
      },
      "outputs": [],
      "source": [
        "#drop Vehicle defect column\n",
        "cln_veh = cln_veh.drop(['VEHICLE_DEFECT'],axis=1)"
      ],
      "id": "d6619d7f"
    },
    {
      "cell_type": "code",
      "execution_count": 122,
      "metadata": {
        "colab": {
          "base_uri": "https://localhost:8080/"
        },
        "id": "98e49176",
        "outputId": "c75a3bc8-647f-4056-8d3b-2b0fc244ef27"
      },
      "outputs": [
        {
          "output_type": "stream",
          "name": "stdout",
          "text": [
            "<class 'pandas.core.frame.DataFrame'>\n",
            "Int64Index: 1384025 entries, 0 to 1416094\n",
            "Data columns (total 8 columns):\n",
            " #   Column               Non-Null Count    Dtype  \n",
            "---  ------               --------------    -----  \n",
            " 0   CRASH_RECORD_ID      1384025 non-null  object \n",
            " 1   VEHICLE_TYPE         1384025 non-null  object \n",
            " 2   VEHICLE_USE          1384025 non-null  object \n",
            " 3   MANEUVER             1384025 non-null  object \n",
            " 4   OCCUPANT_CNT         1384025 non-null  float64\n",
            " 5   FIRST_CONTACT_POINT  1371395 non-null  object \n",
            " 6   VEHICLE_CONFIG       12287 non-null    object \n",
            " 7   VEHICLE_DEFECT_I     1384025 non-null  object \n",
            "dtypes: float64(1), object(7)\n",
            "memory usage: 95.0+ MB\n"
          ]
        }
      ],
      "source": [
        "#check summary\n",
        "cln_veh.info()"
      ],
      "id": "98e49176"
    },
    {
      "cell_type": "markdown",
      "metadata": {
        "id": "004ed411"
      },
      "source": [
        "Lets peform binning on the Vehicle Type column also to make the data more manageable."
      ],
      "id": "004ed411"
    },
    {
      "cell_type": "code",
      "execution_count": 123,
      "metadata": {
        "colab": {
          "base_uri": "https://localhost:8080/"
        },
        "id": "05bb45e5",
        "outputId": "74e30eaf-82d3-4f3e-fa04-ead3b340aa41"
      },
      "outputs": [
        {
          "output_type": "execute_result",
          "data": {
            "text/plain": [
              "PASSENGER                                 870964\n",
              "SPORT UTILITY VEHICLE (SUV)               186498\n",
              "UNKNOWN/NA                                131562\n",
              "VAN/MINI-VAN                               67371\n",
              "PICKUP                                     43239\n",
              "TRUCK - SINGLE UNIT                        26270\n",
              "OTHER                                      16301\n",
              "BUS OVER 15 PASS.                          14529\n",
              "TRACTOR W/ SEMI-TRAILER                    13251\n",
              "BUS UP TO 15 PASS.                          3487\n",
              "MOTORCYCLE (OVER 150CC)                     3217\n",
              "SINGLE UNIT TRUCK WITH TRAILER              2131\n",
              "OTHER VEHICLE WITH TRAILER                  1774\n",
              "TRACTOR W/O SEMI-TRAILER                    1766\n",
              "AUTOCYCLE                                    648\n",
              "MOPED OR MOTORIZED BICYCLE                   382\n",
              "MOTOR DRIVEN CYCLE                           326\n",
              "ALL-TERRAIN VEHICLE (ATV)                    160\n",
              "FARM EQUIPMENT                                72\n",
              "3-WHEELED MOTORCYCLE (2 REAR WHEELS)          49\n",
              "RECREATIONAL OFF-HIGHWAY VEHICLE (ROV)        20\n",
              "SNOWMOBILE                                     8\n",
              "Name: VEHICLE_TYPE, dtype: int64"
            ]
          },
          "metadata": {},
          "execution_count": 123
        }
      ],
      "source": [
        "#check value counts\n",
        "cln_veh['VEHICLE_TYPE'].value_counts()"
      ],
      "id": "05bb45e5"
    },
    {
      "cell_type": "markdown",
      "metadata": {
        "id": "694e41c7"
      },
      "source": [
        "Through domain knowledge we can bin these categories together in the following manner:\n",
        "\n",
        "1. Regulaar Personal Use: These are vehicles that usually have everyday passengers using them for commutin or traveling like Passenger vehicles, SUVs, Pick-up, Van/Mini-Van\n",
        "\n",
        "2. Public Transit: These arae vehicles that are be a part of mass transit systems such as Buses\n",
        "\n",
        "3. Commercial: These are trator/trailers \n",
        "\n",
        "4. Motorcycles/cycle: These are self-explanotory\n",
        "\n",
        "5. Vocational/Recreational: Such as Faarm Equipment, snowmobile, etc"
      ],
      "id": "694e41c7"
    },
    {
      "cell_type": "code",
      "execution_count": 124,
      "metadata": {
        "id": "f6d90917"
      },
      "outputs": [],
      "source": [
        "#bin categories\n",
        "\n",
        "#Regular Personal\n",
        "cln_veh['VEHICLE_TYPE'].replace(['PASSENGER',\n",
        "                                'SPORT UTILITY VEHICLE (SUV)',\n",
        "                                'VAN/MINI-VAN',\n",
        "                                'PICKUP'\n",
        "                                ], 'REGULAR PERSONAL', inplace=True)\n",
        "\n",
        "#Public Transit\n",
        "cln_veh['VEHICLE_TYPE'].replace(['BUS OVER 15 PASS.',\n",
        "                                'BUS UP TO 15 PASS.'\n",
        "                                ], 'PUBLIC', inplace=True)\n",
        "\n",
        "#Commercial\n",
        "cln_veh['VEHICLE_TYPE'].replace(['TRUCK - SINGLE UNIT',\n",
        "                                'SPORT UTILITY VEHICLE (SUV)',\n",
        "                                'TRACTOR W/ SEMI-TRAILER',\n",
        "                                'OTHER VEHICLE WITH TRAILER',\n",
        "                                'TRACTOR W/O SEMI-TRAILER',\n",
        "                                'SINGLE UNIT TRUCK WITH TRAILER'\n",
        "                                ], 'COMMERCIAL', inplace=True)\n",
        "\n",
        "#Motorcycle / cycle\n",
        "cln_veh['VEHICLE_TYPE'].replace(['MOTORCYCLE (OVER 150CC)',\n",
        "                                'AUTOCYCLE',\n",
        "                                'MOPED OR MOTORIZED BICYCLE',\n",
        "                                '3-WHEELED MOTORCYCLE (2 REAR WHEELS)',\n",
        "                                 'MOTOR DRIVEN CYCLE'\n",
        "                                ], 'MOTORCYCLE/CYCLE', inplace=True)\n",
        "\n",
        "#Vocational/Recreational\n",
        "cln_veh['VEHICLE_TYPE'].replace(['ALL-TERRAIN VEHICLE (ATV)',\n",
        "                                'FARM EQUIPMENT',\n",
        "                                'MOPED OR MOTORIZED BICYCLE',\n",
        "                                'RECREATIONAL OFF-HIGHWAY VEHICLE (ROV)',\n",
        "                                'SNOWMOBILE'\n",
        "                                ], 'RECREATIONAL/VOCATIONAL', inplace=True)"
      ],
      "id": "f6d90917"
    },
    {
      "cell_type": "code",
      "execution_count": 125,
      "metadata": {
        "colab": {
          "base_uri": "https://localhost:8080/"
        },
        "id": "a3229bc1",
        "outputId": "5c244e9c-7afa-4ece-82fb-01d81543431a"
      },
      "outputs": [
        {
          "output_type": "execute_result",
          "data": {
            "text/plain": [
              "REGULAR PERSONAL           0.843967\n",
              "UNKNOWN/NA                 0.095058\n",
              "COMMERCIAL                 0.032653\n",
              "PUBLIC                     0.013017\n",
              "OTHER                      0.011778\n",
              "MOTORCYCLE/CYCLE           0.003340\n",
              "RECREATIONAL/VOCATIONAL    0.000188\n",
              "Name: VEHICLE_TYPE, dtype: float64"
            ]
          },
          "metadata": {},
          "execution_count": 125
        }
      ],
      "source": [
        "#check value counts\n",
        "cln_veh['VEHICLE_TYPE'].value_counts(normalize=True)"
      ],
      "id": "a3229bc1"
    },
    {
      "cell_type": "markdown",
      "metadata": {
        "id": "1e0f9089"
      },
      "source": [
        "With no information for the other section, it will be beneficial to drop those records.\n",
        "\n",
        "The unknown ones can be kept and dealt with aafter merging the different datasets.\n",
        "\n",
        "We can also see that the Recreational and motorcycle records total out to be even less than 1% of the total records. These will be extremely difficult to balance out alongside skewing our modeling to anomalies. Therefore, these records will be dropped."
      ],
      "id": "1e0f9089"
    },
    {
      "cell_type": "code",
      "execution_count": 126,
      "metadata": {
        "id": "6679fb66"
      },
      "outputs": [],
      "source": [
        "#filter out the records with 'other' vehicle types\n",
        "cln_veh = cln_veh[(cln_veh['VEHICLE_TYPE'] != 'OTHER') &\n",
        "                  (cln_veh['VEHICLE_TYPE'] != 'RECREATIONAL/VOCATIONAL')&\n",
        "                  (cln_veh['VEHICLE_TYPE'] != 'MOTORCYCLE/CYCLE')\n",
        "                 ]"
      ],
      "id": "6679fb66"
    },
    {
      "cell_type": "code",
      "execution_count": 127,
      "metadata": {
        "colab": {
          "base_uri": "https://localhost:8080/"
        },
        "id": "25413584",
        "outputId": "481345bd-52a6-4ff3-a4db-462b2056dd6e"
      },
      "outputs": [
        {
          "output_type": "execute_result",
          "data": {
            "text/plain": [
              "REGULAR PERSONAL    1168072\n",
              "UNKNOWN/NA           131562\n",
              "COMMERCIAL            45192\n",
              "PUBLIC                18016\n",
              "Name: VEHICLE_TYPE, dtype: int64"
            ]
          },
          "metadata": {},
          "execution_count": 127
        }
      ],
      "source": [
        "#check new value counts\n",
        "cln_veh['VEHICLE_TYPE'].value_counts()"
      ],
      "id": "25413584"
    },
    {
      "cell_type": "code",
      "execution_count": 128,
      "metadata": {
        "colab": {
          "base_uri": "https://localhost:8080/"
        },
        "id": "84e30442",
        "outputId": "01bd32ac-22df-4bbb-e765-7d35c9c6471e"
      },
      "outputs": [
        {
          "output_type": "stream",
          "name": "stdout",
          "text": [
            "<class 'pandas.core.frame.DataFrame'>\n",
            "Int64Index: 1362842 entries, 0 to 1416094\n",
            "Data columns (total 8 columns):\n",
            " #   Column               Non-Null Count    Dtype  \n",
            "---  ------               --------------    -----  \n",
            " 0   CRASH_RECORD_ID      1362842 non-null  object \n",
            " 1   VEHICLE_TYPE         1362842 non-null  object \n",
            " 2   VEHICLE_USE          1362842 non-null  object \n",
            " 3   MANEUVER             1362842 non-null  object \n",
            " 4   OCCUPANT_CNT         1362842 non-null  float64\n",
            " 5   FIRST_CONTACT_POINT  1350828 non-null  object \n",
            " 6   VEHICLE_CONFIG       11730 non-null    object \n",
            " 7   VEHICLE_DEFECT_I     1362842 non-null  object \n",
            "dtypes: float64(1), object(7)\n",
            "memory usage: 93.6+ MB\n"
          ]
        }
      ],
      "source": [
        "#check summary\n",
        "cln_veh.info()"
      ],
      "id": "84e30442"
    },
    {
      "cell_type": "markdown",
      "metadata": {
        "id": "6ba570c7"
      },
      "source": [
        "Considering that vevhicles types were binned according to usage, the Vehicle Use column would be a deeper dive column that can be explored if more granular details aree required."
      ],
      "id": "6ba570c7"
    },
    {
      "cell_type": "code",
      "execution_count": 129,
      "metadata": {
        "id": "498b6f2d"
      },
      "outputs": [],
      "source": [
        "#drop vehicle use column\n",
        "cln_veh = cln_veh.drop(['VEHICLE_USE'],axis=1)"
      ],
      "id": "498b6f2d"
    },
    {
      "cell_type": "markdown",
      "metadata": {
        "id": "9922283a"
      },
      "source": [
        "Lets explore the Maeuver column. We know from previous exploration that this column also contains multiple categories that can bee grouped together. Lets take a look at the values and forulate the binning strategy."
      ],
      "id": "9922283a"
    },
    {
      "cell_type": "code",
      "execution_count": 130,
      "metadata": {
        "colab": {
          "base_uri": "https://localhost:8080/"
        },
        "id": "9271a9d6",
        "outputId": "ca674d62-650a-418c-f60f-ac383d451cfe"
      },
      "outputs": [
        {
          "output_type": "execute_result",
          "data": {
            "text/plain": [
              "STRAIGHT AHEAD                        621064\n",
              "PARKED                                188320\n",
              "UNKNOWN/NA                            106882\n",
              "SLOW/STOP IN TRAFFIC                  104646\n",
              "TURNING LEFT                           80286\n",
              "BACKING                                55472\n",
              "TURNING RIGHT                          44296\n",
              "PASSING/OVERTAKING                     32542\n",
              "CHANGING LANES                         26559\n",
              "OTHER                                  22353\n",
              "ENTERING TRAFFIC LANE FROM PARKING     16146\n",
              "MERGING                                 9439\n",
              "STARTING IN TRAFFIC                     8050\n",
              "U-TURN                                  7682\n",
              "LEAVING TRAFFIC LANE TO PARK            6624\n",
              "AVOIDING VEHICLES/OBJECTS               5889\n",
              "SKIDDING/CONTROL LOSS                   5495\n",
              "ENTER FROM DRIVE/ALLEY                  5354\n",
              "PARKED IN TRAFFIC LANE                  4015\n",
              "SLOW/STOP - LEFT TURN                   3004\n",
              "DRIVING WRONG WAY                       1967\n",
              "SLOW/STOP - RIGHT TURN                  1896\n",
              "NEGOTIATING A CURVE                     1807\n",
              "SLOW/STOP - LOAD/UNLOAD                 1633\n",
              "TURNING ON RED                           532\n",
              "DRIVERLESS                               506\n",
              "DIVERGING                                208\n",
              "DISABLED                                 175\n",
              "Name: MANEUVER, dtype: int64"
            ]
          },
          "metadata": {},
          "execution_count": 130
        }
      ],
      "source": [
        "#check value counts\n",
        "cln_veh['MANEUVER'].value_counts()"
      ],
      "id": "9271a9d6"
    },
    {
      "cell_type": "markdown",
      "metadata": {
        "id": "4c63a4d0"
      },
      "source": [
        "The overlapping categories can be binned in the direction they were moving to make the modeling easier. If more details are required, data can bee subsequently maade more granular.\n",
        "\n",
        "    1. STRAIGHT: STRAIGHT AHEAD, NEGOTIATING A CURVE\n",
        "    2. TURNING: TURNING LEFT, TURNING RIGHT, U-TURN, SLOW/STOP - LEFT TURN, SLOW/STOP - RIGHT TURN, TURNING ON RED\n",
        "    3. ENTERING/EXITING TRAFFIC: PARKED, LEAVING TRAFFIC LANE TO PARK, ENTERING TRAFFIC LANE FROM PARKING,                                          MERGING, LEAVING TRAFFIC LANE TO PARK, ENTER FROM DRIVE/ALLEY, PARKED IN TRAFFIC                                  LANE, DIVERGING\n",
        "    4. START/STOP: SLOW/STOP IN TRAFFIC, STARTING IN TRAFFIC, SLOW/STOP - LOAD/UNLOAD\n",
        "    5. Lane Change: CHANGING LANES, PASSING/OVERTAKING\n",
        "    6. Respone to External Obstructions: AVOIDING VEHICLES/OBJECTS, SKIDDING/CONTROL LOSS"
      ],
      "id": "4c63a4d0"
    },
    {
      "cell_type": "code",
      "execution_count": 131,
      "metadata": {
        "id": "f7edda5c"
      },
      "outputs": [],
      "source": [
        "#bin categories\n",
        "\n",
        "#Straight\n",
        "cln_veh['MANEUVER'].replace(['STRAIGHT AHEAD',\n",
        "                            'NEGOTIATING A CURVE'\n",
        "                            ], 'STRAIGHT', inplace=True)\n",
        "\n",
        "#Turning\n",
        "cln_veh['MANEUVER'].replace(['TURNING LEFT',\n",
        "                            'TURNING RIGHT',\n",
        "                             'U-TURN', 'SLOW/STOP - LEFT TURN', 'SLOW/STOP - RIGHT TURN',\n",
        "                             'TURNING ON RED'\n",
        "                            ], 'TURNING', inplace=True)\n",
        "\n",
        "#ENTERING/EXITING TRAFFIC\n",
        "cln_veh['MANEUVER'].replace(['PARKED', 'LEAVING TRAFFIC LANE TO PARK', 'ENTERING TRAFFIC LANE FROM PARKING',\n",
        "                            'MERGING', 'LEAVING TRAFFIC LANE TO PARK', 'ENTER FROM DRIVE/ALLEY', \n",
        "                             'PARKED IN TRAFFIC LANE',\n",
        "                             'DIVERGING'\n",
        "                            ], 'ENTERING/EXITING TRAFFIC', inplace=True)\n",
        "\n",
        "#START/STOP\n",
        "cln_veh['MANEUVER'].replace(['SLOW/STOP IN TRAFFIC', 'STARTING IN TRAFFIC', 'SLOW/STOP - LOAD/UNLOAD'\n",
        "                            ], 'START/STOP', inplace=True)\n",
        "\n",
        "#Lane Change\n",
        "cln_veh['MANEUVER'].replace(['CHANGING LANES', 'PASSING/OVERTAKING'\n",
        "                            ], 'LANE CHANGE', inplace=True)\n",
        "\n",
        "#External Obstructions\n",
        "cln_veh['MANEUVER'].replace(['AVOIDING VEHICLES/OBJECTS', 'SKIDDING/CONTROL LOSS'\n",
        "                            ], 'EXTERNAL OBSTRUCTIONS', inplace=True)"
      ],
      "id": "f7edda5c"
    },
    {
      "cell_type": "code",
      "execution_count": 132,
      "metadata": {
        "colab": {
          "base_uri": "https://localhost:8080/"
        },
        "id": "72b1148e",
        "outputId": "61c876d5-a74d-4a1d-f894-cc0d3238fbd3"
      },
      "outputs": [
        {
          "output_type": "execute_result",
          "data": {
            "text/plain": [
              "STRAIGHT                    0.457038\n",
              "ENTERING/EXITING TRAFFIC    0.168843\n",
              "TURNING                     0.101036\n",
              "START/STOP                  0.083890\n",
              "UNKNOWN/NA                  0.078426\n",
              "LANE CHANGE                 0.043366\n",
              "BACKING                     0.040703\n",
              "OTHER                       0.016402\n",
              "EXTERNAL OBSTRUCTIONS       0.008353\n",
              "DRIVING WRONG WAY           0.001443\n",
              "DRIVERLESS                  0.000371\n",
              "DISABLED                    0.000128\n",
              "Name: MANEUVER, dtype: float64"
            ]
          },
          "metadata": {},
          "execution_count": 132
        }
      ],
      "source": [
        "#check new value counts\n",
        "cln_veh['MANEUVER'].value_counts(normalize=True)"
      ],
      "id": "72b1148e"
    },
    {
      "cell_type": "markdown",
      "metadata": {
        "id": "fcfe6e33"
      },
      "source": [
        "The unkown category will be handled after merging it with the other datasets.\n",
        "\n",
        "The Other category doesn;t have any clear information so it can be harmful noisse in the dataset therefore these records will be dropped. \n",
        "\n",
        "Driverless and Disabled are extreme anomalies that total out to be less than 1% therefore they will be dropped aswell."
      ],
      "id": "fcfe6e33"
    },
    {
      "cell_type": "code",
      "execution_count": 133,
      "metadata": {
        "id": "4607ef95"
      },
      "outputs": [],
      "source": [
        "#drop other category and anomalies\n",
        "cln_veh = cln_veh[(cln_veh['MANEUVER'] != 'OTHER') &\n",
        "                 (cln_veh['MANEUVER'] != 'DRIVERLESS') &\n",
        "                 (cln_veh['MANEUVER'] != 'DISABLED')]"
      ],
      "id": "4607ef95"
    },
    {
      "cell_type": "code",
      "execution_count": 134,
      "metadata": {
        "colab": {
          "base_uri": "https://localhost:8080/"
        },
        "id": "08567d8b",
        "outputId": "d237fbba-baab-4a31-fe78-eb65076e495f"
      },
      "outputs": [
        {
          "output_type": "execute_result",
          "data": {
            "text/plain": [
              "STRAIGHT                    0.464896\n",
              "ENTERING/EXITING TRAFFIC    0.171746\n",
              "TURNING                     0.102773\n",
              "START/STOP                  0.085332\n",
              "UNKNOWN/NA                  0.079774\n",
              "LANE CHANGE                 0.044112\n",
              "BACKING                     0.041403\n",
              "EXTERNAL OBSTRUCTIONS       0.008497\n",
              "DRIVING WRONG WAY           0.001468\n",
              "Name: MANEUVER, dtype: float64"
            ]
          },
          "metadata": {},
          "execution_count": 134
        }
      ],
      "source": [
        "#check new value counts\n",
        "cln_veh['MANEUVER'].value_counts(normalize=True)"
      ],
      "id": "08567d8b"
    },
    {
      "cell_type": "code",
      "execution_count": 135,
      "metadata": {
        "colab": {
          "base_uri": "https://localhost:8080/"
        },
        "id": "7a957a4a",
        "outputId": "14a7dcbf-818e-4a96-d1f7-5b85da5c0704"
      },
      "outputs": [
        {
          "output_type": "stream",
          "name": "stdout",
          "text": [
            "<class 'pandas.core.frame.DataFrame'>\n",
            "Int64Index: 1339808 entries, 0 to 1416094\n",
            "Data columns (total 7 columns):\n",
            " #   Column               Non-Null Count    Dtype  \n",
            "---  ------               --------------    -----  \n",
            " 0   CRASH_RECORD_ID      1339808 non-null  object \n",
            " 1   VEHICLE_TYPE         1339808 non-null  object \n",
            " 2   MANEUVER             1339808 non-null  object \n",
            " 3   OCCUPANT_CNT         1339808 non-null  float64\n",
            " 4   FIRST_CONTACT_POINT  1328112 non-null  object \n",
            " 5   VEHICLE_CONFIG       11457 non-null    object \n",
            " 6   VEHICLE_DEFECT_I     1339808 non-null  object \n",
            "dtypes: float64(1), object(6)\n",
            "memory usage: 81.8+ MB\n"
          ]
        }
      ],
      "source": [
        "#check summary\n",
        "cln_veh.info()"
      ],
      "id": "7a957a4a"
    },
    {
      "cell_type": "code",
      "execution_count": 136,
      "metadata": {
        "colab": {
          "base_uri": "https://localhost:8080/"
        },
        "id": "a88c5cdd",
        "outputId": "24d029f2-d5ae-4c4c-affa-28901222e92b"
      },
      "outputs": [
        {
          "output_type": "execute_result",
          "data": {
            "text/plain": [
              "TRACTOR/SEMI-TRAILER                   4665\n",
              "SINGLE UNIT TRUCK, 2 AXLES, 6 TIRES    2231\n",
              "BUS                                    1827\n",
              "TRUCK/TRACTOR                           918\n",
              "TRUCK/TRAILER                           759\n",
              "UNKNOWN HEAVY TRUCK                     535\n",
              "SINGLE UNIT TRUCK, 3 OR MORE AXLES      493\n",
              "TRACTOR/DOUBLES                          29\n",
              "Name: VEHICLE_CONFIG, dtype: int64"
            ]
          },
          "metadata": {},
          "execution_count": 136
        }
      ],
      "source": [
        "#check value counts\n",
        "cln_veh['VEHICLE_CONFIG'].value_counts()"
      ],
      "id": "a88c5cdd"
    },
    {
      "cell_type": "markdown",
      "metadata": {
        "id": "1e433348"
      },
      "source": [
        "This is the level of detail that can be explored as further insights analysis. The Vehicle Type feature already covers whether the vehicle involved in the crash is a commercial vehicle or not."
      ],
      "id": "1e433348"
    },
    {
      "cell_type": "code",
      "execution_count": 137,
      "metadata": {
        "id": "ea218553"
      },
      "outputs": [],
      "source": [
        "#drop vehicle config\n",
        "cln_veh = cln_veh.drop(['VEHICLE_CONFIG'],axis=1)"
      ],
      "id": "ea218553"
    },
    {
      "cell_type": "markdown",
      "metadata": {
        "id": "e47c5221"
      },
      "source": [
        "The only one left is Occupant Count. This column has information on how many individuals there were in a vehicle involved in the crash. Lets explore this column further to understand how to processs it."
      ],
      "id": "e47c5221"
    },
    {
      "cell_type": "code",
      "execution_count": 138,
      "metadata": {
        "colab": {
          "base_uri": "https://localhost:8080/"
        },
        "id": "f2a5bb27",
        "outputId": "a3759fc1-2d92-403b-93fb-f460773de4d1"
      },
      "outputs": [
        {
          "output_type": "execute_result",
          "data": {
            "text/plain": [
              "1.0     967827\n",
              "0.0     180457\n",
              "2.0     134861\n",
              "3.0      35752\n",
              "4.0      14027\n",
              "5.0       4599\n",
              "6.0       1244\n",
              "7.0        459\n",
              "8.0        186\n",
              "9.0         90\n",
              "11.0        56\n",
              "10.0        52\n",
              "12.0        36\n",
              "13.0        31\n",
              "15.0        18\n",
              "14.0        13\n",
              "16.0        12\n",
              "20.0        10\n",
              "18.0        10\n",
              "19.0         9\n",
              "36.0         5\n",
              "28.0         5\n",
              "26.0         5\n",
              "21.0         4\n",
              "17.0         4\n",
              "22.0         3\n",
              "30.0         3\n",
              "29.0         3\n",
              "27.0         3\n",
              "25.0         3\n",
              "33.0         3\n",
              "41.0         2\n",
              "39.0         2\n",
              "99.0         2\n",
              "35.0         2\n",
              "44.0         1\n",
              "24.0         1\n",
              "43.0         1\n",
              "60.0         1\n",
              "34.0         1\n",
              "37.0         1\n",
              "23.0         1\n",
              "31.0         1\n",
              "47.0         1\n",
              "38.0         1\n",
              "Name: OCCUPANT_CNT, dtype: int64"
            ]
          },
          "metadata": {},
          "execution_count": 138
        }
      ],
      "source": [
        "#check value counts\n",
        "cln_veh['OCCUPANT_CNT'].value_counts()"
      ],
      "id": "f2a5bb27"
    },
    {
      "cell_type": "markdown",
      "metadata": {
        "id": "c3bfbffe"
      },
      "source": [
        "There are several different number of paassenger bins. These can be grouped grouped together to represent certain common instancess.\n",
        "\n",
        "0: No passenger present\n",
        "\n",
        "1-2: This is very common having either only the driver or a adriver with a passenger\n",
        "\n",
        "3-5: 5 is the max a normaal car can hold\n",
        "\n",
        "6-9: These number of passengers is usually an indication of Mini-Vans or Vans\n",
        "\n",
        "10+: This is usually a larger van or a Bus which means that these amount of passengers would represent a public/mass transit vehicle."
      ],
      "id": "c3bfbffe"
    },
    {
      "cell_type": "code",
      "execution_count": 139,
      "metadata": {
        "id": "a5e36621"
      },
      "outputs": [],
      "source": [
        "#create lambda function for binning\n",
        "b = lambda x:'10+' if x>=10 else '6-9' if x>=6 else '3-5' if x>=3 else '1-2' if x>=1 else '0'"
      ],
      "id": "a5e36621"
    },
    {
      "cell_type": "code",
      "execution_count": 140,
      "metadata": {
        "id": "d0a96dae"
      },
      "outputs": [],
      "source": [
        "#bin the counts\n",
        "cln_veh['OCCUPANT_CAT'] = cln_veh['OCCUPANT_CNT'].map(b)"
      ],
      "id": "d0a96dae"
    },
    {
      "cell_type": "code",
      "execution_count": 141,
      "metadata": {
        "colab": {
          "base_uri": "https://localhost:8080/"
        },
        "id": "dbeebd10",
        "outputId": "ecd82882-d910-4d4f-e3f2-b5be32e33bd8"
      },
      "outputs": [
        {
          "output_type": "execute_result",
          "data": {
            "text/plain": [
              "1-2    1102688\n",
              "0       180457\n",
              "3-5      54378\n",
              "6-9       1979\n",
              "10+        306\n",
              "Name: OCCUPANT_CAT, dtype: int64"
            ]
          },
          "metadata": {},
          "execution_count": 141
        }
      ],
      "source": [
        "#check value counts\n",
        "cln_veh['OCCUPANT_CAT'].value_counts()"
      ],
      "id": "dbeebd10"
    },
    {
      "cell_type": "code",
      "execution_count": 142,
      "metadata": {
        "id": "1c4aa093"
      },
      "outputs": [],
      "source": [
        "#drop occupant count column\n",
        "cln_veh = cln_veh.drop(['OCCUPANT_CNT'],axis=1)"
      ],
      "id": "1c4aa093"
    },
    {
      "cell_type": "code",
      "execution_count": 143,
      "metadata": {
        "colab": {
          "base_uri": "https://localhost:8080/"
        },
        "id": "e77e801d",
        "outputId": "24d11b47-2821-499f-dd12-70c9386228cb"
      },
      "outputs": [
        {
          "output_type": "stream",
          "name": "stdout",
          "text": [
            "<class 'pandas.core.frame.DataFrame'>\n",
            "Int64Index: 1339808 entries, 0 to 1416094\n",
            "Data columns (total 6 columns):\n",
            " #   Column               Non-Null Count    Dtype \n",
            "---  ------               --------------    ----- \n",
            " 0   CRASH_RECORD_ID      1339808 non-null  object\n",
            " 1   VEHICLE_TYPE         1339808 non-null  object\n",
            " 2   MANEUVER             1339808 non-null  object\n",
            " 3   FIRST_CONTACT_POINT  1328112 non-null  object\n",
            " 4   VEHICLE_DEFECT_I     1339808 non-null  object\n",
            " 5   OCCUPANT_CAT         1339808 non-null  object\n",
            "dtypes: object(6)\n",
            "memory usage: 71.6+ MB\n"
          ]
        }
      ],
      "source": [
        "cln_veh.info()"
      ],
      "id": "e77e801d"
    },
    {
      "cell_type": "markdown",
      "metadata": {
        "id": "b09cd537"
      },
      "source": [
        "Next, lets take a look at First Contact Point."
      ],
      "id": "b09cd537"
    },
    {
      "cell_type": "code",
      "execution_count": 144,
      "metadata": {
        "colab": {
          "base_uri": "https://localhost:8080/"
        },
        "id": "ab4525f6",
        "outputId": "4d4b7672-1ea9-481f-e09f-896154985b94"
      },
      "outputs": [
        {
          "output_type": "execute_result",
          "data": {
            "text/plain": [
              "FRONT                201383\n",
              "OTHER                163550\n",
              "REAR-LEFT            152128\n",
              "UNKNOWN              128086\n",
              "REAR                 114191\n",
              "FRONT-LEFT            97447\n",
              "TOTAL (ALL AREAS)     92103\n",
              "SIDE-RIGHT            86002\n",
              "FRONT-RIGHT           84497\n",
              "SIDE-LEFT             78829\n",
              "ROOF                  54337\n",
              "REAR-RIGHT            48892\n",
              "UNDER CARRIAGE        16044\n",
              "NONE                  10623\n",
              "Name: FIRST_CONTACT_POINT, dtype: int64"
            ]
          },
          "metadata": {},
          "execution_count": 144
        }
      ],
      "source": [
        "#check value counts\n",
        "cln_veh['FIRST_CONTACT_POINT'].value_counts()"
      ],
      "id": "ab4525f6"
    },
    {
      "cell_type": "markdown",
      "metadata": {
        "id": "d43f3ded"
      },
      "source": [
        "The other category for this column is a big chunk of the dataset. Nonetheless, modeling it with other data might show a clear relationship between certain type of accidents and the other category. Consdiering that it is a large chunk of the dataset, we will leave it in place. If our modeling results end up being unsatisfactory, these kind of records would be the first ones we would want to remove.\n",
        "\n",
        "We will leave the unkown category as is and circle back to it after alll datasets have been joined. It is possible that in the process of joining, these records get dropped automatically.\n",
        "\n",
        "Also, there is a higher granularity of data where as it can be grouped into simple subsections of a vehicle. \n",
        "\n",
        "    1. None\n",
        "    2. Front\n",
        "    3. Rear\n",
        "    4. Side\n",
        "    5. Top/Bottom\n",
        "    6. Total"
      ],
      "id": "d43f3ded"
    },
    {
      "cell_type": "code",
      "execution_count": 145,
      "metadata": {
        "id": "720fb693"
      },
      "outputs": [],
      "source": [
        "#bin categories\n",
        "\n",
        "#Front\n",
        "cln_veh['FIRST_CONTACT_POINT'].replace([\n",
        "                                        'FRONT', 'FRONT-LEFT', 'FRONT-RIGHT'\n",
        "                                        ],'FRONT', inplace=True)\n",
        "\n",
        "#Rear\n",
        "cln_veh['FIRST_CONTACT_POINT'].replace([\n",
        "                                        'REAR','REAR-LEFT', 'REAR-RIGHT'\n",
        "                                        ],'REAR', inplace=True)\n",
        "\n",
        "#SIDE\n",
        "cln_veh['FIRST_CONTACT_POINT'].replace([\n",
        "                                        'SIDE-RIGHT', 'SIDE-LEFT'\n",
        "                                        ],'SIDE', inplace=True)\n",
        "\n",
        "#TOP/BOTTOM\n",
        "cln_veh['FIRST_CONTACT_POINT'].replace([\n",
        "                                        'ROOF', 'UNDER CARRIAGE'\n",
        "                                        ],'TOP/BOTTOM', inplace=True)"
      ],
      "id": "720fb693"
    },
    {
      "cell_type": "code",
      "execution_count": 146,
      "metadata": {
        "colab": {
          "base_uri": "https://localhost:8080/"
        },
        "id": "fbcf1a20",
        "outputId": "18bb0a8c-3118-4ef4-b10f-d918ff3603ab"
      },
      "outputs": [
        {
          "output_type": "execute_result",
          "data": {
            "text/plain": [
              "FRONT                383327\n",
              "REAR                 315211\n",
              "SIDE                 164831\n",
              "OTHER                163550\n",
              "UNKNOWN              128086\n",
              "TOTAL (ALL AREAS)     92103\n",
              "TOP/BOTTOM            70381\n",
              "NONE                  10623\n",
              "Name: FIRST_CONTACT_POINT, dtype: int64"
            ]
          },
          "metadata": {},
          "execution_count": 146
        }
      ],
      "source": [
        "#check new value counts\n",
        "cln_veh['FIRST_CONTACT_POINT'].value_counts()"
      ],
      "id": "fbcf1a20"
    },
    {
      "cell_type": "code",
      "execution_count": 147,
      "metadata": {
        "id": "a050c95c"
      },
      "outputs": [],
      "source": [
        "#drop missing values\n",
        "cln_veh = cln_veh.dropna()"
      ],
      "id": "a050c95c"
    },
    {
      "cell_type": "code",
      "execution_count": 148,
      "metadata": {
        "colab": {
          "base_uri": "https://localhost:8080/"
        },
        "id": "6b84d404",
        "outputId": "81dab1cd-1159-41b9-bdcb-8e204d67991b"
      },
      "outputs": [
        {
          "output_type": "stream",
          "name": "stdout",
          "text": [
            "<class 'pandas.core.frame.DataFrame'>\n",
            "Int64Index: 1328112 entries, 0 to 1416094\n",
            "Data columns (total 6 columns):\n",
            " #   Column               Non-Null Count    Dtype \n",
            "---  ------               --------------    ----- \n",
            " 0   CRASH_RECORD_ID      1328112 non-null  object\n",
            " 1   VEHICLE_TYPE         1328112 non-null  object\n",
            " 2   MANEUVER             1328112 non-null  object\n",
            " 3   FIRST_CONTACT_POINT  1328112 non-null  object\n",
            " 4   VEHICLE_DEFECT_I     1328112 non-null  object\n",
            " 5   OCCUPANT_CAT         1328112 non-null  object\n",
            "dtypes: object(6)\n",
            "memory usage: 70.9+ MB\n"
          ]
        }
      ],
      "source": [
        "#final dataframe check\n",
        "cln_veh.info()"
      ],
      "id": "6b84d404"
    },
    {
      "cell_type": "markdown",
      "metadata": {
        "id": "a739bc9d"
      },
      "source": [
        "No we can move on and merge this dataset with the crashes dataset."
      ],
      "id": "a739bc9d"
    },
    {
      "cell_type": "code",
      "execution_count": 149,
      "metadata": {
        "id": "edf5d4c1"
      },
      "outputs": [],
      "source": [
        "#merge using crash record ID\n",
        "veh_crsh = pd.merge(cln_crashes, cln_veh, how='inner', on='CRASH_RECORD_ID' )"
      ],
      "id": "edf5d4c1"
    },
    {
      "cell_type": "code",
      "execution_count": 150,
      "metadata": {
        "colab": {
          "base_uri": "https://localhost:8080/"
        },
        "id": "4ec48186",
        "outputId": "652f3fd4-d704-4ac9-efc3-2a79cdd82180"
      },
      "outputs": [
        {
          "output_type": "stream",
          "name": "stdout",
          "text": [
            "<class 'pandas.core.frame.DataFrame'>\n",
            "Int64Index: 250241 entries, 0 to 250240\n",
            "Data columns (total 25 columns):\n",
            " #   Column                   Non-Null Count   Dtype  \n",
            "---  ------                   --------------   -----  \n",
            " 0   CRASH_RECORD_ID          250241 non-null  object \n",
            " 1   CRASH_YEAR               250241 non-null  int64  \n",
            " 2   POSTED_SPEED_LIMIT       250241 non-null  int64  \n",
            " 3   DEVICE_CONDITION         250241 non-null  object \n",
            " 4   WEATHER_CONDITION        250241 non-null  object \n",
            " 5   LIGHTING_CONDITION       250241 non-null  object \n",
            " 6   CRASH_TYPE               250241 non-null  object \n",
            " 7   INTERSECTION_RELATED_I   250241 non-null  object \n",
            " 8   ROAD_DEFECT              250241 non-null  object \n",
            " 9   PRIM_CONTRIBUTORY_CAUSE  250241 non-null  object \n",
            " 10  NUM_UNITS                250241 non-null  int64  \n",
            " 11  WORK_ZONE_I              250241 non-null  object \n",
            " 12  WORKERS_PRESENT_I        250241 non-null  object \n",
            " 13  INJURIES_TOTAL           250241 non-null  float64\n",
            " 14  INJURIES_FATAL           250241 non-null  float64\n",
            " 15  CRASH_HOUR               250241 non-null  int64  \n",
            " 16  CRASH_DAY_OF_WEEK        250241 non-null  int64  \n",
            " 17  CRASH_MONTH              250241 non-null  int64  \n",
            " 18  LATITUDE                 250241 non-null  float64\n",
            " 19  LONGITUDE                250241 non-null  float64\n",
            " 20  VEHICLE_TYPE             250241 non-null  object \n",
            " 21  MANEUVER                 250241 non-null  object \n",
            " 22  FIRST_CONTACT_POINT      250241 non-null  object \n",
            " 23  VEHICLE_DEFECT_I         250241 non-null  object \n",
            " 24  OCCUPANT_CAT             250241 non-null  object \n",
            "dtypes: float64(4), int64(6), object(15)\n",
            "memory usage: 49.6+ MB\n"
          ]
        }
      ],
      "source": [
        "#check new dataframe's info\n",
        "veh_crsh.info()"
      ],
      "id": "4ec48186"
    },
    {
      "cell_type": "code",
      "execution_count": 151,
      "metadata": {
        "colab": {
          "base_uri": "https://localhost:8080/",
          "height": 560
        },
        "id": "9cd3bf54",
        "outputId": "5d3ab219-dbd2-4f8a-9bd2-027c773f0b02"
      },
      "outputs": [
        {
          "output_type": "execute_result",
          "data": {
            "text/plain": [
              "                                     CRASH_RECORD_ID  CRASH_YEAR  \\\n",
              "0  79c7a2ce89f446262efd86df3d72d18b04ba487024b7c4...        2019   \n",
              "1  79c7a2ce89f446262efd86df3d72d18b04ba487024b7c4...        2019   \n",
              "2  7b3545fb91352d7fc46ba142d9044a5508671db4d01d02...        2020   \n",
              "3  03d3679ef44bb8aa0f2060cb0376f3eeb1d9dbb2197322...        2022   \n",
              "4  79704e1b747fbf5f740f1255785934dfe659ff910d4782...        2019   \n",
              "\n",
              "   POSTED_SPEED_LIMIT      DEVICE_CONDITION WEATHER_CONDITION  \\\n",
              "0                  30  FUNCTIONING PROPERLY             CLEAR   \n",
              "1                  30  FUNCTIONING PROPERLY             CLEAR   \n",
              "2                  25  FUNCTIONING PROPERLY             CLEAR   \n",
              "3                  30  FUNCTIONING PROPERLY         NOT CLEAR   \n",
              "4                  30  FUNCTIONING PROPERLY             CLEAR   \n",
              "\n",
              "  LIGHTING_CONDITION                        CRASH_TYPE INTERSECTION_RELATED_I  \\\n",
              "0           DAY TIME  INJURY AND / OR TOW DUE TO CRASH                      Y   \n",
              "1           DAY TIME  INJURY AND / OR TOW DUE TO CRASH                      Y   \n",
              "2           DAY TIME  INJURY AND / OR TOW DUE TO CRASH                      Y   \n",
              "3           DAY TIME  INJURY AND / OR TOW DUE TO CRASH                      Y   \n",
              "4           DAY TIME  INJURY AND / OR TOW DUE TO CRASH                      N   \n",
              "\n",
              "  ROAD_DEFECT    PRIM_CONTRIBUTORY_CAUSE  ...  CRASH_HOUR CRASH_DAY_OF_WEEK  \\\n",
              "0  NO DEFECTS  RECKLESS/IMPROPER DRIVING  ...          14                 2   \n",
              "1  NO DEFECTS  RECKLESS/IMPROPER DRIVING  ...          14                 2   \n",
              "2  NO DEFECTS     TRAFFIC RULES VIOLATED  ...          11                 4   \n",
              "3  NO DEFECTS     TRAFFIC RULES VIOLATED  ...          16                 6   \n",
              "4  NO DEFECTS  RECKLESS/IMPROPER DRIVING  ...          14                 6   \n",
              "\n",
              "  CRASH_MONTH   LATITUDE  LONGITUDE      VEHICLE_TYPE    MANEUVER  \\\n",
              "0           3  41.884547 -87.641201  REGULAR PERSONAL     TURNING   \n",
              "1           3  41.884547 -87.641201  REGULAR PERSONAL    STRAIGHT   \n",
              "2           7  41.876850 -87.745294        COMMERCIAL  START/STOP   \n",
              "3           7  41.855974 -87.663860  REGULAR PERSONAL     TURNING   \n",
              "4           6  41.867502 -87.627568        UNKNOWN/NA  UNKNOWN/NA   \n",
              "\n",
              "   FIRST_CONTACT_POINT  VEHICLE_DEFECT_I  OCCUPANT_CAT  \n",
              "0                FRONT                 N           1-2  \n",
              "1                FRONT                 N           1-2  \n",
              "2                 NONE                 U           1-2  \n",
              "3                OTHER                 U           1-2  \n",
              "4                OTHER                 U           1-2  \n",
              "\n",
              "[5 rows x 25 columns]"
            ],
            "text/html": [
              "\n",
              "  <div id=\"df-41787adc-b615-49c6-82e4-e72cb48d0ba9\">\n",
              "    <div class=\"colab-df-container\">\n",
              "      <div>\n",
              "<style scoped>\n",
              "    .dataframe tbody tr th:only-of-type {\n",
              "        vertical-align: middle;\n",
              "    }\n",
              "\n",
              "    .dataframe tbody tr th {\n",
              "        vertical-align: top;\n",
              "    }\n",
              "\n",
              "    .dataframe thead th {\n",
              "        text-align: right;\n",
              "    }\n",
              "</style>\n",
              "<table border=\"1\" class=\"dataframe\">\n",
              "  <thead>\n",
              "    <tr style=\"text-align: right;\">\n",
              "      <th></th>\n",
              "      <th>CRASH_RECORD_ID</th>\n",
              "      <th>CRASH_YEAR</th>\n",
              "      <th>POSTED_SPEED_LIMIT</th>\n",
              "      <th>DEVICE_CONDITION</th>\n",
              "      <th>WEATHER_CONDITION</th>\n",
              "      <th>LIGHTING_CONDITION</th>\n",
              "      <th>CRASH_TYPE</th>\n",
              "      <th>INTERSECTION_RELATED_I</th>\n",
              "      <th>ROAD_DEFECT</th>\n",
              "      <th>PRIM_CONTRIBUTORY_CAUSE</th>\n",
              "      <th>...</th>\n",
              "      <th>CRASH_HOUR</th>\n",
              "      <th>CRASH_DAY_OF_WEEK</th>\n",
              "      <th>CRASH_MONTH</th>\n",
              "      <th>LATITUDE</th>\n",
              "      <th>LONGITUDE</th>\n",
              "      <th>VEHICLE_TYPE</th>\n",
              "      <th>MANEUVER</th>\n",
              "      <th>FIRST_CONTACT_POINT</th>\n",
              "      <th>VEHICLE_DEFECT_I</th>\n",
              "      <th>OCCUPANT_CAT</th>\n",
              "    </tr>\n",
              "  </thead>\n",
              "  <tbody>\n",
              "    <tr>\n",
              "      <th>0</th>\n",
              "      <td>79c7a2ce89f446262efd86df3d72d18b04ba487024b7c4...</td>\n",
              "      <td>2019</td>\n",
              "      <td>30</td>\n",
              "      <td>FUNCTIONING PROPERLY</td>\n",
              "      <td>CLEAR</td>\n",
              "      <td>DAY TIME</td>\n",
              "      <td>INJURY AND / OR TOW DUE TO CRASH</td>\n",
              "      <td>Y</td>\n",
              "      <td>NO DEFECTS</td>\n",
              "      <td>RECKLESS/IMPROPER DRIVING</td>\n",
              "      <td>...</td>\n",
              "      <td>14</td>\n",
              "      <td>2</td>\n",
              "      <td>3</td>\n",
              "      <td>41.884547</td>\n",
              "      <td>-87.641201</td>\n",
              "      <td>REGULAR PERSONAL</td>\n",
              "      <td>TURNING</td>\n",
              "      <td>FRONT</td>\n",
              "      <td>N</td>\n",
              "      <td>1-2</td>\n",
              "    </tr>\n",
              "    <tr>\n",
              "      <th>1</th>\n",
              "      <td>79c7a2ce89f446262efd86df3d72d18b04ba487024b7c4...</td>\n",
              "      <td>2019</td>\n",
              "      <td>30</td>\n",
              "      <td>FUNCTIONING PROPERLY</td>\n",
              "      <td>CLEAR</td>\n",
              "      <td>DAY TIME</td>\n",
              "      <td>INJURY AND / OR TOW DUE TO CRASH</td>\n",
              "      <td>Y</td>\n",
              "      <td>NO DEFECTS</td>\n",
              "      <td>RECKLESS/IMPROPER DRIVING</td>\n",
              "      <td>...</td>\n",
              "      <td>14</td>\n",
              "      <td>2</td>\n",
              "      <td>3</td>\n",
              "      <td>41.884547</td>\n",
              "      <td>-87.641201</td>\n",
              "      <td>REGULAR PERSONAL</td>\n",
              "      <td>STRAIGHT</td>\n",
              "      <td>FRONT</td>\n",
              "      <td>N</td>\n",
              "      <td>1-2</td>\n",
              "    </tr>\n",
              "    <tr>\n",
              "      <th>2</th>\n",
              "      <td>7b3545fb91352d7fc46ba142d9044a5508671db4d01d02...</td>\n",
              "      <td>2020</td>\n",
              "      <td>25</td>\n",
              "      <td>FUNCTIONING PROPERLY</td>\n",
              "      <td>CLEAR</td>\n",
              "      <td>DAY TIME</td>\n",
              "      <td>INJURY AND / OR TOW DUE TO CRASH</td>\n",
              "      <td>Y</td>\n",
              "      <td>NO DEFECTS</td>\n",
              "      <td>TRAFFIC RULES VIOLATED</td>\n",
              "      <td>...</td>\n",
              "      <td>11</td>\n",
              "      <td>4</td>\n",
              "      <td>7</td>\n",
              "      <td>41.876850</td>\n",
              "      <td>-87.745294</td>\n",
              "      <td>COMMERCIAL</td>\n",
              "      <td>START/STOP</td>\n",
              "      <td>NONE</td>\n",
              "      <td>U</td>\n",
              "      <td>1-2</td>\n",
              "    </tr>\n",
              "    <tr>\n",
              "      <th>3</th>\n",
              "      <td>03d3679ef44bb8aa0f2060cb0376f3eeb1d9dbb2197322...</td>\n",
              "      <td>2022</td>\n",
              "      <td>30</td>\n",
              "      <td>FUNCTIONING PROPERLY</td>\n",
              "      <td>NOT CLEAR</td>\n",
              "      <td>DAY TIME</td>\n",
              "      <td>INJURY AND / OR TOW DUE TO CRASH</td>\n",
              "      <td>Y</td>\n",
              "      <td>NO DEFECTS</td>\n",
              "      <td>TRAFFIC RULES VIOLATED</td>\n",
              "      <td>...</td>\n",
              "      <td>16</td>\n",
              "      <td>6</td>\n",
              "      <td>7</td>\n",
              "      <td>41.855974</td>\n",
              "      <td>-87.663860</td>\n",
              "      <td>REGULAR PERSONAL</td>\n",
              "      <td>TURNING</td>\n",
              "      <td>OTHER</td>\n",
              "      <td>U</td>\n",
              "      <td>1-2</td>\n",
              "    </tr>\n",
              "    <tr>\n",
              "      <th>4</th>\n",
              "      <td>79704e1b747fbf5f740f1255785934dfe659ff910d4782...</td>\n",
              "      <td>2019</td>\n",
              "      <td>30</td>\n",
              "      <td>FUNCTIONING PROPERLY</td>\n",
              "      <td>CLEAR</td>\n",
              "      <td>DAY TIME</td>\n",
              "      <td>INJURY AND / OR TOW DUE TO CRASH</td>\n",
              "      <td>N</td>\n",
              "      <td>NO DEFECTS</td>\n",
              "      <td>RECKLESS/IMPROPER DRIVING</td>\n",
              "      <td>...</td>\n",
              "      <td>14</td>\n",
              "      <td>6</td>\n",
              "      <td>6</td>\n",
              "      <td>41.867502</td>\n",
              "      <td>-87.627568</td>\n",
              "      <td>UNKNOWN/NA</td>\n",
              "      <td>UNKNOWN/NA</td>\n",
              "      <td>OTHER</td>\n",
              "      <td>U</td>\n",
              "      <td>1-2</td>\n",
              "    </tr>\n",
              "  </tbody>\n",
              "</table>\n",
              "<p>5 rows × 25 columns</p>\n",
              "</div>\n",
              "      <button class=\"colab-df-convert\" onclick=\"convertToInteractive('df-41787adc-b615-49c6-82e4-e72cb48d0ba9')\"\n",
              "              title=\"Convert this dataframe to an interactive table.\"\n",
              "              style=\"display:none;\">\n",
              "        \n",
              "  <svg xmlns=\"http://www.w3.org/2000/svg\" height=\"24px\"viewBox=\"0 0 24 24\"\n",
              "       width=\"24px\">\n",
              "    <path d=\"M0 0h24v24H0V0z\" fill=\"none\"/>\n",
              "    <path d=\"M18.56 5.44l.94 2.06.94-2.06 2.06-.94-2.06-.94-.94-2.06-.94 2.06-2.06.94zm-11 1L8.5 8.5l.94-2.06 2.06-.94-2.06-.94L8.5 2.5l-.94 2.06-2.06.94zm10 10l.94 2.06.94-2.06 2.06-.94-2.06-.94-.94-2.06-.94 2.06-2.06.94z\"/><path d=\"M17.41 7.96l-1.37-1.37c-.4-.4-.92-.59-1.43-.59-.52 0-1.04.2-1.43.59L10.3 9.45l-7.72 7.72c-.78.78-.78 2.05 0 2.83L4 21.41c.39.39.9.59 1.41.59.51 0 1.02-.2 1.41-.59l7.78-7.78 2.81-2.81c.8-.78.8-2.07 0-2.86zM5.41 20L4 18.59l7.72-7.72 1.47 1.35L5.41 20z\"/>\n",
              "  </svg>\n",
              "      </button>\n",
              "      \n",
              "  <style>\n",
              "    .colab-df-container {\n",
              "      display:flex;\n",
              "      flex-wrap:wrap;\n",
              "      gap: 12px;\n",
              "    }\n",
              "\n",
              "    .colab-df-convert {\n",
              "      background-color: #E8F0FE;\n",
              "      border: none;\n",
              "      border-radius: 50%;\n",
              "      cursor: pointer;\n",
              "      display: none;\n",
              "      fill: #1967D2;\n",
              "      height: 32px;\n",
              "      padding: 0 0 0 0;\n",
              "      width: 32px;\n",
              "    }\n",
              "\n",
              "    .colab-df-convert:hover {\n",
              "      background-color: #E2EBFA;\n",
              "      box-shadow: 0px 1px 2px rgba(60, 64, 67, 0.3), 0px 1px 3px 1px rgba(60, 64, 67, 0.15);\n",
              "      fill: #174EA6;\n",
              "    }\n",
              "\n",
              "    [theme=dark] .colab-df-convert {\n",
              "      background-color: #3B4455;\n",
              "      fill: #D2E3FC;\n",
              "    }\n",
              "\n",
              "    [theme=dark] .colab-df-convert:hover {\n",
              "      background-color: #434B5C;\n",
              "      box-shadow: 0px 1px 3px 1px rgba(0, 0, 0, 0.15);\n",
              "      filter: drop-shadow(0px 1px 2px rgba(0, 0, 0, 0.3));\n",
              "      fill: #FFFFFF;\n",
              "    }\n",
              "  </style>\n",
              "\n",
              "      <script>\n",
              "        const buttonEl =\n",
              "          document.querySelector('#df-41787adc-b615-49c6-82e4-e72cb48d0ba9 button.colab-df-convert');\n",
              "        buttonEl.style.display =\n",
              "          google.colab.kernel.accessAllowed ? 'block' : 'none';\n",
              "\n",
              "        async function convertToInteractive(key) {\n",
              "          const element = document.querySelector('#df-41787adc-b615-49c6-82e4-e72cb48d0ba9');\n",
              "          const dataTable =\n",
              "            await google.colab.kernel.invokeFunction('convertToInteractive',\n",
              "                                                     [key], {});\n",
              "          if (!dataTable) return;\n",
              "\n",
              "          const docLinkHtml = 'Like what you see? Visit the ' +\n",
              "            '<a target=\"_blank\" href=https://colab.research.google.com/notebooks/data_table.ipynb>data table notebook</a>'\n",
              "            + ' to learn more about interactive tables.';\n",
              "          element.innerHTML = '';\n",
              "          dataTable['output_type'] = 'display_data';\n",
              "          await google.colab.output.renderOutput(dataTable, element);\n",
              "          const docLink = document.createElement('div');\n",
              "          docLink.innerHTML = docLinkHtml;\n",
              "          element.appendChild(docLink);\n",
              "        }\n",
              "      </script>\n",
              "    </div>\n",
              "  </div>\n",
              "  "
            ]
          },
          "metadata": {},
          "execution_count": 151
        }
      ],
      "source": [
        "#check dataset\n",
        "veh_crsh.head()"
      ],
      "id": "9cd3bf54"
    },
    {
      "cell_type": "code",
      "execution_count": 152,
      "metadata": {
        "colab": {
          "base_uri": "https://localhost:8080/"
        },
        "id": "cb607bce",
        "outputId": "d4d73680-0267-4927-e5a0-caf2618a15a6"
      },
      "outputs": [
        {
          "output_type": "execute_result",
          "data": {
            "text/plain": [
              "129487"
            ]
          },
          "metadata": {},
          "execution_count": 152
        }
      ],
      "source": [
        "#check unique records fr crash reecord ID\n",
        "len(veh_crsh['CRASH_RECORD_ID'].unique())"
      ],
      "id": "cb607bce"
    },
    {
      "cell_type": "code",
      "execution_count": 153,
      "metadata": {
        "colab": {
          "base_uri": "https://localhost:8080/"
        },
        "id": "80e2e488",
        "outputId": "bed65f4f-ee87-4d03-ae84-045fcd0a2ee2"
      },
      "outputs": [
        {
          "output_type": "stream",
          "name": "stdout",
          "text": [
            "120754\n",
            "The ratio of number of crashes to total number of records:  2.072320585653477\n"
          ]
        }
      ],
      "source": [
        "#check difference of unique reecords and total records\n",
        "diff = (len(veh_crsh) - len(veh_crsh['CRASH_RECORD_ID'].unique()))\n",
        "print(diff)\n",
        "\n",
        "#check the ratio to understand the ratio\n",
        "print('The ratio of number of crashes to total number of records: ', len(veh_crsh)/diff)"
      ],
      "id": "80e2e488"
    },
    {
      "cell_type": "markdown",
      "metadata": {
        "id": "7b1c7981"
      },
      "source": [
        "We can see that there are approximately on average 2 vehicles per crash. There are for sure severaal records where crashes took place between a vehicle and a pedestrian or cyclist. The multiple records for the same craash ID represent that there was more than one vehicle involved in a crash.\n",
        "\n",
        "Next we'll clen up the people database and merge it with this one. Then we will deal with the unkown values that we have carried forward from this dataset."
      ],
      "id": "7b1c7981"
    },
    {
      "cell_type": "markdown",
      "metadata": {
        "id": "b13ca729"
      },
      "source": [
        "### People"
      ],
      "id": "b13ca729"
    },
    {
      "cell_type": "markdown",
      "metadata": {
        "id": "25ceefb8"
      },
      "source": [
        "First, lets extract the columns to keep."
      ],
      "id": "25ceefb8"
    },
    {
      "cell_type": "code",
      "execution_count": 154,
      "metadata": {
        "id": "c1a4cae3"
      },
      "outputs": [],
      "source": [
        "#extract columns\n",
        "cln_people = people_df[\n",
        "    ['PERSON_TYPE',\n",
        "    'CRASH_RECORD_ID',\n",
        "    'VEHICLE_ID',\n",
        "    'AGE',\n",
        "    'SAFETY_EQUIPMENT',\n",
        "    'INJURY_CLASSIFICATION',\n",
        "    'DRIVER_ACTION',\n",
        "    'DRIVER_VISION',\n",
        "    'PHYSICAL_CONDITION',\n",
        "    'PEDPEDAL_ACTION',\n",
        "    'BAC_RESULT VALUE']    \n",
        "]"
      ],
      "id": "c1a4cae3"
    },
    {
      "cell_type": "code",
      "execution_count": 155,
      "metadata": {
        "colab": {
          "base_uri": "https://localhost:8080/"
        },
        "id": "7fbd1327",
        "outputId": "7df6eab0-1ce2-431a-f0a2-ce382b03dfdf"
      },
      "outputs": [
        {
          "output_type": "stream",
          "name": "stdout",
          "text": [
            "<class 'pandas.core.frame.DataFrame'>\n",
            "RangeIndex: 1530385 entries, 0 to 1530384\n",
            "Data columns (total 11 columns):\n",
            " #   Column                 Non-Null Count    Dtype  \n",
            "---  ------                 --------------    -----  \n",
            " 0   PERSON_TYPE            1530385 non-null  object \n",
            " 1   CRASH_RECORD_ID        1530385 non-null  object \n",
            " 2   VEHICLE_ID             1500311 non-null  float64\n",
            " 3   AGE                    1085359 non-null  float64\n",
            " 4   SAFETY_EQUIPMENT       1526028 non-null  object \n",
            " 5   INJURY_CLASSIFICATION  1529714 non-null  object \n",
            " 6   DRIVER_ACTION          1218047 non-null  object \n",
            " 7   DRIVER_VISION          1217601 non-null  object \n",
            " 8   PHYSICAL_CONDITION     1218903 non-null  object \n",
            " 9   PEDPEDAL_ACTION        28502 non-null    object \n",
            " 10  BAC_RESULT VALUE       1824 non-null     float64\n",
            "dtypes: float64(3), object(8)\n",
            "memory usage: 128.4+ MB\n"
          ]
        }
      ],
      "source": [
        "#check dataframe info\n",
        "cln_people.info()"
      ],
      "id": "7fbd1327"
    },
    {
      "cell_type": "markdown",
      "metadata": {
        "id": "b2957f1e"
      },
      "source": [
        "There are a few missing records in Vehicle ID but since we are joining on Crash REcord ID, we can ignore these missing records and drop the Vehicle ID column eventually.\n",
        "\n",
        "Lets evaluate the specific Person Type column and correlare whether the data is clean from a perspective of every relevant category"
      ],
      "id": "b2957f1e"
    },
    {
      "cell_type": "code",
      "execution_count": 156,
      "metadata": {
        "colab": {
          "base_uri": "https://localhost:8080/"
        },
        "id": "0e66db60",
        "outputId": "e21b611f-5581-41ee-992e-fb754f438a3e"
      },
      "outputs": [
        {
          "output_type": "execute_result",
          "data": {
            "text/plain": [
              "DRIVER                 1191234\n",
              "PASSENGER               309565\n",
              "PEDESTRIAN               17588\n",
              "BICYCLE                  10478\n",
              "NON-MOTOR VEHICLE         1253\n",
              "NON-CONTACT VEHICLE        267\n",
              "Name: PERSON_TYPE, dtype: int64"
            ]
          },
          "metadata": {},
          "execution_count": 156
        }
      ],
      "source": [
        "cln_people['PERSON_TYPE'].value_counts()"
      ],
      "id": "0e66db60"
    },
    {
      "cell_type": "markdown",
      "metadata": {
        "id": "272b6846"
      },
      "source": [
        "Lets look at the Passenger category. We want to make sure that there is no values in the Driver Action and Driver Visibility columns."
      ],
      "id": "272b6846"
    },
    {
      "cell_type": "code",
      "execution_count": 157,
      "metadata": {
        "colab": {
          "base_uri": "https://localhost:8080/"
        },
        "id": "d3d4fe34",
        "outputId": "c5932e7e-c897-4868-d0eb-40bc7f491ef9"
      },
      "outputs": [
        {
          "output_type": "stream",
          "name": "stdout",
          "text": [
            "<class 'pandas.core.frame.DataFrame'>\n",
            "Int64Index: 309565 entries, 54 to 1530384\n",
            "Data columns (total 11 columns):\n",
            " #   Column                 Non-Null Count   Dtype  \n",
            "---  ------                 --------------   -----  \n",
            " 0   PERSON_TYPE            309565 non-null  object \n",
            " 1   CRASH_RECORD_ID        309565 non-null  object \n",
            " 2   VEHICLE_ID             309565 non-null  float64\n",
            " 3   AGE                    188759 non-null  float64\n",
            " 4   SAFETY_EQUIPMENT       309302 non-null  object \n",
            " 5   INJURY_CLASSIFICATION  309241 non-null  object \n",
            " 6   DRIVER_ACTION          0 non-null       object \n",
            " 7   DRIVER_VISION          0 non-null       object \n",
            " 8   PHYSICAL_CONDITION     0 non-null       object \n",
            " 9   PEDPEDAL_ACTION        0 non-null       object \n",
            " 10  BAC_RESULT VALUE       0 non-null       float64\n",
            "dtypes: float64(3), object(8)\n",
            "memory usage: 28.3+ MB\n"
          ]
        }
      ],
      "source": [
        "#check info for Passenger person type\n",
        "cln_people[cln_people['PERSON_TYPE'] == 'PASSENGER'].info()"
      ],
      "id": "d3d4fe34"
    },
    {
      "cell_type": "markdown",
      "metadata": {
        "id": "b26ed8fe"
      },
      "source": [
        "The data is as was anticipated with no mistakes in the Driver Action and Driver Visbility feature. NExt lets ecplore the Age colum. It has a some missing values which we will have to deal with."
      ],
      "id": "b26ed8fe"
    },
    {
      "cell_type": "code",
      "execution_count": 158,
      "metadata": {
        "colab": {
          "base_uri": "https://localhost:8080/"
        },
        "id": "b9574c64",
        "outputId": "f7333d5c-b782-4bb6-cfb6-d7bccd7ebc32"
      },
      "outputs": [
        {
          "output_type": "execute_result",
          "data": {
            "text/plain": [
              " 25.0     30759\n",
              " 27.0     30617\n",
              " 26.0     30613\n",
              " 28.0     29972\n",
              " 24.0     29722\n",
              "          ...  \n",
              "-40.0         1\n",
              "-47.0         1\n",
              "-49.0         1\n",
              "-177.0        1\n",
              " 106.0        1\n",
              "Name: AGE, Length: 116, dtype: int64"
            ]
          },
          "metadata": {},
          "execution_count": 158
        }
      ],
      "source": [
        "#check value counts\n",
        "cln_people['AGE'].value_counts()"
      ],
      "id": "b9574c64"
    },
    {
      "cell_type": "markdown",
      "metadata": {
        "id": "6c583a34"
      },
      "source": [
        "Looks like there are several negative values as well. These caan be typos and we can use the absolute Mathematics operation t convert them back into positive integers."
      ],
      "id": "6c583a34"
    },
    {
      "cell_type": "code",
      "execution_count": 159,
      "metadata": {
        "colab": {
          "base_uri": "https://localhost:8080/"
        },
        "id": "dc7be0c2",
        "outputId": "fa0cda1f-ccb9-4059-b1ff-24390e258936"
      },
      "outputs": [
        {
          "output_type": "stream",
          "name": "stderr",
          "text": [
            "<ipython-input-159-cbaf058256f5>:2: SettingWithCopyWarning: \n",
            "A value is trying to be set on a copy of a slice from a DataFrame.\n",
            "Try using .loc[row_indexer,col_indexer] = value instead\n",
            "\n",
            "See the caveats in the documentation: https://pandas.pydata.org/pandas-docs/stable/user_guide/indexing.html#returning-a-view-versus-a-copy\n",
            "  cln_people['AGE'] = cln_people['AGE'].abs()\n"
          ]
        }
      ],
      "source": [
        "#convert negative values to positive\n",
        "cln_people['AGE'] = cln_people['AGE'].abs()"
      ],
      "id": "dc7be0c2"
    },
    {
      "cell_type": "code",
      "execution_count": 160,
      "metadata": {
        "colab": {
          "base_uri": "https://localhost:8080/"
        },
        "id": "ed432e4b",
        "outputId": "acc821d2-393e-43c8-bb7a-c0f570c3dfc3"
      },
      "outputs": [
        {
          "output_type": "execute_result",
          "data": {
            "text/plain": [
              "25.0     30759\n",
              "27.0     30617\n",
              "26.0     30613\n",
              "28.0     29972\n",
              "24.0     29722\n",
              "         ...  \n",
              "110.0        5\n",
              "108.0        5\n",
              "105.0        3\n",
              "177.0        1\n",
              "106.0        1\n",
              "Name: AGE, Length: 112, dtype: int64"
            ]
          },
          "metadata": {},
          "execution_count": 160
        }
      ],
      "source": [
        "#check new value counts\n",
        "cln_people['AGE'].value_counts()"
      ],
      "id": "ed432e4b"
    },
    {
      "cell_type": "markdown",
      "metadata": {
        "id": "df6c1ade"
      },
      "source": [
        "The longest a person haas lived in the US is 119 years therefore there are a few age values that don;t seem realistic. As of 2021, the official numbers for the percentage of US population older than 75 was ~6.7%\n",
        "\n",
        "Based on this fact, to increase the confidence in the dataset and remove any possible erros in entering ages, it would be important to limit the ages that we model for. It would be safe to drop records with 75+ ages and still cater to the majority of the population."
      ],
      "id": "df6c1ade"
    },
    {
      "cell_type": "code",
      "execution_count": 161,
      "metadata": {
        "id": "28417daa"
      },
      "outputs": [],
      "source": [
        "#select records with ages less than or equal to 75\n",
        "cln_people = cln_people[cln_people['AGE'] <= 75]"
      ],
      "id": "28417daa"
    },
    {
      "cell_type": "markdown",
      "metadata": {
        "id": "abeed28a"
      },
      "source": [
        "Lets take a look at the filtered out data's disstribution. Ideally, we would see a smaller amount people under the age of 18 because they are mostly passengers or with adults. Vice versa, we should see a hiigher number of people involved in crashes older than 18 years."
      ],
      "id": "abeed28a"
    },
    {
      "cell_type": "code",
      "execution_count": 162,
      "metadata": {
        "colab": {
          "base_uri": "https://localhost:8080/",
          "height": 430
        },
        "id": "4ef45b2c",
        "outputId": "ba1e5336-4a5e-43df-90c2-ef58db8a8147",
        "scrolled": true
      },
      "outputs": [
        {
          "output_type": "display_data",
          "data": {
            "text/plain": [
              "<Figure size 640x480 with 1 Axes>"
            ],
            "image/png": "[encoded data removed]"
          },
          "metadata": {}
        }
      ],
      "source": [
        "#plot a histogram\n",
        "cln_people['AGE'].hist(bins='auto');"
      ],
      "id": "4ef45b2c"
    },
    {
      "cell_type": "markdown",
      "metadata": {
        "id": "67b6eeb8"
      },
      "source": [
        "Now we haave to deal with the missing values for the Age column. There are almost 500k records missing age values. This is a very large number so we can't drop these. We can impute values using the person type column. For drivers, we will use the median age from the records of that specific category."
      ],
      "id": "67b6eeb8"
    },
    {
      "cell_type": "code",
      "execution_count": 163,
      "metadata": {
        "colab": {
          "base_uri": "https://localhost:8080/"
        },
        "id": "b1f03930",
        "outputId": "11744ac5-91af-4774-fdb7-767d4e6dd37a"
      },
      "outputs": [
        {
          "output_type": "stream",
          "name": "stderr",
          "text": [
            "<ipython-input-163-5cefa873a844>:2: SettingWithCopyWarning: \n",
            "A value is trying to be set on a copy of a slice from a DataFrame\n",
            "\n",
            "See the caveats in the documentation: https://pandas.pydata.org/pandas-docs/stable/user_guide/indexing.html#returning-a-view-versus-a-copy\n",
            "  cln_people[cln_people['PERSON_TYPE'] == 'DRIVER']['AGE'].fillna(\n"
          ]
        }
      ],
      "source": [
        "#impute the values of age for the driver person type\n",
        "cln_people[cln_people['PERSON_TYPE'] == 'DRIVER']['AGE'].fillna(\n",
        "                                            cln_people[cln_people['PERSON_TYPE'] == 'DRIVER']['AGE'].median(), \n",
        "                                            inplace= True)"
      ],
      "id": "b1f03930"
    },
    {
      "cell_type": "code",
      "execution_count": 164,
      "metadata": {
        "colab": {
          "base_uri": "https://localhost:8080/"
        },
        "id": "1749fd38",
        "outputId": "8c7ede2f-77f0-428a-9006-016fbfe2d695"
      },
      "outputs": [
        {
          "output_type": "stream",
          "name": "stderr",
          "text": [
            "<ipython-input-164-9fef07efa0a4>:2: SettingWithCopyWarning: \n",
            "A value is trying to be set on a copy of a slice from a DataFrame\n",
            "\n",
            "See the caveats in the documentation: https://pandas.pydata.org/pandas-docs/stable/user_guide/indexing.html#returning-a-view-versus-a-copy\n",
            "  cln_people[cln_people['PERSON_TYPE'] == 'PASSENGER']['AGE'].fillna(\n"
          ]
        }
      ],
      "source": [
        "#impute the values of age for the passenger person type\n",
        "cln_people[cln_people['PERSON_TYPE'] == 'PASSENGER']['AGE'].fillna(\n",
        "                                            cln_people[cln_people['PERSON_TYPE'] == 'PASSENGER']['AGE'].median(), \n",
        "                                            inplace= True)"
      ],
      "id": "1749fd38"
    },
    {
      "cell_type": "code",
      "execution_count": 165,
      "metadata": {
        "colab": {
          "base_uri": "https://localhost:8080/"
        },
        "id": "c9dc8946",
        "outputId": "a7c92ceb-7cbf-41af-db3c-31432ee66a3b"
      },
      "outputs": [
        {
          "output_type": "stream",
          "name": "stderr",
          "text": [
            "<ipython-input-165-cc840edc0814>:2: SettingWithCopyWarning: \n",
            "A value is trying to be set on a copy of a slice from a DataFrame\n",
            "\n",
            "See the caveats in the documentation: https://pandas.pydata.org/pandas-docs/stable/user_guide/indexing.html#returning-a-view-versus-a-copy\n",
            "  cln_people[cln_people['PERSON_TYPE'] == 'PEDESTRIAN']['AGE'].fillna(\n"
          ]
        }
      ],
      "source": [
        "#impute the values of age for the pedestrian person type\n",
        "cln_people[cln_people['PERSON_TYPE'] == 'PEDESTRIAN']['AGE'].fillna(\n",
        "                                            cln_people[cln_people['PERSON_TYPE'] == 'PEDESTRIAN']['AGE'].median(), \n",
        "                                            inplace= True)"
      ],
      "id": "c9dc8946"
    },
    {
      "cell_type": "code",
      "execution_count": 166,
      "metadata": {
        "colab": {
          "base_uri": "https://localhost:8080/"
        },
        "id": "0803ecf0",
        "outputId": "1bc0c1ea-4ade-4298-b9ff-ffead4426e03"
      },
      "outputs": [
        {
          "output_type": "stream",
          "name": "stderr",
          "text": [
            "<ipython-input-166-4c6cad64944a>:2: SettingWithCopyWarning: \n",
            "A value is trying to be set on a copy of a slice from a DataFrame\n",
            "\n",
            "See the caveats in the documentation: https://pandas.pydata.org/pandas-docs/stable/user_guide/indexing.html#returning-a-view-versus-a-copy\n",
            "  cln_people[cln_people['PERSON_TYPE'] == 'BICYCLE']['AGE'].fillna(\n"
          ]
        }
      ],
      "source": [
        "#impute the values of age for the biycle person type\n",
        "cln_people[cln_people['PERSON_TYPE'] == 'BICYCLE']['AGE'].fillna(\n",
        "                                                cln_people[cln_people['PERSON_TYPE'] == 'BICYCLE']['AGE'].median(), \n",
        "                                                inplace= True)"
      ],
      "id": "0803ecf0"
    },
    {
      "cell_type": "code",
      "execution_count": 167,
      "metadata": {
        "colab": {
          "base_uri": "https://localhost:8080/"
        },
        "id": "9320450d",
        "outputId": "4916f68c-206d-43c8-a66a-6f084075273d"
      },
      "outputs": [
        {
          "output_type": "stream",
          "name": "stderr",
          "text": [
            "<ipython-input-167-a94c76633dbd>:2: SettingWithCopyWarning: \n",
            "A value is trying to be set on a copy of a slice from a DataFrame\n",
            "\n",
            "See the caveats in the documentation: https://pandas.pydata.org/pandas-docs/stable/user_guide/indexing.html#returning-a-view-versus-a-copy\n",
            "  cln_people[cln_people['PERSON_TYPE'] == 'NON-MOTOR VEHICLE']['AGE'].fillna(\n"
          ]
        }
      ],
      "source": [
        "#impute the values of age for the NON-MOTOR VEHICLE person type\n",
        "cln_people[cln_people['PERSON_TYPE'] == 'NON-MOTOR VEHICLE']['AGE'].fillna(\n",
        "                                    cln_people[cln_people['PERSON_TYPE'] == 'NON-MOTOR VEHICLE']['AGE'].median(), \n",
        "                                    inplace= True)"
      ],
      "id": "9320450d"
    },
    {
      "cell_type": "code",
      "execution_count": 168,
      "metadata": {
        "colab": {
          "base_uri": "https://localhost:8080/"
        },
        "id": "d13d0544",
        "outputId": "bd0f4c71-2a62-414f-8377-4e93f269cbcb"
      },
      "outputs": [
        {
          "output_type": "stream",
          "name": "stderr",
          "text": [
            "<ipython-input-168-1eb64ab57a96>:2: SettingWithCopyWarning: \n",
            "A value is trying to be set on a copy of a slice from a DataFrame\n",
            "\n",
            "See the caveats in the documentation: https://pandas.pydata.org/pandas-docs/stable/user_guide/indexing.html#returning-a-view-versus-a-copy\n",
            "  cln_people[cln_people['PERSON_TYPE'] == 'NON-CONTACT VEHICLE']['AGE'].fillna(\n"
          ]
        }
      ],
      "source": [
        "#impute the values of age for the NON-CONTACT VEHICLE person type\n",
        "cln_people[cln_people['PERSON_TYPE'] == 'NON-CONTACT VEHICLE']['AGE'].fillna(\n",
        "                                    cln_people[cln_people['PERSON_TYPE'] == 'NON-CONTACT VEHICLE']['AGE'].median(), \n",
        "                                    inplace= True)"
      ],
      "id": "d13d0544"
    },
    {
      "cell_type": "markdown",
      "metadata": {
        "id": "8de557e9"
      },
      "source": [
        "Lets take a look at the distribution again"
      ],
      "id": "8de557e9"
    },
    {
      "cell_type": "code",
      "execution_count": 169,
      "metadata": {
        "colab": {
          "base_uri": "https://localhost:8080/",
          "height": 430
        },
        "id": "314428d9",
        "outputId": "d455a9c7-1ed3-4e64-dde2-961e3a70315f"
      },
      "outputs": [
        {
          "output_type": "display_data",
          "data": {
            "text/plain": [
              "<Figure size 640x480 with 1 Axes>"
            ],
            "image/png": "[encoded data removed]"
          },
          "metadata": {}
        }
      ],
      "source": [
        "#plot the histogram\n",
        "cln_people['AGE'].hist();"
      ],
      "id": "314428d9"
    },
    {
      "cell_type": "code",
      "execution_count": 170,
      "metadata": {
        "colab": {
          "base_uri": "https://localhost:8080/"
        },
        "id": "20942048",
        "outputId": "30ae3bdf-7b78-49f5-c58d-63acdb17cc76"
      },
      "outputs": [
        {
          "output_type": "stream",
          "name": "stdout",
          "text": [
            "<class 'pandas.core.frame.DataFrame'>\n",
            "Int64Index: 1065747 entries, 0 to 1530383\n",
            "Data columns (total 11 columns):\n",
            " #   Column                 Non-Null Count    Dtype  \n",
            "---  ------                 --------------    -----  \n",
            " 0   PERSON_TYPE            1065747 non-null  object \n",
            " 1   CRASH_RECORD_ID        1065747 non-null  object \n",
            " 2   VEHICLE_ID             1040480 non-null  float64\n",
            " 3   AGE                    1065747 non-null  float64\n",
            " 4   SAFETY_EQUIPMENT       1062718 non-null  object \n",
            " 5   INJURY_CLASSIFICATION  1065722 non-null  object \n",
            " 6   DRIVER_ACTION          877978 non-null   object \n",
            " 7   DRIVER_VISION          877639 non-null   object \n",
            " 8   PHYSICAL_CONDITION     878764 non-null   object \n",
            " 9   PEDPEDAL_ACTION        24714 non-null    object \n",
            " 10  BAC_RESULT VALUE       1793 non-null     float64\n",
            "dtypes: float64(3), object(8)\n",
            "memory usage: 97.6+ MB\n"
          ]
        }
      ],
      "source": [
        "#check dataframe info\n",
        "cln_people.info()"
      ],
      "id": "20942048"
    },
    {
      "cell_type": "markdown",
      "metadata": {
        "id": "3405e8dd"
      },
      "source": [
        "Next we will tackle the Safety Equipment column. There are a few missing values which we will explore how to tackle. There are also a lot of categoricaal values in this column. The informaation that we are trying to extract from this column is whether safety equipment was used or not. There are also some unkown values that we have to tackle.\n",
        "\n",
        "We can drop the records with missing values because they are a small perentage of the total and then group the remaining categories. First, lets take a look at the categories in this column."
      ],
      "id": "3405e8dd"
    },
    {
      "cell_type": "code",
      "execution_count": 171,
      "metadata": {
        "id": "4322f4e6"
      },
      "outputs": [],
      "source": [
        "#drop missing values\n",
        "cln_people = cln_people.dropna(subset=['SAFETY_EQUIPMENT'])"
      ],
      "id": "4322f4e6"
    },
    {
      "cell_type": "code",
      "execution_count": 172,
      "metadata": {
        "colab": {
          "base_uri": "https://localhost:8080/"
        },
        "id": "3caac65a",
        "outputId": "9984a15a-2f56-45e1-d892-a06faebf9da6"
      },
      "outputs": [
        {
          "output_type": "stream",
          "name": "stdout",
          "text": [
            "<class 'pandas.core.frame.DataFrame'>\n",
            "Int64Index: 1062718 entries, 0 to 1530383\n",
            "Data columns (total 11 columns):\n",
            " #   Column                 Non-Null Count    Dtype  \n",
            "---  ------                 --------------    -----  \n",
            " 0   PERSON_TYPE            1062718 non-null  object \n",
            " 1   CRASH_RECORD_ID        1062718 non-null  object \n",
            " 2   VEHICLE_ID             1040473 non-null  float64\n",
            " 3   AGE                    1062718 non-null  float64\n",
            " 4   SAFETY_EQUIPMENT       1062718 non-null  object \n",
            " 5   INJURY_CLASSIFICATION  1062707 non-null  object \n",
            " 6   DRIVER_ACTION          876229 non-null   object \n",
            " 7   DRIVER_VISION          876088 non-null   object \n",
            " 8   PHYSICAL_CONDITION     876429 non-null   object \n",
            " 9   PEDPEDAL_ACTION        21735 non-null    object \n",
            " 10  BAC_RESULT VALUE       1792 non-null     float64\n",
            "dtypes: float64(3), object(8)\n",
            "memory usage: 97.3+ MB\n"
          ]
        }
      ],
      "source": [
        "#check info\n",
        "cln_people.info()"
      ],
      "id": "3caac65a"
    },
    {
      "cell_type": "code",
      "execution_count": 173,
      "metadata": {
        "colab": {
          "base_uri": "https://localhost:8080/"
        },
        "id": "b15fa3c3",
        "outputId": "21bea4d3-51aa-4b57-ccf1-407f2d2c4682",
        "scrolled": true
      },
      "outputs": [
        {
          "output_type": "execute_result",
          "data": {
            "text/plain": [
              "SAFETY BELT USED                              641119\n",
              "USAGE UNKNOWN                                 354429\n",
              "NONE PRESENT                                   38030\n",
              "SAFETY BELT NOT USED                            6816\n",
              "CHILD RESTRAINT USED                            5894\n",
              "HELMET NOT USED                                 5534\n",
              "CHILD RESTRAINT - FORWARD FACING                2490\n",
              "BICYCLE HELMET (PEDACYCLIST INVOLVED ONLY)      2129\n",
              "CHILD RESTRAINT - REAR FACING                   1278\n",
              "CHILD RESTRAINT - TYPE UNKNOWN                  1273\n",
              "HELMET USED                                     1267\n",
              "DOT COMPLIANT MOTORCYCLE HELMET                  857\n",
              "BOOSTER SEAT                                     730\n",
              "CHILD RESTRAINT NOT USED                         395\n",
              "NOT DOT COMPLIANT MOTORCYCLE HELMET              133\n",
              "SHOULD/LAP BELT USED IMPROPERLY                  129\n",
              "WHEELCHAIR                                       109\n",
              "CHILD RESTRAINT USED IMPROPERLY                   89\n",
              "STRETCHER                                         17\n",
              "Name: SAFETY_EQUIPMENT, dtype: int64"
            ]
          },
          "metadata": {},
          "execution_count": 173
        }
      ],
      "source": [
        "#check value counts\n",
        "cln_people['SAFETY_EQUIPMENT'].value_counts()"
      ],
      "id": "b15fa3c3"
    },
    {
      "cell_type": "code",
      "execution_count": 174,
      "metadata": {
        "id": "168aefad"
      },
      "outputs": [],
      "source": [
        "#create a lists of categories for Indication thta Safety equipment was used\n",
        "sf_equip = ['SAFETY BELT USED', 'CHILD RESTRAINT USED', 'CHILD RESTRAINT - FORWARD FACING', \n",
        "            'BICYCLE HELMET (PEDACYCLIST INVOLVED ONLY)', 'CHILD RESTRAINT - TYPE UNKNOWN',\n",
        "           'CHILD RESTRAINT - REAR FACING', 'HELMET USED', 'DOT COMPLIANT MOTORCYCLE HELMET',\n",
        "           'BOOSTER SEAT', 'WHEELCHAIR', 'STRETCHER']\n",
        "\n",
        "#set up a lambda functin for grouping categories into 2 bins:\n",
        "#Equipment Used and Not Used/Misused\n",
        "f1 = (lambda x: 'SAFETY EQUIPMENT USED' if x in sf_equip \n",
        "      else ('USAGE UNKNOWN' if x =='USAGE UNKNOWN' else 'SAFETY EQUIPMENT MISSING/MISUSED'))"
      ],
      "id": "168aefad"
    },
    {
      "cell_type": "code",
      "execution_count": 175,
      "metadata": {
        "id": "151df2c8"
      },
      "outputs": [],
      "source": [
        "#bin ccategories\n",
        "cln_people['SAFETY_EQUIPMENT'] = cln_people['SAFETY_EQUIPMENT'].map(f1)"
      ],
      "id": "151df2c8"
    },
    {
      "cell_type": "code",
      "execution_count": 176,
      "metadata": {
        "colab": {
          "base_uri": "https://localhost:8080/"
        },
        "id": "546e6870",
        "outputId": "d1e76655-5602-4dee-d266-eb044eacaf7c"
      },
      "outputs": [
        {
          "output_type": "execute_result",
          "data": {
            "text/plain": [
              "SAFETY EQUIPMENT USED               657163\n",
              "USAGE UNKNOWN                       354429\n",
              "SAFETY EQUIPMENT MISSING/MISUSED     51126\n",
              "Name: SAFETY_EQUIPMENT, dtype: int64"
            ]
          },
          "metadata": {},
          "execution_count": 176
        }
      ],
      "source": [
        "cln_people['SAFETY_EQUIPMENT'].value_counts()"
      ],
      "id": "546e6870"
    },
    {
      "cell_type": "markdown",
      "metadata": {
        "id": "f1a30b1d"
      },
      "source": [
        "We will keep the Usage Unkown category for now since it is a large chunk of the dataset and reevaluate after merging to see how to deal with it."
      ],
      "id": "f1a30b1d"
    },
    {
      "cell_type": "markdown",
      "metadata": {
        "id": "7d8ecc58"
      },
      "source": [
        "Neext is Injury Classifiation which also has a come missing values. The purpose of this column is to understand whether there was any injury/fatality or not. Therefore we will grooup categories accordingly. First, Lets check the value contents and go from there. "
      ],
      "id": "7d8ecc58"
    },
    {
      "cell_type": "code",
      "execution_count": 177,
      "metadata": {
        "colab": {
          "base_uri": "https://localhost:8080/"
        },
        "id": "ae1e1b7c",
        "outputId": "50fe46cc-300e-4cfb-91d3-3e2daaa098bc"
      },
      "outputs": [
        {
          "output_type": "execute_result",
          "data": {
            "text/plain": [
              "NO INDICATION OF INJURY     947526\n",
              "NONINCAPACITATING INJURY     64936\n",
              "REPORTED, NOT EVIDENT        37511\n",
              "INCAPACITATING INJURY        12085\n",
              "FATAL                          649\n",
              "Name: INJURY_CLASSIFICATION, dtype: int64"
            ]
          },
          "metadata": {},
          "execution_count": 177
        }
      ],
      "source": [
        "#checkk value counts\n",
        "cln_people['INJURY_CLASSIFICATION'].value_counts()"
      ],
      "id": "ae1e1b7c"
    },
    {
      "cell_type": "markdown",
      "metadata": {
        "id": "84573cb5"
      },
      "source": [
        "We can group together the multiple categories into 2 categories of Injury and No Injury. \n",
        "\n",
        "Also, we can assume that an injury is something that is very evident and involves emeergency responsee in crashes. For missing values, we can impute the values with No Indication of Injury."
      ],
      "id": "84573cb5"
    },
    {
      "cell_type": "code",
      "execution_count": 178,
      "metadata": {
        "id": "303d3ab8"
      },
      "outputs": [],
      "source": [
        "#impute missing values\n",
        "cln_people['INJURY_CLASSIFICATION'].fillna('NO INDICATION OF INJURY',inplace=True)"
      ],
      "id": "303d3ab8"
    },
    {
      "cell_type": "code",
      "execution_count": 179,
      "metadata": {
        "id": "5f101fa4"
      },
      "outputs": [],
      "source": [
        "#bin categories\n",
        "\n",
        "#INJURY\n",
        "cln_people['INJURY_CLASSIFICATION'].replace(['NONINCAPACITATING INJURY', 'REPORTED, NOT EVIDENT',\n",
        "                                             'INCAPACITATING INJURY', 'FATAL'\n",
        "                                            ], 'INJUIRY', inplace=True)"
      ],
      "id": "5f101fa4"
    },
    {
      "cell_type": "code",
      "execution_count": 180,
      "metadata": {
        "colab": {
          "base_uri": "https://localhost:8080/"
        },
        "id": "244345d7",
        "outputId": "3c75b239-0f62-4b0c-d19d-73c6885b89b2"
      },
      "outputs": [
        {
          "output_type": "execute_result",
          "data": {
            "text/plain": [
              "NO INDICATION OF INJURY    947537\n",
              "INJUIRY                    115181\n",
              "Name: INJURY_CLASSIFICATION, dtype: int64"
            ]
          },
          "metadata": {},
          "execution_count": 180
        }
      ],
      "source": [
        "#check new value counts\n",
        "cln_people['INJURY_CLASSIFICATION'].value_counts()"
      ],
      "id": "244345d7"
    },
    {
      "cell_type": "code",
      "execution_count": 181,
      "metadata": {
        "colab": {
          "base_uri": "https://localhost:8080/"
        },
        "id": "249ccf6e",
        "outputId": "564c3c6d-c602-4b04-957d-d4bdae502bfa"
      },
      "outputs": [
        {
          "output_type": "stream",
          "name": "stdout",
          "text": [
            "<class 'pandas.core.frame.DataFrame'>\n",
            "Int64Index: 1062718 entries, 0 to 1530383\n",
            "Data columns (total 11 columns):\n",
            " #   Column                 Non-Null Count    Dtype  \n",
            "---  ------                 --------------    -----  \n",
            " 0   PERSON_TYPE            1062718 non-null  object \n",
            " 1   CRASH_RECORD_ID        1062718 non-null  object \n",
            " 2   VEHICLE_ID             1040473 non-null  float64\n",
            " 3   AGE                    1062718 non-null  float64\n",
            " 4   SAFETY_EQUIPMENT       1062718 non-null  object \n",
            " 5   INJURY_CLASSIFICATION  1062718 non-null  object \n",
            " 6   DRIVER_ACTION          876229 non-null   object \n",
            " 7   DRIVER_VISION          876088 non-null   object \n",
            " 8   PHYSICAL_CONDITION     876429 non-null   object \n",
            " 9   PEDPEDAL_ACTION        21735 non-null    object \n",
            " 10  BAC_RESULT VALUE       1792 non-null     float64\n",
            "dtypes: float64(3), object(8)\n",
            "memory usage: 97.3+ MB\n"
          ]
        }
      ],
      "source": [
        "#check info\n",
        "cln_people.info()"
      ],
      "id": "249ccf6e"
    },
    {
      "cell_type": "markdown",
      "metadata": {
        "id": "7fbcff25"
      },
      "source": [
        "Lets check the Driver Action Column next. We saw earlier that the Pedestrian Person Type didn't have any values for this column. Lets explore whhat the division of person types is for the missing values in the Driver Action column."
      ],
      "id": "7fbcff25"
    },
    {
      "cell_type": "code",
      "execution_count": 182,
      "metadata": {
        "colab": {
          "base_uri": "https://localhost:8080/"
        },
        "id": "776267b8",
        "outputId": "60f73ee7-4140-48e8-deb6-42e96c14217a"
      },
      "outputs": [
        {
          "output_type": "execute_result",
          "data": {
            "text/plain": [
              "DRIVER                 854811\n",
              "PASSENGER              185993\n",
              "PEDESTRIAN              12764\n",
              "BICYCLE                  8792\n",
              "NON-MOTOR VEHICLE         277\n",
              "NON-CONTACT VEHICLE        81\n",
              "Name: PERSON_TYPE, dtype: int64"
            ]
          },
          "metadata": {},
          "execution_count": 182
        }
      ],
      "source": [
        "#check person type vaalue counts\n",
        "cln_people.PERSON_TYPE.value_counts()"
      ],
      "id": "776267b8"
    },
    {
      "cell_type": "code",
      "execution_count": 183,
      "metadata": {
        "colab": {
          "base_uri": "https://localhost:8080/"
        },
        "id": "4ea58ef9",
        "outputId": "c16ae2ae-2e6c-4544-ca7c-6011bf169153"
      },
      "outputs": [
        {
          "output_type": "execute_result",
          "data": {
            "text/plain": [
              "PASSENGER            185993\n",
              "PEDESTRIAN              400\n",
              "BICYCLE                  89\n",
              "NON-MOTOR VEHICLE         7\n",
              "Name: PERSON_TYPE, dtype: int64"
            ]
          },
          "metadata": {},
          "execution_count": 183
        }
      ],
      "source": [
        "#check person type split for driver aactino null values\n",
        "cln_people[cln_people['DRIVER_ACTION'].isnull()].PERSON_TYPE.value_counts()"
      ],
      "id": "4ea58ef9"
    },
    {
      "cell_type": "markdown",
      "metadata": {
        "id": "627a0aff"
      },
      "source": [
        "All the Passenger person type records can be populated with 'Not a Driver' category and the rest can be dropped."
      ],
      "id": "627a0aff"
    },
    {
      "cell_type": "code",
      "execution_count": 184,
      "metadata": {
        "id": "c795daef"
      },
      "outputs": [],
      "source": [
        "#replace the passenger person type null values in driver aaction column with PASSENGER\n",
        "cln_people.loc[cln_people.PERSON_TYPE == 'PASSENGER', 'DRIVER_ACTION'] = cln_people.DRIVER_ACTION.fillna(\n",
        "                                                                                'PASSENGER')"
      ],
      "id": "c795daef"
    },
    {
      "cell_type": "code",
      "execution_count": 185,
      "metadata": {
        "colab": {
          "base_uri": "https://localhost:8080/"
        },
        "id": "ebfd121a",
        "outputId": "6d32e1ce-09e0-41eb-dce7-583f55e9eded"
      },
      "outputs": [
        {
          "output_type": "execute_result",
          "data": {
            "text/plain": [
              "PEDESTRIAN           400\n",
              "BICYCLE               89\n",
              "NON-MOTOR VEHICLE      7\n",
              "Name: PERSON_TYPE, dtype: int64"
            ]
          },
          "metadata": {},
          "execution_count": 185
        }
      ],
      "source": [
        "#check person type split for driver aactino null values\n",
        "cln_people[cln_people['DRIVER_ACTION'].isnull()].PERSON_TYPE.value_counts()"
      ],
      "id": "ebfd121a"
    },
    {
      "cell_type": "code",
      "execution_count": 186,
      "metadata": {
        "id": "2881ae28"
      },
      "outputs": [],
      "source": [
        "#drop records with null values in the Driver Action column\n",
        "cln_people.dropna(subset=['DRIVER_ACTION'],inplace=True)"
      ],
      "id": "2881ae28"
    },
    {
      "cell_type": "code",
      "execution_count": 187,
      "metadata": {
        "colab": {
          "base_uri": "https://localhost:8080/"
        },
        "id": "3b160a85",
        "outputId": "4d32a43b-e1a7-44b6-8958-8aeb4461f7d1",
        "scrolled": true
      },
      "outputs": [
        {
          "output_type": "execute_result",
          "data": {
            "text/plain": [
              "NONE                                 395225\n",
              "PASSENGER                            185993\n",
              "UNKNOWN                              152429\n",
              "OTHER                                 84170\n",
              "FAILED TO YIELD                       78998\n",
              "FOLLOWED TOO CLOSELY                  50961\n",
              "IMPROPER TURN                         22215\n",
              "IMPROPER BACKING                      22027\n",
              "IMPROPER LANE CHANGE                  19951\n",
              "IMPROPER PASSING                      13647\n",
              "DISREGARDED CONTROL DEVICES           13157\n",
              "TOO FAST FOR CONDITIONS               12684\n",
              "WRONG WAY/SIDE                         2716\n",
              "IMPROPER PARKING                       2603\n",
              "OVERCORRECTED                          1513\n",
              "CELL PHONE USE OTHER THAN TEXTING      1343\n",
              "EVADING POLICE VEHICLE                 1148\n",
              "EMERGENCY VEHICLE ON CALL               926\n",
              "TEXTING                                 351\n",
              "STOPPED SCHOOL BUS                      121\n",
              "LICENSE RESTRICTIONS                     44\n",
              "Name: DRIVER_ACTION, dtype: int64"
            ]
          },
          "metadata": {},
          "execution_count": 187
        }
      ],
      "source": [
        "#check new value counts\n",
        "cln_people['DRIVER_ACTION'].value_counts()"
      ],
      "id": "3b160a85"
    },
    {
      "cell_type": "code",
      "execution_count": 188,
      "metadata": {
        "colab": {
          "base_uri": "https://localhost:8080/"
        },
        "id": "422766d1",
        "outputId": "a46d9934-c345-41e4-ceda-b25f115484aa"
      },
      "outputs": [
        {
          "output_type": "stream",
          "name": "stdout",
          "text": [
            "<class 'pandas.core.frame.DataFrame'>\n",
            "Int64Index: 1062222 entries, 0 to 1530383\n",
            "Data columns (total 11 columns):\n",
            " #   Column                 Non-Null Count    Dtype  \n",
            "---  ------                 --------------    -----  \n",
            " 0   PERSON_TYPE            1062222 non-null  object \n",
            " 1   CRASH_RECORD_ID        1062222 non-null  object \n",
            " 2   VEHICLE_ID             1040473 non-null  float64\n",
            " 3   AGE                    1062222 non-null  float64\n",
            " 4   SAFETY_EQUIPMENT       1062222 non-null  object \n",
            " 5   INJURY_CLASSIFICATION  1062222 non-null  object \n",
            " 6   DRIVER_ACTION          1062222 non-null  object \n",
            " 7   DRIVER_VISION          875919 non-null   object \n",
            " 8   PHYSICAL_CONDITION     876134 non-null   object \n",
            " 9   PEDPEDAL_ACTION        21243 non-null    object \n",
            " 10  BAC_RESULT VALUE       1792 non-null     float64\n",
            "dtypes: float64(3), object(8)\n",
            "memory usage: 97.2+ MB\n"
          ]
        }
      ],
      "source": [
        "cln_people.info()"
      ],
      "id": "422766d1"
    },
    {
      "cell_type": "markdown",
      "metadata": {
        "id": "87390639"
      },
      "source": [
        "Next we haave to clean the Driver Vision column. This column also has several missing values which we ssaw earlier can mostly be Passenger person type which can be replaced with the Passenger category. Therefre lets first take a look at the missing values for this column."
      ],
      "id": "87390639"
    },
    {
      "cell_type": "code",
      "execution_count": 189,
      "metadata": {
        "colab": {
          "base_uri": "https://localhost:8080/"
        },
        "id": "8c830d59",
        "outputId": "ace55fe5-c6f0-4c88-b956-adf20fa0c692"
      },
      "outputs": [
        {
          "output_type": "execute_result",
          "data": {
            "text/plain": [
              "PASSENGER            185993\n",
              "PEDESTRIAN              247\n",
              "BICYCLE                  59\n",
              "NON-MOTOR VEHICLE         4\n",
              "Name: PERSON_TYPE, dtype: int64"
            ]
          },
          "metadata": {},
          "execution_count": 189
        }
      ],
      "source": [
        "#check person type split for driver aactino null values\n",
        "cln_people[cln_people['DRIVER_VISION'].isnull()].PERSON_TYPE.value_counts()"
      ],
      "id": "8c830d59"
    },
    {
      "cell_type": "code",
      "execution_count": 190,
      "metadata": {
        "id": "1e393338"
      },
      "outputs": [],
      "source": [
        "#replace the passenger person type null values in driver vision column with PASSENGER\n",
        "cln_people.loc[cln_people.PERSON_TYPE == 'PASSENGER', 'DRIVER_VISION'] = cln_people.DRIVER_VISION.fillna(\n",
        "                                                                                'PASSENGER')"
      ],
      "id": "1e393338"
    },
    {
      "cell_type": "code",
      "execution_count": 191,
      "metadata": {
        "colab": {
          "base_uri": "https://localhost:8080/"
        },
        "id": "73613bd4",
        "outputId": "ae243a31-40e9-47f2-a384-61546d57ddba"
      },
      "outputs": [
        {
          "output_type": "execute_result",
          "data": {
            "text/plain": [
              "PEDESTRIAN           247\n",
              "BICYCLE               59\n",
              "NON-MOTOR VEHICLE      4\n",
              "Name: PERSON_TYPE, dtype: int64"
            ]
          },
          "metadata": {},
          "execution_count": 191
        }
      ],
      "source": [
        "#check person type split for driver vision null values\n",
        "cln_people[cln_people['DRIVER_VISION'].isnull()].PERSON_TYPE.value_counts()"
      ],
      "id": "73613bd4"
    },
    {
      "cell_type": "code",
      "execution_count": 192,
      "metadata": {
        "id": "cebf7352"
      },
      "outputs": [],
      "source": [
        "#drop the other records with the missing values becaue they are a very small percentage of the total dataset\n",
        "#drop records with null values in the Driver Vision column\n",
        "cln_people.dropna(subset=['DRIVER_VISION'],inplace=True)"
      ],
      "id": "cebf7352"
    },
    {
      "cell_type": "code",
      "execution_count": 193,
      "metadata": {
        "colab": {
          "base_uri": "https://localhost:8080/"
        },
        "id": "2fbded03",
        "outputId": "e08260af-58c2-4ee4-b602-deade12c1306"
      },
      "outputs": [
        {
          "output_type": "execute_result",
          "data": {
            "text/plain": [
              "0"
            ]
          },
          "metadata": {},
          "execution_count": 193
        }
      ],
      "source": [
        "#check total number of remaining null values in driver vision column\n",
        "#should be zero\n",
        "cln_people['DRIVER_VISION'].isnull().sum()"
      ],
      "id": "2fbded03"
    },
    {
      "cell_type": "markdown",
      "metadata": {
        "id": "2cb9d586"
      },
      "source": [
        "The purpose of this column is to understand whether obstructed driver vision played a part in the crash or not. We can Group the different categories into two main bins; 1. Obscured, 2. Not Obscured"
      ],
      "id": "2cb9d586"
    },
    {
      "cell_type": "code",
      "execution_count": 194,
      "metadata": {
        "colab": {
          "base_uri": "https://localhost:8080/"
        },
        "id": "6411bd2e",
        "outputId": "b647b97e-9f89-48d1-cdd3-1bbe492ae98f"
      },
      "outputs": [
        {
          "output_type": "execute_result",
          "data": {
            "text/plain": [
              "NOT OBSCURED              580090\n",
              "UNKNOWN                   268389\n",
              "PASSENGER                 185993\n",
              "OTHER                      10936\n",
              "MOVING VEHICLES             6659\n",
              "PARKED VEHICLES             4106\n",
              "WINDSHIELD (WATER/ICE)      3144\n",
              "BLINDED - SUNLIGHT          1330\n",
              "TREES, PLANTS                497\n",
              "BUILDINGS                    401\n",
              "BLINDED - HEADLIGHTS         105\n",
              "HILLCREST                     89\n",
              "BLOWING MATERIALS             75\n",
              "EMBANKMENT                    68\n",
              "SIGNBOARD                     30\n",
              "Name: DRIVER_VISION, dtype: int64"
            ]
          },
          "metadata": {},
          "execution_count": 194
        }
      ],
      "source": [
        "#check value counts\n",
        "cln_people['DRIVER_VISION'].value_counts()"
      ],
      "id": "6411bd2e"
    },
    {
      "cell_type": "code",
      "execution_count": 195,
      "metadata": {
        "id": "8b9c815c"
      },
      "outputs": [],
      "source": [
        "#bin category\n",
        "cln_people['DRIVER_VISION'].replace(['MOVING VEHICLES',\n",
        "                                    'PARKED VEHICLES',\n",
        "                                    'WINDSHIELD (WATER/ICE)',\n",
        "                                    'BLINDED - SUNLIGHT',\n",
        "                                    'TREES, PLANTS',\n",
        "                                    'BUILDINGS',\n",
        "                                    'BLINDED - HEADLIGHTS',\n",
        "                                    'HILLCREST',\n",
        "                                    'BLOWING MATERIALS',\n",
        "                                    'EMBANKMENT',\n",
        "                                    'SIGNBOARD', 'OTHER'], 'OBSCURED', inplace=True)"
      ],
      "id": "8b9c815c"
    },
    {
      "cell_type": "code",
      "execution_count": 196,
      "metadata": {
        "colab": {
          "base_uri": "https://localhost:8080/"
        },
        "id": "d6d0e798",
        "outputId": "bf43db85-6565-4230-ab28-8f668a4c8fcc"
      },
      "outputs": [
        {
          "output_type": "execute_result",
          "data": {
            "text/plain": [
              "NOT OBSCURED    580090\n",
              "UNKNOWN         268389\n",
              "PASSENGER       185993\n",
              "OBSCURED         27440\n",
              "Name: DRIVER_VISION, dtype: int64"
            ]
          },
          "metadata": {},
          "execution_count": 196
        }
      ],
      "source": [
        "#check new value counts\n",
        "cln_people['DRIVER_VISION'].value_counts()"
      ],
      "id": "d6d0e798"
    },
    {
      "cell_type": "code",
      "execution_count": 197,
      "metadata": {
        "colab": {
          "base_uri": "https://localhost:8080/"
        },
        "id": "b271124f",
        "outputId": "abadd866-95e7-4e8a-cf20-1c53261edc59"
      },
      "outputs": [
        {
          "output_type": "stream",
          "name": "stdout",
          "text": [
            "<class 'pandas.core.frame.DataFrame'>\n",
            "Int64Index: 1061912 entries, 0 to 1530383\n",
            "Data columns (total 11 columns):\n",
            " #   Column                 Non-Null Count    Dtype  \n",
            "---  ------                 --------------    -----  \n",
            " 0   PERSON_TYPE            1061912 non-null  object \n",
            " 1   CRASH_RECORD_ID        1061912 non-null  object \n",
            " 2   VEHICLE_ID             1040473 non-null  float64\n",
            " 3   AGE                    1061912 non-null  float64\n",
            " 4   SAFETY_EQUIPMENT       1061912 non-null  object \n",
            " 5   INJURY_CLASSIFICATION  1061912 non-null  object \n",
            " 6   DRIVER_ACTION          1061912 non-null  object \n",
            " 7   DRIVER_VISION          1061912 non-null  object \n",
            " 8   PHYSICAL_CONDITION     875872 non-null   object \n",
            " 9   PEDPEDAL_ACTION        20936 non-null    object \n",
            " 10  BAC_RESULT VALUE       1792 non-null     float64\n",
            "dtypes: float64(3), object(8)\n",
            "memory usage: 97.2+ MB\n"
          ]
        }
      ],
      "source": [
        "#check info\n",
        "cln_people.info()"
      ],
      "id": "b271124f"
    },
    {
      "cell_type": "markdown",
      "metadata": {
        "id": "8579b9eb"
      },
      "source": [
        "Next is the Physial Condition Column. We know from previous exploration that Passengers will be the biggest contributors to the missing data in this column because this feature concerns the driver's physical condition at the time of crash. Therefore we will perform similar imputation as in the previoous cases.\n",
        "\n",
        "\n",
        "The primary focus of using this column is to understand whether the driver's condition was impaired or not. Thoose will be the 2 categories that the available categories will be binned as.\n",
        "\n",
        "Also there are multiple catgories in this column, as explored earlier. A big chunk of the data is Unknown. Considering that if the driver's condition would have been explicitlly normal, it would have been obvious, the unknown and other category can be categorized as Impaired."
      ],
      "id": "8579b9eb"
    },
    {
      "cell_type": "code",
      "execution_count": 198,
      "metadata": {
        "colab": {
          "base_uri": "https://localhost:8080/"
        },
        "id": "ed3d9f66",
        "outputId": "2513fb57-ab4a-4cb2-9232-0936c99d391b"
      },
      "outputs": [
        {
          "output_type": "execute_result",
          "data": {
            "text/plain": [
              "PASSENGER              185993\n",
              "PEDESTRIAN                 27\n",
              "BICYCLE                    17\n",
              "NON-MOTOR VEHICLE           2\n",
              "NON-CONTACT VEHICLE         1\n",
              "Name: PERSON_TYPE, dtype: int64"
            ]
          },
          "metadata": {},
          "execution_count": 198
        }
      ],
      "source": [
        "#check person type split for physical condition null values\n",
        "cln_people[cln_people['PHYSICAL_CONDITION'].isnull()].PERSON_TYPE.value_counts()"
      ],
      "id": "ed3d9f66"
    },
    {
      "cell_type": "code",
      "execution_count": 199,
      "metadata": {
        "id": "eebc4e7b"
      },
      "outputs": [],
      "source": [
        "#replace the passenger person type null values in physical condition column with PASSENGER\n",
        "cln_people.loc[cln_people.PERSON_TYPE == 'PASSENGER', 'PHYSICAL_CONDITION'] = cln_people.PHYSICAL_CONDITION.fillna(\n",
        "                                                                                'PASSENGER')"
      ],
      "id": "eebc4e7b"
    },
    {
      "cell_type": "code",
      "execution_count": 200,
      "metadata": {
        "id": "b58e585d"
      },
      "outputs": [],
      "source": [
        "#drop the other records with the missing values becaue they are a very small percentage of the total dataset\n",
        "#drop records with null values in the Physical Condition column\n",
        "cln_people.dropna(subset=['PHYSICAL_CONDITION'],inplace=True)"
      ],
      "id": "b58e585d"
    },
    {
      "cell_type": "code",
      "execution_count": 201,
      "metadata": {
        "colab": {
          "base_uri": "https://localhost:8080/"
        },
        "id": "7756897f",
        "outputId": "25438be3-d50f-4b59-8afa-d756e308b07e"
      },
      "outputs": [
        {
          "output_type": "execute_result",
          "data": {
            "text/plain": [
              "0"
            ]
          },
          "metadata": {},
          "execution_count": 201
        }
      ],
      "source": [
        "#check total number of remaining null values\n",
        "#should be zero\n",
        "cln_people['PHYSICAL_CONDITION'].isnull().sum()"
      ],
      "id": "7756897f"
    },
    {
      "cell_type": "code",
      "execution_count": 202,
      "metadata": {
        "colab": {
          "base_uri": "https://localhost:8080/"
        },
        "id": "df332f21",
        "outputId": "ab4ebf1e-63b7-444c-832a-e1472a397e5d"
      },
      "outputs": [
        {
          "output_type": "execute_result",
          "data": {
            "text/plain": [
              "NORMAL                          735810\n",
              "PASSENGER                       185993\n",
              "UNKNOWN                         119897\n",
              "IMPAIRED - ALCOHOL                5054\n",
              "REMOVED BY EMS                    4016\n",
              "FATIGUED/ASLEEP                   3025\n",
              "OTHER                             2754\n",
              "EMOTIONAL                         2489\n",
              "ILLNESS/FAINTED                   1047\n",
              "HAD BEEN DRINKING                  764\n",
              "IMPAIRED - DRUGS                   585\n",
              "IMPAIRED - ALCOHOL AND DRUGS       291\n",
              "MEDICATED                          140\n",
              "Name: PHYSICAL_CONDITION, dtype: int64"
            ]
          },
          "metadata": {},
          "execution_count": 202
        }
      ],
      "source": [
        "#check value counts\n",
        "cln_people['PHYSICAL_CONDITION'].value_counts()"
      ],
      "id": "df332f21"
    },
    {
      "cell_type": "code",
      "execution_count": 203,
      "metadata": {
        "id": "e63d0df8"
      },
      "outputs": [],
      "source": [
        "#bin caategories\n",
        "cln_people['PHYSICAL_CONDITION'].replace(['IMPAIRED - ALCOHOL',\n",
        "                                    'REMOVED BY EMS',\n",
        "                                    'FATIGUED/ASLEEP',\n",
        "                                    'EMOTIONAL',\n",
        "                                    'ILLNESS/FAINTED',\n",
        "                                    'HAD BEEN DRINKING',\n",
        "                                    'IMPAIRED - DRUGS',\n",
        "                                    'IMPAIRED - ALCOHOL AND DRUGS',\n",
        "                                    'MEDICATED', 'UNKNOWN', 'OTHER'], 'IMPAIRED', inplace=True)"
      ],
      "id": "e63d0df8"
    },
    {
      "cell_type": "code",
      "execution_count": 204,
      "metadata": {
        "colab": {
          "base_uri": "https://localhost:8080/"
        },
        "id": "f37c180c",
        "outputId": "c01f451e-2873-4307-f17d-f3dd37d655dc"
      },
      "outputs": [
        {
          "output_type": "execute_result",
          "data": {
            "text/plain": [
              "NORMAL       735810\n",
              "PASSENGER    185993\n",
              "IMPAIRED     140062\n",
              "Name: PHYSICAL_CONDITION, dtype: int64"
            ]
          },
          "metadata": {},
          "execution_count": 204
        }
      ],
      "source": [
        "#check new value counts\n",
        "cln_people['PHYSICAL_CONDITION'].value_counts()"
      ],
      "id": "f37c180c"
    },
    {
      "cell_type": "code",
      "execution_count": 205,
      "metadata": {
        "colab": {
          "base_uri": "https://localhost:8080/"
        },
        "id": "b1825412",
        "outputId": "90994112-5f31-45cc-feea-d926e28b8c8a"
      },
      "outputs": [
        {
          "output_type": "stream",
          "name": "stdout",
          "text": [
            "<class 'pandas.core.frame.DataFrame'>\n",
            "Int64Index: 1061865 entries, 0 to 1530383\n",
            "Data columns (total 11 columns):\n",
            " #   Column                 Non-Null Count    Dtype  \n",
            "---  ------                 --------------    -----  \n",
            " 0   PERSON_TYPE            1061865 non-null  object \n",
            " 1   CRASH_RECORD_ID        1061865 non-null  object \n",
            " 2   VEHICLE_ID             1040472 non-null  float64\n",
            " 3   AGE                    1061865 non-null  float64\n",
            " 4   SAFETY_EQUIPMENT       1061865 non-null  object \n",
            " 5   INJURY_CLASSIFICATION  1061865 non-null  object \n",
            " 6   DRIVER_ACTION          1061865 non-null  object \n",
            " 7   DRIVER_VISION          1061865 non-null  object \n",
            " 8   PHYSICAL_CONDITION     1061865 non-null  object \n",
            " 9   PEDPEDAL_ACTION        20891 non-null    object \n",
            " 10  BAC_RESULT VALUE       1792 non-null     float64\n",
            "dtypes: float64(3), object(8)\n",
            "memory usage: 97.2+ MB\n"
          ]
        }
      ],
      "source": [
        "#check info\n",
        "cln_people.info()"
      ],
      "id": "b1825412"
    },
    {
      "cell_type": "markdown",
      "metadata": {
        "id": "e8c173e3"
      },
      "source": [
        "Next we look at the PedPEdal Action Column which focuses on the aaction of the pedestriaan or cyclist at the time of crash. There are a lot of missisng but considering that the values in this column are focusing only on Pedestraiaan and bicyclist, it might be posssible that the missing value are drivers and passsengerss.\n",
        "\n",
        "We will evaluate the person type for the null values in this column and then investigate the non null values."
      ],
      "id": "e8c173e3"
    },
    {
      "cell_type": "code",
      "execution_count": 206,
      "metadata": {
        "colab": {
          "base_uri": "https://localhost:8080/"
        },
        "id": "b4416e03",
        "outputId": "56055d20-52ae-4a62-cb86-6407750437fc"
      },
      "outputs": [
        {
          "output_type": "execute_result",
          "data": {
            "text/plain": [
              "DRIVER                 854811\n",
              "PASSENGER              185993\n",
              "PEDESTRIAN              12090\n",
              "BICYCLE                  8627\n",
              "NON-MOTOR VEHICLE         264\n",
              "NON-CONTACT VEHICLE        80\n",
              "Name: PERSON_TYPE, dtype: int64"
            ]
          },
          "metadata": {},
          "execution_count": 206
        }
      ],
      "source": [
        "#check value counts for person type\n",
        "cln_people['PERSON_TYPE'].value_counts()"
      ],
      "id": "b4416e03"
    },
    {
      "cell_type": "code",
      "execution_count": 207,
      "metadata": {
        "colab": {
          "base_uri": "https://localhost:8080/"
        },
        "id": "2343ef3f",
        "outputId": "00c320d2-b589-4c10-c27d-98587cac6155",
        "scrolled": true
      },
      "outputs": [
        {
          "output_type": "execute_result",
          "data": {
            "text/plain": [
              "DRIVER                 854811\n",
              "PASSENGER              185993\n",
              "NON-MOTOR VEHICLE         101\n",
              "NON-CONTACT VEHICLE        68\n",
              "PEDESTRIAN                  1\n",
              "Name: PERSON_TYPE, dtype: int64"
            ]
          },
          "metadata": {},
          "execution_count": 207
        }
      ],
      "source": [
        "#check person type split for physical condition null values\n",
        "cln_people[cln_people['PEDPEDAL_ACTION'].isnull()].PERSON_TYPE.value_counts()"
      ],
      "id": "2343ef3f"
    },
    {
      "cell_type": "markdown",
      "metadata": {
        "id": "b680c286"
      },
      "source": [
        "Looks like most of the non null values are either drivers or passengers which is what was expected. We can replace Drivers and Passengers with their categories explicitly."
      ],
      "id": "b680c286"
    },
    {
      "cell_type": "code",
      "execution_count": 208,
      "metadata": {
        "id": "e7919f69"
      },
      "outputs": [],
      "source": [
        "#replace the passenger person type null values in pedpedal actin column with PASSENGER\n",
        "cln_people.loc[cln_people.PERSON_TYPE == 'PASSENGER', 'PEDPEDAL_ACTION'] = cln_people.PEDPEDAL_ACTION.fillna(\n",
        "                                                                                'PASSENGER')\n",
        "\n",
        "#replace the driver person type null values in pedpedal actin column with DRIVER\n",
        "cln_people.loc[cln_people.PERSON_TYPE == 'DRIVER', 'PEDPEDAL_ACTION'] = cln_people.PEDPEDAL_ACTION.fillna(\n",
        "                                                                                'DRIVER')"
      ],
      "id": "e7919f69"
    },
    {
      "cell_type": "code",
      "execution_count": 209,
      "metadata": {
        "colab": {
          "base_uri": "https://localhost:8080/"
        },
        "id": "a644b2ff",
        "outputId": "7f44b1b7-9008-46d8-82fe-cfa0f62e587a"
      },
      "outputs": [
        {
          "output_type": "execute_result",
          "data": {
            "text/plain": [
              "NON-MOTOR VEHICLE      101\n",
              "NON-CONTACT VEHICLE     68\n",
              "PEDESTRIAN               1\n",
              "Name: PERSON_TYPE, dtype: int64"
            ]
          },
          "metadata": {},
          "execution_count": 209
        }
      ],
      "source": [
        "#check the new person type split for physical condition null values\n",
        "cln_people[cln_people['PEDPEDAL_ACTION'].isnull()].PERSON_TYPE.value_counts()"
      ],
      "id": "a644b2ff"
    },
    {
      "cell_type": "code",
      "execution_count": 210,
      "metadata": {
        "id": "bf294b0c"
      },
      "outputs": [],
      "source": [
        "#drop the remaining missing values\n",
        "cln_people.dropna(subset=['PEDPEDAL_ACTION'],inplace=True)"
      ],
      "id": "bf294b0c"
    },
    {
      "cell_type": "code",
      "execution_count": 211,
      "metadata": {
        "colab": {
          "base_uri": "https://localhost:8080/"
        },
        "id": "ed5f222f",
        "outputId": "48bed638-4cf4-4925-f054-954f99938d08"
      },
      "outputs": [
        {
          "output_type": "execute_result",
          "data": {
            "text/plain": [
              "DRIVER                 854811\n",
              "PASSENGER              185993\n",
              "PEDESTRIAN              12089\n",
              "BICYCLE                  8627\n",
              "NON-MOTOR VEHICLE         163\n",
              "NON-CONTACT VEHICLE        12\n",
              "Name: PERSON_TYPE, dtype: int64"
            ]
          },
          "metadata": {},
          "execution_count": 211
        }
      ],
      "source": [
        "#check the new person type split for physical condition non null values\n",
        "cln_people[cln_people['PEDPEDAL_ACTION'].notnull()].PERSON_TYPE.value_counts()"
      ],
      "id": "ed5f222f"
    },
    {
      "cell_type": "code",
      "execution_count": 212,
      "metadata": {
        "colab": {
          "base_uri": "https://localhost:8080/"
        },
        "id": "beeb1a75",
        "outputId": "263fe640-070b-41cd-ce9f-0638bbd210ed",
        "scrolled": true
      },
      "outputs": [
        {
          "output_type": "execute_result",
          "data": {
            "text/plain": [
              "DRIVER                                               854811\n",
              "PASSENGER                                            185993\n",
              "CROSSING - WITH SIGNAL                                 4346\n",
              "WITH TRAFFIC                                           3682\n",
              "OTHER ACTION                                           2493\n",
              "UNKNOWN/NA                                             2382\n",
              "NO ACTION                                              1190\n",
              "CROSSING - NO CONTROLS (NOT AT INTERSECTION)           1155\n",
              "CROSSING - NO CONTROLS (AT INTERSECTION)               1009\n",
              "CROSSING - AGAINST SIGNAL                               933\n",
              "NOT AT INTERSECTION                                     724\n",
              "AGAINST TRAFFIC                                         637\n",
              "CROSSING - CONTROLS PRESENT (NOT AT INTERSECTION)       585\n",
              "STANDING IN ROADWAY                                     454\n",
              "TURNING LEFT                                            323\n",
              "PARKED VEHICLE                                          245\n",
              "ENTER FROM DRIVE/ALLEY                                  202\n",
              "TURNING RIGHT                                           153\n",
              "WORKING IN ROADWAY                                      134\n",
              "INTOXICATED PED/PEDAL                                   116\n",
              "PLAYING IN ROADWAY                                       85\n",
              "PLAYING/WORKING ON VEHICLE                               14\n",
              "TO/FROM DISABLED VEHICLE                                 13\n",
              "SCHOOL BUS (WITHIN 50 FT.)                                9\n",
              "WAITING FOR SCHOOL BUS                                    7\n",
              "Name: PEDPEDAL_ACTION, dtype: int64"
            ]
          },
          "metadata": {},
          "execution_count": 212
        }
      ],
      "source": [
        "cln_people['PEDPEDAL_ACTION'].value_counts()"
      ],
      "id": "beeb1a75"
    },
    {
      "cell_type": "code",
      "execution_count": 213,
      "metadata": {
        "colab": {
          "base_uri": "https://localhost:8080/"
        },
        "id": "ab310f98",
        "outputId": "dcac7413-fc33-4169-fec2-d096abe76f39"
      },
      "outputs": [
        {
          "output_type": "stream",
          "name": "stdout",
          "text": [
            "<class 'pandas.core.frame.DataFrame'>\n",
            "Int64Index: 1061695 entries, 0 to 1530383\n",
            "Data columns (total 11 columns):\n",
            " #   Column                 Non-Null Count    Dtype  \n",
            "---  ------                 --------------    -----  \n",
            " 0   PERSON_TYPE            1061695 non-null  object \n",
            " 1   CRASH_RECORD_ID        1061695 non-null  object \n",
            " 2   VEHICLE_ID             1040420 non-null  float64\n",
            " 3   AGE                    1061695 non-null  float64\n",
            " 4   SAFETY_EQUIPMENT       1061695 non-null  object \n",
            " 5   INJURY_CLASSIFICATION  1061695 non-null  object \n",
            " 6   DRIVER_ACTION          1061695 non-null  object \n",
            " 7   DRIVER_VISION          1061695 non-null  object \n",
            " 8   PHYSICAL_CONDITION     1061695 non-null  object \n",
            " 9   PEDPEDAL_ACTION        1061695 non-null  object \n",
            " 10  BAC_RESULT VALUE       1792 non-null     float64\n",
            "dtypes: float64(3), object(8)\n",
            "memory usage: 97.2+ MB\n"
          ]
        }
      ],
      "source": [
        "cln_people.info()"
      ],
      "id": "ab310f98"
    },
    {
      "cell_type": "markdown",
      "metadata": {
        "id": "1f6125a6"
      },
      "source": [
        "NExt, we will look at the BAC result value column. This column has a lot of missing values. The main information that we want to extract from this column is identifying whether the driver was intoxicated or not. \n",
        "\n",
        "We will first check the person type splits for the null values in this column and explore further from there."
      ],
      "id": "1f6125a6"
    },
    {
      "cell_type": "code",
      "execution_count": 214,
      "metadata": {
        "colab": {
          "base_uri": "https://localhost:8080/"
        },
        "id": "43325c69",
        "outputId": "a4fc05f3-72f9-44cb-dc8a-5cd28f723414"
      },
      "outputs": [
        {
          "output_type": "execute_result",
          "data": {
            "text/plain": [
              "DRIVER                 854811\n",
              "PASSENGER              185993\n",
              "PEDESTRIAN              12089\n",
              "BICYCLE                  8627\n",
              "NON-MOTOR VEHICLE         163\n",
              "NON-CONTACT VEHICLE        12\n",
              "Name: PERSON_TYPE, dtype: int64"
            ]
          },
          "metadata": {},
          "execution_count": 214
        }
      ],
      "source": [
        "#check value counts for person type\n",
        "cln_people['PERSON_TYPE'].value_counts()"
      ],
      "id": "43325c69"
    },
    {
      "cell_type": "code",
      "execution_count": 215,
      "metadata": {
        "colab": {
          "base_uri": "https://localhost:8080/"
        },
        "id": "5d9dedd3",
        "outputId": "26744540-a8e4-431e-ad3e-835d229c1c74"
      },
      "outputs": [
        {
          "output_type": "execute_result",
          "data": {
            "text/plain": [
              "DRIVER                 853023\n",
              "PASSENGER              185993\n",
              "PEDESTRIAN              12087\n",
              "BICYCLE                  8625\n",
              "NON-MOTOR VEHICLE         163\n",
              "NON-CONTACT VEHICLE        12\n",
              "Name: PERSON_TYPE, dtype: int64"
            ]
          },
          "metadata": {},
          "execution_count": 215
        }
      ],
      "source": [
        "#check the new person type splits\n",
        "cln_people[cln_people['BAC_RESULT VALUE'].isnull()].PERSON_TYPE.value_counts()"
      ],
      "id": "5d9dedd3"
    },
    {
      "cell_type": "code",
      "execution_count": 216,
      "metadata": {
        "colab": {
          "base_uri": "https://localhost:8080/"
        },
        "id": "edee4fe7",
        "outputId": "a6a6b163-8376-4452-b3fc-02ac4f20b07b"
      },
      "outputs": [
        {
          "output_type": "execute_result",
          "data": {
            "text/plain": [
              "DRIVER        1788\n",
              "BICYCLE          2\n",
              "PEDESTRIAN       2\n",
              "Name: PERSON_TYPE, dtype: int64"
            ]
          },
          "metadata": {},
          "execution_count": 216
        }
      ],
      "source": [
        "#check the new person type splits for non null values\n",
        "cln_people[cln_people['BAC_RESULT VALUE'].notnull()].PERSON_TYPE.value_counts()"
      ],
      "id": "edee4fe7"
    },
    {
      "cell_type": "markdown",
      "metadata": {
        "id": "294a5fd0"
      },
      "source": [
        "Looks like the values in this column are for only drivers, biycle and Pedestrians. We will use the values from this column and the general standard to populate aa neew column indicating if the person was intxicated or not."
      ],
      "id": "294a5fd0"
    },
    {
      "cell_type": "code",
      "execution_count": 217,
      "metadata": {
        "colab": {
          "base_uri": "https://localhost:8080/"
        },
        "id": "4a9b57d9",
        "outputId": "d47e29da-a8b3-4c1e-bae9-8b02fcb6b600",
        "scrolled": true
      },
      "outputs": [
        {
          "output_type": "execute_result",
          "data": {
            "text/plain": [
              "0.00    172\n",
              "0.17    127\n",
              "0.18    126\n",
              "0.21    110\n",
              "0.14    102\n",
              "0.20     94\n",
              "0.16     89\n",
              "0.19     83\n",
              "0.15     76\n",
              "0.22     75\n",
              "0.23     69\n",
              "0.12     66\n",
              "0.13     66\n",
              "0.11     64\n",
              "0.24     59\n",
              "0.26     40\n",
              "0.25     39\n",
              "0.10     33\n",
              "0.27     33\n",
              "0.09     31\n",
              "0.28     28\n",
              "0.29     18\n",
              "0.08     18\n",
              "0.03     17\n",
              "0.07     16\n",
              "0.30     16\n",
              "0.04     15\n",
              "0.33     15\n",
              "0.05     10\n",
              "0.32      9\n",
              "0.35      9\n",
              "0.06      8\n",
              "0.02      8\n",
              "0.31      7\n",
              "0.38      6\n",
              "0.34      4\n",
              "0.36      4\n",
              "0.01      3\n",
              "0.39      3\n",
              "0.44      3\n",
              "0.88      2\n",
              "0.45      2\n",
              "0.60      2\n",
              "0.79      2\n",
              "1.00      2\n",
              "0.85      1\n",
              "0.37      1\n",
              "0.67      1\n",
              "0.41      1\n",
              "0.80      1\n",
              "0.95      1\n",
              "0.58      1\n",
              "0.99      1\n",
              "0.47      1\n",
              "0.40      1\n",
              "0.98      1\n",
              "Name: BAC_RESULT VALUE, dtype: int64"
            ]
          },
          "metadata": {},
          "execution_count": 217
        }
      ],
      "source": [
        "#chek value counts\n",
        "cln_people['BAC_RESULT VALUE'].value_counts()"
      ],
      "id": "4a9b57d9"
    },
    {
      "cell_type": "markdown",
      "metadata": {
        "id": "8b72b161"
      },
      "source": [
        "Legally people are not allowed to drive with a BAC greater than 0.8. We will ussee that as our baaseline for categorizing whether a person waas intoxicated or not. \n",
        "\n",
        "We also have some very high values for BAC which do not make sensee considering BAC 0.30% to 0.40%: In this percentage range, you'll likely have alcohol poisoning, a potentially life-threatening condition, and experience loss of consciousness. BAC Over 0.40%: This is a potentially fatal blood alcohol level.\n",
        "\n",
        "Therefore we will drop records with BAC greater than 0.40 beccause it would be nearly impossible for people with that high of a BAC to be on the streets."
      ],
      "id": "8b72b161"
    },
    {
      "cell_type": "code",
      "execution_count": 218,
      "metadata": {
        "id": "67adda6e"
      },
      "outputs": [],
      "source": [
        "#drop records\n",
        "cln_people.drop((cln_people[cln_people['BAC_RESULT VALUE']>0.40].index),inplace=True) "
      ],
      "id": "67adda6e"
    },
    {
      "cell_type": "code",
      "execution_count": 219,
      "metadata": {
        "colab": {
          "base_uri": "https://localhost:8080/"
        },
        "id": "d26dd95d",
        "outputId": "2de4e952-63bc-4a0d-edce-5d02d8d11c82"
      },
      "outputs": [
        {
          "output_type": "execute_result",
          "data": {
            "text/plain": [
              "0.00    172\n",
              "0.17    127\n",
              "0.18    126\n",
              "0.21    110\n",
              "0.14    102\n",
              "0.20     94\n",
              "0.16     89\n",
              "0.19     83\n",
              "0.15     76\n",
              "0.22     75\n",
              "0.23     69\n",
              "0.12     66\n",
              "0.13     66\n",
              "0.11     64\n",
              "0.24     59\n",
              "0.26     40\n",
              "0.25     39\n",
              "0.10     33\n",
              "0.27     33\n",
              "0.09     31\n",
              "0.28     28\n",
              "0.08     18\n",
              "0.29     18\n",
              "0.03     17\n",
              "0.30     16\n",
              "0.07     16\n",
              "0.33     15\n",
              "0.04     15\n",
              "0.05     10\n",
              "0.35      9\n",
              "0.32      9\n",
              "0.02      8\n",
              "0.06      8\n",
              "0.31      7\n",
              "0.38      6\n",
              "0.36      4\n",
              "0.34      4\n",
              "0.39      3\n",
              "0.01      3\n",
              "0.37      1\n",
              "0.40      1\n",
              "Name: BAC_RESULT VALUE, dtype: int64"
            ]
          },
          "metadata": {},
          "execution_count": 219
        }
      ],
      "source": [
        "#check new value counts\n",
        "cln_people['BAC_RESULT VALUE'].value_counts()"
      ],
      "id": "d26dd95d"
    },
    {
      "cell_type": "code",
      "execution_count": 220,
      "metadata": {
        "colab": {
          "base_uri": "https://localhost:8080/",
          "height": 430
        },
        "id": "2110f418",
        "outputId": "def73324-b2e0-4f71-c7cf-22234368bd7e",
        "scrolled": true
      },
      "outputs": [
        {
          "output_type": "display_data",
          "data": {
            "text/plain": [
              "<Figure size 640x480 with 1 Axes>"
            ],
            "image/png": "[encoded data removed]"
          },
          "metadata": {}
        }
      ],
      "source": [
        "cln_people['BAC_RESULT VALUE'].hist(bins='auto');"
      ],
      "id": "2110f418"
    },
    {
      "cell_type": "code",
      "execution_count": 221,
      "metadata": {
        "colab": {
          "base_uri": "https://localhost:8080/"
        },
        "id": "2c1ddea4",
        "outputId": "2c6b4dd0-bc4e-439e-c31f-43964fcc7901"
      },
      "outputs": [
        {
          "output_type": "stream",
          "name": "stderr",
          "text": [
            "<ipython-input-221-f04e5ed22f42>:7: UserWarning: Pandas doesn't allow columns to be created via a new attribute name - see https://pandas.pydata.org/pandas-docs/stable/indexing.html#attribute-access\n",
            "  cln_people.INTOXICATED_I = cln_people['BAC_RESULT VALUE'].map(e)\n"
          ]
        }
      ],
      "source": [
        "#create new column for intoxication indication using BAC results value\n",
        "\n",
        "#create a lambda function for maapping purposes\n",
        "e = lambda x: 'Y' if x > 0.08 else 'N'\n",
        "\n",
        "#map the funtion and create the new column\n",
        "cln_people.INTOXICATED_I = cln_people['BAC_RESULT VALUE'].map(e)"
      ],
      "id": "2c1ddea4"
    },
    {
      "cell_type": "code",
      "execution_count": 222,
      "metadata": {
        "colab": {
          "base_uri": "https://localhost:8080/"
        },
        "id": "60ad8ab6",
        "outputId": "79d2626d-8cfd-4c8f-81ba-8f877073c348"
      },
      "outputs": [
        {
          "output_type": "execute_result",
          "data": {
            "text/plain": [
              "N    1060170\n",
              "Y       1503\n",
              "Name: BAC_RESULT VALUE, dtype: int64"
            ]
          },
          "metadata": {},
          "execution_count": 222
        }
      ],
      "source": [
        "#check value counts\n",
        "cln_people.INTOXICATED_I.value_counts()"
      ],
      "id": "60ad8ab6"
    },
    {
      "cell_type": "code",
      "execution_count": 223,
      "metadata": {
        "id": "6b0bce52"
      },
      "outputs": [],
      "source": [
        "#drop BAC result value column\n",
        "cln_people = cln_people.drop(['BAC_RESULT VALUE'], axis=1)"
      ],
      "id": "6b0bce52"
    },
    {
      "cell_type": "code",
      "execution_count": 224,
      "metadata": {
        "colab": {
          "base_uri": "https://localhost:8080/"
        },
        "id": "eb45845a",
        "outputId": "c5af55b5-68a9-4b5a-8f66-646d7efa09ef"
      },
      "outputs": [
        {
          "output_type": "stream",
          "name": "stdout",
          "text": [
            "<class 'pandas.core.frame.DataFrame'>\n",
            "Int64Index: 1061673 entries, 0 to 1530383\n",
            "Data columns (total 10 columns):\n",
            " #   Column                 Non-Null Count    Dtype  \n",
            "---  ------                 --------------    -----  \n",
            " 0   PERSON_TYPE            1061673 non-null  object \n",
            " 1   CRASH_RECORD_ID        1061673 non-null  object \n",
            " 2   VEHICLE_ID             1040398 non-null  float64\n",
            " 3   AGE                    1061673 non-null  float64\n",
            " 4   SAFETY_EQUIPMENT       1061673 non-null  object \n",
            " 5   INJURY_CLASSIFICATION  1061673 non-null  object \n",
            " 6   DRIVER_ACTION          1061673 non-null  object \n",
            " 7   DRIVER_VISION          1061673 non-null  object \n",
            " 8   PHYSICAL_CONDITION     1061673 non-null  object \n",
            " 9   PEDPEDAL_ACTION        1061673 non-null  object \n",
            "dtypes: float64(2), object(8)\n",
            "memory usage: 89.1+ MB\n"
          ]
        }
      ],
      "source": [
        "cln_people.info()"
      ],
      "id": "eb45845a"
    },
    {
      "cell_type": "code",
      "execution_count": 225,
      "metadata": {
        "id": "e2cbd5f9"
      },
      "outputs": [],
      "source": [
        "#drop vehicle ID column\n",
        "cln_people = cln_people.drop(['VEHICLE_ID'], axis=1)"
      ],
      "id": "e2cbd5f9"
    },
    {
      "cell_type": "markdown",
      "metadata": {
        "id": "d3f4b5b0"
      },
      "source": [
        "Now we can move onto merging the all the daatasets together."
      ],
      "id": "d3f4b5b0"
    },
    {
      "cell_type": "code",
      "execution_count": 226,
      "metadata": {
        "id": "4ea9eb78"
      },
      "outputs": [],
      "source": [
        "# merge veh_crsh with peoples cleaned dataset on crash record id\n",
        "veh_crsh_ppl = pd.merge(veh_crsh, cln_people, how='inner', on='CRASH_RECORD_ID' )"
      ],
      "id": "4ea9eb78"
    },
    {
      "cell_type": "code",
      "execution_count": 227,
      "metadata": {
        "colab": {
          "base_uri": "https://localhost:8080/",
          "height": 560
        },
        "id": "12318a55",
        "outputId": "80f5f6be-86c7-4653-da67-6041fdc35104"
      },
      "outputs": [
        {
          "output_type": "execute_result",
          "data": {
            "text/plain": [
              "                                     CRASH_RECORD_ID  CRASH_YEAR  \\\n",
              "0  79c7a2ce89f446262efd86df3d72d18b04ba487024b7c4...        2019   \n",
              "1  79c7a2ce89f446262efd86df3d72d18b04ba487024b7c4...        2019   \n",
              "2  79c7a2ce89f446262efd86df3d72d18b04ba487024b7c4...        2019   \n",
              "3  79c7a2ce89f446262efd86df3d72d18b04ba487024b7c4...        2019   \n",
              "4  79c7a2ce89f446262efd86df3d72d18b04ba487024b7c4...        2019   \n",
              "\n",
              "   POSTED_SPEED_LIMIT      DEVICE_CONDITION WEATHER_CONDITION  \\\n",
              "0                  30  FUNCTIONING PROPERLY             CLEAR   \n",
              "1                  30  FUNCTIONING PROPERLY             CLEAR   \n",
              "2                  30  FUNCTIONING PROPERLY             CLEAR   \n",
              "3                  30  FUNCTIONING PROPERLY             CLEAR   \n",
              "4                  30  FUNCTIONING PROPERLY             CLEAR   \n",
              "\n",
              "  LIGHTING_CONDITION                        CRASH_TYPE INTERSECTION_RELATED_I  \\\n",
              "0           DAY TIME  INJURY AND / OR TOW DUE TO CRASH                      Y   \n",
              "1           DAY TIME  INJURY AND / OR TOW DUE TO CRASH                      Y   \n",
              "2           DAY TIME  INJURY AND / OR TOW DUE TO CRASH                      Y   \n",
              "3           DAY TIME  INJURY AND / OR TOW DUE TO CRASH                      Y   \n",
              "4           DAY TIME  INJURY AND / OR TOW DUE TO CRASH                      Y   \n",
              "\n",
              "  ROAD_DEFECT    PRIM_CONTRIBUTORY_CAUSE  ...  VEHICLE_DEFECT_I OCCUPANT_CAT  \\\n",
              "0  NO DEFECTS  RECKLESS/IMPROPER DRIVING  ...                 N          1-2   \n",
              "1  NO DEFECTS  RECKLESS/IMPROPER DRIVING  ...                 N          1-2   \n",
              "2  NO DEFECTS  RECKLESS/IMPROPER DRIVING  ...                 N          1-2   \n",
              "3  NO DEFECTS  RECKLESS/IMPROPER DRIVING  ...                 N          1-2   \n",
              "4  NO DEFECTS  RECKLESS/IMPROPER DRIVING  ...                 N          1-2   \n",
              "\n",
              "  PERSON_TYPE   AGE       SAFETY_EQUIPMENT    INJURY_CLASSIFICATION  \\\n",
              "0   PASSENGER  27.0  SAFETY EQUIPMENT USED  NO INDICATION OF INJURY   \n",
              "1      DRIVER  22.0  SAFETY EQUIPMENT USED                  INJUIRY   \n",
              "2      DRIVER  56.0  SAFETY EQUIPMENT USED  NO INDICATION OF INJURY   \n",
              "3   PASSENGER  27.0  SAFETY EQUIPMENT USED  NO INDICATION OF INJURY   \n",
              "4      DRIVER  22.0  SAFETY EQUIPMENT USED                  INJUIRY   \n",
              "\n",
              "   DRIVER_ACTION  DRIVER_VISION  PHYSICAL_CONDITION  PEDPEDAL_ACTION  \n",
              "0      PASSENGER      PASSENGER           PASSENGER        PASSENGER  \n",
              "1  IMPROPER TURN        UNKNOWN              NORMAL           DRIVER  \n",
              "2           NONE   NOT OBSCURED              NORMAL           DRIVER  \n",
              "3      PASSENGER      PASSENGER           PASSENGER        PASSENGER  \n",
              "4  IMPROPER TURN        UNKNOWN              NORMAL           DRIVER  \n",
              "\n",
              "[5 rows x 33 columns]"
            ],
            "text/html": [
              "\n",
              "  <div id=\"df-5b498b15-1444-45c6-8017-82f045046e83\">\n",
              "    <div class=\"colab-df-container\">\n",
              "      <div>\n",
              "<style scoped>\n",
              "    .dataframe tbody tr th:only-of-type {\n",
              "        vertical-align: middle;\n",
              "    }\n",
              "\n",
              "    .dataframe tbody tr th {\n",
              "        vertical-align: top;\n",
              "    }\n",
              "\n",
              "    .dataframe thead th {\n",
              "        text-align: right;\n",
              "    }\n",
              "</style>\n",
              "<table border=\"1\" class=\"dataframe\">\n",
              "  <thead>\n",
              "    <tr style=\"text-align: right;\">\n",
              "      <th></th>\n",
              "      <th>CRASH_RECORD_ID</th>\n",
              "      <th>CRASH_YEAR</th>\n",
              "      <th>POSTED_SPEED_LIMIT</th>\n",
              "      <th>DEVICE_CONDITION</th>\n",
              "      <th>WEATHER_CONDITION</th>\n",
              "      <th>LIGHTING_CONDITION</th>\n",
              "      <th>CRASH_TYPE</th>\n",
              "      <th>INTERSECTION_RELATED_I</th>\n",
              "      <th>ROAD_DEFECT</th>\n",
              "      <th>PRIM_CONTRIBUTORY_CAUSE</th>\n",
              "      <th>...</th>\n",
              "      <th>VEHICLE_DEFECT_I</th>\n",
              "      <th>OCCUPANT_CAT</th>\n",
              "      <th>PERSON_TYPE</th>\n",
              "      <th>AGE</th>\n",
              "      <th>SAFETY_EQUIPMENT</th>\n",
              "      <th>INJURY_CLASSIFICATION</th>\n",
              "      <th>DRIVER_ACTION</th>\n",
              "      <th>DRIVER_VISION</th>\n",
              "      <th>PHYSICAL_CONDITION</th>\n",
              "      <th>PEDPEDAL_ACTION</th>\n",
              "    </tr>\n",
              "  </thead>\n",
              "  <tbody>\n",
              "    <tr>\n",
              "      <th>0</th>\n",
              "      <td>79c7a2ce89f446262efd86df3d72d18b04ba487024b7c4...</td>\n",
              "      <td>2019</td>\n",
              "      <td>30</td>\n",
              "      <td>FUNCTIONING PROPERLY</td>\n",
              "      <td>CLEAR</td>\n",
              "      <td>DAY TIME</td>\n",
              "      <td>INJURY AND / OR TOW DUE TO CRASH</td>\n",
              "      <td>Y</td>\n",
              "      <td>NO DEFECTS</td>\n",
              "      <td>RECKLESS/IMPROPER DRIVING</td>\n",
              "      <td>...</td>\n",
              "      <td>N</td>\n",
              "      <td>1-2</td>\n",
              "      <td>PASSENGER</td>\n",
              "      <td>27.0</td>\n",
              "      <td>SAFETY EQUIPMENT USED</td>\n",
              "      <td>NO INDICATION OF INJURY</td>\n",
              "      <td>PASSENGER</td>\n",
              "      <td>PASSENGER</td>\n",
              "      <td>PASSENGER</td>\n",
              "      <td>PASSENGER</td>\n",
              "    </tr>\n",
              "    <tr>\n",
              "      <th>1</th>\n",
              "      <td>79c7a2ce89f446262efd86df3d72d18b04ba487024b7c4...</td>\n",
              "      <td>2019</td>\n",
              "      <td>30</td>\n",
              "      <td>FUNCTIONING PROPERLY</td>\n",
              "      <td>CLEAR</td>\n",
              "      <td>DAY TIME</td>\n",
              "      <td>INJURY AND / OR TOW DUE TO CRASH</td>\n",
              "      <td>Y</td>\n",
              "      <td>NO DEFECTS</td>\n",
              "      <td>RECKLESS/IMPROPER DRIVING</td>\n",
              "      <td>...</td>\n",
              "      <td>N</td>\n",
              "      <td>1-2</td>\n",
              "      <td>DRIVER</td>\n",
              "      <td>22.0</td>\n",
              "      <td>SAFETY EQUIPMENT USED</td>\n",
              "      <td>INJUIRY</td>\n",
              "      <td>IMPROPER TURN</td>\n",
              "      <td>UNKNOWN</td>\n",
              "      <td>NORMAL</td>\n",
              "      <td>DRIVER</td>\n",
              "    </tr>\n",
              "    <tr>\n",
              "      <th>2</th>\n",
              "      <td>79c7a2ce89f446262efd86df3d72d18b04ba487024b7c4...</td>\n",
              "      <td>2019</td>\n",
              "      <td>30</td>\n",
              "      <td>FUNCTIONING PROPERLY</td>\n",
              "      <td>CLEAR</td>\n",
              "      <td>DAY TIME</td>\n",
              "      <td>INJURY AND / OR TOW DUE TO CRASH</td>\n",
              "      <td>Y</td>\n",
              "      <td>NO DEFECTS</td>\n",
              "      <td>RECKLESS/IMPROPER DRIVING</td>\n",
              "      <td>...</td>\n",
              "      <td>N</td>\n",
              "      <td>1-2</td>\n",
              "      <td>DRIVER</td>\n",
              "      <td>56.0</td>\n",
              "      <td>SAFETY EQUIPMENT USED</td>\n",
              "      <td>NO INDICATION OF INJURY</td>\n",
              "      <td>NONE</td>\n",
              "      <td>NOT OBSCURED</td>\n",
              "      <td>NORMAL</td>\n",
              "      <td>DRIVER</td>\n",
              "    </tr>\n",
              "    <tr>\n",
              "      <th>3</th>\n",
              "      <td>79c7a2ce89f446262efd86df3d72d18b04ba487024b7c4...</td>\n",
              "      <td>2019</td>\n",
              "      <td>30</td>\n",
              "      <td>FUNCTIONING PROPERLY</td>\n",
              "      <td>CLEAR</td>\n",
              "      <td>DAY TIME</td>\n",
              "      <td>INJURY AND / OR TOW DUE TO CRASH</td>\n",
              "      <td>Y</td>\n",
              "      <td>NO DEFECTS</td>\n",
              "      <td>RECKLESS/IMPROPER DRIVING</td>\n",
              "      <td>...</td>\n",
              "      <td>N</td>\n",
              "      <td>1-2</td>\n",
              "      <td>PASSENGER</td>\n",
              "      <td>27.0</td>\n",
              "      <td>SAFETY EQUIPMENT USED</td>\n",
              "      <td>NO INDICATION OF INJURY</td>\n",
              "      <td>PASSENGER</td>\n",
              "      <td>PASSENGER</td>\n",
              "      <td>PASSENGER</td>\n",
              "      <td>PASSENGER</td>\n",
              "    </tr>\n",
              "    <tr>\n",
              "      <th>4</th>\n",
              "      <td>79c7a2ce89f446262efd86df3d72d18b04ba487024b7c4...</td>\n",
              "      <td>2019</td>\n",
              "      <td>30</td>\n",
              "      <td>FUNCTIONING PROPERLY</td>\n",
              "      <td>CLEAR</td>\n",
              "      <td>DAY TIME</td>\n",
              "      <td>INJURY AND / OR TOW DUE TO CRASH</td>\n",
              "      <td>Y</td>\n",
              "      <td>NO DEFECTS</td>\n",
              "      <td>RECKLESS/IMPROPER DRIVING</td>\n",
              "      <td>...</td>\n",
              "      <td>N</td>\n",
              "      <td>1-2</td>\n",
              "      <td>DRIVER</td>\n",
              "      <td>22.0</td>\n",
              "      <td>SAFETY EQUIPMENT USED</td>\n",
              "      <td>INJUIRY</td>\n",
              "      <td>IMPROPER TURN</td>\n",
              "      <td>UNKNOWN</td>\n",
              "      <td>NORMAL</td>\n",
              "      <td>DRIVER</td>\n",
              "    </tr>\n",
              "  </tbody>\n",
              "</table>\n",
              "<p>5 rows × 33 columns</p>\n",
              "</div>\n",
              "      <button class=\"colab-df-convert\" onclick=\"convertToInteractive('df-5b498b15-1444-45c6-8017-82f045046e83')\"\n",
              "              title=\"Convert this dataframe to an interactive table.\"\n",
              "              style=\"display:none;\">\n",
              "        \n",
              "  <svg xmlns=\"http://www.w3.org/2000/svg\" height=\"24px\"viewBox=\"0 0 24 24\"\n",
              "       width=\"24px\">\n",
              "    <path d=\"M0 0h24v24H0V0z\" fill=\"none\"/>\n",
              "    <path d=\"M18.56 5.44l.94 2.06.94-2.06 2.06-.94-2.06-.94-.94-2.06-.94 2.06-2.06.94zm-11 1L8.5 8.5l.94-2.06 2.06-.94-2.06-.94L8.5 2.5l-.94 2.06-2.06.94zm10 10l.94 2.06.94-2.06 2.06-.94-2.06-.94-.94-2.06-.94 2.06-2.06.94z\"/><path d=\"M17.41 7.96l-1.37-1.37c-.4-.4-.92-.59-1.43-.59-.52 0-1.04.2-1.43.59L10.3 9.45l-7.72 7.72c-.78.78-.78 2.05 0 2.83L4 21.41c.39.39.9.59 1.41.59.51 0 1.02-.2 1.41-.59l7.78-7.78 2.81-2.81c.8-.78.8-2.07 0-2.86zM5.41 20L4 18.59l7.72-7.72 1.47 1.35L5.41 20z\"/>\n",
              "  </svg>\n",
              "      </button>\n",
              "      \n",
              "  <style>\n",
              "    .colab-df-container {\n",
              "      display:flex;\n",
              "      flex-wrap:wrap;\n",
              "      gap: 12px;\n",
              "    }\n",
              "\n",
              "    .colab-df-convert {\n",
              "      background-color: #E8F0FE;\n",
              "      border: none;\n",
              "      border-radius: 50%;\n",
              "      cursor: pointer;\n",
              "      display: none;\n",
              "      fill: #1967D2;\n",
              "      height: 32px;\n",
              "      padding: 0 0 0 0;\n",
              "      width: 32px;\n",
              "    }\n",
              "\n",
              "    .colab-df-convert:hover {\n",
              "      background-color: #E2EBFA;\n",
              "      box-shadow: 0px 1px 2px rgba(60, 64, 67, 0.3), 0px 1px 3px 1px rgba(60, 64, 67, 0.15);\n",
              "      fill: #174EA6;\n",
              "    }\n",
              "\n",
              "    [theme=dark] .colab-df-convert {\n",
              "      background-color: #3B4455;\n",
              "      fill: #D2E3FC;\n",
              "    }\n",
              "\n",
              "    [theme=dark] .colab-df-convert:hover {\n",
              "      background-color: #434B5C;\n",
              "      box-shadow: 0px 1px 3px 1px rgba(0, 0, 0, 0.15);\n",
              "      filter: drop-shadow(0px 1px 2px rgba(0, 0, 0, 0.3));\n",
              "      fill: #FFFFFF;\n",
              "    }\n",
              "  </style>\n",
              "\n",
              "      <script>\n",
              "        const buttonEl =\n",
              "          document.querySelector('#df-5b498b15-1444-45c6-8017-82f045046e83 button.colab-df-convert');\n",
              "        buttonEl.style.display =\n",
              "          google.colab.kernel.accessAllowed ? 'block' : 'none';\n",
              "\n",
              "        async function convertToInteractive(key) {\n",
              "          const element = document.querySelector('#df-5b498b15-1444-45c6-8017-82f045046e83');\n",
              "          const dataTable =\n",
              "            await google.colab.kernel.invokeFunction('convertToInteractive',\n",
              "                                                     [key], {});\n",
              "          if (!dataTable) return;\n",
              "\n",
              "          const docLinkHtml = 'Like what you see? Visit the ' +\n",
              "            '<a target=\"_blank\" href=https://colab.research.google.com/notebooks/data_table.ipynb>data table notebook</a>'\n",
              "            + ' to learn more about interactive tables.';\n",
              "          element.innerHTML = '';\n",
              "          dataTable['output_type'] = 'display_data';\n",
              "          await google.colab.output.renderOutput(dataTable, element);\n",
              "          const docLink = document.createElement('div');\n",
              "          docLink.innerHTML = docLinkHtml;\n",
              "          element.appendChild(docLink);\n",
              "        }\n",
              "      </script>\n",
              "    </div>\n",
              "  </div>\n",
              "  "
            ]
          },
          "metadata": {},
          "execution_count": 227
        }
      ],
      "source": [
        "#preview the first 5 rows\n",
        "veh_crsh_ppl.head()"
      ],
      "id": "12318a55"
    },
    {
      "cell_type": "code",
      "execution_count": 228,
      "metadata": {
        "colab": {
          "base_uri": "https://localhost:8080/"
        },
        "id": "ca39625b",
        "outputId": "8ba9329e-9e17-44f0-a7bf-eeeef27d7b5e",
        "scrolled": true
      },
      "outputs": [
        {
          "output_type": "stream",
          "name": "stdout",
          "text": [
            "<class 'pandas.core.frame.DataFrame'>\n",
            "Int64Index: 534692 entries, 0 to 534691\n",
            "Data columns (total 33 columns):\n",
            " #   Column                   Non-Null Count   Dtype  \n",
            "---  ------                   --------------   -----  \n",
            " 0   CRASH_RECORD_ID          534692 non-null  object \n",
            " 1   CRASH_YEAR               534692 non-null  int64  \n",
            " 2   POSTED_SPEED_LIMIT       534692 non-null  int64  \n",
            " 3   DEVICE_CONDITION         534692 non-null  object \n",
            " 4   WEATHER_CONDITION        534692 non-null  object \n",
            " 5   LIGHTING_CONDITION       534692 non-null  object \n",
            " 6   CRASH_TYPE               534692 non-null  object \n",
            " 7   INTERSECTION_RELATED_I   534692 non-null  object \n",
            " 8   ROAD_DEFECT              534692 non-null  object \n",
            " 9   PRIM_CONTRIBUTORY_CAUSE  534692 non-null  object \n",
            " 10  NUM_UNITS                534692 non-null  int64  \n",
            " 11  WORK_ZONE_I              534692 non-null  object \n",
            " 12  WORKERS_PRESENT_I        534692 non-null  object \n",
            " 13  INJURIES_TOTAL           534692 non-null  float64\n",
            " 14  INJURIES_FATAL           534692 non-null  float64\n",
            " 15  CRASH_HOUR               534692 non-null  int64  \n",
            " 16  CRASH_DAY_OF_WEEK        534692 non-null  int64  \n",
            " 17  CRASH_MONTH              534692 non-null  int64  \n",
            " 18  LATITUDE                 534692 non-null  float64\n",
            " 19  LONGITUDE                534692 non-null  float64\n",
            " 20  VEHICLE_TYPE             534692 non-null  object \n",
            " 21  MANEUVER                 534692 non-null  object \n",
            " 22  FIRST_CONTACT_POINT      534692 non-null  object \n",
            " 23  VEHICLE_DEFECT_I         534692 non-null  object \n",
            " 24  OCCUPANT_CAT             534692 non-null  object \n",
            " 25  PERSON_TYPE              534692 non-null  object \n",
            " 26  AGE                      534692 non-null  float64\n",
            " 27  SAFETY_EQUIPMENT         534692 non-null  object \n",
            " 28  INJURY_CLASSIFICATION    534692 non-null  object \n",
            " 29  DRIVER_ACTION            534692 non-null  object \n",
            " 30  DRIVER_VISION            534692 non-null  object \n",
            " 31  PHYSICAL_CONDITION       534692 non-null  object \n",
            " 32  PEDPEDAL_ACTION          534692 non-null  object \n",
            "dtypes: float64(5), int64(6), object(22)\n",
            "memory usage: 138.7+ MB\n"
          ]
        }
      ],
      "source": [
        "veh_crsh_ppl.info()"
      ],
      "id": "ca39625b"
    },
    {
      "cell_type": "markdown",
      "metadata": {
        "id": "43bbe20f"
      },
      "source": [
        "Lets take a look at the unkown categories we left behind in the vehicles database. If the number of records with unkown values has gone down, we will drop the unknown values. In the scenario where they haven't, we will have to deal with them accordingly."
      ],
      "id": "43bbe20f"
    },
    {
      "cell_type": "code",
      "execution_count": 229,
      "metadata": {
        "colab": {
          "base_uri": "https://localhost:8080/"
        },
        "id": "22cbc62f",
        "outputId": "90ef6e9d-bc8e-429c-82b0-906535ba8f0d"
      },
      "outputs": [
        {
          "output_type": "execute_result",
          "data": {
            "text/plain": [
              "REGULAR PERSONAL    500908\n",
              "UNKNOWN/NA           15787\n",
              "COMMERCIAL           11948\n",
              "PUBLIC                6049\n",
              "Name: VEHICLE_TYPE, dtype: int64"
            ]
          },
          "metadata": {},
          "execution_count": 229
        }
      ],
      "source": [
        "#check value counts of vehicle type\n",
        "veh_crsh_ppl.VEHICLE_TYPE.value_counts()"
      ],
      "id": "22cbc62f"
    },
    {
      "cell_type": "code",
      "execution_count": 230,
      "metadata": {
        "id": "e692e60f"
      },
      "outputs": [],
      "source": [
        "#drop records with unknown values in the vehicle type column\n",
        "veh_crsh_ppl = veh_crsh_ppl[veh_crsh_ppl.VEHICLE_TYPE != 'UNKNOWN/NA']"
      ],
      "id": "e692e60f"
    },
    {
      "cell_type": "code",
      "execution_count": 231,
      "metadata": {
        "colab": {
          "base_uri": "https://localhost:8080/"
        },
        "id": "4d0eded9",
        "outputId": "21731e84-4edd-4ae8-b493-1fe9efb2f8cc"
      },
      "outputs": [
        {
          "output_type": "execute_result",
          "data": {
            "text/plain": [
              "STRAIGHT                    317756\n",
              "TURNING                      77729\n",
              "START/STOP                   47605\n",
              "ENTERING/EXITING TRAFFIC     40080\n",
              "LANE CHANGE                  14331\n",
              "UNKNOWN/NA                    9393\n",
              "EXTERNAL OBSTRUCTIONS         7064\n",
              "BACKING                       3415\n",
              "DRIVING WRONG WAY             1532\n",
              "Name: MANEUVER, dtype: int64"
            ]
          },
          "metadata": {},
          "execution_count": 231
        }
      ],
      "source": [
        "#check value counts of MANEUVER\n",
        "veh_crsh_ppl.MANEUVER.value_counts()"
      ],
      "id": "4d0eded9"
    },
    {
      "cell_type": "code",
      "execution_count": 232,
      "metadata": {
        "id": "5c399aab"
      },
      "outputs": [],
      "source": [
        "#drop records with unknown values in the MANEUVER column\n",
        "veh_crsh_ppl = veh_crsh_ppl[veh_crsh_ppl.MANEUVER != 'UNKNOWN/NA']"
      ],
      "id": "5c399aab"
    },
    {
      "cell_type": "code",
      "execution_count": 233,
      "metadata": {
        "colab": {
          "base_uri": "https://localhost:8080/"
        },
        "id": "8df3985b",
        "outputId": "5de28462-3bbc-4edd-e7a0-7cbc6a57f34b"
      },
      "outputs": [
        {
          "output_type": "execute_result",
          "data": {
            "text/plain": [
              "STRAIGHT                    317756\n",
              "TURNING                      77729\n",
              "START/STOP                   47605\n",
              "ENTERING/EXITING TRAFFIC     40080\n",
              "LANE CHANGE                  14331\n",
              "EXTERNAL OBSTRUCTIONS         7064\n",
              "BACKING                       3415\n",
              "DRIVING WRONG WAY             1532\n",
              "Name: MANEUVER, dtype: int64"
            ]
          },
          "metadata": {},
          "execution_count": 233
        }
      ],
      "source": [
        "#check new value counts of MANEUVER\n",
        "veh_crsh_ppl.MANEUVER.value_counts()"
      ],
      "id": "8df3985b"
    },
    {
      "cell_type": "code",
      "execution_count": 234,
      "metadata": {
        "colab": {
          "base_uri": "https://localhost:8080/"
        },
        "id": "d2171343",
        "outputId": "4d337f27-da12-43d7-d51c-b48fbee77eab"
      },
      "outputs": [
        {
          "output_type": "execute_result",
          "data": {
            "text/plain": [
              "FRONT                148418\n",
              "OTHER                113946\n",
              "REAR                 101427\n",
              "TOTAL (ALL AREAS)     54697\n",
              "SIDE                  50269\n",
              "TOP/BOTTOM            29538\n",
              "UNKNOWN                9370\n",
              "NONE                   1847\n",
              "Name: FIRST_CONTACT_POINT, dtype: int64"
            ]
          },
          "metadata": {},
          "execution_count": 234
        }
      ],
      "source": [
        "#check value counts of FIRST_CONTACT_POINT\n",
        "veh_crsh_ppl.FIRST_CONTACT_POINT.value_counts()"
      ],
      "id": "d2171343"
    },
    {
      "cell_type": "code",
      "execution_count": 235,
      "metadata": {
        "id": "a2f3aa71"
      },
      "outputs": [],
      "source": [
        "#drop records with unknown values in the FIRST_CONTACT_POINT column\n",
        "veh_crsh_ppl = veh_crsh_ppl[veh_crsh_ppl.FIRST_CONTACT_POINT != 'UNKNOWN']"
      ],
      "id": "a2f3aa71"
    },
    {
      "cell_type": "code",
      "execution_count": 236,
      "metadata": {
        "colab": {
          "base_uri": "https://localhost:8080/"
        },
        "id": "b6e030b9",
        "outputId": "c0675cd7-a89e-49e3-df8d-c9927ea83e7a"
      },
      "outputs": [
        {
          "output_type": "execute_result",
          "data": {
            "text/plain": [
              "FRONT                148418\n",
              "OTHER                113946\n",
              "REAR                 101427\n",
              "TOTAL (ALL AREAS)     54697\n",
              "SIDE                  50269\n",
              "TOP/BOTTOM            29538\n",
              "NONE                   1847\n",
              "Name: FIRST_CONTACT_POINT, dtype: int64"
            ]
          },
          "metadata": {},
          "execution_count": 236
        }
      ],
      "source": [
        "#check new value counts of FIRST_CONTACT_POINT\n",
        "veh_crsh_ppl.FIRST_CONTACT_POINT.value_counts()"
      ],
      "id": "b6e030b9"
    },
    {
      "cell_type": "code",
      "execution_count": 237,
      "metadata": {
        "colab": {
          "base_uri": "https://localhost:8080/"
        },
        "id": "c4a75ae6",
        "outputId": "16a43334-ea34-4a43-941d-f3f70e51b00c"
      },
      "outputs": [
        {
          "output_type": "execute_result",
          "data": {
            "text/plain": [
              "N    297389\n",
              "U    195608\n",
              "Y      7145\n",
              "Name: VEHICLE_DEFECT_I, dtype: int64"
            ]
          },
          "metadata": {},
          "execution_count": 237
        }
      ],
      "source": [
        "#check value counts of VEHICLE_DEFECT_I\n",
        "veh_crsh_ppl.VEHICLE_DEFECT_I.value_counts()"
      ],
      "id": "c4a75ae6"
    },
    {
      "cell_type": "markdown",
      "metadata": {
        "id": "d7a7432a"
      },
      "source": [
        "The number of unkowns in this column are still very high. Unfortunately, there is not enough information to impute these values. We will carry them forward into our modeling because there might be other variabless that link with it to form a trend of the causes of traffic accidents."
      ],
      "id": "d7a7432a"
    },
    {
      "cell_type": "code",
      "execution_count": 238,
      "metadata": {
        "colab": {
          "base_uri": "https://localhost:8080/"
        },
        "id": "823c8a47",
        "outputId": "c9d752d4-4d0c-46b4-9ca5-acc0b539cd90"
      },
      "outputs": [
        {
          "output_type": "stream",
          "name": "stdout",
          "text": [
            "<class 'pandas.core.frame.DataFrame'>\n",
            "Int64Index: 500142 entries, 0 to 534691\n",
            "Data columns (total 33 columns):\n",
            " #   Column                   Non-Null Count   Dtype  \n",
            "---  ------                   --------------   -----  \n",
            " 0   CRASH_RECORD_ID          500142 non-null  object \n",
            " 1   CRASH_YEAR               500142 non-null  int64  \n",
            " 2   POSTED_SPEED_LIMIT       500142 non-null  int64  \n",
            " 3   DEVICE_CONDITION         500142 non-null  object \n",
            " 4   WEATHER_CONDITION        500142 non-null  object \n",
            " 5   LIGHTING_CONDITION       500142 non-null  object \n",
            " 6   CRASH_TYPE               500142 non-null  object \n",
            " 7   INTERSECTION_RELATED_I   500142 non-null  object \n",
            " 8   ROAD_DEFECT              500142 non-null  object \n",
            " 9   PRIM_CONTRIBUTORY_CAUSE  500142 non-null  object \n",
            " 10  NUM_UNITS                500142 non-null  int64  \n",
            " 11  WORK_ZONE_I              500142 non-null  object \n",
            " 12  WORKERS_PRESENT_I        500142 non-null  object \n",
            " 13  INJURIES_TOTAL           500142 non-null  float64\n",
            " 14  INJURIES_FATAL           500142 non-null  float64\n",
            " 15  CRASH_HOUR               500142 non-null  int64  \n",
            " 16  CRASH_DAY_OF_WEEK        500142 non-null  int64  \n",
            " 17  CRASH_MONTH              500142 non-null  int64  \n",
            " 18  LATITUDE                 500142 non-null  float64\n",
            " 19  LONGITUDE                500142 non-null  float64\n",
            " 20  VEHICLE_TYPE             500142 non-null  object \n",
            " 21  MANEUVER                 500142 non-null  object \n",
            " 22  FIRST_CONTACT_POINT      500142 non-null  object \n",
            " 23  VEHICLE_DEFECT_I         500142 non-null  object \n",
            " 24  OCCUPANT_CAT             500142 non-null  object \n",
            " 25  PERSON_TYPE              500142 non-null  object \n",
            " 26  AGE                      500142 non-null  float64\n",
            " 27  SAFETY_EQUIPMENT         500142 non-null  object \n",
            " 28  INJURY_CLASSIFICATION    500142 non-null  object \n",
            " 29  DRIVER_ACTION            500142 non-null  object \n",
            " 30  DRIVER_VISION            500142 non-null  object \n",
            " 31  PHYSICAL_CONDITION       500142 non-null  object \n",
            " 32  PEDPEDAL_ACTION          500142 non-null  object \n",
            "dtypes: float64(5), int64(6), object(22)\n",
            "memory usage: 129.7+ MB\n"
          ]
        }
      ],
      "source": [
        "veh_crsh_ppl.info()"
      ],
      "id": "823c8a47"
    },
    {
      "cell_type": "markdown",
      "metadata": {
        "id": "e7797aa2"
      },
      "source": [
        "Next, lets look at processing this merged dataset to prepare it for modelling but first, lets separate out the unable to determine categories from the Primary Contributary Cause column to check later whether our model can provide some insights into what coud have been the causes for it."
      ],
      "id": "e7797aa2"
    },
    {
      "cell_type": "code",
      "execution_count": 239,
      "metadata": {
        "colab": {
          "base_uri": "https://localhost:8080/"
        },
        "id": "40a7c9d1",
        "outputId": "c5ca1e2c-7d86-46d4-e875-787f4405dc98"
      },
      "outputs": [
        {
          "output_type": "execute_result",
          "data": {
            "text/plain": [
              "RECKLESS/IMPROPER DRIVING    193372\n",
              "TRAFFIC RULES VIOLATED       178527\n",
              "UNABLE TO DETERMINE           70617\n",
              "COMPROMISED DRIVING           34013\n",
              "OBSTRUCTIONS                  23613\n",
              "Name: PRIM_CONTRIBUTORY_CAUSE, dtype: int64"
            ]
          },
          "metadata": {},
          "execution_count": 239
        }
      ],
      "source": [
        "veh_crsh_ppl.PRIM_CONTRIBUTORY_CAUSE.value_counts()"
      ],
      "id": "40a7c9d1"
    },
    {
      "cell_type": "code",
      "execution_count": 240,
      "metadata": {
        "id": "7d12e2a8"
      },
      "outputs": [],
      "source": [
        "#separate out unable to determine categories\n",
        "u_veh_crsh_ppl = veh_crsh_ppl[veh_crsh_ppl.PRIM_CONTRIBUTORY_CAUSE == 'UNABLE TO DETERMINE']\n",
        "\n",
        "#separate out the rest\n",
        "veh_crsh_ppl = veh_crsh_ppl[veh_crsh_ppl.PRIM_CONTRIBUTORY_CAUSE != 'UNABLE TO DETERMINE']"
      ],
      "id": "7d12e2a8"
    },
    {
      "cell_type": "markdown",
      "metadata": {
        "id": "82589d7c"
      },
      "source": [
        "Lets take a look at how the dataset looks after filtering out the Unable to Determine causes."
      ],
      "id": "82589d7c"
    },
    {
      "cell_type": "code",
      "execution_count": 241,
      "metadata": {
        "colab": {
          "base_uri": "https://localhost:8080/"
        },
        "id": "03483af3",
        "outputId": "3bb7b19b-d920-426f-9556-43a62a1ab906"
      },
      "outputs": [
        {
          "output_type": "stream",
          "name": "stdout",
          "text": [
            "<class 'pandas.core.frame.DataFrame'>\n",
            "Int64Index: 70617 entries, 35 to 534691\n",
            "Data columns (total 33 columns):\n",
            " #   Column                   Non-Null Count  Dtype  \n",
            "---  ------                   --------------  -----  \n",
            " 0   CRASH_RECORD_ID          70617 non-null  object \n",
            " 1   CRASH_YEAR               70617 non-null  int64  \n",
            " 2   POSTED_SPEED_LIMIT       70617 non-null  int64  \n",
            " 3   DEVICE_CONDITION         70617 non-null  object \n",
            " 4   WEATHER_CONDITION        70617 non-null  object \n",
            " 5   LIGHTING_CONDITION       70617 non-null  object \n",
            " 6   CRASH_TYPE               70617 non-null  object \n",
            " 7   INTERSECTION_RELATED_I   70617 non-null  object \n",
            " 8   ROAD_DEFECT              70617 non-null  object \n",
            " 9   PRIM_CONTRIBUTORY_CAUSE  70617 non-null  object \n",
            " 10  NUM_UNITS                70617 non-null  int64  \n",
            " 11  WORK_ZONE_I              70617 non-null  object \n",
            " 12  WORKERS_PRESENT_I        70617 non-null  object \n",
            " 13  INJURIES_TOTAL           70617 non-null  float64\n",
            " 14  INJURIES_FATAL           70617 non-null  float64\n",
            " 15  CRASH_HOUR               70617 non-null  int64  \n",
            " 16  CRASH_DAY_OF_WEEK        70617 non-null  int64  \n",
            " 17  CRASH_MONTH              70617 non-null  int64  \n",
            " 18  LATITUDE                 70617 non-null  float64\n",
            " 19  LONGITUDE                70617 non-null  float64\n",
            " 20  VEHICLE_TYPE             70617 non-null  object \n",
            " 21  MANEUVER                 70617 non-null  object \n",
            " 22  FIRST_CONTACT_POINT      70617 non-null  object \n",
            " 23  VEHICLE_DEFECT_I         70617 non-null  object \n",
            " 24  OCCUPANT_CAT             70617 non-null  object \n",
            " 25  PERSON_TYPE              70617 non-null  object \n",
            " 26  AGE                      70617 non-null  float64\n",
            " 27  SAFETY_EQUIPMENT         70617 non-null  object \n",
            " 28  INJURY_CLASSIFICATION    70617 non-null  object \n",
            " 29  DRIVER_ACTION            70617 non-null  object \n",
            " 30  DRIVER_VISION            70617 non-null  object \n",
            " 31  PHYSICAL_CONDITION       70617 non-null  object \n",
            " 32  PEDPEDAL_ACTION          70617 non-null  object \n",
            "dtypes: float64(5), int64(6), object(22)\n",
            "memory usage: 18.3+ MB\n"
          ]
        }
      ],
      "source": [
        "#unable to determine cause dataset\n",
        "u_veh_crsh_ppl.info()"
      ],
      "id": "03483af3"
    },
    {
      "cell_type": "code",
      "execution_count": 242,
      "metadata": {
        "colab": {
          "base_uri": "https://localhost:8080/"
        },
        "id": "b71885fd",
        "outputId": "dd69a452-4a4e-4476-b1f7-97d79a395477"
      },
      "outputs": [
        {
          "output_type": "stream",
          "name": "stdout",
          "text": [
            "<class 'pandas.core.frame.DataFrame'>\n",
            "Int64Index: 429525 entries, 0 to 534689\n",
            "Data columns (total 33 columns):\n",
            " #   Column                   Non-Null Count   Dtype  \n",
            "---  ------                   --------------   -----  \n",
            " 0   CRASH_RECORD_ID          429525 non-null  object \n",
            " 1   CRASH_YEAR               429525 non-null  int64  \n",
            " 2   POSTED_SPEED_LIMIT       429525 non-null  int64  \n",
            " 3   DEVICE_CONDITION         429525 non-null  object \n",
            " 4   WEATHER_CONDITION        429525 non-null  object \n",
            " 5   LIGHTING_CONDITION       429525 non-null  object \n",
            " 6   CRASH_TYPE               429525 non-null  object \n",
            " 7   INTERSECTION_RELATED_I   429525 non-null  object \n",
            " 8   ROAD_DEFECT              429525 non-null  object \n",
            " 9   PRIM_CONTRIBUTORY_CAUSE  429525 non-null  object \n",
            " 10  NUM_UNITS                429525 non-null  int64  \n",
            " 11  WORK_ZONE_I              429525 non-null  object \n",
            " 12  WORKERS_PRESENT_I        429525 non-null  object \n",
            " 13  INJURIES_TOTAL           429525 non-null  float64\n",
            " 14  INJURIES_FATAL           429525 non-null  float64\n",
            " 15  CRASH_HOUR               429525 non-null  int64  \n",
            " 16  CRASH_DAY_OF_WEEK        429525 non-null  int64  \n",
            " 17  CRASH_MONTH              429525 non-null  int64  \n",
            " 18  LATITUDE                 429525 non-null  float64\n",
            " 19  LONGITUDE                429525 non-null  float64\n",
            " 20  VEHICLE_TYPE             429525 non-null  object \n",
            " 21  MANEUVER                 429525 non-null  object \n",
            " 22  FIRST_CONTACT_POINT      429525 non-null  object \n",
            " 23  VEHICLE_DEFECT_I         429525 non-null  object \n",
            " 24  OCCUPANT_CAT             429525 non-null  object \n",
            " 25  PERSON_TYPE              429525 non-null  object \n",
            " 26  AGE                      429525 non-null  float64\n",
            " 27  SAFETY_EQUIPMENT         429525 non-null  object \n",
            " 28  INJURY_CLASSIFICATION    429525 non-null  object \n",
            " 29  DRIVER_ACTION            429525 non-null  object \n",
            " 30  DRIVER_VISION            429525 non-null  object \n",
            " 31  PHYSICAL_CONDITION       429525 non-null  object \n",
            " 32  PEDPEDAL_ACTION          429525 non-null  object \n",
            "dtypes: float64(5), int64(6), object(22)\n",
            "memory usage: 111.4+ MB\n"
          ]
        }
      ],
      "source": [
        "#dataset with the causes\n",
        "veh_crsh_ppl.info()"
      ],
      "id": "b71885fd"
    },
    {
      "cell_type": "markdown",
      "metadata": {
        "id": "af5f3cbd"
      },
      "source": [
        "We don't have any missing values and the unable to determine is a largely significant dataset with almost 70,000 records.\n",
        "\n",
        "Now we need to encode the categorical columns because ML models are better adept at handling numerical data as compared to categorical data."
      ],
      "id": "af5f3cbd"
    },
    {
      "cell_type": "code",
      "execution_count": 243,
      "metadata": {
        "colab": {
          "base_uri": "https://localhost:8080/"
        },
        "id": "1de69269",
        "outputId": "8d809faf-51b3-413c-d1b3-072f05faebba"
      },
      "outputs": [
        {
          "output_type": "execute_result",
          "data": {
            "text/plain": [
              "Index(['CRASH_RECORD_ID', 'DEVICE_CONDITION', 'WEATHER_CONDITION',\n",
              "       'LIGHTING_CONDITION', 'CRASH_TYPE', 'INTERSECTION_RELATED_I',\n",
              "       'ROAD_DEFECT', 'PRIM_CONTRIBUTORY_CAUSE', 'WORK_ZONE_I',\n",
              "       'WORKERS_PRESENT_I', 'VEHICLE_TYPE', 'MANEUVER', 'FIRST_CONTACT_POINT',\n",
              "       'VEHICLE_DEFECT_I', 'OCCUPANT_CAT', 'PERSON_TYPE', 'SAFETY_EQUIPMENT',\n",
              "       'INJURY_CLASSIFICATION', 'DRIVER_ACTION', 'DRIVER_VISION',\n",
              "       'PHYSICAL_CONDITION', 'PEDPEDAL_ACTION'],\n",
              "      dtype='object')"
            ]
          },
          "metadata": {},
          "execution_count": 243
        }
      ],
      "source": [
        "# Finding Category Columns\n",
        "cat_columns = veh_crsh_ppl.dtypes[veh_crsh_ppl.dtypes == 'object'].index\n",
        "\n",
        "# Finding unique counts for categorical columns \n",
        "cat_unique = veh_crsh_ppl[cat_columns].nunique()\n",
        "\n",
        "#separate the list of the categorical columns\n",
        "cat = veh_crsh_ppl[cat_columns].columns\n",
        "\n",
        "cat"
      ],
      "id": "1de69269"
    },
    {
      "cell_type": "code",
      "execution_count": 244,
      "metadata": {
        "colab": {
          "base_uri": "https://localhost:8080/"
        },
        "id": "09f03acb",
        "outputId": "f6bc23e6-a0cd-450b-e506-a8cf3bfd359f"
      },
      "outputs": [
        {
          "output_type": "execute_result",
          "data": {
            "text/plain": [
              "Index(['CRASH_RECORD_ID', 'DEVICE_CONDITION', 'WEATHER_CONDITION',\n",
              "       'LIGHTING_CONDITION', 'CRASH_TYPE', 'INTERSECTION_RELATED_I',\n",
              "       'ROAD_DEFECT', 'PRIM_CONTRIBUTORY_CAUSE', 'WORK_ZONE_I',\n",
              "       'WORKERS_PRESENT_I', 'VEHICLE_TYPE', 'MANEUVER', 'FIRST_CONTACT_POINT',\n",
              "       'VEHICLE_DEFECT_I', 'OCCUPANT_CAT', 'PERSON_TYPE', 'SAFETY_EQUIPMENT',\n",
              "       'INJURY_CLASSIFICATION', 'DRIVER_ACTION', 'DRIVER_VISION',\n",
              "       'PHYSICAL_CONDITION', 'PEDPEDAL_ACTION'],\n",
              "      dtype='object')"
            ]
          },
          "metadata": {},
          "execution_count": 244
        }
      ],
      "source": [
        "# Finding Category Columns for the unable to determine dataset\n",
        "cat_columns_u = u_veh_crsh_ppl.dtypes[u_veh_crsh_ppl.dtypes == 'object'].index\n",
        "\n",
        "# Finding unique counts for categorical columns \n",
        "cat_unique_u = u_veh_crsh_ppl[cat_columns_u].nunique()\n",
        "\n",
        "#separate the list of the categorical columns\n",
        "cat_u = u_veh_crsh_ppl[cat_columns_u].columns\n",
        "\n",
        "cat_u"
      ],
      "id": "09f03acb"
    },
    {
      "cell_type": "markdown",
      "metadata": {
        "id": "283cf1ad"
      },
      "source": [
        "We will use the caategoricaal columns names to loop through it one by one and label encode the categories in the column using integers from zero onwards"
      ],
      "id": "283cf1ad"
    },
    {
      "cell_type": "code",
      "execution_count": 245,
      "metadata": {
        "colab": {
          "base_uri": "https://localhost:8080/"
        },
        "id": "9ea54ae3",
        "outputId": "bb28f4c3-7737-43c6-d3b6-6630a8d94adc"
      },
      "outputs": [
        {
          "output_type": "stream",
          "name": "stdout",
          "text": [
            "[['DEVICE_CONDITION', {'FUNCTIONING PROPERLY': 0, 'NOT FUNCTIONING PROPERLY': 1, 'NO CONTROLS': 2}], ['WEATHER_CONDITION', {'CLEAR': 0, 'NOT CLEAR': 1}], ['LIGHTING_CONDITION', {'DAY TIME': 0, 'NIGHT TIME': 1}], ['CRASH_TYPE', {'INJURY AND / OR TOW DUE TO CRASH': 0}], ['INTERSECTION_RELATED_I', {'Y': 0, 'N': 1}], ['ROAD_DEFECT', {'NO DEFECTS': 0, 'DEFECTS': 1}], ['PRIM_CONTRIBUTORY_CAUSE', {'RECKLESS/IMPROPER DRIVING': 0, 'TRAFFIC RULES VIOLATED': 1, 'COMPROMISED DRIVING': 2, 'OBSTRUCTIONS': 3}], ['WORK_ZONE_I', {'N': 0, 'Y': 1}], ['WORKERS_PRESENT_I', {'N': 0, 'Y': 1}], ['VEHICLE_TYPE', {'REGULAR PERSONAL': 0, 'COMMERCIAL': 1, 'PUBLIC': 2}], ['MANEUVER', {'TURNING': 0, 'STRAIGHT': 1, 'START/STOP': 2, 'EXTERNAL OBSTRUCTIONS': 3, 'DRIVING WRONG WAY': 4, 'LANE CHANGE': 5, 'ENTERING/EXITING TRAFFIC': 6, 'BACKING': 7}], ['FIRST_CONTACT_POINT', {'FRONT': 0, 'NONE': 1, 'REAR': 2, 'OTHER': 3, 'SIDE': 4, 'TOTAL (ALL AREAS)': 5, 'TOP/BOTTOM': 6}], ['VEHICLE_DEFECT_I', {'N': 0, 'U': 1, 'Y': 2}], ['OCCUPANT_CAT', {'1-2': 0, '3-5': 1, '0': 2, '6-9': 3, '10+': 4}], ['PERSON_TYPE', {'PASSENGER': 0, 'DRIVER': 1, 'BICYCLE': 2, 'PEDESTRIAN': 3, 'NON-MOTOR VEHICLE': 4, 'NON-CONTACT VEHICLE': 5}], ['SAFETY_EQUIPMENT', {'SAFETY EQUIPMENT USED': 0, 'SAFETY EQUIPMENT MISSING/MISUSED': 1, 'USAGE UNKNOWN': 2}], ['INJURY_CLASSIFICATION', {'NO INDICATION OF INJURY': 0, 'INJUIRY': 1}], ['DRIVER_ACTION', {'PASSENGER': 0, 'IMPROPER TURN': 1, 'NONE': 2, 'OTHER': 3, 'WRONG WAY/SIDE': 4, 'FAILED TO YIELD': 5, 'CELL PHONE USE OTHER THAN TEXTING': 6, 'UNKNOWN': 7, 'IMPROPER LANE CHANGE': 8, 'IMPROPER BACKING': 9, 'FOLLOWED TOO CLOSELY': 10, 'TOO FAST FOR CONDITIONS': 11, 'DISREGARDED CONTROL DEVICES': 12, 'IMPROPER PASSING': 13, 'EVADING POLICE VEHICLE': 14, 'OVERCORRECTED': 15, 'TEXTING': 16, 'IMPROPER PARKING': 17, 'EMERGENCY VEHICLE ON CALL': 18, 'STOPPED SCHOOL BUS': 19, 'LICENSE RESTRICTIONS': 20}], ['DRIVER_VISION', {'PASSENGER': 0, 'UNKNOWN': 1, 'NOT OBSCURED': 2, 'OBSCURED': 3}], ['PHYSICAL_CONDITION', {'PASSENGER': 0, 'NORMAL': 1, 'IMPAIRED': 2}], ['PEDPEDAL_ACTION', {'PASSENGER': 0, 'DRIVER': 1, 'AGAINST TRAFFIC': 2, 'CROSSING - CONTROLS PRESENT (NOT AT INTERSECTION)': 3, 'CROSSING - WITH SIGNAL': 4, 'OTHER ACTION': 5, 'CROSSING - NO CONTROLS (NOT AT INTERSECTION)': 6, 'WITH TRAFFIC': 7, 'NO ACTION': 8, 'PLAYING IN ROADWAY': 9, 'INTOXICATED PED/PEDAL': 10, 'ENTER FROM DRIVE/ALLEY': 11, 'CROSSING - NO CONTROLS (AT INTERSECTION)': 12, 'CROSSING - AGAINST SIGNAL': 13, 'UNKNOWN/NA': 14, 'NOT AT INTERSECTION': 15, 'STANDING IN ROADWAY': 16, 'TURNING LEFT': 17, 'WORKING IN ROADWAY': 18, 'TURNING RIGHT': 19, 'PARKED VEHICLE': 20, 'WAITING FOR SCHOOL BUS': 21, 'TO/FROM DISABLED VEHICLE': 22, 'PLAYING/WORKING ON VEHICLE': 23, 'SCHOOL BUS (WITHIN 50 FT.)': 24}]]\n",
            "[['DEVICE_CONDITION', {'FUNCTIONING PROPERLY': 0, 'NOT FUNCTIONING PROPERLY': 1, 'NO CONTROLS': 2}], ['WEATHER_CONDITION', {'CLEAR': 0, 'NOT CLEAR': 1}], ['LIGHTING_CONDITION', {'DAY TIME': 0, 'NIGHT TIME': 1}], ['CRASH_TYPE', {'INJURY AND / OR TOW DUE TO CRASH': 0}], ['INTERSECTION_RELATED_I', {'Y': 0, 'N': 1}], ['ROAD_DEFECT', {'NO DEFECTS': 0, 'DEFECTS': 1}], ['PRIM_CONTRIBUTORY_CAUSE', {'RECKLESS/IMPROPER DRIVING': 0, 'TRAFFIC RULES VIOLATED': 1, 'COMPROMISED DRIVING': 2, 'OBSTRUCTIONS': 3}], ['WORK_ZONE_I', {'N': 0, 'Y': 1}], ['WORKERS_PRESENT_I', {'N': 0, 'Y': 1}], ['VEHICLE_TYPE', {'REGULAR PERSONAL': 0, 'COMMERCIAL': 1, 'PUBLIC': 2}], ['MANEUVER', {'TURNING': 0, 'STRAIGHT': 1, 'START/STOP': 2, 'EXTERNAL OBSTRUCTIONS': 3, 'DRIVING WRONG WAY': 4, 'LANE CHANGE': 5, 'ENTERING/EXITING TRAFFIC': 6, 'BACKING': 7}], ['FIRST_CONTACT_POINT', {'FRONT': 0, 'NONE': 1, 'REAR': 2, 'OTHER': 3, 'SIDE': 4, 'TOTAL (ALL AREAS)': 5, 'TOP/BOTTOM': 6}], ['VEHICLE_DEFECT_I', {'N': 0, 'U': 1, 'Y': 2}], ['OCCUPANT_CAT', {'1-2': 0, '3-5': 1, '0': 2, '6-9': 3, '10+': 4}], ['PERSON_TYPE', {'PASSENGER': 0, 'DRIVER': 1, 'BICYCLE': 2, 'PEDESTRIAN': 3, 'NON-MOTOR VEHICLE': 4, 'NON-CONTACT VEHICLE': 5}], ['SAFETY_EQUIPMENT', {'SAFETY EQUIPMENT USED': 0, 'SAFETY EQUIPMENT MISSING/MISUSED': 1, 'USAGE UNKNOWN': 2}], ['INJURY_CLASSIFICATION', {'NO INDICATION OF INJURY': 0, 'INJUIRY': 1}], ['DRIVER_ACTION', {'PASSENGER': 0, 'IMPROPER TURN': 1, 'NONE': 2, 'OTHER': 3, 'WRONG WAY/SIDE': 4, 'FAILED TO YIELD': 5, 'CELL PHONE USE OTHER THAN TEXTING': 6, 'UNKNOWN': 7, 'IMPROPER LANE CHANGE': 8, 'IMPROPER BACKING': 9, 'FOLLOWED TOO CLOSELY': 10, 'TOO FAST FOR CONDITIONS': 11, 'DISREGARDED CONTROL DEVICES': 12, 'IMPROPER PASSING': 13, 'EVADING POLICE VEHICLE': 14, 'OVERCORRECTED': 15, 'TEXTING': 16, 'IMPROPER PARKING': 17, 'EMERGENCY VEHICLE ON CALL': 18, 'STOPPED SCHOOL BUS': 19, 'LICENSE RESTRICTIONS': 20}], ['DRIVER_VISION', {'PASSENGER': 0, 'UNKNOWN': 1, 'NOT OBSCURED': 2, 'OBSCURED': 3}], ['PHYSICAL_CONDITION', {'PASSENGER': 0, 'NORMAL': 1, 'IMPAIRED': 2}], ['PEDPEDAL_ACTION', {'PASSENGER': 0, 'DRIVER': 1, 'AGAINST TRAFFIC': 2, 'CROSSING - CONTROLS PRESENT (NOT AT INTERSECTION)': 3, 'CROSSING - WITH SIGNAL': 4, 'OTHER ACTION': 5, 'CROSSING - NO CONTROLS (NOT AT INTERSECTION)': 6, 'WITH TRAFFIC': 7, 'NO ACTION': 8, 'PLAYING IN ROADWAY': 9, 'INTOXICATED PED/PEDAL': 10, 'ENTER FROM DRIVE/ALLEY': 11, 'CROSSING - NO CONTROLS (AT INTERSECTION)': 12, 'CROSSING - AGAINST SIGNAL': 13, 'UNKNOWN/NA': 14, 'NOT AT INTERSECTION': 15, 'STANDING IN ROADWAY': 16, 'TURNING LEFT': 17, 'WORKING IN ROADWAY': 18, 'TURNING RIGHT': 19, 'PARKED VEHICLE': 20, 'WAITING FOR SCHOOL BUS': 21, 'TO/FROM DISABLED VEHICLE': 22, 'PLAYING/WORKING ON VEHICLE': 23, 'SCHOOL BUS (WITHIN 50 FT.)': 24}]]\n"
          ]
        }
      ],
      "source": [
        "label_list=[]\n",
        "label_list_u=[]\n",
        "for j in cat[1:]: #loop through the categorical variables\n",
        "    label_encoding = veh_crsh_ppl[j].unique() #separate the unique variables in the specific column\n",
        "    label_encoding = { label_encoding[i] : i for i in range(len(label_encoding))} #label encode\n",
        "    label_list.append([j,label_encoding])\n",
        "    \n",
        "    \n",
        "    #do the same thing for the unable to determine dataset\n",
        "    label_encoding_u = u_veh_crsh_ppl[j].unique()\n",
        "    label_encoding_u = { label_encoding_u[i] : i for i in range(len(label_encoding_u))}\n",
        "    label_list_u.append([j,label_encoding])\n",
        "    \n",
        "    #encode both datasets\n",
        "    veh_crsh_ppl[j] = veh_crsh_ppl[j].apply(lambda x : label_encoding[x])\n",
        "#     print(j, veh_crsh_ppl[j].unique())\n",
        "\n",
        "    u_veh_crsh_ppl[j] = u_veh_crsh_ppl[j].apply(lambda x : label_encoding_u[x])\n",
        "#     print(j, u_veh_crsh_ppl[j].unique())\n",
        "\n",
        "print(label_list)\n",
        "print(label_list_u)"
      ],
      "id": "9ea54ae3"
    },
    {
      "cell_type": "markdown",
      "metadata": {
        "id": "bab9f6f0"
      },
      "source": [
        "We filtered out the types of crashes to only keep the ones that had inlved injuries. Considering that crash type has been filtered to only the injuries or fatalities, we can drop this columnm."
      ],
      "id": "bab9f6f0"
    },
    {
      "cell_type": "code",
      "execution_count": 246,
      "metadata": {
        "id": "05592bb4"
      },
      "outputs": [],
      "source": [
        "veh_crsh_ppl.drop('CRASH_TYPE', axis= 1, inplace= True)\n",
        "u_veh_crsh_ppl.drop('CRASH_TYPE', axis= 1, inplace= True)"
      ],
      "id": "05592bb4"
    },
    {
      "cell_type": "markdown",
      "metadata": {
        "id": "0146b1f1"
      },
      "source": [
        "The Craash Record IDs are more of a primary key for this dataset therefore we will set this aas the index so as not to interfere with our mdelling but still have it available if we need it. After setting the index, we will extract the unique indices so as to keep records relating to the same crash in the same train/test dataset."
      ],
      "id": "0146b1f1"
    },
    {
      "cell_type": "code",
      "execution_count": 247,
      "metadata": {
        "id": "893437dd"
      },
      "outputs": [],
      "source": [
        "veh_crsh_ppl.set_index('CRASH_RECORD_ID',inplace=True)\n",
        "\n",
        "u_veh_crsh_ppl.set_index('CRASH_RECORD_ID',inplace=True)"
      ],
      "id": "893437dd"
    },
    {
      "cell_type": "code",
      "execution_count": 248,
      "metadata": {
        "colab": {
          "base_uri": "https://localhost:8080/"
        },
        "id": "5af43f8b",
        "outputId": "651d7fb2-3aec-4038-9c14-9b06e04a288a"
      },
      "outputs": [
        {
          "output_type": "execute_result",
          "data": {
            "text/plain": [
              "0    193372\n",
              "1    178527\n",
              "2     34013\n",
              "3     23613\n",
              "Name: PRIM_CONTRIBUTORY_CAUSE, dtype: int64"
            ]
          },
          "metadata": {},
          "execution_count": 248
        }
      ],
      "source": [
        "veh_crsh_ppl.PRIM_CONTRIBUTORY_CAUSE.value_counts()"
      ],
      "id": "5af43f8b"
    },
    {
      "cell_type": "code",
      "execution_count": 249,
      "metadata": {
        "colab": {
          "base_uri": "https://localhost:8080/"
        },
        "id": "515d2186",
        "outputId": "7bb210c7-544c-427b-bc28-ad24ca073583"
      },
      "outputs": [
        {
          "output_type": "execute_result",
          "data": {
            "text/plain": [
              "Index(['79c7a2ce89f446262efd86df3d72d18b04ba487024b7c42d58be7bc0ee3b2779be1916679231382b4a4bfe14200bd305d9c6feb7cd70839f863dd944b040212d',\n",
              "       '7b3545fb91352d7fc46ba142d9044a5508671db4d01d0226f0a56f7774954d7d98030e5c47efb4aec51122cc57d15a820e826eb99e4559ebae383c5715f637e6',\n",
              "       '79704e1b747fbf5f740f1255785934dfe659ff910d4782b606f87f714d6a7292cbced2d9f08e091569f06bdd38051ba0bb15ccb125e1f32f16ed5620e05ba305',\n",
              "       '7b3850c200a1f73cc7c800e48ece28907dc6599da0d905a94b842b362ca7163041da962602dbc4bb6560dd9fe15395b42d971b1dacf6894ff2fff3d8bc59f7f5',\n",
              "       '0be13986626ce381917a49f7811f38d79ea151cef6b2322903bd4bb7550913142d9e6d41f9026b377d136d94aa589147e79f5116887430079820b042be1c05d3',\n",
              "       '798cc771c20c11dcc335369c87eb8458964dd30b94bd00498f0b30ccb8d4f78f9bfa9aaad56ed7629ae75c6cf10451b31582783285f24e17bd9aef61805c9907',\n",
              "       '02b2ca12c9b8702eb0a31619ff12860901a5e02bf584d17292bedbc09feda9261bde4a747d70f59750aa388b3a974d1dcf76770e204961655e623442e7ee013b',\n",
              "       '0ee9250ed16a30706717ad05779ac5aecc304d84bfd6762fe5f22879ce8dda7db54974485e4f3daccc2824f834c40be7321a1ac6ff363a430c047e87537731ad',\n",
              "       '79a9c11b06e5d529811576e6d109e250056fb31724b246104f72a89e2ca3f62a90f51fa0635b771fbf174e5e20380ecc8bebf5b6e9276799f913fdcbd2623bb4',\n",
              "       '7b1b05ed5eb0a764604b983288ffe852e202253d4cb25431957b5859f81e8938c15aee47c10f7510ea52036328b31a54d206dba24fb211d3017fc6cda08579c1',\n",
              "       ...\n",
              "       '1779a3107d1807ac3e6dc25f9f6d6cb1417783b3a35e905f1ac50e153f9e16dfb8efca0cf223ed0cca59f37a0eeed740cdff53a17301e255f712acf564826aa1',\n",
              "       '09687987b252aa9985177b33c90639b717eafff7e3017a8e1278eb903b4f343759450b17330709bba980ffa2f25931bbe3a67b967db82fa059b89ddf2b0cbd78',\n",
              "       '2235099fa618f474922621f156ea0a822983689f916d32d983ae4ea6d05a5c8100e01bd41ad32ed790c1113574e572a4f6e38df94cde783684169b692bcb3b1f',\n",
              "       'b8e91c563747739f4a5cf5015e7cf80505366a7efec96f88daa0b47de505d75f646ea98b8b4f71ca7c25f1f6e9e2f2a2e73617eae621f8b59c98b9eb416f2297',\n",
              "       '18dfa728f98d658e38429d68fb8b53577e479a4c16fef488f452585a02ba18812aee10dbdf47f988c136b973ed0a5c2f002445b0fb40946ee51a90849b75eedf',\n",
              "       '2e8bde95e08865115cfea29811c9847e85da0ece6fd3544e7c27dad6183a62419018a3fabedbe1886ce6c6329d15869c7c9ecb981fd7a5b3697fead1df772671',\n",
              "       'b04bf37d9186ab3d9dc0a84722fc25bc5855055aac952b3312c03fea57b9e8226a8165d889cec4b0e1e89543feb7c4c8366b5bb57a85a36f3ada4842532f63aa',\n",
              "       'bba25d76519c479b96c5cdf11437ade0e3608c6cc7f88714cd92d8ccd5810a3b9534f6b37ec797cafb4be10cbcb06565c954fd3a69ce9827739d76bca3db9b59',\n",
              "       '2aab54e2b2e6559f3cfe240f84690dd78a991a5e818ca907234636fbe2b1e1ce89d5aaa15a61976ab1ea8e6935de88ac2771bd9acae6101a39c1f186a40ec9a4',\n",
              "       '22a4d7218110c786c6e8394f9843d1185ed506773581445e1a8261e83bbd1de51e60fd43a0637d7d1c2bdad80f40acf6530dd11490e1b14798f6ae83a6354f2b'],\n",
              "      dtype='object', name='CRASH_RECORD_ID', length=94308)"
            ]
          },
          "metadata": {},
          "execution_count": 249
        }
      ],
      "source": [
        "# Get the unique indices\n",
        "groups = veh_crsh_ppl.index.unique()\n",
        "groups"
      ],
      "id": "515d2186"
    },
    {
      "cell_type": "code",
      "execution_count": 250,
      "metadata": {
        "colab": {
          "base_uri": "https://localhost:8080/",
          "height": 349
        },
        "id": "4b725f2a",
        "outputId": "7e203e59-8d07-4007-be53-31c0fb4c4ece"
      },
      "outputs": [
        {
          "output_type": "stream",
          "name": "stdout",
          "text": [
            "(429525, 31)\n"
          ]
        },
        {
          "output_type": "execute_result",
          "data": {
            "text/plain": [
              "                                                    CRASH_YEAR  \\\n",
              "CRASH_RECORD_ID                                                  \n",
              "79c7a2ce89f446262efd86df3d72d18b04ba487024b7c42...        2019   \n",
              "79c7a2ce89f446262efd86df3d72d18b04ba487024b7c42...        2019   \n",
              "79c7a2ce89f446262efd86df3d72d18b04ba487024b7c42...        2019   \n",
              "79c7a2ce89f446262efd86df3d72d18b04ba487024b7c42...        2019   \n",
              "79c7a2ce89f446262efd86df3d72d18b04ba487024b7c42...        2019   \n",
              "\n",
              "                                                    POSTED_SPEED_LIMIT  \\\n",
              "CRASH_RECORD_ID                                                          \n",
              "79c7a2ce89f446262efd86df3d72d18b04ba487024b7c42...                  30   \n",
              "79c7a2ce89f446262efd86df3d72d18b04ba487024b7c42...                  30   \n",
              "79c7a2ce89f446262efd86df3d72d18b04ba487024b7c42...                  30   \n",
              "79c7a2ce89f446262efd86df3d72d18b04ba487024b7c42...                  30   \n",
              "79c7a2ce89f446262efd86df3d72d18b04ba487024b7c42...                  30   \n",
              "\n",
              "                                                    DEVICE_CONDITION  \\\n",
              "CRASH_RECORD_ID                                                        \n",
              "79c7a2ce89f446262efd86df3d72d18b04ba487024b7c42...                 0   \n",
              "79c7a2ce89f446262efd86df3d72d18b04ba487024b7c42...                 0   \n",
              "79c7a2ce89f446262efd86df3d72d18b04ba487024b7c42...                 0   \n",
              "79c7a2ce89f446262efd86df3d72d18b04ba487024b7c42...                 0   \n",
              "79c7a2ce89f446262efd86df3d72d18b04ba487024b7c42...                 0   \n",
              "\n",
              "                                                    WEATHER_CONDITION  \\\n",
              "CRASH_RECORD_ID                                                         \n",
              "79c7a2ce89f446262efd86df3d72d18b04ba487024b7c42...                  0   \n",
              "79c7a2ce89f446262efd86df3d72d18b04ba487024b7c42...                  0   \n",
              "79c7a2ce89f446262efd86df3d72d18b04ba487024b7c42...                  0   \n",
              "79c7a2ce89f446262efd86df3d72d18b04ba487024b7c42...                  0   \n",
              "79c7a2ce89f446262efd86df3d72d18b04ba487024b7c42...                  0   \n",
              "\n",
              "                                                    LIGHTING_CONDITION  \\\n",
              "CRASH_RECORD_ID                                                          \n",
              "79c7a2ce89f446262efd86df3d72d18b04ba487024b7c42...                   0   \n",
              "79c7a2ce89f446262efd86df3d72d18b04ba487024b7c42...                   0   \n",
              "79c7a2ce89f446262efd86df3d72d18b04ba487024b7c42...                   0   \n",
              "79c7a2ce89f446262efd86df3d72d18b04ba487024b7c42...                   0   \n",
              "79c7a2ce89f446262efd86df3d72d18b04ba487024b7c42...                   0   \n",
              "\n",
              "                                                    INTERSECTION_RELATED_I  \\\n",
              "CRASH_RECORD_ID                                                              \n",
              "79c7a2ce89f446262efd86df3d72d18b04ba487024b7c42...                       0   \n",
              "79c7a2ce89f446262efd86df3d72d18b04ba487024b7c42...                       0   \n",
              "79c7a2ce89f446262efd86df3d72d18b04ba487024b7c42...                       0   \n",
              "79c7a2ce89f446262efd86df3d72d18b04ba487024b7c42...                       0   \n",
              "79c7a2ce89f446262efd86df3d72d18b04ba487024b7c42...                       0   \n",
              "\n",
              "                                                    ROAD_DEFECT  \\\n",
              "CRASH_RECORD_ID                                                   \n",
              "79c7a2ce89f446262efd86df3d72d18b04ba487024b7c42...            0   \n",
              "79c7a2ce89f446262efd86df3d72d18b04ba487024b7c42...            0   \n",
              "79c7a2ce89f446262efd86df3d72d18b04ba487024b7c42...            0   \n",
              "79c7a2ce89f446262efd86df3d72d18b04ba487024b7c42...            0   \n",
              "79c7a2ce89f446262efd86df3d72d18b04ba487024b7c42...            0   \n",
              "\n",
              "                                                    PRIM_CONTRIBUTORY_CAUSE  \\\n",
              "CRASH_RECORD_ID                                                               \n",
              "79c7a2ce89f446262efd86df3d72d18b04ba487024b7c42...                        0   \n",
              "79c7a2ce89f446262efd86df3d72d18b04ba487024b7c42...                        0   \n",
              "79c7a2ce89f446262efd86df3d72d18b04ba487024b7c42...                        0   \n",
              "79c7a2ce89f446262efd86df3d72d18b04ba487024b7c42...                        0   \n",
              "79c7a2ce89f446262efd86df3d72d18b04ba487024b7c42...                        0   \n",
              "\n",
              "                                                    NUM_UNITS  WORK_ZONE_I  \\\n",
              "CRASH_RECORD_ID                                                              \n",
              "79c7a2ce89f446262efd86df3d72d18b04ba487024b7c42...          2            0   \n",
              "79c7a2ce89f446262efd86df3d72d18b04ba487024b7c42...          2            0   \n",
              "79c7a2ce89f446262efd86df3d72d18b04ba487024b7c42...          2            0   \n",
              "79c7a2ce89f446262efd86df3d72d18b04ba487024b7c42...          2            0   \n",
              "79c7a2ce89f446262efd86df3d72d18b04ba487024b7c42...          2            0   \n",
              "\n",
              "                                                    ...  VEHICLE_DEFECT_I  \\\n",
              "CRASH_RECORD_ID                                     ...                     \n",
              "79c7a2ce89f446262efd86df3d72d18b04ba487024b7c42...  ...                 0   \n",
              "79c7a2ce89f446262efd86df3d72d18b04ba487024b7c42...  ...                 0   \n",
              "79c7a2ce89f446262efd86df3d72d18b04ba487024b7c42...  ...                 0   \n",
              "79c7a2ce89f446262efd86df3d72d18b04ba487024b7c42...  ...                 0   \n",
              "79c7a2ce89f446262efd86df3d72d18b04ba487024b7c42...  ...                 0   \n",
              "\n",
              "                                                    OCCUPANT_CAT  PERSON_TYPE  \\\n",
              "CRASH_RECORD_ID                                                                 \n",
              "79c7a2ce89f446262efd86df3d72d18b04ba487024b7c42...             0            0   \n",
              "79c7a2ce89f446262efd86df3d72d18b04ba487024b7c42...             0            1   \n",
              "79c7a2ce89f446262efd86df3d72d18b04ba487024b7c42...             0            1   \n",
              "79c7a2ce89f446262efd86df3d72d18b04ba487024b7c42...             0            0   \n",
              "79c7a2ce89f446262efd86df3d72d18b04ba487024b7c42...             0            1   \n",
              "\n",
              "                                                     AGE  SAFETY_EQUIPMENT  \\\n",
              "CRASH_RECORD_ID                                                              \n",
              "79c7a2ce89f446262efd86df3d72d18b04ba487024b7c42...  27.0                 0   \n",
              "79c7a2ce89f446262efd86df3d72d18b04ba487024b7c42...  22.0                 0   \n",
              "79c7a2ce89f446262efd86df3d72d18b04ba487024b7c42...  56.0                 0   \n",
              "79c7a2ce89f446262efd86df3d72d18b04ba487024b7c42...  27.0                 0   \n",
              "79c7a2ce89f446262efd86df3d72d18b04ba487024b7c42...  22.0                 0   \n",
              "\n",
              "                                                    INJURY_CLASSIFICATION  \\\n",
              "CRASH_RECORD_ID                                                             \n",
              "79c7a2ce89f446262efd86df3d72d18b04ba487024b7c42...                      0   \n",
              "79c7a2ce89f446262efd86df3d72d18b04ba487024b7c42...                      1   \n",
              "79c7a2ce89f446262efd86df3d72d18b04ba487024b7c42...                      0   \n",
              "79c7a2ce89f446262efd86df3d72d18b04ba487024b7c42...                      0   \n",
              "79c7a2ce89f446262efd86df3d72d18b04ba487024b7c42...                      1   \n",
              "\n",
              "                                                    DRIVER_ACTION  \\\n",
              "CRASH_RECORD_ID                                                     \n",
              "79c7a2ce89f446262efd86df3d72d18b04ba487024b7c42...              0   \n",
              "79c7a2ce89f446262efd86df3d72d18b04ba487024b7c42...              1   \n",
              "79c7a2ce89f446262efd86df3d72d18b04ba487024b7c42...              2   \n",
              "79c7a2ce89f446262efd86df3d72d18b04ba487024b7c42...              0   \n",
              "79c7a2ce89f446262efd86df3d72d18b04ba487024b7c42...              1   \n",
              "\n",
              "                                                    DRIVER_VISION  \\\n",
              "CRASH_RECORD_ID                                                     \n",
              "79c7a2ce89f446262efd86df3d72d18b04ba487024b7c42...              0   \n",
              "79c7a2ce89f446262efd86df3d72d18b04ba487024b7c42...              1   \n",
              "79c7a2ce89f446262efd86df3d72d18b04ba487024b7c42...              2   \n",
              "79c7a2ce89f446262efd86df3d72d18b04ba487024b7c42...              0   \n",
              "79c7a2ce89f446262efd86df3d72d18b04ba487024b7c42...              1   \n",
              "\n",
              "                                                    PHYSICAL_CONDITION  \\\n",
              "CRASH_RECORD_ID                                                          \n",
              "79c7a2ce89f446262efd86df3d72d18b04ba487024b7c42...                   0   \n",
              "79c7a2ce89f446262efd86df3d72d18b04ba487024b7c42...                   1   \n",
              "79c7a2ce89f446262efd86df3d72d18b04ba487024b7c42...                   1   \n",
              "79c7a2ce89f446262efd86df3d72d18b04ba487024b7c42...                   0   \n",
              "79c7a2ce89f446262efd86df3d72d18b04ba487024b7c42...                   1   \n",
              "\n",
              "                                                    PEDPEDAL_ACTION  \n",
              "CRASH_RECORD_ID                                                      \n",
              "79c7a2ce89f446262efd86df3d72d18b04ba487024b7c42...                0  \n",
              "79c7a2ce89f446262efd86df3d72d18b04ba487024b7c42...                1  \n",
              "79c7a2ce89f446262efd86df3d72d18b04ba487024b7c42...                1  \n",
              "79c7a2ce89f446262efd86df3d72d18b04ba487024b7c42...                0  \n",
              "79c7a2ce89f446262efd86df3d72d18b04ba487024b7c42...                1  \n",
              "\n",
              "[5 rows x 31 columns]"
            ],
            "text/html": [
              "\n",
              "  <div id=\"df-76123e9b-9e81-4bc2-a68c-9f60bf8a827f\">\n",
              "    <div class=\"colab-df-container\">\n",
              "      <div>\n",
              "<style scoped>\n",
              "    .dataframe tbody tr th:only-of-type {\n",
              "        vertical-align: middle;\n",
              "    }\n",
              "\n",
              "    .dataframe tbody tr th {\n",
              "        vertical-align: top;\n",
              "    }\n",
              "\n",
              "    .dataframe thead th {\n",
              "        text-align: right;\n",
              "    }\n",
              "</style>\n",
              "<table border=\"1\" class=\"dataframe\">\n",
              "  <thead>\n",
              "    <tr style=\"text-align: right;\">\n",
              "      <th></th>\n",
              "      <th>CRASH_YEAR</th>\n",
              "      <th>POSTED_SPEED_LIMIT</th>\n",
              "      <th>DEVICE_CONDITION</th>\n",
              "      <th>WEATHER_CONDITION</th>\n",
              "      <th>LIGHTING_CONDITION</th>\n",
              "      <th>INTERSECTION_RELATED_I</th>\n",
              "      <th>ROAD_DEFECT</th>\n",
              "      <th>PRIM_CONTRIBUTORY_CAUSE</th>\n",
              "      <th>NUM_UNITS</th>\n",
              "      <th>WORK_ZONE_I</th>\n",
              "      <th>...</th>\n",
              "      <th>VEHICLE_DEFECT_I</th>\n",
              "      <th>OCCUPANT_CAT</th>\n",
              "      <th>PERSON_TYPE</th>\n",
              "      <th>AGE</th>\n",
              "      <th>SAFETY_EQUIPMENT</th>\n",
              "      <th>INJURY_CLASSIFICATION</th>\n",
              "      <th>DRIVER_ACTION</th>\n",
              "      <th>DRIVER_VISION</th>\n",
              "      <th>PHYSICAL_CONDITION</th>\n",
              "      <th>PEDPEDAL_ACTION</th>\n",
              "    </tr>\n",
              "    <tr>\n",
              "      <th>CRASH_RECORD_ID</th>\n",
              "      <th></th>\n",
              "      <th></th>\n",
              "      <th></th>\n",
              "      <th></th>\n",
              "      <th></th>\n",
              "      <th></th>\n",
              "      <th></th>\n",
              "      <th></th>\n",
              "      <th></th>\n",
              "      <th></th>\n",
              "      <th></th>\n",
              "      <th></th>\n",
              "      <th></th>\n",
              "      <th></th>\n",
              "      <th></th>\n",
              "      <th></th>\n",
              "      <th></th>\n",
              "      <th></th>\n",
              "      <th></th>\n",
              "      <th></th>\n",
              "      <th></th>\n",
              "    </tr>\n",
              "  </thead>\n",
              "  <tbody>\n",
              "    <tr>\n",
              "      <th>79c7a2ce89f446262efd86df3d72d18b04ba487024b7c42d58be7bc0ee3b2779be1916679231382b4a4bfe14200bd305d9c6feb7cd70839f863dd944b040212d</th>\n",
              "      <td>2019</td>\n",
              "      <td>30</td>\n",
              "      <td>0</td>\n",
              "      <td>0</td>\n",
              "      <td>0</td>\n",
              "      <td>0</td>\n",
              "      <td>0</td>\n",
              "      <td>0</td>\n",
              "      <td>2</td>\n",
              "      <td>0</td>\n",
              "      <td>...</td>\n",
              "      <td>0</td>\n",
              "      <td>0</td>\n",
              "      <td>0</td>\n",
              "      <td>27.0</td>\n",
              "      <td>0</td>\n",
              "      <td>0</td>\n",
              "      <td>0</td>\n",
              "      <td>0</td>\n",
              "      <td>0</td>\n",
              "      <td>0</td>\n",
              "    </tr>\n",
              "    <tr>\n",
              "      <th>79c7a2ce89f446262efd86df3d72d18b04ba487024b7c42d58be7bc0ee3b2779be1916679231382b4a4bfe14200bd305d9c6feb7cd70839f863dd944b040212d</th>\n",
              "      <td>2019</td>\n",
              "      <td>30</td>\n",
              "      <td>0</td>\n",
              "      <td>0</td>\n",
              "      <td>0</td>\n",
              "      <td>0</td>\n",
              "      <td>0</td>\n",
              "      <td>0</td>\n",
              "      <td>2</td>\n",
              "      <td>0</td>\n",
              "      <td>...</td>\n",
              "      <td>0</td>\n",
              "      <td>0</td>\n",
              "      <td>1</td>\n",
              "      <td>22.0</td>\n",
              "      <td>0</td>\n",
              "      <td>1</td>\n",
              "      <td>1</td>\n",
              "      <td>1</td>\n",
              "      <td>1</td>\n",
              "      <td>1</td>\n",
              "    </tr>\n",
              "    <tr>\n",
              "      <th>79c7a2ce89f446262efd86df3d72d18b04ba487024b7c42d58be7bc0ee3b2779be1916679231382b4a4bfe14200bd305d9c6feb7cd70839f863dd944b040212d</th>\n",
              "      <td>2019</td>\n",
              "      <td>30</td>\n",
              "      <td>0</td>\n",
              "      <td>0</td>\n",
              "      <td>0</td>\n",
              "      <td>0</td>\n",
              "      <td>0</td>\n",
              "      <td>0</td>\n",
              "      <td>2</td>\n",
              "      <td>0</td>\n",
              "      <td>...</td>\n",
              "      <td>0</td>\n",
              "      <td>0</td>\n",
              "      <td>1</td>\n",
              "      <td>56.0</td>\n",
              "      <td>0</td>\n",
              "      <td>0</td>\n",
              "      <td>2</td>\n",
              "      <td>2</td>\n",
              "      <td>1</td>\n",
              "      <td>1</td>\n",
              "    </tr>\n",
              "    <tr>\n",
              "      <th>79c7a2ce89f446262efd86df3d72d18b04ba487024b7c42d58be7bc0ee3b2779be1916679231382b4a4bfe14200bd305d9c6feb7cd70839f863dd944b040212d</th>\n",
              "      <td>2019</td>\n",
              "      <td>30</td>\n",
              "      <td>0</td>\n",
              "      <td>0</td>\n",
              "      <td>0</td>\n",
              "      <td>0</td>\n",
              "      <td>0</td>\n",
              "      <td>0</td>\n",
              "      <td>2</td>\n",
              "      <td>0</td>\n",
              "      <td>...</td>\n",
              "      <td>0</td>\n",
              "      <td>0</td>\n",
              "      <td>0</td>\n",
              "      <td>27.0</td>\n",
              "      <td>0</td>\n",
              "      <td>0</td>\n",
              "      <td>0</td>\n",
              "      <td>0</td>\n",
              "      <td>0</td>\n",
              "      <td>0</td>\n",
              "    </tr>\n",
              "    <tr>\n",
              "      <th>79c7a2ce89f446262efd86df3d72d18b04ba487024b7c42d58be7bc0ee3b2779be1916679231382b4a4bfe14200bd305d9c6feb7cd70839f863dd944b040212d</th>\n",
              "      <td>2019</td>\n",
              "      <td>30</td>\n",
              "      <td>0</td>\n",
              "      <td>0</td>\n",
              "      <td>0</td>\n",
              "      <td>0</td>\n",
              "      <td>0</td>\n",
              "      <td>0</td>\n",
              "      <td>2</td>\n",
              "      <td>0</td>\n",
              "      <td>...</td>\n",
              "      <td>0</td>\n",
              "      <td>0</td>\n",
              "      <td>1</td>\n",
              "      <td>22.0</td>\n",
              "      <td>0</td>\n",
              "      <td>1</td>\n",
              "      <td>1</td>\n",
              "      <td>1</td>\n",
              "      <td>1</td>\n",
              "      <td>1</td>\n",
              "    </tr>\n",
              "  </tbody>\n",
              "</table>\n",
              "<p>5 rows × 31 columns</p>\n",
              "</div>\n",
              "      <button class=\"colab-df-convert\" onclick=\"convertToInteractive('df-76123e9b-9e81-4bc2-a68c-9f60bf8a827f')\"\n",
              "              title=\"Convert this dataframe to an interactive table.\"\n",
              "              style=\"display:none;\">\n",
              "        \n",
              "  <svg xmlns=\"http://www.w3.org/2000/svg\" height=\"24px\"viewBox=\"0 0 24 24\"\n",
              "       width=\"24px\">\n",
              "    <path d=\"M0 0h24v24H0V0z\" fill=\"none\"/>\n",
              "    <path d=\"M18.56 5.44l.94 2.06.94-2.06 2.06-.94-2.06-.94-.94-2.06-.94 2.06-2.06.94zm-11 1L8.5 8.5l.94-2.06 2.06-.94-2.06-.94L8.5 2.5l-.94 2.06-2.06.94zm10 10l.94 2.06.94-2.06 2.06-.94-2.06-.94-.94-2.06-.94 2.06-2.06.94z\"/><path d=\"M17.41 7.96l-1.37-1.37c-.4-.4-.92-.59-1.43-.59-.52 0-1.04.2-1.43.59L10.3 9.45l-7.72 7.72c-.78.78-.78 2.05 0 2.83L4 21.41c.39.39.9.59 1.41.59.51 0 1.02-.2 1.41-.59l7.78-7.78 2.81-2.81c.8-.78.8-2.07 0-2.86zM5.41 20L4 18.59l7.72-7.72 1.47 1.35L5.41 20z\"/>\n",
              "  </svg>\n",
              "      </button>\n",
              "      \n",
              "  <style>\n",
              "    .colab-df-container {\n",
              "      display:flex;\n",
              "      flex-wrap:wrap;\n",
              "      gap: 12px;\n",
              "    }\n",
              "\n",
              "    .colab-df-convert {\n",
              "      background-color: #E8F0FE;\n",
              "      border: none;\n",
              "      border-radius: 50%;\n",
              "      cursor: pointer;\n",
              "      display: none;\n",
              "      fill: #1967D2;\n",
              "      height: 32px;\n",
              "      padding: 0 0 0 0;\n",
              "      width: 32px;\n",
              "    }\n",
              "\n",
              "    .colab-df-convert:hover {\n",
              "      background-color: #E2EBFA;\n",
              "      box-shadow: 0px 1px 2px rgba(60, 64, 67, 0.3), 0px 1px 3px 1px rgba(60, 64, 67, 0.15);\n",
              "      fill: #174EA6;\n",
              "    }\n",
              "\n",
              "    [theme=dark] .colab-df-convert {\n",
              "      background-color: #3B4455;\n",
              "      fill: #D2E3FC;\n",
              "    }\n",
              "\n",
              "    [theme=dark] .colab-df-convert:hover {\n",
              "      background-color: #434B5C;\n",
              "      box-shadow: 0px 1px 3px 1px rgba(0, 0, 0, 0.15);\n",
              "      filter: drop-shadow(0px 1px 2px rgba(0, 0, 0, 0.3));\n",
              "      fill: #FFFFFF;\n",
              "    }\n",
              "  </style>\n",
              "\n",
              "      <script>\n",
              "        const buttonEl =\n",
              "          document.querySelector('#df-76123e9b-9e81-4bc2-a68c-9f60bf8a827f button.colab-df-convert');\n",
              "        buttonEl.style.display =\n",
              "          google.colab.kernel.accessAllowed ? 'block' : 'none';\n",
              "\n",
              "        async function convertToInteractive(key) {\n",
              "          const element = document.querySelector('#df-76123e9b-9e81-4bc2-a68c-9f60bf8a827f');\n",
              "          const dataTable =\n",
              "            await google.colab.kernel.invokeFunction('convertToInteractive',\n",
              "                                                     [key], {});\n",
              "          if (!dataTable) return;\n",
              "\n",
              "          const docLinkHtml = 'Like what you see? Visit the ' +\n",
              "            '<a target=\"_blank\" href=https://colab.research.google.com/notebooks/data_table.ipynb>data table notebook</a>'\n",
              "            + ' to learn more about interactive tables.';\n",
              "          element.innerHTML = '';\n",
              "          dataTable['output_type'] = 'display_data';\n",
              "          await google.colab.output.renderOutput(dataTable, element);\n",
              "          const docLink = document.createElement('div');\n",
              "          docLink.innerHTML = docLinkHtml;\n",
              "          element.appendChild(docLink);\n",
              "        }\n",
              "      </script>\n",
              "    </div>\n",
              "  </div>\n",
              "  "
            ]
          },
          "metadata": {},
          "execution_count": 250
        }
      ],
      "source": [
        "# checking the shape and final result\n",
        "print(veh_crsh_ppl.shape)\n",
        "veh_crsh_ppl.head()"
      ],
      "id": "4b725f2a"
    },
    {
      "cell_type": "markdown",
      "metadata": {
        "id": "9b3294f0"
      },
      "source": [
        "## Modeling and Evaluation"
      ],
      "id": "9b3294f0"
    },
    {
      "cell_type": "markdown",
      "metadata": {
        "id": "86541ea8"
      },
      "source": [
        "Now we will split our datasets into X and y sets to use for modeling. Before we can start modeling, we still need to deal with the imbalance of the datsets which we will do after splitting int train and test sets to avoid data leakage."
      ],
      "id": "86541ea8"
    },
    {
      "cell_type": "code",
      "execution_count": 251,
      "metadata": {
        "id": "6c7e510f"
      },
      "outputs": [],
      "source": [
        "#split into X and y\n",
        "X = veh_crsh_ppl.drop('PRIM_CONTRIBUTORY_CAUSE',axis=1)\n",
        "y = veh_crsh_ppl['PRIM_CONTRIBUTORY_CAUSE']\n",
        "\n",
        "Xu = u_veh_crsh_ppl.drop('PRIM_CONTRIBUTORY_CAUSE',axis=1)"
      ],
      "id": "6c7e510f"
    },
    {
      "cell_type": "code",
      "execution_count": 252,
      "metadata": {
        "id": "221effdd"
      },
      "outputs": [],
      "source": [
        "from sklearn.model_selection import GroupShuffleSplit"
      ],
      "id": "221effdd"
    },
    {
      "cell_type": "markdown",
      "metadata": {
        "id": "541ea656"
      },
      "source": [
        "Since we want to keep the records associated with the same crash together, we will use the Group Shuffle Split method to keep these together."
      ],
      "id": "541ea656"
    },
    {
      "cell_type": "code",
      "execution_count": 253,
      "metadata": {
        "id": "68a764bf"
      },
      "outputs": [],
      "source": [
        "# Split the indices into train and test sets\n",
        "group_splitter = GroupShuffleSplit(n_splits=1, test_size=0.2, random_state=42)\n",
        "train_idx, test_idx = next(group_splitter.split(X=X, groups=X.index))\n",
        "\n",
        "# Get the data for the train and test sets\n",
        "X_train = X.loc[X.index.isin(X.index[train_idx])]\n",
        "y_train = y.loc[y.index.isin(X.index[train_idx])]\n",
        "\n",
        "X_test = X.loc[X.index.isin(X.index[test_idx])]\n",
        "y_test = y.loc[y.index.isin(X.index[test_idx])]"
      ],
      "id": "68a764bf"
    },
    {
      "cell_type": "code",
      "execution_count": 254,
      "metadata": {
        "colab": {
          "base_uri": "https://localhost:8080/"
        },
        "id": "ed0a7d06",
        "outputId": "89299473-52fc-4926-8c85-538d88af163e"
      },
      "outputs": [
        {
          "output_type": "stream",
          "name": "stdout",
          "text": [
            "<class 'pandas.core.frame.DataFrame'>\n",
            "Index: 343194 entries, 79c7a2ce89f446262efd86df3d72d18b04ba487024b7c42d58be7bc0ee3b2779be1916679231382b4a4bfe14200bd305d9c6feb7cd70839f863dd944b040212d to 22a4d7218110c786c6e8394f9843d1185ed506773581445e1a8261e83bbd1de51e60fd43a0637d7d1c2bdad80f40acf6530dd11490e1b14798f6ae83a6354f2b\n",
            "Data columns (total 30 columns):\n",
            " #   Column                  Non-Null Count   Dtype  \n",
            "---  ------                  --------------   -----  \n",
            " 0   CRASH_YEAR              343194 non-null  int64  \n",
            " 1   POSTED_SPEED_LIMIT      343194 non-null  int64  \n",
            " 2   DEVICE_CONDITION        343194 non-null  int64  \n",
            " 3   WEATHER_CONDITION       343194 non-null  int64  \n",
            " 4   LIGHTING_CONDITION      343194 non-null  int64  \n",
            " 5   INTERSECTION_RELATED_I  343194 non-null  int64  \n",
            " 6   ROAD_DEFECT             343194 non-null  int64  \n",
            " 7   NUM_UNITS               343194 non-null  int64  \n",
            " 8   WORK_ZONE_I             343194 non-null  int64  \n",
            " 9   WORKERS_PRESENT_I       343194 non-null  int64  \n",
            " 10  INJURIES_TOTAL          343194 non-null  float64\n",
            " 11  INJURIES_FATAL          343194 non-null  float64\n",
            " 12  CRASH_HOUR              343194 non-null  int64  \n",
            " 13  CRASH_DAY_OF_WEEK       343194 non-null  int64  \n",
            " 14  CRASH_MONTH             343194 non-null  int64  \n",
            " 15  LATITUDE                343194 non-null  float64\n",
            " 16  LONGITUDE               343194 non-null  float64\n",
            " 17  VEHICLE_TYPE            343194 non-null  int64  \n",
            " 18  MANEUVER                343194 non-null  int64  \n",
            " 19  FIRST_CONTACT_POINT     343194 non-null  int64  \n",
            " 20  VEHICLE_DEFECT_I        343194 non-null  int64  \n",
            " 21  OCCUPANT_CAT            343194 non-null  int64  \n",
            " 22  PERSON_TYPE             343194 non-null  int64  \n",
            " 23  AGE                     343194 non-null  float64\n",
            " 24  SAFETY_EQUIPMENT        343194 non-null  int64  \n",
            " 25  INJURY_CLASSIFICATION   343194 non-null  int64  \n",
            " 26  DRIVER_ACTION           343194 non-null  int64  \n",
            " 27  DRIVER_VISION           343194 non-null  int64  \n",
            " 28  PHYSICAL_CONDITION      343194 non-null  int64  \n",
            " 29  PEDPEDAL_ACTION         343194 non-null  int64  \n",
            "dtypes: float64(5), int64(25)\n",
            "memory usage: 81.2+ MB\n"
          ]
        }
      ],
      "source": [
        "X_train.info()"
      ],
      "id": "ed0a7d06"
    },
    {
      "cell_type": "markdown",
      "metadata": {
        "id": "885008f7"
      },
      "source": [
        "Since we have converted all of our data to numerical formaat, it wuld be helpful to scale the dataset so thaat all of it is on the saame scale and normalized. This way no single column with a lot of categories or columns that have higgh integer value data would bias the model into a poor performance."
      ],
      "id": "885008f7"
    },
    {
      "cell_type": "markdown",
      "metadata": {
        "id": "faea83d5"
      },
      "source": [
        "We will use standard scaler because itwill normalize our dataset, take care of outliers and be helpful to any gradient descent algorithms we waant to use."
      ],
      "id": "faea83d5"
    },
    {
      "cell_type": "code",
      "execution_count": 255,
      "metadata": {
        "id": "66dd13ea"
      },
      "outputs": [],
      "source": [
        "# Scale the data to ensure that all features have the same range of values\n",
        "scaler = StandardScaler()\n",
        "X_train_scaled = scaler.fit_transform(X_train)\n",
        "X_test_scaled = scaler.transform(X_test)\n",
        "\n",
        "scaler_u = StandardScaler()\n",
        "Xu_scaled = scaler_u.fit_transform(Xu)"
      ],
      "id": "66dd13ea"
    },
    {
      "cell_type": "code",
      "execution_count": 256,
      "metadata": {
        "id": "e87e2d99"
      },
      "outputs": [],
      "source": [
        "# Convert X_train_scaled back to a DataFrame\n",
        "X_train_scaled_df = pd.DataFrame(X_train_scaled, columns=X_train.columns, index=X_train.index)\n",
        "\n",
        "# Convert X_test_scaled back to a DataFrame\n",
        "X_test_scaled_df = pd.DataFrame(X_test_scaled, columns=X_test.columns, index=X_test.index)\n",
        "\n",
        "\n",
        "Xu_train_scaled_df = pd.DataFrame(Xu_scaled, columns=Xu.columns)"
      ],
      "id": "e87e2d99"
    },
    {
      "cell_type": "markdown",
      "metadata": {
        "id": "50b80fe0"
      },
      "source": [
        "### Random under Sampling"
      ],
      "id": "50b80fe0"
    },
    {
      "cell_type": "markdown",
      "metadata": {
        "id": "a471702c"
      },
      "source": [
        "Now, we want to undersample the data to deal with the imabalnce in our dataset. Undersampling is a technique used to address the issue of imbalanced datasets. When the classes in a dataset are imbalanced, the model trained on this dataset may be biased towards the majority class and may have poor performance on the minority class. By undersampling, we reduce the number of instances of the majority class so that the number of instances in the majority class is more balanced with the number of instances in the minority class. This helps to reduce the bias towards the majority class and can lead to improved model performance on the minority class.\n",
        "\n",
        "We will use sampling_strategy=\"not minority\". This strategy will sample all classes equally, ensuring that the resulting dataset has the same number of records for each category."
      ],
      "id": "a471702c"
    },
    {
      "cell_type": "code",
      "execution_count": 257,
      "metadata": {
        "id": "b03fb100"
      },
      "outputs": [],
      "source": [
        "from imblearn.under_sampling import RandomUnderSampler\n",
        "from collections import Counter\n",
        "from imblearn.under_sampling import ClusterCentroids\n",
        "from imblearn.over_sampling import SMOTE\n",
        "from imblearn.under_sampling import RandomUnderSampler"
      ],
      "id": "b03fb100"
    },
    {
      "cell_type": "code",
      "source": [
        "# undersample = RandomUnderSampler(sampling_strategy='majority')\n",
        "# oversample = SMOTE(sampling_strategy='auto', k_neighbors=5)\n",
        "\n",
        "# # # Undersample the majority class\n",
        "# X_under, y_under = undersample.fit_resample(X_train_scaled_df, y_train)\n",
        "\n",
        "# # # Oversample the minority classes\n",
        "# X_train_scaled_resampled, y_train_resampled = oversample.fit_resample(X_under, y_under)"
      ],
      "metadata": {
        "id": "5zcZCZ4XA-HS"
      },
      "id": "5zcZCZ4XA-HS",
      "execution_count": 258,
      "outputs": []
    },
    {
      "cell_type": "code",
      "source": [
        "# Define the ratios for each class\n",
        "class_ratios = {0: 154368, 1: 142577, 2: 40000, 3: 40000}\n",
        "\n",
        "# Create the SMOTE object with the specified ratios\n",
        "oversample = SMOTE(sampling_strategy=class_ratios, k_neighbors=5)\n",
        "\n",
        "# Oversample the minority classes\n",
        "X_train_scaled_resampled, y_train_resampled = oversample.fit_resample(X_train_scaled_df, y_train)"
      ],
      "metadata": {
        "id": "KnxZctRcszMG"
      },
      "id": "KnxZctRcszMG",
      "execution_count": 259,
      "outputs": []
    },
    {
      "cell_type": "code",
      "execution_count": 260,
      "metadata": {
        "colab": {
          "base_uri": "https://localhost:8080/"
        },
        "id": "68ff8a73",
        "outputId": "3bcca564-cc56-49b6-9fde-5dccf0123746"
      },
      "outputs": [
        {
          "output_type": "execute_result",
          "data": {
            "text/plain": [
              "0    154368\n",
              "1    142577\n",
              "2     27480\n",
              "3     18769\n",
              "Name: PRIM_CONTRIBUTORY_CAUSE, dtype: int64"
            ]
          },
          "metadata": {},
          "execution_count": 260
        }
      ],
      "source": [
        "y_train.value_counts()"
      ],
      "id": "68ff8a73"
    },
    {
      "cell_type": "code",
      "source": [
        "y_train_resampled.value_counts()\n"
      ],
      "metadata": {
        "colab": {
          "base_uri": "https://localhost:8080/"
        },
        "id": "7Jl1h4heBhPt",
        "outputId": "56248e7b-bb5e-42ed-d5ea-d2d8909d22eb"
      },
      "id": "7Jl1h4heBhPt",
      "execution_count": 261,
      "outputs": [
        {
          "output_type": "execute_result",
          "data": {
            "text/plain": [
              "0    154368\n",
              "1    142577\n",
              "2     40000\n",
              "3     40000\n",
              "Name: PRIM_CONTRIBUTORY_CAUSE, dtype: int64"
            ]
          },
          "metadata": {},
          "execution_count": 261
        }
      ]
    },
    {
      "cell_type": "code",
      "source": [
        "len(y_train_resampled)\n"
      ],
      "metadata": {
        "colab": {
          "base_uri": "https://localhost:8080/"
        },
        "id": "TVBad9xsBWzu",
        "outputId": "99f8a708-22a8-4f48-c65e-d60f71722d79"
      },
      "id": "TVBad9xsBWzu",
      "execution_count": 262,
      "outputs": [
        {
          "output_type": "execute_result",
          "data": {
            "text/plain": [
              "376945"
            ]
          },
          "metadata": {},
          "execution_count": 262
        }
      ]
    },
    {
      "cell_type": "code",
      "execution_count": 263,
      "metadata": {
        "colab": {
          "base_uri": "https://localhost:8080/"
        },
        "id": "2528a302",
        "outputId": "23289ef2-8bb0-46bb-da53-4bb7761aec70"
      },
      "outputs": [
        {
          "output_type": "execute_result",
          "data": {
            "text/plain": [
              "376945"
            ]
          },
          "metadata": {},
          "execution_count": 263
        }
      ],
      "source": [
        "len(X_train_scaled_resampled)"
      ],
      "id": "2528a302"
    },
    {
      "cell_type": "code",
      "execution_count": 264,
      "metadata": {
        "id": "a7eba2ec"
      },
      "outputs": [],
      "source": [
        "rus = RandomUnderSampler(sampling_strategy='not minority',random_state=42)\n",
        "X2_train_scaled_resampled, y2_train_resampled = rus.fit_resample(X_train_scaled_df, y_train)"
      ],
      "id": "a7eba2ec"
    },
    {
      "cell_type": "code",
      "execution_count": 265,
      "metadata": {
        "colab": {
          "base_uri": "https://localhost:8080/"
        },
        "id": "cd39832b",
        "outputId": "f7f640b2-646b-4bd3-c226-0bf6d8d1e7e1"
      },
      "outputs": [
        {
          "output_type": "execute_result",
          "data": {
            "text/plain": [
              "0    154368\n",
              "1    142577\n",
              "2     40000\n",
              "3     40000\n",
              "Name: PRIM_CONTRIBUTORY_CAUSE, dtype: int64"
            ]
          },
          "metadata": {},
          "execution_count": 265
        }
      ],
      "source": [
        "y_train_resampled.value_counts()"
      ],
      "id": "cd39832b"
    },
    {
      "cell_type": "markdown",
      "metadata": {
        "id": "8384fb56"
      },
      "source": [
        "### Feature Selection"
      ],
      "id": "8384fb56"
    },
    {
      "cell_type": "markdown",
      "metadata": {
        "id": "e4911840"
      },
      "source": [
        "With 30 different features, it will be computationally extremely expensive to model 200,000 records over 30 features. We will use feature selection thrugh the SelectKBest model using the Mutual information method. Mutual information measures the dependence between variables, and can be used to identify which variables have the most information about the target variable. It is a non-parametric method that does not assume a particular functional form of the relationship between the variables therefore we don't have to worry if the relationship between the target and the predictors is linear or not."
      ],
      "id": "e4911840"
    },
    {
      "cell_type": "code",
      "execution_count": 266,
      "metadata": {
        "id": "1cb3a371"
      },
      "outputs": [],
      "source": [
        "import pandas as pd\n",
        "from sklearn.feature_selection import SelectKBest\n",
        "from sklearn.feature_selection import chi2\n",
        "from sklearn.feature_selection import mutual_info_classif"
      ],
      "id": "1cb3a371"
    },
    {
      "cell_type": "code",
      "execution_count": 267,
      "metadata": {
        "colab": {
          "base_uri": "https://localhost:8080/",
          "height": 363
        },
        "id": "65cc9e75",
        "outputId": "50ff3e49-5345-477f-c1cf-befb534b7708"
      },
      "outputs": [
        {
          "output_type": "execute_result",
          "data": {
            "text/plain": [
              "                   Feature     Score\n",
              "15                LATITUDE  0.708302\n",
              "16               LONGITUDE  0.702080\n",
              "26           DRIVER_ACTION  0.186151\n",
              "23                     AGE  0.127190\n",
              "19     FIRST_CONTACT_POINT  0.112934\n",
              "18                MANEUVER  0.105357\n",
              "5   INTERSECTION_RELATED_I  0.096283\n",
              "12              CRASH_HOUR  0.093740\n",
              "14             CRASH_MONTH  0.085694\n",
              "13       CRASH_DAY_OF_WEEK  0.074832"
            ],
            "text/html": [
              "\n",
              "  <div id=\"df-ec4430a7-812f-4af9-bebe-fd1b17269627\">\n",
              "    <div class=\"colab-df-container\">\n",
              "      <div>\n",
              "<style scoped>\n",
              "    .dataframe tbody tr th:only-of-type {\n",
              "        vertical-align: middle;\n",
              "    }\n",
              "\n",
              "    .dataframe tbody tr th {\n",
              "        vertical-align: top;\n",
              "    }\n",
              "\n",
              "    .dataframe thead th {\n",
              "        text-align: right;\n",
              "    }\n",
              "</style>\n",
              "<table border=\"1\" class=\"dataframe\">\n",
              "  <thead>\n",
              "    <tr style=\"text-align: right;\">\n",
              "      <th></th>\n",
              "      <th>Feature</th>\n",
              "      <th>Score</th>\n",
              "    </tr>\n",
              "  </thead>\n",
              "  <tbody>\n",
              "    <tr>\n",
              "      <th>15</th>\n",
              "      <td>LATITUDE</td>\n",
              "      <td>0.708302</td>\n",
              "    </tr>\n",
              "    <tr>\n",
              "      <th>16</th>\n",
              "      <td>LONGITUDE</td>\n",
              "      <td>0.702080</td>\n",
              "    </tr>\n",
              "    <tr>\n",
              "      <th>26</th>\n",
              "      <td>DRIVER_ACTION</td>\n",
              "      <td>0.186151</td>\n",
              "    </tr>\n",
              "    <tr>\n",
              "      <th>23</th>\n",
              "      <td>AGE</td>\n",
              "      <td>0.127190</td>\n",
              "    </tr>\n",
              "    <tr>\n",
              "      <th>19</th>\n",
              "      <td>FIRST_CONTACT_POINT</td>\n",
              "      <td>0.112934</td>\n",
              "    </tr>\n",
              "    <tr>\n",
              "      <th>18</th>\n",
              "      <td>MANEUVER</td>\n",
              "      <td>0.105357</td>\n",
              "    </tr>\n",
              "    <tr>\n",
              "      <th>5</th>\n",
              "      <td>INTERSECTION_RELATED_I</td>\n",
              "      <td>0.096283</td>\n",
              "    </tr>\n",
              "    <tr>\n",
              "      <th>12</th>\n",
              "      <td>CRASH_HOUR</td>\n",
              "      <td>0.093740</td>\n",
              "    </tr>\n",
              "    <tr>\n",
              "      <th>14</th>\n",
              "      <td>CRASH_MONTH</td>\n",
              "      <td>0.085694</td>\n",
              "    </tr>\n",
              "    <tr>\n",
              "      <th>13</th>\n",
              "      <td>CRASH_DAY_OF_WEEK</td>\n",
              "      <td>0.074832</td>\n",
              "    </tr>\n",
              "  </tbody>\n",
              "</table>\n",
              "</div>\n",
              "      <button class=\"colab-df-convert\" onclick=\"convertToInteractive('df-ec4430a7-812f-4af9-bebe-fd1b17269627')\"\n",
              "              title=\"Convert this dataframe to an interactive table.\"\n",
              "              style=\"display:none;\">\n",
              "        \n",
              "  <svg xmlns=\"http://www.w3.org/2000/svg\" height=\"24px\"viewBox=\"0 0 24 24\"\n",
              "       width=\"24px\">\n",
              "    <path d=\"M0 0h24v24H0V0z\" fill=\"none\"/>\n",
              "    <path d=\"M18.56 5.44l.94 2.06.94-2.06 2.06-.94-2.06-.94-.94-2.06-.94 2.06-2.06.94zm-11 1L8.5 8.5l.94-2.06 2.06-.94-2.06-.94L8.5 2.5l-.94 2.06-2.06.94zm10 10l.94 2.06.94-2.06 2.06-.94-2.06-.94-.94-2.06-.94 2.06-2.06.94z\"/><path d=\"M17.41 7.96l-1.37-1.37c-.4-.4-.92-.59-1.43-.59-.52 0-1.04.2-1.43.59L10.3 9.45l-7.72 7.72c-.78.78-.78 2.05 0 2.83L4 21.41c.39.39.9.59 1.41.59.51 0 1.02-.2 1.41-.59l7.78-7.78 2.81-2.81c.8-.78.8-2.07 0-2.86zM5.41 20L4 18.59l7.72-7.72 1.47 1.35L5.41 20z\"/>\n",
              "  </svg>\n",
              "      </button>\n",
              "      \n",
              "  <style>\n",
              "    .colab-df-container {\n",
              "      display:flex;\n",
              "      flex-wrap:wrap;\n",
              "      gap: 12px;\n",
              "    }\n",
              "\n",
              "    .colab-df-convert {\n",
              "      background-color: #E8F0FE;\n",
              "      border: none;\n",
              "      border-radius: 50%;\n",
              "      cursor: pointer;\n",
              "      display: none;\n",
              "      fill: #1967D2;\n",
              "      height: 32px;\n",
              "      padding: 0 0 0 0;\n",
              "      width: 32px;\n",
              "    }\n",
              "\n",
              "    .colab-df-convert:hover {\n",
              "      background-color: #E2EBFA;\n",
              "      box-shadow: 0px 1px 2px rgba(60, 64, 67, 0.3), 0px 1px 3px 1px rgba(60, 64, 67, 0.15);\n",
              "      fill: #174EA6;\n",
              "    }\n",
              "\n",
              "    [theme=dark] .colab-df-convert {\n",
              "      background-color: #3B4455;\n",
              "      fill: #D2E3FC;\n",
              "    }\n",
              "\n",
              "    [theme=dark] .colab-df-convert:hover {\n",
              "      background-color: #434B5C;\n",
              "      box-shadow: 0px 1px 3px 1px rgba(0, 0, 0, 0.15);\n",
              "      filter: drop-shadow(0px 1px 2px rgba(0, 0, 0, 0.3));\n",
              "      fill: #FFFFFF;\n",
              "    }\n",
              "  </style>\n",
              "\n",
              "      <script>\n",
              "        const buttonEl =\n",
              "          document.querySelector('#df-ec4430a7-812f-4af9-bebe-fd1b17269627 button.colab-df-convert');\n",
              "        buttonEl.style.display =\n",
              "          google.colab.kernel.accessAllowed ? 'block' : 'none';\n",
              "\n",
              "        async function convertToInteractive(key) {\n",
              "          const element = document.querySelector('#df-ec4430a7-812f-4af9-bebe-fd1b17269627');\n",
              "          const dataTable =\n",
              "            await google.colab.kernel.invokeFunction('convertToInteractive',\n",
              "                                                     [key], {});\n",
              "          if (!dataTable) return;\n",
              "\n",
              "          const docLinkHtml = 'Like what you see? Visit the ' +\n",
              "            '<a target=\"_blank\" href=https://colab.research.google.com/notebooks/data_table.ipynb>data table notebook</a>'\n",
              "            + ' to learn more about interactive tables.';\n",
              "          element.innerHTML = '';\n",
              "          dataTable['output_type'] = 'display_data';\n",
              "          await google.colab.output.renderOutput(dataTable, element);\n",
              "          const docLink = document.createElement('div');\n",
              "          docLink.innerHTML = docLinkHtml;\n",
              "          element.appendChild(docLink);\n",
              "        }\n",
              "      </script>\n",
              "    </div>\n",
              "  </div>\n",
              "  "
            ]
          },
          "metadata": {},
          "execution_count": 267
        }
      ],
      "source": [
        "# Apply SelectKBest class to extract top 10 best features\n",
        "k=10\n",
        "kbest = SelectKBest(score_func=mutual_info_classif, k=k)\n",
        "fit = kbest.fit(X_train_scaled_resampled, y_train_resampled)\n",
        "\n",
        "# Create a new dataframe with only the selected features\n",
        "selected_features_indices = kbest.get_support(indices=True)\n",
        "selected_features = pd.DataFrame({'Feature': X_train.columns, 'Score': fit.scores_})\n",
        "selected_features.sort_values('Score', ascending=False).head(k)"
      ],
      "id": "65cc9e75"
    },
    {
      "cell_type": "markdown",
      "metadata": {
        "id": "df0af2ee"
      },
      "source": [
        "For mutual_info_classif, a higher score indicates a stronger mutual information between the target variable and the features, which means the feature is more relevant for prediction.\n",
        "\n",
        "Therefore we will extract the top 10 features and create new datasets that we will model on."
      ],
      "id": "df0af2ee"
    },
    {
      "cell_type": "code",
      "execution_count": 268,
      "metadata": {
        "id": "709e5237"
      },
      "outputs": [],
      "source": [
        "#use the indices to select the relevant features from the trainiing data\n",
        "X_train_fselect = X_train_scaled_resampled.iloc[:, selected_features_indices]\n",
        "\n",
        "#use the indices to select the relevant features from the test data\n",
        "X_test_fselect = X_test_scaled_df.iloc[:, selected_features_indices]\n",
        "\n",
        "#use the indices to select the relevant features from the unable to determine data\n",
        "Xu_fselect = Xu_train_scaled_df.iloc[:, selected_features_indices]\n",
        "\n",
        "#since random forest is well adept at handling imabalnced dataset, we will use the original\n",
        "#dataset without resampling\n",
        "X_train_scaled_fselect = X_train_scaled_df.iloc[:, selected_features_indices]\n",
        "X_test_scaled_fselect = X_test_scaled_df.iloc[:, selected_features_indices]"
      ],
      "id": "709e5237"
    },
    {
      "cell_type": "code",
      "source": [
        "X_train_fselect"
      ],
      "metadata": {
        "colab": {
          "base_uri": "https://localhost:8080/",
          "height": 488
        },
        "id": "u4UGQMuRnkew",
        "outputId": "c5560572-84cf-4a61-fded-4558db31a401"
      },
      "id": "u4UGQMuRnkew",
      "execution_count": 269,
      "outputs": [
        {
          "output_type": "execute_result",
          "data": {
            "text/plain": [
              "        INTERSECTION_RELATED_I  CRASH_HOUR  CRASH_DAY_OF_WEEK  CRASH_MONTH  \\\n",
              "0                    -1.044711    0.125297          -1.049595    -1.039728   \n",
              "1                    -1.044711    0.125297          -1.049595    -1.039728   \n",
              "2                    -1.044711    0.125297          -1.049595    -1.039728   \n",
              "3                    -1.044711    0.125297          -1.049595    -1.039728   \n",
              "4                    -1.044711    0.125297          -1.049595    -1.039728   \n",
              "...                        ...         ...                ...          ...   \n",
              "376940                0.957202   -1.016312          -0.556451     0.597129   \n",
              "376941                0.957202   -0.299326          -1.413718     1.081462   \n",
              "376942               -1.044711    1.046908          -0.556451     0.430235   \n",
              "376943                0.197283   -0.669409           0.429837     0.177045   \n",
              "376944               -1.044711    0.222445          -0.556451    -0.501453   \n",
              "\n",
              "        LATITUDE  LONGITUDE  MANEUVER  FIRST_CONTACT_POINT       AGE  \\\n",
              "0       0.110405   0.049509 -0.928151            -1.250607 -0.475332   \n",
              "1       0.110405   0.049509 -0.928151            -1.250607 -0.783599   \n",
              "2       0.110405   0.049509 -0.928151            -1.250607  1.312615   \n",
              "3       0.110405   0.049509 -0.315036            -1.250607 -0.475332   \n",
              "4       0.110405   0.049509 -0.315036            -1.250607 -0.783599   \n",
              "...          ...        ...       ...                  ...       ...   \n",
              "376940 -0.242631   0.077018 -0.315036            -1.250607 -0.140412   \n",
              "376941  0.221682   0.069693  0.137671            -0.059745 -0.149143   \n",
              "376942  0.018939  -0.051687 -0.315036             0.329045  0.678274   \n",
              "376943 -0.210671   0.047316 -0.315036             0.329045  0.874752   \n",
              "376944  0.307220  -0.239203 -0.315036             0.418077  0.886254   \n",
              "\n",
              "        DRIVER_ACTION  \n",
              "0           -0.950427  \n",
              "1           -0.671457  \n",
              "2           -0.392488  \n",
              "3           -0.950427  \n",
              "4           -0.671457  \n",
              "...               ...  \n",
              "376940       0.323818  \n",
              "376941       0.178428  \n",
              "376942       1.002361  \n",
              "376943       0.126734  \n",
              "376944      -0.113518  \n",
              "\n",
              "[376945 rows x 10 columns]"
            ],
            "text/html": [
              "\n",
              "  <div id=\"df-c53c88cc-6b49-49ee-a9a9-c2d09ae78fe3\">\n",
              "    <div class=\"colab-df-container\">\n",
              "      <div>\n",
              "<style scoped>\n",
              "    .dataframe tbody tr th:only-of-type {\n",
              "        vertical-align: middle;\n",
              "    }\n",
              "\n",
              "    .dataframe tbody tr th {\n",
              "        vertical-align: top;\n",
              "    }\n",
              "\n",
              "    .dataframe thead th {\n",
              "        text-align: right;\n",
              "    }\n",
              "</style>\n",
              "<table border=\"1\" class=\"dataframe\">\n",
              "  <thead>\n",
              "    <tr style=\"text-align: right;\">\n",
              "      <th></th>\n",
              "      <th>INTERSECTION_RELATED_I</th>\n",
              "      <th>CRASH_HOUR</th>\n",
              "      <th>CRASH_DAY_OF_WEEK</th>\n",
              "      <th>CRASH_MONTH</th>\n",
              "      <th>LATITUDE</th>\n",
              "      <th>LONGITUDE</th>\n",
              "      <th>MANEUVER</th>\n",
              "      <th>FIRST_CONTACT_POINT</th>\n",
              "      <th>AGE</th>\n",
              "      <th>DRIVER_ACTION</th>\n",
              "    </tr>\n",
              "  </thead>\n",
              "  <tbody>\n",
              "    <tr>\n",
              "      <th>0</th>\n",
              "      <td>-1.044711</td>\n",
              "      <td>0.125297</td>\n",
              "      <td>-1.049595</td>\n",
              "      <td>-1.039728</td>\n",
              "      <td>0.110405</td>\n",
              "      <td>0.049509</td>\n",
              "      <td>-0.928151</td>\n",
              "      <td>-1.250607</td>\n",
              "      <td>-0.475332</td>\n",
              "      <td>-0.950427</td>\n",
              "    </tr>\n",
              "    <tr>\n",
              "      <th>1</th>\n",
              "      <td>-1.044711</td>\n",
              "      <td>0.125297</td>\n",
              "      <td>-1.049595</td>\n",
              "      <td>-1.039728</td>\n",
              "      <td>0.110405</td>\n",
              "      <td>0.049509</td>\n",
              "      <td>-0.928151</td>\n",
              "      <td>-1.250607</td>\n",
              "      <td>-0.783599</td>\n",
              "      <td>-0.671457</td>\n",
              "    </tr>\n",
              "    <tr>\n",
              "      <th>2</th>\n",
              "      <td>-1.044711</td>\n",
              "      <td>0.125297</td>\n",
              "      <td>-1.049595</td>\n",
              "      <td>-1.039728</td>\n",
              "      <td>0.110405</td>\n",
              "      <td>0.049509</td>\n",
              "      <td>-0.928151</td>\n",
              "      <td>-1.250607</td>\n",
              "      <td>1.312615</td>\n",
              "      <td>-0.392488</td>\n",
              "    </tr>\n",
              "    <tr>\n",
              "      <th>3</th>\n",
              "      <td>-1.044711</td>\n",
              "      <td>0.125297</td>\n",
              "      <td>-1.049595</td>\n",
              "      <td>-1.039728</td>\n",
              "      <td>0.110405</td>\n",
              "      <td>0.049509</td>\n",
              "      <td>-0.315036</td>\n",
              "      <td>-1.250607</td>\n",
              "      <td>-0.475332</td>\n",
              "      <td>-0.950427</td>\n",
              "    </tr>\n",
              "    <tr>\n",
              "      <th>4</th>\n",
              "      <td>-1.044711</td>\n",
              "      <td>0.125297</td>\n",
              "      <td>-1.049595</td>\n",
              "      <td>-1.039728</td>\n",
              "      <td>0.110405</td>\n",
              "      <td>0.049509</td>\n",
              "      <td>-0.315036</td>\n",
              "      <td>-1.250607</td>\n",
              "      <td>-0.783599</td>\n",
              "      <td>-0.671457</td>\n",
              "    </tr>\n",
              "    <tr>\n",
              "      <th>...</th>\n",
              "      <td>...</td>\n",
              "      <td>...</td>\n",
              "      <td>...</td>\n",
              "      <td>...</td>\n",
              "      <td>...</td>\n",
              "      <td>...</td>\n",
              "      <td>...</td>\n",
              "      <td>...</td>\n",
              "      <td>...</td>\n",
              "      <td>...</td>\n",
              "    </tr>\n",
              "    <tr>\n",
              "      <th>376940</th>\n",
              "      <td>0.957202</td>\n",
              "      <td>-1.016312</td>\n",
              "      <td>-0.556451</td>\n",
              "      <td>0.597129</td>\n",
              "      <td>-0.242631</td>\n",
              "      <td>0.077018</td>\n",
              "      <td>-0.315036</td>\n",
              "      <td>-1.250607</td>\n",
              "      <td>-0.140412</td>\n",
              "      <td>0.323818</td>\n",
              "    </tr>\n",
              "    <tr>\n",
              "      <th>376941</th>\n",
              "      <td>0.957202</td>\n",
              "      <td>-0.299326</td>\n",
              "      <td>-1.413718</td>\n",
              "      <td>1.081462</td>\n",
              "      <td>0.221682</td>\n",
              "      <td>0.069693</td>\n",
              "      <td>0.137671</td>\n",
              "      <td>-0.059745</td>\n",
              "      <td>-0.149143</td>\n",
              "      <td>0.178428</td>\n",
              "    </tr>\n",
              "    <tr>\n",
              "      <th>376942</th>\n",
              "      <td>-1.044711</td>\n",
              "      <td>1.046908</td>\n",
              "      <td>-0.556451</td>\n",
              "      <td>0.430235</td>\n",
              "      <td>0.018939</td>\n",
              "      <td>-0.051687</td>\n",
              "      <td>-0.315036</td>\n",
              "      <td>0.329045</td>\n",
              "      <td>0.678274</td>\n",
              "      <td>1.002361</td>\n",
              "    </tr>\n",
              "    <tr>\n",
              "      <th>376943</th>\n",
              "      <td>0.197283</td>\n",
              "      <td>-0.669409</td>\n",
              "      <td>0.429837</td>\n",
              "      <td>0.177045</td>\n",
              "      <td>-0.210671</td>\n",
              "      <td>0.047316</td>\n",
              "      <td>-0.315036</td>\n",
              "      <td>0.329045</td>\n",
              "      <td>0.874752</td>\n",
              "      <td>0.126734</td>\n",
              "    </tr>\n",
              "    <tr>\n",
              "      <th>376944</th>\n",
              "      <td>-1.044711</td>\n",
              "      <td>0.222445</td>\n",
              "      <td>-0.556451</td>\n",
              "      <td>-0.501453</td>\n",
              "      <td>0.307220</td>\n",
              "      <td>-0.239203</td>\n",
              "      <td>-0.315036</td>\n",
              "      <td>0.418077</td>\n",
              "      <td>0.886254</td>\n",
              "      <td>-0.113518</td>\n",
              "    </tr>\n",
              "  </tbody>\n",
              "</table>\n",
              "<p>376945 rows × 10 columns</p>\n",
              "</div>\n",
              "      <button class=\"colab-df-convert\" onclick=\"convertToInteractive('df-c53c88cc-6b49-49ee-a9a9-c2d09ae78fe3')\"\n",
              "              title=\"Convert this dataframe to an interactive table.\"\n",
              "              style=\"display:none;\">\n",
              "        \n",
              "  <svg xmlns=\"http://www.w3.org/2000/svg\" height=\"24px\"viewBox=\"0 0 24 24\"\n",
              "       width=\"24px\">\n",
              "    <path d=\"M0 0h24v24H0V0z\" fill=\"none\"/>\n",
              "    <path d=\"M18.56 5.44l.94 2.06.94-2.06 2.06-.94-2.06-.94-.94-2.06-.94 2.06-2.06.94zm-11 1L8.5 8.5l.94-2.06 2.06-.94-2.06-.94L8.5 2.5l-.94 2.06-2.06.94zm10 10l.94 2.06.94-2.06 2.06-.94-2.06-.94-.94-2.06-.94 2.06-2.06.94z\"/><path d=\"M17.41 7.96l-1.37-1.37c-.4-.4-.92-.59-1.43-.59-.52 0-1.04.2-1.43.59L10.3 9.45l-7.72 7.72c-.78.78-.78 2.05 0 2.83L4 21.41c.39.39.9.59 1.41.59.51 0 1.02-.2 1.41-.59l7.78-7.78 2.81-2.81c.8-.78.8-2.07 0-2.86zM5.41 20L4 18.59l7.72-7.72 1.47 1.35L5.41 20z\"/>\n",
              "  </svg>\n",
              "      </button>\n",
              "      \n",
              "  <style>\n",
              "    .colab-df-container {\n",
              "      display:flex;\n",
              "      flex-wrap:wrap;\n",
              "      gap: 12px;\n",
              "    }\n",
              "\n",
              "    .colab-df-convert {\n",
              "      background-color: #E8F0FE;\n",
              "      border: none;\n",
              "      border-radius: 50%;\n",
              "      cursor: pointer;\n",
              "      display: none;\n",
              "      fill: #1967D2;\n",
              "      height: 32px;\n",
              "      padding: 0 0 0 0;\n",
              "      width: 32px;\n",
              "    }\n",
              "\n",
              "    .colab-df-convert:hover {\n",
              "      background-color: #E2EBFA;\n",
              "      box-shadow: 0px 1px 2px rgba(60, 64, 67, 0.3), 0px 1px 3px 1px rgba(60, 64, 67, 0.15);\n",
              "      fill: #174EA6;\n",
              "    }\n",
              "\n",
              "    [theme=dark] .colab-df-convert {\n",
              "      background-color: #3B4455;\n",
              "      fill: #D2E3FC;\n",
              "    }\n",
              "\n",
              "    [theme=dark] .colab-df-convert:hover {\n",
              "      background-color: #434B5C;\n",
              "      box-shadow: 0px 1px 3px 1px rgba(0, 0, 0, 0.15);\n",
              "      filter: drop-shadow(0px 1px 2px rgba(0, 0, 0, 0.3));\n",
              "      fill: #FFFFFF;\n",
              "    }\n",
              "  </style>\n",
              "\n",
              "      <script>\n",
              "        const buttonEl =\n",
              "          document.querySelector('#df-c53c88cc-6b49-49ee-a9a9-c2d09ae78fe3 button.colab-df-convert');\n",
              "        buttonEl.style.display =\n",
              "          google.colab.kernel.accessAllowed ? 'block' : 'none';\n",
              "\n",
              "        async function convertToInteractive(key) {\n",
              "          const element = document.querySelector('#df-c53c88cc-6b49-49ee-a9a9-c2d09ae78fe3');\n",
              "          const dataTable =\n",
              "            await google.colab.kernel.invokeFunction('convertToInteractive',\n",
              "                                                     [key], {});\n",
              "          if (!dataTable) return;\n",
              "\n",
              "          const docLinkHtml = 'Like what you see? Visit the ' +\n",
              "            '<a target=\"_blank\" href=https://colab.research.google.com/notebooks/data_table.ipynb>data table notebook</a>'\n",
              "            + ' to learn more about interactive tables.';\n",
              "          element.innerHTML = '';\n",
              "          dataTable['output_type'] = 'display_data';\n",
              "          await google.colab.output.renderOutput(dataTable, element);\n",
              "          const docLink = document.createElement('div');\n",
              "          docLink.innerHTML = docLinkHtml;\n",
              "          element.appendChild(docLink);\n",
              "        }\n",
              "      </script>\n",
              "    </div>\n",
              "  </div>\n",
              "  "
            ]
          },
          "metadata": {},
          "execution_count": 269
        }
      ]
    },
    {
      "cell_type": "code",
      "execution_count": 270,
      "metadata": {
        "id": "9a8c6d65"
      },
      "outputs": [],
      "source": [
        "# Creating data structure  of model and evaluation accuracy\n",
        "\n",
        "models ={\n",
        "    'Model Name':[],\n",
        "    'Accuracy':[],\n",
        "    'CV Score':[],\n",
        "    'Precision':[],\n",
        "    'Recall':[],\n",
        "}"
      ],
      "id": "9a8c6d65"
    },
    {
      "cell_type": "markdown",
      "metadata": {
        "id": "bb07a71a"
      },
      "source": [
        "### Baseline Model"
      ],
      "id": "bb07a71a"
    },
    {
      "cell_type": "markdown",
      "metadata": {
        "id": "7d79eb8b"
      },
      "source": [
        "We will start with a Baseline model of a Decision Tree Classifier. Decision tree classifiers are good for multi-categorical data modeling because they can handle both categorical and continuous features, and are able to handle interactions and non-linear relationships between features. "
      ],
      "id": "7d79eb8b"
    },
    {
      "cell_type": "code",
      "execution_count": 271,
      "metadata": {
        "id": "c7596cf3"
      },
      "outputs": [],
      "source": [
        "# from sklearn.linear_model import LogisticRegression\n",
        "from sklearn.tree import DecisionTreeClassifier\n",
        "from sklearn.metrics import accuracy_score\n",
        "from sklearn.model_selection import cross_val_score"
      ],
      "id": "c7596cf3"
    },
    {
      "cell_type": "code",
      "execution_count": 272,
      "metadata": {
        "id": "a975e3e8"
      },
      "outputs": [],
      "source": [
        "#initialize the classifier\n",
        "DT = DecisionTreeClassifier()"
      ],
      "id": "a975e3e8"
    },
    {
      "cell_type": "code",
      "execution_count": 273,
      "metadata": {
        "colab": {
          "base_uri": "https://localhost:8080/",
          "height": 75
        },
        "id": "44493b1a",
        "outputId": "0d51b9ce-6629-4467-c23e-ac0155c06cd9"
      },
      "outputs": [
        {
          "output_type": "execute_result",
          "data": {
            "text/plain": [
              "DecisionTreeClassifier()"
            ],
            "text/html": [
              "<style>#sk-container-id-1 {color: black;background-color: white;}#sk-container-id-1 pre{padding: 0;}#sk-container-id-1 div.sk-toggleable {background-color: white;}#sk-container-id-1 label.sk-toggleable__label {cursor: pointer;display: block;width: 100%;margin-bottom: 0;padding: 0.3em;box-sizing: border-box;text-align: center;}#sk-container-id-1 label.sk-toggleable__label-arrow:before {content: \"▸\";float: left;margin-right: 0.25em;color: #696969;}#sk-container-id-1 label.sk-toggleable__label-arrow:hover:before {color: black;}#sk-container-id-1 div.sk-estimator:hover label.sk-toggleable__label-arrow:before {color: black;}#sk-container-id-1 div.sk-toggleable__content {max-height: 0;max-width: 0;overflow: hidden;text-align: left;background-color: #f0f8ff;}#sk-container-id-1 div.sk-toggleable__content pre {margin: 0.2em;color: black;border-radius: 0.25em;background-color: #f0f8ff;}#sk-container-id-1 input.sk-toggleable__control:checked~div.sk-toggleable__content {max-height: 200px;max-width: 100%;overflow: auto;}#sk-container-id-1 input.sk-toggleable__control:checked~label.sk-toggleable__label-arrow:before {content: \"▾\";}#sk-container-id-1 div.sk-estimator input.sk-toggleable__control:checked~label.sk-toggleable__label {background-color: #d4ebff;}#sk-container-id-1 div.sk-label input.sk-toggleable__control:checked~label.sk-toggleable__label {background-color: #d4ebff;}#sk-container-id-1 input.sk-hidden--visually {border: 0;clip: rect(1px 1px 1px 1px);clip: rect(1px, 1px, 1px, 1px);height: 1px;margin: -1px;overflow: hidden;padding: 0;position: absolute;width: 1px;}#sk-container-id-1 div.sk-estimator {font-family: monospace;background-color: #f0f8ff;border: 1px dotted black;border-radius: 0.25em;box-sizing: border-box;margin-bottom: 0.5em;}#sk-container-id-1 div.sk-estimator:hover {background-color: #d4ebff;}#sk-container-id-1 div.sk-parallel-item::after {content: \"\";width: 100%;border-bottom: 1px solid gray;flex-grow: 1;}#sk-container-id-1 div.sk-label:hover label.sk-toggleable__label {background-color: #d4ebff;}#sk-container-id-1 div.sk-serial::before {content: \"\";position: absolute;border-left: 1px solid gray;box-sizing: border-box;top: 0;bottom: 0;left: 50%;z-index: 0;}#sk-container-id-1 div.sk-serial {display: flex;flex-direction: column;align-items: center;background-color: white;padding-right: 0.2em;padding-left: 0.2em;position: relative;}#sk-container-id-1 div.sk-item {position: relative;z-index: 1;}#sk-container-id-1 div.sk-parallel {display: flex;align-items: stretch;justify-content: center;background-color: white;position: relative;}#sk-container-id-1 div.sk-item::before, #sk-container-id-1 div.sk-parallel-item::before {content: \"\";position: absolute;border-left: 1px solid gray;box-sizing: border-box;top: 0;bottom: 0;left: 50%;z-index: -1;}#sk-container-id-1 div.sk-parallel-item {display: flex;flex-direction: column;z-index: 1;position: relative;background-color: white;}#sk-container-id-1 div.sk-parallel-item:first-child::after {align-self: flex-end;width: 50%;}#sk-container-id-1 div.sk-parallel-item:last-child::after {align-self: flex-start;width: 50%;}#sk-container-id-1 div.sk-parallel-item:only-child::after {width: 0;}#sk-container-id-1 div.sk-dashed-wrapped {border: 1px dashed gray;margin: 0 0.4em 0.5em 0.4em;box-sizing: border-box;padding-bottom: 0.4em;background-color: white;}#sk-container-id-1 div.sk-label label {font-family: monospace;font-weight: bold;display: inline-block;line-height: 1.2em;}#sk-container-id-1 div.sk-label-container {text-align: center;}#sk-container-id-1 div.sk-container {/* jupyter's `normalize.less` sets `[hidden] { display: none; }` but bootstrap.min.css set `[hidden] { display: none !important; }` so we also need the `!important` here to be able to override the default hidden behavior on the sphinx rendered scikit-learn.org. See: https://github.com/scikit-learn/scikit-learn/issues/21755 */display: inline-block !important;position: relative;}#sk-container-id-1 div.sk-text-repr-fallback {display: none;}</style><div id=\"sk-container-id-1\" class=\"sk-top-container\"><div class=\"sk-text-repr-fallback\"><pre>DecisionTreeClassifier()</pre><b>In a Jupyter environment, please rerun this cell to show the HTML representation or trust the notebook. <br />On GitHub, the HTML representation is unable to render, please try loading this page with nbviewer.org.</b></div><div class=\"sk-container\" hidden><div class=\"sk-item\"><div class=\"sk-estimator sk-toggleable\"><input class=\"sk-toggleable__control sk-hidden--visually\" id=\"sk-estimator-id-1\" type=\"checkbox\" checked><label for=\"sk-estimator-id-1\" class=\"sk-toggleable__label sk-toggleable__label-arrow\">DecisionTreeClassifier</label><div class=\"sk-toggleable__content\"><pre>DecisionTreeClassifier()</pre></div></div></div></div></div>"
            ]
          },
          "metadata": {},
          "execution_count": 273
        }
      ],
      "source": [
        "#fit the model\n",
        "DT.fit(X_train_fselect,y_train_resampled)"
      ],
      "id": "44493b1a"
    },
    {
      "cell_type": "code",
      "execution_count": 274,
      "metadata": {
        "id": "96fa943a"
      },
      "outputs": [],
      "source": [
        "#predict\n",
        "y_pred = DT.predict(X_test_fselect)"
      ],
      "id": "96fa943a"
    },
    {
      "cell_type": "code",
      "execution_count": 275,
      "metadata": {
        "colab": {
          "base_uri": "https://localhost:8080/"
        },
        "id": "fbcb46ba",
        "outputId": "13b8026b-b130-4f27-b231-815e085a8a39"
      },
      "outputs": [
        {
          "output_type": "stream",
          "name": "stdout",
          "text": [
            "Cross-validation scores: [0.54657021 0.55233669 0.56200656]\n",
            "Mean CV score: 0.5536378173675467\n"
          ]
        }
      ],
      "source": [
        "# Evaluate the model with cross-validation\n",
        "cv_scores = cross_val_score(DT, X_train_fselect, y_train_resampled, cv=3)\n",
        "print(\"Cross-validation scores:\", cv_scores)\n",
        "print(\"Mean CV score:\", np.mean(cv_scores)) "
      ],
      "id": "fbcb46ba"
    },
    {
      "cell_type": "code",
      "execution_count": 276,
      "metadata": {
        "colab": {
          "base_uri": "https://localhost:8080/"
        },
        "id": "f897d9c3",
        "outputId": "4e506f87-6fad-45ab-a350-b1ba5a87b098"
      },
      "outputs": [
        {
          "output_type": "execute_result",
          "data": {
            "text/plain": [
              "0.5342460993154255"
            ]
          },
          "metadata": {},
          "execution_count": 276
        }
      ],
      "source": [
        "#calcualte the accuraacy score\n",
        "accuracy = accuracy_score(y_test, y_pred)\n",
        "\n",
        "accuracy"
      ],
      "id": "f897d9c3"
    },
    {
      "cell_type": "code",
      "execution_count": 277,
      "metadata": {
        "id": "514748ff"
      },
      "outputs": [],
      "source": [
        "#import confusiion matrix\n",
        "from sklearn.metrics import confusion_matrix"
      ],
      "id": "514748ff"
    },
    {
      "cell_type": "markdown",
      "metadata": {
        "id": "f80d22e0"
      },
      "source": [
        "We can take a look at a confusion maatrix to understand how is our model performing."
      ],
      "id": "f80d22e0"
    },
    {
      "cell_type": "code",
      "execution_count": 278,
      "metadata": {
        "id": "20ff645a"
      },
      "outputs": [],
      "source": [
        "cm = confusion_matrix(y_test, y_pred)\n",
        "\n",
        "#plot confusion matrix\n",
        "# plot_confusion_matrix(DT, X_test_fselect, y_test, cmap=plt.cm.Blues);"
      ],
      "id": "20ff645a"
    },
    {
      "cell_type": "code",
      "execution_count": 279,
      "metadata": {
        "id": "1af6aea0"
      },
      "outputs": [],
      "source": [
        "from sklearn.metrics import precision_score, recall_score, classification_report"
      ],
      "id": "1af6aea0"
    },
    {
      "cell_type": "markdown",
      "metadata": {
        "id": "cd7b8902"
      },
      "source": [
        "Lets also take a look at a few other scoring methods to holistically understand the performaance of our dataet."
      ],
      "id": "cd7b8902"
    },
    {
      "cell_type": "code",
      "execution_count": 280,
      "metadata": {
        "colab": {
          "base_uri": "https://localhost:8080/"
        },
        "id": "36206ae6",
        "outputId": "1ba8752a-8042-40bd-ae9c-b7042ebc24c5"
      },
      "outputs": [
        {
          "output_type": "stream",
          "name": "stdout",
          "text": [
            "Precision: 0.5452971327506402\n",
            "Recall: 0.5342460993154255\n"
          ]
        }
      ],
      "source": [
        "precision = precision_score(y_test, y_pred,average='weighted')\n",
        "recall = recall_score(y_test, y_pred,average='weighted')\n",
        "\n",
        "print(\"Precision:\", precision)\n",
        "print(\"Recall:\", recall)"
      ],
      "id": "36206ae6"
    },
    {
      "cell_type": "code",
      "execution_count": 281,
      "metadata": {
        "colab": {
          "base_uri": "https://localhost:8080/"
        },
        "id": "e32bea7c",
        "outputId": "e1ea0f86-4619-4378-a54d-6d92fd12ef6f"
      },
      "outputs": [
        {
          "output_type": "stream",
          "name": "stdout",
          "text": [
            "              precision    recall  f1-score   support\n",
            "\n",
            "           0       0.59      0.57      0.58     39004\n",
            "           1       0.62      0.61      0.61     35950\n",
            "           2       0.18      0.21      0.19      6533\n",
            "           3       0.11      0.13      0.12      4844\n",
            "\n",
            "    accuracy                           0.53     86331\n",
            "   macro avg       0.38      0.38      0.38     86331\n",
            "weighted avg       0.55      0.53      0.54     86331\n",
            "\n"
          ]
        }
      ],
      "source": [
        "#print the classification report \n",
        "report = classification_report(y_test, y_pred)\n",
        "print(report)"
      ],
      "id": "e32bea7c"
    },
    {
      "cell_type": "code",
      "execution_count": 282,
      "metadata": {
        "id": "3ec28d9f"
      },
      "outputs": [],
      "source": [
        "# result in model data structure\n",
        "\n",
        "models['Model Name'].append('Decision Tree Classifier')\n",
        "models['Accuracy'].append(accuracy)\n",
        "models['CV Score'].append(np.mean(cv_scores))\n",
        "models['Precision'].append(precision)\n",
        "models['Recall'].append(recall)"
      ],
      "id": "3ec28d9f"
    },
    {
      "cell_type": "markdown",
      "metadata": {
        "id": "735c1215"
      },
      "source": [
        "### KNN Model"
      ],
      "id": "735c1215"
    },
    {
      "cell_type": "code",
      "execution_count": 283,
      "metadata": {
        "id": "0d60a44d"
      },
      "outputs": [],
      "source": [
        "from sklearn.neighbors import KNeighborsClassifier\n",
        "from sklearn.model_selection import train_test_split, cross_val_score, GridSearchCV"
      ],
      "id": "0d60a44d"
    },
    {
      "cell_type": "code",
      "execution_count": null,
      "metadata": {
        "id": "4b203ed3"
      },
      "outputs": [],
      "source": [
        "# Define the KNN classifier and the parameter grid for grid search\n",
        "knn = KNeighborsClassifier()\n",
        "\n",
        "# Define parameter grid distribution\n",
        "param_grid = {'n_neighbors': [10, 100, 1000, 2500],\n",
        "              'weights': ['distance'],'metric': ['manhattan'],\n",
        "              'algorithm': ['ball_tree']}\n",
        "\n",
        "# Perform grid search with cross-validation to find the best hyperparameters\n",
        "grid_search = GridSearchCV(knn, param_grid=param_grid, cv=3, scoring='accuracy')\n",
        "\n",
        "#grid_search.fit(X_train_knn_dr, y_train_resampled2)\n",
        "grid_search.fit(X_train_fselect, y_train_resampled)\n",
        "\n",
        "# Print best parameters and best score\n",
        "print(\"Best parameters: \", grid_search.best_params_)\n",
        "print(\"Best score: \", grid_search.best_score_)"
      ],
      "id": "4b203ed3"
    },
    {
      "cell_type": "code",
      "execution_count": null,
      "metadata": {
        "id": "50e08206"
      },
      "outputs": [],
      "source": [
        "# Make predictions on test set with best parameters\n",
        "best_knn = grid_search.best_estimator_\n",
        "y_pred = best_knn.predict(X_test_fselect)"
      ],
      "id": "50e08206"
    },
    {
      "cell_type": "code",
      "execution_count": null,
      "metadata": {
        "id": "2ad59ee9"
      },
      "outputs": [],
      "source": [
        "# Evaluate the model with cross-validation\n",
        "\n",
        "cv_scores = cross_val_score(best_knn, X_train_fselect, y_train_resampled, cv=3, scoring='accuracy')\n",
        "print(\"Cross-validation scores:\", cv_scores)\n",
        "print(\"Mean CV score:\", np.mean(cv_scores))"
      ],
      "id": "2ad59ee9"
    },
    {
      "cell_type": "code",
      "execution_count": null,
      "metadata": {
        "id": "f5e808e6"
      },
      "outputs": [],
      "source": [
        "# Make predictions on test set with best parameters\n",
        "# best_knn = grid_search.best_estimator_\n",
        "# y_pred = best_knn.predict(X_test_fselect)"
      ],
      "id": "f5e808e6"
    },
    {
      "cell_type": "code",
      "execution_count": null,
      "metadata": {
        "id": "541f3256"
      },
      "outputs": [],
      "source": [
        "# Calculate the confusion matrix and classification report\n",
        "cm = confusion_matrix(y_test, y_pred)\n",
        "class_report = classification_report(y_test, y_pred)\n",
        "# print(\"Confusion matrix:\\n\", conf_mat)\n",
        "print(\"Classification report:\\n\", class_report)"
      ],
      "id": "541f3256"
    },
    {
      "cell_type": "code",
      "execution_count": null,
      "metadata": {
        "id": "988ff9de"
      },
      "outputs": [],
      "source": [
        "cm = confusion_matrix(y_test, y_pred)\n",
        "# plot_confusion_matrix(cm=cm,classes=label_encoding.keys())\n",
        "# plot_confusion_matrix(best_knn, X_test_fselect, y_test, cmap=plt.cm.Blues);"
      ],
      "id": "988ff9de"
    },
    {
      "cell_type": "code",
      "execution_count": null,
      "metadata": {
        "id": "d683ba30"
      },
      "outputs": [],
      "source": [
        "# plot_confusion_matrix(cm=cm,classes=label_encoding.keys())"
      ],
      "id": "d683ba30"
    },
    {
      "cell_type": "code",
      "execution_count": null,
      "metadata": {
        "id": "0d695896"
      },
      "outputs": [],
      "source": [
        "# Calculate the accuracy score\n",
        "accuracy = accuracy_score(y_test, y_pred)\n",
        "print(\"Accuracy:\", accuracy)\n",
        "\n",
        "precision = precision_score(y_test, y_pred,average='weighted')\n",
        "recall = recall_score(y_test, y_pred,average='weighted')\n",
        "\n",
        "print(\"Precision:\", precision)\n",
        "print(\"Recall:\", recall)"
      ],
      "id": "0d695896"
    },
    {
      "cell_type": "code",
      "execution_count": null,
      "metadata": {
        "id": "f515de99"
      },
      "outputs": [],
      "source": [
        "# result in model data structure\n",
        "\n",
        "models['Model Name'].append('KNN MODEL')\n",
        "models['Accuracy'].append(accuracy)\n",
        "models['CV Score'].append(np.mean(cv_scores))\n",
        "models['Precision'].append(precision)\n",
        "models['Recall'].append(recall)"
      ],
      "id": "f515de99"
    },
    {
      "cell_type": "markdown",
      "metadata": {
        "id": "55513108"
      },
      "source": [
        "### Random Forests Model"
      ],
      "id": "55513108"
    },
    {
      "cell_type": "code",
      "execution_count": null,
      "metadata": {
        "id": "adfcb038"
      },
      "outputs": [],
      "source": [
        "from sklearn.model_selection import RandomizedSearchCV\n",
        "from sklearn.ensemble import RandomForestClassifier\n",
        "from sklearn.metrics import accuracy_score"
      ],
      "id": "adfcb038"
    },
    {
      "cell_type": "code",
      "execution_count": null,
      "metadata": {
        "id": "d4bf148c"
      },
      "outputs": [],
      "source": [
        "# Define Random Forest classifier with random state\n",
        "RFC = RandomForestClassifier(random_state=54)\n",
        "\n",
        "# Define parameter distribution\n",
        "param_dist = {'n_estimators': [100, 500, 1000, 2000],\n",
        "#               'max_samples_split': [2, 5, 10], 'max_samples_leaf': [1, 2, 4],\n",
        "              'max_depth': [None, 10, 20],\n",
        "              'min_samples_split': [2, 5, 10],class_weight=\"balanced\",\n",
        "              'min_samples_leaf': [1, 2, 4]}\n",
        "\n",
        "# Perform random search with cross validation\n",
        "random_search = RandomizedSearchCV(RFC, param_distributions=param_dist, cv=3, n_iter=50, random_state=42)\n",
        "random_search.fit(X_train_scaled_fselect, y_train)\n",
        "\n",
        "# Print best parameters and best score\n",
        "print(\"Best parameters: \", random_search.best_params_)\n",
        "print(\"Best score: \", random_search.best_score_)"
      ],
      "id": "d4bf148c"
    },
    {
      "cell_type": "code",
      "execution_count": null,
      "metadata": {
        "id": "42d7f35c"
      },
      "outputs": [],
      "source": [
        "# Make predictions on test set with best parameters\n",
        "best_rf = random_search.best_estimator_\n",
        "y_pred = best_rf.predict(X_test_scaled_fselect)"
      ],
      "id": "42d7f35c"
    },
    {
      "cell_type": "code",
      "execution_count": null,
      "metadata": {
        "id": "95e10b7f"
      },
      "outputs": [],
      "source": [
        "# Evaluate the model with cross-validation\n",
        "cv_scores = cross_val_score(best_rf, X_train_scaled_fselect, y_train, cv=5)\n",
        "print(\"Cross-validation scores:\", cv_scores)\n",
        "print(\"Mean CV score:\", np.mean(cv_scores))"
      ],
      "id": "95e10b7f"
    },
    {
      "cell_type": "code",
      "execution_count": null,
      "metadata": {
        "id": "96fab2af"
      },
      "outputs": [],
      "source": [
        "# Calculate the confusion matrix and classification report\n",
        "cm = confusion_matrix(y_test, y_pred)\n",
        "class_report = classification_report(y_test, y_pred)\n",
        "# print(\"Confusion matrix:\\n\", conf_mat)\n",
        "print(\"Classification report:\\n\", class_report)"
      ],
      "id": "96fab2af"
    },
    {
      "cell_type": "code",
      "execution_count": null,
      "metadata": {
        "id": "b77cc1cf"
      },
      "outputs": [],
      "source": [
        "# plot_confusion_matrix(cm=cm,classes=label_encoding.keys())\n",
        "# plot_confusion_matrix(best_rf, X_test_fselect, y_test, cmap=plt.cm.Blues);"
      ],
      "id": "b77cc1cf"
    },
    {
      "cell_type": "code",
      "execution_count": null,
      "metadata": {
        "id": "7d32f042"
      },
      "outputs": [],
      "source": [
        "# Calculate the accuracy score\n",
        "accuracy = accuracy_score(y_test, y_pred)\n",
        "print(\"Accuracy:\", accuracy)\n",
        "\n",
        "precision = precision_score(y_test, y_pred,average='weighted')\n",
        "recall = recall_score(y_test, y_pred,average='weighted')\n",
        "\n",
        "print(\"Precision:\", precision)\n",
        "print(\"Recall:\", recall)"
      ],
      "id": "7d32f042"
    },
    {
      "cell_type": "code",
      "execution_count": null,
      "metadata": {
        "id": "02868668"
      },
      "outputs": [],
      "source": [
        "# result in model data structure\n",
        "\n",
        "models['Model Name'].append('Random Forest Classifier')\n",
        "models['Accuracy'].append(accuracy)\n",
        "models['CV Score'].append(np.mean(cv_scores))\n",
        "models['Precision'].append(precision)\n",
        "models['Recall'].append(recall)"
      ],
      "id": "02868668"
    },
    {
      "cell_type": "markdown",
      "metadata": {
        "id": "4f732006"
      },
      "source": [
        "### XG Boost Model"
      ],
      "id": "4f732006"
    },
    {
      "cell_type": "code",
      "execution_count": null,
      "metadata": {
        "id": "ccc1fd91"
      },
      "outputs": [],
      "source": [
        "from xgboost import XGBClassifier\n",
        "\n",
        "# Defing XG Boosting Classifier along with random state\n",
        "XG = XGBClassifier(random_state=54 , reg_alpha=0.1)\n",
        "\n",
        "# Define parameter grid\n",
        "param_grid = {'n_estimators': [500, 1000, 2500],\n",
        "              'learning_rate': [0.3, 0.5, 1],\n",
        "              'max_depth': [5, 9, 15]}\n",
        "\n",
        "# Perform grid search\n",
        "grid_search = GridSearchCV(XG, param_grid, cv=3, scoring='accuracy')\n",
        "grid_search.fit(X_train_fselect, y_train_resampled)\n",
        "\n",
        "# Print best parameters and best score\n",
        "print(\"Best parameters: \", grid_search.best_params_)\n",
        "print(\"Best score: \", grid_search.best_score_)"
      ],
      "id": "ccc1fd91"
    },
    {
      "cell_type": "code",
      "execution_count": null,
      "metadata": {
        "id": "4f4dcce3"
      },
      "outputs": [],
      "source": [
        "# Make predictions on test set with best parameters\n",
        "best_xgb = grid_search.best_estimator_\n",
        "y_pred = best_xgb.predict(X_test_fselect)"
      ],
      "id": "4f4dcce3"
    },
    {
      "cell_type": "code",
      "execution_count": null,
      "metadata": {
        "id": "42e18c4f"
      },
      "outputs": [],
      "source": [
        "# Evaluate the model with cross-validation\n",
        "cv_scores = cross_val_score(best_xgb, X_train_fselect, y_train_resampled, cv=3)\n",
        "print(\"Cross-validation scores:\", cv_scores)\n",
        "print(\"Mean CV score:\", np.mean(cv_scores))"
      ],
      "id": "42e18c4f"
    },
    {
      "cell_type": "code",
      "execution_count": null,
      "metadata": {
        "id": "b499a9ae"
      },
      "outputs": [],
      "source": [
        "# Calculate the confusion matrix and classification report\n",
        "cm = confusion_matrix(y_test, y_pred)\n",
        "class_report = classification_report(y_test, y_pred)\n",
        "# print(\"Confusion matrix:\\n\", conf_mat)\n",
        "print(\"Classification report:\\n\", class_report)"
      ],
      "id": "b499a9ae"
    },
    {
      "cell_type": "code",
      "execution_count": null,
      "metadata": {
        "id": "3b4cabe0"
      },
      "outputs": [],
      "source": [
        "# plot_confusion_matrix(cm=cm,classes=label_encoding.keys())\n",
        "# plot_confusion_matrix(best_xgb, X_test_fselect, y_test, cmap=plt.cm.Blues);"
      ],
      "id": "3b4cabe0"
    },
    {
      "cell_type": "code",
      "execution_count": null,
      "metadata": {
        "id": "d72553dc"
      },
      "outputs": [],
      "source": [
        "# Calculate the accuracy score\n",
        "accuracy = accuracy_score(y_test, y_pred)\n",
        "print(\"Accuracy:\", accuracy)\n",
        "\n",
        "precision = precision_score(y_test, y_pred,average='weighted')\n",
        "recall = recall_score(y_test, y_pred,average='weighted')\n",
        "\n",
        "print(\"Precision:\", precision)\n",
        "print(\"Recall:\", recall)"
      ],
      "id": "d72553dc"
    },
    {
      "cell_type": "code",
      "execution_count": null,
      "metadata": {
        "id": "57abd589"
      },
      "outputs": [],
      "source": [
        "# result in model data structure\n",
        "\n",
        "models['Model Name'].append('XG Booster Classifier')\n",
        "models['Accuracy'].append(accuracy)\n",
        "models['CV Score'].append(np.mean(cv_scores))\n",
        "models['Precision'].append(precision)\n",
        "models['Recall'].append(recall)"
      ],
      "id": "57abd589"
    },
    {
      "cell_type": "markdown",
      "metadata": {
        "id": "3a15acc0"
      },
      "source": [
        "### Models Comparison"
      ],
      "id": "3a15acc0"
    },
    {
      "cell_type": "code",
      "execution_count": null,
      "metadata": {
        "id": "05a50463"
      },
      "outputs": [],
      "source": [
        "# Creating Dataframe of Model Evaluation\n",
        "models = pd.DataFrame(models)\n",
        "\n",
        "# top model based on Accurary\n",
        "models.sort_values(by='Accuracy', ascending= False)"
      ],
      "id": "05a50463"
    },
    {
      "cell_type": "code",
      "execution_count": null,
      "metadata": {
        "id": "f64b1a29"
      },
      "outputs": [],
      "source": [
        "# top model based on CV Score\n",
        "models.sort_values(by='CV Score', ascending= False)"
      ],
      "id": "f64b1a29"
    },
    {
      "cell_type": "code",
      "execution_count": null,
      "metadata": {
        "id": "a4438f09"
      },
      "outputs": [],
      "source": [
        "# top model based on Recall Score\n",
        "models.sort_values(by='Recall', ascending= False)"
      ],
      "id": "a4438f09"
    },
    {
      "cell_type": "markdown",
      "metadata": {
        "id": "845941ca"
      },
      "source": [
        "## Final Model Evlauation"
      ],
      "id": "845941ca"
    },
    {
      "cell_type": "code",
      "execution_count": null,
      "metadata": {
        "id": "704b3aaa"
      },
      "outputs": [],
      "source": [
        "models.sort_values(by='Accuracy', ascending= False).head(1)"
      ],
      "id": "704b3aaa"
    },
    {
      "cell_type": "markdown",
      "metadata": {
        "id": "7b19384a"
      },
      "source": [
        "## Conclusion"
      ],
      "id": "7b19384a"
    },
    {
      "cell_type": "code",
      "execution_count": null,
      "metadata": {
        "id": "87bad5b6"
      },
      "outputs": [],
      "source": [],
      "id": "87bad5b6"
    },
    {
      "cell_type": "markdown",
      "metadata": {
        "id": "6e99d395"
      },
      "source": [
        "### Improvements"
      ],
      "id": "6e99d395"
    },
    {
      "cell_type": "code",
      "execution_count": null,
      "metadata": {
        "id": "b5fe3287"
      },
      "outputs": [],
      "source": [],
      "id": "b5fe3287"
    },
    {
      "cell_type": "markdown",
      "metadata": {
        "id": "63b6f09b"
      },
      "source": [
        "### Next Steps"
      ],
      "id": "63b6f09b"
    },
    {
      "cell_type": "code",
      "execution_count": null,
      "metadata": {
        "id": "6c9fef2e"
      },
      "outputs": [],
      "source": [],
      "id": "6c9fef2e"
    },
    {
      "cell_type": "markdown",
      "metadata": {
        "id": "75910f38"
      },
      "source": [
        "### Recommendations"
      ],
      "id": "75910f38"
    },
    {
      "cell_type": "code",
      "execution_count": null,
      "metadata": {
        "id": "a3ed8cb0"
      },
      "outputs": [],
      "source": [],
      "id": "a3ed8cb0"
    },
    {
      "cell_type": "code",
      "execution_count": null,
      "metadata": {
        "id": "d473e140"
      },
      "outputs": [],
      "source": [],
      "id": "d473e140"
    }
  ],
  "metadata": {
    "colab": {
      "provenance": []
    },
    "kernelspec": {
      "display_name": "Python 3 (ipykernel)",
      "language": "python",
      "name": "python3"
    },
    "language_info": {
      "codemirror_mode": {
        "name": "ipython",
        "version": 3
      },
      "file_extension": ".py",
      "mimetype": "text/x-python",
      "name": "python",
      "nbconvert_exporter": "python",
      "pygments_lexer": "ipython3",
      "version": "3.9.12"
    },
    "papermill": {
      "default_parameters": {},
      "duration": 25882.00979,
      "end_time": "2023-04-22T14:29:39.020062",
      "environment_variables": {},
      "exception": true,
      "input_path": "__notebook__.ipynb",
      "output_path": "__notebook__.ipynb",
      "parameters": {},
      "start_time": "2023-04-22T07:18:17.010272",
      "version": "2.4.0"
    },
    "accelerator": "TPU",
    "gpuClass": "standard"
  },
  "nbformat": 4,
  "nbformat_minor": 5
}