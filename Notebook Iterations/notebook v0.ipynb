{
 "cells": [
  {
   "cell_type": "markdown",
   "id": "e012cbfe",
   "metadata": {
    "papermill": {
     "duration": 0.11492,
     "end_time": "2023-04-22T07:18:30.538295",
     "exception": false,
     "start_time": "2023-04-22T07:18:30.423375",
     "status": "completed"
    },
    "tags": []
   },
   "source": [
    "# Final Project Submission"
   ]
  },
  {
   "cell_type": "markdown",
   "id": "6e5ee9f1",
   "metadata": {
    "papermill": {
     "duration": 0.106797,
     "end_time": "2023-04-22T07:18:30.750983",
     "exception": false,
     "start_time": "2023-04-22T07:18:30.644186",
     "status": "completed"
    },
    "tags": []
   },
   "source": [
    "* Student name: Shayan Abdul Karim Khan\n",
    "* Student pace: Self Paced\n",
    "* Scheduled project review date/time:\n",
    "* Instructor name: Abhineet Kulkarni"
   ]
  },
  {
   "cell_type": "markdown",
   "id": "90336780",
   "metadata": {
    "papermill": {
     "duration": 0.103251,
     "end_time": "2023-04-22T07:18:30.956583",
     "exception": false,
     "start_time": "2023-04-22T07:18:30.853332",
     "status": "completed"
    },
    "tags": []
   },
   "source": [
    "## Problem Overview"
   ]
  },
  {
   "cell_type": "markdown",
   "id": "3cb0a058",
   "metadata": {
    "papermill": {
     "duration": 0.106064,
     "end_time": "2023-04-22T07:18:31.166723",
     "exception": false,
     "start_time": "2023-04-22T07:18:31.060659",
     "status": "completed"
    },
    "tags": []
   },
   "source": [
    "Each year more than 42,000 people are needlessly killed on American streets and thousands more are injured. We call this suffering traffic “accidents” — but, in reality, we have the power to prevent traffic collisions. To counter these fatalities and injuries, the Department of Transportations (DOTs) across the US are working towards a new vision for safety called \"Vision Zero\". \n",
    "\n",
    "Vision Zero recognizes that people will sometimes make mistakes, so the road system and related policies should be designed to ensure those inevitable mistakes do not result in severe injuries or fatalities. This means that system designers and policymakers are expected to improve the roadway environment, policies (such as speed management), and other related systems to lessen the severity of crashes by working with stakeholders ranging from auto manufacturers to policy makers.\n",
    "\n",
    "Similarly, the Chicago DOT wants to conduct a study to improve their methodolodies of mitigating crashes. There are usually a lot of crashes that result in causes never being identified and also serveral car crashes can form an underlying pattern. Chicago DOT waants to understand what multitude of factors can play some of the biggest roles in causing these crashes.\n",
    "\n",
    "That is why this notebook is going to explore developing a model for predicting primmary contributary causes to car crashes and identifyng the top 10 factors that we find the biggest roles in these causes. \n",
    "We will  use the data available to predict the primary contributory cause of a car accident, given information about the car, the people in the car, the road conditions etc."
   ]
  },
  {
   "cell_type": "markdown",
   "id": "7025ece8",
   "metadata": {
    "papermill": {
     "duration": 0.107427,
     "end_time": "2023-04-22T07:18:32.308912",
     "exception": false,
     "start_time": "2023-04-22T07:18:32.201485",
     "status": "completed"
    },
    "tags": []
   },
   "source": [
    "## Data Sources"
   ]
  },
  {
   "cell_type": "markdown",
   "id": "dd0584a0",
   "metadata": {
    "papermill": {
     "duration": 0.104719,
     "end_time": "2023-04-22T07:18:32.519152",
     "exception": false,
     "start_time": "2023-04-22T07:18:32.414433",
     "status": "completed"
    },
    "tags": []
   },
   "source": [
    "The data being used is from the Chicago Polic Department (CPD) and is provided oninee by the City of Chicago. The data is from 2015 to the present day. It is updated daily but the data being used as a part of this project is recent until 3rd February 2023. \n",
    "\n",
    "There are 3 datasets being used for analysis:\n",
    "\n",
    "1. Traffic crashes data summary: https://data.cityofchicago.org/Transportation/Traffic-Crashes-Crashes/85ca-t3ifhttps://data.cityofchicago.org/Transportation/Traffic-Crashes-Crashes/85ca-t3ifv \n",
    "<br>\n",
    "\n",
    "2. Vehicles information involved in a crash: https://data.cityofchicago.org/Transportation/Traffic-Crashes-Vehicles/68nd-jvt3 \n",
    "<br>\n",
    "\n",
    "3. People information involved in a crash: https://data.cityofchicago.org/Transportation/Traffic-Crashes-People/u6pd-qa9d "
   ]
  },
  {
   "cell_type": "markdown",
   "id": "bc69cab1",
   "metadata": {
    "papermill": {
     "duration": 0.103833,
     "end_time": "2023-04-22T07:18:32.726951",
     "exception": false,
     "start_time": "2023-04-22T07:18:32.623118",
     "status": "completed"
    },
    "tags": []
   },
   "source": [
    "Considering that this is the official dataset of the City of Chicago regarding traffic crashes, it can be easilly concluded that it would be the most reliable dataset available. Using this dataset will also increase the confidence of the client on the results and recommendations of this project. "
   ]
  },
  {
   "cell_type": "markdown",
   "id": "6a5bc85a",
   "metadata": {
    "papermill": {
     "duration": 0.103663,
     "end_time": "2023-04-22T07:18:32.935450",
     "exception": false,
     "start_time": "2023-04-22T07:18:32.831787",
     "status": "completed"
    },
    "tags": []
   },
   "source": [
    "## Data Understanding"
   ]
  },
  {
   "cell_type": "markdown",
   "id": "d2b49fba",
   "metadata": {
    "papermill": {
     "duration": 0.102453,
     "end_time": "2023-04-22T07:18:33.141585",
     "exception": false,
     "start_time": "2023-04-22T07:18:33.039132",
     "status": "completed"
    },
    "tags": []
   },
   "source": [
    "This section will be exploratory to understand the different features of the data. All three datasets will be explored separately. Using the source documentation, data and the features will be interpreted and determinations will be made about which features are relevant to identifying the causes of car crashes. Towards the end of exploring the data, avenues of analysis that can be used will also become clearer. As data is explored, any anomalies or issues require further cleaning/processing will be identified and handled in the `Data Preparation` section.\n",
    "\n",
    "To start things off, lets import all the libraries and functions that will be used in this notebook."
   ]
  },
  {
   "cell_type": "code",
   "execution_count": 1497,
   "id": "6dff583b",
   "metadata": {
    "execution": {
     "iopub.execute_input": "2023-04-22T07:19:16.013291Z",
     "iopub.status.busy": "2023-04-22T07:19:16.012825Z",
     "iopub.status.idle": "2023-04-22T07:19:22.408484Z",
     "shell.execute_reply": "2023-04-22T07:19:22.406879Z"
    },
    "papermill": {
     "duration": 6.506747,
     "end_time": "2023-04-22T07:19:22.413213",
     "exception": false,
     "start_time": "2023-04-22T07:19:15.906466",
     "status": "completed"
    },
    "tags": []
   },
   "outputs": [],
   "source": [
    "import pandas as pd #imports the pandas library as pd to work on databases\n",
    "from sodapy import Socrata # for API integration\n",
    "import sqlite3 as sql # imports the sqlite3 library to leverage sql with pandas\n",
    "from pandasql import sqldf # imports pandas sql library\n",
    "from datetime import datetime # for datetime manipulation\n",
    "import matplotlib.pyplot as plt # importing matplotlib for visualizations \n",
    "\n",
    "%matplotlib inline \n",
    "import numpy as np # imports the numpy library\n",
    "import datetime as dt #import datetime module\n",
    "import seaborn as sns #import seaborn\n",
    "from collections import Counter #import Counter\n",
    "import statsmodels.api as sm #import stats models\n",
    "from statsmodels.stats.outliers_influence import variance_inflation_factor\n",
    "\n",
    "#import scikit library functions\n",
    "from sklearn.preprocessing import OneHotEncoder, StandardScaler \n",
    "from sklearn.datasets import make_regression\n",
    "from sklearn.linear_model import LinearRegression\n",
    "from sklearn.metrics import mean_squared_error\n",
    "from sklearn.model_selection import train_test_split, cross_validate, ShuffleSplit\n",
    "from sklearn.feature_selection import RFECV\n",
    "\n",
    "\n",
    "#import scipy libraries\n",
    "from scipy import stats as stats\n",
    "\n",
    "#import plotly\n",
    "import plotly.express as px\n",
    "import plotly.graph_objects as go\n",
    "\n",
    "#import libraries to deal with unbaalanced dataset\n",
    "from imblearn.over_sampling import SMOTE\n",
    "from imblearn.over_sampling import SMOTENC\n",
    "from sklearn.compose import ColumnTransformer\n",
    "from imblearn.over_sampling import SMOTENC\n",
    "\n",
    "#import metrics\n",
    "from sklearn import metrics\n",
    "import itertools\n",
    "from sklearn.metrics import plot_confusion_matrix"
   ]
  },
  {
   "cell_type": "markdown",
   "id": "049b62e9",
   "metadata": {
    "papermill": {
     "duration": 0.110219,
     "end_time": "2023-04-22T07:19:22.641816",
     "exception": false,
     "start_time": "2023-04-22T07:19:22.531597",
     "status": "completed"
    },
    "tags": []
   },
   "source": [
    "### Traffic Crashes - Crashes"
   ]
  },
  {
   "cell_type": "markdown",
   "id": "10f5ed15",
   "metadata": {
    "papermill": {
     "duration": 0.106388,
     "end_time": "2023-04-22T07:19:22.857388",
     "exception": false,
     "start_time": "2023-04-22T07:19:22.751000",
     "status": "completed"
    },
    "tags": []
   },
   "source": [
    "This is the summary data for all the crashes. Thee dataset was downloaded and stores in the `data` folder as `Traffic_Crashes-Crashes`. The overview of the contents of this data is aavailable below and at https://data.cityofchicago.org/Transportation/Traffic-Crashes-Crashes/85ca-t3if."
   ]
  },
  {
   "cell_type": "markdown",
   "id": "afd68eb0",
   "metadata": {
    "papermill": {
     "duration": 0.1075,
     "end_time": "2023-04-22T07:19:23.143134",
     "exception": false,
     "start_time": "2023-04-22T07:19:23.035634",
     "status": "completed"
    },
    "tags": []
   },
   "source": [
    "Crash data shows information about each traffic crash on city streets within the City of Chicago limits and under the jurisdiction of Chicago Police Department (CPD). Data are shown as is from the electronic crash reporting system (E-Crash) at CPD, excluding any personally identifiable information. Records are added to the data portal when a crash report is finalized or when amendments are made to an existing report in E-Crash. Data from E-Crash are available for some police districts in 2015, but citywide data are not available until September 2017. About half of all crash reports, mostly minor crashes, are self-reported at the police district by the driver(s) involved and the other half are recorded at the scene by the police officer responding to the crash. Many of the crash parameters, including street condition data, weather condition, and posted speed limits, are recorded by the reporting officer based on best available information at the time, but many of these may disagree with posted information or other assessments on road conditions. If any new or updated information on a crash is received, the reporting officer may amend the crash report at a later time. A traffic crash within the city limits for which CPD is not the responding police agency, typically crashes on interstate highways, freeway ramps, and on local roads along the City boundary, are excluded from this dataset.\n",
    "\n",
    "As per Illinois statute, only crashes with a property damage value of $1,500 or more or involving bodily injury to any person(s) and that happen on a public roadway and that involve at least one moving vehicle, except bike dooring, are considered reportable crashes. However, CPD records every reported traffic crash event, regardless of the statute of limitations, and hence any formal Chicago crash dataset released by Illinois Department of Transportation may not include all the crashes listed here."
   ]
  },
  {
   "cell_type": "code",
   "execution_count": 1498,
   "id": "2b0a5574",
   "metadata": {
    "execution": {
     "iopub.execute_input": "2023-04-22T07:19:23.361442Z",
     "iopub.status.busy": "2023-04-22T07:19:23.360798Z",
     "iopub.status.idle": "2023-04-22T07:19:40.690007Z",
     "shell.execute_reply": "2023-04-22T07:19:40.688367Z"
    },
    "papermill": {
     "duration": 17.443031,
     "end_time": "2023-04-22T07:19:40.693380",
     "exception": false,
     "start_time": "2023-04-22T07:19:23.250349",
     "status": "completed"
    },
    "tags": []
   },
   "outputs": [
    {
     "data": {
      "text/html": [
       "<div>\n",
       "<style scoped>\n",
       "    .dataframe tbody tr th:only-of-type {\n",
       "        vertical-align: middle;\n",
       "    }\n",
       "\n",
       "    .dataframe tbody tr th {\n",
       "        vertical-align: top;\n",
       "    }\n",
       "\n",
       "    .dataframe thead th {\n",
       "        text-align: right;\n",
       "    }\n",
       "</style>\n",
       "<table border=\"1\" class=\"dataframe\">\n",
       "  <thead>\n",
       "    <tr style=\"text-align: right;\">\n",
       "      <th></th>\n",
       "      <th>CRASH_RECORD_ID</th>\n",
       "      <th>RD_NO</th>\n",
       "      <th>CRASH_DATE_EST_I</th>\n",
       "      <th>CRASH_DATE</th>\n",
       "      <th>POSTED_SPEED_LIMIT</th>\n",
       "      <th>TRAFFIC_CONTROL_DEVICE</th>\n",
       "      <th>DEVICE_CONDITION</th>\n",
       "      <th>WEATHER_CONDITION</th>\n",
       "      <th>LIGHTING_CONDITION</th>\n",
       "      <th>FIRST_CRASH_TYPE</th>\n",
       "      <th>...</th>\n",
       "      <th>INJURIES_NON_INCAPACITATING</th>\n",
       "      <th>INJURIES_REPORTED_NOT_EVIDENT</th>\n",
       "      <th>INJURIES_NO_INDICATION</th>\n",
       "      <th>INJURIES_UNKNOWN</th>\n",
       "      <th>CRASH_HOUR</th>\n",
       "      <th>CRASH_DAY_OF_WEEK</th>\n",
       "      <th>CRASH_MONTH</th>\n",
       "      <th>LATITUDE</th>\n",
       "      <th>LONGITUDE</th>\n",
       "      <th>LOCATION</th>\n",
       "    </tr>\n",
       "  </thead>\n",
       "  <tbody>\n",
       "    <tr>\n",
       "      <th>0</th>\n",
       "      <td>79c7a2ce89f446262efd86df3d72d18b04ba487024b7c4...</td>\n",
       "      <td>JC199149</td>\n",
       "      <td>NaN</td>\n",
       "      <td>03/25/2019 02:43:00 PM</td>\n",
       "      <td>30</td>\n",
       "      <td>TRAFFIC SIGNAL</td>\n",
       "      <td>FUNCTIONING PROPERLY</td>\n",
       "      <td>CLEAR</td>\n",
       "      <td>DAYLIGHT</td>\n",
       "      <td>TURNING</td>\n",
       "      <td>...</td>\n",
       "      <td>0.0</td>\n",
       "      <td>1.0</td>\n",
       "      <td>2.0</td>\n",
       "      <td>0.0</td>\n",
       "      <td>14</td>\n",
       "      <td>2</td>\n",
       "      <td>3</td>\n",
       "      <td>41.884547</td>\n",
       "      <td>-87.641201</td>\n",
       "      <td>POINT (-87.64120093714 41.884547224337)</td>\n",
       "    </tr>\n",
       "    <tr>\n",
       "      <th>1</th>\n",
       "      <td>792b539deaaad65ee5b4a9691d927a34d298eb33d42af0...</td>\n",
       "      <td>JB422857</td>\n",
       "      <td>NaN</td>\n",
       "      <td>09/05/2018 08:40:00 AM</td>\n",
       "      <td>30</td>\n",
       "      <td>NO CONTROLS</td>\n",
       "      <td>NO CONTROLS</td>\n",
       "      <td>CLEAR</td>\n",
       "      <td>DAYLIGHT</td>\n",
       "      <td>ANGLE</td>\n",
       "      <td>...</td>\n",
       "      <td>0.0</td>\n",
       "      <td>0.0</td>\n",
       "      <td>2.0</td>\n",
       "      <td>0.0</td>\n",
       "      <td>8</td>\n",
       "      <td>4</td>\n",
       "      <td>9</td>\n",
       "      <td>41.968562</td>\n",
       "      <td>-87.740659</td>\n",
       "      <td>POINT (-87.740659314632 41.968562453871)</td>\n",
       "    </tr>\n",
       "    <tr>\n",
       "      <th>2</th>\n",
       "      <td>0115ade9a755e835255508463f7e9c4a9a0b47e9304238...</td>\n",
       "      <td>JF318029</td>\n",
       "      <td>NaN</td>\n",
       "      <td>07/15/2022 12:45:00 AM</td>\n",
       "      <td>30</td>\n",
       "      <td>UNKNOWN</td>\n",
       "      <td>UNKNOWN</td>\n",
       "      <td>CLEAR</td>\n",
       "      <td>DARKNESS, LIGHTED ROAD</td>\n",
       "      <td>ANGLE</td>\n",
       "      <td>...</td>\n",
       "      <td>0.0</td>\n",
       "      <td>0.0</td>\n",
       "      <td>2.0</td>\n",
       "      <td>0.0</td>\n",
       "      <td>0</td>\n",
       "      <td>6</td>\n",
       "      <td>7</td>\n",
       "      <td>41.886336</td>\n",
       "      <td>-87.716203</td>\n",
       "      <td>POINT (-87.716203130599 41.886336409761)</td>\n",
       "    </tr>\n",
       "    <tr>\n",
       "      <th>3</th>\n",
       "      <td>05b1982cdba5d8a00e7e76ad1ecdab0e598429f78481d2...</td>\n",
       "      <td>JF378711</td>\n",
       "      <td>NaN</td>\n",
       "      <td>08/29/2022 11:30:00 AM</td>\n",
       "      <td>30</td>\n",
       "      <td>TRAFFIC SIGNAL</td>\n",
       "      <td>FUNCTIONING PROPERLY</td>\n",
       "      <td>CLEAR</td>\n",
       "      <td>DAYLIGHT</td>\n",
       "      <td>REAR END</td>\n",
       "      <td>...</td>\n",
       "      <td>0.0</td>\n",
       "      <td>0.0</td>\n",
       "      <td>3.0</td>\n",
       "      <td>0.0</td>\n",
       "      <td>11</td>\n",
       "      <td>2</td>\n",
       "      <td>8</td>\n",
       "      <td>41.749348</td>\n",
       "      <td>-87.721097</td>\n",
       "      <td>POINT (-87.721096727406 41.749348170421)</td>\n",
       "    </tr>\n",
       "    <tr>\n",
       "      <th>4</th>\n",
       "      <td>017040c61958d2fa977c956b2bd2d6759ef7754496dc96...</td>\n",
       "      <td>JF324552</td>\n",
       "      <td>NaN</td>\n",
       "      <td>07/15/2022 06:50:00 PM</td>\n",
       "      <td>30</td>\n",
       "      <td>TRAFFIC SIGNAL</td>\n",
       "      <td>FUNCTIONING PROPERLY</td>\n",
       "      <td>CLEAR</td>\n",
       "      <td>DAYLIGHT</td>\n",
       "      <td>REAR END</td>\n",
       "      <td>...</td>\n",
       "      <td>0.0</td>\n",
       "      <td>0.0</td>\n",
       "      <td>2.0</td>\n",
       "      <td>0.0</td>\n",
       "      <td>18</td>\n",
       "      <td>6</td>\n",
       "      <td>7</td>\n",
       "      <td>41.925111</td>\n",
       "      <td>-87.667997</td>\n",
       "      <td>POINT (-87.667997321599 41.925110815832)</td>\n",
       "    </tr>\n",
       "  </tbody>\n",
       "</table>\n",
       "<p>5 rows × 49 columns</p>\n",
       "</div>"
      ],
      "text/plain": [
       "                                     CRASH_RECORD_ID     RD_NO  \\\n",
       "0  79c7a2ce89f446262efd86df3d72d18b04ba487024b7c4...  JC199149   \n",
       "1  792b539deaaad65ee5b4a9691d927a34d298eb33d42af0...  JB422857   \n",
       "2  0115ade9a755e835255508463f7e9c4a9a0b47e9304238...  JF318029   \n",
       "3  05b1982cdba5d8a00e7e76ad1ecdab0e598429f78481d2...  JF378711   \n",
       "4  017040c61958d2fa977c956b2bd2d6759ef7754496dc96...  JF324552   \n",
       "\n",
       "  CRASH_DATE_EST_I              CRASH_DATE  POSTED_SPEED_LIMIT  \\\n",
       "0              NaN  03/25/2019 02:43:00 PM                  30   \n",
       "1              NaN  09/05/2018 08:40:00 AM                  30   \n",
       "2              NaN  07/15/2022 12:45:00 AM                  30   \n",
       "3              NaN  08/29/2022 11:30:00 AM                  30   \n",
       "4              NaN  07/15/2022 06:50:00 PM                  30   \n",
       "\n",
       "  TRAFFIC_CONTROL_DEVICE      DEVICE_CONDITION WEATHER_CONDITION  \\\n",
       "0         TRAFFIC SIGNAL  FUNCTIONING PROPERLY             CLEAR   \n",
       "1            NO CONTROLS           NO CONTROLS             CLEAR   \n",
       "2                UNKNOWN               UNKNOWN             CLEAR   \n",
       "3         TRAFFIC SIGNAL  FUNCTIONING PROPERLY             CLEAR   \n",
       "4         TRAFFIC SIGNAL  FUNCTIONING PROPERLY             CLEAR   \n",
       "\n",
       "       LIGHTING_CONDITION FIRST_CRASH_TYPE  ... INJURIES_NON_INCAPACITATING  \\\n",
       "0                DAYLIGHT          TURNING  ...                         0.0   \n",
       "1                DAYLIGHT            ANGLE  ...                         0.0   \n",
       "2  DARKNESS, LIGHTED ROAD            ANGLE  ...                         0.0   \n",
       "3                DAYLIGHT         REAR END  ...                         0.0   \n",
       "4                DAYLIGHT         REAR END  ...                         0.0   \n",
       "\n",
       "   INJURIES_REPORTED_NOT_EVIDENT INJURIES_NO_INDICATION INJURIES_UNKNOWN  \\\n",
       "0                            1.0                    2.0              0.0   \n",
       "1                            0.0                    2.0              0.0   \n",
       "2                            0.0                    2.0              0.0   \n",
       "3                            0.0                    3.0              0.0   \n",
       "4                            0.0                    2.0              0.0   \n",
       "\n",
       "  CRASH_HOUR CRASH_DAY_OF_WEEK CRASH_MONTH   LATITUDE  LONGITUDE  \\\n",
       "0         14                 2           3  41.884547 -87.641201   \n",
       "1          8                 4           9  41.968562 -87.740659   \n",
       "2          0                 6           7  41.886336 -87.716203   \n",
       "3         11                 2           8  41.749348 -87.721097   \n",
       "4         18                 6           7  41.925111 -87.667997   \n",
       "\n",
       "                                   LOCATION  \n",
       "0   POINT (-87.64120093714 41.884547224337)  \n",
       "1  POINT (-87.740659314632 41.968562453871)  \n",
       "2  POINT (-87.716203130599 41.886336409761)  \n",
       "3  POINT (-87.721096727406 41.749348170421)  \n",
       "4  POINT (-87.667997321599 41.925110815832)  \n",
       "\n",
       "[5 rows x 49 columns]"
      ]
     },
     "execution_count": 1498,
     "metadata": {},
     "output_type": "execute_result"
    }
   ],
   "source": [
    "#import the dataset using the API endpoint\n",
    "crashes_df = pd.read_csv('data/Traffic_Crashes-Crashes.csv')\n",
    "\n",
    "#preview thee first 5 rows\n",
    "crashes_df.head()"
   ]
  },
  {
   "cell_type": "code",
   "execution_count": 1499,
   "id": "a342d8f5",
   "metadata": {
    "execution": {
     "iopub.execute_input": "2023-04-22T07:19:40.910587Z",
     "iopub.status.busy": "2023-04-22T07:19:40.910102Z",
     "iopub.status.idle": "2023-04-22T07:19:41.982064Z",
     "shell.execute_reply": "2023-04-22T07:19:41.978941Z"
    },
    "papermill": {
     "duration": 1.185312,
     "end_time": "2023-04-22T07:19:41.985365",
     "exception": false,
     "start_time": "2023-04-22T07:19:40.800053",
     "status": "completed"
    },
    "tags": []
   },
   "outputs": [
    {
     "name": "stdout",
     "output_type": "stream",
     "text": [
      "<class 'pandas.core.frame.DataFrame'>\n",
      "RangeIndex: 692784 entries, 0 to 692783\n",
      "Data columns (total 49 columns):\n",
      " #   Column                         Non-Null Count   Dtype  \n",
      "---  ------                         --------------   -----  \n",
      " 0   CRASH_RECORD_ID                692784 non-null  object \n",
      " 1   RD_NO                          688672 non-null  object \n",
      " 2   CRASH_DATE_EST_I               52531 non-null   object \n",
      " 3   CRASH_DATE                     692784 non-null  object \n",
      " 4   POSTED_SPEED_LIMIT             692784 non-null  int64  \n",
      " 5   TRAFFIC_CONTROL_DEVICE         692784 non-null  object \n",
      " 6   DEVICE_CONDITION               692784 non-null  object \n",
      " 7   WEATHER_CONDITION              692784 non-null  object \n",
      " 8   LIGHTING_CONDITION             692784 non-null  object \n",
      " 9   FIRST_CRASH_TYPE               692784 non-null  object \n",
      " 10  TRAFFICWAY_TYPE                692784 non-null  object \n",
      " 11  LANE_CNT                       198997 non-null  float64\n",
      " 12  ALIGNMENT                      692784 non-null  object \n",
      " 13  ROADWAY_SURFACE_COND           692784 non-null  object \n",
      " 14  ROAD_DEFECT                    692784 non-null  object \n",
      " 15  REPORT_TYPE                    673774 non-null  object \n",
      " 16  CRASH_TYPE                     692784 non-null  object \n",
      " 17  INTERSECTION_RELATED_I         158797 non-null  object \n",
      " 18  NOT_RIGHT_OF_WAY_I             32485 non-null   object \n",
      " 19  HIT_AND_RUN_I                  214969 non-null  object \n",
      " 20  DAMAGE                         692784 non-null  object \n",
      " 21  DATE_POLICE_NOTIFIED           692784 non-null  object \n",
      " 22  PRIM_CONTRIBUTORY_CAUSE        692784 non-null  object \n",
      " 23  SEC_CONTRIBUTORY_CAUSE         692784 non-null  object \n",
      " 24  STREET_NO                      692784 non-null  int64  \n",
      " 25  STREET_DIRECTION               692780 non-null  object \n",
      " 26  STREET_NAME                    692783 non-null  object \n",
      " 27  BEAT_OF_OCCURRENCE             692779 non-null  float64\n",
      " 28  PHOTOS_TAKEN_I                 8586 non-null    object \n",
      " 29  STATEMENTS_TAKEN_I             14493 non-null   object \n",
      " 30  DOORING_I                      2128 non-null    object \n",
      " 31  WORK_ZONE_I                    4046 non-null    object \n",
      " 32  WORK_ZONE_TYPE                 3170 non-null    object \n",
      " 33  WORKERS_PRESENT_I              1048 non-null    object \n",
      " 34  NUM_UNITS                      692784 non-null  int64  \n",
      " 35  MOST_SEVERE_INJURY             691281 non-null  object \n",
      " 36  INJURIES_TOTAL                 691292 non-null  float64\n",
      " 37  INJURIES_FATAL                 691292 non-null  float64\n",
      " 38  INJURIES_INCAPACITATING        691292 non-null  float64\n",
      " 39  INJURIES_NON_INCAPACITATING    691292 non-null  float64\n",
      " 40  INJURIES_REPORTED_NOT_EVIDENT  691292 non-null  float64\n",
      " 41  INJURIES_NO_INDICATION         691292 non-null  float64\n",
      " 42  INJURIES_UNKNOWN               691292 non-null  float64\n",
      " 43  CRASH_HOUR                     692784 non-null  int64  \n",
      " 44  CRASH_DAY_OF_WEEK              692784 non-null  int64  \n",
      " 45  CRASH_MONTH                    692784 non-null  int64  \n",
      " 46  LATITUDE                       688378 non-null  float64\n",
      " 47  LONGITUDE                      688378 non-null  float64\n",
      " 48  LOCATION                       688378 non-null  object \n",
      "dtypes: float64(11), int64(6), object(32)\n",
      "memory usage: 259.0+ MB\n"
     ]
    }
   ],
   "source": [
    "#Explore the info for all the features\n",
    "crashes_df.info()"
   ]
  },
  {
   "cell_type": "markdown",
   "id": "40554ddf",
   "metadata": {
    "papermill": {
     "duration": 0.107993,
     "end_time": "2023-04-22T07:19:42.202574",
     "exception": false,
     "start_time": "2023-04-22T07:19:42.094581",
     "status": "completed"
    },
    "tags": []
   },
   "source": [
    "There are a number of columns with missing values but they can also simply be categorical columns that don't apply to all records. The documentation on the columns available on https://data.cityofchicago.org/Transportation/Traffic-Crashes-Crashes/85ca-t3if can be used to explore the columns separately. The descriptions have also been listed below."
   ]
  },
  {
   "cell_type": "markdown",
   "id": "66983826",
   "metadata": {
    "papermill": {
     "duration": 0.107389,
     "end_time": "2023-04-22T07:19:42.420774",
     "exception": false,
     "start_time": "2023-04-22T07:19:42.313385",
     "status": "completed"
    },
    "tags": []
   },
   "source": [
    "1. `CRASH_RECORD_ID`: This number can be used to link to the same crash in the Vehicles and People datasets. This number also serves as a unique ID in this dataset. This will be important for joining the databases.\n",
    "<br>\n",
    "\n",
    "2. `RD_NO`: Chicago Police Department report number. For privacy reasons, this column is blank for recent crashes.\n",
    "This column can be ignored since this does not give us any insight into the causes of crashes. **DROP COLUMN**\n",
    "<br>\n",
    "\n",
    "3. `CRASH_DATE_EST_I`: Crash date estimated by desk officer or reporting party (only used in cases where crash is reported at police station days after the crash). This column can be ignored since there are missing values here. There is another column for Crash Dates but has no missing values. **DROP COLUMN**\n",
    "<br>\n",
    "\n",
    "4. `CRASH_DATE`: Date and time of crash as entered by the reporting officer. This gives us insight into if there are periods where there are more crashes than others. If there is a discernable pattern, appropriate preventative measures can be taken. The time and date will have to be separated out for individual analysis. Also the initial description of thee dataset mentions that 2018 onwards citywide E-craash daat aiss available. Therefore, the data will be filtered out accordingly. Also, the daata has to be changed to datetime versions for proper use.\n",
    "<br>\n",
    "\n",
    "5. `POSTED_SPEED_LIMIT`: Posted speed limit, as determined by reporting officer. This is the speed limit for the area where the crash happened. This coupled with the speed that the car was travelling at can help inform if the crash was at high speeds. Consequently, this can be a critical contirbutor in determining the cause of the crash.\n",
    "<br>\n",
    "\n",
    "6. `TRAFFIC_CONTROL_DEVICE`: Traffic control device present at crash location, as determined by reporting officer. It would be important to understand the contents of this column before making a decision on its use. "
   ]
  },
  {
   "cell_type": "code",
   "execution_count": 1500,
   "id": "f5cddd2b",
   "metadata": {
    "execution": {
     "iopub.execute_input": "2023-04-22T07:19:42.643688Z",
     "iopub.status.busy": "2023-04-22T07:19:42.642392Z",
     "iopub.status.idle": "2023-04-22T07:19:43.697032Z",
     "shell.execute_reply": "2023-04-22T07:19:43.695376Z"
    },
    "papermill": {
     "duration": 1.171587,
     "end_time": "2023-04-22T07:19:43.701027",
     "exception": false,
     "start_time": "2023-04-22T07:19:42.529440",
     "status": "completed"
    },
    "tags": []
   },
   "outputs": [
    {
     "data": {
      "text/plain": [
       "CRASH_RECORD_ID                       0\n",
       "RD_NO                              4112\n",
       "CRASH_DATE_EST_I                 640253\n",
       "CRASH_DATE                            0\n",
       "POSTED_SPEED_LIMIT                    0\n",
       "TRAFFIC_CONTROL_DEVICE                0\n",
       "DEVICE_CONDITION                      0\n",
       "WEATHER_CONDITION                     0\n",
       "LIGHTING_CONDITION                    0\n",
       "FIRST_CRASH_TYPE                      0\n",
       "TRAFFICWAY_TYPE                       0\n",
       "LANE_CNT                         493787\n",
       "ALIGNMENT                             0\n",
       "ROADWAY_SURFACE_COND                  0\n",
       "ROAD_DEFECT                           0\n",
       "REPORT_TYPE                       19010\n",
       "CRASH_TYPE                            0\n",
       "INTERSECTION_RELATED_I           533987\n",
       "NOT_RIGHT_OF_WAY_I               660299\n",
       "HIT_AND_RUN_I                    477815\n",
       "DAMAGE                                0\n",
       "DATE_POLICE_NOTIFIED                  0\n",
       "PRIM_CONTRIBUTORY_CAUSE               0\n",
       "SEC_CONTRIBUTORY_CAUSE                0\n",
       "STREET_NO                             0\n",
       "STREET_DIRECTION                      4\n",
       "STREET_NAME                           1\n",
       "BEAT_OF_OCCURRENCE                    5\n",
       "PHOTOS_TAKEN_I                   684198\n",
       "STATEMENTS_TAKEN_I               678291\n",
       "DOORING_I                        690656\n",
       "WORK_ZONE_I                      688738\n",
       "WORK_ZONE_TYPE                   689614\n",
       "WORKERS_PRESENT_I                691736\n",
       "NUM_UNITS                             0\n",
       "MOST_SEVERE_INJURY                 1503\n",
       "INJURIES_TOTAL                     1492\n",
       "INJURIES_FATAL                     1492\n",
       "INJURIES_INCAPACITATING            1492\n",
       "INJURIES_NON_INCAPACITATING        1492\n",
       "INJURIES_REPORTED_NOT_EVIDENT      1492\n",
       "INJURIES_NO_INDICATION             1492\n",
       "INJURIES_UNKNOWN                   1492\n",
       "CRASH_HOUR                            0\n",
       "CRASH_DAY_OF_WEEK                     0\n",
       "CRASH_MONTH                           0\n",
       "LATITUDE                           4406\n",
       "LONGITUDE                          4406\n",
       "LOCATION                           4406\n",
       "dtype: int64"
      ]
     },
     "execution_count": 1500,
     "metadata": {},
     "output_type": "execute_result"
    }
   ],
   "source": [
    "# checking null values\n",
    "crashes_df.isna().sum()"
   ]
  },
  {
   "cell_type": "code",
   "execution_count": 1501,
   "id": "40758857",
   "metadata": {
    "execution": {
     "iopub.execute_input": "2023-04-22T07:19:43.922657Z",
     "iopub.status.busy": "2023-04-22T07:19:43.922051Z",
     "iopub.status.idle": "2023-04-22T07:19:43.975444Z",
     "shell.execute_reply": "2023-04-22T07:19:43.974220Z"
    },
    "papermill": {
     "duration": 0.167868,
     "end_time": "2023-04-22T07:19:43.978159",
     "exception": false,
     "start_time": "2023-04-22T07:19:43.810291",
     "status": "completed"
    },
    "tags": []
   },
   "outputs": [
    {
     "data": {
      "text/plain": [
       "NO CONTROLS                 397249\n",
       "TRAFFIC SIGNAL              192000\n",
       "STOP SIGN/FLASHER            68792\n",
       "UNKNOWN                      24545\n",
       "OTHER                         4515\n",
       "LANE USE MARKING              1226\n",
       "YIELD                          977\n",
       "OTHER REG. SIGN                721\n",
       "OTHER WARNING SIGN             591\n",
       "RAILROAD CROSSING GATE         448\n",
       "PEDESTRIAN CROSSING SIGN       384\n",
       "DELINEATORS                    271\n",
       "SCHOOL ZONE                    263\n",
       "FLASHING CONTROL SIGNAL        248\n",
       "POLICE/FLAGMAN                 243\n",
       "OTHER RAILROAD CROSSING        159\n",
       "RR CROSSING SIGN                93\n",
       "NO PASSING                      40\n",
       "BICYCLE CROSSING SIGN           19\n",
       "Name: TRAFFIC_CONTROL_DEVICE, dtype: int64"
      ]
     },
     "execution_count": 1501,
     "metadata": {},
     "output_type": "execute_result"
    }
   ],
   "source": [
    "#check unique values\n",
    "crashes_df['TRAFFIC_CONTROL_DEVICE'].value_counts()"
   ]
  },
  {
   "cell_type": "markdown",
   "id": "fda192cb",
   "metadata": {
    "papermill": {
     "duration": 0.113006,
     "end_time": "2023-04-22T07:19:44.200660",
     "exception": false,
     "start_time": "2023-04-22T07:19:44.087654",
     "status": "completed"
    },
    "tags": []
   },
   "source": [
    "There are multiple categories but the `NO CONTROLS` category stands out with almost 50% share in the data for this column. The other categorieswould be location dependent signage. This data can be used to determine whether `NO CCONTROLS` plays a significantlt higher part in certain types of crashes. The data in this column can be grouped together to only two categories, `NO CONTROLS` and `CONTROLS`."
   ]
  },
  {
   "cell_type": "markdown",
   "id": "13892c2a",
   "metadata": {
    "papermill": {
     "duration": 0.154606,
     "end_time": "2023-04-22T07:19:44.472221",
     "exception": false,
     "start_time": "2023-04-22T07:19:44.317615",
     "status": "completed"
    },
    "tags": []
   },
   "source": [
    "7. `DEVICE_CONDITION`: Condition of traffic control device, as determined by reporting officer. This would be an important aspect to consider. Lets explore the contents of this column."
   ]
  },
  {
   "cell_type": "code",
   "execution_count": 1502,
   "id": "a2df6db8",
   "metadata": {
    "execution": {
     "iopub.execute_input": "2023-04-22T07:19:44.688871Z",
     "iopub.status.busy": "2023-04-22T07:19:44.687320Z",
     "iopub.status.idle": "2023-04-22T07:19:44.744922Z",
     "shell.execute_reply": "2023-04-22T07:19:44.743786Z"
    },
    "papermill": {
     "duration": 0.168779,
     "end_time": "2023-04-22T07:19:44.747655",
     "exception": false,
     "start_time": "2023-04-22T07:19:44.578876",
     "status": "completed"
    },
    "tags": []
   },
   "outputs": [
    {
     "data": {
      "text/plain": [
       "NO CONTROLS                 401903\n",
       "FUNCTIONING PROPERLY        238515\n",
       "UNKNOWN                      41164\n",
       "OTHER                         5347\n",
       "FUNCTIONING IMPROPERLY        3373\n",
       "NOT FUNCTIONING               2143\n",
       "WORN REFLECTIVE MATERIAL       258\n",
       "MISSING                         81\n",
       "Name: DEVICE_CONDITION, dtype: int64"
      ]
     },
     "execution_count": 1502,
     "metadata": {},
     "output_type": "execute_result"
    }
   ],
   "source": [
    "#check unique values\n",
    "crashes_df['DEVICE_CONDITION'].value_counts()"
   ]
  },
  {
   "cell_type": "markdown",
   "id": "82fd0322",
   "metadata": {
    "papermill": {
     "duration": 0.108314,
     "end_time": "2023-04-22T07:19:44.963148",
     "exception": false,
     "start_time": "2023-04-22T07:19:44.854834",
     "status": "completed"
    },
    "tags": []
   },
   "source": [
    "Considering that this column also has a demarcated category of `NO CONTROLS` with categories highlighting whther there were any issues with the traffic control devices present, it would be more useful to use this column rather than using the `TRAFFIC_CONTROL_DEVICE` column. It is also clear that having no controls is the biggest contributor to traffic crashes but what kind of impact they have is something that has to be explored.\n",
    "\n",
    "Therefore, **DROP `TRAFFIC_CONTROL_DEVICE` COLUMN**"
   ]
  },
  {
   "cell_type": "markdown",
   "id": "d53a6011",
   "metadata": {
    "papermill": {
     "duration": 0.107017,
     "end_time": "2023-04-22T07:19:45.179686",
     "exception": false,
     "start_time": "2023-04-22T07:19:45.072669",
     "status": "completed"
    },
    "tags": []
   },
   "source": [
    "`WEATHER_CONDITION`: Weather condition at time of crash, as determined by reporting officer. This will definitely be a big factor in predicting the cause of crashes as well since the weather can play a big part in traffic accidents. Lets take a look at the contents of the column."
   ]
  },
  {
   "cell_type": "code",
   "execution_count": 1503,
   "id": "374d4931",
   "metadata": {
    "execution": {
     "iopub.execute_input": "2023-04-22T07:19:45.406605Z",
     "iopub.status.busy": "2023-04-22T07:19:45.405094Z",
     "iopub.status.idle": "2023-04-22T07:19:45.460017Z",
     "shell.execute_reply": "2023-04-22T07:19:45.458295Z"
    },
    "papermill": {
     "duration": 0.175028,
     "end_time": "2023-04-22T07:19:45.462930",
     "exception": false,
     "start_time": "2023-04-22T07:19:45.287902",
     "status": "completed"
    },
    "tags": []
   },
   "outputs": [
    {
     "data": {
      "text/plain": [
       "CLEAR                       546474\n",
       "RAIN                         59674\n",
       "UNKNOWN                      34543\n",
       "SNOW                         25734\n",
       "CLOUDY/OVERCAST              20505\n",
       "OTHER                         2204\n",
       "FREEZING RAIN/DRIZZLE         1229\n",
       "FOG/SMOKE/HAZE                1031\n",
       "SLEET/HAIL                     881\n",
       "BLOWING SNOW                   367\n",
       "SEVERE CROSS WIND GATE         138\n",
       "BLOWING SAND, SOIL, DIRT         4\n",
       "Name: WEATHER_CONDITION, dtype: int64"
      ]
     },
     "execution_count": 1503,
     "metadata": {},
     "output_type": "execute_result"
    }
   ],
   "source": [
    "#check unique values\n",
    "crashes_df['WEATHER_CONDITION'].value_counts()"
   ]
  },
  {
   "cell_type": "markdown",
   "id": "a4b6d0e0",
   "metadata": {
    "papermill": {
     "duration": 0.179963,
     "end_time": "2023-04-22T07:19:45.752181",
     "exception": false,
     "start_time": "2023-04-22T07:19:45.572218",
     "status": "completed"
    },
    "tags": []
   },
   "source": [
    "The unkown data has to be dealt with in the **Data Preparation** section but all other data will be valuable to carry forward. It seems like the most car crashes take place in the clear weather while the worse the weather is the fewer car crashes there are. This might be becausee people naturally are more carefull during bad weather. Nonetheless this has to be inveestigated more to see whether inclement weather accidents are more serious or impact specific types of vehicles. It can also be that there are less vehicles on the road during inclement weather therefore while the numbers might be low, the ratio of cars on the road and number of accidents might be high."
   ]
  },
  {
   "cell_type": "markdown",
   "id": "c96a5dab",
   "metadata": {
    "papermill": {
     "duration": 0.11332,
     "end_time": "2023-04-22T07:19:45.974465",
     "exception": false,
     "start_time": "2023-04-22T07:19:45.861145",
     "status": "completed"
    },
    "tags": []
   },
   "source": [
    "`LIGHTING_CONDITION`: Light condition at time of crash, as determined by reporting office. This is also another big factor. Theoretically, bad lighting conditions can play a big part in car crashes. This column can prove to be critial. Lets invvestigate it to understand the contents."
   ]
  },
  {
   "cell_type": "code",
   "execution_count": 1504,
   "id": "3291c49c",
   "metadata": {
    "execution": {
     "iopub.execute_input": "2023-04-22T07:19:46.192509Z",
     "iopub.status.busy": "2023-04-22T07:19:46.191214Z",
     "iopub.status.idle": "2023-04-22T07:19:46.249021Z",
     "shell.execute_reply": "2023-04-22T07:19:46.247296Z"
    },
    "papermill": {
     "duration": 0.167695,
     "end_time": "2023-04-22T07:19:46.252654",
     "exception": false,
     "start_time": "2023-04-22T07:19:46.084959",
     "status": "completed"
    },
    "scrolled": true,
    "tags": []
   },
   "outputs": [
    {
     "data": {
      "text/plain": [
       "DAYLIGHT                  445517\n",
       "DARKNESS, LIGHTED ROAD    153269\n",
       "DARKNESS                   33364\n",
       "UNKNOWN                    28678\n",
       "DUSK                       20317\n",
       "DAWN                       11639\n",
       "Name: LIGHTING_CONDITION, dtype: int64"
      ]
     },
     "execution_count": 1504,
     "metadata": {},
     "output_type": "execute_result"
    }
   ],
   "source": [
    "#check unique values\n",
    "crashes_df['LIGHTING_CONDITION'].value_counts()"
   ]
  },
  {
   "cell_type": "code",
   "execution_count": 1505,
   "id": "d31da885",
   "metadata": {
    "execution": {
     "iopub.execute_input": "2023-04-22T07:19:46.473855Z",
     "iopub.status.busy": "2023-04-22T07:19:46.473361Z",
     "iopub.status.idle": "2023-04-22T07:19:46.532240Z",
     "shell.execute_reply": "2023-04-22T07:19:46.530463Z"
    },
    "papermill": {
     "duration": 0.174196,
     "end_time": "2023-04-22T07:19:46.535642",
     "exception": false,
     "start_time": "2023-04-22T07:19:46.361446",
     "status": "completed"
    },
    "tags": []
   },
   "outputs": [
    {
     "data": {
      "text/plain": [
       "DAYLIGHT                  0.643082\n",
       "DARKNESS, LIGHTED ROAD    0.221236\n",
       "DARKNESS                  0.048159\n",
       "UNKNOWN                   0.041395\n",
       "DUSK                      0.029327\n",
       "DAWN                      0.016800\n",
       "Name: LIGHTING_CONDITION, dtype: float64"
      ]
     },
     "execution_count": 1505,
     "metadata": {},
     "output_type": "execute_result"
    }
   ],
   "source": [
    "crashes_df['LIGHTING_CONDITION'].value_counts(normalize=True)"
   ]
  },
  {
   "cell_type": "markdown",
   "id": "b0be404b",
   "metadata": {
    "papermill": {
     "duration": 0.108119,
     "end_time": "2023-04-22T07:19:46.755532",
     "exception": false,
     "start_time": "2023-04-22T07:19:46.647413",
     "status": "completed"
    },
    "tags": []
   },
   "source": [
    "Similar to the weather conditions data, it looks like the best lighting condition has the most accidents. This can be either be because peoplee are generally more careful when there's less light or that there are fewer cars on the road therefore fewer accidents. Nonetheless, lighting is an important factor when it comes to visibility. It would be beneficial to keeep this data and let thee model decide whether it provides useful information or not."
   ]
  },
  {
   "cell_type": "markdown",
   "id": "4ccd3314",
   "metadata": {
    "papermill": {
     "duration": 0.107194,
     "end_time": "2023-04-22T07:19:46.974772",
     "exception": false,
     "start_time": "2023-04-22T07:19:46.867578",
     "status": "completed"
    },
    "tags": []
   },
   "source": [
    "`ROAD_DEFECT`: Road defects, as determined by reporting officer. This might be important. Lets take a look at the data first."
   ]
  },
  {
   "cell_type": "code",
   "execution_count": 1506,
   "id": "88665123",
   "metadata": {
    "execution": {
     "iopub.execute_input": "2023-04-22T07:19:47.193143Z",
     "iopub.status.busy": "2023-04-22T07:19:47.192638Z",
     "iopub.status.idle": "2023-04-22T07:19:47.246998Z",
     "shell.execute_reply": "2023-04-22T07:19:47.245399Z"
    },
    "papermill": {
     "duration": 0.166658,
     "end_time": "2023-04-22T07:19:47.250094",
     "exception": false,
     "start_time": "2023-04-22T07:19:47.083436",
     "status": "completed"
    },
    "tags": []
   },
   "outputs": [
    {
     "data": {
      "text/plain": [
       "NO DEFECTS           565943\n",
       "UNKNOWN              112665\n",
       "RUT, HOLES             5561\n",
       "OTHER                  3858\n",
       "WORN SURFACE           2859\n",
       "SHOULDER DEFECT        1350\n",
       "DEBRIS ON ROADWAY       548\n",
       "Name: ROAD_DEFECT, dtype: int64"
      ]
     },
     "execution_count": 1506,
     "metadata": {},
     "output_type": "execute_result"
    }
   ],
   "source": [
    "#check unique values\n",
    "crashes_df['ROAD_DEFECT'].value_counts()"
   ]
  },
  {
   "cell_type": "code",
   "execution_count": 1507,
   "id": "d29cc46e",
   "metadata": {
    "execution": {
     "iopub.execute_input": "2023-04-22T07:19:47.472662Z",
     "iopub.status.busy": "2023-04-22T07:19:47.472211Z",
     "iopub.status.idle": "2023-04-22T07:19:47.528831Z",
     "shell.execute_reply": "2023-04-22T07:19:47.526805Z"
    },
    "papermill": {
     "duration": 0.172022,
     "end_time": "2023-04-22T07:19:47.532284",
     "exception": false,
     "start_time": "2023-04-22T07:19:47.360262",
     "status": "completed"
    },
    "tags": []
   },
   "outputs": [
    {
     "data": {
      "text/plain": [
       "NO DEFECTS           0.816911\n",
       "UNKNOWN              0.162626\n",
       "RUT, HOLES           0.008027\n",
       "OTHER                0.005569\n",
       "WORN SURFACE         0.004127\n",
       "SHOULDER DEFECT      0.001949\n",
       "DEBRIS ON ROADWAY    0.000791\n",
       "Name: ROAD_DEFECT, dtype: float64"
      ]
     },
     "execution_count": 1507,
     "metadata": {},
     "output_type": "execute_result"
    }
   ],
   "source": [
    "#check the ratios\n",
    "crashes_df['ROAD_DEFECT'].value_counts(normalize=True)"
   ]
  },
  {
   "cell_type": "markdown",
   "id": "a4846322",
   "metadata": {
    "papermill": {
     "duration": 0.1063,
     "end_time": "2023-04-22T07:19:47.748265",
     "exception": false,
     "start_time": "2023-04-22T07:19:47.641965",
     "status": "completed"
    },
    "tags": []
   },
   "source": [
    "It is important to note that No defects has thee largest number of crashes. This might be a sign that smooth and good quality roads lead people to be less careful of the road conditions. Although the data is skewed, it might be helpful to see how big of a part it plays in the crashes from a higher level."
   ]
  },
  {
   "cell_type": "markdown",
   "id": "d067b1fa",
   "metadata": {
    "papermill": {
     "duration": 0.107603,
     "end_time": "2023-04-22T07:19:47.963139",
     "exception": false,
     "start_time": "2023-04-22T07:19:47.855536",
     "status": "completed"
    },
    "tags": []
   },
   "source": [
    "`REPORT_TYPE`: Administrative report type (at scene, at desk, amended). This column can be ignored for the purposes of this analysis.\n",
    "\n",
    "**DROP REPORT_TYPE COLUMN**"
   ]
  },
  {
   "cell_type": "markdown",
   "id": "05230185",
   "metadata": {
    "papermill": {
     "duration": 0.111178,
     "end_time": "2023-04-22T07:19:48.182388",
     "exception": false,
     "start_time": "2023-04-22T07:19:48.071210",
     "status": "completed"
    },
    "tags": []
   },
   "source": [
    "`CRASH_TYPE`: A general severity classification for the crash. Can be either Injury and/or Tow Due to Crash or No Injury / Drive Away. This data will be used to filter on crashes that had injuries or fatalities. While the eventual goal is to have no crashes, the goal of this analysis is to support work towards Vision Zero which focuses on fatalities and injuries. Lets investigate the contents if this column before movving on."
   ]
  },
  {
   "cell_type": "code",
   "execution_count": 1508,
   "id": "fa734724",
   "metadata": {
    "execution": {
     "iopub.execute_input": "2023-04-22T07:19:48.403490Z",
     "iopub.status.busy": "2023-04-22T07:19:48.403058Z",
     "iopub.status.idle": "2023-04-22T07:19:48.460326Z",
     "shell.execute_reply": "2023-04-22T07:19:48.458477Z"
    },
    "papermill": {
     "duration": 0.171559,
     "end_time": "2023-04-22T07:19:48.464258",
     "exception": false,
     "start_time": "2023-04-22T07:19:48.292699",
     "status": "completed"
    },
    "tags": []
   },
   "outputs": [
    {
     "data": {
      "text/plain": [
       "NO INJURY / DRIVE AWAY              510406\n",
       "INJURY AND / OR TOW DUE TO CRASH    182378\n",
       "Name: CRASH_TYPE, dtype: int64"
      ]
     },
     "execution_count": 1508,
     "metadata": {},
     "output_type": "execute_result"
    }
   ],
   "source": [
    "#check unique values\n",
    "crashes_df['CRASH_TYPE'].value_counts()"
   ]
  },
  {
   "cell_type": "markdown",
   "id": "6b6a06c8",
   "metadata": {
    "papermill": {
     "duration": 0.187078,
     "end_time": "2023-04-22T07:19:48.761104",
     "exception": false,
     "start_time": "2023-04-22T07:19:48.574026",
     "status": "completed"
    },
    "tags": []
   },
   "source": [
    "With only 180,000 records, out data size will be significantly reduced but helps us focus on the main problem."
   ]
  },
  {
   "cell_type": "markdown",
   "id": "ab76a24c",
   "metadata": {
    "papermill": {
     "duration": 0.110329,
     "end_time": "2023-04-22T07:19:48.980253",
     "exception": false,
     "start_time": "2023-04-22T07:19:48.869924",
     "status": "completed"
    },
    "tags": []
   },
   "source": [
    "`INTERSECTION_RELATED_I`: A field observation by the police officer whether an intersection played a role in the crash. Does not represent whether or not the crash occurred within the intersection. \n",
    "Lets investigate the contents of this column."
   ]
  },
  {
   "cell_type": "code",
   "execution_count": 1509,
   "id": "cd054495",
   "metadata": {
    "execution": {
     "iopub.execute_input": "2023-04-22T07:19:49.204270Z",
     "iopub.status.busy": "2023-04-22T07:19:49.203749Z",
     "iopub.status.idle": "2023-04-22T07:19:49.236615Z",
     "shell.execute_reply": "2023-04-22T07:19:49.234978Z"
    },
    "papermill": {
     "duration": 0.148114,
     "end_time": "2023-04-22T07:19:49.239936",
     "exception": false,
     "start_time": "2023-04-22T07:19:49.091822",
     "status": "completed"
    },
    "tags": []
   },
   "outputs": [
    {
     "data": {
      "text/plain": [
       "Y    151396\n",
       "N      7401\n",
       "Name: INTERSECTION_RELATED_I, dtype: int64"
      ]
     },
     "execution_count": 1509,
     "metadata": {},
     "output_type": "execute_result"
    }
   ],
   "source": [
    "#check unique values\n",
    "crashes_df['INTERSECTION_RELATED_I'].value_counts()"
   ]
  },
  {
   "cell_type": "markdown",
   "id": "fc5d0372",
   "metadata": {
    "papermill": {
     "duration": 0.109458,
     "end_time": "2023-04-22T07:19:49.457824",
     "exception": false,
     "start_time": "2023-04-22T07:19:49.348366",
     "status": "completed"
    },
    "tags": []
   },
   "source": [
    "Usually at intersections, there is a large amount of non-straight traffic movements, cars slowing down, pedestrain movement and generally a heightened probability of crashes. This is one of the reeasons that DOT creates signalized intersectinos. This would be important to carry forwaard to understand whether this general understanding of intersections plays a big part in crashes or not. If it does, DOT could be able to hone in on intersection types that play a significant role and develop traffic engineering plans accordingly."
   ]
  },
  {
   "cell_type": "markdown",
   "id": "32b42fa3",
   "metadata": {
    "papermill": {
     "duration": 0.109918,
     "end_time": "2023-04-22T07:19:49.676279",
     "exception": false,
     "start_time": "2023-04-22T07:19:49.566361",
     "status": "completed"
    },
    "tags": []
   },
   "source": [
    "`NOT_RIGHT_OF_WAY_I`: Whether the crash begun or first contact was made outside of the public right-of-way. This column also has almost 50% of its values missing. Also, this gives us insight into the circumstances around a crash but not significant insight into the cause of a crash. \n",
    "\n",
    "**DROP NOT_RIGHT_OF_WAY_I COLUMN**"
   ]
  },
  {
   "cell_type": "markdown",
   "id": "15178997",
   "metadata": {
    "papermill": {
     "duration": 0.110282,
     "end_time": "2023-04-22T07:19:49.895373",
     "exception": false,
     "start_time": "2023-04-22T07:19:49.785091",
     "status": "completed"
    },
    "tags": []
   },
   "source": [
    "`HIT_AND_RUN_I`: Crash did/did not involve a driver who caused the crash and fled the scene without exchanging information and/or rendering aid. This gives us inight into the aftermaths of the crash but no significant insight into the cause of it.\n",
    "\n",
    "**DROP HIT_AND_RUN_I COLUMN**"
   ]
  },
  {
   "cell_type": "markdown",
   "id": "e2e7dbb9",
   "metadata": {
    "papermill": {
     "duration": 0.110224,
     "end_time": "2023-04-22T07:19:50.116116",
     "exception": false,
     "start_time": "2023-04-22T07:19:50.005892",
     "status": "completed"
    },
    "tags": []
   },
   "source": [
    "`DAMAGE`: A field observation of estimated damage. Similar to the previous two, this doesn't provide insight into the causes of the crash. \n",
    "\n",
    "**DROP DAMAGE COLUMN**"
   ]
  },
  {
   "cell_type": "markdown",
   "id": "e55f9a47",
   "metadata": {
    "papermill": {
     "duration": 0.109699,
     "end_time": "2023-04-22T07:19:50.334143",
     "exception": false,
     "start_time": "2023-04-22T07:19:50.224444",
     "status": "completed"
    },
    "tags": []
   },
   "source": [
    "`DATE_POLICE_NOTIFIED`: Calendar date on which police were notified of the crash. Similarly, this doesn't provide any insight into the causes of the crash.\n",
    "\n",
    "**DROP DATE_POLICE_NOTIFIED COLUMN**"
   ]
  },
  {
   "cell_type": "markdown",
   "id": "07ed4799",
   "metadata": {
    "papermill": {
     "duration": 0.110521,
     "end_time": "2023-04-22T07:19:50.554547",
     "exception": false,
     "start_time": "2023-04-22T07:19:50.444026",
     "status": "completed"
    },
    "tags": []
   },
   "source": [
    "`PRIM_CONTRIBUTORY_CAUSE`: The factor which was most significant in causing the crash, as determined by officer judgment. This will be the target column that will be used. Lets investigate the contents of this column."
   ]
  },
  {
   "cell_type": "code",
   "execution_count": 1510,
   "id": "03c91dd3",
   "metadata": {
    "execution": {
     "iopub.execute_input": "2023-04-22T07:19:50.778598Z",
     "iopub.status.busy": "2023-04-22T07:19:50.778126Z",
     "iopub.status.idle": "2023-04-22T07:19:50.834007Z",
     "shell.execute_reply": "2023-04-22T07:19:50.832377Z"
    },
    "papermill": {
     "duration": 0.171834,
     "end_time": "2023-04-22T07:19:50.837039",
     "exception": false,
     "start_time": "2023-04-22T07:19:50.665205",
     "status": "completed"
    },
    "tags": []
   },
   "outputs": [
    {
     "data": {
      "text/plain": [
       "UNABLE TO DETERMINE                                                                 266260\n",
       "FAILING TO YIELD RIGHT-OF-WAY                                                        75716\n",
       "FOLLOWING TOO CLOSELY                                                                69035\n",
       "NOT APPLICABLE                                                                       36421\n",
       "IMPROPER OVERTAKING/PASSING                                                          33504\n",
       "FAILING TO REDUCE SPEED TO AVOID CRASH                                               29613\n",
       "IMPROPER BACKING                                                                     28228\n",
       "IMPROPER LANE USAGE                                                                  25526\n",
       "IMPROPER TURNING/NO SIGNAL                                                           22879\n",
       "DRIVING SKILLS/KNOWLEDGE/EXPERIENCE                                                  22419\n",
       "DISREGARDING TRAFFIC SIGNALS                                                         13383\n",
       "WEATHER                                                                              11029\n",
       "OPERATING VEHICLE IN ERRATIC, RECKLESS, CARELESS, NEGLIGENT OR AGGRESSIVE MANNER      8804\n",
       "DISREGARDING STOP SIGN                                                                7705\n",
       "DISTRACTION - FROM INSIDE VEHICLE                                                     4829\n",
       "EQUIPMENT - VEHICLE CONDITION                                                         4415\n",
       "PHYSICAL CONDITION OF DRIVER                                                          4221\n",
       "VISION OBSCURED (SIGNS, TREE LIMBS, BUILDINGS, ETC.)                                  3977\n",
       "DRIVING ON WRONG SIDE/WRONG WAY                                                       3580\n",
       "UNDER THE INFLUENCE OF ALCOHOL/DRUGS (USE WHEN ARREST IS EFFECTED)                    3418\n",
       "DISTRACTION - FROM OUTSIDE VEHICLE                                                    2959\n",
       "EXCEEDING AUTHORIZED SPEED LIMIT                                                      1982\n",
       "ROAD ENGINEERING/SURFACE/MARKING DEFECTS                                              1795\n",
       "EXCEEDING SAFE SPEED FOR CONDITIONS                                                   1684\n",
       "ROAD CONSTRUCTION/MAINTENANCE                                                         1548\n",
       "DISREGARDING OTHER TRAFFIC SIGNS                                                      1509\n",
       "EVASIVE ACTION DUE TO ANIMAL, OBJECT, NONMOTORIST                                     1305\n",
       "CELL PHONE USE OTHER THAN TEXTING                                                      944\n",
       "DISREGARDING ROAD MARKINGS                                                             891\n",
       "HAD BEEN DRINKING (USE WHEN ARREST IS NOT MADE)                                        748\n",
       "ANIMAL                                                                                 577\n",
       "TURNING RIGHT ON RED                                                                   485\n",
       "DISTRACTION - OTHER ELECTRONIC DEVICE (NAVIGATION DEVICE, DVD PLAYER, ETC.)            327\n",
       "RELATED TO BUS STOP                                                                    291\n",
       "TEXTING                                                                                282\n",
       "DISREGARDING YIELD SIGN                                                                247\n",
       "PASSING STOPPED SCHOOL BUS                                                              87\n",
       "BICYCLE ADVANCING LEGALLY ON RED LIGHT                                                  76\n",
       "OBSTRUCTED CROSSWALKS                                                                   65\n",
       "MOTORCYCLE ADVANCING LEGALLY ON RED LIGHT                                               20\n",
       "Name: PRIM_CONTRIBUTORY_CAUSE, dtype: int64"
      ]
     },
     "execution_count": 1510,
     "metadata": {},
     "output_type": "execute_result"
    }
   ],
   "source": [
    "#check unique values\n",
    "crashes_df['PRIM_CONTRIBUTORY_CAUSE'].value_counts()"
   ]
  },
  {
   "cell_type": "markdown",
   "id": "199544bc",
   "metadata": {
    "papermill": {
     "duration": 0.108128,
     "end_time": "2023-04-22T07:19:51.053841",
     "exception": false,
     "start_time": "2023-04-22T07:19:50.945713",
     "status": "completed"
    },
    "tags": []
   },
   "source": [
    "While there are a lot of categories, there seem to be several overlapping ones which we can group later on during the Data Preparation phase."
   ]
  },
  {
   "cell_type": "markdown",
   "id": "c100e550",
   "metadata": {
    "papermill": {
     "duration": 0.108627,
     "end_time": "2023-04-22T07:19:51.272997",
     "exception": false,
     "start_time": "2023-04-22T07:19:51.164370",
     "status": "completed"
    },
    "tags": []
   },
   "source": [
    "`SEC_CONTRIBUTORY_CAUSE`: The factor which was second most significant in causing the crash, as determined by officer judgment. Similar to the previous one, this will be an important column in analysis."
   ]
  },
  {
   "cell_type": "code",
   "execution_count": 1511,
   "id": "e2152577",
   "metadata": {
    "execution": {
     "iopub.execute_input": "2023-04-22T07:19:51.500184Z",
     "iopub.status.busy": "2023-04-22T07:19:51.499708Z",
     "iopub.status.idle": "2023-04-22T07:19:51.557350Z",
     "shell.execute_reply": "2023-04-22T07:19:51.556041Z"
    },
    "papermill": {
     "duration": 0.174449,
     "end_time": "2023-04-22T07:19:51.560527",
     "exception": false,
     "start_time": "2023-04-22T07:19:51.386078",
     "status": "completed"
    },
    "tags": []
   },
   "outputs": [
    {
     "data": {
      "text/plain": [
       "NOT APPLICABLE                                                                      282372\n",
       "UNABLE TO DETERMINE                                                                 251338\n",
       "FAILING TO REDUCE SPEED TO AVOID CRASH                                               26909\n",
       "DRIVING SKILLS/KNOWLEDGE/EXPERIENCE                                                  21221\n",
       "FAILING TO YIELD RIGHT-OF-WAY                                                        21098\n",
       "FOLLOWING TOO CLOSELY                                                                18283\n",
       "IMPROPER OVERTAKING/PASSING                                                          10318\n",
       "IMPROPER LANE USAGE                                                                   9863\n",
       "WEATHER                                                                               8260\n",
       "IMPROPER TURNING/NO SIGNAL                                                            6921\n",
       "IMPROPER BACKING                                                                      5666\n",
       "OPERATING VEHICLE IN ERRATIC, RECKLESS, CARELESS, NEGLIGENT OR AGGRESSIVE MANNER      4457\n",
       "DISREGARDING TRAFFIC SIGNALS                                                          2749\n",
       "VISION OBSCURED (SIGNS, TREE LIMBS, BUILDINGS, ETC.)                                  2245\n",
       "PHYSICAL CONDITION OF DRIVER                                                          2178\n",
       "DISTRACTION - FROM INSIDE VEHICLE                                                     2135\n",
       "DISREGARDING STOP SIGN                                                                2061\n",
       "EXCEEDING AUTHORIZED SPEED LIMIT                                                      1473\n",
       "EXCEEDING SAFE SPEED FOR CONDITIONS                                                   1438\n",
       "EQUIPMENT - VEHICLE CONDITION                                                         1405\n",
       "DRIVING ON WRONG SIDE/WRONG WAY                                                       1369\n",
       "DISTRACTION - FROM OUTSIDE VEHICLE                                                    1190\n",
       "UNDER THE INFLUENCE OF ALCOHOL/DRUGS (USE WHEN ARREST IS EFFECTED)                    1165\n",
       "HAD BEEN DRINKING (USE WHEN ARREST IS NOT MADE)                                        895\n",
       "ROAD CONSTRUCTION/MAINTENANCE                                                          837\n",
       "DISREGARDING ROAD MARKINGS                                                             729\n",
       "DISREGARDING OTHER TRAFFIC SIGNS                                                       724\n",
       "ROAD ENGINEERING/SURFACE/MARKING DEFECTS                                               717\n",
       "CELL PHONE USE OTHER THAN TEXTING                                                      530\n",
       "EVASIVE ACTION DUE TO ANIMAL, OBJECT, NONMOTORIST                                      384\n",
       "ANIMAL                                                                                 331\n",
       "RELATED TO BUS STOP                                                                    307\n",
       "TURNING RIGHT ON RED                                                                   254\n",
       "BICYCLE ADVANCING LEGALLY ON RED LIGHT                                                 224\n",
       "DISTRACTION - OTHER ELECTRONIC DEVICE (NAVIGATION DEVICE, DVD PLAYER, ETC.)            214\n",
       "DISREGARDING YIELD SIGN                                                                183\n",
       "TEXTING                                                                                129\n",
       "PASSING STOPPED SCHOOL BUS                                                              86\n",
       "OBSTRUCTED CROSSWALKS                                                                   71\n",
       "MOTORCYCLE ADVANCING LEGALLY ON RED LIGHT                                               55\n",
       "Name: SEC_CONTRIBUTORY_CAUSE, dtype: int64"
      ]
     },
     "execution_count": 1511,
     "metadata": {},
     "output_type": "execute_result"
    }
   ],
   "source": [
    "#check unique values\n",
    "crashes_df['SEC_CONTRIBUTORY_CAUSE'].value_counts()"
   ]
  },
  {
   "cell_type": "markdown",
   "id": "6780b1d6",
   "metadata": {
    "papermill": {
     "duration": 0.183282,
     "end_time": "2023-04-22T07:19:51.857621",
     "exception": false,
     "start_time": "2023-04-22T07:19:51.674339",
     "status": "completed"
    },
    "tags": []
   },
   "source": [
    "While there are a lot of categories, there seem to be several overlapping ones which we can group later on during the Data Preparation phase."
   ]
  },
  {
   "cell_type": "markdown",
   "id": "46ca0467",
   "metadata": {
    "papermill": {
     "duration": 0.107915,
     "end_time": "2023-04-22T07:19:52.079520",
     "exception": false,
     "start_time": "2023-04-22T07:19:51.971605",
     "status": "completed"
    },
    "tags": []
   },
   "source": [
    "`STREET_NO`: Street address number of crash location, as determined by reporting officer. While this is a valuable data point, there are latitude and longtitude data points which can proove to be more useful.\n",
    "\n",
    "**DROP STREET_NO COLUMN**"
   ]
  },
  {
   "cell_type": "markdown",
   "id": "f8dfafa2",
   "metadata": {
    "papermill": {
     "duration": 0.108372,
     "end_time": "2023-04-22T07:19:52.296415",
     "exception": false,
     "start_time": "2023-04-22T07:19:52.188043",
     "status": "completed"
    },
    "tags": []
   },
   "source": [
    "Similarly, `STREET_DIRECTION`, `STREET_NAME`, and `BEAT_OF_OCCURRENCE` can be **DROPPED**."
   ]
  },
  {
   "cell_type": "markdown",
   "id": "86cf2e3b",
   "metadata": {
    "papermill": {
     "duration": 0.10821,
     "end_time": "2023-04-22T07:19:52.516464",
     "exception": false,
     "start_time": "2023-04-22T07:19:52.408254",
     "status": "completed"
    },
    "tags": []
   },
   "source": [
    "Also `PHOTOS_TAKEN_I` and `STATEMENTS_TAKEN_I` are relevant to the police investigation records but not for the purposes of this notebook's analysis. Therefore they can be **DROPPED**"
   ]
  },
  {
   "cell_type": "markdown",
   "id": "742ae25c",
   "metadata": {
    "papermill": {
     "duration": 0.11066,
     "end_time": "2023-04-22T07:19:52.735633",
     "exception": false,
     "start_time": "2023-04-22T07:19:52.624973",
     "status": "completed"
    },
    "tags": []
   },
   "source": [
    "`WORK_ZONE_I`, `WORK_ZONE_TYPE`, and `WORKERS_PRESENT_I` are important columns to caarry forward. Usually these aree critical areas where speed limits are significantly reduced and there is a lot of worker traffic during shift hours. These can be very sensitive areas that can be significant towards attaining Vision Zero therefore it will be interesting to see their contribution towards crashes. \n",
    "\n",
    "Nonetheless we can drop the `WORK_ZONE_TYPE` column since the granularity of the analysis isn't specifically based on work zone type crashes. If aa significant correlation is found, then this area can be further investigated in future analysis."
   ]
  },
  {
   "cell_type": "markdown",
   "id": "f2f25a10",
   "metadata": {
    "papermill": {
     "duration": 0.111408,
     "end_time": "2023-04-22T07:19:52.959051",
     "exception": false,
     "start_time": "2023-04-22T07:19:52.847643",
     "status": "completed"
    },
    "tags": []
   },
   "source": [
    "`NUM_UNITS` will be an important data point since it gives information on the number of units involved in the crash.\n",
    "\n",
    "Similarly, aligning with the Vision Zero goal, `INJURIES_TOTAL` and `INJURIES_FATAL` would be valuable columns to use in analysis. \n",
    "\n",
    "The other Injuries columns can be **DROPPED**."
   ]
  },
  {
   "cell_type": "markdown",
   "id": "2ae4e24c",
   "metadata": {
    "papermill": {
     "duration": 0.109598,
     "end_time": "2023-04-22T07:19:53.181737",
     "exception": false,
     "start_time": "2023-04-22T07:19:53.072139",
     "status": "completed"
    },
    "tags": []
   },
   "source": [
    "`CRASH_HOUR`, `CRASH_DAY_OF_WEEK`, and `CRASH_MONTH` can be used instead of the timesatamp in column `CRASH_DATE` since these are broken down values. Nonetheless, what would be valuable from the timestamp column is the year of the crash. It might be possible that the year can play a big part in recognizing patterns of the accidents."
   ]
  },
  {
   "cell_type": "markdown",
   "id": "5f7c1e42",
   "metadata": {
    "papermill": {
     "duration": 0.110846,
     "end_time": "2023-04-22T07:19:53.403388",
     "exception": false,
     "start_time": "2023-04-22T07:19:53.292542",
     "status": "completed"
    },
    "tags": []
   },
   "source": [
    "`LATITUDE` and `LONGITUDE` will be used for location data for crashes. This will helo determine if there are specific areas that more volatile to crashes as compared to others."
   ]
  },
  {
   "cell_type": "markdown",
   "id": "2e7a815c",
   "metadata": {
    "papermill": {
     "duration": 0.109633,
     "end_time": "2023-04-22T07:19:53.623915",
     "exception": false,
     "start_time": "2023-04-22T07:19:53.514282",
     "status": "completed"
    },
    "tags": []
   },
   "source": [
    "**SUMMARY**"
   ]
  },
  {
   "cell_type": "markdown",
   "id": "63076003",
   "metadata": {
    "papermill": {
     "duration": 0.109286,
     "end_time": "2023-04-22T07:19:53.842621",
     "exception": false,
     "start_time": "2023-04-22T07:19:53.733335",
     "status": "completed"
    },
    "tags": []
   },
   "source": [
    "The following columns will be carried forward:\n",
    "\n",
    "1. CRASH_RECORD_ID\n",
    "2. CRASH_DATE\n",
    "3. POSTED_SPEED_LIMIT\n",
    "4. DEVICE_CONDITION\n",
    "5. WEATHER_CONDITION\n",
    "6. CRASH_TYPE\n",
    "7. PRIM_CONTRIBUTORY_CAUSE\n",
    "8. SEC_CONTRIBUTORY_CAUSE\n",
    "9. WORK_ZONE_I\n",
    "10. WORKERS_PRESENT_I\n",
    "11. INJURIES_TOTAL\n",
    "12. INJURIES_FATAL\n",
    "13. CRASH_HOUR\n",
    "14. CRASH_DAY_OF_WEEK\n",
    "15. CRASH_MONTH\n",
    "16. LATITUDE\n",
    "17. LONGITUDE\n",
    "18. LIGHTING_CONDITION\n",
    "19. NUM_UNITS\n"
   ]
  },
  {
   "cell_type": "markdown",
   "id": "f8e88b92",
   "metadata": {
    "papermill": {
     "duration": 0.109064,
     "end_time": "2023-04-22T07:19:54.060198",
     "exception": false,
     "start_time": "2023-04-22T07:19:53.951134",
     "status": "completed"
    },
    "tags": []
   },
   "source": [
    "### Traffic Crashes - Vechiles"
   ]
  },
  {
   "cell_type": "markdown",
   "id": "02bf5f8d",
   "metadata": {
    "papermill": {
     "duration": 0.107302,
     "end_time": "2023-04-22T07:19:54.276957",
     "exception": false,
     "start_time": "2023-04-22T07:19:54.169655",
     "status": "completed"
    },
    "tags": []
   },
   "source": [
    "This is the summary data for all the crashes. Thee dataset was downloaded and stores in the `data` folder as `Traffic_Crashes-Vehicles`. The overview of the contents of this data is aavailable below and at https://data.cityofchicago.org/Transportation/Traffic-Crashes-Vehicles/68nd-jvt3."
   ]
  },
  {
   "cell_type": "markdown",
   "id": "e7f7ff7a",
   "metadata": {
    "papermill": {
     "duration": 0.107723,
     "end_time": "2023-04-22T07:19:54.492652",
     "exception": false,
     "start_time": "2023-04-22T07:19:54.384929",
     "status": "completed"
    },
    "tags": []
   },
   "source": [
    "This dataset contains information about vehicles (or units as they are identified in crash reports) involved in a traffic crash. This dataset should be used in conjunction with the traffic Crash and People dataset available in the portal. “Vehicle” information includes motor vehicle and non-motor vehicle modes of transportation, such as bicycles and pedestrians. Each mode of transportation involved in a crash is a “unit” and get one entry here. Each vehicle, each pedestrian, each motorcyclist, and each bicyclist is considered an independent unit that can have a trajectory separate from the other units. However, people inside a vehicle including the driver do not have a trajectory separate from the vehicle in which they are travelling and hence only the vehicle they are travelling in get any entry here. This type of identification of “units” is needed to determine how each movement affected the crash. Data for occupants who do not make up an independent unit, typically drivers and passengers, are available in the People table. Many of the fields are coded to denote the type and location of damage on the vehicle. Vehicle information can be linked back to Crash data using the “CRASH_RECORD_ID” field. Since this dataset is a combination of vehicles, pedestrians, and pedal cyclists not all columns are applicable to each record."
   ]
  },
  {
   "cell_type": "code",
   "execution_count": 1512,
   "id": "4b273e2c",
   "metadata": {
    "execution": {
     "iopub.execute_input": "2023-04-22T07:19:54.790711Z",
     "iopub.status.busy": "2023-04-22T07:19:54.789840Z",
     "iopub.status.idle": "2023-04-22T07:20:14.490804Z",
     "shell.execute_reply": "2023-04-22T07:20:14.489114Z"
    },
    "papermill": {
     "duration": 19.893648,
     "end_time": "2023-04-22T07:20:14.494540",
     "exception": false,
     "start_time": "2023-04-22T07:19:54.600892",
     "status": "completed"
    },
    "scrolled": true,
    "tags": []
   },
   "outputs": [
    {
     "name": "stderr",
     "output_type": "stream",
     "text": [
      "/var/folders/qv/0z2v23tn1f1b2fnpqqgqsxch0000gn/T/ipykernel_4590/3771688054.py:2: DtypeWarning: Columns (19,21,40,41,42,44,48,49,50,53,55,58,59,61,71) have mixed types. Specify dtype option on import or set low_memory=False.\n",
      "  vehicles_df = pd.read_csv('data/Traffic_Crashes-Vehicles.csv')\n"
     ]
    },
    {
     "data": {
      "text/html": [
       "<div>\n",
       "<style scoped>\n",
       "    .dataframe tbody tr th:only-of-type {\n",
       "        vertical-align: middle;\n",
       "    }\n",
       "\n",
       "    .dataframe tbody tr th {\n",
       "        vertical-align: top;\n",
       "    }\n",
       "\n",
       "    .dataframe thead th {\n",
       "        text-align: right;\n",
       "    }\n",
       "</style>\n",
       "<table border=\"1\" class=\"dataframe\">\n",
       "  <thead>\n",
       "    <tr style=\"text-align: right;\">\n",
       "      <th></th>\n",
       "      <th>CRASH_UNIT_ID</th>\n",
       "      <th>CRASH_RECORD_ID</th>\n",
       "      <th>RD_NO</th>\n",
       "      <th>CRASH_DATE</th>\n",
       "      <th>UNIT_NO</th>\n",
       "      <th>UNIT_TYPE</th>\n",
       "      <th>NUM_PASSENGERS</th>\n",
       "      <th>VEHICLE_ID</th>\n",
       "      <th>CMRC_VEH_I</th>\n",
       "      <th>MAKE</th>\n",
       "      <th>...</th>\n",
       "      <th>TRAILER1_LENGTH</th>\n",
       "      <th>TRAILER2_LENGTH</th>\n",
       "      <th>TOTAL_VEHICLE_LENGTH</th>\n",
       "      <th>AXLE_CNT</th>\n",
       "      <th>VEHICLE_CONFIG</th>\n",
       "      <th>CARGO_BODY_TYPE</th>\n",
       "      <th>LOAD_TYPE</th>\n",
       "      <th>HAZMAT_OUT_OF_SERVICE_I</th>\n",
       "      <th>MCS_OUT_OF_SERVICE_I</th>\n",
       "      <th>HAZMAT_CLASS</th>\n",
       "    </tr>\n",
       "  </thead>\n",
       "  <tbody>\n",
       "    <tr>\n",
       "      <th>0</th>\n",
       "      <td>829999</td>\n",
       "      <td>24ddf9fd8542199d832e1c223cc474e5601b356f1d77a6...</td>\n",
       "      <td>JD124535</td>\n",
       "      <td>01/22/2020 06:25:00 AM</td>\n",
       "      <td>1</td>\n",
       "      <td>DRIVER</td>\n",
       "      <td>NaN</td>\n",
       "      <td>796949.0</td>\n",
       "      <td>NaN</td>\n",
       "      <td>INFINITI</td>\n",
       "      <td>...</td>\n",
       "      <td>NaN</td>\n",
       "      <td>NaN</td>\n",
       "      <td>NaN</td>\n",
       "      <td>NaN</td>\n",
       "      <td>NaN</td>\n",
       "      <td>NaN</td>\n",
       "      <td>NaN</td>\n",
       "      <td>NaN</td>\n",
       "      <td>NaN</td>\n",
       "      <td>NaN</td>\n",
       "    </tr>\n",
       "    <tr>\n",
       "      <th>1</th>\n",
       "      <td>749947</td>\n",
       "      <td>81dc0de2ed92aa62baccab641fa377be7feb1cc47e6554...</td>\n",
       "      <td>JC451435</td>\n",
       "      <td>09/28/2019 03:30:00 AM</td>\n",
       "      <td>1</td>\n",
       "      <td>DRIVER</td>\n",
       "      <td>NaN</td>\n",
       "      <td>834816.0</td>\n",
       "      <td>NaN</td>\n",
       "      <td>HONDA</td>\n",
       "      <td>...</td>\n",
       "      <td>NaN</td>\n",
       "      <td>NaN</td>\n",
       "      <td>NaN</td>\n",
       "      <td>NaN</td>\n",
       "      <td>NaN</td>\n",
       "      <td>NaN</td>\n",
       "      <td>NaN</td>\n",
       "      <td>NaN</td>\n",
       "      <td>NaN</td>\n",
       "      <td>NaN</td>\n",
       "    </tr>\n",
       "    <tr>\n",
       "      <th>2</th>\n",
       "      <td>749949</td>\n",
       "      <td>81dc0de2ed92aa62baccab641fa377be7feb1cc47e6554...</td>\n",
       "      <td>JC451435</td>\n",
       "      <td>09/28/2019 03:30:00 AM</td>\n",
       "      <td>2</td>\n",
       "      <td>PARKED</td>\n",
       "      <td>NaN</td>\n",
       "      <td>834819.0</td>\n",
       "      <td>NaN</td>\n",
       "      <td>TOYOTA</td>\n",
       "      <td>...</td>\n",
       "      <td>NaN</td>\n",
       "      <td>NaN</td>\n",
       "      <td>NaN</td>\n",
       "      <td>NaN</td>\n",
       "      <td>NaN</td>\n",
       "      <td>NaN</td>\n",
       "      <td>NaN</td>\n",
       "      <td>NaN</td>\n",
       "      <td>NaN</td>\n",
       "      <td>NaN</td>\n",
       "    </tr>\n",
       "    <tr>\n",
       "      <th>3</th>\n",
       "      <td>749950</td>\n",
       "      <td>81dc0de2ed92aa62baccab641fa377be7feb1cc47e6554...</td>\n",
       "      <td>JC451435</td>\n",
       "      <td>09/28/2019 03:30:00 AM</td>\n",
       "      <td>3</td>\n",
       "      <td>PARKED</td>\n",
       "      <td>NaN</td>\n",
       "      <td>834817.0</td>\n",
       "      <td>NaN</td>\n",
       "      <td>GENERAL MOTORS CORPORATION (GMC)</td>\n",
       "      <td>...</td>\n",
       "      <td>NaN</td>\n",
       "      <td>NaN</td>\n",
       "      <td>NaN</td>\n",
       "      <td>NaN</td>\n",
       "      <td>NaN</td>\n",
       "      <td>NaN</td>\n",
       "      <td>NaN</td>\n",
       "      <td>NaN</td>\n",
       "      <td>NaN</td>\n",
       "      <td>NaN</td>\n",
       "    </tr>\n",
       "    <tr>\n",
       "      <th>4</th>\n",
       "      <td>871921</td>\n",
       "      <td>af84fb5c8d996fcd3aefd36593c3a02e6e7509eeb27568...</td>\n",
       "      <td>JD208731</td>\n",
       "      <td>04/13/2020 10:50:00 PM</td>\n",
       "      <td>2</td>\n",
       "      <td>DRIVER</td>\n",
       "      <td>NaN</td>\n",
       "      <td>827212.0</td>\n",
       "      <td>NaN</td>\n",
       "      <td>BUICK</td>\n",
       "      <td>...</td>\n",
       "      <td>NaN</td>\n",
       "      <td>NaN</td>\n",
       "      <td>NaN</td>\n",
       "      <td>NaN</td>\n",
       "      <td>NaN</td>\n",
       "      <td>NaN</td>\n",
       "      <td>NaN</td>\n",
       "      <td>NaN</td>\n",
       "      <td>NaN</td>\n",
       "      <td>NaN</td>\n",
       "    </tr>\n",
       "  </tbody>\n",
       "</table>\n",
       "<p>5 rows × 72 columns</p>\n",
       "</div>"
      ],
      "text/plain": [
       "   CRASH_UNIT_ID                                    CRASH_RECORD_ID     RD_NO  \\\n",
       "0         829999  24ddf9fd8542199d832e1c223cc474e5601b356f1d77a6...  JD124535   \n",
       "1         749947  81dc0de2ed92aa62baccab641fa377be7feb1cc47e6554...  JC451435   \n",
       "2         749949  81dc0de2ed92aa62baccab641fa377be7feb1cc47e6554...  JC451435   \n",
       "3         749950  81dc0de2ed92aa62baccab641fa377be7feb1cc47e6554...  JC451435   \n",
       "4         871921  af84fb5c8d996fcd3aefd36593c3a02e6e7509eeb27568...  JD208731   \n",
       "\n",
       "               CRASH_DATE  UNIT_NO UNIT_TYPE  NUM_PASSENGERS  VEHICLE_ID  \\\n",
       "0  01/22/2020 06:25:00 AM        1    DRIVER             NaN    796949.0   \n",
       "1  09/28/2019 03:30:00 AM        1    DRIVER             NaN    834816.0   \n",
       "2  09/28/2019 03:30:00 AM        2    PARKED             NaN    834819.0   \n",
       "3  09/28/2019 03:30:00 AM        3    PARKED             NaN    834817.0   \n",
       "4  04/13/2020 10:50:00 PM        2    DRIVER             NaN    827212.0   \n",
       "\n",
       "  CMRC_VEH_I                              MAKE  ... TRAILER1_LENGTH  \\\n",
       "0        NaN                          INFINITI  ...             NaN   \n",
       "1        NaN                             HONDA  ...             NaN   \n",
       "2        NaN                            TOYOTA  ...             NaN   \n",
       "3        NaN  GENERAL MOTORS CORPORATION (GMC)  ...             NaN   \n",
       "4        NaN                             BUICK  ...             NaN   \n",
       "\n",
       "  TRAILER2_LENGTH  TOTAL_VEHICLE_LENGTH AXLE_CNT VEHICLE_CONFIG  \\\n",
       "0             NaN                   NaN      NaN            NaN   \n",
       "1             NaN                   NaN      NaN            NaN   \n",
       "2             NaN                   NaN      NaN            NaN   \n",
       "3             NaN                   NaN      NaN            NaN   \n",
       "4             NaN                   NaN      NaN            NaN   \n",
       "\n",
       "  CARGO_BODY_TYPE LOAD_TYPE HAZMAT_OUT_OF_SERVICE_I MCS_OUT_OF_SERVICE_I  \\\n",
       "0             NaN       NaN                     NaN                  NaN   \n",
       "1             NaN       NaN                     NaN                  NaN   \n",
       "2             NaN       NaN                     NaN                  NaN   \n",
       "3             NaN       NaN                     NaN                  NaN   \n",
       "4             NaN       NaN                     NaN                  NaN   \n",
       "\n",
       "  HAZMAT_CLASS  \n",
       "0          NaN  \n",
       "1          NaN  \n",
       "2          NaN  \n",
       "3          NaN  \n",
       "4          NaN  \n",
       "\n",
       "[5 rows x 72 columns]"
      ]
     },
     "execution_count": 1512,
     "metadata": {},
     "output_type": "execute_result"
    }
   ],
   "source": [
    "#import the dataset using the API endpoint\n",
    "vehicles_df = pd.read_csv('data/Traffic_Crashes-Vehicles.csv')\n",
    "\n",
    "#preview thee first 5 rows\n",
    "vehicles_df.head()"
   ]
  },
  {
   "cell_type": "code",
   "execution_count": 1513,
   "id": "e3114c13",
   "metadata": {
    "execution": {
     "iopub.execute_input": "2023-04-22T07:20:14.725714Z",
     "iopub.status.busy": "2023-04-22T07:20:14.724823Z",
     "iopub.status.idle": "2023-04-22T07:20:18.039871Z",
     "shell.execute_reply": "2023-04-22T07:20:18.037470Z"
    },
    "papermill": {
     "duration": 3.429596,
     "end_time": "2023-04-22T07:20:18.043931",
     "exception": false,
     "start_time": "2023-04-22T07:20:14.614335",
     "status": "completed"
    },
    "tags": []
   },
   "outputs": [
    {
     "name": "stdout",
     "output_type": "stream",
     "text": [
      "<class 'pandas.core.frame.DataFrame'>\n",
      "RangeIndex: 1416095 entries, 0 to 1416094\n",
      "Data columns (total 72 columns):\n",
      " #   Column                    Non-Null Count    Dtype  \n",
      "---  ------                    --------------    -----  \n",
      " 0   CRASH_UNIT_ID             1416095 non-null  int64  \n",
      " 1   CRASH_RECORD_ID           1416095 non-null  object \n",
      " 2   RD_NO                     1408273 non-null  object \n",
      " 3   CRASH_DATE                1416095 non-null  object \n",
      " 4   UNIT_NO                   1416095 non-null  int64  \n",
      " 5   UNIT_TYPE                 1414134 non-null  object \n",
      " 6   NUM_PASSENGERS            209579 non-null   float64\n",
      " 7   VEHICLE_ID                1384025 non-null  float64\n",
      " 8   CMRC_VEH_I                26451 non-null    object \n",
      " 9   MAKE                      1384020 non-null  object \n",
      " 10  MODEL                     1383876 non-null  object \n",
      " 11  LIC_PLATE_STATE           1258222 non-null  object \n",
      " 12  VEHICLE_YEAR              1159243 non-null  float64\n",
      " 13  VEHICLE_DEFECT            1384025 non-null  object \n",
      " 14  VEHICLE_TYPE              1384025 non-null  object \n",
      " 15  VEHICLE_USE               1384025 non-null  object \n",
      " 16  TRAVEL_DIRECTION          1384025 non-null  object \n",
      " 17  MANEUVER                  1384025 non-null  object \n",
      " 18  TOWED_I                   173461 non-null   object \n",
      " 19  FIRE_I                    1132 non-null     object \n",
      " 20  OCCUPANT_CNT              1384025 non-null  float64\n",
      " 21  EXCEED_SPEED_LIMIT_I      2397 non-null     object \n",
      " 22  TOWED_BY                  129266 non-null   object \n",
      " 23  TOWED_TO                  79553 non-null    object \n",
      " 24  AREA_00_I                 50097 non-null    object \n",
      " 25  AREA_01_I                 374799 non-null   object \n",
      " 26  AREA_02_I                 227990 non-null   object \n",
      " 27  AREA_03_I                 134586 non-null   object \n",
      " 28  AREA_04_I                 135984 non-null   object \n",
      " 29  AREA_05_I                 210775 non-null   object \n",
      " 30  AREA_06_I                 219467 non-null   object \n",
      " 31  AREA_07_I                 198788 non-null   object \n",
      " 32  AREA_08_I                 210912 non-null   object \n",
      " 33  AREA_09_I                 85333 non-null    object \n",
      " 34  AREA_10_I                 123385 non-null   object \n",
      " 35  AREA_11_I                 241587 non-null   object \n",
      " 36  AREA_12_I                 237530 non-null   object \n",
      " 37  AREA_99_I                 156879 non-null   object \n",
      " 38  FIRST_CONTACT_POINT       1371395 non-null  object \n",
      " 39  CMV_ID                    14819 non-null    float64\n",
      " 40  USDOT_NO                  8455 non-null     object \n",
      " 41  CCMC_NO                   1842 non-null     object \n",
      " 42  ILCC_NO                   1284 non-null     object \n",
      " 43  COMMERCIAL_SRC            10012 non-null    object \n",
      " 44  GVWR                      8380 non-null     object \n",
      " 45  CARRIER_NAME              14182 non-null    object \n",
      " 46  CARRIER_STATE             13322 non-null    object \n",
      " 47  CARRIER_CITY              13087 non-null    object \n",
      " 48  HAZMAT_PLACARDS_I         290 non-null      object \n",
      " 49  HAZMAT_NAME               54 non-null       object \n",
      " 50  UN_NO                     508 non-null      object \n",
      " 51  HAZMAT_PRESENT_I          10846 non-null    object \n",
      " 52  HAZMAT_REPORT_I           10529 non-null    object \n",
      " 53  HAZMAT_REPORT_NO          1 non-null        object \n",
      " 54  MCS_REPORT_I              10584 non-null    object \n",
      " 55  MCS_REPORT_NO             7 non-null        object \n",
      " 56  HAZMAT_VIO_CAUSE_CRASH_I  10689 non-null    object \n",
      " 57  MCS_VIO_CAUSE_CRASH_I     10489 non-null    object \n",
      " 58  IDOT_PERMIT_NO            824 non-null      object \n",
      " 59  WIDE_LOAD_I               125 non-null      object \n",
      " 60  TRAILER1_WIDTH            2674 non-null     object \n",
      " 61  TRAILER2_WIDTH            320 non-null      object \n",
      " 62  TRAILER1_LENGTH           2180 non-null     float64\n",
      " 63  TRAILER2_LENGTH           65 non-null       float64\n",
      " 64  TOTAL_VEHICLE_LENGTH      2644 non-null     float64\n",
      " 65  AXLE_CNT                  3912 non-null     float64\n",
      " 66  VEHICLE_CONFIG            12287 non-null    object \n",
      " 67  CARGO_BODY_TYPE           11753 non-null    object \n",
      " 68  LOAD_TYPE                 11241 non-null    object \n",
      " 69  HAZMAT_OUT_OF_SERVICE_I   10214 non-null    object \n",
      " 70  MCS_OUT_OF_SERVICE_I      10458 non-null    object \n",
      " 71  HAZMAT_CLASS              983 non-null      object \n",
      "dtypes: float64(9), int64(2), object(61)\n",
      "memory usage: 777.9+ MB\n"
     ]
    }
   ],
   "source": [
    "#Explore the info for all the features\n",
    "vehicles_df.info()"
   ]
  },
  {
   "cell_type": "markdown",
   "id": "fad83338",
   "metadata": {
    "papermill": {
     "duration": 0.109796,
     "end_time": "2023-04-22T07:20:18.265768",
     "exception": false,
     "start_time": "2023-04-22T07:20:18.155972",
     "status": "completed"
    },
    "tags": []
   },
   "source": [
    "`CRASH_UNIT_ID`, `RD_NO`, `UNIT_NO`, `VEHICLE_ID`, and `CMRC_VEH_I`,  are unique IDs for crash reports which can be ignored for the purposes of the analysis. These columns will be **DROPPED**\n",
    "\n",
    "`MAKE`, `MODEL`, `LIC_PLATE_STATE`, `VEHICLE_YEAR`, and `TRAVEL_DIRECTION` are speciific informations relevant to the vehicle. These are valuable information to keep track but these don;t provide valuable insights into causes for crashes. While the argument can be made that the make or vehicle year of a car can showcase which brands of cars and which years are involved in the most crashes, these singular data points can inform biased policies. For instance, older cars are usually owned by people who can't afford the expensive new models. Moreover, the more important aspect to know would be what kind of safety features did these cars have to understand how helpful ccertain safety features have but that data is not availabl. Therefore, these columns will be **DROPPED**.\n",
    "\n",
    "`VEHICLE_DEFECT`: This column might contain some intersting data. Lets investigate the contents of this column."
   ]
  },
  {
   "cell_type": "code",
   "execution_count": 1514,
   "id": "5c71e88d",
   "metadata": {
    "execution": {
     "iopub.execute_input": "2023-04-22T07:20:18.493224Z",
     "iopub.status.busy": "2023-04-22T07:20:18.491856Z",
     "iopub.status.idle": "2023-04-22T07:20:18.590204Z",
     "shell.execute_reply": "2023-04-22T07:20:18.588244Z"
    },
    "papermill": {
     "duration": 0.21592,
     "end_time": "2023-04-22T07:20:18.593411",
     "exception": false,
     "start_time": "2023-04-22T07:20:18.377491",
     "status": "completed"
    },
    "tags": []
   },
   "outputs": [
    {
     "data": {
      "text/plain": [
       "NONE                768370\n",
       "UNKNOWN             601707\n",
       "OTHER                 6782\n",
       "BRAKES                4566\n",
       "TIRES                  700\n",
       "STEERING               650\n",
       "WHEELS                 365\n",
       "SUSPENSION             241\n",
       "ENGINE/MOTOR           183\n",
       "FUEL SYSTEM            150\n",
       "LIGHTS                  86\n",
       "WINDOWS                 82\n",
       "CARGO                   47\n",
       "SIGNALS                 38\n",
       "RESTRAINT SYSTEM        21\n",
       "TRAILER COUPLING        19\n",
       "EXHAUST                 18\n",
       "Name: VEHICLE_DEFECT, dtype: int64"
      ]
     },
     "execution_count": 1514,
     "metadata": {},
     "output_type": "execute_result"
    }
   ],
   "source": [
    "#check unique values\n",
    "vehicles_df['VEHICLE_DEFECT'].value_counts()"
   ]
  },
  {
   "cell_type": "markdown",
   "id": "cd1a5f8a",
   "metadata": {
    "papermill": {
     "duration": 0.10743,
     "end_time": "2023-04-22T07:20:18.811861",
     "exception": false,
     "start_time": "2023-04-22T07:20:18.704431",
     "status": "completed"
    },
    "tags": []
   },
   "source": [
    "while thiss information is useful, 98% of the data is skewed towards None, Unkown or Other values that don't provide us any valuable insights. We can use oversampling methodlogies to help balance out the data to provide valuable insights."
   ]
  },
  {
   "cell_type": "markdown",
   "id": "d5b2c33a",
   "metadata": {
    "papermill": {
     "duration": 0.109455,
     "end_time": "2023-04-22T07:20:19.033482",
     "exception": false,
     "start_time": "2023-04-22T07:20:18.924027",
     "status": "completed"
    },
    "tags": []
   },
   "source": [
    "`VEHICLE_TYPE`: The type of vehicle, if relevant. Lets investigate the contents of this column."
   ]
  },
  {
   "cell_type": "code",
   "execution_count": 1515,
   "id": "359426ce",
   "metadata": {
    "execution": {
     "iopub.execute_input": "2023-04-22T07:20:19.257126Z",
     "iopub.status.busy": "2023-04-22T07:20:19.255788Z",
     "iopub.status.idle": "2023-04-22T07:20:19.358569Z",
     "shell.execute_reply": "2023-04-22T07:20:19.356322Z"
    },
    "papermill": {
     "duration": 0.217017,
     "end_time": "2023-04-22T07:20:19.361750",
     "exception": false,
     "start_time": "2023-04-22T07:20:19.144733",
     "status": "completed"
    },
    "tags": []
   },
   "outputs": [
    {
     "data": {
      "text/plain": [
       "PASSENGER                                 870964\n",
       "SPORT UTILITY VEHICLE (SUV)               186498\n",
       "UNKNOWN/NA                                131562\n",
       "VAN/MINI-VAN                               67371\n",
       "PICKUP                                     43239\n",
       "TRUCK - SINGLE UNIT                        26270\n",
       "OTHER                                      16301\n",
       "BUS OVER 15 PASS.                          14529\n",
       "TRACTOR W/ SEMI-TRAILER                    13251\n",
       "BUS UP TO 15 PASS.                          3487\n",
       "MOTORCYCLE (OVER 150CC)                     3217\n",
       "SINGLE UNIT TRUCK WITH TRAILER              2131\n",
       "OTHER VEHICLE WITH TRAILER                  1774\n",
       "TRACTOR W/O SEMI-TRAILER                    1766\n",
       "AUTOCYCLE                                    648\n",
       "MOPED OR MOTORIZED BICYCLE                   382\n",
       "MOTOR DRIVEN CYCLE                           326\n",
       "ALL-TERRAIN VEHICLE (ATV)                    160\n",
       "FARM EQUIPMENT                                72\n",
       "3-WHEELED MOTORCYCLE (2 REAR WHEELS)          49\n",
       "RECREATIONAL OFF-HIGHWAY VEHICLE (ROV)        20\n",
       "SNOWMOBILE                                     8\n",
       "Name: VEHICLE_TYPE, dtype: int64"
      ]
     },
     "execution_count": 1515,
     "metadata": {},
     "output_type": "execute_result"
    }
   ],
   "source": [
    "#check unique values\n",
    "vehicles_df['VEHICLE_TYPE'].value_counts()"
   ]
  },
  {
   "cell_type": "markdown",
   "id": "dd864f52",
   "metadata": {
    "papermill": {
     "duration": 0.109483,
     "end_time": "2023-04-22T07:20:19.580620",
     "exception": false,
     "start_time": "2023-04-22T07:20:19.471137",
     "status": "completed"
    },
    "tags": []
   },
   "source": [
    "This data will be very valuable to discern how different types of vehicles get into accidents and understand the trends in causes. The imbalance in the data has to be aaddresssed later in th eDaata Preparations Section."
   ]
  },
  {
   "cell_type": "markdown",
   "id": "1ed22693",
   "metadata": {
    "papermill": {
     "duration": 0.114339,
     "end_time": "2023-04-22T07:20:19.811926",
     "exception": false,
     "start_time": "2023-04-22T07:20:19.697587",
     "status": "completed"
    },
    "tags": []
   },
   "source": [
    "`VEHICLE_USE`: The normal use of the vehicle, if relevant. In conjunction with previous column, this column can be used to createe grouped categories of vehicles such as Personal, Rideshare, etc. We can also see that there are more unknown records in this collumn than the previous one. We can use the previous column to reduce the number of unkowns n our data. "
   ]
  },
  {
   "cell_type": "code",
   "execution_count": 1516,
   "id": "fd66c730",
   "metadata": {
    "execution": {
     "iopub.execute_input": "2023-04-22T07:20:20.031031Z",
     "iopub.status.busy": "2023-04-22T07:20:20.030567Z",
     "iopub.status.idle": "2023-04-22T07:20:20.130710Z",
     "shell.execute_reply": "2023-04-22T07:20:20.129072Z"
    },
    "papermill": {
     "duration": 0.212744,
     "end_time": "2023-04-22T07:20:20.134009",
     "exception": false,
     "start_time": "2023-04-22T07:20:19.921265",
     "status": "completed"
    },
    "tags": []
   },
   "outputs": [
    {
     "data": {
      "text/plain": [
       "PERSONAL                        894350\n",
       "UNKNOWN/NA                      279642\n",
       "NOT IN USE                       71810\n",
       "OTHER                            43301\n",
       "TAXI/FOR HIRE                    18505\n",
       "COMMERCIAL - SINGLE UNIT         17164\n",
       "RIDESHARE SERVICE                11623\n",
       "CTA                               9315\n",
       "POLICE                            9055\n",
       "CONSTRUCTION/MAINTENANCE          6300\n",
       "COMMERCIAL - MULTI-UNIT           5689\n",
       "OTHER TRANSIT                     3964\n",
       "SCHOOL BUS                        3724\n",
       "TOW TRUCK                         2657\n",
       "AMBULANCE                         1638\n",
       "FIRE                              1357\n",
       "STATE OWNED                       1162\n",
       "DRIVER EDUCATION                  1107\n",
       "MASS TRANSIT                       832\n",
       "LAWN CARE/LANDSCAPING              526\n",
       "AGRICULTURE                        143\n",
       "CAMPER/RV - SINGLE UNIT             68\n",
       "MILITARY                            55\n",
       "HOUSE TRAILER                       22\n",
       "CAMPER/RV - TOWED/MULTI-UNIT        16\n",
       "Name: VEHICLE_USE, dtype: int64"
      ]
     },
     "execution_count": 1516,
     "metadata": {},
     "output_type": "execute_result"
    }
   ],
   "source": [
    "#check unique values\n",
    "vehicles_df['VEHICLE_USE'].value_counts()"
   ]
  },
  {
   "cell_type": "markdown",
   "id": "ded76bf1",
   "metadata": {
    "papermill": {
     "duration": 0.111186,
     "end_time": "2023-04-22T07:20:20.355151",
     "exception": false,
     "start_time": "2023-04-22T07:20:20.243965",
     "status": "completed"
    },
    "tags": []
   },
   "source": [
    "`MANEUVER`: The action the unit was taking prior to the crash, as determined by the reporting officer. This will be important too understand what kind of maneuvers can cause the most crashes. These will also go hand in hand with location data to understand if certain areas have accidents occuring at specific manevers. Lets investigate this column to understand the values in it."
   ]
  },
  {
   "cell_type": "code",
   "execution_count": 1517,
   "id": "4311143d",
   "metadata": {
    "execution": {
     "iopub.execute_input": "2023-04-22T07:20:20.576734Z",
     "iopub.status.busy": "2023-04-22T07:20:20.575960Z",
     "iopub.status.idle": "2023-04-22T07:20:20.682516Z",
     "shell.execute_reply": "2023-04-22T07:20:20.680718Z"
    },
    "papermill": {
     "duration": 0.221824,
     "end_time": "2023-04-22T07:20:20.685697",
     "exception": false,
     "start_time": "2023-04-22T07:20:20.463873",
     "status": "completed"
    },
    "tags": []
   },
   "outputs": [
    {
     "data": {
      "text/plain": [
       "STRAIGHT AHEAD                        630603\n",
       "PARKED                                190912\n",
       "UNKNOWN/NA                            108064\n",
       "SLOW/STOP IN TRAFFIC                  105648\n",
       "TURNING LEFT                           81375\n",
       "BACKING                                57054\n",
       "TURNING RIGHT                          45377\n",
       "PASSING/OVERTAKING                     33216\n",
       "CHANGING LANES                         26814\n",
       "OTHER                                  23226\n",
       "ENTERING TRAFFIC LANE FROM PARKING     16299\n",
       "MERGING                                 9569\n",
       "STARTING IN TRAFFIC                     8157\n",
       "U-TURN                                  7783\n",
       "LEAVING TRAFFIC LANE TO PARK            6719\n",
       "AVOIDING VEHICLES/OBJECTS               6021\n",
       "SKIDDING/CONTROL LOSS                   5624\n",
       "ENTER FROM DRIVE/ALLEY                  5414\n",
       "PARKED IN TRAFFIC LANE                  4193\n",
       "SLOW/STOP - LEFT TURN                   3042\n",
       "DRIVING WRONG WAY                       2001\n",
       "SLOW/STOP - RIGHT TURN                  1929\n",
       "NEGOTIATING A CURVE                     1860\n",
       "SLOW/STOP - LOAD/UNLOAD                 1663\n",
       "TURNING ON RED                           538\n",
       "DRIVERLESS                               530\n",
       "DIVERGING                                216\n",
       "DISABLED                                 178\n",
       "Name: MANEUVER, dtype: int64"
      ]
     },
     "execution_count": 1517,
     "metadata": {},
     "output_type": "execute_result"
    }
   ],
   "source": [
    "#check unique values\n",
    "vehicles_df['MANEUVER'].value_counts()"
   ]
  },
  {
   "cell_type": "markdown",
   "id": "a1e80acd",
   "metadata": {
    "papermill": {
     "duration": 0.113161,
     "end_time": "2023-04-22T07:20:20.909623",
     "exception": false,
     "start_time": "2023-04-22T07:20:20.796462",
     "status": "completed"
    },
    "tags": []
   },
   "source": [
    "Some of these categories can be grouped together to make claassificatin analysis less granular. This will be done in the Data Preparation section."
   ]
  },
  {
   "cell_type": "markdown",
   "id": "237a549d",
   "metadata": {
    "papermill": {
     "duration": 0.184867,
     "end_time": "2023-04-22T07:20:21.208018",
     "exception": false,
     "start_time": "2023-04-22T07:20:21.023151",
     "status": "completed"
    },
    "tags": []
   },
   "source": [
    "`TOWED_I`, `FIRE_I`, `TOWED_BY`, and `TOWED_TO` are relevant details for keeping record of a crash but these columns won't be useful data to understand the causes and trends of crashes. These columns will be **DROPPED**."
   ]
  },
  {
   "cell_type": "markdown",
   "id": "7d2a1669",
   "metadata": {
    "papermill": {
     "duration": 0.112594,
     "end_time": "2023-04-22T07:20:21.432167",
     "exception": false,
     "start_time": "2023-04-22T07:20:21.319573",
     "status": "completed"
    },
    "tags": []
   },
   "source": [
    "`OCCUPANT_CNT` which is the number of people in the unit will be very valuable records to use in our analysis. This can show whether an increased number of occupants in vehicles is correlated to certain types of traffic crashes."
   ]
  },
  {
   "cell_type": "markdown",
   "id": "bff8119b",
   "metadata": {
    "papermill": {
     "duration": 0.110091,
     "end_time": "2023-04-22T07:20:21.652667",
     "exception": false,
     "start_time": "2023-04-22T07:20:21.542576",
     "status": "completed"
    },
    "tags": []
   },
   "source": [
    "`AREA_00_I` to `AREA_99_I` are encoded columns but do not have any details on what information do they represent. Lets investigate the contents of these columns to see if there is more insight."
   ]
  },
  {
   "cell_type": "code",
   "execution_count": 1518,
   "id": "7e42cc7e",
   "metadata": {
    "execution": {
     "iopub.execute_input": "2023-04-22T07:20:21.874004Z",
     "iopub.status.busy": "2023-04-22T07:20:21.873286Z",
     "iopub.status.idle": "2023-04-22T07:20:21.914074Z",
     "shell.execute_reply": "2023-04-22T07:20:21.912372Z"
    },
    "papermill": {
     "duration": 0.156248,
     "end_time": "2023-04-22T07:20:21.917041",
     "exception": false,
     "start_time": "2023-04-22T07:20:21.760793",
     "status": "completed"
    },
    "tags": []
   },
   "outputs": [
    {
     "name": "stdout",
     "output_type": "stream",
     "text": [
      "Y    43954\n",
      "N     6143\n"
     ]
    }
   ],
   "source": [
    "#check unique values\n",
    "print(vehicles_df['AREA_00_I'].value_counts().to_string())"
   ]
  },
  {
   "cell_type": "code",
   "execution_count": 1519,
   "id": "24374217",
   "metadata": {
    "execution": {
     "iopub.execute_input": "2023-04-22T07:20:22.142168Z",
     "iopub.status.busy": "2023-04-22T07:20:22.141454Z",
     "iopub.status.idle": "2023-04-22T07:20:22.191984Z",
     "shell.execute_reply": "2023-04-22T07:20:22.190233Z"
    },
    "papermill": {
     "duration": 0.166898,
     "end_time": "2023-04-22T07:20:22.195361",
     "exception": false,
     "start_time": "2023-04-22T07:20:22.028463",
     "status": "completed"
    },
    "tags": []
   },
   "outputs": [
    {
     "data": {
      "text/plain": [
       "Y    217069\n",
       "N     10921\n",
       "Name: AREA_02_I, dtype: int64"
      ]
     },
     "execution_count": 1519,
     "metadata": {},
     "output_type": "execute_result"
    }
   ],
   "source": [
    "#check unique values\n",
    "vehicles_df['AREA_02_I'].value_counts()"
   ]
  },
  {
   "cell_type": "code",
   "execution_count": 1520,
   "id": "16a7ac2d",
   "metadata": {
    "execution": {
     "iopub.execute_input": "2023-04-22T07:20:22.425742Z",
     "iopub.status.busy": "2023-04-22T07:20:22.423980Z",
     "iopub.status.idle": "2023-04-22T07:20:22.472059Z",
     "shell.execute_reply": "2023-04-22T07:20:22.470592Z"
    },
    "papermill": {
     "duration": 0.167027,
     "end_time": "2023-04-22T07:20:22.475485",
     "exception": false,
     "start_time": "2023-04-22T07:20:22.308458",
     "status": "completed"
    },
    "tags": []
   },
   "outputs": [
    {
     "data": {
      "text/plain": [
       "Y    128418\n",
       "N      6168\n",
       "Name: AREA_03_I, dtype: int64"
      ]
     },
     "execution_count": 1520,
     "metadata": {},
     "output_type": "execute_result"
    }
   ],
   "source": [
    "#check unique values\n",
    "vehicles_df['AREA_03_I'].value_counts()"
   ]
  },
  {
   "cell_type": "code",
   "execution_count": 1521,
   "id": "10052693",
   "metadata": {
    "execution": {
     "iopub.execute_input": "2023-04-22T07:20:22.700192Z",
     "iopub.status.busy": "2023-04-22T07:20:22.699661Z",
     "iopub.status.idle": "2023-04-22T07:20:22.748067Z",
     "shell.execute_reply": "2023-04-22T07:20:22.746007Z"
    },
    "papermill": {
     "duration": 0.16313,
     "end_time": "2023-04-22T07:20:22.751324",
     "exception": false,
     "start_time": "2023-04-22T07:20:22.588194",
     "status": "completed"
    },
    "tags": []
   },
   "outputs": [
    {
     "data": {
      "text/plain": [
       "Y    129920\n",
       "N      6064\n",
       "Name: AREA_04_I, dtype: int64"
      ]
     },
     "execution_count": 1521,
     "metadata": {},
     "output_type": "execute_result"
    }
   ],
   "source": [
    "#check unique values\n",
    "vehicles_df['AREA_04_I'].value_counts()"
   ]
  },
  {
   "cell_type": "code",
   "execution_count": 1522,
   "id": "83431f79",
   "metadata": {
    "execution": {
     "iopub.execute_input": "2023-04-22T07:20:22.981217Z",
     "iopub.status.busy": "2023-04-22T07:20:22.980341Z",
     "iopub.status.idle": "2023-04-22T07:20:23.031198Z",
     "shell.execute_reply": "2023-04-22T07:20:23.029350Z"
    },
    "papermill": {
     "duration": 0.16934,
     "end_time": "2023-04-22T07:20:23.034787",
     "exception": false,
     "start_time": "2023-04-22T07:20:22.865447",
     "status": "completed"
    },
    "tags": []
   },
   "outputs": [
    {
     "data": {
      "text/plain": [
       "Y    151041\n",
       "N      5838\n",
       "Name: AREA_99_I, dtype: int64"
      ]
     },
     "execution_count": 1522,
     "metadata": {},
     "output_type": "execute_result"
    }
   ],
   "source": [
    "#check unique values\n",
    "vehicles_df['AREA_99_I'].value_counts()"
   ]
  },
  {
   "cell_type": "markdown",
   "id": "52ece625",
   "metadata": {
    "papermill": {
     "duration": 0.113287,
     "end_time": "2023-04-22T07:20:23.261027",
     "exception": false,
     "start_time": "2023-04-22T07:20:23.147740",
     "status": "completed"
    },
    "tags": []
   },
   "source": [
    "Most of these are just indicators but there's no information on what do these indicators represent. With no extra information on what areas these columns represent, these columns will bee **DROPPED**. Moreover, we the latitude and longitude to help us understand the location."
   ]
  },
  {
   "cell_type": "markdown",
   "id": "0c8808f5",
   "metadata": {
    "papermill": {
     "duration": 0.112424,
     "end_time": "2023-04-22T07:20:23.485136",
     "exception": false,
     "start_time": "2023-04-22T07:20:23.372712",
     "status": "completed"
    },
    "tags": []
   },
   "source": [
    "`FIRST_CONTACT_POINT`: This column does not have a description. LLets investigate the column values to understand more."
   ]
  },
  {
   "cell_type": "code",
   "execution_count": 1523,
   "id": "f5cde822",
   "metadata": {
    "execution": {
     "iopub.execute_input": "2023-04-22T07:20:23.717905Z",
     "iopub.status.busy": "2023-04-22T07:20:23.716255Z",
     "iopub.status.idle": "2023-04-22T07:20:23.824504Z",
     "shell.execute_reply": "2023-04-22T07:20:23.821594Z"
    },
    "papermill": {
     "duration": 0.228881,
     "end_time": "2023-04-22T07:20:23.827685",
     "exception": false,
     "start_time": "2023-04-22T07:20:23.598804",
     "status": "completed"
    },
    "tags": []
   },
   "outputs": [
    {
     "data": {
      "text/plain": [
       "FRONT                207316\n",
       "OTHER                168617\n",
       "REAR-LEFT            156455\n",
       "UNKNOWN              131938\n",
       "REAR                 117386\n",
       "FRONT-LEFT           100587\n",
       "TOTAL (ALL AREAS)     95027\n",
       "SIDE-RIGHT            89210\n",
       "FRONT-RIGHT           87356\n",
       "SIDE-LEFT             81838\n",
       "ROOF                  56741\n",
       "REAR-RIGHT            50777\n",
       "UNDER CARRIAGE        16646\n",
       "NONE                  11501\n",
       "Name: FIRST_CONTACT_POINT, dtype: int64"
      ]
     },
     "execution_count": 1523,
     "metadata": {},
     "output_type": "execute_result"
    }
   ],
   "source": [
    "#check unique values\n",
    "vehicles_df['FIRST_CONTACT_POINT'].value_counts()"
   ]
  },
  {
   "cell_type": "markdown",
   "id": "3692a0e1",
   "metadata": {
    "papermill": {
     "duration": 0.113722,
     "end_time": "2023-04-22T07:20:24.055894",
     "exception": false,
     "start_time": "2023-04-22T07:20:23.942172",
     "status": "completed"
    },
    "tags": []
   },
   "source": [
    "This column represents the first point of contact of an accident. This information can provide us insight into how vehiicles/people are getting into crashes. If its front/rear/sideways, etc. This will be valuable information t ocarry forward."
   ]
  },
  {
   "cell_type": "markdown",
   "id": "4ca2ab27",
   "metadata": {
    "papermill": {
     "duration": 0.112288,
     "end_time": "2023-04-22T07:20:24.278979",
     "exception": false,
     "start_time": "2023-04-22T07:20:24.166691",
     "status": "completed"
    },
    "tags": []
   },
   "source": [
    "`CMV_ID`, `USDOT_NO`, `CCMC_NO`, `ILCC_NO`, and `COMMERCIAL_SRC` are specific information for record keeping of the crash reports. These do not provide any insights into the causes of accidents. They will be **DROPPED**."
   ]
  },
  {
   "cell_type": "markdown",
   "id": "6d6fe0c5",
   "metadata": {
    "papermill": {
     "duration": 0.185201,
     "end_time": "2023-04-22T07:20:24.576093",
     "exception": false,
     "start_time": "2023-04-22T07:20:24.390892",
     "status": "completed"
    },
    "tags": []
   },
   "source": [
    "The following are the columns specific to Comemrcial Trailer/Tractor crashes. These will be **DROPPED**\n",
    "\n",
    "\n",
    "`GVWR`: Gross Vehicle Weight Rating (GVWR)\n",
    "\n",
    "`CARRIER_NAME`: This is the name of the company that owns the tractor/trailer\n",
    "\n",
    "`CARRIER_STATE`: This is the state where the carrier is registered\n",
    "\n",
    "`CARRIER_CITY`: This is the city where the carrier is located\n",
    "\n",
    "`HAZMAT_PLACARDS_I`: This is the hazmat warning on the tractor/trailer regarding the contents. When carrying certain types of content, carriers are mandated to have hazmat signs displayed.\n",
    "\n",
    "`HAZMAT_NAME`: This is the name of what kind of hazmat was being carried\n",
    "\n",
    "`UN_NO`: This is the 4 digit number thata identifies hazardouss equipment\n"
   ]
  },
  {
   "cell_type": "markdown",
   "id": "798e8a6c",
   "metadata": {
    "papermill": {
     "duration": 0.116174,
     "end_time": "2023-04-22T07:20:24.804025",
     "exception": false,
     "start_time": "2023-04-22T07:20:24.687851",
     "status": "completed"
    },
    "tags": []
   },
   "source": [
    "The following information will be **DROPPED** because it is relevant to the hazmat reports involved in a traffic accident.\n",
    "\n",
    "`HAZMAT_PRESENT_I`, `HAZMAT_REPORT_I`, `HAZMAT_REPORT_NO`, `MCS_REPORT_I`, `MCS_REPORT_NO`, `HAZMAT_VIO_CAUSE_CRASH_I`, `MCS_VIO_CAUSE_CRASH_I`, `WIDE_LOAD_I`, and `IDOT_PERMIT_NO`"
   ]
  },
  {
   "cell_type": "markdown",
   "id": "3a94da2f",
   "metadata": {
    "papermill": {
     "duration": 0.110733,
     "end_time": "2023-04-22T07:20:25.264386",
     "exception": false,
     "start_time": "2023-04-22T07:20:25.153653",
     "status": "completed"
    },
    "tags": []
   },
   "source": [
    "While the following colummns have interesting information to analyse about trailer lengths, it would be more useful to just use the `TOTAL_VEHICLE_LENGTH` column. Also, we can the `TRAILER2_LENGTH` column can be used to idenitfy whether there were more than one trailers or not. \n",
    "\n",
    "Therefore, `TRAILER1_WIDTH`, `TRAILER2_WIDTH`, and `TRAILER1_LENGTH` will be **Dropped**."
   ]
  },
  {
   "cell_type": "markdown",
   "id": "e379cdf3",
   "metadata": {
    "papermill": {
     "duration": 0.112741,
     "end_time": "2023-04-22T07:20:25.492700",
     "exception": false,
     "start_time": "2023-04-22T07:20:25.379959",
     "status": "completed"
    },
    "tags": []
   },
   "source": [
    "`AXLE_CNT`: This will provide indication of what kind of a vehicle it is. There has to be some cleaning done on this dataset depending on the contents of this column. Lets invetigate this column."
   ]
  },
  {
   "cell_type": "code",
   "execution_count": 1524,
   "id": "8e3812cb",
   "metadata": {
    "execution": {
     "iopub.execute_input": "2023-04-22T07:20:25.723286Z",
     "iopub.status.busy": "2023-04-22T07:20:25.721464Z",
     "iopub.status.idle": "2023-04-22T07:20:25.740421Z",
     "shell.execute_reply": "2023-04-22T07:20:25.738474Z"
    },
    "papermill": {
     "duration": 0.138106,
     "end_time": "2023-04-22T07:20:25.743606",
     "exception": false,
     "start_time": "2023-04-22T07:20:25.605500",
     "status": "completed"
    },
    "tags": []
   },
   "outputs": [
    {
     "data": {
      "text/plain": [
       "2.0        1238\n",
       "5.0        1222\n",
       "3.0         875\n",
       "6.0         250\n",
       "4.0         197\n",
       "1.0          57\n",
       "8.0          25\n",
       "7.0          14\n",
       "18.0         10\n",
       "9.0           7\n",
       "16.0          4\n",
       "10.0          4\n",
       "12.0          2\n",
       "20.0          1\n",
       "53.0          1\n",
       "52.0          1\n",
       "77.0          1\n",
       "55.0          1\n",
       "99.0          1\n",
       "26009.0       1\n",
       "Name: AXLE_CNT, dtype: int64"
      ]
     },
     "execution_count": 1524,
     "metadata": {},
     "output_type": "execute_result"
    }
   ],
   "source": [
    "#check unique values\n",
    "vehicles_df['AXLE_CNT'].value_counts()"
   ]
  },
  {
   "cell_type": "markdown",
   "id": "d04c5313",
   "metadata": {
    "papermill": {
     "duration": 0.111073,
     "end_time": "2023-04-22T07:20:25.964636",
     "exception": false,
     "start_time": "2023-04-22T07:20:25.853563",
     "status": "completed"
    },
    "tags": []
   },
   "source": [
    "It is clear that there are a few typos here. Also, not all records have values for axlle count which will be dealt with later. Nonetheless, the `VEHICLE_CONFIG` column can provide more valuable information with regaaards to vehicl type for tractor/trailers therefore this column will be **DROPPED**"
   ]
  },
  {
   "cell_type": "markdown",
   "id": "c2b36939",
   "metadata": {
    "papermill": {
     "duration": 0.111969,
     "end_time": "2023-04-22T07:20:26.192465",
     "exception": false,
     "start_time": "2023-04-22T07:20:26.080496",
     "status": "completed"
    },
    "tags": []
   },
   "source": [
    "`VEHICLE_CONFIG`: This has data on the type of tractor/trailer which will be useful to understand the pattern of vehicle configurations and crashes. Lets take a quick look at the data."
   ]
  },
  {
   "cell_type": "code",
   "execution_count": 1525,
   "id": "bede4e45",
   "metadata": {
    "execution": {
     "iopub.execute_input": "2023-04-22T07:20:26.424846Z",
     "iopub.status.busy": "2023-04-22T07:20:26.423607Z",
     "iopub.status.idle": "2023-04-22T07:20:26.465992Z",
     "shell.execute_reply": "2023-04-22T07:20:26.464134Z"
    },
    "papermill": {
     "duration": 0.16384,
     "end_time": "2023-04-22T07:20:26.469416",
     "exception": false,
     "start_time": "2023-04-22T07:20:26.305576",
     "status": "completed"
    },
    "tags": []
   },
   "outputs": [
    {
     "data": {
      "text/plain": [
       "TRACTOR/SEMI-TRAILER                   4841\n",
       "SINGLE UNIT TRUCK, 2 AXLES, 6 TIRES    2450\n",
       "BUS                                    1910\n",
       "TRUCK/TRACTOR                           985\n",
       "TRUCK/TRAILER                           819\n",
       "UNKNOWN HEAVY TRUCK                     712\n",
       "SINGLE UNIT TRUCK, 3 OR MORE AXLES      538\n",
       "TRACTOR/DOUBLES                          32\n",
       "Name: VEHICLE_CONFIG, dtype: int64"
      ]
     },
     "execution_count": 1525,
     "metadata": {},
     "output_type": "execute_result"
    }
   ],
   "source": [
    "#check unique values\n",
    "vehicles_df['VEHICLE_CONFIG'].value_counts()"
   ]
  },
  {
   "cell_type": "markdown",
   "id": "4dbb77b1",
   "metadata": {
    "papermill": {
     "duration": 0.111798,
     "end_time": "2023-04-22T07:20:26.692789",
     "exception": false,
     "start_time": "2023-04-22T07:20:26.580991",
     "status": "completed"
    },
    "tags": []
   },
   "source": [
    "`CARGO_BODY_TYPE`: This is anothere type of vehicle description that would you useful iin understanding what kind of vocational vehicles are involved in crashes. Lets snvestigate the contents of this column."
   ]
  },
  {
   "cell_type": "code",
   "execution_count": 1526,
   "id": "cfa9d77e",
   "metadata": {
    "execution": {
     "iopub.execute_input": "2023-04-22T07:20:26.919153Z",
     "iopub.status.busy": "2023-04-22T07:20:26.918630Z",
     "iopub.status.idle": "2023-04-22T07:20:26.962035Z",
     "shell.execute_reply": "2023-04-22T07:20:26.960130Z"
    },
    "papermill": {
     "duration": 0.16121,
     "end_time": "2023-04-22T07:20:26.965202",
     "exception": false,
     "start_time": "2023-04-22T07:20:26.803992",
     "status": "completed"
    },
    "tags": []
   },
   "outputs": [
    {
     "data": {
      "text/plain": [
       "VAN/ENCLOSED BOX    5173\n",
       "OTHER               2643\n",
       "BUS                 1836\n",
       "FLATBED              907\n",
       "DUMP                 412\n",
       "GARBAGE/REFUSE       336\n",
       "TANK                 234\n",
       "CONCRETE MIXER       109\n",
       "AUTO TRANSPORTER     103\n",
       "Name: CARGO_BODY_TYPE, dtype: int64"
      ]
     },
     "execution_count": 1526,
     "metadata": {},
     "output_type": "execute_result"
    }
   ],
   "source": [
    "#check unique values\n",
    "vehicles_df['CARGO_BODY_TYPE'].value_counts()"
   ]
  },
  {
   "cell_type": "markdown",
   "id": "1b09543e",
   "metadata": {
    "papermill": {
     "duration": 0.115045,
     "end_time": "2023-04-22T07:20:27.193186",
     "exception": false,
     "start_time": "2023-04-22T07:20:27.078141",
     "status": "completed"
    },
    "tags": []
   },
   "source": [
    "`LOAD_TYE`: If cargo body type column is used, using Loaad Type will increase the level of graanularity. f our model isn't performing good enough, we can reconsider using more granular data. **DROP LOAD_TYPE COLUMN**"
   ]
  },
  {
   "cell_type": "code",
   "execution_count": 1527,
   "id": "102c50da",
   "metadata": {
    "execution": {
     "iopub.execute_input": "2023-04-22T07:20:27.429583Z",
     "iopub.status.busy": "2023-04-22T07:20:27.429148Z",
     "iopub.status.idle": "2023-04-22T07:20:27.471984Z",
     "shell.execute_reply": "2023-04-22T07:20:27.469666Z"
    },
    "papermill": {
     "duration": 0.163199,
     "end_time": "2023-04-22T07:20:27.475633",
     "exception": false,
     "start_time": "2023-04-22T07:20:27.312434",
     "status": "completed"
    },
    "tags": []
   },
   "outputs": [
    {
     "data": {
      "text/plain": [
       "OTHER                     6119\n",
       "UNKNOWN                   4453\n",
       "CONSTRUCTION EQUIPMENT     389\n",
       "BUILDING MATERIALS         213\n",
       "STEEL COILS                 47\n",
       "FARM EQUIPMENT              20\n",
       "Name: LOAD_TYPE, dtype: int64"
      ]
     },
     "execution_count": 1527,
     "metadata": {},
     "output_type": "execute_result"
    }
   ],
   "source": [
    "#check unique values\n",
    "vehicles_df['LOAD_TYPE'].value_counts()"
   ]
  },
  {
   "cell_type": "markdown",
   "id": "7059c613",
   "metadata": {},
   "source": [
    "The following columns are more relevaant to Hazmats."
   ]
  },
  {
   "cell_type": "markdown",
   "id": "af947ea1",
   "metadata": {
    "papermill": {
     "duration": 0.187103,
     "end_time": "2023-04-22T07:20:27.776601",
     "exception": false,
     "start_time": "2023-04-22T07:20:27.589498",
     "status": "completed"
    },
    "tags": []
   },
   "source": [
    "`HAZMAT_OUT_OF_SERVICE_I`, `MCS_OUT_OF_SERVICE_I`, `HAZMAT_CLASS` **DROP**"
   ]
  },
  {
   "cell_type": "markdown",
   "id": "acc366f0",
   "metadata": {
    "papermill": {
     "duration": 0.113202,
     "end_time": "2023-04-22T07:20:28.004541",
     "exception": false,
     "start_time": "2023-04-22T07:20:27.891339",
     "status": "completed"
    },
    "tags": []
   },
   "source": [
    "**SUMMARY**"
   ]
  },
  {
   "cell_type": "markdown",
   "id": "4d5389ea",
   "metadata": {
    "papermill": {
     "duration": 0.11093,
     "end_time": "2023-04-22T07:20:28.229826",
     "exception": false,
     "start_time": "2023-04-22T07:20:28.118896",
     "status": "completed"
    },
    "tags": []
   },
   "source": [
    "The following columns will be carried forward:\n",
    "\n",
    "    1. CRASH_RECORD_ID\n",
    "    2. VEHICLE_DEFECT\n",
    "    3. VEHICLE_TYPE\n",
    "    4. VEHICLE_USE\n",
    "    5. MANEUVER\n",
    "    6. OCCUPANT_CNT\n",
    "    7. FIRST_CONTACT_POINT\n",
    "    8. VEHICLE_CONFIG\n"
   ]
  },
  {
   "cell_type": "markdown",
   "id": "e0a90823",
   "metadata": {
    "papermill": {
     "duration": 0.149753,
     "end_time": "2023-04-22T07:20:28.500210",
     "exception": false,
     "start_time": "2023-04-22T07:20:28.350457",
     "status": "completed"
    },
    "tags": []
   },
   "source": [
    "### Traffic Crashes - People"
   ]
  },
  {
   "cell_type": "markdown",
   "id": "e53e88bd",
   "metadata": {
    "papermill": {
     "duration": 0.115731,
     "end_time": "2023-04-22T07:20:28.725267",
     "exception": false,
     "start_time": "2023-04-22T07:20:28.609536",
     "status": "completed"
    },
    "tags": []
   },
   "source": [
    "This data contains information about people involved in a crash and if any injuries were sustained. This dataset should be used in combination with the traffic Crash and Vehicle dataset. Each record corresponds to an occupant in a vehicle listed in the Crash dataset. Some people involved in a crash may not have been an occupant in a motor vehicle, but may have been a pedestrian, bicyclist, or using another non-motor vehicle mode of transportation. Injuries reported are reported by the responding police officer. Fatalities that occur after the initial reports are typically updated in these records up to 30 days after the date of the crash. Person data can be linked with the Crash and Vehicle dataset using the “CRASH_RECORD_ID” field. A vehicle can have multiple occupants and hence have a one to many relationship between Vehicle and Person dataset. However, a pedestrian is a “unit” by itself and have a one to one relationship between the Vehicle and Person table."
   ]
  },
  {
   "cell_type": "code",
   "execution_count": 1528,
   "id": "3d365261",
   "metadata": {
    "execution": {
     "iopub.execute_input": "2023-04-22T07:20:28.951320Z",
     "iopub.status.busy": "2023-04-22T07:20:28.950901Z",
     "iopub.status.idle": "2023-04-22T07:20:46.565986Z",
     "shell.execute_reply": "2023-04-22T07:20:46.563998Z"
    },
    "papermill": {
     "duration": 17.73221,
     "end_time": "2023-04-22T07:20:46.569212",
     "exception": false,
     "start_time": "2023-04-22T07:20:28.837002",
     "status": "completed"
    },
    "tags": []
   },
   "outputs": [
    {
     "name": "stderr",
     "output_type": "stream",
     "text": [
      "/var/folders/qv/0z2v23tn1f1b2fnpqqgqsxch0000gn/T/ipykernel_4590/1167116549.py:2: DtypeWarning: Columns (20,24,25,26,29) have mixed types. Specify dtype option on import or set low_memory=False.\n",
      "  people_df = pd.read_csv('data/Traffic_Crashes-People.csv')\n"
     ]
    },
    {
     "data": {
      "text/html": [
       "<div>\n",
       "<style scoped>\n",
       "    .dataframe tbody tr th:only-of-type {\n",
       "        vertical-align: middle;\n",
       "    }\n",
       "\n",
       "    .dataframe tbody tr th {\n",
       "        vertical-align: top;\n",
       "    }\n",
       "\n",
       "    .dataframe thead th {\n",
       "        text-align: right;\n",
       "    }\n",
       "</style>\n",
       "<table border=\"1\" class=\"dataframe\">\n",
       "  <thead>\n",
       "    <tr style=\"text-align: right;\">\n",
       "      <th></th>\n",
       "      <th>PERSON_ID</th>\n",
       "      <th>PERSON_TYPE</th>\n",
       "      <th>CRASH_RECORD_ID</th>\n",
       "      <th>RD_NO</th>\n",
       "      <th>VEHICLE_ID</th>\n",
       "      <th>CRASH_DATE</th>\n",
       "      <th>SEAT_NO</th>\n",
       "      <th>CITY</th>\n",
       "      <th>STATE</th>\n",
       "      <th>ZIPCODE</th>\n",
       "      <th>...</th>\n",
       "      <th>EMS_RUN_NO</th>\n",
       "      <th>DRIVER_ACTION</th>\n",
       "      <th>DRIVER_VISION</th>\n",
       "      <th>PHYSICAL_CONDITION</th>\n",
       "      <th>PEDPEDAL_ACTION</th>\n",
       "      <th>PEDPEDAL_VISIBILITY</th>\n",
       "      <th>PEDPEDAL_LOCATION</th>\n",
       "      <th>BAC_RESULT</th>\n",
       "      <th>BAC_RESULT VALUE</th>\n",
       "      <th>CELL_PHONE_USE</th>\n",
       "    </tr>\n",
       "  </thead>\n",
       "  <tbody>\n",
       "    <tr>\n",
       "      <th>0</th>\n",
       "      <td>O749947</td>\n",
       "      <td>DRIVER</td>\n",
       "      <td>81dc0de2ed92aa62baccab641fa377be7feb1cc47e6554...</td>\n",
       "      <td>JC451435</td>\n",
       "      <td>834816.0</td>\n",
       "      <td>09/28/2019 03:30:00 AM</td>\n",
       "      <td>NaN</td>\n",
       "      <td>CHICAGO</td>\n",
       "      <td>IL</td>\n",
       "      <td>60651</td>\n",
       "      <td>...</td>\n",
       "      <td>NaN</td>\n",
       "      <td>UNKNOWN</td>\n",
       "      <td>UNKNOWN</td>\n",
       "      <td>UNKNOWN</td>\n",
       "      <td>NaN</td>\n",
       "      <td>NaN</td>\n",
       "      <td>NaN</td>\n",
       "      <td>TEST NOT OFFERED</td>\n",
       "      <td>NaN</td>\n",
       "      <td>NaN</td>\n",
       "    </tr>\n",
       "    <tr>\n",
       "      <th>1</th>\n",
       "      <td>O871921</td>\n",
       "      <td>DRIVER</td>\n",
       "      <td>af84fb5c8d996fcd3aefd36593c3a02e6e7509eeb27568...</td>\n",
       "      <td>JD208731</td>\n",
       "      <td>827212.0</td>\n",
       "      <td>04/13/2020 10:50:00 PM</td>\n",
       "      <td>NaN</td>\n",
       "      <td>CHICAGO</td>\n",
       "      <td>IL</td>\n",
       "      <td>60620</td>\n",
       "      <td>...</td>\n",
       "      <td>NaN</td>\n",
       "      <td>NONE</td>\n",
       "      <td>NOT OBSCURED</td>\n",
       "      <td>NORMAL</td>\n",
       "      <td>NaN</td>\n",
       "      <td>NaN</td>\n",
       "      <td>NaN</td>\n",
       "      <td>TEST NOT OFFERED</td>\n",
       "      <td>NaN</td>\n",
       "      <td>NaN</td>\n",
       "    </tr>\n",
       "    <tr>\n",
       "      <th>2</th>\n",
       "      <td>O10018</td>\n",
       "      <td>DRIVER</td>\n",
       "      <td>71162af7bf22799b776547132ebf134b5b438dcf3dac6b...</td>\n",
       "      <td>HY484534</td>\n",
       "      <td>9579.0</td>\n",
       "      <td>11/01/2015 05:00:00 AM</td>\n",
       "      <td>NaN</td>\n",
       "      <td>NaN</td>\n",
       "      <td>NaN</td>\n",
       "      <td>NaN</td>\n",
       "      <td>...</td>\n",
       "      <td>NaN</td>\n",
       "      <td>IMPROPER BACKING</td>\n",
       "      <td>UNKNOWN</td>\n",
       "      <td>UNKNOWN</td>\n",
       "      <td>NaN</td>\n",
       "      <td>NaN</td>\n",
       "      <td>NaN</td>\n",
       "      <td>TEST NOT OFFERED</td>\n",
       "      <td>NaN</td>\n",
       "      <td>NaN</td>\n",
       "    </tr>\n",
       "    <tr>\n",
       "      <th>3</th>\n",
       "      <td>O10038</td>\n",
       "      <td>DRIVER</td>\n",
       "      <td>c21c476e2ccc41af550b5d858d22aaac4ffc88745a1700...</td>\n",
       "      <td>HY484750</td>\n",
       "      <td>9598.0</td>\n",
       "      <td>11/01/2015 08:00:00 AM</td>\n",
       "      <td>NaN</td>\n",
       "      <td>NaN</td>\n",
       "      <td>NaN</td>\n",
       "      <td>NaN</td>\n",
       "      <td>...</td>\n",
       "      <td>NaN</td>\n",
       "      <td>UNKNOWN</td>\n",
       "      <td>UNKNOWN</td>\n",
       "      <td>UNKNOWN</td>\n",
       "      <td>NaN</td>\n",
       "      <td>NaN</td>\n",
       "      <td>NaN</td>\n",
       "      <td>TEST NOT OFFERED</td>\n",
       "      <td>NaN</td>\n",
       "      <td>NaN</td>\n",
       "    </tr>\n",
       "    <tr>\n",
       "      <th>4</th>\n",
       "      <td>O10039</td>\n",
       "      <td>DRIVER</td>\n",
       "      <td>eb390a4c8e114c69488f5fb8a097fe629f5a92fd528cf4...</td>\n",
       "      <td>HY484778</td>\n",
       "      <td>9600.0</td>\n",
       "      <td>11/01/2015 10:15:00 AM</td>\n",
       "      <td>NaN</td>\n",
       "      <td>NaN</td>\n",
       "      <td>NaN</td>\n",
       "      <td>NaN</td>\n",
       "      <td>...</td>\n",
       "      <td>NaN</td>\n",
       "      <td>UNKNOWN</td>\n",
       "      <td>UNKNOWN</td>\n",
       "      <td>UNKNOWN</td>\n",
       "      <td>NaN</td>\n",
       "      <td>NaN</td>\n",
       "      <td>NaN</td>\n",
       "      <td>TEST NOT OFFERED</td>\n",
       "      <td>NaN</td>\n",
       "      <td>NaN</td>\n",
       "    </tr>\n",
       "  </tbody>\n",
       "</table>\n",
       "<p>5 rows × 30 columns</p>\n",
       "</div>"
      ],
      "text/plain": [
       "  PERSON_ID PERSON_TYPE                                    CRASH_RECORD_ID  \\\n",
       "0   O749947      DRIVER  81dc0de2ed92aa62baccab641fa377be7feb1cc47e6554...   \n",
       "1   O871921      DRIVER  af84fb5c8d996fcd3aefd36593c3a02e6e7509eeb27568...   \n",
       "2    O10018      DRIVER  71162af7bf22799b776547132ebf134b5b438dcf3dac6b...   \n",
       "3    O10038      DRIVER  c21c476e2ccc41af550b5d858d22aaac4ffc88745a1700...   \n",
       "4    O10039      DRIVER  eb390a4c8e114c69488f5fb8a097fe629f5a92fd528cf4...   \n",
       "\n",
       "      RD_NO  VEHICLE_ID              CRASH_DATE  SEAT_NO     CITY STATE  \\\n",
       "0  JC451435    834816.0  09/28/2019 03:30:00 AM      NaN  CHICAGO    IL   \n",
       "1  JD208731    827212.0  04/13/2020 10:50:00 PM      NaN  CHICAGO    IL   \n",
       "2  HY484534      9579.0  11/01/2015 05:00:00 AM      NaN      NaN   NaN   \n",
       "3  HY484750      9598.0  11/01/2015 08:00:00 AM      NaN      NaN   NaN   \n",
       "4  HY484778      9600.0  11/01/2015 10:15:00 AM      NaN      NaN   NaN   \n",
       "\n",
       "  ZIPCODE  ... EMS_RUN_NO     DRIVER_ACTION DRIVER_VISION PHYSICAL_CONDITION  \\\n",
       "0   60651  ...        NaN           UNKNOWN       UNKNOWN            UNKNOWN   \n",
       "1   60620  ...        NaN              NONE  NOT OBSCURED             NORMAL   \n",
       "2     NaN  ...        NaN  IMPROPER BACKING       UNKNOWN            UNKNOWN   \n",
       "3     NaN  ...        NaN           UNKNOWN       UNKNOWN            UNKNOWN   \n",
       "4     NaN  ...        NaN           UNKNOWN       UNKNOWN            UNKNOWN   \n",
       "\n",
       "  PEDPEDAL_ACTION PEDPEDAL_VISIBILITY PEDPEDAL_LOCATION        BAC_RESULT  \\\n",
       "0             NaN                 NaN               NaN  TEST NOT OFFERED   \n",
       "1             NaN                 NaN               NaN  TEST NOT OFFERED   \n",
       "2             NaN                 NaN               NaN  TEST NOT OFFERED   \n",
       "3             NaN                 NaN               NaN  TEST NOT OFFERED   \n",
       "4             NaN                 NaN               NaN  TEST NOT OFFERED   \n",
       "\n",
       "  BAC_RESULT VALUE CELL_PHONE_USE  \n",
       "0              NaN            NaN  \n",
       "1              NaN            NaN  \n",
       "2              NaN            NaN  \n",
       "3              NaN            NaN  \n",
       "4              NaN            NaN  \n",
       "\n",
       "[5 rows x 30 columns]"
      ]
     },
     "execution_count": 1528,
     "metadata": {},
     "output_type": "execute_result"
    }
   ],
   "source": [
    "#import the dataset using the API endpoint\n",
    "people_df = pd.read_csv('data/Traffic_Crashes-People.csv')\n",
    "\n",
    "#preview thee first 5 rows\n",
    "people_df.head()"
   ]
  },
  {
   "cell_type": "code",
   "execution_count": 1529,
   "id": "36d5487d",
   "metadata": {
    "execution": {
     "iopub.execute_input": "2023-04-22T07:20:46.807349Z",
     "iopub.status.busy": "2023-04-22T07:20:46.806786Z",
     "iopub.status.idle": "2023-04-22T07:20:48.606552Z",
     "shell.execute_reply": "2023-04-22T07:20:48.605370Z"
    },
    "papermill": {
     "duration": 1.923568,
     "end_time": "2023-04-22T07:20:48.610652",
     "exception": false,
     "start_time": "2023-04-22T07:20:46.687084",
     "status": "completed"
    },
    "tags": []
   },
   "outputs": [
    {
     "name": "stdout",
     "output_type": "stream",
     "text": [
      "<class 'pandas.core.frame.DataFrame'>\n",
      "RangeIndex: 1530385 entries, 0 to 1530384\n",
      "Data columns (total 30 columns):\n",
      " #   Column                 Non-Null Count    Dtype  \n",
      "---  ------                 --------------    -----  \n",
      " 0   PERSON_ID              1530385 non-null  object \n",
      " 1   PERSON_TYPE            1530385 non-null  object \n",
      " 2   CRASH_RECORD_ID        1530385 non-null  object \n",
      " 3   RD_NO                  1521511 non-null  object \n",
      " 4   VEHICLE_ID             1500311 non-null  float64\n",
      " 5   CRASH_DATE             1530385 non-null  object \n",
      " 6   SEAT_NO                309565 non-null   float64\n",
      " 7   CITY                   1117449 non-null  object \n",
      " 8   STATE                  1132411 non-null  object \n",
      " 9   ZIPCODE                1021601 non-null  object \n",
      " 10  SEX                    1506380 non-null  object \n",
      " 11  AGE                    1085359 non-null  float64\n",
      " 12  DRIVERS_LICENSE_STATE  899668 non-null   object \n",
      " 13  DRIVERS_LICENSE_CLASS  760585 non-null   object \n",
      " 14  SAFETY_EQUIPMENT       1526028 non-null  object \n",
      " 15  AIRBAG_DEPLOYED        1501485 non-null  object \n",
      " 16  EJECTION               1511675 non-null  object \n",
      " 17  INJURY_CLASSIFICATION  1529714 non-null  object \n",
      " 18  HOSPITAL               263368 non-null   object \n",
      " 19  EMS_AGENCY             163631 non-null   object \n",
      " 20  EMS_RUN_NO             26932 non-null    object \n",
      " 21  DRIVER_ACTION          1218047 non-null  object \n",
      " 22  DRIVER_VISION          1217601 non-null  object \n",
      " 23  PHYSICAL_CONDITION     1218903 non-null  object \n",
      " 24  PEDPEDAL_ACTION        28502 non-null    object \n",
      " 25  PEDPEDAL_VISIBILITY    28446 non-null    object \n",
      " 26  PEDPEDAL_LOCATION      28499 non-null    object \n",
      " 27  BAC_RESULT             1219061 non-null  object \n",
      " 28  BAC_RESULT VALUE       1824 non-null     float64\n",
      " 29  CELL_PHONE_USE         1158 non-null     object \n",
      "dtypes: float64(4), object(26)\n",
      "memory usage: 350.3+ MB\n"
     ]
    }
   ],
   "source": [
    "people_df.info()"
   ]
  },
  {
   "cell_type": "markdown",
   "id": "b0c8d5d2",
   "metadata": {
    "papermill": {
     "duration": 0.115095,
     "end_time": "2023-04-22T07:20:48.842883",
     "exception": false,
     "start_time": "2023-04-22T07:20:48.727788",
     "status": "completed"
    },
    "tags": []
   },
   "source": [
    "`PERSON_ID`: A unique identifier for each person record. IDs starting with P indicate passengers. IDs starting with O indicate a person who was not a passenger in the vehicle (e.g., driver, pedestrian, cyclist, etc.). Considering that the Person Type column gives us more detailed information, there won't be a need to keep this column.**DROP**"
   ]
  },
  {
   "cell_type": "markdown",
   "id": "8c82ff08",
   "metadata": {
    "papermill": {
     "duration": 0.109991,
     "end_time": "2023-04-22T07:20:49.068166",
     "exception": false,
     "start_time": "2023-04-22T07:20:48.958175",
     "status": "completed"
    },
    "tags": []
   },
   "source": [
    "`PERSON_TYPE`: Type of roadway user involved in crash"
   ]
  },
  {
   "cell_type": "code",
   "execution_count": 1530,
   "id": "ca6376ef",
   "metadata": {
    "execution": {
     "iopub.execute_input": "2023-04-22T07:20:49.301981Z",
     "iopub.status.busy": "2023-04-22T07:20:49.301386Z",
     "iopub.status.idle": "2023-04-22T07:20:49.408927Z",
     "shell.execute_reply": "2023-04-22T07:20:49.407128Z"
    },
    "papermill": {
     "duration": 0.230167,
     "end_time": "2023-04-22T07:20:49.412151",
     "exception": false,
     "start_time": "2023-04-22T07:20:49.181984",
     "status": "completed"
    },
    "tags": []
   },
   "outputs": [
    {
     "data": {
      "text/plain": [
       "DRIVER                 1191234\n",
       "PASSENGER               309565\n",
       "PEDESTRIAN               17588\n",
       "BICYCLE                  10478\n",
       "NON-MOTOR VEHICLE         1253\n",
       "NON-CONTACT VEHICLE        267\n",
       "Name: PERSON_TYPE, dtype: int64"
      ]
     },
     "execution_count": 1530,
     "metadata": {},
     "output_type": "execute_result"
    }
   ],
   "source": [
    "#check unique values\n",
    "people_df['PERSON_TYPE'].value_counts()"
   ]
  },
  {
   "cell_type": "markdown",
   "id": "e0718af4",
   "metadata": {
    "papermill": {
     "duration": 0.116008,
     "end_time": "2023-04-22T07:20:49.642121",
     "exception": false,
     "start_time": "2023-04-22T07:20:49.526113",
     "status": "completed"
    },
    "tags": []
   },
   "source": [
    "`CRASH_RECORD_ID`: This number can be used to link to the same crash in the Crashes and Vehicles datasets. This number also serves as a unique ID in the Crashes dataset. Hence, this will be important to keep for joining and comparing the datasets."
   ]
  },
  {
   "cell_type": "markdown",
   "id": "2c57dcd9",
   "metadata": {
    "papermill": {
     "duration": 0.11477,
     "end_time": "2023-04-22T07:20:49.874204",
     "exception": false,
     "start_time": "2023-04-22T07:20:49.759434",
     "status": "completed"
    },
    "tags": []
   },
   "source": [
    "`RD_NO`: Chicago Police Department report number. For privacy reasons, this column is blank for recent crashes. This is a column for record-keeping purposed. **DROP**"
   ]
  },
  {
   "cell_type": "markdown",
   "id": "df76ea91",
   "metadata": {
    "papermill": {
     "duration": 0.112467,
     "end_time": "2023-04-22T07:20:50.102867",
     "exception": false,
     "start_time": "2023-04-22T07:20:49.990400",
     "status": "completed"
    },
    "tags": []
   },
   "source": [
    "`VEHICLE_ID`: The corresponding CRASH_UNIT_ID from the Vehicles dataset. We will keep this incase we need t ogroup or reference any datsets."
   ]
  },
  {
   "cell_type": "markdown",
   "id": "e915cb41",
   "metadata": {
    "papermill": {
     "duration": 0.241525,
     "end_time": "2023-04-22T07:20:50.458524",
     "exception": false,
     "start_time": "2023-04-22T07:20:50.216999",
     "status": "completed"
    },
    "tags": []
   },
   "source": [
    "`CRASH_DATE`: Date and time of crash as entered by the reporting officer. **DROP**"
   ]
  },
  {
   "cell_type": "markdown",
   "id": "f1521525",
   "metadata": {
    "papermill": {
     "duration": 0.118609,
     "end_time": "2023-04-22T07:20:50.691720",
     "exception": false,
     "start_time": "2023-04-22T07:20:50.573111",
     "status": "completed"
    },
    "tags": []
   },
   "source": [
    "`SEAT_NO`: Code for seating position of motor vehicle occupant: 1= driver, 2= center front, 3 = front passenger, 4 = second row left, 5 = second row center, 6 = second row right, 7 = enclosed passengers, 8 = exposed passengers, 9= unknown position, 10 = third row left, 11 = third row center, 12 = third row right."
   ]
  },
  {
   "cell_type": "code",
   "execution_count": 1531,
   "id": "34151548",
   "metadata": {
    "execution": {
     "iopub.execute_input": "2023-04-22T07:20:50.925664Z",
     "iopub.status.busy": "2023-04-22T07:20:50.924705Z",
     "iopub.status.idle": "2023-04-22T07:20:50.943819Z",
     "shell.execute_reply": "2023-04-22T07:20:50.942131Z"
    },
    "papermill": {
     "duration": 0.137504,
     "end_time": "2023-04-22T07:20:50.946716",
     "exception": false,
     "start_time": "2023-04-22T07:20:50.809212",
     "status": "completed"
    },
    "tags": []
   },
   "outputs": [
    {
     "data": {
      "text/plain": [
       "3.0     150042\n",
       "6.0      52277\n",
       "4.0      41331\n",
       "5.0      14578\n",
       "1.0      13563\n",
       "2.0      12780\n",
       "12.0      7996\n",
       "7.0       7163\n",
       "10.0      6805\n",
       "11.0      2678\n",
       "8.0        352\n",
       "Name: SEAT_NO, dtype: int64"
      ]
     },
     "execution_count": 1531,
     "metadata": {},
     "output_type": "execute_result"
    }
   ],
   "source": [
    "#check unique values\n",
    "people_df['SEAT_NO'].value_counts()"
   ]
  },
  {
   "cell_type": "markdown",
   "id": "08778fa3",
   "metadata": {
    "papermill": {
     "duration": 0.117617,
     "end_time": "2023-04-22T07:20:51.178015",
     "exception": false,
     "start_time": "2023-04-22T07:20:51.060398",
     "status": "completed"
    },
    "tags": []
   },
   "source": [
    "There are missing values in thi column which can be subsituted with code *9* which is for the unkown position.\n",
    "\n",
    "The values also have to be converted to categories for data analysis later. Nonetheless, this doesn't help us identify the cause of thee crash in any way. It can be insightful for further granular operations to understand why certain people were injured or harmed more than others. It will **DROPPED**"
   ]
  },
  {
   "cell_type": "markdown",
   "id": "53548ed0",
   "metadata": {
    "papermill": {
     "duration": 0.117861,
     "end_time": "2023-04-22T07:20:51.415185",
     "exception": false,
     "start_time": "2023-04-22T07:20:51.297324",
     "status": "completed"
    },
    "tags": []
   },
   "source": [
    "`CITY`, `STATE`, `ZIPCODE`, `DRIVERS_LICENSE_STATE`, `DRIVERS_LICENSE_CLASS` are people specific information to aaa vehicle that won't help out **DROPPED**"
   ]
  },
  {
   "cell_type": "markdown",
   "id": "000caaaf",
   "metadata": {
    "papermill": {
     "duration": 0.117133,
     "end_time": "2023-04-22T07:20:51.646248",
     "exception": false,
     "start_time": "2023-04-22T07:20:51.529115",
     "status": "completed"
    },
    "tags": []
   },
   "source": [
    "`AGE` can be an imprtant factor to look at and might be linked to the cause of crashes. It can provide insights into if certain age groups are more involved in crashes. If this feature does turn out to be one of the top 10 features, then it can provide the DOT on how to focus it's training or awareness campaigns to fight Vision Zero program."
   ]
  },
  {
   "cell_type": "markdown",
   "id": "27e6f7d4",
   "metadata": {
    "papermill": {
     "duration": 0.119244,
     "end_time": "2023-04-22T07:20:51.881076",
     "exception": false,
     "start_time": "2023-04-22T07:20:51.761832",
     "status": "completed"
    },
    "tags": []
   },
   "source": [
    "`SAFETY_EQUIPMENT`: Safety equipment used by vehicle occupant in crash, if any. Very important information that can have a high correlation to injuries or faatalities."
   ]
  },
  {
   "cell_type": "code",
   "execution_count": 1532,
   "id": "d2b58d72",
   "metadata": {
    "execution": {
     "iopub.execute_input": "2023-04-22T07:20:52.110598Z",
     "iopub.status.busy": "2023-04-22T07:20:52.109283Z",
     "iopub.status.idle": "2023-04-22T07:20:52.223261Z",
     "shell.execute_reply": "2023-04-22T07:20:52.221354Z"
    },
    "papermill": {
     "duration": 0.232942,
     "end_time": "2023-04-22T07:20:52.226336",
     "exception": false,
     "start_time": "2023-04-22T07:20:51.993394",
     "status": "completed"
    },
    "tags": []
   },
   "outputs": [
    {
     "data": {
      "text/plain": [
       "SAFETY BELT USED                              741510\n",
       "USAGE UNKNOWN                                 699868\n",
       "NONE PRESENT                                   47896\n",
       "SAFETY BELT NOT USED                            8625\n",
       "CHILD RESTRAINT USED                            7821\n",
       "HELMET NOT USED                                 6525\n",
       "CHILD RESTRAINT - FORWARD FACING                3409\n",
       "BICYCLE HELMET (PEDACYCLIST INVOLVED ONLY)      2457\n",
       "CHILD RESTRAINT - TYPE UNKNOWN                  1718\n",
       "CHILD RESTRAINT - REAR FACING                   1610\n",
       "HELMET USED                                     1358\n",
       "DOT COMPLIANT MOTORCYCLE HELMET                  974\n",
       "BOOSTER SEAT                                     913\n",
       "CHILD RESTRAINT NOT USED                         668\n",
       "SHOULD/LAP BELT USED IMPROPERLY                  190\n",
       "NOT DOT COMPLIANT MOTORCYCLE HELMET              186\n",
       "WHEELCHAIR                                       163\n",
       "CHILD RESTRAINT USED IMPROPERLY                  107\n",
       "STRETCHER                                         30\n",
       "Name: SAFETY_EQUIPMENT, dtype: int64"
      ]
     },
     "execution_count": 1532,
     "metadata": {},
     "output_type": "execute_result"
    }
   ],
   "source": [
    "#check unique values\n",
    "people_df['SAFETY_EQUIPMENT'].value_counts()"
   ]
  },
  {
   "cell_type": "markdown",
   "id": "662161ea",
   "metadata": {
    "papermill": {
     "duration": 0.115864,
     "end_time": "2023-04-22T07:20:52.685341",
     "exception": false,
     "start_time": "2023-04-22T07:20:52.569477",
     "status": "completed"
    },
    "tags": []
   },
   "source": [
    "`AIRBAG_DEPLOYED`: Whether vehicle occupant airbag deployed as result of crash. This doesn't play a paart in causing the crash **DROP**"
   ]
  },
  {
   "cell_type": "markdown",
   "id": "901adf48",
   "metadata": {
    "papermill": {
     "duration": 0.114526,
     "end_time": "2023-04-22T07:20:52.916509",
     "exception": false,
     "start_time": "2023-04-22T07:20:52.801983",
     "status": "completed"
    },
    "tags": []
   },
   "source": [
    "`EJECTION`: Whether vehicle occupant was ejected or extricated from the vehicle as a result of crash **DROP**"
   ]
  },
  {
   "cell_type": "markdown",
   "id": "a34ab323",
   "metadata": {
    "papermill": {
     "duration": 0.117483,
     "end_time": "2023-04-22T07:20:53.153203",
     "exception": false,
     "start_time": "2023-04-22T07:20:53.035720",
     "status": "completed"
    },
    "tags": []
   },
   "source": [
    "`INJURY_CLASSIFICATION`: Severity of injury person sustained in the crash. This information can be used to understand which columns to keep since Vision Zero focuses on reducing injuries and fatalities."
   ]
  },
  {
   "cell_type": "code",
   "execution_count": 1533,
   "id": "15dde998",
   "metadata": {
    "execution": {
     "iopub.execute_input": "2023-04-22T07:20:53.395317Z",
     "iopub.status.busy": "2023-04-22T07:20:53.394361Z",
     "iopub.status.idle": "2023-04-22T07:20:53.504641Z",
     "shell.execute_reply": "2023-04-22T07:20:53.503003Z"
    },
    "papermill": {
     "duration": 0.233343,
     "end_time": "2023-04-22T07:20:53.507636",
     "exception": false,
     "start_time": "2023-04-22T07:20:53.274293",
     "status": "completed"
    },
    "tags": []
   },
   "outputs": [
    {
     "data": {
      "text/plain": [
       "NO INDICATION OF INJURY     1399940\n",
       "NONINCAPACITATING INJURY      73185\n",
       "REPORTED, NOT EVIDENT         41738\n",
       "INCAPACITATING INJURY         14003\n",
       "FATAL                           848\n",
       "Name: INJURY_CLASSIFICATION, dtype: int64"
      ]
     },
     "execution_count": 1533,
     "metadata": {},
     "output_type": "execute_result"
    }
   ],
   "source": [
    "#check unique values\n",
    "people_df['INJURY_CLASSIFICATION'].value_counts()"
   ]
  },
  {
   "cell_type": "markdown",
   "id": "26d31f4a",
   "metadata": {
    "papermill": {
     "duration": 0.189578,
     "end_time": "2023-04-22T07:20:53.810839",
     "exception": false,
     "start_time": "2023-04-22T07:20:53.621261",
     "status": "completed"
    },
    "tags": []
   },
   "source": [
    "`HOSPITAL`, `EMS_AGENCY`, `EMS_RUN_NO` are specific recrd keeping columns that won't be useful**DROP**"
   ]
  },
  {
   "cell_type": "markdown",
   "id": "49cc9fc2",
   "metadata": {
    "papermill": {
     "duration": 0.116472,
     "end_time": "2023-04-22T07:20:54.038670",
     "exception": false,
     "start_time": "2023-04-22T07:20:53.922198",
     "status": "completed"
    },
    "tags": []
   },
   "source": [
    "`DRIVER_ACTION`: Driver action that contributed to the crash, as determined by reporting officer. This will be important in identifying the cause of the crashes."
   ]
  },
  {
   "cell_type": "code",
   "execution_count": 1534,
   "id": "43a8fa13",
   "metadata": {
    "execution": {
     "iopub.execute_input": "2023-04-22T07:20:54.272809Z",
     "iopub.status.busy": "2023-04-22T07:20:54.271873Z",
     "iopub.status.idle": "2023-04-22T07:20:54.371094Z",
     "shell.execute_reply": "2023-04-22T07:20:54.369394Z"
    },
    "papermill": {
     "duration": 0.219038,
     "end_time": "2023-04-22T07:20:54.374287",
     "exception": false,
     "start_time": "2023-04-22T07:20:54.155249",
     "status": "completed"
    },
    "tags": []
   },
   "outputs": [
    {
     "data": {
      "text/plain": [
       "NONE                                 438974\n",
       "UNKNOWN                              301595\n",
       "FAILED TO YIELD                      110980\n",
       "OTHER                                107701\n",
       "FOLLOWED TOO CLOSELY                  74349\n",
       "IMPROPER BACKING                      37076\n",
       "IMPROPER TURN                         31917\n",
       "IMPROPER LANE CHANGE                  31451\n",
       "IMPROPER PASSING                      27025\n",
       "DISREGARDED CONTROL DEVICES           21109\n",
       "TOO FAST FOR CONDITIONS               18947\n",
       "WRONG WAY/SIDE                         4794\n",
       "IMPROPER PARKING                       4556\n",
       "OVERCORRECTED                          1955\n",
       "EVADING POLICE VEHICLE                 1940\n",
       "CELL PHONE USE OTHER THAN TEXTING      1867\n",
       "EMERGENCY VEHICLE ON CALL              1110\n",
       "TEXTING                                 504\n",
       "STOPPED SCHOOL BUS                      145\n",
       "LICENSE RESTRICTIONS                     52\n",
       "Name: DRIVER_ACTION, dtype: int64"
      ]
     },
     "execution_count": 1534,
     "metadata": {},
     "output_type": "execute_result"
    }
   ],
   "source": [
    "#check unique values\n",
    "people_df['DRIVER_ACTION'].value_counts()"
   ]
  },
  {
   "cell_type": "markdown",
   "id": "e4676376",
   "metadata": {
    "papermill": {
     "duration": 0.113096,
     "end_time": "2023-04-22T07:20:54.604019",
     "exception": false,
     "start_time": "2023-04-22T07:20:54.490923",
     "status": "completed"
    },
    "tags": []
   },
   "source": [
    "`DRIVER_VISION`: What, if any, objects obscured the driver’s vision at time of crash. This will be another importnt piece of information in identifying car crashes."
   ]
  },
  {
   "cell_type": "code",
   "execution_count": 1535,
   "id": "a23dd44c",
   "metadata": {
    "execution": {
     "iopub.execute_input": "2023-04-22T07:20:54.836215Z",
     "iopub.status.busy": "2023-04-22T07:20:54.835712Z",
     "iopub.status.idle": "2023-04-22T07:20:54.937016Z",
     "shell.execute_reply": "2023-04-22T07:20:54.935870Z"
    },
    "papermill": {
     "duration": 0.221309,
     "end_time": "2023-04-22T07:20:54.940168",
     "exception": false,
     "start_time": "2023-04-22T07:20:54.718859",
     "status": "completed"
    },
    "tags": []
   },
   "outputs": [
    {
     "data": {
      "text/plain": [
       "NOT OBSCURED              632631\n",
       "UNKNOWN                   554663\n",
       "OTHER                      12394\n",
       "MOVING VEHICLES             7183\n",
       "PARKED VEHICLES             4415\n",
       "WINDSHIELD (WATER/ICE)      3476\n",
       "BLINDED - SUNLIGHT          1451\n",
       "TREES, PLANTS                535\n",
       "BUILDINGS                    442\n",
       "BLINDED - HEADLIGHTS         120\n",
       "HILLCREST                     93\n",
       "BLOWING MATERIALS             88\n",
       "EMBANKMENT                    77\n",
       "SIGNBOARD                     33\n",
       "Name: DRIVER_VISION, dtype: int64"
      ]
     },
     "execution_count": 1535,
     "metadata": {},
     "output_type": "execute_result"
    }
   ],
   "source": [
    "#check unique values\n",
    "people_df['DRIVER_VISION'].value_counts()"
   ]
  },
  {
   "cell_type": "markdown",
   "id": "9ecb0603",
   "metadata": {
    "papermill": {
     "duration": 0.115997,
     "end_time": "2023-04-22T07:20:55.171664",
     "exception": false,
     "start_time": "2023-04-22T07:20:55.055667",
     "status": "completed"
    },
    "tags": []
   },
   "source": [
    "`PHYSICAL_CONDITION`: Driver’s apparent physical condition at time of crash, as observed by the reporting officer"
   ]
  },
  {
   "cell_type": "code",
   "execution_count": 1536,
   "id": "a9cb9907",
   "metadata": {
    "execution": {
     "iopub.execute_input": "2023-04-22T07:20:55.410970Z",
     "iopub.status.busy": "2023-04-22T07:20:55.410057Z",
     "iopub.status.idle": "2023-04-22T07:20:55.503539Z",
     "shell.execute_reply": "2023-04-22T07:20:55.501865Z"
    },
    "papermill": {
     "duration": 0.220045,
     "end_time": "2023-04-22T07:20:55.506701",
     "exception": false,
     "start_time": "2023-04-22T07:20:55.286656",
     "status": "completed"
    },
    "tags": []
   },
   "outputs": [
    {
     "data": {
      "text/plain": [
       "NORMAL                          801930\n",
       "UNKNOWN                         394225\n",
       "IMPAIRED - ALCOHOL                5489\n",
       "REMOVED BY EMS                    4515\n",
       "OTHER                             3579\n",
       "FATIGUED/ASLEEP                   3260\n",
       "EMOTIONAL                         2710\n",
       "ILLNESS/FAINTED                   1138\n",
       "HAD BEEN DRINKING                  929\n",
       "IMPAIRED - DRUGS                   644\n",
       "IMPAIRED - ALCOHOL AND DRUGS       331\n",
       "MEDICATED                          153\n",
       "Name: PHYSICAL_CONDITION, dtype: int64"
      ]
     },
     "execution_count": 1536,
     "metadata": {},
     "output_type": "execute_result"
    }
   ],
   "source": [
    "#check unique values\n",
    "people_df['PHYSICAL_CONDITION'].value_counts()"
   ]
  },
  {
   "cell_type": "markdown",
   "id": "3e61e856",
   "metadata": {
    "papermill": {
     "duration": 0.114535,
     "end_time": "2023-04-22T07:20:55.733950",
     "exception": false,
     "start_time": "2023-04-22T07:20:55.619415",
     "status": "completed"
    },
    "tags": []
   },
   "source": [
    "This column provides valuable information on whether the driver was in a state to drive or not. Add missing values to unknown categories. Bin different categories together."
   ]
  },
  {
   "cell_type": "markdown",
   "id": "db9a547d",
   "metadata": {
    "papermill": {
     "duration": 0.110491,
     "end_time": "2023-04-22T07:20:55.959358",
     "exception": false,
     "start_time": "2023-04-22T07:20:55.848867",
     "status": "completed"
    },
    "tags": []
   },
   "source": [
    "`PEDPEDAL_ACTION`: Action of pedestrian or cyclist at the time of crash"
   ]
  },
  {
   "cell_type": "code",
   "execution_count": 1537,
   "id": "fc969615",
   "metadata": {
    "execution": {
     "iopub.execute_input": "2023-04-22T07:20:56.188437Z",
     "iopub.status.busy": "2023-04-22T07:20:56.187164Z",
     "iopub.status.idle": "2023-04-22T07:20:56.233115Z",
     "shell.execute_reply": "2023-04-22T07:20:56.231477Z"
    },
    "papermill": {
     "duration": 0.16478,
     "end_time": "2023-04-22T07:20:56.236224",
     "exception": false,
     "start_time": "2023-04-22T07:20:56.071444",
     "status": "completed"
    },
    "tags": []
   },
   "outputs": [
    {
     "data": {
      "text/plain": [
       "CROSSING - WITH SIGNAL                               5861\n",
       "WITH TRAFFIC                                         4420\n",
       "UNKNOWN/NA                                           3698\n",
       "OTHER ACTION                                         3456\n",
       "CROSSING - NO CONTROLS (NOT AT INTERSECTION)         1682\n",
       "NO ACTION                                            1508\n",
       "CROSSING - NO CONTROLS (AT INTERSECTION)             1422\n",
       "CROSSING - AGAINST SIGNAL                            1361\n",
       "NOT AT INTERSECTION                                  1005\n",
       "AGAINST TRAFFIC                                       874\n",
       "CROSSING - CONTROLS PRESENT (NOT AT INTERSECTION)     826\n",
       "STANDING IN ROADWAY                                   674\n",
       "TURNING LEFT                                          390\n",
       "PARKED VEHICLE                                        326\n",
       "ENTER FROM DRIVE/ALLEY                                275\n",
       "WORKING IN ROADWAY                                    196\n",
       "TURNING RIGHT                                         177\n",
       "INTOXICATED PED/PEDAL                                 176\n",
       "PLAYING IN ROADWAY                                    109\n",
       "PLAYING/WORKING ON VEHICLE                             21\n",
       "TO/FROM DISABLED VEHICLE                               20\n",
       "SCHOOL BUS (WITHIN 50 FT.)                             15\n",
       "WAITING FOR SCHOOL BUS                                 10\n",
       "Name: PEDPEDAL_ACTION, dtype: int64"
      ]
     },
     "execution_count": 1537,
     "metadata": {},
     "output_type": "execute_result"
    }
   ],
   "source": [
    "#check unique values\n",
    "people_df['PEDPEDAL_ACTION'].value_counts()"
   ]
  },
  {
   "cell_type": "markdown",
   "id": "89560d6b",
   "metadata": {
    "papermill": {
     "duration": 0.111063,
     "end_time": "2023-04-22T07:20:56.463060",
     "exception": false,
     "start_time": "2023-04-22T07:20:56.351997",
     "status": "completed"
    },
    "tags": []
   },
   "source": [
    "Group together multiple categories"
   ]
  },
  {
   "cell_type": "markdown",
   "id": "a37539ba",
   "metadata": {
    "papermill": {
     "duration": 0.110121,
     "end_time": "2023-04-22T07:20:56.685174",
     "exception": false,
     "start_time": "2023-04-22T07:20:56.575053",
     "status": "completed"
    },
    "tags": []
   },
   "source": [
    "`PEDPEDAL_VISIBILITY`: Visibility of pedestrian of cyclist safety equipment in use at time of crash"
   ]
  },
  {
   "cell_type": "code",
   "execution_count": 1538,
   "id": "c99d8379",
   "metadata": {
    "execution": {
     "iopub.execute_input": "2023-04-22T07:20:56.928004Z",
     "iopub.status.busy": "2023-04-22T07:20:56.927114Z",
     "iopub.status.idle": "2023-04-22T07:20:56.971891Z",
     "shell.execute_reply": "2023-04-22T07:20:56.970153Z"
    },
    "papermill": {
     "duration": 0.172655,
     "end_time": "2023-04-22T07:20:56.975226",
     "exception": false,
     "start_time": "2023-04-22T07:20:56.802571",
     "status": "completed"
    },
    "tags": []
   },
   "outputs": [
    {
     "data": {
      "text/plain": [
       "NO CONTRASTING CLOTHING    22345\n",
       "CONTRASTING CLOTHING        3753\n",
       "OTHER LIGHT SOURCE USED     1635\n",
       "REFLECTIVE MATERIAL          713\n",
       "Name: PEDPEDAL_VISIBILITY, dtype: int64"
      ]
     },
     "execution_count": 1538,
     "metadata": {},
     "output_type": "execute_result"
    }
   ],
   "source": [
    "#check unique values\n",
    "people_df['PEDPEDAL_VISIBILITY'].value_counts()"
   ]
  },
  {
   "cell_type": "markdown",
   "id": "8a0f9375",
   "metadata": {
    "papermill": {
     "duration": 0.192352,
     "end_time": "2023-04-22T07:20:57.282011",
     "exception": false,
     "start_time": "2023-04-22T07:20:57.089659",
     "status": "completed"
    },
    "tags": []
   },
   "source": [
    "`PEDPEDAL_LOCATION`: Location of pedestrian or cyclist at the time of crash"
   ]
  },
  {
   "cell_type": "code",
   "execution_count": 1539,
   "id": "5829ec46",
   "metadata": {
    "execution": {
     "iopub.execute_input": "2023-04-22T07:20:57.514337Z",
     "iopub.status.busy": "2023-04-22T07:20:57.513880Z",
     "iopub.status.idle": "2023-04-22T07:20:57.559946Z",
     "shell.execute_reply": "2023-04-22T07:20:57.558079Z"
    },
    "papermill": {
     "duration": 0.16534,
     "end_time": "2023-04-22T07:20:57.563390",
     "exception": false,
     "start_time": "2023-04-22T07:20:57.398050",
     "status": "completed"
    },
    "tags": []
   },
   "outputs": [
    {
     "data": {
      "text/plain": [
       "IN ROADWAY         12781\n",
       "IN CROSSWALK        9487\n",
       "UNKNOWN/NA          2375\n",
       "NOT IN ROADWAY      1273\n",
       "BIKEWAY             1227\n",
       "BIKE LANE            794\n",
       "DRIVEWAY ACCESS      416\n",
       "SHOULDER             146\n",
       "Name: PEDPEDAL_LOCATION, dtype: int64"
      ]
     },
     "execution_count": 1539,
     "metadata": {},
     "output_type": "execute_result"
    }
   ],
   "source": [
    "#check unique values\n",
    "people_df['PEDPEDAL_LOCATION'].value_counts()"
   ]
  },
  {
   "cell_type": "markdown",
   "id": "26b3f8db",
   "metadata": {
    "papermill": {
     "duration": 0.116281,
     "end_time": "2023-04-22T07:20:57.791487",
     "exception": false,
     "start_time": "2023-04-22T07:20:57.675206",
     "status": "completed"
    },
    "tags": []
   },
   "source": [
    "`BAC_RESULT`: Status of blood alcohol concentration testing for driver or other person involved in crash"
   ]
  },
  {
   "cell_type": "code",
   "execution_count": 1540,
   "id": "01cd447c",
   "metadata": {
    "execution": {
     "iopub.execute_input": "2023-04-22T07:20:58.024269Z",
     "iopub.status.busy": "2023-04-22T07:20:58.023839Z",
     "iopub.status.idle": "2023-04-22T07:20:58.120042Z",
     "shell.execute_reply": "2023-04-22T07:20:58.118377Z"
    },
    "papermill": {
     "duration": 0.215562,
     "end_time": "2023-04-22T07:20:58.122714",
     "exception": false,
     "start_time": "2023-04-22T07:20:57.907152",
     "status": "completed"
    },
    "tags": []
   },
   "outputs": [
    {
     "data": {
      "text/plain": [
       "TEST NOT OFFERED                   1200818\n",
       "TEST REFUSED                         12968\n",
       "TEST PERFORMED, RESULTS UNKNOWN       3007\n",
       "TEST TAKEN                            2268\n",
       "Name: BAC_RESULT, dtype: int64"
      ]
     },
     "execution_count": 1540,
     "metadata": {},
     "output_type": "execute_result"
    }
   ],
   "source": [
    "#check unique values\n",
    "people_df['BAC_RESULT'].value_counts()"
   ]
  },
  {
   "cell_type": "markdown",
   "id": "916293f9",
   "metadata": {
    "papermill": {
     "duration": 0.118064,
     "end_time": "2023-04-22T07:20:58.358335",
     "exception": false,
     "start_time": "2023-04-22T07:20:58.240271",
     "status": "completed"
    },
    "tags": []
   },
   "source": [
    "Since this column seems more like record-keeping whereas the results value if more valluble. **DROP**"
   ]
  },
  {
   "cell_type": "markdown",
   "id": "59ee35c9",
   "metadata": {
    "papermill": {
     "duration": 0.116903,
     "end_time": "2023-04-22T07:20:58.588358",
     "exception": false,
     "start_time": "2023-04-22T07:20:58.471455",
     "status": "completed"
    },
    "tags": []
   },
   "source": [
    "`BAC_RESULT VALUE`: Driver’s blood alcohol concentration test result (fatal crashes may include pedestrian or cyclist results)"
   ]
  },
  {
   "cell_type": "code",
   "execution_count": 1541,
   "id": "203ac4ac",
   "metadata": {
    "execution": {
     "iopub.execute_input": "2023-04-22T07:20:58.820598Z",
     "iopub.status.busy": "2023-04-22T07:20:58.820091Z",
     "iopub.status.idle": "2023-04-22T07:20:58.839510Z",
     "shell.execute_reply": "2023-04-22T07:20:58.837248Z"
    },
    "papermill": {
     "duration": 0.14056,
     "end_time": "2023-04-22T07:20:58.843166",
     "exception": false,
     "start_time": "2023-04-22T07:20:58.702606",
     "status": "completed"
    },
    "tags": []
   },
   "outputs": [
    {
     "data": {
      "text/plain": [
       "0.00    176\n",
       "0.17    127\n",
       "0.18    126\n",
       "0.21    110\n",
       "0.14    102\n",
       "0.20     95\n",
       "0.16     90\n",
       "0.19     87\n",
       "0.15     80\n",
       "0.22     76\n",
       "0.23     73\n",
       "0.12     68\n",
       "0.13     68\n",
       "0.11     64\n",
       "0.24     59\n",
       "0.25     41\n",
       "0.26     40\n",
       "0.27     34\n",
       "0.10     34\n",
       "0.09     32\n",
       "0.28     28\n",
       "0.08     19\n",
       "0.29     18\n",
       "0.03     17\n",
       "0.07     17\n",
       "0.30     16\n",
       "0.33     15\n",
       "0.04     15\n",
       "0.05     11\n",
       "0.32      9\n",
       "0.35      9\n",
       "0.02      8\n",
       "0.31      8\n",
       "0.06      8\n",
       "0.38      6\n",
       "0.36      4\n",
       "0.34      4\n",
       "0.39      3\n",
       "0.44      3\n",
       "0.01      3\n",
       "1.00      2\n",
       "0.79      2\n",
       "0.88      2\n",
       "0.45      2\n",
       "0.60      2\n",
       "0.95      1\n",
       "0.40      1\n",
       "0.47      1\n",
       "0.99      1\n",
       "0.41      1\n",
       "0.80      1\n",
       "0.58      1\n",
       "0.37      1\n",
       "0.85      1\n",
       "0.67      1\n",
       "0.98      1\n",
       "Name: BAC_RESULT VALUE, dtype: int64"
      ]
     },
     "execution_count": 1541,
     "metadata": {},
     "output_type": "execute_result"
    }
   ],
   "source": [
    "#check unique values\n",
    "people_df['BAC_RESULT VALUE'].value_counts()"
   ]
  },
  {
   "cell_type": "markdown",
   "id": "07343cd0",
   "metadata": {
    "papermill": {
     "duration": 0.118746,
     "end_time": "2023-04-22T07:20:59.081934",
     "exception": false,
     "start_time": "2023-04-22T07:20:58.963188",
     "status": "completed"
    },
    "tags": []
   },
   "source": [
    "`CELL_PHONE_USE`: Whether person was/was not using cellphone at the time of the crash, as determined by the reporting officer"
   ]
  },
  {
   "cell_type": "code",
   "execution_count": 1542,
   "id": "e3653cc6",
   "metadata": {
    "execution": {
     "iopub.execute_input": "2023-04-22T07:20:59.316643Z",
     "iopub.status.busy": "2023-04-22T07:20:59.316157Z",
     "iopub.status.idle": "2023-04-22T07:20:59.361252Z",
     "shell.execute_reply": "2023-04-22T07:20:59.360169Z"
    },
    "papermill": {
     "duration": 0.165416,
     "end_time": "2023-04-22T07:20:59.364209",
     "exception": false,
     "start_time": "2023-04-22T07:20:59.198793",
     "status": "completed"
    },
    "tags": []
   },
   "outputs": [
    {
     "data": {
      "text/plain": [
       "Y    752\n",
       "N    406\n",
       "Name: CELL_PHONE_USE, dtype: int64"
      ]
     },
     "execution_count": 1542,
     "metadata": {},
     "output_type": "execute_result"
    }
   ],
   "source": [
    "#check unique values\n",
    "people_df['CELL_PHONE_USE'].value_counts()"
   ]
  },
  {
   "cell_type": "markdown",
   "id": "7f068c33",
   "metadata": {
    "papermill": {
     "duration": 0.115465,
     "end_time": "2023-04-22T07:20:59.598750",
     "exception": false,
     "start_time": "2023-04-22T07:20:59.483285",
     "status": "completed"
    },
    "tags": []
   },
   "source": [
    "**SUMMARY**"
   ]
  },
  {
   "cell_type": "markdown",
   "id": "9a88dc00",
   "metadata": {
    "papermill": {
     "duration": 0.116526,
     "end_time": "2023-04-22T07:20:59.834795",
     "exception": false,
     "start_time": "2023-04-22T07:20:59.718269",
     "status": "completed"
    },
    "tags": []
   },
   "source": [
    "Columns to keep:\n",
    "\n",
    "    1. PERSON_TYPE\n",
    "    2. CRASH_RECORD_ID\n",
    "    3. VEHICLE_ID\n",
    "    4. AGE\n",
    "    5. SAFETY_EQUIPMENT\n",
    "    6. INJURY_CLASSIFICATION\n",
    "    7. DRIVER_ACTION\n",
    "    8. DRIVER_VISION\n",
    "    9. PHYSICAL_CONDITION\n",
    "    10. PEDPEDAL_ACTION\n",
    "    11. BAC_RESULT VALUE\n"
   ]
  },
  {
   "cell_type": "markdown",
   "id": "64b6362b",
   "metadata": {
    "papermill": {
     "duration": 0.187815,
     "end_time": "2023-04-22T07:21:00.602850",
     "exception": false,
     "start_time": "2023-04-22T07:21:00.415035",
     "status": "completed"
    },
    "tags": []
   },
   "source": [
    "### Data Limitations"
   ]
  },
  {
   "cell_type": "markdown",
   "id": "29e3c6df",
   "metadata": {
    "papermill": {
     "duration": 0.11771,
     "end_time": "2023-04-22T07:21:00.836060",
     "exception": false,
     "start_time": "2023-04-22T07:21:00.718350",
     "status": "completed"
    },
    "tags": []
   },
   "source": [
    "There are several Data limitations that we have to keep in mind with regards to these dataset.\n",
    "\n",
    "    1. Only using CPD data, there might be data missing that is not reported to the CPD\n",
    "    2. Interstate highways, freeway ramps, and on local roads along the City boundary, are excluded from this dataset\n",
    "    3. Around half of the data is self reported and may have bias in them, missing or incorrect information\n",
    "    4. There's no data on the traffic volume, congestion level, or the speed the vehiclees were moving at\n",
    "    5. There are large imbalancces in the dataset and some columns have a lot of missing values. Later on during cleaning and processing, there has to be an assumption that the report created was accurate and there were no glaring detailss overlooked like Intersections, Work Zones, etc.\n",
    "    6. The data has to be binned together to reduce the granularity of the dataset which can impact the data\n",
    "    7. The large imbalances would require either getting rid of a large number of records or creating a lot of ssynthetic data for oversampling\n",
    "    8. A lot of the primary and ssecondary causes are overlapping information. There is no set standard that clearly biifurcates the different categories of car crashes which can cause the precision of reults st go down."
   ]
  },
  {
   "cell_type": "markdown",
   "id": "22943234",
   "metadata": {
    "papermill": {
     "duration": 0.113871,
     "end_time": "2023-04-22T07:21:02.036404",
     "exception": false,
     "start_time": "2023-04-22T07:21:01.922533",
     "status": "completed"
    },
    "tags": []
   },
   "source": [
    "## Data Preparation"
   ]
  },
  {
   "cell_type": "markdown",
   "id": "a0d33fd5",
   "metadata": {
    "papermill": {
     "duration": 0.11542,
     "end_time": "2023-04-22T07:21:02.856717",
     "exception": false,
     "start_time": "2023-04-22T07:21:02.741297",
     "status": "completed"
    },
    "tags": []
   },
   "source": [
    "### Crashes-Crashes"
   ]
  },
  {
   "cell_type": "markdown",
   "id": "46e55565",
   "metadata": {},
   "source": [
    "First filter out the column that will be proceeded with."
   ]
  },
  {
   "cell_type": "code",
   "execution_count": 1543,
   "id": "ad2b12e6",
   "metadata": {
    "execution": {
     "iopub.execute_input": "2023-04-22T07:21:02.273498Z",
     "iopub.status.busy": "2023-04-22T07:21:02.272625Z",
     "iopub.status.idle": "2023-04-22T07:21:02.381813Z",
     "shell.execute_reply": "2023-04-22T07:21:02.379921Z"
    },
    "papermill": {
     "duration": 0.233739,
     "end_time": "2023-04-22T07:21:02.385902",
     "exception": false,
     "start_time": "2023-04-22T07:21:02.152163",
     "status": "completed"
    },
    "tags": []
   },
   "outputs": [],
   "source": [
    "#Select the columns that need to be kept\n",
    "cln_crashes = crashes_df[['CRASH_RECORD_ID',\n",
    "'CRASH_DATE',\n",
    "'POSTED_SPEED_LIMIT',\n",
    "'DEVICE_CONDITION',\n",
    "'WEATHER_CONDITION',\n",
    "'LIGHTING_CONDITION',\n",
    "'CRASH_TYPE',\n",
    "'INTERSECTION_RELATED_I',\n",
    "'ROAD_DEFECT',\n",
    "'PRIM_CONTRIBUTORY_CAUSE',\n",
    "'SEC_CONTRIBUTORY_CAUSE',\n",
    "'NUM_UNITS',\n",
    "'WORK_ZONE_I',\n",
    "'WORKERS_PRESENT_I',\n",
    "'INJURIES_TOTAL',\n",
    "'INJURIES_FATAL',\n",
    "'CRASH_HOUR',\n",
    "'CRASH_DAY_OF_WEEK',\n",
    "'CRASH_MONTH',\n",
    "'LATITUDE',\n",
    "'LONGITUDE']]"
   ]
  },
  {
   "cell_type": "markdown",
   "id": "a4b8d787",
   "metadata": {},
   "source": [
    "Lets takae a look at the summary of the daataframe to understand null vlues and other characteristics"
   ]
  },
  {
   "cell_type": "code",
   "execution_count": 1544,
   "id": "5f78c57b",
   "metadata": {
    "execution": {
     "iopub.execute_input": "2023-04-22T07:21:03.089615Z",
     "iopub.status.busy": "2023-04-22T07:21:03.088772Z",
     "iopub.status.idle": "2023-04-22T07:21:03.521595Z",
     "shell.execute_reply": "2023-04-22T07:21:03.519309Z"
    },
    "papermill": {
     "duration": 0.552972,
     "end_time": "2023-04-22T07:21:03.524987",
     "exception": false,
     "start_time": "2023-04-22T07:21:02.972015",
     "status": "completed"
    },
    "tags": []
   },
   "outputs": [
    {
     "name": "stdout",
     "output_type": "stream",
     "text": [
      "<class 'pandas.core.frame.DataFrame'>\n",
      "RangeIndex: 692784 entries, 0 to 692783\n",
      "Data columns (total 21 columns):\n",
      " #   Column                   Non-Null Count   Dtype  \n",
      "---  ------                   --------------   -----  \n",
      " 0   CRASH_RECORD_ID          692784 non-null  object \n",
      " 1   CRASH_DATE               692784 non-null  object \n",
      " 2   POSTED_SPEED_LIMIT       692784 non-null  int64  \n",
      " 3   DEVICE_CONDITION         692784 non-null  object \n",
      " 4   WEATHER_CONDITION        692784 non-null  object \n",
      " 5   LIGHTING_CONDITION       692784 non-null  object \n",
      " 6   CRASH_TYPE               692784 non-null  object \n",
      " 7   INTERSECTION_RELATED_I   158797 non-null  object \n",
      " 8   ROAD_DEFECT              692784 non-null  object \n",
      " 9   PRIM_CONTRIBUTORY_CAUSE  692784 non-null  object \n",
      " 10  SEC_CONTRIBUTORY_CAUSE   692784 non-null  object \n",
      " 11  NUM_UNITS                692784 non-null  int64  \n",
      " 12  WORK_ZONE_I              4046 non-null    object \n",
      " 13  WORKERS_PRESENT_I        1048 non-null    object \n",
      " 14  INJURIES_TOTAL           691292 non-null  float64\n",
      " 15  INJURIES_FATAL           691292 non-null  float64\n",
      " 16  CRASH_HOUR               692784 non-null  int64  \n",
      " 17  CRASH_DAY_OF_WEEK        692784 non-null  int64  \n",
      " 18  CRASH_MONTH              692784 non-null  int64  \n",
      " 19  LATITUDE                 688378 non-null  float64\n",
      " 20  LONGITUDE                688378 non-null  float64\n",
      "dtypes: float64(4), int64(5), object(12)\n",
      "memory usage: 111.0+ MB\n"
     ]
    }
   ],
   "source": [
    "cln_crashes.info()"
   ]
  },
  {
   "cell_type": "markdown",
   "id": "e32069ef",
   "metadata": {},
   "source": [
    "There are 7 columns with missing values with 3 columns having a significantly high number than the rest. Lets go through one by one and fix these."
   ]
  },
  {
   "cell_type": "code",
   "execution_count": 1545,
   "id": "fefa2251",
   "metadata": {
    "execution": {
     "iopub.execute_input": "2023-04-22T07:21:03.759374Z",
     "iopub.status.busy": "2023-04-22T07:21:03.758909Z",
     "iopub.status.idle": "2023-04-22T07:21:03.786024Z",
     "shell.execute_reply": "2023-04-22T07:21:03.784440Z"
    },
    "papermill": {
     "duration": 0.149633,
     "end_time": "2023-04-22T07:21:03.788809",
     "exception": false,
     "start_time": "2023-04-22T07:21:03.639176",
     "status": "completed"
    },
    "tags": []
   },
   "outputs": [
    {
     "data": {
      "text/plain": [
       "Y    3170\n",
       "N     876\n",
       "Name: WORK_ZONE_I, dtype: int64"
      ]
     },
     "execution_count": 1545,
     "metadata": {},
     "output_type": "execute_result"
    }
   ],
   "source": [
    "#Indentify the value counts\n",
    "cln_crashes['WORK_ZONE_I'].value_counts()"
   ]
  },
  {
   "cell_type": "code",
   "execution_count": 1546,
   "id": "5531d34b",
   "metadata": {
    "execution": {
     "iopub.execute_input": "2023-04-22T07:21:04.030616Z",
     "iopub.status.busy": "2023-04-22T07:21:04.029457Z",
     "iopub.status.idle": "2023-04-22T07:21:04.056160Z",
     "shell.execute_reply": "2023-04-22T07:21:04.054293Z"
    },
    "papermill": {
     "duration": 0.151112,
     "end_time": "2023-04-22T07:21:04.059826",
     "exception": false,
     "start_time": "2023-04-22T07:21:03.908714",
     "status": "completed"
    },
    "tags": []
   },
   "outputs": [
    {
     "data": {
      "text/plain": [
       "Y    932\n",
       "N    116\n",
       "Name: WORKERS_PRESENT_I, dtype: int64"
      ]
     },
     "execution_count": 1546,
     "metadata": {},
     "output_type": "execute_result"
    }
   ],
   "source": [
    "cln_crashes['WORKERS_PRESENT_I'].value_counts()"
   ]
  },
  {
   "cell_type": "markdown",
   "id": "3bdd2c54",
   "metadata": {},
   "source": [
    "Both of these columns arae indicators in the form of Yes or No. We are going to assume that if a crash happens in a work zone with workers present, it would be aa significant thing to note. Relying on the thoroughness of the responding officer, we will replace the missing values with No. This is an assumption that a responding officer will easilly notice aa work site and note it down considering that work sites are significantly big landmarks."
   ]
  },
  {
   "cell_type": "code",
   "execution_count": 1547,
   "id": "bb9a2cdd",
   "metadata": {
    "execution": {
     "iopub.execute_input": "2023-04-22T07:21:05.721911Z",
     "iopub.status.busy": "2023-04-22T07:21:05.720483Z",
     "iopub.status.idle": "2023-04-22T07:21:05.752463Z",
     "shell.execute_reply": "2023-04-22T07:21:05.750992Z"
    },
    "papermill": {
     "duration": 0.152096,
     "end_time": "2023-04-22T07:21:05.756026",
     "exception": false,
     "start_time": "2023-04-22T07:21:05.603930",
     "status": "completed"
    },
    "tags": []
   },
   "outputs": [
    {
     "name": "stderr",
     "output_type": "stream",
     "text": [
      "/var/folders/qv/0z2v23tn1f1b2fnpqqgqsxch0000gn/T/ipykernel_4590/1609517166.py:2: SettingWithCopyWarning: \n",
      "A value is trying to be set on a copy of a slice from a DataFrame\n",
      "\n",
      "See the caveats in the documentation: https://pandas.pydata.org/pandas-docs/stable/user_guide/indexing.html#returning-a-view-versus-a-copy\n",
      "  cln_crashes['WORK_ZONE_I'].fillna('N',inplace=True)\n",
      "/var/folders/qv/0z2v23tn1f1b2fnpqqgqsxch0000gn/T/ipykernel_4590/1609517166.py:3: SettingWithCopyWarning: \n",
      "A value is trying to be set on a copy of a slice from a DataFrame\n",
      "\n",
      "See the caveats in the documentation: https://pandas.pydata.org/pandas-docs/stable/user_guide/indexing.html#returning-a-view-versus-a-copy\n",
      "  cln_crashes['WORKERS_PRESENT_I'].fillna('N',inplace=True)\n"
     ]
    }
   ],
   "source": [
    "#replace thee Null values with N to indicate No\n",
    "cln_crashes['WORK_ZONE_I'].fillna('N',inplace=True)\n",
    "cln_crashes['WORKERS_PRESENT_I'].fillna('N',inplace=True)"
   ]
  },
  {
   "cell_type": "markdown",
   "id": "c7786a09",
   "metadata": {},
   "source": [
    "Lets check the value counts after replacing the missing values"
   ]
  },
  {
   "cell_type": "code",
   "execution_count": 1548,
   "id": "4d78910e",
   "metadata": {
    "execution": {
     "iopub.execute_input": "2023-04-22T07:21:06.022260Z",
     "iopub.status.busy": "2023-04-22T07:21:06.020984Z",
     "iopub.status.idle": "2023-04-22T07:21:06.041521Z",
     "shell.execute_reply": "2023-04-22T07:21:06.040198Z"
    },
    "papermill": {
     "duration": 0.174042,
     "end_time": "2023-04-22T07:21:06.045221",
     "exception": false,
     "start_time": "2023-04-22T07:21:05.871179",
     "status": "completed"
    },
    "scrolled": false,
    "tags": []
   },
   "outputs": [
    {
     "data": {
      "text/plain": [
       "N    689614\n",
       "Y      3170\n",
       "Name: WORK_ZONE_I, dtype: int64"
      ]
     },
     "execution_count": 1548,
     "metadata": {},
     "output_type": "execute_result"
    }
   ],
   "source": [
    "cln_crashes['WORK_ZONE_I'].value_counts()"
   ]
  },
  {
   "cell_type": "code",
   "execution_count": 1549,
   "id": "6ae56382",
   "metadata": {
    "execution": {
     "iopub.execute_input": "2023-04-22T07:21:06.341432Z",
     "iopub.status.busy": "2023-04-22T07:21:06.339988Z",
     "iopub.status.idle": "2023-04-22T07:21:06.369579Z",
     "shell.execute_reply": "2023-04-22T07:21:06.367655Z"
    },
    "papermill": {
     "duration": 0.167401,
     "end_time": "2023-04-22T07:21:06.372917",
     "exception": false,
     "start_time": "2023-04-22T07:21:06.205516",
     "status": "completed"
    },
    "tags": []
   },
   "outputs": [
    {
     "data": {
      "text/plain": [
       "N    691852\n",
       "Y       932\n",
       "Name: WORKERS_PRESENT_I, dtype: int64"
      ]
     },
     "execution_count": 1549,
     "metadata": {},
     "output_type": "execute_result"
    }
   ],
   "source": [
    "cln_crashes['WORKERS_PRESENT_I'].value_counts()"
   ]
  },
  {
   "cell_type": "markdown",
   "id": "5dc29529",
   "metadata": {},
   "source": [
    "Similarly, for intersection related events, the assumption is going to be that it is a significant thing to miss. Intersections are very clear landmarks which are difficult to miss. The missing values will be replaced by No"
   ]
  },
  {
   "cell_type": "code",
   "execution_count": 1550,
   "id": "a46823b3",
   "metadata": {
    "execution": {
     "iopub.execute_input": "2023-04-22T07:21:05.201200Z",
     "iopub.status.busy": "2023-04-22T07:21:05.199678Z",
     "iopub.status.idle": "2023-04-22T07:21:05.220287Z",
     "shell.execute_reply": "2023-04-22T07:21:05.218592Z"
    },
    "papermill": {
     "duration": 0.141646,
     "end_time": "2023-04-22T07:21:05.223435",
     "exception": false,
     "start_time": "2023-04-22T07:21:05.081789",
     "status": "completed"
    },
    "scrolled": true,
    "tags": []
   },
   "outputs": [
    {
     "name": "stderr",
     "output_type": "stream",
     "text": [
      "/var/folders/qv/0z2v23tn1f1b2fnpqqgqsxch0000gn/T/ipykernel_4590/791589148.py:2: SettingWithCopyWarning: \n",
      "A value is trying to be set on a copy of a slice from a DataFrame\n",
      "\n",
      "See the caveats in the documentation: https://pandas.pydata.org/pandas-docs/stable/user_guide/indexing.html#returning-a-view-versus-a-copy\n",
      "  cln_crashes['INTERSECTION_RELATED_I'].fillna('N',inplace=True)\n"
     ]
    }
   ],
   "source": [
    "#replace Null values with N\n",
    "cln_crashes['INTERSECTION_RELATED_I'].fillna('N',inplace=True)"
   ]
  },
  {
   "cell_type": "code",
   "execution_count": 1551,
   "id": "8f91cb69",
   "metadata": {
    "execution": {
     "iopub.execute_input": "2023-04-22T07:21:05.464583Z",
     "iopub.status.busy": "2023-04-22T07:21:05.463655Z",
     "iopub.status.idle": "2023-04-22T07:21:05.484173Z",
     "shell.execute_reply": "2023-04-22T07:21:05.482512Z"
    },
    "papermill": {
     "duration": 0.144818,
     "end_time": "2023-04-22T07:21:05.487182",
     "exception": false,
     "start_time": "2023-04-22T07:21:05.342364",
     "status": "completed"
    },
    "tags": []
   },
   "outputs": [
    {
     "data": {
      "text/plain": [
       "N    541388\n",
       "Y    151396\n",
       "Name: INTERSECTION_RELATED_I, dtype: int64"
      ]
     },
     "execution_count": 1551,
     "metadata": {},
     "output_type": "execute_result"
    }
   ],
   "source": [
    "cln_crashes['INTERSECTION_RELATED_I'].value_counts()"
   ]
  },
  {
   "cell_type": "markdown",
   "id": "5971ea37",
   "metadata": {},
   "source": [
    "Before dealing with the other 4 columns that have a small percentage of records with missing values, lets filter out the crash type to see if we automatically drop the missing records. \n",
    "\n",
    "Since the goal is to recognise car crash causes that can help with Vision Zero, we will only use the crashes where there was an injury or fatality. \n",
    "\n",
    "\n",
    "Therefore the next step will be to filter out the crashes according to crash types."
   ]
  },
  {
   "cell_type": "code",
   "execution_count": 1552,
   "id": "0cdbe7ce",
   "metadata": {
    "execution": {
     "iopub.execute_input": "2023-04-22T07:21:04.373714Z",
     "iopub.status.busy": "2023-04-22T07:21:04.373270Z",
     "iopub.status.idle": "2023-04-22T07:21:04.428500Z",
     "shell.execute_reply": "2023-04-22T07:21:04.427121Z"
    },
    "papermill": {
     "duration": 0.252981,
     "end_time": "2023-04-22T07:21:04.431851",
     "exception": false,
     "start_time": "2023-04-22T07:21:04.178870",
     "status": "completed"
    },
    "scrolled": true,
    "tags": []
   },
   "outputs": [
    {
     "data": {
      "text/plain": [
       "NO INJURY / DRIVE AWAY              510406\n",
       "INJURY AND / OR TOW DUE TO CRASH    182378\n",
       "Name: CRASH_TYPE, dtype: int64"
      ]
     },
     "execution_count": 1552,
     "metadata": {},
     "output_type": "execute_result"
    }
   ],
   "source": [
    "#investigate the different values in crash type\n",
    "cln_crashes['CRASH_TYPE'].value_counts()"
   ]
  },
  {
   "cell_type": "code",
   "execution_count": 1553,
   "id": "5af1608f",
   "metadata": {
    "execution": {
     "iopub.execute_input": "2023-04-22T07:21:04.670038Z",
     "iopub.status.busy": "2023-04-22T07:21:04.669060Z",
     "iopub.status.idle": "2023-04-22T07:21:04.958629Z",
     "shell.execute_reply": "2023-04-22T07:21:04.955369Z"
    },
    "papermill": {
     "duration": 0.411839,
     "end_time": "2023-04-22T07:21:04.962065",
     "exception": false,
     "start_time": "2023-04-22T07:21:04.550226",
     "status": "completed"
    },
    "tags": []
   },
   "outputs": [
    {
     "name": "stdout",
     "output_type": "stream",
     "text": [
      "<class 'pandas.core.frame.DataFrame'>\n",
      "Int64Index: 182378 entries, 0 to 692777\n",
      "Data columns (total 21 columns):\n",
      " #   Column                   Non-Null Count   Dtype  \n",
      "---  ------                   --------------   -----  \n",
      " 0   CRASH_RECORD_ID          182378 non-null  object \n",
      " 1   CRASH_DATE               182378 non-null  object \n",
      " 2   POSTED_SPEED_LIMIT       182378 non-null  int64  \n",
      " 3   DEVICE_CONDITION         182378 non-null  object \n",
      " 4   WEATHER_CONDITION        182378 non-null  object \n",
      " 5   LIGHTING_CONDITION       182378 non-null  object \n",
      " 6   CRASH_TYPE               182378 non-null  object \n",
      " 7   INTERSECTION_RELATED_I   182378 non-null  object \n",
      " 8   ROAD_DEFECT              182378 non-null  object \n",
      " 9   PRIM_CONTRIBUTORY_CAUSE  182378 non-null  object \n",
      " 10  SEC_CONTRIBUTORY_CAUSE   182378 non-null  object \n",
      " 11  NUM_UNITS                182378 non-null  int64  \n",
      " 12  WORK_ZONE_I              182378 non-null  object \n",
      " 13  WORKERS_PRESENT_I        182378 non-null  object \n",
      " 14  INJURIES_TOTAL           181739 non-null  float64\n",
      " 15  INJURIES_FATAL           181739 non-null  float64\n",
      " 16  CRASH_HOUR               182378 non-null  int64  \n",
      " 17  CRASH_DAY_OF_WEEK        182378 non-null  int64  \n",
      " 18  CRASH_MONTH              182378 non-null  int64  \n",
      " 19  LATITUDE                 181319 non-null  float64\n",
      " 20  LONGITUDE                181319 non-null  float64\n",
      "dtypes: float64(4), int64(5), object(12)\n",
      "memory usage: 30.6+ MB\n"
     ]
    }
   ],
   "source": [
    "#filter out records for injury related events\n",
    "cln_crashes = cln_crashes[cln_crashes['CRASH_TYPE'] == 'INJURY AND / OR TOW DUE TO CRASH']\n",
    "\n",
    "#look at the new summaary for the dataframe\n",
    "cln_crashes.info()"
   ]
  },
  {
   "cell_type": "markdown",
   "id": "2ea54eb1",
   "metadata": {},
   "source": [
    "Looks like there are still columns with missing values. Compared to the total number of records, the number of records that these columns aree missing is significantly very small. With that consdieration, it would be better to drop tee records with missing values."
   ]
  },
  {
   "cell_type": "code",
   "execution_count": 1554,
   "id": "4e30360d",
   "metadata": {
    "execution": {
     "iopub.execute_input": "2023-04-22T07:21:07.055521Z",
     "iopub.status.busy": "2023-04-22T07:21:07.053858Z",
     "iopub.status.idle": "2023-04-22T07:21:07.258673Z",
     "shell.execute_reply": "2023-04-22T07:21:07.256989Z"
    },
    "papermill": {
     "duration": 0.335799,
     "end_time": "2023-04-22T07:21:07.262078",
     "exception": false,
     "start_time": "2023-04-22T07:21:06.926279",
     "status": "completed"
    },
    "tags": []
   },
   "outputs": [],
   "source": [
    "#drop records with missing values\n",
    "cln_crashes.dropna(inplace=True)"
   ]
  },
  {
   "cell_type": "code",
   "execution_count": 1555,
   "id": "a290a6a6",
   "metadata": {
    "execution": {
     "iopub.execute_input": "2023-04-22T07:21:06.634606Z",
     "iopub.status.busy": "2023-04-22T07:21:06.633531Z",
     "iopub.status.idle": "2023-04-22T07:21:06.793830Z",
     "shell.execute_reply": "2023-04-22T07:21:06.792181Z"
    },
    "papermill": {
     "duration": 0.288521,
     "end_time": "2023-04-22T07:21:06.798578",
     "exception": false,
     "start_time": "2023-04-22T07:21:06.510057",
     "status": "completed"
    },
    "tags": []
   },
   "outputs": [
    {
     "name": "stdout",
     "output_type": "stream",
     "text": [
      "<class 'pandas.core.frame.DataFrame'>\n",
      "Int64Index: 180681 entries, 0 to 692777\n",
      "Data columns (total 21 columns):\n",
      " #   Column                   Non-Null Count   Dtype  \n",
      "---  ------                   --------------   -----  \n",
      " 0   CRASH_RECORD_ID          180681 non-null  object \n",
      " 1   CRASH_DATE               180681 non-null  object \n",
      " 2   POSTED_SPEED_LIMIT       180681 non-null  int64  \n",
      " 3   DEVICE_CONDITION         180681 non-null  object \n",
      " 4   WEATHER_CONDITION        180681 non-null  object \n",
      " 5   LIGHTING_CONDITION       180681 non-null  object \n",
      " 6   CRASH_TYPE               180681 non-null  object \n",
      " 7   INTERSECTION_RELATED_I   180681 non-null  object \n",
      " 8   ROAD_DEFECT              180681 non-null  object \n",
      " 9   PRIM_CONTRIBUTORY_CAUSE  180681 non-null  object \n",
      " 10  SEC_CONTRIBUTORY_CAUSE   180681 non-null  object \n",
      " 11  NUM_UNITS                180681 non-null  int64  \n",
      " 12  WORK_ZONE_I              180681 non-null  object \n",
      " 13  WORKERS_PRESENT_I        180681 non-null  object \n",
      " 14  INJURIES_TOTAL           180681 non-null  float64\n",
      " 15  INJURIES_FATAL           180681 non-null  float64\n",
      " 16  CRASH_HOUR               180681 non-null  int64  \n",
      " 17  CRASH_DAY_OF_WEEK        180681 non-null  int64  \n",
      " 18  CRASH_MONTH              180681 non-null  int64  \n",
      " 19  LATITUDE                 180681 non-null  float64\n",
      " 20  LONGITUDE                180681 non-null  float64\n",
      "dtypes: float64(4), int64(5), object(12)\n",
      "memory usage: 30.3+ MB\n"
     ]
    }
   ],
   "source": [
    "#investigate the summarry\n",
    "cln_crashes.info()"
   ]
  },
  {
   "cell_type": "markdown",
   "id": "eab1e094",
   "metadata": {},
   "source": [
    "Next, lets break up the Crash Date column to extract the year since we already have the hour, month, and daay of the week in separate columns."
   ]
  },
  {
   "cell_type": "code",
   "execution_count": 1556,
   "id": "1d87957b",
   "metadata": {},
   "outputs": [
    {
     "data": {
      "text/plain": [
       "0         03/25/2019 02:43:00 PM\n",
       "11        07/15/2020 11:45:00 AM\n",
       "14        07/15/2022 04:10:00 PM\n",
       "18        07/15/2022 09:00:00 PM\n",
       "21        06/21/2019 02:37:00 PM\n",
       "                   ...          \n",
       "692765    11/23/2022 05:58:00 PM\n",
       "692767    11/24/2022 05:27:00 AM\n",
       "692771    11/22/2022 08:00:00 PM\n",
       "692776    11/24/2022 01:10:00 AM\n",
       "692777    11/22/2022 04:30:00 PM\n",
       "Name: CRASH_DATE, Length: 180681, dtype: object"
      ]
     },
     "execution_count": 1556,
     "metadata": {},
     "output_type": "execute_result"
    }
   ],
   "source": [
    "#investigate the current values\n",
    "cln_crashes['CRASH_DATE']"
   ]
  },
  {
   "cell_type": "markdown",
   "id": "d0c09a2b",
   "metadata": {},
   "source": [
    "Looks like these are strings. They have to be converted to datetime for extraction"
   ]
  },
  {
   "cell_type": "code",
   "execution_count": 1557,
   "id": "d0b33ffb",
   "metadata": {
    "execution": {
     "iopub.execute_input": "2023-04-22T07:21:07.906494Z",
     "iopub.status.busy": "2023-04-22T07:21:07.905623Z",
     "iopub.status.idle": "2023-04-22T07:21:10.482458Z",
     "shell.execute_reply": "2023-04-22T07:21:10.480581Z"
    },
    "papermill": {
     "duration": 2.697882,
     "end_time": "2023-04-22T07:21:10.485799",
     "exception": false,
     "start_time": "2023-04-22T07:21:07.787917",
     "status": "completed"
    },
    "tags": []
   },
   "outputs": [],
   "source": [
    "#convert the data type to Datetime\n",
    "cln_crashes['CRASH_DATE'] = cln_crashes['CRASH_DATE'].map(\n",
    "                            lambda x: dt.datetime.strptime(x, '%m/%d/%Y %H:%M:%S %p'))"
   ]
  },
  {
   "cell_type": "code",
   "execution_count": 1558,
   "id": "850c0413",
   "metadata": {
    "execution": {
     "iopub.execute_input": "2023-04-22T07:21:10.800856Z",
     "iopub.status.busy": "2023-04-22T07:21:10.799699Z",
     "iopub.status.idle": "2023-04-22T07:21:10.814449Z",
     "shell.execute_reply": "2023-04-22T07:21:10.812537Z"
    },
    "papermill": {
     "duration": 0.212531,
     "end_time": "2023-04-22T07:21:10.817736",
     "exception": false,
     "start_time": "2023-04-22T07:21:10.605205",
     "status": "completed"
    },
    "tags": []
   },
   "outputs": [
    {
     "data": {
      "text/plain": [
       "0        2019-03-25 02:43:00\n",
       "11       2020-07-15 11:45:00\n",
       "14       2022-07-15 04:10:00\n",
       "18       2022-07-15 09:00:00\n",
       "21       2019-06-21 02:37:00\n",
       "                 ...        \n",
       "692765   2022-11-23 05:58:00\n",
       "692767   2022-11-24 05:27:00\n",
       "692771   2022-11-22 08:00:00\n",
       "692776   2022-11-24 01:10:00\n",
       "692777   2022-11-22 04:30:00\n",
       "Name: CRASH_DATE, Length: 180681, dtype: datetime64[ns]"
      ]
     },
     "execution_count": 1558,
     "metadata": {},
     "output_type": "execute_result"
    }
   ],
   "source": [
    "#investigate the new values\n",
    "cln_crashes['CRASH_DATE']"
   ]
  },
  {
   "cell_type": "code",
   "execution_count": 1559,
   "id": "83447d98",
   "metadata": {
    "execution": {
     "iopub.execute_input": "2023-04-22T07:21:11.063102Z",
     "iopub.status.busy": "2023-04-22T07:21:11.062608Z",
     "iopub.status.idle": "2023-04-22T07:21:11.092691Z",
     "shell.execute_reply": "2023-04-22T07:21:11.091102Z"
    },
    "papermill": {
     "duration": 0.157401,
     "end_time": "2023-04-22T07:21:11.096591",
     "exception": false,
     "start_time": "2023-04-22T07:21:10.939190",
     "status": "completed"
    },
    "tags": []
   },
   "outputs": [],
   "source": [
    "#keep only the year\n",
    "cln_crashes['CRASH_DATE'] = cln_crashes['CRASH_DATE'].dt.year"
   ]
  },
  {
   "cell_type": "code",
   "execution_count": 1560,
   "id": "55056902",
   "metadata": {
    "execution": {
     "iopub.execute_input": "2023-04-22T07:21:11.350978Z",
     "iopub.status.busy": "2023-04-22T07:21:11.350100Z",
     "iopub.status.idle": "2023-04-22T07:21:11.357184Z",
     "shell.execute_reply": "2023-04-22T07:21:11.355856Z"
    },
    "papermill": {
     "duration": 0.140641,
     "end_time": "2023-04-22T07:21:11.360553",
     "exception": false,
     "start_time": "2023-04-22T07:21:11.219912",
     "status": "completed"
    },
    "tags": []
   },
   "outputs": [],
   "source": [
    "#rename column to year \n",
    "cln_crashes.rename(columns={'CRASH_DATE': 'CRASH_YEAR'},inplace = True)"
   ]
  },
  {
   "cell_type": "code",
   "execution_count": 1561,
   "id": "168b3889",
   "metadata": {
    "execution": {
     "iopub.execute_input": "2023-04-22T07:21:11.602211Z",
     "iopub.status.busy": "2023-04-22T07:21:11.601330Z",
     "iopub.status.idle": "2023-04-22T07:21:11.745927Z",
     "shell.execute_reply": "2023-04-22T07:21:11.743480Z"
    },
    "papermill": {
     "duration": 0.268201,
     "end_time": "2023-04-22T07:21:11.749124",
     "exception": false,
     "start_time": "2023-04-22T07:21:11.480923",
     "status": "completed"
    },
    "tags": []
   },
   "outputs": [
    {
     "name": "stdout",
     "output_type": "stream",
     "text": [
      "<class 'pandas.core.frame.DataFrame'>\n",
      "Int64Index: 180681 entries, 0 to 692777\n",
      "Data columns (total 21 columns):\n",
      " #   Column                   Non-Null Count   Dtype  \n",
      "---  ------                   --------------   -----  \n",
      " 0   CRASH_RECORD_ID          180681 non-null  object \n",
      " 1   CRASH_YEAR               180681 non-null  int64  \n",
      " 2   POSTED_SPEED_LIMIT       180681 non-null  int64  \n",
      " 3   DEVICE_CONDITION         180681 non-null  object \n",
      " 4   WEATHER_CONDITION        180681 non-null  object \n",
      " 5   LIGHTING_CONDITION       180681 non-null  object \n",
      " 6   CRASH_TYPE               180681 non-null  object \n",
      " 7   INTERSECTION_RELATED_I   180681 non-null  object \n",
      " 8   ROAD_DEFECT              180681 non-null  object \n",
      " 9   PRIM_CONTRIBUTORY_CAUSE  180681 non-null  object \n",
      " 10  SEC_CONTRIBUTORY_CAUSE   180681 non-null  object \n",
      " 11  NUM_UNITS                180681 non-null  int64  \n",
      " 12  WORK_ZONE_I              180681 non-null  object \n",
      " 13  WORKERS_PRESENT_I        180681 non-null  object \n",
      " 14  INJURIES_TOTAL           180681 non-null  float64\n",
      " 15  INJURIES_FATAL           180681 non-null  float64\n",
      " 16  CRASH_HOUR               180681 non-null  int64  \n",
      " 17  CRASH_DAY_OF_WEEK        180681 non-null  int64  \n",
      " 18  CRASH_MONTH              180681 non-null  int64  \n",
      " 19  LATITUDE                 180681 non-null  float64\n",
      " 20  LONGITUDE                180681 non-null  float64\n",
      "dtypes: float64(4), int64(6), object(11)\n",
      "memory usage: 30.3+ MB\n"
     ]
    }
   ],
   "source": [
    "#investigate summary after change\n",
    "cln_crashes.info()"
   ]
  },
  {
   "cell_type": "markdown",
   "id": "94ad9aa7",
   "metadata": {},
   "source": [
    "Since the datasource mentions that citywide data isn't availale until September 2017, we will be conservative and give a couplee of months for the new system to be incorporated properly and use records from 2018 onwards."
   ]
  },
  {
   "cell_type": "code",
   "execution_count": 1562,
   "id": "42f17016",
   "metadata": {
    "execution": {
     "iopub.execute_input": "2023-04-22T07:21:12.005292Z",
     "iopub.status.busy": "2023-04-22T07:21:12.004554Z",
     "iopub.status.idle": "2023-04-22T07:21:12.056062Z",
     "shell.execute_reply": "2023-04-22T07:21:12.054218Z"
    },
    "papermill": {
     "duration": 0.190295,
     "end_time": "2023-04-22T07:21:12.059339",
     "exception": false,
     "start_time": "2023-04-22T07:21:11.869044",
     "status": "completed"
    },
    "tags": []
   },
   "outputs": [],
   "source": [
    "#filter records to keep 2018 onwards\n",
    "cln_crashes = cln_crashes[cln_crashes['CRASH_YEAR'] >= 2018]"
   ]
  },
  {
   "cell_type": "code",
   "execution_count": 1563,
   "id": "6dab9cbe",
   "metadata": {
    "execution": {
     "iopub.execute_input": "2023-04-22T07:21:12.294992Z",
     "iopub.status.busy": "2023-04-22T07:21:12.294466Z",
     "iopub.status.idle": "2023-04-22T07:21:12.463855Z",
     "shell.execute_reply": "2023-04-22T07:21:12.461892Z"
    },
    "papermill": {
     "duration": 0.289973,
     "end_time": "2023-04-22T07:21:12.467074",
     "exception": false,
     "start_time": "2023-04-22T07:21:12.177101",
     "status": "completed"
    },
    "tags": []
   },
   "outputs": [
    {
     "name": "stdout",
     "output_type": "stream",
     "text": [
      "<class 'pandas.core.frame.DataFrame'>\n",
      "Int64Index: 158209 entries, 0 to 692777\n",
      "Data columns (total 21 columns):\n",
      " #   Column                   Non-Null Count   Dtype  \n",
      "---  ------                   --------------   -----  \n",
      " 0   CRASH_RECORD_ID          158209 non-null  object \n",
      " 1   CRASH_YEAR               158209 non-null  int64  \n",
      " 2   POSTED_SPEED_LIMIT       158209 non-null  int64  \n",
      " 3   DEVICE_CONDITION         158209 non-null  object \n",
      " 4   WEATHER_CONDITION        158209 non-null  object \n",
      " 5   LIGHTING_CONDITION       158209 non-null  object \n",
      " 6   CRASH_TYPE               158209 non-null  object \n",
      " 7   INTERSECTION_RELATED_I   158209 non-null  object \n",
      " 8   ROAD_DEFECT              158209 non-null  object \n",
      " 9   PRIM_CONTRIBUTORY_CAUSE  158209 non-null  object \n",
      " 10  SEC_CONTRIBUTORY_CAUSE   158209 non-null  object \n",
      " 11  NUM_UNITS                158209 non-null  int64  \n",
      " 12  WORK_ZONE_I              158209 non-null  object \n",
      " 13  WORKERS_PRESENT_I        158209 non-null  object \n",
      " 14  INJURIES_TOTAL           158209 non-null  float64\n",
      " 15  INJURIES_FATAL           158209 non-null  float64\n",
      " 16  CRASH_HOUR               158209 non-null  int64  \n",
      " 17  CRASH_DAY_OF_WEEK        158209 non-null  int64  \n",
      " 18  CRASH_MONTH              158209 non-null  int64  \n",
      " 19  LATITUDE                 158209 non-null  float64\n",
      " 20  LONGITUDE                158209 non-null  float64\n",
      "dtypes: float64(4), int64(6), object(11)\n",
      "memory usage: 26.6+ MB\n"
     ]
    }
   ],
   "source": [
    "#investigate the summary after filtering\n",
    "cln_crashes.info()"
   ]
  },
  {
   "cell_type": "markdown",
   "id": "e1190541",
   "metadata": {},
   "source": [
    "The number of records have reduced but a significant chunk is still there. Lets proceed further with cleaning the other columns\n",
    "\n",
    "The next one is device condition"
   ]
  },
  {
   "cell_type": "code",
   "execution_count": 1564,
   "id": "a21633fe",
   "metadata": {
    "execution": {
     "iopub.execute_input": "2023-04-22T07:21:12.703994Z",
     "iopub.status.busy": "2023-04-22T07:21:12.703447Z",
     "iopub.status.idle": "2023-04-22T07:21:12.726632Z",
     "shell.execute_reply": "2023-04-22T07:21:12.725052Z"
    },
    "papermill": {
     "duration": 0.143456,
     "end_time": "2023-04-22T07:21:12.729950",
     "exception": false,
     "start_time": "2023-04-22T07:21:12.586494",
     "status": "completed"
    },
    "tags": []
   },
   "outputs": [
    {
     "data": {
      "text/plain": [
       "NO CONTROLS                 79463\n",
       "FUNCTIONING PROPERLY        67803\n",
       "UNKNOWN                      7842\n",
       "OTHER                        1443\n",
       "FUNCTIONING IMPROPERLY        971\n",
       "NOT FUNCTIONING               588\n",
       "WORN REFLECTIVE MATERIAL       67\n",
       "MISSING                        32\n",
       "Name: DEVICE_CONDITION, dtype: int64"
      ]
     },
     "execution_count": 1564,
     "metadata": {},
     "output_type": "execute_result"
    }
   ],
   "source": [
    "#look at the value counts of the different categories\n",
    "cln_crashes['DEVICE_CONDITION'].value_counts()"
   ]
  },
  {
   "cell_type": "markdown",
   "id": "8ca3a156",
   "metadata": {},
   "source": [
    "This column contains multiple categories that can be grouped together. To reduce the amount of granularity of the data, 3 main categories can be focused on. \n",
    "\n",
    "1. No controls: shows that there were no controls in that area\n",
    "2. Functioning properly: shows that there were controls and were working properly\n",
    "3. Not Functioning properly: shows that there were controls but weren't working properly"
   ]
  },
  {
   "cell_type": "code",
   "execution_count": 1565,
   "id": "b5a91dfc",
   "metadata": {
    "execution": {
     "iopub.execute_input": "2023-04-22T07:21:12.968998Z",
     "iopub.status.busy": "2023-04-22T07:21:12.968525Z",
     "iopub.status.idle": "2023-04-22T07:21:13.009831Z",
     "shell.execute_reply": "2023-04-22T07:21:13.008027Z"
    },
    "papermill": {
     "duration": 0.16485,
     "end_time": "2023-04-22T07:21:13.013523",
     "exception": false,
     "start_time": "2023-04-22T07:21:12.848673",
     "status": "completed"
    },
    "tags": []
   },
   "outputs": [],
   "source": [
    "#replace values with the binned category\n",
    "cln_crashes['DEVICE_CONDITION'].replace(['UNKNOWN', \n",
    "                                         'OTHER', \n",
    "                                         'FUNCTIONING IMPROPERLY', \n",
    "                                         'NOT FUNCTIONING', \n",
    "                                         'WORN REFLECTIVE MATERIAL', \n",
    "                                         'MISSING'], 'NOT FUNCTIONING PROPERLY', inplace=True)"
   ]
  },
  {
   "cell_type": "code",
   "execution_count": 1566,
   "id": "3ee3ca4f",
   "metadata": {
    "execution": {
     "iopub.execute_input": "2023-04-22T07:21:13.255524Z",
     "iopub.status.busy": "2023-04-22T07:21:13.254707Z",
     "iopub.status.idle": "2023-04-22T07:21:13.278093Z",
     "shell.execute_reply": "2023-04-22T07:21:13.276016Z"
    },
    "papermill": {
     "duration": 0.147583,
     "end_time": "2023-04-22T07:21:13.281572",
     "exception": false,
     "start_time": "2023-04-22T07:21:13.133989",
     "status": "completed"
    },
    "tags": []
   },
   "outputs": [
    {
     "data": {
      "text/plain": [
       "NO CONTROLS                 79463\n",
       "FUNCTIONING PROPERLY        67803\n",
       "NOT FUNCTIONING PROPERLY    10943\n",
       "Name: DEVICE_CONDITION, dtype: int64"
      ]
     },
     "execution_count": 1566,
     "metadata": {},
     "output_type": "execute_result"
    }
   ],
   "source": [
    "#look at the new value counts\n",
    "cln_crashes['DEVICE_CONDITION'].value_counts()"
   ]
  },
  {
   "cell_type": "markdown",
   "id": "a6b23364",
   "metadata": {},
   "source": [
    "Next, lets investigate the Weather Condition column"
   ]
  },
  {
   "cell_type": "code",
   "execution_count": 1567,
   "id": "9058bdac",
   "metadata": {
    "execution": {
     "iopub.execute_input": "2023-04-22T07:21:13.519203Z",
     "iopub.status.busy": "2023-04-22T07:21:13.518363Z",
     "iopub.status.idle": "2023-04-22T07:21:13.540067Z",
     "shell.execute_reply": "2023-04-22T07:21:13.538093Z"
    },
    "papermill": {
     "duration": 0.14327,
     "end_time": "2023-04-22T07:21:13.543807",
     "exception": false,
     "start_time": "2023-04-22T07:21:13.400537",
     "status": "completed"
    },
    "tags": []
   },
   "outputs": [
    {
     "data": {
      "text/plain": [
       "CLEAR                     124418\n",
       "RAIN                       16925\n",
       "SNOW                        6227\n",
       "CLOUDY/OVERCAST             5346\n",
       "UNKNOWN                     3242\n",
       "OTHER                        742\n",
       "FREEZING RAIN/DRIZZLE        512\n",
       "FOG/SMOKE/HAZE               328\n",
       "SLEET/HAIL                   298\n",
       "BLOWING SNOW                 138\n",
       "SEVERE CROSS WIND GATE        33\n",
       "Name: WEATHER_CONDITION, dtype: int64"
      ]
     },
     "execution_count": 1567,
     "metadata": {},
     "output_type": "execute_result"
    }
   ],
   "source": [
    "#look at the value counts\n",
    "cln_crashes['WEATHER_CONDITION'].value_counts()"
   ]
  },
  {
   "cell_type": "markdown",
   "id": "b4f31019",
   "metadata": {},
   "source": [
    "Similarly, to reduce teh granularity of the dataset, multiple categories in this dataset can be binned together to represent 2 main categories:\n",
    "\n",
    "1. Clear: shows clear weather\n",
    "2. Not Clear: shows that the weather wasn't clear and could have been a cause of obstruction\n",
    "\n"
   ]
  },
  {
   "cell_type": "code",
   "execution_count": 1568,
   "id": "40438e96",
   "metadata": {
    "execution": {
     "iopub.execute_input": "2023-04-22T07:21:13.783877Z",
     "iopub.status.busy": "2023-04-22T07:21:13.783360Z",
     "iopub.status.idle": "2023-04-22T07:21:13.842401Z",
     "shell.execute_reply": "2023-04-22T07:21:13.840671Z"
    },
    "papermill": {
     "duration": 0.182704,
     "end_time": "2023-04-22T07:21:13.845972",
     "exception": false,
     "start_time": "2023-04-22T07:21:13.663268",
     "status": "completed"
    },
    "tags": []
   },
   "outputs": [],
   "source": [
    "#replace values with the binned category\n",
    "cln_crashes['WEATHER_CONDITION'].replace(['RAIN', \n",
    "                                         'SNOW', \n",
    "                                         'CLOUDY/OVERCAST', \n",
    "                                         'UNKNOWN', \n",
    "                                         'OTHER', \n",
    "                                         'FREEZING RAIN/DRIZZLE',\n",
    "                                         'FOG/SMOKE/HAZE',\n",
    "                                         'SLEET/HAIL',\n",
    "                                         'BLOWING SNOW',\n",
    "                                         'SEVERE CROSS WIND GATE'], 'NOT CLEAR', inplace=True)"
   ]
  },
  {
   "cell_type": "code",
   "execution_count": 1569,
   "id": "75e65f13",
   "metadata": {
    "execution": {
     "iopub.execute_input": "2023-04-22T07:21:14.089360Z",
     "iopub.status.busy": "2023-04-22T07:21:14.088377Z",
     "iopub.status.idle": "2023-04-22T07:21:14.109435Z",
     "shell.execute_reply": "2023-04-22T07:21:14.107326Z"
    },
    "papermill": {
     "duration": 0.146671,
     "end_time": "2023-04-22T07:21:14.113196",
     "exception": false,
     "start_time": "2023-04-22T07:21:13.966525",
     "status": "completed"
    },
    "tags": []
   },
   "outputs": [
    {
     "data": {
      "text/plain": [
       "CLEAR        124418\n",
       "NOT CLEAR     33791\n",
       "Name: WEATHER_CONDITION, dtype: int64"
      ]
     },
     "execution_count": 1569,
     "metadata": {},
     "output_type": "execute_result"
    }
   ],
   "source": [
    "#look at the new value counts\n",
    "cln_crashes['WEATHER_CONDITION'].value_counts()"
   ]
  },
  {
   "cell_type": "markdown",
   "id": "0cccf097",
   "metadata": {},
   "source": [
    "Lets investigate the Lighting Condition next."
   ]
  },
  {
   "cell_type": "code",
   "execution_count": 1570,
   "id": "d46b7e12",
   "metadata": {
    "execution": {
     "iopub.execute_input": "2023-04-22T07:21:14.352720Z",
     "iopub.status.busy": "2023-04-22T07:21:14.351868Z",
     "iopub.status.idle": "2023-04-22T07:21:14.372377Z",
     "shell.execute_reply": "2023-04-22T07:21:14.370856Z"
    },
    "papermill": {
     "duration": 0.142422,
     "end_time": "2023-04-22T07:21:14.375730",
     "exception": false,
     "start_time": "2023-04-22T07:21:14.233308",
     "status": "completed"
    },
    "tags": []
   },
   "outputs": [
    {
     "data": {
      "text/plain": [
       "DAYLIGHT                  89319\n",
       "DARKNESS, LIGHTED ROAD    50881\n",
       "DARKNESS                   7480\n",
       "DUSK                       4661\n",
       "DAWN                       3232\n",
       "UNKNOWN                    2636\n",
       "Name: LIGHTING_CONDITION, dtype: int64"
      ]
     },
     "execution_count": 1570,
     "metadata": {},
     "output_type": "execute_result"
    }
   ],
   "source": [
    "#look at the value counts\n",
    "cln_crashes['LIGHTING_CONDITION'].value_counts()"
   ]
  },
  {
   "cell_type": "markdown",
   "id": "d4a064b3",
   "metadata": {},
   "source": [
    "Lighting conditions is a lot more granular whereas we can work with a sllighly less granular approach. Day Time and Night Time would be sufficient categories to indicate what time of dat the crash ocurred. If Lighting Conditions are a significant cause, these can be explored further.\n",
    "\n",
    "For the unknown category, we can take a look at the crash hour and assign the correct bin aaccordingly.\n"
   ]
  },
  {
   "cell_type": "code",
   "execution_count": 1571,
   "id": "01fa15c2",
   "metadata": {
    "execution": {
     "iopub.execute_input": "2023-04-22T07:21:14.611937Z",
     "iopub.status.busy": "2023-04-22T07:21:14.611421Z",
     "iopub.status.idle": "2023-04-22T07:21:14.674432Z",
     "shell.execute_reply": "2023-04-22T07:21:14.672678Z"
    },
    "papermill": {
     "duration": 0.1853,
     "end_time": "2023-04-22T07:21:14.677859",
     "exception": false,
     "start_time": "2023-04-22T07:21:14.492559",
     "status": "completed"
    },
    "tags": []
   },
   "outputs": [],
   "source": [
    "#bin categories for Night time\n",
    "cln_crashes['LIGHTING_CONDITION'].replace(['DARKNESS, LIGHTED ROAD', \n",
    "                                         'DARKNESS, LIGHTED ROAD', \n",
    "                                         'DARKNESS', \n",
    "                                         'DAWN', \n",
    "                                         'OTHER', \n",
    "                                         ], 'NIGHT TIME', inplace=True)\n",
    "\n",
    "\n",
    "#bin categories for daytime\n",
    "cln_crashes['LIGHTING_CONDITION'].replace(['DAYLIGHT', \n",
    "                                         'DUSK',  \n",
    "                                         ], 'DAY TIME', inplace=True)"
   ]
  },
  {
   "cell_type": "code",
   "execution_count": 1572,
   "id": "d7827a66",
   "metadata": {
    "execution": {
     "iopub.execute_input": "2023-04-22T07:21:14.994629Z",
     "iopub.status.busy": "2023-04-22T07:21:14.994115Z",
     "iopub.status.idle": "2023-04-22T07:21:15.013683Z",
     "shell.execute_reply": "2023-04-22T07:21:15.011326Z"
    },
    "papermill": {
     "duration": 0.222702,
     "end_time": "2023-04-22T07:21:15.017183",
     "exception": false,
     "start_time": "2023-04-22T07:21:14.794481",
     "status": "completed"
    },
    "tags": []
   },
   "outputs": [
    {
     "data": {
      "text/plain": [
       "DAY TIME      93980\n",
       "NIGHT TIME    61593\n",
       "UNKNOWN        2636\n",
       "Name: LIGHTING_CONDITION, dtype: int64"
      ]
     },
     "execution_count": 1572,
     "metadata": {},
     "output_type": "execute_result"
    }
   ],
   "source": [
    "#check new value counts\n",
    "cln_crashes['LIGHTING_CONDITION'].value_counts()"
   ]
  },
  {
   "cell_type": "code",
   "execution_count": 1573,
   "id": "dac6fbae",
   "metadata": {
    "execution": {
     "iopub.execute_input": "2023-04-22T07:21:15.260706Z",
     "iopub.status.busy": "2023-04-22T07:21:15.260148Z",
     "iopub.status.idle": "2023-04-22T07:21:15.289845Z",
     "shell.execute_reply": "2023-04-22T07:21:15.288664Z"
    },
    "papermill": {
     "duration": 0.154578,
     "end_time": "2023-04-22T07:21:15.292601",
     "exception": false,
     "start_time": "2023-04-22T07:21:15.138023",
     "status": "completed"
    },
    "tags": []
   },
   "outputs": [
    {
     "data": {
      "text/plain": [
       "0     175\n",
       "18    161\n",
       "17    159\n",
       "16    143\n",
       "19    141\n",
       "20    126\n",
       "22    122\n",
       "21    121\n",
       "6     119\n",
       "15    118\n",
       "7     116\n",
       "23    106\n",
       "5     104\n",
       "14    104\n",
       "8     100\n",
       "2      95\n",
       "1      93\n",
       "9      86\n",
       "4      85\n",
       "12     83\n",
       "10     77\n",
       "3      74\n",
       "11     71\n",
       "13     57\n",
       "Name: CRASH_HOUR, dtype: int64"
      ]
     },
     "execution_count": 1573,
     "metadata": {},
     "output_type": "execute_result"
    }
   ],
   "source": [
    "#check unkown category crash hour\n",
    "cln_crashes[cln_crashes['LIGHTING_CONDITION'] == 'UNKNOWN']['CRASH_HOUR'].value_counts()"
   ]
  },
  {
   "cell_type": "code",
   "execution_count": 1574,
   "id": "9407e3c3",
   "metadata": {
    "execution": {
     "iopub.execute_input": "2023-04-22T07:21:15.539692Z",
     "iopub.status.busy": "2023-04-22T07:21:15.539250Z",
     "iopub.status.idle": "2023-04-22T07:21:15.563591Z",
     "shell.execute_reply": "2023-04-22T07:21:15.561343Z"
    },
    "papermill": {
     "duration": 0.149394,
     "end_time": "2023-04-22T07:21:15.567298",
     "exception": false,
     "start_time": "2023-04-22T07:21:15.417904",
     "status": "completed"
    },
    "tags": []
   },
   "outputs": [],
   "source": [
    "#assign day time according to general guidelines\n",
    "cln_crashes.loc[(cln_crashes['LIGHTING_CONDITION'] == 'UNKNOWN') & \n",
    "            ((cln_crashes['CRASH_HOUR']>=6) | (cln_crashes['CRASH_HOUR']<=19)),\n",
    "               'LIGHTING_CONDITION'] = 'DAY TIME'"
   ]
  },
  {
   "cell_type": "code",
   "execution_count": 1575,
   "id": "9845cd57",
   "metadata": {
    "execution": {
     "iopub.execute_input": "2023-04-22T07:21:15.807738Z",
     "iopub.status.busy": "2023-04-22T07:21:15.807250Z",
     "iopub.status.idle": "2023-04-22T07:21:15.832018Z",
     "shell.execute_reply": "2023-04-22T07:21:15.830037Z"
    },
    "papermill": {
     "duration": 0.150334,
     "end_time": "2023-04-22T07:21:15.835527",
     "exception": false,
     "start_time": "2023-04-22T07:21:15.685193",
     "status": "completed"
    },
    "tags": []
   },
   "outputs": [],
   "source": [
    "#assign night time according to general guidelines\n",
    "cln_crashes.loc[(cln_crashes['LIGHTING_CONDITION'] == 'UNKNOWN') & \n",
    "            ((cln_crashes['CRASH_HOUR']<=5) | (cln_crashes['CRASH_HOUR']>=18)),\n",
    "               'LIGHTING_CONDITION'] = 'NIGHT TIME'"
   ]
  },
  {
   "cell_type": "code",
   "execution_count": 1576,
   "id": "4f65d25e",
   "metadata": {
    "execution": {
     "iopub.execute_input": "2023-04-22T07:21:16.088968Z",
     "iopub.status.busy": "2023-04-22T07:21:16.088482Z",
     "iopub.status.idle": "2023-04-22T07:21:16.108352Z",
     "shell.execute_reply": "2023-04-22T07:21:16.107028Z"
    },
    "papermill": {
     "duration": 0.158151,
     "end_time": "2023-04-22T07:21:16.111724",
     "exception": false,
     "start_time": "2023-04-22T07:21:15.953573",
     "status": "completed"
    },
    "tags": []
   },
   "outputs": [
    {
     "data": {
      "text/plain": [
       "DAY TIME      96616\n",
       "NIGHT TIME    61593\n",
       "Name: LIGHTING_CONDITION, dtype: int64"
      ]
     },
     "execution_count": 1576,
     "metadata": {},
     "output_type": "execute_result"
    }
   ],
   "source": [
    "#check new value counts\n",
    "cln_crashes['LIGHTING_CONDITION'].value_counts()"
   ]
  },
  {
   "cell_type": "code",
   "execution_count": 1577,
   "id": "beb62d9a",
   "metadata": {
    "execution": {
     "iopub.execute_input": "2023-04-22T07:21:16.353848Z",
     "iopub.status.busy": "2023-04-22T07:21:16.353266Z",
     "iopub.status.idle": "2023-04-22T07:21:16.478038Z",
     "shell.execute_reply": "2023-04-22T07:21:16.475261Z"
    },
    "papermill": {
     "duration": 0.251452,
     "end_time": "2023-04-22T07:21:16.481509",
     "exception": false,
     "start_time": "2023-04-22T07:21:16.230057",
     "status": "completed"
    },
    "tags": []
   },
   "outputs": [
    {
     "name": "stdout",
     "output_type": "stream",
     "text": [
      "<class 'pandas.core.frame.DataFrame'>\n",
      "Int64Index: 158209 entries, 0 to 692777\n",
      "Data columns (total 21 columns):\n",
      " #   Column                   Non-Null Count   Dtype  \n",
      "---  ------                   --------------   -----  \n",
      " 0   CRASH_RECORD_ID          158209 non-null  object \n",
      " 1   CRASH_YEAR               158209 non-null  int64  \n",
      " 2   POSTED_SPEED_LIMIT       158209 non-null  int64  \n",
      " 3   DEVICE_CONDITION         158209 non-null  object \n",
      " 4   WEATHER_CONDITION        158209 non-null  object \n",
      " 5   LIGHTING_CONDITION       158209 non-null  object \n",
      " 6   CRASH_TYPE               158209 non-null  object \n",
      " 7   INTERSECTION_RELATED_I   158209 non-null  object \n",
      " 8   ROAD_DEFECT              158209 non-null  object \n",
      " 9   PRIM_CONTRIBUTORY_CAUSE  158209 non-null  object \n",
      " 10  SEC_CONTRIBUTORY_CAUSE   158209 non-null  object \n",
      " 11  NUM_UNITS                158209 non-null  int64  \n",
      " 12  WORK_ZONE_I              158209 non-null  object \n",
      " 13  WORKERS_PRESENT_I        158209 non-null  object \n",
      " 14  INJURIES_TOTAL           158209 non-null  float64\n",
      " 15  INJURIES_FATAL           158209 non-null  float64\n",
      " 16  CRASH_HOUR               158209 non-null  int64  \n",
      " 17  CRASH_DAY_OF_WEEK        158209 non-null  int64  \n",
      " 18  CRASH_MONTH              158209 non-null  int64  \n",
      " 19  LATITUDE                 158209 non-null  float64\n",
      " 20  LONGITUDE                158209 non-null  float64\n",
      "dtypes: float64(4), int64(6), object(11)\n",
      "memory usage: 26.6+ MB\n"
     ]
    }
   ],
   "source": [
    "#check dataframe summary after changes\n",
    "cln_crashes.info()"
   ]
  },
  {
   "cell_type": "markdown",
   "id": "728da182",
   "metadata": {},
   "source": [
    "Lets investigate the road defect column."
   ]
  },
  {
   "cell_type": "code",
   "execution_count": 1578,
   "id": "6451b91a",
   "metadata": {
    "execution": {
     "iopub.execute_input": "2023-04-22T07:21:16.998836Z",
     "iopub.status.busy": "2023-04-22T07:21:16.998372Z",
     "iopub.status.idle": "2023-04-22T07:21:17.021238Z",
     "shell.execute_reply": "2023-04-22T07:21:17.019717Z"
    },
    "papermill": {
     "duration": 0.151067,
     "end_time": "2023-04-22T07:21:17.025039",
     "exception": false,
     "start_time": "2023-04-22T07:21:16.873972",
     "status": "completed"
    },
    "tags": []
   },
   "outputs": [
    {
     "data": {
      "text/plain": [
       "NO DEFECTS           134050\n",
       "UNKNOWN               20600\n",
       "RUT, HOLES             1147\n",
       "OTHER                  1014\n",
       "WORN SURFACE            924\n",
       "SHOULDER DEFECT         326\n",
       "DEBRIS ON ROADWAY       148\n",
       "Name: ROAD_DEFECT, dtype: int64"
      ]
     },
     "execution_count": 1578,
     "metadata": {},
     "output_type": "execute_result"
    }
   ],
   "source": [
    "#check value counts\n",
    "cln_crashes['ROAD_DEFECT'].value_counts()"
   ]
  },
  {
   "cell_type": "markdown",
   "id": "5bf24497",
   "metadata": {},
   "source": [
    "2 binned categories will be sufficient to use. \n",
    "\n",
    "1. No Defects: shows that there were no defects at the crash location\n",
    "2. Defects: shows that there were defects at the crash location"
   ]
  },
  {
   "cell_type": "code",
   "execution_count": 1579,
   "id": "1d0637b8",
   "metadata": {
    "execution": {
     "iopub.execute_input": "2023-04-22T07:21:17.280354Z",
     "iopub.status.busy": "2023-04-22T07:21:17.279828Z",
     "iopub.status.idle": "2023-04-22T07:21:17.323347Z",
     "shell.execute_reply": "2023-04-22T07:21:17.321364Z"
    },
    "papermill": {
     "duration": 0.176486,
     "end_time": "2023-04-22T07:21:17.326876",
     "exception": false,
     "start_time": "2023-04-22T07:21:17.150390",
     "status": "completed"
    },
    "tags": []
   },
   "outputs": [],
   "source": [
    "#bin categories\n",
    "cln_crashes['ROAD_DEFECT'].replace(['UNKNOWN','RUT, HOLES', \n",
    "                                         'OTHER', \n",
    "                                         'WORN SURFACE', \n",
    "                                         'SHOULDER DEFECT', \n",
    "                                         'DEBRIS ON ROADWAY', \n",
    "                                         ], 'DEFECTS', inplace=True)"
   ]
  },
  {
   "cell_type": "code",
   "execution_count": 1580,
   "id": "e5e45553",
   "metadata": {
    "execution": {
     "iopub.execute_input": "2023-04-22T07:21:17.566860Z",
     "iopub.status.busy": "2023-04-22T07:21:17.566369Z",
     "iopub.status.idle": "2023-04-22T07:21:17.588380Z",
     "shell.execute_reply": "2023-04-22T07:21:17.586821Z"
    },
    "papermill": {
     "duration": 0.147634,
     "end_time": "2023-04-22T07:21:17.591814",
     "exception": false,
     "start_time": "2023-04-22T07:21:17.444180",
     "status": "completed"
    },
    "tags": []
   },
   "outputs": [
    {
     "data": {
      "text/plain": [
       "NO DEFECTS    134050\n",
       "DEFECTS        24159\n",
       "Name: ROAD_DEFECT, dtype: int64"
      ]
     },
     "execution_count": 1580,
     "metadata": {},
     "output_type": "execute_result"
    }
   ],
   "source": [
    "#check new value counts\n",
    "cln_crashes['ROAD_DEFECT'].value_counts()"
   ]
  },
  {
   "cell_type": "markdown",
   "id": "5e9bc61f",
   "metadata": {},
   "source": [
    "The next column to be investigated will be Number of Units. This column contains information on how many units weeree involved in the crash."
   ]
  },
  {
   "cell_type": "code",
   "execution_count": 1581,
   "id": "d23db9d7",
   "metadata": {
    "execution": {
     "iopub.execute_input": "2023-04-22T07:21:17.843650Z",
     "iopub.status.busy": "2023-04-22T07:21:17.843195Z",
     "iopub.status.idle": "2023-04-22T07:21:17.854964Z",
     "shell.execute_reply": "2023-04-22T07:21:17.853274Z"
    },
    "papermill": {
     "duration": 0.138507,
     "end_time": "2023-04-22T07:21:17.857587",
     "exception": false,
     "start_time": "2023-04-22T07:21:17.719080",
     "status": "completed"
    },
    "tags": []
   },
   "outputs": [
    {
     "data": {
      "text/plain": [
       "2     116347\n",
       "3      18777\n",
       "1      16256\n",
       "4       4848\n",
       "5       1324\n",
       "6        409\n",
       "7        140\n",
       "8         56\n",
       "9         26\n",
       "10        11\n",
       "11         5\n",
       "12         4\n",
       "18         3\n",
       "14         1\n",
       "15         1\n",
       "16         1\n",
       "Name: NUM_UNITS, dtype: int64"
      ]
     },
     "execution_count": 1581,
     "metadata": {},
     "output_type": "execute_result"
    }
   ],
   "source": [
    "#check the value counts\n",
    "cln_crashes['NUM_UNITS'].value_counts()"
   ]
  },
  {
   "cell_type": "markdown",
   "id": "ccc07dac",
   "metadata": {},
   "source": [
    "There are a few definite anomalies. It is very rare to see 5 or more units involved in a crash. That would mean that either there was a big pile up of vehicles because of a rare type of crash. "
   ]
  },
  {
   "cell_type": "code",
   "execution_count": 1582,
   "id": "85b9ab25",
   "metadata": {},
   "outputs": [
    {
     "data": {
      "text/plain": [
       "2     73.5401%\n",
       "3     11.8685%\n",
       "1      10.275%\n",
       "4      3.0643%\n",
       "5      0.8369%\n",
       "6      0.2585%\n",
       "7      0.0885%\n",
       "8      0.0354%\n",
       "9      0.0164%\n",
       "10      0.007%\n",
       "11     0.0032%\n",
       "12     0.0025%\n",
       "18     0.0019%\n",
       "14     0.0006%\n",
       "15     0.0006%\n",
       "16     0.0006%\n",
       "Name: NUM_UNITS, dtype: object"
      ]
     },
     "execution_count": 1582,
     "metadata": {},
     "output_type": "execute_result"
    }
   ],
   "source": [
    "#check the value counts percentages\n",
    "cln_crashes['NUM_UNITS'].value_counts(normalize=True).mul(100).round(4).astype(str) + '%'"
   ]
  },
  {
   "cell_type": "markdown",
   "id": "ee1966dc",
   "metadata": {},
   "source": [
    "Crashes with 5 or more units involved is extremely rare and totals to slightly more than 1%. Considering how rare these occurances are, it would be useful to ignore them and focus on the bigger pieces of the pie."
   ]
  },
  {
   "cell_type": "code",
   "execution_count": 1583,
   "id": "9af03b49",
   "metadata": {},
   "outputs": [],
   "source": [
    "#filter records for 5 or more\n",
    "cln_crashes = cln_crashes[cln_crashes['NUM_UNITS']<5]"
   ]
  },
  {
   "cell_type": "code",
   "execution_count": 1584,
   "id": "51cb5bb9",
   "metadata": {
    "execution": {
     "iopub.execute_input": "2023-04-22T07:21:18.099624Z",
     "iopub.status.busy": "2023-04-22T07:21:18.099199Z",
     "iopub.status.idle": "2023-04-22T07:21:18.109131Z",
     "shell.execute_reply": "2023-04-22T07:21:18.107195Z"
    },
    "papermill": {
     "duration": 0.134306,
     "end_time": "2023-04-22T07:21:18.112199",
     "exception": false,
     "start_time": "2023-04-22T07:21:17.977893",
     "status": "completed"
    },
    "tags": []
   },
   "outputs": [],
   "source": [
    "# cln_crashes.loc[cln_crashes['NUM_UNITS']>=6, 'NUM_UNITS'] = 6"
   ]
  },
  {
   "cell_type": "code",
   "execution_count": 1585,
   "id": "fee42c8c",
   "metadata": {
    "execution": {
     "iopub.execute_input": "2023-04-22T07:21:18.354412Z",
     "iopub.status.busy": "2023-04-22T07:21:18.353859Z",
     "iopub.status.idle": "2023-04-22T07:21:18.366065Z",
     "shell.execute_reply": "2023-04-22T07:21:18.364341Z"
    },
    "papermill": {
     "duration": 0.13815,
     "end_time": "2023-04-22T07:21:18.369046",
     "exception": false,
     "start_time": "2023-04-22T07:21:18.230896",
     "status": "completed"
    },
    "tags": []
   },
   "outputs": [
    {
     "data": {
      "text/plain": [
       "2    116347\n",
       "3     18777\n",
       "1     16256\n",
       "4      4848\n",
       "Name: NUM_UNITS, dtype: int64"
      ]
     },
     "execution_count": 1585,
     "metadata": {},
     "output_type": "execute_result"
    }
   ],
   "source": [
    "#check new vlaue counts\n",
    "cln_crashes['NUM_UNITS'].value_counts()"
   ]
  },
  {
   "cell_type": "markdown",
   "id": "0be74cf3",
   "metadata": {},
   "source": [
    "Next is the Primary Contributary Cause. This will be the target variable later on. Letss investigate thiss columnn."
   ]
  },
  {
   "cell_type": "code",
   "execution_count": 1586,
   "id": "5b812851",
   "metadata": {
    "execution": {
     "iopub.execute_input": "2023-04-22T07:21:18.608964Z",
     "iopub.status.busy": "2023-04-22T07:21:18.608458Z",
     "iopub.status.idle": "2023-04-22T07:21:18.632538Z",
     "shell.execute_reply": "2023-04-22T07:21:18.630377Z"
    },
    "papermill": {
     "duration": 0.14599,
     "end_time": "2023-04-22T07:21:18.635888",
     "exception": false,
     "start_time": "2023-04-22T07:21:18.489898",
     "status": "completed"
    },
    "scrolled": true,
    "tags": []
   },
   "outputs": [
    {
     "data": {
      "text/plain": [
       "UNABLE TO DETERMINE                                                                 47841\n",
       "FAILING TO YIELD RIGHT-OF-WAY                                                       25493\n",
       "FAILING TO REDUCE SPEED TO AVOID CRASH                                              11184\n",
       "FOLLOWING TOO CLOSELY                                                               10207\n",
       "DISREGARDING TRAFFIC SIGNALS                                                         7968\n",
       "NOT APPLICABLE                                                                       6268\n",
       "IMPROPER TURNING/NO SIGNAL                                                           5575\n",
       "DRIVING SKILLS/KNOWLEDGE/EXPERIENCE                                                  4456\n",
       "IMPROPER OVERTAKING/PASSING                                                          4052\n",
       "IMPROPER LANE USAGE                                                                  3913\n",
       "DISREGARDING STOP SIGN                                                               3691\n",
       "WEATHER                                                                              3256\n",
       "OPERATING VEHICLE IN ERRATIC, RECKLESS, CARELESS, NEGLIGENT OR AGGRESSIVE MANNER     3199\n",
       "PHYSICAL CONDITION OF DRIVER                                                         2435\n",
       "EQUIPMENT - VEHICLE CONDITION                                                        2302\n",
       "UNDER THE INFLUENCE OF ALCOHOL/DRUGS (USE WHEN ARREST IS EFFECTED)                   2245\n",
       "DISTRACTION - FROM INSIDE VEHICLE                                                    1732\n",
       "DRIVING ON WRONG SIDE/WRONG WAY                                                      1650\n",
       "VISION OBSCURED (SIGNS, TREE LIMBS, BUILDINGS, ETC.)                                 1488\n",
       "IMPROPER BACKING                                                                     1313\n",
       "DISTRACTION - FROM OUTSIDE VEHICLE                                                   1108\n",
       "DISREGARDING OTHER TRAFFIC SIGNS                                                      769\n",
       "EXCEEDING AUTHORIZED SPEED LIMIT                                                      614\n",
       "EVASIVE ACTION DUE TO ANIMAL, OBJECT, NONMOTORIST                                     508\n",
       "EXCEEDING SAFE SPEED FOR CONDITIONS                                                   488\n",
       "ROAD ENGINEERING/SURFACE/MARKING DEFECTS                                              404\n",
       "ROAD CONSTRUCTION/MAINTENANCE                                                         345\n",
       "CELL PHONE USE OTHER THAN TEXTING                                                     340\n",
       "DISREGARDING ROAD MARKINGS                                                            320\n",
       "HAD BEEN DRINKING (USE WHEN ARREST IS NOT MADE)                                       265\n",
       "ANIMAL                                                                                173\n",
       "TURNING RIGHT ON RED                                                                  151\n",
       "DISTRACTION - OTHER ELECTRONIC DEVICE (NAVIGATION DEVICE, DVD PLAYER, ETC.)           142\n",
       "DISREGARDING YIELD SIGN                                                               103\n",
       "TEXTING                                                                                99\n",
       "RELATED TO BUS STOP                                                                    61\n",
       "OBSTRUCTED CROSSWALKS                                                                  33\n",
       "BICYCLE ADVANCING LEGALLY ON RED LIGHT                                                 17\n",
       "PASSING STOPPED SCHOOL BUS                                                             13\n",
       "MOTORCYCLE ADVANCING LEGALLY ON RED LIGHT                                               7\n",
       "Name: PRIM_CONTRIBUTORY_CAUSE, dtype: int64"
      ]
     },
     "execution_count": 1586,
     "metadata": {},
     "output_type": "execute_result"
    }
   ],
   "source": [
    "#check valaue counts\n",
    "cln_crashes['PRIM_CONTRIBUTORY_CAUSE'].value_counts()"
   ]
  },
  {
   "cell_type": "code",
   "execution_count": 1587,
   "id": "6207baa1",
   "metadata": {
    "execution": {
     "iopub.execute_input": "2023-04-22T07:21:18.874697Z",
     "iopub.status.busy": "2023-04-22T07:21:18.874217Z",
     "iopub.status.idle": "2023-04-22T07:21:18.899548Z",
     "shell.execute_reply": "2023-04-22T07:21:18.897726Z"
    },
    "papermill": {
     "duration": 0.148318,
     "end_time": "2023-04-22T07:21:18.903410",
     "exception": false,
     "start_time": "2023-04-22T07:21:18.755092",
     "status": "completed"
    },
    "tags": []
   },
   "outputs": [
    {
     "data": {
      "text/plain": [
       "40"
      ]
     },
     "execution_count": 1587,
     "metadata": {},
     "output_type": "execute_result"
    }
   ],
   "source": [
    "#check total number of uniique categories\n",
    "len(cln_crashes['PRIM_CONTRIBUTORY_CAUSE'].unique())"
   ]
  },
  {
   "cell_type": "markdown",
   "id": "b396d72c",
   "metadata": {},
   "source": [
    "40 categories are a lot of categories to deal with. It would be very tedious for the model and proessing capability. \n",
    "\n",
    "Theree is clear overlap between multiple categoriesss in this column. These can be binned together to 4 major categories to make this dataset more manageable.\n",
    "\n",
    "1. Traffic Rules Violated: shows that there were traffic violations to be the primary cause of the crash\n",
    "\n",
    "2. Reckless/Improper Driving: shows that the drivver was not being safe with their driving\n",
    "\n",
    "3. Obstructions: shows that there were external distractions\n",
    "\n",
    "4. Compromised Driving: Although this can also be grouped together with unsafe driving, it stands as a category of its own because of comprimises like DUI or phone usage. It mainly covers any distractions from inside the vehicle."
   ]
  },
  {
   "cell_type": "code",
   "execution_count": 1588,
   "id": "c94c9efc",
   "metadata": {
    "execution": {
     "iopub.execute_input": "2023-04-22T07:21:19.145435Z",
     "iopub.status.busy": "2023-04-22T07:21:19.144955Z",
     "iopub.status.idle": "2023-04-22T07:21:19.369049Z",
     "shell.execute_reply": "2023-04-22T07:21:19.367325Z"
    },
    "papermill": {
     "duration": 0.350035,
     "end_time": "2023-04-22T07:21:19.372359",
     "exception": false,
     "start_time": "2023-04-22T07:21:19.022324",
     "status": "completed"
    },
    "tags": []
   },
   "outputs": [],
   "source": [
    "#bin categories\n",
    "\n",
    "#traffic ruless violated\n",
    "cln_crashes['PRIM_CONTRIBUTORY_CAUSE'].replace(['DISREGARDING TRAFFIC SIGNALS',\n",
    "                                                'DISREGARDING STOP SIGN', \n",
    "                                                'PASSING STOPPED SCHOOL BUS', \n",
    "                                                'RELATED TO BUS STOP', \n",
    "                                                'DISREGARDING YIELD SIGN', \n",
    "                                                'TURNING RIGHT ON RED',\n",
    "                                                'TURNING RIGHT ON RED',\n",
    "                                                'DISREGARDING OTHER TRAFFIC SIGNS',\n",
    "                                                'DRIVING ON WRONG SIDE/WRONG WAY',\n",
    "                                                'DISREGARDING ROAD MARKINGS',\n",
    "                                                'FAILING TO YIELD RIGHT-OF-WAY'\n",
    "                                         ], 'TRAFFIC RULES VIOLATED', inplace=True)\n",
    "\n",
    "#Reckless/Improper Driving\n",
    "cln_crashes['PRIM_CONTRIBUTORY_CAUSE'].replace(['IMPROPER TURNING/NO SIGNAL',\n",
    "                                                'DRIVING SKILLS/KNOWLEDGE/EXPERIENCE', \n",
    "                                                'IMPROPER OVERTAKING/PASSING', \n",
    "                                                'IMPROPER LANE USAGE', \n",
    "                                                'OPERATING VEHICLE IN ERRATIC, RECKLESS, CARELESS, NEGLIGENT OR AGGRESSIVE MANNER', \n",
    "                                                'DRIVING ON WRONG SIDE/WRONG WAY',\n",
    "                                                'IMPROPER BACKING',\n",
    "                                                'EXCEEDING AUTHORIZED SPEED LIMIT',\n",
    "                                                'EXCEEDING SAFE SPEED FOR CONDITIONS',\n",
    "                                                'FAILING TO REDUCE SPEED TO AVOID CRASH',\n",
    "                                                'FOLLOWING TOO CLOSELY'\n",
    "                                         ], 'RECKLESS/IMPROPER DRIVING', inplace=True)\n",
    "\n",
    "# #Overspeeding\n",
    "# cln_crashes['PRIM_CONTRIBUTORY_CAUSE'].replace(['EXCEEDING AUTHORIZED SPEED LIMIT',\n",
    "#                                                 'EXCEEDING SAFE SPEED FOR CONDITIONS'\n",
    "#                                          ], 'OVERSPEEDING', inplace=True)\n",
    "\n",
    "# #Overspeeding\n",
    "# cln_crashes['PRIM_CONTRIBUTORY_CAUSE'].replace(['WEATHER'\n",
    "#                                          ], \"NATURE'S IMPACT\", inplace=True)\n",
    "\n",
    "#Obstructions\n",
    "cln_crashes['PRIM_CONTRIBUTORY_CAUSE'].replace(['MOTORCYCLE ADVANCING LEGALLY ON RED LIGHT',\n",
    "                                                'BICYCLE ADVANCING LEGALLY ON RED LIGHT', \n",
    "                                                'OBSTRUCTED CROSSWALKS', \n",
    "                                                'ANIMAL', \n",
    "                                                'ROAD CONSTRUCTION/MAINTENANCE', \n",
    "                                                'ROAD ENGINEERING/SURFACE/MARKING DEFECTS',\n",
    "                                                'EVASIVE ACTION DUE TO ANIMAL, OBJECT, NONMOTORIST',\n",
    "                                                'VISION OBSCURED (SIGNS, TREE LIMBS, BUILDINGS, ETC.)',\n",
    "                                                'VISION OBSCURED (SIGNS, TREE LIMBS, BUILDINGS, ETC.)',\n",
    "                                                'DISTRACTION - FROM OUTSIDE VEHICLE',\n",
    "                                                'WEATHER'\n",
    "                                         ], 'OBSTRUCTIONS', inplace=True)\n",
    "\n",
    "#Compromised Driving\n",
    "cln_crashes['PRIM_CONTRIBUTORY_CAUSE'].replace(['PHYSICAL CONDITION OF DRIVER',\n",
    "                                                'UNDER THE INFLUENCE OF ALCOHOL/DRUGS (USE WHEN ARREST IS EFFECTED)', \n",
    "                                                'DISTRACTION - FROM INSIDE VEHICLE', \n",
    "                                                'CELL PHONE USE OTHER THAN TEXTING', \n",
    "                                                'HAD BEEN DRINKING (USE WHEN ARREST IS NOT MADE)', \n",
    "                                                'DISTRACTION - OTHER ELECTRONIC DEVICE (NAVIGATION DEVICE, DVD PLAYER, ETC.)',\n",
    "                                                \n",
    "                                                'EQUIPMENT - VEHICLE CONDITION',\n",
    "                                                'TEXTING'\n",
    "                                         ], 'COMPROMISED DRIVING', inplace=True)\n",
    "\n",
    "\n"
   ]
  },
  {
   "cell_type": "code",
   "execution_count": 1589,
   "id": "fece0244",
   "metadata": {
    "execution": {
     "iopub.execute_input": "2023-04-22T07:21:19.607263Z",
     "iopub.status.busy": "2023-04-22T07:21:19.606456Z",
     "iopub.status.idle": "2023-04-22T07:21:19.628915Z",
     "shell.execute_reply": "2023-04-22T07:21:19.627131Z"
    },
    "papermill": {
     "duration": 0.144517,
     "end_time": "2023-04-22T07:21:19.632024",
     "exception": false,
     "start_time": "2023-04-22T07:21:19.487507",
     "status": "completed"
    },
    "scrolled": true,
    "tags": []
   },
   "outputs": [
    {
     "data": {
      "text/plain": [
       "UNABLE TO DETERMINE          47841\n",
       "RECKLESS/IMPROPER DRIVING    45001\n",
       "TRAFFIC RULES VIOLATED       40219\n",
       "COMPROMISED DRIVING           9560\n",
       "OBSTRUCTIONS                  7339\n",
       "NOT APPLICABLE                6268\n",
       "Name: PRIM_CONTRIBUTORY_CAUSE, dtype: int64"
      ]
     },
     "execution_count": 1589,
     "metadata": {},
     "output_type": "execute_result"
    }
   ],
   "source": [
    "#check new vaalue counts\n",
    "cln_crashes['PRIM_CONTRIBUTORY_CAUSE'].value_counts()"
   ]
  },
  {
   "cell_type": "code",
   "execution_count": 1590,
   "id": "2f472924",
   "metadata": {},
   "outputs": [
    {
     "data": {
      "text/plain": [
       "UNABLE TO DETERMINE          30.6226%\n",
       "RECKLESS/IMPROPER DRIVING    28.8047%\n",
       "TRAFFIC RULES VIOLATED       25.7438%\n",
       "COMPROMISED DRIVING           6.1193%\n",
       "OBSTRUCTIONS                  4.6976%\n",
       "NOT APPLICABLE                4.0121%\n",
       "Name: PRIM_CONTRIBUTORY_CAUSE, dtype: object"
      ]
     },
     "execution_count": 1590,
     "metadata": {},
     "output_type": "execute_result"
    }
   ],
   "source": [
    "#check new vaalue counts percentages\n",
    "cln_crashes['PRIM_CONTRIBUTORY_CAUSE'].value_counts(normalize=True).mul(100).round(4).astype(str) + '%'"
   ]
  },
  {
   "cell_type": "markdown",
   "id": "c33fb111",
   "metadata": {},
   "source": [
    "Next is the second contributory cause. We can use the same binn categories as we did for the primary one but before we do that, we are going to see if there is a ssecondary contributory cause listed for records that were unable to determine or not applicable. The goal is to only have a singular cause column. Primaary cause will take precedence but where we don't have enough information, we can use the secondary one to fill the gaps."
   ]
  },
  {
   "cell_type": "code",
   "execution_count": 1591,
   "id": "217e2f0e",
   "metadata": {
    "execution": {
     "iopub.execute_input": "2023-04-22T07:21:19.951160Z",
     "iopub.status.busy": "2023-04-22T07:21:19.949307Z",
     "iopub.status.idle": "2023-04-22T07:21:19.974996Z",
     "shell.execute_reply": "2023-04-22T07:21:19.973398Z"
    },
    "papermill": {
     "duration": 0.15055,
     "end_time": "2023-04-22T07:21:19.978106",
     "exception": false,
     "start_time": "2023-04-22T07:21:19.827556",
     "status": "completed"
    },
    "tags": []
   },
   "outputs": [
    {
     "data": {
      "text/plain": [
       "NOT APPLICABLE                                                                      61028\n",
       "UNABLE TO DETERMINE                                                                 50601\n",
       "FAILING TO REDUCE SPEED TO AVOID CRASH                                               8974\n",
       "FAILING TO YIELD RIGHT-OF-WAY                                                        6721\n",
       "DRIVING SKILLS/KNOWLEDGE/EXPERIENCE                                                  5338\n",
       "FOLLOWING TOO CLOSELY                                                                2960\n",
       "WEATHER                                                                              2708\n",
       "IMPROPER TURNING/NO SIGNAL                                                           1984\n",
       "IMPROPER LANE USAGE                                                                  1939\n",
       "OPERATING VEHICLE IN ERRATIC, RECKLESS, CARELESS, NEGLIGENT OR AGGRESSIVE MANNER     1665\n",
       "IMPROPER OVERTAKING/PASSING                                                          1542\n",
       "DISREGARDING TRAFFIC SIGNALS                                                         1459\n",
       "PHYSICAL CONDITION OF DRIVER                                                         1061\n",
       "VISION OBSCURED (SIGNS, TREE LIMBS, BUILDINGS, ETC.)                                  938\n",
       "DISREGARDING STOP SIGN                                                                877\n",
       "DISTRACTION - FROM INSIDE VEHICLE                                                     733\n",
       "UNDER THE INFLUENCE OF ALCOHOL/DRUGS (USE WHEN ARREST IS EFFECTED)                    716\n",
       "EQUIPMENT - VEHICLE CONDITION                                                         691\n",
       "DRIVING ON WRONG SIDE/WRONG WAY                                                       609\n",
       "EXCEEDING AUTHORIZED SPEED LIMIT                                                      490\n",
       "DISTRACTION - FROM OUTSIDE VEHICLE                                                    440\n",
       "EXCEEDING SAFE SPEED FOR CONDITIONS                                                   403\n",
       "DISREGARDING OTHER TRAFFIC SIGNS                                                      326\n",
       "IMPROPER BACKING                                                                      320\n",
       "HAD BEEN DRINKING (USE WHEN ARREST IS NOT MADE)                                       247\n",
       "DISREGARDING ROAD MARKINGS                                                            234\n",
       "ROAD CONSTRUCTION/MAINTENANCE                                                         193\n",
       "CELL PHONE USE OTHER THAN TEXTING                                                     185\n",
       "ROAD ENGINEERING/SURFACE/MARKING DEFECTS                                              173\n",
       "EVASIVE ACTION DUE TO ANIMAL, OBJECT, NONMOTORIST                                     137\n",
       "DISTRACTION - OTHER ELECTRONIC DEVICE (NAVIGATION DEVICE, DVD PLAYER, ETC.)            87\n",
       "TURNING RIGHT ON RED                                                                   84\n",
       "DISREGARDING YIELD SIGN                                                                78\n",
       "RELATED TO BUS STOP                                                                    76\n",
       "ANIMAL                                                                                 71\n",
       "BICYCLE ADVANCING LEGALLY ON RED LIGHT                                                 44\n",
       "TEXTING                                                                                36\n",
       "OBSTRUCTED CROSSWALKS                                                                  30\n",
       "PASSING STOPPED SCHOOL BUS                                                             18\n",
       "MOTORCYCLE ADVANCING LEGALLY ON RED LIGHT                                              12\n",
       "Name: SEC_CONTRIBUTORY_CAUSE, dtype: int64"
      ]
     },
     "execution_count": 1591,
     "metadata": {},
     "output_type": "execute_result"
    }
   ],
   "source": [
    "#check value counts\n",
    "cln_crashes['SEC_CONTRIBUTORY_CAUSE'].value_counts()"
   ]
  },
  {
   "cell_type": "code",
   "execution_count": 1592,
   "id": "56e503a8",
   "metadata": {
    "execution": {
     "iopub.execute_input": "2023-04-22T07:21:19.145435Z",
     "iopub.status.busy": "2023-04-22T07:21:19.144955Z",
     "iopub.status.idle": "2023-04-22T07:21:19.369049Z",
     "shell.execute_reply": "2023-04-22T07:21:19.367325Z"
    },
    "papermill": {
     "duration": 0.350035,
     "end_time": "2023-04-22T07:21:19.372359",
     "exception": false,
     "start_time": "2023-04-22T07:21:19.022324",
     "status": "completed"
    },
    "tags": []
   },
   "outputs": [],
   "source": [
    "#bin categories\n",
    "\n",
    "#traffic ruless violated\n",
    "cln_crashes['SEC_CONTRIBUTORY_CAUSE'].replace(['DISREGARDING TRAFFIC SIGNALS',\n",
    "                                                'DISREGARDING STOP SIGN', \n",
    "                                                'PASSING STOPPED SCHOOL BUS', \n",
    "                                                'RELATED TO BUS STOP', \n",
    "                                                'DISREGARDING YIELD SIGN', \n",
    "                                                'TURNING RIGHT ON RED',\n",
    "                                                'TURNING RIGHT ON RED',\n",
    "                                                'DISREGARDING OTHER TRAFFIC SIGNS',\n",
    "                                                'DRIVING ON WRONG SIDE/WRONG WAY',\n",
    "                                                'DISREGARDING ROAD MARKINGS',\n",
    "                                                'FAILING TO YIELD RIGHT-OF-WAY'\n",
    "                                         ], 'TRAFFIC RULES VIOLATED', inplace=True)\n",
    "\n",
    "#Reckless/Improper Driving\n",
    "cln_crashes['SEC_CONTRIBUTORY_CAUSE'].replace(['IMPROPER TURNING/NO SIGNAL',\n",
    "                                                'DRIVING SKILLS/KNOWLEDGE/EXPERIENCE', \n",
    "                                                'IMPROPER OVERTAKING/PASSING', \n",
    "                                                'IMPROPER LANE USAGE', \n",
    "                                                'OPERATING VEHICLE IN ERRATIC, RECKLESS, CARELESS, NEGLIGENT OR AGGRESSIVE MANNER', \n",
    "                                                'DRIVING ON WRONG SIDE/WRONG WAY',\n",
    "                                                'IMPROPER BACKING',\n",
    "                                                'EXCEEDING AUTHORIZED SPEED LIMIT',\n",
    "                                                'EXCEEDING SAFE SPEED FOR CONDITIONS',\n",
    "                                                'FAILING TO REDUCE SPEED TO AVOID CRASH',\n",
    "                                                'FOLLOWING TOO CLOSELY'\n",
    "                                         ], 'RECKLESS/IMPROPER DRIVING', inplace=True)\n",
    "\n",
    "\n",
    "#Obstructions\n",
    "cln_crashes['SEC_CONTRIBUTORY_CAUSE'].replace(['MOTORCYCLE ADVANCING LEGALLY ON RED LIGHT',\n",
    "                                                'BICYCLE ADVANCING LEGALLY ON RED LIGHT', \n",
    "                                                'OBSTRUCTED CROSSWALKS', \n",
    "                                                'ANIMAL', \n",
    "                                                'ROAD CONSTRUCTION/MAINTENANCE', \n",
    "                                                'ROAD ENGINEERING/SURFACE/MARKING DEFECTS',\n",
    "                                                'EVASIVE ACTION DUE TO ANIMAL, OBJECT, NONMOTORIST',\n",
    "                                                'VISION OBSCURED (SIGNS, TREE LIMBS, BUILDINGS, ETC.)',\n",
    "                                                'VISION OBSCURED (SIGNS, TREE LIMBS, BUILDINGS, ETC.)',\n",
    "                                                'DISTRACTION - FROM OUTSIDE VEHICLE',\n",
    "                                                'WEATHER'\n",
    "                                         ], 'OBSTRUCTIONS', inplace=True)\n",
    "\n",
    "#Compromised Driving\n",
    "cln_crashes['SEC_CONTRIBUTORY_CAUSE'].replace(['PHYSICAL CONDITION OF DRIVER',\n",
    "                                                'UNDER THE INFLUENCE OF ALCOHOL/DRUGS (USE WHEN ARREST IS EFFECTED)', \n",
    "                                                'DISTRACTION - FROM INSIDE VEHICLE', \n",
    "                                                'CELL PHONE USE OTHER THAN TEXTING', \n",
    "                                                'HAD BEEN DRINKING (USE WHEN ARREST IS NOT MADE)', \n",
    "                                                'DISTRACTION - OTHER ELECTRONIC DEVICE (NAVIGATION DEVICE, DVD PLAYER, ETC.)',\n",
    "                                                \n",
    "                                                'EQUIPMENT - VEHICLE CONDITION',\n",
    "                                                'TEXTING'\n",
    "                                         ], 'COMPROMISED DRIVING', inplace=True)\n",
    "\n",
    "\n"
   ]
  },
  {
   "cell_type": "code",
   "execution_count": 1593,
   "id": "ab7193ee",
   "metadata": {
    "execution": {
     "iopub.execute_input": "2023-04-22T07:21:19.607263Z",
     "iopub.status.busy": "2023-04-22T07:21:19.606456Z",
     "iopub.status.idle": "2023-04-22T07:21:19.628915Z",
     "shell.execute_reply": "2023-04-22T07:21:19.627131Z"
    },
    "papermill": {
     "duration": 0.144517,
     "end_time": "2023-04-22T07:21:19.632024",
     "exception": false,
     "start_time": "2023-04-22T07:21:19.487507",
     "status": "completed"
    },
    "scrolled": true,
    "tags": []
   },
   "outputs": [
    {
     "data": {
      "text/plain": [
       "NOT APPLICABLE               61028\n",
       "UNABLE TO DETERMINE          50601\n",
       "RECKLESS/IMPROPER DRIVING    25615\n",
       "TRAFFIC RULES VIOLATED       10482\n",
       "OBSTRUCTIONS                  4746\n",
       "COMPROMISED DRIVING           3756\n",
       "Name: SEC_CONTRIBUTORY_CAUSE, dtype: int64"
      ]
     },
     "execution_count": 1593,
     "metadata": {},
     "output_type": "execute_result"
    }
   ],
   "source": [
    "#check new vaalue counts\n",
    "cln_crashes['SEC_CONTRIBUTORY_CAUSE'].value_counts()"
   ]
  },
  {
   "cell_type": "code",
   "execution_count": 1594,
   "id": "f85b8ab1",
   "metadata": {
    "execution": {
     "iopub.execute_input": "2023-04-22T07:21:19.145435Z",
     "iopub.status.busy": "2023-04-22T07:21:19.144955Z",
     "iopub.status.idle": "2023-04-22T07:21:19.369049Z",
     "shell.execute_reply": "2023-04-22T07:21:19.367325Z"
    },
    "papermill": {
     "duration": 0.350035,
     "end_time": "2023-04-22T07:21:19.372359",
     "exception": false,
     "start_time": "2023-04-22T07:21:19.022324",
     "status": "completed"
    },
    "tags": []
   },
   "outputs": [],
   "source": [
    "#bin categories\n",
    "\n",
    "#traffic ruless violated\n",
    "cln_crashes['PRIM_CONTRIBUTORY_CAUSE'].replace(['DISREGARDING TRAFFIC SIGNALS',\n",
    "                                                'DISREGARDING STOP SIGN', \n",
    "                                                'PASSING STOPPED SCHOOL BUS', \n",
    "                                                'RELATED TO BUS STOP', \n",
    "                                                'DISREGARDING YIELD SIGN', \n",
    "                                                'TURNING RIGHT ON RED',\n",
    "                                                'TURNING RIGHT ON RED',\n",
    "                                                'DISREGARDING OTHER TRAFFIC SIGNS',\n",
    "                                                'DRIVING ON WRONG SIDE/WRONG WAY',\n",
    "                                                'DISREGARDING ROAD MARKINGS',\n",
    "                                                'FAILING TO YIELD RIGHT-OF-WAY'\n",
    "                                         ], 'TRAFFIC RULES VIOLATED', inplace=True)\n",
    "\n",
    "#Reckless/Improper Driving\n",
    "cln_crashes['PRIM_CONTRIBUTORY_CAUSE'].replace(['IMPROPER TURNING/NO SIGNAL',\n",
    "                                                'DRIVING SKILLS/KNOWLEDGE/EXPERIENCE', \n",
    "                                                'IMPROPER OVERTAKING/PASSING', \n",
    "                                                'IMPROPER LANE USAGE', \n",
    "                                                'OPERATING VEHICLE IN ERRATIC, RECKLESS, CARELESS, NEGLIGENT OR AGGRESSIVE MANNER', \n",
    "                                                'DRIVING ON WRONG SIDE/WRONG WAY',\n",
    "                                                'IMPROPER BACKING',\n",
    "                                                'EXCEEDING AUTHORIZED SPEED LIMIT',\n",
    "                                                'EXCEEDING SAFE SPEED FOR CONDITIONS',\n",
    "                                                'FAILING TO REDUCE SPEED TO AVOID CRASH',\n",
    "                                                'FOLLOWING TOO CLOSELY'\n",
    "                                         ], 'RECKLESS/IMPROPER DRIVING', inplace=True)\n",
    "\n",
    "# #Overspeeding\n",
    "# cln_crashes['PRIM_CONTRIBUTORY_CAUSE'].replace(['EXCEEDING AUTHORIZED SPEED LIMIT',\n",
    "#                                                 'EXCEEDING SAFE SPEED FOR CONDITIONS'\n",
    "#                                          ], 'OVERSPEEDING', inplace=True)\n",
    "\n",
    "# #Overspeeding\n",
    "# cln_crashes['PRIM_CONTRIBUTORY_CAUSE'].replace(['WEATHER'\n",
    "#                                          ], \"NATURE'S IMPACT\", inplace=True)\n",
    "\n",
    "#Obstructions\n",
    "cln_crashes['PRIM_CONTRIBUTORY_CAUSE'].replace(['MOTORCYCLE ADVANCING LEGALLY ON RED LIGHT',\n",
    "                                                'BICYCLE ADVANCING LEGALLY ON RED LIGHT', \n",
    "                                                'OBSTRUCTED CROSSWALKS', \n",
    "                                                'ANIMAL', \n",
    "                                                'ROAD CONSTRUCTION/MAINTENANCE', \n",
    "                                                'ROAD ENGINEERING/SURFACE/MARKING DEFECTS',\n",
    "                                                'EVASIVE ACTION DUE TO ANIMAL, OBJECT, NONMOTORIST',\n",
    "                                                'VISION OBSCURED (SIGNS, TREE LIMBS, BUILDINGS, ETC.)',\n",
    "                                                'VISION OBSCURED (SIGNS, TREE LIMBS, BUILDINGS, ETC.)',\n",
    "                                                'DISTRACTION - FROM OUTSIDE VEHICLE',\n",
    "                                                'WEATHER'\n",
    "                                         ], 'OBSTRUCTIONS', inplace=True)\n",
    "\n",
    "#Compromised Driving\n",
    "cln_crashes['PRIM_CONTRIBUTORY_CAUSE'].replace(['PHYSICAL CONDITION OF DRIVER',\n",
    "                                                'UNDER THE INFLUENCE OF ALCOHOL/DRUGS (USE WHEN ARREST IS EFFECTED)', \n",
    "                                                'DISTRACTION - FROM INSIDE VEHICLE', \n",
    "                                                'CELL PHONE USE OTHER THAN TEXTING', \n",
    "                                                'HAD BEEN DRINKING (USE WHEN ARREST IS NOT MADE)', \n",
    "                                                'DISTRACTION - OTHER ELECTRONIC DEVICE (NAVIGATION DEVICE, DVD PLAYER, ETC.)',\n",
    "                                                \n",
    "                                                'EQUIPMENT - VEHICLE CONDITION',\n",
    "                                                'TEXTING'\n",
    "                                         ], 'COMPROMISED DRIVING', inplace=True)\n",
    "\n",
    "\n"
   ]
  },
  {
   "cell_type": "code",
   "execution_count": 1595,
   "id": "0469be77",
   "metadata": {
    "execution": {
     "iopub.execute_input": "2023-04-22T07:21:19.607263Z",
     "iopub.status.busy": "2023-04-22T07:21:19.606456Z",
     "iopub.status.idle": "2023-04-22T07:21:19.628915Z",
     "shell.execute_reply": "2023-04-22T07:21:19.627131Z"
    },
    "papermill": {
     "duration": 0.144517,
     "end_time": "2023-04-22T07:21:19.632024",
     "exception": false,
     "start_time": "2023-04-22T07:21:19.487507",
     "status": "completed"
    },
    "scrolled": true,
    "tags": []
   },
   "outputs": [
    {
     "data": {
      "text/plain": [
       "UNABLE TO DETERMINE          47841\n",
       "RECKLESS/IMPROPER DRIVING    45001\n",
       "TRAFFIC RULES VIOLATED       40219\n",
       "COMPROMISED DRIVING           9560\n",
       "OBSTRUCTIONS                  7339\n",
       "NOT APPLICABLE                6268\n",
       "Name: PRIM_CONTRIBUTORY_CAUSE, dtype: int64"
      ]
     },
     "execution_count": 1595,
     "metadata": {},
     "output_type": "execute_result"
    }
   ],
   "source": [
    "#check new vaalue counts\n",
    "cln_crashes['PRIM_CONTRIBUTORY_CAUSE'].value_counts()"
   ]
  },
  {
   "cell_type": "markdown",
   "id": "4472e81f",
   "metadata": {},
   "source": [
    "Now we will check whether there are any records that have 'unable to determine' listed the in primary column but have a cause listed in the secondary column."
   ]
  },
  {
   "cell_type": "code",
   "execution_count": 1596,
   "id": "b568a0ee",
   "metadata": {
    "execution": {
     "iopub.execute_input": "2023-04-22T07:21:20.227306Z",
     "iopub.status.busy": "2023-04-22T07:21:20.226856Z",
     "iopub.status.idle": "2023-04-22T07:21:20.275202Z",
     "shell.execute_reply": "2023-04-22T07:21:20.273549Z"
    },
    "papermill": {
     "duration": 0.174144,
     "end_time": "2023-04-22T07:21:20.278521",
     "exception": false,
     "start_time": "2023-04-22T07:21:20.104377",
     "status": "completed"
    },
    "tags": []
   },
   "outputs": [
    {
     "data": {
      "text/plain": [
       "UNABLE TO DETERMINE          27467\n",
       "NOT APPLICABLE               18248\n",
       "RECKLESS/IMPROPER DRIVING     1131\n",
       "TRAFFIC RULES VIOLATED         375\n",
       "OBSTRUCTIONS                   371\n",
       "COMPROMISED DRIVING            249\n",
       "Name: SEC_CONTRIBUTORY_CAUSE, dtype: int64"
      ]
     },
     "execution_count": 1596,
     "metadata": {},
     "output_type": "execute_result"
    }
   ],
   "source": [
    "#check value counts for primary unable to determine cause\n",
    "cln_crashes[cln_crashes['PRIM_CONTRIBUTORY_CAUSE'] == 'UNABLE TO DETERMINE']['SEC_CONTRIBUTORY_CAUSE'].value_counts()"
   ]
  },
  {
   "cell_type": "markdown",
   "id": "d0063d04",
   "metadata": {},
   "source": [
    "The majority of the records are also either 'Unable to Determine' or 'Not Applicable' but there are some records where we can leverage this data to fill up gaps in the primary column."
   ]
  },
  {
   "cell_type": "code",
   "execution_count": 1597,
   "id": "36aa4f07",
   "metadata": {
    "execution": {
     "iopub.execute_input": "2023-04-22T07:21:20.525089Z",
     "iopub.status.busy": "2023-04-22T07:21:20.524609Z",
     "iopub.status.idle": "2023-04-22T07:21:20.557294Z",
     "shell.execute_reply": "2023-04-22T07:21:20.554391Z"
    },
    "papermill": {
     "duration": 0.159889,
     "end_time": "2023-04-22T07:21:20.560521",
     "exception": false,
     "start_time": "2023-04-22T07:21:20.400632",
     "status": "completed"
    },
    "tags": []
   },
   "outputs": [
    {
     "data": {
      "text/plain": [
       "NOT APPLICABLE               5753\n",
       "UNABLE TO DETERMINE           314\n",
       "RECKLESS/IMPROPER DRIVING      70\n",
       "OBSTRUCTIONS                   57\n",
       "TRAFFIC RULES VIOLATED         45\n",
       "COMPROMISED DRIVING            29\n",
       "Name: SEC_CONTRIBUTORY_CAUSE, dtype: int64"
      ]
     },
     "execution_count": 1597,
     "metadata": {},
     "output_type": "execute_result"
    }
   ],
   "source": [
    "#check value counts for primary not applicable cause\n",
    "cln_crashes[cln_crashes['PRIM_CONTRIBUTORY_CAUSE'] == 'NOT APPLICABLE']['SEC_CONTRIBUTORY_CAUSE'].value_counts()"
   ]
  },
  {
   "cell_type": "markdown",
   "id": "40c53a93",
   "metadata": {},
   "source": [
    "Similarly, the majority of the records are also either 'Unable to Determine' or 'Not Applicable' but there are some records where we can leverage this data to fill up gaps in the primary column."
   ]
  },
  {
   "cell_type": "markdown",
   "id": "4f9d0228",
   "metadata": {},
   "source": [
    "Now, lets fill in the gaps for primary causes"
   ]
  },
  {
   "cell_type": "code",
   "execution_count": 1598,
   "id": "65809d45",
   "metadata": {
    "execution": {
     "iopub.execute_input": "2023-04-22T07:21:22.379191Z",
     "iopub.status.busy": "2023-04-22T07:21:22.378238Z",
     "iopub.status.idle": "2023-04-22T07:21:56.412385Z",
     "shell.execute_reply": "2023-04-22T07:21:56.410554Z"
    },
    "papermill": {
     "duration": 34.168341,
     "end_time": "2023-04-22T07:21:56.416228",
     "exception": false,
     "start_time": "2023-04-22T07:21:22.247887",
     "status": "completed"
    },
    "tags": []
   },
   "outputs": [
    {
     "name": "stderr",
     "output_type": "stream",
     "text": [
      "/var/folders/qv/0z2v23tn1f1b2fnpqqgqsxch0000gn/T/ipykernel_4590/1266115186.py:6: SettingWithCopyWarning: \n",
      "A value is trying to be set on a copy of a slice from a DataFrame\n",
      "\n",
      "See the caveats in the documentation: https://pandas.pydata.org/pandas-docs/stable/user_guide/indexing.html#returning-a-view-versus-a-copy\n",
      "  cln_crashes['PRIM_CONTRIBUTORY_CAUSE'][ind] = row['SEC_CONTRIBUTORY_CAUSE']\n"
     ]
    }
   ],
   "source": [
    "#identify the records from thee primary column and replace with secondary information\n",
    "for ind, row in cln_crashes[['PRIM_CONTRIBUTORY_CAUSE', 'SEC_CONTRIBUTORY_CAUSE']].iterrows():\n",
    "    if (row['PRIM_CONTRIBUTORY_CAUSE'] != row['SEC_CONTRIBUTORY_CAUSE']) & (\n",
    "        (row['PRIM_CONTRIBUTORY_CAUSE'] == 'UNABLE TO DETERMINE') | \n",
    "         (row['PRIM_CONTRIBUTORY_CAUSE'] == 'NOT APPLICABLE')):\n",
    "            cln_crashes['PRIM_CONTRIBUTORY_CAUSE'][ind] = row['SEC_CONTRIBUTORY_CAUSE']\n",
    "            "
   ]
  },
  {
   "cell_type": "code",
   "execution_count": 1599,
   "id": "31d89b42",
   "metadata": {
    "execution": {
     "iopub.execute_input": "2023-04-22T07:21:56.677450Z",
     "iopub.status.busy": "2023-04-22T07:21:56.676205Z",
     "iopub.status.idle": "2023-04-22T07:21:56.699977Z",
     "shell.execute_reply": "2023-04-22T07:21:56.698312Z"
    },
    "papermill": {
     "duration": 0.15341,
     "end_time": "2023-04-22T07:21:56.703181",
     "exception": false,
     "start_time": "2023-04-22T07:21:56.549771",
     "status": "completed"
    },
    "tags": []
   },
   "outputs": [
    {
     "data": {
      "text/plain": [
       "RECKLESS/IMPROPER DRIVING    46202\n",
       "TRAFFIC RULES VIOLATED       40639\n",
       "UNABLE TO DETERMINE          27781\n",
       "NOT APPLICABLE               24001\n",
       "COMPROMISED DRIVING           9838\n",
       "OBSTRUCTIONS                  7767\n",
       "Name: PRIM_CONTRIBUTORY_CAUSE, dtype: int64"
      ]
     },
     "execution_count": 1599,
     "metadata": {},
     "output_type": "execute_result"
    }
   ],
   "source": [
    "cln_crashes['PRIM_CONTRIBUTORY_CAUSE'].value_counts()"
   ]
  },
  {
   "cell_type": "markdown",
   "id": "7ecced37",
   "metadata": {},
   "source": [
    "We can set aside the Unable to determine category and predict it with our final model to get an understanding of what it could have been.\n",
    "\n",
    "For the Not Applicable Category, there is no explanation as to what this means. Rather than using data that we don't understand, it would be better to drop it."
   ]
  },
  {
   "cell_type": "code",
   "execution_count": 1600,
   "id": "7b802a75",
   "metadata": {},
   "outputs": [],
   "source": [
    "#filter out not applicaable category\n",
    "cln_crashes = cln_crashes[cln_crashes['PRIM_CONTRIBUTORY_CAUSE'] != 'NOT APPLICABLE']"
   ]
  },
  {
   "cell_type": "code",
   "execution_count": 1601,
   "id": "837c1c20",
   "metadata": {},
   "outputs": [
    {
     "data": {
      "text/plain": [
       "RECKLESS/IMPROPER DRIVING    46202\n",
       "TRAFFIC RULES VIOLATED       40639\n",
       "UNABLE TO DETERMINE          27781\n",
       "COMPROMISED DRIVING           9838\n",
       "OBSTRUCTIONS                  7767\n",
       "Name: PRIM_CONTRIBUTORY_CAUSE, dtype: int64"
      ]
     },
     "execution_count": 1601,
     "metadata": {},
     "output_type": "execute_result"
    }
   ],
   "source": [
    "#check new vaalue counts\n",
    "cln_crashes['PRIM_CONTRIBUTORY_CAUSE'].value_counts()"
   ]
  },
  {
   "cell_type": "markdown",
   "id": "6df88cb3",
   "metadata": {},
   "source": [
    "With only unable to determine left, the secondary column can be dropped"
   ]
  },
  {
   "cell_type": "code",
   "execution_count": 1602,
   "id": "af46f5a3",
   "metadata": {
    "execution": {
     "iopub.execute_input": "2023-04-22T07:21:56.962050Z",
     "iopub.status.busy": "2023-04-22T07:21:56.961042Z",
     "iopub.status.idle": "2023-04-22T07:21:56.996814Z",
     "shell.execute_reply": "2023-04-22T07:21:56.995447Z"
    },
    "papermill": {
     "duration": 0.172306,
     "end_time": "2023-04-22T07:21:57.000210",
     "exception": false,
     "start_time": "2023-04-22T07:21:56.827904",
     "status": "completed"
    },
    "tags": []
   },
   "outputs": [
    {
     "name": "stderr",
     "output_type": "stream",
     "text": [
      "/var/folders/qv/0z2v23tn1f1b2fnpqqgqsxch0000gn/T/ipykernel_4590/1543595791.py:2: SettingWithCopyWarning: \n",
      "A value is trying to be set on a copy of a slice from a DataFrame\n",
      "\n",
      "See the caveats in the documentation: https://pandas.pydata.org/pandas-docs/stable/user_guide/indexing.html#returning-a-view-versus-a-copy\n",
      "  cln_crashes.drop(columns=['SEC_CONTRIBUTORY_CAUSE'],axis=1, inplace=True)\n"
     ]
    }
   ],
   "source": [
    "#drop column\n",
    "cln_crashes.drop(columns=['SEC_CONTRIBUTORY_CAUSE'],axis=1, inplace=True)"
   ]
  },
  {
   "cell_type": "code",
   "execution_count": 1603,
   "id": "a089e4fa",
   "metadata": {
    "execution": {
     "iopub.execute_input": "2023-04-22T07:21:57.251662Z",
     "iopub.status.busy": "2023-04-22T07:21:57.251137Z",
     "iopub.status.idle": "2023-04-22T07:21:57.366145Z",
     "shell.execute_reply": "2023-04-22T07:21:57.364485Z"
    },
    "papermill": {
     "duration": 0.246368,
     "end_time": "2023-04-22T07:21:57.370893",
     "exception": false,
     "start_time": "2023-04-22T07:21:57.124525",
     "status": "completed"
    },
    "tags": []
   },
   "outputs": [
    {
     "name": "stdout",
     "output_type": "stream",
     "text": [
      "<class 'pandas.core.frame.DataFrame'>\n",
      "Int64Index: 132227 entries, 0 to 692777\n",
      "Data columns (total 20 columns):\n",
      " #   Column                   Non-Null Count   Dtype  \n",
      "---  ------                   --------------   -----  \n",
      " 0   CRASH_RECORD_ID          132227 non-null  object \n",
      " 1   CRASH_YEAR               132227 non-null  int64  \n",
      " 2   POSTED_SPEED_LIMIT       132227 non-null  int64  \n",
      " 3   DEVICE_CONDITION         132227 non-null  object \n",
      " 4   WEATHER_CONDITION        132227 non-null  object \n",
      " 5   LIGHTING_CONDITION       132227 non-null  object \n",
      " 6   CRASH_TYPE               132227 non-null  object \n",
      " 7   INTERSECTION_RELATED_I   132227 non-null  object \n",
      " 8   ROAD_DEFECT              132227 non-null  object \n",
      " 9   PRIM_CONTRIBUTORY_CAUSE  132227 non-null  object \n",
      " 10  NUM_UNITS                132227 non-null  int64  \n",
      " 11  WORK_ZONE_I              132227 non-null  object \n",
      " 12  WORKERS_PRESENT_I        132227 non-null  object \n",
      " 13  INJURIES_TOTAL           132227 non-null  float64\n",
      " 14  INJURIES_FATAL           132227 non-null  float64\n",
      " 15  CRASH_HOUR               132227 non-null  int64  \n",
      " 16  CRASH_DAY_OF_WEEK        132227 non-null  int64  \n",
      " 17  CRASH_MONTH              132227 non-null  int64  \n",
      " 18  LATITUDE                 132227 non-null  float64\n",
      " 19  LONGITUDE                132227 non-null  float64\n",
      "dtypes: float64(4), int64(6), object(10)\n",
      "memory usage: 21.2+ MB\n"
     ]
    }
   ],
   "source": [
    "#check dataframe summaary after all changes\n",
    "cln_crashes.info()"
   ]
  },
  {
   "cell_type": "markdown",
   "id": "fb0843d1",
   "metadata": {},
   "source": [
    "That sums up the cleaning for this dataset. Lets taake a look at the next one."
   ]
  },
  {
   "cell_type": "markdown",
   "id": "42306e1c",
   "metadata": {
    "papermill": {
     "duration": 0.121795,
     "end_time": "2023-04-22T07:21:57.613728",
     "exception": false,
     "start_time": "2023-04-22T07:21:57.491933",
     "status": "completed"
    },
    "tags": []
   },
   "source": [
    "### Crashes-Vehicle"
   ]
  },
  {
   "cell_type": "markdown",
   "id": "e7c5f7b6",
   "metadata": {},
   "source": [
    "We will start by extracting the columns identified in the Data Understanding portion and then addressing the data."
   ]
  },
  {
   "cell_type": "code",
   "execution_count": 1604,
   "id": "34137e52",
   "metadata": {
    "execution": {
     "iopub.execute_input": "2023-04-22T07:21:57.865222Z",
     "iopub.status.busy": "2023-04-22T07:21:57.863987Z",
     "iopub.status.idle": "2023-04-22T07:21:58.150016Z",
     "shell.execute_reply": "2023-04-22T07:21:58.148226Z"
    },
    "papermill": {
     "duration": 0.413477,
     "end_time": "2023-04-22T07:21:58.153741",
     "exception": false,
     "start_time": "2023-04-22T07:21:57.740264",
     "status": "completed"
    },
    "tags": []
   },
   "outputs": [],
   "source": [
    "#extract columns\n",
    "cln_veh = vehicles_df[['CRASH_RECORD_ID',\n",
    "                        'VEHICLE_DEFECT',\n",
    "                        'VEHICLE_TYPE',\n",
    "                        'VEHICLE_USE',\n",
    "                        'MANEUVER',\n",
    "                        'OCCUPANT_CNT',\n",
    "                        'FIRST_CONTACT_POINT',\n",
    "                        'VEHICLE_CONFIG']].copy()"
   ]
  },
  {
   "cell_type": "code",
   "execution_count": 1605,
   "id": "4c2ac6e1",
   "metadata": {
    "execution": {
     "iopub.execute_input": "2023-04-22T07:21:58.398370Z",
     "iopub.status.busy": "2023-04-22T07:21:58.397886Z",
     "iopub.status.idle": "2023-04-22T07:21:58.973596Z",
     "shell.execute_reply": "2023-04-22T07:21:58.971472Z"
    },
    "papermill": {
     "duration": 0.703289,
     "end_time": "2023-04-22T07:21:58.977397",
     "exception": false,
     "start_time": "2023-04-22T07:21:58.274108",
     "status": "completed"
    },
    "tags": []
   },
   "outputs": [
    {
     "name": "stdout",
     "output_type": "stream",
     "text": [
      "<class 'pandas.core.frame.DataFrame'>\n",
      "RangeIndex: 1416095 entries, 0 to 1416094\n",
      "Data columns (total 8 columns):\n",
      " #   Column               Non-Null Count    Dtype  \n",
      "---  ------               --------------    -----  \n",
      " 0   CRASH_RECORD_ID      1416095 non-null  object \n",
      " 1   VEHICLE_DEFECT       1384025 non-null  object \n",
      " 2   VEHICLE_TYPE         1384025 non-null  object \n",
      " 3   VEHICLE_USE          1384025 non-null  object \n",
      " 4   MANEUVER             1384025 non-null  object \n",
      " 5   OCCUPANT_CNT         1384025 non-null  float64\n",
      " 6   FIRST_CONTACT_POINT  1371395 non-null  object \n",
      " 7   VEHICLE_CONFIG       12287 non-null    object \n",
      "dtypes: float64(1), object(7)\n",
      "memory usage: 86.4+ MB\n"
     ]
    }
   ],
   "source": [
    "#check summary\n",
    "cln_veh.info()"
   ]
  },
  {
   "cell_type": "markdown",
   "id": "9c45561f",
   "metadata": {},
   "source": [
    "There are alot of columns with missing values. Interestingly, there are certain records that have craash record IDs but don't have information for any other columns. Lets see how many these are."
   ]
  },
  {
   "cell_type": "code",
   "execution_count": 1606,
   "id": "cee75430",
   "metadata": {},
   "outputs": [
    {
     "data": {
      "text/html": [
       "<div>\n",
       "<style scoped>\n",
       "    .dataframe tbody tr th:only-of-type {\n",
       "        vertical-align: middle;\n",
       "    }\n",
       "\n",
       "    .dataframe tbody tr th {\n",
       "        vertical-align: top;\n",
       "    }\n",
       "\n",
       "    .dataframe thead th {\n",
       "        text-align: right;\n",
       "    }\n",
       "</style>\n",
       "<table border=\"1\" class=\"dataframe\">\n",
       "  <thead>\n",
       "    <tr style=\"text-align: right;\">\n",
       "      <th></th>\n",
       "      <th>CRASH_RECORD_ID</th>\n",
       "      <th>VEHICLE_DEFECT</th>\n",
       "      <th>VEHICLE_TYPE</th>\n",
       "      <th>VEHICLE_USE</th>\n",
       "      <th>MANEUVER</th>\n",
       "      <th>OCCUPANT_CNT</th>\n",
       "      <th>FIRST_CONTACT_POINT</th>\n",
       "      <th>VEHICLE_CONFIG</th>\n",
       "    </tr>\n",
       "  </thead>\n",
       "  <tbody>\n",
       "    <tr>\n",
       "      <th>11</th>\n",
       "      <td>55a20437d79a3176ac805c65b13940186970246ab14ce5...</td>\n",
       "      <td>NaN</td>\n",
       "      <td>NaN</td>\n",
       "      <td>NaN</td>\n",
       "      <td>NaN</td>\n",
       "      <td>NaN</td>\n",
       "      <td>NaN</td>\n",
       "      <td>NaN</td>\n",
       "    </tr>\n",
       "    <tr>\n",
       "      <th>26</th>\n",
       "      <td>af61b8eabb1b375bd1f6ff97f6ecce3e0f3592d4930381...</td>\n",
       "      <td>NaN</td>\n",
       "      <td>NaN</td>\n",
       "      <td>NaN</td>\n",
       "      <td>NaN</td>\n",
       "      <td>NaN</td>\n",
       "      <td>NaN</td>\n",
       "      <td>NaN</td>\n",
       "    </tr>\n",
       "    <tr>\n",
       "      <th>40</th>\n",
       "      <td>034f42deaec11021e28cda25717373e36351025652ccf1...</td>\n",
       "      <td>NaN</td>\n",
       "      <td>NaN</td>\n",
       "      <td>NaN</td>\n",
       "      <td>NaN</td>\n",
       "      <td>NaN</td>\n",
       "      <td>NaN</td>\n",
       "      <td>NaN</td>\n",
       "    </tr>\n",
       "    <tr>\n",
       "      <th>62</th>\n",
       "      <td>f84c48d4194761d1bb3808061f35ebf796508fb209deb5...</td>\n",
       "      <td>NaN</td>\n",
       "      <td>NaN</td>\n",
       "      <td>NaN</td>\n",
       "      <td>NaN</td>\n",
       "      <td>NaN</td>\n",
       "      <td>NaN</td>\n",
       "      <td>NaN</td>\n",
       "    </tr>\n",
       "    <tr>\n",
       "      <th>89</th>\n",
       "      <td>7218ea2ed9cf304383636ee5194c83019beb6a7a1ec311...</td>\n",
       "      <td>NaN</td>\n",
       "      <td>NaN</td>\n",
       "      <td>NaN</td>\n",
       "      <td>NaN</td>\n",
       "      <td>NaN</td>\n",
       "      <td>NaN</td>\n",
       "      <td>NaN</td>\n",
       "    </tr>\n",
       "    <tr>\n",
       "      <th>...</th>\n",
       "      <td>...</td>\n",
       "      <td>...</td>\n",
       "      <td>...</td>\n",
       "      <td>...</td>\n",
       "      <td>...</td>\n",
       "      <td>...</td>\n",
       "      <td>...</td>\n",
       "      <td>...</td>\n",
       "    </tr>\n",
       "    <tr>\n",
       "      <th>1415712</th>\n",
       "      <td>fe8e3bf92de539ddffb7f696dac444289517b3a1a2c1a6...</td>\n",
       "      <td>NaN</td>\n",
       "      <td>NaN</td>\n",
       "      <td>NaN</td>\n",
       "      <td>NaN</td>\n",
       "      <td>NaN</td>\n",
       "      <td>NaN</td>\n",
       "      <td>NaN</td>\n",
       "    </tr>\n",
       "    <tr>\n",
       "      <th>1415723</th>\n",
       "      <td>7924f00c55a8ac8a56064c60cd1b9a0ff63a2c27c4bc16...</td>\n",
       "      <td>NaN</td>\n",
       "      <td>NaN</td>\n",
       "      <td>NaN</td>\n",
       "      <td>NaN</td>\n",
       "      <td>NaN</td>\n",
       "      <td>NaN</td>\n",
       "      <td>NaN</td>\n",
       "    </tr>\n",
       "    <tr>\n",
       "      <th>1415750</th>\n",
       "      <td>d082175fc7fb3397a3fbb2469355ed527ed9ade4d5f2af...</td>\n",
       "      <td>NaN</td>\n",
       "      <td>NaN</td>\n",
       "      <td>NaN</td>\n",
       "      <td>NaN</td>\n",
       "      <td>NaN</td>\n",
       "      <td>NaN</td>\n",
       "      <td>NaN</td>\n",
       "    </tr>\n",
       "    <tr>\n",
       "      <th>1415921</th>\n",
       "      <td>3bcc07fc108ea9b0d417243d6be6818b2d319dba8b5bd9...</td>\n",
       "      <td>NaN</td>\n",
       "      <td>NaN</td>\n",
       "      <td>NaN</td>\n",
       "      <td>NaN</td>\n",
       "      <td>NaN</td>\n",
       "      <td>NaN</td>\n",
       "      <td>NaN</td>\n",
       "    </tr>\n",
       "    <tr>\n",
       "      <th>1416020</th>\n",
       "      <td>3793de677675a7e9ac41b0a3b85396417d00f9637ae08a...</td>\n",
       "      <td>NaN</td>\n",
       "      <td>NaN</td>\n",
       "      <td>NaN</td>\n",
       "      <td>NaN</td>\n",
       "      <td>NaN</td>\n",
       "      <td>NaN</td>\n",
       "      <td>NaN</td>\n",
       "    </tr>\n",
       "  </tbody>\n",
       "</table>\n",
       "<p>32070 rows × 8 columns</p>\n",
       "</div>"
      ],
      "text/plain": [
       "                                           CRASH_RECORD_ID VEHICLE_DEFECT  \\\n",
       "11       55a20437d79a3176ac805c65b13940186970246ab14ce5...            NaN   \n",
       "26       af61b8eabb1b375bd1f6ff97f6ecce3e0f3592d4930381...            NaN   \n",
       "40       034f42deaec11021e28cda25717373e36351025652ccf1...            NaN   \n",
       "62       f84c48d4194761d1bb3808061f35ebf796508fb209deb5...            NaN   \n",
       "89       7218ea2ed9cf304383636ee5194c83019beb6a7a1ec311...            NaN   \n",
       "...                                                    ...            ...   \n",
       "1415712  fe8e3bf92de539ddffb7f696dac444289517b3a1a2c1a6...            NaN   \n",
       "1415723  7924f00c55a8ac8a56064c60cd1b9a0ff63a2c27c4bc16...            NaN   \n",
       "1415750  d082175fc7fb3397a3fbb2469355ed527ed9ade4d5f2af...            NaN   \n",
       "1415921  3bcc07fc108ea9b0d417243d6be6818b2d319dba8b5bd9...            NaN   \n",
       "1416020  3793de677675a7e9ac41b0a3b85396417d00f9637ae08a...            NaN   \n",
       "\n",
       "        VEHICLE_TYPE VEHICLE_USE MANEUVER  OCCUPANT_CNT FIRST_CONTACT_POINT  \\\n",
       "11               NaN         NaN      NaN           NaN                 NaN   \n",
       "26               NaN         NaN      NaN           NaN                 NaN   \n",
       "40               NaN         NaN      NaN           NaN                 NaN   \n",
       "62               NaN         NaN      NaN           NaN                 NaN   \n",
       "89               NaN         NaN      NaN           NaN                 NaN   \n",
       "...              ...         ...      ...           ...                 ...   \n",
       "1415712          NaN         NaN      NaN           NaN                 NaN   \n",
       "1415723          NaN         NaN      NaN           NaN                 NaN   \n",
       "1415750          NaN         NaN      NaN           NaN                 NaN   \n",
       "1415921          NaN         NaN      NaN           NaN                 NaN   \n",
       "1416020          NaN         NaN      NaN           NaN                 NaN   \n",
       "\n",
       "        VEHICLE_CONFIG  \n",
       "11                 NaN  \n",
       "26                 NaN  \n",
       "40                 NaN  \n",
       "62                 NaN  \n",
       "89                 NaN  \n",
       "...                ...  \n",
       "1415712            NaN  \n",
       "1415723            NaN  \n",
       "1415750            NaN  \n",
       "1415921            NaN  \n",
       "1416020            NaN  \n",
       "\n",
       "[32070 rows x 8 columns]"
      ]
     },
     "execution_count": 1606,
     "metadata": {},
     "output_type": "execute_result"
    }
   ],
   "source": [
    "cln_veh[cln_veh['VEHICLE_TYPE'].isnull()]#check vehicle type records wiith null values"
   ]
  },
  {
   "cell_type": "markdown",
   "id": "6abb9746",
   "metadata": {},
   "source": [
    "These are ~2% of the records. We can drop these off knowing that they don;t have any valuable information and won't impact our analysis."
   ]
  },
  {
   "cell_type": "code",
   "execution_count": 1607,
   "id": "c9215eea",
   "metadata": {
    "execution": {
     "iopub.execute_input": "2023-04-22T07:22:06.391746Z",
     "iopub.status.busy": "2023-04-22T07:22:06.391277Z",
     "iopub.status.idle": "2023-04-22T07:22:07.414364Z",
     "shell.execute_reply": "2023-04-22T07:22:07.411886Z"
    },
    "papermill": {
     "duration": 1.162516,
     "end_time": "2023-04-22T07:22:07.421566",
     "exception": false,
     "start_time": "2023-04-22T07:22:06.259050",
     "status": "completed"
    },
    "tags": []
   },
   "outputs": [],
   "source": [
    "#drop null records using subset Vehicle type\n",
    "cln_veh = cln_veh.dropna(subset=['VEHICLE_TYPE'])"
   ]
  },
  {
   "cell_type": "code",
   "execution_count": 1608,
   "id": "18d726db",
   "metadata": {},
   "outputs": [
    {
     "name": "stdout",
     "output_type": "stream",
     "text": [
      "<class 'pandas.core.frame.DataFrame'>\n",
      "Int64Index: 1384025 entries, 0 to 1416094\n",
      "Data columns (total 8 columns):\n",
      " #   Column               Non-Null Count    Dtype  \n",
      "---  ------               --------------    -----  \n",
      " 0   CRASH_RECORD_ID      1384025 non-null  object \n",
      " 1   VEHICLE_DEFECT       1384025 non-null  object \n",
      " 2   VEHICLE_TYPE         1384025 non-null  object \n",
      " 3   VEHICLE_USE          1384025 non-null  object \n",
      " 4   MANEUVER             1384025 non-null  object \n",
      " 5   OCCUPANT_CNT         1384025 non-null  float64\n",
      " 6   FIRST_CONTACT_POINT  1371395 non-null  object \n",
      " 7   VEHICLE_CONFIG       12287 non-null    object \n",
      "dtypes: float64(1), object(7)\n",
      "memory usage: 95.0+ MB\n"
     ]
    }
   ],
   "source": [
    "#check summary\n",
    "cln_veh.info()"
   ]
  },
  {
   "cell_type": "markdown",
   "id": "32ebeeba",
   "metadata": {},
   "source": [
    "Lets bin the Vehicle Defect Column categories into less granular detail. We are interested in understanding whether a vehicle defect can play a part in crashes or not. Accordingly, If it later on shows to lay a significant part, insights can be generated as to how can the number of vehile defects be reduced."
   ]
  },
  {
   "cell_type": "code",
   "execution_count": 1609,
   "id": "05d85d25",
   "metadata": {},
   "outputs": [
    {
     "data": {
      "text/plain": [
       "NONE                768370\n",
       "UNKNOWN             601707\n",
       "OTHER                 6782\n",
       "BRAKES                4566\n",
       "TIRES                  700\n",
       "STEERING               650\n",
       "WHEELS                 365\n",
       "SUSPENSION             241\n",
       "ENGINE/MOTOR           183\n",
       "FUEL SYSTEM            150\n",
       "LIGHTS                  86\n",
       "WINDOWS                 82\n",
       "CARGO                   47\n",
       "SIGNALS                 38\n",
       "RESTRAINT SYSTEM        21\n",
       "TRAILER COUPLING        19\n",
       "EXHAUST                 18\n",
       "Name: VEHICLE_DEFECT, dtype: int64"
      ]
     },
     "execution_count": 1609,
     "metadata": {},
     "output_type": "execute_result"
    }
   ],
   "source": [
    "#check vlaue counts\n",
    "cln_veh['VEHICLE_DEFECT'].value_counts()"
   ]
  },
  {
   "cell_type": "markdown",
   "id": "742fb4f8",
   "metadata": {},
   "source": [
    "We can leave the unkown category as is for now and then later on deduce how mnay we have left after joining the datasets. If there are still many, we can tackle it aaccordingly.\n",
    "\n",
    "We will create aa new column identifying whether there is  a defect or not. The Unknown categories will show up with a 'U'"
   ]
  },
  {
   "cell_type": "code",
   "execution_count": 1610,
   "id": "386ab1ab",
   "metadata": {},
   "outputs": [],
   "source": [
    "#create the lambda function\n",
    "z = lambda x: 'U' if (x == 'UNKNOWN') else 'Y' if (x != 'NONE') else 'N'"
   ]
  },
  {
   "cell_type": "code",
   "execution_count": 1611,
   "id": "21b5ac56",
   "metadata": {},
   "outputs": [],
   "source": [
    "#map the lambda function to creaate the new column\n",
    "cln_veh['VEHICLE_DEFECT_I'] = cln_veh['VEHICLE_DEFECT'].map(z)"
   ]
  },
  {
   "cell_type": "code",
   "execution_count": 1612,
   "id": "57345468",
   "metadata": {},
   "outputs": [
    {
     "data": {
      "text/plain": [
       "N    768370\n",
       "U    601707\n",
       "Y     13948\n",
       "Name: VEHICLE_DEFECT_I, dtype: int64"
      ]
     },
     "execution_count": 1612,
     "metadata": {},
     "output_type": "execute_result"
    }
   ],
   "source": [
    "#check vlaue counts\n",
    "cln_veh['VEHICLE_DEFECT_I'].value_counts()"
   ]
  },
  {
   "cell_type": "code",
   "execution_count": 1613,
   "id": "d6619d7f",
   "metadata": {},
   "outputs": [],
   "source": [
    "#drop Vehicle defect column\n",
    "cln_veh = cln_veh.drop(['VEHICLE_DEFECT'],axis=1)"
   ]
  },
  {
   "cell_type": "code",
   "execution_count": 1614,
   "id": "98e49176",
   "metadata": {},
   "outputs": [
    {
     "name": "stdout",
     "output_type": "stream",
     "text": [
      "<class 'pandas.core.frame.DataFrame'>\n",
      "Int64Index: 1384025 entries, 0 to 1416094\n",
      "Data columns (total 8 columns):\n",
      " #   Column               Non-Null Count    Dtype  \n",
      "---  ------               --------------    -----  \n",
      " 0   CRASH_RECORD_ID      1384025 non-null  object \n",
      " 1   VEHICLE_TYPE         1384025 non-null  object \n",
      " 2   VEHICLE_USE          1384025 non-null  object \n",
      " 3   MANEUVER             1384025 non-null  object \n",
      " 4   OCCUPANT_CNT         1384025 non-null  float64\n",
      " 5   FIRST_CONTACT_POINT  1371395 non-null  object \n",
      " 6   VEHICLE_CONFIG       12287 non-null    object \n",
      " 7   VEHICLE_DEFECT_I     1384025 non-null  object \n",
      "dtypes: float64(1), object(7)\n",
      "memory usage: 95.0+ MB\n"
     ]
    }
   ],
   "source": [
    "#check summary\n",
    "cln_veh.info()"
   ]
  },
  {
   "cell_type": "markdown",
   "id": "004ed411",
   "metadata": {},
   "source": [
    "Lets peform binning on the Vehicle Type column also to make the data more manageable."
   ]
  },
  {
   "cell_type": "code",
   "execution_count": 1615,
   "id": "05bb45e5",
   "metadata": {},
   "outputs": [
    {
     "data": {
      "text/plain": [
       "PASSENGER                                 870964\n",
       "SPORT UTILITY VEHICLE (SUV)               186498\n",
       "UNKNOWN/NA                                131562\n",
       "VAN/MINI-VAN                               67371\n",
       "PICKUP                                     43239\n",
       "TRUCK - SINGLE UNIT                        26270\n",
       "OTHER                                      16301\n",
       "BUS OVER 15 PASS.                          14529\n",
       "TRACTOR W/ SEMI-TRAILER                    13251\n",
       "BUS UP TO 15 PASS.                          3487\n",
       "MOTORCYCLE (OVER 150CC)                     3217\n",
       "SINGLE UNIT TRUCK WITH TRAILER              2131\n",
       "OTHER VEHICLE WITH TRAILER                  1774\n",
       "TRACTOR W/O SEMI-TRAILER                    1766\n",
       "AUTOCYCLE                                    648\n",
       "MOPED OR MOTORIZED BICYCLE                   382\n",
       "MOTOR DRIVEN CYCLE                           326\n",
       "ALL-TERRAIN VEHICLE (ATV)                    160\n",
       "FARM EQUIPMENT                                72\n",
       "3-WHEELED MOTORCYCLE (2 REAR WHEELS)          49\n",
       "RECREATIONAL OFF-HIGHWAY VEHICLE (ROV)        20\n",
       "SNOWMOBILE                                     8\n",
       "Name: VEHICLE_TYPE, dtype: int64"
      ]
     },
     "execution_count": 1615,
     "metadata": {},
     "output_type": "execute_result"
    }
   ],
   "source": [
    "#check value counts\n",
    "cln_veh['VEHICLE_TYPE'].value_counts()"
   ]
  },
  {
   "cell_type": "markdown",
   "id": "694e41c7",
   "metadata": {},
   "source": [
    "Through domain knowledge we can bin these categories together in the following manner:\n",
    "\n",
    "1. Regulaar Personal Use: These are vehicles that usually have everyday passengers using them for commutin or traveling like Passenger vehicles, SUVs, Pick-up, Van/Mini-Van\n",
    "\n",
    "2. Public Transit: These arae vehicles that are be a part of mass transit systems such as Buses\n",
    "\n",
    "3. Commercial: These are trator/trailers \n",
    "\n",
    "4. Motorcycles/cycle: These are self-explanotory\n",
    "\n",
    "5. Vocational/Recreational: Such as Faarm Equipment, snowmobile, etc"
   ]
  },
  {
   "cell_type": "code",
   "execution_count": 1616,
   "id": "f6d90917",
   "metadata": {},
   "outputs": [],
   "source": [
    "#bin categories\n",
    "\n",
    "#Regular Personal\n",
    "cln_veh['VEHICLE_TYPE'].replace(['PASSENGER',\n",
    "                                'SPORT UTILITY VEHICLE (SUV)',\n",
    "                                'VAN/MINI-VAN',\n",
    "                                'PICKUP'\n",
    "                                ], 'REGULAR PERSONAL', inplace=True)\n",
    "\n",
    "#Public Transit\n",
    "cln_veh['VEHICLE_TYPE'].replace(['BUS OVER 15 PASS.',\n",
    "                                'BUS UP TO 15 PASS.'\n",
    "                                ], 'PUBLIC', inplace=True)\n",
    "\n",
    "#Commercial\n",
    "cln_veh['VEHICLE_TYPE'].replace(['TRUCK - SINGLE UNIT',\n",
    "                                'SPORT UTILITY VEHICLE (SUV)',\n",
    "                                'TRACTOR W/ SEMI-TRAILER',\n",
    "                                'OTHER VEHICLE WITH TRAILER',\n",
    "                                'TRACTOR W/O SEMI-TRAILER',\n",
    "                                'SINGLE UNIT TRUCK WITH TRAILER'\n",
    "                                ], 'COMMERCIAL', inplace=True)\n",
    "\n",
    "#Motorcycle / cycle\n",
    "cln_veh['VEHICLE_TYPE'].replace(['MOTORCYCLE (OVER 150CC)',\n",
    "                                'AUTOCYCLE',\n",
    "                                'MOPED OR MOTORIZED BICYCLE',\n",
    "                                '3-WHEELED MOTORCYCLE (2 REAR WHEELS)',\n",
    "                                 'MOTOR DRIVEN CYCLE'\n",
    "                                ], 'MOTORCYCLE/CYCLE', inplace=True)\n",
    "\n",
    "#Vocational/Recreational\n",
    "cln_veh['VEHICLE_TYPE'].replace(['ALL-TERRAIN VEHICLE (ATV)',\n",
    "                                'FARM EQUIPMENT',\n",
    "                                'MOPED OR MOTORIZED BICYCLE',\n",
    "                                'RECREATIONAL OFF-HIGHWAY VEHICLE (ROV)',\n",
    "                                'SNOWMOBILE'\n",
    "                                ], 'RECREATIONAL/VOCATIONAL', inplace=True)"
   ]
  },
  {
   "cell_type": "code",
   "execution_count": 1617,
   "id": "a3229bc1",
   "metadata": {},
   "outputs": [
    {
     "data": {
      "text/plain": [
       "REGULAR PERSONAL           0.843967\n",
       "UNKNOWN/NA                 0.095058\n",
       "COMMERCIAL                 0.032653\n",
       "PUBLIC                     0.013017\n",
       "OTHER                      0.011778\n",
       "MOTORCYCLE/CYCLE           0.003340\n",
       "RECREATIONAL/VOCATIONAL    0.000188\n",
       "Name: VEHICLE_TYPE, dtype: float64"
      ]
     },
     "execution_count": 1617,
     "metadata": {},
     "output_type": "execute_result"
    }
   ],
   "source": [
    "#check value counts\n",
    "cln_veh['VEHICLE_TYPE'].value_counts(normalize=True)"
   ]
  },
  {
   "cell_type": "markdown",
   "id": "1e0f9089",
   "metadata": {},
   "source": [
    "With no information for the other section, it will be beneficial to drop those records.\n",
    "\n",
    "The unknown ones can be kept and dealt with aafter merging the different datasets.\n",
    "\n",
    "We can also see that the Recreational and motorcycle records total out to be even less than 1% of the total records. These will be extremely difficult to balance out alongside skewing our modeling to anomalies. Therefore, these records will be dropped."
   ]
  },
  {
   "cell_type": "code",
   "execution_count": 1618,
   "id": "6679fb66",
   "metadata": {},
   "outputs": [],
   "source": [
    "#filter out the records with 'other' vehicle types\n",
    "cln_veh = cln_veh[(cln_veh['VEHICLE_TYPE'] != 'OTHER') &\n",
    "                  (cln_veh['VEHICLE_TYPE'] != 'RECREATIONAL/VOCATIONAL')&\n",
    "                  (cln_veh['VEHICLE_TYPE'] != 'MOTORCYCLE/CYCLE')\n",
    "                 ]"
   ]
  },
  {
   "cell_type": "code",
   "execution_count": 1619,
   "id": "25413584",
   "metadata": {},
   "outputs": [
    {
     "data": {
      "text/plain": [
       "REGULAR PERSONAL    1168072\n",
       "UNKNOWN/NA           131562\n",
       "COMMERCIAL            45192\n",
       "PUBLIC                18016\n",
       "Name: VEHICLE_TYPE, dtype: int64"
      ]
     },
     "execution_count": 1619,
     "metadata": {},
     "output_type": "execute_result"
    }
   ],
   "source": [
    "#check new value counts\n",
    "cln_veh['VEHICLE_TYPE'].value_counts()"
   ]
  },
  {
   "cell_type": "code",
   "execution_count": 1620,
   "id": "84e30442",
   "metadata": {},
   "outputs": [
    {
     "name": "stdout",
     "output_type": "stream",
     "text": [
      "<class 'pandas.core.frame.DataFrame'>\n",
      "Int64Index: 1362842 entries, 0 to 1416094\n",
      "Data columns (total 8 columns):\n",
      " #   Column               Non-Null Count    Dtype  \n",
      "---  ------               --------------    -----  \n",
      " 0   CRASH_RECORD_ID      1362842 non-null  object \n",
      " 1   VEHICLE_TYPE         1362842 non-null  object \n",
      " 2   VEHICLE_USE          1362842 non-null  object \n",
      " 3   MANEUVER             1362842 non-null  object \n",
      " 4   OCCUPANT_CNT         1362842 non-null  float64\n",
      " 5   FIRST_CONTACT_POINT  1350828 non-null  object \n",
      " 6   VEHICLE_CONFIG       11730 non-null    object \n",
      " 7   VEHICLE_DEFECT_I     1362842 non-null  object \n",
      "dtypes: float64(1), object(7)\n",
      "memory usage: 93.6+ MB\n"
     ]
    }
   ],
   "source": [
    "#check summary\n",
    "cln_veh.info()"
   ]
  },
  {
   "cell_type": "markdown",
   "id": "6ba570c7",
   "metadata": {},
   "source": [
    "Considering that vevhicles types were binned according to usage, the Vehicle Use column would be a deeper dive column that can be explored if more granular details aree required."
   ]
  },
  {
   "cell_type": "code",
   "execution_count": 1621,
   "id": "498b6f2d",
   "metadata": {},
   "outputs": [],
   "source": [
    "#drop vehicle use column\n",
    "cln_veh = cln_veh.drop(['VEHICLE_USE'],axis=1)"
   ]
  },
  {
   "cell_type": "markdown",
   "id": "9922283a",
   "metadata": {},
   "source": [
    "Lets explore the Maeuver column. We know from previous exploration that this column also contains multiple categories that can bee grouped together. Lets take a look at the values and forulate the binning strategy."
   ]
  },
  {
   "cell_type": "code",
   "execution_count": 1622,
   "id": "9271a9d6",
   "metadata": {},
   "outputs": [
    {
     "data": {
      "text/plain": [
       "STRAIGHT AHEAD                        621064\n",
       "PARKED                                188320\n",
       "UNKNOWN/NA                            106882\n",
       "SLOW/STOP IN TRAFFIC                  104646\n",
       "TURNING LEFT                           80286\n",
       "BACKING                                55472\n",
       "TURNING RIGHT                          44296\n",
       "PASSING/OVERTAKING                     32542\n",
       "CHANGING LANES                         26559\n",
       "OTHER                                  22353\n",
       "ENTERING TRAFFIC LANE FROM PARKING     16146\n",
       "MERGING                                 9439\n",
       "STARTING IN TRAFFIC                     8050\n",
       "U-TURN                                  7682\n",
       "LEAVING TRAFFIC LANE TO PARK            6624\n",
       "AVOIDING VEHICLES/OBJECTS               5889\n",
       "SKIDDING/CONTROL LOSS                   5495\n",
       "ENTER FROM DRIVE/ALLEY                  5354\n",
       "PARKED IN TRAFFIC LANE                  4015\n",
       "SLOW/STOP - LEFT TURN                   3004\n",
       "DRIVING WRONG WAY                       1967\n",
       "SLOW/STOP - RIGHT TURN                  1896\n",
       "NEGOTIATING A CURVE                     1807\n",
       "SLOW/STOP - LOAD/UNLOAD                 1633\n",
       "TURNING ON RED                           532\n",
       "DRIVERLESS                               506\n",
       "DIVERGING                                208\n",
       "DISABLED                                 175\n",
       "Name: MANEUVER, dtype: int64"
      ]
     },
     "execution_count": 1622,
     "metadata": {},
     "output_type": "execute_result"
    }
   ],
   "source": [
    "#check value counts\n",
    "cln_veh['MANEUVER'].value_counts()"
   ]
  },
  {
   "cell_type": "markdown",
   "id": "4c63a4d0",
   "metadata": {},
   "source": [
    "The overlapping categories can be binned in the direction they were moving to make the modeling easier. If more details are required, data can bee subsequently maade more granular.\n",
    "\n",
    "    1. STRAIGHT: STRAIGHT AHEAD, NEGOTIATING A CURVE\n",
    "    2. TURNING: TURNING LEFT, TURNING RIGHT, U-TURN, SLOW/STOP - LEFT TURN, SLOW/STOP - RIGHT TURN, TURNING ON RED\n",
    "    3. ENTERING/EXITING TRAFFIC: PARKED, LEAVING TRAFFIC LANE TO PARK, ENTERING TRAFFIC LANE FROM PARKING,                                          MERGING, LEAVING TRAFFIC LANE TO PARK, ENTER FROM DRIVE/ALLEY, PARKED IN TRAFFIC                                  LANE, DIVERGING\n",
    "    4. START/STOP: SLOW/STOP IN TRAFFIC, STARTING IN TRAFFIC, SLOW/STOP - LOAD/UNLOAD\n",
    "    5. Lane Change: CHANGING LANES, PASSING/OVERTAKING\n",
    "    6. Respone to External Obstructions: AVOIDING VEHICLES/OBJECTS, SKIDDING/CONTROL LOSS"
   ]
  },
  {
   "cell_type": "code",
   "execution_count": 1623,
   "id": "f7edda5c",
   "metadata": {},
   "outputs": [],
   "source": [
    "#bin categories\n",
    "\n",
    "#Straight\n",
    "cln_veh['MANEUVER'].replace(['STRAIGHT AHEAD',\n",
    "                            'NEGOTIATING A CURVE'\n",
    "                            ], 'STRAIGHT', inplace=True)\n",
    "\n",
    "#Turning\n",
    "cln_veh['MANEUVER'].replace(['TURNING LEFT',\n",
    "                            'TURNING RIGHT',\n",
    "                             'U-TURN', 'SLOW/STOP - LEFT TURN', 'SLOW/STOP - RIGHT TURN',\n",
    "                             'TURNING ON RED'\n",
    "                            ], 'TURNING', inplace=True)\n",
    "\n",
    "#ENTERING/EXITING TRAFFIC\n",
    "cln_veh['MANEUVER'].replace(['PARKED', 'LEAVING TRAFFIC LANE TO PARK', 'ENTERING TRAFFIC LANE FROM PARKING',\n",
    "                            'MERGING', 'LEAVING TRAFFIC LANE TO PARK', 'ENTER FROM DRIVE/ALLEY', \n",
    "                             'PARKED IN TRAFFIC LANE',\n",
    "                             'DIVERGING'\n",
    "                            ], 'ENTERING/EXITING TRAFFIC', inplace=True)\n",
    "\n",
    "#START/STOP\n",
    "cln_veh['MANEUVER'].replace(['SLOW/STOP IN TRAFFIC', 'STARTING IN TRAFFIC', 'SLOW/STOP - LOAD/UNLOAD'\n",
    "                            ], 'START/STOP', inplace=True)\n",
    "\n",
    "#Lane Change\n",
    "cln_veh['MANEUVER'].replace(['CHANGING LANES', 'PASSING/OVERTAKING'\n",
    "                            ], 'LANE CHANGE', inplace=True)\n",
    "\n",
    "#External Obstructions\n",
    "cln_veh['MANEUVER'].replace(['AVOIDING VEHICLES/OBJECTS', 'SKIDDING/CONTROL LOSS'\n",
    "                            ], 'EXTERNAL OBSTRUCTIONS', inplace=True)"
   ]
  },
  {
   "cell_type": "code",
   "execution_count": 1624,
   "id": "72b1148e",
   "metadata": {},
   "outputs": [
    {
     "data": {
      "text/plain": [
       "STRAIGHT                    0.457038\n",
       "ENTERING/EXITING TRAFFIC    0.168843\n",
       "TURNING                     0.101036\n",
       "START/STOP                  0.083890\n",
       "UNKNOWN/NA                  0.078426\n",
       "LANE CHANGE                 0.043366\n",
       "BACKING                     0.040703\n",
       "OTHER                       0.016402\n",
       "EXTERNAL OBSTRUCTIONS       0.008353\n",
       "DRIVING WRONG WAY           0.001443\n",
       "DRIVERLESS                  0.000371\n",
       "DISABLED                    0.000128\n",
       "Name: MANEUVER, dtype: float64"
      ]
     },
     "execution_count": 1624,
     "metadata": {},
     "output_type": "execute_result"
    }
   ],
   "source": [
    "#check new value counts\n",
    "cln_veh['MANEUVER'].value_counts(normalize=True)"
   ]
  },
  {
   "cell_type": "markdown",
   "id": "fcfe6e33",
   "metadata": {},
   "source": [
    "The unkown category will be handled after merging it with the other datasets.\n",
    "\n",
    "The Other category doesn;t have any clear information so it can be harmful noisse in the dataset therefore these records will be dropped. \n",
    "\n",
    "Driverless and Disabled are extreme anomalies that total out to be less than 1% therefore they will be dropped aswell."
   ]
  },
  {
   "cell_type": "code",
   "execution_count": 1625,
   "id": "4607ef95",
   "metadata": {},
   "outputs": [],
   "source": [
    "#drop other category and anomalies\n",
    "cln_veh = cln_veh[(cln_veh['MANEUVER'] != 'OTHER') &\n",
    "                 (cln_veh['MANEUVER'] != 'DRIVERLESS') &\n",
    "                 (cln_veh['MANEUVER'] != 'DISABLED')]"
   ]
  },
  {
   "cell_type": "code",
   "execution_count": 1626,
   "id": "08567d8b",
   "metadata": {},
   "outputs": [
    {
     "data": {
      "text/plain": [
       "STRAIGHT                    0.464896\n",
       "ENTERING/EXITING TRAFFIC    0.171746\n",
       "TURNING                     0.102773\n",
       "START/STOP                  0.085332\n",
       "UNKNOWN/NA                  0.079774\n",
       "LANE CHANGE                 0.044112\n",
       "BACKING                     0.041403\n",
       "EXTERNAL OBSTRUCTIONS       0.008497\n",
       "DRIVING WRONG WAY           0.001468\n",
       "Name: MANEUVER, dtype: float64"
      ]
     },
     "execution_count": 1626,
     "metadata": {},
     "output_type": "execute_result"
    }
   ],
   "source": [
    "#check new value counts\n",
    "cln_veh['MANEUVER'].value_counts(normalize=True)"
   ]
  },
  {
   "cell_type": "code",
   "execution_count": 1627,
   "id": "7a957a4a",
   "metadata": {},
   "outputs": [
    {
     "name": "stdout",
     "output_type": "stream",
     "text": [
      "<class 'pandas.core.frame.DataFrame'>\n",
      "Int64Index: 1339808 entries, 0 to 1416094\n",
      "Data columns (total 7 columns):\n",
      " #   Column               Non-Null Count    Dtype  \n",
      "---  ------               --------------    -----  \n",
      " 0   CRASH_RECORD_ID      1339808 non-null  object \n",
      " 1   VEHICLE_TYPE         1339808 non-null  object \n",
      " 2   MANEUVER             1339808 non-null  object \n",
      " 3   OCCUPANT_CNT         1339808 non-null  float64\n",
      " 4   FIRST_CONTACT_POINT  1328112 non-null  object \n",
      " 5   VEHICLE_CONFIG       11457 non-null    object \n",
      " 6   VEHICLE_DEFECT_I     1339808 non-null  object \n",
      "dtypes: float64(1), object(6)\n",
      "memory usage: 81.8+ MB\n"
     ]
    }
   ],
   "source": [
    "#check summary\n",
    "cln_veh.info()"
   ]
  },
  {
   "cell_type": "code",
   "execution_count": 1628,
   "id": "a88c5cdd",
   "metadata": {
    "papermill": {
     "duration": 0.12566,
     "end_time": "2023-04-22T07:22:11.825347",
     "exception": false,
     "start_time": "2023-04-22T07:22:11.699687",
     "status": "completed"
    },
    "tags": []
   },
   "outputs": [
    {
     "data": {
      "text/plain": [
       "TRACTOR/SEMI-TRAILER                   4665\n",
       "SINGLE UNIT TRUCK, 2 AXLES, 6 TIRES    2231\n",
       "BUS                                    1827\n",
       "TRUCK/TRACTOR                           918\n",
       "TRUCK/TRAILER                           759\n",
       "UNKNOWN HEAVY TRUCK                     535\n",
       "SINGLE UNIT TRUCK, 3 OR MORE AXLES      493\n",
       "TRACTOR/DOUBLES                          29\n",
       "Name: VEHICLE_CONFIG, dtype: int64"
      ]
     },
     "execution_count": 1628,
     "metadata": {},
     "output_type": "execute_result"
    }
   ],
   "source": [
    "#check value counts\n",
    "cln_veh['VEHICLE_CONFIG'].value_counts()"
   ]
  },
  {
   "cell_type": "markdown",
   "id": "1e433348",
   "metadata": {
    "papermill": {
     "duration": 0.125816,
     "end_time": "2023-04-22T07:22:12.072220",
     "exception": false,
     "start_time": "2023-04-22T07:22:11.946404",
     "status": "completed"
    },
    "tags": []
   },
   "source": [
    "This is the level of detail that can be explored as further insights analysis. The Vehicle Type feature already covers whether the vehicle involved in the crash is a commercial vehicle or not."
   ]
  },
  {
   "cell_type": "code",
   "execution_count": 1629,
   "id": "ea218553",
   "metadata": {},
   "outputs": [],
   "source": [
    "#drop vehicle config\n",
    "cln_veh = cln_veh.drop(['VEHICLE_CONFIG'],axis=1)"
   ]
  },
  {
   "cell_type": "markdown",
   "id": "e47c5221",
   "metadata": {},
   "source": [
    "The only one left is Occupant Count. This column has information on how many individuals there were in a vehicle involved in the crash. Lets explore this column further to understand how to processs it."
   ]
  },
  {
   "cell_type": "code",
   "execution_count": 1630,
   "id": "f2a5bb27",
   "metadata": {},
   "outputs": [
    {
     "data": {
      "text/plain": [
       "1.0     967827\n",
       "0.0     180457\n",
       "2.0     134861\n",
       "3.0      35752\n",
       "4.0      14027\n",
       "5.0       4599\n",
       "6.0       1244\n",
       "7.0        459\n",
       "8.0        186\n",
       "9.0         90\n",
       "11.0        56\n",
       "10.0        52\n",
       "12.0        36\n",
       "13.0        31\n",
       "15.0        18\n",
       "14.0        13\n",
       "16.0        12\n",
       "20.0        10\n",
       "18.0        10\n",
       "19.0         9\n",
       "36.0         5\n",
       "28.0         5\n",
       "26.0         5\n",
       "21.0         4\n",
       "17.0         4\n",
       "22.0         3\n",
       "30.0         3\n",
       "29.0         3\n",
       "27.0         3\n",
       "25.0         3\n",
       "33.0         3\n",
       "41.0         2\n",
       "39.0         2\n",
       "99.0         2\n",
       "35.0         2\n",
       "44.0         1\n",
       "24.0         1\n",
       "43.0         1\n",
       "60.0         1\n",
       "34.0         1\n",
       "37.0         1\n",
       "23.0         1\n",
       "31.0         1\n",
       "47.0         1\n",
       "38.0         1\n",
       "Name: OCCUPANT_CNT, dtype: int64"
      ]
     },
     "execution_count": 1630,
     "metadata": {},
     "output_type": "execute_result"
    }
   ],
   "source": [
    "#check value counts\n",
    "cln_veh['OCCUPANT_CNT'].value_counts()"
   ]
  },
  {
   "cell_type": "markdown",
   "id": "c3bfbffe",
   "metadata": {},
   "source": [
    "There are several different number of paassenger bins. These can be grouped grouped together to represent certain common instancess.\n",
    "\n",
    "0: No passenger present\n",
    "\n",
    "1-2: This is very common having either only the driver or a adriver with a passenger\n",
    "\n",
    "3-5: 5 is the max a normaal car can hold\n",
    "\n",
    "6-9: These number of passengers is usually an indication of Mini-Vans or Vans\n",
    "\n",
    "10+: This is usually a larger van or a Bus which means that these amount of passengers would represent a public/mass transit vehicle."
   ]
  },
  {
   "cell_type": "code",
   "execution_count": 1631,
   "id": "a5e36621",
   "metadata": {},
   "outputs": [],
   "source": [
    "#create lambda function for binning\n",
    "b = lambda x:'10+' if x>=10 else '6-9' if x>=6 else '3-5' if x>=3 else '1-2' if x>=1 else '0'"
   ]
  },
  {
   "cell_type": "code",
   "execution_count": 1632,
   "id": "d0a96dae",
   "metadata": {},
   "outputs": [],
   "source": [
    "#bin the counts\n",
    "cln_veh['OCCUPANT_CAT'] = cln_veh['OCCUPANT_CNT'].map(b)"
   ]
  },
  {
   "cell_type": "code",
   "execution_count": 1633,
   "id": "dbeebd10",
   "metadata": {},
   "outputs": [
    {
     "data": {
      "text/plain": [
       "1-2    1102688\n",
       "0       180457\n",
       "3-5      54378\n",
       "6-9       1979\n",
       "10+        306\n",
       "Name: OCCUPANT_CAT, dtype: int64"
      ]
     },
     "execution_count": 1633,
     "metadata": {},
     "output_type": "execute_result"
    }
   ],
   "source": [
    "#check value counts\n",
    "cln_veh['OCCUPANT_CAT'].value_counts()"
   ]
  },
  {
   "cell_type": "code",
   "execution_count": 1634,
   "id": "1c4aa093",
   "metadata": {},
   "outputs": [],
   "source": [
    "#drop occupant count column\n",
    "cln_veh = cln_veh.drop(['OCCUPANT_CNT'],axis=1)"
   ]
  },
  {
   "cell_type": "code",
   "execution_count": 1635,
   "id": "e77e801d",
   "metadata": {},
   "outputs": [
    {
     "name": "stdout",
     "output_type": "stream",
     "text": [
      "<class 'pandas.core.frame.DataFrame'>\n",
      "Int64Index: 1339808 entries, 0 to 1416094\n",
      "Data columns (total 6 columns):\n",
      " #   Column               Non-Null Count    Dtype \n",
      "---  ------               --------------    ----- \n",
      " 0   CRASH_RECORD_ID      1339808 non-null  object\n",
      " 1   VEHICLE_TYPE         1339808 non-null  object\n",
      " 2   MANEUVER             1339808 non-null  object\n",
      " 3   FIRST_CONTACT_POINT  1328112 non-null  object\n",
      " 4   VEHICLE_DEFECT_I     1339808 non-null  object\n",
      " 5   OCCUPANT_CAT         1339808 non-null  object\n",
      "dtypes: object(6)\n",
      "memory usage: 71.6+ MB\n"
     ]
    }
   ],
   "source": [
    "cln_veh.info()"
   ]
  },
  {
   "cell_type": "markdown",
   "id": "b09cd537",
   "metadata": {},
   "source": [
    "Next, lets take a look at First Contact Point."
   ]
  },
  {
   "cell_type": "code",
   "execution_count": 1636,
   "id": "ab4525f6",
   "metadata": {},
   "outputs": [
    {
     "data": {
      "text/plain": [
       "FRONT                201383\n",
       "OTHER                163550\n",
       "REAR-LEFT            152128\n",
       "UNKNOWN              128086\n",
       "REAR                 114191\n",
       "FRONT-LEFT            97447\n",
       "TOTAL (ALL AREAS)     92103\n",
       "SIDE-RIGHT            86002\n",
       "FRONT-RIGHT           84497\n",
       "SIDE-LEFT             78829\n",
       "ROOF                  54337\n",
       "REAR-RIGHT            48892\n",
       "UNDER CARRIAGE        16044\n",
       "NONE                  10623\n",
       "Name: FIRST_CONTACT_POINT, dtype: int64"
      ]
     },
     "execution_count": 1636,
     "metadata": {},
     "output_type": "execute_result"
    }
   ],
   "source": [
    "#check value counts\n",
    "cln_veh['FIRST_CONTACT_POINT'].value_counts()"
   ]
  },
  {
   "cell_type": "markdown",
   "id": "d43f3ded",
   "metadata": {},
   "source": [
    "The other category for this column is a big chunk of the dataset. Nonetheless, modeling it with other data might show a clear relationship between certain type of accidents and the other category. Consdiering that it is a large chunk of the dataset, we will leave it in place. If our modeling results end up being unsatisfactory, these kind of records would be the first ones we would want to remove.\n",
    "\n",
    "We will leave the unkown category as is and circle back to it after alll datasets have been joined. It is possible that in the process of joining, these records get dropped automatically.\n",
    "\n",
    "Also, there is a higher granularity of data where as it can be grouped into simple subsections of a vehicle. \n",
    "\n",
    "    1. None\n",
    "    2. Front\n",
    "    3. Rear\n",
    "    4. Side\n",
    "    5. Top/Bottom\n",
    "    6. Total"
   ]
  },
  {
   "cell_type": "code",
   "execution_count": 1637,
   "id": "720fb693",
   "metadata": {},
   "outputs": [],
   "source": [
    "#bin categories\n",
    "\n",
    "#Front\n",
    "cln_veh['FIRST_CONTACT_POINT'].replace([\n",
    "                                        'FRONT', 'FRONT-LEFT', 'FRONT-RIGHT'\n",
    "                                        ],'FRONT', inplace=True)\n",
    "\n",
    "#Rear\n",
    "cln_veh['FIRST_CONTACT_POINT'].replace([\n",
    "                                        'REAR','REAR-LEFT', 'REAR-RIGHT'\n",
    "                                        ],'REAR', inplace=True)\n",
    "\n",
    "#SIDE\n",
    "cln_veh['FIRST_CONTACT_POINT'].replace([\n",
    "                                        'SIDE-RIGHT', 'SIDE-LEFT'\n",
    "                                        ],'SIDE', inplace=True)\n",
    "\n",
    "#TOP/BOTTOM\n",
    "cln_veh['FIRST_CONTACT_POINT'].replace([\n",
    "                                        'ROOF', 'UNDER CARRIAGE'\n",
    "                                        ],'TOP/BOTTOM', inplace=True)"
   ]
  },
  {
   "cell_type": "code",
   "execution_count": 1638,
   "id": "fbcf1a20",
   "metadata": {},
   "outputs": [
    {
     "data": {
      "text/plain": [
       "FRONT                383327\n",
       "REAR                 315211\n",
       "SIDE                 164831\n",
       "OTHER                163550\n",
       "UNKNOWN              128086\n",
       "TOTAL (ALL AREAS)     92103\n",
       "TOP/BOTTOM            70381\n",
       "NONE                  10623\n",
       "Name: FIRST_CONTACT_POINT, dtype: int64"
      ]
     },
     "execution_count": 1638,
     "metadata": {},
     "output_type": "execute_result"
    }
   ],
   "source": [
    "#check new value counts\n",
    "cln_veh['FIRST_CONTACT_POINT'].value_counts()"
   ]
  },
  {
   "cell_type": "code",
   "execution_count": 1639,
   "id": "a050c95c",
   "metadata": {},
   "outputs": [],
   "source": [
    "#drop missing values\n",
    "cln_veh = cln_veh.dropna()"
   ]
  },
  {
   "cell_type": "code",
   "execution_count": 1640,
   "id": "6b84d404",
   "metadata": {},
   "outputs": [
    {
     "name": "stdout",
     "output_type": "stream",
     "text": [
      "<class 'pandas.core.frame.DataFrame'>\n",
      "Int64Index: 1328112 entries, 0 to 1416094\n",
      "Data columns (total 6 columns):\n",
      " #   Column               Non-Null Count    Dtype \n",
      "---  ------               --------------    ----- \n",
      " 0   CRASH_RECORD_ID      1328112 non-null  object\n",
      " 1   VEHICLE_TYPE         1328112 non-null  object\n",
      " 2   MANEUVER             1328112 non-null  object\n",
      " 3   FIRST_CONTACT_POINT  1328112 non-null  object\n",
      " 4   VEHICLE_DEFECT_I     1328112 non-null  object\n",
      " 5   OCCUPANT_CAT         1328112 non-null  object\n",
      "dtypes: object(6)\n",
      "memory usage: 70.9+ MB\n"
     ]
    }
   ],
   "source": [
    "#final dataframe check\n",
    "cln_veh.info()"
   ]
  },
  {
   "cell_type": "markdown",
   "id": "a739bc9d",
   "metadata": {},
   "source": [
    "No we can move on and merge this dataset with the crashes dataset."
   ]
  },
  {
   "cell_type": "code",
   "execution_count": 1641,
   "id": "edf5d4c1",
   "metadata": {
    "execution": {
     "iopub.execute_input": "2023-04-22T07:22:12.578400Z",
     "iopub.status.busy": "2023-04-22T07:22:12.577256Z",
     "iopub.status.idle": "2023-04-22T07:22:14.601176Z",
     "shell.execute_reply": "2023-04-22T07:22:14.599852Z"
    },
    "papermill": {
     "duration": 2.153956,
     "end_time": "2023-04-22T07:22:14.604447",
     "exception": false,
     "start_time": "2023-04-22T07:22:12.450491",
     "status": "completed"
    },
    "tags": []
   },
   "outputs": [],
   "source": [
    "#merge using crash record ID\n",
    "veh_crsh = pd.merge(cln_crashes, cln_veh, how='inner', on='CRASH_RECORD_ID' )"
   ]
  },
  {
   "cell_type": "code",
   "execution_count": 1642,
   "id": "4ec48186",
   "metadata": {
    "execution": {
     "iopub.execute_input": "2023-04-22T07:22:14.852347Z",
     "iopub.status.busy": "2023-04-22T07:22:14.851553Z",
     "iopub.status.idle": "2023-04-22T07:22:15.227164Z",
     "shell.execute_reply": "2023-04-22T07:22:15.224467Z"
    },
    "papermill": {
     "duration": 0.504262,
     "end_time": "2023-04-22T07:22:15.230826",
     "exception": false,
     "start_time": "2023-04-22T07:22:14.726564",
     "status": "completed"
    },
    "tags": []
   },
   "outputs": [
    {
     "name": "stdout",
     "output_type": "stream",
     "text": [
      "<class 'pandas.core.frame.DataFrame'>\n",
      "Int64Index: 250241 entries, 0 to 250240\n",
      "Data columns (total 25 columns):\n",
      " #   Column                   Non-Null Count   Dtype  \n",
      "---  ------                   --------------   -----  \n",
      " 0   CRASH_RECORD_ID          250241 non-null  object \n",
      " 1   CRASH_YEAR               250241 non-null  int64  \n",
      " 2   POSTED_SPEED_LIMIT       250241 non-null  int64  \n",
      " 3   DEVICE_CONDITION         250241 non-null  object \n",
      " 4   WEATHER_CONDITION        250241 non-null  object \n",
      " 5   LIGHTING_CONDITION       250241 non-null  object \n",
      " 6   CRASH_TYPE               250241 non-null  object \n",
      " 7   INTERSECTION_RELATED_I   250241 non-null  object \n",
      " 8   ROAD_DEFECT              250241 non-null  object \n",
      " 9   PRIM_CONTRIBUTORY_CAUSE  250241 non-null  object \n",
      " 10  NUM_UNITS                250241 non-null  int64  \n",
      " 11  WORK_ZONE_I              250241 non-null  object \n",
      " 12  WORKERS_PRESENT_I        250241 non-null  object \n",
      " 13  INJURIES_TOTAL           250241 non-null  float64\n",
      " 14  INJURIES_FATAL           250241 non-null  float64\n",
      " 15  CRASH_HOUR               250241 non-null  int64  \n",
      " 16  CRASH_DAY_OF_WEEK        250241 non-null  int64  \n",
      " 17  CRASH_MONTH              250241 non-null  int64  \n",
      " 18  LATITUDE                 250241 non-null  float64\n",
      " 19  LONGITUDE                250241 non-null  float64\n",
      " 20  VEHICLE_TYPE             250241 non-null  object \n",
      " 21  MANEUVER                 250241 non-null  object \n",
      " 22  FIRST_CONTACT_POINT      250241 non-null  object \n",
      " 23  VEHICLE_DEFECT_I         250241 non-null  object \n",
      " 24  OCCUPANT_CAT             250241 non-null  object \n",
      "dtypes: float64(4), int64(6), object(15)\n",
      "memory usage: 49.6+ MB\n"
     ]
    }
   ],
   "source": [
    "#check new dataframe's info\n",
    "veh_crsh.info()"
   ]
  },
  {
   "cell_type": "code",
   "execution_count": 1643,
   "id": "9cd3bf54",
   "metadata": {
    "execution": {
     "iopub.execute_input": "2023-04-22T07:22:15.491897Z",
     "iopub.status.busy": "2023-04-22T07:22:15.491381Z",
     "iopub.status.idle": "2023-04-22T07:22:15.522126Z",
     "shell.execute_reply": "2023-04-22T07:22:15.520453Z"
    },
    "papermill": {
     "duration": 0.157749,
     "end_time": "2023-04-22T07:22:15.525048",
     "exception": false,
     "start_time": "2023-04-22T07:22:15.367299",
     "status": "completed"
    },
    "tags": []
   },
   "outputs": [
    {
     "data": {
      "text/html": [
       "<div>\n",
       "<style scoped>\n",
       "    .dataframe tbody tr th:only-of-type {\n",
       "        vertical-align: middle;\n",
       "    }\n",
       "\n",
       "    .dataframe tbody tr th {\n",
       "        vertical-align: top;\n",
       "    }\n",
       "\n",
       "    .dataframe thead th {\n",
       "        text-align: right;\n",
       "    }\n",
       "</style>\n",
       "<table border=\"1\" class=\"dataframe\">\n",
       "  <thead>\n",
       "    <tr style=\"text-align: right;\">\n",
       "      <th></th>\n",
       "      <th>CRASH_RECORD_ID</th>\n",
       "      <th>CRASH_YEAR</th>\n",
       "      <th>POSTED_SPEED_LIMIT</th>\n",
       "      <th>DEVICE_CONDITION</th>\n",
       "      <th>WEATHER_CONDITION</th>\n",
       "      <th>LIGHTING_CONDITION</th>\n",
       "      <th>CRASH_TYPE</th>\n",
       "      <th>INTERSECTION_RELATED_I</th>\n",
       "      <th>ROAD_DEFECT</th>\n",
       "      <th>PRIM_CONTRIBUTORY_CAUSE</th>\n",
       "      <th>...</th>\n",
       "      <th>CRASH_HOUR</th>\n",
       "      <th>CRASH_DAY_OF_WEEK</th>\n",
       "      <th>CRASH_MONTH</th>\n",
       "      <th>LATITUDE</th>\n",
       "      <th>LONGITUDE</th>\n",
       "      <th>VEHICLE_TYPE</th>\n",
       "      <th>MANEUVER</th>\n",
       "      <th>FIRST_CONTACT_POINT</th>\n",
       "      <th>VEHICLE_DEFECT_I</th>\n",
       "      <th>OCCUPANT_CAT</th>\n",
       "    </tr>\n",
       "  </thead>\n",
       "  <tbody>\n",
       "    <tr>\n",
       "      <th>0</th>\n",
       "      <td>79c7a2ce89f446262efd86df3d72d18b04ba487024b7c4...</td>\n",
       "      <td>2019</td>\n",
       "      <td>30</td>\n",
       "      <td>FUNCTIONING PROPERLY</td>\n",
       "      <td>CLEAR</td>\n",
       "      <td>DAY TIME</td>\n",
       "      <td>INJURY AND / OR TOW DUE TO CRASH</td>\n",
       "      <td>Y</td>\n",
       "      <td>NO DEFECTS</td>\n",
       "      <td>RECKLESS/IMPROPER DRIVING</td>\n",
       "      <td>...</td>\n",
       "      <td>14</td>\n",
       "      <td>2</td>\n",
       "      <td>3</td>\n",
       "      <td>41.884547</td>\n",
       "      <td>-87.641201</td>\n",
       "      <td>REGULAR PERSONAL</td>\n",
       "      <td>TURNING</td>\n",
       "      <td>FRONT</td>\n",
       "      <td>N</td>\n",
       "      <td>1-2</td>\n",
       "    </tr>\n",
       "    <tr>\n",
       "      <th>1</th>\n",
       "      <td>79c7a2ce89f446262efd86df3d72d18b04ba487024b7c4...</td>\n",
       "      <td>2019</td>\n",
       "      <td>30</td>\n",
       "      <td>FUNCTIONING PROPERLY</td>\n",
       "      <td>CLEAR</td>\n",
       "      <td>DAY TIME</td>\n",
       "      <td>INJURY AND / OR TOW DUE TO CRASH</td>\n",
       "      <td>Y</td>\n",
       "      <td>NO DEFECTS</td>\n",
       "      <td>RECKLESS/IMPROPER DRIVING</td>\n",
       "      <td>...</td>\n",
       "      <td>14</td>\n",
       "      <td>2</td>\n",
       "      <td>3</td>\n",
       "      <td>41.884547</td>\n",
       "      <td>-87.641201</td>\n",
       "      <td>REGULAR PERSONAL</td>\n",
       "      <td>STRAIGHT</td>\n",
       "      <td>FRONT</td>\n",
       "      <td>N</td>\n",
       "      <td>1-2</td>\n",
       "    </tr>\n",
       "    <tr>\n",
       "      <th>2</th>\n",
       "      <td>7b3545fb91352d7fc46ba142d9044a5508671db4d01d02...</td>\n",
       "      <td>2020</td>\n",
       "      <td>25</td>\n",
       "      <td>FUNCTIONING PROPERLY</td>\n",
       "      <td>CLEAR</td>\n",
       "      <td>DAY TIME</td>\n",
       "      <td>INJURY AND / OR TOW DUE TO CRASH</td>\n",
       "      <td>Y</td>\n",
       "      <td>NO DEFECTS</td>\n",
       "      <td>TRAFFIC RULES VIOLATED</td>\n",
       "      <td>...</td>\n",
       "      <td>11</td>\n",
       "      <td>4</td>\n",
       "      <td>7</td>\n",
       "      <td>41.876850</td>\n",
       "      <td>-87.745294</td>\n",
       "      <td>COMMERCIAL</td>\n",
       "      <td>START/STOP</td>\n",
       "      <td>NONE</td>\n",
       "      <td>U</td>\n",
       "      <td>1-2</td>\n",
       "    </tr>\n",
       "    <tr>\n",
       "      <th>3</th>\n",
       "      <td>03d3679ef44bb8aa0f2060cb0376f3eeb1d9dbb2197322...</td>\n",
       "      <td>2022</td>\n",
       "      <td>30</td>\n",
       "      <td>FUNCTIONING PROPERLY</td>\n",
       "      <td>NOT CLEAR</td>\n",
       "      <td>DAY TIME</td>\n",
       "      <td>INJURY AND / OR TOW DUE TO CRASH</td>\n",
       "      <td>Y</td>\n",
       "      <td>NO DEFECTS</td>\n",
       "      <td>TRAFFIC RULES VIOLATED</td>\n",
       "      <td>...</td>\n",
       "      <td>16</td>\n",
       "      <td>6</td>\n",
       "      <td>7</td>\n",
       "      <td>41.855974</td>\n",
       "      <td>-87.663860</td>\n",
       "      <td>REGULAR PERSONAL</td>\n",
       "      <td>TURNING</td>\n",
       "      <td>OTHER</td>\n",
       "      <td>U</td>\n",
       "      <td>1-2</td>\n",
       "    </tr>\n",
       "    <tr>\n",
       "      <th>4</th>\n",
       "      <td>79704e1b747fbf5f740f1255785934dfe659ff910d4782...</td>\n",
       "      <td>2019</td>\n",
       "      <td>30</td>\n",
       "      <td>FUNCTIONING PROPERLY</td>\n",
       "      <td>CLEAR</td>\n",
       "      <td>DAY TIME</td>\n",
       "      <td>INJURY AND / OR TOW DUE TO CRASH</td>\n",
       "      <td>N</td>\n",
       "      <td>NO DEFECTS</td>\n",
       "      <td>RECKLESS/IMPROPER DRIVING</td>\n",
       "      <td>...</td>\n",
       "      <td>14</td>\n",
       "      <td>6</td>\n",
       "      <td>6</td>\n",
       "      <td>41.867502</td>\n",
       "      <td>-87.627568</td>\n",
       "      <td>UNKNOWN/NA</td>\n",
       "      <td>UNKNOWN/NA</td>\n",
       "      <td>OTHER</td>\n",
       "      <td>U</td>\n",
       "      <td>1-2</td>\n",
       "    </tr>\n",
       "  </tbody>\n",
       "</table>\n",
       "<p>5 rows × 25 columns</p>\n",
       "</div>"
      ],
      "text/plain": [
       "                                     CRASH_RECORD_ID  CRASH_YEAR  \\\n",
       "0  79c7a2ce89f446262efd86df3d72d18b04ba487024b7c4...        2019   \n",
       "1  79c7a2ce89f446262efd86df3d72d18b04ba487024b7c4...        2019   \n",
       "2  7b3545fb91352d7fc46ba142d9044a5508671db4d01d02...        2020   \n",
       "3  03d3679ef44bb8aa0f2060cb0376f3eeb1d9dbb2197322...        2022   \n",
       "4  79704e1b747fbf5f740f1255785934dfe659ff910d4782...        2019   \n",
       "\n",
       "   POSTED_SPEED_LIMIT      DEVICE_CONDITION WEATHER_CONDITION  \\\n",
       "0                  30  FUNCTIONING PROPERLY             CLEAR   \n",
       "1                  30  FUNCTIONING PROPERLY             CLEAR   \n",
       "2                  25  FUNCTIONING PROPERLY             CLEAR   \n",
       "3                  30  FUNCTIONING PROPERLY         NOT CLEAR   \n",
       "4                  30  FUNCTIONING PROPERLY             CLEAR   \n",
       "\n",
       "  LIGHTING_CONDITION                        CRASH_TYPE INTERSECTION_RELATED_I  \\\n",
       "0           DAY TIME  INJURY AND / OR TOW DUE TO CRASH                      Y   \n",
       "1           DAY TIME  INJURY AND / OR TOW DUE TO CRASH                      Y   \n",
       "2           DAY TIME  INJURY AND / OR TOW DUE TO CRASH                      Y   \n",
       "3           DAY TIME  INJURY AND / OR TOW DUE TO CRASH                      Y   \n",
       "4           DAY TIME  INJURY AND / OR TOW DUE TO CRASH                      N   \n",
       "\n",
       "  ROAD_DEFECT    PRIM_CONTRIBUTORY_CAUSE  ...  CRASH_HOUR CRASH_DAY_OF_WEEK  \\\n",
       "0  NO DEFECTS  RECKLESS/IMPROPER DRIVING  ...          14                 2   \n",
       "1  NO DEFECTS  RECKLESS/IMPROPER DRIVING  ...          14                 2   \n",
       "2  NO DEFECTS     TRAFFIC RULES VIOLATED  ...          11                 4   \n",
       "3  NO DEFECTS     TRAFFIC RULES VIOLATED  ...          16                 6   \n",
       "4  NO DEFECTS  RECKLESS/IMPROPER DRIVING  ...          14                 6   \n",
       "\n",
       "  CRASH_MONTH   LATITUDE  LONGITUDE      VEHICLE_TYPE    MANEUVER  \\\n",
       "0           3  41.884547 -87.641201  REGULAR PERSONAL     TURNING   \n",
       "1           3  41.884547 -87.641201  REGULAR PERSONAL    STRAIGHT   \n",
       "2           7  41.876850 -87.745294        COMMERCIAL  START/STOP   \n",
       "3           7  41.855974 -87.663860  REGULAR PERSONAL     TURNING   \n",
       "4           6  41.867502 -87.627568        UNKNOWN/NA  UNKNOWN/NA   \n",
       "\n",
       "   FIRST_CONTACT_POINT  VEHICLE_DEFECT_I  OCCUPANT_CAT  \n",
       "0                FRONT                 N           1-2  \n",
       "1                FRONT                 N           1-2  \n",
       "2                 NONE                 U           1-2  \n",
       "3                OTHER                 U           1-2  \n",
       "4                OTHER                 U           1-2  \n",
       "\n",
       "[5 rows x 25 columns]"
      ]
     },
     "execution_count": 1643,
     "metadata": {},
     "output_type": "execute_result"
    }
   ],
   "source": [
    "#check dataset\n",
    "veh_crsh.head()"
   ]
  },
  {
   "cell_type": "code",
   "execution_count": 1644,
   "id": "cb607bce",
   "metadata": {
    "execution": {
     "iopub.execute_input": "2023-04-22T07:22:15.779197Z",
     "iopub.status.busy": "2023-04-22T07:22:15.776364Z",
     "iopub.status.idle": "2023-04-22T07:22:15.943538Z",
     "shell.execute_reply": "2023-04-22T07:22:15.942007Z"
    },
    "papermill": {
     "duration": 0.298114,
     "end_time": "2023-04-22T07:22:15.946443",
     "exception": false,
     "start_time": "2023-04-22T07:22:15.648329",
     "status": "completed"
    },
    "tags": []
   },
   "outputs": [
    {
     "data": {
      "text/plain": [
       "129487"
      ]
     },
     "execution_count": 1644,
     "metadata": {},
     "output_type": "execute_result"
    }
   ],
   "source": [
    "#check unique records fr crash reecord ID\n",
    "len(veh_crsh['CRASH_RECORD_ID'].unique())"
   ]
  },
  {
   "cell_type": "code",
   "execution_count": 1645,
   "id": "80e2e488",
   "metadata": {},
   "outputs": [
    {
     "name": "stdout",
     "output_type": "stream",
     "text": [
      "120754\n",
      "The ratio of number of crashes to total number of records:  2.072320585653477\n"
     ]
    }
   ],
   "source": [
    "#check difference of unique reecords and total records\n",
    "diff = (len(veh_crsh) - len(veh_crsh['CRASH_RECORD_ID'].unique()))\n",
    "print(diff)\n",
    "\n",
    "#check the ratio to understand the ratio\n",
    "print('The ratio of number of crashes to total number of records: ', len(veh_crsh)/diff)"
   ]
  },
  {
   "cell_type": "markdown",
   "id": "7b1c7981",
   "metadata": {},
   "source": [
    "We can see that there are approximately on average 2 vehicles per crash. There are for sure severaal records where crashes took place between a vehicle and a pedestrian or cyclist. The multiple records for the same craash ID represent that there was more than one vehicle involved in a crash.\n",
    "\n",
    "Next we'll clen up the people database and merge it with this one. Then we will deal with the unkown values that we have carried forward from this dataset."
   ]
  },
  {
   "cell_type": "markdown",
   "id": "b13ca729",
   "metadata": {
    "papermill": {
     "duration": 0.128916,
     "end_time": "2023-04-22T07:22:16.270823",
     "exception": false,
     "start_time": "2023-04-22T07:22:16.141907",
     "status": "completed"
    },
    "tags": []
   },
   "source": [
    "### People"
   ]
  },
  {
   "cell_type": "markdown",
   "id": "25ceefb8",
   "metadata": {},
   "source": [
    "First, lets extract the columns to keep."
   ]
  },
  {
   "cell_type": "code",
   "execution_count": 1646,
   "id": "c1a4cae3",
   "metadata": {
    "execution": {
     "iopub.execute_input": "2023-04-22T07:22:16.527621Z",
     "iopub.status.busy": "2023-04-22T07:22:16.526354Z",
     "iopub.status.idle": "2023-04-22T07:22:16.682808Z",
     "shell.execute_reply": "2023-04-22T07:22:16.681605Z"
    },
    "papermill": {
     "duration": 0.288145,
     "end_time": "2023-04-22T07:22:16.686305",
     "exception": false,
     "start_time": "2023-04-22T07:22:16.398160",
     "status": "completed"
    },
    "tags": []
   },
   "outputs": [],
   "source": [
    "#extract columns\n",
    "cln_people = people_df[\n",
    "    ['PERSON_TYPE',\n",
    "    'CRASH_RECORD_ID',\n",
    "    'VEHICLE_ID',\n",
    "    'AGE',\n",
    "    'SAFETY_EQUIPMENT',\n",
    "    'INJURY_CLASSIFICATION',\n",
    "    'DRIVER_ACTION',\n",
    "    'DRIVER_VISION',\n",
    "    'PHYSICAL_CONDITION',\n",
    "    'PEDPEDAL_ACTION',\n",
    "    'BAC_RESULT VALUE']    \n",
    "]"
   ]
  },
  {
   "cell_type": "code",
   "execution_count": 1647,
   "id": "7fbd1327",
   "metadata": {
    "execution": {
     "iopub.execute_input": "2023-04-22T07:22:16.937099Z",
     "iopub.status.busy": "2023-04-22T07:22:16.936623Z",
     "iopub.status.idle": "2023-04-22T07:22:17.642178Z",
     "shell.execute_reply": "2023-04-22T07:22:17.639744Z"
    },
    "papermill": {
     "duration": 0.835917,
     "end_time": "2023-04-22T07:22:17.646300",
     "exception": false,
     "start_time": "2023-04-22T07:22:16.810383",
     "status": "completed"
    },
    "tags": []
   },
   "outputs": [
    {
     "name": "stdout",
     "output_type": "stream",
     "text": [
      "<class 'pandas.core.frame.DataFrame'>\n",
      "RangeIndex: 1530385 entries, 0 to 1530384\n",
      "Data columns (total 11 columns):\n",
      " #   Column                 Non-Null Count    Dtype  \n",
      "---  ------                 --------------    -----  \n",
      " 0   PERSON_TYPE            1530385 non-null  object \n",
      " 1   CRASH_RECORD_ID        1530385 non-null  object \n",
      " 2   VEHICLE_ID             1500311 non-null  float64\n",
      " 3   AGE                    1085359 non-null  float64\n",
      " 4   SAFETY_EQUIPMENT       1526028 non-null  object \n",
      " 5   INJURY_CLASSIFICATION  1529714 non-null  object \n",
      " 6   DRIVER_ACTION          1218047 non-null  object \n",
      " 7   DRIVER_VISION          1217601 non-null  object \n",
      " 8   PHYSICAL_CONDITION     1218903 non-null  object \n",
      " 9   PEDPEDAL_ACTION        28502 non-null    object \n",
      " 10  BAC_RESULT VALUE       1824 non-null     float64\n",
      "dtypes: float64(3), object(8)\n",
      "memory usage: 128.4+ MB\n"
     ]
    }
   ],
   "source": [
    "#check dataframe info\n",
    "cln_people.info()"
   ]
  },
  {
   "cell_type": "markdown",
   "id": "b2957f1e",
   "metadata": {},
   "source": [
    "There are a few missing records in Vehicle ID but since we are joining on Crash REcord ID, we can ignore these missing records and drop the Vehicle ID column eventually.\n",
    "\n",
    "Lets evaluate the specific Person Type column and correlare whether the data is clean from a perspective of every relevant category"
   ]
  },
  {
   "cell_type": "code",
   "execution_count": 1648,
   "id": "0e66db60",
   "metadata": {
    "execution": {
     "iopub.execute_input": "2023-04-22T07:22:17.903749Z",
     "iopub.status.busy": "2023-04-22T07:22:17.903068Z",
     "iopub.status.idle": "2023-04-22T07:22:18.010595Z",
     "shell.execute_reply": "2023-04-22T07:22:18.009006Z"
    },
    "papermill": {
     "duration": 0.241577,
     "end_time": "2023-04-22T07:22:18.013687",
     "exception": false,
     "start_time": "2023-04-22T07:22:17.772110",
     "status": "completed"
    },
    "tags": []
   },
   "outputs": [
    {
     "data": {
      "text/plain": [
       "DRIVER                 1191234\n",
       "PASSENGER               309565\n",
       "PEDESTRIAN               17588\n",
       "BICYCLE                  10478\n",
       "NON-MOTOR VEHICLE         1253\n",
       "NON-CONTACT VEHICLE        267\n",
       "Name: PERSON_TYPE, dtype: int64"
      ]
     },
     "execution_count": 1648,
     "metadata": {},
     "output_type": "execute_result"
    }
   ],
   "source": [
    "cln_people['PERSON_TYPE'].value_counts()"
   ]
  },
  {
   "cell_type": "markdown",
   "id": "272b6846",
   "metadata": {},
   "source": [
    "Lets look at the Passenger category. We want to make sure that there is no values in the Driver Action and Driver Visibility columns."
   ]
  },
  {
   "cell_type": "code",
   "execution_count": 1649,
   "id": "d3d4fe34",
   "metadata": {
    "execution": {
     "iopub.execute_input": "2023-04-22T07:22:18.264191Z",
     "iopub.status.busy": "2023-04-22T07:22:18.263666Z",
     "iopub.status.idle": "2023-04-22T07:22:18.616083Z",
     "shell.execute_reply": "2023-04-22T07:22:18.613622Z"
    },
    "papermill": {
     "duration": 0.482931,
     "end_time": "2023-04-22T07:22:18.619132",
     "exception": false,
     "start_time": "2023-04-22T07:22:18.136201",
     "status": "completed"
    },
    "tags": []
   },
   "outputs": [
    {
     "name": "stdout",
     "output_type": "stream",
     "text": [
      "<class 'pandas.core.frame.DataFrame'>\n",
      "Int64Index: 309565 entries, 54 to 1530384\n",
      "Data columns (total 11 columns):\n",
      " #   Column                 Non-Null Count   Dtype  \n",
      "---  ------                 --------------   -----  \n",
      " 0   PERSON_TYPE            309565 non-null  object \n",
      " 1   CRASH_RECORD_ID        309565 non-null  object \n",
      " 2   VEHICLE_ID             309565 non-null  float64\n",
      " 3   AGE                    188759 non-null  float64\n",
      " 4   SAFETY_EQUIPMENT       309302 non-null  object \n",
      " 5   INJURY_CLASSIFICATION  309241 non-null  object \n",
      " 6   DRIVER_ACTION          0 non-null       object \n",
      " 7   DRIVER_VISION          0 non-null       object \n",
      " 8   PHYSICAL_CONDITION     0 non-null       object \n",
      " 9   PEDPEDAL_ACTION        0 non-null       object \n",
      " 10  BAC_RESULT VALUE       0 non-null       float64\n",
      "dtypes: float64(3), object(8)\n",
      "memory usage: 28.3+ MB\n"
     ]
    }
   ],
   "source": [
    "#check info for Passenger person type\n",
    "cln_people[cln_people['PERSON_TYPE'] == 'PASSENGER'].info()"
   ]
  },
  {
   "cell_type": "markdown",
   "id": "b26ed8fe",
   "metadata": {},
   "source": [
    "The data is as was anticipated with no mistakes in the Driver Action and Driver Visbility feature. NExt lets ecplore the Age colum. It has a some missing values which we will have to deal with."
   ]
  },
  {
   "cell_type": "code",
   "execution_count": 1650,
   "id": "b9574c64",
   "metadata": {
    "execution": {
     "iopub.execute_input": "2023-04-22T07:22:19.825835Z",
     "iopub.status.busy": "2023-04-22T07:22:19.825350Z",
     "iopub.status.idle": "2023-04-22T07:22:19.859321Z",
     "shell.execute_reply": "2023-04-22T07:22:19.857558Z"
    },
    "papermill": {
     "duration": 0.164529,
     "end_time": "2023-04-22T07:22:19.862773",
     "exception": false,
     "start_time": "2023-04-22T07:22:19.698244",
     "status": "completed"
    },
    "tags": []
   },
   "outputs": [
    {
     "data": {
      "text/plain": [
       " 25.0     30759\n",
       " 27.0     30617\n",
       " 26.0     30613\n",
       " 28.0     29972\n",
       " 24.0     29722\n",
       "          ...  \n",
       "-40.0         1\n",
       "-47.0         1\n",
       "-49.0         1\n",
       "-177.0        1\n",
       " 106.0        1\n",
       "Name: AGE, Length: 116, dtype: int64"
      ]
     },
     "execution_count": 1650,
     "metadata": {},
     "output_type": "execute_result"
    }
   ],
   "source": [
    "#check value counts\n",
    "cln_people['AGE'].value_counts()"
   ]
  },
  {
   "cell_type": "markdown",
   "id": "6c583a34",
   "metadata": {},
   "source": [
    "Looks like there are several negative values as well. These caan be typos and we can use the absolute Mathematics operation t convert them back into positive integers."
   ]
  },
  {
   "cell_type": "code",
   "execution_count": 1651,
   "id": "dc7be0c2",
   "metadata": {
    "execution": {
     "iopub.execute_input": "2023-04-22T07:22:20.114370Z",
     "iopub.status.busy": "2023-04-22T07:22:20.113931Z",
     "iopub.status.idle": "2023-04-22T07:22:20.128455Z",
     "shell.execute_reply": "2023-04-22T07:22:20.127355Z"
    },
    "papermill": {
     "duration": 0.145537,
     "end_time": "2023-04-22T07:22:20.131551",
     "exception": false,
     "start_time": "2023-04-22T07:22:19.986014",
     "status": "completed"
    },
    "tags": []
   },
   "outputs": [
    {
     "name": "stderr",
     "output_type": "stream",
     "text": [
      "/var/folders/qv/0z2v23tn1f1b2fnpqqgqsxch0000gn/T/ipykernel_4590/2727477665.py:2: SettingWithCopyWarning: \n",
      "A value is trying to be set on a copy of a slice from a DataFrame.\n",
      "Try using .loc[row_indexer,col_indexer] = value instead\n",
      "\n",
      "See the caveats in the documentation: https://pandas.pydata.org/pandas-docs/stable/user_guide/indexing.html#returning-a-view-versus-a-copy\n",
      "  cln_people['AGE'] = cln_people['AGE'].abs()\n"
     ]
    }
   ],
   "source": [
    "#convert negative values to positive\n",
    "cln_people['AGE'] = cln_people['AGE'].abs()"
   ]
  },
  {
   "cell_type": "code",
   "execution_count": 1652,
   "id": "ed432e4b",
   "metadata": {
    "execution": {
     "iopub.execute_input": "2023-04-22T07:22:20.394212Z",
     "iopub.status.busy": "2023-04-22T07:22:20.393703Z",
     "iopub.status.idle": "2023-04-22T07:22:20.427511Z",
     "shell.execute_reply": "2023-04-22T07:22:20.426089Z"
    },
    "papermill": {
     "duration": 0.172719,
     "end_time": "2023-04-22T07:22:20.430530",
     "exception": false,
     "start_time": "2023-04-22T07:22:20.257811",
     "status": "completed"
    },
    "tags": []
   },
   "outputs": [
    {
     "data": {
      "text/plain": [
       "25.0     30759\n",
       "27.0     30617\n",
       "26.0     30613\n",
       "28.0     29972\n",
       "24.0     29722\n",
       "         ...  \n",
       "110.0        5\n",
       "108.0        5\n",
       "105.0        3\n",
       "177.0        1\n",
       "106.0        1\n",
       "Name: AGE, Length: 112, dtype: int64"
      ]
     },
     "execution_count": 1652,
     "metadata": {},
     "output_type": "execute_result"
    }
   ],
   "source": [
    "#check new value counts\n",
    "cln_people['AGE'].value_counts()"
   ]
  },
  {
   "cell_type": "markdown",
   "id": "df6c1ade",
   "metadata": {},
   "source": [
    "The longest a person haas lived in the US is 119 years therefore there are a few age values that don;t seem realistic. As of 2021, the official numbers for the percentage of US population older than 75 was ~6.7%\n",
    "\n",
    "Based on this fact, to increase the confidence in the dataset and remove any possible erros in entering ages, it would be important to limit the ages that we model for. It would be safe to drop records with 75+ ages and still cater to the majority of the population."
   ]
  },
  {
   "cell_type": "code",
   "execution_count": 1653,
   "id": "28417daa",
   "metadata": {},
   "outputs": [],
   "source": [
    "#select records with ages less than or equal to 75\n",
    "cln_people = cln_people[cln_people['AGE'] <= 75]"
   ]
  },
  {
   "cell_type": "markdown",
   "id": "abeed28a",
   "metadata": {},
   "source": [
    "Lets take a look at the filtered out data's disstribution. Ideally, we would see a smaller amount people under the age of 18 because they are mostly passengers or with adults. Vice versa, we should see a hiigher number of people involved in crashes older than 18 years."
   ]
  },
  {
   "cell_type": "code",
   "execution_count": 1654,
   "id": "4ef45b2c",
   "metadata": {
    "execution": {
     "iopub.execute_input": "2023-04-22T07:22:20.760469Z",
     "iopub.status.busy": "2023-04-22T07:22:20.759994Z",
     "iopub.status.idle": "2023-04-22T07:22:22.048899Z",
     "shell.execute_reply": "2023-04-22T07:22:22.047251Z"
    },
    "papermill": {
     "duration": 1.495705,
     "end_time": "2023-04-22T07:22:22.052166",
     "exception": false,
     "start_time": "2023-04-22T07:22:20.556461",
     "status": "completed"
    },
    "scrolled": true,
    "tags": []
   },
   "outputs": [
    {
     "data": {
      "image/png": "[encoded data removed]",
      "text/plain": [
       "<Figure size 432x288 with 1 Axes>"
      ]
     },
     "metadata": {
      "needs_background": "light"
     },
     "output_type": "display_data"
    }
   ],
   "source": [
    "#plot a histogram\n",
    "cln_people['AGE'].hist(bins='auto');"
   ]
  },
  {
   "cell_type": "markdown",
   "id": "67b6eeb8",
   "metadata": {},
   "source": [
    "Now we haave to deal with the missing values for the Age column. There are almost 500k records missing age values. This is a very large number so we can't drop these. We can impute values using the person type column. For drivers, we will use the median age from the records of that specific category."
   ]
  },
  {
   "cell_type": "code",
   "execution_count": 1655,
   "id": "b1f03930",
   "metadata": {},
   "outputs": [
    {
     "name": "stderr",
     "output_type": "stream",
     "text": [
      "/var/folders/qv/0z2v23tn1f1b2fnpqqgqsxch0000gn/T/ipykernel_4590/3145763907.py:2: SettingWithCopyWarning: \n",
      "A value is trying to be set on a copy of a slice from a DataFrame\n",
      "\n",
      "See the caveats in the documentation: https://pandas.pydata.org/pandas-docs/stable/user_guide/indexing.html#returning-a-view-versus-a-copy\n",
      "  cln_people[cln_people['PERSON_TYPE'] == 'DRIVER']['AGE'].fillna(\n"
     ]
    }
   ],
   "source": [
    "#impute the values of age for the driver person type\n",
    "cln_people[cln_people['PERSON_TYPE'] == 'DRIVER']['AGE'].fillna(\n",
    "                                            cln_people[cln_people['PERSON_TYPE'] == 'DRIVER']['AGE'].median(), \n",
    "                                            inplace= True)"
   ]
  },
  {
   "cell_type": "code",
   "execution_count": 1656,
   "id": "1749fd38",
   "metadata": {},
   "outputs": [
    {
     "name": "stderr",
     "output_type": "stream",
     "text": [
      "/var/folders/qv/0z2v23tn1f1b2fnpqqgqsxch0000gn/T/ipykernel_4590/3282200883.py:2: SettingWithCopyWarning: \n",
      "A value is trying to be set on a copy of a slice from a DataFrame\n",
      "\n",
      "See the caveats in the documentation: https://pandas.pydata.org/pandas-docs/stable/user_guide/indexing.html#returning-a-view-versus-a-copy\n",
      "  cln_people[cln_people['PERSON_TYPE'] == 'PASSENGER']['AGE'].fillna(\n"
     ]
    }
   ],
   "source": [
    "#impute the values of age for the passenger person type\n",
    "cln_people[cln_people['PERSON_TYPE'] == 'PASSENGER']['AGE'].fillna(\n",
    "                                            cln_people[cln_people['PERSON_TYPE'] == 'PASSENGER']['AGE'].median(), \n",
    "                                            inplace= True)"
   ]
  },
  {
   "cell_type": "code",
   "execution_count": 1657,
   "id": "c9dc8946",
   "metadata": {},
   "outputs": [
    {
     "name": "stderr",
     "output_type": "stream",
     "text": [
      "/var/folders/qv/0z2v23tn1f1b2fnpqqgqsxch0000gn/T/ipykernel_4590/1623271779.py:2: SettingWithCopyWarning: \n",
      "A value is trying to be set on a copy of a slice from a DataFrame\n",
      "\n",
      "See the caveats in the documentation: https://pandas.pydata.org/pandas-docs/stable/user_guide/indexing.html#returning-a-view-versus-a-copy\n",
      "  cln_people[cln_people['PERSON_TYPE'] == 'PEDESTRIAN']['AGE'].fillna(\n"
     ]
    }
   ],
   "source": [
    "#impute the values of age for the pedestrian person type\n",
    "cln_people[cln_people['PERSON_TYPE'] == 'PEDESTRIAN']['AGE'].fillna(\n",
    "                                            cln_people[cln_people['PERSON_TYPE'] == 'PEDESTRIAN']['AGE'].median(), \n",
    "                                            inplace= True)"
   ]
  },
  {
   "cell_type": "code",
   "execution_count": 1658,
   "id": "0803ecf0",
   "metadata": {},
   "outputs": [
    {
     "name": "stderr",
     "output_type": "stream",
     "text": [
      "/var/folders/qv/0z2v23tn1f1b2fnpqqgqsxch0000gn/T/ipykernel_4590/3840521133.py:2: SettingWithCopyWarning: \n",
      "A value is trying to be set on a copy of a slice from a DataFrame\n",
      "\n",
      "See the caveats in the documentation: https://pandas.pydata.org/pandas-docs/stable/user_guide/indexing.html#returning-a-view-versus-a-copy\n",
      "  cln_people[cln_people['PERSON_TYPE'] == 'BICYCLE']['AGE'].fillna(\n"
     ]
    }
   ],
   "source": [
    "#impute the values of age for the biycle person type\n",
    "cln_people[cln_people['PERSON_TYPE'] == 'BICYCLE']['AGE'].fillna(\n",
    "                                                cln_people[cln_people['PERSON_TYPE'] == 'BICYCLE']['AGE'].median(), \n",
    "                                                inplace= True)"
   ]
  },
  {
   "cell_type": "code",
   "execution_count": 1659,
   "id": "9320450d",
   "metadata": {},
   "outputs": [
    {
     "name": "stderr",
     "output_type": "stream",
     "text": [
      "/var/folders/qv/0z2v23tn1f1b2fnpqqgqsxch0000gn/T/ipykernel_4590/4054670313.py:2: SettingWithCopyWarning: \n",
      "A value is trying to be set on a copy of a slice from a DataFrame\n",
      "\n",
      "See the caveats in the documentation: https://pandas.pydata.org/pandas-docs/stable/user_guide/indexing.html#returning-a-view-versus-a-copy\n",
      "  cln_people[cln_people['PERSON_TYPE'] == 'NON-MOTOR VEHICLE']['AGE'].fillna(\n"
     ]
    }
   ],
   "source": [
    "#impute the values of age for the NON-MOTOR VEHICLE person type\n",
    "cln_people[cln_people['PERSON_TYPE'] == 'NON-MOTOR VEHICLE']['AGE'].fillna(\n",
    "                                    cln_people[cln_people['PERSON_TYPE'] == 'NON-MOTOR VEHICLE']['AGE'].median(), \n",
    "                                    inplace= True)"
   ]
  },
  {
   "cell_type": "code",
   "execution_count": 1660,
   "id": "d13d0544",
   "metadata": {},
   "outputs": [
    {
     "name": "stderr",
     "output_type": "stream",
     "text": [
      "/var/folders/qv/0z2v23tn1f1b2fnpqqgqsxch0000gn/T/ipykernel_4590/2648944902.py:2: SettingWithCopyWarning: \n",
      "A value is trying to be set on a copy of a slice from a DataFrame\n",
      "\n",
      "See the caveats in the documentation: https://pandas.pydata.org/pandas-docs/stable/user_guide/indexing.html#returning-a-view-versus-a-copy\n",
      "  cln_people[cln_people['PERSON_TYPE'] == 'NON-CONTACT VEHICLE']['AGE'].fillna(\n"
     ]
    }
   ],
   "source": [
    "#impute the values of age for the NON-CONTACT VEHICLE person type\n",
    "cln_people[cln_people['PERSON_TYPE'] == 'NON-CONTACT VEHICLE']['AGE'].fillna(\n",
    "                                    cln_people[cln_people['PERSON_TYPE'] == 'NON-CONTACT VEHICLE']['AGE'].median(), \n",
    "                                    inplace= True)"
   ]
  },
  {
   "cell_type": "markdown",
   "id": "8de557e9",
   "metadata": {},
   "source": [
    "Lets take a look at the distribution again"
   ]
  },
  {
   "cell_type": "code",
   "execution_count": 1661,
   "id": "314428d9",
   "metadata": {
    "execution": {
     "iopub.execute_input": "2023-04-22T07:22:23.598960Z",
     "iopub.status.busy": "2023-04-22T07:22:23.598468Z",
     "iopub.status.idle": "2023-04-22T07:22:23.928170Z",
     "shell.execute_reply": "2023-04-22T07:22:23.926469Z"
    },
    "papermill": {
     "duration": 0.460756,
     "end_time": "2023-04-22T07:22:23.931682",
     "exception": false,
     "start_time": "2023-04-22T07:22:23.470926",
     "status": "completed"
    },
    "tags": []
   },
   "outputs": [
    {
     "data": {
      "image/png": "[encoded data removed]",
      "text/plain": [
       "<Figure size 432x288 with 1 Axes>"
      ]
     },
     "metadata": {
      "needs_background": "light"
     },
     "output_type": "display_data"
    }
   ],
   "source": [
    "#plot the histogram\n",
    "cln_people['AGE'].hist();"
   ]
  },
  {
   "cell_type": "code",
   "execution_count": 1662,
   "id": "20942048",
   "metadata": {},
   "outputs": [
    {
     "name": "stdout",
     "output_type": "stream",
     "text": [
      "<class 'pandas.core.frame.DataFrame'>\n",
      "Int64Index: 1065747 entries, 0 to 1530383\n",
      "Data columns (total 11 columns):\n",
      " #   Column                 Non-Null Count    Dtype  \n",
      "---  ------                 --------------    -----  \n",
      " 0   PERSON_TYPE            1065747 non-null  object \n",
      " 1   CRASH_RECORD_ID        1065747 non-null  object \n",
      " 2   VEHICLE_ID             1040480 non-null  float64\n",
      " 3   AGE                    1065747 non-null  float64\n",
      " 4   SAFETY_EQUIPMENT       1062718 non-null  object \n",
      " 5   INJURY_CLASSIFICATION  1065722 non-null  object \n",
      " 6   DRIVER_ACTION          877978 non-null   object \n",
      " 7   DRIVER_VISION          877639 non-null   object \n",
      " 8   PHYSICAL_CONDITION     878764 non-null   object \n",
      " 9   PEDPEDAL_ACTION        24714 non-null    object \n",
      " 10  BAC_RESULT VALUE       1793 non-null     float64\n",
      "dtypes: float64(3), object(8)\n",
      "memory usage: 97.6+ MB\n"
     ]
    }
   ],
   "source": [
    "#check dataframe info\n",
    "cln_people.info()"
   ]
  },
  {
   "cell_type": "markdown",
   "id": "3405e8dd",
   "metadata": {},
   "source": [
    "Next we will tackle the Safety Equipment column. There are a few missing values which we will explore how to tackle. There are also a lot of categoricaal values in this column. The informaation that we are trying to extract from this column is whether safety equipment was used or not. There are also some unkown values that we have to tackle.\n",
    "\n",
    "We can drop the records with missing values because they are a small perentage of the total and then group the remaining categories. First, lets take a look at the categories in this column."
   ]
  },
  {
   "cell_type": "code",
   "execution_count": 1663,
   "id": "4322f4e6",
   "metadata": {},
   "outputs": [],
   "source": [
    "#drop missing values\n",
    "cln_people = cln_people.dropna(subset=['SAFETY_EQUIPMENT'])"
   ]
  },
  {
   "cell_type": "code",
   "execution_count": 1664,
   "id": "3caac65a",
   "metadata": {},
   "outputs": [
    {
     "name": "stdout",
     "output_type": "stream",
     "text": [
      "<class 'pandas.core.frame.DataFrame'>\n",
      "Int64Index: 1062718 entries, 0 to 1530383\n",
      "Data columns (total 11 columns):\n",
      " #   Column                 Non-Null Count    Dtype  \n",
      "---  ------                 --------------    -----  \n",
      " 0   PERSON_TYPE            1062718 non-null  object \n",
      " 1   CRASH_RECORD_ID        1062718 non-null  object \n",
      " 2   VEHICLE_ID             1040473 non-null  float64\n",
      " 3   AGE                    1062718 non-null  float64\n",
      " 4   SAFETY_EQUIPMENT       1062718 non-null  object \n",
      " 5   INJURY_CLASSIFICATION  1062707 non-null  object \n",
      " 6   DRIVER_ACTION          876229 non-null   object \n",
      " 7   DRIVER_VISION          876088 non-null   object \n",
      " 8   PHYSICAL_CONDITION     876429 non-null   object \n",
      " 9   PEDPEDAL_ACTION        21735 non-null    object \n",
      " 10  BAC_RESULT VALUE       1792 non-null     float64\n",
      "dtypes: float64(3), object(8)\n",
      "memory usage: 97.3+ MB\n"
     ]
    }
   ],
   "source": [
    "#check info\n",
    "cln_people.info()"
   ]
  },
  {
   "cell_type": "code",
   "execution_count": 1665,
   "id": "b15fa3c3",
   "metadata": {
    "execution": {
     "iopub.execute_input": "2023-04-22T07:22:24.194315Z",
     "iopub.status.busy": "2023-04-22T07:22:24.193842Z",
     "iopub.status.idle": "2023-04-22T07:22:24.308106Z",
     "shell.execute_reply": "2023-04-22T07:22:24.306175Z"
    },
    "papermill": {
     "duration": 0.249164,
     "end_time": "2023-04-22T07:22:24.310938",
     "exception": false,
     "start_time": "2023-04-22T07:22:24.061774",
     "status": "completed"
    },
    "scrolled": true,
    "tags": []
   },
   "outputs": [
    {
     "data": {
      "text/plain": [
       "SAFETY BELT USED                              641119\n",
       "USAGE UNKNOWN                                 354429\n",
       "NONE PRESENT                                   38030\n",
       "SAFETY BELT NOT USED                            6816\n",
       "CHILD RESTRAINT USED                            5894\n",
       "HELMET NOT USED                                 5534\n",
       "CHILD RESTRAINT - FORWARD FACING                2490\n",
       "BICYCLE HELMET (PEDACYCLIST INVOLVED ONLY)      2129\n",
       "CHILD RESTRAINT - REAR FACING                   1278\n",
       "CHILD RESTRAINT - TYPE UNKNOWN                  1273\n",
       "HELMET USED                                     1267\n",
       "DOT COMPLIANT MOTORCYCLE HELMET                  857\n",
       "BOOSTER SEAT                                     730\n",
       "CHILD RESTRAINT NOT USED                         395\n",
       "NOT DOT COMPLIANT MOTORCYCLE HELMET              133\n",
       "SHOULD/LAP BELT USED IMPROPERLY                  129\n",
       "WHEELCHAIR                                       109\n",
       "CHILD RESTRAINT USED IMPROPERLY                   89\n",
       "STRETCHER                                         17\n",
       "Name: SAFETY_EQUIPMENT, dtype: int64"
      ]
     },
     "execution_count": 1665,
     "metadata": {},
     "output_type": "execute_result"
    }
   ],
   "source": [
    "#check value counts\n",
    "cln_people['SAFETY_EQUIPMENT'].value_counts()"
   ]
  },
  {
   "cell_type": "code",
   "execution_count": 1666,
   "id": "168aefad",
   "metadata": {
    "execution": {
     "iopub.execute_input": "2023-04-22T07:22:24.564471Z",
     "iopub.status.busy": "2023-04-22T07:22:24.563805Z",
     "iopub.status.idle": "2023-04-22T07:22:24.571783Z",
     "shell.execute_reply": "2023-04-22T07:22:24.570231Z"
    },
    "papermill": {
     "duration": 0.13754,
     "end_time": "2023-04-22T07:22:24.574734",
     "exception": false,
     "start_time": "2023-04-22T07:22:24.437194",
     "status": "completed"
    },
    "tags": []
   },
   "outputs": [],
   "source": [
    "#create a lists of categories for Indication thta Safety equipment was used\n",
    "sf_equip = ['SAFETY BELT USED', 'CHILD RESTRAINT USED', 'CHILD RESTRAINT - FORWARD FACING', \n",
    "            'BICYCLE HELMET (PEDACYCLIST INVOLVED ONLY)', 'CHILD RESTRAINT - TYPE UNKNOWN',\n",
    "           'CHILD RESTRAINT - REAR FACING', 'HELMET USED', 'DOT COMPLIANT MOTORCYCLE HELMET',\n",
    "           'BOOSTER SEAT', 'WHEELCHAIR', 'STRETCHER']\n",
    "\n",
    "#set up a lambda functin for grouping categories into 2 bins:\n",
    "#Equipment Used and Not Used/Misused\n",
    "f1 = (lambda x: 'SAFETY EQUIPMENT USED' if x in sf_equip \n",
    "      else ('USAGE UNKNOWN' if x =='USAGE UNKNOWN' else 'SAFETY EQUIPMENT MISSING/MISUSED'))"
   ]
  },
  {
   "cell_type": "code",
   "execution_count": 1667,
   "id": "151df2c8",
   "metadata": {
    "execution": {
     "iopub.execute_input": "2023-04-22T07:22:24.831622Z",
     "iopub.status.busy": "2023-04-22T07:22:24.831160Z",
     "iopub.status.idle": "2023-04-22T07:22:25.327879Z",
     "shell.execute_reply": "2023-04-22T07:22:25.324038Z"
    },
    "papermill": {
     "duration": 0.630179,
     "end_time": "2023-04-22T07:22:25.331370",
     "exception": false,
     "start_time": "2023-04-22T07:22:24.701191",
     "status": "completed"
    },
    "tags": []
   },
   "outputs": [],
   "source": [
    "#bin ccategories\n",
    "cln_people['SAFETY_EQUIPMENT'] = cln_people['SAFETY_EQUIPMENT'].map(f1)"
   ]
  },
  {
   "cell_type": "code",
   "execution_count": 1668,
   "id": "546e6870",
   "metadata": {
    "execution": {
     "iopub.execute_input": "2023-04-22T07:22:25.587493Z",
     "iopub.status.busy": "2023-04-22T07:22:25.587001Z",
     "iopub.status.idle": "2023-04-22T07:22:25.662929Z",
     "shell.execute_reply": "2023-04-22T07:22:25.661264Z"
    },
    "papermill": {
     "duration": 0.207084,
     "end_time": "2023-04-22T07:22:25.666191",
     "exception": false,
     "start_time": "2023-04-22T07:22:25.459107",
     "status": "completed"
    },
    "tags": []
   },
   "outputs": [
    {
     "data": {
      "text/plain": [
       "SAFETY EQUIPMENT USED               657163\n",
       "USAGE UNKNOWN                       354429\n",
       "SAFETY EQUIPMENT MISSING/MISUSED     51126\n",
       "Name: SAFETY_EQUIPMENT, dtype: int64"
      ]
     },
     "execution_count": 1668,
     "metadata": {},
     "output_type": "execute_result"
    }
   ],
   "source": [
    "cln_people['SAFETY_EQUIPMENT'].value_counts()"
   ]
  },
  {
   "cell_type": "markdown",
   "id": "f1a30b1d",
   "metadata": {},
   "source": [
    "We will keep the Usage Unkown category for now since it is a large chunk of the dataset and reevaluate after merging to see how to deal with it."
   ]
  },
  {
   "cell_type": "markdown",
   "id": "7d8ecc58",
   "metadata": {},
   "source": [
    "Neext is Injury Classifiation which also has a come missing values. The purpose of this column is to understand whether there was any injury/fatality or not. Therefore we will grooup categories accordingly. First, Lets check the value contents and go from there. "
   ]
  },
  {
   "cell_type": "code",
   "execution_count": 1669,
   "id": "ae1e1b7c",
   "metadata": {
    "execution": {
     "iopub.execute_input": "2023-04-22T07:22:27.315192Z",
     "iopub.status.busy": "2023-04-22T07:22:27.314709Z",
     "iopub.status.idle": "2023-04-22T07:22:27.420396Z",
     "shell.execute_reply": "2023-04-22T07:22:27.418864Z"
    },
    "papermill": {
     "duration": 0.240919,
     "end_time": "2023-04-22T07:22:27.424135",
     "exception": false,
     "start_time": "2023-04-22T07:22:27.183216",
     "status": "completed"
    },
    "tags": []
   },
   "outputs": [
    {
     "data": {
      "text/plain": [
       "NO INDICATION OF INJURY     947526\n",
       "NONINCAPACITATING INJURY     64936\n",
       "REPORTED, NOT EVIDENT        37511\n",
       "INCAPACITATING INJURY        12085\n",
       "FATAL                          649\n",
       "Name: INJURY_CLASSIFICATION, dtype: int64"
      ]
     },
     "execution_count": 1669,
     "metadata": {},
     "output_type": "execute_result"
    }
   ],
   "source": [
    "#checkk value counts\n",
    "cln_people['INJURY_CLASSIFICATION'].value_counts()"
   ]
  },
  {
   "cell_type": "markdown",
   "id": "84573cb5",
   "metadata": {},
   "source": [
    "We can group together the multiple categories into 2 categories of Injury and No Injury. \n",
    "\n",
    "Also, we can assume that an injury is something that is very evident and involves emeergency responsee in crashes. For missing values, we can impute the values with No Indication of Injury."
   ]
  },
  {
   "cell_type": "code",
   "execution_count": 1670,
   "id": "303d3ab8",
   "metadata": {
    "execution": {
     "iopub.execute_input": "2023-04-22T07:22:26.964291Z",
     "iopub.status.busy": "2023-04-22T07:22:26.963855Z",
     "iopub.status.idle": "2023-04-22T07:22:27.051982Z",
     "shell.execute_reply": "2023-04-22T07:22:27.049896Z"
    },
    "papermill": {
     "duration": 0.222555,
     "end_time": "2023-04-22T07:22:27.055413",
     "exception": false,
     "start_time": "2023-04-22T07:22:26.832858",
     "status": "completed"
    },
    "tags": []
   },
   "outputs": [],
   "source": [
    "#impute missing values\n",
    "cln_people['INJURY_CLASSIFICATION'].fillna('NO INDICATION OF INJURY',inplace=True)"
   ]
  },
  {
   "cell_type": "code",
   "execution_count": 1671,
   "id": "5f101fa4",
   "metadata": {},
   "outputs": [],
   "source": [
    "#bin categories\n",
    "\n",
    "#INJURY\n",
    "cln_people['INJURY_CLASSIFICATION'].replace(['NONINCAPACITATING INJURY', 'REPORTED, NOT EVIDENT',\n",
    "                                             'INCAPACITATING INJURY', 'FATAL'\n",
    "                                            ], 'INJUIRY', inplace=True)"
   ]
  },
  {
   "cell_type": "code",
   "execution_count": 1672,
   "id": "244345d7",
   "metadata": {},
   "outputs": [
    {
     "data": {
      "text/plain": [
       "NO INDICATION OF INJURY    947537\n",
       "INJUIRY                    115181\n",
       "Name: INJURY_CLASSIFICATION, dtype: int64"
      ]
     },
     "execution_count": 1672,
     "metadata": {},
     "output_type": "execute_result"
    }
   ],
   "source": [
    "#check new value counts\n",
    "cln_people['INJURY_CLASSIFICATION'].value_counts()"
   ]
  },
  {
   "cell_type": "code",
   "execution_count": 1673,
   "id": "249ccf6e",
   "metadata": {},
   "outputs": [
    {
     "name": "stdout",
     "output_type": "stream",
     "text": [
      "<class 'pandas.core.frame.DataFrame'>\n",
      "Int64Index: 1062718 entries, 0 to 1530383\n",
      "Data columns (total 11 columns):\n",
      " #   Column                 Non-Null Count    Dtype  \n",
      "---  ------                 --------------    -----  \n",
      " 0   PERSON_TYPE            1062718 non-null  object \n",
      " 1   CRASH_RECORD_ID        1062718 non-null  object \n",
      " 2   VEHICLE_ID             1040473 non-null  float64\n",
      " 3   AGE                    1062718 non-null  float64\n",
      " 4   SAFETY_EQUIPMENT       1062718 non-null  object \n",
      " 5   INJURY_CLASSIFICATION  1062718 non-null  object \n",
      " 6   DRIVER_ACTION          876229 non-null   object \n",
      " 7   DRIVER_VISION          876088 non-null   object \n",
      " 8   PHYSICAL_CONDITION     876429 non-null   object \n",
      " 9   PEDPEDAL_ACTION        21735 non-null    object \n",
      " 10  BAC_RESULT VALUE       1792 non-null     float64\n",
      "dtypes: float64(3), object(8)\n",
      "memory usage: 97.3+ MB\n"
     ]
    }
   ],
   "source": [
    "#check info\n",
    "cln_people.info()"
   ]
  },
  {
   "cell_type": "markdown",
   "id": "7fbcff25",
   "metadata": {},
   "source": [
    "Lets check the Driver Action Column next. We saw earlier that the Pedestrian Person Type didn't have any values for this column. Lets explore whhat the division of person types is for the missing values in the Driver Action column."
   ]
  },
  {
   "cell_type": "code",
   "execution_count": 1674,
   "id": "776267b8",
   "metadata": {},
   "outputs": [
    {
     "data": {
      "text/plain": [
       "DRIVER                 854811\n",
       "PASSENGER              185993\n",
       "PEDESTRIAN              12764\n",
       "BICYCLE                  8792\n",
       "NON-MOTOR VEHICLE         277\n",
       "NON-CONTACT VEHICLE        81\n",
       "Name: PERSON_TYPE, dtype: int64"
      ]
     },
     "execution_count": 1674,
     "metadata": {},
     "output_type": "execute_result"
    }
   ],
   "source": [
    "#check person type vaalue counts\n",
    "cln_people.PERSON_TYPE.value_counts()"
   ]
  },
  {
   "cell_type": "code",
   "execution_count": 1675,
   "id": "4ea58ef9",
   "metadata": {},
   "outputs": [
    {
     "data": {
      "text/plain": [
       "PASSENGER            185993\n",
       "PEDESTRIAN              400\n",
       "BICYCLE                  89\n",
       "NON-MOTOR VEHICLE         7\n",
       "Name: PERSON_TYPE, dtype: int64"
      ]
     },
     "execution_count": 1675,
     "metadata": {},
     "output_type": "execute_result"
    }
   ],
   "source": [
    "#check person type split for driver aactino null values\n",
    "cln_people[cln_people['DRIVER_ACTION'].isnull()].PERSON_TYPE.value_counts()"
   ]
  },
  {
   "cell_type": "markdown",
   "id": "627a0aff",
   "metadata": {},
   "source": [
    "All the Passenger person type records can be populated with 'Not a Driver' category and the rest can be dropped."
   ]
  },
  {
   "cell_type": "code",
   "execution_count": 1676,
   "id": "c795daef",
   "metadata": {},
   "outputs": [],
   "source": [
    "#replace the passenger person type null values in driver aaction column with PASSENGER\n",
    "cln_people.loc[cln_people.PERSON_TYPE == 'PASSENGER', 'DRIVER_ACTION'] = cln_people.DRIVER_ACTION.fillna(\n",
    "                                                                                'PASSENGER')"
   ]
  },
  {
   "cell_type": "code",
   "execution_count": 1677,
   "id": "ebfd121a",
   "metadata": {},
   "outputs": [
    {
     "data": {
      "text/plain": [
       "PEDESTRIAN           400\n",
       "BICYCLE               89\n",
       "NON-MOTOR VEHICLE      7\n",
       "Name: PERSON_TYPE, dtype: int64"
      ]
     },
     "execution_count": 1677,
     "metadata": {},
     "output_type": "execute_result"
    }
   ],
   "source": [
    "#check person type split for driver aactino null values\n",
    "cln_people[cln_people['DRIVER_ACTION'].isnull()].PERSON_TYPE.value_counts()"
   ]
  },
  {
   "cell_type": "code",
   "execution_count": 1678,
   "id": "2881ae28",
   "metadata": {},
   "outputs": [],
   "source": [
    "#drop records with null values in the Driver Action column\n",
    "cln_people.dropna(subset=['DRIVER_ACTION'],inplace=True)"
   ]
  },
  {
   "cell_type": "code",
   "execution_count": 1679,
   "id": "3b160a85",
   "metadata": {
    "execution": {
     "iopub.execute_input": "2023-04-22T07:22:27.684790Z",
     "iopub.status.busy": "2023-04-22T07:22:27.684240Z",
     "iopub.status.idle": "2023-04-22T07:22:27.782686Z",
     "shell.execute_reply": "2023-04-22T07:22:27.781036Z"
    },
    "papermill": {
     "duration": 0.233003,
     "end_time": "2023-04-22T07:22:27.785870",
     "exception": false,
     "start_time": "2023-04-22T07:22:27.552867",
     "status": "completed"
    },
    "scrolled": true,
    "tags": []
   },
   "outputs": [
    {
     "data": {
      "text/plain": [
       "NONE                                 395225\n",
       "PASSENGER                            185993\n",
       "UNKNOWN                              152429\n",
       "OTHER                                 84170\n",
       "FAILED TO YIELD                       78998\n",
       "FOLLOWED TOO CLOSELY                  50961\n",
       "IMPROPER TURN                         22215\n",
       "IMPROPER BACKING                      22027\n",
       "IMPROPER LANE CHANGE                  19951\n",
       "IMPROPER PASSING                      13647\n",
       "DISREGARDED CONTROL DEVICES           13157\n",
       "TOO FAST FOR CONDITIONS               12684\n",
       "WRONG WAY/SIDE                         2716\n",
       "IMPROPER PARKING                       2603\n",
       "OVERCORRECTED                          1513\n",
       "CELL PHONE USE OTHER THAN TEXTING      1343\n",
       "EVADING POLICE VEHICLE                 1148\n",
       "EMERGENCY VEHICLE ON CALL               926\n",
       "TEXTING                                 351\n",
       "STOPPED SCHOOL BUS                      121\n",
       "LICENSE RESTRICTIONS                     44\n",
       "Name: DRIVER_ACTION, dtype: int64"
      ]
     },
     "execution_count": 1679,
     "metadata": {},
     "output_type": "execute_result"
    }
   ],
   "source": [
    "#check new value counts\n",
    "cln_people['DRIVER_ACTION'].value_counts()"
   ]
  },
  {
   "cell_type": "code",
   "execution_count": 1680,
   "id": "422766d1",
   "metadata": {},
   "outputs": [
    {
     "name": "stdout",
     "output_type": "stream",
     "text": [
      "<class 'pandas.core.frame.DataFrame'>\n",
      "Int64Index: 1062222 entries, 0 to 1530383\n",
      "Data columns (total 11 columns):\n",
      " #   Column                 Non-Null Count    Dtype  \n",
      "---  ------                 --------------    -----  \n",
      " 0   PERSON_TYPE            1062222 non-null  object \n",
      " 1   CRASH_RECORD_ID        1062222 non-null  object \n",
      " 2   VEHICLE_ID             1040473 non-null  float64\n",
      " 3   AGE                    1062222 non-null  float64\n",
      " 4   SAFETY_EQUIPMENT       1062222 non-null  object \n",
      " 5   INJURY_CLASSIFICATION  1062222 non-null  object \n",
      " 6   DRIVER_ACTION          1062222 non-null  object \n",
      " 7   DRIVER_VISION          875919 non-null   object \n",
      " 8   PHYSICAL_CONDITION     876134 non-null   object \n",
      " 9   PEDPEDAL_ACTION        21243 non-null    object \n",
      " 10  BAC_RESULT VALUE       1792 non-null     float64\n",
      "dtypes: float64(3), object(8)\n",
      "memory usage: 97.2+ MB\n"
     ]
    }
   ],
   "source": [
    "cln_people.info()"
   ]
  },
  {
   "cell_type": "markdown",
   "id": "87390639",
   "metadata": {},
   "source": [
    "Next we haave to clean the Driver Vision column. This column also has several missing values which we ssaw earlier can mostly be Passenger person type which can be replaced with the Passenger category. Therefre lets first take a look at the missing values for this column."
   ]
  },
  {
   "cell_type": "code",
   "execution_count": 1681,
   "id": "8c830d59",
   "metadata": {},
   "outputs": [
    {
     "data": {
      "text/plain": [
       "PASSENGER            185993\n",
       "PEDESTRIAN              247\n",
       "BICYCLE                  59\n",
       "NON-MOTOR VEHICLE         4\n",
       "Name: PERSON_TYPE, dtype: int64"
      ]
     },
     "execution_count": 1681,
     "metadata": {},
     "output_type": "execute_result"
    }
   ],
   "source": [
    "#check person type split for driver aactino null values\n",
    "cln_people[cln_people['DRIVER_VISION'].isnull()].PERSON_TYPE.value_counts()"
   ]
  },
  {
   "cell_type": "code",
   "execution_count": 1682,
   "id": "1e393338",
   "metadata": {},
   "outputs": [],
   "source": [
    "#replace the passenger person type null values in driver vision column with PASSENGER\n",
    "cln_people.loc[cln_people.PERSON_TYPE == 'PASSENGER', 'DRIVER_VISION'] = cln_people.DRIVER_VISION.fillna(\n",
    "                                                                                'PASSENGER')"
   ]
  },
  {
   "cell_type": "code",
   "execution_count": 1683,
   "id": "73613bd4",
   "metadata": {},
   "outputs": [
    {
     "data": {
      "text/plain": [
       "PEDESTRIAN           247\n",
       "BICYCLE               59\n",
       "NON-MOTOR VEHICLE      4\n",
       "Name: PERSON_TYPE, dtype: int64"
      ]
     },
     "execution_count": 1683,
     "metadata": {},
     "output_type": "execute_result"
    }
   ],
   "source": [
    "#check person type split for driver vision null values\n",
    "cln_people[cln_people['DRIVER_VISION'].isnull()].PERSON_TYPE.value_counts()"
   ]
  },
  {
   "cell_type": "code",
   "execution_count": 1684,
   "id": "cebf7352",
   "metadata": {},
   "outputs": [],
   "source": [
    "#drop the other records with the missing values becaue they are a very small percentage of the total dataset\n",
    "#drop records with null values in the Driver Vision column\n",
    "cln_people.dropna(subset=['DRIVER_VISION'],inplace=True)"
   ]
  },
  {
   "cell_type": "code",
   "execution_count": 1685,
   "id": "2fbded03",
   "metadata": {},
   "outputs": [
    {
     "data": {
      "text/plain": [
       "0"
      ]
     },
     "execution_count": 1685,
     "metadata": {},
     "output_type": "execute_result"
    }
   ],
   "source": [
    "#check total number of remaining null values in driver vision column\n",
    "#should be zero\n",
    "cln_people['DRIVER_VISION'].isnull().sum()"
   ]
  },
  {
   "cell_type": "markdown",
   "id": "2cb9d586",
   "metadata": {},
   "source": [
    "The purpose of this column is to understand whether obstructed driver vision played a part in the crash or not. We can Group the different categories into two main bins; 1. Obscured, 2. Not Obscured"
   ]
  },
  {
   "cell_type": "code",
   "execution_count": 1686,
   "id": "6411bd2e",
   "metadata": {
    "execution": {
     "iopub.execute_input": "2023-04-22T07:22:30.070356Z",
     "iopub.status.busy": "2023-04-22T07:22:30.069869Z",
     "iopub.status.idle": "2023-04-22T07:22:30.168841Z",
     "shell.execute_reply": "2023-04-22T07:22:30.166951Z"
    },
    "papermill": {
     "duration": 0.235628,
     "end_time": "2023-04-22T07:22:30.173101",
     "exception": false,
     "start_time": "2023-04-22T07:22:29.937473",
     "status": "completed"
    },
    "tags": []
   },
   "outputs": [
    {
     "data": {
      "text/plain": [
       "NOT OBSCURED              580090\n",
       "UNKNOWN                   268389\n",
       "PASSENGER                 185993\n",
       "OTHER                      10936\n",
       "MOVING VEHICLES             6659\n",
       "PARKED VEHICLES             4106\n",
       "WINDSHIELD (WATER/ICE)      3144\n",
       "BLINDED - SUNLIGHT          1330\n",
       "TREES, PLANTS                497\n",
       "BUILDINGS                    401\n",
       "BLINDED - HEADLIGHTS         105\n",
       "HILLCREST                     89\n",
       "BLOWING MATERIALS             75\n",
       "EMBANKMENT                    68\n",
       "SIGNBOARD                     30\n",
       "Name: DRIVER_VISION, dtype: int64"
      ]
     },
     "execution_count": 1686,
     "metadata": {},
     "output_type": "execute_result"
    }
   ],
   "source": [
    "#check value counts\n",
    "cln_people['DRIVER_VISION'].value_counts()"
   ]
  },
  {
   "cell_type": "code",
   "execution_count": 1687,
   "id": "8b9c815c",
   "metadata": {
    "execution": {
     "iopub.execute_input": "2023-04-22T07:22:30.448277Z",
     "iopub.status.busy": "2023-04-22T07:22:30.447828Z",
     "iopub.status.idle": "2023-04-22T07:22:30.871680Z",
     "shell.execute_reply": "2023-04-22T07:22:30.869957Z"
    },
    "papermill": {
     "duration": 0.565566,
     "end_time": "2023-04-22T07:22:30.874984",
     "exception": false,
     "start_time": "2023-04-22T07:22:30.309418",
     "status": "completed"
    },
    "tags": []
   },
   "outputs": [],
   "source": [
    "#bin category\n",
    "cln_people['DRIVER_VISION'].replace(['MOVING VEHICLES',\n",
    "                                    'PARKED VEHICLES',\n",
    "                                    'WINDSHIELD (WATER/ICE)',\n",
    "                                    'BLINDED - SUNLIGHT',\n",
    "                                    'TREES, PLANTS',\n",
    "                                    'BUILDINGS',\n",
    "                                    'BLINDED - HEADLIGHTS',\n",
    "                                    'HILLCREST',\n",
    "                                    'BLOWING MATERIALS',\n",
    "                                    'EMBANKMENT',\n",
    "                                    'SIGNBOARD', 'OTHER'], 'OBSCURED', inplace=True)"
   ]
  },
  {
   "cell_type": "code",
   "execution_count": 1688,
   "id": "d6d0e798",
   "metadata": {
    "execution": {
     "iopub.execute_input": "2023-04-22T07:22:32.209009Z",
     "iopub.status.busy": "2023-04-22T07:22:32.208526Z",
     "iopub.status.idle": "2023-04-22T07:22:32.911919Z",
     "shell.execute_reply": "2023-04-22T07:22:32.909744Z"
    },
    "papermill": {
     "duration": 0.83927,
     "end_time": "2023-04-22T07:22:32.915414",
     "exception": false,
     "start_time": "2023-04-22T07:22:32.076144",
     "status": "completed"
    },
    "tags": []
   },
   "outputs": [
    {
     "data": {
      "text/plain": [
       "NOT OBSCURED    580090\n",
       "UNKNOWN         268389\n",
       "PASSENGER       185993\n",
       "OBSCURED         27440\n",
       "Name: DRIVER_VISION, dtype: int64"
      ]
     },
     "execution_count": 1688,
     "metadata": {},
     "output_type": "execute_result"
    }
   ],
   "source": [
    "#check new value counts\n",
    "cln_people['DRIVER_VISION'].value_counts()"
   ]
  },
  {
   "cell_type": "code",
   "execution_count": 1689,
   "id": "b271124f",
   "metadata": {},
   "outputs": [
    {
     "name": "stdout",
     "output_type": "stream",
     "text": [
      "<class 'pandas.core.frame.DataFrame'>\n",
      "Int64Index: 1061912 entries, 0 to 1530383\n",
      "Data columns (total 11 columns):\n",
      " #   Column                 Non-Null Count    Dtype  \n",
      "---  ------                 --------------    -----  \n",
      " 0   PERSON_TYPE            1061912 non-null  object \n",
      " 1   CRASH_RECORD_ID        1061912 non-null  object \n",
      " 2   VEHICLE_ID             1040473 non-null  float64\n",
      " 3   AGE                    1061912 non-null  float64\n",
      " 4   SAFETY_EQUIPMENT       1061912 non-null  object \n",
      " 5   INJURY_CLASSIFICATION  1061912 non-null  object \n",
      " 6   DRIVER_ACTION          1061912 non-null  object \n",
      " 7   DRIVER_VISION          1061912 non-null  object \n",
      " 8   PHYSICAL_CONDITION     875872 non-null   object \n",
      " 9   PEDPEDAL_ACTION        20936 non-null    object \n",
      " 10  BAC_RESULT VALUE       1792 non-null     float64\n",
      "dtypes: float64(3), object(8)\n",
      "memory usage: 97.2+ MB\n"
     ]
    }
   ],
   "source": [
    "#check info\n",
    "cln_people.info()"
   ]
  },
  {
   "cell_type": "markdown",
   "id": "8579b9eb",
   "metadata": {},
   "source": [
    "Next is the Physial Condition Column. We know from previous exploration that Passengers will be the biggest contributors to the missing data in this column because this feature concerns the driver's physical condition at the time of crash. Therefore we will perform similar imputation as in the previoous cases.\n",
    "\n",
    "\n",
    "The primary focus of using this column is to understand whether the driver's condition was impaired or not. Thoose will be the 2 categories that the available categories will be binned as.\n",
    "\n",
    "Also there are multiple catgories in this column, as explored earlier. A big chunk of the data is Unknown. Considering that if the driver's condition would have been explicitlly normal, it would have been obvious, the unknown and other category can be categorized as Impaired."
   ]
  },
  {
   "cell_type": "code",
   "execution_count": 1690,
   "id": "ed3d9f66",
   "metadata": {},
   "outputs": [
    {
     "data": {
      "text/plain": [
       "PASSENGER              185993\n",
       "PEDESTRIAN                 27\n",
       "BICYCLE                    17\n",
       "NON-MOTOR VEHICLE           2\n",
       "NON-CONTACT VEHICLE         1\n",
       "Name: PERSON_TYPE, dtype: int64"
      ]
     },
     "execution_count": 1690,
     "metadata": {},
     "output_type": "execute_result"
    }
   ],
   "source": [
    "#check person type split for physical condition null values\n",
    "cln_people[cln_people['PHYSICAL_CONDITION'].isnull()].PERSON_TYPE.value_counts()"
   ]
  },
  {
   "cell_type": "code",
   "execution_count": 1691,
   "id": "eebc4e7b",
   "metadata": {},
   "outputs": [],
   "source": [
    "#replace the passenger person type null values in physical condition column with PASSENGER\n",
    "cln_people.loc[cln_people.PERSON_TYPE == 'PASSENGER', 'PHYSICAL_CONDITION'] = cln_people.PHYSICAL_CONDITION.fillna(\n",
    "                                                                                'PASSENGER')"
   ]
  },
  {
   "cell_type": "code",
   "execution_count": 1692,
   "id": "b58e585d",
   "metadata": {},
   "outputs": [],
   "source": [
    "#drop the other records with the missing values becaue they are a very small percentage of the total dataset\n",
    "#drop records with null values in the Physical Condition column\n",
    "cln_people.dropna(subset=['PHYSICAL_CONDITION'],inplace=True)"
   ]
  },
  {
   "cell_type": "code",
   "execution_count": 1693,
   "id": "7756897f",
   "metadata": {},
   "outputs": [
    {
     "data": {
      "text/plain": [
       "0"
      ]
     },
     "execution_count": 1693,
     "metadata": {},
     "output_type": "execute_result"
    }
   ],
   "source": [
    "#check total number of remaining null values\n",
    "#should be zero\n",
    "cln_people['PHYSICAL_CONDITION'].isnull().sum()"
   ]
  },
  {
   "cell_type": "code",
   "execution_count": 1694,
   "id": "df332f21",
   "metadata": {
    "execution": {
     "iopub.execute_input": "2023-04-22T07:22:33.178743Z",
     "iopub.status.busy": "2023-04-22T07:22:33.178263Z",
     "iopub.status.idle": "2023-04-22T07:22:33.275345Z",
     "shell.execute_reply": "2023-04-22T07:22:33.273688Z"
    },
    "papermill": {
     "duration": 0.232896,
     "end_time": "2023-04-22T07:22:33.278503",
     "exception": false,
     "start_time": "2023-04-22T07:22:33.045607",
     "status": "completed"
    },
    "tags": []
   },
   "outputs": [
    {
     "data": {
      "text/plain": [
       "NORMAL                          735810\n",
       "PASSENGER                       185993\n",
       "UNKNOWN                         119897\n",
       "IMPAIRED - ALCOHOL                5054\n",
       "REMOVED BY EMS                    4016\n",
       "FATIGUED/ASLEEP                   3025\n",
       "OTHER                             2754\n",
       "EMOTIONAL                         2489\n",
       "ILLNESS/FAINTED                   1047\n",
       "HAD BEEN DRINKING                  764\n",
       "IMPAIRED - DRUGS                   585\n",
       "IMPAIRED - ALCOHOL AND DRUGS       291\n",
       "MEDICATED                          140\n",
       "Name: PHYSICAL_CONDITION, dtype: int64"
      ]
     },
     "execution_count": 1694,
     "metadata": {},
     "output_type": "execute_result"
    }
   ],
   "source": [
    "#check value counts\n",
    "cln_people['PHYSICAL_CONDITION'].value_counts()"
   ]
  },
  {
   "cell_type": "code",
   "execution_count": 1695,
   "id": "e63d0df8",
   "metadata": {
    "execution": {
     "iopub.execute_input": "2023-04-22T07:22:33.538738Z",
     "iopub.status.busy": "2023-04-22T07:22:33.538271Z",
     "iopub.status.idle": "2023-04-22T07:22:33.901670Z",
     "shell.execute_reply": "2023-04-22T07:22:33.900050Z"
    },
    "papermill": {
     "duration": 0.496528,
     "end_time": "2023-04-22T07:22:33.905317",
     "exception": false,
     "start_time": "2023-04-22T07:22:33.408789",
     "status": "completed"
    },
    "tags": []
   },
   "outputs": [],
   "source": [
    "#bin caategories\n",
    "cln_people['PHYSICAL_CONDITION'].replace(['IMPAIRED - ALCOHOL',\n",
    "                                    'REMOVED BY EMS',\n",
    "                                    'FATIGUED/ASLEEP',\n",
    "                                    'EMOTIONAL',\n",
    "                                    'ILLNESS/FAINTED',\n",
    "                                    'HAD BEEN DRINKING',\n",
    "                                    'IMPAIRED - DRUGS',\n",
    "                                    'IMPAIRED - ALCOHOL AND DRUGS',\n",
    "                                    'MEDICATED', 'UNKNOWN', 'OTHER'], 'IMPAIRED', inplace=True)"
   ]
  },
  {
   "cell_type": "code",
   "execution_count": 1696,
   "id": "f37c180c",
   "metadata": {
    "execution": {
     "iopub.execute_input": "2023-04-22T07:22:34.516182Z",
     "iopub.status.busy": "2023-04-22T07:22:34.515302Z",
     "iopub.status.idle": "2023-04-22T07:22:34.622268Z",
     "shell.execute_reply": "2023-04-22T07:22:34.620086Z"
    },
    "papermill": {
     "duration": 0.241579,
     "end_time": "2023-04-22T07:22:34.625679",
     "exception": false,
     "start_time": "2023-04-22T07:22:34.384100",
     "status": "completed"
    },
    "tags": []
   },
   "outputs": [
    {
     "data": {
      "text/plain": [
       "NORMAL       735810\n",
       "PASSENGER    185993\n",
       "IMPAIRED     140062\n",
       "Name: PHYSICAL_CONDITION, dtype: int64"
      ]
     },
     "execution_count": 1696,
     "metadata": {},
     "output_type": "execute_result"
    }
   ],
   "source": [
    "#check new value counts\n",
    "cln_people['PHYSICAL_CONDITION'].value_counts()"
   ]
  },
  {
   "cell_type": "code",
   "execution_count": 1697,
   "id": "b1825412",
   "metadata": {
    "execution": {
     "iopub.execute_input": "2023-04-22T07:22:34.891745Z",
     "iopub.status.busy": "2023-04-22T07:22:34.891301Z",
     "iopub.status.idle": "2023-04-22T07:22:35.610795Z",
     "shell.execute_reply": "2023-04-22T07:22:35.608601Z"
    },
    "papermill": {
     "duration": 0.855349,
     "end_time": "2023-04-22T07:22:35.613860",
     "exception": false,
     "start_time": "2023-04-22T07:22:34.758511",
     "status": "completed"
    },
    "tags": []
   },
   "outputs": [
    {
     "name": "stdout",
     "output_type": "stream",
     "text": [
      "<class 'pandas.core.frame.DataFrame'>\n",
      "Int64Index: 1061865 entries, 0 to 1530383\n",
      "Data columns (total 11 columns):\n",
      " #   Column                 Non-Null Count    Dtype  \n",
      "---  ------                 --------------    -----  \n",
      " 0   PERSON_TYPE            1061865 non-null  object \n",
      " 1   CRASH_RECORD_ID        1061865 non-null  object \n",
      " 2   VEHICLE_ID             1040472 non-null  float64\n",
      " 3   AGE                    1061865 non-null  float64\n",
      " 4   SAFETY_EQUIPMENT       1061865 non-null  object \n",
      " 5   INJURY_CLASSIFICATION  1061865 non-null  object \n",
      " 6   DRIVER_ACTION          1061865 non-null  object \n",
      " 7   DRIVER_VISION          1061865 non-null  object \n",
      " 8   PHYSICAL_CONDITION     1061865 non-null  object \n",
      " 9   PEDPEDAL_ACTION        20891 non-null    object \n",
      " 10  BAC_RESULT VALUE       1792 non-null     float64\n",
      "dtypes: float64(3), object(8)\n",
      "memory usage: 97.2+ MB\n"
     ]
    }
   ],
   "source": [
    "#check info\n",
    "cln_people.info()"
   ]
  },
  {
   "cell_type": "markdown",
   "id": "e8c173e3",
   "metadata": {},
   "source": [
    "Next we look at the PedPEdal Action Column which focuses on the aaction of the pedestriaan or cyclist at the time of crash. There are a lot of missisng but considering that the values in this column are focusing only on Pedestraiaan and bicyclist, it might be posssible that the missing value are drivers and passsengerss.\n",
    "\n",
    "We will evaluate the person type for the null values in this column and then investigate the non null values."
   ]
  },
  {
   "cell_type": "code",
   "execution_count": 1698,
   "id": "b4416e03",
   "metadata": {},
   "outputs": [
    {
     "data": {
      "text/plain": [
       "DRIVER                 854811\n",
       "PASSENGER              185993\n",
       "PEDESTRIAN              12090\n",
       "BICYCLE                  8627\n",
       "NON-MOTOR VEHICLE         264\n",
       "NON-CONTACT VEHICLE        80\n",
       "Name: PERSON_TYPE, dtype: int64"
      ]
     },
     "execution_count": 1698,
     "metadata": {},
     "output_type": "execute_result"
    }
   ],
   "source": [
    "#check value counts for person type\n",
    "cln_people['PERSON_TYPE'].value_counts()"
   ]
  },
  {
   "cell_type": "code",
   "execution_count": 1699,
   "id": "2343ef3f",
   "metadata": {
    "scrolled": true
   },
   "outputs": [
    {
     "data": {
      "text/plain": [
       "DRIVER                 854811\n",
       "PASSENGER              185993\n",
       "NON-MOTOR VEHICLE         101\n",
       "NON-CONTACT VEHICLE        68\n",
       "PEDESTRIAN                  1\n",
       "Name: PERSON_TYPE, dtype: int64"
      ]
     },
     "execution_count": 1699,
     "metadata": {},
     "output_type": "execute_result"
    }
   ],
   "source": [
    "#check person type split for physical condition null values\n",
    "cln_people[cln_people['PEDPEDAL_ACTION'].isnull()].PERSON_TYPE.value_counts()"
   ]
  },
  {
   "cell_type": "markdown",
   "id": "b680c286",
   "metadata": {},
   "source": [
    "Looks like most of the non null values are either drivers or passengers which is what was expected. We can replace Drivers and Passengers with their categories explicitly."
   ]
  },
  {
   "cell_type": "code",
   "execution_count": 1700,
   "id": "e7919f69",
   "metadata": {},
   "outputs": [],
   "source": [
    "#replace the passenger person type null values in pedpedal actin column with PASSENGER\n",
    "cln_people.loc[cln_people.PERSON_TYPE == 'PASSENGER', 'PEDPEDAL_ACTION'] = cln_people.PEDPEDAL_ACTION.fillna(\n",
    "                                                                                'PASSENGER')\n",
    "\n",
    "#replace the driver person type null values in pedpedal actin column with DRIVER\n",
    "cln_people.loc[cln_people.PERSON_TYPE == 'DRIVER', 'PEDPEDAL_ACTION'] = cln_people.PEDPEDAL_ACTION.fillna(\n",
    "                                                                                'DRIVER')"
   ]
  },
  {
   "cell_type": "code",
   "execution_count": 1701,
   "id": "a644b2ff",
   "metadata": {},
   "outputs": [
    {
     "data": {
      "text/plain": [
       "NON-MOTOR VEHICLE      101\n",
       "NON-CONTACT VEHICLE     68\n",
       "PEDESTRIAN               1\n",
       "Name: PERSON_TYPE, dtype: int64"
      ]
     },
     "execution_count": 1701,
     "metadata": {},
     "output_type": "execute_result"
    }
   ],
   "source": [
    "#check the new person type split for physical condition null values\n",
    "cln_people[cln_people['PEDPEDAL_ACTION'].isnull()].PERSON_TYPE.value_counts()"
   ]
  },
  {
   "cell_type": "code",
   "execution_count": 1702,
   "id": "bf294b0c",
   "metadata": {},
   "outputs": [],
   "source": [
    "#drop the remaining missing values\n",
    "cln_people.dropna(subset=['PEDPEDAL_ACTION'],inplace=True)"
   ]
  },
  {
   "cell_type": "code",
   "execution_count": 1703,
   "id": "ed5f222f",
   "metadata": {},
   "outputs": [
    {
     "data": {
      "text/plain": [
       "DRIVER                 854811\n",
       "PASSENGER              185993\n",
       "PEDESTRIAN              12089\n",
       "BICYCLE                  8627\n",
       "NON-MOTOR VEHICLE         163\n",
       "NON-CONTACT VEHICLE        12\n",
       "Name: PERSON_TYPE, dtype: int64"
      ]
     },
     "execution_count": 1703,
     "metadata": {},
     "output_type": "execute_result"
    }
   ],
   "source": [
    "#check the new person type split for physical condition non null values\n",
    "cln_people[cln_people['PEDPEDAL_ACTION'].notnull()].PERSON_TYPE.value_counts()"
   ]
  },
  {
   "cell_type": "code",
   "execution_count": 1704,
   "id": "beeb1a75",
   "metadata": {
    "execution": {
     "iopub.execute_input": "2023-04-22T07:22:35.878299Z",
     "iopub.status.busy": "2023-04-22T07:22:35.877829Z",
     "iopub.status.idle": "2023-04-22T07:22:35.923373Z",
     "shell.execute_reply": "2023-04-22T07:22:35.921862Z"
    },
    "papermill": {
     "duration": 0.181503,
     "end_time": "2023-04-22T07:22:35.926196",
     "exception": false,
     "start_time": "2023-04-22T07:22:35.744693",
     "status": "completed"
    },
    "scrolled": true,
    "tags": []
   },
   "outputs": [
    {
     "data": {
      "text/plain": [
       "DRIVER                                               854811\n",
       "PASSENGER                                            185993\n",
       "CROSSING - WITH SIGNAL                                 4346\n",
       "WITH TRAFFIC                                           3682\n",
       "OTHER ACTION                                           2493\n",
       "UNKNOWN/NA                                             2382\n",
       "NO ACTION                                              1190\n",
       "CROSSING - NO CONTROLS (NOT AT INTERSECTION)           1155\n",
       "CROSSING - NO CONTROLS (AT INTERSECTION)               1009\n",
       "CROSSING - AGAINST SIGNAL                               933\n",
       "NOT AT INTERSECTION                                     724\n",
       "AGAINST TRAFFIC                                         637\n",
       "CROSSING - CONTROLS PRESENT (NOT AT INTERSECTION)       585\n",
       "STANDING IN ROADWAY                                     454\n",
       "TURNING LEFT                                            323\n",
       "PARKED VEHICLE                                          245\n",
       "ENTER FROM DRIVE/ALLEY                                  202\n",
       "TURNING RIGHT                                           153\n",
       "WORKING IN ROADWAY                                      134\n",
       "INTOXICATED PED/PEDAL                                   116\n",
       "PLAYING IN ROADWAY                                       85\n",
       "PLAYING/WORKING ON VEHICLE                               14\n",
       "TO/FROM DISABLED VEHICLE                                 13\n",
       "SCHOOL BUS (WITHIN 50 FT.)                                9\n",
       "WAITING FOR SCHOOL BUS                                    7\n",
       "Name: PEDPEDAL_ACTION, dtype: int64"
      ]
     },
     "execution_count": 1704,
     "metadata": {},
     "output_type": "execute_result"
    }
   ],
   "source": [
    "cln_people['PEDPEDAL_ACTION'].value_counts()"
   ]
  },
  {
   "cell_type": "code",
   "execution_count": 1705,
   "id": "ab310f98",
   "metadata": {},
   "outputs": [
    {
     "name": "stdout",
     "output_type": "stream",
     "text": [
      "<class 'pandas.core.frame.DataFrame'>\n",
      "Int64Index: 1061695 entries, 0 to 1530383\n",
      "Data columns (total 11 columns):\n",
      " #   Column                 Non-Null Count    Dtype  \n",
      "---  ------                 --------------    -----  \n",
      " 0   PERSON_TYPE            1061695 non-null  object \n",
      " 1   CRASH_RECORD_ID        1061695 non-null  object \n",
      " 2   VEHICLE_ID             1040420 non-null  float64\n",
      " 3   AGE                    1061695 non-null  float64\n",
      " 4   SAFETY_EQUIPMENT       1061695 non-null  object \n",
      " 5   INJURY_CLASSIFICATION  1061695 non-null  object \n",
      " 6   DRIVER_ACTION          1061695 non-null  object \n",
      " 7   DRIVER_VISION          1061695 non-null  object \n",
      " 8   PHYSICAL_CONDITION     1061695 non-null  object \n",
      " 9   PEDPEDAL_ACTION        1061695 non-null  object \n",
      " 10  BAC_RESULT VALUE       1792 non-null     float64\n",
      "dtypes: float64(3), object(8)\n",
      "memory usage: 97.2+ MB\n"
     ]
    }
   ],
   "source": [
    "cln_people.info()"
   ]
  },
  {
   "cell_type": "markdown",
   "id": "1f6125a6",
   "metadata": {},
   "source": [
    "NExt, we will look at the BAC result value column. This column has a lot of missing values. The main information that we want to extract from this column is identifying whether the driver was intoxicated or not. \n",
    "\n",
    "We will first check the person type splits for the null values in this column and explore further from there."
   ]
  },
  {
   "cell_type": "code",
   "execution_count": 1706,
   "id": "43325c69",
   "metadata": {},
   "outputs": [
    {
     "data": {
      "text/plain": [
       "DRIVER                 854811\n",
       "PASSENGER              185993\n",
       "PEDESTRIAN              12089\n",
       "BICYCLE                  8627\n",
       "NON-MOTOR VEHICLE         163\n",
       "NON-CONTACT VEHICLE        12\n",
       "Name: PERSON_TYPE, dtype: int64"
      ]
     },
     "execution_count": 1706,
     "metadata": {},
     "output_type": "execute_result"
    }
   ],
   "source": [
    "#check value counts for person type\n",
    "cln_people['PERSON_TYPE'].value_counts()"
   ]
  },
  {
   "cell_type": "code",
   "execution_count": 1707,
   "id": "5d9dedd3",
   "metadata": {},
   "outputs": [
    {
     "data": {
      "text/plain": [
       "DRIVER                 853023\n",
       "PASSENGER              185993\n",
       "PEDESTRIAN              12087\n",
       "BICYCLE                  8625\n",
       "NON-MOTOR VEHICLE         163\n",
       "NON-CONTACT VEHICLE        12\n",
       "Name: PERSON_TYPE, dtype: int64"
      ]
     },
     "execution_count": 1707,
     "metadata": {},
     "output_type": "execute_result"
    }
   ],
   "source": [
    "#check the new person type splits\n",
    "cln_people[cln_people['BAC_RESULT VALUE'].isnull()].PERSON_TYPE.value_counts()"
   ]
  },
  {
   "cell_type": "code",
   "execution_count": 1708,
   "id": "edee4fe7",
   "metadata": {},
   "outputs": [
    {
     "data": {
      "text/plain": [
       "DRIVER        1788\n",
       "BICYCLE          2\n",
       "PEDESTRIAN       2\n",
       "Name: PERSON_TYPE, dtype: int64"
      ]
     },
     "execution_count": 1708,
     "metadata": {},
     "output_type": "execute_result"
    }
   ],
   "source": [
    "#check the new person type splits for non null values\n",
    "cln_people[cln_people['BAC_RESULT VALUE'].notnull()].PERSON_TYPE.value_counts()"
   ]
  },
  {
   "cell_type": "markdown",
   "id": "294a5fd0",
   "metadata": {},
   "source": [
    "Looks like the values in this column are for only drivers, biycle and Pedestrians. We will use the values from this column and the general standard to populate aa neew column indicating if the person was intxicated or not."
   ]
  },
  {
   "cell_type": "code",
   "execution_count": 1709,
   "id": "4a9b57d9",
   "metadata": {
    "execution": {
     "iopub.execute_input": "2023-04-22T07:22:37.964647Z",
     "iopub.status.busy": "2023-04-22T07:22:37.964137Z",
     "iopub.status.idle": "2023-04-22T07:22:37.981933Z",
     "shell.execute_reply": "2023-04-22T07:22:37.980255Z"
    },
    "papermill": {
     "duration": 0.150242,
     "end_time": "2023-04-22T07:22:37.985175",
     "exception": false,
     "start_time": "2023-04-22T07:22:37.834933",
     "status": "completed"
    },
    "scrolled": true,
    "tags": []
   },
   "outputs": [
    {
     "data": {
      "text/plain": [
       "0.00    172\n",
       "0.17    127\n",
       "0.18    126\n",
       "0.21    110\n",
       "0.14    102\n",
       "0.20     94\n",
       "0.16     89\n",
       "0.19     83\n",
       "0.15     76\n",
       "0.22     75\n",
       "0.23     69\n",
       "0.12     66\n",
       "0.13     66\n",
       "0.11     64\n",
       "0.24     59\n",
       "0.26     40\n",
       "0.25     39\n",
       "0.10     33\n",
       "0.27     33\n",
       "0.09     31\n",
       "0.28     28\n",
       "0.29     18\n",
       "0.08     18\n",
       "0.03     17\n",
       "0.07     16\n",
       "0.30     16\n",
       "0.04     15\n",
       "0.33     15\n",
       "0.05     10\n",
       "0.32      9\n",
       "0.35      9\n",
       "0.06      8\n",
       "0.02      8\n",
       "0.31      7\n",
       "0.38      6\n",
       "0.34      4\n",
       "0.36      4\n",
       "0.01      3\n",
       "0.39      3\n",
       "0.44      3\n",
       "0.88      2\n",
       "0.45      2\n",
       "0.60      2\n",
       "0.79      2\n",
       "1.00      2\n",
       "0.85      1\n",
       "0.37      1\n",
       "0.67      1\n",
       "0.41      1\n",
       "0.80      1\n",
       "0.95      1\n",
       "0.58      1\n",
       "0.99      1\n",
       "0.47      1\n",
       "0.40      1\n",
       "0.98      1\n",
       "Name: BAC_RESULT VALUE, dtype: int64"
      ]
     },
     "execution_count": 1709,
     "metadata": {},
     "output_type": "execute_result"
    }
   ],
   "source": [
    "#chek value counts\n",
    "cln_people['BAC_RESULT VALUE'].value_counts()"
   ]
  },
  {
   "cell_type": "markdown",
   "id": "8b72b161",
   "metadata": {
    "papermill": {
     "duration": 0.125952,
     "end_time": "2023-04-22T07:22:38.238302",
     "exception": false,
     "start_time": "2023-04-22T07:22:38.112350",
     "status": "completed"
    },
    "tags": []
   },
   "source": [
    "Legally people are not allowed to drive with a BAC greater than 0.8. We will ussee that as our baaseline for categorizing whether a person waas intoxicated or not. \n",
    "\n",
    "We also have some very high values for BAC which do not make sensee considering BAC 0.30% to 0.40%: In this percentage range, you'll likely have alcohol poisoning, a potentially life-threatening condition, and experience loss of consciousness. BAC Over 0.40%: This is a potentially fatal blood alcohol level.\n",
    "\n",
    "Therefore we will drop records with BAC greater than 0.40 beccause it would be nearly impossible for people with that high of a BAC to be on the streets."
   ]
  },
  {
   "cell_type": "code",
   "execution_count": 1710,
   "id": "67adda6e",
   "metadata": {
    "execution": {
     "iopub.execute_input": "2023-04-22T07:22:38.501605Z",
     "iopub.status.busy": "2023-04-22T07:22:38.501156Z",
     "iopub.status.idle": "2023-04-22T07:22:38.876224Z",
     "shell.execute_reply": "2023-04-22T07:22:38.874156Z"
    },
    "papermill": {
     "duration": 0.511603,
     "end_time": "2023-04-22T07:22:38.879818",
     "exception": false,
     "start_time": "2023-04-22T07:22:38.368215",
     "status": "completed"
    },
    "tags": []
   },
   "outputs": [],
   "source": [
    "#drop records\n",
    "cln_people.drop((cln_people[cln_people['BAC_RESULT VALUE']>0.40].index),inplace=True) "
   ]
  },
  {
   "cell_type": "code",
   "execution_count": 1711,
   "id": "d26dd95d",
   "metadata": {
    "execution": {
     "iopub.execute_input": "2023-04-22T07:22:39.440475Z",
     "iopub.status.busy": "2023-04-22T07:22:39.440025Z",
     "iopub.status.idle": "2023-04-22T07:22:39.457529Z",
     "shell.execute_reply": "2023-04-22T07:22:39.455840Z"
    },
    "papermill": {
     "duration": 0.155412,
     "end_time": "2023-04-22T07:22:39.460540",
     "exception": false,
     "start_time": "2023-04-22T07:22:39.305128",
     "status": "completed"
    },
    "tags": []
   },
   "outputs": [
    {
     "data": {
      "text/plain": [
       "0.00    172\n",
       "0.17    127\n",
       "0.18    126\n",
       "0.21    110\n",
       "0.14    102\n",
       "0.20     94\n",
       "0.16     89\n",
       "0.19     83\n",
       "0.15     76\n",
       "0.22     75\n",
       "0.23     69\n",
       "0.12     66\n",
       "0.13     66\n",
       "0.11     64\n",
       "0.24     59\n",
       "0.26     40\n",
       "0.25     39\n",
       "0.10     33\n",
       "0.27     33\n",
       "0.09     31\n",
       "0.28     28\n",
       "0.08     18\n",
       "0.29     18\n",
       "0.03     17\n",
       "0.30     16\n",
       "0.07     16\n",
       "0.33     15\n",
       "0.04     15\n",
       "0.05     10\n",
       "0.35      9\n",
       "0.32      9\n",
       "0.02      8\n",
       "0.06      8\n",
       "0.31      7\n",
       "0.38      6\n",
       "0.36      4\n",
       "0.34      4\n",
       "0.39      3\n",
       "0.01      3\n",
       "0.37      1\n",
       "0.40      1\n",
       "Name: BAC_RESULT VALUE, dtype: int64"
      ]
     },
     "execution_count": 1711,
     "metadata": {},
     "output_type": "execute_result"
    }
   ],
   "source": [
    "#check new value counts\n",
    "cln_people['BAC_RESULT VALUE'].value_counts()"
   ]
  },
  {
   "cell_type": "code",
   "execution_count": 1712,
   "id": "2110f418",
   "metadata": {
    "execution": {
     "iopub.execute_input": "2023-04-22T07:22:39.729684Z",
     "iopub.status.busy": "2023-04-22T07:22:39.728424Z",
     "iopub.status.idle": "2023-04-22T07:22:40.107565Z",
     "shell.execute_reply": "2023-04-22T07:22:40.105108Z"
    },
    "papermill": {
     "duration": 0.519617,
     "end_time": "2023-04-22T07:22:40.111700",
     "exception": false,
     "start_time": "2023-04-22T07:22:39.592083",
     "status": "completed"
    },
    "scrolled": true,
    "tags": []
   },
   "outputs": [
    {
     "data": {
      "image/png": "[encoded data removed]",
      "text/plain": [
       "<Figure size 432x288 with 1 Axes>"
      ]
     },
     "metadata": {
      "needs_background": "light"
     },
     "output_type": "display_data"
    }
   ],
   "source": [
    "cln_people['BAC_RESULT VALUE'].hist(bins='auto');"
   ]
  },
  {
   "cell_type": "code",
   "execution_count": 1713,
   "id": "2c1ddea4",
   "metadata": {},
   "outputs": [
    {
     "name": "stderr",
     "output_type": "stream",
     "text": [
      "/var/folders/qv/0z2v23tn1f1b2fnpqqgqsxch0000gn/T/ipykernel_4590/561118423.py:7: UserWarning: Pandas doesn't allow columns to be created via a new attribute name - see https://pandas.pydata.org/pandas-docs/stable/indexing.html#attribute-access\n",
      "  cln_people.INTOXICATED_I = cln_people['BAC_RESULT VALUE'].map(e)\n"
     ]
    }
   ],
   "source": [
    "#create new column for intoxication indication using BAC results value\n",
    "\n",
    "#create a lambda function for maapping purposes\n",
    "e = lambda x: 'Y' if x > 0.08 else 'N'\n",
    "\n",
    "#map the funtion and create the new column\n",
    "cln_people.INTOXICATED_I = cln_people['BAC_RESULT VALUE'].map(e)"
   ]
  },
  {
   "cell_type": "code",
   "execution_count": 1714,
   "id": "60ad8ab6",
   "metadata": {},
   "outputs": [
    {
     "data": {
      "text/plain": [
       "N    1060170\n",
       "Y       1503\n",
       "Name: BAC_RESULT VALUE, dtype: int64"
      ]
     },
     "execution_count": 1714,
     "metadata": {},
     "output_type": "execute_result"
    }
   ],
   "source": [
    "#check value counts\n",
    "cln_people.INTOXICATED_I.value_counts()"
   ]
  },
  {
   "cell_type": "code",
   "execution_count": 1715,
   "id": "6b0bce52",
   "metadata": {
    "execution": {
     "iopub.execute_input": "2023-04-22T07:22:40.473627Z",
     "iopub.status.busy": "2023-04-22T07:22:40.473168Z",
     "iopub.status.idle": "2023-04-22T07:22:40.484298Z",
     "shell.execute_reply": "2023-04-22T07:22:40.482690Z"
    },
    "papermill": {
     "duration": 0.224534,
     "end_time": "2023-04-22T07:22:40.487590",
     "exception": false,
     "start_time": "2023-04-22T07:22:40.263056",
     "status": "completed"
    },
    "tags": []
   },
   "outputs": [],
   "source": [
    "#drop BAC result value column\n",
    "cln_people = cln_people.drop(['BAC_RESULT VALUE'], axis=1)"
   ]
  },
  {
   "cell_type": "code",
   "execution_count": 1716,
   "id": "eb45845a",
   "metadata": {
    "execution": {
     "iopub.execute_input": "2023-04-22T07:22:40.781806Z",
     "iopub.status.busy": "2023-04-22T07:22:40.781145Z",
     "iopub.status.idle": "2023-04-22T07:22:41.592108Z",
     "shell.execute_reply": "2023-04-22T07:22:41.589623Z"
    },
    "papermill": {
     "duration": 0.952847,
     "end_time": "2023-04-22T07:22:41.596184",
     "exception": false,
     "start_time": "2023-04-22T07:22:40.643337",
     "status": "completed"
    },
    "tags": []
   },
   "outputs": [
    {
     "name": "stdout",
     "output_type": "stream",
     "text": [
      "<class 'pandas.core.frame.DataFrame'>\n",
      "Int64Index: 1061673 entries, 0 to 1530383\n",
      "Data columns (total 10 columns):\n",
      " #   Column                 Non-Null Count    Dtype  \n",
      "---  ------                 --------------    -----  \n",
      " 0   PERSON_TYPE            1061673 non-null  object \n",
      " 1   CRASH_RECORD_ID        1061673 non-null  object \n",
      " 2   VEHICLE_ID             1040398 non-null  float64\n",
      " 3   AGE                    1061673 non-null  float64\n",
      " 4   SAFETY_EQUIPMENT       1061673 non-null  object \n",
      " 5   INJURY_CLASSIFICATION  1061673 non-null  object \n",
      " 6   DRIVER_ACTION          1061673 non-null  object \n",
      " 7   DRIVER_VISION          1061673 non-null  object \n",
      " 8   PHYSICAL_CONDITION     1061673 non-null  object \n",
      " 9   PEDPEDAL_ACTION        1061673 non-null  object \n",
      "dtypes: float64(2), object(8)\n",
      "memory usage: 89.1+ MB\n"
     ]
    }
   ],
   "source": [
    "cln_people.info()"
   ]
  },
  {
   "cell_type": "code",
   "execution_count": 1717,
   "id": "e2cbd5f9",
   "metadata": {},
   "outputs": [],
   "source": [
    "#drop vehicle ID column\n",
    "cln_people = cln_people.drop(['VEHICLE_ID'], axis=1)"
   ]
  },
  {
   "cell_type": "markdown",
   "id": "d3f4b5b0",
   "metadata": {},
   "source": [
    "Now we can move onto merging the all the daatasets together."
   ]
  },
  {
   "cell_type": "code",
   "execution_count": 1718,
   "id": "4ea9eb78",
   "metadata": {
    "execution": {
     "iopub.execute_input": "2023-04-22T07:22:41.863363Z",
     "iopub.status.busy": "2023-04-22T07:22:41.862886Z",
     "iopub.status.idle": "2023-04-22T07:22:44.440626Z",
     "shell.execute_reply": "2023-04-22T07:22:44.438263Z"
    },
    "papermill": {
     "duration": 2.714769,
     "end_time": "2023-04-22T07:22:44.445033",
     "exception": false,
     "start_time": "2023-04-22T07:22:41.730264",
     "status": "completed"
    },
    "tags": []
   },
   "outputs": [],
   "source": [
    "# merge veh_crsh with peoples cleaned dataset on crash record id\n",
    "veh_crsh_ppl = pd.merge(veh_crsh, cln_people, how='inner', on='CRASH_RECORD_ID' )"
   ]
  },
  {
   "cell_type": "code",
   "execution_count": 1719,
   "id": "12318a55",
   "metadata": {
    "execution": {
     "iopub.execute_input": "2023-04-22T07:22:44.792835Z",
     "iopub.status.busy": "2023-04-22T07:22:44.792057Z",
     "iopub.status.idle": "2023-04-22T07:22:44.824148Z",
     "shell.execute_reply": "2023-04-22T07:22:44.822278Z"
    },
    "papermill": {
     "duration": 0.172239,
     "end_time": "2023-04-22T07:22:44.827147",
     "exception": false,
     "start_time": "2023-04-22T07:22:44.654908",
     "status": "completed"
    },
    "tags": []
   },
   "outputs": [
    {
     "data": {
      "text/html": [
       "<div>\n",
       "<style scoped>\n",
       "    .dataframe tbody tr th:only-of-type {\n",
       "        vertical-align: middle;\n",
       "    }\n",
       "\n",
       "    .dataframe tbody tr th {\n",
       "        vertical-align: top;\n",
       "    }\n",
       "\n",
       "    .dataframe thead th {\n",
       "        text-align: right;\n",
       "    }\n",
       "</style>\n",
       "<table border=\"1\" class=\"dataframe\">\n",
       "  <thead>\n",
       "    <tr style=\"text-align: right;\">\n",
       "      <th></th>\n",
       "      <th>CRASH_RECORD_ID</th>\n",
       "      <th>CRASH_YEAR</th>\n",
       "      <th>POSTED_SPEED_LIMIT</th>\n",
       "      <th>DEVICE_CONDITION</th>\n",
       "      <th>WEATHER_CONDITION</th>\n",
       "      <th>LIGHTING_CONDITION</th>\n",
       "      <th>CRASH_TYPE</th>\n",
       "      <th>INTERSECTION_RELATED_I</th>\n",
       "      <th>ROAD_DEFECT</th>\n",
       "      <th>PRIM_CONTRIBUTORY_CAUSE</th>\n",
       "      <th>...</th>\n",
       "      <th>VEHICLE_DEFECT_I</th>\n",
       "      <th>OCCUPANT_CAT</th>\n",
       "      <th>PERSON_TYPE</th>\n",
       "      <th>AGE</th>\n",
       "      <th>SAFETY_EQUIPMENT</th>\n",
       "      <th>INJURY_CLASSIFICATION</th>\n",
       "      <th>DRIVER_ACTION</th>\n",
       "      <th>DRIVER_VISION</th>\n",
       "      <th>PHYSICAL_CONDITION</th>\n",
       "      <th>PEDPEDAL_ACTION</th>\n",
       "    </tr>\n",
       "  </thead>\n",
       "  <tbody>\n",
       "    <tr>\n",
       "      <th>0</th>\n",
       "      <td>79c7a2ce89f446262efd86df3d72d18b04ba487024b7c4...</td>\n",
       "      <td>2019</td>\n",
       "      <td>30</td>\n",
       "      <td>FUNCTIONING PROPERLY</td>\n",
       "      <td>CLEAR</td>\n",
       "      <td>DAY TIME</td>\n",
       "      <td>INJURY AND / OR TOW DUE TO CRASH</td>\n",
       "      <td>Y</td>\n",
       "      <td>NO DEFECTS</td>\n",
       "      <td>RECKLESS/IMPROPER DRIVING</td>\n",
       "      <td>...</td>\n",
       "      <td>N</td>\n",
       "      <td>1-2</td>\n",
       "      <td>PASSENGER</td>\n",
       "      <td>27.0</td>\n",
       "      <td>SAFETY EQUIPMENT USED</td>\n",
       "      <td>NO INDICATION OF INJURY</td>\n",
       "      <td>PASSENGER</td>\n",
       "      <td>PASSENGER</td>\n",
       "      <td>PASSENGER</td>\n",
       "      <td>PASSENGER</td>\n",
       "    </tr>\n",
       "    <tr>\n",
       "      <th>1</th>\n",
       "      <td>79c7a2ce89f446262efd86df3d72d18b04ba487024b7c4...</td>\n",
       "      <td>2019</td>\n",
       "      <td>30</td>\n",
       "      <td>FUNCTIONING PROPERLY</td>\n",
       "      <td>CLEAR</td>\n",
       "      <td>DAY TIME</td>\n",
       "      <td>INJURY AND / OR TOW DUE TO CRASH</td>\n",
       "      <td>Y</td>\n",
       "      <td>NO DEFECTS</td>\n",
       "      <td>RECKLESS/IMPROPER DRIVING</td>\n",
       "      <td>...</td>\n",
       "      <td>N</td>\n",
       "      <td>1-2</td>\n",
       "      <td>DRIVER</td>\n",
       "      <td>22.0</td>\n",
       "      <td>SAFETY EQUIPMENT USED</td>\n",
       "      <td>INJUIRY</td>\n",
       "      <td>IMPROPER TURN</td>\n",
       "      <td>UNKNOWN</td>\n",
       "      <td>NORMAL</td>\n",
       "      <td>DRIVER</td>\n",
       "    </tr>\n",
       "    <tr>\n",
       "      <th>2</th>\n",
       "      <td>79c7a2ce89f446262efd86df3d72d18b04ba487024b7c4...</td>\n",
       "      <td>2019</td>\n",
       "      <td>30</td>\n",
       "      <td>FUNCTIONING PROPERLY</td>\n",
       "      <td>CLEAR</td>\n",
       "      <td>DAY TIME</td>\n",
       "      <td>INJURY AND / OR TOW DUE TO CRASH</td>\n",
       "      <td>Y</td>\n",
       "      <td>NO DEFECTS</td>\n",
       "      <td>RECKLESS/IMPROPER DRIVING</td>\n",
       "      <td>...</td>\n",
       "      <td>N</td>\n",
       "      <td>1-2</td>\n",
       "      <td>DRIVER</td>\n",
       "      <td>56.0</td>\n",
       "      <td>SAFETY EQUIPMENT USED</td>\n",
       "      <td>NO INDICATION OF INJURY</td>\n",
       "      <td>NONE</td>\n",
       "      <td>NOT OBSCURED</td>\n",
       "      <td>NORMAL</td>\n",
       "      <td>DRIVER</td>\n",
       "    </tr>\n",
       "    <tr>\n",
       "      <th>3</th>\n",
       "      <td>79c7a2ce89f446262efd86df3d72d18b04ba487024b7c4...</td>\n",
       "      <td>2019</td>\n",
       "      <td>30</td>\n",
       "      <td>FUNCTIONING PROPERLY</td>\n",
       "      <td>CLEAR</td>\n",
       "      <td>DAY TIME</td>\n",
       "      <td>INJURY AND / OR TOW DUE TO CRASH</td>\n",
       "      <td>Y</td>\n",
       "      <td>NO DEFECTS</td>\n",
       "      <td>RECKLESS/IMPROPER DRIVING</td>\n",
       "      <td>...</td>\n",
       "      <td>N</td>\n",
       "      <td>1-2</td>\n",
       "      <td>PASSENGER</td>\n",
       "      <td>27.0</td>\n",
       "      <td>SAFETY EQUIPMENT USED</td>\n",
       "      <td>NO INDICATION OF INJURY</td>\n",
       "      <td>PASSENGER</td>\n",
       "      <td>PASSENGER</td>\n",
       "      <td>PASSENGER</td>\n",
       "      <td>PASSENGER</td>\n",
       "    </tr>\n",
       "    <tr>\n",
       "      <th>4</th>\n",
       "      <td>79c7a2ce89f446262efd86df3d72d18b04ba487024b7c4...</td>\n",
       "      <td>2019</td>\n",
       "      <td>30</td>\n",
       "      <td>FUNCTIONING PROPERLY</td>\n",
       "      <td>CLEAR</td>\n",
       "      <td>DAY TIME</td>\n",
       "      <td>INJURY AND / OR TOW DUE TO CRASH</td>\n",
       "      <td>Y</td>\n",
       "      <td>NO DEFECTS</td>\n",
       "      <td>RECKLESS/IMPROPER DRIVING</td>\n",
       "      <td>...</td>\n",
       "      <td>N</td>\n",
       "      <td>1-2</td>\n",
       "      <td>DRIVER</td>\n",
       "      <td>22.0</td>\n",
       "      <td>SAFETY EQUIPMENT USED</td>\n",
       "      <td>INJUIRY</td>\n",
       "      <td>IMPROPER TURN</td>\n",
       "      <td>UNKNOWN</td>\n",
       "      <td>NORMAL</td>\n",
       "      <td>DRIVER</td>\n",
       "    </tr>\n",
       "  </tbody>\n",
       "</table>\n",
       "<p>5 rows × 33 columns</p>\n",
       "</div>"
      ],
      "text/plain": [
       "                                     CRASH_RECORD_ID  CRASH_YEAR  \\\n",
       "0  79c7a2ce89f446262efd86df3d72d18b04ba487024b7c4...        2019   \n",
       "1  79c7a2ce89f446262efd86df3d72d18b04ba487024b7c4...        2019   \n",
       "2  79c7a2ce89f446262efd86df3d72d18b04ba487024b7c4...        2019   \n",
       "3  79c7a2ce89f446262efd86df3d72d18b04ba487024b7c4...        2019   \n",
       "4  79c7a2ce89f446262efd86df3d72d18b04ba487024b7c4...        2019   \n",
       "\n",
       "   POSTED_SPEED_LIMIT      DEVICE_CONDITION WEATHER_CONDITION  \\\n",
       "0                  30  FUNCTIONING PROPERLY             CLEAR   \n",
       "1                  30  FUNCTIONING PROPERLY             CLEAR   \n",
       "2                  30  FUNCTIONING PROPERLY             CLEAR   \n",
       "3                  30  FUNCTIONING PROPERLY             CLEAR   \n",
       "4                  30  FUNCTIONING PROPERLY             CLEAR   \n",
       "\n",
       "  LIGHTING_CONDITION                        CRASH_TYPE INTERSECTION_RELATED_I  \\\n",
       "0           DAY TIME  INJURY AND / OR TOW DUE TO CRASH                      Y   \n",
       "1           DAY TIME  INJURY AND / OR TOW DUE TO CRASH                      Y   \n",
       "2           DAY TIME  INJURY AND / OR TOW DUE TO CRASH                      Y   \n",
       "3           DAY TIME  INJURY AND / OR TOW DUE TO CRASH                      Y   \n",
       "4           DAY TIME  INJURY AND / OR TOW DUE TO CRASH                      Y   \n",
       "\n",
       "  ROAD_DEFECT    PRIM_CONTRIBUTORY_CAUSE  ...  VEHICLE_DEFECT_I OCCUPANT_CAT  \\\n",
       "0  NO DEFECTS  RECKLESS/IMPROPER DRIVING  ...                 N          1-2   \n",
       "1  NO DEFECTS  RECKLESS/IMPROPER DRIVING  ...                 N          1-2   \n",
       "2  NO DEFECTS  RECKLESS/IMPROPER DRIVING  ...                 N          1-2   \n",
       "3  NO DEFECTS  RECKLESS/IMPROPER DRIVING  ...                 N          1-2   \n",
       "4  NO DEFECTS  RECKLESS/IMPROPER DRIVING  ...                 N          1-2   \n",
       "\n",
       "  PERSON_TYPE   AGE       SAFETY_EQUIPMENT    INJURY_CLASSIFICATION  \\\n",
       "0   PASSENGER  27.0  SAFETY EQUIPMENT USED  NO INDICATION OF INJURY   \n",
       "1      DRIVER  22.0  SAFETY EQUIPMENT USED                  INJUIRY   \n",
       "2      DRIVER  56.0  SAFETY EQUIPMENT USED  NO INDICATION OF INJURY   \n",
       "3   PASSENGER  27.0  SAFETY EQUIPMENT USED  NO INDICATION OF INJURY   \n",
       "4      DRIVER  22.0  SAFETY EQUIPMENT USED                  INJUIRY   \n",
       "\n",
       "   DRIVER_ACTION  DRIVER_VISION  PHYSICAL_CONDITION  PEDPEDAL_ACTION  \n",
       "0      PASSENGER      PASSENGER           PASSENGER        PASSENGER  \n",
       "1  IMPROPER TURN        UNKNOWN              NORMAL           DRIVER  \n",
       "2           NONE   NOT OBSCURED              NORMAL           DRIVER  \n",
       "3      PASSENGER      PASSENGER           PASSENGER        PASSENGER  \n",
       "4  IMPROPER TURN        UNKNOWN              NORMAL           DRIVER  \n",
       "\n",
       "[5 rows x 33 columns]"
      ]
     },
     "execution_count": 1719,
     "metadata": {},
     "output_type": "execute_result"
    }
   ],
   "source": [
    "#preview the first 5 rows\n",
    "veh_crsh_ppl.head()"
   ]
  },
  {
   "cell_type": "code",
   "execution_count": 1720,
   "id": "ca39625b",
   "metadata": {
    "execution": {
     "iopub.execute_input": "2023-04-22T07:22:45.093970Z",
     "iopub.status.busy": "2023-04-22T07:22:45.092963Z",
     "iopub.status.idle": "2023-04-22T07:22:46.375098Z",
     "shell.execute_reply": "2023-04-22T07:22:46.373339Z"
    },
    "papermill": {
     "duration": 1.419929,
     "end_time": "2023-04-22T07:22:46.379269",
     "exception": false,
     "start_time": "2023-04-22T07:22:44.959340",
     "status": "completed"
    },
    "scrolled": true,
    "tags": []
   },
   "outputs": [
    {
     "name": "stdout",
     "output_type": "stream",
     "text": [
      "<class 'pandas.core.frame.DataFrame'>\n",
      "Int64Index: 534692 entries, 0 to 534691\n",
      "Data columns (total 33 columns):\n",
      " #   Column                   Non-Null Count   Dtype  \n",
      "---  ------                   --------------   -----  \n",
      " 0   CRASH_RECORD_ID          534692 non-null  object \n",
      " 1   CRASH_YEAR               534692 non-null  int64  \n",
      " 2   POSTED_SPEED_LIMIT       534692 non-null  int64  \n",
      " 3   DEVICE_CONDITION         534692 non-null  object \n",
      " 4   WEATHER_CONDITION        534692 non-null  object \n",
      " 5   LIGHTING_CONDITION       534692 non-null  object \n",
      " 6   CRASH_TYPE               534692 non-null  object \n",
      " 7   INTERSECTION_RELATED_I   534692 non-null  object \n",
      " 8   ROAD_DEFECT              534692 non-null  object \n",
      " 9   PRIM_CONTRIBUTORY_CAUSE  534692 non-null  object \n",
      " 10  NUM_UNITS                534692 non-null  int64  \n",
      " 11  WORK_ZONE_I              534692 non-null  object \n",
      " 12  WORKERS_PRESENT_I        534692 non-null  object \n",
      " 13  INJURIES_TOTAL           534692 non-null  float64\n",
      " 14  INJURIES_FATAL           534692 non-null  float64\n",
      " 15  CRASH_HOUR               534692 non-null  int64  \n",
      " 16  CRASH_DAY_OF_WEEK        534692 non-null  int64  \n",
      " 17  CRASH_MONTH              534692 non-null  int64  \n",
      " 18  LATITUDE                 534692 non-null  float64\n",
      " 19  LONGITUDE                534692 non-null  float64\n",
      " 20  VEHICLE_TYPE             534692 non-null  object \n",
      " 21  MANEUVER                 534692 non-null  object \n",
      " 22  FIRST_CONTACT_POINT      534692 non-null  object \n",
      " 23  VEHICLE_DEFECT_I         534692 non-null  object \n",
      " 24  OCCUPANT_CAT             534692 non-null  object \n",
      " 25  PERSON_TYPE              534692 non-null  object \n",
      " 26  AGE                      534692 non-null  float64\n",
      " 27  SAFETY_EQUIPMENT         534692 non-null  object \n",
      " 28  INJURY_CLASSIFICATION    534692 non-null  object \n",
      " 29  DRIVER_ACTION            534692 non-null  object \n",
      " 30  DRIVER_VISION            534692 non-null  object \n",
      " 31  PHYSICAL_CONDITION       534692 non-null  object \n",
      " 32  PEDPEDAL_ACTION          534692 non-null  object \n",
      "dtypes: float64(5), int64(6), object(22)\n",
      "memory usage: 138.7+ MB\n"
     ]
    }
   ],
   "source": [
    "veh_crsh_ppl.info()"
   ]
  },
  {
   "cell_type": "markdown",
   "id": "43bbe20f",
   "metadata": {},
   "source": [
    "Lets take a look at the unkown categories we left behind in the vehicles database. If the number of records with unkown values has gone down, we will drop the unknown values. In the scenario where they haven't, we will have to deal with them accordingly."
   ]
  },
  {
   "cell_type": "code",
   "execution_count": 1721,
   "id": "22cbc62f",
   "metadata": {},
   "outputs": [
    {
     "data": {
      "text/plain": [
       "REGULAR PERSONAL    500908\n",
       "UNKNOWN/NA           15787\n",
       "COMMERCIAL           11948\n",
       "PUBLIC                6049\n",
       "Name: VEHICLE_TYPE, dtype: int64"
      ]
     },
     "execution_count": 1721,
     "metadata": {},
     "output_type": "execute_result"
    }
   ],
   "source": [
    "#check value counts of vehicle type\n",
    "veh_crsh_ppl.VEHICLE_TYPE.value_counts()"
   ]
  },
  {
   "cell_type": "code",
   "execution_count": 1722,
   "id": "e692e60f",
   "metadata": {},
   "outputs": [],
   "source": [
    "#drop records with unknown values in the vehicle type column\n",
    "veh_crsh_ppl = veh_crsh_ppl[veh_crsh_ppl.VEHICLE_TYPE != 'UNKNOWN/NA']"
   ]
  },
  {
   "cell_type": "code",
   "execution_count": 1723,
   "id": "4d0eded9",
   "metadata": {},
   "outputs": [
    {
     "data": {
      "text/plain": [
       "STRAIGHT                    317756\n",
       "TURNING                      77729\n",
       "START/STOP                   47605\n",
       "ENTERING/EXITING TRAFFIC     40080\n",
       "LANE CHANGE                  14331\n",
       "UNKNOWN/NA                    9393\n",
       "EXTERNAL OBSTRUCTIONS         7064\n",
       "BACKING                       3415\n",
       "DRIVING WRONG WAY             1532\n",
       "Name: MANEUVER, dtype: int64"
      ]
     },
     "execution_count": 1723,
     "metadata": {},
     "output_type": "execute_result"
    }
   ],
   "source": [
    "#check value counts of MANEUVER\n",
    "veh_crsh_ppl.MANEUVER.value_counts()"
   ]
  },
  {
   "cell_type": "code",
   "execution_count": 1724,
   "id": "5c399aab",
   "metadata": {},
   "outputs": [],
   "source": [
    "#drop records with unknown values in the MANEUVER column\n",
    "veh_crsh_ppl = veh_crsh_ppl[veh_crsh_ppl.MANEUVER != 'UNKNOWN/NA']"
   ]
  },
  {
   "cell_type": "code",
   "execution_count": 1725,
   "id": "8df3985b",
   "metadata": {},
   "outputs": [
    {
     "data": {
      "text/plain": [
       "STRAIGHT                    317756\n",
       "TURNING                      77729\n",
       "START/STOP                   47605\n",
       "ENTERING/EXITING TRAFFIC     40080\n",
       "LANE CHANGE                  14331\n",
       "EXTERNAL OBSTRUCTIONS         7064\n",
       "BACKING                       3415\n",
       "DRIVING WRONG WAY             1532\n",
       "Name: MANEUVER, dtype: int64"
      ]
     },
     "execution_count": 1725,
     "metadata": {},
     "output_type": "execute_result"
    }
   ],
   "source": [
    "#check new value counts of MANEUVER\n",
    "veh_crsh_ppl.MANEUVER.value_counts()"
   ]
  },
  {
   "cell_type": "code",
   "execution_count": 1726,
   "id": "d2171343",
   "metadata": {},
   "outputs": [
    {
     "data": {
      "text/plain": [
       "FRONT                148418\n",
       "OTHER                113946\n",
       "REAR                 101427\n",
       "TOTAL (ALL AREAS)     54697\n",
       "SIDE                  50269\n",
       "TOP/BOTTOM            29538\n",
       "UNKNOWN                9370\n",
       "NONE                   1847\n",
       "Name: FIRST_CONTACT_POINT, dtype: int64"
      ]
     },
     "execution_count": 1726,
     "metadata": {},
     "output_type": "execute_result"
    }
   ],
   "source": [
    "#check value counts of FIRST_CONTACT_POINT\n",
    "veh_crsh_ppl.FIRST_CONTACT_POINT.value_counts()"
   ]
  },
  {
   "cell_type": "code",
   "execution_count": 1727,
   "id": "a2f3aa71",
   "metadata": {},
   "outputs": [],
   "source": [
    "#drop records with unknown values in the FIRST_CONTACT_POINT column\n",
    "veh_crsh_ppl = veh_crsh_ppl[veh_crsh_ppl.FIRST_CONTACT_POINT != 'UNKNOWN']"
   ]
  },
  {
   "cell_type": "code",
   "execution_count": 1728,
   "id": "b6e030b9",
   "metadata": {},
   "outputs": [
    {
     "data": {
      "text/plain": [
       "FRONT                148418\n",
       "OTHER                113946\n",
       "REAR                 101427\n",
       "TOTAL (ALL AREAS)     54697\n",
       "SIDE                  50269\n",
       "TOP/BOTTOM            29538\n",
       "NONE                   1847\n",
       "Name: FIRST_CONTACT_POINT, dtype: int64"
      ]
     },
     "execution_count": 1728,
     "metadata": {},
     "output_type": "execute_result"
    }
   ],
   "source": [
    "#check new value counts of FIRST_CONTACT_POINT\n",
    "veh_crsh_ppl.FIRST_CONTACT_POINT.value_counts()"
   ]
  },
  {
   "cell_type": "code",
   "execution_count": 1729,
   "id": "c4a75ae6",
   "metadata": {},
   "outputs": [
    {
     "data": {
      "text/plain": [
       "N    297389\n",
       "U    195608\n",
       "Y      7145\n",
       "Name: VEHICLE_DEFECT_I, dtype: int64"
      ]
     },
     "execution_count": 1729,
     "metadata": {},
     "output_type": "execute_result"
    }
   ],
   "source": [
    "#check value counts of VEHICLE_DEFECT_I\n",
    "veh_crsh_ppl.VEHICLE_DEFECT_I.value_counts()"
   ]
  },
  {
   "cell_type": "markdown",
   "id": "d7a7432a",
   "metadata": {},
   "source": [
    "The number of unkowns in this column are still very high. Unfortunately, there is not enough information to impute these values. We will carry them forward into our modeling because there might be other variabless that link with it to form a trend of the causes of traffic accidents."
   ]
  },
  {
   "cell_type": "code",
   "execution_count": 1730,
   "id": "823c8a47",
   "metadata": {},
   "outputs": [
    {
     "name": "stdout",
     "output_type": "stream",
     "text": [
      "<class 'pandas.core.frame.DataFrame'>\n",
      "Int64Index: 500142 entries, 0 to 534691\n",
      "Data columns (total 33 columns):\n",
      " #   Column                   Non-Null Count   Dtype  \n",
      "---  ------                   --------------   -----  \n",
      " 0   CRASH_RECORD_ID          500142 non-null  object \n",
      " 1   CRASH_YEAR               500142 non-null  int64  \n",
      " 2   POSTED_SPEED_LIMIT       500142 non-null  int64  \n",
      " 3   DEVICE_CONDITION         500142 non-null  object \n",
      " 4   WEATHER_CONDITION        500142 non-null  object \n",
      " 5   LIGHTING_CONDITION       500142 non-null  object \n",
      " 6   CRASH_TYPE               500142 non-null  object \n",
      " 7   INTERSECTION_RELATED_I   500142 non-null  object \n",
      " 8   ROAD_DEFECT              500142 non-null  object \n",
      " 9   PRIM_CONTRIBUTORY_CAUSE  500142 non-null  object \n",
      " 10  NUM_UNITS                500142 non-null  int64  \n",
      " 11  WORK_ZONE_I              500142 non-null  object \n",
      " 12  WORKERS_PRESENT_I        500142 non-null  object \n",
      " 13  INJURIES_TOTAL           500142 non-null  float64\n",
      " 14  INJURIES_FATAL           500142 non-null  float64\n",
      " 15  CRASH_HOUR               500142 non-null  int64  \n",
      " 16  CRASH_DAY_OF_WEEK        500142 non-null  int64  \n",
      " 17  CRASH_MONTH              500142 non-null  int64  \n",
      " 18  LATITUDE                 500142 non-null  float64\n",
      " 19  LONGITUDE                500142 non-null  float64\n",
      " 20  VEHICLE_TYPE             500142 non-null  object \n",
      " 21  MANEUVER                 500142 non-null  object \n",
      " 22  FIRST_CONTACT_POINT      500142 non-null  object \n",
      " 23  VEHICLE_DEFECT_I         500142 non-null  object \n",
      " 24  OCCUPANT_CAT             500142 non-null  object \n",
      " 25  PERSON_TYPE              500142 non-null  object \n",
      " 26  AGE                      500142 non-null  float64\n",
      " 27  SAFETY_EQUIPMENT         500142 non-null  object \n",
      " 28  INJURY_CLASSIFICATION    500142 non-null  object \n",
      " 29  DRIVER_ACTION            500142 non-null  object \n",
      " 30  DRIVER_VISION            500142 non-null  object \n",
      " 31  PHYSICAL_CONDITION       500142 non-null  object \n",
      " 32  PEDPEDAL_ACTION          500142 non-null  object \n",
      "dtypes: float64(5), int64(6), object(22)\n",
      "memory usage: 129.7+ MB\n"
     ]
    }
   ],
   "source": [
    "veh_crsh_ppl.info()"
   ]
  },
  {
   "cell_type": "markdown",
   "id": "e7797aa2",
   "metadata": {},
   "source": [
    "Next, lets look at processing this merged dataset to prepare it for modelling but first, lets separate out the unable to determine categories from the Primary Contributary Cause column to check later whether our model can provide some insights into what coud have been the causes for it."
   ]
  },
  {
   "cell_type": "code",
   "execution_count": 1731,
   "id": "40a7c9d1",
   "metadata": {},
   "outputs": [
    {
     "data": {
      "text/plain": [
       "RECKLESS/IMPROPER DRIVING    193372\n",
       "TRAFFIC RULES VIOLATED       178527\n",
       "UNABLE TO DETERMINE           70617\n",
       "COMPROMISED DRIVING           34013\n",
       "OBSTRUCTIONS                  23613\n",
       "Name: PRIM_CONTRIBUTORY_CAUSE, dtype: int64"
      ]
     },
     "execution_count": 1731,
     "metadata": {},
     "output_type": "execute_result"
    }
   ],
   "source": [
    "veh_crsh_ppl.PRIM_CONTRIBUTORY_CAUSE.value_counts()"
   ]
  },
  {
   "cell_type": "code",
   "execution_count": 1732,
   "id": "7d12e2a8",
   "metadata": {},
   "outputs": [],
   "source": [
    "#separate out unable to determine categories\n",
    "u_veh_crsh_ppl = veh_crsh_ppl[veh_crsh_ppl.PRIM_CONTRIBUTORY_CAUSE == 'UNABLE TO DETERMINE']\n",
    "\n",
    "#separate out the rest\n",
    "veh_crsh_ppl = veh_crsh_ppl[veh_crsh_ppl.PRIM_CONTRIBUTORY_CAUSE != 'UNABLE TO DETERMINE']"
   ]
  },
  {
   "cell_type": "markdown",
   "id": "9eb0d452",
   "metadata": {},
   "source": [
    "Lets take a look at how the dataset looks after filtering out the Unable to Determine causes."
   ]
  },
  {
   "cell_type": "code",
   "execution_count": 1733,
   "id": "03483af3",
   "metadata": {},
   "outputs": [
    {
     "name": "stdout",
     "output_type": "stream",
     "text": [
      "<class 'pandas.core.frame.DataFrame'>\n",
      "Int64Index: 70617 entries, 35 to 534691\n",
      "Data columns (total 33 columns):\n",
      " #   Column                   Non-Null Count  Dtype  \n",
      "---  ------                   --------------  -----  \n",
      " 0   CRASH_RECORD_ID          70617 non-null  object \n",
      " 1   CRASH_YEAR               70617 non-null  int64  \n",
      " 2   POSTED_SPEED_LIMIT       70617 non-null  int64  \n",
      " 3   DEVICE_CONDITION         70617 non-null  object \n",
      " 4   WEATHER_CONDITION        70617 non-null  object \n",
      " 5   LIGHTING_CONDITION       70617 non-null  object \n",
      " 6   CRASH_TYPE               70617 non-null  object \n",
      " 7   INTERSECTION_RELATED_I   70617 non-null  object \n",
      " 8   ROAD_DEFECT              70617 non-null  object \n",
      " 9   PRIM_CONTRIBUTORY_CAUSE  70617 non-null  object \n",
      " 10  NUM_UNITS                70617 non-null  int64  \n",
      " 11  WORK_ZONE_I              70617 non-null  object \n",
      " 12  WORKERS_PRESENT_I        70617 non-null  object \n",
      " 13  INJURIES_TOTAL           70617 non-null  float64\n",
      " 14  INJURIES_FATAL           70617 non-null  float64\n",
      " 15  CRASH_HOUR               70617 non-null  int64  \n",
      " 16  CRASH_DAY_OF_WEEK        70617 non-null  int64  \n",
      " 17  CRASH_MONTH              70617 non-null  int64  \n",
      " 18  LATITUDE                 70617 non-null  float64\n",
      " 19  LONGITUDE                70617 non-null  float64\n",
      " 20  VEHICLE_TYPE             70617 non-null  object \n",
      " 21  MANEUVER                 70617 non-null  object \n",
      " 22  FIRST_CONTACT_POINT      70617 non-null  object \n",
      " 23  VEHICLE_DEFECT_I         70617 non-null  object \n",
      " 24  OCCUPANT_CAT             70617 non-null  object \n",
      " 25  PERSON_TYPE              70617 non-null  object \n",
      " 26  AGE                      70617 non-null  float64\n",
      " 27  SAFETY_EQUIPMENT         70617 non-null  object \n",
      " 28  INJURY_CLASSIFICATION    70617 non-null  object \n",
      " 29  DRIVER_ACTION            70617 non-null  object \n",
      " 30  DRIVER_VISION            70617 non-null  object \n",
      " 31  PHYSICAL_CONDITION       70617 non-null  object \n",
      " 32  PEDPEDAL_ACTION          70617 non-null  object \n",
      "dtypes: float64(5), int64(6), object(22)\n",
      "memory usage: 18.3+ MB\n"
     ]
    }
   ],
   "source": [
    "#unable to determine cause dataset\n",
    "u_veh_crsh_ppl.info()"
   ]
  },
  {
   "cell_type": "code",
   "execution_count": 1734,
   "id": "b71885fd",
   "metadata": {
    "execution": {
     "iopub.execute_input": "2023-04-22T07:24:24.406262Z",
     "iopub.status.busy": "2023-04-22T07:24:24.405493Z",
     "iopub.status.idle": "2023-04-22T07:24:25.483849Z",
     "shell.execute_reply": "2023-04-22T07:24:25.481576Z"
    },
    "papermill": {
     "duration": 1.291701,
     "end_time": "2023-04-22T07:24:25.487129",
     "exception": false,
     "start_time": "2023-04-22T07:24:24.195428",
     "status": "completed"
    },
    "tags": []
   },
   "outputs": [
    {
     "name": "stdout",
     "output_type": "stream",
     "text": [
      "<class 'pandas.core.frame.DataFrame'>\n",
      "Int64Index: 429525 entries, 0 to 534689\n",
      "Data columns (total 33 columns):\n",
      " #   Column                   Non-Null Count   Dtype  \n",
      "---  ------                   --------------   -----  \n",
      " 0   CRASH_RECORD_ID          429525 non-null  object \n",
      " 1   CRASH_YEAR               429525 non-null  int64  \n",
      " 2   POSTED_SPEED_LIMIT       429525 non-null  int64  \n",
      " 3   DEVICE_CONDITION         429525 non-null  object \n",
      " 4   WEATHER_CONDITION        429525 non-null  object \n",
      " 5   LIGHTING_CONDITION       429525 non-null  object \n",
      " 6   CRASH_TYPE               429525 non-null  object \n",
      " 7   INTERSECTION_RELATED_I   429525 non-null  object \n",
      " 8   ROAD_DEFECT              429525 non-null  object \n",
      " 9   PRIM_CONTRIBUTORY_CAUSE  429525 non-null  object \n",
      " 10  NUM_UNITS                429525 non-null  int64  \n",
      " 11  WORK_ZONE_I              429525 non-null  object \n",
      " 12  WORKERS_PRESENT_I        429525 non-null  object \n",
      " 13  INJURIES_TOTAL           429525 non-null  float64\n",
      " 14  INJURIES_FATAL           429525 non-null  float64\n",
      " 15  CRASH_HOUR               429525 non-null  int64  \n",
      " 16  CRASH_DAY_OF_WEEK        429525 non-null  int64  \n",
      " 17  CRASH_MONTH              429525 non-null  int64  \n",
      " 18  LATITUDE                 429525 non-null  float64\n",
      " 19  LONGITUDE                429525 non-null  float64\n",
      " 20  VEHICLE_TYPE             429525 non-null  object \n",
      " 21  MANEUVER                 429525 non-null  object \n",
      " 22  FIRST_CONTACT_POINT      429525 non-null  object \n",
      " 23  VEHICLE_DEFECT_I         429525 non-null  object \n",
      " 24  OCCUPANT_CAT             429525 non-null  object \n",
      " 25  PERSON_TYPE              429525 non-null  object \n",
      " 26  AGE                      429525 non-null  float64\n",
      " 27  SAFETY_EQUIPMENT         429525 non-null  object \n",
      " 28  INJURY_CLASSIFICATION    429525 non-null  object \n",
      " 29  DRIVER_ACTION            429525 non-null  object \n",
      " 30  DRIVER_VISION            429525 non-null  object \n",
      " 31  PHYSICAL_CONDITION       429525 non-null  object \n",
      " 32  PEDPEDAL_ACTION          429525 non-null  object \n",
      "dtypes: float64(5), int64(6), object(22)\n",
      "memory usage: 111.4+ MB\n"
     ]
    }
   ],
   "source": [
    "#dataset with the causes\n",
    "veh_crsh_ppl.info()"
   ]
  },
  {
   "cell_type": "markdown",
   "id": "289072f5",
   "metadata": {},
   "source": [
    "We don't have any missing values and the unable to determine is a largely significant dataset with almost 70,000 records.\n",
    "\n",
    "Now we need to encode the categorical columns because ML models are better adept at handling numerical data as compared to categorical data."
   ]
  },
  {
   "cell_type": "code",
   "execution_count": 1735,
   "id": "1de69269",
   "metadata": {
    "execution": {
     "iopub.execute_input": "2023-04-22T07:24:25.767493Z",
     "iopub.status.busy": "2023-04-22T07:24:25.766999Z",
     "iopub.status.idle": "2023-04-22T07:24:27.891036Z",
     "shell.execute_reply": "2023-04-22T07:24:27.888908Z"
    },
    "papermill": {
     "duration": 2.266214,
     "end_time": "2023-04-22T07:24:27.894435",
     "exception": false,
     "start_time": "2023-04-22T07:24:25.628221",
     "status": "completed"
    },
    "tags": []
   },
   "outputs": [
    {
     "data": {
      "text/plain": [
       "Index(['CRASH_RECORD_ID', 'DEVICE_CONDITION', 'WEATHER_CONDITION',\n",
       "       'LIGHTING_CONDITION', 'CRASH_TYPE', 'INTERSECTION_RELATED_I',\n",
       "       'ROAD_DEFECT', 'PRIM_CONTRIBUTORY_CAUSE', 'WORK_ZONE_I',\n",
       "       'WORKERS_PRESENT_I', 'VEHICLE_TYPE', 'MANEUVER', 'FIRST_CONTACT_POINT',\n",
       "       'VEHICLE_DEFECT_I', 'OCCUPANT_CAT', 'PERSON_TYPE', 'SAFETY_EQUIPMENT',\n",
       "       'INJURY_CLASSIFICATION', 'DRIVER_ACTION', 'DRIVER_VISION',\n",
       "       'PHYSICAL_CONDITION', 'PEDPEDAL_ACTION'],\n",
       "      dtype='object')"
      ]
     },
     "execution_count": 1735,
     "metadata": {},
     "output_type": "execute_result"
    }
   ],
   "source": [
    "# Finding Category Columns\n",
    "cat_columns = veh_crsh_ppl.dtypes[veh_crsh_ppl.dtypes == 'object'].index\n",
    "\n",
    "# Finding unique counts for categorical columns \n",
    "cat_unique = veh_crsh_ppl[cat_columns].nunique()\n",
    "\n",
    "#separate the list of the categorical columns\n",
    "cat = veh_crsh_ppl[cat_columns].columns\n",
    "\n",
    "cat"
   ]
  },
  {
   "cell_type": "code",
   "execution_count": 1736,
   "id": "09f03acb",
   "metadata": {},
   "outputs": [
    {
     "data": {
      "text/plain": [
       "Index(['CRASH_RECORD_ID', 'DEVICE_CONDITION', 'WEATHER_CONDITION',\n",
       "       'LIGHTING_CONDITION', 'CRASH_TYPE', 'INTERSECTION_RELATED_I',\n",
       "       'ROAD_DEFECT', 'PRIM_CONTRIBUTORY_CAUSE', 'WORK_ZONE_I',\n",
       "       'WORKERS_PRESENT_I', 'VEHICLE_TYPE', 'MANEUVER', 'FIRST_CONTACT_POINT',\n",
       "       'VEHICLE_DEFECT_I', 'OCCUPANT_CAT', 'PERSON_TYPE', 'SAFETY_EQUIPMENT',\n",
       "       'INJURY_CLASSIFICATION', 'DRIVER_ACTION', 'DRIVER_VISION',\n",
       "       'PHYSICAL_CONDITION', 'PEDPEDAL_ACTION'],\n",
       "      dtype='object')"
      ]
     },
     "execution_count": 1736,
     "metadata": {},
     "output_type": "execute_result"
    }
   ],
   "source": [
    "# Finding Category Columns for the unable to determine dataset\n",
    "cat_columns_u = u_veh_crsh_ppl.dtypes[u_veh_crsh_ppl.dtypes == 'object'].index\n",
    "\n",
    "# Finding unique counts for categorical columns \n",
    "cat_unique_u = u_veh_crsh_ppl[cat_columns_u].nunique()\n",
    "\n",
    "#separate the list of the categorical columns\n",
    "cat_u = u_veh_crsh_ppl[cat_columns_u].columns\n",
    "\n",
    "cat_u"
   ]
  },
  {
   "cell_type": "markdown",
   "id": "283cf1ad",
   "metadata": {},
   "source": [
    "We will use the caategoricaal columns names to loop through it one by one and label encode the categories in the column using integers from zero onwards"
   ]
  },
  {
   "cell_type": "code",
   "execution_count": 1737,
   "id": "9ea54ae3",
   "metadata": {},
   "outputs": [
    {
     "name": "stdout",
     "output_type": "stream",
     "text": [
      "[['DEVICE_CONDITION', {'FUNCTIONING PROPERLY': 0, 'NOT FUNCTIONING PROPERLY': 1, 'NO CONTROLS': 2}], ['WEATHER_CONDITION', {'CLEAR': 0, 'NOT CLEAR': 1}], ['LIGHTING_CONDITION', {'DAY TIME': 0, 'NIGHT TIME': 1}], ['CRASH_TYPE', {'INJURY AND / OR TOW DUE TO CRASH': 0}], ['INTERSECTION_RELATED_I', {'Y': 0, 'N': 1}], ['ROAD_DEFECT', {'NO DEFECTS': 0, 'DEFECTS': 1}], ['PRIM_CONTRIBUTORY_CAUSE', {'RECKLESS/IMPROPER DRIVING': 0, 'TRAFFIC RULES VIOLATED': 1, 'COMPROMISED DRIVING': 2, 'OBSTRUCTIONS': 3}], ['WORK_ZONE_I', {'N': 0, 'Y': 1}], ['WORKERS_PRESENT_I', {'N': 0, 'Y': 1}], ['VEHICLE_TYPE', {'REGULAR PERSONAL': 0, 'COMMERCIAL': 1, 'PUBLIC': 2}], ['MANEUVER', {'TURNING': 0, 'STRAIGHT': 1, 'START/STOP': 2, 'EXTERNAL OBSTRUCTIONS': 3, 'DRIVING WRONG WAY': 4, 'LANE CHANGE': 5, 'ENTERING/EXITING TRAFFIC': 6, 'BACKING': 7}], ['FIRST_CONTACT_POINT', {'FRONT': 0, 'NONE': 1, 'REAR': 2, 'OTHER': 3, 'SIDE': 4, 'TOTAL (ALL AREAS)': 5, 'TOP/BOTTOM': 6}], ['VEHICLE_DEFECT_I', {'N': 0, 'U': 1, 'Y': 2}], ['OCCUPANT_CAT', {'1-2': 0, '3-5': 1, '0': 2, '6-9': 3, '10+': 4}], ['PERSON_TYPE', {'PASSENGER': 0, 'DRIVER': 1, 'BICYCLE': 2, 'PEDESTRIAN': 3, 'NON-MOTOR VEHICLE': 4, 'NON-CONTACT VEHICLE': 5}], ['SAFETY_EQUIPMENT', {'SAFETY EQUIPMENT USED': 0, 'SAFETY EQUIPMENT MISSING/MISUSED': 1, 'USAGE UNKNOWN': 2}], ['INJURY_CLASSIFICATION', {'NO INDICATION OF INJURY': 0, 'INJUIRY': 1}], ['DRIVER_ACTION', {'PASSENGER': 0, 'IMPROPER TURN': 1, 'NONE': 2, 'OTHER': 3, 'WRONG WAY/SIDE': 4, 'FAILED TO YIELD': 5, 'CELL PHONE USE OTHER THAN TEXTING': 6, 'UNKNOWN': 7, 'IMPROPER LANE CHANGE': 8, 'IMPROPER BACKING': 9, 'FOLLOWED TOO CLOSELY': 10, 'TOO FAST FOR CONDITIONS': 11, 'DISREGARDED CONTROL DEVICES': 12, 'IMPROPER PASSING': 13, 'EVADING POLICE VEHICLE': 14, 'OVERCORRECTED': 15, 'TEXTING': 16, 'IMPROPER PARKING': 17, 'EMERGENCY VEHICLE ON CALL': 18, 'STOPPED SCHOOL BUS': 19, 'LICENSE RESTRICTIONS': 20}], ['DRIVER_VISION', {'PASSENGER': 0, 'UNKNOWN': 1, 'NOT OBSCURED': 2, 'OBSCURED': 3}], ['PHYSICAL_CONDITION', {'PASSENGER': 0, 'NORMAL': 1, 'IMPAIRED': 2}], ['PEDPEDAL_ACTION', {'PASSENGER': 0, 'DRIVER': 1, 'AGAINST TRAFFIC': 2, 'CROSSING - CONTROLS PRESENT (NOT AT INTERSECTION)': 3, 'CROSSING - WITH SIGNAL': 4, 'OTHER ACTION': 5, 'CROSSING - NO CONTROLS (NOT AT INTERSECTION)': 6, 'WITH TRAFFIC': 7, 'NO ACTION': 8, 'PLAYING IN ROADWAY': 9, 'INTOXICATED PED/PEDAL': 10, 'ENTER FROM DRIVE/ALLEY': 11, 'CROSSING - NO CONTROLS (AT INTERSECTION)': 12, 'CROSSING - AGAINST SIGNAL': 13, 'UNKNOWN/NA': 14, 'NOT AT INTERSECTION': 15, 'STANDING IN ROADWAY': 16, 'TURNING LEFT': 17, 'WORKING IN ROADWAY': 18, 'TURNING RIGHT': 19, 'PARKED VEHICLE': 20, 'WAITING FOR SCHOOL BUS': 21, 'TO/FROM DISABLED VEHICLE': 22, 'PLAYING/WORKING ON VEHICLE': 23, 'SCHOOL BUS (WITHIN 50 FT.)': 24}]]\n",
      "[['DEVICE_CONDITION', {'FUNCTIONING PROPERLY': 0, 'NOT FUNCTIONING PROPERLY': 1, 'NO CONTROLS': 2}], ['WEATHER_CONDITION', {'CLEAR': 0, 'NOT CLEAR': 1}], ['LIGHTING_CONDITION', {'DAY TIME': 0, 'NIGHT TIME': 1}], ['CRASH_TYPE', {'INJURY AND / OR TOW DUE TO CRASH': 0}], ['INTERSECTION_RELATED_I', {'Y': 0, 'N': 1}], ['ROAD_DEFECT', {'NO DEFECTS': 0, 'DEFECTS': 1}], ['PRIM_CONTRIBUTORY_CAUSE', {'RECKLESS/IMPROPER DRIVING': 0, 'TRAFFIC RULES VIOLATED': 1, 'COMPROMISED DRIVING': 2, 'OBSTRUCTIONS': 3}], ['WORK_ZONE_I', {'N': 0, 'Y': 1}], ['WORKERS_PRESENT_I', {'N': 0, 'Y': 1}], ['VEHICLE_TYPE', {'REGULAR PERSONAL': 0, 'COMMERCIAL': 1, 'PUBLIC': 2}], ['MANEUVER', {'TURNING': 0, 'STRAIGHT': 1, 'START/STOP': 2, 'EXTERNAL OBSTRUCTIONS': 3, 'DRIVING WRONG WAY': 4, 'LANE CHANGE': 5, 'ENTERING/EXITING TRAFFIC': 6, 'BACKING': 7}], ['FIRST_CONTACT_POINT', {'FRONT': 0, 'NONE': 1, 'REAR': 2, 'OTHER': 3, 'SIDE': 4, 'TOTAL (ALL AREAS)': 5, 'TOP/BOTTOM': 6}], ['VEHICLE_DEFECT_I', {'N': 0, 'U': 1, 'Y': 2}], ['OCCUPANT_CAT', {'1-2': 0, '3-5': 1, '0': 2, '6-9': 3, '10+': 4}], ['PERSON_TYPE', {'PASSENGER': 0, 'DRIVER': 1, 'BICYCLE': 2, 'PEDESTRIAN': 3, 'NON-MOTOR VEHICLE': 4, 'NON-CONTACT VEHICLE': 5}], ['SAFETY_EQUIPMENT', {'SAFETY EQUIPMENT USED': 0, 'SAFETY EQUIPMENT MISSING/MISUSED': 1, 'USAGE UNKNOWN': 2}], ['INJURY_CLASSIFICATION', {'NO INDICATION OF INJURY': 0, 'INJUIRY': 1}], ['DRIVER_ACTION', {'PASSENGER': 0, 'IMPROPER TURN': 1, 'NONE': 2, 'OTHER': 3, 'WRONG WAY/SIDE': 4, 'FAILED TO YIELD': 5, 'CELL PHONE USE OTHER THAN TEXTING': 6, 'UNKNOWN': 7, 'IMPROPER LANE CHANGE': 8, 'IMPROPER BACKING': 9, 'FOLLOWED TOO CLOSELY': 10, 'TOO FAST FOR CONDITIONS': 11, 'DISREGARDED CONTROL DEVICES': 12, 'IMPROPER PASSING': 13, 'EVADING POLICE VEHICLE': 14, 'OVERCORRECTED': 15, 'TEXTING': 16, 'IMPROPER PARKING': 17, 'EMERGENCY VEHICLE ON CALL': 18, 'STOPPED SCHOOL BUS': 19, 'LICENSE RESTRICTIONS': 20}], ['DRIVER_VISION', {'PASSENGER': 0, 'UNKNOWN': 1, 'NOT OBSCURED': 2, 'OBSCURED': 3}], ['PHYSICAL_CONDITION', {'PASSENGER': 0, 'NORMAL': 1, 'IMPAIRED': 2}], ['PEDPEDAL_ACTION', {'PASSENGER': 0, 'DRIVER': 1, 'AGAINST TRAFFIC': 2, 'CROSSING - CONTROLS PRESENT (NOT AT INTERSECTION)': 3, 'CROSSING - WITH SIGNAL': 4, 'OTHER ACTION': 5, 'CROSSING - NO CONTROLS (NOT AT INTERSECTION)': 6, 'WITH TRAFFIC': 7, 'NO ACTION': 8, 'PLAYING IN ROADWAY': 9, 'INTOXICATED PED/PEDAL': 10, 'ENTER FROM DRIVE/ALLEY': 11, 'CROSSING - NO CONTROLS (AT INTERSECTION)': 12, 'CROSSING - AGAINST SIGNAL': 13, 'UNKNOWN/NA': 14, 'NOT AT INTERSECTION': 15, 'STANDING IN ROADWAY': 16, 'TURNING LEFT': 17, 'WORKING IN ROADWAY': 18, 'TURNING RIGHT': 19, 'PARKED VEHICLE': 20, 'WAITING FOR SCHOOL BUS': 21, 'TO/FROM DISABLED VEHICLE': 22, 'PLAYING/WORKING ON VEHICLE': 23, 'SCHOOL BUS (WITHIN 50 FT.)': 24}]]\n"
     ]
    }
   ],
   "source": [
    "label_list=[]\n",
    "label_list_u=[]\n",
    "for j in cat[1:]: #loop through the categorical variables\n",
    "    label_encoding = veh_crsh_ppl[j].unique() #separate the unique variables in the specific column\n",
    "    label_encoding = { label_encoding[i] : i for i in range(len(label_encoding))} #label encode\n",
    "    label_list.append([j,label_encoding])\n",
    "    \n",
    "    \n",
    "    #do the same thing for the unable to determine dataset\n",
    "    label_encoding_u = u_veh_crsh_ppl[j].unique()\n",
    "    label_encoding_u = { label_encoding_u[i] : i for i in range(len(label_encoding_u))}\n",
    "    label_list_u.append([j,label_encoding])\n",
    "    \n",
    "    #encode both datasets\n",
    "    veh_crsh_ppl[j] = veh_crsh_ppl[j].apply(lambda x : label_encoding[x])\n",
    "#     print(j, veh_crsh_ppl[j].unique())\n",
    "\n",
    "    u_veh_crsh_ppl[j] = u_veh_crsh_ppl[j].apply(lambda x : label_encoding_u[x])\n",
    "#     print(j, u_veh_crsh_ppl[j].unique())\n",
    "\n",
    "print(label_list)\n",
    "print(label_list_u)"
   ]
  },
  {
   "cell_type": "markdown",
   "id": "bab9f6f0",
   "metadata": {},
   "source": [
    "We filtered out the types of crashes to only keep the ones that had inlved injuries. Considering that crash type has been filtered to only the injuries or fatalities, we can drop this columnm."
   ]
  },
  {
   "cell_type": "code",
   "execution_count": 1738,
   "id": "05592bb4",
   "metadata": {
    "execution": {
     "iopub.execute_input": "2023-04-22T07:24:33.763619Z",
     "iopub.status.busy": "2023-04-22T07:24:33.763177Z",
     "iopub.status.idle": "2023-04-22T07:24:34.166917Z",
     "shell.execute_reply": "2023-04-22T07:24:34.165217Z"
    },
    "papermill": {
     "duration": 0.54603,
     "end_time": "2023-04-22T07:24:34.170231",
     "exception": false,
     "start_time": "2023-04-22T07:24:33.624201",
     "status": "completed"
    },
    "tags": []
   },
   "outputs": [],
   "source": [
    "veh_crsh_ppl.drop('CRASH_TYPE', axis= 1, inplace= True)\n",
    "u_veh_crsh_ppl.drop('CRASH_TYPE', axis= 1, inplace= True)"
   ]
  },
  {
   "cell_type": "markdown",
   "id": "81ad86a8",
   "metadata": {},
   "source": [
    "The Craash Record IDs are more of a primary key for this dataset therefore we will set this aas the index so as not to interfere with our mdelling but still have it available if we need it. After setting the index, we will extract the unique indices so as to keep records relating to the same crash in the same train/test dataset."
   ]
  },
  {
   "cell_type": "code",
   "execution_count": 1743,
   "id": "7f0934d7",
   "metadata": {},
   "outputs": [
    {
     "data": {
      "text/html": [
       "<div>\n",
       "<style scoped>\n",
       "    .dataframe tbody tr th:only-of-type {\n",
       "        vertical-align: middle;\n",
       "    }\n",
       "\n",
       "    .dataframe tbody tr th {\n",
       "        vertical-align: top;\n",
       "    }\n",
       "\n",
       "    .dataframe thead th {\n",
       "        text-align: right;\n",
       "    }\n",
       "</style>\n",
       "<table border=\"1\" class=\"dataframe\">\n",
       "  <thead>\n",
       "    <tr style=\"text-align: right;\">\n",
       "      <th></th>\n",
       "      <th>CRASH_YEAR</th>\n",
       "      <th>POSTED_SPEED_LIMIT</th>\n",
       "      <th>DEVICE_CONDITION</th>\n",
       "      <th>WEATHER_CONDITION</th>\n",
       "      <th>LIGHTING_CONDITION</th>\n",
       "      <th>INTERSECTION_RELATED_I</th>\n",
       "      <th>ROAD_DEFECT</th>\n",
       "      <th>PRIM_CONTRIBUTORY_CAUSE</th>\n",
       "      <th>NUM_UNITS</th>\n",
       "      <th>WORK_ZONE_I</th>\n",
       "      <th>...</th>\n",
       "      <th>VEHICLE_DEFECT_I</th>\n",
       "      <th>OCCUPANT_CAT</th>\n",
       "      <th>PERSON_TYPE</th>\n",
       "      <th>AGE</th>\n",
       "      <th>SAFETY_EQUIPMENT</th>\n",
       "      <th>INJURY_CLASSIFICATION</th>\n",
       "      <th>DRIVER_ACTION</th>\n",
       "      <th>DRIVER_VISION</th>\n",
       "      <th>PHYSICAL_CONDITION</th>\n",
       "      <th>PEDPEDAL_ACTION</th>\n",
       "    </tr>\n",
       "    <tr>\n",
       "      <th>CRASH_RECORD_ID</th>\n",
       "      <th></th>\n",
       "      <th></th>\n",
       "      <th></th>\n",
       "      <th></th>\n",
       "      <th></th>\n",
       "      <th></th>\n",
       "      <th></th>\n",
       "      <th></th>\n",
       "      <th></th>\n",
       "      <th></th>\n",
       "      <th></th>\n",
       "      <th></th>\n",
       "      <th></th>\n",
       "      <th></th>\n",
       "      <th></th>\n",
       "      <th></th>\n",
       "      <th></th>\n",
       "      <th></th>\n",
       "      <th></th>\n",
       "      <th></th>\n",
       "      <th></th>\n",
       "    </tr>\n",
       "  </thead>\n",
       "  <tbody>\n",
       "    <tr>\n",
       "      <th>79c7a2ce89f446262efd86df3d72d18b04ba487024b7c42d58be7bc0ee3b2779be1916679231382b4a4bfe14200bd305d9c6feb7cd70839f863dd944b040212d</th>\n",
       "      <td>2019</td>\n",
       "      <td>30</td>\n",
       "      <td>0</td>\n",
       "      <td>0</td>\n",
       "      <td>0</td>\n",
       "      <td>0</td>\n",
       "      <td>0</td>\n",
       "      <td>0</td>\n",
       "      <td>2</td>\n",
       "      <td>0</td>\n",
       "      <td>...</td>\n",
       "      <td>0</td>\n",
       "      <td>0</td>\n",
       "      <td>0</td>\n",
       "      <td>27.0</td>\n",
       "      <td>0</td>\n",
       "      <td>0</td>\n",
       "      <td>0</td>\n",
       "      <td>0</td>\n",
       "      <td>0</td>\n",
       "      <td>0</td>\n",
       "    </tr>\n",
       "    <tr>\n",
       "      <th>79c7a2ce89f446262efd86df3d72d18b04ba487024b7c42d58be7bc0ee3b2779be1916679231382b4a4bfe14200bd305d9c6feb7cd70839f863dd944b040212d</th>\n",
       "      <td>2019</td>\n",
       "      <td>30</td>\n",
       "      <td>0</td>\n",
       "      <td>0</td>\n",
       "      <td>0</td>\n",
       "      <td>0</td>\n",
       "      <td>0</td>\n",
       "      <td>0</td>\n",
       "      <td>2</td>\n",
       "      <td>0</td>\n",
       "      <td>...</td>\n",
       "      <td>0</td>\n",
       "      <td>0</td>\n",
       "      <td>1</td>\n",
       "      <td>22.0</td>\n",
       "      <td>0</td>\n",
       "      <td>1</td>\n",
       "      <td>1</td>\n",
       "      <td>1</td>\n",
       "      <td>1</td>\n",
       "      <td>1</td>\n",
       "    </tr>\n",
       "    <tr>\n",
       "      <th>79c7a2ce89f446262efd86df3d72d18b04ba487024b7c42d58be7bc0ee3b2779be1916679231382b4a4bfe14200bd305d9c6feb7cd70839f863dd944b040212d</th>\n",
       "      <td>2019</td>\n",
       "      <td>30</td>\n",
       "      <td>0</td>\n",
       "      <td>0</td>\n",
       "      <td>0</td>\n",
       "      <td>0</td>\n",
       "      <td>0</td>\n",
       "      <td>0</td>\n",
       "      <td>2</td>\n",
       "      <td>0</td>\n",
       "      <td>...</td>\n",
       "      <td>0</td>\n",
       "      <td>0</td>\n",
       "      <td>1</td>\n",
       "      <td>56.0</td>\n",
       "      <td>0</td>\n",
       "      <td>0</td>\n",
       "      <td>2</td>\n",
       "      <td>2</td>\n",
       "      <td>1</td>\n",
       "      <td>1</td>\n",
       "    </tr>\n",
       "    <tr>\n",
       "      <th>79c7a2ce89f446262efd86df3d72d18b04ba487024b7c42d58be7bc0ee3b2779be1916679231382b4a4bfe14200bd305d9c6feb7cd70839f863dd944b040212d</th>\n",
       "      <td>2019</td>\n",
       "      <td>30</td>\n",
       "      <td>0</td>\n",
       "      <td>0</td>\n",
       "      <td>0</td>\n",
       "      <td>0</td>\n",
       "      <td>0</td>\n",
       "      <td>0</td>\n",
       "      <td>2</td>\n",
       "      <td>0</td>\n",
       "      <td>...</td>\n",
       "      <td>0</td>\n",
       "      <td>0</td>\n",
       "      <td>0</td>\n",
       "      <td>27.0</td>\n",
       "      <td>0</td>\n",
       "      <td>0</td>\n",
       "      <td>0</td>\n",
       "      <td>0</td>\n",
       "      <td>0</td>\n",
       "      <td>0</td>\n",
       "    </tr>\n",
       "    <tr>\n",
       "      <th>79c7a2ce89f446262efd86df3d72d18b04ba487024b7c42d58be7bc0ee3b2779be1916679231382b4a4bfe14200bd305d9c6feb7cd70839f863dd944b040212d</th>\n",
       "      <td>2019</td>\n",
       "      <td>30</td>\n",
       "      <td>0</td>\n",
       "      <td>0</td>\n",
       "      <td>0</td>\n",
       "      <td>0</td>\n",
       "      <td>0</td>\n",
       "      <td>0</td>\n",
       "      <td>2</td>\n",
       "      <td>0</td>\n",
       "      <td>...</td>\n",
       "      <td>0</td>\n",
       "      <td>0</td>\n",
       "      <td>1</td>\n",
       "      <td>22.0</td>\n",
       "      <td>0</td>\n",
       "      <td>1</td>\n",
       "      <td>1</td>\n",
       "      <td>1</td>\n",
       "      <td>1</td>\n",
       "      <td>1</td>\n",
       "    </tr>\n",
       "    <tr>\n",
       "      <th>...</th>\n",
       "      <td>...</td>\n",
       "      <td>...</td>\n",
       "      <td>...</td>\n",
       "      <td>...</td>\n",
       "      <td>...</td>\n",
       "      <td>...</td>\n",
       "      <td>...</td>\n",
       "      <td>...</td>\n",
       "      <td>...</td>\n",
       "      <td>...</td>\n",
       "      <td>...</td>\n",
       "      <td>...</td>\n",
       "      <td>...</td>\n",
       "      <td>...</td>\n",
       "      <td>...</td>\n",
       "      <td>...</td>\n",
       "      <td>...</td>\n",
       "      <td>...</td>\n",
       "      <td>...</td>\n",
       "      <td>...</td>\n",
       "      <td>...</td>\n",
       "    </tr>\n",
       "    <tr>\n",
       "      <th>2aab54e2b2e6559f3cfe240f84690dd78a991a5e818ca907234636fbe2b1e1ce89d5aaa15a61976ab1ea8e6935de88ac2771bd9acae6101a39c1f186a40ec9a4</th>\n",
       "      <td>2022</td>\n",
       "      <td>30</td>\n",
       "      <td>0</td>\n",
       "      <td>0</td>\n",
       "      <td>1</td>\n",
       "      <td>0</td>\n",
       "      <td>0</td>\n",
       "      <td>1</td>\n",
       "      <td>2</td>\n",
       "      <td>0</td>\n",
       "      <td>...</td>\n",
       "      <td>1</td>\n",
       "      <td>0</td>\n",
       "      <td>1</td>\n",
       "      <td>29.0</td>\n",
       "      <td>2</td>\n",
       "      <td>0</td>\n",
       "      <td>5</td>\n",
       "      <td>2</td>\n",
       "      <td>1</td>\n",
       "      <td>1</td>\n",
       "    </tr>\n",
       "    <tr>\n",
       "      <th>2aab54e2b2e6559f3cfe240f84690dd78a991a5e818ca907234636fbe2b1e1ce89d5aaa15a61976ab1ea8e6935de88ac2771bd9acae6101a39c1f186a40ec9a4</th>\n",
       "      <td>2022</td>\n",
       "      <td>30</td>\n",
       "      <td>0</td>\n",
       "      <td>0</td>\n",
       "      <td>1</td>\n",
       "      <td>0</td>\n",
       "      <td>0</td>\n",
       "      <td>1</td>\n",
       "      <td>2</td>\n",
       "      <td>0</td>\n",
       "      <td>...</td>\n",
       "      <td>0</td>\n",
       "      <td>0</td>\n",
       "      <td>1</td>\n",
       "      <td>57.0</td>\n",
       "      <td>2</td>\n",
       "      <td>0</td>\n",
       "      <td>7</td>\n",
       "      <td>3</td>\n",
       "      <td>1</td>\n",
       "      <td>1</td>\n",
       "    </tr>\n",
       "    <tr>\n",
       "      <th>2aab54e2b2e6559f3cfe240f84690dd78a991a5e818ca907234636fbe2b1e1ce89d5aaa15a61976ab1ea8e6935de88ac2771bd9acae6101a39c1f186a40ec9a4</th>\n",
       "      <td>2022</td>\n",
       "      <td>30</td>\n",
       "      <td>0</td>\n",
       "      <td>0</td>\n",
       "      <td>1</td>\n",
       "      <td>0</td>\n",
       "      <td>0</td>\n",
       "      <td>1</td>\n",
       "      <td>2</td>\n",
       "      <td>0</td>\n",
       "      <td>...</td>\n",
       "      <td>0</td>\n",
       "      <td>0</td>\n",
       "      <td>1</td>\n",
       "      <td>29.0</td>\n",
       "      <td>2</td>\n",
       "      <td>0</td>\n",
       "      <td>5</td>\n",
       "      <td>2</td>\n",
       "      <td>1</td>\n",
       "      <td>1</td>\n",
       "    </tr>\n",
       "    <tr>\n",
       "      <th>22a4d7218110c786c6e8394f9843d1185ed506773581445e1a8261e83bbd1de51e60fd43a0637d7d1c2bdad80f40acf6530dd11490e1b14798f6ae83a6354f2b</th>\n",
       "      <td>2022</td>\n",
       "      <td>45</td>\n",
       "      <td>1</td>\n",
       "      <td>0</td>\n",
       "      <td>1</td>\n",
       "      <td>0</td>\n",
       "      <td>0</td>\n",
       "      <td>1</td>\n",
       "      <td>2</td>\n",
       "      <td>0</td>\n",
       "      <td>...</td>\n",
       "      <td>1</td>\n",
       "      <td>0</td>\n",
       "      <td>1</td>\n",
       "      <td>18.0</td>\n",
       "      <td>2</td>\n",
       "      <td>1</td>\n",
       "      <td>2</td>\n",
       "      <td>1</td>\n",
       "      <td>1</td>\n",
       "      <td>1</td>\n",
       "    </tr>\n",
       "    <tr>\n",
       "      <th>22a4d7218110c786c6e8394f9843d1185ed506773581445e1a8261e83bbd1de51e60fd43a0637d7d1c2bdad80f40acf6530dd11490e1b14798f6ae83a6354f2b</th>\n",
       "      <td>2022</td>\n",
       "      <td>45</td>\n",
       "      <td>1</td>\n",
       "      <td>0</td>\n",
       "      <td>1</td>\n",
       "      <td>0</td>\n",
       "      <td>0</td>\n",
       "      <td>1</td>\n",
       "      <td>2</td>\n",
       "      <td>0</td>\n",
       "      <td>...</td>\n",
       "      <td>1</td>\n",
       "      <td>0</td>\n",
       "      <td>1</td>\n",
       "      <td>18.0</td>\n",
       "      <td>2</td>\n",
       "      <td>1</td>\n",
       "      <td>2</td>\n",
       "      <td>1</td>\n",
       "      <td>1</td>\n",
       "      <td>1</td>\n",
       "    </tr>\n",
       "  </tbody>\n",
       "</table>\n",
       "<p>429525 rows × 31 columns</p>\n",
       "</div>"
      ],
      "text/plain": [
       "                                                    CRASH_YEAR  \\\n",
       "CRASH_RECORD_ID                                                  \n",
       "79c7a2ce89f446262efd86df3d72d18b04ba487024b7c42...        2019   \n",
       "79c7a2ce89f446262efd86df3d72d18b04ba487024b7c42...        2019   \n",
       "79c7a2ce89f446262efd86df3d72d18b04ba487024b7c42...        2019   \n",
       "79c7a2ce89f446262efd86df3d72d18b04ba487024b7c42...        2019   \n",
       "79c7a2ce89f446262efd86df3d72d18b04ba487024b7c42...        2019   \n",
       "...                                                        ...   \n",
       "2aab54e2b2e6559f3cfe240f84690dd78a991a5e818ca90...        2022   \n",
       "2aab54e2b2e6559f3cfe240f84690dd78a991a5e818ca90...        2022   \n",
       "2aab54e2b2e6559f3cfe240f84690dd78a991a5e818ca90...        2022   \n",
       "22a4d7218110c786c6e8394f9843d1185ed506773581445...        2022   \n",
       "22a4d7218110c786c6e8394f9843d1185ed506773581445...        2022   \n",
       "\n",
       "                                                    POSTED_SPEED_LIMIT  \\\n",
       "CRASH_RECORD_ID                                                          \n",
       "79c7a2ce89f446262efd86df3d72d18b04ba487024b7c42...                  30   \n",
       "79c7a2ce89f446262efd86df3d72d18b04ba487024b7c42...                  30   \n",
       "79c7a2ce89f446262efd86df3d72d18b04ba487024b7c42...                  30   \n",
       "79c7a2ce89f446262efd86df3d72d18b04ba487024b7c42...                  30   \n",
       "79c7a2ce89f446262efd86df3d72d18b04ba487024b7c42...                  30   \n",
       "...                                                                ...   \n",
       "2aab54e2b2e6559f3cfe240f84690dd78a991a5e818ca90...                  30   \n",
       "2aab54e2b2e6559f3cfe240f84690dd78a991a5e818ca90...                  30   \n",
       "2aab54e2b2e6559f3cfe240f84690dd78a991a5e818ca90...                  30   \n",
       "22a4d7218110c786c6e8394f9843d1185ed506773581445...                  45   \n",
       "22a4d7218110c786c6e8394f9843d1185ed506773581445...                  45   \n",
       "\n",
       "                                                    DEVICE_CONDITION  \\\n",
       "CRASH_RECORD_ID                                                        \n",
       "79c7a2ce89f446262efd86df3d72d18b04ba487024b7c42...                 0   \n",
       "79c7a2ce89f446262efd86df3d72d18b04ba487024b7c42...                 0   \n",
       "79c7a2ce89f446262efd86df3d72d18b04ba487024b7c42...                 0   \n",
       "79c7a2ce89f446262efd86df3d72d18b04ba487024b7c42...                 0   \n",
       "79c7a2ce89f446262efd86df3d72d18b04ba487024b7c42...                 0   \n",
       "...                                                              ...   \n",
       "2aab54e2b2e6559f3cfe240f84690dd78a991a5e818ca90...                 0   \n",
       "2aab54e2b2e6559f3cfe240f84690dd78a991a5e818ca90...                 0   \n",
       "2aab54e2b2e6559f3cfe240f84690dd78a991a5e818ca90...                 0   \n",
       "22a4d7218110c786c6e8394f9843d1185ed506773581445...                 1   \n",
       "22a4d7218110c786c6e8394f9843d1185ed506773581445...                 1   \n",
       "\n",
       "                                                    WEATHER_CONDITION  \\\n",
       "CRASH_RECORD_ID                                                         \n",
       "79c7a2ce89f446262efd86df3d72d18b04ba487024b7c42...                  0   \n",
       "79c7a2ce89f446262efd86df3d72d18b04ba487024b7c42...                  0   \n",
       "79c7a2ce89f446262efd86df3d72d18b04ba487024b7c42...                  0   \n",
       "79c7a2ce89f446262efd86df3d72d18b04ba487024b7c42...                  0   \n",
       "79c7a2ce89f446262efd86df3d72d18b04ba487024b7c42...                  0   \n",
       "...                                                               ...   \n",
       "2aab54e2b2e6559f3cfe240f84690dd78a991a5e818ca90...                  0   \n",
       "2aab54e2b2e6559f3cfe240f84690dd78a991a5e818ca90...                  0   \n",
       "2aab54e2b2e6559f3cfe240f84690dd78a991a5e818ca90...                  0   \n",
       "22a4d7218110c786c6e8394f9843d1185ed506773581445...                  0   \n",
       "22a4d7218110c786c6e8394f9843d1185ed506773581445...                  0   \n",
       "\n",
       "                                                    LIGHTING_CONDITION  \\\n",
       "CRASH_RECORD_ID                                                          \n",
       "79c7a2ce89f446262efd86df3d72d18b04ba487024b7c42...                   0   \n",
       "79c7a2ce89f446262efd86df3d72d18b04ba487024b7c42...                   0   \n",
       "79c7a2ce89f446262efd86df3d72d18b04ba487024b7c42...                   0   \n",
       "79c7a2ce89f446262efd86df3d72d18b04ba487024b7c42...                   0   \n",
       "79c7a2ce89f446262efd86df3d72d18b04ba487024b7c42...                   0   \n",
       "...                                                                ...   \n",
       "2aab54e2b2e6559f3cfe240f84690dd78a991a5e818ca90...                   1   \n",
       "2aab54e2b2e6559f3cfe240f84690dd78a991a5e818ca90...                   1   \n",
       "2aab54e2b2e6559f3cfe240f84690dd78a991a5e818ca90...                   1   \n",
       "22a4d7218110c786c6e8394f9843d1185ed506773581445...                   1   \n",
       "22a4d7218110c786c6e8394f9843d1185ed506773581445...                   1   \n",
       "\n",
       "                                                    INTERSECTION_RELATED_I  \\\n",
       "CRASH_RECORD_ID                                                              \n",
       "79c7a2ce89f446262efd86df3d72d18b04ba487024b7c42...                       0   \n",
       "79c7a2ce89f446262efd86df3d72d18b04ba487024b7c42...                       0   \n",
       "79c7a2ce89f446262efd86df3d72d18b04ba487024b7c42...                       0   \n",
       "79c7a2ce89f446262efd86df3d72d18b04ba487024b7c42...                       0   \n",
       "79c7a2ce89f446262efd86df3d72d18b04ba487024b7c42...                       0   \n",
       "...                                                                    ...   \n",
       "2aab54e2b2e6559f3cfe240f84690dd78a991a5e818ca90...                       0   \n",
       "2aab54e2b2e6559f3cfe240f84690dd78a991a5e818ca90...                       0   \n",
       "2aab54e2b2e6559f3cfe240f84690dd78a991a5e818ca90...                       0   \n",
       "22a4d7218110c786c6e8394f9843d1185ed506773581445...                       0   \n",
       "22a4d7218110c786c6e8394f9843d1185ed506773581445...                       0   \n",
       "\n",
       "                                                    ROAD_DEFECT  \\\n",
       "CRASH_RECORD_ID                                                   \n",
       "79c7a2ce89f446262efd86df3d72d18b04ba487024b7c42...            0   \n",
       "79c7a2ce89f446262efd86df3d72d18b04ba487024b7c42...            0   \n",
       "79c7a2ce89f446262efd86df3d72d18b04ba487024b7c42...            0   \n",
       "79c7a2ce89f446262efd86df3d72d18b04ba487024b7c42...            0   \n",
       "79c7a2ce89f446262efd86df3d72d18b04ba487024b7c42...            0   \n",
       "...                                                         ...   \n",
       "2aab54e2b2e6559f3cfe240f84690dd78a991a5e818ca90...            0   \n",
       "2aab54e2b2e6559f3cfe240f84690dd78a991a5e818ca90...            0   \n",
       "2aab54e2b2e6559f3cfe240f84690dd78a991a5e818ca90...            0   \n",
       "22a4d7218110c786c6e8394f9843d1185ed506773581445...            0   \n",
       "22a4d7218110c786c6e8394f9843d1185ed506773581445...            0   \n",
       "\n",
       "                                                    PRIM_CONTRIBUTORY_CAUSE  \\\n",
       "CRASH_RECORD_ID                                                               \n",
       "79c7a2ce89f446262efd86df3d72d18b04ba487024b7c42...                        0   \n",
       "79c7a2ce89f446262efd86df3d72d18b04ba487024b7c42...                        0   \n",
       "79c7a2ce89f446262efd86df3d72d18b04ba487024b7c42...                        0   \n",
       "79c7a2ce89f446262efd86df3d72d18b04ba487024b7c42...                        0   \n",
       "79c7a2ce89f446262efd86df3d72d18b04ba487024b7c42...                        0   \n",
       "...                                                                     ...   \n",
       "2aab54e2b2e6559f3cfe240f84690dd78a991a5e818ca90...                        1   \n",
       "2aab54e2b2e6559f3cfe240f84690dd78a991a5e818ca90...                        1   \n",
       "2aab54e2b2e6559f3cfe240f84690dd78a991a5e818ca90...                        1   \n",
       "22a4d7218110c786c6e8394f9843d1185ed506773581445...                        1   \n",
       "22a4d7218110c786c6e8394f9843d1185ed506773581445...                        1   \n",
       "\n",
       "                                                    NUM_UNITS  WORK_ZONE_I  \\\n",
       "CRASH_RECORD_ID                                                              \n",
       "79c7a2ce89f446262efd86df3d72d18b04ba487024b7c42...          2            0   \n",
       "79c7a2ce89f446262efd86df3d72d18b04ba487024b7c42...          2            0   \n",
       "79c7a2ce89f446262efd86df3d72d18b04ba487024b7c42...          2            0   \n",
       "79c7a2ce89f446262efd86df3d72d18b04ba487024b7c42...          2            0   \n",
       "79c7a2ce89f446262efd86df3d72d18b04ba487024b7c42...          2            0   \n",
       "...                                                       ...          ...   \n",
       "2aab54e2b2e6559f3cfe240f84690dd78a991a5e818ca90...          2            0   \n",
       "2aab54e2b2e6559f3cfe240f84690dd78a991a5e818ca90...          2            0   \n",
       "2aab54e2b2e6559f3cfe240f84690dd78a991a5e818ca90...          2            0   \n",
       "22a4d7218110c786c6e8394f9843d1185ed506773581445...          2            0   \n",
       "22a4d7218110c786c6e8394f9843d1185ed506773581445...          2            0   \n",
       "\n",
       "                                                    ...  VEHICLE_DEFECT_I  \\\n",
       "CRASH_RECORD_ID                                     ...                     \n",
       "79c7a2ce89f446262efd86df3d72d18b04ba487024b7c42...  ...                 0   \n",
       "79c7a2ce89f446262efd86df3d72d18b04ba487024b7c42...  ...                 0   \n",
       "79c7a2ce89f446262efd86df3d72d18b04ba487024b7c42...  ...                 0   \n",
       "79c7a2ce89f446262efd86df3d72d18b04ba487024b7c42...  ...                 0   \n",
       "79c7a2ce89f446262efd86df3d72d18b04ba487024b7c42...  ...                 0   \n",
       "...                                                 ...               ...   \n",
       "2aab54e2b2e6559f3cfe240f84690dd78a991a5e818ca90...  ...                 1   \n",
       "2aab54e2b2e6559f3cfe240f84690dd78a991a5e818ca90...  ...                 0   \n",
       "2aab54e2b2e6559f3cfe240f84690dd78a991a5e818ca90...  ...                 0   \n",
       "22a4d7218110c786c6e8394f9843d1185ed506773581445...  ...                 1   \n",
       "22a4d7218110c786c6e8394f9843d1185ed506773581445...  ...                 1   \n",
       "\n",
       "                                                    OCCUPANT_CAT  PERSON_TYPE  \\\n",
       "CRASH_RECORD_ID                                                                 \n",
       "79c7a2ce89f446262efd86df3d72d18b04ba487024b7c42...             0            0   \n",
       "79c7a2ce89f446262efd86df3d72d18b04ba487024b7c42...             0            1   \n",
       "79c7a2ce89f446262efd86df3d72d18b04ba487024b7c42...             0            1   \n",
       "79c7a2ce89f446262efd86df3d72d18b04ba487024b7c42...             0            0   \n",
       "79c7a2ce89f446262efd86df3d72d18b04ba487024b7c42...             0            1   \n",
       "...                                                          ...          ...   \n",
       "2aab54e2b2e6559f3cfe240f84690dd78a991a5e818ca90...             0            1   \n",
       "2aab54e2b2e6559f3cfe240f84690dd78a991a5e818ca90...             0            1   \n",
       "2aab54e2b2e6559f3cfe240f84690dd78a991a5e818ca90...             0            1   \n",
       "22a4d7218110c786c6e8394f9843d1185ed506773581445...             0            1   \n",
       "22a4d7218110c786c6e8394f9843d1185ed506773581445...             0            1   \n",
       "\n",
       "                                                     AGE  SAFETY_EQUIPMENT  \\\n",
       "CRASH_RECORD_ID                                                              \n",
       "79c7a2ce89f446262efd86df3d72d18b04ba487024b7c42...  27.0                 0   \n",
       "79c7a2ce89f446262efd86df3d72d18b04ba487024b7c42...  22.0                 0   \n",
       "79c7a2ce89f446262efd86df3d72d18b04ba487024b7c42...  56.0                 0   \n",
       "79c7a2ce89f446262efd86df3d72d18b04ba487024b7c42...  27.0                 0   \n",
       "79c7a2ce89f446262efd86df3d72d18b04ba487024b7c42...  22.0                 0   \n",
       "...                                                  ...               ...   \n",
       "2aab54e2b2e6559f3cfe240f84690dd78a991a5e818ca90...  29.0                 2   \n",
       "2aab54e2b2e6559f3cfe240f84690dd78a991a5e818ca90...  57.0                 2   \n",
       "2aab54e2b2e6559f3cfe240f84690dd78a991a5e818ca90...  29.0                 2   \n",
       "22a4d7218110c786c6e8394f9843d1185ed506773581445...  18.0                 2   \n",
       "22a4d7218110c786c6e8394f9843d1185ed506773581445...  18.0                 2   \n",
       "\n",
       "                                                    INJURY_CLASSIFICATION  \\\n",
       "CRASH_RECORD_ID                                                             \n",
       "79c7a2ce89f446262efd86df3d72d18b04ba487024b7c42...                      0   \n",
       "79c7a2ce89f446262efd86df3d72d18b04ba487024b7c42...                      1   \n",
       "79c7a2ce89f446262efd86df3d72d18b04ba487024b7c42...                      0   \n",
       "79c7a2ce89f446262efd86df3d72d18b04ba487024b7c42...                      0   \n",
       "79c7a2ce89f446262efd86df3d72d18b04ba487024b7c42...                      1   \n",
       "...                                                                   ...   \n",
       "2aab54e2b2e6559f3cfe240f84690dd78a991a5e818ca90...                      0   \n",
       "2aab54e2b2e6559f3cfe240f84690dd78a991a5e818ca90...                      0   \n",
       "2aab54e2b2e6559f3cfe240f84690dd78a991a5e818ca90...                      0   \n",
       "22a4d7218110c786c6e8394f9843d1185ed506773581445...                      1   \n",
       "22a4d7218110c786c6e8394f9843d1185ed506773581445...                      1   \n",
       "\n",
       "                                                    DRIVER_ACTION  \\\n",
       "CRASH_RECORD_ID                                                     \n",
       "79c7a2ce89f446262efd86df3d72d18b04ba487024b7c42...              0   \n",
       "79c7a2ce89f446262efd86df3d72d18b04ba487024b7c42...              1   \n",
       "79c7a2ce89f446262efd86df3d72d18b04ba487024b7c42...              2   \n",
       "79c7a2ce89f446262efd86df3d72d18b04ba487024b7c42...              0   \n",
       "79c7a2ce89f446262efd86df3d72d18b04ba487024b7c42...              1   \n",
       "...                                                           ...   \n",
       "2aab54e2b2e6559f3cfe240f84690dd78a991a5e818ca90...              5   \n",
       "2aab54e2b2e6559f3cfe240f84690dd78a991a5e818ca90...              7   \n",
       "2aab54e2b2e6559f3cfe240f84690dd78a991a5e818ca90...              5   \n",
       "22a4d7218110c786c6e8394f9843d1185ed506773581445...              2   \n",
       "22a4d7218110c786c6e8394f9843d1185ed506773581445...              2   \n",
       "\n",
       "                                                    DRIVER_VISION  \\\n",
       "CRASH_RECORD_ID                                                     \n",
       "79c7a2ce89f446262efd86df3d72d18b04ba487024b7c42...              0   \n",
       "79c7a2ce89f446262efd86df3d72d18b04ba487024b7c42...              1   \n",
       "79c7a2ce89f446262efd86df3d72d18b04ba487024b7c42...              2   \n",
       "79c7a2ce89f446262efd86df3d72d18b04ba487024b7c42...              0   \n",
       "79c7a2ce89f446262efd86df3d72d18b04ba487024b7c42...              1   \n",
       "...                                                           ...   \n",
       "2aab54e2b2e6559f3cfe240f84690dd78a991a5e818ca90...              2   \n",
       "2aab54e2b2e6559f3cfe240f84690dd78a991a5e818ca90...              3   \n",
       "2aab54e2b2e6559f3cfe240f84690dd78a991a5e818ca90...              2   \n",
       "22a4d7218110c786c6e8394f9843d1185ed506773581445...              1   \n",
       "22a4d7218110c786c6e8394f9843d1185ed506773581445...              1   \n",
       "\n",
       "                                                    PHYSICAL_CONDITION  \\\n",
       "CRASH_RECORD_ID                                                          \n",
       "79c7a2ce89f446262efd86df3d72d18b04ba487024b7c42...                   0   \n",
       "79c7a2ce89f446262efd86df3d72d18b04ba487024b7c42...                   1   \n",
       "79c7a2ce89f446262efd86df3d72d18b04ba487024b7c42...                   1   \n",
       "79c7a2ce89f446262efd86df3d72d18b04ba487024b7c42...                   0   \n",
       "79c7a2ce89f446262efd86df3d72d18b04ba487024b7c42...                   1   \n",
       "...                                                                ...   \n",
       "2aab54e2b2e6559f3cfe240f84690dd78a991a5e818ca90...                   1   \n",
       "2aab54e2b2e6559f3cfe240f84690dd78a991a5e818ca90...                   1   \n",
       "2aab54e2b2e6559f3cfe240f84690dd78a991a5e818ca90...                   1   \n",
       "22a4d7218110c786c6e8394f9843d1185ed506773581445...                   1   \n",
       "22a4d7218110c786c6e8394f9843d1185ed506773581445...                   1   \n",
       "\n",
       "                                                    PEDPEDAL_ACTION  \n",
       "CRASH_RECORD_ID                                                      \n",
       "79c7a2ce89f446262efd86df3d72d18b04ba487024b7c42...                0  \n",
       "79c7a2ce89f446262efd86df3d72d18b04ba487024b7c42...                1  \n",
       "79c7a2ce89f446262efd86df3d72d18b04ba487024b7c42...                1  \n",
       "79c7a2ce89f446262efd86df3d72d18b04ba487024b7c42...                0  \n",
       "79c7a2ce89f446262efd86df3d72d18b04ba487024b7c42...                1  \n",
       "...                                                             ...  \n",
       "2aab54e2b2e6559f3cfe240f84690dd78a991a5e818ca90...                1  \n",
       "2aab54e2b2e6559f3cfe240f84690dd78a991a5e818ca90...                1  \n",
       "2aab54e2b2e6559f3cfe240f84690dd78a991a5e818ca90...                1  \n",
       "22a4d7218110c786c6e8394f9843d1185ed506773581445...                1  \n",
       "22a4d7218110c786c6e8394f9843d1185ed506773581445...                1  \n",
       "\n",
       "[429525 rows x 31 columns]"
      ]
     },
     "execution_count": 1743,
     "metadata": {},
     "output_type": "execute_result"
    }
   ],
   "source": [
    "veh_crsh_ppl"
   ]
  },
  {
   "cell_type": "code",
   "execution_count": 1741,
   "id": "893437dd",
   "metadata": {},
   "outputs": [
    {
     "ename": "KeyError",
     "evalue": "\"None of ['CRASH_RECORD_ID'] are in the columns\"",
     "output_type": "error",
     "traceback": [
      "\u001b[0;31m---------------------------------------------------------------------------\u001b[0m",
      "\u001b[0;31mKeyError\u001b[0m                                  Traceback (most recent call last)",
      "Input \u001b[0;32mIn [1741]\u001b[0m, in \u001b[0;36m<cell line: 1>\u001b[0;34m()\u001b[0m\n\u001b[0;32m----> 1\u001b[0m \u001b[43mveh_crsh_ppl\u001b[49m\u001b[38;5;241;43m.\u001b[39;49m\u001b[43mset_index\u001b[49m\u001b[43m(\u001b[49m\u001b[38;5;124;43m'\u001b[39;49m\u001b[38;5;124;43mCRASH_RECORD_ID\u001b[39;49m\u001b[38;5;124;43m'\u001b[39;49m\u001b[43m,\u001b[49m\u001b[43minplace\u001b[49m\u001b[38;5;241;43m=\u001b[39;49m\u001b[38;5;28;43;01mTrue\u001b[39;49;00m\u001b[43m)\u001b[49m\n\u001b[1;32m      3\u001b[0m u_veh_crsh_ppl\u001b[38;5;241m.\u001b[39mset_index(\u001b[38;5;124m'\u001b[39m\u001b[38;5;124mCRASH_RECORD_ID\u001b[39m\u001b[38;5;124m'\u001b[39m,inplace\u001b[38;5;241m=\u001b[39m\u001b[38;5;28;01mTrue\u001b[39;00m)\n",
      "File \u001b[0;32m/opt/anaconda3/lib/python3.9/site-packages/pandas/util/_decorators.py:311\u001b[0m, in \u001b[0;36mdeprecate_nonkeyword_arguments.<locals>.decorate.<locals>.wrapper\u001b[0;34m(*args, **kwargs)\u001b[0m\n\u001b[1;32m    305\u001b[0m \u001b[38;5;28;01mif\u001b[39;00m \u001b[38;5;28mlen\u001b[39m(args) \u001b[38;5;241m>\u001b[39m num_allow_args:\n\u001b[1;32m    306\u001b[0m     warnings\u001b[38;5;241m.\u001b[39mwarn(\n\u001b[1;32m    307\u001b[0m         msg\u001b[38;5;241m.\u001b[39mformat(arguments\u001b[38;5;241m=\u001b[39marguments),\n\u001b[1;32m    308\u001b[0m         \u001b[38;5;167;01mFutureWarning\u001b[39;00m,\n\u001b[1;32m    309\u001b[0m         stacklevel\u001b[38;5;241m=\u001b[39mstacklevel,\n\u001b[1;32m    310\u001b[0m     )\n\u001b[0;32m--> 311\u001b[0m \u001b[38;5;28;01mreturn\u001b[39;00m \u001b[43mfunc\u001b[49m\u001b[43m(\u001b[49m\u001b[38;5;241;43m*\u001b[39;49m\u001b[43margs\u001b[49m\u001b[43m,\u001b[49m\u001b[43m \u001b[49m\u001b[38;5;241;43m*\u001b[39;49m\u001b[38;5;241;43m*\u001b[39;49m\u001b[43mkwargs\u001b[49m\u001b[43m)\u001b[49m\n",
      "File \u001b[0;32m/opt/anaconda3/lib/python3.9/site-packages/pandas/core/frame.py:5494\u001b[0m, in \u001b[0;36mDataFrame.set_index\u001b[0;34m(self, keys, drop, append, inplace, verify_integrity)\u001b[0m\n\u001b[1;32m   5491\u001b[0m                 missing\u001b[38;5;241m.\u001b[39mappend(col)\n\u001b[1;32m   5493\u001b[0m \u001b[38;5;28;01mif\u001b[39;00m missing:\n\u001b[0;32m-> 5494\u001b[0m     \u001b[38;5;28;01mraise\u001b[39;00m \u001b[38;5;167;01mKeyError\u001b[39;00m(\u001b[38;5;124mf\u001b[39m\u001b[38;5;124m\"\u001b[39m\u001b[38;5;124mNone of \u001b[39m\u001b[38;5;132;01m{\u001b[39;00mmissing\u001b[38;5;132;01m}\u001b[39;00m\u001b[38;5;124m are in the columns\u001b[39m\u001b[38;5;124m\"\u001b[39m)\n\u001b[1;32m   5496\u001b[0m \u001b[38;5;28;01mif\u001b[39;00m inplace:\n\u001b[1;32m   5497\u001b[0m     frame \u001b[38;5;241m=\u001b[39m \u001b[38;5;28mself\u001b[39m\n",
      "\u001b[0;31mKeyError\u001b[0m: \"None of ['CRASH_RECORD_ID'] are in the columns\""
     ]
    }
   ],
   "source": [
    "veh_crsh_ppl.set_index('CRASH_RECORD_ID',inplace=True)\n",
    "\n",
    "u_veh_crsh_ppl.set_index('CRASH_RECORD_ID',inplace=True)"
   ]
  },
  {
   "cell_type": "code",
   "execution_count": 1744,
   "id": "bd86beac",
   "metadata": {},
   "outputs": [
    {
     "ename": "KeyError",
     "evalue": "\"None of ['CRASH_RECORD_ID'] are in the columns\"",
     "output_type": "error",
     "traceback": [
      "\u001b[0;31m---------------------------------------------------------------------------\u001b[0m",
      "\u001b[0;31mKeyError\u001b[0m                                  Traceback (most recent call last)",
      "Input \u001b[0;32mIn [1744]\u001b[0m, in \u001b[0;36m<cell line: 1>\u001b[0;34m()\u001b[0m\n\u001b[0;32m----> 1\u001b[0m \u001b[43mu_veh_crsh_ppl\u001b[49m\u001b[38;5;241;43m.\u001b[39;49m\u001b[43mset_index\u001b[49m\u001b[43m(\u001b[49m\u001b[38;5;124;43m'\u001b[39;49m\u001b[38;5;124;43mCRASH_RECORD_ID\u001b[39;49m\u001b[38;5;124;43m'\u001b[39;49m\u001b[43m,\u001b[49m\u001b[43minplace\u001b[49m\u001b[38;5;241;43m=\u001b[39;49m\u001b[38;5;28;43;01mTrue\u001b[39;49;00m\u001b[43m)\u001b[49m\n",
      "File \u001b[0;32m/opt/anaconda3/lib/python3.9/site-packages/pandas/util/_decorators.py:311\u001b[0m, in \u001b[0;36mdeprecate_nonkeyword_arguments.<locals>.decorate.<locals>.wrapper\u001b[0;34m(*args, **kwargs)\u001b[0m\n\u001b[1;32m    305\u001b[0m \u001b[38;5;28;01mif\u001b[39;00m \u001b[38;5;28mlen\u001b[39m(args) \u001b[38;5;241m>\u001b[39m num_allow_args:\n\u001b[1;32m    306\u001b[0m     warnings\u001b[38;5;241m.\u001b[39mwarn(\n\u001b[1;32m    307\u001b[0m         msg\u001b[38;5;241m.\u001b[39mformat(arguments\u001b[38;5;241m=\u001b[39marguments),\n\u001b[1;32m    308\u001b[0m         \u001b[38;5;167;01mFutureWarning\u001b[39;00m,\n\u001b[1;32m    309\u001b[0m         stacklevel\u001b[38;5;241m=\u001b[39mstacklevel,\n\u001b[1;32m    310\u001b[0m     )\n\u001b[0;32m--> 311\u001b[0m \u001b[38;5;28;01mreturn\u001b[39;00m \u001b[43mfunc\u001b[49m\u001b[43m(\u001b[49m\u001b[38;5;241;43m*\u001b[39;49m\u001b[43margs\u001b[49m\u001b[43m,\u001b[49m\u001b[43m \u001b[49m\u001b[38;5;241;43m*\u001b[39;49m\u001b[38;5;241;43m*\u001b[39;49m\u001b[43mkwargs\u001b[49m\u001b[43m)\u001b[49m\n",
      "File \u001b[0;32m/opt/anaconda3/lib/python3.9/site-packages/pandas/core/frame.py:5494\u001b[0m, in \u001b[0;36mDataFrame.set_index\u001b[0;34m(self, keys, drop, append, inplace, verify_integrity)\u001b[0m\n\u001b[1;32m   5491\u001b[0m                 missing\u001b[38;5;241m.\u001b[39mappend(col)\n\u001b[1;32m   5493\u001b[0m \u001b[38;5;28;01mif\u001b[39;00m missing:\n\u001b[0;32m-> 5494\u001b[0m     \u001b[38;5;28;01mraise\u001b[39;00m \u001b[38;5;167;01mKeyError\u001b[39;00m(\u001b[38;5;124mf\u001b[39m\u001b[38;5;124m\"\u001b[39m\u001b[38;5;124mNone of \u001b[39m\u001b[38;5;132;01m{\u001b[39;00mmissing\u001b[38;5;132;01m}\u001b[39;00m\u001b[38;5;124m are in the columns\u001b[39m\u001b[38;5;124m\"\u001b[39m)\n\u001b[1;32m   5496\u001b[0m \u001b[38;5;28;01mif\u001b[39;00m inplace:\n\u001b[1;32m   5497\u001b[0m     frame \u001b[38;5;241m=\u001b[39m \u001b[38;5;28mself\u001b[39m\n",
      "\u001b[0;31mKeyError\u001b[0m: \"None of ['CRASH_RECORD_ID'] are in the columns\""
     ]
    }
   ],
   "source": [
    "u_veh_crsh_ppl.set_index('CRASH_RECORD_ID',inplace=True)"
   ]
  },
  {
   "cell_type": "code",
   "execution_count": 1746,
   "id": "7ed17e6e",
   "metadata": {},
   "outputs": [
    {
     "data": {
      "text/plain": [
       "0    193372\n",
       "1    178527\n",
       "2     34013\n",
       "3     23613\n",
       "Name: PRIM_CONTRIBUTORY_CAUSE, dtype: int64"
      ]
     },
     "execution_count": 1746,
     "metadata": {},
     "output_type": "execute_result"
    }
   ],
   "source": [
    "veh_crsh_ppl.PRIM_CONTRIBUTORY_CAUSE.value_counts()"
   ]
  },
  {
   "cell_type": "code",
   "execution_count": 1747,
   "id": "001037e8",
   "metadata": {},
   "outputs": [
    {
     "data": {
      "text/plain": [
       "Index(['79c7a2ce89f446262efd86df3d72d18b04ba487024b7c42d58be7bc0ee3b2779be1916679231382b4a4bfe14200bd305d9c6feb7cd70839f863dd944b040212d',\n",
       "       '7b3545fb91352d7fc46ba142d9044a5508671db4d01d0226f0a56f7774954d7d98030e5c47efb4aec51122cc57d15a820e826eb99e4559ebae383c5715f637e6',\n",
       "       '79704e1b747fbf5f740f1255785934dfe659ff910d4782b606f87f714d6a7292cbced2d9f08e091569f06bdd38051ba0bb15ccb125e1f32f16ed5620e05ba305',\n",
       "       '7b3850c200a1f73cc7c800e48ece28907dc6599da0d905a94b842b362ca7163041da962602dbc4bb6560dd9fe15395b42d971b1dacf6894ff2fff3d8bc59f7f5',\n",
       "       '0be13986626ce381917a49f7811f38d79ea151cef6b2322903bd4bb7550913142d9e6d41f9026b377d136d94aa589147e79f5116887430079820b042be1c05d3',\n",
       "       '798cc771c20c11dcc335369c87eb8458964dd30b94bd00498f0b30ccb8d4f78f9bfa9aaad56ed7629ae75c6cf10451b31582783285f24e17bd9aef61805c9907',\n",
       "       '02b2ca12c9b8702eb0a31619ff12860901a5e02bf584d17292bedbc09feda9261bde4a747d70f59750aa388b3a974d1dcf76770e204961655e623442e7ee013b',\n",
       "       '0ee9250ed16a30706717ad05779ac5aecc304d84bfd6762fe5f22879ce8dda7db54974485e4f3daccc2824f834c40be7321a1ac6ff363a430c047e87537731ad',\n",
       "       '79a9c11b06e5d529811576e6d109e250056fb31724b246104f72a89e2ca3f62a90f51fa0635b771fbf174e5e20380ecc8bebf5b6e9276799f913fdcbd2623bb4',\n",
       "       '7b1b05ed5eb0a764604b983288ffe852e202253d4cb25431957b5859f81e8938c15aee47c10f7510ea52036328b31a54d206dba24fb211d3017fc6cda08579c1',\n",
       "       ...\n",
       "       '1779a3107d1807ac3e6dc25f9f6d6cb1417783b3a35e905f1ac50e153f9e16dfb8efca0cf223ed0cca59f37a0eeed740cdff53a17301e255f712acf564826aa1',\n",
       "       '09687987b252aa9985177b33c90639b717eafff7e3017a8e1278eb903b4f343759450b17330709bba980ffa2f25931bbe3a67b967db82fa059b89ddf2b0cbd78',\n",
       "       '2235099fa618f474922621f156ea0a822983689f916d32d983ae4ea6d05a5c8100e01bd41ad32ed790c1113574e572a4f6e38df94cde783684169b692bcb3b1f',\n",
       "       'b8e91c563747739f4a5cf5015e7cf80505366a7efec96f88daa0b47de505d75f646ea98b8b4f71ca7c25f1f6e9e2f2a2e73617eae621f8b59c98b9eb416f2297',\n",
       "       '18dfa728f98d658e38429d68fb8b53577e479a4c16fef488f452585a02ba18812aee10dbdf47f988c136b973ed0a5c2f002445b0fb40946ee51a90849b75eedf',\n",
       "       '2e8bde95e08865115cfea29811c9847e85da0ece6fd3544e7c27dad6183a62419018a3fabedbe1886ce6c6329d15869c7c9ecb981fd7a5b3697fead1df772671',\n",
       "       'b04bf37d9186ab3d9dc0a84722fc25bc5855055aac952b3312c03fea57b9e8226a8165d889cec4b0e1e89543feb7c4c8366b5bb57a85a36f3ada4842532f63aa',\n",
       "       'bba25d76519c479b96c5cdf11437ade0e3608c6cc7f88714cd92d8ccd5810a3b9534f6b37ec797cafb4be10cbcb06565c954fd3a69ce9827739d76bca3db9b59',\n",
       "       '2aab54e2b2e6559f3cfe240f84690dd78a991a5e818ca907234636fbe2b1e1ce89d5aaa15a61976ab1ea8e6935de88ac2771bd9acae6101a39c1f186a40ec9a4',\n",
       "       '22a4d7218110c786c6e8394f9843d1185ed506773581445e1a8261e83bbd1de51e60fd43a0637d7d1c2bdad80f40acf6530dd11490e1b14798f6ae83a6354f2b'],\n",
       "      dtype='object', name='CRASH_RECORD_ID', length=94308)"
      ]
     },
     "execution_count": 1747,
     "metadata": {},
     "output_type": "execute_result"
    }
   ],
   "source": [
    "# Get the unique indices\n",
    "groups = veh_crsh_ppl.index.unique()\n",
    "groups"
   ]
  },
  {
   "cell_type": "code",
   "execution_count": 1748,
   "id": "4b725f2a",
   "metadata": {
    "execution": {
     "iopub.execute_input": "2023-04-22T07:25:04.993704Z",
     "iopub.status.busy": "2023-04-22T07:25:04.993216Z",
     "iopub.status.idle": "2023-04-22T07:25:05.017885Z",
     "shell.execute_reply": "2023-04-22T07:25:05.016678Z"
    },
    "papermill": {
     "duration": 0.179275,
     "end_time": "2023-04-22T07:25:05.020896",
     "exception": false,
     "start_time": "2023-04-22T07:25:04.841621",
     "status": "completed"
    },
    "tags": []
   },
   "outputs": [
    {
     "name": "stdout",
     "output_type": "stream",
     "text": [
      "(429525, 31)\n"
     ]
    },
    {
     "data": {
      "text/html": [
       "<div>\n",
       "<style scoped>\n",
       "    .dataframe tbody tr th:only-of-type {\n",
       "        vertical-align: middle;\n",
       "    }\n",
       "\n",
       "    .dataframe tbody tr th {\n",
       "        vertical-align: top;\n",
       "    }\n",
       "\n",
       "    .dataframe thead th {\n",
       "        text-align: right;\n",
       "    }\n",
       "</style>\n",
       "<table border=\"1\" class=\"dataframe\">\n",
       "  <thead>\n",
       "    <tr style=\"text-align: right;\">\n",
       "      <th></th>\n",
       "      <th>CRASH_YEAR</th>\n",
       "      <th>POSTED_SPEED_LIMIT</th>\n",
       "      <th>DEVICE_CONDITION</th>\n",
       "      <th>WEATHER_CONDITION</th>\n",
       "      <th>LIGHTING_CONDITION</th>\n",
       "      <th>INTERSECTION_RELATED_I</th>\n",
       "      <th>ROAD_DEFECT</th>\n",
       "      <th>PRIM_CONTRIBUTORY_CAUSE</th>\n",
       "      <th>NUM_UNITS</th>\n",
       "      <th>WORK_ZONE_I</th>\n",
       "      <th>...</th>\n",
       "      <th>VEHICLE_DEFECT_I</th>\n",
       "      <th>OCCUPANT_CAT</th>\n",
       "      <th>PERSON_TYPE</th>\n",
       "      <th>AGE</th>\n",
       "      <th>SAFETY_EQUIPMENT</th>\n",
       "      <th>INJURY_CLASSIFICATION</th>\n",
       "      <th>DRIVER_ACTION</th>\n",
       "      <th>DRIVER_VISION</th>\n",
       "      <th>PHYSICAL_CONDITION</th>\n",
       "      <th>PEDPEDAL_ACTION</th>\n",
       "    </tr>\n",
       "    <tr>\n",
       "      <th>CRASH_RECORD_ID</th>\n",
       "      <th></th>\n",
       "      <th></th>\n",
       "      <th></th>\n",
       "      <th></th>\n",
       "      <th></th>\n",
       "      <th></th>\n",
       "      <th></th>\n",
       "      <th></th>\n",
       "      <th></th>\n",
       "      <th></th>\n",
       "      <th></th>\n",
       "      <th></th>\n",
       "      <th></th>\n",
       "      <th></th>\n",
       "      <th></th>\n",
       "      <th></th>\n",
       "      <th></th>\n",
       "      <th></th>\n",
       "      <th></th>\n",
       "      <th></th>\n",
       "      <th></th>\n",
       "    </tr>\n",
       "  </thead>\n",
       "  <tbody>\n",
       "    <tr>\n",
       "      <th>79c7a2ce89f446262efd86df3d72d18b04ba487024b7c42d58be7bc0ee3b2779be1916679231382b4a4bfe14200bd305d9c6feb7cd70839f863dd944b040212d</th>\n",
       "      <td>2019</td>\n",
       "      <td>30</td>\n",
       "      <td>0</td>\n",
       "      <td>0</td>\n",
       "      <td>0</td>\n",
       "      <td>0</td>\n",
       "      <td>0</td>\n",
       "      <td>0</td>\n",
       "      <td>2</td>\n",
       "      <td>0</td>\n",
       "      <td>...</td>\n",
       "      <td>0</td>\n",
       "      <td>0</td>\n",
       "      <td>0</td>\n",
       "      <td>27.0</td>\n",
       "      <td>0</td>\n",
       "      <td>0</td>\n",
       "      <td>0</td>\n",
       "      <td>0</td>\n",
       "      <td>0</td>\n",
       "      <td>0</td>\n",
       "    </tr>\n",
       "    <tr>\n",
       "      <th>79c7a2ce89f446262efd86df3d72d18b04ba487024b7c42d58be7bc0ee3b2779be1916679231382b4a4bfe14200bd305d9c6feb7cd70839f863dd944b040212d</th>\n",
       "      <td>2019</td>\n",
       "      <td>30</td>\n",
       "      <td>0</td>\n",
       "      <td>0</td>\n",
       "      <td>0</td>\n",
       "      <td>0</td>\n",
       "      <td>0</td>\n",
       "      <td>0</td>\n",
       "      <td>2</td>\n",
       "      <td>0</td>\n",
       "      <td>...</td>\n",
       "      <td>0</td>\n",
       "      <td>0</td>\n",
       "      <td>1</td>\n",
       "      <td>22.0</td>\n",
       "      <td>0</td>\n",
       "      <td>1</td>\n",
       "      <td>1</td>\n",
       "      <td>1</td>\n",
       "      <td>1</td>\n",
       "      <td>1</td>\n",
       "    </tr>\n",
       "    <tr>\n",
       "      <th>79c7a2ce89f446262efd86df3d72d18b04ba487024b7c42d58be7bc0ee3b2779be1916679231382b4a4bfe14200bd305d9c6feb7cd70839f863dd944b040212d</th>\n",
       "      <td>2019</td>\n",
       "      <td>30</td>\n",
       "      <td>0</td>\n",
       "      <td>0</td>\n",
       "      <td>0</td>\n",
       "      <td>0</td>\n",
       "      <td>0</td>\n",
       "      <td>0</td>\n",
       "      <td>2</td>\n",
       "      <td>0</td>\n",
       "      <td>...</td>\n",
       "      <td>0</td>\n",
       "      <td>0</td>\n",
       "      <td>1</td>\n",
       "      <td>56.0</td>\n",
       "      <td>0</td>\n",
       "      <td>0</td>\n",
       "      <td>2</td>\n",
       "      <td>2</td>\n",
       "      <td>1</td>\n",
       "      <td>1</td>\n",
       "    </tr>\n",
       "    <tr>\n",
       "      <th>79c7a2ce89f446262efd86df3d72d18b04ba487024b7c42d58be7bc0ee3b2779be1916679231382b4a4bfe14200bd305d9c6feb7cd70839f863dd944b040212d</th>\n",
       "      <td>2019</td>\n",
       "      <td>30</td>\n",
       "      <td>0</td>\n",
       "      <td>0</td>\n",
       "      <td>0</td>\n",
       "      <td>0</td>\n",
       "      <td>0</td>\n",
       "      <td>0</td>\n",
       "      <td>2</td>\n",
       "      <td>0</td>\n",
       "      <td>...</td>\n",
       "      <td>0</td>\n",
       "      <td>0</td>\n",
       "      <td>0</td>\n",
       "      <td>27.0</td>\n",
       "      <td>0</td>\n",
       "      <td>0</td>\n",
       "      <td>0</td>\n",
       "      <td>0</td>\n",
       "      <td>0</td>\n",
       "      <td>0</td>\n",
       "    </tr>\n",
       "    <tr>\n",
       "      <th>79c7a2ce89f446262efd86df3d72d18b04ba487024b7c42d58be7bc0ee3b2779be1916679231382b4a4bfe14200bd305d9c6feb7cd70839f863dd944b040212d</th>\n",
       "      <td>2019</td>\n",
       "      <td>30</td>\n",
       "      <td>0</td>\n",
       "      <td>0</td>\n",
       "      <td>0</td>\n",
       "      <td>0</td>\n",
       "      <td>0</td>\n",
       "      <td>0</td>\n",
       "      <td>2</td>\n",
       "      <td>0</td>\n",
       "      <td>...</td>\n",
       "      <td>0</td>\n",
       "      <td>0</td>\n",
       "      <td>1</td>\n",
       "      <td>22.0</td>\n",
       "      <td>0</td>\n",
       "      <td>1</td>\n",
       "      <td>1</td>\n",
       "      <td>1</td>\n",
       "      <td>1</td>\n",
       "      <td>1</td>\n",
       "    </tr>\n",
       "  </tbody>\n",
       "</table>\n",
       "<p>5 rows × 31 columns</p>\n",
       "</div>"
      ],
      "text/plain": [
       "                                                    CRASH_YEAR  \\\n",
       "CRASH_RECORD_ID                                                  \n",
       "79c7a2ce89f446262efd86df3d72d18b04ba487024b7c42...        2019   \n",
       "79c7a2ce89f446262efd86df3d72d18b04ba487024b7c42...        2019   \n",
       "79c7a2ce89f446262efd86df3d72d18b04ba487024b7c42...        2019   \n",
       "79c7a2ce89f446262efd86df3d72d18b04ba487024b7c42...        2019   \n",
       "79c7a2ce89f446262efd86df3d72d18b04ba487024b7c42...        2019   \n",
       "\n",
       "                                                    POSTED_SPEED_LIMIT  \\\n",
       "CRASH_RECORD_ID                                                          \n",
       "79c7a2ce89f446262efd86df3d72d18b04ba487024b7c42...                  30   \n",
       "79c7a2ce89f446262efd86df3d72d18b04ba487024b7c42...                  30   \n",
       "79c7a2ce89f446262efd86df3d72d18b04ba487024b7c42...                  30   \n",
       "79c7a2ce89f446262efd86df3d72d18b04ba487024b7c42...                  30   \n",
       "79c7a2ce89f446262efd86df3d72d18b04ba487024b7c42...                  30   \n",
       "\n",
       "                                                    DEVICE_CONDITION  \\\n",
       "CRASH_RECORD_ID                                                        \n",
       "79c7a2ce89f446262efd86df3d72d18b04ba487024b7c42...                 0   \n",
       "79c7a2ce89f446262efd86df3d72d18b04ba487024b7c42...                 0   \n",
       "79c7a2ce89f446262efd86df3d72d18b04ba487024b7c42...                 0   \n",
       "79c7a2ce89f446262efd86df3d72d18b04ba487024b7c42...                 0   \n",
       "79c7a2ce89f446262efd86df3d72d18b04ba487024b7c42...                 0   \n",
       "\n",
       "                                                    WEATHER_CONDITION  \\\n",
       "CRASH_RECORD_ID                                                         \n",
       "79c7a2ce89f446262efd86df3d72d18b04ba487024b7c42...                  0   \n",
       "79c7a2ce89f446262efd86df3d72d18b04ba487024b7c42...                  0   \n",
       "79c7a2ce89f446262efd86df3d72d18b04ba487024b7c42...                  0   \n",
       "79c7a2ce89f446262efd86df3d72d18b04ba487024b7c42...                  0   \n",
       "79c7a2ce89f446262efd86df3d72d18b04ba487024b7c42...                  0   \n",
       "\n",
       "                                                    LIGHTING_CONDITION  \\\n",
       "CRASH_RECORD_ID                                                          \n",
       "79c7a2ce89f446262efd86df3d72d18b04ba487024b7c42...                   0   \n",
       "79c7a2ce89f446262efd86df3d72d18b04ba487024b7c42...                   0   \n",
       "79c7a2ce89f446262efd86df3d72d18b04ba487024b7c42...                   0   \n",
       "79c7a2ce89f446262efd86df3d72d18b04ba487024b7c42...                   0   \n",
       "79c7a2ce89f446262efd86df3d72d18b04ba487024b7c42...                   0   \n",
       "\n",
       "                                                    INTERSECTION_RELATED_I  \\\n",
       "CRASH_RECORD_ID                                                              \n",
       "79c7a2ce89f446262efd86df3d72d18b04ba487024b7c42...                       0   \n",
       "79c7a2ce89f446262efd86df3d72d18b04ba487024b7c42...                       0   \n",
       "79c7a2ce89f446262efd86df3d72d18b04ba487024b7c42...                       0   \n",
       "79c7a2ce89f446262efd86df3d72d18b04ba487024b7c42...                       0   \n",
       "79c7a2ce89f446262efd86df3d72d18b04ba487024b7c42...                       0   \n",
       "\n",
       "                                                    ROAD_DEFECT  \\\n",
       "CRASH_RECORD_ID                                                   \n",
       "79c7a2ce89f446262efd86df3d72d18b04ba487024b7c42...            0   \n",
       "79c7a2ce89f446262efd86df3d72d18b04ba487024b7c42...            0   \n",
       "79c7a2ce89f446262efd86df3d72d18b04ba487024b7c42...            0   \n",
       "79c7a2ce89f446262efd86df3d72d18b04ba487024b7c42...            0   \n",
       "79c7a2ce89f446262efd86df3d72d18b04ba487024b7c42...            0   \n",
       "\n",
       "                                                    PRIM_CONTRIBUTORY_CAUSE  \\\n",
       "CRASH_RECORD_ID                                                               \n",
       "79c7a2ce89f446262efd86df3d72d18b04ba487024b7c42...                        0   \n",
       "79c7a2ce89f446262efd86df3d72d18b04ba487024b7c42...                        0   \n",
       "79c7a2ce89f446262efd86df3d72d18b04ba487024b7c42...                        0   \n",
       "79c7a2ce89f446262efd86df3d72d18b04ba487024b7c42...                        0   \n",
       "79c7a2ce89f446262efd86df3d72d18b04ba487024b7c42...                        0   \n",
       "\n",
       "                                                    NUM_UNITS  WORK_ZONE_I  \\\n",
       "CRASH_RECORD_ID                                                              \n",
       "79c7a2ce89f446262efd86df3d72d18b04ba487024b7c42...          2            0   \n",
       "79c7a2ce89f446262efd86df3d72d18b04ba487024b7c42...          2            0   \n",
       "79c7a2ce89f446262efd86df3d72d18b04ba487024b7c42...          2            0   \n",
       "79c7a2ce89f446262efd86df3d72d18b04ba487024b7c42...          2            0   \n",
       "79c7a2ce89f446262efd86df3d72d18b04ba487024b7c42...          2            0   \n",
       "\n",
       "                                                    ...  VEHICLE_DEFECT_I  \\\n",
       "CRASH_RECORD_ID                                     ...                     \n",
       "79c7a2ce89f446262efd86df3d72d18b04ba487024b7c42...  ...                 0   \n",
       "79c7a2ce89f446262efd86df3d72d18b04ba487024b7c42...  ...                 0   \n",
       "79c7a2ce89f446262efd86df3d72d18b04ba487024b7c42...  ...                 0   \n",
       "79c7a2ce89f446262efd86df3d72d18b04ba487024b7c42...  ...                 0   \n",
       "79c7a2ce89f446262efd86df3d72d18b04ba487024b7c42...  ...                 0   \n",
       "\n",
       "                                                    OCCUPANT_CAT  PERSON_TYPE  \\\n",
       "CRASH_RECORD_ID                                                                 \n",
       "79c7a2ce89f446262efd86df3d72d18b04ba487024b7c42...             0            0   \n",
       "79c7a2ce89f446262efd86df3d72d18b04ba487024b7c42...             0            1   \n",
       "79c7a2ce89f446262efd86df3d72d18b04ba487024b7c42...             0            1   \n",
       "79c7a2ce89f446262efd86df3d72d18b04ba487024b7c42...             0            0   \n",
       "79c7a2ce89f446262efd86df3d72d18b04ba487024b7c42...             0            1   \n",
       "\n",
       "                                                     AGE  SAFETY_EQUIPMENT  \\\n",
       "CRASH_RECORD_ID                                                              \n",
       "79c7a2ce89f446262efd86df3d72d18b04ba487024b7c42...  27.0                 0   \n",
       "79c7a2ce89f446262efd86df3d72d18b04ba487024b7c42...  22.0                 0   \n",
       "79c7a2ce89f446262efd86df3d72d18b04ba487024b7c42...  56.0                 0   \n",
       "79c7a2ce89f446262efd86df3d72d18b04ba487024b7c42...  27.0                 0   \n",
       "79c7a2ce89f446262efd86df3d72d18b04ba487024b7c42...  22.0                 0   \n",
       "\n",
       "                                                    INJURY_CLASSIFICATION  \\\n",
       "CRASH_RECORD_ID                                                             \n",
       "79c7a2ce89f446262efd86df3d72d18b04ba487024b7c42...                      0   \n",
       "79c7a2ce89f446262efd86df3d72d18b04ba487024b7c42...                      1   \n",
       "79c7a2ce89f446262efd86df3d72d18b04ba487024b7c42...                      0   \n",
       "79c7a2ce89f446262efd86df3d72d18b04ba487024b7c42...                      0   \n",
       "79c7a2ce89f446262efd86df3d72d18b04ba487024b7c42...                      1   \n",
       "\n",
       "                                                    DRIVER_ACTION  \\\n",
       "CRASH_RECORD_ID                                                     \n",
       "79c7a2ce89f446262efd86df3d72d18b04ba487024b7c42...              0   \n",
       "79c7a2ce89f446262efd86df3d72d18b04ba487024b7c42...              1   \n",
       "79c7a2ce89f446262efd86df3d72d18b04ba487024b7c42...              2   \n",
       "79c7a2ce89f446262efd86df3d72d18b04ba487024b7c42...              0   \n",
       "79c7a2ce89f446262efd86df3d72d18b04ba487024b7c42...              1   \n",
       "\n",
       "                                                    DRIVER_VISION  \\\n",
       "CRASH_RECORD_ID                                                     \n",
       "79c7a2ce89f446262efd86df3d72d18b04ba487024b7c42...              0   \n",
       "79c7a2ce89f446262efd86df3d72d18b04ba487024b7c42...              1   \n",
       "79c7a2ce89f446262efd86df3d72d18b04ba487024b7c42...              2   \n",
       "79c7a2ce89f446262efd86df3d72d18b04ba487024b7c42...              0   \n",
       "79c7a2ce89f446262efd86df3d72d18b04ba487024b7c42...              1   \n",
       "\n",
       "                                                    PHYSICAL_CONDITION  \\\n",
       "CRASH_RECORD_ID                                                          \n",
       "79c7a2ce89f446262efd86df3d72d18b04ba487024b7c42...                   0   \n",
       "79c7a2ce89f446262efd86df3d72d18b04ba487024b7c42...                   1   \n",
       "79c7a2ce89f446262efd86df3d72d18b04ba487024b7c42...                   1   \n",
       "79c7a2ce89f446262efd86df3d72d18b04ba487024b7c42...                   0   \n",
       "79c7a2ce89f446262efd86df3d72d18b04ba487024b7c42...                   1   \n",
       "\n",
       "                                                    PEDPEDAL_ACTION  \n",
       "CRASH_RECORD_ID                                                      \n",
       "79c7a2ce89f446262efd86df3d72d18b04ba487024b7c42...                0  \n",
       "79c7a2ce89f446262efd86df3d72d18b04ba487024b7c42...                1  \n",
       "79c7a2ce89f446262efd86df3d72d18b04ba487024b7c42...                1  \n",
       "79c7a2ce89f446262efd86df3d72d18b04ba487024b7c42...                0  \n",
       "79c7a2ce89f446262efd86df3d72d18b04ba487024b7c42...                1  \n",
       "\n",
       "[5 rows x 31 columns]"
      ]
     },
     "execution_count": 1748,
     "metadata": {},
     "output_type": "execute_result"
    }
   ],
   "source": [
    "# checking the shape and final result\n",
    "print(veh_crsh_ppl.shape)\n",
    "veh_crsh_ppl.head()"
   ]
  },
  {
   "cell_type": "markdown",
   "id": "9b3294f0",
   "metadata": {
    "papermill": {
     "duration": 0.151959,
     "end_time": "2023-04-22T07:25:05.318387",
     "exception": false,
     "start_time": "2023-04-22T07:25:05.166428",
     "status": "completed"
    },
    "tags": []
   },
   "source": [
    "## Modeling and Evaluation"
   ]
  },
  {
   "cell_type": "markdown",
   "id": "8a860b78",
   "metadata": {},
   "source": [
    "Now we will split our datasets into X and y sets to use for modeling. Before we can start modeling, we still need to deal with the imbalance of the datsets which we will do after splitting int train and test sets to avoid data leakage."
   ]
  },
  {
   "cell_type": "code",
   "execution_count": 1749,
   "id": "6c7e510f",
   "metadata": {
    "execution": {
     "iopub.execute_input": "2023-04-22T07:25:05.621943Z",
     "iopub.status.busy": "2023-04-22T07:25:05.621226Z",
     "iopub.status.idle": "2023-04-22T07:25:06.212956Z",
     "shell.execute_reply": "2023-04-22T07:25:06.211777Z"
    },
    "papermill": {
     "duration": 0.746384,
     "end_time": "2023-04-22T07:25:06.216019",
     "exception": false,
     "start_time": "2023-04-22T07:25:05.469635",
     "status": "completed"
    },
    "tags": []
   },
   "outputs": [],
   "source": [
    "#split into X and y\n",
    "X = veh_crsh_ppl.drop('PRIM_CONTRIBUTORY_CAUSE',axis=1)\n",
    "y = veh_crsh_ppl['PRIM_CONTRIBUTORY_CAUSE']\n",
    "\n",
    "Xu = u_veh_crsh_ppl.drop('PRIM_CONTRIBUTORY_CAUSE',axis=1)"
   ]
  },
  {
   "cell_type": "code",
   "execution_count": 1750,
   "id": "c7bd17fa",
   "metadata": {},
   "outputs": [],
   "source": [
    "from sklearn.model_selection import GroupShuffleSplit"
   ]
  },
  {
   "cell_type": "markdown",
   "id": "0bc09e11",
   "metadata": {},
   "source": [
    "Since we want to keep the records associated with the same crash together, we will use the Group Shuffle Split method to keep these together."
   ]
  },
  {
   "cell_type": "code",
   "execution_count": 1751,
   "id": "beb60d65",
   "metadata": {},
   "outputs": [],
   "source": [
    "# Split the indices into train and test sets\n",
    "group_splitter = GroupShuffleSplit(n_splits=1, test_size=0.2, random_state=42)\n",
    "train_idx, test_idx = next(group_splitter.split(X=X, groups=X.index))\n",
    "\n",
    "# Get the data for the train and test sets\n",
    "X_train = X.loc[X.index.isin(X.index[train_idx])]\n",
    "y_train = y.loc[y.index.isin(X.index[train_idx])]\n",
    "\n",
    "X_test = X.loc[X.index.isin(X.index[test_idx])]\n",
    "y_test = y.loc[y.index.isin(X.index[test_idx])]"
   ]
  },
  {
   "cell_type": "code",
   "execution_count": 1752,
   "id": "17924b27",
   "metadata": {},
   "outputs": [
    {
     "name": "stdout",
     "output_type": "stream",
     "text": [
      "<class 'pandas.core.frame.DataFrame'>\n",
      "Index: 343194 entries, 79c7a2ce89f446262efd86df3d72d18b04ba487024b7c42d58be7bc0ee3b2779be1916679231382b4a4bfe14200bd305d9c6feb7cd70839f863dd944b040212d to 22a4d7218110c786c6e8394f9843d1185ed506773581445e1a8261e83bbd1de51e60fd43a0637d7d1c2bdad80f40acf6530dd11490e1b14798f6ae83a6354f2b\n",
      "Data columns (total 30 columns):\n",
      " #   Column                  Non-Null Count   Dtype  \n",
      "---  ------                  --------------   -----  \n",
      " 0   CRASH_YEAR              343194 non-null  int64  \n",
      " 1   POSTED_SPEED_LIMIT      343194 non-null  int64  \n",
      " 2   DEVICE_CONDITION        343194 non-null  int64  \n",
      " 3   WEATHER_CONDITION       343194 non-null  int64  \n",
      " 4   LIGHTING_CONDITION      343194 non-null  int64  \n",
      " 5   INTERSECTION_RELATED_I  343194 non-null  int64  \n",
      " 6   ROAD_DEFECT             343194 non-null  int64  \n",
      " 7   NUM_UNITS               343194 non-null  int64  \n",
      " 8   WORK_ZONE_I             343194 non-null  int64  \n",
      " 9   WORKERS_PRESENT_I       343194 non-null  int64  \n",
      " 10  INJURIES_TOTAL          343194 non-null  float64\n",
      " 11  INJURIES_FATAL          343194 non-null  float64\n",
      " 12  CRASH_HOUR              343194 non-null  int64  \n",
      " 13  CRASH_DAY_OF_WEEK       343194 non-null  int64  \n",
      " 14  CRASH_MONTH             343194 non-null  int64  \n",
      " 15  LATITUDE                343194 non-null  float64\n",
      " 16  LONGITUDE               343194 non-null  float64\n",
      " 17  VEHICLE_TYPE            343194 non-null  int64  \n",
      " 18  MANEUVER                343194 non-null  int64  \n",
      " 19  FIRST_CONTACT_POINT     343194 non-null  int64  \n",
      " 20  VEHICLE_DEFECT_I        343194 non-null  int64  \n",
      " 21  OCCUPANT_CAT            343194 non-null  int64  \n",
      " 22  PERSON_TYPE             343194 non-null  int64  \n",
      " 23  AGE                     343194 non-null  float64\n",
      " 24  SAFETY_EQUIPMENT        343194 non-null  int64  \n",
      " 25  INJURY_CLASSIFICATION   343194 non-null  int64  \n",
      " 26  DRIVER_ACTION           343194 non-null  int64  \n",
      " 27  DRIVER_VISION           343194 non-null  int64  \n",
      " 28  PHYSICAL_CONDITION      343194 non-null  int64  \n",
      " 29  PEDPEDAL_ACTION         343194 non-null  int64  \n",
      "dtypes: float64(5), int64(25)\n",
      "memory usage: 81.2+ MB\n"
     ]
    }
   ],
   "source": [
    "X_train.info()"
   ]
  },
  {
   "cell_type": "markdown",
   "id": "f5887c0e",
   "metadata": {},
   "source": [
    "Since we have converted all of our data to numerical formaat, it wuld be helpful to scale the dataset so thaat all of it is on the saame scale and normalized. This way no single column with a lot of categories or columns that have higgh integer value data would bias the model into a poor performance."
   ]
  },
  {
   "cell_type": "markdown",
   "id": "d5bca34f",
   "metadata": {},
   "source": [
    "We will use standard scaler because itwill normalize our dataset, take care of outliers and be helpful to any gradient descent algorithms we waant to use."
   ]
  },
  {
   "cell_type": "code",
   "execution_count": 1753,
   "id": "386a72ad",
   "metadata": {},
   "outputs": [],
   "source": [
    "# Scale the data to ensure that all features have the same range of values\n",
    "scaler = StandardScaler()\n",
    "X_train_scaled = scaler.fit_transform(X_train)\n",
    "X_test_scaled = scaler.transform(X_test)\n",
    "\n",
    "scaler_u = StandardScaler()\n",
    "Xu_scaled = scaler_u.fit_transform(Xu)"
   ]
  },
  {
   "cell_type": "code",
   "execution_count": 1754,
   "id": "133f9ed0",
   "metadata": {},
   "outputs": [],
   "source": [
    "# Convert X_train_scaled back to a DataFrame\n",
    "X_train_scaled_df = pd.DataFrame(X_train_scaled, columns=X_train.columns, index=X_train.index)\n",
    "\n",
    "# Convert X_test_scaled back to a DataFrame\n",
    "X_test_scaled_df = pd.DataFrame(X_test_scaled, columns=X_test.columns, index=X_test.index)\n",
    "\n",
    "\n",
    "Xu_train_scaled_df = pd.DataFrame(Xu_scaled, columns=Xu.columns)"
   ]
  },
  {
   "cell_type": "markdown",
   "id": "50b80fe0",
   "metadata": {
    "papermill": {
     "duration": 0.146698,
     "end_time": "2023-04-22T07:25:06.825481",
     "exception": false,
     "start_time": "2023-04-22T07:25:06.678783",
     "status": "completed"
    },
    "tags": []
   },
   "source": [
    "### Random under Sampling"
   ]
  },
  {
   "cell_type": "markdown",
   "id": "12df3d68",
   "metadata": {},
   "source": [
    "Now, we want to undersample the data to deal with the imabalnce in our dataset. Undersampling is a technique used to address the issue of imbalanced datasets. When the classes in a dataset are imbalanced, the model trained on this dataset may be biased towards the majority class and may have poor performance on the minority class. By undersampling, we reduce the number of instances of the majority class so that the number of instances in the majority class is more balanced with the number of instances in the minority class. This helps to reduce the bias towards the majority class and can lead to improved model performance on the minority class.\n",
    "\n",
    "We will use sampling_strategy=\"not minority\". This strategy will sample all classes equally, ensuring that the resulting dataset has the same number of records for each category."
   ]
  },
  {
   "cell_type": "code",
   "execution_count": 1755,
   "id": "b03fb100",
   "metadata": {
    "execution": {
     "iopub.execute_input": "2023-04-22T07:25:07.118869Z",
     "iopub.status.busy": "2023-04-22T07:25:07.117984Z",
     "iopub.status.idle": "2023-04-22T07:25:07.123442Z",
     "shell.execute_reply": "2023-04-22T07:25:07.122136Z"
    },
    "papermill": {
     "duration": 0.156826,
     "end_time": "2023-04-22T07:25:07.126361",
     "exception": false,
     "start_time": "2023-04-22T07:25:06.969535",
     "status": "completed"
    },
    "tags": []
   },
   "outputs": [],
   "source": [
    "from imblearn.under_sampling import RandomUnderSampler\n",
    "from collections import Counter\n",
    "from imblearn.under_sampling import ClusterCentroids\n",
    "from imblearn.over_sampling import SMOTE\n",
    "from imblearn.under_sampling import RandomUnderSampler"
   ]
  },
  {
   "cell_type": "code",
   "execution_count": 1756,
   "id": "f68146d0",
   "metadata": {},
   "outputs": [],
   "source": [
    "# undersample = RandomUnderSampler(sampling_strategy='majority')\n",
    "# oversample = SMOTE(sampling_strategy='auto', k_neighbors=5)\n",
    "\n",
    "# # Undersample the majority class\n",
    "# X_under, y_under = undersample.fit_resample(X_train_scaled_df, y_train)\n",
    "\n",
    "# # Oversample the minority classes\n",
    "# X3_resampled, y3_resampled = oversample.fit_resample(X_under, y_under)"
   ]
  },
  {
   "cell_type": "code",
   "execution_count": 1757,
   "id": "a7eba2ec",
   "metadata": {
    "execution": {
     "iopub.execute_input": "2023-04-22T07:25:07.844665Z",
     "iopub.status.busy": "2023-04-22T07:25:07.843976Z",
     "iopub.status.idle": "2023-04-22T07:25:08.842703Z",
     "shell.execute_reply": "2023-04-22T07:25:08.841243Z"
    },
    "papermill": {
     "duration": 1.154577,
     "end_time": "2023-04-22T07:25:08.846723",
     "exception": false,
     "start_time": "2023-04-22T07:25:07.692146",
     "status": "completed"
    },
    "tags": []
   },
   "outputs": [],
   "source": [
    "# rus = RandomUnderSampler(sampling_strategy='not minority',random_state=42)\n",
    "# X1_train_scaled_resampled, y1_train_resampled = rus.fit_resample(X_train_scaled_df, y_train)"
   ]
  },
  {
   "cell_type": "code",
   "execution_count": 1758,
   "id": "27fe3497",
   "metadata": {},
   "outputs": [],
   "source": [
    "# rus = RandomUnderSampler(sampling_strategy='majority',random_state=42)\n",
    "# X2_train_scaled_resampled, y2_train_resampled = rus.fit_resample(X_train_scaled_df, y_train)"
   ]
  },
  {
   "cell_type": "code",
   "execution_count": 1759,
   "id": "e4d00d29",
   "metadata": {
    "scrolled": true
   },
   "outputs": [
    {
     "data": {
      "text/plain": [
       "0    154368\n",
       "1    142577\n",
       "2     27480\n",
       "3     18769\n",
       "Name: PRIM_CONTRIBUTORY_CAUSE, dtype: int64"
      ]
     },
     "execution_count": 1759,
     "metadata": {},
     "output_type": "execute_result"
    }
   ],
   "source": [
    "y_train.value_counts()"
   ]
  },
  {
   "cell_type": "code",
   "execution_count": 1760,
   "id": "45399698",
   "metadata": {},
   "outputs": [
    {
     "name": "stdout",
     "output_type": "stream",
     "text": [
      "154368 154368 1.0\n",
      "142577 154368 0.9236175891376451\n",
      "27480 154368 0.17801616915422885\n",
      "18769 154368 0.12158608001658375\n"
     ]
    }
   ],
   "source": [
    "y = max(y_train.value_counts())\n",
    "for x in y_train.value_counts():\n",
    "    print(x, y, x/y)\n",
    "\n"
   ]
  },
  {
   "cell_type": "code",
   "execution_count": 1761,
   "id": "7d8aba43",
   "metadata": {},
   "outputs": [],
   "source": [
    "# Define the ratios for each class\n",
    "class_ratios = {0: 154368, 1: 142577, 2: 40000, 3: 40000}\n",
    "\n",
    "# Create the SMOTE object with the specified ratios\n",
    "oversample = SMOTE(sampling_strategy=class_ratios, k_neighbors=5)\n",
    "\n",
    "# Oversample the minority classes\n",
    "X_train_scaled_resampled, y_train_resampled = oversample.fit_resample(X_train_scaled_df, y_train)\n"
   ]
  },
  {
   "cell_type": "code",
   "execution_count": 1762,
   "id": "991455d6",
   "metadata": {},
   "outputs": [
    {
     "data": {
      "text/plain": [
       "376945"
      ]
     },
     "execution_count": 1762,
     "metadata": {},
     "output_type": "execute_result"
    }
   ],
   "source": [
    "len(X_train_scaled_resampled)"
   ]
  },
  {
   "cell_type": "code",
   "execution_count": 1763,
   "id": "204d4dc3",
   "metadata": {},
   "outputs": [
    {
     "data": {
      "text/plain": [
       "0    154368\n",
       "1    142577\n",
       "2     40000\n",
       "3     40000\n",
       "Name: PRIM_CONTRIBUTORY_CAUSE, dtype: int64"
      ]
     },
     "execution_count": 1763,
     "metadata": {},
     "output_type": "execute_result"
    }
   ],
   "source": [
    "y_train_resampled.value_counts()"
   ]
  },
  {
   "cell_type": "code",
   "execution_count": 1764,
   "id": "bf947bc7",
   "metadata": {},
   "outputs": [],
   "source": [
    "# y1_train_resampled.value_counts()"
   ]
  },
  {
   "cell_type": "code",
   "execution_count": 1765,
   "id": "cdb9838c",
   "metadata": {},
   "outputs": [],
   "source": [
    "# y2_train_resampled.value_counts()"
   ]
  },
  {
   "cell_type": "code",
   "execution_count": 1766,
   "id": "2c08a547",
   "metadata": {},
   "outputs": [],
   "source": [
    "# y3_resampled.value_counts()"
   ]
  },
  {
   "cell_type": "code",
   "execution_count": 1767,
   "id": "b4c1c6c2",
   "metadata": {},
   "outputs": [
    {
     "name": "stdout",
     "output_type": "stream",
     "text": [
      "<class 'pandas.core.frame.DataFrame'>\n",
      "Index: 86331 entries, 0be13986626ce381917a49f7811f38d79ea151cef6b2322903bd4bb7550913142d9e6d41f9026b377d136d94aa589147e79f5116887430079820b042be1c05d3 to bba25d76519c479b96c5cdf11437ade0e3608c6cc7f88714cd92d8ccd5810a3b9534f6b37ec797cafb4be10cbcb06565c954fd3a69ce9827739d76bca3db9b59\n",
      "Data columns (total 30 columns):\n",
      " #   Column                  Non-Null Count  Dtype  \n",
      "---  ------                  --------------  -----  \n",
      " 0   CRASH_YEAR              86331 non-null  float64\n",
      " 1   POSTED_SPEED_LIMIT      86331 non-null  float64\n",
      " 2   DEVICE_CONDITION        86331 non-null  float64\n",
      " 3   WEATHER_CONDITION       86331 non-null  float64\n",
      " 4   LIGHTING_CONDITION      86331 non-null  float64\n",
      " 5   INTERSECTION_RELATED_I  86331 non-null  float64\n",
      " 6   ROAD_DEFECT             86331 non-null  float64\n",
      " 7   NUM_UNITS               86331 non-null  float64\n",
      " 8   WORK_ZONE_I             86331 non-null  float64\n",
      " 9   WORKERS_PRESENT_I       86331 non-null  float64\n",
      " 10  INJURIES_TOTAL          86331 non-null  float64\n",
      " 11  INJURIES_FATAL          86331 non-null  float64\n",
      " 12  CRASH_HOUR              86331 non-null  float64\n",
      " 13  CRASH_DAY_OF_WEEK       86331 non-null  float64\n",
      " 14  CRASH_MONTH             86331 non-null  float64\n",
      " 15  LATITUDE                86331 non-null  float64\n",
      " 16  LONGITUDE               86331 non-null  float64\n",
      " 17  VEHICLE_TYPE            86331 non-null  float64\n",
      " 18  MANEUVER                86331 non-null  float64\n",
      " 19  FIRST_CONTACT_POINT     86331 non-null  float64\n",
      " 20  VEHICLE_DEFECT_I        86331 non-null  float64\n",
      " 21  OCCUPANT_CAT            86331 non-null  float64\n",
      " 22  PERSON_TYPE             86331 non-null  float64\n",
      " 23  AGE                     86331 non-null  float64\n",
      " 24  SAFETY_EQUIPMENT        86331 non-null  float64\n",
      " 25  INJURY_CLASSIFICATION   86331 non-null  float64\n",
      " 26  DRIVER_ACTION           86331 non-null  float64\n",
      " 27  DRIVER_VISION           86331 non-null  float64\n",
      " 28  PHYSICAL_CONDITION      86331 non-null  float64\n",
      " 29  PEDPEDAL_ACTION         86331 non-null  float64\n",
      "dtypes: float64(30)\n",
      "memory usage: 20.4+ MB\n"
     ]
    }
   ],
   "source": [
    "X_test_scaled_df.info()"
   ]
  },
  {
   "cell_type": "markdown",
   "id": "8384fb56",
   "metadata": {
    "papermill": {
     "duration": 0.147535,
     "end_time": "2023-04-22T07:25:10.612442",
     "exception": false,
     "start_time": "2023-04-22T07:25:10.464907",
     "status": "completed"
    },
    "tags": []
   },
   "source": [
    "### Feature Selection"
   ]
  },
  {
   "cell_type": "markdown",
   "id": "146e3d96",
   "metadata": {},
   "source": [
    "With 30 different features, it will be computationally extremely expensive to model 200,000 records over 30 features. We will use feature selection thrugh the SelectKBest model using the Mutual information method. Mutual information measures the dependence between variables, and can be used to identify which variables have the most information about the target variable. It is a non-parametric method that does not assume a particular functional form of the relationship between the variables therefore we don't have to worry if the relationship between the target and the predictors is linear or not.\n",
    "\n",
    "Also this will help us identify the features provided us the most information about thee cause. This is one of the things thta Chicago DOT was trying to understand. Based on these features, the DOT can conduct further eexploratory analysis to understand where to make improvements. Therefore we will also save these feaatures for use further."
   ]
  },
  {
   "cell_type": "code",
   "execution_count": 1768,
   "id": "1cb3a371",
   "metadata": {
    "execution": {
     "iopub.execute_input": "2023-04-22T07:25:10.905346Z",
     "iopub.status.busy": "2023-04-22T07:25:10.904925Z",
     "iopub.status.idle": "2023-04-22T07:25:10.911506Z",
     "shell.execute_reply": "2023-04-22T07:25:10.909868Z"
    },
    "papermill": {
     "duration": 0.159571,
     "end_time": "2023-04-22T07:25:10.914618",
     "exception": false,
     "start_time": "2023-04-22T07:25:10.755047",
     "status": "completed"
    },
    "tags": []
   },
   "outputs": [],
   "source": [
    "import pandas as pd\n",
    "from sklearn.feature_selection import SelectKBest\n",
    "from sklearn.feature_selection import chi2\n",
    "from sklearn.feature_selection import mutual_info_classif"
   ]
  },
  {
   "cell_type": "code",
   "execution_count": 1769,
   "id": "65cc9e75",
   "metadata": {
    "execution": {
     "iopub.execute_input": "2023-04-22T07:25:11.220675Z",
     "iopub.status.busy": "2023-04-22T07:25:11.219598Z",
     "iopub.status.idle": "2023-04-22T07:26:06.535909Z",
     "shell.execute_reply": "2023-04-22T07:26:06.533015Z"
    },
    "papermill": {
     "duration": 55.643876,
     "end_time": "2023-04-22T07:26:06.709719",
     "exception": false,
     "start_time": "2023-04-22T07:25:11.065843",
     "status": "completed"
    },
    "tags": []
   },
   "outputs": [
    {
     "data": {
      "text/html": [
       "<div>\n",
       "<style scoped>\n",
       "    .dataframe tbody tr th:only-of-type {\n",
       "        vertical-align: middle;\n",
       "    }\n",
       "\n",
       "    .dataframe tbody tr th {\n",
       "        vertical-align: top;\n",
       "    }\n",
       "\n",
       "    .dataframe thead th {\n",
       "        text-align: right;\n",
       "    }\n",
       "</style>\n",
       "<table border=\"1\" class=\"dataframe\">\n",
       "  <thead>\n",
       "    <tr style=\"text-align: right;\">\n",
       "      <th></th>\n",
       "      <th>Feature</th>\n",
       "      <th>Score</th>\n",
       "    </tr>\n",
       "  </thead>\n",
       "  <tbody>\n",
       "    <tr>\n",
       "      <th>15</th>\n",
       "      <td>LATITUDE</td>\n",
       "      <td>0.705820</td>\n",
       "    </tr>\n",
       "    <tr>\n",
       "      <th>16</th>\n",
       "      <td>LONGITUDE</td>\n",
       "      <td>0.700675</td>\n",
       "    </tr>\n",
       "    <tr>\n",
       "      <th>26</th>\n",
       "      <td>DRIVER_ACTION</td>\n",
       "      <td>0.187368</td>\n",
       "    </tr>\n",
       "    <tr>\n",
       "      <th>23</th>\n",
       "      <td>AGE</td>\n",
       "      <td>0.130711</td>\n",
       "    </tr>\n",
       "    <tr>\n",
       "      <th>19</th>\n",
       "      <td>FIRST_CONTACT_POINT</td>\n",
       "      <td>0.115025</td>\n",
       "    </tr>\n",
       "    <tr>\n",
       "      <th>18</th>\n",
       "      <td>MANEUVER</td>\n",
       "      <td>0.106706</td>\n",
       "    </tr>\n",
       "    <tr>\n",
       "      <th>12</th>\n",
       "      <td>CRASH_HOUR</td>\n",
       "      <td>0.095459</td>\n",
       "    </tr>\n",
       "    <tr>\n",
       "      <th>5</th>\n",
       "      <td>INTERSECTION_RELATED_I</td>\n",
       "      <td>0.094766</td>\n",
       "    </tr>\n",
       "    <tr>\n",
       "      <th>14</th>\n",
       "      <td>CRASH_MONTH</td>\n",
       "      <td>0.084868</td>\n",
       "    </tr>\n",
       "    <tr>\n",
       "      <th>13</th>\n",
       "      <td>CRASH_DAY_OF_WEEK</td>\n",
       "      <td>0.073101</td>\n",
       "    </tr>\n",
       "  </tbody>\n",
       "</table>\n",
       "</div>"
      ],
      "text/plain": [
       "                   Feature     Score\n",
       "15                LATITUDE  0.705820\n",
       "16               LONGITUDE  0.700675\n",
       "26           DRIVER_ACTION  0.187368\n",
       "23                     AGE  0.130711\n",
       "19     FIRST_CONTACT_POINT  0.115025\n",
       "18                MANEUVER  0.106706\n",
       "12              CRASH_HOUR  0.095459\n",
       "5   INTERSECTION_RELATED_I  0.094766\n",
       "14             CRASH_MONTH  0.084868\n",
       "13       CRASH_DAY_OF_WEEK  0.073101"
      ]
     },
     "execution_count": 1769,
     "metadata": {},
     "output_type": "execute_result"
    }
   ],
   "source": [
    "# Apply SelectKBest class to extract top 10 best features\n",
    "k=10\n",
    "kbest = SelectKBest(score_func=mutual_info_classif, k=k)\n",
    "fit = kbest.fit(X_train_scaled_resampled, y_train_resampled)\n",
    "\n",
    "# Create a new dataframe with only the selected features\n",
    "selected_features_indices = kbest.get_support(indices=True)\n",
    "selected_features = pd.DataFrame({'Feature': X_train.columns, 'Score': fit.scores_})\n",
    "selected_features.sort_values('Score', ascending=False).head(k)"
   ]
  },
  {
   "cell_type": "markdown",
   "id": "3a68ca42",
   "metadata": {},
   "source": [
    "For mutual_info_classif, a higher score indicates a stronger mutual information between the target variable and the features, which means the feature is more relevant for prediction.\n",
    "\n",
    "Therefore we will extract the top 10 features and create new datasets that we will model on."
   ]
  },
  {
   "cell_type": "code",
   "execution_count": 1770,
   "id": "709e5237",
   "metadata": {
    "execution": {
     "iopub.execute_input": "2023-04-22T07:26:07.006038Z",
     "iopub.status.busy": "2023-04-22T07:26:07.005218Z",
     "iopub.status.idle": "2023-04-22T07:26:07.016273Z",
     "shell.execute_reply": "2023-04-22T07:26:07.015040Z"
    },
    "papermill": {
     "duration": 0.16436,
     "end_time": "2023-04-22T07:26:07.019429",
     "exception": false,
     "start_time": "2023-04-22T07:26:06.855069",
     "status": "completed"
    },
    "tags": []
   },
   "outputs": [],
   "source": [
    "#use the indices to select the relevant features from the trainiing data\n",
    "X_train_fselect = X_train_scaled_resampled.iloc[:, selected_features_indices]\n",
    "\n",
    "features_used = X_train_fselect.columns\n",
    "\n",
    "#use the indices to select the relevant features from the test data\n",
    "X_test_fselect = X_test_scaled_df.iloc[:, selected_features_indices]\n",
    "\n",
    "#use the indices to select the relevant features from the unable to determine data\n",
    "Xu_fselect = Xu_train_scaled_df.iloc[:, selected_features_indices]\n",
    "\n",
    "#since random forest is well adept at handling imabalnced dataset, we will use the original\n",
    "#dataset without resampling\n",
    "X_train_scaled_fselect = X_train_scaled_df.iloc[:, selected_features_indices]\n",
    "X_test_scaled_fselect = X_test_scaled_df.iloc[:, selected_features_indices]"
   ]
  },
  {
   "cell_type": "code",
   "execution_count": 1771,
   "id": "9a8c6d65",
   "metadata": {
    "execution": {
     "iopub.execute_input": "2023-04-22T07:26:07.753384Z",
     "iopub.status.busy": "2023-04-22T07:26:07.752920Z",
     "iopub.status.idle": "2023-04-22T07:26:07.760133Z",
     "shell.execute_reply": "2023-04-22T07:26:07.758372Z"
    },
    "papermill": {
     "duration": 0.157221,
     "end_time": "2023-04-22T07:26:07.763414",
     "exception": false,
     "start_time": "2023-04-22T07:26:07.606193",
     "status": "completed"
    },
    "tags": []
   },
   "outputs": [],
   "source": [
    "# Creating data structure  of model and evaluation accuracy\n",
    "\n",
    "models ={\n",
    "    'Model Name':[],\n",
    "    'Accuracy':[],\n",
    "    'CV Score':[],\n",
    "    'Precision':[],\n",
    "    'Recall':[],\n",
    "}"
   ]
  },
  {
   "cell_type": "markdown",
   "id": "1c27edea",
   "metadata": {},
   "source": [
    "Now we will move on to the modelling side. Although, we will look at multiple scores to understand the performance of the model, we will focus on the accuracy score  and the recall score since we want to be able to predict the causes of car crashes as aaccurately as possible since that will drive further insights for the DOT staff to take further action."
   ]
  },
  {
   "cell_type": "markdown",
   "id": "bb07a71a",
   "metadata": {
    "papermill": {
     "duration": 0.155975,
     "end_time": "2023-04-22T07:26:08.064800",
     "exception": false,
     "start_time": "2023-04-22T07:26:07.908825",
     "status": "completed"
    },
    "tags": []
   },
   "source": [
    "### Baseline Model"
   ]
  },
  {
   "cell_type": "markdown",
   "id": "3cfd6713",
   "metadata": {},
   "source": [
    "We will start with a Baseline model of a Decision Tree Classifier. Decision tree classifiers are good for multi-categorical data modeling because they can handle both categorical and continuous features, and are able to handle interactions and non-linear relationships between features. "
   ]
  },
  {
   "cell_type": "code",
   "execution_count": 1772,
   "id": "c7596cf3",
   "metadata": {
    "execution": {
     "iopub.execute_input": "2023-04-22T07:26:08.365280Z",
     "iopub.status.busy": "2023-04-22T07:26:08.364502Z",
     "iopub.status.idle": "2023-04-22T07:26:08.370501Z",
     "shell.execute_reply": "2023-04-22T07:26:08.369284Z"
    },
    "papermill": {
     "duration": 0.161198,
     "end_time": "2023-04-22T07:26:08.373427",
     "exception": false,
     "start_time": "2023-04-22T07:26:08.212229",
     "status": "completed"
    },
    "tags": []
   },
   "outputs": [],
   "source": [
    "# from sklearn.linear_model import LogisticRegression\n",
    "from sklearn.tree import DecisionTreeClassifier\n",
    "from sklearn.metrics import accuracy_score\n",
    "from sklearn.model_selection import cross_val_score"
   ]
  },
  {
   "cell_type": "code",
   "execution_count": 1773,
   "id": "a975e3e8",
   "metadata": {
    "execution": {
     "iopub.execute_input": "2023-04-22T07:26:08.674317Z",
     "iopub.status.busy": "2023-04-22T07:26:08.673796Z",
     "iopub.status.idle": "2023-04-22T07:26:08.680264Z",
     "shell.execute_reply": "2023-04-22T07:26:08.678712Z"
    },
    "papermill": {
     "duration": 0.162825,
     "end_time": "2023-04-22T07:26:08.683774",
     "exception": false,
     "start_time": "2023-04-22T07:26:08.520949",
     "status": "completed"
    },
    "tags": []
   },
   "outputs": [],
   "source": [
    "#initialize the classifier\n",
    "DT = DecisionTreeClassifier()"
   ]
  },
  {
   "cell_type": "code",
   "execution_count": 1774,
   "id": "44493b1a",
   "metadata": {
    "execution": {
     "iopub.execute_input": "2023-04-22T07:26:08.978981Z",
     "iopub.status.busy": "2023-04-22T07:26:08.978504Z",
     "iopub.status.idle": "2023-04-22T07:26:09.307526Z",
     "shell.execute_reply": "2023-04-22T07:26:09.304557Z"
    },
    "papermill": {
     "duration": 0.485311,
     "end_time": "2023-04-22T07:26:09.317262",
     "exception": false,
     "start_time": "2023-04-22T07:26:08.831951",
     "status": "completed"
    },
    "tags": []
   },
   "outputs": [
    {
     "data": {
      "text/plain": [
       "DecisionTreeClassifier()"
      ]
     },
     "execution_count": 1774,
     "metadata": {},
     "output_type": "execute_result"
    }
   ],
   "source": [
    "#fit the model\n",
    "DT.fit(X_train_fselect,y_train_resampled)"
   ]
  },
  {
   "cell_type": "code",
   "execution_count": 1775,
   "id": "96fa943a",
   "metadata": {
    "execution": {
     "iopub.execute_input": "2023-04-22T07:26:09.661682Z",
     "iopub.status.busy": "2023-04-22T07:26:09.661230Z",
     "iopub.status.idle": "2023-04-22T07:26:09.677561Z",
     "shell.execute_reply": "2023-04-22T07:26:09.676158Z"
    },
    "papermill": {
     "duration": 0.172986,
     "end_time": "2023-04-22T07:26:09.681315",
     "exception": false,
     "start_time": "2023-04-22T07:26:09.508329",
     "status": "completed"
    },
    "tags": []
   },
   "outputs": [],
   "source": [
    "#predict\n",
    "y_pred = DT.predict(X_test_fselect)"
   ]
  },
  {
   "cell_type": "code",
   "execution_count": 1776,
   "id": "fbcb46ba",
   "metadata": {
    "execution": {
     "iopub.execute_input": "2023-04-22T07:26:09.975097Z",
     "iopub.status.busy": "2023-04-22T07:26:09.973999Z",
     "iopub.status.idle": "2023-04-22T07:26:10.654297Z",
     "shell.execute_reply": "2023-04-22T07:26:10.652279Z"
    },
    "papermill": {
     "duration": 0.832208,
     "end_time": "2023-04-22T07:26:10.658893",
     "exception": false,
     "start_time": "2023-04-22T07:26:09.826685",
     "status": "completed"
    },
    "tags": []
   },
   "outputs": [
    {
     "name": "stdout",
     "output_type": "stream",
     "text": [
      "Cross-validation scores: [0.55040629 0.552663   0.56264326]\n",
      "Mean CV score: 0.5552375143090471\n"
     ]
    }
   ],
   "source": [
    "# Evaluate the model with cross-validation\n",
    "cv_scores = cross_val_score(DT, X_train_fselect, y_train_resampled, cv=3)\n",
    "print(\"Cross-validation scores:\", cv_scores)\n",
    "print(\"Mean CV score:\", np.mean(cv_scores)) "
   ]
  },
  {
   "cell_type": "code",
   "execution_count": 1777,
   "id": "f897d9c3",
   "metadata": {
    "execution": {
     "iopub.execute_input": "2023-04-22T07:26:10.954003Z",
     "iopub.status.busy": "2023-04-22T07:26:10.953498Z",
     "iopub.status.idle": "2023-04-22T07:26:10.965488Z",
     "shell.execute_reply": "2023-04-22T07:26:10.963958Z"
    },
    "papermill": {
     "duration": 0.162153,
     "end_time": "2023-04-22T07:26:10.968542",
     "exception": false,
     "start_time": "2023-04-22T07:26:10.806389",
     "status": "completed"
    },
    "tags": []
   },
   "outputs": [
    {
     "data": {
      "text/plain": [
       "0.532253767476341"
      ]
     },
     "execution_count": 1777,
     "metadata": {},
     "output_type": "execute_result"
    }
   ],
   "source": [
    "#calcualte the accuraacy score\n",
    "accuracy = accuracy_score(y_test, y_pred)\n",
    "\n",
    "accuracy"
   ]
  },
  {
   "cell_type": "code",
   "execution_count": 1778,
   "id": "514748ff",
   "metadata": {
    "execution": {
     "iopub.execute_input": "2023-04-22T07:26:11.346198Z",
     "iopub.status.busy": "2023-04-22T07:26:11.345373Z",
     "iopub.status.idle": "2023-04-22T07:26:11.352055Z",
     "shell.execute_reply": "2023-04-22T07:26:11.350793Z"
    },
    "papermill": {
     "duration": 0.163817,
     "end_time": "2023-04-22T07:26:11.355386",
     "exception": false,
     "start_time": "2023-04-22T07:26:11.191569",
     "status": "completed"
    },
    "tags": []
   },
   "outputs": [],
   "source": [
    "#import confusiion matrix\n",
    "from sklearn.metrics import confusion_matrix"
   ]
  },
  {
   "cell_type": "markdown",
   "id": "2101efee",
   "metadata": {},
   "source": [
    "We can take a look at a confusion maatrix to understand how is our model performing."
   ]
  },
  {
   "cell_type": "code",
   "execution_count": 1779,
   "id": "20ff645a",
   "metadata": {
    "execution": {
     "iopub.execute_input": "2023-04-22T07:26:11.655280Z",
     "iopub.status.busy": "2023-04-22T07:26:11.654805Z",
     "iopub.status.idle": "2023-04-22T07:26:14.291198Z",
     "shell.execute_reply": "2023-04-22T07:26:14.288952Z"
    },
    "papermill": {
     "duration": 2.788819,
     "end_time": "2023-04-22T07:26:14.294688",
     "exception": false,
     "start_time": "2023-04-22T07:26:11.505869",
     "status": "completed"
    },
    "tags": []
   },
   "outputs": [
    {
     "name": "stderr",
     "output_type": "stream",
     "text": [
      "/opt/anaconda3/lib/python3.9/site-packages/sklearn/utils/deprecation.py:87: FutureWarning: Function plot_confusion_matrix is deprecated; Function `plot_confusion_matrix` is deprecated in 1.0 and will be removed in 1.2. Use one of the class methods: ConfusionMatrixDisplay.from_predictions or ConfusionMatrixDisplay.from_estimator.\n",
      "  warnings.warn(msg, category=FutureWarning)\n"
     ]
    },
    {
     "data": {
      "image/png": "[encoded data removed]",
      "text/plain": [
       "<Figure size 432x288 with 2 Axes>"
      ]
     },
     "metadata": {
      "needs_background": "light"
     },
     "output_type": "display_data"
    }
   ],
   "source": [
    "cm = confusion_matrix(y_test, y_pred)\n",
    "\n",
    "#plot confusion matrix\n",
    "plot_confusion_matrix(DT, X_test_fselect, y_test, cmap=plt.cm.Blues);"
   ]
  },
  {
   "cell_type": "code",
   "execution_count": 1780,
   "id": "1af6aea0",
   "metadata": {
    "execution": {
     "iopub.execute_input": "2023-04-22T07:26:14.603806Z",
     "iopub.status.busy": "2023-04-22T07:26:14.603046Z",
     "iopub.status.idle": "2023-04-22T07:26:14.609353Z",
     "shell.execute_reply": "2023-04-22T07:26:14.607646Z"
    },
    "papermill": {
     "duration": 0.160997,
     "end_time": "2023-04-22T07:26:14.612320",
     "exception": false,
     "start_time": "2023-04-22T07:26:14.451323",
     "status": "completed"
    },
    "tags": []
   },
   "outputs": [],
   "source": [
    "from sklearn.metrics import precision_score, recall_score, classification_report"
   ]
  },
  {
   "cell_type": "markdown",
   "id": "42b9e569",
   "metadata": {},
   "source": [
    "Lets also take a look at a few other scoring methods to holistically understand the performaance of our dataet."
   ]
  },
  {
   "cell_type": "code",
   "execution_count": 1781,
   "id": "36206ae6",
   "metadata": {
    "execution": {
     "iopub.execute_input": "2023-04-22T07:26:14.923503Z",
     "iopub.status.busy": "2023-04-22T07:26:14.922717Z",
     "iopub.status.idle": "2023-04-22T07:26:14.944424Z",
     "shell.execute_reply": "2023-04-22T07:26:14.943268Z"
    },
    "papermill": {
     "duration": 0.180864,
     "end_time": "2023-04-22T07:26:14.948223",
     "exception": false,
     "start_time": "2023-04-22T07:26:14.767359",
     "status": "completed"
    },
    "tags": []
   },
   "outputs": [
    {
     "name": "stdout",
     "output_type": "stream",
     "text": [
      "Precision: 0.5427943463800425\n",
      "Recall: 0.532253767476341\n"
     ]
    }
   ],
   "source": [
    "precision = precision_score(y_test, y_pred,average='weighted')\n",
    "recall = recall_score(y_test, y_pred,average='weighted')\n",
    "\n",
    "print(\"Precision:\", precision)\n",
    "print(\"Recall:\", recall)"
   ]
  },
  {
   "cell_type": "code",
   "execution_count": 1782,
   "id": "e32bea7c",
   "metadata": {
    "execution": {
     "iopub.execute_input": "2023-04-22T07:26:15.252934Z",
     "iopub.status.busy": "2023-04-22T07:26:15.252449Z",
     "iopub.status.idle": "2023-04-22T07:26:15.289953Z",
     "shell.execute_reply": "2023-04-22T07:26:15.288105Z"
    },
    "papermill": {
     "duration": 0.194205,
     "end_time": "2023-04-22T07:26:15.293709",
     "exception": false,
     "start_time": "2023-04-22T07:26:15.099504",
     "status": "completed"
    },
    "tags": []
   },
   "outputs": [
    {
     "name": "stdout",
     "output_type": "stream",
     "text": [
      "              precision    recall  f1-score   support\n",
      "\n",
      "           0       0.59      0.57      0.58     39004\n",
      "           1       0.62      0.61      0.61     35950\n",
      "           2       0.17      0.20      0.18      6533\n",
      "           3       0.10      0.12      0.11      4844\n",
      "\n",
      "    accuracy                           0.53     86331\n",
      "   macro avg       0.37      0.37      0.37     86331\n",
      "weighted avg       0.54      0.53      0.54     86331\n",
      "\n"
     ]
    }
   ],
   "source": [
    "#print the classification report \n",
    "report = classification_report(y_test, y_pred)\n",
    "print(report)"
   ]
  },
  {
   "cell_type": "markdown",
   "id": "60c90f5e",
   "metadata": {},
   "source": [
    "The accuracy of this model is less than 50% which is even worse than the probability of flipping a coin. \n",
    "\n",
    "We can see that although the CV scores are high, the accuracy is low, showing that the model overfitted to the training set, speciifically to Category 1, since the recall and was relatively a lot higher for this category.\n",
    "\n",
    "The model performed poorly for the other 3 categories. This is showing signs that there might be a need to increase the granulatiry of our modelling variables. Nonetheless, we will continue to explore other models for catgorical data and evaluate further."
   ]
  },
  {
   "cell_type": "code",
   "execution_count": 1783,
   "id": "3ec28d9f",
   "metadata": {
    "execution": {
     "iopub.execute_input": "2023-04-22T07:26:15.608687Z",
     "iopub.status.busy": "2023-04-22T07:26:15.608162Z",
     "iopub.status.idle": "2023-04-22T07:26:15.616079Z",
     "shell.execute_reply": "2023-04-22T07:26:15.614258Z"
    },
    "papermill": {
     "duration": 0.167321,
     "end_time": "2023-04-22T07:26:15.619254",
     "exception": false,
     "start_time": "2023-04-22T07:26:15.451933",
     "status": "completed"
    },
    "tags": []
   },
   "outputs": [],
   "source": [
    "# result in model data structure\n",
    "\n",
    "models['Model Name'].append('Decision Tree Classifier')\n",
    "models['Accuracy'].append(accuracy)\n",
    "models['CV Score'].append(np.mean(cv_scores))\n",
    "models['Precision'].append(precision)\n",
    "models['Recall'].append(recall)"
   ]
  },
  {
   "cell_type": "markdown",
   "id": "735c1215",
   "metadata": {
    "papermill": {
     "duration": 0.149724,
     "end_time": "2023-04-22T07:26:15.919993",
     "exception": false,
     "start_time": "2023-04-22T07:26:15.770269",
     "status": "completed"
    },
    "tags": []
   },
   "source": [
    "### KNN Model"
   ]
  },
  {
   "cell_type": "markdown",
   "id": "c2a6c982",
   "metadata": {},
   "source": [
    "While Decision Trees can be a powerful and flexible algorithm for classification tasks, they can suffer from overfitting and can be sensitive to the choice of hyperparameters. K-Nearest Neighbors (KNN), on the other hand, is a non-parametric algorithm that makes no assumptions about the underlying distribution of the data and can be less prone to overfitting. \n",
    "\n",
    "KNN can also be more effective than Decision Trees for datasets with well-separated clusters like ours, as it relies on the distance between data points to make predictions rather than fitting a model to the data. By exploring KNN as an alternative to Decision Trees, we may be able to find a more robust and accurate model for our specific dataset.\n",
    "\n",
    "We can use hyperparameter tuning to optimize the performance.\n",
    "\n",
    "We will optimize for 4 parameters:\n",
    "\n",
    "    1. n_neighbours: This is the number of neighbours the model uses to make the prediction. BEcause of the large set of out data, it would be helpful to start with a range that can cover small and large number of neighbours. Therefore we caan use 5, 10, 25, 50, 100, 1000].\n",
    "    \n",
    "    2. weights: We will investigate the uniform and distance metrics.\n",
    "    \n",
    "    3. metric: We will use Euclidean, Manhattan and Minkowski distance as parameters\n",
    "    \n",
    "    4. algorithm: We will set this to auto and let knn choose the best algorithm to use according to the dataset.  This will also help us computationally.\n",
    "    \n",
    "    \n"
   ]
  },
  {
   "cell_type": "code",
   "execution_count": 1786,
   "id": "0d60a44d",
   "metadata": {
    "execution": {
     "iopub.execute_input": "2023-04-22T07:26:16.220855Z",
     "iopub.status.busy": "2023-04-22T07:26:16.219116Z",
     "iopub.status.idle": "2023-04-22T07:26:16.226789Z",
     "shell.execute_reply": "2023-04-22T07:26:16.225368Z"
    },
    "papermill": {
     "duration": 0.161132,
     "end_time": "2023-04-22T07:26:16.230162",
     "exception": false,
     "start_time": "2023-04-22T07:26:16.069030",
     "status": "completed"
    },
    "tags": []
   },
   "outputs": [],
   "source": [
    "from sklearn.neighbors import KNeighborsClassifier\n",
    "from sklearn.model_selection import train_test_split, cross_val_score, GridSearchCV"
   ]
  },
  {
   "cell_type": "code",
   "execution_count": 1787,
   "id": "4b203ed3",
   "metadata": {
    "execution": {
     "iopub.execute_input": "2023-04-22T07:26:16.537215Z",
     "iopub.status.busy": "2023-04-22T07:26:16.536709Z",
     "iopub.status.idle": "2023-04-22T07:34:28.037200Z",
     "shell.execute_reply": "2023-04-22T07:34:28.034853Z"
    },
    "papermill": {
     "duration": 491.909131,
     "end_time": "2023-04-22T07:34:28.292520",
     "exception": false,
     "start_time": "2023-04-22T07:26:16.383389",
     "status": "completed"
    },
    "tags": []
   },
   "outputs": [
    {
     "ename": "KeyboardInterrupt",
     "evalue": "",
     "output_type": "error",
     "traceback": [
      "\u001b[0;31m---------------------------------------------------------------------------\u001b[0m",
      "\u001b[0;31mKeyboardInterrupt\u001b[0m                         Traceback (most recent call last)",
      "Input \u001b[0;32mIn [1787]\u001b[0m, in \u001b[0;36m<cell line: 13>\u001b[0;34m()\u001b[0m\n\u001b[1;32m     10\u001b[0m grid_search \u001b[38;5;241m=\u001b[39m GridSearchCV(knn, param_grid\u001b[38;5;241m=\u001b[39mparam_grid, cv\u001b[38;5;241m=\u001b[39m\u001b[38;5;241m3\u001b[39m, scoring\u001b[38;5;241m=\u001b[39m\u001b[38;5;124m'\u001b[39m\u001b[38;5;124maccuracy\u001b[39m\u001b[38;5;124m'\u001b[39m)\n\u001b[1;32m     12\u001b[0m \u001b[38;5;66;03m#grid_search.fit(X_train_knn_dr, y_train_resampled2)\u001b[39;00m\n\u001b[0;32m---> 13\u001b[0m \u001b[43mgrid_search\u001b[49m\u001b[38;5;241;43m.\u001b[39;49m\u001b[43mfit\u001b[49m\u001b[43m(\u001b[49m\u001b[43mX_train_fselect\u001b[49m\u001b[43m,\u001b[49m\u001b[43m \u001b[49m\u001b[43my_train_resampled\u001b[49m\u001b[43m)\u001b[49m\n\u001b[1;32m     15\u001b[0m \u001b[38;5;66;03m# Print best parameters and best score\u001b[39;00m\n\u001b[1;32m     16\u001b[0m \u001b[38;5;28mprint\u001b[39m(\u001b[38;5;124m\"\u001b[39m\u001b[38;5;124mBest parameters: \u001b[39m\u001b[38;5;124m\"\u001b[39m, grid_search\u001b[38;5;241m.\u001b[39mbest_params_)\n",
      "File \u001b[0;32m/opt/anaconda3/lib/python3.9/site-packages/sklearn/model_selection/_search.py:891\u001b[0m, in \u001b[0;36mBaseSearchCV.fit\u001b[0;34m(self, X, y, groups, **fit_params)\u001b[0m\n\u001b[1;32m    885\u001b[0m     results \u001b[38;5;241m=\u001b[39m \u001b[38;5;28mself\u001b[39m\u001b[38;5;241m.\u001b[39m_format_results(\n\u001b[1;32m    886\u001b[0m         all_candidate_params, n_splits, all_out, all_more_results\n\u001b[1;32m    887\u001b[0m     )\n\u001b[1;32m    889\u001b[0m     \u001b[38;5;28;01mreturn\u001b[39;00m results\n\u001b[0;32m--> 891\u001b[0m \u001b[38;5;28;43mself\u001b[39;49m\u001b[38;5;241;43m.\u001b[39;49m\u001b[43m_run_search\u001b[49m\u001b[43m(\u001b[49m\u001b[43mevaluate_candidates\u001b[49m\u001b[43m)\u001b[49m\n\u001b[1;32m    893\u001b[0m \u001b[38;5;66;03m# multimetric is determined here because in the case of a callable\u001b[39;00m\n\u001b[1;32m    894\u001b[0m \u001b[38;5;66;03m# self.scoring the return type is only known after calling\u001b[39;00m\n\u001b[1;32m    895\u001b[0m first_test_score \u001b[38;5;241m=\u001b[39m all_out[\u001b[38;5;241m0\u001b[39m][\u001b[38;5;124m\"\u001b[39m\u001b[38;5;124mtest_scores\u001b[39m\u001b[38;5;124m\"\u001b[39m]\n",
      "File \u001b[0;32m/opt/anaconda3/lib/python3.9/site-packages/sklearn/model_selection/_search.py:1392\u001b[0m, in \u001b[0;36mGridSearchCV._run_search\u001b[0;34m(self, evaluate_candidates)\u001b[0m\n\u001b[1;32m   1390\u001b[0m \u001b[38;5;28;01mdef\u001b[39;00m \u001b[38;5;21m_run_search\u001b[39m(\u001b[38;5;28mself\u001b[39m, evaluate_candidates):\n\u001b[1;32m   1391\u001b[0m     \u001b[38;5;124;03m\"\"\"Search all candidates in param_grid\"\"\"\u001b[39;00m\n\u001b[0;32m-> 1392\u001b[0m     \u001b[43mevaluate_candidates\u001b[49m\u001b[43m(\u001b[49m\u001b[43mParameterGrid\u001b[49m\u001b[43m(\u001b[49m\u001b[38;5;28;43mself\u001b[39;49m\u001b[38;5;241;43m.\u001b[39;49m\u001b[43mparam_grid\u001b[49m\u001b[43m)\u001b[49m\u001b[43m)\u001b[49m\n",
      "File \u001b[0;32m/opt/anaconda3/lib/python3.9/site-packages/sklearn/model_selection/_search.py:838\u001b[0m, in \u001b[0;36mBaseSearchCV.fit.<locals>.evaluate_candidates\u001b[0;34m(candidate_params, cv, more_results)\u001b[0m\n\u001b[1;32m    830\u001b[0m \u001b[38;5;28;01mif\u001b[39;00m \u001b[38;5;28mself\u001b[39m\u001b[38;5;241m.\u001b[39mverbose \u001b[38;5;241m>\u001b[39m \u001b[38;5;241m0\u001b[39m:\n\u001b[1;32m    831\u001b[0m     \u001b[38;5;28mprint\u001b[39m(\n\u001b[1;32m    832\u001b[0m         \u001b[38;5;124m\"\u001b[39m\u001b[38;5;124mFitting \u001b[39m\u001b[38;5;132;01m{0}\u001b[39;00m\u001b[38;5;124m folds for each of \u001b[39m\u001b[38;5;132;01m{1}\u001b[39;00m\u001b[38;5;124m candidates,\u001b[39m\u001b[38;5;124m\"\u001b[39m\n\u001b[1;32m    833\u001b[0m         \u001b[38;5;124m\"\u001b[39m\u001b[38;5;124m totalling \u001b[39m\u001b[38;5;132;01m{2}\u001b[39;00m\u001b[38;5;124m fits\u001b[39m\u001b[38;5;124m\"\u001b[39m\u001b[38;5;241m.\u001b[39mformat(\n\u001b[1;32m    834\u001b[0m             n_splits, n_candidates, n_candidates \u001b[38;5;241m*\u001b[39m n_splits\n\u001b[1;32m    835\u001b[0m         )\n\u001b[1;32m    836\u001b[0m     )\n\u001b[0;32m--> 838\u001b[0m out \u001b[38;5;241m=\u001b[39m \u001b[43mparallel\u001b[49m\u001b[43m(\u001b[49m\n\u001b[1;32m    839\u001b[0m \u001b[43m    \u001b[49m\u001b[43mdelayed\u001b[49m\u001b[43m(\u001b[49m\u001b[43m_fit_and_score\u001b[49m\u001b[43m)\u001b[49m\u001b[43m(\u001b[49m\n\u001b[1;32m    840\u001b[0m \u001b[43m        \u001b[49m\u001b[43mclone\u001b[49m\u001b[43m(\u001b[49m\u001b[43mbase_estimator\u001b[49m\u001b[43m)\u001b[49m\u001b[43m,\u001b[49m\n\u001b[1;32m    841\u001b[0m \u001b[43m        \u001b[49m\u001b[43mX\u001b[49m\u001b[43m,\u001b[49m\n\u001b[1;32m    842\u001b[0m \u001b[43m        \u001b[49m\u001b[43my\u001b[49m\u001b[43m,\u001b[49m\n\u001b[1;32m    843\u001b[0m \u001b[43m        \u001b[49m\u001b[43mtrain\u001b[49m\u001b[38;5;241;43m=\u001b[39;49m\u001b[43mtrain\u001b[49m\u001b[43m,\u001b[49m\n\u001b[1;32m    844\u001b[0m \u001b[43m        \u001b[49m\u001b[43mtest\u001b[49m\u001b[38;5;241;43m=\u001b[39;49m\u001b[43mtest\u001b[49m\u001b[43m,\u001b[49m\n\u001b[1;32m    845\u001b[0m \u001b[43m        \u001b[49m\u001b[43mparameters\u001b[49m\u001b[38;5;241;43m=\u001b[39;49m\u001b[43mparameters\u001b[49m\u001b[43m,\u001b[49m\n\u001b[1;32m    846\u001b[0m \u001b[43m        \u001b[49m\u001b[43msplit_progress\u001b[49m\u001b[38;5;241;43m=\u001b[39;49m\u001b[43m(\u001b[49m\u001b[43msplit_idx\u001b[49m\u001b[43m,\u001b[49m\u001b[43m \u001b[49m\u001b[43mn_splits\u001b[49m\u001b[43m)\u001b[49m\u001b[43m,\u001b[49m\n\u001b[1;32m    847\u001b[0m \u001b[43m        \u001b[49m\u001b[43mcandidate_progress\u001b[49m\u001b[38;5;241;43m=\u001b[39;49m\u001b[43m(\u001b[49m\u001b[43mcand_idx\u001b[49m\u001b[43m,\u001b[49m\u001b[43m \u001b[49m\u001b[43mn_candidates\u001b[49m\u001b[43m)\u001b[49m\u001b[43m,\u001b[49m\n\u001b[1;32m    848\u001b[0m \u001b[43m        \u001b[49m\u001b[38;5;241;43m*\u001b[39;49m\u001b[38;5;241;43m*\u001b[39;49m\u001b[43mfit_and_score_kwargs\u001b[49m\u001b[43m,\u001b[49m\n\u001b[1;32m    849\u001b[0m \u001b[43m    \u001b[49m\u001b[43m)\u001b[49m\n\u001b[1;32m    850\u001b[0m \u001b[43m    \u001b[49m\u001b[38;5;28;43;01mfor\u001b[39;49;00m\u001b[43m \u001b[49m\u001b[43m(\u001b[49m\u001b[43mcand_idx\u001b[49m\u001b[43m,\u001b[49m\u001b[43m \u001b[49m\u001b[43mparameters\u001b[49m\u001b[43m)\u001b[49m\u001b[43m,\u001b[49m\u001b[43m \u001b[49m\u001b[43m(\u001b[49m\u001b[43msplit_idx\u001b[49m\u001b[43m,\u001b[49m\u001b[43m \u001b[49m\u001b[43m(\u001b[49m\u001b[43mtrain\u001b[49m\u001b[43m,\u001b[49m\u001b[43m \u001b[49m\u001b[43mtest\u001b[49m\u001b[43m)\u001b[49m\u001b[43m)\u001b[49m\u001b[43m \u001b[49m\u001b[38;5;129;43;01min\u001b[39;49;00m\u001b[43m \u001b[49m\u001b[43mproduct\u001b[49m\u001b[43m(\u001b[49m\n\u001b[1;32m    851\u001b[0m \u001b[43m        \u001b[49m\u001b[38;5;28;43menumerate\u001b[39;49m\u001b[43m(\u001b[49m\u001b[43mcandidate_params\u001b[49m\u001b[43m)\u001b[49m\u001b[43m,\u001b[49m\u001b[43m \u001b[49m\u001b[38;5;28;43menumerate\u001b[39;49m\u001b[43m(\u001b[49m\u001b[43mcv\u001b[49m\u001b[38;5;241;43m.\u001b[39;49m\u001b[43msplit\u001b[49m\u001b[43m(\u001b[49m\u001b[43mX\u001b[49m\u001b[43m,\u001b[49m\u001b[43m \u001b[49m\u001b[43my\u001b[49m\u001b[43m,\u001b[49m\u001b[43m \u001b[49m\u001b[43mgroups\u001b[49m\u001b[43m)\u001b[49m\u001b[43m)\u001b[49m\n\u001b[1;32m    852\u001b[0m \u001b[43m    \u001b[49m\u001b[43m)\u001b[49m\n\u001b[1;32m    853\u001b[0m \u001b[43m\u001b[49m\u001b[43m)\u001b[49m\n\u001b[1;32m    855\u001b[0m \u001b[38;5;28;01mif\u001b[39;00m \u001b[38;5;28mlen\u001b[39m(out) \u001b[38;5;241m<\u001b[39m \u001b[38;5;241m1\u001b[39m:\n\u001b[1;32m    856\u001b[0m     \u001b[38;5;28;01mraise\u001b[39;00m \u001b[38;5;167;01mValueError\u001b[39;00m(\n\u001b[1;32m    857\u001b[0m         \u001b[38;5;124m\"\u001b[39m\u001b[38;5;124mNo fits were performed. \u001b[39m\u001b[38;5;124m\"\u001b[39m\n\u001b[1;32m    858\u001b[0m         \u001b[38;5;124m\"\u001b[39m\u001b[38;5;124mWas the CV iterator empty? \u001b[39m\u001b[38;5;124m\"\u001b[39m\n\u001b[1;32m    859\u001b[0m         \u001b[38;5;124m\"\u001b[39m\u001b[38;5;124mWere there no candidates?\u001b[39m\u001b[38;5;124m\"\u001b[39m\n\u001b[1;32m    860\u001b[0m     )\n",
      "File \u001b[0;32m/opt/anaconda3/lib/python3.9/site-packages/joblib/parallel.py:1088\u001b[0m, in \u001b[0;36mParallel.__call__\u001b[0;34m(self, iterable)\u001b[0m\n\u001b[1;32m   1085\u001b[0m \u001b[38;5;28;01mif\u001b[39;00m \u001b[38;5;28mself\u001b[39m\u001b[38;5;241m.\u001b[39mdispatch_one_batch(iterator):\n\u001b[1;32m   1086\u001b[0m     \u001b[38;5;28mself\u001b[39m\u001b[38;5;241m.\u001b[39m_iterating \u001b[38;5;241m=\u001b[39m \u001b[38;5;28mself\u001b[39m\u001b[38;5;241m.\u001b[39m_original_iterator \u001b[38;5;129;01mis\u001b[39;00m \u001b[38;5;129;01mnot\u001b[39;00m \u001b[38;5;28;01mNone\u001b[39;00m\n\u001b[0;32m-> 1088\u001b[0m \u001b[38;5;28;01mwhile\u001b[39;00m \u001b[38;5;28;43mself\u001b[39;49m\u001b[38;5;241;43m.\u001b[39;49m\u001b[43mdispatch_one_batch\u001b[49m\u001b[43m(\u001b[49m\u001b[43miterator\u001b[49m\u001b[43m)\u001b[49m:\n\u001b[1;32m   1089\u001b[0m     \u001b[38;5;28;01mpass\u001b[39;00m\n\u001b[1;32m   1091\u001b[0m \u001b[38;5;28;01mif\u001b[39;00m pre_dispatch \u001b[38;5;241m==\u001b[39m \u001b[38;5;124m\"\u001b[39m\u001b[38;5;124mall\u001b[39m\u001b[38;5;124m\"\u001b[39m \u001b[38;5;129;01mor\u001b[39;00m n_jobs \u001b[38;5;241m==\u001b[39m \u001b[38;5;241m1\u001b[39m:\n\u001b[1;32m   1092\u001b[0m     \u001b[38;5;66;03m# The iterable was consumed all at once by the above for loop.\u001b[39;00m\n\u001b[1;32m   1093\u001b[0m     \u001b[38;5;66;03m# No need to wait for async callbacks to trigger to\u001b[39;00m\n\u001b[1;32m   1094\u001b[0m     \u001b[38;5;66;03m# consumption.\u001b[39;00m\n",
      "File \u001b[0;32m/opt/anaconda3/lib/python3.9/site-packages/joblib/parallel.py:901\u001b[0m, in \u001b[0;36mParallel.dispatch_one_batch\u001b[0;34m(self, iterator)\u001b[0m\n\u001b[1;32m    899\u001b[0m     \u001b[38;5;28;01mreturn\u001b[39;00m \u001b[38;5;28;01mFalse\u001b[39;00m\n\u001b[1;32m    900\u001b[0m \u001b[38;5;28;01melse\u001b[39;00m:\n\u001b[0;32m--> 901\u001b[0m     \u001b[38;5;28;43mself\u001b[39;49m\u001b[38;5;241;43m.\u001b[39;49m\u001b[43m_dispatch\u001b[49m\u001b[43m(\u001b[49m\u001b[43mtasks\u001b[49m\u001b[43m)\u001b[49m\n\u001b[1;32m    902\u001b[0m     \u001b[38;5;28;01mreturn\u001b[39;00m \u001b[38;5;28;01mTrue\u001b[39;00m\n",
      "File \u001b[0;32m/opt/anaconda3/lib/python3.9/site-packages/joblib/parallel.py:819\u001b[0m, in \u001b[0;36mParallel._dispatch\u001b[0;34m(self, batch)\u001b[0m\n\u001b[1;32m    817\u001b[0m \u001b[38;5;28;01mwith\u001b[39;00m \u001b[38;5;28mself\u001b[39m\u001b[38;5;241m.\u001b[39m_lock:\n\u001b[1;32m    818\u001b[0m     job_idx \u001b[38;5;241m=\u001b[39m \u001b[38;5;28mlen\u001b[39m(\u001b[38;5;28mself\u001b[39m\u001b[38;5;241m.\u001b[39m_jobs)\n\u001b[0;32m--> 819\u001b[0m     job \u001b[38;5;241m=\u001b[39m \u001b[38;5;28;43mself\u001b[39;49m\u001b[38;5;241;43m.\u001b[39;49m\u001b[43m_backend\u001b[49m\u001b[38;5;241;43m.\u001b[39;49m\u001b[43mapply_async\u001b[49m\u001b[43m(\u001b[49m\u001b[43mbatch\u001b[49m\u001b[43m,\u001b[49m\u001b[43m \u001b[49m\u001b[43mcallback\u001b[49m\u001b[38;5;241;43m=\u001b[39;49m\u001b[43mcb\u001b[49m\u001b[43m)\u001b[49m\n\u001b[1;32m    820\u001b[0m     \u001b[38;5;66;03m# A job can complete so quickly than its callback is\u001b[39;00m\n\u001b[1;32m    821\u001b[0m     \u001b[38;5;66;03m# called before we get here, causing self._jobs to\u001b[39;00m\n\u001b[1;32m    822\u001b[0m     \u001b[38;5;66;03m# grow. To ensure correct results ordering, .insert is\u001b[39;00m\n\u001b[1;32m    823\u001b[0m     \u001b[38;5;66;03m# used (rather than .append) in the following line\u001b[39;00m\n\u001b[1;32m    824\u001b[0m     \u001b[38;5;28mself\u001b[39m\u001b[38;5;241m.\u001b[39m_jobs\u001b[38;5;241m.\u001b[39minsert(job_idx, job)\n",
      "File \u001b[0;32m/opt/anaconda3/lib/python3.9/site-packages/joblib/_parallel_backends.py:208\u001b[0m, in \u001b[0;36mSequentialBackend.apply_async\u001b[0;34m(self, func, callback)\u001b[0m\n\u001b[1;32m    206\u001b[0m \u001b[38;5;28;01mdef\u001b[39;00m \u001b[38;5;21mapply_async\u001b[39m(\u001b[38;5;28mself\u001b[39m, func, callback\u001b[38;5;241m=\u001b[39m\u001b[38;5;28;01mNone\u001b[39;00m):\n\u001b[1;32m    207\u001b[0m     \u001b[38;5;124;03m\"\"\"Schedule a func to be run\"\"\"\u001b[39;00m\n\u001b[0;32m--> 208\u001b[0m     result \u001b[38;5;241m=\u001b[39m \u001b[43mImmediateResult\u001b[49m\u001b[43m(\u001b[49m\u001b[43mfunc\u001b[49m\u001b[43m)\u001b[49m\n\u001b[1;32m    209\u001b[0m     \u001b[38;5;28;01mif\u001b[39;00m callback:\n\u001b[1;32m    210\u001b[0m         callback(result)\n",
      "File \u001b[0;32m/opt/anaconda3/lib/python3.9/site-packages/joblib/_parallel_backends.py:597\u001b[0m, in \u001b[0;36mImmediateResult.__init__\u001b[0;34m(self, batch)\u001b[0m\n\u001b[1;32m    594\u001b[0m \u001b[38;5;28;01mdef\u001b[39;00m \u001b[38;5;21m__init__\u001b[39m(\u001b[38;5;28mself\u001b[39m, batch):\n\u001b[1;32m    595\u001b[0m     \u001b[38;5;66;03m# Don't delay the application, to avoid keeping the input\u001b[39;00m\n\u001b[1;32m    596\u001b[0m     \u001b[38;5;66;03m# arguments in memory\u001b[39;00m\n\u001b[0;32m--> 597\u001b[0m     \u001b[38;5;28mself\u001b[39m\u001b[38;5;241m.\u001b[39mresults \u001b[38;5;241m=\u001b[39m \u001b[43mbatch\u001b[49m\u001b[43m(\u001b[49m\u001b[43m)\u001b[49m\n",
      "File \u001b[0;32m/opt/anaconda3/lib/python3.9/site-packages/joblib/parallel.py:288\u001b[0m, in \u001b[0;36mBatchedCalls.__call__\u001b[0;34m(self)\u001b[0m\n\u001b[1;32m    284\u001b[0m \u001b[38;5;28;01mdef\u001b[39;00m \u001b[38;5;21m__call__\u001b[39m(\u001b[38;5;28mself\u001b[39m):\n\u001b[1;32m    285\u001b[0m     \u001b[38;5;66;03m# Set the default nested backend to self._backend but do not set the\u001b[39;00m\n\u001b[1;32m    286\u001b[0m     \u001b[38;5;66;03m# change the default number of processes to -1\u001b[39;00m\n\u001b[1;32m    287\u001b[0m     \u001b[38;5;28;01mwith\u001b[39;00m parallel_backend(\u001b[38;5;28mself\u001b[39m\u001b[38;5;241m.\u001b[39m_backend, n_jobs\u001b[38;5;241m=\u001b[39m\u001b[38;5;28mself\u001b[39m\u001b[38;5;241m.\u001b[39m_n_jobs):\n\u001b[0;32m--> 288\u001b[0m         \u001b[38;5;28;01mreturn\u001b[39;00m [func(\u001b[38;5;241m*\u001b[39margs, \u001b[38;5;241m*\u001b[39m\u001b[38;5;241m*\u001b[39mkwargs)\n\u001b[1;32m    289\u001b[0m                 \u001b[38;5;28;01mfor\u001b[39;00m func, args, kwargs \u001b[38;5;129;01min\u001b[39;00m \u001b[38;5;28mself\u001b[39m\u001b[38;5;241m.\u001b[39mitems]\n",
      "File \u001b[0;32m/opt/anaconda3/lib/python3.9/site-packages/joblib/parallel.py:288\u001b[0m, in \u001b[0;36m<listcomp>\u001b[0;34m(.0)\u001b[0m\n\u001b[1;32m    284\u001b[0m \u001b[38;5;28;01mdef\u001b[39;00m \u001b[38;5;21m__call__\u001b[39m(\u001b[38;5;28mself\u001b[39m):\n\u001b[1;32m    285\u001b[0m     \u001b[38;5;66;03m# Set the default nested backend to self._backend but do not set the\u001b[39;00m\n\u001b[1;32m    286\u001b[0m     \u001b[38;5;66;03m# change the default number of processes to -1\u001b[39;00m\n\u001b[1;32m    287\u001b[0m     \u001b[38;5;28;01mwith\u001b[39;00m parallel_backend(\u001b[38;5;28mself\u001b[39m\u001b[38;5;241m.\u001b[39m_backend, n_jobs\u001b[38;5;241m=\u001b[39m\u001b[38;5;28mself\u001b[39m\u001b[38;5;241m.\u001b[39m_n_jobs):\n\u001b[0;32m--> 288\u001b[0m         \u001b[38;5;28;01mreturn\u001b[39;00m [\u001b[43mfunc\u001b[49m\u001b[43m(\u001b[49m\u001b[38;5;241;43m*\u001b[39;49m\u001b[43margs\u001b[49m\u001b[43m,\u001b[49m\u001b[43m \u001b[49m\u001b[38;5;241;43m*\u001b[39;49m\u001b[38;5;241;43m*\u001b[39;49m\u001b[43mkwargs\u001b[49m\u001b[43m)\u001b[49m\n\u001b[1;32m    289\u001b[0m                 \u001b[38;5;28;01mfor\u001b[39;00m func, args, kwargs \u001b[38;5;129;01min\u001b[39;00m \u001b[38;5;28mself\u001b[39m\u001b[38;5;241m.\u001b[39mitems]\n",
      "File \u001b[0;32m/opt/anaconda3/lib/python3.9/site-packages/sklearn/utils/fixes.py:216\u001b[0m, in \u001b[0;36m_FuncWrapper.__call__\u001b[0;34m(self, *args, **kwargs)\u001b[0m\n\u001b[1;32m    214\u001b[0m \u001b[38;5;28;01mdef\u001b[39;00m \u001b[38;5;21m__call__\u001b[39m(\u001b[38;5;28mself\u001b[39m, \u001b[38;5;241m*\u001b[39margs, \u001b[38;5;241m*\u001b[39m\u001b[38;5;241m*\u001b[39mkwargs):\n\u001b[1;32m    215\u001b[0m     \u001b[38;5;28;01mwith\u001b[39;00m config_context(\u001b[38;5;241m*\u001b[39m\u001b[38;5;241m*\u001b[39m\u001b[38;5;28mself\u001b[39m\u001b[38;5;241m.\u001b[39mconfig):\n\u001b[0;32m--> 216\u001b[0m         \u001b[38;5;28;01mreturn\u001b[39;00m \u001b[38;5;28;43mself\u001b[39;49m\u001b[38;5;241;43m.\u001b[39;49m\u001b[43mfunction\u001b[49m\u001b[43m(\u001b[49m\u001b[38;5;241;43m*\u001b[39;49m\u001b[43margs\u001b[49m\u001b[43m,\u001b[49m\u001b[43m \u001b[49m\u001b[38;5;241;43m*\u001b[39;49m\u001b[38;5;241;43m*\u001b[39;49m\u001b[43mkwargs\u001b[49m\u001b[43m)\u001b[49m\n",
      "File \u001b[0;32m/opt/anaconda3/lib/python3.9/site-packages/sklearn/model_selection/_validation.py:702\u001b[0m, in \u001b[0;36m_fit_and_score\u001b[0;34m(estimator, X, y, scorer, train, test, verbose, parameters, fit_params, return_train_score, return_parameters, return_n_test_samples, return_times, return_estimator, split_progress, candidate_progress, error_score)\u001b[0m\n\u001b[1;32m    699\u001b[0m result[\u001b[38;5;124m\"\u001b[39m\u001b[38;5;124mfit_error\u001b[39m\u001b[38;5;124m\"\u001b[39m] \u001b[38;5;241m=\u001b[39m \u001b[38;5;28;01mNone\u001b[39;00m\n\u001b[1;32m    701\u001b[0m fit_time \u001b[38;5;241m=\u001b[39m time\u001b[38;5;241m.\u001b[39mtime() \u001b[38;5;241m-\u001b[39m start_time\n\u001b[0;32m--> 702\u001b[0m test_scores \u001b[38;5;241m=\u001b[39m \u001b[43m_score\u001b[49m\u001b[43m(\u001b[49m\u001b[43mestimator\u001b[49m\u001b[43m,\u001b[49m\u001b[43m \u001b[49m\u001b[43mX_test\u001b[49m\u001b[43m,\u001b[49m\u001b[43m \u001b[49m\u001b[43my_test\u001b[49m\u001b[43m,\u001b[49m\u001b[43m \u001b[49m\u001b[43mscorer\u001b[49m\u001b[43m,\u001b[49m\u001b[43m \u001b[49m\u001b[43merror_score\u001b[49m\u001b[43m)\u001b[49m\n\u001b[1;32m    703\u001b[0m score_time \u001b[38;5;241m=\u001b[39m time\u001b[38;5;241m.\u001b[39mtime() \u001b[38;5;241m-\u001b[39m start_time \u001b[38;5;241m-\u001b[39m fit_time\n\u001b[1;32m    704\u001b[0m \u001b[38;5;28;01mif\u001b[39;00m return_train_score:\n",
      "File \u001b[0;32m/opt/anaconda3/lib/python3.9/site-packages/sklearn/model_selection/_validation.py:761\u001b[0m, in \u001b[0;36m_score\u001b[0;34m(estimator, X_test, y_test, scorer, error_score)\u001b[0m\n\u001b[1;32m    759\u001b[0m         scores \u001b[38;5;241m=\u001b[39m scorer(estimator, X_test)\n\u001b[1;32m    760\u001b[0m     \u001b[38;5;28;01melse\u001b[39;00m:\n\u001b[0;32m--> 761\u001b[0m         scores \u001b[38;5;241m=\u001b[39m \u001b[43mscorer\u001b[49m\u001b[43m(\u001b[49m\u001b[43mestimator\u001b[49m\u001b[43m,\u001b[49m\u001b[43m \u001b[49m\u001b[43mX_test\u001b[49m\u001b[43m,\u001b[49m\u001b[43m \u001b[49m\u001b[43my_test\u001b[49m\u001b[43m)\u001b[49m\n\u001b[1;32m    762\u001b[0m \u001b[38;5;28;01mexcept\u001b[39;00m \u001b[38;5;167;01mException\u001b[39;00m:\n\u001b[1;32m    763\u001b[0m     \u001b[38;5;28;01mif\u001b[39;00m error_score \u001b[38;5;241m==\u001b[39m \u001b[38;5;124m\"\u001b[39m\u001b[38;5;124mraise\u001b[39m\u001b[38;5;124m\"\u001b[39m:\n",
      "File \u001b[0;32m/opt/anaconda3/lib/python3.9/site-packages/sklearn/metrics/_scorer.py:216\u001b[0m, in \u001b[0;36m_BaseScorer.__call__\u001b[0;34m(self, estimator, X, y_true, sample_weight)\u001b[0m\n\u001b[1;32m    193\u001b[0m \u001b[38;5;28;01mdef\u001b[39;00m \u001b[38;5;21m__call__\u001b[39m(\u001b[38;5;28mself\u001b[39m, estimator, X, y_true, sample_weight\u001b[38;5;241m=\u001b[39m\u001b[38;5;28;01mNone\u001b[39;00m):\n\u001b[1;32m    194\u001b[0m     \u001b[38;5;124;03m\"\"\"Evaluate predicted target values for X relative to y_true.\u001b[39;00m\n\u001b[1;32m    195\u001b[0m \n\u001b[1;32m    196\u001b[0m \u001b[38;5;124;03m    Parameters\u001b[39;00m\n\u001b[0;32m   (...)\u001b[0m\n\u001b[1;32m    214\u001b[0m \u001b[38;5;124;03m        Score function applied to prediction of estimator on X.\u001b[39;00m\n\u001b[1;32m    215\u001b[0m \u001b[38;5;124;03m    \"\"\"\u001b[39;00m\n\u001b[0;32m--> 216\u001b[0m     \u001b[38;5;28;01mreturn\u001b[39;00m \u001b[38;5;28;43mself\u001b[39;49m\u001b[38;5;241;43m.\u001b[39;49m\u001b[43m_score\u001b[49m\u001b[43m(\u001b[49m\n\u001b[1;32m    217\u001b[0m \u001b[43m        \u001b[49m\u001b[43mpartial\u001b[49m\u001b[43m(\u001b[49m\u001b[43m_cached_call\u001b[49m\u001b[43m,\u001b[49m\u001b[43m \u001b[49m\u001b[38;5;28;43;01mNone\u001b[39;49;00m\u001b[43m)\u001b[49m\u001b[43m,\u001b[49m\n\u001b[1;32m    218\u001b[0m \u001b[43m        \u001b[49m\u001b[43mestimator\u001b[49m\u001b[43m,\u001b[49m\n\u001b[1;32m    219\u001b[0m \u001b[43m        \u001b[49m\u001b[43mX\u001b[49m\u001b[43m,\u001b[49m\n\u001b[1;32m    220\u001b[0m \u001b[43m        \u001b[49m\u001b[43my_true\u001b[49m\u001b[43m,\u001b[49m\n\u001b[1;32m    221\u001b[0m \u001b[43m        \u001b[49m\u001b[43msample_weight\u001b[49m\u001b[38;5;241;43m=\u001b[39;49m\u001b[43msample_weight\u001b[49m\u001b[43m,\u001b[49m\n\u001b[1;32m    222\u001b[0m \u001b[43m    \u001b[49m\u001b[43m)\u001b[49m\n",
      "File \u001b[0;32m/opt/anaconda3/lib/python3.9/site-packages/sklearn/metrics/_scorer.py:258\u001b[0m, in \u001b[0;36m_PredictScorer._score\u001b[0;34m(self, method_caller, estimator, X, y_true, sample_weight)\u001b[0m\n\u001b[1;32m    230\u001b[0m \u001b[38;5;28;01mdef\u001b[39;00m \u001b[38;5;21m_score\u001b[39m(\u001b[38;5;28mself\u001b[39m, method_caller, estimator, X, y_true, sample_weight\u001b[38;5;241m=\u001b[39m\u001b[38;5;28;01mNone\u001b[39;00m):\n\u001b[1;32m    231\u001b[0m     \u001b[38;5;124;03m\"\"\"Evaluate predicted target values for X relative to y_true.\u001b[39;00m\n\u001b[1;32m    232\u001b[0m \n\u001b[1;32m    233\u001b[0m \u001b[38;5;124;03m    Parameters\u001b[39;00m\n\u001b[0;32m   (...)\u001b[0m\n\u001b[1;32m    255\u001b[0m \u001b[38;5;124;03m        Score function applied to prediction of estimator on X.\u001b[39;00m\n\u001b[1;32m    256\u001b[0m \u001b[38;5;124;03m    \"\"\"\u001b[39;00m\n\u001b[0;32m--> 258\u001b[0m     y_pred \u001b[38;5;241m=\u001b[39m \u001b[43mmethod_caller\u001b[49m\u001b[43m(\u001b[49m\u001b[43mestimator\u001b[49m\u001b[43m,\u001b[49m\u001b[43m \u001b[49m\u001b[38;5;124;43m\"\u001b[39;49m\u001b[38;5;124;43mpredict\u001b[39;49m\u001b[38;5;124;43m\"\u001b[39;49m\u001b[43m,\u001b[49m\u001b[43m \u001b[49m\u001b[43mX\u001b[49m\u001b[43m)\u001b[49m\n\u001b[1;32m    259\u001b[0m     \u001b[38;5;28;01mif\u001b[39;00m sample_weight \u001b[38;5;129;01mis\u001b[39;00m \u001b[38;5;129;01mnot\u001b[39;00m \u001b[38;5;28;01mNone\u001b[39;00m:\n\u001b[1;32m    260\u001b[0m         \u001b[38;5;28;01mreturn\u001b[39;00m \u001b[38;5;28mself\u001b[39m\u001b[38;5;241m.\u001b[39m_sign \u001b[38;5;241m*\u001b[39m \u001b[38;5;28mself\u001b[39m\u001b[38;5;241m.\u001b[39m_score_func(\n\u001b[1;32m    261\u001b[0m             y_true, y_pred, sample_weight\u001b[38;5;241m=\u001b[39msample_weight, \u001b[38;5;241m*\u001b[39m\u001b[38;5;241m*\u001b[39m\u001b[38;5;28mself\u001b[39m\u001b[38;5;241m.\u001b[39m_kwargs\n\u001b[1;32m    262\u001b[0m         )\n",
      "File \u001b[0;32m/opt/anaconda3/lib/python3.9/site-packages/sklearn/metrics/_scorer.py:68\u001b[0m, in \u001b[0;36m_cached_call\u001b[0;34m(cache, estimator, method, *args, **kwargs)\u001b[0m\n\u001b[1;32m     66\u001b[0m \u001b[38;5;124;03m\"\"\"Call estimator with method and args and kwargs.\"\"\"\u001b[39;00m\n\u001b[1;32m     67\u001b[0m \u001b[38;5;28;01mif\u001b[39;00m cache \u001b[38;5;129;01mis\u001b[39;00m \u001b[38;5;28;01mNone\u001b[39;00m:\n\u001b[0;32m---> 68\u001b[0m     \u001b[38;5;28;01mreturn\u001b[39;00m \u001b[38;5;28;43mgetattr\u001b[39;49m\u001b[43m(\u001b[49m\u001b[43mestimator\u001b[49m\u001b[43m,\u001b[49m\u001b[43m \u001b[49m\u001b[43mmethod\u001b[49m\u001b[43m)\u001b[49m\u001b[43m(\u001b[49m\u001b[38;5;241;43m*\u001b[39;49m\u001b[43margs\u001b[49m\u001b[43m,\u001b[49m\u001b[43m \u001b[49m\u001b[38;5;241;43m*\u001b[39;49m\u001b[38;5;241;43m*\u001b[39;49m\u001b[43mkwargs\u001b[49m\u001b[43m)\u001b[49m\n\u001b[1;32m     70\u001b[0m \u001b[38;5;28;01mtry\u001b[39;00m:\n\u001b[1;32m     71\u001b[0m     \u001b[38;5;28;01mreturn\u001b[39;00m cache[method]\n",
      "File \u001b[0;32m/opt/anaconda3/lib/python3.9/site-packages/sklearn/neighbors/_classification.py:214\u001b[0m, in \u001b[0;36mKNeighborsClassifier.predict\u001b[0;34m(self, X)\u001b[0m\n\u001b[1;32m    200\u001b[0m \u001b[38;5;28;01mdef\u001b[39;00m \u001b[38;5;21mpredict\u001b[39m(\u001b[38;5;28mself\u001b[39m, X):\n\u001b[1;32m    201\u001b[0m     \u001b[38;5;124;03m\"\"\"Predict the class labels for the provided data.\u001b[39;00m\n\u001b[1;32m    202\u001b[0m \n\u001b[1;32m    203\u001b[0m \u001b[38;5;124;03m    Parameters\u001b[39;00m\n\u001b[0;32m   (...)\u001b[0m\n\u001b[1;32m    212\u001b[0m \u001b[38;5;124;03m        Class labels for each data sample.\u001b[39;00m\n\u001b[1;32m    213\u001b[0m \u001b[38;5;124;03m    \"\"\"\u001b[39;00m\n\u001b[0;32m--> 214\u001b[0m     neigh_dist, neigh_ind \u001b[38;5;241m=\u001b[39m \u001b[38;5;28;43mself\u001b[39;49m\u001b[38;5;241;43m.\u001b[39;49m\u001b[43mkneighbors\u001b[49m\u001b[43m(\u001b[49m\u001b[43mX\u001b[49m\u001b[43m)\u001b[49m\n\u001b[1;32m    215\u001b[0m     classes_ \u001b[38;5;241m=\u001b[39m \u001b[38;5;28mself\u001b[39m\u001b[38;5;241m.\u001b[39mclasses_\n\u001b[1;32m    216\u001b[0m     _y \u001b[38;5;241m=\u001b[39m \u001b[38;5;28mself\u001b[39m\u001b[38;5;241m.\u001b[39m_y\n",
      "File \u001b[0;32m/opt/anaconda3/lib/python3.9/site-packages/sklearn/neighbors/_base.py:776\u001b[0m, in \u001b[0;36mKNeighborsMixin.kneighbors\u001b[0;34m(self, X, n_neighbors, return_distance)\u001b[0m\n\u001b[1;32m    774\u001b[0m     \u001b[38;5;28;01melse\u001b[39;00m:\n\u001b[1;32m    775\u001b[0m         parallel_kwargs \u001b[38;5;241m=\u001b[39m {\u001b[38;5;124m\"\u001b[39m\u001b[38;5;124mprefer\u001b[39m\u001b[38;5;124m\"\u001b[39m: \u001b[38;5;124m\"\u001b[39m\u001b[38;5;124mthreads\u001b[39m\u001b[38;5;124m\"\u001b[39m}\n\u001b[0;32m--> 776\u001b[0m     chunked_results \u001b[38;5;241m=\u001b[39m \u001b[43mParallel\u001b[49m\u001b[43m(\u001b[49m\u001b[43mn_jobs\u001b[49m\u001b[43m,\u001b[49m\u001b[43m \u001b[49m\u001b[38;5;241;43m*\u001b[39;49m\u001b[38;5;241;43m*\u001b[39;49m\u001b[43mparallel_kwargs\u001b[49m\u001b[43m)\u001b[49m\u001b[43m(\u001b[49m\n\u001b[1;32m    777\u001b[0m \u001b[43m        \u001b[49m\u001b[43mdelayed\u001b[49m\u001b[43m(\u001b[49m\u001b[43m_tree_query_parallel_helper\u001b[49m\u001b[43m)\u001b[49m\u001b[43m(\u001b[49m\n\u001b[1;32m    778\u001b[0m \u001b[43m            \u001b[49m\u001b[38;5;28;43mself\u001b[39;49m\u001b[38;5;241;43m.\u001b[39;49m\u001b[43m_tree\u001b[49m\u001b[43m,\u001b[49m\u001b[43m \u001b[49m\u001b[43mX\u001b[49m\u001b[43m[\u001b[49m\u001b[43ms\u001b[49m\u001b[43m]\u001b[49m\u001b[43m,\u001b[49m\u001b[43m \u001b[49m\u001b[43mn_neighbors\u001b[49m\u001b[43m,\u001b[49m\u001b[43m \u001b[49m\u001b[43mreturn_distance\u001b[49m\n\u001b[1;32m    779\u001b[0m \u001b[43m        \u001b[49m\u001b[43m)\u001b[49m\n\u001b[1;32m    780\u001b[0m \u001b[43m        \u001b[49m\u001b[38;5;28;43;01mfor\u001b[39;49;00m\u001b[43m \u001b[49m\u001b[43ms\u001b[49m\u001b[43m \u001b[49m\u001b[38;5;129;43;01min\u001b[39;49;00m\u001b[43m \u001b[49m\u001b[43mgen_even_slices\u001b[49m\u001b[43m(\u001b[49m\u001b[43mX\u001b[49m\u001b[38;5;241;43m.\u001b[39;49m\u001b[43mshape\u001b[49m\u001b[43m[\u001b[49m\u001b[38;5;241;43m0\u001b[39;49m\u001b[43m]\u001b[49m\u001b[43m,\u001b[49m\u001b[43m \u001b[49m\u001b[43mn_jobs\u001b[49m\u001b[43m)\u001b[49m\n\u001b[1;32m    781\u001b[0m \u001b[43m    \u001b[49m\u001b[43m)\u001b[49m\n\u001b[1;32m    782\u001b[0m \u001b[38;5;28;01melse\u001b[39;00m:\n\u001b[1;32m    783\u001b[0m     \u001b[38;5;28;01mraise\u001b[39;00m \u001b[38;5;167;01mValueError\u001b[39;00m(\u001b[38;5;124m\"\u001b[39m\u001b[38;5;124minternal: _fit_method not recognized\u001b[39m\u001b[38;5;124m\"\u001b[39m)\n",
      "File \u001b[0;32m/opt/anaconda3/lib/python3.9/site-packages/joblib/parallel.py:1085\u001b[0m, in \u001b[0;36mParallel.__call__\u001b[0;34m(self, iterable)\u001b[0m\n\u001b[1;32m   1076\u001b[0m \u001b[38;5;28;01mtry\u001b[39;00m:\n\u001b[1;32m   1077\u001b[0m     \u001b[38;5;66;03m# Only set self._iterating to True if at least a batch\u001b[39;00m\n\u001b[1;32m   1078\u001b[0m     \u001b[38;5;66;03m# was dispatched. In particular this covers the edge\u001b[39;00m\n\u001b[0;32m   (...)\u001b[0m\n\u001b[1;32m   1082\u001b[0m     \u001b[38;5;66;03m# was very quick and its callback already dispatched all the\u001b[39;00m\n\u001b[1;32m   1083\u001b[0m     \u001b[38;5;66;03m# remaining jobs.\u001b[39;00m\n\u001b[1;32m   1084\u001b[0m     \u001b[38;5;28mself\u001b[39m\u001b[38;5;241m.\u001b[39m_iterating \u001b[38;5;241m=\u001b[39m \u001b[38;5;28;01mFalse\u001b[39;00m\n\u001b[0;32m-> 1085\u001b[0m     \u001b[38;5;28;01mif\u001b[39;00m \u001b[38;5;28;43mself\u001b[39;49m\u001b[38;5;241;43m.\u001b[39;49m\u001b[43mdispatch_one_batch\u001b[49m\u001b[43m(\u001b[49m\u001b[43miterator\u001b[49m\u001b[43m)\u001b[49m:\n\u001b[1;32m   1086\u001b[0m         \u001b[38;5;28mself\u001b[39m\u001b[38;5;241m.\u001b[39m_iterating \u001b[38;5;241m=\u001b[39m \u001b[38;5;28mself\u001b[39m\u001b[38;5;241m.\u001b[39m_original_iterator \u001b[38;5;129;01mis\u001b[39;00m \u001b[38;5;129;01mnot\u001b[39;00m \u001b[38;5;28;01mNone\u001b[39;00m\n\u001b[1;32m   1088\u001b[0m     \u001b[38;5;28;01mwhile\u001b[39;00m \u001b[38;5;28mself\u001b[39m\u001b[38;5;241m.\u001b[39mdispatch_one_batch(iterator):\n",
      "File \u001b[0;32m/opt/anaconda3/lib/python3.9/site-packages/joblib/parallel.py:901\u001b[0m, in \u001b[0;36mParallel.dispatch_one_batch\u001b[0;34m(self, iterator)\u001b[0m\n\u001b[1;32m    899\u001b[0m     \u001b[38;5;28;01mreturn\u001b[39;00m \u001b[38;5;28;01mFalse\u001b[39;00m\n\u001b[1;32m    900\u001b[0m \u001b[38;5;28;01melse\u001b[39;00m:\n\u001b[0;32m--> 901\u001b[0m     \u001b[38;5;28;43mself\u001b[39;49m\u001b[38;5;241;43m.\u001b[39;49m\u001b[43m_dispatch\u001b[49m\u001b[43m(\u001b[49m\u001b[43mtasks\u001b[49m\u001b[43m)\u001b[49m\n\u001b[1;32m    902\u001b[0m     \u001b[38;5;28;01mreturn\u001b[39;00m \u001b[38;5;28;01mTrue\u001b[39;00m\n",
      "File \u001b[0;32m/opt/anaconda3/lib/python3.9/site-packages/joblib/parallel.py:819\u001b[0m, in \u001b[0;36mParallel._dispatch\u001b[0;34m(self, batch)\u001b[0m\n\u001b[1;32m    817\u001b[0m \u001b[38;5;28;01mwith\u001b[39;00m \u001b[38;5;28mself\u001b[39m\u001b[38;5;241m.\u001b[39m_lock:\n\u001b[1;32m    818\u001b[0m     job_idx \u001b[38;5;241m=\u001b[39m \u001b[38;5;28mlen\u001b[39m(\u001b[38;5;28mself\u001b[39m\u001b[38;5;241m.\u001b[39m_jobs)\n\u001b[0;32m--> 819\u001b[0m     job \u001b[38;5;241m=\u001b[39m \u001b[38;5;28;43mself\u001b[39;49m\u001b[38;5;241;43m.\u001b[39;49m\u001b[43m_backend\u001b[49m\u001b[38;5;241;43m.\u001b[39;49m\u001b[43mapply_async\u001b[49m\u001b[43m(\u001b[49m\u001b[43mbatch\u001b[49m\u001b[43m,\u001b[49m\u001b[43m \u001b[49m\u001b[43mcallback\u001b[49m\u001b[38;5;241;43m=\u001b[39;49m\u001b[43mcb\u001b[49m\u001b[43m)\u001b[49m\n\u001b[1;32m    820\u001b[0m     \u001b[38;5;66;03m# A job can complete so quickly than its callback is\u001b[39;00m\n\u001b[1;32m    821\u001b[0m     \u001b[38;5;66;03m# called before we get here, causing self._jobs to\u001b[39;00m\n\u001b[1;32m    822\u001b[0m     \u001b[38;5;66;03m# grow. To ensure correct results ordering, .insert is\u001b[39;00m\n\u001b[1;32m    823\u001b[0m     \u001b[38;5;66;03m# used (rather than .append) in the following line\u001b[39;00m\n\u001b[1;32m    824\u001b[0m     \u001b[38;5;28mself\u001b[39m\u001b[38;5;241m.\u001b[39m_jobs\u001b[38;5;241m.\u001b[39minsert(job_idx, job)\n",
      "File \u001b[0;32m/opt/anaconda3/lib/python3.9/site-packages/joblib/_parallel_backends.py:208\u001b[0m, in \u001b[0;36mSequentialBackend.apply_async\u001b[0;34m(self, func, callback)\u001b[0m\n\u001b[1;32m    206\u001b[0m \u001b[38;5;28;01mdef\u001b[39;00m \u001b[38;5;21mapply_async\u001b[39m(\u001b[38;5;28mself\u001b[39m, func, callback\u001b[38;5;241m=\u001b[39m\u001b[38;5;28;01mNone\u001b[39;00m):\n\u001b[1;32m    207\u001b[0m     \u001b[38;5;124;03m\"\"\"Schedule a func to be run\"\"\"\u001b[39;00m\n\u001b[0;32m--> 208\u001b[0m     result \u001b[38;5;241m=\u001b[39m \u001b[43mImmediateResult\u001b[49m\u001b[43m(\u001b[49m\u001b[43mfunc\u001b[49m\u001b[43m)\u001b[49m\n\u001b[1;32m    209\u001b[0m     \u001b[38;5;28;01mif\u001b[39;00m callback:\n\u001b[1;32m    210\u001b[0m         callback(result)\n",
      "File \u001b[0;32m/opt/anaconda3/lib/python3.9/site-packages/joblib/_parallel_backends.py:597\u001b[0m, in \u001b[0;36mImmediateResult.__init__\u001b[0;34m(self, batch)\u001b[0m\n\u001b[1;32m    594\u001b[0m \u001b[38;5;28;01mdef\u001b[39;00m \u001b[38;5;21m__init__\u001b[39m(\u001b[38;5;28mself\u001b[39m, batch):\n\u001b[1;32m    595\u001b[0m     \u001b[38;5;66;03m# Don't delay the application, to avoid keeping the input\u001b[39;00m\n\u001b[1;32m    596\u001b[0m     \u001b[38;5;66;03m# arguments in memory\u001b[39;00m\n\u001b[0;32m--> 597\u001b[0m     \u001b[38;5;28mself\u001b[39m\u001b[38;5;241m.\u001b[39mresults \u001b[38;5;241m=\u001b[39m \u001b[43mbatch\u001b[49m\u001b[43m(\u001b[49m\u001b[43m)\u001b[49m\n",
      "File \u001b[0;32m/opt/anaconda3/lib/python3.9/site-packages/joblib/parallel.py:288\u001b[0m, in \u001b[0;36mBatchedCalls.__call__\u001b[0;34m(self)\u001b[0m\n\u001b[1;32m    284\u001b[0m \u001b[38;5;28;01mdef\u001b[39;00m \u001b[38;5;21m__call__\u001b[39m(\u001b[38;5;28mself\u001b[39m):\n\u001b[1;32m    285\u001b[0m     \u001b[38;5;66;03m# Set the default nested backend to self._backend but do not set the\u001b[39;00m\n\u001b[1;32m    286\u001b[0m     \u001b[38;5;66;03m# change the default number of processes to -1\u001b[39;00m\n\u001b[1;32m    287\u001b[0m     \u001b[38;5;28;01mwith\u001b[39;00m parallel_backend(\u001b[38;5;28mself\u001b[39m\u001b[38;5;241m.\u001b[39m_backend, n_jobs\u001b[38;5;241m=\u001b[39m\u001b[38;5;28mself\u001b[39m\u001b[38;5;241m.\u001b[39m_n_jobs):\n\u001b[0;32m--> 288\u001b[0m         \u001b[38;5;28;01mreturn\u001b[39;00m [func(\u001b[38;5;241m*\u001b[39margs, \u001b[38;5;241m*\u001b[39m\u001b[38;5;241m*\u001b[39mkwargs)\n\u001b[1;32m    289\u001b[0m                 \u001b[38;5;28;01mfor\u001b[39;00m func, args, kwargs \u001b[38;5;129;01min\u001b[39;00m \u001b[38;5;28mself\u001b[39m\u001b[38;5;241m.\u001b[39mitems]\n",
      "File \u001b[0;32m/opt/anaconda3/lib/python3.9/site-packages/joblib/parallel.py:288\u001b[0m, in \u001b[0;36m<listcomp>\u001b[0;34m(.0)\u001b[0m\n\u001b[1;32m    284\u001b[0m \u001b[38;5;28;01mdef\u001b[39;00m \u001b[38;5;21m__call__\u001b[39m(\u001b[38;5;28mself\u001b[39m):\n\u001b[1;32m    285\u001b[0m     \u001b[38;5;66;03m# Set the default nested backend to self._backend but do not set the\u001b[39;00m\n\u001b[1;32m    286\u001b[0m     \u001b[38;5;66;03m# change the default number of processes to -1\u001b[39;00m\n\u001b[1;32m    287\u001b[0m     \u001b[38;5;28;01mwith\u001b[39;00m parallel_backend(\u001b[38;5;28mself\u001b[39m\u001b[38;5;241m.\u001b[39m_backend, n_jobs\u001b[38;5;241m=\u001b[39m\u001b[38;5;28mself\u001b[39m\u001b[38;5;241m.\u001b[39m_n_jobs):\n\u001b[0;32m--> 288\u001b[0m         \u001b[38;5;28;01mreturn\u001b[39;00m [\u001b[43mfunc\u001b[49m\u001b[43m(\u001b[49m\u001b[38;5;241;43m*\u001b[39;49m\u001b[43margs\u001b[49m\u001b[43m,\u001b[49m\u001b[43m \u001b[49m\u001b[38;5;241;43m*\u001b[39;49m\u001b[38;5;241;43m*\u001b[39;49m\u001b[43mkwargs\u001b[49m\u001b[43m)\u001b[49m\n\u001b[1;32m    289\u001b[0m                 \u001b[38;5;28;01mfor\u001b[39;00m func, args, kwargs \u001b[38;5;129;01min\u001b[39;00m \u001b[38;5;28mself\u001b[39m\u001b[38;5;241m.\u001b[39mitems]\n",
      "File \u001b[0;32m/opt/anaconda3/lib/python3.9/site-packages/sklearn/utils/fixes.py:216\u001b[0m, in \u001b[0;36m_FuncWrapper.__call__\u001b[0;34m(self, *args, **kwargs)\u001b[0m\n\u001b[1;32m    214\u001b[0m \u001b[38;5;28;01mdef\u001b[39;00m \u001b[38;5;21m__call__\u001b[39m(\u001b[38;5;28mself\u001b[39m, \u001b[38;5;241m*\u001b[39margs, \u001b[38;5;241m*\u001b[39m\u001b[38;5;241m*\u001b[39mkwargs):\n\u001b[1;32m    215\u001b[0m     \u001b[38;5;28;01mwith\u001b[39;00m config_context(\u001b[38;5;241m*\u001b[39m\u001b[38;5;241m*\u001b[39m\u001b[38;5;28mself\u001b[39m\u001b[38;5;241m.\u001b[39mconfig):\n\u001b[0;32m--> 216\u001b[0m         \u001b[38;5;28;01mreturn\u001b[39;00m \u001b[38;5;28;43mself\u001b[39;49m\u001b[38;5;241;43m.\u001b[39;49m\u001b[43mfunction\u001b[49m\u001b[43m(\u001b[49m\u001b[38;5;241;43m*\u001b[39;49m\u001b[43margs\u001b[49m\u001b[43m,\u001b[49m\u001b[43m \u001b[49m\u001b[38;5;241;43m*\u001b[39;49m\u001b[38;5;241;43m*\u001b[39;49m\u001b[43mkwargs\u001b[49m\u001b[43m)\u001b[49m\n",
      "File \u001b[0;32m/opt/anaconda3/lib/python3.9/site-packages/sklearn/neighbors/_base.py:600\u001b[0m, in \u001b[0;36m_tree_query_parallel_helper\u001b[0;34m(tree, *args, **kwargs)\u001b[0m\n\u001b[1;32m    594\u001b[0m \u001b[38;5;28;01mdef\u001b[39;00m \u001b[38;5;21m_tree_query_parallel_helper\u001b[39m(tree, \u001b[38;5;241m*\u001b[39margs, \u001b[38;5;241m*\u001b[39m\u001b[38;5;241m*\u001b[39mkwargs):\n\u001b[1;32m    595\u001b[0m     \u001b[38;5;124;03m\"\"\"Helper for the Parallel calls in KNeighborsMixin.kneighbors.\u001b[39;00m\n\u001b[1;32m    596\u001b[0m \n\u001b[1;32m    597\u001b[0m \u001b[38;5;124;03m    The Cython method tree.query is not directly picklable by cloudpickle\u001b[39;00m\n\u001b[1;32m    598\u001b[0m \u001b[38;5;124;03m    under PyPy.\u001b[39;00m\n\u001b[1;32m    599\u001b[0m \u001b[38;5;124;03m    \"\"\"\u001b[39;00m\n\u001b[0;32m--> 600\u001b[0m     \u001b[38;5;28;01mreturn\u001b[39;00m \u001b[43mtree\u001b[49m\u001b[38;5;241;43m.\u001b[39;49m\u001b[43mquery\u001b[49m\u001b[43m(\u001b[49m\u001b[38;5;241;43m*\u001b[39;49m\u001b[43margs\u001b[49m\u001b[43m,\u001b[49m\u001b[43m \u001b[49m\u001b[38;5;241;43m*\u001b[39;49m\u001b[38;5;241;43m*\u001b[39;49m\u001b[43mkwargs\u001b[49m\u001b[43m)\u001b[49m\n",
      "\u001b[0;31mKeyboardInterrupt\u001b[0m: "
     ]
    }
   ],
   "source": [
    "# Define the KNN classifier and the parameter grid for grid search\n",
    "knn = KNeighborsClassifier()\n",
    "\n",
    "# Define parameter grid distribution\n",
    "param_grid = {'n_neighbors': [100, 500, 1000],\n",
    "              'weights': ['uniform', 'distance'],'metric': ['euclidean', 'manhattan'],\n",
    "              'algorithm': ['auto', 'ball_tree']}\n",
    "\n",
    "# Perform grid search with cross-validation to find the best hyperparameters\n",
    "grid_search = GridSearchCV(knn, param_grid=param_grid, cv=3, scoring='accuracy')\n",
    "\n",
    "#grid_search.fit(X_train_knn_dr, y_train_resampled2)\n",
    "grid_search.fit(X_train_fselect, y_train_resampled)\n",
    "\n",
    "# Print best parameters and best score\n",
    "print(\"Best parameters: \", grid_search.best_params_)\n",
    "print(\"Best score: \", grid_search.best_score_)"
   ]
  },
  {
   "cell_type": "code",
   "execution_count": null,
   "id": "50e08206",
   "metadata": {
    "execution": {
     "iopub.execute_input": "2023-04-22T07:34:28.597024Z",
     "iopub.status.busy": "2023-04-22T07:34:28.596541Z",
     "iopub.status.idle": "2023-04-22T07:34:44.464251Z",
     "shell.execute_reply": "2023-04-22T07:34:44.462615Z"
    },
    "papermill": {
     "duration": 16.024045,
     "end_time": "2023-04-22T07:34:44.467679",
     "exception": false,
     "start_time": "2023-04-22T07:34:28.443634",
     "status": "completed"
    },
    "tags": []
   },
   "outputs": [],
   "source": [
    "# Make predictions on test set with best parameters\n",
    "best_knn = grid_search.best_estimator_\n",
    "y_pred = best_knn.predict(X_test_fselect)"
   ]
  },
  {
   "cell_type": "code",
   "execution_count": null,
   "id": "2ad59ee9",
   "metadata": {
    "execution": {
     "iopub.execute_input": "2023-04-22T07:34:44.766649Z",
     "iopub.status.busy": "2023-04-22T07:34:44.766192Z",
     "iopub.status.idle": "2023-04-22T07:36:17.738683Z",
     "shell.execute_reply": "2023-04-22T07:36:17.736319Z"
    },
    "papermill": {
     "duration": 93.292241,
     "end_time": "2023-04-22T07:36:17.908854",
     "exception": false,
     "start_time": "2023-04-22T07:34:44.616613",
     "status": "completed"
    },
    "tags": []
   },
   "outputs": [],
   "source": [
    "# Evaluate the model with cross-validation\n",
    "\n",
    "cv_scores = cross_val_score(best_knn, X_train_fselect, y_train_resampled, cv=3, scoring='accuracy')\n",
    "print(\"Cross-validation scores:\", cv_scores)\n",
    "print(\"Mean CV score:\", np.mean(cv_scores))"
   ]
  },
  {
   "cell_type": "code",
   "execution_count": null,
   "id": "f5e808e6",
   "metadata": {
    "execution": {
     "iopub.execute_input": "2023-04-22T07:36:18.233841Z",
     "iopub.status.busy": "2023-04-22T07:36:18.232620Z",
     "iopub.status.idle": "2023-04-22T07:36:34.286851Z",
     "shell.execute_reply": "2023-04-22T07:36:34.284962Z"
    },
    "papermill": {
     "duration": 16.226133,
     "end_time": "2023-04-22T07:36:34.290562",
     "exception": false,
     "start_time": "2023-04-22T07:36:18.064429",
     "status": "completed"
    },
    "tags": []
   },
   "outputs": [],
   "source": [
    "# # Make predictions on test set with best parameters\n",
    "# best_knn = grid_search.best_estimator_\n",
    "# y_pred = best_knn.predict(X_test_fselect)"
   ]
  },
  {
   "cell_type": "code",
   "execution_count": null,
   "id": "541f3256",
   "metadata": {
    "execution": {
     "iopub.execute_input": "2023-04-22T07:36:34.598572Z",
     "iopub.status.busy": "2023-04-22T07:36:34.597620Z",
     "iopub.status.idle": "2023-04-22T07:36:34.638428Z",
     "shell.execute_reply": "2023-04-22T07:36:34.636378Z"
    },
    "papermill": {
     "duration": 0.201359,
     "end_time": "2023-04-22T07:36:34.642252",
     "exception": false,
     "start_time": "2023-04-22T07:36:34.440893",
     "status": "completed"
    },
    "tags": []
   },
   "outputs": [],
   "source": [
    "# Calculate the confusion matrix and classification report\n",
    "cm = confusion_matrix(y_test, y_pred)\n",
    "class_report = classification_report(y_test, y_pred)\n",
    "# print(\"Confusion matrix:\\n\", conf_mat)\n",
    "print(\"Classification report:\\n\", class_report)"
   ]
  },
  {
   "cell_type": "code",
   "execution_count": null,
   "id": "44b55684",
   "metadata": {},
   "outputs": [],
   "source": [
    "# plot_confusion_matrix(cm=cm,classes=label_encoding.keys())\n",
    "plot_confusion_matrix(best_knn, X_test_fselect, y_test, cmap=plt.cm.Blues);"
   ]
  },
  {
   "cell_type": "code",
   "execution_count": null,
   "id": "0d695896",
   "metadata": {
    "execution": {
     "iopub.execute_input": "2023-04-22T07:36:37.983035Z",
     "iopub.status.busy": "2023-04-22T07:36:37.982018Z",
     "iopub.status.idle": "2023-04-22T07:36:38.008538Z",
     "shell.execute_reply": "2023-04-22T07:36:38.006150Z"
    },
    "papermill": {
     "duration": 0.186763,
     "end_time": "2023-04-22T07:36:38.012512",
     "exception": false,
     "start_time": "2023-04-22T07:36:37.825749",
     "status": "completed"
    },
    "tags": []
   },
   "outputs": [],
   "source": [
    "# Calculate the accuracy score\n",
    "accuracy = accuracy_score(y_test, y_pred)\n",
    "print(\"Accuracy:\", accuracy)\n",
    "\n",
    "precision = precision_score(y_test, y_pred,average='weighted')\n",
    "recall = recall_score(y_test, y_pred,average='weighted')\n",
    "\n",
    "print(\"Precision:\", precision)\n",
    "print(\"Recall:\", recall)"
   ]
  },
  {
   "cell_type": "markdown",
   "id": "70f8359e",
   "metadata": {},
   "source": [
    "Talk about the results and what does it show"
   ]
  },
  {
   "cell_type": "code",
   "execution_count": null,
   "id": "f515de99",
   "metadata": {
    "execution": {
     "iopub.execute_input": "2023-04-22T07:36:38.326264Z",
     "iopub.status.busy": "2023-04-22T07:36:38.325023Z",
     "iopub.status.idle": "2023-04-22T07:36:38.333803Z",
     "shell.execute_reply": "2023-04-22T07:36:38.332426Z"
    },
    "papermill": {
     "duration": 0.169339,
     "end_time": "2023-04-22T07:36:38.338060",
     "exception": false,
     "start_time": "2023-04-22T07:36:38.168721",
     "status": "completed"
    },
    "tags": []
   },
   "outputs": [],
   "source": [
    "# result in model data structure\n",
    "\n",
    "models['Model Name'].append('KNN MODEL')\n",
    "models['Accuracy'].append(accuracy)\n",
    "models['CV Score'].append(np.mean(cv_scores))\n",
    "models['Precision'].append(precision)\n",
    "models['Recall'].append(recall)"
   ]
  },
  {
   "cell_type": "markdown",
   "id": "55513108",
   "metadata": {
    "papermill": {
     "duration": 0.1521,
     "end_time": "2023-04-22T07:36:38.649016",
     "exception": false,
     "start_time": "2023-04-22T07:36:38.496916",
     "status": "completed"
    },
    "tags": []
   },
   "source": [
    "### Random Forests Model"
   ]
  },
  {
   "cell_type": "markdown",
   "id": "fb974642",
   "metadata": {},
   "source": [
    "We are going to try a Random Forest Modele now t osee if we cana get better results. Random forests aare generally better equipped to handle imbalanced datasets wiithout the need to undersample or creaate synthetic datapoints. Random forests model are also better ata handling larger datasets which can help with the amount of data that we have.\n",
    "\n",
    "We can set te class_weight parameter to balanced for the random forest to deal with the imabalanced dataset withouot loosing any original data to random sampling.\n",
    "\n",
    "We can also tune several different hyperparameters and use randomized search to see which ones would be the best to use.\n",
    "\n",
    "    1. n_estimators: Since we have such a large dataset, we will teest between 100-2000 to see what would be our optimizied option\n",
    "    \n",
    "    2. max_depth: We will test out different options to see how many branches the trees should make\n",
    "    \n",
    "    3. min_samples_split: We will check what is the minimum amount of splits that thee model needs to perform\n",
    "    \n",
    "    4. min_samples leaf: Whta is the minimum number of leafs that it needs to create for optimized performance"
   ]
  },
  {
   "cell_type": "code",
   "execution_count": null,
   "id": "adfcb038",
   "metadata": {
    "execution": {
     "iopub.execute_input": "2023-04-22T07:36:39.052688Z",
     "iopub.status.busy": "2023-04-22T07:36:39.051434Z",
     "iopub.status.idle": "2023-04-22T07:36:39.059108Z",
     "shell.execute_reply": "2023-04-22T07:36:39.057484Z"
    },
    "papermill": {
     "duration": 0.169269,
     "end_time": "2023-04-22T07:36:39.062391",
     "exception": false,
     "start_time": "2023-04-22T07:36:38.893122",
     "status": "completed"
    },
    "tags": []
   },
   "outputs": [],
   "source": [
    "from sklearn.model_selection import RandomizedSearchCV\n",
    "from sklearn.ensemble import RandomForestClassifier\n",
    "from sklearn.metrics import accuracy_score"
   ]
  },
  {
   "cell_type": "code",
   "execution_count": null,
   "id": "d4bf148c",
   "metadata": {
    "execution": {
     "iopub.execute_input": "2023-04-22T07:36:39.375676Z",
     "iopub.status.busy": "2023-04-22T07:36:39.375201Z",
     "iopub.status.idle": "2023-04-22T08:21:58.646351Z",
     "shell.execute_reply": "2023-04-22T08:21:58.644530Z"
    },
    "papermill": {
     "duration": 2719.594677,
     "end_time": "2023-04-22T08:21:58.810940",
     "exception": false,
     "start_time": "2023-04-22T07:36:39.216263",
     "status": "completed"
    },
    "tags": []
   },
   "outputs": [],
   "source": [
    "# Define Random Forest classifier with random state\n",
    "RFC = RandomForestClassifier(random_state=54)\n",
    "\n",
    "# Define parameter distribution\n",
    "param_dist = {'n_estimators': [100, 500, 1000],\n",
    "#               'max_samples_split': [2, 5, 10], 'max_samples_leaf': [1, 2, 4],\n",
    "              'max_depth': [None, 10, 20],\n",
    "              'min_samples_split': [2, 5, 10],class_weight=\"balanced\",\n",
    "              'min_samples_leaf': [1, 2, 4]}\n",
    "\n",
    "# Perform random search with cross validation\n",
    "random_search = RandomizedSearchCV(RFC, param_distributions=param_dist, cv=3, n_iter=50, random_state=42)\n",
    "random_search.fit(X_train_scaled_fselect, y_train)\n",
    "\n",
    "# Print best parameters and best score\n",
    "print(\"Best parameters: \", random_search.best_params_)\n",
    "print(\"Best score: \", random_search.best_score_)"
   ]
  },
  {
   "cell_type": "code",
   "execution_count": null,
   "id": "42d7f35c",
   "metadata": {
    "execution": {
     "iopub.execute_input": "2023-04-22T08:21:59.129197Z",
     "iopub.status.busy": "2023-04-22T08:21:59.127263Z",
     "iopub.status.idle": "2023-04-22T08:21:59.764113Z",
     "shell.execute_reply": "2023-04-22T08:21:59.761785Z"
    },
    "papermill": {
     "duration": 0.800191,
     "end_time": "2023-04-22T08:21:59.768175",
     "exception": false,
     "start_time": "2023-04-22T08:21:58.967984",
     "status": "completed"
    },
    "tags": []
   },
   "outputs": [],
   "source": [
    "# Make predictions on test set with best parameters\n",
    "best_rf = random_search.best_estimator_\n",
    "y_pred = best_rf.predict(X_test_scaled_fselect)"
   ]
  },
  {
   "cell_type": "code",
   "execution_count": null,
   "id": "95e10b7f",
   "metadata": {
    "execution": {
     "iopub.execute_input": "2023-04-22T08:22:00.078587Z",
     "iopub.status.busy": "2023-04-22T08:22:00.077055Z",
     "iopub.status.idle": "2023-04-22T08:23:43.939426Z",
     "shell.execute_reply": "2023-04-22T08:23:43.937707Z"
    },
    "papermill": {
     "duration": 104.2723,
     "end_time": "2023-04-22T08:23:44.192472",
     "exception": false,
     "start_time": "2023-04-22T08:21:59.920172",
     "status": "completed"
    },
    "tags": []
   },
   "outputs": [],
   "source": [
    "# Evaluate the model with cross-validation\n",
    "cv_scores = cross_val_score(best_rf, X_train_fselect, y_train_resampled, cv=5)\n",
    "print(\"Cross-validation scores:\", cv_scores)\n",
    "print(\"Mean CV score:\", np.mean(cv_scores))"
   ]
  },
  {
   "cell_type": "code",
   "execution_count": null,
   "id": "96fab2af",
   "metadata": {
    "execution": {
     "iopub.execute_input": "2023-04-22T08:23:44.504275Z",
     "iopub.status.busy": "2023-04-22T08:23:44.502815Z",
     "iopub.status.idle": "2023-04-22T08:23:44.545585Z",
     "shell.execute_reply": "2023-04-22T08:23:44.543667Z"
    },
    "papermill": {
     "duration": 0.201588,
     "end_time": "2023-04-22T08:23:44.548692",
     "exception": false,
     "start_time": "2023-04-22T08:23:44.347104",
     "status": "completed"
    },
    "tags": []
   },
   "outputs": [],
   "source": [
    "# Calculate the confusion matrix and classification report\n",
    "cm = confusion_matrix(y_test, y_pred)\n",
    "class_report = classification_report(y_test, y_pred)\n",
    "# print(\"Confusion matrix:\\n\", conf_mat)\n",
    "print(\"Classification report:\\n\", class_report)"
   ]
  },
  {
   "cell_type": "code",
   "execution_count": null,
   "id": "b77cc1cf",
   "metadata": {
    "execution": {
     "iopub.execute_input": "2023-04-22T08:23:44.865131Z",
     "iopub.status.busy": "2023-04-22T08:23:44.864479Z",
     "iopub.status.idle": "2023-04-22T08:23:47.558394Z",
     "shell.execute_reply": "2023-04-22T08:23:47.556242Z"
    },
    "papermill": {
     "duration": 2.857345,
     "end_time": "2023-04-22T08:23:47.562821",
     "exception": false,
     "start_time": "2023-04-22T08:23:44.705476",
     "status": "completed"
    },
    "tags": []
   },
   "outputs": [],
   "source": [
    "# plot_confusion_matrix(cm=cm,classes=label_encoding.keys())\n",
    "plot_confusion_matrix(best_rf, X_test_scaaled_fselect, y_test, cmap=plt.cm.Blues);"
   ]
  },
  {
   "cell_type": "code",
   "execution_count": null,
   "id": "7d32f042",
   "metadata": {
    "execution": {
     "iopub.execute_input": "2023-04-22T08:23:47.892340Z",
     "iopub.status.busy": "2023-04-22T08:23:47.891021Z",
     "iopub.status.idle": "2023-04-22T08:23:47.915490Z",
     "shell.execute_reply": "2023-04-22T08:23:47.914062Z"
    },
    "papermill": {
     "duration": 0.193154,
     "end_time": "2023-04-22T08:23:47.918639",
     "exception": false,
     "start_time": "2023-04-22T08:23:47.725485",
     "status": "completed"
    },
    "tags": []
   },
   "outputs": [],
   "source": [
    "# Calculate the accuracy score\n",
    "accuracy = accuracy_score(y_test, y_pred)\n",
    "print(\"Accuracy:\", accuracy)\n",
    "\n",
    "precision = precision_score(y_test, y_pred,average='weighted')\n",
    "recall = recall_score(y_test, y_pred,average='weighted')\n",
    "\n",
    "print(\"Precision:\", precision)\n",
    "print(\"Recall:\", recall)"
   ]
  },
  {
   "cell_type": "markdown",
   "id": "b6c233e4",
   "metadata": {},
   "source": [
    "Talk about model performance"
   ]
  },
  {
   "cell_type": "code",
   "execution_count": null,
   "id": "02868668",
   "metadata": {
    "execution": {
     "iopub.execute_input": "2023-04-22T08:23:48.243557Z",
     "iopub.status.busy": "2023-04-22T08:23:48.242055Z",
     "iopub.status.idle": "2023-04-22T08:23:48.250838Z",
     "shell.execute_reply": "2023-04-22T08:23:48.249668Z"
    },
    "papermill": {
     "duration": 0.176384,
     "end_time": "2023-04-22T08:23:48.253717",
     "exception": false,
     "start_time": "2023-04-22T08:23:48.077333",
     "status": "completed"
    },
    "tags": []
   },
   "outputs": [],
   "source": [
    "# result in model data structure\n",
    "\n",
    "models['Model Name'].append('Random Forest Classifier')\n",
    "models['Accuracy'].append(accuracy)\n",
    "models['CV Score'].append(np.mean(cv_scores))\n",
    "models['Precision'].append(precision)\n",
    "models['Recall'].append(recall)"
   ]
  },
  {
   "cell_type": "markdown",
   "id": "4f732006",
   "metadata": {
    "papermill": {
     "duration": 0.161676,
     "end_time": "2023-04-22T08:23:48.574993",
     "exception": false,
     "start_time": "2023-04-22T08:23:48.413317",
     "status": "completed"
    },
    "tags": []
   },
   "source": [
    "### XG Boost Model"
   ]
  },
  {
   "cell_type": "markdown",
   "id": "83b97cb6",
   "metadata": {},
   "source": [
    "We would want to try another model to see if we can improve performance. We will try XGBoost nex which is one of the most popular ensemble method. XGBoost (Extreme Gradient Boosting) and Random Forest are both ensemble learning algorithms used in machine learning for classification and regression tasks. There are a few pros of using XGBoost as compared to Random Forests. \n",
    "\n",
    "    1. Handling of non-linear data: XGBoost can handle non-linear relationships between the features and the target variable better than Random Forest. This is because XGBoost uses a gradient boosting approach that builds a sequence of weak models to improve the overall prediction accuracy. Each model tries to capture the remaining error of the previous models, allowing the model to learn complex non-linear patterns in the data.\n",
    "\n",
    "    2. Regularization: XGBoost uses regularization techniques such as L1, L2 regularization and dropout to prevent overfitting and improve the model's generalization ability. Random Forest, on the other hand, relies on bootstrapping and feature bagging to reduce overfitting.\n",
    "\n",
    "    3. Speed: XGBoost is often faster than Random Forest due to its implementation using parallel processing techniques and the use of efficient data structures such as Compressed Sparse Column (CSC) matrix.\n",
    "\n",
    "    4. Handling missing values: XGBoost can handle missing values in the data, whereas Random Forest cannot. XGBoost can learn how to use information from other variables to fill in missing data points, which can help improve the model's accuracy."
   ]
  },
  {
   "cell_type": "markdown",
   "id": "7d0d2070",
   "metadata": {},
   "source": [
    "We will also use gridsearch for hyperparameter tuning for 3 parameters. \n",
    "\n",
    "    1.n_estimators: Since oour dataset is significantly larger, we will use three different iterations, 500,1000,2500.\n",
    "    \n",
    "    2. learning rate: The learning rate, also known as the step size, controls the magnitude of the updates made to the model parameters at each step during the training process. The learning rate determines the extent to which the algorithm should rely on new information compared to the previous information while updating the model parameters.\n",
    "    \n",
    "    3. max_depth: We will try out 6, 9 and 11"
   ]
  },
  {
   "cell_type": "code",
   "execution_count": null,
   "id": "ccc1fd91",
   "metadata": {
    "execution": {
     "iopub.execute_input": "2023-04-22T08:24:03.791872Z",
     "iopub.status.busy": "2023-04-22T08:24:03.791348Z",
     "iopub.status.idle": "2023-04-22T12:57:22.444263Z",
     "shell.execute_reply": "2023-04-22T12:57:22.442645Z"
    },
    "papermill": {
     "duration": 16398.970885,
     "end_time": "2023-04-22T12:57:22.599963",
     "exception": false,
     "start_time": "2023-04-22T08:24:03.629078",
     "status": "completed"
    },
    "tags": []
   },
   "outputs": [],
   "source": [
    "from xgboost import XGBClassifier\n",
    "\n",
    "# Defing XG Boosting Classifier along with random state\n",
    "XG = XGBClassifier(random_state=54 , reg_alpha=0.1)\n",
    "\n",
    "# Define parameter grid\n",
    "param_grid = {'n_estimators': [100, 500, 1000],\n",
    "              'learning_rate': [0.3, 0.5, 1],\n",
    "              'max_depth': [6, 9, 15]}\n",
    "\n",
    "# Perform grid search\n",
    "grid_search = GridSearchCV(XG, param_grid, cv=3, scoring='accuracy')\n",
    "grid_search.fit(X_train_fselect, y_train_resampled)\n",
    "\n",
    "# Print best parameters and best score\n",
    "print(\"Best parameters: \", grid_search.best_params_)\n",
    "print(\"Best score: \", grid_search.best_score_)"
   ]
  },
  {
   "cell_type": "code",
   "execution_count": null,
   "id": "42e18c4f",
   "metadata": {
    "execution": {
     "iopub.execute_input": "2023-04-22T12:57:24.125821Z",
     "iopub.status.busy": "2023-04-22T12:57:24.125394Z",
     "iopub.status.idle": "2023-04-22T14:28:53.123942Z",
     "shell.execute_reply": "2023-04-22T14:28:53.122163Z"
    },
    "papermill": {
     "duration": 5489.313267,
     "end_time": "2023-04-22T14:28:53.285456",
     "exception": false,
     "start_time": "2023-04-22T12:57:23.972189",
     "status": "completed"
    },
    "tags": []
   },
   "outputs": [],
   "source": [
    "# Evaluate the model with cross-validation\n",
    "cv_scores = cross_val_score(best_xgb, X_train_fselect, y_train_resampled, cv=3)\n",
    "print(\"Cross-validation scores:\", cv_scores)\n",
    "print(\"Mean CV score:\", np.mean(cv_scores))"
   ]
  },
  {
   "cell_type": "code",
   "execution_count": null,
   "id": "4f4dcce3",
   "metadata": {
    "execution": {
     "iopub.execute_input": "2023-04-22T12:57:22.901897Z",
     "iopub.status.busy": "2023-04-22T12:57:22.901427Z",
     "iopub.status.idle": "2023-04-22T12:57:23.820742Z",
     "shell.execute_reply": "2023-04-22T12:57:23.819134Z"
    },
    "papermill": {
     "duration": 1.074379,
     "end_time": "2023-04-22T12:57:23.823982",
     "exception": false,
     "start_time": "2023-04-22T12:57:22.749603",
     "status": "completed"
    },
    "tags": []
   },
   "outputs": [],
   "source": [
    "# Make predictions on test set with best parameters\n",
    "best_xgb = grid_search.best_estimator_\n",
    "y_pred = best_xgb.predict(X_test_fselect)"
   ]
  },
  {
   "cell_type": "code",
   "execution_count": null,
   "id": "b499a9ae",
   "metadata": {
    "execution": {
     "iopub.execute_input": "2023-04-22T14:28:53.595490Z",
     "iopub.status.busy": "2023-04-22T14:28:53.594694Z",
     "iopub.status.idle": "2023-04-22T14:28:53.634140Z",
     "shell.execute_reply": "2023-04-22T14:28:53.632703Z"
    },
    "papermill": {
     "duration": 0.199816,
     "end_time": "2023-04-22T14:28:53.636797",
     "exception": false,
     "start_time": "2023-04-22T14:28:53.436981",
     "status": "completed"
    },
    "tags": []
   },
   "outputs": [],
   "source": [
    "# Calculate the confusion matrix and classification report\n",
    "cm = confusion_matrix(y_test, y_pred)\n",
    "class_report = classification_report(y_test, y_pred)\n",
    "# print(\"Confusion matrix:\\n\", conf_mat)\n",
    "print(\"Classification report:\\n\", class_report)"
   ]
  },
  {
   "cell_type": "code",
   "execution_count": null,
   "id": "3b4cabe0",
   "metadata": {
    "execution": {
     "iopub.execute_input": "2023-04-22T14:28:53.941996Z",
     "iopub.status.busy": "2023-04-22T14:28:53.941557Z",
     "iopub.status.idle": "2023-04-22T14:28:56.405488Z",
     "shell.execute_reply": "2023-04-22T14:28:56.404116Z"
    },
    "papermill": {
     "duration": 2.622964,
     "end_time": "2023-04-22T14:28:56.410228",
     "exception": false,
     "start_time": "2023-04-22T14:28:53.787264",
     "status": "completed"
    },
    "tags": []
   },
   "outputs": [],
   "source": [
    "# plot_confusion_matrix(cm=cm,classes=label_encoding.keys())\n",
    "plot_confusion_matrix(best_xgb, X_test_fselect, y_test, cmap=plt.cm.Blues);"
   ]
  },
  {
   "cell_type": "code",
   "execution_count": null,
   "id": "d72553dc",
   "metadata": {
    "execution": {
     "iopub.execute_input": "2023-04-22T14:28:56.730572Z",
     "iopub.status.busy": "2023-04-22T14:28:56.729834Z",
     "iopub.status.idle": "2023-04-22T14:28:56.751925Z",
     "shell.execute_reply": "2023-04-22T14:28:56.750569Z"
    },
    "papermill": {
     "duration": 0.183732,
     "end_time": "2023-04-22T14:28:56.754235",
     "exception": false,
     "start_time": "2023-04-22T14:28:56.570503",
     "status": "completed"
    },
    "tags": []
   },
   "outputs": [],
   "source": [
    "# Calculate the accuracy score\n",
    "accuracy = accuracy_score(y_test, y_pred)\n",
    "print(\"Accuracy:\", accuracy)\n",
    "\n",
    "precision = precision_score(y_test, y_pred,average='weighted')\n",
    "recall = recall_score(y_test, y_pred,average='weighted')\n",
    "\n",
    "print(\"Precision:\", precision)\n",
    "print(\"Recall:\", recall)"
   ]
  },
  {
   "cell_type": "markdown",
   "id": "68e9a879",
   "metadata": {},
   "source": [
    "Talk about model performance"
   ]
  },
  {
   "cell_type": "code",
   "execution_count": null,
   "id": "57abd589",
   "metadata": {
    "execution": {
     "iopub.execute_input": "2023-04-22T14:28:57.185311Z",
     "iopub.status.busy": "2023-04-22T14:28:57.184381Z",
     "iopub.status.idle": "2023-04-22T14:28:57.191969Z",
     "shell.execute_reply": "2023-04-22T14:28:57.190526Z"
    },
    "papermill": {
     "duration": 0.285663,
     "end_time": "2023-04-22T14:28:57.194693",
     "exception": false,
     "start_time": "2023-04-22T14:28:56.909030",
     "status": "completed"
    },
    "tags": []
   },
   "outputs": [],
   "source": [
    "# result in model data structure\n",
    "\n",
    "models['Model Name'].append('XG Booster Classifier')\n",
    "models['Accuracy'].append(accuracy)\n",
    "models['CV Score'].append(np.mean(cv_scores))\n",
    "models['Precision'].append(precision)\n",
    "models['Recall'].append(recall)"
   ]
  },
  {
   "cell_type": "markdown",
   "id": "3a15acc0",
   "metadata": {
    "papermill": {
     "duration": 0.159024,
     "end_time": "2023-04-22T14:28:57.511248",
     "exception": false,
     "start_time": "2023-04-22T14:28:57.352224",
     "status": "completed"
    },
    "tags": []
   },
   "source": [
    "### Models Comparison"
   ]
  },
  {
   "cell_type": "code",
   "execution_count": null,
   "id": "05a50463",
   "metadata": {
    "execution": {
     "iopub.execute_input": "2023-04-22T14:28:57.828100Z",
     "iopub.status.busy": "2023-04-22T14:28:57.827653Z",
     "iopub.status.idle": "2023-04-22T14:28:57.849010Z",
     "shell.execute_reply": "2023-04-22T14:28:57.847298Z"
    },
    "papermill": {
     "duration": 0.183488,
     "end_time": "2023-04-22T14:28:57.851564",
     "exception": false,
     "start_time": "2023-04-22T14:28:57.668076",
     "status": "completed"
    },
    "tags": []
   },
   "outputs": [],
   "source": [
    "# Creating Dataframe of Model Evaluation\n",
    "models = pd.DataFrame(models)\n",
    "\n",
    "# top model based on Accurary\n",
    "models.sort_values(by='Accuracy', ascending= False)"
   ]
  },
  {
   "cell_type": "code",
   "execution_count": null,
   "id": "f64b1a29",
   "metadata": {
    "execution": {
     "iopub.execute_input": "2023-04-22T14:28:58.166406Z",
     "iopub.status.busy": "2023-04-22T14:28:58.165945Z",
     "iopub.status.idle": "2023-04-22T14:28:58.181837Z",
     "shell.execute_reply": "2023-04-22T14:28:58.180374Z"
    },
    "papermill": {
     "duration": 0.178286,
     "end_time": "2023-04-22T14:28:58.184466",
     "exception": false,
     "start_time": "2023-04-22T14:28:58.006180",
     "status": "completed"
    },
    "tags": []
   },
   "outputs": [],
   "source": [
    "# top model based on CV Score\n",
    "models.sort_values(by='CV Score', ascending= False)"
   ]
  },
  {
   "cell_type": "code",
   "execution_count": null,
   "id": "a4438f09",
   "metadata": {
    "execution": {
     "iopub.execute_input": "2023-04-22T14:28:58.509934Z",
     "iopub.status.busy": "2023-04-22T14:28:58.509475Z",
     "iopub.status.idle": "2023-04-22T14:28:58.524804Z",
     "shell.execute_reply": "2023-04-22T14:28:58.523309Z"
    },
    "papermill": {
     "duration": 0.188465,
     "end_time": "2023-04-22T14:28:58.527655",
     "exception": false,
     "start_time": "2023-04-22T14:28:58.339190",
     "status": "completed"
    },
    "tags": []
   },
   "outputs": [],
   "source": [
    "# top model based on Recall Score\n",
    "models.sort_values(by='Recall', ascending= False)"
   ]
  },
  {
   "cell_type": "markdown",
   "id": "845941ca",
   "metadata": {
    "papermill": {
     "duration": 0.154145,
     "end_time": "2023-04-22T14:28:58.834477",
     "exception": false,
     "start_time": "2023-04-22T14:28:58.680332",
     "status": "completed"
    },
    "tags": []
   },
   "source": [
    "## Final Model Evlauation"
   ]
  },
  {
   "cell_type": "markdown",
   "id": "e098930d",
   "metadata": {},
   "source": [
    "We have looked at aa few different performaance metric but as wee taalked about eearalier, our main focus will be accuracy so thaata we know how accurate are predictions are."
   ]
  },
  {
   "cell_type": "code",
   "execution_count": null,
   "id": "704b3aaa",
   "metadata": {
    "execution": {
     "iopub.execute_input": "2023-04-22T14:28:59.145012Z",
     "iopub.status.busy": "2023-04-22T14:28:59.144424Z",
     "iopub.status.idle": "2023-04-22T14:28:59.158800Z",
     "shell.execute_reply": "2023-04-22T14:28:59.157296Z"
    },
    "papermill": {
     "duration": 0.173272,
     "end_time": "2023-04-22T14:28:59.161290",
     "exception": false,
     "start_time": "2023-04-22T14:28:58.988018",
     "status": "completed"
    },
    "tags": []
   },
   "outputs": [],
   "source": [
    "models.sort_values(by='Accuracy', ascending= False).head(1)"
   ]
  },
  {
   "cell_type": "markdown",
   "id": "521e71f8",
   "metadata": {},
   "source": [
    "Talk about the final model and why it is a good option"
   ]
  },
  {
   "cell_type": "markdown",
   "id": "46282a49",
   "metadata": {},
   "source": [
    "Lets predict the unable to determine dataset"
   ]
  },
  {
   "cell_type": "code",
   "execution_count": null,
   "id": "2f861b61",
   "metadata": {},
   "outputs": [],
   "source": [
    "unable_to_determine_preds = best_xgb.predict(Xu_fselect)"
   ]
  },
  {
   "cell_type": "code",
   "execution_count": null,
   "id": "8fc9362e",
   "metadata": {},
   "outputs": [],
   "source": [
    "unable_to_determine_preds.value_counts()"
   ]
  },
  {
   "cell_type": "markdown",
   "id": "f4b38437",
   "metadata": {},
   "source": [
    "Talk about these results"
   ]
  },
  {
   "cell_type": "markdown",
   "id": "340f4086",
   "metadata": {},
   "source": [
    "Also, looking at the features that showcased to play the largest imapct were the ones listed below."
   ]
  },
  {
   "cell_type": "code",
   "execution_count": null,
   "id": "020df962",
   "metadata": {},
   "outputs": [],
   "source": [
    "features_used"
   ]
  },
  {
   "cell_type": "markdown",
   "id": "2293c997",
   "metadata": {},
   "source": [
    "These features show that the following areas would be valuable areas for the DOT to work on towards Vision Zero"
   ]
  },
  {
   "cell_type": "markdown",
   "id": "3e14827a",
   "metadata": {},
   "source": [
    "Mention insights about the Top 10 features"
   ]
  },
  {
   "cell_type": "markdown",
   "id": "7b19384a",
   "metadata": {
    "papermill": {
     "duration": 0.155769,
     "end_time": "2023-04-22T14:28:59.475036",
     "exception": false,
     "start_time": "2023-04-22T14:28:59.319267",
     "status": "completed"
    },
    "tags": []
   },
   "source": [
    "## Recommendations"
   ]
  },
  {
   "cell_type": "markdown",
   "id": "a0556689",
   "metadata": {
    "papermill": {
     "duration": 0.153053,
     "end_time": "2023-04-22T14:28:59.782448",
     "exception": false,
     "start_time": "2023-04-22T14:28:59.629395",
     "status": "completed"
    },
    "tags": []
   },
   "source": [
    "Talk about whether the model is performing well or not"
   ]
  },
  {
   "cell_type": "markdown",
   "id": "6e99d395",
   "metadata": {
    "papermill": {
     "duration": 0.155521,
     "end_time": "2023-04-22T14:29:00.091331",
     "exception": false,
     "start_time": "2023-04-22T14:28:59.935810",
     "status": "completed"
    },
    "tags": []
   },
   "source": [
    "### Improvements"
   ]
  },
  {
   "cell_type": "markdown",
   "id": "b561307d",
   "metadata": {
    "papermill": {
     "duration": 0.15855,
     "end_time": "2023-04-22T14:29:00.408687",
     "exception": false,
     "start_time": "2023-04-22T14:29:00.250137",
     "status": "completed"
    },
    "tags": []
   },
   "source": [
    "    1. The model can be improved with higher granular datasets but will require higher computng resources\n",
    "    2. Random Sampling can be performed using centroidal methods\n",
    "    3. Use pipelines for faster performance\n",
    "    4. A few parameter searches reached maximum, try it more iterations with higher values\n",
    "    5. Rather than random search, try Grid Search"
   ]
  },
  {
   "cell_type": "markdown",
   "id": "63b6f09b",
   "metadata": {
    "papermill": {
     "duration": 0.156063,
     "end_time": "2023-04-22T14:29:00.721286",
     "exception": false,
     "start_time": "2023-04-22T14:29:00.565223",
     "status": "completed"
    },
    "tags": []
   },
   "source": [
    "### Next Steps"
   ]
  },
  {
   "cell_type": "markdown",
   "id": "53b49d9b",
   "metadata": {
    "papermill": {
     "duration": 0.156762,
     "end_time": "2023-04-22T14:29:01.034155",
     "exception": false,
     "start_time": "2023-04-22T14:29:00.877393",
     "status": "completed"
    },
    "tags": []
   },
   "source": [
    "Talk about either futher granular analysis and deriving insights for actionable steps"
   ]
  }
 ],
 "metadata": {
  "kernelspec": {
   "display_name": "Python 3 (ipykernel)",
   "language": "python",
   "name": "python3"
  },
  "language_info": {
   "codemirror_mode": {
    "name": "ipython",
    "version": 3
   },
   "file_extension": ".py",
   "mimetype": "text/x-python",
   "name": "python",
   "nbconvert_exporter": "python",
   "pygments_lexer": "ipython3",
   "version": "3.9.12"
  },
  "papermill": {
   "default_parameters": {},
   "duration": 25882.00979,
   "end_time": "2023-04-22T14:29:39.020062",
   "environment_variables": {},
   "exception": true,
   "input_path": "__notebook__.ipynb",
   "output_path": "__notebook__.ipynb",
   "parameters": {},
   "start_time": "2023-04-22T07:18:17.010272",
   "version": "2.4.0"
  }
 },
 "nbformat": 4,
 "nbformat_minor": 5
}
