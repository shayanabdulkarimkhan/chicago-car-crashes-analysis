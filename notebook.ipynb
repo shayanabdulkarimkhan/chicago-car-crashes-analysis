{
 "cells": [
  {
   "cell_type": "markdown",
   "id": "7b64d5e2",
   "metadata": {},
   "source": [
    "# Final Project Submission"
   ]
  },
  {
   "cell_type": "markdown",
   "id": "08b99ebb",
   "metadata": {},
   "source": [
    "* Student name: Shayan Abdul Karim Khan\n",
    "* Student pace: Self Paced\n",
    "* Scheduled project review date/time:\n",
    "* Instructor name: Abhineet Kulkarni"
   ]
  },
  {
   "cell_type": "markdown",
   "id": "96eac45f",
   "metadata": {},
   "source": [
    "## Problem Overview"
   ]
  },
  {
   "cell_type": "markdown",
   "id": "5feae27e",
   "metadata": {},
   "source": [
    "Each year more than 42,000 people are needlessly killed on American streets and thousands more are injured. We call this suffering traffic “accidents” — but, in reality, we have the power to prevent traffic collisions. To counter these fatalities and injuries, the Department of Transportations (DOTs) across the US are working towards a new vision for safety called \"Vision Zero\". \n",
    "\n",
    "Vision Zero recognizes that people will sometimes make mistakes, so the road system and related policies should be designed to ensure those inevitable mistakes do not result in severe injuries or fatalities. This means that system designers and policymakers are expected to improve the roadway environment, policies (such as speed management), and other related systems to lessen the severity of crashes by working with stakeholders ranging from auto manufacturers to policy makers.\n",
    "\n",
    "Similarly, the Chicago DOT wants to conduct a study to understand the underlying patterns for car accidents. The ask is to use the data available to predict the primary contributory cause of a car accident, given information about the car, the people in the car, the road conditions etc. "
   ]
  },
  {
   "cell_type": "markdown",
   "id": "dd298c17",
   "metadata": {},
   "source": [
    "## Business Questions"
   ]
  },
  {
   "cell_type": "markdown",
   "id": "2b8a2665",
   "metadata": {},
   "source": [
    "In its work towards Vision Zero, the Chicago DOT has the following questions:\n",
    "\n",
    "1. What are the common variables between the different classes of traffic accidents?\n",
    "<br>\n",
    "\n",
    "2. Is there a discernable pattern to the accidents?\n"
   ]
  },
  {
   "cell_type": "markdown",
   "id": "cf2e9c96",
   "metadata": {},
   "source": [
    "### Resolution Approach"
   ]
  },
  {
   "cell_type": "markdown",
   "id": "b96cf253",
   "metadata": {},
   "source": [
    "To help inform appropriate measures towards the movement to Vision Zero, aa classifier for predictions. The data will be assessed for recommendations on 4 different fronts:\n",
    "<br>\n",
    "\n",
    "1. Type of Vehicle: For example; Passenger Vehilce, Commercial Vehicle, etc.\n",
    "<br>\n",
    "\n",
    "2. Nature Effects: For example; Rainy, Snow, Windy, etc.\n",
    "<br>\n",
    "\n",
    "3. Infrasturcture Effects: For example, specific locaations, faulty equipment or bad road conditions.\n",
    "<br>\n",
    "\n",
    "4. Type of accidents: This is important to understand the cause behind it. For eexample; a DUI accident would have drastically different preventative measures as compared to a sober over-speeding accident\n",
    "<br>\n",
    "\n",
    "For prioritization purposes, it will also bee critical to understand what accidents resullted in fatalities or injuries and which didn't."
   ]
  },
  {
   "cell_type": "markdown",
   "id": "e34c7c2c",
   "metadata": {},
   "source": [
    "## Data Sources"
   ]
  },
  {
   "cell_type": "markdown",
   "id": "a0dff1e5",
   "metadata": {},
   "source": [
    "The data being used is from the Chicago Polic Department (CPD) and is provided oninee by the City of Chicago. The data is from 2015 to the present day. It is updated daily but the data being used as a part of this project is recent until 3rd February 2023. \n",
    "\n",
    "There are 3 datasets being used for analysis:\n",
    "\n",
    "1. Traffic crashes data summary: https://data.cityofchicago.org/Transportation/Traffic-Crashes-Crashes/85ca-t3ifhttps://data.cityofchicago.org/Transportation/Traffic-Crashes-Crashes/85ca-t3ifv \n",
    "<br>\n",
    "\n",
    "2. Vehicles information involved in a crash: https://data.cityofchicago.org/Transportation/Traffic-Crashes-Vehicles/68nd-jvt3 \n",
    "<br>\n",
    "\n",
    "3. People information involved in a crash: https://data.cityofchicago.org/Transportation/Traffic-Crashes-People/u6pd-qa9d "
   ]
  },
  {
   "cell_type": "markdown",
   "id": "738222b4",
   "metadata": {},
   "source": [
    "Considering that this is the official dataset of the City of Chicago regarding traffic crashes, it can be easilly concluded that it would be the most reliable dataset available. Using this dataset will also increase the confidence of the client on the results and recommendations of this project. "
   ]
  },
  {
   "cell_type": "markdown",
   "id": "95d7c7bd",
   "metadata": {},
   "source": [
    "## Data Understanding"
   ]
  },
  {
   "cell_type": "markdown",
   "id": "310157cf",
   "metadata": {},
   "source": [
    "This section will be exploratory to understand the different features of the data. All three datasets will be explored separately. Using the source documentation, data and the features will be interpreted and determinations will made about which features are relevant to target. Towards the end of exploring the data, avenues of analysis that can be used will also become clearer. As data is explored, any anomalies or issues require further cleaniing/processing will be identified and handled in the `Data Preparation` section.\n",
    "\n",
    "To start things off, lets import all the libraries and functions that will be used in this notebook."
   ]
  },
  {
   "cell_type": "code",
   "execution_count": 2,
   "id": "d859eb61",
   "metadata": {},
   "outputs": [],
   "source": [
    "import pandas as pd #imports the pandas library as pd to work on databases\n",
    "from sodapy import Socrata # for API integration\n",
    "import sqlite3 as sql # imports the sqlite3 library to leverage sql with pandas\n",
    "from pandasql import sqldf # imports pandas sql library\n",
    "from datetime import datetime # for datetime manipulation\n",
    "import matplotlib.pyplot as plt # importing matplotlib for visualizations \n",
    "%matplotlib inline \n",
    "import numpy as np # imports the numpy library\n",
    "import datetime as dt #import datetime module\n",
    "import seaborn as sns #import seaborn\n",
    "from collections import Counter #import Counter\n",
    "import statsmodels.api as sm #import stats models\n",
    "from statsmodels.stats.outliers_influence import variance_inflation_factor\n",
    "\n",
    "#import scikit library functions\n",
    "from sklearn.preprocessing import OneHotEncoder, StandardScaler \n",
    "from sklearn.datasets import make_regression\n",
    "from sklearn.linear_model import LinearRegression\n",
    "from sklearn.metrics import mean_squared_error\n",
    "from sklearn.model_selection import train_test_split, cross_validate, ShuffleSplit\n",
    "from sklearn.feature_selection import RFECV\n",
    "\n",
    "\n",
    "#import scipy libraries\n",
    "from scipy import stats as stats\n",
    "\n",
    "#import plotly\n",
    "import plotly.express as px\n",
    "import plotly.graph_objects as go"
   ]
  },
  {
   "cell_type": "markdown",
   "id": "61475ec6",
   "metadata": {},
   "source": [
    "### Traffic Crashes - Crashes"
   ]
  },
  {
   "cell_type": "markdown",
   "id": "68de8ab6",
   "metadata": {},
   "source": [
    "This is the summary data for all the crashes. Thee dataset was downloaded and stores in the `data` folder as `Traffic_Crashes-Crashes`. The overview of the contents of this data is aavailable below and at https://data.cityofchicago.org/Transportation/Traffic-Crashes-Crashes/85ca-t3if."
   ]
  },
  {
   "cell_type": "markdown",
   "id": "1309c5ea",
   "metadata": {},
   "source": [
    "Crash data shows information about each traffic crash on city streets within the City of Chicago limits and under the jurisdiction of Chicago Police Department (CPD). Data are shown as is from the electronic crash reporting system (E-Crash) at CPD, excluding any personally identifiable information. Records are added to the data portal when a crash report is finalized or when amendments are made to an existing report in E-Crash. Data from E-Crash are available for some police districts in 2015, but citywide data are not available until September 2017. About half of all crash reports, mostly minor crashes, are self-reported at the police district by the driver(s) involved and the other half are recorded at the scene by the police officer responding to the crash. Many of the crash parameters, including street condition data, weather condition, and posted speed limits, are recorded by the reporting officer based on best available information at the time, but many of these may disagree with posted information or other assessments on road conditions. If any new or updated information on a crash is received, the reporting officer may amend the crash report at a later time. A traffic crash within the city limits for which CPD is not the responding police agency, typically crashes on interstate highways, freeway ramps, and on local roads along the City boundary, are excluded from this dataset.\n",
    "\n",
    "As per Illinois statute, only crashes with a property damage value of $1,500 or more or involving bodily injury to any person(s) and that happen on a public roadway and that involve at least one moving vehicle, except bike dooring, are considered reportable crashes. However, CPD records every reported traffic crash event, regardless of the statute of limitations, and hence any formal Chicago crash dataset released by Illinois Department of Transportation may not include all the crashes listed here."
   ]
  },
  {
   "cell_type": "code",
   "execution_count": 3,
   "id": "c1dee640",
   "metadata": {},
   "outputs": [
    {
     "data": {
      "text/html": [
       "<div>\n",
       "<style scoped>\n",
       "    .dataframe tbody tr th:only-of-type {\n",
       "        vertical-align: middle;\n",
       "    }\n",
       "\n",
       "    .dataframe tbody tr th {\n",
       "        vertical-align: top;\n",
       "    }\n",
       "\n",
       "    .dataframe thead th {\n",
       "        text-align: right;\n",
       "    }\n",
       "</style>\n",
       "<table border=\"1\" class=\"dataframe\">\n",
       "  <thead>\n",
       "    <tr style=\"text-align: right;\">\n",
       "      <th></th>\n",
       "      <th>CRASH_RECORD_ID</th>\n",
       "      <th>RD_NO</th>\n",
       "      <th>CRASH_DATE_EST_I</th>\n",
       "      <th>CRASH_DATE</th>\n",
       "      <th>POSTED_SPEED_LIMIT</th>\n",
       "      <th>TRAFFIC_CONTROL_DEVICE</th>\n",
       "      <th>DEVICE_CONDITION</th>\n",
       "      <th>WEATHER_CONDITION</th>\n",
       "      <th>LIGHTING_CONDITION</th>\n",
       "      <th>FIRST_CRASH_TYPE</th>\n",
       "      <th>...</th>\n",
       "      <th>INJURIES_NON_INCAPACITATING</th>\n",
       "      <th>INJURIES_REPORTED_NOT_EVIDENT</th>\n",
       "      <th>INJURIES_NO_INDICATION</th>\n",
       "      <th>INJURIES_UNKNOWN</th>\n",
       "      <th>CRASH_HOUR</th>\n",
       "      <th>CRASH_DAY_OF_WEEK</th>\n",
       "      <th>CRASH_MONTH</th>\n",
       "      <th>LATITUDE</th>\n",
       "      <th>LONGITUDE</th>\n",
       "      <th>LOCATION</th>\n",
       "    </tr>\n",
       "  </thead>\n",
       "  <tbody>\n",
       "    <tr>\n",
       "      <th>0</th>\n",
       "      <td>79c7a2ce89f446262efd86df3d72d18b04ba487024b7c4...</td>\n",
       "      <td>JC199149</td>\n",
       "      <td>NaN</td>\n",
       "      <td>03/25/2019 02:43:00 PM</td>\n",
       "      <td>30</td>\n",
       "      <td>TRAFFIC SIGNAL</td>\n",
       "      <td>FUNCTIONING PROPERLY</td>\n",
       "      <td>CLEAR</td>\n",
       "      <td>DAYLIGHT</td>\n",
       "      <td>TURNING</td>\n",
       "      <td>...</td>\n",
       "      <td>0.0</td>\n",
       "      <td>1.0</td>\n",
       "      <td>2.0</td>\n",
       "      <td>0.0</td>\n",
       "      <td>14</td>\n",
       "      <td>2</td>\n",
       "      <td>3</td>\n",
       "      <td>41.884547</td>\n",
       "      <td>-87.641201</td>\n",
       "      <td>POINT (-87.64120093714 41.884547224337)</td>\n",
       "    </tr>\n",
       "    <tr>\n",
       "      <th>1</th>\n",
       "      <td>792b539deaaad65ee5b4a9691d927a34d298eb33d42af0...</td>\n",
       "      <td>JB422857</td>\n",
       "      <td>NaN</td>\n",
       "      <td>09/05/2018 08:40:00 AM</td>\n",
       "      <td>30</td>\n",
       "      <td>NO CONTROLS</td>\n",
       "      <td>NO CONTROLS</td>\n",
       "      <td>CLEAR</td>\n",
       "      <td>DAYLIGHT</td>\n",
       "      <td>ANGLE</td>\n",
       "      <td>...</td>\n",
       "      <td>0.0</td>\n",
       "      <td>0.0</td>\n",
       "      <td>2.0</td>\n",
       "      <td>0.0</td>\n",
       "      <td>8</td>\n",
       "      <td>4</td>\n",
       "      <td>9</td>\n",
       "      <td>41.968562</td>\n",
       "      <td>-87.740659</td>\n",
       "      <td>POINT (-87.740659314632 41.968562453871)</td>\n",
       "    </tr>\n",
       "    <tr>\n",
       "      <th>2</th>\n",
       "      <td>0115ade9a755e835255508463f7e9c4a9a0b47e9304238...</td>\n",
       "      <td>JF318029</td>\n",
       "      <td>NaN</td>\n",
       "      <td>07/15/2022 12:45:00 AM</td>\n",
       "      <td>30</td>\n",
       "      <td>UNKNOWN</td>\n",
       "      <td>UNKNOWN</td>\n",
       "      <td>CLEAR</td>\n",
       "      <td>DARKNESS, LIGHTED ROAD</td>\n",
       "      <td>ANGLE</td>\n",
       "      <td>...</td>\n",
       "      <td>0.0</td>\n",
       "      <td>0.0</td>\n",
       "      <td>2.0</td>\n",
       "      <td>0.0</td>\n",
       "      <td>0</td>\n",
       "      <td>6</td>\n",
       "      <td>7</td>\n",
       "      <td>41.886336</td>\n",
       "      <td>-87.716203</td>\n",
       "      <td>POINT (-87.716203130599 41.886336409761)</td>\n",
       "    </tr>\n",
       "    <tr>\n",
       "      <th>3</th>\n",
       "      <td>05b1982cdba5d8a00e7e76ad1ecdab0e598429f78481d2...</td>\n",
       "      <td>JF378711</td>\n",
       "      <td>NaN</td>\n",
       "      <td>08/29/2022 11:30:00 AM</td>\n",
       "      <td>30</td>\n",
       "      <td>TRAFFIC SIGNAL</td>\n",
       "      <td>FUNCTIONING PROPERLY</td>\n",
       "      <td>CLEAR</td>\n",
       "      <td>DAYLIGHT</td>\n",
       "      <td>REAR END</td>\n",
       "      <td>...</td>\n",
       "      <td>0.0</td>\n",
       "      <td>0.0</td>\n",
       "      <td>3.0</td>\n",
       "      <td>0.0</td>\n",
       "      <td>11</td>\n",
       "      <td>2</td>\n",
       "      <td>8</td>\n",
       "      <td>41.749348</td>\n",
       "      <td>-87.721097</td>\n",
       "      <td>POINT (-87.721096727406 41.749348170421)</td>\n",
       "    </tr>\n",
       "    <tr>\n",
       "      <th>4</th>\n",
       "      <td>017040c61958d2fa977c956b2bd2d6759ef7754496dc96...</td>\n",
       "      <td>JF324552</td>\n",
       "      <td>NaN</td>\n",
       "      <td>07/15/2022 06:50:00 PM</td>\n",
       "      <td>30</td>\n",
       "      <td>TRAFFIC SIGNAL</td>\n",
       "      <td>FUNCTIONING PROPERLY</td>\n",
       "      <td>CLEAR</td>\n",
       "      <td>DAYLIGHT</td>\n",
       "      <td>REAR END</td>\n",
       "      <td>...</td>\n",
       "      <td>0.0</td>\n",
       "      <td>0.0</td>\n",
       "      <td>2.0</td>\n",
       "      <td>0.0</td>\n",
       "      <td>18</td>\n",
       "      <td>6</td>\n",
       "      <td>7</td>\n",
       "      <td>41.925111</td>\n",
       "      <td>-87.667997</td>\n",
       "      <td>POINT (-87.667997321599 41.925110815832)</td>\n",
       "    </tr>\n",
       "  </tbody>\n",
       "</table>\n",
       "<p>5 rows × 49 columns</p>\n",
       "</div>"
      ],
      "text/plain": [
       "                                     CRASH_RECORD_ID     RD_NO  \\\n",
       "0  79c7a2ce89f446262efd86df3d72d18b04ba487024b7c4...  JC199149   \n",
       "1  792b539deaaad65ee5b4a9691d927a34d298eb33d42af0...  JB422857   \n",
       "2  0115ade9a755e835255508463f7e9c4a9a0b47e9304238...  JF318029   \n",
       "3  05b1982cdba5d8a00e7e76ad1ecdab0e598429f78481d2...  JF378711   \n",
       "4  017040c61958d2fa977c956b2bd2d6759ef7754496dc96...  JF324552   \n",
       "\n",
       "  CRASH_DATE_EST_I              CRASH_DATE  POSTED_SPEED_LIMIT  \\\n",
       "0              NaN  03/25/2019 02:43:00 PM                  30   \n",
       "1              NaN  09/05/2018 08:40:00 AM                  30   \n",
       "2              NaN  07/15/2022 12:45:00 AM                  30   \n",
       "3              NaN  08/29/2022 11:30:00 AM                  30   \n",
       "4              NaN  07/15/2022 06:50:00 PM                  30   \n",
       "\n",
       "  TRAFFIC_CONTROL_DEVICE      DEVICE_CONDITION WEATHER_CONDITION  \\\n",
       "0         TRAFFIC SIGNAL  FUNCTIONING PROPERLY             CLEAR   \n",
       "1            NO CONTROLS           NO CONTROLS             CLEAR   \n",
       "2                UNKNOWN               UNKNOWN             CLEAR   \n",
       "3         TRAFFIC SIGNAL  FUNCTIONING PROPERLY             CLEAR   \n",
       "4         TRAFFIC SIGNAL  FUNCTIONING PROPERLY             CLEAR   \n",
       "\n",
       "       LIGHTING_CONDITION FIRST_CRASH_TYPE  ... INJURIES_NON_INCAPACITATING  \\\n",
       "0                DAYLIGHT          TURNING  ...                         0.0   \n",
       "1                DAYLIGHT            ANGLE  ...                         0.0   \n",
       "2  DARKNESS, LIGHTED ROAD            ANGLE  ...                         0.0   \n",
       "3                DAYLIGHT         REAR END  ...                         0.0   \n",
       "4                DAYLIGHT         REAR END  ...                         0.0   \n",
       "\n",
       "   INJURIES_REPORTED_NOT_EVIDENT INJURIES_NO_INDICATION INJURIES_UNKNOWN  \\\n",
       "0                            1.0                    2.0              0.0   \n",
       "1                            0.0                    2.0              0.0   \n",
       "2                            0.0                    2.0              0.0   \n",
       "3                            0.0                    3.0              0.0   \n",
       "4                            0.0                    2.0              0.0   \n",
       "\n",
       "  CRASH_HOUR CRASH_DAY_OF_WEEK CRASH_MONTH   LATITUDE  LONGITUDE  \\\n",
       "0         14                 2           3  41.884547 -87.641201   \n",
       "1          8                 4           9  41.968562 -87.740659   \n",
       "2          0                 6           7  41.886336 -87.716203   \n",
       "3         11                 2           8  41.749348 -87.721097   \n",
       "4         18                 6           7  41.925111 -87.667997   \n",
       "\n",
       "                                   LOCATION  \n",
       "0   POINT (-87.64120093714 41.884547224337)  \n",
       "1  POINT (-87.740659314632 41.968562453871)  \n",
       "2  POINT (-87.716203130599 41.886336409761)  \n",
       "3  POINT (-87.721096727406 41.749348170421)  \n",
       "4  POINT (-87.667997321599 41.925110815832)  \n",
       "\n",
       "[5 rows x 49 columns]"
      ]
     },
     "execution_count": 3,
     "metadata": {},
     "output_type": "execute_result"
    }
   ],
   "source": [
    "#import the dataset using the API endpoint\n",
    "crashes_df = pd.read_csv('data/Traffic_Crashes-Crashes.csv')\n",
    "\n",
    "#preview thee first 5 rows\n",
    "crashes_df.head()"
   ]
  },
  {
   "cell_type": "code",
   "execution_count": 4,
   "id": "a11e7547",
   "metadata": {},
   "outputs": [
    {
     "name": "stdout",
     "output_type": "stream",
     "text": [
      "<class 'pandas.core.frame.DataFrame'>\n",
      "RangeIndex: 692784 entries, 0 to 692783\n",
      "Data columns (total 49 columns):\n",
      " #   Column                         Non-Null Count   Dtype  \n",
      "---  ------                         --------------   -----  \n",
      " 0   CRASH_RECORD_ID                692784 non-null  object \n",
      " 1   RD_NO                          688672 non-null  object \n",
      " 2   CRASH_DATE_EST_I               52531 non-null   object \n",
      " 3   CRASH_DATE                     692784 non-null  object \n",
      " 4   POSTED_SPEED_LIMIT             692784 non-null  int64  \n",
      " 5   TRAFFIC_CONTROL_DEVICE         692784 non-null  object \n",
      " 6   DEVICE_CONDITION               692784 non-null  object \n",
      " 7   WEATHER_CONDITION              692784 non-null  object \n",
      " 8   LIGHTING_CONDITION             692784 non-null  object \n",
      " 9   FIRST_CRASH_TYPE               692784 non-null  object \n",
      " 10  TRAFFICWAY_TYPE                692784 non-null  object \n",
      " 11  LANE_CNT                       198997 non-null  float64\n",
      " 12  ALIGNMENT                      692784 non-null  object \n",
      " 13  ROADWAY_SURFACE_COND           692784 non-null  object \n",
      " 14  ROAD_DEFECT                    692784 non-null  object \n",
      " 15  REPORT_TYPE                    673774 non-null  object \n",
      " 16  CRASH_TYPE                     692784 non-null  object \n",
      " 17  INTERSECTION_RELATED_I         158797 non-null  object \n",
      " 18  NOT_RIGHT_OF_WAY_I             32485 non-null   object \n",
      " 19  HIT_AND_RUN_I                  214969 non-null  object \n",
      " 20  DAMAGE                         692784 non-null  object \n",
      " 21  DATE_POLICE_NOTIFIED           692784 non-null  object \n",
      " 22  PRIM_CONTRIBUTORY_CAUSE        692784 non-null  object \n",
      " 23  SEC_CONTRIBUTORY_CAUSE         692784 non-null  object \n",
      " 24  STREET_NO                      692784 non-null  int64  \n",
      " 25  STREET_DIRECTION               692780 non-null  object \n",
      " 26  STREET_NAME                    692783 non-null  object \n",
      " 27  BEAT_OF_OCCURRENCE             692779 non-null  float64\n",
      " 28  PHOTOS_TAKEN_I                 8586 non-null    object \n",
      " 29  STATEMENTS_TAKEN_I             14493 non-null   object \n",
      " 30  DOORING_I                      2128 non-null    object \n",
      " 31  WORK_ZONE_I                    4046 non-null    object \n",
      " 32  WORK_ZONE_TYPE                 3170 non-null    object \n",
      " 33  WORKERS_PRESENT_I              1048 non-null    object \n",
      " 34  NUM_UNITS                      692784 non-null  int64  \n",
      " 35  MOST_SEVERE_INJURY             691281 non-null  object \n",
      " 36  INJURIES_TOTAL                 691292 non-null  float64\n",
      " 37  INJURIES_FATAL                 691292 non-null  float64\n",
      " 38  INJURIES_INCAPACITATING        691292 non-null  float64\n",
      " 39  INJURIES_NON_INCAPACITATING    691292 non-null  float64\n",
      " 40  INJURIES_REPORTED_NOT_EVIDENT  691292 non-null  float64\n",
      " 41  INJURIES_NO_INDICATION         691292 non-null  float64\n",
      " 42  INJURIES_UNKNOWN               691292 non-null  float64\n",
      " 43  CRASH_HOUR                     692784 non-null  int64  \n",
      " 44  CRASH_DAY_OF_WEEK              692784 non-null  int64  \n",
      " 45  CRASH_MONTH                    692784 non-null  int64  \n",
      " 46  LATITUDE                       688378 non-null  float64\n",
      " 47  LONGITUDE                      688378 non-null  float64\n",
      " 48  LOCATION                       688378 non-null  object \n",
      "dtypes: float64(11), int64(6), object(32)\n",
      "memory usage: 259.0+ MB\n"
     ]
    }
   ],
   "source": [
    "#Explore the info for all the features\n",
    "crashes_df.info()"
   ]
  },
  {
   "cell_type": "markdown",
   "id": "e8d1376b",
   "metadata": {},
   "source": [
    "There are a number of columns with missing values but they can also simply be categorical columns that don't apply to all records. The documentation on the columns available on https://data.cityofchicago.org/Transportation/Traffic-Crashes-Crashes/85ca-t3if can be used to explore the columns separately. The descriptions have also been listed below."
   ]
  },
  {
   "cell_type": "markdown",
   "id": "7997b4ef",
   "metadata": {},
   "source": [
    "1. `CRASH_RECORD_ID`: This number can be used to link to the same crash in the Vehicles and People datasets. This number also serves as a unique ID in this dataset. This will be important for joining the databases.\n",
    "<br>\n",
    "\n",
    "2. `RD_NO`: Chicago Police Department report number. For privacy reasons, this column is blank for recent crashes.\n",
    "This column can be ignored since this does not give us any insight into the causes of crashes. **DROP COLUMN**\n",
    "<br>\n",
    "\n",
    "3. `CRASH_DATE_EST_I`: Crash date estimated by desk officer or reporting party (only used in cases where crash is reported at police station days after the crash). This column can be ignored since there are missing values here. There is another column for Crash Dates but has no missing values. **DROP COLUMN**\n",
    "<br>\n",
    "\n",
    "4. `CRASH_DATE`: Date and time of crash as entered by the reporting officer. This gives us insight into if there are periods where there are more crashes than others. If there is a discernable pattern, appropriate preventative measures can be taken. The time and date will have to be separated out for individual analysis. Also the initial description of thee dataset mentions that 2018 onwards citywide E-craash daat aiss available. Therefore, the data will be filtered out accordingly. Also, the daata has to be changed to datetime versions for proper use.\n",
    "<br>\n",
    "\n",
    "5. `POSTED_SPEED_LIMIT`: Posted speed limit, as determined by reporting officer. This is the speed limit for the area where the crash happened. This coupled with the speed that the car was travelling at can help inform if the crash was at high speeds. Consequently, this can be a critical contirbutor in determining the cause of the crash.\n",
    "<br>\n",
    "\n",
    "6. `TRAFFIC_CONTROL_DEVICE`: Traffic control device present at crash location, as determined by reporting officer. It would be important to understand the contents of this column before making a decision on its use. "
   ]
  },
  {
   "cell_type": "code",
   "execution_count": 5,
   "id": "78864977",
   "metadata": {},
   "outputs": [
    {
     "data": {
      "text/plain": [
       "NO CONTROLS                 397249\n",
       "TRAFFIC SIGNAL              192000\n",
       "STOP SIGN/FLASHER            68792\n",
       "UNKNOWN                      24545\n",
       "OTHER                         4515\n",
       "LANE USE MARKING              1226\n",
       "YIELD                          977\n",
       "OTHER REG. SIGN                721\n",
       "OTHER WARNING SIGN             591\n",
       "RAILROAD CROSSING GATE         448\n",
       "PEDESTRIAN CROSSING SIGN       384\n",
       "DELINEATORS                    271\n",
       "SCHOOL ZONE                    263\n",
       "FLASHING CONTROL SIGNAL        248\n",
       "POLICE/FLAGMAN                 243\n",
       "OTHER RAILROAD CROSSING        159\n",
       "RR CROSSING SIGN                93\n",
       "NO PASSING                      40\n",
       "BICYCLE CROSSING SIGN           19\n",
       "Name: TRAFFIC_CONTROL_DEVICE, dtype: int64"
      ]
     },
     "execution_count": 5,
     "metadata": {},
     "output_type": "execute_result"
    }
   ],
   "source": [
    "#check unique values\n",
    "crashes_df['TRAFFIC_CONTROL_DEVICE'].value_counts()"
   ]
  },
  {
   "cell_type": "markdown",
   "id": "05bd7ee7",
   "metadata": {},
   "source": [
    "There are multiple categories but the `NO CONTROLS` category stands out with almost 50% share in the data for this column. The other categorieswould be location dependent signage. This data can be used to determine whether `NO CCONTROLS` plays a significantlt higher part in certain types of crashes. The data in this column can be grouped together to only two categories, `NO CONTROLS` and `CONTROLS`."
   ]
  },
  {
   "cell_type": "markdown",
   "id": "8ca101e3",
   "metadata": {},
   "source": [
    "7. `DEVICE_CONDITION`: Condition of traffic control device, as determined by reporting officer. This would be an important aspect to consider. Lets explore the contents of this column."
   ]
  },
  {
   "cell_type": "code",
   "execution_count": 6,
   "id": "05d42040",
   "metadata": {},
   "outputs": [
    {
     "data": {
      "text/plain": [
       "NO CONTROLS                 401903\n",
       "FUNCTIONING PROPERLY        238515\n",
       "UNKNOWN                      41164\n",
       "OTHER                         5347\n",
       "FUNCTIONING IMPROPERLY        3373\n",
       "NOT FUNCTIONING               2143\n",
       "WORN REFLECTIVE MATERIAL       258\n",
       "MISSING                         81\n",
       "Name: DEVICE_CONDITION, dtype: int64"
      ]
     },
     "execution_count": 6,
     "metadata": {},
     "output_type": "execute_result"
    }
   ],
   "source": [
    "#check unique values\n",
    "crashes_df['DEVICE_CONDITION'].value_counts()"
   ]
  },
  {
   "cell_type": "markdown",
   "id": "caf83506",
   "metadata": {},
   "source": [
    "Considering that this column also has a demarcated category of `NO CONTROLS` with categories highlighting whther there were any issues with the traffic control devices present, it would be more useful to use this column rather than using the `TRAFFIC_CONTROL_DEVICE` column. It is also clear that having no controls is the biggest contributor to traffic crashes but what kind of impact they have is something that has to be explored.\n",
    "\n",
    "Therefore, **DROP `TRAFFIC_CONTROL_DEVICE` COLUMN**"
   ]
  },
  {
   "cell_type": "markdown",
   "id": "9cf30be2",
   "metadata": {},
   "source": [
    "`WEATHER_CONDITION`: Weather condition at time of crash, as determined by reporting officer. This will definitely be a big factor in predicting the cause of crashes as well since the weather can play a big part in traffic accidents. Lets take a look at the contents of the column."
   ]
  },
  {
   "cell_type": "code",
   "execution_count": 7,
   "id": "976e26b7",
   "metadata": {},
   "outputs": [
    {
     "data": {
      "text/plain": [
       "CLEAR                       546474\n",
       "RAIN                         59674\n",
       "UNKNOWN                      34543\n",
       "SNOW                         25734\n",
       "CLOUDY/OVERCAST              20505\n",
       "OTHER                         2204\n",
       "FREEZING RAIN/DRIZZLE         1229\n",
       "FOG/SMOKE/HAZE                1031\n",
       "SLEET/HAIL                     881\n",
       "BLOWING SNOW                   367\n",
       "SEVERE CROSS WIND GATE         138\n",
       "BLOWING SAND, SOIL, DIRT         4\n",
       "Name: WEATHER_CONDITION, dtype: int64"
      ]
     },
     "execution_count": 7,
     "metadata": {},
     "output_type": "execute_result"
    }
   ],
   "source": [
    "#check unique values\n",
    "crashes_df['WEATHER_CONDITION'].value_counts()"
   ]
  },
  {
   "cell_type": "markdown",
   "id": "3228972c",
   "metadata": {},
   "source": [
    "The unkown data has to be dealt with in the **Data Preparation** section but all other data will be valuable to carry forward. It seems like the most car crashes take place in the clear weather while the worse the weather is the fewer car crashes there are. This might be becausee people naturally are more carefull during bad weather. Nonetheless this has to be inveestigated more to see whether inclement weather accidents are more serious or impact specific types of vehicles. It can also be that there are less vehicles on the road during inclement weather therefore while the numbers might be low, the ratio of cars on the road and number of accidents might be high."
   ]
  },
  {
   "cell_type": "markdown",
   "id": "43dc7e3d",
   "metadata": {},
   "source": [
    "`LIGHTING_CONDITION`: Light condition at time of crash, as determined by reporting office. This is also another big factor. Theoretically, bad lighting conditions can play a big part in car crashes. This column can prove to be critial. Lets invvestigate it to understand the contents."
   ]
  },
  {
   "cell_type": "code",
   "execution_count": 8,
   "id": "90924f9e",
   "metadata": {
    "scrolled": true
   },
   "outputs": [
    {
     "data": {
      "text/plain": [
       "DAYLIGHT                  445517\n",
       "DARKNESS, LIGHTED ROAD    153269\n",
       "DARKNESS                   33364\n",
       "UNKNOWN                    28678\n",
       "DUSK                       20317\n",
       "DAWN                       11639\n",
       "Name: LIGHTING_CONDITION, dtype: int64"
      ]
     },
     "execution_count": 8,
     "metadata": {},
     "output_type": "execute_result"
    }
   ],
   "source": [
    "#check unique values\n",
    "crashes_df['LIGHTING_CONDITION'].value_counts()"
   ]
  },
  {
   "cell_type": "code",
   "execution_count": 9,
   "id": "bd3e1b9a",
   "metadata": {},
   "outputs": [
    {
     "data": {
      "text/plain": [
       "DAYLIGHT                  0.643082\n",
       "DARKNESS, LIGHTED ROAD    0.221236\n",
       "DARKNESS                  0.048159\n",
       "UNKNOWN                   0.041395\n",
       "DUSK                      0.029327\n",
       "DAWN                      0.016800\n",
       "Name: LIGHTING_CONDITION, dtype: float64"
      ]
     },
     "execution_count": 9,
     "metadata": {},
     "output_type": "execute_result"
    }
   ],
   "source": [
    "crashes_df['LIGHTING_CONDITION'].value_counts(normalize=True)"
   ]
  },
  {
   "cell_type": "markdown",
   "id": "90c2ecaa",
   "metadata": {},
   "source": [
    "Similar to the weather conditions data, it looks like the best lighting condition has the most accidents. This can be either be because peoplee are generally more careful when there's less light or that there are fewer cars on the road therefore fewer accidents. Regardless, considering that almost 91% of crashes occured in either Daylight, Lighted roads, or unknown, means that this data will not be able to help us greatlly distinguish patterns in the causes of the crashes.\n",
    "\n",
    "**DROP LIGHTING_CONDITION COLUMN**"
   ]
  },
  {
   "cell_type": "markdown",
   "id": "8989ee33",
   "metadata": {},
   "source": [
    "`ROAD_DEFECT`: Road defects, as determined by reporting officer. This might be important. Lets take a look at the data first."
   ]
  },
  {
   "cell_type": "code",
   "execution_count": 10,
   "id": "9ca48d04",
   "metadata": {},
   "outputs": [
    {
     "data": {
      "text/plain": [
       "NO DEFECTS           565943\n",
       "UNKNOWN              112665\n",
       "RUT, HOLES             5561\n",
       "OTHER                  3858\n",
       "WORN SURFACE           2859\n",
       "SHOULDER DEFECT        1350\n",
       "DEBRIS ON ROADWAY       548\n",
       "Name: ROAD_DEFECT, dtype: int64"
      ]
     },
     "execution_count": 10,
     "metadata": {},
     "output_type": "execute_result"
    }
   ],
   "source": [
    "#check unique values\n",
    "crashes_df['ROAD_DEFECT'].value_counts()"
   ]
  },
  {
   "cell_type": "code",
   "execution_count": 11,
   "id": "4f1df2a6",
   "metadata": {},
   "outputs": [
    {
     "data": {
      "text/plain": [
       "NO DEFECTS           0.816911\n",
       "UNKNOWN              0.162626\n",
       "RUT, HOLES           0.008027\n",
       "OTHER                0.005569\n",
       "WORN SURFACE         0.004127\n",
       "SHOULDER DEFECT      0.001949\n",
       "DEBRIS ON ROADWAY    0.000791\n",
       "Name: ROAD_DEFECT, dtype: float64"
      ]
     },
     "execution_count": 11,
     "metadata": {},
     "output_type": "execute_result"
    }
   ],
   "source": [
    "#check the ratios\n",
    "crashes_df['ROAD_DEFECT'].value_counts(normalize=True)"
   ]
  },
  {
   "cell_type": "markdown",
   "id": "342f0ecf",
   "metadata": {},
   "source": [
    "Almost 97% of the crashes occured in NO DEFECTS or UNKOWN zones which means that this data will not help in any significant way. \n",
    "\n",
    "**DROP ROAD_DEFECT COLUMN**"
   ]
  },
  {
   "cell_type": "markdown",
   "id": "cb15bb87",
   "metadata": {},
   "source": [
    "`REPORT_TYPE`: Administrative report type (at scene, at desk, amended). This column can be ignored for the purposes of this analysis.\n",
    "\n",
    "**DROP REPORT_TYPE COLUMN**"
   ]
  },
  {
   "cell_type": "markdown",
   "id": "bf123116",
   "metadata": {},
   "source": [
    "`CRASH_TYPE`: A general severity classification for the crash. Can be either Injury and/or Tow Due to Crash or No Injury / Drive Away. This data will be used to filter on crashes that had injuries or fatalities. While the eventual goal is to have no crashes, the goal of this analysis is to support work towards Vision Zero which focuses on fatalities and injuries. Lets investigate the contents if this column before movving on."
   ]
  },
  {
   "cell_type": "code",
   "execution_count": 12,
   "id": "5e856d2b",
   "metadata": {},
   "outputs": [
    {
     "data": {
      "text/plain": [
       "NO INJURY / DRIVE AWAY              510406\n",
       "INJURY AND / OR TOW DUE TO CRASH    182378\n",
       "Name: CRASH_TYPE, dtype: int64"
      ]
     },
     "execution_count": 12,
     "metadata": {},
     "output_type": "execute_result"
    }
   ],
   "source": [
    "#check unique values\n",
    "crashes_df['CRASH_TYPE'].value_counts()"
   ]
  },
  {
   "cell_type": "markdown",
   "id": "b336051d",
   "metadata": {},
   "source": [
    "With only 18,000 records, out data size will be significantly reduced but helps us focus on the main problem."
   ]
  },
  {
   "cell_type": "markdown",
   "id": "871386f2",
   "metadata": {},
   "source": [
    "`INTERSECTION_RELATED_I`: A field observation by the police officer whether an intersection played a role in the crash. Does not represent whether or not the crash occurred within the intersection. \n",
    "Lets investigate the contents of this column."
   ]
  },
  {
   "cell_type": "code",
   "execution_count": 13,
   "id": "c78000e9",
   "metadata": {},
   "outputs": [
    {
     "data": {
      "text/plain": [
       "Y    151396\n",
       "N      7401\n",
       "Name: INTERSECTION_RELATED_I, dtype: int64"
      ]
     },
     "execution_count": 13,
     "metadata": {},
     "output_type": "execute_result"
    }
   ],
   "source": [
    "#check unique values\n",
    "crashes_df['INTERSECTION_RELATED_I'].value_counts()"
   ]
  },
  {
   "cell_type": "markdown",
   "id": "fe0f03b1",
   "metadata": {},
   "source": [
    "This column has several missing values that we can't replace and dropping those records would be detrimeental to the dataset. Therefore this column can be ignored.\n",
    "\n",
    "**DROP INTERSECTION_RELATED_I COLUMN**"
   ]
  },
  {
   "cell_type": "markdown",
   "id": "c31ff6dd",
   "metadata": {},
   "source": [
    "`NOT_RIGHT_OF_WAY_I`: Whether the crash begun or first contact was made outside of the public right-of-way. This column also has almost 50% of its values missing. Also, this gives us insight into the circumstances around a crash but not significant insight into the cause of a crash. \n",
    "\n",
    "**DROP NOT_RIGHT_OF_WAY_I COLUMN**"
   ]
  },
  {
   "cell_type": "markdown",
   "id": "8027bf21",
   "metadata": {},
   "source": [
    "`HIT_AND_RUN_I`: Crash did/did not involve a driver who caused the crash and fled the scene without exchanging information and/or rendering aid. This gives us inight into the aftermaths of the crash but no significant insight into the cause of it.\n",
    "\n",
    "**DROP HIT_AND_RUN_I COLUMN**"
   ]
  },
  {
   "cell_type": "markdown",
   "id": "2ded7b4b",
   "metadata": {},
   "source": [
    "`DAMAGE`: A field observation of estimated damage. Similar to the previous two, this doesn't provide insight into the causes of the crash. \n",
    "\n",
    "**DROP DAMAGE COLUMN**"
   ]
  },
  {
   "cell_type": "markdown",
   "id": "0e5e3f80",
   "metadata": {},
   "source": [
    "`DATE_POLICE_NOTIFIED`: Calendar date on which police were notified of the crash. Similarly, this doesn't provide any insight into the causes of the crash.\n",
    "\n",
    "**DROP DATE_POLICE_NOTIFIED COLUMN**"
   ]
  },
  {
   "cell_type": "markdown",
   "id": "c0c3a1e2",
   "metadata": {},
   "source": [
    "`PRIM_CONTRIBUTORY_CAUSE`: The factor which was most significant in causing the crash, as determined by officer judgment. This will be the target column that will be used. Lets investigate the contents of this column."
   ]
  },
  {
   "cell_type": "code",
   "execution_count": 14,
   "id": "f06a9fd6",
   "metadata": {},
   "outputs": [
    {
     "data": {
      "text/plain": [
       "UNABLE TO DETERMINE                                                                 266260\n",
       "FAILING TO YIELD RIGHT-OF-WAY                                                        75716\n",
       "FOLLOWING TOO CLOSELY                                                                69035\n",
       "NOT APPLICABLE                                                                       36421\n",
       "IMPROPER OVERTAKING/PASSING                                                          33504\n",
       "FAILING TO REDUCE SPEED TO AVOID CRASH                                               29613\n",
       "IMPROPER BACKING                                                                     28228\n",
       "IMPROPER LANE USAGE                                                                  25526\n",
       "IMPROPER TURNING/NO SIGNAL                                                           22879\n",
       "DRIVING SKILLS/KNOWLEDGE/EXPERIENCE                                                  22419\n",
       "DISREGARDING TRAFFIC SIGNALS                                                         13383\n",
       "WEATHER                                                                              11029\n",
       "OPERATING VEHICLE IN ERRATIC, RECKLESS, CARELESS, NEGLIGENT OR AGGRESSIVE MANNER      8804\n",
       "DISREGARDING STOP SIGN                                                                7705\n",
       "DISTRACTION - FROM INSIDE VEHICLE                                                     4829\n",
       "EQUIPMENT - VEHICLE CONDITION                                                         4415\n",
       "PHYSICAL CONDITION OF DRIVER                                                          4221\n",
       "VISION OBSCURED (SIGNS, TREE LIMBS, BUILDINGS, ETC.)                                  3977\n",
       "DRIVING ON WRONG SIDE/WRONG WAY                                                       3580\n",
       "UNDER THE INFLUENCE OF ALCOHOL/DRUGS (USE WHEN ARREST IS EFFECTED)                    3418\n",
       "DISTRACTION - FROM OUTSIDE VEHICLE                                                    2959\n",
       "EXCEEDING AUTHORIZED SPEED LIMIT                                                      1982\n",
       "ROAD ENGINEERING/SURFACE/MARKING DEFECTS                                              1795\n",
       "EXCEEDING SAFE SPEED FOR CONDITIONS                                                   1684\n",
       "ROAD CONSTRUCTION/MAINTENANCE                                                         1548\n",
       "DISREGARDING OTHER TRAFFIC SIGNS                                                      1509\n",
       "EVASIVE ACTION DUE TO ANIMAL, OBJECT, NONMOTORIST                                     1305\n",
       "CELL PHONE USE OTHER THAN TEXTING                                                      944\n",
       "DISREGARDING ROAD MARKINGS                                                             891\n",
       "HAD BEEN DRINKING (USE WHEN ARREST IS NOT MADE)                                        748\n",
       "ANIMAL                                                                                 577\n",
       "TURNING RIGHT ON RED                                                                   485\n",
       "DISTRACTION - OTHER ELECTRONIC DEVICE (NAVIGATION DEVICE, DVD PLAYER, ETC.)            327\n",
       "RELATED TO BUS STOP                                                                    291\n",
       "TEXTING                                                                                282\n",
       "DISREGARDING YIELD SIGN                                                                247\n",
       "PASSING STOPPED SCHOOL BUS                                                              87\n",
       "BICYCLE ADVANCING LEGALLY ON RED LIGHT                                                  76\n",
       "OBSTRUCTED CROSSWALKS                                                                   65\n",
       "MOTORCYCLE ADVANCING LEGALLY ON RED LIGHT                                               20\n",
       "Name: PRIM_CONTRIBUTORY_CAUSE, dtype: int64"
      ]
     },
     "execution_count": 14,
     "metadata": {},
     "output_type": "execute_result"
    }
   ],
   "source": [
    "#check unique values\n",
    "crashes_df['PRIM_CONTRIBUTORY_CAUSE'].value_counts()"
   ]
  },
  {
   "cell_type": "markdown",
   "id": "79773ca8",
   "metadata": {},
   "source": [
    "While there are a lot of categories, there seem to be several overlapping ones which we can group later on during the Data Preparation phase."
   ]
  },
  {
   "cell_type": "markdown",
   "id": "8dd1f367",
   "metadata": {},
   "source": [
    "`SEC_CONTRIBUTORY_CAUSE`: The factor which was second most significant in causing the crash, as determined by officer judgment. Similar to the previous one, this will be an important column in analysis."
   ]
  },
  {
   "cell_type": "code",
   "execution_count": 15,
   "id": "16c946d0",
   "metadata": {},
   "outputs": [
    {
     "data": {
      "text/plain": [
       "NOT APPLICABLE                                                                      282372\n",
       "UNABLE TO DETERMINE                                                                 251338\n",
       "FAILING TO REDUCE SPEED TO AVOID CRASH                                               26909\n",
       "DRIVING SKILLS/KNOWLEDGE/EXPERIENCE                                                  21221\n",
       "FAILING TO YIELD RIGHT-OF-WAY                                                        21098\n",
       "FOLLOWING TOO CLOSELY                                                                18283\n",
       "IMPROPER OVERTAKING/PASSING                                                          10318\n",
       "IMPROPER LANE USAGE                                                                   9863\n",
       "WEATHER                                                                               8260\n",
       "IMPROPER TURNING/NO SIGNAL                                                            6921\n",
       "IMPROPER BACKING                                                                      5666\n",
       "OPERATING VEHICLE IN ERRATIC, RECKLESS, CARELESS, NEGLIGENT OR AGGRESSIVE MANNER      4457\n",
       "DISREGARDING TRAFFIC SIGNALS                                                          2749\n",
       "VISION OBSCURED (SIGNS, TREE LIMBS, BUILDINGS, ETC.)                                  2245\n",
       "PHYSICAL CONDITION OF DRIVER                                                          2178\n",
       "DISTRACTION - FROM INSIDE VEHICLE                                                     2135\n",
       "DISREGARDING STOP SIGN                                                                2061\n",
       "EXCEEDING AUTHORIZED SPEED LIMIT                                                      1473\n",
       "EXCEEDING SAFE SPEED FOR CONDITIONS                                                   1438\n",
       "EQUIPMENT - VEHICLE CONDITION                                                         1405\n",
       "DRIVING ON WRONG SIDE/WRONG WAY                                                       1369\n",
       "DISTRACTION - FROM OUTSIDE VEHICLE                                                    1190\n",
       "UNDER THE INFLUENCE OF ALCOHOL/DRUGS (USE WHEN ARREST IS EFFECTED)                    1165\n",
       "HAD BEEN DRINKING (USE WHEN ARREST IS NOT MADE)                                        895\n",
       "ROAD CONSTRUCTION/MAINTENANCE                                                          837\n",
       "DISREGARDING ROAD MARKINGS                                                             729\n",
       "DISREGARDING OTHER TRAFFIC SIGNS                                                       724\n",
       "ROAD ENGINEERING/SURFACE/MARKING DEFECTS                                               717\n",
       "CELL PHONE USE OTHER THAN TEXTING                                                      530\n",
       "EVASIVE ACTION DUE TO ANIMAL, OBJECT, NONMOTORIST                                      384\n",
       "ANIMAL                                                                                 331\n",
       "RELATED TO BUS STOP                                                                    307\n",
       "TURNING RIGHT ON RED                                                                   254\n",
       "BICYCLE ADVANCING LEGALLY ON RED LIGHT                                                 224\n",
       "DISTRACTION - OTHER ELECTRONIC DEVICE (NAVIGATION DEVICE, DVD PLAYER, ETC.)            214\n",
       "DISREGARDING YIELD SIGN                                                                183\n",
       "TEXTING                                                                                129\n",
       "PASSING STOPPED SCHOOL BUS                                                              86\n",
       "OBSTRUCTED CROSSWALKS                                                                   71\n",
       "MOTORCYCLE ADVANCING LEGALLY ON RED LIGHT                                               55\n",
       "Name: SEC_CONTRIBUTORY_CAUSE, dtype: int64"
      ]
     },
     "execution_count": 15,
     "metadata": {},
     "output_type": "execute_result"
    }
   ],
   "source": [
    "#check unique values\n",
    "crashes_df['SEC_CONTRIBUTORY_CAUSE'].value_counts()"
   ]
  },
  {
   "cell_type": "markdown",
   "id": "22a7c193",
   "metadata": {},
   "source": [
    "While there are a lot of categories, there seem to be several overlapping ones which we can group later on during the Data Preparation phase."
   ]
  },
  {
   "cell_type": "markdown",
   "id": "acf6027a",
   "metadata": {},
   "source": [
    "`STREET_NO`: Street address number of crash location, as determined by reporting officer. While this is a valuable data point, there are latitude and longtitude data points which can proove to be more useful.\n",
    "\n",
    "**DROP STREET_NO COLUMN**"
   ]
  },
  {
   "cell_type": "markdown",
   "id": "a740f4a8",
   "metadata": {},
   "source": [
    "Similarly, `STREET_DIRECTION`, `STREET_NAME`, and `BEAT_OF_OCCURRENCE` can be **DROPPED**."
   ]
  },
  {
   "cell_type": "markdown",
   "id": "f0ee82fa",
   "metadata": {},
   "source": [
    "Also `PHOTOS_TAKEN_I` and `STATEMENTS_TAKEN_I` are relevant to the police investigation records but not for the purposes of this notebook's analysis. Therefore they can be **DROPPED**"
   ]
  },
  {
   "cell_type": "markdown",
   "id": "923af563",
   "metadata": {},
   "source": [
    "`WORK_ZONE_I`, `WORK_ZONE_TYPE`, and `WORKERS_PRESENT_I` are important columns to caarry forward. Usually these aree critical areas where speed limits are significantly reduced and there is a lot of worker traffic during shift hours. These can be very sensitive areas that can be significant towards attaining Vision Zero therefore it will be interesting to see their contribution towards crashes. \n",
    "\n",
    "Nonetheless we can drop the `WORK_ZONE_TYPE` column since the granularity of the analysis isn't specifically based on work zone type crashes. If aa significant correlation is found, then this area can be further investigated in future analysis."
   ]
  },
  {
   "cell_type": "markdown",
   "id": "a5c3cbeb",
   "metadata": {},
   "source": [
    "`NUM_UNITS` will be an important data point since it gives information on the number of units involved in the crash.\n",
    "\n",
    "Similarly, aligning with the Vision Zero goal, `INJURIES_TOTAL` and `INJURIES_FATAL` would be valuable columns to use in analysis. The other Injuries columns can be **DROPPED**."
   ]
  },
  {
   "cell_type": "markdown",
   "id": "868ba895",
   "metadata": {},
   "source": [
    "`CRASH_HOUR`, `CRASH_DAY_OF_WEEK`, and `CRASH_MONTH` can be used instead of the timesatamp in column `CRASH_DATE` since these are broken down values. Nonetheless, what would be valuable from the timestamp column is the year of the crash. It might be possible that the year can play a big part in recognizing patterns of the accidents."
   ]
  },
  {
   "cell_type": "markdown",
   "id": "4a9f08fb",
   "metadata": {},
   "source": [
    "`LATITUDE` and `LONGITUDE` will be used for location data for crashes. This will helo determine if there are specific areas that more volatile to crashes as compared to others."
   ]
  },
  {
   "cell_type": "markdown",
   "id": "8a965900",
   "metadata": {},
   "source": [
    "**SUMMARY**"
   ]
  },
  {
   "cell_type": "markdown",
   "id": "91156526",
   "metadata": {},
   "source": [
    "The following columns will be carried forward:\n",
    "\n",
    "1. CRASH_RECORD_ID\n",
    "2. CRASH_DATE\n",
    "3. POSTED_SPEED_LIMIT\n",
    "4. DEVICE_CONDITION\n",
    "5. WEATHER_CONDITION\n",
    "6. CRASH_TYPE\n",
    "7. PRIM_CONTRIBUTORY_CAUSE\n",
    "8. SEC_CONTRIBUTORY_CAUSE\n",
    "9. WORK_ZONE_I\n",
    "10. WORKERS_PRESENT_I\n",
    "11. INJURIES_TOTAL\n",
    "12. INJURIES_FATAL\n",
    "13. CRASH_HOUR\n",
    "14. CRASH_DAY_OF_WEEK\n",
    "15. CRASH_MONTH\n",
    "16. LATITUDE\n",
    "17. LONGITUDE"
   ]
  },
  {
   "cell_type": "markdown",
   "id": "22aeeabe",
   "metadata": {},
   "source": [
    "### Traffic Crashes - Vechiles"
   ]
  },
  {
   "cell_type": "markdown",
   "id": "ce292437",
   "metadata": {},
   "source": [
    "This is the summary data for all the crashes. Thee dataset was downloaded and stores in the `data` folder as `Traffic_Crashes-Vehicles`. The overview of the contents of this data is aavailable below and at https://data.cityofchicago.org/Transportation/Traffic-Crashes-Vehicles/68nd-jvt3."
   ]
  },
  {
   "cell_type": "markdown",
   "id": "41b01c39",
   "metadata": {},
   "source": [
    "This dataset contains information about vehicles (or units as they are identified in crash reports) involved in a traffic crash. This dataset should be used in conjunction with the traffic Crash and People dataset available in the portal. “Vehicle” information includes motor vehicle and non-motor vehicle modes of transportation, such as bicycles and pedestrians. Each mode of transportation involved in a crash is a “unit” and get one entry here. Each vehicle, each pedestrian, each motorcyclist, and each bicyclist is considered an independent unit that can have a trajectory separate from the other units. However, people inside a vehicle including the driver do not have a trajectory separate from the vehicle in which they are travelling and hence only the vehicle they are travelling in get any entry here. This type of identification of “units” is needed to determine how each movement affected the crash. Data for occupants who do not make up an independent unit, typically drivers and passengers, are available in the People table. Many of the fields are coded to denote the type and location of damage on the vehicle. Vehicle information can be linked back to Crash data using the “CRASH_RECORD_ID” field. Since this dataset is a combination of vehicles, pedestrians, and pedal cyclists not all columns are applicable to each record."
   ]
  },
  {
   "cell_type": "code",
   "execution_count": 16,
   "id": "8313f755",
   "metadata": {
    "scrolled": true
   },
   "outputs": [
    {
     "name": "stderr",
     "output_type": "stream",
     "text": [
      "/var/folders/qv/0z2v23tn1f1b2fnpqqgqsxch0000gn/T/ipykernel_11825/3771688054.py:2: DtypeWarning: Columns (19,21,40,41,42,44,48,49,50,53,55,58,59,61,71) have mixed types. Specify dtype option on import or set low_memory=False.\n",
      "  vehicles_df = pd.read_csv('data/Traffic_Crashes-Vehicles.csv')\n"
     ]
    },
    {
     "data": {
      "text/html": [
       "<div>\n",
       "<style scoped>\n",
       "    .dataframe tbody tr th:only-of-type {\n",
       "        vertical-align: middle;\n",
       "    }\n",
       "\n",
       "    .dataframe tbody tr th {\n",
       "        vertical-align: top;\n",
       "    }\n",
       "\n",
       "    .dataframe thead th {\n",
       "        text-align: right;\n",
       "    }\n",
       "</style>\n",
       "<table border=\"1\" class=\"dataframe\">\n",
       "  <thead>\n",
       "    <tr style=\"text-align: right;\">\n",
       "      <th></th>\n",
       "      <th>CRASH_UNIT_ID</th>\n",
       "      <th>CRASH_RECORD_ID</th>\n",
       "      <th>RD_NO</th>\n",
       "      <th>CRASH_DATE</th>\n",
       "      <th>UNIT_NO</th>\n",
       "      <th>UNIT_TYPE</th>\n",
       "      <th>NUM_PASSENGERS</th>\n",
       "      <th>VEHICLE_ID</th>\n",
       "      <th>CMRC_VEH_I</th>\n",
       "      <th>MAKE</th>\n",
       "      <th>...</th>\n",
       "      <th>TRAILER1_LENGTH</th>\n",
       "      <th>TRAILER2_LENGTH</th>\n",
       "      <th>TOTAL_VEHICLE_LENGTH</th>\n",
       "      <th>AXLE_CNT</th>\n",
       "      <th>VEHICLE_CONFIG</th>\n",
       "      <th>CARGO_BODY_TYPE</th>\n",
       "      <th>LOAD_TYPE</th>\n",
       "      <th>HAZMAT_OUT_OF_SERVICE_I</th>\n",
       "      <th>MCS_OUT_OF_SERVICE_I</th>\n",
       "      <th>HAZMAT_CLASS</th>\n",
       "    </tr>\n",
       "  </thead>\n",
       "  <tbody>\n",
       "    <tr>\n",
       "      <th>0</th>\n",
       "      <td>829999</td>\n",
       "      <td>24ddf9fd8542199d832e1c223cc474e5601b356f1d77a6...</td>\n",
       "      <td>JD124535</td>\n",
       "      <td>01/22/2020 06:25:00 AM</td>\n",
       "      <td>1</td>\n",
       "      <td>DRIVER</td>\n",
       "      <td>NaN</td>\n",
       "      <td>796949.0</td>\n",
       "      <td>NaN</td>\n",
       "      <td>INFINITI</td>\n",
       "      <td>...</td>\n",
       "      <td>NaN</td>\n",
       "      <td>NaN</td>\n",
       "      <td>NaN</td>\n",
       "      <td>NaN</td>\n",
       "      <td>NaN</td>\n",
       "      <td>NaN</td>\n",
       "      <td>NaN</td>\n",
       "      <td>NaN</td>\n",
       "      <td>NaN</td>\n",
       "      <td>NaN</td>\n",
       "    </tr>\n",
       "    <tr>\n",
       "      <th>1</th>\n",
       "      <td>749947</td>\n",
       "      <td>81dc0de2ed92aa62baccab641fa377be7feb1cc47e6554...</td>\n",
       "      <td>JC451435</td>\n",
       "      <td>09/28/2019 03:30:00 AM</td>\n",
       "      <td>1</td>\n",
       "      <td>DRIVER</td>\n",
       "      <td>NaN</td>\n",
       "      <td>834816.0</td>\n",
       "      <td>NaN</td>\n",
       "      <td>HONDA</td>\n",
       "      <td>...</td>\n",
       "      <td>NaN</td>\n",
       "      <td>NaN</td>\n",
       "      <td>NaN</td>\n",
       "      <td>NaN</td>\n",
       "      <td>NaN</td>\n",
       "      <td>NaN</td>\n",
       "      <td>NaN</td>\n",
       "      <td>NaN</td>\n",
       "      <td>NaN</td>\n",
       "      <td>NaN</td>\n",
       "    </tr>\n",
       "    <tr>\n",
       "      <th>2</th>\n",
       "      <td>749949</td>\n",
       "      <td>81dc0de2ed92aa62baccab641fa377be7feb1cc47e6554...</td>\n",
       "      <td>JC451435</td>\n",
       "      <td>09/28/2019 03:30:00 AM</td>\n",
       "      <td>2</td>\n",
       "      <td>PARKED</td>\n",
       "      <td>NaN</td>\n",
       "      <td>834819.0</td>\n",
       "      <td>NaN</td>\n",
       "      <td>TOYOTA</td>\n",
       "      <td>...</td>\n",
       "      <td>NaN</td>\n",
       "      <td>NaN</td>\n",
       "      <td>NaN</td>\n",
       "      <td>NaN</td>\n",
       "      <td>NaN</td>\n",
       "      <td>NaN</td>\n",
       "      <td>NaN</td>\n",
       "      <td>NaN</td>\n",
       "      <td>NaN</td>\n",
       "      <td>NaN</td>\n",
       "    </tr>\n",
       "    <tr>\n",
       "      <th>3</th>\n",
       "      <td>749950</td>\n",
       "      <td>81dc0de2ed92aa62baccab641fa377be7feb1cc47e6554...</td>\n",
       "      <td>JC451435</td>\n",
       "      <td>09/28/2019 03:30:00 AM</td>\n",
       "      <td>3</td>\n",
       "      <td>PARKED</td>\n",
       "      <td>NaN</td>\n",
       "      <td>834817.0</td>\n",
       "      <td>NaN</td>\n",
       "      <td>GENERAL MOTORS CORPORATION (GMC)</td>\n",
       "      <td>...</td>\n",
       "      <td>NaN</td>\n",
       "      <td>NaN</td>\n",
       "      <td>NaN</td>\n",
       "      <td>NaN</td>\n",
       "      <td>NaN</td>\n",
       "      <td>NaN</td>\n",
       "      <td>NaN</td>\n",
       "      <td>NaN</td>\n",
       "      <td>NaN</td>\n",
       "      <td>NaN</td>\n",
       "    </tr>\n",
       "    <tr>\n",
       "      <th>4</th>\n",
       "      <td>871921</td>\n",
       "      <td>af84fb5c8d996fcd3aefd36593c3a02e6e7509eeb27568...</td>\n",
       "      <td>JD208731</td>\n",
       "      <td>04/13/2020 10:50:00 PM</td>\n",
       "      <td>2</td>\n",
       "      <td>DRIVER</td>\n",
       "      <td>NaN</td>\n",
       "      <td>827212.0</td>\n",
       "      <td>NaN</td>\n",
       "      <td>BUICK</td>\n",
       "      <td>...</td>\n",
       "      <td>NaN</td>\n",
       "      <td>NaN</td>\n",
       "      <td>NaN</td>\n",
       "      <td>NaN</td>\n",
       "      <td>NaN</td>\n",
       "      <td>NaN</td>\n",
       "      <td>NaN</td>\n",
       "      <td>NaN</td>\n",
       "      <td>NaN</td>\n",
       "      <td>NaN</td>\n",
       "    </tr>\n",
       "  </tbody>\n",
       "</table>\n",
       "<p>5 rows × 72 columns</p>\n",
       "</div>"
      ],
      "text/plain": [
       "   CRASH_UNIT_ID                                    CRASH_RECORD_ID     RD_NO  \\\n",
       "0         829999  24ddf9fd8542199d832e1c223cc474e5601b356f1d77a6...  JD124535   \n",
       "1         749947  81dc0de2ed92aa62baccab641fa377be7feb1cc47e6554...  JC451435   \n",
       "2         749949  81dc0de2ed92aa62baccab641fa377be7feb1cc47e6554...  JC451435   \n",
       "3         749950  81dc0de2ed92aa62baccab641fa377be7feb1cc47e6554...  JC451435   \n",
       "4         871921  af84fb5c8d996fcd3aefd36593c3a02e6e7509eeb27568...  JD208731   \n",
       "\n",
       "               CRASH_DATE  UNIT_NO UNIT_TYPE  NUM_PASSENGERS  VEHICLE_ID  \\\n",
       "0  01/22/2020 06:25:00 AM        1    DRIVER             NaN    796949.0   \n",
       "1  09/28/2019 03:30:00 AM        1    DRIVER             NaN    834816.0   \n",
       "2  09/28/2019 03:30:00 AM        2    PARKED             NaN    834819.0   \n",
       "3  09/28/2019 03:30:00 AM        3    PARKED             NaN    834817.0   \n",
       "4  04/13/2020 10:50:00 PM        2    DRIVER             NaN    827212.0   \n",
       "\n",
       "  CMRC_VEH_I                              MAKE  ... TRAILER1_LENGTH  \\\n",
       "0        NaN                          INFINITI  ...             NaN   \n",
       "1        NaN                             HONDA  ...             NaN   \n",
       "2        NaN                            TOYOTA  ...             NaN   \n",
       "3        NaN  GENERAL MOTORS CORPORATION (GMC)  ...             NaN   \n",
       "4        NaN                             BUICK  ...             NaN   \n",
       "\n",
       "  TRAILER2_LENGTH  TOTAL_VEHICLE_LENGTH AXLE_CNT VEHICLE_CONFIG  \\\n",
       "0             NaN                   NaN      NaN            NaN   \n",
       "1             NaN                   NaN      NaN            NaN   \n",
       "2             NaN                   NaN      NaN            NaN   \n",
       "3             NaN                   NaN      NaN            NaN   \n",
       "4             NaN                   NaN      NaN            NaN   \n",
       "\n",
       "  CARGO_BODY_TYPE LOAD_TYPE HAZMAT_OUT_OF_SERVICE_I MCS_OUT_OF_SERVICE_I  \\\n",
       "0             NaN       NaN                     NaN                  NaN   \n",
       "1             NaN       NaN                     NaN                  NaN   \n",
       "2             NaN       NaN                     NaN                  NaN   \n",
       "3             NaN       NaN                     NaN                  NaN   \n",
       "4             NaN       NaN                     NaN                  NaN   \n",
       "\n",
       "  HAZMAT_CLASS  \n",
       "0          NaN  \n",
       "1          NaN  \n",
       "2          NaN  \n",
       "3          NaN  \n",
       "4          NaN  \n",
       "\n",
       "[5 rows x 72 columns]"
      ]
     },
     "execution_count": 16,
     "metadata": {},
     "output_type": "execute_result"
    }
   ],
   "source": [
    "#import the dataset using the API endpoint\n",
    "vehicles_df = pd.read_csv('data/Traffic_Crashes-Vehicles.csv')\n",
    "\n",
    "#preview thee first 5 rows\n",
    "vehicles_df.head()"
   ]
  },
  {
   "cell_type": "code",
   "execution_count": 17,
   "id": "c2921ea3",
   "metadata": {},
   "outputs": [
    {
     "name": "stdout",
     "output_type": "stream",
     "text": [
      "<class 'pandas.core.frame.DataFrame'>\n",
      "RangeIndex: 1416095 entries, 0 to 1416094\n",
      "Data columns (total 72 columns):\n",
      " #   Column                    Non-Null Count    Dtype  \n",
      "---  ------                    --------------    -----  \n",
      " 0   CRASH_UNIT_ID             1416095 non-null  int64  \n",
      " 1   CRASH_RECORD_ID           1416095 non-null  object \n",
      " 2   RD_NO                     1408273 non-null  object \n",
      " 3   CRASH_DATE                1416095 non-null  object \n",
      " 4   UNIT_NO                   1416095 non-null  int64  \n",
      " 5   UNIT_TYPE                 1414134 non-null  object \n",
      " 6   NUM_PASSENGERS            209579 non-null   float64\n",
      " 7   VEHICLE_ID                1384025 non-null  float64\n",
      " 8   CMRC_VEH_I                26451 non-null    object \n",
      " 9   MAKE                      1384020 non-null  object \n",
      " 10  MODEL                     1383876 non-null  object \n",
      " 11  LIC_PLATE_STATE           1258222 non-null  object \n",
      " 12  VEHICLE_YEAR              1159243 non-null  float64\n",
      " 13  VEHICLE_DEFECT            1384025 non-null  object \n",
      " 14  VEHICLE_TYPE              1384025 non-null  object \n",
      " 15  VEHICLE_USE               1384025 non-null  object \n",
      " 16  TRAVEL_DIRECTION          1384025 non-null  object \n",
      " 17  MANEUVER                  1384025 non-null  object \n",
      " 18  TOWED_I                   173461 non-null   object \n",
      " 19  FIRE_I                    1132 non-null     object \n",
      " 20  OCCUPANT_CNT              1384025 non-null  float64\n",
      " 21  EXCEED_SPEED_LIMIT_I      2397 non-null     object \n",
      " 22  TOWED_BY                  129266 non-null   object \n",
      " 23  TOWED_TO                  79553 non-null    object \n",
      " 24  AREA_00_I                 50097 non-null    object \n",
      " 25  AREA_01_I                 374799 non-null   object \n",
      " 26  AREA_02_I                 227990 non-null   object \n",
      " 27  AREA_03_I                 134586 non-null   object \n",
      " 28  AREA_04_I                 135984 non-null   object \n",
      " 29  AREA_05_I                 210775 non-null   object \n",
      " 30  AREA_06_I                 219467 non-null   object \n",
      " 31  AREA_07_I                 198788 non-null   object \n",
      " 32  AREA_08_I                 210912 non-null   object \n",
      " 33  AREA_09_I                 85333 non-null    object \n",
      " 34  AREA_10_I                 123385 non-null   object \n",
      " 35  AREA_11_I                 241587 non-null   object \n",
      " 36  AREA_12_I                 237530 non-null   object \n",
      " 37  AREA_99_I                 156879 non-null   object \n",
      " 38  FIRST_CONTACT_POINT       1371395 non-null  object \n",
      " 39  CMV_ID                    14819 non-null    float64\n",
      " 40  USDOT_NO                  8455 non-null     object \n",
      " 41  CCMC_NO                   1842 non-null     object \n",
      " 42  ILCC_NO                   1284 non-null     object \n",
      " 43  COMMERCIAL_SRC            10012 non-null    object \n",
      " 44  GVWR                      8380 non-null     object \n",
      " 45  CARRIER_NAME              14182 non-null    object \n",
      " 46  CARRIER_STATE             13322 non-null    object \n",
      " 47  CARRIER_CITY              13087 non-null    object \n",
      " 48  HAZMAT_PLACARDS_I         290 non-null      object \n",
      " 49  HAZMAT_NAME               54 non-null       object \n",
      " 50  UN_NO                     508 non-null      object \n",
      " 51  HAZMAT_PRESENT_I          10846 non-null    object \n",
      " 52  HAZMAT_REPORT_I           10529 non-null    object \n",
      " 53  HAZMAT_REPORT_NO          1 non-null        object \n",
      " 54  MCS_REPORT_I              10584 non-null    object \n",
      " 55  MCS_REPORT_NO             7 non-null        object \n",
      " 56  HAZMAT_VIO_CAUSE_CRASH_I  10689 non-null    object \n",
      " 57  MCS_VIO_CAUSE_CRASH_I     10489 non-null    object \n",
      " 58  IDOT_PERMIT_NO            824 non-null      object \n",
      " 59  WIDE_LOAD_I               125 non-null      object \n",
      " 60  TRAILER1_WIDTH            2674 non-null     object \n",
      " 61  TRAILER2_WIDTH            320 non-null      object \n",
      " 62  TRAILER1_LENGTH           2180 non-null     float64\n",
      " 63  TRAILER2_LENGTH           65 non-null       float64\n",
      " 64  TOTAL_VEHICLE_LENGTH      2644 non-null     float64\n",
      " 65  AXLE_CNT                  3912 non-null     float64\n",
      " 66  VEHICLE_CONFIG            12287 non-null    object \n",
      " 67  CARGO_BODY_TYPE           11753 non-null    object \n",
      " 68  LOAD_TYPE                 11241 non-null    object \n",
      " 69  HAZMAT_OUT_OF_SERVICE_I   10214 non-null    object \n",
      " 70  MCS_OUT_OF_SERVICE_I      10458 non-null    object \n",
      " 71  HAZMAT_CLASS              983 non-null      object \n",
      "dtypes: float64(9), int64(2), object(61)\n",
      "memory usage: 777.9+ MB\n"
     ]
    }
   ],
   "source": [
    "#Explore the info for all the features\n",
    "vehicles_df.info()"
   ]
  },
  {
   "cell_type": "markdown",
   "id": "9e20d54d",
   "metadata": {},
   "source": [
    "`CRASH_UNIT_ID`, `RD_NO`, `UNIT_NO`, `VEHICLE_ID`, and `CMRC_VEH_I`,  are unique IDs for crash reports which can be ignored for the purposes of the analysis. These columns will be **DROPPED**\n",
    "\n",
    "`MAKE`, `MODEL`, `LIC_PLATE_STATE`, `VEHICLE_YEAR`, and `TRAVEL_DIRECTION` are speciific informations relevant to the vehicle. These are valuable information to keep track but these don;t provide valuable insights into causes for crashes. While the argument can be made that the make or vehicle year of a car can showcase which brands of cars and which years are involved in the most crashes, these singular data points can inform biased policies. For instance, older cars are usually owned by people who can't afford the expensive new models. Moreover, the more important aspect to know would be what kind of safety features did these cars have to understand how helpful ccertain safety features have but that data is not availabl. Therefore, these columns will be **DROPPED**.\n",
    "\n",
    "`VEHICLE_DEFECT`: This column might contain some intersting data. Lets investigate the contents of this column."
   ]
  },
  {
   "cell_type": "code",
   "execution_count": 18,
   "id": "1f386539",
   "metadata": {},
   "outputs": [
    {
     "data": {
      "text/plain": [
       "NONE                768370\n",
       "UNKNOWN             601707\n",
       "OTHER                 6782\n",
       "BRAKES                4566\n",
       "TIRES                  700\n",
       "STEERING               650\n",
       "WHEELS                 365\n",
       "SUSPENSION             241\n",
       "ENGINE/MOTOR           183\n",
       "FUEL SYSTEM            150\n",
       "LIGHTS                  86\n",
       "WINDOWS                 82\n",
       "CARGO                   47\n",
       "SIGNALS                 38\n",
       "RESTRAINT SYSTEM        21\n",
       "TRAILER COUPLING        19\n",
       "EXHAUST                 18\n",
       "Name: VEHICLE_DEFECT, dtype: int64"
      ]
     },
     "execution_count": 18,
     "metadata": {},
     "output_type": "execute_result"
    }
   ],
   "source": [
    "#check unique values\n",
    "vehicles_df['VEHICLE_DEFECT'].value_counts()"
   ]
  },
  {
   "cell_type": "markdown",
   "id": "59bc14cc",
   "metadata": {},
   "source": [
    "while thiss information is useful, 98% of the data is skewed towards None, Unkown or Other values that don't provide us any valuable insights. We can use oversampling methodlogies to help balance out the data to provide valuable insights."
   ]
  },
  {
   "cell_type": "markdown",
   "id": "693abd44",
   "metadata": {},
   "source": [
    "`VEHICLE_TYPE`: The type of vehicle, if relevant. Lets investigate the contents of this column."
   ]
  },
  {
   "cell_type": "code",
   "execution_count": 19,
   "id": "ed3a0d7b",
   "metadata": {},
   "outputs": [
    {
     "data": {
      "text/plain": [
       "PASSENGER                                 870964\n",
       "SPORT UTILITY VEHICLE (SUV)               186498\n",
       "UNKNOWN/NA                                131562\n",
       "VAN/MINI-VAN                               67371\n",
       "PICKUP                                     43239\n",
       "TRUCK - SINGLE UNIT                        26270\n",
       "OTHER                                      16301\n",
       "BUS OVER 15 PASS.                          14529\n",
       "TRACTOR W/ SEMI-TRAILER                    13251\n",
       "BUS UP TO 15 PASS.                          3487\n",
       "MOTORCYCLE (OVER 150CC)                     3217\n",
       "SINGLE UNIT TRUCK WITH TRAILER              2131\n",
       "OTHER VEHICLE WITH TRAILER                  1774\n",
       "TRACTOR W/O SEMI-TRAILER                    1766\n",
       "AUTOCYCLE                                    648\n",
       "MOPED OR MOTORIZED BICYCLE                   382\n",
       "MOTOR DRIVEN CYCLE                           326\n",
       "ALL-TERRAIN VEHICLE (ATV)                    160\n",
       "FARM EQUIPMENT                                72\n",
       "3-WHEELED MOTORCYCLE (2 REAR WHEELS)          49\n",
       "RECREATIONAL OFF-HIGHWAY VEHICLE (ROV)        20\n",
       "SNOWMOBILE                                     8\n",
       "Name: VEHICLE_TYPE, dtype: int64"
      ]
     },
     "execution_count": 19,
     "metadata": {},
     "output_type": "execute_result"
    }
   ],
   "source": [
    "#check unique values\n",
    "vehicles_df['VEHICLE_TYPE'].value_counts()"
   ]
  },
  {
   "cell_type": "markdown",
   "id": "63ccdad1",
   "metadata": {},
   "source": [
    "This data will be very valuable to discern how different types of vehicles get into accidents and understand the trends in causes. The imbalance in the data has to be aaddresssed later in th eDaata Preparations Section."
   ]
  },
  {
   "cell_type": "markdown",
   "id": "ca14f088",
   "metadata": {},
   "source": [
    "`VEHICLE_USE`: The normal use of the vehicle, if relevant. In conjunction with previous column, this column can be used to createe grouped categories of vehicles such as Personal, Rideshare, etc. We can also see that there are more unknown records in this collumn than the previous one. We can use the previous column to reduce the number of unkowns n our data. "
   ]
  },
  {
   "cell_type": "code",
   "execution_count": 20,
   "id": "76e235c2",
   "metadata": {},
   "outputs": [
    {
     "data": {
      "text/plain": [
       "PERSONAL                        894350\n",
       "UNKNOWN/NA                      279642\n",
       "NOT IN USE                       71810\n",
       "OTHER                            43301\n",
       "TAXI/FOR HIRE                    18505\n",
       "COMMERCIAL - SINGLE UNIT         17164\n",
       "RIDESHARE SERVICE                11623\n",
       "CTA                               9315\n",
       "POLICE                            9055\n",
       "CONSTRUCTION/MAINTENANCE          6300\n",
       "COMMERCIAL - MULTI-UNIT           5689\n",
       "OTHER TRANSIT                     3964\n",
       "SCHOOL BUS                        3724\n",
       "TOW TRUCK                         2657\n",
       "AMBULANCE                         1638\n",
       "FIRE                              1357\n",
       "STATE OWNED                       1162\n",
       "DRIVER EDUCATION                  1107\n",
       "MASS TRANSIT                       832\n",
       "LAWN CARE/LANDSCAPING              526\n",
       "AGRICULTURE                        143\n",
       "CAMPER/RV - SINGLE UNIT             68\n",
       "MILITARY                            55\n",
       "HOUSE TRAILER                       22\n",
       "CAMPER/RV - TOWED/MULTI-UNIT        16\n",
       "Name: VEHICLE_USE, dtype: int64"
      ]
     },
     "execution_count": 20,
     "metadata": {},
     "output_type": "execute_result"
    }
   ],
   "source": [
    "#check unique values\n",
    "vehicles_df['VEHICLE_USE'].value_counts()"
   ]
  },
  {
   "cell_type": "markdown",
   "id": "6f3a5600",
   "metadata": {},
   "source": [
    "`MANEUVER`: The action the unit was taking prior to the crash, as determined by the reporting officer. This will be important too understand what kind of maneuvers can cause the most crashes. These will also go hand in hand with location data to understand if certain areas have accidents occuring at specific manevers. Lets investigate this column to understand the values in it."
   ]
  },
  {
   "cell_type": "code",
   "execution_count": 21,
   "id": "bcc4c1cf",
   "metadata": {},
   "outputs": [
    {
     "data": {
      "text/plain": [
       "STRAIGHT AHEAD                        630603\n",
       "PARKED                                190912\n",
       "UNKNOWN/NA                            108064\n",
       "SLOW/STOP IN TRAFFIC                  105648\n",
       "TURNING LEFT                           81375\n",
       "BACKING                                57054\n",
       "TURNING RIGHT                          45377\n",
       "PASSING/OVERTAKING                     33216\n",
       "CHANGING LANES                         26814\n",
       "OTHER                                  23226\n",
       "ENTERING TRAFFIC LANE FROM PARKING     16299\n",
       "MERGING                                 9569\n",
       "STARTING IN TRAFFIC                     8157\n",
       "U-TURN                                  7783\n",
       "LEAVING TRAFFIC LANE TO PARK            6719\n",
       "AVOIDING VEHICLES/OBJECTS               6021\n",
       "SKIDDING/CONTROL LOSS                   5624\n",
       "ENTER FROM DRIVE/ALLEY                  5414\n",
       "PARKED IN TRAFFIC LANE                  4193\n",
       "SLOW/STOP - LEFT TURN                   3042\n",
       "DRIVING WRONG WAY                       2001\n",
       "SLOW/STOP - RIGHT TURN                  1929\n",
       "NEGOTIATING A CURVE                     1860\n",
       "SLOW/STOP - LOAD/UNLOAD                 1663\n",
       "TURNING ON RED                           538\n",
       "DRIVERLESS                               530\n",
       "DIVERGING                                216\n",
       "DISABLED                                 178\n",
       "Name: MANEUVER, dtype: int64"
      ]
     },
     "execution_count": 21,
     "metadata": {},
     "output_type": "execute_result"
    }
   ],
   "source": [
    "#check unique values\n",
    "vehicles_df['MANEUVER'].value_counts()"
   ]
  },
  {
   "cell_type": "markdown",
   "id": "6eb422f8",
   "metadata": {},
   "source": [
    "Some of these categories can be grouped together to make claassificatin analysis less granular. This will be done in the Data Preparation section."
   ]
  },
  {
   "cell_type": "markdown",
   "id": "62a3a9ed",
   "metadata": {},
   "source": [
    "`TOWED_I`, `FIRE_I`, `TOWED_BY`, and `TOWED_TO` are relevant details for keeping record of a crash but these columns won't be useful data to understand the causes and trends of crashes. These columns will be **DROPPED**."
   ]
  },
  {
   "cell_type": "markdown",
   "id": "074679ee",
   "metadata": {},
   "source": [
    "`OCCUPANT_CNT` which is the number of people in the unit, and `EXCEED_SPEED_LIMIT_I` which records whether the unit was speeding or not, will be very valuable columns to use in our analysis."
   ]
  },
  {
   "cell_type": "markdown",
   "id": "74b797c3",
   "metadata": {},
   "source": [
    "`AREA_00_I` to `AREA_99_I` are encoded columns but do not have any details on what information do they represent. Lets investigate the contents of these columns to see if there is more insight."
   ]
  },
  {
   "cell_type": "code",
   "execution_count": 22,
   "id": "37e25899",
   "metadata": {},
   "outputs": [
    {
     "name": "stdout",
     "output_type": "stream",
     "text": [
      "Y    43954\n",
      "N     6143\n"
     ]
    }
   ],
   "source": [
    "#check unique values\n",
    "print(vehicles_df['AREA_00_I'].value_counts().to_string())"
   ]
  },
  {
   "cell_type": "code",
   "execution_count": 23,
   "id": "48d0627c",
   "metadata": {},
   "outputs": [
    {
     "data": {
      "text/plain": [
       "Y    217069\n",
       "N     10921\n",
       "Name: AREA_02_I, dtype: int64"
      ]
     },
     "execution_count": 23,
     "metadata": {},
     "output_type": "execute_result"
    }
   ],
   "source": [
    "#check unique values\n",
    "vehicles_df['AREA_02_I'].value_counts()"
   ]
  },
  {
   "cell_type": "code",
   "execution_count": 24,
   "id": "2dad2464",
   "metadata": {},
   "outputs": [
    {
     "data": {
      "text/plain": [
       "Y    128418\n",
       "N      6168\n",
       "Name: AREA_03_I, dtype: int64"
      ]
     },
     "execution_count": 24,
     "metadata": {},
     "output_type": "execute_result"
    }
   ],
   "source": [
    "#check unique values\n",
    "vehicles_df['AREA_03_I'].value_counts()"
   ]
  },
  {
   "cell_type": "code",
   "execution_count": 25,
   "id": "9ba842d0",
   "metadata": {},
   "outputs": [
    {
     "data": {
      "text/plain": [
       "Y    129920\n",
       "N      6064\n",
       "Name: AREA_04_I, dtype: int64"
      ]
     },
     "execution_count": 25,
     "metadata": {},
     "output_type": "execute_result"
    }
   ],
   "source": [
    "#check unique values\n",
    "vehicles_df['AREA_04_I'].value_counts()"
   ]
  },
  {
   "cell_type": "code",
   "execution_count": 26,
   "id": "3a2710d5",
   "metadata": {},
   "outputs": [
    {
     "data": {
      "text/plain": [
       "Y    151041\n",
       "N      5838\n",
       "Name: AREA_99_I, dtype: int64"
      ]
     },
     "execution_count": 26,
     "metadata": {},
     "output_type": "execute_result"
    }
   ],
   "source": [
    "#check unique values\n",
    "vehicles_df['AREA_99_I'].value_counts()"
   ]
  },
  {
   "cell_type": "markdown",
   "id": "93c38494",
   "metadata": {},
   "source": [
    "Most of these are just indicators but there's no information on what do these indicators represent. With no extra information on what areas these columns represent, these columns will bee **DROPPED**. Moreover, we the latitude and longitude to help us understand the location."
   ]
  },
  {
   "cell_type": "markdown",
   "id": "deb88e20",
   "metadata": {},
   "source": [
    "`FIRST_CONTACT_POINT`: This column does not have a description. LLets investigate the column values to understand more."
   ]
  },
  {
   "cell_type": "code",
   "execution_count": 27,
   "id": "22305201",
   "metadata": {},
   "outputs": [
    {
     "data": {
      "text/plain": [
       "FRONT                207316\n",
       "OTHER                168617\n",
       "REAR-LEFT            156455\n",
       "UNKNOWN              131938\n",
       "REAR                 117386\n",
       "FRONT-LEFT           100587\n",
       "TOTAL (ALL AREAS)     95027\n",
       "SIDE-RIGHT            89210\n",
       "FRONT-RIGHT           87356\n",
       "SIDE-LEFT             81838\n",
       "ROOF                  56741\n",
       "REAR-RIGHT            50777\n",
       "UNDER CARRIAGE        16646\n",
       "NONE                  11501\n",
       "Name: FIRST_CONTACT_POINT, dtype: int64"
      ]
     },
     "execution_count": 27,
     "metadata": {},
     "output_type": "execute_result"
    }
   ],
   "source": [
    "#check unique values\n",
    "vehicles_df['FIRST_CONTACT_POINT'].value_counts()"
   ]
  },
  {
   "cell_type": "markdown",
   "id": "4209730e",
   "metadata": {},
   "source": [
    "This column represents the first point of contact of an accident. This is good information to have for further analysis but for the purposes of this notebook, to investigate the causes of crashes, this information will not be as valuable. Therefore, this column will be **DROPPED**."
   ]
  },
  {
   "cell_type": "markdown",
   "id": "a4204905",
   "metadata": {},
   "source": [
    "`CMV_ID`, `USDOT_NO`, `CCMC_NO`, `ILCC_NO`, and `COMMERCIAL_SRC` are specific information for record keeping of the crash reports. These do not provide any insights into the causes of accidents. They will be **DROPPED**."
   ]
  },
  {
   "cell_type": "markdown",
   "id": "dfd0e82c",
   "metadata": {},
   "source": [
    "The following are the columns specific to Comemrcial Trailer/Tractor crashes. These will be **DROPPED**\n",
    "\n",
    "\n",
    "`GVWR`: Gross Vehicle Weight Rating (GVWR)\n",
    "\n",
    "`CARRIER_NAME`: This is the name of the company that owns the tractor/trailer\n",
    "\n",
    "`CARRIER_STATE`: This is the state where the carrier is registered\n",
    "\n",
    "`CARRIER_CITY`: This is the city where the carrier is located\n",
    "\n",
    "`HAZMAT_PLACARDS_I`: This is the hazmat warning on the tractor/trailer regarding the contents. When carrying certain types of content, carriers are mandated to have hazmat signs displayed.\n",
    "\n",
    "`HAZMAT_NAME`: This is the name of what kind of hazmat was being carried\n",
    "\n",
    "`UN_NO`: This is the 4 digit number thata identifies hazardouss equipment\n"
   ]
  },
  {
   "cell_type": "markdown",
   "id": "682b9ba7",
   "metadata": {},
   "source": [
    "The following information will be **DROPPED** because it is relevant to the hazmat reports involved in a traffic accident.\n",
    "\n",
    "`HAZMAT_PRESENT_I`, `HAZMAT_REPORT_I`, `HAZMAT_REPORT_NO`, `MCS_REPORT_I`, `MCS_REPORT_NO`, `HAZMAT_VIO_CAUSE_CRASH_I`, `MCS_VIO_CAUSE_CRASH_I`, and `IDOT_PERMIT_NO`"
   ]
  },
  {
   "cell_type": "markdown",
   "id": "7ffb82fe",
   "metadata": {},
   "source": [
    "`WIDE_LOAD_I`: This is an indication whether there was an oversized load. This would be valuable information to analyse to understand how big of a correlation there is between oversize loads and crashes."
   ]
  },
  {
   "cell_type": "markdown",
   "id": "5a2b63ef",
   "metadata": {},
   "source": [
    "While the following colummns have interesting information to analyse about trailer lengths, it would be more useful to just use the `TOTAL_VEHICLE_LENGTH` column. Also, we can the `TRAILER2_LENGTH` column can be used to idenitfy whether there were more than one trailers or not. \n",
    "\n",
    "Therefore, `TRAILER1_WIDTH`, `TRAILER2_WIDTH`, and `TRAILER1_LENGTH` will be dropped."
   ]
  },
  {
   "cell_type": "markdown",
   "id": "2e7f875b",
   "metadata": {},
   "source": [
    "`AXLE_CNT`: This will provide indication of what kind of a vehicle it is. There has to be some cleaning done on this dataset depending on the contents of this column. Lets invetigate this column."
   ]
  },
  {
   "cell_type": "code",
   "execution_count": 33,
   "id": "a7c069db",
   "metadata": {},
   "outputs": [
    {
     "data": {
      "text/plain": [
       "2.0        1238\n",
       "5.0        1222\n",
       "3.0         875\n",
       "6.0         250\n",
       "4.0         197\n",
       "1.0          57\n",
       "8.0          25\n",
       "7.0          14\n",
       "18.0         10\n",
       "9.0           7\n",
       "16.0          4\n",
       "10.0          4\n",
       "12.0          2\n",
       "20.0          1\n",
       "53.0          1\n",
       "52.0          1\n",
       "77.0          1\n",
       "55.0          1\n",
       "99.0          1\n",
       "26009.0       1\n",
       "Name: AXLE_CNT, dtype: int64"
      ]
     },
     "execution_count": 33,
     "metadata": {},
     "output_type": "execute_result"
    }
   ],
   "source": [
    "#check unique values\n",
    "vehicles_df['AXLE_CNT'].value_counts()"
   ]
  },
  {
   "cell_type": "markdown",
   "id": "5c6b6e57",
   "metadata": {},
   "source": [
    "It is clear that there are a few typos here. Also, not all records have values for axlle count which will be dealt with later. Nonetheless, the `VEHICLE_CONFIG` column can provide more valuable information with regaaards to vehicl type for tractor/trailers therefore this column will be **DROPPED**"
   ]
  },
  {
   "cell_type": "markdown",
   "id": "3cb4a7fd",
   "metadata": {},
   "source": [
    "`VEHICLE_CONFIG`: This has data on the type of tractor/trailer which will be useful to understand the pattern of vehicle configurations and crashes. Lets take a quick look at the data."
   ]
  },
  {
   "cell_type": "code",
   "execution_count": 34,
   "id": "a9422a1b",
   "metadata": {},
   "outputs": [
    {
     "data": {
      "text/plain": [
       "TRACTOR/SEMI-TRAILER                   4841\n",
       "SINGLE UNIT TRUCK, 2 AXLES, 6 TIRES    2450\n",
       "BUS                                    1910\n",
       "TRUCK/TRACTOR                           985\n",
       "TRUCK/TRAILER                           819\n",
       "UNKNOWN HEAVY TRUCK                     712\n",
       "SINGLE UNIT TRUCK, 3 OR MORE AXLES      538\n",
       "TRACTOR/DOUBLES                          32\n",
       "Name: VEHICLE_CONFIG, dtype: int64"
      ]
     },
     "execution_count": 34,
     "metadata": {},
     "output_type": "execute_result"
    }
   ],
   "source": [
    "#check unique values\n",
    "vehicles_df['VEHICLE_CONFIG'].value_counts()"
   ]
  },
  {
   "cell_type": "markdown",
   "id": "5f04a54f",
   "metadata": {},
   "source": [
    "`CARGO_BODY_TYPE`: This is anothere type of vehicle description that would you useful iin understanding what kind of vocational vehicles are involved in crashes. Lets snvestigate the contents of this column."
   ]
  },
  {
   "cell_type": "code",
   "execution_count": 35,
   "id": "2ead21e5",
   "metadata": {},
   "outputs": [
    {
     "data": {
      "text/plain": [
       "VAN/ENCLOSED BOX    5173\n",
       "OTHER               2643\n",
       "BUS                 1836\n",
       "FLATBED              907\n",
       "DUMP                 412\n",
       "GARBAGE/REFUSE       336\n",
       "TANK                 234\n",
       "CONCRETE MIXER       109\n",
       "AUTO TRANSPORTER     103\n",
       "Name: CARGO_BODY_TYPE, dtype: int64"
      ]
     },
     "execution_count": 35,
     "metadata": {},
     "output_type": "execute_result"
    }
   ],
   "source": [
    "#check unique values\n",
    "vehicles_df['CARGO_BODY_TYPE'].value_counts()"
   ]
  },
  {
   "cell_type": "markdown",
   "id": "abe61a9a",
   "metadata": {},
   "source": [
    "**DROP LOAD_TYPE COLUMN**"
   ]
  },
  {
   "cell_type": "code",
   "execution_count": 36,
   "id": "7acece66",
   "metadata": {},
   "outputs": [
    {
     "data": {
      "text/plain": [
       "OTHER                     6119\n",
       "UNKNOWN                   4453\n",
       "CONSTRUCTION EQUIPMENT     389\n",
       "BUILDING MATERIALS         213\n",
       "STEEL COILS                 47\n",
       "FARM EQUIPMENT              20\n",
       "Name: LOAD_TYPE, dtype: int64"
      ]
     },
     "execution_count": 36,
     "metadata": {},
     "output_type": "execute_result"
    }
   ],
   "source": [
    "#check unique values\n",
    "vehicles_df['LOAD_TYPE'].value_counts()"
   ]
  },
  {
   "cell_type": "markdown",
   "id": "7d5ece7a",
   "metadata": {},
   "source": [
    "`HAZMAT_OUT_OF_SERVICE_I`, `MCS_OUT_OF_SERVICE_I`, `HAZMAT_CLASS` **DROP**"
   ]
  },
  {
   "cell_type": "markdown",
   "id": "84b9a242",
   "metadata": {},
   "source": [
    "### Importing the Data"
   ]
  },
  {
   "cell_type": "code",
   "execution_count": null,
   "id": "dfd94839",
   "metadata": {},
   "outputs": [],
   "source": []
  },
  {
   "cell_type": "markdown",
   "id": "70b82033",
   "metadata": {},
   "source": [
    "### Dataset 1"
   ]
  },
  {
   "cell_type": "code",
   "execution_count": null,
   "id": "005b4f42",
   "metadata": {},
   "outputs": [],
   "source": []
  },
  {
   "cell_type": "markdown",
   "id": "95912b06",
   "metadata": {},
   "source": [
    "### Dataset 2"
   ]
  },
  {
   "cell_type": "code",
   "execution_count": null,
   "id": "e65a0beb",
   "metadata": {},
   "outputs": [],
   "source": []
  },
  {
   "cell_type": "markdown",
   "id": "f0e9ecb8",
   "metadata": {},
   "source": [
    "### Entity Relationship Diagram"
   ]
  },
  {
   "cell_type": "code",
   "execution_count": null,
   "id": "e244d18a",
   "metadata": {},
   "outputs": [],
   "source": []
  },
  {
   "cell_type": "markdown",
   "id": "ebd54003",
   "metadata": {},
   "source": [
    "### Data Limitations"
   ]
  },
  {
   "cell_type": "code",
   "execution_count": null,
   "id": "82b72e7e",
   "metadata": {},
   "outputs": [],
   "source": []
  },
  {
   "cell_type": "markdown",
   "id": "c838ad05",
   "metadata": {},
   "source": [
    "### Avenues of Analysis"
   ]
  },
  {
   "cell_type": "code",
   "execution_count": null,
   "id": "f35c1d73",
   "metadata": {},
   "outputs": [],
   "source": []
  },
  {
   "cell_type": "markdown",
   "id": "aab38b1f",
   "metadata": {},
   "source": [
    "### Summary"
   ]
  },
  {
   "cell_type": "code",
   "execution_count": null,
   "id": "60b79461",
   "metadata": {},
   "outputs": [],
   "source": []
  },
  {
   "cell_type": "markdown",
   "id": "2d641167",
   "metadata": {},
   "source": [
    "## Data Preparation"
   ]
  },
  {
   "cell_type": "code",
   "execution_count": null,
   "id": "5761787a",
   "metadata": {},
   "outputs": [],
   "source": []
  },
  {
   "cell_type": "markdown",
   "id": "23b9116c",
   "metadata": {},
   "source": [
    "### Data Cleaning"
   ]
  },
  {
   "cell_type": "code",
   "execution_count": null,
   "id": "ed35ea21",
   "metadata": {},
   "outputs": [],
   "source": []
  },
  {
   "cell_type": "markdown",
   "id": "602f4123",
   "metadata": {},
   "source": [
    "### Data Processing"
   ]
  },
  {
   "cell_type": "code",
   "execution_count": null,
   "id": "f0376a2f",
   "metadata": {},
   "outputs": [],
   "source": []
  },
  {
   "cell_type": "markdown",
   "id": "a04afed5",
   "metadata": {},
   "source": [
    "## Modeling and Evaluation"
   ]
  },
  {
   "cell_type": "code",
   "execution_count": null,
   "id": "1c75a428",
   "metadata": {},
   "outputs": [],
   "source": []
  },
  {
   "cell_type": "markdown",
   "id": "c376393c",
   "metadata": {},
   "source": [
    "### Baseline Model"
   ]
  },
  {
   "cell_type": "code",
   "execution_count": null,
   "id": "766d53d6",
   "metadata": {},
   "outputs": [],
   "source": []
  },
  {
   "cell_type": "markdown",
   "id": "8884a622",
   "metadata": {},
   "source": [
    "### KNN Model"
   ]
  },
  {
   "cell_type": "code",
   "execution_count": null,
   "id": "c64436ca",
   "metadata": {},
   "outputs": [],
   "source": []
  },
  {
   "cell_type": "markdown",
   "id": "6936f394",
   "metadata": {},
   "source": [
    "### Random Forests Model"
   ]
  },
  {
   "cell_type": "code",
   "execution_count": null,
   "id": "c00dce43",
   "metadata": {},
   "outputs": [],
   "source": []
  },
  {
   "cell_type": "markdown",
   "id": "5631b35d",
   "metadata": {},
   "source": [
    "### XG Boost Model"
   ]
  },
  {
   "cell_type": "code",
   "execution_count": null,
   "id": "dceff2fa",
   "metadata": {},
   "outputs": [],
   "source": []
  },
  {
   "cell_type": "markdown",
   "id": "b4941a1b",
   "metadata": {},
   "source": [
    "### Models Comaprison"
   ]
  },
  {
   "cell_type": "code",
   "execution_count": null,
   "id": "76c6d81d",
   "metadata": {},
   "outputs": [],
   "source": []
  },
  {
   "cell_type": "markdown",
   "id": "f2b0beb5",
   "metadata": {},
   "source": [
    "## Final Model Evlauation"
   ]
  },
  {
   "cell_type": "code",
   "execution_count": null,
   "id": "5ab6a677",
   "metadata": {},
   "outputs": [],
   "source": []
  },
  {
   "cell_type": "markdown",
   "id": "bb27b0d7",
   "metadata": {},
   "source": [
    "## Conclusion"
   ]
  },
  {
   "cell_type": "code",
   "execution_count": null,
   "id": "bdd49283",
   "metadata": {},
   "outputs": [],
   "source": []
  },
  {
   "cell_type": "markdown",
   "id": "048ba2c1",
   "metadata": {},
   "source": [
    "### Improvements"
   ]
  },
  {
   "cell_type": "code",
   "execution_count": null,
   "id": "7485cae5",
   "metadata": {},
   "outputs": [],
   "source": []
  },
  {
   "cell_type": "markdown",
   "id": "cc4d04a7",
   "metadata": {},
   "source": [
    "### Next Steps"
   ]
  },
  {
   "cell_type": "code",
   "execution_count": null,
   "id": "149c0232",
   "metadata": {},
   "outputs": [],
   "source": []
  },
  {
   "cell_type": "markdown",
   "id": "7fd72016",
   "metadata": {},
   "source": [
    "### Recommendations"
   ]
  },
  {
   "cell_type": "code",
   "execution_count": null,
   "id": "a990735d",
   "metadata": {},
   "outputs": [],
   "source": []
  },
  {
   "cell_type": "code",
   "execution_count": null,
   "id": "6ffeee50",
   "metadata": {},
   "outputs": [],
   "source": []
  },
  {
   "cell_type": "markdown",
   "id": "6346a04e",
   "metadata": {},
   "source": [
    "## Disregard"
   ]
  },
  {
   "cell_type": "markdown",
   "id": "b0cb54e1",
   "metadata": {},
   "source": [
    "It would be helpful to take a look at the data for a general understanding of the undeerlying pattern."
   ]
  },
  {
   "cell_type": "code",
   "execution_count": 55,
   "id": "5b2e1d32",
   "metadata": {},
   "outputs": [],
   "source": [
    "df = crashes_df.copy()"
   ]
  },
  {
   "cell_type": "code",
   "execution_count": 57,
   "id": "c2358605",
   "metadata": {},
   "outputs": [],
   "source": [
    "df[['date', 'time', 'AM/PM']] = df.CRASH_DATE.str.split(expand=True)"
   ]
  },
  {
   "cell_type": "code",
   "execution_count": 61,
   "id": "3460d603",
   "metadata": {},
   "outputs": [
    {
     "data": {
      "text/plain": [
       "0        2019-03-25\n",
       "1        2018-09-05\n",
       "2        2022-07-15\n",
       "3        2022-08-29\n",
       "4        2022-07-15\n",
       "            ...    \n",
       "692779   2022-11-24\n",
       "692780   2022-11-24\n",
       "692781   2022-11-24\n",
       "692782   2022-11-24\n",
       "692783   2022-11-24\n",
       "Name: date, Length: 692784, dtype: datetime64[ns]"
      ]
     },
     "execution_count": 61,
     "metadata": {},
     "output_type": "execute_result"
    }
   ],
   "source": [
    "df.date = pd.to_datetime(df['date'])"
   ]
  },
  {
   "cell_type": "code",
   "execution_count": 63,
   "id": "1271ba20",
   "metadata": {},
   "outputs": [],
   "source": [
    "df.time = pd.to_datetime(df.time)"
   ]
  },
  {
   "cell_type": "code",
   "execution_count": 64,
   "id": "ef1b9b79",
   "metadata": {},
   "outputs": [
    {
     "data": {
      "text/plain": [
       "<AxesSubplot:>"
      ]
     },
     "execution_count": 64,
     "metadata": {},
     "output_type": "execute_result"
    },
    {
     "data": {
      "image/png": "[encoded data removed]",
      "text/plain": [
       "<Figure size 432x288 with 1 Axes>"
      ]
     },
     "metadata": {
      "needs_background": "light"
     },
     "output_type": "display_data"
    }
   ],
   "source": [
    "df.time.plot()"
   ]
  },
  {
   "cell_type": "code",
   "execution_count": 49,
   "id": "330d1a67",
   "metadata": {},
   "outputs": [],
   "source": [
    "df = crashes_df.copy()\n",
    "\n",
    "df['CRASH_DATE'] = df['CRASH_DATE'].map(lambda x: dt.datetime.strptime(x, '%m/%d/%Y %H:%M:%S %p'))"
   ]
  },
  {
   "cell_type": "code",
   "execution_count": 52,
   "id": "c7661d42",
   "metadata": {},
   "outputs": [
    {
     "ename": "TypeError",
     "evalue": "descriptor 'strftime' for 'datetime.date' objects doesn't apply to a 'str' object",
     "output_type": "error",
     "traceback": [
      "\u001b[0;31m---------------------------------------------------------------------------\u001b[0m",
      "\u001b[0;31mTypeError\u001b[0m                                 Traceback (most recent call last)",
      "Input \u001b[0;32mIn [52]\u001b[0m, in \u001b[0;36m<cell line: 1>\u001b[0;34m()\u001b[0m\n\u001b[0;32m----> 1\u001b[0m \u001b[43mcrashes_df\u001b[49m\u001b[43m[\u001b[49m\u001b[38;5;124;43m'\u001b[39;49m\u001b[38;5;124;43mCRASH_DATE\u001b[39;49m\u001b[38;5;124;43m'\u001b[39;49m\u001b[43m]\u001b[49m\u001b[38;5;241;43m.\u001b[39;49m\u001b[43mmap\u001b[49m\u001b[43m(\u001b[49m\u001b[38;5;28;43;01mlambda\u001b[39;49;00m\u001b[43m \u001b[49m\u001b[43mx\u001b[49m\u001b[43m:\u001b[49m\u001b[43m \u001b[49m\u001b[43mdt\u001b[49m\u001b[38;5;241;43m.\u001b[39;49m\u001b[43mdatetime\u001b[49m\u001b[38;5;241;43m.\u001b[39;49m\u001b[43mstrftime\u001b[49m\u001b[43m(\u001b[49m\u001b[43mx\u001b[49m\u001b[43m,\u001b[49m\u001b[43m \u001b[49m\u001b[38;5;124;43m'\u001b[39;49m\u001b[38;5;124;43m%\u001b[39;49m\u001b[38;5;124;43mm/\u001b[39;49m\u001b[38;5;132;43;01m%d\u001b[39;49;00m\u001b[38;5;124;43m/\u001b[39;49m\u001b[38;5;124;43m%\u001b[39;49m\u001b[38;5;124;43mY \u001b[39;49m\u001b[38;5;124;43m%\u001b[39;49m\u001b[38;5;124;43mH:\u001b[39;49m\u001b[38;5;124;43m%\u001b[39;49m\u001b[38;5;124;43mM:\u001b[39;49m\u001b[38;5;124;43m%\u001b[39;49m\u001b[38;5;124;43mS \u001b[39;49m\u001b[38;5;124;43m%\u001b[39;49m\u001b[38;5;124;43mp\u001b[39;49m\u001b[38;5;124;43m'\u001b[39;49m\u001b[43m)\u001b[49m\u001b[43m)\u001b[49m\n",
      "File \u001b[0;32m/opt/anaconda3/lib/python3.9/site-packages/pandas/core/series.py:4237\u001b[0m, in \u001b[0;36mSeries.map\u001b[0;34m(self, arg, na_action)\u001b[0m\n\u001b[1;32m   4162\u001b[0m \u001b[38;5;28;01mdef\u001b[39;00m \u001b[38;5;21mmap\u001b[39m(\u001b[38;5;28mself\u001b[39m, arg, na_action\u001b[38;5;241m=\u001b[39m\u001b[38;5;28;01mNone\u001b[39;00m) \u001b[38;5;241m-\u001b[39m\u001b[38;5;241m>\u001b[39m Series:\n\u001b[1;32m   4163\u001b[0m     \u001b[38;5;124;03m\"\"\"\u001b[39;00m\n\u001b[1;32m   4164\u001b[0m \u001b[38;5;124;03m    Map values of Series according to an input mapping or function.\u001b[39;00m\n\u001b[1;32m   4165\u001b[0m \n\u001b[0;32m   (...)\u001b[0m\n\u001b[1;32m   4235\u001b[0m \u001b[38;5;124;03m    dtype: object\u001b[39;00m\n\u001b[1;32m   4236\u001b[0m \u001b[38;5;124;03m    \"\"\"\u001b[39;00m\n\u001b[0;32m-> 4237\u001b[0m     new_values \u001b[38;5;241m=\u001b[39m \u001b[38;5;28;43mself\u001b[39;49m\u001b[38;5;241;43m.\u001b[39;49m\u001b[43m_map_values\u001b[49m\u001b[43m(\u001b[49m\u001b[43marg\u001b[49m\u001b[43m,\u001b[49m\u001b[43m \u001b[49m\u001b[43mna_action\u001b[49m\u001b[38;5;241;43m=\u001b[39;49m\u001b[43mna_action\u001b[49m\u001b[43m)\u001b[49m\n\u001b[1;32m   4238\u001b[0m     \u001b[38;5;28;01mreturn\u001b[39;00m \u001b[38;5;28mself\u001b[39m\u001b[38;5;241m.\u001b[39m_constructor(new_values, index\u001b[38;5;241m=\u001b[39m\u001b[38;5;28mself\u001b[39m\u001b[38;5;241m.\u001b[39mindex)\u001b[38;5;241m.\u001b[39m__finalize__(\n\u001b[1;32m   4239\u001b[0m         \u001b[38;5;28mself\u001b[39m, method\u001b[38;5;241m=\u001b[39m\u001b[38;5;124m\"\u001b[39m\u001b[38;5;124mmap\u001b[39m\u001b[38;5;124m\"\u001b[39m\n\u001b[1;32m   4240\u001b[0m     )\n",
      "File \u001b[0;32m/opt/anaconda3/lib/python3.9/site-packages/pandas/core/base.py:880\u001b[0m, in \u001b[0;36mIndexOpsMixin._map_values\u001b[0;34m(self, mapper, na_action)\u001b[0m\n\u001b[1;32m    877\u001b[0m         \u001b[38;5;28;01mraise\u001b[39;00m \u001b[38;5;167;01mValueError\u001b[39;00m(msg)\n\u001b[1;32m    879\u001b[0m \u001b[38;5;66;03m# mapper is a function\u001b[39;00m\n\u001b[0;32m--> 880\u001b[0m new_values \u001b[38;5;241m=\u001b[39m \u001b[43mmap_f\u001b[49m\u001b[43m(\u001b[49m\u001b[43mvalues\u001b[49m\u001b[43m,\u001b[49m\u001b[43m \u001b[49m\u001b[43mmapper\u001b[49m\u001b[43m)\u001b[49m\n\u001b[1;32m    882\u001b[0m \u001b[38;5;28;01mreturn\u001b[39;00m new_values\n",
      "File \u001b[0;32m/opt/anaconda3/lib/python3.9/site-packages/pandas/_libs/lib.pyx:2870\u001b[0m, in \u001b[0;36mpandas._libs.lib.map_infer\u001b[0;34m()\u001b[0m\n",
      "Input \u001b[0;32mIn [52]\u001b[0m, in \u001b[0;36m<lambda>\u001b[0;34m(x)\u001b[0m\n\u001b[0;32m----> 1\u001b[0m crashes_df[\u001b[38;5;124m'\u001b[39m\u001b[38;5;124mCRASH_DATE\u001b[39m\u001b[38;5;124m'\u001b[39m]\u001b[38;5;241m.\u001b[39mmap(\u001b[38;5;28;01mlambda\u001b[39;00m x: \u001b[43mdt\u001b[49m\u001b[38;5;241;43m.\u001b[39;49m\u001b[43mdatetime\u001b[49m\u001b[38;5;241;43m.\u001b[39;49m\u001b[43mstrftime\u001b[49m\u001b[43m(\u001b[49m\u001b[43mx\u001b[49m\u001b[43m,\u001b[49m\u001b[43m \u001b[49m\u001b[38;5;124;43m'\u001b[39;49m\u001b[38;5;124;43m%\u001b[39;49m\u001b[38;5;124;43mm/\u001b[39;49m\u001b[38;5;132;43;01m%d\u001b[39;49;00m\u001b[38;5;124;43m/\u001b[39;49m\u001b[38;5;124;43m%\u001b[39;49m\u001b[38;5;124;43mY \u001b[39;49m\u001b[38;5;124;43m%\u001b[39;49m\u001b[38;5;124;43mH:\u001b[39;49m\u001b[38;5;124;43m%\u001b[39;49m\u001b[38;5;124;43mM:\u001b[39;49m\u001b[38;5;124;43m%\u001b[39;49m\u001b[38;5;124;43mS \u001b[39;49m\u001b[38;5;124;43m%\u001b[39;49m\u001b[38;5;124;43mp\u001b[39;49m\u001b[38;5;124;43m'\u001b[39;49m\u001b[43m)\u001b[49m)\n",
      "\u001b[0;31mTypeError\u001b[0m: descriptor 'strftime' for 'datetime.date' objects doesn't apply to a 'str' object"
     ]
    }
   ],
   "source": [
    "crashes_df['CRASH_DATE'].map(lambda x: dt.datetime.strftime(x, '%m/%d/%Y %H:%M:%S %p'))"
   ]
  },
  {
   "cell_type": "code",
   "execution_count": null,
   "id": "c551ba15",
   "metadata": {},
   "outputs": [],
   "source": [
    "crashes_dfdf['CRASH_DATE']"
   ]
  },
  {
   "cell_type": "code",
   "execution_count": 78,
   "id": "33ca054f",
   "metadata": {},
   "outputs": [
    {
     "data": {
      "text/plain": [
       "Y    29573\n",
       "N     2912\n",
       "Name: NOT_RIGHT_OF_WAY_I, dtype: int64"
      ]
     },
     "execution_count": 78,
     "metadata": {},
     "output_type": "execute_result"
    }
   ],
   "source": [
    "#check unique values\n",
    "crashes_df['NOT_RIGHT_OF_WAY_I'].value_counts()"
   ]
  }
 ],
 "metadata": {
  "kernelspec": {
   "display_name": "Python 3 (ipykernel)",
   "language": "python",
   "name": "python3"
  },
  "language_info": {
   "codemirror_mode": {
    "name": "ipython",
    "version": 3
   },
   "file_extension": ".py",
   "mimetype": "text/x-python",
   "name": "python",
   "nbconvert_exporter": "python",
   "pygments_lexer": "ipython3",
   "version": "3.9.12"
  },
  "vscode": {
   "interpreter": {
    "hash": "40d3a090f54c6569ab1632332b64b2c03c39dcf918b08424e98f38b5ae0af88f"
   }
  }
 },
 "nbformat": 4,
 "nbformat_minor": 5
}
